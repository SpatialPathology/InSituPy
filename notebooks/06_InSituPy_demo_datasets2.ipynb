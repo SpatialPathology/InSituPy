{
 "cells": [
  {
   "cell_type": "markdown",
   "metadata": {},
   "source": [
    "# InSituPy demonstration - Datasets"
   ]
  },
  {
   "cell_type": "code",
   "execution_count": 1,
   "metadata": {},
   "outputs": [],
   "source": [
    "## The following code ensures that all functions and init files are reloaded before executions.\n",
    "%load_ext autoreload\n",
    "%autoreload 2"
   ]
  },
  {
   "cell_type": "markdown",
   "metadata": {},
   "source": [
    "InSitupy offers six functions that each download a different dataset into '~/.cache/InSituPy/demo_datasets'. The data is provided by 10x Genomics and is publicly available.\n",
    "Each function returns an `InSituData` object and has an optional argument `overwrite`, which can be set to `True`, whenever a repeated download is desired.\n",
    "1. `human_breast_cancer()`: In situ gene expression dataset by xenium onboard analysis 1.0.1  \n",
    "https://www.10xgenomics.com/products/xenium-in-situ/preview-dataset-human-breast\n",
    "2. `human_brain_cancer()`: In situ gene expression dataset by xenium onboard analysis 2.0.0  \n",
    "https://www.10xgenomics.com/datasets/ffpe-human-brain-cancer-data-with-human-immuno-oncology-profiling-panel-and-custom-add-on-1-standard\n",
    "3. `nondiseased_kidney()`: In situ gene expression dataset by xenium onboard analysis 1.5.0  \n",
    "https://www.10xgenomics.com/resources/datasets/human-kidney-preview-data-xenium-human-multi-tissue-and-cancer-panel-1-standard\n",
    "4. `hskin_melanoma()`: In situ gene expression dataset by xenium onboard analysis 1.7.0   \n",
    " https://www.10xgenomics.com/resources/datasets/human-skin-preview-data-xenium-human-skin-gene-expression-panel-add-on-1-standard\n",
    "5. `pancreatic_cancer()`: In situ gene expression dataset by xenium onboard analysis 1.6.0  \n",
    " https://www.10xgenomics.com/datasets/pancreatic-cancer-with-xenium-human-multi-tissue-and-cancer-panel-1-standard\n",
    "6. `human_lung_cancer()`: In situ gene expression dataset by xenium onboard analysis 2.0.0. (Xenium multimodal cell segmentation)  \n",
    "https://www.10xgenomics.com/datasets/preview-data-ffpe-human-lung-cancer-with-xenium-multimodal-cell-segmentation-1-standard"
   ]
  },
  {
   "cell_type": "code",
   "execution_count": 2,
   "metadata": {},
   "outputs": [],
   "source": [
    "from pathlib import Path\n",
    "from os.path import expanduser\n",
    "\n",
    "import insitupy\n",
    "from insitupy.datasets import hskin_melanoma,human_brain_cancer,human_breast_cancer,nondiseased_kidney,pancreatic_cancer,human_lung_cancer\n",
    "from insitupy import read_xenium"
   ]
  },
  {
   "cell_type": "code",
   "execution_count": 3,
   "metadata": {},
   "outputs": [
    {
     "name": "stderr",
     "output_type": "stream",
     "text": [
      "C:\\Users\\ge37voy\\.cache\\InSituPy\\demo_datasets\\hbreastcancer\\Xenium_FFPE_Human_Breast_Cancer_Rep1_outs.zip: 100%|██████████| 9.18G/9.18G [14:19<00:00, 11.5MiB/s]\n",
      "C:\\Users\\ge37voy\\.cache\\InSituPy\\demo_datasets\\hbreastcancer\\unregistered_images\\slide_id__hbreastcancer__HE__histo.tif: 100%|██████████| 1.58G/1.58G [02:28<00:00, 11.4MiB/s]  \n",
      "C:\\Users\\ge37voy\\.cache\\InSituPy\\demo_datasets\\hbreastcancer\\unregistered_images\\slide_id__hbreastcancer__CD20_HER2_DAPI__IF.tif: 100%|██████████| 398M/398M [00:36<00:00, 11.4MiB/s] "
     ]
    },
    {
     "name": "stdout",
     "output_type": "stream",
     "text": [
      "Corresponding image data can be found in C:\\Users\\ge37voy\\.cache\\InSituPy\\demo_datasets\\hbreastcancer\\unregistered_images.\n",
      "For this dataset following images are available:\n",
      "slide_id__hbreastcancer__HE__histo.ome.tiff\n",
      "slide_id__hbreastcancer__CD20_HER2_DAPI__IF.ome.tiff\n"
     ]
    },
    {
     "name": "stderr",
     "output_type": "stream",
     "text": [
      "\n"
     ]
    }
   ],
   "source": [
    "hbreast = human_breast_cancer()"
   ]
  },
  {
   "cell_type": "code",
   "execution_count": 4,
   "metadata": {},
   "outputs": [
    {
     "data": {
      "text/plain": [
       "\u001b[1m\u001b[31mInSituData\u001b[0m\n",
       "\u001b[1mMethod:\u001b[0m\t\tXenium\n",
       "\u001b[1mSlide ID:\u001b[0m\t0001879\n",
       "\u001b[1mSample ID:\u001b[0m\tReplicate 1\n",
       "\u001b[1mData path:\u001b[0m\tC:\\Users\\ge37voy\\.cache\\InSituPy\\demo_datasets\\hbreastcancer\n",
       "\u001b[1mData folder:\u001b[0m\toutput-XETG00000__slide_id__hbreastcancer\n",
       "\u001b[1mMetadata file:\u001b[0m\texperiment.xenium"
      ]
     },
     "execution_count": 4,
     "metadata": {},
     "output_type": "execute_result"
    }
   ],
   "source": [
    "hbreast"
   ]
  },
  {
   "cell_type": "code",
   "execution_count": 5,
   "metadata": {},
   "outputs": [
    {
     "name": "stdout",
     "output_type": "stream",
     "text": [
      "Loading annotations...\n",
      "No `annotations` modality found.\n",
      "Loading cells...\n",
      "Loading images...\n",
      "Loading regions...\n",
      "No `regions` modality found.\n",
      "Loading transcripts...\n"
     ]
    }
   ],
   "source": [
    "hbreast.load_all()"
   ]
  },
  {
   "cell_type": "code",
   "execution_count": 6,
   "metadata": {},
   "outputs": [
    {
     "name": "stderr",
     "output_type": "stream",
     "text": [
      "WARNING: QWindowsWindow::setGeometry: Unable to set geometry 2172x1310+640+276 (frame: 2194x1366+629+231) on QWidgetWindow/\"_QtMainWindowClassWindow\" on \"\\\\.\\DISPLAY1\". Resulting geometry: 3260x1968+643+290 (frame: 3282x2024+632+245) margins: 11, 45, 11, 11 minimum size: 385x492 MINMAXINFO maxSize=0,0 maxpos=0,0 mintrack=792,1040 maxtrack=0,0)\n"
     ]
    }
   ],
   "source": [
    "hbreast.show()"
   ]
  },
  {
   "cell_type": "code",
   "execution_count": 10,
   "metadata": {},
   "outputs": [
    {
     "name": "stdout",
     "output_type": "stream",
     "text": [
      "This dataset exists already. Download is skipped. To force download set `overwrite=True`.\n",
      "Image exists. Checking md5sum...\n",
      "The md5sum matches. Download is skipped. To force download set `overwrite=True`.\n",
      "Corresponding image data can be found in C:\\Users\\ge37voy\\.cache\\InSituPy\\demo_datasets\\hlungcancer\\unregistered_images.\n",
      "For this dataset following image is available:\n",
      "slide_id__hlungcancer__HE__histo.ome.tiff\n"
     ]
    }
   ],
   "source": [
    "hlung = human_lung_cancer()"
   ]
  },
  {
   "cell_type": "code",
   "execution_count": 11,
   "metadata": {},
   "outputs": [
    {
     "data": {
      "text/plain": [
       "\u001b[1m\u001b[31mInSituData\u001b[0m\n",
       "\u001b[1mMethod:\u001b[0m\t\tXenium\n",
       "\u001b[1mSlide ID:\u001b[0m\t0017509\n",
       "\u001b[1mSample ID:\u001b[0m\tHuman_Lung_Cancer\n",
       "\u001b[1mData path:\u001b[0m\tC:\\Users\\ge37voy\\.cache\\InSituPy\\demo_datasets\\hlungcancer\n",
       "\u001b[1mData folder:\u001b[0m\toutput-XETG00000__slide_id__hlungcancer\n",
       "\u001b[1mMetadata file:\u001b[0m\texperiment.xenium"
      ]
     },
     "execution_count": 11,
     "metadata": {},
     "output_type": "execute_result"
    }
   ],
   "source": [
    "hlung"
   ]
  },
  {
   "cell_type": "code",
   "execution_count": 12,
   "metadata": {},
   "outputs": [
    {
     "name": "stdout",
     "output_type": "stream",
     "text": [
      "Loading annotations...\n",
      "No `annotations` modality found.\n",
      "Loading cells...\n",
      "Loading images...\n"
     ]
    },
    {
     "name": "stderr",
     "output_type": "stream",
     "text": [
      "C:\\Users\\ge37voy\\Github\\InSituPy\\insitupy\\_core\\insitudata.py:660: UserWarning: Nuclei image type 'mip' not found. Used 'focus' instead. This is the normal behavior for data analyzed with Xenium Ranger >=v2.0\n",
      "  func()\n",
      "<tifffile.TiffFile 'morphology_focus_0000.ome.tif'> OME series cannot read multi-file pyramids\n",
      "<tifffile.TiffFile 'morphology_focus_0001.ome.tif'> OME series cannot read multi-file pyramids\n",
      "<tifffile.TiffFile 'morphology_focus_0002.ome.tif'> OME series cannot read multi-file pyramids\n",
      "<tifffile.TiffFile 'morphology_focus_0003.ome.tif'> OME series cannot read multi-file pyramids\n"
     ]
    },
    {
     "name": "stdout",
     "output_type": "stream",
     "text": [
      "Loading regions...\n",
      "No `regions` modality found.\n",
      "Loading transcripts...\n"
     ]
    }
   ],
   "source": [
    "hlung.load_all()"
   ]
  },
  {
   "cell_type": "code",
   "execution_count": 13,
   "metadata": {},
   "outputs": [],
   "source": [
    "hlung.show()"
   ]
  },
  {
   "cell_type": "markdown",
   "metadata": {},
   "source": [
    "The data structure after running the above code should look like this:\n",
    "\n",
    "    ```\n",
    "    ./InSituPy/demo_datasets\n",
    "    ├───hbreastcancer\n",
    "    │    ├───output-XETG00000__slide_id__hbraincancer\n",
    "    │    ├───unregistered_images\n",
    "    ├───hbraincancer\n",
    "    │    ├───output-XETG00000__slide_id__hbraincancer  \n",
    "    │    ├───unregistered_images\n",
    "    \n",
    "    ```\n"
   ]
  },
  {
   "cell_type": "markdown",
   "metadata": {},
   "source": [
    "To explore the datasets continue with registering the images as demonstrated in [02_InSituPy_demo_register_images.ipynb](./02_InSituPy_demo_register_images.ipynb) as well as preprocessing and visualizing the data as in [03_InSituPy_demo_analyze.ipynb](./03_InSituPy_demo_analyze.ipynb). "
   ]
  }
 ],
 "metadata": {
  "kernelspec": {
   "display_name": "insitupy",
   "language": "python",
   "name": "python3"
  },
  "language_info": {
   "codemirror_mode": {
    "name": "ipython",
    "version": 3
   },
   "file_extension": ".py",
   "mimetype": "text/x-python",
   "name": "python",
   "nbconvert_exporter": "python",
   "pygments_lexer": "ipython3",
   "version": "3.9.18"
  }
 },
 "nbformat": 4,
 "nbformat_minor": 2
}
