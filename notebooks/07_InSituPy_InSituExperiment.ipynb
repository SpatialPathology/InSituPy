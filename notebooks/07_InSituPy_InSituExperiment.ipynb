{
 "cells": [
  {
   "cell_type": "markdown",
   "metadata": {},
   "source": [
    "# InSituPy demonstration - InSituExperiment\n",
    "## Background\n",
    "\n",
    "<div style=\"display: flex; align-items: center;\">\n",
    "    <img src=\"./demo_screenshots/experiment_levels.png\" height=300 alt=\"Description\" style=\"margin-right: 10px;\">\n",
    "    <p>In addition to the sample, cellular, and subcellular levels, a spatial transcriptomics dataset typically includes an experiment level that contains information about clinical and experimental cohorts, conditions, or treatments. Most current computational frameworks lack functionalities to incorporate this level into the analysis. To address this, `InSituPy` introduces the `InSituExperiment` class, which manages spatial transcriptomics data and the corresponding metadata of multiple samples simultaneously.</p>\n",
    "</div>\n",
    "\n",
    "## Structure\n",
    "\n",
    "<img src=\"./demo_screenshots/insituexperiment_structure.png\" height=200 alt=\"Description\" style=\"margin-right: 10px;\">"
   ]
  },
  {
   "cell_type": "code",
   "execution_count": 1,
   "metadata": {},
   "outputs": [],
   "source": [
    "## The following code ensures that all functions and init files are reloaded before executions.\n",
    "%load_ext autoreload\n",
    "%autoreload 2"
   ]
  },
  {
   "cell_type": "code",
   "execution_count": 2,
   "metadata": {},
   "outputs": [],
   "source": [
    "from pathlib import Path\n",
    "from insitupy import InSituData, InSituExperiment, CACHE"
   ]
  },
  {
   "cell_type": "code",
   "execution_count": 3,
   "metadata": {},
   "outputs": [],
   "source": [
    "import warnings\n",
    "warnings.simplefilter(action='ignore', category=FutureWarning)"
   ]
  },
  {
   "cell_type": "markdown",
   "metadata": {},
   "source": [
    "### Load Xenium data into `InSituData` object\n",
    "\n",
    "Now the Xenium data can be parsed by providing the data path to the `InSituPy` project folder."
   ]
  },
  {
   "cell_type": "code",
   "execution_count": 4,
   "metadata": {},
   "outputs": [
    {
     "data": {
      "text/plain": [
       "\u001b[1m\u001b[31mInSituData\u001b[0m\n",
       "\u001b[1mMethod:\u001b[0m\t\tXenium\n",
       "\u001b[1mSlide ID:\u001b[0m\t0001879\n",
       "\u001b[1mSample ID:\u001b[0m\tReplicate 1\n",
       "\u001b[1mPath:\u001b[0m\t\tC:\\Users\\ge37voy\\.cache\\InSituPy\\out\\demo_insitupy_project\n",
       "\u001b[1mMetadata file:\u001b[0m\t.ispy\n",
       "    ➤ \u001b[34m\u001b[1mimages\u001b[0m\n",
       "       \u001b[1mnuclei:\u001b[0m\t(25778, 35416)\n",
       "       \u001b[1mCD20:\u001b[0m\t(25778, 35416)\n",
       "       \u001b[1mHER2:\u001b[0m\t(25778, 35416)\n",
       "       \u001b[1mDAPI:\u001b[0m\t(25778, 35416)\n",
       "       \u001b[1mHE:\u001b[0m\t(25778, 35416, 3)\n",
       "    ➤\u001b[32m\u001b[1m cells\u001b[0m\n",
       "       \u001b[1mmatrix\u001b[0m\n",
       "           AnnData object with n_obs × n_vars = 163565 × 313\n",
       "           obs: 'transcript_counts', 'control_probe_counts', 'control_codeword_counts', 'total_counts', 'cell_area', 'nucleus_area', 'n_genes', 'leiden', 'cell_type_dc', 'cell_type_tacco'\n",
       "           var: 'gene_ids', 'feature_types', 'genome'\n",
       "           uns: 'cell_type_dc_colors', 'cell_type_tacco_colors', 'counts_location', 'leiden', 'leiden_colors', 'log1p', 'neighbors', 'pca', 'umap'\n",
       "           obsm: 'OT', 'X_pca', 'X_umap', 'annotations', 'ora_estimate', 'ora_pvals', 'regions', 'spatial'\n",
       "           varm: 'OT', 'PCs'\n",
       "           layers: 'counts', 'norm_counts'\n",
       "           obsp: 'connectivities', 'distances'\n",
       "       \u001b[1mboundaries\u001b[0m\n",
       "           BoundariesData object with 2 entries:\n",
       "               \u001b[1mcells\u001b[0m\n",
       "               \u001b[1mnuclei\u001b[0m\n",
       "    ➤ \u001b[36m\u001b[1mannotations\u001b[0m\n",
       "       \u001b[1mTestKey:\u001b[0m\t8 annotations, 2 classes ('TestClass','points') ✔\n",
       "       \u001b[1mdemo:\u001b[0m\t4 annotations, 2 classes ('Positive','Negative') ✔\n",
       "       \u001b[1mdemo2:\u001b[0m\t5 annotations, 3 classes ('Negative','Positive','Other') ✔\n",
       "       \u001b[1mdemo3:\u001b[0m\t7 annotations, 5 classes ('Stroma','Necrosis','Immune cells','unclassified','Tumor') ✔\n",
       "       \u001b[1mDemo:\u001b[0m\t28 annotations, 2 classes ('Tumor cells','Stroma') ✔\n",
       "    ➤ \u001b[36m\u001b[1mregions\u001b[0m\n",
       "       \u001b[1mtest:\u001b[0m\t7 regions, 5 classes ('Stroma','Necrosis','Immune cells','unclassified','Tumor') ✔\n",
       "       \u001b[1mdemo_regions:\u001b[0m\t3 regions, 3 classes ('Region1','Region2','Region3') ✔\n",
       "       \u001b[1mTMA:\u001b[0m\t6 regions, 6 classes ('B-2','A-3','B-1','B-3','A-1','A-2') ✔\n",
       "       \u001b[1mDemo:\u001b[0m\t3 regions, 3 classes ('Region 1','Region 3','Region 2') ✔"
      ]
     },
     "execution_count": 4,
     "metadata": {},
     "output_type": "execute_result"
    }
   ],
   "source": [
    "insitupy_project = Path(CACHE / \"out/demo_insitupy_project\")\n",
    "xd = InSituData.read(insitupy_project)\n",
    "xd.load_all(skip=\"transcripts\")\n",
    "xd"
   ]
  },
  {
   "cell_type": "markdown",
   "metadata": {},
   "source": [
    "### Create `InSituExperiment`\n",
    "\n",
    "<left><img src=\"./demo_screenshots/insituexperiment_generation.png\" height=\"250\"/></left>\n",
    "\n",
    "*Options to generate an InSituExperiment object*\n",
    "\n",
    "#### Method 1: Manually add `InSituData` objects"
   ]
  },
  {
   "cell_type": "code",
   "execution_count": 5,
   "metadata": {},
   "outputs": [],
   "source": [
    "exp = InSituExperiment()\n",
    "exp.add(\n",
    "    data=xd,\n",
    "    metadata={\n",
    "        \"slide_id\": xd.slide_id,\n",
    "        \"sample_id\": xd.sample_id,\n",
    "        \"patient\": \"A\"\n",
    "    }\n",
    "    )"
   ]
  },
  {
   "cell_type": "code",
   "execution_count": 6,
   "metadata": {},
   "outputs": [
    {
     "data": {
      "text/plain": [
       "\u001b[1mInSituExperiment\u001b[0m with 1 samples:\n",
       "           uid slide_id    sample_id patient\n",
       "0     50405bef  0001879  Replicate 1       A"
      ]
     },
     "execution_count": 6,
     "metadata": {},
     "output_type": "execute_result"
    }
   ],
   "source": [
    "exp"
   ]
  },
  {
   "cell_type": "markdown",
   "metadata": {},
   "source": [
    "In the same way also other datasets can be added. For demonstration purposes, we just add the same dataset again and change the metadata."
   ]
  },
  {
   "cell_type": "code",
   "execution_count": 7,
   "metadata": {},
   "outputs": [],
   "source": [
    "exp.add(\n",
    "    data=xd,\n",
    "    metadata={\n",
    "        \"slide_id\": xd.slide_id,\n",
    "        \"sample_id\": xd.sample_id,\n",
    "        \"patient\": \"A\",\n",
    "        \"therapy\": \"drugB\"\n",
    "    }\n",
    "    )"
   ]
  },
  {
   "cell_type": "code",
   "execution_count": 8,
   "metadata": {},
   "outputs": [
    {
     "data": {
      "text/plain": [
       "\u001b[1mInSituExperiment\u001b[0m with 2 samples:\n",
       "           uid slide_id    sample_id patient therapy\n",
       "0     50405bef  0001879  Replicate 1       A     NaN\n",
       "1     34b6894b  0001879  Replicate 1       A   drugB"
      ]
     },
     "execution_count": 8,
     "metadata": {},
     "output_type": "execute_result"
    }
   ],
   "source": [
    "exp"
   ]
  },
  {
   "cell_type": "markdown",
   "metadata": {},
   "source": [
    "#### Method 2: From config file\n",
    "\n",
    "As config file either a csv file or an excel file can be used.\n",
    "\n",
    "Example of a valid configuration file:\n",
    "\n",
    "| directory         | experiment_name | date       | patient    |\n",
    "|-------------------|-----------------|------------|------------|\n",
    "| /path/to/dataset1 | Experiment 1    | 2023-09-01 | Patient A  |\n",
    "| /path/to/dataset2 | Experiment 2    | 2023-09-02 | Patient B  |"
   ]
  },
  {
   "cell_type": "code",
   "execution_count": 9,
   "metadata": {},
   "outputs": [],
   "source": [
    "exp = InSituExperiment.from_config(config_path=\"./demo_experiment/insituexperiment_config.csv\")"
   ]
  },
  {
   "cell_type": "code",
   "execution_count": 10,
   "metadata": {},
   "outputs": [
    {
     "data": {
      "text/plain": [
       "\u001b[1mInSituExperiment\u001b[0m with 2 samples:\n",
       "           uid slide_id sample_id patient therapy\n",
       "0     0153d8e2     None      None       A   drugA\n",
       "1     73c989d3     None      None       B   drugB"
      ]
     },
     "execution_count": 10,
     "metadata": {},
     "output_type": "execute_result"
    }
   ],
   "source": [
    "exp"
   ]
  },
  {
   "cell_type": "markdown",
   "metadata": {},
   "source": [
    "#### Method 3: From regions\n",
    "\n",
    "We can also use regions from an `InSituData` object to split the data into separate datasets and create an `InSituExperiment` from them. This can be used to select the most interesting regions and focus on them for the analysis or to split a TMA dataset into separate datasets for each core."
   ]
  },
  {
   "cell_type": "code",
   "execution_count": 14,
   "metadata": {},
   "outputs": [],
   "source": [
    "exp = InSituExperiment.from_regions(\n",
    "    data=xd, region_key=\"TMA\"\n",
    ")"
   ]
  },
  {
   "cell_type": "code",
   "execution_count": 15,
   "metadata": {},
   "outputs": [
    {
     "data": {
      "text/plain": [
       "\u001b[1mInSituExperiment\u001b[0m with 6 samples:\n",
       "           uid slide_id    sample_id region_key region_name\n",
       "0     f6e9d090  0001879  Replicate 1        TMA         A-1\n",
       "1     1df58158  0001879  Replicate 1        TMA         A-2\n",
       "2     de91f1b5  0001879  Replicate 1        TMA         A-3\n",
       "3     22d75218  0001879  Replicate 1        TMA         B-1\n",
       "4     0d1e1d7e  0001879  Replicate 1        TMA         B-2\n",
       "5     b1e9ed43  0001879  Replicate 1        TMA         B-3"
      ]
     },
     "execution_count": 15,
     "metadata": {},
     "output_type": "execute_result"
    }
   ],
   "source": [
    "exp"
   ]
  },
  {
   "cell_type": "code",
   "execution_count": null,
   "metadata": {},
   "outputs": [
    {
     "name": "stderr",
     "output_type": "stream",
     "text": [
      "WARNING: QWindowsWindow::setGeometry: Unable to set geometry 2172x1310+640+276 (frame: 2194x1366+629+231) on QWidgetWindow/\"_QtMainWindowClassWindow\" on \"\\\\.\\DISPLAY1\". Resulting geometry: 3260x1968+643+290 (frame: 3282x2024+632+245) margins: 11, 45, 11, 11 minimum size: 385x492 MINMAXINFO maxSize=0,0 maxpos=0,0 mintrack=792,1040 maxtrack=0,0)\n"
     ]
    }
   ],
   "source": [
    "# visualize data\n",
    "viewer = exp.show(0)"
   ]
  },
  {
   "cell_type": "markdown",
   "metadata": {},
   "source": [
    "Example screenshot of data from one of the cropped cores:\n",
    "\n",
    "\n",
    "<left><img src=\"./demo_screenshots/TMA_example.png\" height=\"400\"/></left>"
   ]
  },
  {
   "cell_type": "markdown",
   "metadata": {},
   "source": [
    "## Plot overview of metadata and QC metrics"
   ]
  },
  {
   "cell_type": "code",
   "execution_count": 17,
   "metadata": {},
   "outputs": [
    {
     "data": {
      "image/png": "[encoded data removed]",
      "text/plain": [
       "<Figure size 940x520 with 13 Axes>"
      ]
     },
     "metadata": {},
     "output_type": "display_data"
    }
   ],
   "source": [
    "exp.plot_overview()"
   ]
  },
  {
   "cell_type": "code",
   "execution_count": 18,
   "metadata": {},
   "outputs": [
    {
     "data": {
      "image/png": "[encoded data removed]",
      "text/plain": [
       "<Figure size 1900x520 with 13 Axes>"
      ]
     },
     "metadata": {},
     "output_type": "display_data"
    }
   ],
   "source": [
    "exp.plot_overview([\"uid\", \"slide_id\", \"sample_id\", \"region_name\", \"region_key\"], index=True)"
   ]
  },
  {
   "cell_type": "markdown",
   "metadata": {},
   "source": [
    "## Iterate through `InSituExperiment` using `.iterdata()` method"
   ]
  },
  {
   "cell_type": "code",
   "execution_count": 19,
   "metadata": {},
   "outputs": [
    {
     "name": "stdout",
     "output_type": "stream",
     "text": [
      "Metadata:\n",
      "uid             f6e9d090\n",
      "slide_id         0001879\n",
      "sample_id    Replicate 1\n",
      "Name: 0, dtype: object\n",
      "Data:\n",
      "\u001b[1m\u001b[31mInSituData\u001b[0m\n",
      "\u001b[1mMethod:\u001b[0m\t\tXenium\n",
      "\u001b[1mSlide ID:\u001b[0m\t0001879\n",
      "\u001b[1mSample ID:\u001b[0m\tReplicate 1\n",
      "\u001b[1mPath:\u001b[0m\t\tC:\\Users\\ge37voy\\.cache\\InSituPy\\out\\demo_insitupy_project\n",
      "\u001b[1mMetadata file:\u001b[0m\t.ispy\n",
      "    ➤ \u001b[34m\u001b[1mimages\u001b[0m\n",
      "       \u001b[1mnuclei:\u001b[0m\t(4706, 4706)\n",
      "       \u001b[1mCD20:\u001b[0m\t(4706, 4706)\n",
      "       \u001b[1mHER2:\u001b[0m\t(4706, 4706)\n",
      "       \u001b[1mDAPI:\u001b[0m\t(4706, 4706)\n",
      "       \u001b[1mHE:\u001b[0m\t(4706, 4706, 3)\n",
      "    ➤\u001b[32m\u001b[1m cells\u001b[0m\n",
      "       \u001b[1mmatrix\u001b[0m\n",
      "           AnnData object with n_obs × n_vars = 5403 × 313\n",
      "           obs: 'transcript_counts', 'control_probe_counts', 'control_codeword_counts', 'total_counts', 'cell_area', 'nucleus_area', 'n_genes', 'leiden', 'cell_type_dc', 'cell_type_tacco'\n",
      "           var: 'gene_ids', 'feature_types', 'genome'\n",
      "           uns: 'cell_type_dc_colors', 'cell_type_tacco_colors', 'counts_location', 'leiden', 'leiden_colors', 'log1p', 'neighbors', 'pca', 'umap'\n",
      "           obsm: 'OT', 'X_pca', 'X_umap', 'annotations', 'ora_estimate', 'ora_pvals', 'regions', 'spatial'\n",
      "           varm: 'OT', 'PCs'\n",
      "           layers: 'counts', 'norm_counts'\n",
      "           obsp: 'connectivities', 'distances'\n",
      "       \u001b[1mboundaries\u001b[0m\n",
      "           BoundariesData object with 2 entries:\n",
      "               \u001b[1mcells\u001b[0m\n",
      "               \u001b[1mnuclei\u001b[0m\n",
      "    ➤ \u001b[36m\u001b[1mannotations\u001b[0m\n",
      "       \u001b[1mdemo:\u001b[0m\t4 annotations, 2 classes ('Stroma','Tumor cells') \n",
      "       \u001b[1mDemo:\u001b[0m\t4 annotations, 2 classes ('Stroma','Tumor cells') \n",
      "    ➤ \u001b[36m\u001b[1mregions\u001b[0m\n",
      "       \u001b[1mTMA:\u001b[0m\t1 regions, 1 class ('A-1') \n",
      "       \u001b[1mDemo:\u001b[0m\t1 regions, 1 class ('Region 1') \n",
      "Metadata:\n",
      "uid             1df58158\n",
      "slide_id         0001879\n",
      "sample_id    Replicate 1\n",
      "Name: 1, dtype: object\n",
      "Data:\n",
      "\u001b[1m\u001b[31mInSituData\u001b[0m\n",
      "\u001b[1mMethod:\u001b[0m\t\tXenium\n",
      "\u001b[1mSlide ID:\u001b[0m\t0001879\n",
      "\u001b[1mSample ID:\u001b[0m\tReplicate 1\n",
      "\u001b[1mPath:\u001b[0m\t\tC:\\Users\\ge37voy\\.cache\\InSituPy\\out\\demo_insitupy_project\n",
      "\u001b[1mMetadata file:\u001b[0m\t.ispy\n",
      "    ➤ \u001b[34m\u001b[1mimages\u001b[0m\n",
      "       \u001b[1mnuclei:\u001b[0m\t(4706, 4705)\n",
      "       \u001b[1mCD20:\u001b[0m\t(4706, 4705)\n",
      "       \u001b[1mHER2:\u001b[0m\t(4706, 4705)\n",
      "       \u001b[1mDAPI:\u001b[0m\t(4706, 4705)\n",
      "       \u001b[1mHE:\u001b[0m\t(4706, 4705, 3)\n",
      "    ➤\u001b[32m\u001b[1m cells\u001b[0m\n",
      "       \u001b[1mmatrix\u001b[0m\n",
      "           AnnData object with n_obs × n_vars = 1814 × 313\n",
      "           obs: 'transcript_counts', 'control_probe_counts', 'control_codeword_counts', 'total_counts', 'cell_area', 'nucleus_area', 'n_genes', 'leiden', 'cell_type_dc', 'cell_type_tacco'\n",
      "           var: 'gene_ids', 'feature_types', 'genome'\n",
      "           uns: 'cell_type_dc_colors', 'cell_type_tacco_colors', 'counts_location', 'leiden', 'leiden_colors', 'log1p', 'neighbors', 'pca', 'umap'\n",
      "           obsm: 'OT', 'X_pca', 'X_umap', 'annotations', 'ora_estimate', 'ora_pvals', 'regions', 'spatial'\n",
      "           varm: 'OT', 'PCs'\n",
      "           layers: 'counts', 'norm_counts'\n",
      "           obsp: 'connectivities', 'distances'\n",
      "       \u001b[1mboundaries\u001b[0m\n",
      "           BoundariesData object with 2 entries:\n",
      "               \u001b[1mcells\u001b[0m\n",
      "               \u001b[1mnuclei\u001b[0m\n",
      "    ➤ \u001b[36m\u001b[1mannotations\u001b[0m\n",
      "       \n",
      "    ➤ \u001b[36m\u001b[1mregions\u001b[0m\n",
      "       \u001b[1mTMA:\u001b[0m\t1 regions, 1 class ('A-2') \n",
      "Metadata:\n",
      "uid             de91f1b5\n",
      "slide_id         0001879\n",
      "sample_id    Replicate 1\n",
      "Name: 2, dtype: object\n",
      "Data:\n",
      "\u001b[1m\u001b[31mInSituData\u001b[0m\n",
      "\u001b[1mMethod:\u001b[0m\t\tXenium\n",
      "\u001b[1mSlide ID:\u001b[0m\t0001879\n",
      "\u001b[1mSample ID:\u001b[0m\tReplicate 1\n",
      "\u001b[1mPath:\u001b[0m\t\tC:\\Users\\ge37voy\\.cache\\InSituPy\\out\\demo_insitupy_project\n",
      "\u001b[1mMetadata file:\u001b[0m\t.ispy\n",
      "    ➤ \u001b[34m\u001b[1mimages\u001b[0m\n",
      "       \u001b[1mnuclei:\u001b[0m\t(4706, 4705)\n",
      "       \u001b[1mCD20:\u001b[0m\t(4706, 4705)\n",
      "       \u001b[1mHER2:\u001b[0m\t(4706, 4705)\n",
      "       \u001b[1mDAPI:\u001b[0m\t(4706, 4705)\n",
      "       \u001b[1mHE:\u001b[0m\t(4706, 4705, 3)\n",
      "    ➤\u001b[32m\u001b[1m cells\u001b[0m\n",
      "       \u001b[1mmatrix\u001b[0m\n",
      "           AnnData object with n_obs × n_vars = 1835 × 313\n",
      "           obs: 'transcript_counts', 'control_probe_counts', 'control_codeword_counts', 'total_counts', 'cell_area', 'nucleus_area', 'n_genes', 'leiden', 'cell_type_dc', 'cell_type_tacco'\n",
      "           var: 'gene_ids', 'feature_types', 'genome'\n",
      "           uns: 'cell_type_dc_colors', 'cell_type_tacco_colors', 'counts_location', 'leiden', 'leiden_colors', 'log1p', 'neighbors', 'pca', 'umap'\n",
      "           obsm: 'OT', 'X_pca', 'X_umap', 'annotations', 'ora_estimate', 'ora_pvals', 'regions', 'spatial'\n",
      "           varm: 'OT', 'PCs'\n",
      "           layers: 'counts', 'norm_counts'\n",
      "           obsp: 'connectivities', 'distances'\n",
      "       \u001b[1mboundaries\u001b[0m\n",
      "           BoundariesData object with 2 entries:\n",
      "               \u001b[1mcells\u001b[0m\n",
      "               \u001b[1mnuclei\u001b[0m\n",
      "    ➤ \u001b[36m\u001b[1mannotations\u001b[0m\n",
      "       \n",
      "    ➤ \u001b[36m\u001b[1mregions\u001b[0m\n",
      "       \u001b[1mTMA:\u001b[0m\t1 regions, 1 class ('A-3') \n",
      "Metadata:\n",
      "uid             22d75218\n",
      "slide_id         0001879\n",
      "sample_id    Replicate 1\n",
      "Name: 3, dtype: object\n",
      "Data:\n",
      "\u001b[1m\u001b[31mInSituData\u001b[0m\n",
      "\u001b[1mMethod:\u001b[0m\t\tXenium\n",
      "\u001b[1mSlide ID:\u001b[0m\t0001879\n",
      "\u001b[1mSample ID:\u001b[0m\tReplicate 1\n",
      "\u001b[1mPath:\u001b[0m\t\tC:\\Users\\ge37voy\\.cache\\InSituPy\\out\\demo_insitupy_project\n",
      "\u001b[1mMetadata file:\u001b[0m\t.ispy\n",
      "    ➤ \u001b[34m\u001b[1mimages\u001b[0m\n",
      "       \u001b[1mnuclei:\u001b[0m\t(4706, 4706)\n",
      "       \u001b[1mCD20:\u001b[0m\t(4706, 4706)\n",
      "       \u001b[1mHER2:\u001b[0m\t(4706, 4706)\n",
      "       \u001b[1mDAPI:\u001b[0m\t(4706, 4706)\n",
      "       \u001b[1mHE:\u001b[0m\t(4706, 4706, 3)\n",
      "    ➤\u001b[32m\u001b[1m cells\u001b[0m\n",
      "       \u001b[1mmatrix\u001b[0m\n",
      "           AnnData object with n_obs × n_vars = 3642 × 313\n",
      "           obs: 'transcript_counts', 'control_probe_counts', 'control_codeword_counts', 'total_counts', 'cell_area', 'nucleus_area', 'n_genes', 'leiden', 'cell_type_dc', 'cell_type_tacco'\n",
      "           var: 'gene_ids', 'feature_types', 'genome'\n",
      "           uns: 'cell_type_dc_colors', 'cell_type_tacco_colors', 'counts_location', 'leiden', 'leiden_colors', 'log1p', 'neighbors', 'pca', 'umap'\n",
      "           obsm: 'OT', 'X_pca', 'X_umap', 'annotations', 'ora_estimate', 'ora_pvals', 'regions', 'spatial'\n",
      "           varm: 'OT', 'PCs'\n",
      "           layers: 'counts', 'norm_counts'\n",
      "           obsp: 'connectivities', 'distances'\n",
      "       \u001b[1mboundaries\u001b[0m\n",
      "           BoundariesData object with 2 entries:\n",
      "               \u001b[1mcells\u001b[0m\n",
      "               \u001b[1mnuclei\u001b[0m\n",
      "    ➤ \u001b[36m\u001b[1mannotations\u001b[0m\n",
      "       \u001b[1mdemo2:\u001b[0m\t1 annotations, 1 class ('Other') \n",
      "    ➤ \u001b[36m\u001b[1mregions\u001b[0m\n",
      "       \u001b[1mTMA:\u001b[0m\t1 regions, 1 class ('B-1') \n",
      "Metadata:\n",
      "uid             0d1e1d7e\n",
      "slide_id         0001879\n",
      "sample_id    Replicate 1\n",
      "Name: 4, dtype: object\n",
      "Data:\n",
      "\u001b[1m\u001b[31mInSituData\u001b[0m\n",
      "\u001b[1mMethod:\u001b[0m\t\tXenium\n",
      "\u001b[1mSlide ID:\u001b[0m\t0001879\n",
      "\u001b[1mSample ID:\u001b[0m\tReplicate 1\n",
      "\u001b[1mPath:\u001b[0m\t\tC:\\Users\\ge37voy\\.cache\\InSituPy\\out\\demo_insitupy_project\n",
      "\u001b[1mMetadata file:\u001b[0m\t.ispy\n",
      "    ➤ \u001b[34m\u001b[1mimages\u001b[0m\n",
      "       \u001b[1mnuclei:\u001b[0m\t(4706, 4706)\n",
      "       \u001b[1mCD20:\u001b[0m\t(4706, 4706)\n",
      "       \u001b[1mHER2:\u001b[0m\t(4706, 4706)\n",
      "       \u001b[1mDAPI:\u001b[0m\t(4706, 4706)\n",
      "       \u001b[1mHE:\u001b[0m\t(4706, 4706, 3)\n",
      "    ➤\u001b[32m\u001b[1m cells\u001b[0m\n",
      "       \u001b[1mmatrix\u001b[0m\n",
      "           AnnData object with n_obs × n_vars = 2354 × 313\n",
      "           obs: 'transcript_counts', 'control_probe_counts', 'control_codeword_counts', 'total_counts', 'cell_area', 'nucleus_area', 'n_genes', 'leiden', 'cell_type_dc', 'cell_type_tacco'\n",
      "           var: 'gene_ids', 'feature_types', 'genome'\n",
      "           uns: 'cell_type_dc_colors', 'cell_type_tacco_colors', 'counts_location', 'leiden', 'leiden_colors', 'log1p', 'neighbors', 'pca', 'umap'\n",
      "           obsm: 'OT', 'X_pca', 'X_umap', 'annotations', 'ora_estimate', 'ora_pvals', 'regions', 'spatial'\n",
      "           varm: 'OT', 'PCs'\n",
      "           layers: 'counts', 'norm_counts'\n",
      "           obsp: 'connectivities', 'distances'\n",
      "       \u001b[1mboundaries\u001b[0m\n",
      "           BoundariesData object with 2 entries:\n",
      "               \u001b[1mcells\u001b[0m\n",
      "               \u001b[1mnuclei\u001b[0m\n",
      "    ➤ \u001b[36m\u001b[1mannotations\u001b[0m\n",
      "       \u001b[1mTestKey:\u001b[0m\t1 annotations, 1 class ('TestClass') \n",
      "       \u001b[1mdemo:\u001b[0m\t1 annotations, 1 class ('Stroma') \n",
      "       \u001b[1mdemo2:\u001b[0m\t1 annotations, 1 class ('Other') \n",
      "       \u001b[1mDemo:\u001b[0m\t1 annotations, 1 class ('Stroma') \n",
      "    ➤ \u001b[36m\u001b[1mregions\u001b[0m\n",
      "       \u001b[1mdemo_regions:\u001b[0m\t1 regions, 1 class ('Region3') \n",
      "       \u001b[1mTMA:\u001b[0m\t1 regions, 1 class ('B-2') \n",
      "       \u001b[1mDemo:\u001b[0m\t1 regions, 1 class ('Region 2') \n",
      "Metadata:\n",
      "uid             b1e9ed43\n",
      "slide_id         0001879\n",
      "sample_id    Replicate 1\n",
      "Name: 5, dtype: object\n",
      "Data:\n",
      "\u001b[1m\u001b[31mInSituData\u001b[0m\n",
      "\u001b[1mMethod:\u001b[0m\t\tXenium\n",
      "\u001b[1mSlide ID:\u001b[0m\t0001879\n",
      "\u001b[1mSample ID:\u001b[0m\tReplicate 1\n",
      "\u001b[1mPath:\u001b[0m\t\tC:\\Users\\ge37voy\\.cache\\InSituPy\\out\\demo_insitupy_project\n",
      "\u001b[1mMetadata file:\u001b[0m\t.ispy\n",
      "    ➤ \u001b[34m\u001b[1mimages\u001b[0m\n",
      "       \u001b[1mnuclei:\u001b[0m\t(4706, 4706)\n",
      "       \u001b[1mCD20:\u001b[0m\t(4706, 4706)\n",
      "       \u001b[1mHER2:\u001b[0m\t(4706, 4706)\n",
      "       \u001b[1mDAPI:\u001b[0m\t(4706, 4706)\n",
      "       \u001b[1mHE:\u001b[0m\t(4706, 4706, 3)\n",
      "    ➤\u001b[32m\u001b[1m cells\u001b[0m\n",
      "       \u001b[1mmatrix\u001b[0m\n",
      "           AnnData object with n_obs × n_vars = 3445 × 313\n",
      "           obs: 'transcript_counts', 'control_probe_counts', 'control_codeword_counts', 'total_counts', 'cell_area', 'nucleus_area', 'n_genes', 'leiden', 'cell_type_dc', 'cell_type_tacco'\n",
      "           var: 'gene_ids', 'feature_types', 'genome'\n",
      "           uns: 'cell_type_dc_colors', 'cell_type_tacco_colors', 'counts_location', 'leiden', 'leiden_colors', 'log1p', 'neighbors', 'pca', 'umap'\n",
      "           obsm: 'OT', 'X_pca', 'X_umap', 'annotations', 'ora_estimate', 'ora_pvals', 'regions', 'spatial'\n",
      "           varm: 'OT', 'PCs'\n",
      "           layers: 'counts', 'norm_counts'\n",
      "           obsp: 'connectivities', 'distances'\n",
      "       \u001b[1mboundaries\u001b[0m\n",
      "           BoundariesData object with 2 entries:\n",
      "               \u001b[1mcells\u001b[0m\n",
      "               \u001b[1mnuclei\u001b[0m\n",
      "    ➤ \u001b[36m\u001b[1mannotations\u001b[0m\n",
      "       \u001b[1mdemo:\u001b[0m\t3 annotations, 2 classes ('Stroma','Tumor cells') \n",
      "       \u001b[1mdemo2:\u001b[0m\t1 annotations, 1 class ('Negative') \n",
      "       \u001b[1mDemo:\u001b[0m\t3 annotations, 2 classes ('Stroma','Tumor cells') \n",
      "    ➤ \u001b[36m\u001b[1mregions\u001b[0m\n",
      "       \u001b[1mTMA:\u001b[0m\t1 regions, 1 class ('B-3') \n",
      "       \u001b[1mDemo:\u001b[0m\t1 regions, 1 class ('Region 3') \n"
     ]
    }
   ],
   "source": [
    "for metadata, data in exp.iterdata():\n",
    "    print(f\"Metadata:\\n{metadata[:3]}\\nData:\\n{data}\")"
   ]
  },
  {
   "cell_type": "markdown",
   "metadata": {},
   "source": [
    "## Add new metadata\n",
    "\n",
    "In the following section different scenarios for adding new metadata are shown."
   ]
  },
  {
   "cell_type": "code",
   "execution_count": 20,
   "metadata": {},
   "outputs": [],
   "source": [
    "exp1 = InSituExperiment.from_regions(\n",
    "    data=xd, region_key=\"demo_regions\"\n",
    ")"
   ]
  },
  {
   "cell_type": "code",
   "execution_count": 21,
   "metadata": {},
   "outputs": [
    {
     "data": {
      "text/plain": [
       "\u001b[1mInSituExperiment\u001b[0m with 3 samples:\n",
       "           uid slide_id    sample_id    region_key region_name\n",
       "0     784db78b  0001879  Replicate 1  demo_regions     Region1\n",
       "1     a54ca59e  0001879  Replicate 1  demo_regions     Region2\n",
       "2     1b2f4e55  0001879  Replicate 1  demo_regions     Region3"
      ]
     },
     "execution_count": 21,
     "metadata": {},
     "output_type": "execute_result"
    }
   ],
   "source": [
    "exp1"
   ]
  },
  {
   "cell_type": "code",
   "execution_count": 23,
   "metadata": {},
   "outputs": [],
   "source": [
    "exp2 = exp1.copy()\n",
    "exp2.append_metadata(\n",
    "    new_metadata=\"./demo_experiment/insituexperiment_new_metadata.csv\",\n",
    "    by=\"region_name\", overwrite=True\n",
    ")"
   ]
  },
  {
   "cell_type": "code",
   "execution_count": 24,
   "metadata": {},
   "outputs": [
    {
     "data": {
      "text/plain": [
       "\u001b[1mInSituExperiment\u001b[0m with 3 samples:\n",
       "           uid slide_id    sample_id region_name therapy   organ      test region_key\n",
       "0     784db78b  0001879  Replicate 1     Region1   drugC   liver  negative       key1\n",
       "1     a54ca59e  0001879  Replicate 1     Region2   drugD    lung      test       key3\n",
       "2     1b2f4e55  0001879  Replicate 1     Region3   drugE  spleen  positive       key2"
      ]
     },
     "execution_count": 24,
     "metadata": {},
     "output_type": "execute_result"
    }
   ],
   "source": [
    "exp2"
   ]
  },
  {
   "cell_type": "code",
   "execution_count": 25,
   "metadata": {},
   "outputs": [],
   "source": [
    "exp3 = exp1.copy()\n",
    "exp3.append_metadata(\n",
    "    new_metadata=\"./demo_experiment/insituexperiment_new_metadata.csv\",\n",
    "    by=\"region_name\", overwrite=False\n",
    ")"
   ]
  },
  {
   "cell_type": "code",
   "execution_count": 26,
   "metadata": {},
   "outputs": [
    {
     "data": {
      "text/plain": [
       "\u001b[1mInSituExperiment\u001b[0m with 3 samples:\n",
       "           uid slide_id    sample_id    region_key region_name   organ      test therapy\n",
       "0     784db78b  0001879  Replicate 1  demo_regions     Region1   liver  negative   drugC\n",
       "1     a54ca59e  0001879  Replicate 1  demo_regions     Region2    lung      test   drugD\n",
       "2     1b2f4e55  0001879  Replicate 1  demo_regions     Region3  spleen  positive   drugE"
      ]
     },
     "execution_count": 26,
     "metadata": {},
     "output_type": "execute_result"
    }
   ],
   "source": [
    "exp3"
   ]
  },
  {
   "cell_type": "code",
   "execution_count": 27,
   "metadata": {},
   "outputs": [],
   "source": [
    "exp4 = exp1.copy()\n",
    "exp4.append_metadata(\n",
    "    new_metadata=\"./demo_experiment/insituexperiment_new_metadata2.csv\",\n",
    "    by=\"region_name\", overwrite=False\n",
    ")"
   ]
  },
  {
   "cell_type": "code",
   "execution_count": 28,
   "metadata": {},
   "outputs": [
    {
     "data": {
      "text/plain": [
       "\u001b[1mInSituExperiment\u001b[0m with 3 samples:\n",
       "           uid slide_id    sample_id    region_key region_name   organ      test therapy\n",
       "0     784db78b  0001879  Replicate 1  demo_regions     Region1   liver  negative   drugC\n",
       "1     a54ca59e  0001879  Replicate 1  demo_regions     Region2     NaN       NaN     NaN\n",
       "2     1b2f4e55  0001879  Replicate 1  demo_regions     Region3  spleen  positive   drugE"
      ]
     },
     "execution_count": 28,
     "metadata": {},
     "output_type": "execute_result"
    }
   ],
   "source": [
    "exp4"
   ]
  },
  {
   "cell_type": "code",
   "execution_count": 29,
   "metadata": {},
   "outputs": [],
   "source": [
    "exp5 = exp1.copy()\n",
    "exp5.append_metadata(\n",
    "    new_metadata=\"./demo_experiment/insituexperiment_new_metadata2.csv\",\n",
    "    by=\"region_name\", overwrite=True\n",
    ")"
   ]
  },
  {
   "cell_type": "code",
   "execution_count": 30,
   "metadata": {},
   "outputs": [
    {
     "data": {
      "text/plain": [
       "\u001b[1mInSituExperiment\u001b[0m with 3 samples:\n",
       "           uid slide_id    sample_id region_name therapy   organ      test region_key\n",
       "0     784db78b  0001879  Replicate 1     Region1   drugC   liver  negative       key1\n",
       "1     a54ca59e  0001879  Replicate 1     Region2     NaN     NaN       NaN        NaN\n",
       "2     1b2f4e55  0001879  Replicate 1     Region3   drugE  spleen  positive       key2"
      ]
     },
     "execution_count": 30,
     "metadata": {},
     "output_type": "execute_result"
    }
   ],
   "source": [
    "exp5"
   ]
  },
  {
   "cell_type": "markdown",
   "metadata": {},
   "source": [
    "Concatenate multiple `InSituExperiment` objects"
   ]
  },
  {
   "cell_type": "code",
   "execution_count": 31,
   "metadata": {},
   "outputs": [
    {
     "data": {
      "text/plain": [
       "\u001b[1mInSituExperiment\u001b[0m with 6 samples:\n",
       "           uid slide_id    sample_id region_key region_name\n",
       "0     f6e9d090  0001879  Replicate 1        TMA         A-1\n",
       "1     1df58158  0001879  Replicate 1        TMA         A-2\n",
       "2     de91f1b5  0001879  Replicate 1        TMA         A-3\n",
       "3     22d75218  0001879  Replicate 1        TMA         B-1\n",
       "4     0d1e1d7e  0001879  Replicate 1        TMA         B-2\n",
       "5     b1e9ed43  0001879  Replicate 1        TMA         B-3"
      ]
     },
     "execution_count": 31,
     "metadata": {},
     "output_type": "execute_result"
    }
   ],
   "source": [
    "exp"
   ]
  },
  {
   "cell_type": "code",
   "execution_count": 32,
   "metadata": {},
   "outputs": [
    {
     "data": {
      "text/plain": [
       "\u001b[1mInSituExperiment\u001b[0m with 3 samples:\n",
       "           uid slide_id    sample_id    region_key region_name\n",
       "0     784db78b  0001879  Replicate 1  demo_regions     Region1\n",
       "1     a54ca59e  0001879  Replicate 1  demo_regions     Region2\n",
       "2     1b2f4e55  0001879  Replicate 1  demo_regions     Region3"
      ]
     },
     "execution_count": 32,
     "metadata": {},
     "output_type": "execute_result"
    }
   ],
   "source": [
    "exp1"
   ]
  },
  {
   "cell_type": "code",
   "execution_count": 33,
   "metadata": {},
   "outputs": [],
   "source": [
    "exp_concat = InSituExperiment.concat(\n",
    "    objs={\n",
    "        \"exp_TMA\": exp,\n",
    "        \"exp_demo_regions\": exp1\n",
    "    },\n",
    "    new_col_name=\"name\"\n",
    "    )"
   ]
  },
  {
   "cell_type": "code",
   "execution_count": 34,
   "metadata": {},
   "outputs": [
    {
     "data": {
      "text/plain": [
       "\u001b[1mInSituExperiment\u001b[0m with 9 samples:\n",
       "           uid slide_id    sample_id    region_key region_name              name\n",
       "0     f6e9d090  0001879  Replicate 1           TMA         A-1           exp_TMA\n",
       "1     1df58158  0001879  Replicate 1           TMA         A-2           exp_TMA\n",
       "2     de91f1b5  0001879  Replicate 1           TMA         A-3           exp_TMA\n",
       "3     22d75218  0001879  Replicate 1           TMA         B-1           exp_TMA\n",
       "4     0d1e1d7e  0001879  Replicate 1           TMA         B-2           exp_TMA\n",
       "5     b1e9ed43  0001879  Replicate 1           TMA         B-3           exp_TMA\n",
       "6     784db78b  0001879  Replicate 1  demo_regions     Region1  exp_demo_regions\n",
       "7     a54ca59e  0001879  Replicate 1  demo_regions     Region2  exp_demo_regions\n",
       "8     1b2f4e55  0001879  Replicate 1  demo_regions     Region3  exp_demo_regions"
      ]
     },
     "execution_count": 34,
     "metadata": {},
     "output_type": "execute_result"
    }
   ],
   "source": [
    "exp_concat"
   ]
  },
  {
   "cell_type": "code",
   "execution_count": 35,
   "metadata": {},
   "outputs": [],
   "source": [
    "exp_concat = InSituExperiment.concat(\n",
    "    objs=[exp, exp1])"
   ]
  },
  {
   "cell_type": "code",
   "execution_count": 36,
   "metadata": {},
   "outputs": [
    {
     "data": {
      "text/plain": [
       "\u001b[1mInSituExperiment\u001b[0m with 9 samples:\n",
       "           uid slide_id    sample_id    region_key region_name\n",
       "0     f6e9d090  0001879  Replicate 1           TMA         A-1\n",
       "1     1df58158  0001879  Replicate 1           TMA         A-2\n",
       "2     de91f1b5  0001879  Replicate 1           TMA         A-3\n",
       "3     22d75218  0001879  Replicate 1           TMA         B-1\n",
       "4     0d1e1d7e  0001879  Replicate 1           TMA         B-2\n",
       "5     b1e9ed43  0001879  Replicate 1           TMA         B-3\n",
       "6     784db78b  0001879  Replicate 1  demo_regions     Region1\n",
       "7     a54ca59e  0001879  Replicate 1  demo_regions     Region2\n",
       "8     1b2f4e55  0001879  Replicate 1  demo_regions     Region3"
      ]
     },
     "execution_count": 36,
     "metadata": {},
     "output_type": "execute_result"
    }
   ],
   "source": [
    "exp_concat"
   ]
  },
  {
   "cell_type": "markdown",
   "metadata": {},
   "source": [
    "## Indexing and selection of data within `InSituExperiment`\n",
    "\n",
    "The `InSituExperiment` class allows simple selection and filtering of data using indices or True/False masks."
   ]
  },
  {
   "cell_type": "markdown",
   "metadata": {},
   "source": [
    "### Example 1: Select datasets by index"
   ]
  },
  {
   "cell_type": "code",
   "execution_count": 37,
   "metadata": {},
   "outputs": [],
   "source": [
    "exp_indexed = exp_concat[:3]"
   ]
  },
  {
   "cell_type": "code",
   "execution_count": 38,
   "metadata": {},
   "outputs": [
    {
     "data": {
      "text/plain": [
       "\u001b[1mInSituExperiment\u001b[0m with 3 samples:\n",
       "           uid slide_id    sample_id region_key region_name\n",
       "0     f6e9d090  0001879  Replicate 1        TMA         A-1\n",
       "1     1df58158  0001879  Replicate 1        TMA         A-2\n",
       "2     de91f1b5  0001879  Replicate 1        TMA         A-3"
      ]
     },
     "execution_count": 38,
     "metadata": {},
     "output_type": "execute_result"
    }
   ],
   "source": [
    "exp_indexed"
   ]
  },
  {
   "cell_type": "code",
   "execution_count": 39,
   "metadata": {},
   "outputs": [
    {
     "data": {
      "text/plain": [
       "Viewer(camera=Camera(center=(0.0, 499.90625, 499.8), zoom=0.20238794774020127, angles=(0.0, 0.0, 90.0), perspective=0.0, mouse_pan=True, mouse_zoom=True), cursor=Cursor(position=(1.0, 1.0), scaled=True, size=1, style=<CursorStyle.STANDARD: 'standard'>), dims=Dims(ndim=2, ndisplay=2, last_used=0, range=((0.0, 1000.025, 0.2125), (0.0, 999.8125, 0.2125)), current_step=(2352, 2352), order=(0, 1), axis_labels=('0', '1')), grid=GridCanvas(stride=1, shape=(-1, -1), enabled=False), layers=[<Image layer 'nuclei' at 0x1862c587dc0>, <Image layer 'CD20' at 0x1868206c4f0>, <Image layer 'HER2' at 0x1868aa45d90>, <Image layer 'DAPI' at 0x1869c607700>, <Image layer 'HE' at 0x1869d422760>], help='use <2> for transform', status='Ready', tooltip=Tooltip(visible=False, text=''), theme='dark', title='0001879: Replicate 1', mouse_over_canvas=False, mouse_move_callbacks=[], mouse_drag_callbacks=[], mouse_double_click_callbacks=[], mouse_wheel_callbacks=[<function dims_scroll at 0x000001867D7329D0>], _persisted_mouse_event={}, _mouse_drag_gen={}, _mouse_wheel_gen={}, keymap={})"
      ]
     },
     "execution_count": 39,
     "metadata": {},
     "output_type": "execute_result"
    }
   ],
   "source": [
    "exp_indexed.show(1)"
   ]
  },
  {
   "cell_type": "markdown",
   "metadata": {},
   "source": [
    "### Example 2: Select only datasets with a \"1\" in the region name"
   ]
  },
  {
   "cell_type": "code",
   "execution_count": 40,
   "metadata": {},
   "outputs": [],
   "source": [
    "filtering_mask = exp_concat.metadata[\"region_name\"].str.contains(\"1\")\n",
    "exp_filtered = exp_concat[filtering_mask]"
   ]
  },
  {
   "cell_type": "markdown",
   "metadata": {},
   "source": [
    "## Save `InSituExperiment`"
   ]
  },
  {
   "cell_type": "code",
   "execution_count": 44,
   "metadata": {},
   "outputs": [
    {
     "name": "stderr",
     "output_type": "stream",
     "text": [
      "100%|██████████| 3/3 [00:10<00:00,  3.64s/it]\n"
     ]
    }
   ],
   "source": [
    "exp_filtered.saveas(CACHE / \"out/test_insituexperiment\", overwrite=True)"
   ]
  },
  {
   "cell_type": "markdown",
   "metadata": {},
   "source": [
    "## Reload `InSituExperiment`"
   ]
  },
  {
   "cell_type": "code",
   "execution_count": 45,
   "metadata": {},
   "outputs": [],
   "source": [
    "exp_reloaded = InSituExperiment.read(CACHE / \"out/test_insituexperiment/\")"
   ]
  },
  {
   "cell_type": "code",
   "execution_count": 46,
   "metadata": {},
   "outputs": [
    {
     "name": "stderr",
     "output_type": "stream",
     "text": [
      "100%|██████████| 3/3 [00:00<00:00,  6.32it/s]\n"
     ]
    }
   ],
   "source": [
    "exp_reloaded.load_all()"
   ]
  },
  {
   "cell_type": "code",
   "execution_count": 47,
   "metadata": {},
   "outputs": [
    {
     "data": {
      "text/plain": [
       "\u001b[1mInSituExperiment\u001b[0m with 3 samples:\n",
       "           uid  slide_id    sample_id    region_key region_name\n",
       "0     f6e9d090      1879  Replicate 1           TMA         A-1\n",
       "1     22d75218      1879  Replicate 1           TMA         B-1\n",
       "2     784db78b      1879  Replicate 1  demo_regions     Region1"
      ]
     },
     "execution_count": 47,
     "metadata": {},
     "output_type": "execute_result"
    }
   ],
   "source": [
    "exp_reloaded"
   ]
  },
  {
   "cell_type": "code",
   "execution_count": 48,
   "metadata": {},
   "outputs": [
    {
     "name": "stderr",
     "output_type": "stream",
     "text": [
      "WARNING: QWindowsWindow::setGeometry: Unable to set geometry 2172x1310+732-236 (frame: 2194x1366+721-281) on QWidgetWindow/\"_QtMainWindowClassWindow\" on \"\\\\.\\DISPLAY1\". Resulting geometry: 3260x1968+735-222 (frame: 3282x2024+724-267) margins: 11, 45, 11, 11 minimum size: 385x492 MINMAXINFO maxSize=0,0 maxpos=0,0 mintrack=792,1040 maxtrack=0,0)\n"
     ]
    },
    {
     "data": {
      "text/plain": [
       "Viewer(camera=Camera(center=(0.0, 286.875, 351.475), zoom=1.1305791531236293, angles=(0.0, 0.0, 90.0), perspective=0.0, mouse_pan=True, mouse_zoom=True), cursor=Cursor(position=(1.0, 1.0), scaled=True, size=1, style=<CursorStyle.STANDARD: 'standard'>), dims=Dims(ndim=2, ndisplay=2, last_used=0, range=((0.0, 573.9625, 0.2125), (0.0, 703.1625, 0.2125)), current_step=(1350, 1654), order=(0, 1), axis_labels=('0', '1')), grid=GridCanvas(stride=1, shape=(-1, -1), enabled=False), layers=[<Image layer 'nuclei' at 0x18682dc9370>, <Image layer 'CD20' at 0x186a1731a30>, <Image layer 'HER2' at 0x186bb44beb0>, <Image layer 'DAPI' at 0x186bb3ed910>, <Image layer 'HE' at 0x186bea187c0>], help='use <2> for transform', status='Ready', tooltip=Tooltip(visible=False, text=''), theme='dark', title='0001879: Replicate 1', mouse_over_canvas=False, mouse_move_callbacks=[], mouse_drag_callbacks=[], mouse_double_click_callbacks=[], mouse_wheel_callbacks=[<function dims_scroll at 0x000001867D7329D0>], _persisted_mouse_event={}, _mouse_drag_gen={}, _mouse_wheel_gen={}, keymap={})"
      ]
     },
     "execution_count": 48,
     "metadata": {},
     "output_type": "execute_result"
    }
   ],
   "source": [
    "exp_reloaded.show(2)"
   ]
  },
  {
   "cell_type": "code",
   "execution_count": null,
   "metadata": {},
   "outputs": [],
   "source": []
  }
 ],
 "metadata": {
  "kernelspec": {
   "display_name": "insitupy",
   "language": "python",
   "name": "python3"
  },
  "language_info": {
   "codemirror_mode": {
    "name": "ipython",
    "version": 3
   },
   "file_extension": ".py",
   "mimetype": "text/x-python",
   "name": "python",
   "nbconvert_exporter": "python",
   "pygments_lexer": "ipython3",
   "version": "3.9.21"
  }
 },
 "nbformat": 4,
 "nbformat_minor": 2
}
