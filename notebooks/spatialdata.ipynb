{
 "cells": [
  {
   "cell_type": "code",
   "execution_count": 1,
   "metadata": {},
   "outputs": [],
   "source": [
    "from spatialdata import SpatialData\n",
    "import anndata as ad\n",
    "from insitupy import read_xenium\n",
    "from pathlib import Path"
   ]
  },
  {
   "cell_type": "code",
   "execution_count": 2,
   "metadata": {},
   "outputs": [],
   "source": [
    "from spatialdata import SpatialData\n",
    "import pandas as pd\n",
    "from geopandas import GeoDataFrame\n",
    "import anndata as ad\n",
    "\n",
    "def convert_insitu_to_spatialdata(insitu_data):\n",
    "    \"\"\"\n",
    "    Convert an InSituData object to a SpatialData object.\n",
    "    \n",
    "    Parameters:\n",
    "        insitu_data (InSituData): The InSituData object to convert.\n",
    "        \n",
    "    Returns:\n",
    "        SpatialData: The converted SpatialData object.\n",
    "    \"\"\"\n",
    "    \n",
    "    # 1. Images\n",
    "    images = {\n",
    "        \"nuclei\": insitu_data.images.nuclei  # Ensure this is in a compatible format, like a 2D numpy array.\n",
    "    }\n",
    "    \n",
    "    # 2. Labels\n",
    "    labels = {}  # Add segmentation labels here if available, otherwise leave it empty.\n",
    "    \n",
    "    # 3. Points\n",
    "    if isinstance(insitu_data.transcripts, pd.DataFrame):\n",
    "        points = {\"transcripts\": insitu_data.transcripts}\n",
    "    else:\n",
    "        raise ValueError(\"Expected 'transcripts' to be a pandas DataFrame with spatial coordinates.\")\n",
    "    \n",
    "    # 4. Shapes\n",
    "    # Access nuclear and cellular boundaries as attributes instead of dictionary-style indexing.\n",
    "    shapes = {\n",
    "        \"nuclear\": GeoDataFrame(insitu_data.cells.boundaries.nuclear),\n",
    "        \"cellular\": GeoDataFrame(insitu_data.cells.boundaries.cellular)\n",
    "    }\n",
    "    \n",
    "    # 5. Tables\n",
    "    if isinstance(insitu_data.cells.matrix, ad.AnnData):\n",
    "        tables = {\"cell_data\": insitu_data.cells.matrix}\n",
    "    else:\n",
    "        raise ValueError(\"Expected 'cells.matrix' to be an AnnData object.\")\n",
    "    \n",
    "    # Construct SpatialData object with the prepared elements\n",
    "    spatial_data = SpatialData(\n",
    "        images=images,\n",
    "        labels=labels,\n",
    "        points=points,\n",
    "        shapes=shapes,\n",
    "        table=tables\n",
    "    )\n",
    "    \n",
    "    # Optionally, add metadata from InSituData\n",
    "    spatial_data.metadata = {\n",
    "        'method': insitu_data.method,\n",
    "        'slide_id': insitu_data.slide_id,\n",
    "        'sample_id': insitu_data.sample_id,\n",
    "        'path': insitu_data.path,\n",
    "        'metadata_file': insitu_data.metadata_file\n",
    "    }\n",
    "    \n",
    "    return spatial_data\n",
    "\n",
    "\n"
   ]
  },
  {
   "cell_type": "code",
   "execution_count": 3,
   "metadata": {},
   "outputs": [],
   "source": [
    "out_dir = Path(\"demo_dataset\") # output directory\n",
    "data_dir = out_dir / \"output-XETG00000__0001879__Replicate 1\" # directory of xenium data\n",
    "image_dir = out_dir / \"unregistered_images\" # directory of images\n",
    "xd = read_xenium(data_dir)"
   ]
  },
  {
   "cell_type": "code",
   "execution_count": 4,
   "metadata": {},
   "outputs": [
    {
     "name": "stdout",
     "output_type": "stream",
     "text": [
      "Loading annotations...\n",
      "No `annotations` modality found.\n",
      "Loading cells...\n",
      "Loading images...\n",
      "Loading regions...\n",
      "No `regions` modality found.\n",
      "Loading transcripts...\n"
     ]
    }
   ],
   "source": [
    "xd.load_all()"
   ]
  },
  {
   "cell_type": "code",
   "execution_count": 5,
   "metadata": {},
   "outputs": [
    {
     "name": "stderr",
     "output_type": "stream",
     "text": [
      "C:\\Users\\Aitana\\AppData\\Local\\Temp\\ipykernel_141424\\3829264614.py:45: DeprecationWarning: `table` is being deprecated as an argument to `SpatialData.__init__.__init__` in spatialdata version 0.1.0, switch to `tables` instead.\n",
      "  spatial_data = SpatialData(\n"
     ]
    },
    {
     "ename": "TypeError",
     "evalue": "Unsupported type <class 'list'>",
     "output_type": "error",
     "traceback": [
      "\u001b[1;31m---------------------------------------------------------------------------\u001b[0m",
      "\u001b[1;31mTypeError\u001b[0m                                 Traceback (most recent call last)",
      "Cell \u001b[1;32mIn[5], line 1\u001b[0m\n\u001b[1;32m----> 1\u001b[0m \u001b[43mconvert_insitu_to_spatialdata\u001b[49m\u001b[43m(\u001b[49m\u001b[43mxd\u001b[49m\u001b[43m)\u001b[49m\n",
      "Cell \u001b[1;32mIn[2], line 45\u001b[0m, in \u001b[0;36mconvert_insitu_to_spatialdata\u001b[1;34m(insitu_data)\u001b[0m\n\u001b[0;32m     42\u001b[0m     \u001b[38;5;28;01mraise\u001b[39;00m \u001b[38;5;167;01mValueError\u001b[39;00m(\u001b[38;5;124m\"\u001b[39m\u001b[38;5;124mExpected \u001b[39m\u001b[38;5;124m'\u001b[39m\u001b[38;5;124mcells.matrix\u001b[39m\u001b[38;5;124m'\u001b[39m\u001b[38;5;124m to be an AnnData object.\u001b[39m\u001b[38;5;124m\"\u001b[39m)\n\u001b[0;32m     44\u001b[0m \u001b[38;5;66;03m# Construct SpatialData object with the prepared elements\u001b[39;00m\n\u001b[1;32m---> 45\u001b[0m spatial_data \u001b[38;5;241m=\u001b[39m \u001b[43mSpatialData\u001b[49m\u001b[43m(\u001b[49m\n\u001b[0;32m     46\u001b[0m \u001b[43m    \u001b[49m\u001b[43mimages\u001b[49m\u001b[38;5;241;43m=\u001b[39;49m\u001b[43mimages\u001b[49m\u001b[43m,\u001b[49m\n\u001b[0;32m     47\u001b[0m \u001b[43m    \u001b[49m\u001b[43mlabels\u001b[49m\u001b[38;5;241;43m=\u001b[39;49m\u001b[43mlabels\u001b[49m\u001b[43m,\u001b[49m\n\u001b[0;32m     48\u001b[0m \u001b[43m    \u001b[49m\u001b[43mpoints\u001b[49m\u001b[38;5;241;43m=\u001b[39;49m\u001b[43mpoints\u001b[49m\u001b[43m,\u001b[49m\n\u001b[0;32m     49\u001b[0m \u001b[43m    \u001b[49m\u001b[43mshapes\u001b[49m\u001b[38;5;241;43m=\u001b[39;49m\u001b[43mshapes\u001b[49m\u001b[43m,\u001b[49m\n\u001b[0;32m     50\u001b[0m \u001b[43m    \u001b[49m\u001b[43mtable\u001b[49m\u001b[38;5;241;43m=\u001b[39;49m\u001b[43mtables\u001b[49m\n\u001b[0;32m     51\u001b[0m \u001b[43m\u001b[49m\u001b[43m)\u001b[49m\n\u001b[0;32m     53\u001b[0m \u001b[38;5;66;03m# Optionally, add metadata from InSituData\u001b[39;00m\n\u001b[0;32m     54\u001b[0m spatial_data\u001b[38;5;241m.\u001b[39mmetadata \u001b[38;5;241m=\u001b[39m {\n\u001b[0;32m     55\u001b[0m     \u001b[38;5;124m'\u001b[39m\u001b[38;5;124mmethod\u001b[39m\u001b[38;5;124m'\u001b[39m: insitu_data\u001b[38;5;241m.\u001b[39mmethod,\n\u001b[0;32m     56\u001b[0m     \u001b[38;5;124m'\u001b[39m\u001b[38;5;124mslide_id\u001b[39m\u001b[38;5;124m'\u001b[39m: insitu_data\u001b[38;5;241m.\u001b[39mslide_id,\n\u001b[1;32m   (...)\u001b[0m\n\u001b[0;32m     59\u001b[0m     \u001b[38;5;124m'\u001b[39m\u001b[38;5;124mmetadata_file\u001b[39m\u001b[38;5;124m'\u001b[39m: insitu_data\u001b[38;5;241m.\u001b[39mmetadata_file\n\u001b[0;32m     60\u001b[0m }\n",
      "File \u001b[1;32mc:\\Users\\Aitana\\Anaconda3\\envs\\insitupy\\lib\\site-packages\\spatialdata\\_utils.py:261\u001b[0m, in \u001b[0;36m_deprecation_alias.<locals>.deprecation_decorator.<locals>.wrapper\u001b[1;34m(*args, **kwargs)\u001b[0m\n\u001b[0;32m    259\u001b[0m     \u001b[38;5;28;01mraise\u001b[39;00m \u001b[38;5;167;01mValueError\u001b[39;00m(\u001b[38;5;124m\"\u001b[39m\u001b[38;5;124mversion for deprecation must be specified\u001b[39m\u001b[38;5;124m\"\u001b[39m)\n\u001b[0;32m    260\u001b[0m rename_kwargs(f\u001b[38;5;241m.\u001b[39m\u001b[38;5;18m__name__\u001b[39m, kwargs, alias_copy, class_name, library, version)\n\u001b[1;32m--> 261\u001b[0m \u001b[38;5;28;01mreturn\u001b[39;00m f(\u001b[38;5;241m*\u001b[39margs, \u001b[38;5;241m*\u001b[39m\u001b[38;5;241m*\u001b[39mkwargs)\n",
      "File \u001b[1;32mc:\\Users\\Aitana\\Anaconda3\\envs\\insitupy\\lib\\site-packages\\spatialdata\\_core\\spatialdata.py:142\u001b[0m, in \u001b[0;36mSpatialData.__init__\u001b[1;34m(self, images, labels, points, shapes, tables)\u001b[0m\n\u001b[0;32m    140\u001b[0m \u001b[38;5;28;01mif\u001b[39;00m images \u001b[38;5;129;01mis\u001b[39;00m \u001b[38;5;129;01mnot\u001b[39;00m \u001b[38;5;28;01mNone\u001b[39;00m:\n\u001b[0;32m    141\u001b[0m     \u001b[38;5;28;01mfor\u001b[39;00m k, v \u001b[38;5;129;01min\u001b[39;00m images\u001b[38;5;241m.\u001b[39mitems():\n\u001b[1;32m--> 142\u001b[0m         \u001b[38;5;28;43mself\u001b[39;49m\u001b[38;5;241;43m.\u001b[39;49m\u001b[43mimages\u001b[49m\u001b[43m[\u001b[49m\u001b[43mk\u001b[49m\u001b[43m]\u001b[49m \u001b[38;5;241m=\u001b[39m v\n\u001b[0;32m    144\u001b[0m \u001b[38;5;28;01mif\u001b[39;00m labels \u001b[38;5;129;01mis\u001b[39;00m \u001b[38;5;129;01mnot\u001b[39;00m \u001b[38;5;28;01mNone\u001b[39;00m:\n\u001b[0;32m    145\u001b[0m     \u001b[38;5;28;01mfor\u001b[39;00m k, v \u001b[38;5;129;01min\u001b[39;00m labels\u001b[38;5;241m.\u001b[39mitems():\n",
      "File \u001b[1;32mc:\\Users\\Aitana\\Anaconda3\\envs\\insitupy\\lib\\site-packages\\spatialdata\\_core\\_elements.py:63\u001b[0m, in \u001b[0;36mImages.__setitem__\u001b[1;34m(self, key, value)\u001b[0m\n\u001b[0;32m     61\u001b[0m \u001b[38;5;28;01mdef\u001b[39;00m \u001b[38;5;21m__setitem__\u001b[39m(\u001b[38;5;28mself\u001b[39m, key: \u001b[38;5;28mstr\u001b[39m, value: Raster_T) \u001b[38;5;241m-\u001b[39m\u001b[38;5;241m>\u001b[39m \u001b[38;5;28;01mNone\u001b[39;00m:\n\u001b[0;32m     62\u001b[0m     \u001b[38;5;28mself\u001b[39m\u001b[38;5;241m.\u001b[39m_check_key(key, \u001b[38;5;28mself\u001b[39m\u001b[38;5;241m.\u001b[39mkeys(), \u001b[38;5;28mself\u001b[39m\u001b[38;5;241m.\u001b[39m_shared_keys)\n\u001b[1;32m---> 63\u001b[0m     schema \u001b[38;5;241m=\u001b[39m \u001b[43mget_model\u001b[49m\u001b[43m(\u001b[49m\u001b[43mvalue\u001b[49m\u001b[43m)\u001b[49m\n\u001b[0;32m     64\u001b[0m     \u001b[38;5;28;01mif\u001b[39;00m schema \u001b[38;5;129;01mnot\u001b[39;00m \u001b[38;5;129;01min\u001b[39;00m (Image2DModel, Image3DModel):\n\u001b[0;32m     65\u001b[0m         \u001b[38;5;28;01mraise\u001b[39;00m \u001b[38;5;167;01mTypeError\u001b[39;00m(\u001b[38;5;124mf\u001b[39m\u001b[38;5;124m\"\u001b[39m\u001b[38;5;124mUnknown element type with schema: \u001b[39m\u001b[38;5;132;01m{\u001b[39;00mschema\u001b[38;5;132;01m!r}\u001b[39;00m\u001b[38;5;124m.\u001b[39m\u001b[38;5;124m\"\u001b[39m)\n",
      "File \u001b[1;32mc:\\Users\\Aitana\\Anaconda3\\envs\\insitupy\\lib\\site-packages\\spatialdata\\models\\models.py:1070\u001b[0m, in \u001b[0;36mget_model\u001b[1;34m(e)\u001b[0m\n\u001b[0;32m   1068\u001b[0m \u001b[38;5;28;01mif\u001b[39;00m \u001b[38;5;28misinstance\u001b[39m(e, AnnData):\n\u001b[0;32m   1069\u001b[0m     \u001b[38;5;28;01mreturn\u001b[39;00m _validate_and_return(TableModel, e)\n\u001b[1;32m-> 1070\u001b[0m \u001b[38;5;28;01mraise\u001b[39;00m \u001b[38;5;167;01mTypeError\u001b[39;00m(\u001b[38;5;124mf\u001b[39m\u001b[38;5;124m\"\u001b[39m\u001b[38;5;124mUnsupported type \u001b[39m\u001b[38;5;132;01m{\u001b[39;00m\u001b[38;5;28mtype\u001b[39m(e)\u001b[38;5;132;01m}\u001b[39;00m\u001b[38;5;124m\"\u001b[39m)\n",
      "\u001b[1;31mTypeError\u001b[0m: Unsupported type <class 'list'>"
     ]
    }
   ],
   "source": [
    "convert_insitu_to_spatialdata(xd)"
   ]
  },
  {
   "cell_type": "code",
   "execution_count": 8,
   "metadata": {},
   "outputs": [
    {
     "data": {
      "text/plain": [
       "\u001b[1m\u001b[31mInSituData\u001b[0m\n",
       "\u001b[1mMethod:\u001b[0m\t\tXenium\n",
       "\u001b[1mSlide ID:\u001b[0m\t0001879\n",
       "\u001b[1mSample ID:\u001b[0m\tReplicate 1\n",
       "\u001b[1mPath:\u001b[0m\t\tC:\\Users\\Aitana\\OneDrive\\Documentos\\Github\\InSituPy\\notebooks\\demo_dataset\\output-XETG00000__0001879__Replicate 1\n",
       "\u001b[1mMetadata file:\u001b[0m\texperiment.xenium\n",
       "    ➤ \u001b[34m\u001b[1mimages\u001b[0m\n",
       "       \u001b[1mnuclei:\u001b[0m\t(25778, 35416)\n",
       "    ➤\u001b[32m\u001b[1m cells\u001b[0m\n",
       "       \u001b[1mmatrix\u001b[0m\n",
       "           AnnData object with n_obs × n_vars = 167780 × 313\n",
       "           obs: 'transcript_counts', 'control_probe_counts', 'control_codeword_counts', 'total_counts', 'cell_area', 'nucleus_area'\n",
       "           var: 'gene_ids', 'feature_types', 'genome'\n",
       "           obsm: 'spatial'\n",
       "           varm: 'binned_expression'\n",
       "       \u001b[1mboundaries\u001b[0m\n",
       "           BoundariesData object with 2 entries:\n",
       "               \u001b[1mnuclear\u001b[0m\n",
       "               \u001b[1mcellular\u001b[0m\n",
       "    ➤\u001b[95m\u001b[1m transcripts\u001b[0m\n",
       "       DataFrame with shape 42638083 x 7"
      ]
     },
     "execution_count": 8,
     "metadata": {},
     "output_type": "execute_result"
    }
   ],
   "source": [
    "xd"
   ]
  },
  {
   "cell_type": "code",
   "execution_count": null,
   "metadata": {},
   "outputs": [],
   "source": []
  }
 ],
 "metadata": {
  "kernelspec": {
   "display_name": "Python (insitupy)",
   "language": "python",
   "name": "insitupy"
  },
  "language_info": {
   "codemirror_mode": {
    "name": "ipython",
    "version": 3
   },
   "file_extension": ".py",
   "mimetype": "text/x-python",
   "name": "python",
   "nbconvert_exporter": "python",
   "pygments_lexer": "ipython3",
   "version": "3.9.20"
  }
 },
 "nbformat": 4,
 "nbformat_minor": 2
}
