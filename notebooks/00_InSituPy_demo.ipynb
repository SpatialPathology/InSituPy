{
 "cells": [
  {
   "cell_type": "markdown",
   "id": "b16df72d-5dd5-47da-a8c3-b569fe97446b",
   "metadata": {
    "tags": []
   },
   "source": [
    "# InSituPy demonstration\n",
    "Example dataset: https://www.10xgenomics.com/products/xenium-in-situ/preview-dataset-human-breast"
   ]
  },
  {
   "cell_type": "code",
   "execution_count": 1,
   "id": "8bc0c4ed-3587-460e-98d2-6626a020a327",
   "metadata": {},
   "outputs": [],
   "source": [
    "## The following code ensures that all functions and init files are reloaded before executions.\n",
    "%load_ext autoreload\n",
    "%autoreload 2"
   ]
  },
  {
   "cell_type": "code",
   "execution_count": 2,
   "id": "58107e0b-5017-425b-8cd0-9274be2b8253",
   "metadata": {},
   "outputs": [],
   "source": [
    "from xeniumdata import XeniumData\n",
    "import xeniumdata\n",
    "from pathlib import Path\n",
    "import pandas as pd\n",
    "import matplotlib.pyplot as plt\n",
    "from xeniumdata.utils.utils import decode_robust_series\n",
    "from dask_image.imread import imread\n",
    "from xeniumdata.images import deconvolve_he\n",
    "import numpy as np\n",
    "import scanpy as sc"
   ]
  },
  {
   "cell_type": "markdown",
   "id": "29ea60ad",
   "metadata": {},
   "source": [
    "## Load data"
   ]
  },
  {
   "cell_type": "code",
   "execution_count": 3,
   "id": "f6b43806",
   "metadata": {},
   "outputs": [],
   "source": [
    "# input directories\n",
    "data_dirs = [\n",
    "    Path(\"C:/Users/ge37voy/data/2301_CRC/2301-01_20230504/01_xenium_data/output-XETG00050__0003621__Region_1__20230504__121954\"),\n",
    "    Path(\"C:/Users/ge37voy/data/datasets/Xenium_FFPE_Human_Breast_Cancer_Rep1_outs/output-XETG00000__slide_id__sample_id/\"),\n",
    "    Path(\"C:/Users/ge37voy/data/20230811__134602__2314_OTCs_Wollenberg/output-XETG00050__0003555__OTC0304-1__20230811__134819\")\n",
    "]"
   ]
  },
  {
   "cell_type": "code",
   "execution_count": 4,
   "id": "5e10c02a",
   "metadata": {},
   "outputs": [],
   "source": [
    "img_dirs = [elem.parent / \"unregistered_images\" for elem in data_dirs]"
   ]
  },
  {
   "cell_type": "code",
   "execution_count": 5,
   "id": "b3558328",
   "metadata": {},
   "outputs": [],
   "source": [
    "i = 0\n",
    "data_dir = data_dirs[i]\n",
    "img_dir = img_dirs[i]"
   ]
  },
  {
   "cell_type": "code",
   "execution_count": 6,
   "id": "3dbd8811",
   "metadata": {},
   "outputs": [
    {
     "data": {
      "text/plain": [
       "WindowsPath('C:/Users/ge37voy/data/2301_CRC/2301-01_20230504/01_xenium_data/output-XETG00050__0003621__Region_1__20230504__121954')"
      ]
     },
     "execution_count": 6,
     "metadata": {},
     "output_type": "execute_result"
    }
   ],
   "source": [
    "data_dir"
   ]
  },
  {
   "cell_type": "code",
   "execution_count": 7,
   "id": "5bd9234a",
   "metadata": {},
   "outputs": [],
   "source": [
    "xd = XeniumData(data_dir)"
   ]
  },
  {
   "cell_type": "code",
   "execution_count": 8,
   "id": "84c51a3e",
   "metadata": {},
   "outputs": [
    {
     "data": {
      "text/plain": [
       "\u001b[1m\u001b[31mXeniumData\u001b[0m\n",
       "\u001b[1mSlide ID:\u001b[0m\t0003621\n",
       "\u001b[1mRegion ID:\u001b[0m\tRegion_1\n",
       "\u001b[1mData path:\u001b[0m\tC:\\Users\\ge37voy\\data\\2301_CRC\\2301-01_20230504\\01_xenium_data\n",
       "\u001b[1mData folder:\u001b[0m\toutput-XETG00050__0003621__Region_1__20230504__121954\n",
       "\u001b[1mMetadata file:\u001b[0m\texperiment_modified.xenium"
      ]
     },
     "execution_count": 8,
     "metadata": {},
     "output_type": "execute_result"
    }
   ],
   "source": [
    "xd"
   ]
  },
  {
   "cell_type": "markdown",
   "id": "7d211978",
   "metadata": {},
   "source": [
    "## Read different data modalities"
   ]
  },
  {
   "cell_type": "code",
   "execution_count": 9,
   "id": "158d0088",
   "metadata": {},
   "outputs": [],
   "source": [
    "xd.read_annotations()\n",
    "xd.read_images()\n",
    "xd.read_matrix()"
   ]
  },
  {
   "cell_type": "markdown",
   "id": "85acb3d5",
   "metadata": {},
   "source": [
    "### Show overview of data"
   ]
  },
  {
   "cell_type": "code",
   "execution_count": 10,
   "id": "64829495",
   "metadata": {},
   "outputs": [
    {
     "data": {
      "text/plain": [
       "\u001b[1m\u001b[31mXeniumData\u001b[0m\n",
       "\u001b[1mSlide ID:\u001b[0m\t0003621\n",
       "\u001b[1mRegion ID:\u001b[0m\tRegion_1\n",
       "\u001b[1mData path:\u001b[0m\tC:\\Users\\ge37voy\\data\\2301_CRC\\2301-01_20230504\\01_xenium_data\n",
       "\u001b[1mData folder:\u001b[0m\toutput-XETG00050__0003621__Region_1__20230504__121954\n",
       "\u001b[1mMetadata file:\u001b[0m\texperiment_modified.xenium\n",
       "    ➤ \u001b[34m\u001b[1mimages\u001b[0m\n",
       "       \u001b[1mnuclei:\u001b[0m\t(27352, 34139)\n",
       "       \u001b[1mHE:\u001b[0m\t(27352, 34139, 3)\n",
       "       \u001b[1mpanCK:\u001b[0m\t(27352, 34139, 3)\n",
       "    ➤\u001b[32m\u001b[1m matrix\u001b[0m\n",
       "       AnnData object with n_obs × n_vars = 151305 × 280\n",
       "\t       obs: 'transcript_counts', 'control_probe_counts', 'control_codeword_counts', 'unassigned_codeword_counts', 'total_counts', 'cell_area', 'nucleus_area'\n",
       "\t       var: 'gene_ids', 'feature_types', 'genome'\n",
       "\t       obsm: 'spatial'\n",
       "    ➤ \u001b[36m\u001b[1mannotations\u001b[0m\n",
       "       \u001b[1mtanja:\u001b[0m\t41 annotations, 5 classes ('Tumor', 'Fat', 'Mucus', 'Immune cells', 'Peritumoral Zone') "
      ]
     },
     "execution_count": 10,
     "metadata": {},
     "output_type": "execute_result"
    }
   ],
   "source": [
    "xd"
   ]
  },
  {
   "cell_type": "markdown",
   "id": "dd3f9616",
   "metadata": {},
   "source": [
    "## View data interactively"
   ]
  },
  {
   "cell_type": "code",
   "execution_count": 11,
   "id": "b0f5c559",
   "metadata": {},
   "outputs": [
    {
     "data": {
      "text/plain": [
       "Viewer(camera=Camera(center=(0.0, 2906.04375, 3627.1625), zoom=0.06652388246666312, angles=(0.0, 0.0, 90.0), perspective=0.0, mouse_pan=True, mouse_zoom=True), cursor=Cursor(position=(1.0, 1.0), scaled=True, size=1, style=<CursorStyle.STANDARD: 'standard'>), dims=Dims(ndim=2, ndisplay=2, last_used=0, range=((0.0, 5812.299999999999, 0.2125), (0.0, 7254.537499999999, 0.2125)), current_step=(13675, 17069), order=(0, 1), axis_labels=('0', '1')), grid=GridCanvas(stride=1, shape=(-1, -1), enabled=False), layers=[<Image layer 'nuclei' at 0x21d54bfdbe0>, <Image layer 'HE' at 0x21d45c52f70>, <Image layer 'panCK' at 0x21d552d0df0>], help='use <2> for transform', status='Ready', tooltip=Tooltip(visible=False, text=''), theme='dark', title='napari', mouse_over_canvas=False, mouse_move_callbacks=[], mouse_drag_callbacks=[], mouse_double_click_callbacks=[], mouse_wheel_callbacks=[<function dims_scroll at 0x0000021D41215A60>], _persisted_mouse_event={}, _mouse_drag_gen={}, _mouse_wheel_gen={}, keymap={})"
      ]
     },
     "execution_count": 11,
     "metadata": {},
     "output_type": "execute_result"
    }
   ],
   "source": [
    "xd.show()"
   ]
  },
  {
   "cell_type": "markdown",
   "id": "01c09ebf",
   "metadata": {},
   "source": [
    "### Crop data"
   ]
  },
  {
   "cell_type": "code",
   "execution_count": 12,
   "id": "30326cd2",
   "metadata": {},
   "outputs": [
    {
     "name": "stdout",
     "output_type": "stream",
     "text": [
      "napari.Viewer: napari\n"
     ]
    },
    {
     "name": "stderr",
     "output_type": "stream",
     "text": [
      "c:\\Users\\ge37voy\\AppData\\Local\\miniconda3\\envs\\xparse\\lib\\site-packages\\anndata\\_core\\anndata.py:1113: FutureWarning: is_categorical_dtype is deprecated and will be removed in a future version. Use isinstance(dtype, CategoricalDtype) instead\n",
      "  if not is_categorical_dtype(df_full[k]):\n"
     ]
    }
   ],
   "source": [
    "xx = xd.crop(shape_layer=\"Shapes\", inplace=False)"
   ]
  },
  {
   "cell_type": "code",
   "execution_count": 13,
   "id": "3ae0fb8a",
   "metadata": {},
   "outputs": [
    {
     "data": {
      "text/plain": [
       "\u001b[1m\u001b[31mXeniumData\u001b[0m\n",
       "\u001b[1mSlide ID:\u001b[0m\t0003621\n",
       "\u001b[1mRegion ID:\u001b[0m\tRegion_1\n",
       "\u001b[1mData path:\u001b[0m\tC:\\Users\\ge37voy\\data\\2301_CRC\\2301-01_20230504\\01_xenium_data\n",
       "\u001b[1mData folder:\u001b[0m\toutput-XETG00050__0003621__Region_1__20230504__121954\n",
       "\u001b[1mMetadata file:\u001b[0m\texperiment_modified.xenium\n",
       "    ➤ \u001b[34m\u001b[1mimages\u001b[0m\n",
       "       \u001b[1mnuclei:\u001b[0m\t(3373, 4473)\n",
       "       \u001b[1mHE:\u001b[0m\t(3373, 4473, 3)\n",
       "       \u001b[1mpanCK:\u001b[0m\t(3373, 4473, 3)\n",
       "    ➤\u001b[32m\u001b[1m matrix\u001b[0m\n",
       "       AnnData object with n_obs × n_vars = 5883 × 280\n",
       "\t       obs: 'transcript_counts', 'control_probe_counts', 'control_codeword_counts', 'unassigned_codeword_counts', 'total_counts', 'cell_area', 'nucleus_area'\n",
       "\t       var: 'gene_ids', 'feature_types', 'genome'\n",
       "\t       obsm: 'spatial'\n",
       "    ➤ \u001b[36m\u001b[1mannotations\u001b[0m\n",
       "       \u001b[1mtanja:\u001b[0m\t2 annotations, 1 classes ('Tumor',) "
      ]
     },
     "execution_count": 13,
     "metadata": {},
     "output_type": "execute_result"
    }
   ],
   "source": [
    "xx"
   ]
  },
  {
   "cell_type": "code",
   "execution_count": 14,
   "id": "cb990c93",
   "metadata": {},
   "outputs": [
    {
     "data": {
      "text/plain": [
       "Viewer(camera=Camera(center=(0.0, 358.27500000000003, 475.15000000000003), zoom=0.5077260951328888, angles=(0.0, 0.0, 90.0), perspective=0.0, mouse_pan=True, mouse_zoom=True), cursor=Cursor(position=(1.0, 1.0), scaled=True, size=1, style=<CursorStyle.STANDARD: 'standard'>), dims=Dims(ndim=2, ndisplay=2, last_used=0, range=((0.0, 716.7625, 0.2125), (0.0, 950.5125, 0.2125)), current_step=(1686, 2236), order=(0, 1), axis_labels=('0', '1')), grid=GridCanvas(stride=1, shape=(-1, -1), enabled=False), layers=[<Image layer 'nuclei' at 0x21d3a921940>, <Image layer 'HE' at 0x21d62778160>, <Image layer 'panCK' at 0x21d62d5b0d0>], help='use <2> for transform', status='Ready', tooltip=Tooltip(visible=False, text=''), theme='dark', title='napari', mouse_over_canvas=False, mouse_move_callbacks=[], mouse_drag_callbacks=[], mouse_double_click_callbacks=[], mouse_wheel_callbacks=[<function dims_scroll at 0x0000021D41215A60>], _persisted_mouse_event={}, _mouse_drag_gen={}, _mouse_wheel_gen={}, keymap={})"
      ]
     },
     "execution_count": 14,
     "metadata": {},
     "output_type": "execute_result"
    }
   ],
   "source": [
    "xx.show()"
   ]
  },
  {
   "cell_type": "markdown",
   "id": "309ad28f",
   "metadata": {},
   "source": [
    "## Perform preprocessing steps"
   ]
  },
  {
   "cell_type": "code",
   "execution_count": 15,
   "id": "ef75db44",
   "metadata": {},
   "outputs": [
    {
     "name": "stdout",
     "output_type": "stream",
     "text": [
      "Store raw counts in anndata.layers['counts']...\n",
      "Normalization, log-transformation...\n",
      "Calculate highly-variable genes across all samples using seurat flavor...\n"
     ]
    },
    {
     "name": "stderr",
     "output_type": "stream",
     "text": [
      "c:\\Users\\ge37voy\\AppData\\Local\\miniconda3\\envs\\xparse\\lib\\site-packages\\scanpy\\preprocessing\\_normalization.py:196: UserWarning: Some cells have zero counts\n",
      "  warn(UserWarning('Some cells have zero counts'))\n",
      "c:\\Users\\ge37voy\\AppData\\Local\\miniconda3\\envs\\xparse\\lib\\site-packages\\scanpy\\preprocessing\\_highly_variable_genes.py:215: FutureWarning: The default of observed=False is deprecated and will be changed to True in a future version of pandas. Pass observed=False to retain current behavior or observed=True to adopt the future default and silence this warning.\n",
      "  disp_grouped = df.groupby('mean_bin')['dispersions']\n",
      "c:\\Users\\ge37voy\\AppData\\Local\\miniconda3\\envs\\xparse\\lib\\site-packages\\anndata\\_core\\anndata.py:1113: FutureWarning: is_categorical_dtype is deprecated and will be removed in a future version. Use isinstance(dtype, CategoricalDtype) instead\n",
      "  if not is_categorical_dtype(df_full[k]):\n"
     ]
    },
    {
     "name": "stdout",
     "output_type": "stream",
     "text": [
      "Dimensionality reduction...\n",
      "Leiden clustering...\n"
     ]
    }
   ],
   "source": [
    "xx.normalize()\n",
    "xx.hvg()\n",
    "xx.reduce_dimensions(umap=True, tsne=False)"
   ]
  },
  {
   "cell_type": "code",
   "execution_count": 16,
   "id": "e81868c4",
   "metadata": {},
   "outputs": [
    {
     "data": {
      "text/plain": [
       "Viewer(camera=Camera(center=(0.0, 358.27500000000003, 475.15000000000003), zoom=0.5077260951328888, angles=(0.0, 0.0, 90.0), perspective=0.0, mouse_pan=True, mouse_zoom=True), cursor=Cursor(position=(1.0, 1.0), scaled=True, size=1, style=<CursorStyle.STANDARD: 'standard'>), dims=Dims(ndim=2, ndisplay=2, last_used=0, range=((0.0, 716.7625, 0.2125), (0.0, 950.6913406476865, 0.2125)), current_step=(1686, 2236), order=(0, 1), axis_labels=('0', '1')), grid=GridCanvas(stride=1, shape=(-1, -1), enabled=False), layers=[<Image layer 'nuclei' at 0x21dc29fef40>, <Image layer 'HE' at 0x21dc8f11f10>, <Image layer 'panCK' at 0x21dc8ed7790>, <Points layer 'leiden' at 0x21dd6a23220>, <Points layer 'ACTA2' at 0x21dc2497dc0>, <Points layer 'LYZ' at 0x21dadb8bee0>], help='use <5> for transform, use <2> for add points, use <3> for select points', status='Ready', tooltip=Tooltip(visible=False, text=''), theme='dark', title='napari', mouse_over_canvas=False, mouse_move_callbacks=[], mouse_drag_callbacks=[], mouse_double_click_callbacks=[], mouse_wheel_callbacks=[<function dims_scroll at 0x0000021D41215A60>], _persisted_mouse_event={}, _mouse_drag_gen={}, _mouse_wheel_gen={}, keymap={})"
      ]
     },
     "execution_count": 16,
     "metadata": {},
     "output_type": "execute_result"
    }
   ],
   "source": [
    "xx.show(keys=[\"leiden\", \"ACTA2\", \"LYZ\"])"
   ]
  },
  {
   "cell_type": "code",
   "execution_count": 18,
   "id": "c74809da",
   "metadata": {},
   "outputs": [
    {
     "data": {
      "text/plain": [
       "array([[0.        , 0.34317848, 0.        , ..., 0.        , 0.9699002 ,\n",
       "        0.34317848],\n",
       "       [0.        , 0.38582915, 0.        , ..., 0.        , 0.38582915,\n",
       "        0.88066363],\n",
       "       [0.        , 0.43475094, 0.24081777, ..., 0.        , 0.        ,\n",
       "        0.43475094],\n",
       "       ...,\n",
       "       [0.        , 0.        , 0.        , ..., 0.        , 0.        ,\n",
       "        0.        ],\n",
       "       [0.        , 0.        , 0.        , ..., 0.        , 0.        ,\n",
       "        1.8946168 ],\n",
       "       [0.        , 0.        , 0.        , ..., 0.        , 0.        ,\n",
       "        0.        ]], dtype=float32)"
      ]
     },
     "execution_count": 18,
     "metadata": {},
     "output_type": "execute_result"
    }
   ],
   "source": [
    "xx.matrix.X.toarray()"
   ]
  },
  {
   "cell_type": "markdown",
   "id": "9808c51f",
   "metadata": {},
   "source": [
    "## Save results"
   ]
  },
  {
   "cell_type": "code",
   "execution_count": 19,
   "id": "00effeae",
   "metadata": {},
   "outputs": [],
   "source": [
    "out_dir = data_dir.parent / \"cropped_processed\""
   ]
  },
  {
   "cell_type": "code",
   "execution_count": 21,
   "id": "0b2e2a2c",
   "metadata": {},
   "outputs": [],
   "source": [
    "xx.save(out_dir, overwrite=True)"
   ]
  },
  {
   "cell_type": "code",
   "execution_count": null,
   "id": "ea88cfcc",
   "metadata": {},
   "outputs": [],
   "source": []
  }
 ],
 "metadata": {
  "kernelspec": {
   "display_name": "xdata",
   "language": "python",
   "name": "python3"
  },
  "language_info": {
   "codemirror_mode": {
    "name": "ipython",
    "version": 3
   },
   "file_extension": ".py",
   "mimetype": "text/x-python",
   "name": "python",
   "nbconvert_exporter": "python",
   "pygments_lexer": "ipython3",
   "version": "3.9.18"
  }
 },
 "nbformat": 4,
 "nbformat_minor": 5
}
