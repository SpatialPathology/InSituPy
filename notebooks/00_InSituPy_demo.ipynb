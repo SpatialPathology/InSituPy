{
 "cells": [
  {
   "cell_type": "markdown",
   "id": "b16df72d-5dd5-47da-a8c3-b569fe97446b",
   "metadata": {
    "tags": []
   },
   "source": [
    "# InSituPy demonstration\n",
    "Example dataset: https://www.10xgenomics.com/products/xenium-in-situ/preview-dataset-human-breast"
   ]
  },
  {
   "cell_type": "code",
   "execution_count": 1,
   "id": "8bc0c4ed-3587-460e-98d2-6626a020a327",
   "metadata": {},
   "outputs": [],
   "source": [
    "## The following code ensures that all functions and init files are reloaded before executions.\n",
    "%load_ext autoreload\n",
    "%autoreload 2"
   ]
  },
  {
   "cell_type": "code",
   "execution_count": 2,
   "id": "58107e0b-5017-425b-8cd0-9274be2b8253",
   "metadata": {},
   "outputs": [],
   "source": [
    "from xeniumdata import XeniumData\n",
    "import xeniumdata\n",
    "from pathlib import Path\n",
    "import pandas as pd\n",
    "import matplotlib.pyplot as plt\n",
    "from xeniumdata.utils.utils import decode_robust_series\n",
    "from dask_image.imread import imread\n",
    "from xeniumdata.images import deconvolve_he\n",
    "import numpy as np\n",
    "import scanpy as sc"
   ]
  },
  {
   "cell_type": "markdown",
   "id": "29ea60ad",
   "metadata": {},
   "source": [
    "## Load data"
   ]
  },
  {
   "cell_type": "code",
   "execution_count": 3,
   "id": "f6b43806",
   "metadata": {},
   "outputs": [],
   "source": [
    "# input directories\n",
    "data_dirs = [\n",
    "    Path(\"C:/Users/ge37voy/data/2301_CRC/2301-01_20230504/01_xenium_data/output-XETG00050__0003621__Region_1__20230504__121954\"),\n",
    "    Path(\"C:/Users/ge37voy/data/datasets/Xenium_FFPE_Human_Breast_Cancer_Rep1_outs/output-XETG00000__slide_id__sample_id/\"),\n",
    "    Path(\"C:/Users/ge37voy/data/20230811__134602__2314_OTCs_Wollenberg/output-XETG00050__0003555__OTC0304-1__20230811__134819\")\n",
    "]"
   ]
  },
  {
   "cell_type": "code",
   "execution_count": 4,
   "id": "5e10c02a",
   "metadata": {},
   "outputs": [],
   "source": [
    "img_dirs = [elem.parent / \"unregistered_images\" for elem in data_dirs]"
   ]
  },
  {
   "cell_type": "code",
   "execution_count": 5,
   "id": "b3558328",
   "metadata": {},
   "outputs": [],
   "source": [
    "i = 1\n",
    "data_dir = data_dirs[i]\n",
    "img_dir = img_dirs[i]"
   ]
  },
  {
   "cell_type": "code",
   "execution_count": 6,
   "id": "5bd9234a",
   "metadata": {},
   "outputs": [],
   "source": [
    "xd = XeniumData(data_dir)"
   ]
  },
  {
   "cell_type": "code",
   "execution_count": 7,
   "id": "84c51a3e",
   "metadata": {},
   "outputs": [
    {
     "data": {
      "text/plain": [
       "\u001b[1m\u001b[31mXeniumData\u001b[0m\n",
       "\u001b[1mSlide ID:\u001b[0m\tslide_id\n",
       "\u001b[1mRegion ID:\u001b[0m\tsample_id\n",
       "\u001b[1mData path:\u001b[0m\tC:\\Users\\ge37voy\\data\\datasets\\Xenium_FFPE_Human_Breast_Cancer_Rep1_outs\n",
       "\u001b[1mData folder:\u001b[0m\toutput-XETG00000__slide_id__sample_id\n",
       "\u001b[1mMetadata file:\u001b[0m\texperiment_modified.xenium"
      ]
     },
     "execution_count": 7,
     "metadata": {},
     "output_type": "execute_result"
    }
   ],
   "source": [
    "xd"
   ]
  },
  {
   "cell_type": "markdown",
   "id": "7d211978",
   "metadata": {},
   "source": [
    "## Read different data modalities"
   ]
  },
  {
   "cell_type": "code",
   "execution_count": 8,
   "id": "4baf3892",
   "metadata": {},
   "outputs": [
    {
     "name": "stdout",
     "output_type": "stream",
     "text": [
      "No folder named `annotations` found. Function `read_annotations()` was skipped.\n",
      "Running read_boundaries()\n",
      "Running read_images()\n",
      "Running read_matrix()\n",
      "Running read_transcripts()\n"
     ]
    }
   ],
   "source": [
    "xd.read_all()"
   ]
  },
  {
   "cell_type": "markdown",
   "id": "85acb3d5",
   "metadata": {},
   "source": [
    "### Show overview of data"
   ]
  },
  {
   "cell_type": "code",
   "execution_count": 9,
   "id": "64829495",
   "metadata": {},
   "outputs": [
    {
     "data": {
      "text/plain": [
       "\u001b[1m\u001b[31mXeniumData\u001b[0m\n",
       "\u001b[1mSlide ID:\u001b[0m\tslide_id\n",
       "\u001b[1mRegion ID:\u001b[0m\tsample_id\n",
       "\u001b[1mData path:\u001b[0m\tC:\\Users\\ge37voy\\data\\datasets\\Xenium_FFPE_Human_Breast_Cancer_Rep1_outs\n",
       "\u001b[1mData folder:\u001b[0m\toutput-XETG00000__slide_id__sample_id\n",
       "\u001b[1mMetadata file:\u001b[0m\texperiment_modified.xenium\n",
       "    ➤ \u001b[34m\u001b[1mimages\u001b[0m\n",
       "       \u001b[1mnuclei:\u001b[0m\t(25778, 35416)\n",
       "       \u001b[1mCD20:\u001b[0m\t(25778, 35416)\n",
       "       \u001b[1mHER2:\u001b[0m\t(25778, 35416)\n",
       "       \u001b[1mHE:\u001b[0m\t(25778, 35416, 3)\n",
       "    ➤\u001b[32m\u001b[1m matrix\u001b[0m\n",
       "       AnnData object with n_obs × n_vars = 167780 × 313\n",
       "\t       obs: 'transcript_counts', 'control_probe_counts', 'control_codeword_counts', 'total_counts', 'cell_area', 'nucleus_area'\n",
       "\t       var: 'gene_ids', 'feature_types', 'genome'\n",
       "\t       obsm: 'spatial'\n",
       "    ➤\u001b[96m\u001b[1m transcripts\u001b[0m\n",
       "\t   DataFrame with shape 42638083 x 8\n",
       "    ➤ \u001b[95m\u001b[1mboundaries\u001b[0m\n",
       "       \u001b[1mcells\u001b[0m\n",
       "       \u001b[1mnuclei\u001b[0m"
      ]
     },
     "execution_count": 9,
     "metadata": {},
     "output_type": "execute_result"
    }
   ],
   "source": [
    "xd"
   ]
  },
  {
   "cell_type": "markdown",
   "id": "dd3f9616",
   "metadata": {},
   "source": [
    "## View data interactively"
   ]
  },
  {
   "cell_type": "code",
   "execution_count": 10,
   "id": "d0e70aaa",
   "metadata": {},
   "outputs": [
    {
     "data": {
      "text/plain": [
       "Viewer(camera=Camera(center=(0.0, 2738.80625, 3762.84375), zoom=0.11358912648431078, angles=(0.0, 0.0, 90.0), perspective=0.0, mouse_pan=True, mouse_zoom=True), cursor=Cursor(position=(1.0, 1.0), scaled=True, size=1, style=<CursorStyle.STANDARD: 'standard'>), dims=Dims(ndim=2, ndisplay=2, last_used=0, range=((0.0, 5477.825, 0.2125), (0.0, 7525.9, 0.2125)), current_step=(12888, 17707), order=(0, 1), axis_labels=('0', '1')), grid=GridCanvas(stride=1, shape=(-1, -1), enabled=False), layers=[<Image layer 'nuclei' at 0x208899d13a0>, <Image layer 'CD20' at 0x20889a2b5e0>, <Image layer 'HER2' at 0x2088a100f70>, <Image layer 'HE' at 0x2099cfb3790>], help='use <2> for transform', status='Ready', tooltip=Tooltip(visible=False, text=''), theme='dark', title='napari', mouse_over_canvas=False, mouse_move_callbacks=[], mouse_drag_callbacks=[], mouse_double_click_callbacks=[], mouse_wheel_callbacks=[<function dims_scroll at 0x0000020872DF4B80>], _persisted_mouse_event={}, _mouse_drag_gen={}, _mouse_wheel_gen={}, keymap={})"
      ]
     },
     "execution_count": 10,
     "metadata": {},
     "output_type": "execute_result"
    }
   ],
   "source": [
    "xd.show()"
   ]
  },
  {
   "cell_type": "markdown",
   "id": "860ca7ae",
   "metadata": {},
   "source": [
    "## Crop data"
   ]
  },
  {
   "cell_type": "code",
   "execution_count": 11,
   "id": "30326cd2",
   "metadata": {},
   "outputs": [
    {
     "name": "stdout",
     "output_type": "stream",
     "text": [
      "napari.Viewer: napari\n"
     ]
    },
    {
     "name": "stderr",
     "output_type": "stream",
     "text": [
      "c:\\Users\\ge37voy\\AppData\\Local\\miniconda3\\envs\\xparse\\lib\\site-packages\\anndata\\_core\\anndata.py:1113: FutureWarning: is_categorical_dtype is deprecated and will be removed in a future version. Use isinstance(dtype, CategoricalDtype) instead\n",
      "  if not is_categorical_dtype(df_full[k]):\n"
     ]
    }
   ],
   "source": [
    "xx = xd.crop(shape_layer=\"Shapes\", inplace=False)"
   ]
  },
  {
   "cell_type": "code",
   "execution_count": 12,
   "id": "3ae0fb8a",
   "metadata": {},
   "outputs": [
    {
     "data": {
      "text/plain": [
       "\u001b[1m\u001b[31mXeniumData\u001b[0m\n",
       "\u001b[1mSlide ID:\u001b[0m\tslide_id\n",
       "\u001b[1mRegion ID:\u001b[0m\tsample_id\n",
       "\u001b[1mData path:\u001b[0m\tC:\\Users\\ge37voy\\data\\datasets\\Xenium_FFPE_Human_Breast_Cancer_Rep1_outs\n",
       "\u001b[1mData folder:\u001b[0m\toutput-XETG00000__slide_id__sample_id\n",
       "\u001b[1mMetadata file:\u001b[0m\texperiment_modified.xenium\n",
       "    ➤ \u001b[34m\u001b[1mimages\u001b[0m\n",
       "       \u001b[1mnuclei:\u001b[0m\t(9340, 9191)\n",
       "       \u001b[1mCD20:\u001b[0m\t(9340, 9191)\n",
       "       \u001b[1mHER2:\u001b[0m\t(9340, 9191)\n",
       "       \u001b[1mHE:\u001b[0m\t(9340, 9191, 3)\n",
       "    ➤\u001b[32m\u001b[1m matrix\u001b[0m\n",
       "       AnnData object with n_obs × n_vars = 24279 × 313\n",
       "\t       obs: 'transcript_counts', 'control_probe_counts', 'control_codeword_counts', 'total_counts', 'cell_area', 'nucleus_area'\n",
       "\t       var: 'gene_ids', 'feature_types', 'genome'\n",
       "\t       obsm: 'spatial'\n",
       "    ➤\u001b[96m\u001b[1m transcripts\u001b[0m\n",
       "\t   DataFrame with shape 6038786 x 8\n",
       "    ➤ \u001b[95m\u001b[1mboundaries\u001b[0m\n",
       "       \u001b[1mcells\u001b[0m\n",
       "       \u001b[1mnuclei\u001b[0m"
      ]
     },
     "execution_count": 12,
     "metadata": {},
     "output_type": "execute_result"
    }
   ],
   "source": [
    "xx"
   ]
  },
  {
   "cell_type": "markdown",
   "id": "309ad28f",
   "metadata": {},
   "source": [
    "## Perform preprocessing steps"
   ]
  },
  {
   "cell_type": "code",
   "execution_count": 13,
   "id": "ef75db44",
   "metadata": {},
   "outputs": [
    {
     "name": "stdout",
     "output_type": "stream",
     "text": [
      "Store raw counts in anndata.layers['counts']...\n",
      "Normalization, log-transformation...\n",
      "Calculate highly-variable genes across all samples using seurat flavor...\n"
     ]
    },
    {
     "name": "stderr",
     "output_type": "stream",
     "text": [
      "c:\\Users\\ge37voy\\AppData\\Local\\miniconda3\\envs\\xparse\\lib\\site-packages\\scanpy\\preprocessing\\_highly_variable_genes.py:215: FutureWarning: The default of observed=False is deprecated and will be changed to True in a future version of pandas. Pass observed=False to retain current behavior or observed=True to adopt the future default and silence this warning.\n",
      "  disp_grouped = df.groupby('mean_bin')['dispersions']\n",
      "c:\\Users\\ge37voy\\AppData\\Local\\miniconda3\\envs\\xparse\\lib\\site-packages\\anndata\\_core\\anndata.py:1113: FutureWarning: is_categorical_dtype is deprecated and will be removed in a future version. Use isinstance(dtype, CategoricalDtype) instead\n",
      "  if not is_categorical_dtype(df_full[k]):\n"
     ]
    },
    {
     "name": "stdout",
     "output_type": "stream",
     "text": [
      "Dimensionality reduction...\n",
      "Leiden clustering...\n"
     ]
    }
   ],
   "source": [
    "xx.normalize()\n",
    "xx.hvg()\n",
    "xx.reduce_dimensions(umap=True, tsne=False)"
   ]
  },
  {
   "cell_type": "code",
   "execution_count": 14,
   "id": "cc403a8b",
   "metadata": {},
   "outputs": [
    {
     "data": {
      "text/plain": [
       "Viewer(camera=Camera(center=(0.0, 992.26875, 976.4375), zoom=0.31350112446601314, angles=(0.0, 0.0, 90.0), perspective=0.0, mouse_pan=True, mouse_zoom=True), cursor=Cursor(position=(1.0, 1.0), scaled=True, size=1, style=<CursorStyle.STANDARD: 'standard'>), dims=Dims(ndim=2, ndisplay=2, last_used=0, range=((0.0, 1984.9850244253673, 0.2125), (0.0, 1953.0875, 0.2125)), current_step=(4669, 4595), order=(0, 1), axis_labels=('0', '1')), grid=GridCanvas(stride=1, shape=(-1, -1), enabled=False), layers=[<Image layer 'nuclei' at 0x209b5f4c640>, <Image layer 'CD20' at 0x209bdc2a9d0>, <Image layer 'HER2' at 0x2099eb26940>, <Image layer 'HE' at 0x209b3bcce80>, <Points layer '2' at 0x209aca3fc70>, <Points layer '7' at 0x209ac901910>, <Points layer '5' at 0x209bd927700>, <Points layer '4' at 0x209aa005df0>, <Points layer '6' at 0x209b7864b80>, <Points layer '8' at 0x209bc28e8b0>, <Points layer '11' at 0x209b605bb80>, <Points layer '3' at 0x209bd8a3fd0>, <Points layer '0' at 0x209bdc32340>, <Points layer '14' at 0x209d1ceaee0>, <Points layer '1' at 0x209d237beb0>, <Points layer '15' at 0x209d291ba00>, <Points layer '9' at 0x209d31d45b0>, <Points layer '13' at 0x209d3262c10>, <Points layer '10' at 0x209bdc3df40>, <Points layer '12' at 0x209d3f60550>], help='use <5> for transform, use <2> for add points, use <3> for select points', status='Ready', tooltip=Tooltip(visible=False, text=''), theme='dark', title='napari', mouse_over_canvas=False, mouse_move_callbacks=[], mouse_drag_callbacks=[], mouse_double_click_callbacks=[], mouse_wheel_callbacks=[<function dims_scroll at 0x0000020872DF4B80>], _persisted_mouse_event={}, _mouse_drag_gen={}, _mouse_wheel_gen={}, keymap={})"
      ]
     },
     "execution_count": 14,
     "metadata": {},
     "output_type": "execute_result"
    },
    {
     "name": "stderr",
     "output_type": "stream",
     "text": [
      "c:\\Users\\ge37voy\\AppData\\Local\\miniconda3\\envs\\xparse\\lib\\site-packages\\napari\\layers\\image\\image.py:761: UserWarning: Multiscale rendering is only supported in 2D. In 3D, only the lowest resolution scale is displayed\n",
      "  warnings.warn(\n",
      "c:\\Users\\ge37voy\\AppData\\Local\\miniconda3\\envs\\xparse\\lib\\site-packages\\napari\\layers\\image\\image.py:761: UserWarning: Multiscale rendering is only supported in 2D. In 3D, only the lowest resolution scale is displayed\n",
      "  warnings.warn(\n",
      "c:\\Users\\ge37voy\\AppData\\Local\\miniconda3\\envs\\xparse\\lib\\site-packages\\napari\\layers\\image\\image.py:761: UserWarning: Multiscale rendering is only supported in 2D. In 3D, only the lowest resolution scale is displayed\n",
      "  warnings.warn(\n",
      "c:\\Users\\ge37voy\\AppData\\Local\\miniconda3\\envs\\xparse\\lib\\site-packages\\napari\\layers\\image\\image.py:761: UserWarning: Multiscale rendering is only supported in 2D. In 3D, only the lowest resolution scale is displayed\n",
      "  warnings.warn(\n",
      "c:\\Users\\ge37voy\\AppData\\Local\\miniconda3\\envs\\xparse\\lib\\site-packages\\napari\\layers\\image\\image.py:761: UserWarning: Multiscale rendering is only supported in 2D. In 3D, only the lowest resolution scale is displayed\n",
      "  warnings.warn(\n",
      "c:\\Users\\ge37voy\\AppData\\Local\\miniconda3\\envs\\xparse\\lib\\site-packages\\napari\\layers\\image\\image.py:761: UserWarning: Multiscale rendering is only supported in 2D. In 3D, only the lowest resolution scale is displayed\n",
      "  warnings.warn(\n",
      "c:\\Users\\ge37voy\\AppData\\Local\\miniconda3\\envs\\xparse\\lib\\site-packages\\napari\\layers\\image\\image.py:761: UserWarning: Multiscale rendering is only supported in 2D. In 3D, only the lowest resolution scale is displayed\n",
      "  warnings.warn(\n",
      "c:\\Users\\ge37voy\\AppData\\Local\\miniconda3\\envs\\xparse\\lib\\site-packages\\napari\\layers\\image\\image.py:761: UserWarning: Multiscale rendering is only supported in 2D. In 3D, only the lowest resolution scale is displayed\n",
      "  warnings.warn(\n",
      "c:\\Users\\ge37voy\\AppData\\Local\\miniconda3\\envs\\xparse\\lib\\site-packages\\napari\\layers\\image\\image.py:761: UserWarning: Multiscale rendering is only supported in 2D. In 3D, only the lowest resolution scale is displayed\n",
      "  warnings.warn(\n",
      "c:\\Users\\ge37voy\\AppData\\Local\\miniconda3\\envs\\xparse\\lib\\site-packages\\napari\\layers\\image\\image.py:761: UserWarning: Multiscale rendering is only supported in 2D. In 3D, only the lowest resolution scale is displayed\n",
      "  warnings.warn(\n",
      "c:\\Users\\ge37voy\\AppData\\Local\\miniconda3\\envs\\xparse\\lib\\site-packages\\napari\\layers\\image\\image.py:761: UserWarning: Multiscale rendering is only supported in 2D. In 3D, only the lowest resolution scale is displayed\n",
      "  warnings.warn(\n",
      "c:\\Users\\ge37voy\\AppData\\Local\\miniconda3\\envs\\xparse\\lib\\site-packages\\napari\\layers\\image\\image.py:761: UserWarning: Multiscale rendering is only supported in 2D. In 3D, only the lowest resolution scale is displayed\n",
      "  warnings.warn(\n"
     ]
    }
   ],
   "source": [
    "xx.show(cell_type_key=\"leiden\")"
   ]
  },
  {
   "cell_type": "markdown",
   "id": "9808c51f",
   "metadata": {},
   "source": [
    "## Save results"
   ]
  },
  {
   "cell_type": "code",
   "execution_count": 15,
   "id": "00effeae",
   "metadata": {},
   "outputs": [],
   "source": [
    "out_dir = data_dir.parent / \"cropped_processed\""
   ]
  },
  {
   "cell_type": "code",
   "execution_count": 16,
   "id": "0b2e2a2c",
   "metadata": {},
   "outputs": [],
   "source": [
    "xx.save(out_dir)"
   ]
  },
  {
   "cell_type": "code",
   "execution_count": null,
   "id": "ea88cfcc",
   "metadata": {},
   "outputs": [],
   "source": []
  }
 ],
 "metadata": {
  "kernelspec": {
   "display_name": "xdata",
   "language": "python",
   "name": "python3"
  },
  "language_info": {
   "codemirror_mode": {
    "name": "ipython",
    "version": 3
   },
   "file_extension": ".py",
   "mimetype": "text/x-python",
   "name": "python",
   "nbconvert_exporter": "python",
   "pygments_lexer": "ipython3",
   "version": "3.9.18"
  }
 },
 "nbformat": 4,
 "nbformat_minor": 5
}
