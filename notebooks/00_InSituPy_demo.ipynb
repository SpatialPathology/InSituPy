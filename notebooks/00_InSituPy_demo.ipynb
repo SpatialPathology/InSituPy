{
 "cells": [
  {
   "cell_type": "markdown",
   "id": "b16df72d-5dd5-47da-a8c3-b569fe97446b",
   "metadata": {
    "tags": []
   },
   "source": [
    "# InSituPy demonstration\n",
    "Example dataset: https://www.10xgenomics.com/products/xenium-in-situ/preview-dataset-human-breast"
   ]
  },
  {
   "cell_type": "code",
   "execution_count": 1,
   "id": "8bc0c4ed-3587-460e-98d2-6626a020a327",
   "metadata": {},
   "outputs": [],
   "source": [
    "## The following code ensures that all functions and init files are reloaded before executions.\n",
    "%load_ext autoreload\n",
    "%autoreload 2"
   ]
  },
  {
   "cell_type": "code",
   "execution_count": 2,
   "id": "58107e0b-5017-425b-8cd0-9274be2b8253",
   "metadata": {},
   "outputs": [],
   "source": [
    "from insitupy import XeniumData\n",
    "from pathlib import Path"
   ]
  },
  {
   "cell_type": "markdown",
   "id": "29ea60ad",
   "metadata": {},
   "source": [
    "## Load data"
   ]
  },
  {
   "cell_type": "code",
   "execution_count": 3,
   "id": "f6b43806",
   "metadata": {},
   "outputs": [],
   "source": [
    "# input directories\n",
    "data_dirs = [\n",
    "    Path(\"C:/Users/ge37voy/data/2301_CRC/2301-01_20230504/01_xenium_data/output-XETG00050__0003621__Region_1__20230504__121954\"),\n",
    "    Path(\"C:/Users/ge37voy/data/datasets/Xenium_FFPE_Human_Breast_Cancer_Rep1_outs/output-XETG00000__slide_id__sample_id/\"),\n",
    "    Path(\"C:/Users/ge37voy/data/20230811__134602__2314_OTCs_Wollenberg/output-XETG00050__0003555__OTC0304-1__20230811__134819\")\n",
    "]"
   ]
  },
  {
   "cell_type": "code",
   "execution_count": 4,
   "id": "5e10c02a",
   "metadata": {},
   "outputs": [],
   "source": [
    "img_dirs = [elem.parent / \"unregistered_images\" for elem in data_dirs]"
   ]
  },
  {
   "cell_type": "code",
   "execution_count": 5,
   "id": "b3558328",
   "metadata": {},
   "outputs": [],
   "source": [
    "i = 0\n",
    "data_dir = data_dirs[i]\n",
    "img_dir = img_dirs[i]"
   ]
  },
  {
   "cell_type": "code",
   "execution_count": 6,
   "id": "3dbd8811",
   "metadata": {},
   "outputs": [
    {
     "data": {
      "text/plain": [
       "WindowsPath('C:/Users/ge37voy/data/2301_CRC/2301-01_20230504/01_xenium_data/output-XETG00050__0003621__Region_1__20230504__121954')"
      ]
     },
     "execution_count": 6,
     "metadata": {},
     "output_type": "execute_result"
    }
   ],
   "source": [
    "data_dir"
   ]
  },
  {
   "cell_type": "code",
   "execution_count": 7,
   "id": "5bd9234a",
   "metadata": {},
   "outputs": [],
   "source": [
    "xd = XeniumData(data_dir)"
   ]
  },
  {
   "cell_type": "code",
   "execution_count": 8,
   "id": "84c51a3e",
   "metadata": {},
   "outputs": [
    {
     "data": {
      "text/plain": [
       "\u001b[1m\u001b[31mXeniumData\u001b[0m\n",
       "\u001b[1mSlide ID:\u001b[0m\t0003621\n",
       "\u001b[1mRegion ID:\u001b[0m\tRegion_1\n",
       "\u001b[1mData path:\u001b[0m\tC:\\Users\\ge37voy\\data\\2301_CRC\\2301-01_20230504\\01_xenium_data\n",
       "\u001b[1mData folder:\u001b[0m\toutput-XETG00050__0003621__Region_1__20230504__121954\n",
       "\u001b[1mMetadata file:\u001b[0m\texperiment_modified.xenium"
      ]
     },
     "execution_count": 8,
     "metadata": {},
     "output_type": "execute_result"
    }
   ],
   "source": [
    "xd"
   ]
  },
  {
   "cell_type": "markdown",
   "id": "7d211978",
   "metadata": {},
   "source": [
    "## Read different data modalities"
   ]
  },
  {
   "cell_type": "code",
   "execution_count": 9,
   "id": "158d0088",
   "metadata": {},
   "outputs": [],
   "source": [
    "xd.read_annotations()\n",
    "xd.read_images()\n",
    "xd.read_matrix()"
   ]
  },
  {
   "cell_type": "markdown",
   "id": "85acb3d5",
   "metadata": {},
   "source": [
    "### Show overview of data"
   ]
  },
  {
   "cell_type": "code",
   "execution_count": 13,
   "id": "64829495",
   "metadata": {},
   "outputs": [
    {
     "data": {
      "text/plain": [
       "\u001b[1m\u001b[31mXeniumData\u001b[0m\n",
       "\u001b[1mSlide ID:\u001b[0m\t0003621\n",
       "\u001b[1mRegion ID:\u001b[0m\tRegion_1\n",
       "\u001b[1mData path:\u001b[0m\tC:\\Users\\ge37voy\\data\\2301_CRC\\2301-01_20230504\\01_xenium_data\n",
       "\u001b[1mData folder:\u001b[0m\toutput-XETG00050__0003621__Region_1__20230504__121954\n",
       "\u001b[1mMetadata file:\u001b[0m\texperiment_modified.xenium\n",
       "    ➤ \u001b[34m\u001b[1mimages\u001b[0m\n",
       "       \u001b[1mnuclei:\u001b[0m\t(27352, 34139)\n",
       "       \u001b[1mHE:\u001b[0m\t(27352, 34139, 3)\n",
       "       \u001b[1mpanCK:\u001b[0m\t(27352, 34139, 3)\n",
       "    ➤\u001b[32m\u001b[1m matrix\u001b[0m\n",
       "       AnnData object with n_obs × n_vars = 151305 × 280\n",
       "\t       obs: 'transcript_counts', 'control_probe_counts', 'control_codeword_counts', 'unassigned_codeword_counts', 'total_counts', 'cell_area', 'nucleus_area'\n",
       "\t       var: 'gene_ids', 'feature_types', 'genome'\n",
       "\t       obsm: 'spatial'\n",
       "    ➤ \u001b[36m\u001b[1mannotations\u001b[0m\n",
       "       \u001b[1mtanja:\u001b[0m\t41 annotations, 5 classes ('Tumor', 'Fat', 'Mucus', 'Immune cells', 'Peritumoral Zone') "
      ]
     },
     "execution_count": 13,
     "metadata": {},
     "output_type": "execute_result"
    }
   ],
   "source": [
    "xd"
   ]
  },
  {
   "cell_type": "markdown",
   "id": "dd3f9616",
   "metadata": {},
   "source": [
    "## View data interactively"
   ]
  },
  {
   "cell_type": "code",
   "execution_count": 16,
   "id": "b0f5c559",
   "metadata": {},
   "outputs": [
    {
     "data": {
      "text/plain": [
       "Viewer(camera=Camera(center=(0.0, 2906.04375, 3627.1625), zoom=0.06652388246666312, angles=(0.0, 0.0, 90.0), perspective=0.0, mouse_pan=True, mouse_zoom=True), cursor=Cursor(position=(1.0, 1.0), scaled=True, size=1, style=<CursorStyle.STANDARD: 'standard'>), dims=Dims(ndim=2, ndisplay=2, last_used=0, range=((0.0, 5812.299999999999, 0.2125), (0.0, 7254.537499999999, 0.2125)), current_step=(13675, 17069), order=(0, 1), axis_labels=('0', '1')), grid=GridCanvas(stride=1, shape=(-1, -1), enabled=False), layers=[<Image layer 'nuclei' at 0x14284bf26d0>, <Image layer 'HE' at 0x14285b69eb0>, <Image layer 'panCK' at 0x14287c81fd0>], help='use <2> for transform', status='Ready', tooltip=Tooltip(visible=False, text=''), theme='dark', title='napari', mouse_over_canvas=False, mouse_move_callbacks=[], mouse_drag_callbacks=[], mouse_double_click_callbacks=[], mouse_wheel_callbacks=[<function dims_scroll at 0x00000142F1EBA8B0>], _persisted_mouse_event={}, _mouse_drag_gen={}, _mouse_wheel_gen={}, keymap={})"
      ]
     },
     "execution_count": 16,
     "metadata": {},
     "output_type": "execute_result"
    }
   ],
   "source": [
    "xd.show()"
   ]
  },
  {
   "cell_type": "markdown",
   "id": "01c09ebf",
   "metadata": {},
   "source": [
    "### Crop data"
   ]
  },
  {
   "cell_type": "code",
   "execution_count": 13,
   "id": "30326cd2",
   "metadata": {},
   "outputs": [
    {
     "name": "stdout",
     "output_type": "stream",
     "text": [
      "napari.Viewer: napari\n"
     ]
    },
    {
     "name": "stderr",
     "output_type": "stream",
     "text": [
      "c:\\Users\\ge37voy\\AppData\\Local\\miniconda3\\envs\\xparse\\lib\\site-packages\\anndata\\_core\\anndata.py:1113: FutureWarning: is_categorical_dtype is deprecated and will be removed in a future version. Use isinstance(dtype, CategoricalDtype) instead\n",
      "  if not is_categorical_dtype(df_full[k]):\n"
     ]
    }
   ],
   "source": [
    "xx = xd.crop(shape_layer=\"crop\", inplace=False)"
   ]
  },
  {
   "cell_type": "code",
   "execution_count": 14,
   "id": "3ae0fb8a",
   "metadata": {},
   "outputs": [
    {
     "data": {
      "text/plain": [
       "\u001b[1m\u001b[31mXeniumData\u001b[0m\n",
       "\u001b[1mSlide ID:\u001b[0m\t0003621\n",
       "\u001b[1mRegion ID:\u001b[0m\tRegion_1\n",
       "\u001b[1mData path:\u001b[0m\tC:\\Users\\ge37voy\\data\\2301_CRC\\2301-01_20230504\\01_xenium_data\n",
       "\u001b[1mData folder:\u001b[0m\toutput-XETG00050__0003621__Region_1__20230504__121954\n",
       "\u001b[1mMetadata file:\u001b[0m\texperiment_modified.xenium\n",
       "    ➤ \u001b[34m\u001b[1mimages\u001b[0m\n",
       "       \u001b[1mnuclei:\u001b[0m\t(3239, 4530)\n",
       "       \u001b[1mHE:\u001b[0m\t(3239, 4530, 3)\n",
       "       \u001b[1mpanCK:\u001b[0m\t(3239, 4530, 3)\n",
       "    ➤\u001b[32m\u001b[1m matrix\u001b[0m\n",
       "       AnnData object with n_obs × n_vars = 5463 × 280\n",
       "\t       obs: 'transcript_counts', 'control_probe_counts', 'control_codeword_counts', 'unassigned_codeword_counts', 'total_counts', 'cell_area', 'nucleus_area'\n",
       "\t       var: 'gene_ids', 'feature_types', 'genome'\n",
       "\t       obsm: 'spatial'\n",
       "    ➤ \u001b[36m\u001b[1mannotations\u001b[0m\n",
       "       \u001b[1mtanja:\u001b[0m\t2 annotations, 2 classes ('Tumor', 'Peritumoral Zone') "
      ]
     },
     "execution_count": 14,
     "metadata": {},
     "output_type": "execute_result"
    }
   ],
   "source": [
    "xx"
   ]
  },
  {
   "cell_type": "code",
   "execution_count": 17,
   "id": "07ba80da",
   "metadata": {},
   "outputs": [
    {
     "data": {
      "text/plain": [
       "Index(['transcript_counts', 'control_probe_counts', 'control_codeword_counts',\n",
       "       'unassigned_codeword_counts', 'total_counts', 'cell_area',\n",
       "       'nucleus_area'],\n",
       "      dtype='object')"
      ]
     },
     "execution_count": 17,
     "metadata": {},
     "output_type": "execute_result"
    }
   ],
   "source": [
    "xx.matrix.obs.columns"
   ]
  },
  {
   "cell_type": "code",
   "execution_count": 47,
   "id": "db11f569",
   "metadata": {},
   "outputs": [
    {
     "data": {
      "text/plain": [
       "aalncfpb-1     92\n",
       "aalndmje-1    125\n",
       "aalnkbfm-1    208\n",
       "aalobdob-1     69\n",
       "aalocmdk-1     33\n",
       "             ... \n",
       "lagebbcc-1    124\n",
       "lagegmnl-1     25\n",
       "lagejmkl-1     48\n",
       "lagepcdm-1    146\n",
       "lagfcing-1    179\n",
       "Name: total_counts, Length: 5463, dtype: category\n",
       "Categories (470, int64): [0, 1, 2, 3, ..., 648, 672, 741, 755]"
      ]
     },
     "execution_count": 47,
     "metadata": {},
     "output_type": "execute_result"
    }
   ],
   "source": [
    "xx.matrix.obs[\"total_counts\"].astype(\"category\")"
   ]
  },
  {
   "cell_type": "code",
   "execution_count": 11,
   "id": "cb990c93",
   "metadata": {},
   "outputs": [
    {
     "ename": "NameError",
     "evalue": "name 'xx' is not defined",
     "output_type": "error",
     "traceback": [
      "\u001b[1;31m---------------------------------------------------------------------------\u001b[0m",
      "\u001b[1;31mNameError\u001b[0m                                 Traceback (most recent call last)",
      "\u001b[1;32mc:\\Users\\ge37voy\\Github\\InSituPy\\notebooks\\00_InSituPy_demo.ipynb Cell 22\u001b[0m line \u001b[0;36m1\n\u001b[1;32m----> <a href='vscode-notebook-cell:/c%3A/Users/ge37voy/Github/InSituPy/notebooks/00_InSituPy_demo.ipynb#X30sZmlsZQ%3D%3D?line=0'>1</a>\u001b[0m xx\u001b[39m.\u001b[39mshow()\n",
      "\u001b[1;31mNameError\u001b[0m: name 'xx' is not defined"
     ]
    }
   ],
   "source": [
    "xx.show()"
   ]
  },
  {
   "cell_type": "markdown",
   "id": "309ad28f",
   "metadata": {},
   "source": [
    "## Perform preprocessing steps"
   ]
  },
  {
   "cell_type": "code",
   "execution_count": 48,
   "id": "ef75db44",
   "metadata": {},
   "outputs": [
    {
     "name": "stdout",
     "output_type": "stream",
     "text": [
      "Store raw counts in anndata.layers['counts']...\n",
      "Normalization, log-transformation...\n",
      "Calculate highly-variable genes across all samples using seurat flavor...\n"
     ]
    },
    {
     "name": "stderr",
     "output_type": "stream",
     "text": [
      "c:\\Users\\ge37voy\\AppData\\Local\\miniconda3\\envs\\xparse\\lib\\site-packages\\scanpy\\preprocessing\\_normalization.py:196: UserWarning: Some cells have zero counts\n",
      "  warn(UserWarning('Some cells have zero counts'))\n",
      "c:\\Users\\ge37voy\\AppData\\Local\\miniconda3\\envs\\xparse\\lib\\site-packages\\scanpy\\preprocessing\\_highly_variable_genes.py:215: FutureWarning: The default of observed=False is deprecated and will be changed to True in a future version of pandas. Pass observed=False to retain current behavior or observed=True to adopt the future default and silence this warning.\n",
      "  disp_grouped = df.groupby('mean_bin')['dispersions']\n",
      "c:\\Users\\ge37voy\\AppData\\Local\\miniconda3\\envs\\xparse\\lib\\site-packages\\anndata\\_core\\anndata.py:1113: FutureWarning: is_categorical_dtype is deprecated and will be removed in a future version. Use isinstance(dtype, CategoricalDtype) instead\n",
      "  if not is_categorical_dtype(df_full[k]):\n"
     ]
    },
    {
     "name": "stdout",
     "output_type": "stream",
     "text": [
      "Dimensionality reduction...\n",
      "Leiden clustering...\n"
     ]
    }
   ],
   "source": [
    "xx.normalize()\n",
    "xx.hvg()\n",
    "xx.reduce_dimensions(umap=True, tsne=False)"
   ]
  },
  {
   "cell_type": "code",
   "execution_count": 71,
   "id": "e81868c4",
   "metadata": {},
   "outputs": [
    {
     "name": "stderr",
     "output_type": "stream",
     "text": [
      "WARNING: QWindowsWindow::setGeometry: Unable to set geometry 853x533+2724-1023 (frame: 869x572+2716-1054) on QWidgetWindow/\"_QtMainWindowClassWindow\" on \"\\\\.\\DISPLAY28\". Resulting geometry: 567x653+2721-1037 (frame: 583x692+2713-1068) margins: 8, 31, 8, 8 minimum size: 385x492 MINMAXINFO maxSize=0,0 maxpos=0,0 mintrack=401,531 maxtrack=0,0)\n"
     ]
    },
    {
     "data": {
      "text/plain": [
       "Viewer(camera=Camera(center=(0.0, 344.0375, 481.20625), zoom=1.2128338525422735, angles=(0.0, 0.0, 90.0), perspective=0.0, mouse_pan=True, mouse_zoom=True), cursor=Cursor(position=(1.0, 1.0), scaled=True, size=1, style=<CursorStyle.STANDARD: 'standard'>), dims=Dims(ndim=2, ndisplay=2, last_used=0, range=((0.0, 688.2875, 0.2125), (0.0, 962.625, 0.2125)), current_step=(1619, 2264), order=(0, 1), axis_labels=('0', '1')), grid=GridCanvas(stride=1, shape=(-1, -1), enabled=False), layers=[<Image layer 'nuclei' at 0x1a612167910>, <Image layer 'HE' at 0x1a612269940>, <Image layer 'panCK' at 0x1a61e6c3520>], help='use <2> for transform', status='Ready', tooltip=Tooltip(visible=False, text=''), theme='dark', title='napari', mouse_over_canvas=False, mouse_move_callbacks=[], mouse_drag_callbacks=[], mouse_double_click_callbacks=[], mouse_wheel_callbacks=[<function dims_scroll at 0x000001A48CCD4A60>], _persisted_mouse_event={}, _mouse_drag_gen={}, _mouse_wheel_gen={}, keymap={})"
      ]
     },
     "execution_count": 71,
     "metadata": {},
     "output_type": "execute_result"
    }
   ],
   "source": [
    "xx.show()"
   ]
  },
  {
   "cell_type": "code",
   "execution_count": 57,
   "id": "433bc4ed",
   "metadata": {},
   "outputs": [
    {
     "data": {
      "text/plain": [
       "Viewer(camera=Camera(center=(0.0, 344.0375, 481.20625), zoom=0.4608752110115569, angles=(0.0, 0.0, 90.0), perspective=0.0, mouse_pan=True, mouse_zoom=True), cursor=Cursor(position=(1.0, 1.0), scaled=True, size=1, style=<CursorStyle.STANDARD: 'standard'>), dims=Dims(ndim=2, ndisplay=2, last_used=0, range=((0.0, 688.4727430774632, 0.2125), (0.0, 962.7127100054628, 0.2125)), current_step=(1619, 2264), order=(0, 1), axis_labels=('0', '1')), grid=GridCanvas(stride=1, shape=(-1, -1), enabled=False), layers=[<Image layer 'nuclei' at 0x1a5f35fa910>, <Image layer 'HE' at 0x1a5ee1f4670>, <Image layer 'panCK' at 0x1a5f5863df0>, <Points layer 'leiden' at 0x1a5f7003700>, <Points layer 'ACTA2' at 0x1a5edb86d30>, <Points layer 'LYZ' at 0x1a5f72138e0>], help='use <5> for transform, use <2> for add points, use <3> for select points', status='Ready', tooltip=Tooltip(visible=False, text=''), theme='dark', title='napari', mouse_over_canvas=False, mouse_move_callbacks=[], mouse_drag_callbacks=[], mouse_double_click_callbacks=[], mouse_wheel_callbacks=[<function dims_scroll at 0x000001A48CCD4A60>], _persisted_mouse_event={}, _mouse_drag_gen={}, _mouse_wheel_gen={}, keymap={})"
      ]
     },
     "execution_count": 57,
     "metadata": {},
     "output_type": "execute_result"
    }
   ],
   "source": [
    "xx.show(keys=[\"leiden\", \"ACTA2\", \"LYZ\"])"
   ]
  },
  {
   "cell_type": "code",
   "execution_count": 72,
   "id": "516cc91b",
   "metadata": {},
   "outputs": [],
   "source": [
    "screenshot = xx.viewer.screenshot()"
   ]
  },
  {
   "cell_type": "markdown",
   "id": "9808c51f",
   "metadata": {},
   "source": [
    "## Save results"
   ]
  },
  {
   "cell_type": "code",
   "execution_count": 19,
   "id": "00effeae",
   "metadata": {},
   "outputs": [],
   "source": [
    "out_dir = data_dir.parent / \"cropped_processed\""
   ]
  },
  {
   "cell_type": "code",
   "execution_count": 21,
   "id": "0b2e2a2c",
   "metadata": {},
   "outputs": [],
   "source": [
    "xx.save(out_dir, overwrite=True)"
   ]
  },
  {
   "cell_type": "code",
   "execution_count": null,
   "id": "ea88cfcc",
   "metadata": {},
   "outputs": [],
   "source": []
  }
 ],
 "metadata": {
  "kernelspec": {
   "display_name": "xdata",
   "language": "python",
   "name": "python3"
  },
  "language_info": {
   "codemirror_mode": {
    "name": "ipython",
    "version": 3
   },
   "file_extension": ".py",
   "mimetype": "text/x-python",
   "name": "python",
   "nbconvert_exporter": "python",
   "pygments_lexer": "ipython3",
   "version": "3.9.18"
  }
 },
 "nbformat": 4,
 "nbformat_minor": 5
}
