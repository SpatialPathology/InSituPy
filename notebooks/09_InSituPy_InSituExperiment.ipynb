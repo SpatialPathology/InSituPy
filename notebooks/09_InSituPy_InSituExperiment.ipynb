{
 "cells": [
  {
   "cell_type": "markdown",
   "metadata": {},
   "source": [
    "# InSituPy demonstration - InSituExperiment"
   ]
  },
  {
   "cell_type": "code",
   "execution_count": 1,
   "metadata": {},
   "outputs": [],
   "source": [
    "## The following code ensures that all functions and init files are reloaded before executions.\n",
    "%load_ext autoreload\n",
    "%autoreload 2"
   ]
  },
  {
   "cell_type": "code",
   "execution_count": 2,
   "metadata": {},
   "outputs": [],
   "source": [
    "from pathlib import Path\n",
    "from insitupy import read_xenium\n",
    "import scanpy as sc\n",
    "from insitupy import InSituExperiment"
   ]
  },
  {
   "cell_type": "code",
   "execution_count": 3,
   "metadata": {},
   "outputs": [],
   "source": [
    "import warnings\n",
    "warnings.simplefilter(action='ignore', category=FutureWarning)"
   ]
  },
  {
   "cell_type": "markdown",
   "metadata": {},
   "source": [
    "### Load Xenium data into `InSituData` object\n",
    "\n",
    "Now the Xenium data can be parsed by providing the data path to the `InSituPy` project folder."
   ]
  },
  {
   "cell_type": "code",
   "execution_count": 4,
   "metadata": {},
   "outputs": [
    {
     "name": "stdout",
     "output_type": "stream",
     "text": [
      "Loading annotations...\n",
      "Loading cells...\n",
      "\tNo alternative cells found...\n",
      "Loading images...\n",
      "['nuclei', 'HE', 'DAPI']\n",
      "Loading regions...\n"
     ]
    }
   ],
   "source": [
    "insitupy_project = Path(\"demo_dataset/demo_insitupy_project\")\n",
    "xd = read_xenium(insitupy_project)\n",
    "xd.load_all(skip=\"transcripts\")"
   ]
  },
  {
   "cell_type": "markdown",
   "metadata": {},
   "source": [
    "### Create `InSituExperiment`\n",
    "\n",
    "#### Method 1: Manually add `InSituData` objects"
   ]
  },
  {
   "cell_type": "code",
   "execution_count": 5,
   "metadata": {},
   "outputs": [],
   "source": [
    "exp = InSituExperiment()\n",
    "exp.add(\n",
    "    data=xd,\n",
    "    metadata={\n",
    "        \"slide_id\": xd.slide_id,\n",
    "        \"sample_id\": xd.sample_id,\n",
    "        \"patient\": \"A\"\n",
    "    }\n",
    "    )"
   ]
  },
  {
   "cell_type": "code",
   "execution_count": 6,
   "metadata": {},
   "outputs": [
    {
     "data": {
      "text/plain": [
       "\u001b[1mInSituExperiment\u001b[0m with 1 samples:\n",
       "           uid slide_id    sample_id patient\n",
       "0     42542689  0001879  Replicate 1       A"
      ]
     },
     "execution_count": 6,
     "metadata": {},
     "output_type": "execute_result"
    }
   ],
   "source": [
    "exp"
   ]
  },
  {
   "cell_type": "markdown",
   "metadata": {},
   "source": [
    "In the same way also other datasets can be added. For demonstration purposes, we just add the same dataset again and change the metadata."
   ]
  },
  {
   "cell_type": "code",
   "execution_count": 7,
   "metadata": {},
   "outputs": [],
   "source": [
    "exp.add(\n",
    "    data=xd,\n",
    "    metadata={\n",
    "        \"slide_id\": xd.slide_id,\n",
    "        \"sample_id\": xd.sample_id,\n",
    "        \"patient\": \"A\",\n",
    "        \"therapy\": \"drugB\"\n",
    "    }\n",
    "    )"
   ]
  },
  {
   "cell_type": "code",
   "execution_count": 8,
   "metadata": {},
   "outputs": [
    {
     "data": {
      "text/plain": [
       "\u001b[1mInSituExperiment\u001b[0m with 2 samples:\n",
       "           uid slide_id    sample_id patient therapy\n",
       "0     42542689  0001879  Replicate 1       A     NaN\n",
       "1     512346d0  0001879  Replicate 1       A   drugB"
      ]
     },
     "execution_count": 8,
     "metadata": {},
     "output_type": "execute_result"
    }
   ],
   "source": [
    "exp"
   ]
  },
  {
   "cell_type": "markdown",
   "metadata": {},
   "source": [
    "#### Method 2: From config file\n",
    "\n",
    "As config file either a csv file or an excel file can be used.\n",
    "\n",
    "Example of a valid configuration file:\n",
    "\n",
    "| directory         | experiment_name | date       | patient    |\n",
    "|-------------------|-----------------|------------|------------|\n",
    "| /path/to/dataset1 | Experiment 1    | 2023-09-01 | Patient A  |\n",
    "| /path/to/dataset2 | Experiment 2    | 2023-09-02 | Patient B  |"
   ]
  },
  {
   "cell_type": "code",
   "execution_count": 9,
   "metadata": {},
   "outputs": [],
   "source": [
    "exp = InSituExperiment.from_config(config_path=\"./demo_dataset/insituexperiment_config.csv\")"
   ]
  },
  {
   "cell_type": "code",
   "execution_count": 10,
   "metadata": {},
   "outputs": [
    {
     "data": {
      "text/plain": [
       "\u001b[1mInSituExperiment\u001b[0m with 2 samples:\n",
       "           uid slide_id    sample_id patient therapy\n",
       "0     1191fe9e  0001879  Replicate 1       A   drugA\n",
       "1     201c2818  0001879  Replicate 1       B   drugB"
      ]
     },
     "execution_count": 10,
     "metadata": {},
     "output_type": "execute_result"
    }
   ],
   "source": [
    "exp"
   ]
  },
  {
   "cell_type": "markdown",
   "metadata": {},
   "source": [
    "#### Method 3: From regions\n",
    "\n",
    "We can also use regions from an `InSituData` object to split the data into separate datasets and create an `InSituExperiment` from them. This can be used to select the most interesting regions and focus on them for the analysis or to split a TMA dataset into separate datasets for each core."
   ]
  },
  {
   "cell_type": "code",
   "execution_count": 5,
   "metadata": {},
   "outputs": [],
   "source": [
    "exp = InSituExperiment.from_region(\n",
    "    data=xd, region_key=\"TMA\"\n",
    ")"
   ]
  },
  {
   "cell_type": "code",
   "execution_count": 6,
   "metadata": {},
   "outputs": [
    {
     "data": {
      "text/plain": [
       "\u001b[1mInSituExperiment\u001b[0m with 6 samples:\n",
       "           uid slide_id    sample_id region_key region_name\n",
       "0     50d2f8af  0001879  Replicate 1        TMA         A-1\n",
       "1     5124e140  0001879  Replicate 1        TMA         A-2\n",
       "2     cfe57a23  0001879  Replicate 1        TMA         A-3\n",
       "3     53d23fa3  0001879  Replicate 1        TMA         B-1\n",
       "4     2e717e62  0001879  Replicate 1        TMA         B-2\n",
       "5     39c69a7f  0001879  Replicate 1        TMA         B-3"
      ]
     },
     "execution_count": 6,
     "metadata": {},
     "output_type": "execute_result"
    }
   ],
   "source": [
    "exp"
   ]
  },
  {
   "cell_type": "code",
   "execution_count": 7,
   "metadata": {},
   "outputs": [
    {
     "name": "stderr",
     "output_type": "stream",
     "text": [
      "WARNING: QWindowsWindow::setGeometry: Unable to set geometry 2172x1310+0+20 (frame: 2194x1366-11-25) on QWidgetWindow/\"_QtMainWindowClassWindow\" on \"\\\\.\\DISPLAY1\". Resulting geometry: 2166x1293+3+34 (frame: 2188x1349-8-11) margins: 11, 45, 11, 11 minimum size: 385x491 MINMAXINFO maxSize=0,0 maxpos=0,0 mintrack=792,1038 maxtrack=0,0)\n"
     ]
    },
    {
     "data": {
      "text/plain": [
       "Viewer(camera=Camera(center=(0.0, 499.90625, 499.8), zoom=0.15012814902794272, angles=(0.0, 0.0, 90.0), perspective=0.0, mouse_pan=True, mouse_zoom=True), cursor=Cursor(position=(1.0, 1.0), scaled=True, size=1, style=<CursorStyle.STANDARD: 'standard'>), dims=Dims(ndim=2, ndisplay=2, last_used=0, range=((0.0, 1000.025, 0.2125), (0.0, 999.8125, 0.2125)), current_step=(2352, 2352), order=(0, 1), axis_labels=('0', '1')), grid=GridCanvas(stride=1, shape=(-1, -1), enabled=False), layers=[<Image layer 'nuclei' at 0x2385d3a4df0>, <Image layer 'HE' at 0x23853920eb0>, <Image layer 'DAPI' at 0x238607000d0>], help='use <2> for transform', status='Ready', tooltip=Tooltip(visible=False, text=''), theme='dark', title='0001879: Replicate 1', mouse_over_canvas=False, mouse_move_callbacks=[], mouse_drag_callbacks=[], mouse_double_click_callbacks=[], mouse_wheel_callbacks=[<function dims_scroll at 0x0000023812AD75E0>], _persisted_mouse_event={}, _mouse_drag_gen={}, _mouse_wheel_gen={}, keymap={})"
      ]
     },
     "execution_count": 7,
     "metadata": {},
     "output_type": "execute_result"
    }
   ],
   "source": [
    "exp.show(1)"
   ]
  },
  {
   "cell_type": "markdown",
   "metadata": {},
   "source": [
    "## Plot overview of metadata and QC metrics"
   ]
  },
  {
   "cell_type": "code",
   "execution_count": 7,
   "metadata": {},
   "outputs": [
    {
     "data": {
      "image/png": "[encoded data removed]",
      "text/plain": [
       "<Figure size 1760x520 with 13 Axes>"
      ]
     },
     "metadata": {},
     "output_type": "display_data"
    }
   ],
   "source": [
    "exp.plot_overview([\"uid\", \"slide_id\", \"sample_id\", \"region_name\", \"region_key\"], index=False)"
   ]
  },
  {
   "cell_type": "code",
   "execution_count": 8,
   "metadata": {},
   "outputs": [
    {
     "data": {
      "image/png": "[encoded data removed]",
      "text/plain": [
       "<Figure size 940x520 with 13 Axes>"
      ]
     },
     "metadata": {},
     "output_type": "display_data"
    }
   ],
   "source": [
    "exp.plot_overview(index=False)"
   ]
  },
  {
   "cell_type": "markdown",
   "metadata": {},
   "source": [
    "## Iterate through InSutiExperiment using InSutiExperiment.iterdata() method"
   ]
  },
  {
   "cell_type": "code",
   "execution_count": null,
   "metadata": {},
   "outputs": [
    {
     "name": "stdout",
     "output_type": "stream",
     "text": [
      "Metadata:\n",
      "uid             50d2f8af\n",
      "slide_id         0001879\n",
      "sample_id    Replicate 1\n",
      "Name: 0, dtype: object\n",
      "Data:\n",
      "\u001b[1m\u001b[31mInSituData\u001b[0m\n",
      "\u001b[1mMethod:\u001b[0m\t\tXenium\n",
      "\u001b[1mSlide ID:\u001b[0m\t0001879\n",
      "\u001b[1mSample ID:\u001b[0m\tReplicate 1\n",
      "\u001b[1mPath:\u001b[0m\t\tC:\\Users\\Anna\\InSituPy\\notebooks\\demo_dataset\\demo_insitupy_project\n",
      "\u001b[1mMetadata file:\u001b[0m\t.ispy\n",
      "    ➤ \u001b[34m\u001b[1mimages\u001b[0m\n",
      "       \u001b[1mnuclei:\u001b[0m\t(4706, 4706)\n",
      "       \u001b[1mHE:\u001b[0m\t(4706, 4706, 3)\n",
      "       \u001b[1mDAPI:\u001b[0m\t(4706, 4706)\n",
      "    ➤\u001b[32m\u001b[1m cells\u001b[0m\n",
      "       \u001b[1mmatrix\u001b[0m\n",
      "           AnnData object with n_obs × n_vars = 6743 × 313\n",
      "           obs: 'transcript_counts', 'control_probe_counts', 'control_codeword_counts', 'total_counts', 'cell_area', 'nucleus_area', 'n_genes', 'leiden'\n",
      "           var: 'gene_ids', 'feature_types', 'genome'\n",
      "           uns: 'leiden', 'neighbors', 'pca', 'umap'\n",
      "           obsm: 'X_pca', 'X_umap', 'annotations', 'spatial'\n",
      "           varm: 'PCs', 'binned_expression'\n",
      "           layers: 'counts', 'norm_counts'\n",
      "           obsp: 'connectivities', 'distances'\n",
      "       \u001b[1mboundaries\u001b[0m\n",
      "           BoundariesData object with 2 entries:\n",
      "               \u001b[1mcellular\u001b[0m\n",
      "               \u001b[1mnuclear\u001b[0m\n",
      "    ➤ \u001b[33m\u001b[1mregions\u001b[0m\n",
      "       \u001b[1mTMA:\u001b[0m\t1 regions, 1 class ('A-1') \n",
      "Metadata:\n",
      "uid             5124e140\n",
      "slide_id         0001879\n",
      "sample_id    Replicate 1\n",
      "Name: 1, dtype: object\n",
      "Data:\n",
      "\u001b[1m\u001b[31mInSituData\u001b[0m\n",
      "\u001b[1mMethod:\u001b[0m\t\tXenium\n",
      "\u001b[1mSlide ID:\u001b[0m\t0001879\n",
      "\u001b[1mSample ID:\u001b[0m\tReplicate 1\n",
      "\u001b[1mPath:\u001b[0m\t\tC:\\Users\\Anna\\InSituPy\\notebooks\\demo_dataset\\demo_insitupy_project\n",
      "\u001b[1mMetadata file:\u001b[0m\t.ispy\n",
      "    ➤ \u001b[34m\u001b[1mimages\u001b[0m\n",
      "       \u001b[1mnuclei:\u001b[0m\t(4706, 4705)\n",
      "       \u001b[1mHE:\u001b[0m\t(4706, 4705, 3)\n",
      "       \u001b[1mDAPI:\u001b[0m\t(4706, 4705)\n",
      "    ➤\u001b[32m\u001b[1m cells\u001b[0m\n",
      "       \u001b[1mmatrix\u001b[0m\n",
      "           AnnData object with n_obs × n_vars = 2450 × 313\n",
      "           obs: 'transcript_counts', 'control_probe_counts', 'control_codeword_counts', 'total_counts', 'cell_area', 'nucleus_area', 'n_genes', 'leiden'\n",
      "           var: 'gene_ids', 'feature_types', 'genome'\n",
      "           uns: 'leiden', 'neighbors', 'pca', 'umap'\n",
      "           obsm: 'X_pca', 'X_umap', 'annotations', 'spatial'\n",
      "           varm: 'PCs', 'binned_expression'\n",
      "           layers: 'counts', 'norm_counts'\n",
      "           obsp: 'connectivities', 'distances'\n",
      "       \u001b[1mboundaries\u001b[0m\n",
      "           BoundariesData object with 2 entries:\n",
      "               \u001b[1mcellular\u001b[0m\n",
      "               \u001b[1mnuclear\u001b[0m\n",
      "    ➤ \u001b[33m\u001b[1mregions\u001b[0m\n",
      "       \u001b[1mTMA:\u001b[0m\t1 regions, 1 class ('A-2') \n",
      "Metadata:\n",
      "uid             cfe57a23\n",
      "slide_id         0001879\n",
      "sample_id    Replicate 1\n",
      "Name: 2, dtype: object\n",
      "Data:\n",
      "\u001b[1m\u001b[31mInSituData\u001b[0m\n",
      "\u001b[1mMethod:\u001b[0m\t\tXenium\n",
      "\u001b[1mSlide ID:\u001b[0m\t0001879\n",
      "\u001b[1mSample ID:\u001b[0m\tReplicate 1\n",
      "\u001b[1mPath:\u001b[0m\t\tC:\\Users\\Anna\\InSituPy\\notebooks\\demo_dataset\\demo_insitupy_project\n",
      "\u001b[1mMetadata file:\u001b[0m\t.ispy\n",
      "    ➤ \u001b[34m\u001b[1mimages\u001b[0m\n",
      "       \u001b[1mnuclei:\u001b[0m\t(4706, 4705)\n",
      "       \u001b[1mHE:\u001b[0m\t(4706, 4705, 3)\n",
      "       \u001b[1mDAPI:\u001b[0m\t(4706, 4705)\n",
      "    ➤\u001b[32m\u001b[1m cells\u001b[0m\n",
      "       \u001b[1mmatrix\u001b[0m\n",
      "           AnnData object with n_obs × n_vars = 2304 × 313\n",
      "           obs: 'transcript_counts', 'control_probe_counts', 'control_codeword_counts', 'total_counts', 'cell_area', 'nucleus_area', 'n_genes', 'leiden'\n",
      "           var: 'gene_ids', 'feature_types', 'genome'\n",
      "           uns: 'leiden', 'neighbors', 'pca', 'umap'\n",
      "           obsm: 'X_pca', 'X_umap', 'annotations', 'spatial'\n",
      "           varm: 'PCs', 'binned_expression'\n",
      "           layers: 'counts', 'norm_counts'\n",
      "           obsp: 'connectivities', 'distances'\n",
      "       \u001b[1mboundaries\u001b[0m\n",
      "           BoundariesData object with 2 entries:\n",
      "               \u001b[1mcellular\u001b[0m\n",
      "               \u001b[1mnuclear\u001b[0m\n",
      "    ➤ \u001b[33m\u001b[1mregions\u001b[0m\n",
      "       \u001b[1mTMA:\u001b[0m\t1 regions, 1 class ('A-3') \n",
      "Metadata:\n",
      "uid             53d23fa3\n",
      "slide_id         0001879\n",
      "sample_id    Replicate 1\n",
      "Name: 3, dtype: object\n",
      "Data:\n",
      "\u001b[1m\u001b[31mInSituData\u001b[0m\n",
      "\u001b[1mMethod:\u001b[0m\t\tXenium\n",
      "\u001b[1mSlide ID:\u001b[0m\t0001879\n",
      "\u001b[1mSample ID:\u001b[0m\tReplicate 1\n",
      "\u001b[1mPath:\u001b[0m\t\tC:\\Users\\Anna\\InSituPy\\notebooks\\demo_dataset\\demo_insitupy_project\n",
      "\u001b[1mMetadata file:\u001b[0m\t.ispy\n",
      "    ➤ \u001b[34m\u001b[1mimages\u001b[0m\n",
      "       \u001b[1mnuclei:\u001b[0m\t(4706, 4706)\n",
      "       \u001b[1mHE:\u001b[0m\t(4706, 4706, 3)\n",
      "       \u001b[1mDAPI:\u001b[0m\t(4706, 4706)\n",
      "    ➤\u001b[32m\u001b[1m cells\u001b[0m\n",
      "       \u001b[1mmatrix\u001b[0m\n",
      "           AnnData object with n_obs × n_vars = 4684 × 313\n",
      "           obs: 'transcript_counts', 'control_probe_counts', 'control_codeword_counts', 'total_counts', 'cell_area', 'nucleus_area', 'n_genes', 'leiden'\n",
      "           var: 'gene_ids', 'feature_types', 'genome'\n",
      "           uns: 'leiden', 'neighbors', 'pca', 'umap'\n",
      "           obsm: 'X_pca', 'X_umap', 'annotations', 'spatial'\n",
      "           varm: 'PCs', 'binned_expression'\n",
      "           layers: 'counts', 'norm_counts'\n",
      "           obsp: 'connectivities', 'distances'\n",
      "       \u001b[1mboundaries\u001b[0m\n",
      "           BoundariesData object with 2 entries:\n",
      "               \u001b[1mcellular\u001b[0m\n",
      "               \u001b[1mnuclear\u001b[0m\n",
      "    ➤ \u001b[36m\u001b[1mannotations\u001b[0m\n",
      "       \u001b[1mTestKey:\u001b[0m\t1 annotations, 1 class ('TestClass') \n",
      "       \u001b[1mdemo2:\u001b[0m\t1 annotations, 1 class ('Other') \n",
      "    ➤ \u001b[33m\u001b[1mregions\u001b[0m\n",
      "       \u001b[1mTMA:\u001b[0m\t1 regions, 1 class ('B-1') \n",
      "Metadata:\n",
      "uid             2e717e62\n",
      "slide_id         0001879\n",
      "sample_id    Replicate 1\n",
      "Name: 4, dtype: object\n",
      "Data:\n",
      "\u001b[1m\u001b[31mInSituData\u001b[0m\n",
      "\u001b[1mMethod:\u001b[0m\t\tXenium\n",
      "\u001b[1mSlide ID:\u001b[0m\t0001879\n",
      "\u001b[1mSample ID:\u001b[0m\tReplicate 1\n",
      "\u001b[1mPath:\u001b[0m\t\tC:\\Users\\Anna\\InSituPy\\notebooks\\demo_dataset\\demo_insitupy_project\n",
      "\u001b[1mMetadata file:\u001b[0m\t.ispy\n",
      "    ➤ \u001b[34m\u001b[1mimages\u001b[0m\n",
      "       \u001b[1mnuclei:\u001b[0m\t(4706, 4706)\n",
      "       \u001b[1mHE:\u001b[0m\t(4706, 4706, 3)\n",
      "       \u001b[1mDAPI:\u001b[0m\t(4706, 4706)\n",
      "    ➤\u001b[32m\u001b[1m cells\u001b[0m\n",
      "       \u001b[1mmatrix\u001b[0m\n",
      "           AnnData object with n_obs × n_vars = 2923 × 313\n",
      "           obs: 'transcript_counts', 'control_probe_counts', 'control_codeword_counts', 'total_counts', 'cell_area', 'nucleus_area', 'n_genes', 'leiden'\n",
      "           var: 'gene_ids', 'feature_types', 'genome'\n",
      "           uns: 'leiden', 'neighbors', 'pca', 'umap'\n",
      "           obsm: 'X_pca', 'X_umap', 'annotations', 'spatial'\n",
      "           varm: 'PCs', 'binned_expression'\n",
      "           layers: 'counts', 'norm_counts'\n",
      "           obsp: 'connectivities', 'distances'\n",
      "       \u001b[1mboundaries\u001b[0m\n",
      "           BoundariesData object with 2 entries:\n",
      "               \u001b[1mcellular\u001b[0m\n",
      "               \u001b[1mnuclear\u001b[0m\n",
      "    ➤ \u001b[36m\u001b[1mannotations\u001b[0m\n",
      "       \u001b[1mTestKey:\u001b[0m\t1 annotations, 1 class ('TestClass') \n",
      "       \u001b[1mdemo2:\u001b[0m\t1 annotations, 1 class ('Other') \n",
      "    ➤ \u001b[33m\u001b[1mregions\u001b[0m\n",
      "       \u001b[1mdemo_regions:\u001b[0m\t1 regions, 1 class ('Region3') \n",
      "       \u001b[1mTMA:\u001b[0m\t1 regions, 1 class ('B-2') \n",
      "Metadata:\n",
      "uid             39c69a7f\n",
      "slide_id         0001879\n",
      "sample_id    Replicate 1\n",
      "Name: 5, dtype: object\n",
      "Data:\n",
      "\u001b[1m\u001b[31mInSituData\u001b[0m\n",
      "\u001b[1mMethod:\u001b[0m\t\tXenium\n",
      "\u001b[1mSlide ID:\u001b[0m\t0001879\n",
      "\u001b[1mSample ID:\u001b[0m\tReplicate 1\n",
      "\u001b[1mPath:\u001b[0m\t\tC:\\Users\\Anna\\InSituPy\\notebooks\\demo_dataset\\demo_insitupy_project\n",
      "\u001b[1mMetadata file:\u001b[0m\t.ispy\n",
      "    ➤ \u001b[34m\u001b[1mimages\u001b[0m\n",
      "       \u001b[1mnuclei:\u001b[0m\t(4706, 4706)\n",
      "       \u001b[1mHE:\u001b[0m\t(4706, 4706, 3)\n",
      "       \u001b[1mDAPI:\u001b[0m\t(4706, 4706)\n",
      "    ➤\u001b[32m\u001b[1m cells\u001b[0m\n",
      "       \u001b[1mmatrix\u001b[0m\n",
      "           AnnData object with n_obs × n_vars = 4345 × 313\n",
      "           obs: 'transcript_counts', 'control_probe_counts', 'control_codeword_counts', 'total_counts', 'cell_area', 'nucleus_area', 'n_genes', 'leiden'\n",
      "           var: 'gene_ids', 'feature_types', 'genome'\n",
      "           uns: 'leiden', 'neighbors', 'pca', 'umap'\n",
      "           obsm: 'X_pca', 'X_umap', 'annotations', 'spatial'\n",
      "           varm: 'PCs', 'binned_expression'\n",
      "           layers: 'counts', 'norm_counts'\n",
      "           obsp: 'connectivities', 'distances'\n",
      "       \u001b[1mboundaries\u001b[0m\n",
      "           BoundariesData object with 2 entries:\n",
      "               \u001b[1mcellular\u001b[0m\n",
      "               \u001b[1mnuclear\u001b[0m\n",
      "    ➤ \u001b[36m\u001b[1mannotations\u001b[0m\n",
      "       \u001b[1mTestKey:\u001b[0m\t1 annotations, 1 class ('TestClass') \n",
      "       \u001b[1mdemo:\u001b[0m\t2 annotations, 1 class ('Negative') \n",
      "       \u001b[1mdemo2:\u001b[0m\t1 annotations, 1 class ('Negative') \n",
      "    ➤ \u001b[33m\u001b[1mregions\u001b[0m\n",
      "       \u001b[1mTMA:\u001b[0m\t1 regions, 1 class ('B-3') \n"
     ]
    }
   ],
   "source": [
    "for metadata, data in exp.iterdata():\n",
    "    print(f\"Metadata:\\n{metadata[:3]}\\nData:\\n{data}\")"
   ]
  },
  {
   "cell_type": "markdown",
   "metadata": {},
   "source": [
    "## Add new metadata\n",
    "\n",
    "In the following section different scenarios for adding new metadata are shown."
   ]
  },
  {
   "cell_type": "code",
   "execution_count": 13,
   "metadata": {},
   "outputs": [],
   "source": [
    "exp1 = InSituExperiment.from_region(\n",
    "    data=xd, region_key=\"demo_regions\"\n",
    ")"
   ]
  },
  {
   "cell_type": "code",
   "execution_count": 14,
   "metadata": {},
   "outputs": [
    {
     "data": {
      "text/plain": [
       "\u001b[1mInSituExperiment\u001b[0m with 3 samples:\n",
       "           uid slide_id    sample_id    region_key region_name\n",
       "0     2c1d7cdd  0001879  Replicate 1  demo_regions     Region1\n",
       "1     090a2e69  0001879  Replicate 1  demo_regions     Region2\n",
       "2     c3802d40  0001879  Replicate 1  demo_regions     Region3"
      ]
     },
     "execution_count": 14,
     "metadata": {},
     "output_type": "execute_result"
    }
   ],
   "source": [
    "exp1"
   ]
  },
  {
   "cell_type": "code",
   "execution_count": 15,
   "metadata": {},
   "outputs": [],
   "source": [
    "\n",
    "exp2 = exp.copy()\n",
    "exp2.append_metadata(\n",
    "    new_metadata=\"./demo_dataset/insituexperiment_new_metadata.csv\",\n",
    "    by=\"region_name\", overwrite=True\n",
    ")"
   ]
  },
  {
   "cell_type": "code",
   "execution_count": 16,
   "metadata": {},
   "outputs": [
    {
     "data": {
      "text/plain": [
       "\u001b[1mInSituExperiment\u001b[0m with 6 samples:\n",
       "           uid slide_id    sample_id region_name therapy organ test region_key\n",
       "0     e6ad994b  0001879  Replicate 1         A-1     NaN   NaN  NaN        NaN\n",
       "1     1bc49e44  0001879  Replicate 1         A-2     NaN   NaN  NaN        NaN\n",
       "2     e7cb6fb8  0001879  Replicate 1         A-3     NaN   NaN  NaN        NaN\n",
       "3     d2c65194  0001879  Replicate 1         B-1     NaN   NaN  NaN        NaN\n",
       "4     2fefaf1d  0001879  Replicate 1         B-2     NaN   NaN  NaN        NaN\n",
       "5     e82d138c  0001879  Replicate 1         B-3     NaN   NaN  NaN        NaN"
      ]
     },
     "execution_count": 16,
     "metadata": {},
     "output_type": "execute_result"
    }
   ],
   "source": [
    "exp2"
   ]
  },
  {
   "cell_type": "code",
   "execution_count": 17,
   "metadata": {},
   "outputs": [],
   "source": [
    "\n",
    "exp3 = exp.copy()\n",
    "exp3.append_metadata(\n",
    "    new_metadata=\"./demo_dataset/insituexperiment_new_metadata.csv\",\n",
    "    by=\"region_name\", overwrite=False\n",
    ")"
   ]
  },
  {
   "cell_type": "code",
   "execution_count": 18,
   "metadata": {},
   "outputs": [
    {
     "data": {
      "text/plain": [
       "\u001b[1mInSituExperiment\u001b[0m with 6 samples:\n",
       "           uid slide_id    sample_id region_key region_name organ test therapy\n",
       "0     e6ad994b  0001879  Replicate 1        TMA         A-1   NaN  NaN     NaN\n",
       "1     1bc49e44  0001879  Replicate 1        TMA         A-2   NaN  NaN     NaN\n",
       "2     e7cb6fb8  0001879  Replicate 1        TMA         A-3   NaN  NaN     NaN\n",
       "3     d2c65194  0001879  Replicate 1        TMA         B-1   NaN  NaN     NaN\n",
       "4     2fefaf1d  0001879  Replicate 1        TMA         B-2   NaN  NaN     NaN\n",
       "5     e82d138c  0001879  Replicate 1        TMA         B-3   NaN  NaN     NaN"
      ]
     },
     "execution_count": 18,
     "metadata": {},
     "output_type": "execute_result"
    }
   ],
   "source": [
    "exp3"
   ]
  },
  {
   "cell_type": "code",
   "execution_count": 19,
   "metadata": {},
   "outputs": [],
   "source": [
    "\n",
    "exp4 = exp.copy()\n",
    "exp4.append_metadata(\n",
    "    new_metadata=\"./demo_dataset/insituexperiment_new_metadata2.csv\",\n",
    "    by=\"region_name\", overwrite=False\n",
    ")"
   ]
  },
  {
   "cell_type": "code",
   "execution_count": 20,
   "metadata": {},
   "outputs": [
    {
     "data": {
      "text/plain": [
       "\u001b[1mInSituExperiment\u001b[0m with 6 samples:\n",
       "           uid slide_id    sample_id region_key region_name organ test therapy\n",
       "0     e6ad994b  0001879  Replicate 1        TMA         A-1   NaN  NaN     NaN\n",
       "1     1bc49e44  0001879  Replicate 1        TMA         A-2   NaN  NaN     NaN\n",
       "2     e7cb6fb8  0001879  Replicate 1        TMA         A-3   NaN  NaN     NaN\n",
       "3     d2c65194  0001879  Replicate 1        TMA         B-1   NaN  NaN     NaN\n",
       "4     2fefaf1d  0001879  Replicate 1        TMA         B-2   NaN  NaN     NaN\n",
       "5     e82d138c  0001879  Replicate 1        TMA         B-3   NaN  NaN     NaN"
      ]
     },
     "execution_count": 20,
     "metadata": {},
     "output_type": "execute_result"
    }
   ],
   "source": [
    "exp4"
   ]
  },
  {
   "cell_type": "code",
   "execution_count": 21,
   "metadata": {},
   "outputs": [],
   "source": [
    "\n",
    "exp5 = exp.copy()\n",
    "exp5.append_metadata(\n",
    "    new_metadata=\"./demo_dataset/insituexperiment_new_metadata2.csv\",\n",
    "    by=\"region_name\", overwrite=True\n",
    ")"
   ]
  },
  {
   "cell_type": "code",
   "execution_count": 22,
   "metadata": {},
   "outputs": [
    {
     "data": {
      "text/plain": [
       "\u001b[1mInSituExperiment\u001b[0m with 6 samples:\n",
       "           uid slide_id    sample_id region_name therapy organ test region_key\n",
       "0     e6ad994b  0001879  Replicate 1         A-1     NaN   NaN  NaN        NaN\n",
       "1     1bc49e44  0001879  Replicate 1         A-2     NaN   NaN  NaN        NaN\n",
       "2     e7cb6fb8  0001879  Replicate 1         A-3     NaN   NaN  NaN        NaN\n",
       "3     d2c65194  0001879  Replicate 1         B-1     NaN   NaN  NaN        NaN\n",
       "4     2fefaf1d  0001879  Replicate 1         B-2     NaN   NaN  NaN        NaN\n",
       "5     e82d138c  0001879  Replicate 1         B-3     NaN   NaN  NaN        NaN"
      ]
     },
     "execution_count": 22,
     "metadata": {},
     "output_type": "execute_result"
    }
   ],
   "source": [
    "exp5"
   ]
  },
  {
   "cell_type": "markdown",
   "metadata": {},
   "source": [
    "c Concatenate multiple `InSituExperiment` objects"
   ]
  },
  {
   "cell_type": "code",
   "execution_count": 23,
   "metadata": {},
   "outputs": [
    {
     "data": {
      "text/plain": [
       "\u001b[1mInSituExperiment\u001b[0m with 6 samples:\n",
       "           uid slide_id    sample_id region_key region_name\n",
       "0     e6ad994b  0001879  Replicate 1        TMA         A-1\n",
       "1     1bc49e44  0001879  Replicate 1        TMA         A-2\n",
       "2     e7cb6fb8  0001879  Replicate 1        TMA         A-3\n",
       "3     d2c65194  0001879  Replicate 1        TMA         B-1\n",
       "4     2fefaf1d  0001879  Replicate 1        TMA         B-2\n",
       "5     e82d138c  0001879  Replicate 1        TMA         B-3"
      ]
     },
     "execution_count": 23,
     "metadata": {},
     "output_type": "execute_result"
    }
   ],
   "source": [
    "exp"
   ]
  },
  {
   "cell_type": "code",
   "execution_count": 24,
   "metadata": {},
   "outputs": [
    {
     "data": {
      "text/plain": [
       "\u001b[1mInSituExperiment\u001b[0m with 3 samples:\n",
       "           uid slide_id    sample_id    region_key region_name\n",
       "0     2c1d7cdd  0001879  Replicate 1  demo_regions     Region1\n",
       "1     090a2e69  0001879  Replicate 1  demo_regions     Region2\n",
       "2     c3802d40  0001879  Replicate 1  demo_regions     Region3"
      ]
     },
     "execution_count": 24,
     "metadata": {},
     "output_type": "execute_result"
    }
   ],
   "source": [
    "exp1"
   ]
  },
  {
   "cell_type": "code",
   "execution_count": 25,
   "metadata": {},
   "outputs": [],
   "source": [
    "exp_concat = InSituExperiment.concat(\n",
    "    objs={\n",
    "        \"exp_TMA\": exp,\n",
    "        \"exp_demo_regions\": exp1\n",
    "    },\n",
    "    new_col_name=\"name\"\n",
    "    )"
   ]
  },
  {
   "cell_type": "code",
   "execution_count": 26,
   "metadata": {},
   "outputs": [
    {
     "data": {
      "text/plain": [
       "\u001b[1mInSituExperiment\u001b[0m with 9 samples:\n",
       "           uid slide_id    sample_id    region_key region_name              name\n",
       "0     e6ad994b  0001879  Replicate 1           TMA         A-1           exp_TMA\n",
       "1     1bc49e44  0001879  Replicate 1           TMA         A-2           exp_TMA\n",
       "2     e7cb6fb8  0001879  Replicate 1           TMA         A-3           exp_TMA\n",
       "3     d2c65194  0001879  Replicate 1           TMA         B-1           exp_TMA\n",
       "4     2fefaf1d  0001879  Replicate 1           TMA         B-2           exp_TMA\n",
       "5     e82d138c  0001879  Replicate 1           TMA         B-3           exp_TMA\n",
       "6     2c1d7cdd  0001879  Replicate 1  demo_regions     Region1  exp_demo_regions\n",
       "7     090a2e69  0001879  Replicate 1  demo_regions     Region2  exp_demo_regions\n",
       "8     c3802d40  0001879  Replicate 1  demo_regions     Region3  exp_demo_regions"
      ]
     },
     "execution_count": 26,
     "metadata": {},
     "output_type": "execute_result"
    }
   ],
   "source": [
    "exp_concat"
   ]
  },
  {
   "cell_type": "code",
   "execution_count": 27,
   "metadata": {},
   "outputs": [],
   "source": [
    "exp_concat = InSituExperiment.concat(\n",
    "    objs=[exp, exp1])"
   ]
  },
  {
   "cell_type": "code",
   "execution_count": 28,
   "metadata": {},
   "outputs": [
    {
     "data": {
      "text/plain": [
       "\u001b[1mInSituExperiment\u001b[0m with 9 samples:\n",
       "           uid slide_id    sample_id    region_key region_name\n",
       "0     e6ad994b  0001879  Replicate 1           TMA         A-1\n",
       "1     1bc49e44  0001879  Replicate 1           TMA         A-2\n",
       "2     e7cb6fb8  0001879  Replicate 1           TMA         A-3\n",
       "3     d2c65194  0001879  Replicate 1           TMA         B-1\n",
       "4     2fefaf1d  0001879  Replicate 1           TMA         B-2\n",
       "5     e82d138c  0001879  Replicate 1           TMA         B-3\n",
       "6     2c1d7cdd  0001879  Replicate 1  demo_regions     Region1\n",
       "7     090a2e69  0001879  Replicate 1  demo_regions     Region2\n",
       "8     c3802d40  0001879  Replicate 1  demo_regions     Region3"
      ]
     },
     "execution_count": 28,
     "metadata": {},
     "output_type": "execute_result"
    }
   ],
   "source": [
    "exp_concat"
   ]
  },
  {
   "cell_type": "markdown",
   "metadata": {},
   "source": [
    "## Differential gene expression analysis"
   ]
  },
  {
   "cell_type": "code",
   "execution_count": 29,
   "metadata": {},
   "outputs": [],
   "source": [
    "from insitupy import differential_gene_expression"
   ]
  },
  {
   "cell_type": "code",
   "execution_count": 33,
   "metadata": {},
   "outputs": [],
   "source": [
    "exp = InSituExperiment.from_region(\n",
    "    data=xd, region_key=\"demo_regions\"\n",
    ")"
   ]
  },
  {
   "cell_type": "code",
   "execution_count": 34,
   "metadata": {},
   "outputs": [
    {
     "data": {
      "text/plain": [
       "\u001b[1mInSituExperiment\u001b[0m with 3 samples:\n",
       "           uid slide_id    sample_id    region_key region_name\n",
       "0     c22613af  0001879  Replicate 1  demo_regions     Region1\n",
       "1     d660fdff  0001879  Replicate 1  demo_regions     Region2\n",
       "2     ce9edfb5  0001879  Replicate 1  demo_regions     Region3"
      ]
     },
     "execution_count": 34,
     "metadata": {},
     "output_type": "execute_result"
    }
   ],
   "source": [
    "exp"
   ]
  },
  {
   "cell_type": "code",
   "execution_count": 37,
   "metadata": {},
   "outputs": [
    {
     "data": {
      "text/plain": [
       "Viewer(camera=Camera(center=(0.0, 669.1624999999999, 638.3499999999999), zoom=0.21649878123990487, angles=(0.0, 0.0, 90.0), perspective=0.0, mouse_pan=True, mouse_zoom=True), cursor=Cursor(position=(1.0, 1.0), scaled=True, size=1, style=<CursorStyle.STANDARD: 'standard'>), dims=Dims(ndim=2, ndisplay=2, last_used=0, range=((0.0, 1338.5375, 0.2125), (0.0, 1276.9125, 0.2125)), current_step=(3149, 3004), order=(0, 1), axis_labels=('0', '1')), grid=GridCanvas(stride=1, shape=(-1, -1), enabled=False), layers=[<Image layer 'nuclei' at 0x22b3ad4b670>, <Image layer 'CD20' at 0x22b3ad6ceb0>, <Image layer 'HER2' at 0x22b3bfbb880>, <Image layer 'DAPI' at 0x22b377c1df0>, <Image layer 'HE' at 0x22b3e0b41f0>], help='use <2> for transform', status='Ready', tooltip=Tooltip(visible=False, text=''), theme='dark', title='0001879: Replicate 1', mouse_over_canvas=False, mouse_move_callbacks=[], mouse_drag_callbacks=[], mouse_double_click_callbacks=[], mouse_wheel_callbacks=[<function dims_scroll at 0x0000022A9345B160>], _persisted_mouse_event={}, _mouse_drag_gen={}, _mouse_wheel_gen={}, keymap={})"
      ]
     },
     "execution_count": 37,
     "metadata": {},
     "output_type": "execute_result"
    }
   ],
   "source": [
    "exp.show(2)"
   ]
  },
  {
   "cell_type": "code",
   "execution_count": 39,
   "metadata": {},
   "outputs": [
    {
     "name": "stdout",
     "output_type": "stream",
     "text": [
      "Added 2 new annotations to key 'Test'\n"
     ]
    }
   ],
   "source": [
    "exp.data[2].store_geometries()"
   ]
  },
  {
   "cell_type": "code",
   "execution_count": 46,
   "metadata": {},
   "outputs": [],
   "source": [
    "exp.data[2].annotations.save(r\"C:\\Users\\ge37voy\\Downloads\\annotations_out\")"
   ]
  },
  {
   "cell_type": "code",
   "execution_count": null,
   "metadata": {},
   "outputs": [],
   "source": []
  },
  {
   "cell_type": "code",
   "execution_count": 31,
   "metadata": {},
   "outputs": [
    {
     "data": {
      "text/plain": [
       "[\u001b[1m\u001b[31mInSituData\u001b[0m\n",
       " \u001b[1mMethod:\u001b[0m\t\tXenium\n",
       " \u001b[1mSlide ID:\u001b[0m\t0001879\n",
       " \u001b[1mSample ID:\u001b[0m\tReplicate 1\n",
       " \u001b[1mPath:\u001b[0m\t\tC:\\Users\\ge37voy\\Github\\InSituPy\\notebooks\\demo_dataset\\demo_insitupy_project\n",
       " \u001b[1mMetadata file:\u001b[0m\t.ispy\n",
       "     ➤ \u001b[34m\u001b[1mimages\u001b[0m\n",
       "        \u001b[1mnuclei:\u001b[0m\t(4706, 4706)\n",
       "        \u001b[1mCD20:\u001b[0m\t(4706, 4706)\n",
       "        \u001b[1mHER2:\u001b[0m\t(4706, 4706)\n",
       "        \u001b[1mDAPI:\u001b[0m\t(4706, 4706)\n",
       "        \u001b[1mHE:\u001b[0m\t(4706, 4706, 3)\n",
       "     ➤\u001b[32m\u001b[1m cells\u001b[0m\n",
       "        \u001b[1mmatrix\u001b[0m\n",
       "            AnnData object with n_obs × n_vars = 6743 × 313\n",
       "            obs: 'transcript_counts', 'control_probe_counts', 'control_codeword_counts', 'total_counts', 'cell_area', 'nucleus_area', 'n_genes', 'leiden', 'annotations-TestKey', 'annotations-demo', 'annotations-demo2', 'annotations-demo3', 'cell_type'\n",
       "            var: 'gene_ids', 'feature_types', 'genome'\n",
       "            uns: 'counts_location', 'leiden', 'leiden_colors', 'neighbors', 'pca', 'umap'\n",
       "            obsm: 'OT', 'X_pca', 'X_umap', 'spatial'\n",
       "            varm: 'OT', 'PCs', 'binned_expression'\n",
       "            layers: 'counts', 'norm_counts'\n",
       "            obsp: 'connectivities', 'distances'\n",
       "        \u001b[1mboundaries\u001b[0m\n",
       "            BoundariesData object with 2 entries:\n",
       "                \u001b[1mcellular\u001b[0m\n",
       "                \u001b[1mnuclear\u001b[0m\n",
       "     ➤ \u001b[33m\u001b[1mregions\u001b[0m\n",
       "        \u001b[1mTMA:\u001b[0m\t1 regions, 1 class ('A-1') ,\n",
       " \u001b[1m\u001b[31mInSituData\u001b[0m\n",
       " \u001b[1mMethod:\u001b[0m\t\tXenium\n",
       " \u001b[1mSlide ID:\u001b[0m\t0001879\n",
       " \u001b[1mSample ID:\u001b[0m\tReplicate 1\n",
       " \u001b[1mPath:\u001b[0m\t\tC:\\Users\\ge37voy\\Github\\InSituPy\\notebooks\\demo_dataset\\demo_insitupy_project\n",
       " \u001b[1mMetadata file:\u001b[0m\t.ispy\n",
       "     ➤ \u001b[34m\u001b[1mimages\u001b[0m\n",
       "        \u001b[1mnuclei:\u001b[0m\t(4706, 4705)\n",
       "        \u001b[1mCD20:\u001b[0m\t(4706, 4705)\n",
       "        \u001b[1mHER2:\u001b[0m\t(4706, 4705)\n",
       "        \u001b[1mDAPI:\u001b[0m\t(4706, 4705)\n",
       "        \u001b[1mHE:\u001b[0m\t(4706, 4705, 3)\n",
       "     ➤\u001b[32m\u001b[1m cells\u001b[0m\n",
       "        \u001b[1mmatrix\u001b[0m\n",
       "            AnnData object with n_obs × n_vars = 2450 × 313\n",
       "            obs: 'transcript_counts', 'control_probe_counts', 'control_codeword_counts', 'total_counts', 'cell_area', 'nucleus_area', 'n_genes', 'leiden', 'annotations-TestKey', 'annotations-demo', 'annotations-demo2', 'annotations-demo3', 'cell_type'\n",
       "            var: 'gene_ids', 'feature_types', 'genome'\n",
       "            uns: 'counts_location', 'leiden', 'leiden_colors', 'neighbors', 'pca', 'umap'\n",
       "            obsm: 'OT', 'X_pca', 'X_umap', 'spatial'\n",
       "            varm: 'OT', 'PCs', 'binned_expression'\n",
       "            layers: 'counts', 'norm_counts'\n",
       "            obsp: 'connectivities', 'distances'\n",
       "        \u001b[1mboundaries\u001b[0m\n",
       "            BoundariesData object with 2 entries:\n",
       "                \u001b[1mcellular\u001b[0m\n",
       "                \u001b[1mnuclear\u001b[0m\n",
       "     ➤ \u001b[33m\u001b[1mregions\u001b[0m\n",
       "        \u001b[1mTMA:\u001b[0m\t1 regions, 1 class ('A-2') ,\n",
       " \u001b[1m\u001b[31mInSituData\u001b[0m\n",
       " \u001b[1mMethod:\u001b[0m\t\tXenium\n",
       " \u001b[1mSlide ID:\u001b[0m\t0001879\n",
       " \u001b[1mSample ID:\u001b[0m\tReplicate 1\n",
       " \u001b[1mPath:\u001b[0m\t\tC:\\Users\\ge37voy\\Github\\InSituPy\\notebooks\\demo_dataset\\demo_insitupy_project\n",
       " \u001b[1mMetadata file:\u001b[0m\t.ispy\n",
       "     ➤ \u001b[34m\u001b[1mimages\u001b[0m\n",
       "        \u001b[1mnuclei:\u001b[0m\t(4706, 4705)\n",
       "        \u001b[1mCD20:\u001b[0m\t(4706, 4705)\n",
       "        \u001b[1mHER2:\u001b[0m\t(4706, 4705)\n",
       "        \u001b[1mDAPI:\u001b[0m\t(4706, 4705)\n",
       "        \u001b[1mHE:\u001b[0m\t(4706, 4705, 3)\n",
       "     ➤\u001b[32m\u001b[1m cells\u001b[0m\n",
       "        \u001b[1mmatrix\u001b[0m\n",
       "            AnnData object with n_obs × n_vars = 2304 × 313\n",
       "            obs: 'transcript_counts', 'control_probe_counts', 'control_codeword_counts', 'total_counts', 'cell_area', 'nucleus_area', 'n_genes', 'leiden', 'annotations-TestKey', 'annotations-demo', 'annotations-demo2', 'annotations-demo3', 'cell_type'\n",
       "            var: 'gene_ids', 'feature_types', 'genome'\n",
       "            uns: 'counts_location', 'leiden', 'leiden_colors', 'neighbors', 'pca', 'umap'\n",
       "            obsm: 'OT', 'X_pca', 'X_umap', 'spatial'\n",
       "            varm: 'OT', 'PCs', 'binned_expression'\n",
       "            layers: 'counts', 'norm_counts'\n",
       "            obsp: 'connectivities', 'distances'\n",
       "        \u001b[1mboundaries\u001b[0m\n",
       "            BoundariesData object with 2 entries:\n",
       "                \u001b[1mcellular\u001b[0m\n",
       "                \u001b[1mnuclear\u001b[0m\n",
       "     ➤ \u001b[33m\u001b[1mregions\u001b[0m\n",
       "        \u001b[1mTMA:\u001b[0m\t1 regions, 1 class ('A-3') ,\n",
       " \u001b[1m\u001b[31mInSituData\u001b[0m\n",
       " \u001b[1mMethod:\u001b[0m\t\tXenium\n",
       " \u001b[1mSlide ID:\u001b[0m\t0001879\n",
       " \u001b[1mSample ID:\u001b[0m\tReplicate 1\n",
       " \u001b[1mPath:\u001b[0m\t\tC:\\Users\\ge37voy\\Github\\InSituPy\\notebooks\\demo_dataset\\demo_insitupy_project\n",
       " \u001b[1mMetadata file:\u001b[0m\t.ispy\n",
       "     ➤ \u001b[34m\u001b[1mimages\u001b[0m\n",
       "        \u001b[1mnuclei:\u001b[0m\t(4706, 4706)\n",
       "        \u001b[1mCD20:\u001b[0m\t(4706, 4706)\n",
       "        \u001b[1mHER2:\u001b[0m\t(4706, 4706)\n",
       "        \u001b[1mDAPI:\u001b[0m\t(4706, 4706)\n",
       "        \u001b[1mHE:\u001b[0m\t(4706, 4706, 3)\n",
       "     ➤\u001b[32m\u001b[1m cells\u001b[0m\n",
       "        \u001b[1mmatrix\u001b[0m\n",
       "            AnnData object with n_obs × n_vars = 4684 × 313\n",
       "            obs: 'transcript_counts', 'control_probe_counts', 'control_codeword_counts', 'total_counts', 'cell_area', 'nucleus_area', 'n_genes', 'leiden', 'annotations-TestKey', 'annotations-demo', 'annotations-demo2', 'annotations-demo3', 'cell_type'\n",
       "            var: 'gene_ids', 'feature_types', 'genome'\n",
       "            uns: 'counts_location', 'leiden', 'leiden_colors', 'neighbors', 'pca', 'umap'\n",
       "            obsm: 'OT', 'X_pca', 'X_umap', 'spatial'\n",
       "            varm: 'OT', 'PCs', 'binned_expression'\n",
       "            layers: 'counts', 'norm_counts'\n",
       "            obsp: 'connectivities', 'distances'\n",
       "        \u001b[1mboundaries\u001b[0m\n",
       "            BoundariesData object with 2 entries:\n",
       "                \u001b[1mcellular\u001b[0m\n",
       "                \u001b[1mnuclear\u001b[0m\n",
       "     ➤ \u001b[36m\u001b[1mannotations\u001b[0m\n",
       "        \u001b[1mdemo2:\u001b[0m\t1 annotations, 1 class ('Other') \n",
       "     ➤ \u001b[33m\u001b[1mregions\u001b[0m\n",
       "        \u001b[1mTMA:\u001b[0m\t1 regions, 1 class ('B-1') ,\n",
       " \u001b[1m\u001b[31mInSituData\u001b[0m\n",
       " \u001b[1mMethod:\u001b[0m\t\tXenium\n",
       " \u001b[1mSlide ID:\u001b[0m\t0001879\n",
       " \u001b[1mSample ID:\u001b[0m\tReplicate 1\n",
       " \u001b[1mPath:\u001b[0m\t\tC:\\Users\\ge37voy\\Github\\InSituPy\\notebooks\\demo_dataset\\demo_insitupy_project\n",
       " \u001b[1mMetadata file:\u001b[0m\t.ispy\n",
       "     ➤ \u001b[34m\u001b[1mimages\u001b[0m\n",
       "        \u001b[1mnuclei:\u001b[0m\t(4706, 4706)\n",
       "        \u001b[1mCD20:\u001b[0m\t(4706, 4706)\n",
       "        \u001b[1mHER2:\u001b[0m\t(4706, 4706)\n",
       "        \u001b[1mDAPI:\u001b[0m\t(4706, 4706)\n",
       "        \u001b[1mHE:\u001b[0m\t(4706, 4706, 3)\n",
       "     ➤\u001b[32m\u001b[1m cells\u001b[0m\n",
       "        \u001b[1mmatrix\u001b[0m\n",
       "            AnnData object with n_obs × n_vars = 2923 × 313\n",
       "            obs: 'transcript_counts', 'control_probe_counts', 'control_codeword_counts', 'total_counts', 'cell_area', 'nucleus_area', 'n_genes', 'leiden', 'annotations-TestKey', 'annotations-demo', 'annotations-demo2', 'annotations-demo3', 'cell_type'\n",
       "            var: 'gene_ids', 'feature_types', 'genome'\n",
       "            uns: 'counts_location', 'leiden', 'leiden_colors', 'neighbors', 'pca', 'umap'\n",
       "            obsm: 'OT', 'X_pca', 'X_umap', 'spatial'\n",
       "            varm: 'OT', 'PCs', 'binned_expression'\n",
       "            layers: 'counts', 'norm_counts'\n",
       "            obsp: 'connectivities', 'distances'\n",
       "        \u001b[1mboundaries\u001b[0m\n",
       "            BoundariesData object with 2 entries:\n",
       "                \u001b[1mcellular\u001b[0m\n",
       "                \u001b[1mnuclear\u001b[0m\n",
       "     ➤ \u001b[36m\u001b[1mannotations\u001b[0m\n",
       "        \u001b[1mTestKey:\u001b[0m\t1 annotations, 1 class ('TestClass') \n",
       "        \u001b[1mdemo2:\u001b[0m\t1 annotations, 1 class ('Other') \n",
       "     ➤ \u001b[33m\u001b[1mregions\u001b[0m\n",
       "        \u001b[1mdemo_regions:\u001b[0m\t1 regions, 1 class ('Region3') \n",
       "        \u001b[1mTMA:\u001b[0m\t1 regions, 1 class ('B-2') ,\n",
       " \u001b[1m\u001b[31mInSituData\u001b[0m\n",
       " \u001b[1mMethod:\u001b[0m\t\tXenium\n",
       " \u001b[1mSlide ID:\u001b[0m\t0001879\n",
       " \u001b[1mSample ID:\u001b[0m\tReplicate 1\n",
       " \u001b[1mPath:\u001b[0m\t\tC:\\Users\\ge37voy\\Github\\InSituPy\\notebooks\\demo_dataset\\demo_insitupy_project\n",
       " \u001b[1mMetadata file:\u001b[0m\t.ispy\n",
       "     ➤ \u001b[34m\u001b[1mimages\u001b[0m\n",
       "        \u001b[1mnuclei:\u001b[0m\t(4706, 4706)\n",
       "        \u001b[1mCD20:\u001b[0m\t(4706, 4706)\n",
       "        \u001b[1mHER2:\u001b[0m\t(4706, 4706)\n",
       "        \u001b[1mDAPI:\u001b[0m\t(4706, 4706)\n",
       "        \u001b[1mHE:\u001b[0m\t(4706, 4706, 3)\n",
       "     ➤\u001b[32m\u001b[1m cells\u001b[0m\n",
       "        \u001b[1mmatrix\u001b[0m\n",
       "            AnnData object with n_obs × n_vars = 4345 × 313\n",
       "            obs: 'transcript_counts', 'control_probe_counts', 'control_codeword_counts', 'total_counts', 'cell_area', 'nucleus_area', 'n_genes', 'leiden', 'annotations-TestKey', 'annotations-demo', 'annotations-demo2', 'annotations-demo3', 'cell_type'\n",
       "            var: 'gene_ids', 'feature_types', 'genome'\n",
       "            uns: 'counts_location', 'leiden', 'leiden_colors', 'neighbors', 'pca', 'umap'\n",
       "            obsm: 'OT', 'X_pca', 'X_umap', 'spatial'\n",
       "            varm: 'OT', 'PCs', 'binned_expression'\n",
       "            layers: 'counts', 'norm_counts'\n",
       "            obsp: 'connectivities', 'distances'\n",
       "        \u001b[1mboundaries\u001b[0m\n",
       "            BoundariesData object with 2 entries:\n",
       "                \u001b[1mcellular\u001b[0m\n",
       "                \u001b[1mnuclear\u001b[0m\n",
       "     ➤ \u001b[36m\u001b[1mannotations\u001b[0m\n",
       "        \u001b[1mdemo:\u001b[0m\t2 annotations, 1 class ('Negative') \n",
       "        \u001b[1mdemo2:\u001b[0m\t1 annotations, 1 class ('Negative') \n",
       "     ➤ \u001b[33m\u001b[1mregions\u001b[0m\n",
       "        \u001b[1mTMA:\u001b[0m\t1 regions, 1 class ('B-3') ]"
      ]
     },
     "execution_count": 31,
     "metadata": {},
     "output_type": "execute_result"
    }
   ],
   "source": [
    "exp.data"
   ]
  },
  {
   "cell_type": "code",
   "execution_count": null,
   "metadata": {},
   "outputs": [],
   "source": []
  }
 ],
 "metadata": {
  "kernelspec": {
   "display_name": "insitupy",
   "language": "python",
   "name": "python3"
  },
  "language_info": {
   "codemirror_mode": {
    "name": "ipython",
    "version": 3
   },
   "file_extension": ".py",
   "mimetype": "text/x-python",
   "name": "python",
   "nbconvert_exporter": "python",
   "pygments_lexer": "ipython3",
   "version": "3.9.20"
  }
 },
 "nbformat": 4,
 "nbformat_minor": 2
}
