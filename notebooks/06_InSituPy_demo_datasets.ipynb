{
 "cells": [
  {
   "cell_type": "markdown",
   "metadata": {},
   "source": [
    "# InSituPy demonstration - Datasets"
   ]
  },
  {
   "cell_type": "code",
   "execution_count": null,
   "metadata": {},
   "outputs": [],
   "source": [
    "## The following code ensures that all functions and init files are reloaded before executions.\n",
    "%load_ext autoreload\n",
    "%autoreload 2"
   ]
  },
  {
   "cell_type": "markdown",
   "metadata": {},
   "source": [
    "InSitupy offers six functions that each download a different dataset into '~/.cache/InSituPy/demo_datasets'. The data is provided by 10x Genomics and is publicly available.\n",
    "Each function has an optional argument `overwrite`, which can be set to `True`, whenever a repeated downloaded is desired.\n",
    "1. `human_breast_cancer()`: In situ gene expression dataset by xenium onboard analysis 1.0.1  \n",
    "https://www.10xgenomics.com/products/xenium-in-situ/preview-dataset-human-breast\n",
    "2. `human_brain_cancer()`: In situ gene expression dataset by xenium onboard analysis 2.0.0  \n",
    "https://www.10xgenomics.com/datasets/ffpe-human-brain-cancer-data-with-human-immuno-oncology-profiling-panel-and-custom-add-on-1-standard\n",
    "3. `nondiseased_kidney()`: In situ gene expression dataset by xenium onboard analysis 1.5.0  \n",
    "https://www.10xgenomics.com/resources/datasets/human-kidney-preview-data-xenium-human-multi-tissue-and-cancer-panel-1-standard\n",
    "4. `hskin_melanoma()`: In situ gene expression dataset by xenium onboard analysis 1.7.0   \n",
    " https://www.10xgenomics.com/resources/datasets/human-skin-preview-data-xenium-human-skin-gene-expression-panel-add-on-1-standard\n",
    "5. `pancreatic_cancer()`: In situ gene expression dataset by xenium onboard analysis 1.6.0  \n",
    " https://www.10xgenomics.com/datasets/pancreatic-cancer-with-xenium-human-multi-tissue-and-cancer-panel-1-standard\n",
    "6. `human_lung_cancer()`: In situ gene expression dataset by xenium onboard analysis 2.0.0. (Xenium multimodal cell segmentation)  \n",
    "https://www.10xgenomics.com/datasets/preview-data-ffpe-human-lung-cancer-with-xenium-multimodal-cell-segmentation-1-standard"
   ]
  },
  {
   "cell_type": "code",
   "execution_count": null,
   "metadata": {},
   "outputs": [],
   "source": [
    "from pathlib import Path\n",
    "from os.path import expanduser\n",
    "\n",
    "import insitupy\n",
    "from insitupy.datasets import hskin_melanoma,human_brain_cancer,human_breast_cancer,nondiseased_kidney,pancreatic_cancer,human_lung_cancer\n",
    "from insitupy import read_xenium"
   ]
  },
  {
   "cell_type": "code",
   "execution_count": null,
   "metadata": {},
   "outputs": [],
   "source": [
    "human_breast_cancer()"
   ]
  },
  {
   "cell_type": "code",
   "execution_count": null,
   "metadata": {},
   "outputs": [],
   "source": [
    "human_brain_cancer()"
   ]
  },
  {
   "cell_type": "markdown",
   "metadata": {},
   "source": [
    "The data structure after running the above code should look like this:\n",
    "\n",
    "    ```\n",
    "    ./InSituPy/demo_datasets\n",
    "    ├───hbreastcancer\n",
    "    │    ├───output-XETG00000__slide_id__hbraincancer\n",
    "    │    ├───unregistered_images\n",
    "    ├───hbraincancer\n",
    "    │    ├───output-XETG00000__slide_id__hbraincancer  \n",
    "    │    ├───unregistered_images\n",
    "    \n",
    "    ```\n"
   ]
  },
  {
   "cell_type": "markdown",
   "metadata": {},
   "source": [
    "Now we can load the Xenium data into an `XeniumData` object. This can be done by `read_xenium(Path)` where `Path` is the path to the respective dataset:"
   ]
  },
  {
   "cell_type": "code",
   "execution_count": null,
   "metadata": {},
   "outputs": [],
   "source": [
    "xd = read_xenium(Path(expanduser(\"~\"),\".cache/InSituPy/demo_datasets/hlungcancer/output-XETG00000__slide_id__hlungcancer\"))"
   ]
  },
  {
   "cell_type": "code",
   "execution_count": null,
   "metadata": {},
   "outputs": [],
   "source": [
    "xd"
   ]
  },
  {
   "cell_type": "markdown",
   "metadata": {},
   "source": [
    "To explore the datasets continue with registering the images as demonstrated in [02_InSituPy_demo_register_images.ipynb](./02_InSituPy_demo_register_images.ipynb) as well as preprocessing and visualizing the data as in [03_InSituPy_demo_analyze.ipynb](./03_InSituPy_demo_analyze.ipynb). "
   ]
  }
 ],
 "metadata": {
  "language_info": {
   "name": "python"
  }
 },
 "nbformat": 4,
 "nbformat_minor": 2
}
