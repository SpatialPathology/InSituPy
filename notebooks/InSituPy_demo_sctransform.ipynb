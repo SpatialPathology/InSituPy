{
 "cells": [
  {
   "cell_type": "code",
   "execution_count": 1,
   "metadata": {},
   "outputs": [],
   "source": [
    "## The following code ensures that all functions and init files are reloaded before executions.\n",
    "%load_ext autoreload\n",
    "%autoreload 2"
   ]
  },
  {
   "cell_type": "code",
   "execution_count": 2,
   "metadata": {},
   "outputs": [],
   "source": [
    "from pathlib import Path\n",
    "from insitupy.datasets.download import download_url\n",
    "import shutil\n",
    "import os\n",
    "from insitupy import read_xenium\n",
    "import scanpy as sc"
   ]
  },
  {
   "cell_type": "markdown",
   "metadata": {},
   "source": [
    "## Previous steps\n",
    "\n",
    "Download the example data for demonstration: [01_InSituPy_demo_download_data.ipynb](./01_InSituPy_demo_download_data.ipynb).\n"
   ]
  },
  {
   "cell_type": "markdown",
   "metadata": {},
   "source": [
    "### Instructions: Setting Up R Integration in Jupyter Notebook\n",
    "\n",
    "To run sctransform, that calls R in the backend within a Jupyter Notebook, please follow these steps:\n",
    "\n",
    "---\n",
    "\n",
    "#### 1. Install R\n",
    "\n",
    "Download and install R from the [CRAN website](https://cran.r-project.org/):\n",
    "\n",
    "- **Windows**: Choose the Windows installer and follow the installation prompts.\n",
    "- **macOS**: Download the macOS package and install it.\n",
    "- **Linux**: Use your package manager (e.g., `sudo apt install r-base` for Ubuntu/Debian).\n",
    "\n",
    "---\n",
    "\n",
    "####  2. Install the `rpy2` Python Package\n",
    "\n",
    "Open your terminal or command prompt and run:\n",
    "\n",
    "```bash\n",
    "pip install rpy2\n",
    "```\n",
    "\n",
    "Ensure that you're installing it in the same Python environment that your Jupyter Notebook will use.\n",
    "\n",
    "---\n",
    "\n",
    "\n",
    "#### 3. **Add R to the PATH (Windows):**\n",
    "\n",
    "   - The default path is usually `C:\\Program Files\\R\\R-x.y.z\\bin`, where `x.y.z` is the R version number.\n",
    "   - Press `Win + X` and select **System**.\n",
    "   - Click on **Advanced system settings**.\n",
    "   - In the **System Properties** window, click **Environment Variables**.\n",
    "   - Under **System variables**, scroll down and select **Path**, then click **Edit**.\n",
    "   - Click **New** and add the path to R's `bin` directory (e.g., `C:\\Program Files\\R\\R-4.1.0\\bin`).\n",
    "   - Click **OK** to close all windows.\n",
    "   - Restart VisualStudio\n"
   ]
  },
  {
   "cell_type": "code",
   "execution_count": 3,
   "metadata": {},
   "outputs": [],
   "source": [
    "# prepare paths\n",
    "out_dir = Path(\"demo_dataset\") # output directory\n",
    "data_dir = out_dir / \"output-XETG00000__0001879__Replicate 1\" # directory of xenium data\n",
    "image_dir = out_dir / \"unregistered_images\" # directory of images"
   ]
  },
  {
   "cell_type": "code",
   "execution_count": 4,
   "metadata": {},
   "outputs": [],
   "source": [
    "xd = read_xenium(data_dir)"
   ]
  },
  {
   "cell_type": "code",
   "execution_count": 5,
   "metadata": {},
   "outputs": [
    {
     "data": {
      "text/plain": [
       "\u001b[1m\u001b[31mInSituData\u001b[0m\n",
       "\u001b[1mMethod:\u001b[0m\t\tXenium\n",
       "\u001b[1mSlide ID:\u001b[0m\t0001879\n",
       "\u001b[1mSample ID:\u001b[0m\tReplicate 1\n",
       "\u001b[1mPath:\u001b[0m\t\tC:\\Users\\Aitana\\OneDrive\\Documentos\\Github\\InSituPy\\notebooks\\demo_dataset\\output-XETG00000__0001879__Replicate 1\n",
       "\u001b[1mMetadata file:\u001b[0m\texperiment.xenium"
      ]
     },
     "execution_count": 5,
     "metadata": {},
     "output_type": "execute_result"
    }
   ],
   "source": [
    "xd"
   ]
  },
  {
   "cell_type": "code",
   "execution_count": 6,
   "metadata": {},
   "outputs": [
    {
     "name": "stdout",
     "output_type": "stream",
     "text": [
      "Loading annotations...\n",
      "No `annotations` modality found.\n",
      "Loading cells...\n",
      "Loading images...\n",
      "Loading regions...\n",
      "No `regions` modality found.\n",
      "Loading transcripts...\n"
     ]
    }
   ],
   "source": [
    "# read all data modalities at once\n",
    "xd.load_all()\n",
    "\n",
    "# alternatively, it is also possible to read each modality separately\n",
    "# xd.load_cells()\n",
    "# xd.load_images()\n",
    "# xd.load_transcripts()\n",
    "# xd.read_annotations()"
   ]
  },
  {
   "cell_type": "code",
   "execution_count": 7,
   "metadata": {},
   "outputs": [
    {
     "data": {
      "text/plain": [
       "\u001b[1m\u001b[31mInSituData\u001b[0m\n",
       "\u001b[1mMethod:\u001b[0m\t\tXenium\n",
       "\u001b[1mSlide ID:\u001b[0m\t0001879\n",
       "\u001b[1mSample ID:\u001b[0m\tReplicate 1\n",
       "\u001b[1mPath:\u001b[0m\t\tC:\\Users\\Aitana\\OneDrive\\Documentos\\Github\\InSituPy\\notebooks\\demo_dataset\\output-XETG00000__0001879__Replicate 1\n",
       "\u001b[1mMetadata file:\u001b[0m\texperiment.xenium\n",
       "    ➤ \u001b[34m\u001b[1mimages\u001b[0m\n",
       "       \u001b[1mnuclei:\u001b[0m\t(25778, 35416)\n",
       "    ➤\u001b[32m\u001b[1m cells\u001b[0m\n",
       "       \u001b[1mmatrix\u001b[0m\n",
       "           AnnData object with n_obs × n_vars = 167780 × 313\n",
       "           obs: 'transcript_counts', 'control_probe_counts', 'control_codeword_counts', 'total_counts', 'cell_area', 'nucleus_area'\n",
       "           var: 'gene_ids', 'feature_types', 'genome'\n",
       "           obsm: 'spatial'\n",
       "           varm: 'binned_expression'\n",
       "       \u001b[1mboundaries\u001b[0m\n",
       "           BoundariesData object with 2 entries:\n",
       "               \u001b[1mnuclear\u001b[0m\n",
       "               \u001b[1mcellular\u001b[0m\n",
       "    ➤\u001b[95m\u001b[1m transcripts\u001b[0m\n",
       "       DataFrame with shape 42638083 x 7"
      ]
     },
     "execution_count": 7,
     "metadata": {},
     "output_type": "execute_result"
    }
   ],
   "source": [
    "xd"
   ]
  },
  {
   "cell_type": "markdown",
   "metadata": {},
   "source": [
    "Filtering "
   ]
  },
  {
   "cell_type": "code",
   "execution_count": 8,
   "metadata": {},
   "outputs": [],
   "source": [
    "sc.pp.filter_cells(xd.cells.matrix, min_genes=10)"
   ]
  },
  {
   "cell_type": "markdown",
   "metadata": {},
   "source": [
    "#### Applying sctransform method to the insitudata object"
   ]
  },
  {
   "cell_type": "code",
   "execution_count": 9,
   "metadata": {},
   "outputs": [
    {
     "name": "stdout",
     "output_type": "stream",
     "text": [
      "Applying SCTransform to the main modality (cells.matrix)...\n",
      "\n",
      "    WARNING: The R package \"reticulate\" only fixed recently\n",
      "    an issue that caused a segfault when used with rpy2:\n",
      "    https://github.com/rstudio/reticulate/pull/1188\n",
      "    Make sure that you use a version of that package that includes\n",
      "    the fix.\n",
      "    "
     ]
    },
    {
     "name": "stderr",
     "output_type": "stream",
     "text": [
      "R[write to console]: Running SCTransform on assay: RNA\n",
      "\n",
      "R[write to console]: Running SCTransform on layer: counts\n",
      "\n",
      "R[write to console]: vst.flavor='v2' set. Using model with fixed slope and excluding poisson genes.\n",
      "\n",
      "R[write to console]: Variance stabilizing transformation of count matrix of size 313 by 163565\n",
      "\n",
      "R[write to console]: Model formula is y ~ log_umi\n",
      "\n",
      "R[write to console]: Get Negative Binomial regression parameters per gene\n",
      "\n",
      "R[write to console]: Using 313 genes, 5000 cells\n",
      "\n",
      "R[write to console]: Found 2 outliers - those will be ignored in fitting/regularization step\n",
      "\n",
      "\n",
      "R[write to console]: Second step: Get residuals using fitted parameters for 313 genes\n",
      "\n",
      "R[write to console]: Computing corrected count matrix for 313 genes\n",
      "\n",
      "R[write to console]: Calculating gene attributes\n",
      "\n",
      "R[write to console]: Wall clock passed: Time difference of 37.93162 secs\n",
      "\n",
      "R[write to console]: Determine variable features\n",
      "\n",
      "R[write to console]: Centering data matrix\n",
      "\n",
      "  |                                                                            \n",
      "  |                                                                      |   0%\n",
      "  |                                                                            \n",
      "  |======================================================================| 100%\n",
      "R[write to console]: \n",
      "\n",
      "R[write to console]: Getting residuals for block 1(of 33) for counts dataset\n",
      "\n",
      "R[write to console]: Getting residuals for block 2(of 33) for counts dataset\n",
      "\n",
      "R[write to console]: Getting residuals for block 3(of 33) for counts dataset\n",
      "\n",
      "R[write to console]: Getting residuals for block 4(of 33) for counts dataset\n",
      "\n",
      "R[write to console]: Getting residuals for block 5(of 33) for counts dataset\n",
      "\n",
      "R[write to console]: Getting residuals for block 6(of 33) for counts dataset\n",
      "\n",
      "R[write to console]: Getting residuals for block 7(of 33) for counts dataset\n",
      "\n",
      "R[write to console]: Getting residuals for block 8(of 33) for counts dataset\n",
      "\n",
      "R[write to console]: Getting residuals for block 9(of 33) for counts dataset\n",
      "\n",
      "R[write to console]: Getting residuals for block 10(of 33) for counts dataset\n",
      "\n",
      "R[write to console]: Getting residuals for block 11(of 33) for counts dataset\n",
      "\n",
      "R[write to console]: Getting residuals for block 12(of 33) for counts dataset\n",
      "\n",
      "R[write to console]: Getting residuals for block 13(of 33) for counts dataset\n",
      "\n",
      "R[write to console]: Getting residuals for block 14(of 33) for counts dataset\n",
      "\n",
      "R[write to console]: Getting residuals for block 15(of 33) for counts dataset\n",
      "\n",
      "R[write to console]: Getting residuals for block 16(of 33) for counts dataset\n",
      "\n",
      "R[write to console]: Getting residuals for block 17(of 33) for counts dataset\n",
      "\n",
      "R[write to console]: Getting residuals for block 18(of 33) for counts dataset\n",
      "\n",
      "R[write to console]: Getting residuals for block 19(of 33) for counts dataset\n",
      "\n",
      "R[write to console]: Getting residuals for block 20(of 33) for counts dataset\n",
      "\n",
      "R[write to console]: Getting residuals for block 21(of 33) for counts dataset\n",
      "\n",
      "R[write to console]: Getting residuals for block 22(of 33) for counts dataset\n",
      "\n",
      "R[write to console]: Getting residuals for block 23(of 33) for counts dataset\n",
      "\n",
      "R[write to console]: Getting residuals for block 24(of 33) for counts dataset\n",
      "\n",
      "R[write to console]: Getting residuals for block 25(of 33) for counts dataset\n",
      "\n",
      "R[write to console]: Getting residuals for block 26(of 33) for counts dataset\n",
      "\n",
      "R[write to console]: Getting residuals for block 27(of 33) for counts dataset\n",
      "\n",
      "R[write to console]: Getting residuals for block 28(of 33) for counts dataset\n",
      "\n",
      "R[write to console]: Getting residuals for block 29(of 33) for counts dataset\n",
      "\n",
      "R[write to console]: Getting residuals for block 30(of 33) for counts dataset\n",
      "\n",
      "R[write to console]: Getting residuals for block 31(of 33) for counts dataset\n",
      "\n",
      "R[write to console]: Getting residuals for block 32(of 33) for counts dataset\n",
      "\n",
      "R[write to console]: Getting residuals for block 33(of 33) for counts dataset\n",
      "\n",
      "R[write to console]: Centering data matrix\n",
      "\n",
      "  |                                                                            \n",
      "  |                                                                      |   0%\n",
      "  |                                                                            \n",
      "  |======================================================================| 100%\n",
      "R[write to console]: \n",
      "\n",
      "R[write to console]: Finished calculating residuals for counts\n",
      "\n",
      "R[write to console]: Set default assay to SCT\n",
      "\n",
      "C:\\Users\\Aitana\\OneDrive\\Documentos\\Github\\InSituPy\\insitupy\\utils\\preprocessing.py:70: ImplicitModificationWarning: Setting element `.layers['SCT_adata']` of view, initializing view as actual.\n",
      "  adata.layers[\"SCT_adata\"] = sct_data.T\n"
     ]
    },
    {
     "name": "stdout",
     "output_type": "stream",
     "text": [
      "No alternative modalities found.\n",
      "SCTransform completed for all modalities.\n"
     ]
    }
   ],
   "source": [
    "xd.sctransform()"
   ]
  },
  {
   "cell_type": "markdown",
   "metadata": {},
   "source": [
    "If we now access the anndata object inside cells.matrix, SCT_adata contains the sctransform counts, while layer counts contains the raw data. "
   ]
  },
  {
   "cell_type": "code",
   "execution_count": 10,
   "metadata": {},
   "outputs": [
    {
     "data": {
      "text/plain": [
       "AnnData object with n_obs × n_vars = 163565 × 313\n",
       "    obs: 'transcript_counts', 'control_probe_counts', 'control_codeword_counts', 'total_counts', 'cell_area', 'nucleus_area', 'n_genes'\n",
       "    var: 'gene_ids', 'feature_types', 'genome'\n",
       "    obsm: 'spatial'\n",
       "    varm: 'binned_expression'\n",
       "    layers: 'SCT_adata', 'counts'"
      ]
     },
     "execution_count": 10,
     "metadata": {},
     "output_type": "execute_result"
    }
   ],
   "source": [
    "xd.cells.matrix"
   ]
  }
 ],
 "metadata": {
  "kernelspec": {
   "display_name": "Python (insitupy)",
   "language": "python",
   "name": "insitupy"
  },
  "language_info": {
   "codemirror_mode": {
    "name": "ipython",
    "version": 3
   },
   "file_extension": ".py",
   "mimetype": "text/x-python",
   "name": "python",
   "nbconvert_exporter": "python",
   "pygments_lexer": "ipython3",
   "version": "3.9.20"
  }
 },
 "nbformat": 4,
 "nbformat_minor": 2
}
