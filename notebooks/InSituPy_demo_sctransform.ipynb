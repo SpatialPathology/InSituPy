{
 "cells": [
  {
   "cell_type": "code",
   "execution_count": 1,
   "metadata": {},
   "outputs": [],
   "source": [
    "## The following code ensures that all functions and init files are reloaded before executions.\n",
    "%load_ext autoreload\n",
    "%autoreload 2"
   ]
  },
  {
   "cell_type": "markdown",
   "metadata": {},
   "source": [
    "## Previous steps\n",
    "\n",
    "Download the example data for demonstration: [01_InSituPy_demo_download_data.ipynb](./01_InSituPy_demo_download_data.ipynb).\n"
   ]
  },
  {
   "cell_type": "markdown",
   "metadata": {},
   "source": [
    "## Getting started: Setting Up R Integration in Jupyter Notebook\n",
    "\n",
    "To run sctransform, that calls R in the backend within a Jupyter Notebook, please follow these steps:\n",
    "\n",
    "---\n",
    "\n",
    "### 1. Install R\n",
    "\n",
    "Download and install R from the [CRAN website](https://cran.r-project.org/):\n",
    "\n",
    "- **Windows**: Choose the Windows installer and follow the installation prompts.\n",
    "- **macOS**: Download the macOS package and install it.\n",
    "- **Linux**: Use your package manager (e.g., `sudo apt install r-base` for Ubuntu/Debian).\n",
    "\n",
    "---\n",
    "\n",
    "###  2. Install the `rpy2` Python Package\n",
    "\n",
    "Open your terminal or command prompt and run:\n",
    "\n",
    "```bash\n",
    "pip install rpy2\n",
    "```\n",
    "\n",
    "Ensure that you're installing it in the same Python environment that your Jupyter Notebook will use.\n",
    "\n",
    "---\n",
    "\n",
    "\n",
    "### 3. **Add R to the PATH (Windows):**\n",
    "\n",
    "   - The default path is usually `C:\\Program Files\\R\\R-x.y.z\\bin`, where `x.y.z` is the R version number.\n",
    "   - Press `Win + X` and select **System**.\n",
    "   - Click on **Advanced system settings**.\n",
    "   - In the **System Properties** window, click **Environment Variables**.\n",
    "   - Under **System variables**, scroll down and select **Path**, then click **Edit**.\n",
    "   - Click **New** and add the path to R's `bin` directory (e.g., `C:\\Program Files\\R\\R-4.1.0\\bin`).\n",
    "   - Click **OK** to close all windows.\n",
    "   - Restart VisualStudio\n",
    "\n",
    "### 3. Install `Seurat` in R\n",
    "\n",
    "1. **Open R or RStudio**: Launch your R or RStudio application.\n",
    "\n",
    "2. **Install `Seurat` from CRAN**:\n",
    "   In the R console, run the following command to install `Seurat` from CRAN:\n",
    "   ```R\n",
    "   install.packages(\"Seurat\")"
   ]
  },
  {
   "cell_type": "markdown",
   "metadata": {},
   "source": [
    "### Setup R environment\n",
    "\n",
    "To prevent the kernel from crashing when importing `anndata2ri`, it is advisable to specify the R home path as follows."
   ]
  },
  {
   "cell_type": "code",
   "execution_count": null,
   "metadata": {},
   "outputs": [],
   "source": [
    "import os\n",
    "os.environ['R_HOME'] = 'C:\\Program Files\\R\\R-4.4.1'"
   ]
  },
  {
   "cell_type": "markdown",
   "metadata": {},
   "source": [
    "### Import packages"
   ]
  },
  {
   "cell_type": "code",
   "execution_count": null,
   "metadata": {},
   "outputs": [],
   "source": [
    "from pathlib import Path\n",
    "\n",
    "import shutil\n",
    "import os\n",
    "\n",
    "from insitupy import read_xenium\n",
    "import scanpy as sc\n",
    "\n",
    "from insitupy.datasets.download import download_url"
   ]
  },
  {
   "cell_type": "markdown",
   "metadata": {},
   "source": [
    "## Apply `sctransform`"
   ]
  },
  {
   "cell_type": "code",
   "execution_count": 4,
   "metadata": {},
   "outputs": [],
   "source": [
    "# prepare paths\n",
    "out_dir = Path(\"demo_dataset\") # output directory\n",
    "data_dir = out_dir / \"output-XETG00000__0001879__Replicate 1\" # directory of xenium data\n",
    "image_dir = out_dir / \"unregistered_images\" # directory of images"
   ]
  },
  {
   "cell_type": "code",
   "execution_count": 5,
   "metadata": {},
   "outputs": [],
   "source": [
    "xd = read_xenium(data_dir)"
   ]
  },
  {
   "cell_type": "code",
   "execution_count": 6,
   "metadata": {},
   "outputs": [
    {
     "data": {
      "text/plain": [
       "\u001b[1m\u001b[31mInSituData\u001b[0m\n",
       "\u001b[1mMethod:\u001b[0m\t\tXenium\n",
       "\u001b[1mSlide ID:\u001b[0m\t0001879\n",
       "\u001b[1mSample ID:\u001b[0m\tReplicate 1\n",
       "\u001b[1mPath:\u001b[0m\t\tC:\\Users\\ge37voy\\Github\\InSituPy\\notebooks\\demo_dataset\\output-XETG00000__0001879__Replicate 1\n",
       "\u001b[1mMetadata file:\u001b[0m\texperiment_modified.xenium"
      ]
     },
     "execution_count": 6,
     "metadata": {},
     "output_type": "execute_result"
    }
   ],
   "source": [
    "xd"
   ]
  },
  {
   "cell_type": "code",
   "execution_count": 7,
   "metadata": {},
   "outputs": [
    {
     "name": "stdout",
     "output_type": "stream",
     "text": [
      "Loading annotations...\n",
      "No `annotations` modality found.\n",
      "Loading cells...\n",
      "Loading images...\n",
      "Loading regions...\n",
      "No `regions` modality found.\n",
      "Loading transcripts...\n"
     ]
    }
   ],
   "source": [
    "# read all data modalities at once\n",
    "xd.load_all()\n",
    "\n",
    "# alternatively, it is also possible to read each modality separately\n",
    "# xd.load_cells()\n",
    "# xd.load_images()\n",
    "# xd.load_transcripts()\n",
    "# xd.read_annotations()"
   ]
  },
  {
   "cell_type": "code",
   "execution_count": 8,
   "metadata": {},
   "outputs": [
    {
     "data": {
      "text/plain": [
       "\u001b[1m\u001b[31mInSituData\u001b[0m\n",
       "\u001b[1mMethod:\u001b[0m\t\tXenium\n",
       "\u001b[1mSlide ID:\u001b[0m\t0001879\n",
       "\u001b[1mSample ID:\u001b[0m\tReplicate 1\n",
       "\u001b[1mPath:\u001b[0m\t\tC:\\Users\\ge37voy\\Github\\InSituPy\\notebooks\\demo_dataset\\output-XETG00000__0001879__Replicate 1\n",
       "\u001b[1mMetadata file:\u001b[0m\texperiment_modified.xenium\n",
       "    ➤ \u001b[34m\u001b[1mimages\u001b[0m\n",
       "       \u001b[1mnuclei:\u001b[0m\t(25778, 35416)\n",
       "       \u001b[1mCD20:\u001b[0m\t(25778, 35416)\n",
       "       \u001b[1mHER2:\u001b[0m\t(25778, 35416)\n",
       "       \u001b[1mDAPI:\u001b[0m\t(25778, 35416)\n",
       "       \u001b[1mHE:\u001b[0m\t(25778, 35416, 3)\n",
       "    ➤\u001b[32m\u001b[1m cells\u001b[0m\n",
       "       \u001b[1mmatrix\u001b[0m\n",
       "           AnnData object with n_obs × n_vars = 167780 × 313\n",
       "           obs: 'transcript_counts', 'control_probe_counts', 'control_codeword_counts', 'total_counts', 'cell_area', 'nucleus_area'\n",
       "           var: 'gene_ids', 'feature_types', 'genome'\n",
       "           obsm: 'spatial'\n",
       "           varm: 'binned_expression'\n",
       "       \u001b[1mboundaries\u001b[0m\n",
       "           BoundariesData object with 2 entries:\n",
       "               \u001b[1mnuclear\u001b[0m\n",
       "               \u001b[1mcellular\u001b[0m\n",
       "    ➤\u001b[95m\u001b[1m transcripts\u001b[0m\n",
       "       DataFrame with shape 42638083 x 7"
      ]
     },
     "execution_count": 8,
     "metadata": {},
     "output_type": "execute_result"
    }
   ],
   "source": [
    "xd"
   ]
  },
  {
   "cell_type": "markdown",
   "metadata": {},
   "source": [
    "### Filtering "
   ]
  },
  {
   "cell_type": "code",
   "execution_count": 9,
   "metadata": {},
   "outputs": [],
   "source": [
    "sc.pp.filter_cells(xd.cells.matrix, min_genes=10)"
   ]
  },
  {
   "cell_type": "markdown",
   "metadata": {},
   "source": [
    "#### Applying sctransform method to the insitudata object"
   ]
  },
  {
   "cell_type": "code",
   "execution_count": 11,
   "metadata": {},
   "outputs": [
    {
     "name": "stdout",
     "output_type": "stream",
     "text": [
      "Applying SCTransform to the main modality (cells.matrix)...\n"
     ]
    },
    {
     "name": "stderr",
     "output_type": "stream",
     "text": [
      "R[write to console]: In addition: \n",
      "R[write to console]: Warning message:\n",
      "\n",
      "R[write to console]: In (function (package, help, pos = 2, lib.loc = NULL, character.only = FALSE,  :\n",
      "R[write to console]: \n",
      " \n",
      "R[write to console]:  library 'C:/Users/ge37voy/AppData/Local/R/win-library/4.4' contains no packages\n",
      "\n"
     ]
    },
    {
     "name": "stdout",
     "output_type": "stream",
     "text": [
      "\n",
      "    WARNING: The R package \"reticulate\" only fixed recently\n",
      "    an issue that caused a segfault when used with rpy2:\n",
      "    https://github.com/rstudio/reticulate/pull/1188\n",
      "    Make sure that you use a version of that package that includes\n",
      "    the fix.\n",
      "    "
     ]
    },
    {
     "name": "stderr",
     "output_type": "stream",
     "text": [
      "R[write to console]: Running SCTransform on assay: RNA\n",
      "\n",
      "R[write to console]: Running SCTransform on layer: counts\n",
      "\n",
      "R[write to console]: vst.flavor='v2' set. Using model with fixed slope and excluding poisson genes.\n",
      "\n",
      "R[write to console]: `vst.flavor` is set to 'v2' but could not find glmGamPoi installed.\n",
      "Please install the glmGamPoi package for much faster estimation.\n",
      "--------------------------------------------\n",
      "install.packages('BiocManager')\n",
      "BiocManager::install('glmGamPoi')\n",
      "--------------------------------------------\n",
      "Falling back to native (slower) implementation.\n",
      "\n",
      "\n",
      "R[write to console]: Variance stabilizing transformation of count matrix of size 313 by 163565\n",
      "\n",
      "R[write to console]: Model formula is y ~ log_umi\n",
      "\n",
      "R[write to console]: Get Negative Binomial regression parameters per gene\n",
      "\n",
      "R[write to console]: Using 313 genes, 5000 cells\n",
      "\n",
      "R[write to console]: Second step: Get residuals using fitted parameters for 313 genes\n",
      "\n",
      "R[write to console]: Computing corrected count matrix for 313 genes\n",
      "\n",
      "R[write to console]: Calculating gene attributes\n",
      "\n",
      "R[write to console]: Wall clock passed: Time difference of 2.197338 mins\n",
      "\n",
      "R[write to console]: Determine variable features\n",
      "\n",
      "R[write to console]: Centering data matrix\n",
      "\n",
      "  |                                                                            \n",
      "  |                                                                      |   0%\n",
      "  |                                                                            \n",
      "  |======================================================================| 100%\n",
      "R[write to console]: \n",
      "\n",
      "R[write to console]: Getting residuals for block 1(of 33) for counts dataset\n",
      "\n",
      "R[write to console]: Getting residuals for block 2(of 33) for counts dataset\n",
      "\n",
      "R[write to console]: Getting residuals for block 3(of 33) for counts dataset\n",
      "\n",
      "R[write to console]: Getting residuals for block 4(of 33) for counts dataset\n",
      "\n",
      "R[write to console]: Getting residuals for block 5(of 33) for counts dataset\n",
      "\n",
      "R[write to console]: Getting residuals for block 6(of 33) for counts dataset\n",
      "\n",
      "R[write to console]: Getting residuals for block 7(of 33) for counts dataset\n",
      "\n",
      "R[write to console]: Getting residuals for block 8(of 33) for counts dataset\n",
      "\n",
      "R[write to console]: Getting residuals for block 9(of 33) for counts dataset\n",
      "\n",
      "R[write to console]: Getting residuals for block 10(of 33) for counts dataset\n",
      "\n",
      "R[write to console]: Getting residuals for block 11(of 33) for counts dataset\n",
      "\n",
      "R[write to console]: Getting residuals for block 12(of 33) for counts dataset\n",
      "\n",
      "R[write to console]: Getting residuals for block 13(of 33) for counts dataset\n",
      "\n",
      "R[write to console]: Getting residuals for block 14(of 33) for counts dataset\n",
      "\n",
      "R[write to console]: Getting residuals for block 15(of 33) for counts dataset\n",
      "\n",
      "R[write to console]: Getting residuals for block 16(of 33) for counts dataset\n",
      "\n",
      "R[write to console]: Getting residuals for block 17(of 33) for counts dataset\n",
      "\n",
      "R[write to console]: Getting residuals for block 18(of 33) for counts dataset\n",
      "\n",
      "R[write to console]: Getting residuals for block 19(of 33) for counts dataset\n",
      "\n",
      "R[write to console]: Getting residuals for block 20(of 33) for counts dataset\n",
      "\n",
      "R[write to console]: Getting residuals for block 21(of 33) for counts dataset\n",
      "\n",
      "R[write to console]: Getting residuals for block 22(of 33) for counts dataset\n",
      "\n",
      "R[write to console]: Getting residuals for block 23(of 33) for counts dataset\n",
      "\n",
      "R[write to console]: Getting residuals for block 24(of 33) for counts dataset\n",
      "\n",
      "R[write to console]: Getting residuals for block 25(of 33) for counts dataset\n",
      "\n",
      "R[write to console]: Getting residuals for block 26(of 33) for counts dataset\n",
      "\n",
      "R[write to console]: Getting residuals for block 27(of 33) for counts dataset\n",
      "\n",
      "R[write to console]: Getting residuals for block 28(of 33) for counts dataset\n",
      "\n",
      "R[write to console]: Getting residuals for block 29(of 33) for counts dataset\n",
      "\n",
      "R[write to console]: Getting residuals for block 30(of 33) for counts dataset\n",
      "\n",
      "R[write to console]: Getting residuals for block 31(of 33) for counts dataset\n",
      "\n",
      "R[write to console]: Getting residuals for block 32(of 33) for counts dataset\n",
      "\n",
      "R[write to console]: Getting residuals for block 33(of 33) for counts dataset\n",
      "\n",
      "R[write to console]: Centering data matrix\n",
      "\n",
      "  |                                                                            \n",
      "  |                                                                      |   0%\n",
      "  |                                                                            \n",
      "  |======================================================================| 100%\n",
      "R[write to console]: \n",
      "\n",
      "R[write to console]: Finished calculating residuals for counts\n",
      "\n",
      "R[write to console]: Set default assay to SCT\n",
      "\n",
      "R[write to console]: In addition: \n",
      "R[write to console]: Warning messages:\n",
      "\n",
      "R[write to console]: 1: \n",
      "R[write to console]: In theta.ml(Y, mu, sum(w), w, limit = control$maxit, trace = control$trace >  :\n",
      "R[write to console]: \n",
      " \n",
      "R[write to console]:  iteration limit reached\n",
      "\n",
      "R[write to console]: 2: \n",
      "R[write to console]: In theta.ml(Y, mu, sum(w), w, limit = control$maxit, trace = control$trace >  :\n",
      "R[write to console]: \n",
      " \n",
      "R[write to console]:  iteration limit reached\n",
      "\n",
      "R[write to console]: 3: \n",
      "R[write to console]: In glm.nb(formula = as.formula(new_formula), data = data) :\n",
      "R[write to console]: \n",
      " \n",
      "R[write to console]:  alternation limit reached\n",
      "\n",
      "R[write to console]: 4: \n",
      "R[write to console]: In theta.ml(Y, mu, sum(w), w, limit = control$maxit, trace = control$trace >  :\n",
      "R[write to console]: \n",
      " \n",
      "R[write to console]:  iteration limit reached\n",
      "\n",
      "R[write to console]: 5: \n",
      "R[write to console]: In theta.ml(Y, mu, sum(w), w, limit = control$maxit, trace = control$trace >  :\n",
      "R[write to console]: \n",
      " \n",
      "R[write to console]:  iteration limit reached\n",
      "\n",
      "C:\\Users\\ge37voy\\Github\\InSituPy\\insitupy\\utils\\preprocessing.py:79: ImplicitModificationWarning: Setting element `.layers['norm_counts']` of view, initializing view as actual.\n",
      "  adata.layers[\"norm_counts\"] = sct_data.T\n"
     ]
    },
    {
     "name": "stdout",
     "output_type": "stream",
     "text": [
      "No alternative modalities found.\n",
      "SCTransform completed for all modalities.\n"
     ]
    }
   ],
   "source": [
    "xd.sctransform()"
   ]
  },
  {
   "cell_type": "markdown",
   "metadata": {},
   "source": [
    "If we now access the anndata object inside `.cells.matrix`, `\"norm_counts\"` in `.layers` contains the sctransform counts, while the layer `\"counts\"` contains the raw data. "
   ]
  },
  {
   "cell_type": "code",
   "execution_count": 12,
   "metadata": {},
   "outputs": [
    {
     "data": {
      "text/plain": [
       "AnnData object with n_obs × n_vars = 163565 × 313\n",
       "    obs: 'transcript_counts', 'control_probe_counts', 'control_codeword_counts', 'total_counts', 'cell_area', 'nucleus_area', 'n_genes'\n",
       "    var: 'gene_ids', 'feature_types', 'genome'\n",
       "    obsm: 'spatial'\n",
       "    varm: 'binned_expression'\n",
       "    layers: 'norm_counts', 'counts'"
      ]
     },
     "execution_count": 12,
     "metadata": {},
     "output_type": "execute_result"
    }
   ],
   "source": [
    "xd.cells.matrix"
   ]
  }
 ],
 "metadata": {
  "kernelspec": {
   "display_name": "insitupy",
   "language": "python",
   "name": "python3"
  },
  "language_info": {
   "codemirror_mode": {
    "name": "ipython",
    "version": 3
   },
   "file_extension": ".py",
   "mimetype": "text/x-python",
   "name": "python",
   "nbconvert_exporter": "python",
   "pygments_lexer": "ipython3",
   "version": "3.9.18"
  }
 },
 "nbformat": 4,
 "nbformat_minor": 2
}
