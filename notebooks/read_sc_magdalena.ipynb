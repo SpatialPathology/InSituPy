{
 "cells": [
  {
   "cell_type": "code",
   "execution_count": null,
   "metadata": {},
   "outputs": [],
   "source": [
    "import scanpy as sc\n",
    "\n",
    "# read the data from a directory\n",
    "# directory needs to contain files names matrix.mtx.gz, features.tsv.gz and barcodes.tsv.gz\n",
    "mtx_dir = r\"C:\\Users\\ge37voy\\data\\datasets\\magdalena\"\n",
    "\n",
    "# read the data using scanpy\n",
    "adata = sc.read_10x_mtx(mtx_dir)"
   ]
  },
  {
   "cell_type": "code",
   "execution_count": null,
   "metadata": {},
   "outputs": [],
   "source": [
    "mtx_file = Path(r\"C:\\Users\\ge37voy\\Downloads\\GSM5847946_matrix.mtx.gz\")\n",
    "bc_file = Path(r\"C:\\Users\\ge37voy\\Downloads\\GSM5847946_barcodes.tsv.gz\")\n",
    "feat_file = Path(r\"C:\\Users\\ge37voy\\Downloads\\GSM5847946_features.tsv.gz\")\n"
   ]
  },
  {
   "cell_type": "code",
   "execution_count": 30,
   "metadata": {},
   "outputs": [
    {
     "data": {
      "text/plain": [
       "AnnData object with n_obs × n_vars = 16628 × 36601\n",
       "    var: 'gene_ids', 'feature_types'"
      ]
     },
     "execution_count": 30,
     "metadata": {},
     "output_type": "execute_result"
    }
   ],
   "source": [
    "adata"
   ]
  },
  {
   "cell_type": "code",
   "execution_count": 32,
   "metadata": {},
   "outputs": [
    {
     "data": {
      "text/html": [
       "<div>\n",
       "<style scoped>\n",
       "    .dataframe tbody tr th:only-of-type {\n",
       "        vertical-align: middle;\n",
       "    }\n",
       "\n",
       "    .dataframe tbody tr th {\n",
       "        vertical-align: top;\n",
       "    }\n",
       "\n",
       "    .dataframe thead th {\n",
       "        text-align: right;\n",
       "    }\n",
       "</style>\n",
       "<table border=\"1\" class=\"dataframe\">\n",
       "  <thead>\n",
       "    <tr style=\"text-align: right;\">\n",
       "      <th></th>\n",
       "    </tr>\n",
       "  </thead>\n",
       "  <tbody>\n",
       "    <tr>\n",
       "      <th>AAACCTGAGACGACGT-1</th>\n",
       "    </tr>\n",
       "    <tr>\n",
       "      <th>AAACCTGAGACGCTTT-1</th>\n",
       "    </tr>\n",
       "    <tr>\n",
       "      <th>AAACCTGAGACTTTCG-1</th>\n",
       "    </tr>\n",
       "    <tr>\n",
       "      <th>AAACCTGAGAGATGAG-1</th>\n",
       "    </tr>\n",
       "    <tr>\n",
       "      <th>AAACCTGAGAGTAATC-1</th>\n",
       "    </tr>\n",
       "    <tr>\n",
       "      <th>...</th>\n",
       "    </tr>\n",
       "    <tr>\n",
       "      <th>TTTGTCATCATTGCGA-1</th>\n",
       "    </tr>\n",
       "    <tr>\n",
       "      <th>TTTGTCATCCCAAGAT-1</th>\n",
       "    </tr>\n",
       "    <tr>\n",
       "      <th>TTTGTCATCCCTCAGT-1</th>\n",
       "    </tr>\n",
       "    <tr>\n",
       "      <th>TTTGTCATCCGGCACA-1</th>\n",
       "    </tr>\n",
       "    <tr>\n",
       "      <th>TTTGTCATCTTCCTTC-1</th>\n",
       "    </tr>\n",
       "  </tbody>\n",
       "</table>\n",
       "<p>16628 rows × 0 columns</p>\n",
       "</div>"
      ],
      "text/plain": [
       "Empty DataFrame\n",
       "Columns: []\n",
       "Index: [AAACCTGAGACGACGT-1, AAACCTGAGACGCTTT-1, AAACCTGAGACTTTCG-1, AAACCTGAGAGATGAG-1, AAACCTGAGAGTAATC-1, AAACCTGAGATCGGGT-1, AAACCTGAGCCGATTT-1, AAACCTGAGCGCCTCA-1, AAACCTGAGCGGCTTC-1, AAACCTGAGCTAACTC-1, AAACCTGAGGGTGTTG-1, AAACCTGAGTGGAGAA-1, AAACCTGCAACAACCT-1, AAACCTGCAAGGTTCT-1, AAACCTGCACCAGCAC-1, AAACCTGCACGAAATA-1, AAACCTGCACGTCAGC-1, AAACCTGCACTGCCAG-1, AAACCTGCATACTACG-1, AAACCTGGTAAACCTC-1, AAACCTGGTATATGAG-1, AAACCTGGTCAATGTC-1, AAACCTGGTCATCGGC-1, AAACCTGGTGACAAAT-1, AAACCTGGTGCACGAA-1, AAACCTGGTGTTGGGA-1, AAACCTGGTTGGGACA-1, AAACCTGTCAACCATG-1, AAACCTGTCAACGGCC-1, AAACCTGTCACCGGGT-1, AAACCTGTCAGGCAAG-1, AAACCTGTCCCACTTG-1, AAACCTGTCCTCTAGC-1, AAACCTGTCGGCTACG-1, AAACCTGTCGGTCTAA-1, AAACCTGTCGGTGTCG-1, AAACGGGAGACAGAGA-1, AAACGGGAGACGACGT-1, AAACGGGAGCAAATCA-1, AAACGGGAGCCACTAT-1, AAACGGGAGCTGAAAT-1, AAACGGGAGTACTTGC-1, AAACGGGAGTGGAGAA-1, AAACGGGAGTTGAGTA-1, AAACGGGCAAGGACTG-1, AAACGGGCAAGTCATC-1, AAACGGGCAATAGCAA-1, AAACGGGCAATGGATA-1, AAACGGGCACATTTCT-1, AAACGGGCACGAAAGC-1, AAACGGGCACGCTTTC-1, AAACGGGCAGGTCCAC-1, AAACGGGCATACCATG-1, AAACGGGCATCACGTA-1, AAACGGGCATCCGGGT-1, AAACGGGCATTGAGCT-1, AAACGGGGTAAAGGAG-1, AAACGGGGTACGACCC-1, AAACGGGGTATCACCA-1, AAACGGGGTCCGAACC-1, AAACGGGGTCGGATCC-1, AAACGGGGTCTGCAAT-1, AAACGGGGTGTGCGTC-1, AAACGGGGTGTTAAGA-1, AAACGGGGTTCCAACA-1, AAACGGGGTTGGTAAA-1, AAACGGGGTTTAAGCC-1, AAACGGGTCAAACAAG-1, AAACGGGTCCAGATCA-1, AAACGGGTCCGCGTTT-1, AAACGGGTCGTAGATC-1, AAACGGGTCTCAACTT-1, AAACGGGTCTGTGCAA-1, AAACGGGTCTTGACGA-1, AAAGATGAGAAGATTC-1, AAAGATGAGAGCTTCT-1, AAAGATGAGATCCGAG-1, AAAGATGAGCTAAGAT-1, AAAGATGAGGAATGGA-1, AAAGATGAGGATCGCA-1, AAAGATGAGGATGCGT-1, AAAGATGAGTCATGCT-1, AAAGATGAGTCCTCCT-1, AAAGATGAGTGGTAGC-1, AAAGATGCAAAGCGGT-1, AAAGATGCAAGTAATG-1, AAAGATGCACACCGCA-1, AAAGATGCACATCCAA-1, AAAGATGCACCAACCG-1, AAAGATGCACCATGTA-1, AAAGATGCACCCTATC-1, AAAGATGCACCTCGTT-1, AAAGATGCAGACAGGT-1, AAAGATGCATCCAACA-1, AAAGATGCATCTATGG-1, AAAGATGCATTCTCAT-1, AAAGATGGTAGGAGTC-1, AAAGATGGTATAGGTA-1, AAAGATGGTCAATGTC-1, AAAGATGGTCAGATAA-1, ...]\n",
       "\n",
       "[16628 rows x 0 columns]"
      ]
     },
     "execution_count": 32,
     "metadata": {},
     "output_type": "execute_result"
    }
   ],
   "source": [
    "adata.obs"
   ]
  },
  {
   "cell_type": "code",
   "execution_count": 33,
   "metadata": {},
   "outputs": [
    {
     "data": {
      "text/html": [
       "<div>\n",
       "<style scoped>\n",
       "    .dataframe tbody tr th:only-of-type {\n",
       "        vertical-align: middle;\n",
       "    }\n",
       "\n",
       "    .dataframe tbody tr th {\n",
       "        vertical-align: top;\n",
       "    }\n",
       "\n",
       "    .dataframe thead th {\n",
       "        text-align: right;\n",
       "    }\n",
       "</style>\n",
       "<table border=\"1\" class=\"dataframe\">\n",
       "  <thead>\n",
       "    <tr style=\"text-align: right;\">\n",
       "      <th></th>\n",
       "      <th>gene_ids</th>\n",
       "      <th>feature_types</th>\n",
       "    </tr>\n",
       "  </thead>\n",
       "  <tbody>\n",
       "    <tr>\n",
       "      <th>MIR1302-2HG</th>\n",
       "      <td>ENSG00000243485</td>\n",
       "      <td>Gene Expression</td>\n",
       "    </tr>\n",
       "    <tr>\n",
       "      <th>FAM138A</th>\n",
       "      <td>ENSG00000237613</td>\n",
       "      <td>Gene Expression</td>\n",
       "    </tr>\n",
       "    <tr>\n",
       "      <th>OR4F5</th>\n",
       "      <td>ENSG00000186092</td>\n",
       "      <td>Gene Expression</td>\n",
       "    </tr>\n",
       "    <tr>\n",
       "      <th>AL627309.1</th>\n",
       "      <td>ENSG00000238009</td>\n",
       "      <td>Gene Expression</td>\n",
       "    </tr>\n",
       "    <tr>\n",
       "      <th>AL627309.3</th>\n",
       "      <td>ENSG00000239945</td>\n",
       "      <td>Gene Expression</td>\n",
       "    </tr>\n",
       "    <tr>\n",
       "      <th>...</th>\n",
       "      <td>...</td>\n",
       "      <td>...</td>\n",
       "    </tr>\n",
       "    <tr>\n",
       "      <th>AC141272.1</th>\n",
       "      <td>ENSG00000277836</td>\n",
       "      <td>Gene Expression</td>\n",
       "    </tr>\n",
       "    <tr>\n",
       "      <th>AC023491.2</th>\n",
       "      <td>ENSG00000278633</td>\n",
       "      <td>Gene Expression</td>\n",
       "    </tr>\n",
       "    <tr>\n",
       "      <th>AC007325.1</th>\n",
       "      <td>ENSG00000276017</td>\n",
       "      <td>Gene Expression</td>\n",
       "    </tr>\n",
       "    <tr>\n",
       "      <th>AC007325.4</th>\n",
       "      <td>ENSG00000278817</td>\n",
       "      <td>Gene Expression</td>\n",
       "    </tr>\n",
       "    <tr>\n",
       "      <th>AC007325.2</th>\n",
       "      <td>ENSG00000277196</td>\n",
       "      <td>Gene Expression</td>\n",
       "    </tr>\n",
       "  </tbody>\n",
       "</table>\n",
       "<p>36601 rows × 2 columns</p>\n",
       "</div>"
      ],
      "text/plain": [
       "                    gene_ids    feature_types\n",
       "MIR1302-2HG  ENSG00000243485  Gene Expression\n",
       "FAM138A      ENSG00000237613  Gene Expression\n",
       "OR4F5        ENSG00000186092  Gene Expression\n",
       "AL627309.1   ENSG00000238009  Gene Expression\n",
       "AL627309.3   ENSG00000239945  Gene Expression\n",
       "...                      ...              ...\n",
       "AC141272.1   ENSG00000277836  Gene Expression\n",
       "AC023491.2   ENSG00000278633  Gene Expression\n",
       "AC007325.1   ENSG00000276017  Gene Expression\n",
       "AC007325.4   ENSG00000278817  Gene Expression\n",
       "AC007325.2   ENSG00000277196  Gene Expression\n",
       "\n",
       "[36601 rows x 2 columns]"
      ]
     },
     "execution_count": 33,
     "metadata": {},
     "output_type": "execute_result"
    }
   ],
   "source": [
    "adata.var"
   ]
  },
  {
   "cell_type": "code",
   "execution_count": null,
   "metadata": {},
   "outputs": [],
   "source": []
  },
  {
   "cell_type": "code",
   "execution_count": 13,
   "metadata": {},
   "outputs": [],
   "source": [
    "adata = sc.read_mtx(mtx_file)"
   ]
  },
  {
   "cell_type": "code",
   "execution_count": 24,
   "metadata": {},
   "outputs": [],
   "source": [
    "bcs = pd.read_csv(bc_file, sep=\"\\t\", header=None)\n",
    "feat = pd.read_csv(feat_file, sep=\"\\t\", header=None)"
   ]
  },
  {
   "cell_type": "code",
   "execution_count": 26,
   "metadata": {},
   "outputs": [
    {
     "data": {
      "text/plain": [
       "AnnData object with n_obs × n_vars = 36601 × 16628"
      ]
     },
     "execution_count": 26,
     "metadata": {},
     "output_type": "execute_result"
    }
   ],
   "source": [
    "adata"
   ]
  },
  {
   "cell_type": "code",
   "execution_count": 27,
   "metadata": {},
   "outputs": [
    {
     "ename": "ValueError",
     "evalue": "Length of passed value for obs_names is 16628, but this AnnData has shape: (36601, 16628)",
     "output_type": "error",
     "traceback": [
      "\u001b[1;31m---------------------------------------------------------------------------\u001b[0m",
      "\u001b[1;31mValueError\u001b[0m                                Traceback (most recent call last)",
      "\u001b[1;32mc:\\Users\\ge37voy\\Github\\XeniumData\\notebooks\\read_sc_magdalena.ipynb Cell 6\u001b[0m line \u001b[0;36m1\n\u001b[1;32m----> <a href='vscode-notebook-cell:/c%3A/Users/ge37voy/Github/XeniumData/notebooks/read_sc_magdalena.ipynb#X14sZmlsZQ%3D%3D?line=0'>1</a>\u001b[0m adata\u001b[39m.\u001b[39;49mobs \u001b[39m=\u001b[39m bcs\n",
      "File \u001b[1;32mc:\\Users\\ge37voy\\AppData\\Local\\miniconda3\\envs\\xparse\\lib\\site-packages\\anndata\\_core\\anndata.py:851\u001b[0m, in \u001b[0;36mAnnData.obs\u001b[1;34m(self, value)\u001b[0m\n\u001b[0;32m    849\u001b[0m \u001b[39m@obs\u001b[39m\u001b[39m.\u001b[39msetter\n\u001b[0;32m    850\u001b[0m \u001b[39mdef\u001b[39;00m \u001b[39mobs\u001b[39m(\u001b[39mself\u001b[39m, value: pd\u001b[39m.\u001b[39mDataFrame):\n\u001b[1;32m--> 851\u001b[0m     \u001b[39mself\u001b[39;49m\u001b[39m.\u001b[39;49m_set_dim_df(value, \u001b[39m\"\u001b[39;49m\u001b[39mobs\u001b[39;49m\u001b[39m\"\u001b[39;49m)\n",
      "File \u001b[1;32mc:\\Users\\ge37voy\\AppData\\Local\\miniconda3\\envs\\xparse\\lib\\site-packages\\anndata\\_core\\anndata.py:788\u001b[0m, in \u001b[0;36mAnnData._set_dim_df\u001b[1;34m(self, value, attr)\u001b[0m\n\u001b[0;32m    786\u001b[0m \u001b[39mif\u001b[39;00m \u001b[39mnot\u001b[39;00m \u001b[39misinstance\u001b[39m(value, pd\u001b[39m.\u001b[39mDataFrame):\n\u001b[0;32m    787\u001b[0m     \u001b[39mraise\u001b[39;00m \u001b[39mValueError\u001b[39;00m(\u001b[39mf\u001b[39m\u001b[39m\"\u001b[39m\u001b[39mCan only assign pd.DataFrame to \u001b[39m\u001b[39m{\u001b[39;00mattr\u001b[39m}\u001b[39;00m\u001b[39m.\u001b[39m\u001b[39m\"\u001b[39m)\n\u001b[1;32m--> 788\u001b[0m value_idx \u001b[39m=\u001b[39m \u001b[39mself\u001b[39;49m\u001b[39m.\u001b[39;49m_prep_dim_index(value\u001b[39m.\u001b[39;49mindex, attr)\n\u001b[0;32m    789\u001b[0m \u001b[39mif\u001b[39;00m \u001b[39mself\u001b[39m\u001b[39m.\u001b[39mis_view:\n\u001b[0;32m    790\u001b[0m     \u001b[39mself\u001b[39m\u001b[39m.\u001b[39m_init_as_actual(\u001b[39mself\u001b[39m\u001b[39m.\u001b[39mcopy())\n",
      "File \u001b[1;32mc:\\Users\\ge37voy\\AppData\\Local\\miniconda3\\envs\\xparse\\lib\\site-packages\\anndata\\_core\\anndata.py:802\u001b[0m, in \u001b[0;36mAnnData._prep_dim_index\u001b[1;34m(self, value, attr)\u001b[0m\n\u001b[0;32m    797\u001b[0m \u001b[39m\u001b[39m\u001b[39m\"\"\"Prepares index to be uses as obs_names or var_names for AnnData object.AssertionError\u001b[39;00m\n\u001b[0;32m    798\u001b[0m \n\u001b[0;32m    799\u001b[0m \u001b[39mIf a pd.Index is passed, this will use a reference, otherwise a new index object is created.\u001b[39;00m\n\u001b[0;32m    800\u001b[0m \u001b[39m\"\"\"\u001b[39;00m\n\u001b[0;32m    801\u001b[0m \u001b[39mif\u001b[39;00m \u001b[39mself\u001b[39m\u001b[39m.\u001b[39mshape[attr \u001b[39m==\u001b[39m \u001b[39m\"\u001b[39m\u001b[39mvar\u001b[39m\u001b[39m\"\u001b[39m] \u001b[39m!=\u001b[39m \u001b[39mlen\u001b[39m(value):\n\u001b[1;32m--> 802\u001b[0m     \u001b[39mraise\u001b[39;00m \u001b[39mValueError\u001b[39;00m(\n\u001b[0;32m    803\u001b[0m         \u001b[39mf\u001b[39m\u001b[39m\"\u001b[39m\u001b[39mLength of passed value for \u001b[39m\u001b[39m{\u001b[39;00mattr\u001b[39m}\u001b[39;00m\u001b[39m_names is \u001b[39m\u001b[39m{\u001b[39;00m\u001b[39mlen\u001b[39m(value)\u001b[39m}\u001b[39;00m\u001b[39m, but this AnnData has shape: \u001b[39m\u001b[39m{\u001b[39;00m\u001b[39mself\u001b[39m\u001b[39m.\u001b[39mshape\u001b[39m}\u001b[39;00m\u001b[39m\"\u001b[39m\n\u001b[0;32m    804\u001b[0m     )\n\u001b[0;32m    805\u001b[0m \u001b[39mif\u001b[39;00m \u001b[39misinstance\u001b[39m(value, pd\u001b[39m.\u001b[39mIndex) \u001b[39mand\u001b[39;00m \u001b[39mnot\u001b[39;00m \u001b[39misinstance\u001b[39m(\n\u001b[0;32m    806\u001b[0m     value\u001b[39m.\u001b[39mname, (\u001b[39mstr\u001b[39m, \u001b[39mtype\u001b[39m(\u001b[39mNone\u001b[39;00m))\n\u001b[0;32m    807\u001b[0m ):\n\u001b[0;32m    808\u001b[0m     \u001b[39mraise\u001b[39;00m \u001b[39mValueError\u001b[39;00m(\n\u001b[0;32m    809\u001b[0m         \u001b[39mf\u001b[39m\u001b[39m\"\u001b[39m\u001b[39mAnnData expects .\u001b[39m\u001b[39m{\u001b[39;00mattr\u001b[39m}\u001b[39;00m\u001b[39m.index.name to be a string or None, \u001b[39m\u001b[39m\"\u001b[39m\n\u001b[0;32m    810\u001b[0m         \u001b[39mf\u001b[39m\u001b[39m\"\u001b[39m\u001b[39mbut you passed a name of type \u001b[39m\u001b[39m{\u001b[39;00m\u001b[39mtype\u001b[39m(value\u001b[39m.\u001b[39mname)\u001b[39m.\u001b[39m\u001b[39m__name__\u001b[39m\u001b[39m!r}\u001b[39;00m\u001b[39m\"\u001b[39m\n\u001b[0;32m    811\u001b[0m     )\n",
      "\u001b[1;31mValueError\u001b[0m: Length of passed value for obs_names is 16628, but this AnnData has shape: (36601, 16628)"
     ]
    }
   ],
   "source": [
    "adata.obs = bcs"
   ]
  },
  {
   "cell_type": "code",
   "execution_count": 17,
   "metadata": {},
   "outputs": [
    {
     "data": {
      "text/plain": [
       "6850.0"
      ]
     },
     "execution_count": 17,
     "metadata": {},
     "output_type": "execute_result"
    }
   ],
   "source": [
    "adata.X.toarray().max()"
   ]
  },
  {
   "cell_type": "code",
   "execution_count": null,
   "metadata": {},
   "outputs": [],
   "source": []
  }
 ],
 "metadata": {
  "kernelspec": {
   "display_name": "xparse",
   "language": "python",
   "name": "python3"
  },
  "language_info": {
   "codemirror_mode": {
    "name": "ipython",
    "version": 3
   },
   "file_extension": ".py",
   "mimetype": "text/x-python",
   "name": "python",
   "nbconvert_exporter": "python",
   "pygments_lexer": "ipython3",
   "version": "3.9.18"
  }
 },
 "nbformat": 4,
 "nbformat_minor": 2
}
