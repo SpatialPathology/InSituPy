{
 "cells": [
  {
   "cell_type": "markdown",
   "metadata": {},
   "source": [
    "# InSituPy demonstration - Datasets"
   ]
  },
  {
   "cell_type": "code",
   "execution_count": 1,
   "metadata": {},
   "outputs": [],
   "source": [
    "## The following code ensures that all functions and init files are reloaded before executions.\n",
    "%load_ext autoreload\n",
    "%autoreload 2"
   ]
  },
  {
   "cell_type": "markdown",
   "metadata": {},
   "source": [
    "InSitupy offers five functions that each download a different dataset into '~/.cache/InSituPy/demo_datasets'. The data is provided by 10x Genomics and is publicly available.\n",
    "Each function has an optional argument `overwrite`, which can be set to `True`, whenever a repeated downloaded is desired.\n",
    "1. `human_breast_cancer()`: In situ gene expression dataset by xenium onboard analysis 1.0.1  \n",
    "https://www.10xgenomics.com/products/xenium-in-situ/preview-dataset-human-breast\n",
    "2. `human_brain_cancer()`: In situ gene expression dataset by xenium onboard analysis 2.0.0  \n",
    "https://www.10xgenomics.com/datasets/ffpe-human-brain-cancer-data-with-human-immuno-oncology-profiling-panel-and-custom-add-on-1-standard\n",
    "3. `nondiseased_kidney()`: In situ gene expression dataset by xenium onboard analysis 1.5.0  \n",
    "https://www.10xgenomics.com/resources/datasets/human-kidney-preview-data-xenium-human-multi-tissue-and-cancer-panel-1-standard\n",
    "4. `hskin_melanoma()`: In situ gene expression dataset by xenium onboard analysis 1.7.0   \n",
    " https://www.10xgenomics.com/resources/datasets/human-skin-preview-data-xenium-human-skin-gene-expression-panel-add-on-1-standard\n",
    "5. `pancreatic_cancer()`: In situ gene expression dataset by xenium onboard analysis 1.6.0  \n",
    " https://www.10xgenomics.com/datasets/pancreatic-cancer-with-xenium-human-multi-tissue-and-cancer-panel-1-standard\n",
    "6. `human_lung_cancer()`: In situ gene expression dataset by xenium onboard analysis 2.0.0. (Xenium multimodal cell segmentation)  \n",
    "https://www.10xgenomics.com/datasets/preview-data-ffpe-human-lung-cancer-with-xenium-multimodal-cell-segmentation-1-standard\n"
   ]
  },
  {
   "cell_type": "code",
   "execution_count": 5,
   "metadata": {},
   "outputs": [],
   "source": [
    "from pathlib import Path\n",
    "from os.path import expanduser\n",
    "\n",
    "import insitupy\n",
    "from insitupy.datasets import hskin_melanoma,human_brain_cancer,human_breast_cancer,nondiseased_kidney,pancreatic_cancer,human_lung_cancer\n",
    "from insitupy import read_xenium"
   ]
  },
  {
   "cell_type": "code",
   "execution_count": null,
   "metadata": {},
   "outputs": [],
   "source": [
    "human_breast_cancer()"
   ]
  },
  {
   "cell_type": "code",
   "execution_count": null,
   "metadata": {},
   "outputs": [],
   "source": [
    "human_brain_cancer()"
   ]
  },
  {
   "cell_type": "markdown",
   "metadata": {},
   "source": [
    "The data structure after running the above code should look like this:\n",
    "\n",
    "    ```\n",
    "    ./InSituPy/demo_datasets\n",
    "    ├───hbreastcancer\n",
    "    │    ├───output-XETG00000__slide_id__hbraincancer\n",
    "    │    ├───unregistered_images\n",
    "    ├───hbraincancer\n",
    "    │    ├───output-XETG00000__slide_id__hbraincancer  \n",
    "    │    ├───unregistered_images\n",
    "    \n",
    "    ```\n"
   ]
  },
  {
   "cell_type": "markdown",
   "metadata": {},
   "source": [
    "Now we can load the Xenium data into an `XeniumData` object. This can be done by `read_xenium(Path)` where `Path` is the path to the respective dataset:"
   ]
  },
  {
   "cell_type": "code",
   "execution_count": 67,
   "metadata": {},
   "outputs": [],
   "source": [
    "xd = read_xenium(Path(expanduser(\"~\"),\".cache/InSituPy/demo_datasets/hlungcancer/output-XETG00000__slide_id__hlungcancer\"))"
   ]
  },
  {
   "cell_type": "markdown",
   "metadata": {},
   "source": [
    "To explore the datasets continue with registering the images as demonstrated in [02_InSituPy_demo_register_images.ipynb](./02_InSituPy_demo_register_images.ipynb) as well as preprocessing and visualizing the data as in [03_InSituPy_demo_analyze.ipynb](./03_InSituPy_demo_analyze.ipynb). "
   ]
  },
  {
   "cell_type": "code",
   "execution_count": 44,
   "metadata": {},
   "outputs": [
    {
     "data": {
      "text/plain": [
       "\u001b[1m\u001b[31mXeniumData\u001b[0m\n",
       "\u001b[1mSlide ID:\u001b[0m\t0001879\n",
       "\u001b[1mSample ID:\u001b[0m\tReplicate 1\n",
       "\u001b[1mData path:\u001b[0m\t/Users/isabelgiray/.cache/InSituPy/demo_datasets/hbreastcancer\n",
       "\u001b[1mData folder:\u001b[0m\toutput-XETG00000__slide_id__hbreastcancer\n",
       "\u001b[1mMetadata file:\u001b[0m\texperiment.xenium\n",
       "    ➤ \u001b[34m\u001b[1mimages\u001b[0m\n",
       "       \u001b[1mnuclei:\u001b[0m\t(25778, 35416)"
      ]
     },
     "execution_count": 44,
     "metadata": {},
     "output_type": "execute_result"
    }
   ],
   "source": [
    "xd"
   ]
  }
 ],
 "metadata": {
  "kernelspec": {
   "display_name": "insitupy",
   "language": "python",
   "name": "python3"
  },
  "language_info": {
   "codemirror_mode": {
    "name": "ipython",
    "version": 3
   },
   "file_extension": ".py",
   "mimetype": "text/x-python",
   "name": "python",
   "nbconvert_exporter": "python",
   "pygments_lexer": "ipython3",
   "version": "3.9.18"
  }
 },
 "nbformat": 4,
 "nbformat_minor": 2
}
