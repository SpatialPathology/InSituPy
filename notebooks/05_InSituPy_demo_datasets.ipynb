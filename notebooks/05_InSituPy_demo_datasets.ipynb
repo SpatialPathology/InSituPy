{
 "cells": [
  {
   "cell_type": "markdown",
   "metadata": {},
   "source": [
    "# InSituPy demonstration - Datasets"
   ]
  },
  {
   "cell_type": "code",
<<<<<<< HEAD
   "execution_count": 1,
   "metadata": {},
   "outputs": [],
=======
   "execution_count": 12,
   "metadata": {},
   "outputs": [
    {
     "name": "stdout",
     "output_type": "stream",
     "text": [
      "The autoreload extension is already loaded. To reload it, use:\n",
      "  %reload_ext autoreload\n"
     ]
    }
   ],
>>>>>>> f9c2760af5cf999e31b0ab9adb8b3b66b47ce59c
   "source": [
    "## The following code ensures that all functions and init files are reloaded before executions.\n",
    "%load_ext autoreload\n",
    "%autoreload 2"
   ]
  },
  {
   "cell_type": "markdown",
   "metadata": {},
   "source": [
    "InSitupy offers five functions that each download a different dataset into '~/.cache/InSituPy/demo_datasets'. The data is provided by 10x Genomics and is publicly available.\n",
    "Each function has an optional argument `overwrite`, which can be set to `True`, whenever a repeated downloaded is desired.\n",
    "1. `human_breast_cancer()`: In situ gene expression dataset by xenium onboard analysis 1.0.1  \n",
    "https://www.10xgenomics.com/products/xenium-in-situ/preview-dataset-human-breast\n",
    "2. `human_brain_cancer()`: In situ gene expression dataset by xenium onboard analysis 2.0.0  \n",
    "https://www.10xgenomics.com/datasets/ffpe-human-brain-cancer-data-with-human-immuno-oncology-profiling-panel-and-custom-add-on-1-standard\n",
    "3. `nondiseased_kidney()`: In situ gene expression dataset by xenium onboard analysis 1.5.0  \n",
    "https://www.10xgenomics.com/resources/datasets/human-kidney-preview-data-xenium-human-multi-tissue-and-cancer-panel-1-standard\n",
    "4. `hskin_melanoma()`: In situ gene expression dataset by xenium onboard analysis 1.7.0   \n",
    " https://www.10xgenomics.com/resources/datasets/human-skin-preview-data-xenium-human-skin-gene-expression-panel-add-on-1-standard\n",
    "5. `pancreatic_cancer()`: In situ gene expression dataset by xenium onboard analysis 1.6.0  \n",
<<<<<<< HEAD
    " https://www.10xgenomics.com/datasets/pancreatic-cancer-with-xenium-human-multi-tissue-and-cancer-panel-1-standard\n",
    "6. `human_lung_cancer()`: In situ gene expression dataset by xenium onboard analysis 2.0.0. (Xenium multimodal cell segmentation)  \n",
    "https://www.10xgenomics.com/datasets/preview-data-ffpe-human-lung-cancer-with-xenium-multimodal-cell-segmentation-1-standard\n"
=======
    " https://www.10xgenomics.com/datasets/pancreatic-cancer-with-xenium-human-multi-tissue-and-cancer-panel-1-standard"
>>>>>>> f9c2760af5cf999e31b0ab9adb8b3b66b47ce59c
   ]
  },
  {
   "cell_type": "code",
<<<<<<< HEAD
   "execution_count": 5,
=======
   "execution_count": 9,
>>>>>>> f9c2760af5cf999e31b0ab9adb8b3b66b47ce59c
   "metadata": {},
   "outputs": [],
   "source": [
    "from pathlib import Path\n",
    "from os.path import expanduser\n",
    "\n",
    "import insitupy\n",
<<<<<<< HEAD
    "from insitupy.datasets import hskin_melanoma,human_brain_cancer,human_breast_cancer,nondiseased_kidney,pancreatic_cancer,human_lung_cancer\n",
=======
    "from insitupy.datasets import hskin_melanoma,human_brain_cancer,human_breast_cancer,nondiseased_kidney,pancreatic_cancer\n",
>>>>>>> f9c2760af5cf999e31b0ab9adb8b3b66b47ce59c
    "from insitupy import read_xenium"
   ]
  },
  {
   "cell_type": "code",
<<<<<<< HEAD
   "execution_count": null,
   "metadata": {},
   "outputs": [],
=======
   "execution_count": 29,
   "metadata": {},
   "outputs": [
    {
     "name": "stdout",
     "output_type": "stream",
     "text": [
      "This dataset exists already. Download is skipped. To force download set `overwrite=True`.\n"
     ]
    },
    {
     "name": "stderr",
     "output_type": "stream",
     "text": [
      "/Users/isabelgiray/.cache/InSituPy/demo_datasets/hbreastcancer/unregistered_images/slide_id__hbreastcancer__HE__histo.tif: 100%|██████████| 1.58G/1.58G [03:18<00:00, 8.54MiB/s]\n",
      "/Users/isabelgiray/.cache/InSituPy/demo_datasets/hbreastcancer/unregistered_images/slide_id__hbreastcancer__CD20_HER2_DAPI__IF.tif: 100%|██████████| 398M/398M [00:44<00:00, 9.40MiB/s] \n"
     ]
    }
   ],
>>>>>>> f9c2760af5cf999e31b0ab9adb8b3b66b47ce59c
   "source": [
    "human_breast_cancer()"
   ]
  },
  {
   "cell_type": "code",
<<<<<<< HEAD
   "execution_count": null,
   "metadata": {},
   "outputs": [],
=======
   "execution_count": 28,
   "metadata": {},
   "outputs": [
    {
     "name": "stderr",
     "output_type": "stream",
     "text": [
      "/Users/isabelgiray/.cache/InSituPy/demo_datasets/hskin/Xeniumranger_V1_hSkin_Melanoma_Add_on_FFPE_outs.zip: 100%|██████████| 3.52G/3.52G [10:30<00:00, 6.00MiB/s]  \n",
      "/Users/isabelgiray/.cache/InSituPy/demo_datasets/hskin/unregistered_images/slide_id__hskin__HE__histo.ome.tif: 100%|██████████| 2.08G/2.08G [04:03<00:00, 9.16MiB/s]\n"
     ]
    }
   ],
>>>>>>> f9c2760af5cf999e31b0ab9adb8b3b66b47ce59c
   "source": [
    "human_brain_cancer()"
   ]
  },
  {
   "cell_type": "markdown",
   "metadata": {},
   "source": [
    "The data structure after running the above code should look like this:\n",
    "\n",
    "    ```\n",
    "    ./InSituPy/demo_datasets\n",
    "    ├───hbreastcancer\n",
    "    │    ├───output-XETG00000__slide_id__hbraincancer\n",
    "    │    ├───unregistered_images\n",
    "    ├───hbraincancer\n",
    "    │    ├───output-XETG00000__slide_id__hbraincancer  \n",
    "    │    ├───unregistered_images\n",
    "    \n",
    "    ```\n"
   ]
  },
  {
   "cell_type": "markdown",
   "metadata": {},
   "source": [
    "Now we can load the Xenium data into an `XeniumData` object. This can be done by `read_xenium(Path)` where `Path` is the path to the respective dataset:"
   ]
  },
  {
   "cell_type": "code",
<<<<<<< HEAD
   "execution_count": 67,
   "metadata": {},
   "outputs": [],
   "source": [
    "xd = read_xenium(Path(expanduser(\"~\"),\".cache/InSituPy/demo_datasets/hlungcancer/output-XETG00000__slide_id__hlungcancer\"))"
=======
   "execution_count": 30,
   "metadata": {},
   "outputs": [],
   "source": [
    "xd = read_xenium(Path(expanduser(\"~\"),\".cache/InSituPy/demo_datasets/hbraincancer/output-XETG00000__slide_id__hbraincancer\"))"
   ]
  },
  {
   "cell_type": "code",
   "execution_count": 31,
   "metadata": {},
   "outputs": [
    {
     "data": {
      "text/plain": [
       "\u001b[1m\u001b[31mXeniumData\u001b[0m\n",
       "\u001b[1mSlide ID:\u001b[0m\tN/A\n",
       "\u001b[1mSample ID:\u001b[0m\tHuman_Brain_GBM_With_Addon_Cell_Seg\n",
       "\u001b[1mData path:\u001b[0m\t/Users/isabelgiray/.cache/InSituPy/demo_datasets/hbraincancer\n",
       "\u001b[1mData folder:\u001b[0m\toutput-XETG00000__slide_id__hbraincancer\n",
       "\u001b[1mMetadata file:\u001b[0m\texperiment.xenium"
      ]
     },
     "execution_count": 31,
     "metadata": {},
     "output_type": "execute_result"
    }
   ],
   "source": [
    "xd"
>>>>>>> f9c2760af5cf999e31b0ab9adb8b3b66b47ce59c
   ]
  },
  {
   "cell_type": "markdown",
   "metadata": {},
   "source": [
    "To explore the datasets continue with registering the images as demonstrated in [02_InSituPy_demo_register_images.ipynb](./02_InSituPy_demo_register_images.ipynb) as well as preprocessing and visualizing the data as in [03_InSituPy_demo_analyze.ipynb](./03_InSituPy_demo_analyze.ipynb). "
   ]
<<<<<<< HEAD
  },
  {
   "cell_type": "code",
   "execution_count": 44,
   "metadata": {},
   "outputs": [
    {
     "data": {
      "text/plain": [
       "\u001b[1m\u001b[31mXeniumData\u001b[0m\n",
       "\u001b[1mSlide ID:\u001b[0m\t0001879\n",
       "\u001b[1mSample ID:\u001b[0m\tReplicate 1\n",
       "\u001b[1mData path:\u001b[0m\t/Users/isabelgiray/.cache/InSituPy/demo_datasets/hbreastcancer\n",
       "\u001b[1mData folder:\u001b[0m\toutput-XETG00000__slide_id__hbreastcancer\n",
       "\u001b[1mMetadata file:\u001b[0m\texperiment.xenium\n",
       "    ➤ \u001b[34m\u001b[1mimages\u001b[0m\n",
       "       \u001b[1mnuclei:\u001b[0m\t(25778, 35416)"
      ]
     },
     "execution_count": 44,
     "metadata": {},
     "output_type": "execute_result"
    }
   ],
   "source": [
    "xd"
   ]
=======
>>>>>>> f9c2760af5cf999e31b0ab9adb8b3b66b47ce59c
  }
 ],
 "metadata": {
  "kernelspec": {
   "display_name": "insitupy",
   "language": "python",
   "name": "python3"
  },
  "language_info": {
   "codemirror_mode": {
    "name": "ipython",
    "version": 3
   },
   "file_extension": ".py",
   "mimetype": "text/x-python",
   "name": "python",
   "nbconvert_exporter": "python",
   "pygments_lexer": "ipython3",
   "version": "3.9.18"
  }
 },
 "nbformat": 4,
 "nbformat_minor": 2
}
