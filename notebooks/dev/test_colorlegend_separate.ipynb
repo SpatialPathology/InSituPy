{
 "cells": [
  {
   "cell_type": "code",
   "execution_count": 1,
   "metadata": {},
   "outputs": [
    {
     "name": "stderr",
     "output_type": "stream",
     "text": [
      "Invalid schema for package 'ome-types', please run 'npe2 validate ome-types' to check for manifest errors.\n"
     ]
    },
    {
     "name": "stderr",
     "output_type": "stream",
     "text": [
      "c:\\Users\\ge37voy\\AppData\\Local\\miniconda3\\envs\\insitupy\\lib\\site-packages\\napari\\layers\\utils\\color_transformations.py:42: UserWarning: The provided colors parameter contained illegal values, resetting all colors values to white.\n",
      "  warnings.warn(\n",
      "c:\\Users\\ge37voy\\AppData\\Local\\miniconda3\\envs\\insitupy\\lib\\site-packages\\napari\\layers\\utils\\color_transformations.py:42: UserWarning: The provided colors parameter contained illegal values, resetting all colors values to white.\n",
      "  warnings.warn(\n",
      "c:\\Users\\ge37voy\\AppData\\Local\\miniconda3\\envs\\insitupy\\lib\\site-packages\\napari\\layers\\utils\\color_transformations.py:42: UserWarning: The provided colors parameter contained illegal values, resetting all colors values to white.\n",
      "  warnings.warn(\n"
     ]
    }
   ],
   "source": [
    "import numpy as np\n",
    "import napari\n",
    "from skimage import data\n",
    "from qtpy.QtWidgets import QPushButton, QVBoxLayout, QWidget\n",
    "from colorbar_module import static_canvas, update_colorbar\n",
    "\n",
    "# Function to add random points and update the colorbar\n",
    "def add_random_points():\n",
    "    points = np.random.rand(10, 2) * np.array([blobs_raw.shape[0], blobs_raw.shape[1]])\n",
    "    colors = np.random.rand(10)\n",
    "    points_layer = viewer.add_points(points, face_color=colors, size=10)\n",
    "\n",
    "    # Update colorbar with new normalization based on random colors\n",
    "    update_colorbar(points_layer)\n",
    "\n",
    "# Initial setup\n",
    "blobs_raw = data.binary_blobs(length=64, n_dim=2, volume_fraction=0.1)\n",
    "viewer = napari.view_image(blobs_raw)\n",
    "\n",
    "viewer.window.add_dock_widget(static_canvas, area='left', name='Color legend')\n",
    "\n",
    "# Initial colorbar\n",
    "update_colorbar(viewer.layers[-1])\n",
    "\n",
    "# Create a widget with a button to add random points\n",
    "widget = QWidget()\n",
    "layout = QVBoxLayout()\n",
    "button = QPushButton('Add Random Points')\n",
    "button.clicked.connect(add_random_points)\n",
    "layout.addWidget(button)\n",
    "widget.setLayout(layout)\n",
    "viewer.window.add_dock_widget(widget, area='right', name='Add Points')\n",
    "\n",
    "# Connect to layer change event to update colorbar based on the top visible layer\n",
    "def on_layer_change(event):\n",
    "    if viewer.layers:\n",
    "        top_visible_layer = next((layer for layer in reversed(viewer.layers) if layer.visible), None)\n",
    "        if top_visible_layer:\n",
    "            update_colorbar(top_visible_layer)\n",
    "\n",
    "viewer.layers.events.changed.connect(on_layer_change)\n",
    "\n",
    "napari.run()"
   ]
  },
  {
   "cell_type": "code",
   "execution_count": null,
   "metadata": {},
   "outputs": [],
   "source": []
  }
 ],
 "metadata": {
  "kernelspec": {
   "display_name": "insitupy",
   "language": "python",
   "name": "python3"
  },
  "language_info": {
   "codemirror_mode": {
    "name": "ipython",
    "version": 3
   },
   "file_extension": ".py",
   "mimetype": "text/x-python",
   "name": "python",
   "nbconvert_exporter": "python",
   "pygments_lexer": "ipython3",
   "version": "3.9.18"
  }
 },
 "nbformat": 4,
 "nbformat_minor": 2
}
