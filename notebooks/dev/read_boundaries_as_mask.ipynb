{
 "cells": [
  {
   "cell_type": "markdown",
   "metadata": {},
   "source": [
    "## Implement the reading of boundaries as masks instead of dataframe with vertices"
   ]
  },
  {
   "cell_type": "code",
   "execution_count": 1,
   "metadata": {},
   "outputs": [],
   "source": [
    "## The following code ensures that all functions and init files are reloaded before executions.\n",
    "%load_ext autoreload\n",
    "%autoreload 2"
   ]
  },
  {
   "cell_type": "code",
   "execution_count": 2,
   "metadata": {},
   "outputs": [],
   "source": [
    "from insitupy import XeniumData\n",
    "import zarr\n",
    "import dask\n",
    "from pathlib import Path\n",
    "import numpy as np\n",
    "import pandas as pd"
   ]
  },
  {
   "cell_type": "code",
   "execution_count": 3,
   "metadata": {},
   "outputs": [],
   "source": [
    "xd_data = Path(r\"C:\\Users\\ge37voy\\OneDrive - TUM\\data\\2315_VascularCancer_Mogler\\2315-02-glioblastoma\\20240112__122324__2315-02-Glioblastoma\\output-XETG00050__0017321__N-436-21-N__20240112__124239\")\n",
    "savepath = Path(\"C:/Users/ge37voy/Downloads/tmp/savetest2\")"
   ]
  },
  {
   "cell_type": "code",
   "execution_count": 4,
   "metadata": {},
   "outputs": [],
   "source": [
    "xd = XeniumData(xd_data)"
   ]
  },
  {
   "cell_type": "code",
   "execution_count": 5,
   "metadata": {},
   "outputs": [
    {
     "name": "stdout",
     "output_type": "stream",
     "text": [
      "Reading annotations...\n",
      "No `annotations` modality found.\n",
      "Reading cells...\n",
      "Reading images...\n",
      "Reading regions...\n",
      "No `regions` modality found.\n",
      "Reading transcripts...\n"
     ]
    }
   ],
   "source": [
    "xd.load_all()"
   ]
  },
  {
   "cell_type": "code",
   "execution_count": 6,
   "metadata": {},
   "outputs": [
    {
     "data": {
      "text/plain": [
       "\u001b[1m\u001b[31mXeniumData\u001b[0m\n",
       "\u001b[1mSlide ID:\u001b[0m\t0017321\n",
       "\u001b[1mSample ID:\u001b[0m\tN-436-21-N\n",
       "\u001b[1mData path:\u001b[0m\tC:\\Users\\ge37voy\\OneDrive - TUM\\data\\2315_VascularCancer_Mogler\\2315-02-glioblastoma\\20240112__122324__2315-02-Glioblastoma\n",
       "\u001b[1mData folder:\u001b[0m\toutput-XETG00050__0017321__N-436-21-N__20240112__124239\n",
       "\u001b[1mMetadata file:\u001b[0m\texperiment_modified.xenium\n",
       "    ➤ \u001b[34m\u001b[1mimages\u001b[0m\n",
       "       \u001b[1mnuclei:\u001b[0m\t(20476, 22820)\n",
       "       \u001b[1mHE:\u001b[0m\t(20476, 22820, 3)\n",
       "    ➤\u001b[32m\u001b[1m cells\u001b[0m\n",
       "       \u001b[1mmatrix\u001b[0m\n",
       "           AnnData object with n_obs × n_vars = 72004 × 314\n",
       "           obs: 'transcript_counts', 'control_probe_counts', 'control_codeword_counts', 'unassigned_codeword_counts', 'deprecated_codeword_counts', 'total_counts', 'cell_area', 'nucleus_area'\n",
       "           var: 'gene_ids', 'feature_types', 'genome'\n",
       "           obsm: 'spatial'\n",
       "           varm: 'binned_expression'\n",
       "       \u001b[1mboundaries\u001b[0m\n",
       "           BoundariesData object with 2 entries:\n",
       "               \u001b[1mnuclear\u001b[0m\n",
       "               \u001b[1mcellular\u001b[0m\n",
       "    ➤\u001b[95m\u001b[1m transcripts\u001b[0m\n",
       "       DataFrame with shape 13063085 x 10"
      ]
     },
     "execution_count": 6,
     "metadata": {},
     "output_type": "execute_result"
    }
   ],
   "source": [
    "xd"
   ]
  },
  {
   "cell_type": "code",
   "execution_count": 7,
   "metadata": {},
   "outputs": [
    {
     "name": "stderr",
     "output_type": "stream",
     "text": [
      "WARNING: QWindowsWindow::setGeometry: Unable to set geometry 2172x1310+284+184 (frame: 2194x1366+273+139) on QWidgetWindow/\"_QtMainWindowClassWindow\" on \"\\\\.\\DISPLAY1\". Resulting geometry: 3260x1968+287+198 (frame: 3282x2024+276+153) margins: 11, 45, 11, 11 minimum size: 385x492 MINMAXINFO maxSize=0,0 maxpos=0,0 mintrack=792,1040 maxtrack=0,0)\n"
     ]
    }
   ],
   "source": [
    "xd.show()"
   ]
  },
  {
   "cell_type": "code",
   "execution_count": 58,
   "metadata": {},
   "outputs": [],
   "source": [
    "xdcrop = xd.crop(shape_layer=\"Shapes\")"
   ]
  },
  {
   "cell_type": "code",
   "execution_count": 59,
   "metadata": {},
   "outputs": [
    {
     "data": {
      "text/plain": [
       "\u001b[1m\u001b[31mXeniumData\u001b[0m\n",
       "\u001b[1mSlide ID:\u001b[0m\t0017321\n",
       "\u001b[1mSample ID:\u001b[0m\tN-436-21-N\n",
       "\u001b[1mData path:\u001b[0m\tC:\\Users\\ge37voy\\OneDrive - TUM\\data\\2315_VascularCancer_Mogler\\2315-02-glioblastoma\\20240112__122324__2315-02-Glioblastoma\n",
       "\u001b[1mData folder:\u001b[0m\toutput-XETG00050__0017321__N-436-21-N__20240112__124239\n",
       "\u001b[1mMetadata file:\u001b[0m\texperiment_modified.xenium\n",
       "    ➤ \u001b[34m\u001b[1mimages\u001b[0m\n",
       "       \u001b[1mnuclei:\u001b[0m\t(1351, 1013)\n",
       "       \u001b[1mHE:\u001b[0m\t(1351, 1013, 3)\n",
       "    ➤\u001b[32m\u001b[1m cells\u001b[0m\n",
       "       \u001b[1mmatrix\u001b[0m\n",
       "           AnnData object with n_obs × n_vars = 490 × 314\n",
       "           obs: 'transcript_counts', 'control_probe_counts', 'control_codeword_counts', 'unassigned_codeword_counts', 'deprecated_codeword_counts', 'total_counts', 'cell_area', 'nucleus_area'\n",
       "           var: 'gene_ids', 'feature_types', 'genome'\n",
       "           obsm: 'spatial'\n",
       "       \u001b[1mboundaries\u001b[0m\n",
       "           BoundariesData object with 2 entries:\n",
       "               \u001b[1mnuclear\u001b[0m\n",
       "               \u001b[1mcellular\u001b[0m\n",
       "    ➤\u001b[95m\u001b[1m transcripts\u001b[0m\n",
       "       DataFrame with shape 94921 x 10"
      ]
     },
     "execution_count": 59,
     "metadata": {},
     "output_type": "execute_result"
    }
   ],
   "source": [
    "xdcrop"
   ]
  },
  {
   "cell_type": "markdown",
   "metadata": {},
   "source": [
    "## Read binned expression data"
   ]
  },
  {
   "cell_type": "code",
   "execution_count": 18,
   "metadata": {},
   "outputs": [],
   "source": [
    "from scipy.sparse import csr_matrix\n",
    "import matplotlib.pyplot as plt"
   ]
  },
  {
   "cell_type": "code",
   "execution_count": 19,
   "metadata": {},
   "outputs": [],
   "source": [
    "trans_file = xd_data / \"transcripts.zarr.zip\""
   ]
  },
  {
   "cell_type": "code",
   "execution_count": 61,
   "metadata": {},
   "outputs": [],
   "source": [
    "# read zarr store\n",
    "t = zarr.open(trans_file, mode=\"r\")\n",
    "\n",
    "# extract sparse array\n",
    "data_gene = t[\"density/gene\"]\n",
    "data = data_gene[\"data\"][:]\n",
    "indices = data_gene[\"indices\"][:]\n",
    "indptr = data_gene[\"indptr\"][:]\n",
    "cols = data_gene.attrs[\"cols\"]\n",
    "rows = data_gene.attrs[\"rows\"]\n",
    "gene_names = data_gene.attrs[\"gene_names\"]\n",
    "n_genes = len(gene_names)\n",
    "\n",
    "sarr = csr_matrix((data, indices, indptr))\n",
    "\n",
    "# reshape to get binned data\n",
    "arr = sarr.toarray()\n",
    "arr = arr.reshape((n_genes, rows, cols))\n",
    "\n",
    "# select only genes that are available in the adata object\n",
    "gene_mask = [elem in xd.cells.matrix.var_names for elem in gene_names]\n",
    "arr = arr[gene_mask]"
   ]
  },
  {
   "cell_type": "code",
   "execution_count": 62,
   "metadata": {},
   "outputs": [],
   "source": [
    "img = arr[0]"
   ]
  },
  {
   "cell_type": "code",
   "execution_count": 63,
   "metadata": {},
   "outputs": [
    {
     "data": {
      "text/plain": [
       "<matplotlib.image.AxesImage at 0x1fedeef0a00>"
      ]
     },
     "execution_count": 63,
     "metadata": {},
     "output_type": "execute_result"
    },
    {
     "data": {
      "image/png": "[encoded data removed]",
      "text/plain": [
       "<Figure size 640x480 with 1 Axes>"
      ]
     },
     "metadata": {},
     "output_type": "display_data"
    }
   ],
   "source": [
    "plt.imshow(img)"
   ]
  },
  {
   "cell_type": "code",
   "execution_count": 64,
   "metadata": {},
   "outputs": [],
   "source": [
    "xd.cells.matrix.varm[\"binned_expression\"] = arr"
   ]
  },
  {
   "cell_type": "code",
   "execution_count": 65,
   "metadata": {},
   "outputs": [
    {
     "data": {
      "text/plain": [
       "AxisArrays with keys: binned_expression"
      ]
     },
     "execution_count": 65,
     "metadata": {},
     "output_type": "execute_result"
    }
   ],
   "source": [
    "xd.cells.matrix.varm"
   ]
  },
  {
   "cell_type": "code",
   "execution_count": 66,
   "metadata": {},
   "outputs": [
    {
     "data": {
      "text/plain": [
       "\u001b[1mmatrix\u001b[0m\n",
       "    AnnData object with n_obs × n_vars = 72004 × 314\n",
       "    obs: 'transcript_counts', 'control_probe_counts', 'control_codeword_counts', 'unassigned_codeword_counts', 'deprecated_codeword_counts', 'total_counts', 'cell_area', 'nucleus_area'\n",
       "    var: 'gene_ids', 'feature_types', 'genome'\n",
       "    obsm: 'spatial'\n",
       "    varm: 'binned_expression'\n",
       "\u001b[1mboundaries\u001b[0m\n",
       "    BoundariesData object with 2 entries:\n",
       "        \u001b[1mnuclear\u001b[0m\n",
       "        \u001b[1mcellular\u001b[0m"
      ]
     },
     "execution_count": 66,
     "metadata": {},
     "output_type": "execute_result"
    }
   ],
   "source": [
    "xd.cells"
   ]
  },
  {
   "cell_type": "code",
   "execution_count": null,
   "metadata": {},
   "outputs": [],
   "source": []
  },
  {
   "cell_type": "code",
   "execution_count": 25,
   "metadata": {},
   "outputs": [
    {
     "name": "stderr",
     "output_type": "stream",
     "text": [
      "WARNING: QWindowsWindow::setGeometry: Unable to set geometry 2172x1310+284+198 (frame: 2194x1366+273+153) on QWidgetWindow/\"_QtMainWindowClassWindow\" on \"\\\\.\\DISPLAY1\". Resulting geometry: 3260x1968+287+212 (frame: 3282x2024+276+167) margins: 11, 45, 11, 11 minimum size: 385x492 MINMAXINFO maxSize=0,0 maxpos=0,0 mintrack=792,1040 maxtrack=0,0)\n"
     ]
    }
   ],
   "source": [
    "xd.show()"
   ]
  },
  {
   "cell_type": "code",
   "execution_count": 64,
   "metadata": {},
   "outputs": [
    {
     "data": {
      "text/plain": [
       "WindowsPath('C:/Users/ge37voy/Downloads/tmp/savetest2')"
      ]
     },
     "execution_count": 64,
     "metadata": {},
     "output_type": "execute_result"
    }
   ],
   "source": [
    "savepath"
   ]
  },
  {
   "cell_type": "code",
   "execution_count": 67,
   "metadata": {},
   "outputs": [],
   "source": [
    "xdcrop.save(savepath, overwrite=True)"
   ]
  },
  {
   "cell_type": "code",
   "execution_count": 75,
   "metadata": {},
   "outputs": [
    {
     "data": {
      "text/plain": [
       "WindowsPath('C:/Users/ge37voy/Downloads/tmp/savetest2.zip')"
      ]
     },
     "execution_count": 75,
     "metadata": {},
     "output_type": "execute_result"
    }
   ],
   "source": [
    "savepath.with_suffix(\".zip\")"
   ]
  },
  {
   "cell_type": "code",
   "execution_count": 76,
   "metadata": {},
   "outputs": [],
   "source": [
    "xdcrop.save(savepath.parent / \"savetestnew.zip\", overwrite=True)"
   ]
  },
  {
   "cell_type": "code",
   "execution_count": 77,
   "metadata": {},
   "outputs": [
    {
     "ename": "FileNotFoundError",
     "evalue": "No such directory found: C:\\Users\\ge37voy\\Downloads\\tmp\\savetestnew.zip",
     "output_type": "error",
     "traceback": [
      "\u001b[1;31m---------------------------------------------------------------------------\u001b[0m",
      "\u001b[1;31mFileNotFoundError\u001b[0m                         Traceback (most recent call last)",
      "Cell \u001b[1;32mIn[77], line 1\u001b[0m\n\u001b[1;32m----> 1\u001b[0m xx \u001b[38;5;241m=\u001b[39m \u001b[43mXeniumData\u001b[49m\u001b[43m(\u001b[49m\u001b[43msavepath\u001b[49m\u001b[38;5;241;43m.\u001b[39;49m\u001b[43mparent\u001b[49m\u001b[43m \u001b[49m\u001b[38;5;241;43m/\u001b[39;49m\u001b[43m \u001b[49m\u001b[38;5;124;43m\"\u001b[39;49m\u001b[38;5;124;43msavetestnew.zip\u001b[39;49m\u001b[38;5;124;43m\"\u001b[39;49m\u001b[43m)\u001b[49m\n",
      "File \u001b[1;32m~\\Github\\InSituPy\\insitupy\\_core\\xeniumdata.py:241\u001b[0m, in \u001b[0;36mXeniumData.__init__\u001b[1;34m(self, path, pattern_xenium_folder, metadata_filename, matrix)\u001b[0m\n\u001b[0;32m    238\u001b[0m \u001b[38;5;28;01melif\u001b[39;00m matrix \u001b[38;5;129;01mis\u001b[39;00m \u001b[38;5;28;01mNone\u001b[39;00m:            \n\u001b[0;32m    239\u001b[0m     \u001b[38;5;66;03m# check if path exists\u001b[39;00m\n\u001b[0;32m    240\u001b[0m     \u001b[38;5;28;01mif\u001b[39;00m \u001b[38;5;129;01mnot\u001b[39;00m \u001b[38;5;28mself\u001b[39m\u001b[38;5;241m.\u001b[39mpath\u001b[38;5;241m.\u001b[39mis_dir():\n\u001b[1;32m--> 241\u001b[0m         \u001b[38;5;28;01mraise\u001b[39;00m \u001b[38;5;167;01mFileNotFoundError\u001b[39;00m(\u001b[38;5;124mf\u001b[39m\u001b[38;5;124m\"\u001b[39m\u001b[38;5;124mNo such directory found: \u001b[39m\u001b[38;5;132;01m{\u001b[39;00m\u001b[38;5;28mstr\u001b[39m(\u001b[38;5;28mself\u001b[39m\u001b[38;5;241m.\u001b[39mpath)\u001b[38;5;132;01m}\u001b[39;00m\u001b[38;5;124m\"\u001b[39m)\n\u001b[0;32m    243\u001b[0m     \u001b[38;5;28;01mif\u001b[39;00m metadata_filename \u001b[38;5;129;01mis\u001b[39;00m \u001b[38;5;129;01mnot\u001b[39;00m \u001b[38;5;28;01mNone\u001b[39;00m:\n\u001b[0;32m    244\u001b[0m         \u001b[38;5;28mself\u001b[39m\u001b[38;5;241m.\u001b[39mmetadata_filename \u001b[38;5;241m=\u001b[39m metadata_filename\n",
      "\u001b[1;31mFileNotFoundError\u001b[0m: No such directory found: C:\\Users\\ge37voy\\Downloads\\tmp\\savetestnew.zip"
     ]
    }
   ],
   "source": [
    "xx = XeniumData(savepath.parent / \"savetestnew.zip\")"
   ]
  },
  {
   "cell_type": "code",
   "execution_count": 79,
   "metadata": {},
   "outputs": [
    {
     "ename": "PermissionError",
     "evalue": "[Errno 13] Permission denied: 'C:\\\\Users\\\\ge37voy\\\\Downloads\\\\tmp\\\\savetest2'",
     "output_type": "error",
     "traceback": [
      "\u001b[1;31m---------------------------------------------------------------------------\u001b[0m",
      "\u001b[1;31mPermissionError\u001b[0m                           Traceback (most recent call last)",
      "Cell \u001b[1;32mIn[79], line 1\u001b[0m\n\u001b[1;32m----> 1\u001b[0m \u001b[38;5;28;01mwith\u001b[39;00m \u001b[38;5;28;43mopen\u001b[39;49m\u001b[43m(\u001b[49m\u001b[43msavepath\u001b[49m\u001b[43m,\u001b[49m\u001b[43m \u001b[49m\u001b[43mmode\u001b[49m\u001b[38;5;241;43m=\u001b[39;49m\u001b[38;5;124;43m'\u001b[39;49m\u001b[38;5;124;43mr\u001b[39;49m\u001b[38;5;124;43m'\u001b[39;49m\u001b[43m)\u001b[49m \u001b[38;5;28;01mas\u001b[39;00m folder:\n\u001b[0;32m      2\u001b[0m     \u001b[38;5;28mprint\u001b[39m(folder\u001b[38;5;241m.\u001b[39mread())\n",
      "File \u001b[1;32mc:\\Users\\ge37voy\\AppData\\Local\\miniconda3\\envs\\insitupy\\lib\\site-packages\\IPython\\core\\interactiveshell.py:310\u001b[0m, in \u001b[0;36m_modified_open\u001b[1;34m(file, *args, **kwargs)\u001b[0m\n\u001b[0;32m    303\u001b[0m \u001b[38;5;28;01mif\u001b[39;00m file \u001b[38;5;129;01min\u001b[39;00m {\u001b[38;5;241m0\u001b[39m, \u001b[38;5;241m1\u001b[39m, \u001b[38;5;241m2\u001b[39m}:\n\u001b[0;32m    304\u001b[0m     \u001b[38;5;28;01mraise\u001b[39;00m \u001b[38;5;167;01mValueError\u001b[39;00m(\n\u001b[0;32m    305\u001b[0m         \u001b[38;5;124mf\u001b[39m\u001b[38;5;124m\"\u001b[39m\u001b[38;5;124mIPython won\u001b[39m\u001b[38;5;124m'\u001b[39m\u001b[38;5;124mt let you open fd=\u001b[39m\u001b[38;5;132;01m{\u001b[39;00mfile\u001b[38;5;132;01m}\u001b[39;00m\u001b[38;5;124m by default \u001b[39m\u001b[38;5;124m\"\u001b[39m\n\u001b[0;32m    306\u001b[0m         \u001b[38;5;124m\"\u001b[39m\u001b[38;5;124mas it is likely to crash IPython. If you know what you are doing, \u001b[39m\u001b[38;5;124m\"\u001b[39m\n\u001b[0;32m    307\u001b[0m         \u001b[38;5;124m\"\u001b[39m\u001b[38;5;124myou can use builtins\u001b[39m\u001b[38;5;124m'\u001b[39m\u001b[38;5;124m open.\u001b[39m\u001b[38;5;124m\"\u001b[39m\n\u001b[0;32m    308\u001b[0m     )\n\u001b[1;32m--> 310\u001b[0m \u001b[38;5;28;01mreturn\u001b[39;00m io_open(file, \u001b[38;5;241m*\u001b[39margs, \u001b[38;5;241m*\u001b[39m\u001b[38;5;241m*\u001b[39mkwargs)\n",
      "\u001b[1;31mPermissionError\u001b[0m: [Errno 13] Permission denied: 'C:\\\\Users\\\\ge37voy\\\\Downloads\\\\tmp\\\\savetest2'"
     ]
    }
   ],
   "source": [
    "with open(savepath, mode='r') as folder:\n",
    "    print(folder.read())"
   ]
  },
  {
   "cell_type": "code",
   "execution_count": 69,
   "metadata": {},
   "outputs": [
    {
     "data": {
      "text/plain": [
       "\u001b[1m\u001b[31mXeniumData\u001b[0m\n",
       "\u001b[1mSlide ID:\u001b[0m\t0017321\n",
       "\u001b[1mSample ID:\u001b[0m\tN-436-21-N\n",
       "\u001b[1mData path:\u001b[0m\tC:\\Users\\ge37voy\\Downloads\\tmp\n",
       "\u001b[1mData folder:\u001b[0m\tsavetest2\n",
       "\u001b[1mMetadata file:\u001b[0m\t.xeniumdata"
      ]
     },
     "execution_count": 69,
     "metadata": {},
     "output_type": "execute_result"
    }
   ],
   "source": [
    "xx"
   ]
  },
  {
   "cell_type": "code",
   "execution_count": 70,
   "metadata": {},
   "outputs": [
    {
     "name": "stdout",
     "output_type": "stream",
     "text": [
      "Reading annotations...\n",
      "No `annotations` modality found.\n",
      "Reading cells...\n",
      "Reading images...\n",
      "Reading regions...\n",
      "No `regions` modality found.\n",
      "Reading transcripts...\n"
     ]
    },
    {
     "name": "stderr",
     "output_type": "stream",
     "text": [
      "c:\\Users\\ge37voy\\AppData\\Local\\miniconda3\\envs\\insitupy\\lib\\site-packages\\anndata\\__init__.py:51: FutureWarning: `anndata.read` is deprecated, use `anndata.read_h5ad` instead. `ad.read` will be removed in mid 2024.\n",
      "  warnings.warn(\n"
     ]
    }
   ],
   "source": [
    "xx.load_all()"
   ]
  },
  {
   "cell_type": "code",
   "execution_count": 71,
   "metadata": {},
   "outputs": [
    {
     "name": "stderr",
     "output_type": "stream",
     "text": [
      "WARNING: QWindowsWindow::setGeometry: Unable to set geometry 2172x1310+640+276 (frame: 2194x1366+629+231) on QWidgetWindow/\"_QtMainWindowClassWindow\" on \"\\\\.\\DISPLAY1\". Resulting geometry: 3260x1968+643+290 (frame: 3282x2024+632+245) margins: 11, 45, 11, 11 minimum size: 385x492 MINMAXINFO maxSize=0,0 maxpos=0,0 mintrack=792,1040 maxtrack=0,0)\n"
     ]
    }
   ],
   "source": [
    "xx.show()"
   ]
  },
  {
   "cell_type": "code",
   "execution_count": 72,
   "metadata": {},
   "outputs": [
    {
     "data": {
      "text/plain": [
       "Index(['abkihkfc-1', 'abkjinnh-1', 'abkkmfcn-1', 'abkkphpo-1', 'abkneaim-1',\n",
       "       'ablajmko-1', 'ablekjpl-1', 'ablgdcnn-1', 'ablgjnhk-1', 'ablhfipk-1',\n",
       "       ...\n",
       "       'cefmpjll-1', 'cefnhpag-1', 'cefopccm-1', 'cefpohig-1', 'cegalddb-1',\n",
       "       'cegalehj-1', 'cegbdana-1', 'cegbibjj-1', 'cegbinmn-1', 'cegcddgg-1'],\n",
       "      dtype='object', length=490)"
      ]
     },
     "execution_count": 72,
     "metadata": {},
     "output_type": "execute_result"
    }
   ],
   "source": [
    "xx.cells.matrix.obs_names"
   ]
  },
  {
   "cell_type": "code",
   "execution_count": 47,
   "metadata": {},
   "outputs": [
    {
     "data": {
      "text/plain": [
       "['C:\\\\Users\\\\ge37voy\\\\Downloads\\\\tmp\\\\test3', 'zarr.zip']"
      ]
     },
     "execution_count": 47,
     "metadata": {},
     "output_type": "execute_result"
    }
   ],
   "source": [
    "str(zarrzipout).split(\".\", 1)"
   ]
  },
  {
   "cell_type": "code",
   "execution_count": 48,
   "metadata": {},
   "outputs": [
    {
     "data": {
      "text/plain": [
       "['C:\\\\Users\\\\ge37voy\\\\Downloads\\\\tmp\\\\test2', 'zarr']"
      ]
     },
     "execution_count": 48,
     "metadata": {},
     "output_type": "execute_result"
    }
   ],
   "source": [
    "str(zarrout).split(\".\", 1)"
   ]
  },
  {
   "cell_type": "code",
   "execution_count": 33,
   "metadata": {},
   "outputs": [],
   "source": [
    "zarrout = savepath.parent / \"test2.zarr\"\n",
    "zarrzipout = savepath.parent / \"test3.zarr.zip\""
   ]
  },
  {
   "cell_type": "code",
   "execution_count": 37,
   "metadata": {},
   "outputs": [
    {
     "data": {
      "text/html": [
       "<table>\n",
       "    <tr>\n",
       "        <td>\n",
       "            <table style=\"border-collapse: collapse;\">\n",
       "                <thead>\n",
       "                    <tr>\n",
       "                        <td> </td>\n",
       "                        <th> Array </th>\n",
       "                        <th> Chunk </th>\n",
       "                    </tr>\n",
       "                </thead>\n",
       "                <tbody>\n",
       "                    \n",
       "                    <tr>\n",
       "                        <th> Bytes </th>\n",
       "                        <td> 7.56 MiB </td>\n",
       "                        <td> 7.56 MiB </td>\n",
       "                    </tr>\n",
       "                    \n",
       "                    <tr>\n",
       "                        <th> Shape </th>\n",
       "                        <td> (1493, 1327) </td>\n",
       "                        <td> (1493, 1327) </td>\n",
       "                    </tr>\n",
       "                    <tr>\n",
       "                        <th> Dask graph </th>\n",
       "                        <td colspan=\"2\"> 1 chunks in 4 graph layers </td>\n",
       "                    </tr>\n",
       "                    <tr>\n",
       "                        <th> Data type </th>\n",
       "                        <td colspan=\"2\"> uint32 numpy.ndarray </td>\n",
       "                    </tr>\n",
       "                </tbody>\n",
       "            </table>\n",
       "        </td>\n",
       "        <td>\n",
       "        <svg width=\"156\" height=\"170\" style=\"stroke:rgb(0,0,0);stroke-width:1\" >\n",
       "\n",
       "  <!-- Horizontal lines -->\n",
       "  <line x1=\"0\" y1=\"0\" x2=\"106\" y2=\"0\" style=\"stroke-width:2\" />\n",
       "  <line x1=\"0\" y1=\"120\" x2=\"106\" y2=\"120\" style=\"stroke-width:2\" />\n",
       "\n",
       "  <!-- Vertical lines -->\n",
       "  <line x1=\"0\" y1=\"0\" x2=\"0\" y2=\"120\" style=\"stroke-width:2\" />\n",
       "  <line x1=\"106\" y1=\"0\" x2=\"106\" y2=\"120\" style=\"stroke-width:2\" />\n",
       "\n",
       "  <!-- Colored Rectangle -->\n",
       "  <polygon points=\"0.0,0.0 106.65773610180844,0.0 106.65773610180844,120.0 0.0,120.0\" style=\"fill:#ECB172A0;stroke-width:0\"/>\n",
       "\n",
       "  <!-- Text -->\n",
       "  <text x=\"53.328868\" y=\"140.000000\" font-size=\"1.0rem\" font-weight=\"100\" text-anchor=\"middle\" >1327</text>\n",
       "  <text x=\"126.657736\" y=\"60.000000\" font-size=\"1.0rem\" font-weight=\"100\" text-anchor=\"middle\" transform=\"rotate(-90,126.657736,60.000000)\">1493</text>\n",
       "</svg>\n",
       "        </td>\n",
       "    </tr>\n",
       "</table>"
      ],
      "text/plain": [
       "dask.array<rechunk-merge, shape=(1493, 1327), dtype=uint32, chunksize=(1493, 1327), chunktype=numpy.ndarray>"
      ]
     },
     "execution_count": 37,
     "metadata": {},
     "output_type": "execute_result"
    }
   ],
   "source": [
    "xdcrop.cells.boundaries.nuclear"
   ]
  },
  {
   "cell_type": "code",
   "execution_count": 34,
   "metadata": {},
   "outputs": [],
   "source": [
    "with zarr.ZipStore(zarrzipout, mode='w') as store:\n",
    "    xdcrop.cells.boundaries.nuclear.to_zarr(store, overwrite=True)"
   ]
  },
  {
   "cell_type": "code",
   "execution_count": 35,
   "metadata": {},
   "outputs": [],
   "source": [
    "d = dask.array.from_zarr(zarrzipout)"
   ]
  },
  {
   "cell_type": "code",
   "execution_count": 36,
   "metadata": {},
   "outputs": [
    {
     "data": {
      "text/html": [
       "<table>\n",
       "    <tr>\n",
       "        <td>\n",
       "            <table style=\"border-collapse: collapse;\">\n",
       "                <thead>\n",
       "                    <tr>\n",
       "                        <td> </td>\n",
       "                        <th> Array </th>\n",
       "                        <th> Chunk </th>\n",
       "                    </tr>\n",
       "                </thead>\n",
       "                <tbody>\n",
       "                    \n",
       "                    <tr>\n",
       "                        <th> Bytes </th>\n",
       "                        <td> 7.56 MiB </td>\n",
       "                        <td> 7.56 MiB </td>\n",
       "                    </tr>\n",
       "                    \n",
       "                    <tr>\n",
       "                        <th> Shape </th>\n",
       "                        <td> (1493, 1327) </td>\n",
       "                        <td> (1493, 1327) </td>\n",
       "                    </tr>\n",
       "                    <tr>\n",
       "                        <th> Dask graph </th>\n",
       "                        <td colspan=\"2\"> 1 chunks in 2 graph layers </td>\n",
       "                    </tr>\n",
       "                    <tr>\n",
       "                        <th> Data type </th>\n",
       "                        <td colspan=\"2\"> uint32 numpy.ndarray </td>\n",
       "                    </tr>\n",
       "                </tbody>\n",
       "            </table>\n",
       "        </td>\n",
       "        <td>\n",
       "        <svg width=\"156\" height=\"170\" style=\"stroke:rgb(0,0,0);stroke-width:1\" >\n",
       "\n",
       "  <!-- Horizontal lines -->\n",
       "  <line x1=\"0\" y1=\"0\" x2=\"106\" y2=\"0\" style=\"stroke-width:2\" />\n",
       "  <line x1=\"0\" y1=\"120\" x2=\"106\" y2=\"120\" style=\"stroke-width:2\" />\n",
       "\n",
       "  <!-- Vertical lines -->\n",
       "  <line x1=\"0\" y1=\"0\" x2=\"0\" y2=\"120\" style=\"stroke-width:2\" />\n",
       "  <line x1=\"106\" y1=\"0\" x2=\"106\" y2=\"120\" style=\"stroke-width:2\" />\n",
       "\n",
       "  <!-- Colored Rectangle -->\n",
       "  <polygon points=\"0.0,0.0 106.65773610180844,0.0 106.65773610180844,120.0 0.0,120.0\" style=\"fill:#ECB172A0;stroke-width:0\"/>\n",
       "\n",
       "  <!-- Text -->\n",
       "  <text x=\"53.328868\" y=\"140.000000\" font-size=\"1.0rem\" font-weight=\"100\" text-anchor=\"middle\" >1327</text>\n",
       "  <text x=\"126.657736\" y=\"60.000000\" font-size=\"1.0rem\" font-weight=\"100\" text-anchor=\"middle\" transform=\"rotate(-90,126.657736,60.000000)\">1493</text>\n",
       "</svg>\n",
       "        </td>\n",
       "    </tr>\n",
       "</table>"
      ],
      "text/plain": [
       "dask.array<from-zarr, shape=(1493, 1327), dtype=uint32, chunksize=(1493, 1327), chunktype=numpy.ndarray>"
      ]
     },
     "execution_count": 36,
     "metadata": {},
     "output_type": "execute_result"
    }
   ],
   "source": [
    "d"
   ]
  },
  {
   "cell_type": "code",
   "execution_count": 27,
   "metadata": {},
   "outputs": [],
   "source": [
    "xdcrop.cells.boundaries.nuclear.to_zarr(zarrout, overwrite=True)"
   ]
  },
  {
   "cell_type": "code",
   "execution_count": 13,
   "metadata": {},
   "outputs": [
    {
     "ename": "ValueError",
     "evalue": "Attempt to save array to zarr with irregular chunking, please call `arr.rechunk(...)` first.",
     "output_type": "error",
     "traceback": [
      "\u001b[1;31m---------------------------------------------------------------------------\u001b[0m",
      "\u001b[1;31mValueError\u001b[0m                                Traceback (most recent call last)",
      "Cell \u001b[1;32mIn[13], line 1\u001b[0m\n\u001b[1;32m----> 1\u001b[0m \u001b[43mxdcrop\u001b[49m\u001b[38;5;241;43m.\u001b[39;49m\u001b[43mcells\u001b[49m\u001b[38;5;241;43m.\u001b[39;49m\u001b[43mboundaries\u001b[49m\u001b[38;5;241;43m.\u001b[39;49m\u001b[43mnuclear\u001b[49m\u001b[38;5;241;43m.\u001b[39;49m\u001b[43mto_zarr\u001b[49m\u001b[43m(\u001b[49m\u001b[43mzarrout\u001b[49m\u001b[43m)\u001b[49m\n",
      "File \u001b[1;32mc:\\Users\\ge37voy\\AppData\\Local\\miniconda3\\envs\\insitupy\\lib\\site-packages\\dask\\array\\core.py:2948\u001b[0m, in \u001b[0;36mArray.to_zarr\u001b[1;34m(self, *args, **kwargs)\u001b[0m\n\u001b[0;32m   2937\u001b[0m \u001b[38;5;28;01mdef\u001b[39;00m \u001b[38;5;21mto_zarr\u001b[39m(\u001b[38;5;28mself\u001b[39m, \u001b[38;5;241m*\u001b[39margs, \u001b[38;5;241m*\u001b[39m\u001b[38;5;241m*\u001b[39mkwargs):\n\u001b[0;32m   2938\u001b[0m \u001b[38;5;250m    \u001b[39m\u001b[38;5;124;03m\"\"\"Save array to the zarr storage format\u001b[39;00m\n\u001b[0;32m   2939\u001b[0m \n\u001b[0;32m   2940\u001b[0m \u001b[38;5;124;03m    See https://zarr.readthedocs.io for details about the format.\u001b[39;00m\n\u001b[1;32m   (...)\u001b[0m\n\u001b[0;32m   2946\u001b[0m \u001b[38;5;124;03m    dask.array.to_zarr : equivalent function\u001b[39;00m\n\u001b[0;32m   2947\u001b[0m \u001b[38;5;124;03m    \"\"\"\u001b[39;00m\n\u001b[1;32m-> 2948\u001b[0m     \u001b[38;5;28;01mreturn\u001b[39;00m to_zarr(\u001b[38;5;28mself\u001b[39m, \u001b[38;5;241m*\u001b[39margs, \u001b[38;5;241m*\u001b[39m\u001b[38;5;241m*\u001b[39mkwargs)\n",
      "File \u001b[1;32mc:\\Users\\ge37voy\\AppData\\Local\\miniconda3\\envs\\insitupy\\lib\\site-packages\\dask\\array\\core.py:3702\u001b[0m, in \u001b[0;36mto_zarr\u001b[1;34m(arr, url, component, storage_options, overwrite, region, compute, return_stored, **kwargs)\u001b[0m\n\u001b[0;32m   3699\u001b[0m     \u001b[38;5;28;01mraise\u001b[39;00m \u001b[38;5;167;01mValueError\u001b[39;00m(\u001b[38;5;124m\"\u001b[39m\u001b[38;5;124mCannot use `region` keyword when url is not a `zarr.Array`.\u001b[39m\u001b[38;5;124m\"\u001b[39m)\n\u001b[0;32m   3701\u001b[0m \u001b[38;5;28;01mif\u001b[39;00m \u001b[38;5;129;01mnot\u001b[39;00m _check_regular_chunks(arr\u001b[38;5;241m.\u001b[39mchunks):\n\u001b[1;32m-> 3702\u001b[0m     \u001b[38;5;28;01mraise\u001b[39;00m \u001b[38;5;167;01mValueError\u001b[39;00m(\n\u001b[0;32m   3703\u001b[0m         \u001b[38;5;124m\"\u001b[39m\u001b[38;5;124mAttempt to save array to zarr with irregular \u001b[39m\u001b[38;5;124m\"\u001b[39m\n\u001b[0;32m   3704\u001b[0m         \u001b[38;5;124m\"\u001b[39m\u001b[38;5;124mchunking, please call `arr.rechunk(...)` first.\u001b[39m\u001b[38;5;124m\"\u001b[39m\n\u001b[0;32m   3705\u001b[0m     )\n\u001b[0;32m   3707\u001b[0m storage_options \u001b[38;5;241m=\u001b[39m storage_options \u001b[38;5;129;01mor\u001b[39;00m {}\n\u001b[0;32m   3709\u001b[0m \u001b[38;5;28;01mif\u001b[39;00m storage_options:\n",
      "\u001b[1;31mValueError\u001b[0m: Attempt to save array to zarr with irregular chunking, please call `arr.rechunk(...)` first."
     ]
    }
   ],
   "source": [
    "xdcrop.cells.boundaries.nuclear.to_zarr(zarrout)"
   ]
  },
  {
   "cell_type": "code",
   "execution_count": 2,
   "metadata": {},
   "outputs": [
    {
     "ename": "NameError",
     "evalue": "name 'xdcrop' is not defined",
     "output_type": "error",
     "traceback": [
      "\u001b[1;31m---------------------------------------------------------------------------\u001b[0m",
      "\u001b[1;31mNameError\u001b[0m                                 Traceback (most recent call last)",
      "Cell \u001b[1;32mIn[2], line 1\u001b[0m\n\u001b[1;32m----> 1\u001b[0m \u001b[43mxdcrop\u001b[49m\u001b[38;5;241m.\u001b[39mcells\u001b[38;5;241m.\u001b[39mboundaries\u001b[38;5;241m.\u001b[39mcellular\n",
      "\u001b[1;31mNameError\u001b[0m: name 'xdcrop' is not defined"
     ]
    }
   ],
   "source": [
    "xdcrop.cells.boundaries.cellular"
   ]
  },
  {
   "cell_type": "code",
   "execution_count": 22,
   "metadata": {},
   "outputs": [],
   "source": [
    "xdcrop.show()"
   ]
  },
  {
   "cell_type": "code",
   "execution_count": null,
   "metadata": {},
   "outputs": [],
   "source": []
  },
  {
   "cell_type": "code",
   "execution_count": 14,
   "metadata": {},
   "outputs": [
    {
     "data": {
      "text/html": [
       "<table>\n",
       "    <tr>\n",
       "        <td>\n",
       "            <table style=\"border-collapse: collapse;\">\n",
       "                <thead>\n",
       "                    <tr>\n",
       "                        <td> </td>\n",
       "                        <th> Array </th>\n",
       "                        <th> Chunk </th>\n",
       "                    </tr>\n",
       "                </thead>\n",
       "                <tbody>\n",
       "                    \n",
       "                    <tr>\n",
       "                        <th> Bytes </th>\n",
       "                        <td> 319.52 kiB </td>\n",
       "                        <td> 243.55 kiB </td>\n",
       "                    </tr>\n",
       "                    \n",
       "                    <tr>\n",
       "                        <th> Shape </th>\n",
       "                        <td> (286, 286) </td>\n",
       "                        <td> (286, 218) </td>\n",
       "                    </tr>\n",
       "                    <tr>\n",
       "                        <th> Dask graph </th>\n",
       "                        <td colspan=\"2\"> 2 chunks in 3 graph layers </td>\n",
       "                    </tr>\n",
       "                    <tr>\n",
       "                        <th> Data type </th>\n",
       "                        <td colspan=\"2\"> uint32 numpy.ndarray </td>\n",
       "                    </tr>\n",
       "                </tbody>\n",
       "            </table>\n",
       "        </td>\n",
       "        <td>\n",
       "        <svg width=\"170\" height=\"170\" style=\"stroke:rgb(0,0,0);stroke-width:1\" >\n",
       "\n",
       "  <!-- Horizontal lines -->\n",
       "  <line x1=\"0\" y1=\"0\" x2=\"120\" y2=\"0\" style=\"stroke-width:2\" />\n",
       "  <line x1=\"0\" y1=\"120\" x2=\"120\" y2=\"120\" style=\"stroke-width:2\" />\n",
       "\n",
       "  <!-- Vertical lines -->\n",
       "  <line x1=\"0\" y1=\"0\" x2=\"0\" y2=\"120\" style=\"stroke-width:2\" />\n",
       "  <line x1=\"28\" y1=\"0\" x2=\"28\" y2=\"120\" />\n",
       "  <line x1=\"120\" y1=\"0\" x2=\"120\" y2=\"120\" style=\"stroke-width:2\" />\n",
       "\n",
       "  <!-- Colored Rectangle -->\n",
       "  <polygon points=\"0.0,0.0 120.0,0.0 120.0,120.0 0.0,120.0\" style=\"fill:#ECB172A0;stroke-width:0\"/>\n",
       "\n",
       "  <!-- Text -->\n",
       "  <text x=\"60.000000\" y=\"140.000000\" font-size=\"1.0rem\" font-weight=\"100\" text-anchor=\"middle\" >286</text>\n",
       "  <text x=\"140.000000\" y=\"60.000000\" font-size=\"1.0rem\" font-weight=\"100\" text-anchor=\"middle\" transform=\"rotate(-90,140.000000,60.000000)\">286</text>\n",
       "</svg>\n",
       "        </td>\n",
       "    </tr>\n",
       "</table>"
      ],
      "text/plain": [
       "dask.array<getitem, shape=(286, 286), dtype=uint32, chunksize=(286, 218), chunktype=numpy.ndarray>"
      ]
     },
     "execution_count": 14,
     "metadata": {},
     "output_type": "execute_result"
    }
   ],
   "source": [
    "xdcrop.cells.boundaries.nuclear"
   ]
  },
  {
   "cell_type": "code",
   "execution_count": 27,
   "metadata": {},
   "outputs": [
    {
     "data": {
      "text/plain": [
       "True"
      ]
     },
     "execution_count": 27,
     "metadata": {},
     "output_type": "execute_result"
    }
   ],
   "source": [
    "isinstance(True, bool)"
   ]
  },
  {
   "cell_type": "code",
   "execution_count": 28,
   "metadata": {},
   "outputs": [
    {
     "data": {
      "text/html": [
       "<table>\n",
       "    <tr>\n",
       "        <td>\n",
       "            <table style=\"border-collapse: collapse;\">\n",
       "                <thead>\n",
       "                    <tr>\n",
       "                        <td> </td>\n",
       "                        <th> Array </th>\n",
       "                        <th> Chunk </th>\n",
       "                    </tr>\n",
       "                </thead>\n",
       "                <tbody>\n",
       "                    \n",
       "                    <tr>\n",
       "                        <th> Bytes </th>\n",
       "                        <td> 0.96 MiB </td>\n",
       "                        <td> 502.77 kiB </td>\n",
       "                    </tr>\n",
       "                    \n",
       "                    <tr>\n",
       "                        <th> Shape </th>\n",
       "                        <td> (1191, 211) </td>\n",
       "                        <td> (610, 211) </td>\n",
       "                    </tr>\n",
       "                    <tr>\n",
       "                        <th> Dask graph </th>\n",
       "                        <td colspan=\"2\"> 2 chunks in 3 graph layers </td>\n",
       "                    </tr>\n",
       "                    <tr>\n",
       "                        <th> Data type </th>\n",
       "                        <td colspan=\"2\"> uint32 numpy.ndarray </td>\n",
       "                    </tr>\n",
       "                </tbody>\n",
       "            </table>\n",
       "        </td>\n",
       "        <td>\n",
       "        <svg width=\"91\" height=\"170\" style=\"stroke:rgb(0,0,0);stroke-width:1\" >\n",
       "\n",
       "  <!-- Horizontal lines -->\n",
       "  <line x1=\"0\" y1=\"0\" x2=\"41\" y2=\"0\" style=\"stroke-width:2\" />\n",
       "  <line x1=\"0\" y1=\"61\" x2=\"41\" y2=\"61\" />\n",
       "  <line x1=\"0\" y1=\"120\" x2=\"41\" y2=\"120\" style=\"stroke-width:2\" />\n",
       "\n",
       "  <!-- Vertical lines -->\n",
       "  <line x1=\"0\" y1=\"0\" x2=\"0\" y2=\"120\" style=\"stroke-width:2\" />\n",
       "  <line x1=\"41\" y1=\"0\" x2=\"41\" y2=\"120\" style=\"stroke-width:2\" />\n",
       "\n",
       "  <!-- Colored Rectangle -->\n",
       "  <polygon points=\"0.0,0.0 41.48167442971198,0.0 41.48167442971198,120.0 0.0,120.0\" style=\"fill:#ECB172A0;stroke-width:0\"/>\n",
       "\n",
       "  <!-- Text -->\n",
       "  <text x=\"20.740837\" y=\"140.000000\" font-size=\"1.0rem\" font-weight=\"100\" text-anchor=\"middle\" >211</text>\n",
       "  <text x=\"61.481674\" y=\"60.000000\" font-size=\"1.0rem\" font-weight=\"100\" text-anchor=\"middle\" transform=\"rotate(-90,61.481674,60.000000)\">1191</text>\n",
       "</svg>\n",
       "        </td>\n",
       "    </tr>\n",
       "</table>"
      ],
      "text/plain": [
       "dask.array<getitem, shape=(1191, 211), dtype=uint32, chunksize=(610, 211), chunktype=numpy.ndarray>"
      ]
     },
     "execution_count": 28,
     "metadata": {},
     "output_type": "execute_result"
    }
   ],
   "source": [
    "xd.cells.boundaries.cellular[30:1221, 23:234]"
   ]
  },
  {
   "cell_type": "code",
   "execution_count": 31,
   "metadata": {},
   "outputs": [],
   "source": [
    "cells_zarr_file = xd_data / \"cells.zarr.zip\""
   ]
  },
  {
   "cell_type": "code",
   "execution_count": 32,
   "metadata": {},
   "outputs": [],
   "source": [
    "cells = zarr.open(cells_zarr_file, mode=\"r\")"
   ]
  },
  {
   "cell_type": "code",
   "execution_count": 33,
   "metadata": {},
   "outputs": [
    {
     "name": "stdout",
     "output_type": "stream",
     "text": [
      "/\n",
      " ├── cell_id (72004, 2) uint32\n",
      " ├── cell_summary (72004, 7) float64\n",
      " ├── masks\n",
      " │   ├── 0 (20476, 22820) uint32\n",
      " │   ├── 1 (20476, 22820) uint32\n",
      " │   └── homogeneous_transform (4, 4) float32\n",
      " ├── polygon_num_vertices (2, 72004) int32\n",
      " ├── polygon_vertices (2, 72004, 26) float32\n",
      " └── seg_mask_value (72004,) uint32\n"
     ]
    }
   ],
   "source": [
    "print(cells.tree())"
   ]
  },
  {
   "cell_type": "code",
   "execution_count": 36,
   "metadata": {},
   "outputs": [
    {
     "data": {
      "text/plain": [
       "array([[     41392,          1],\n",
       "       [     50263,          1],\n",
       "       [     95487,          1],\n",
       "       ...,\n",
       "       [3901099234,          1],\n",
       "       [3901132806,          1],\n",
       "       [3901252498,          1]], dtype=uint32)"
      ]
     },
     "execution_count": 36,
     "metadata": {},
     "output_type": "execute_result"
    }
   ],
   "source": [
    "cells.cell_id[:]"
   ]
  },
  {
   "cell_type": "code",
   "execution_count": 40,
   "metadata": {},
   "outputs": [
    {
     "data": {
      "text/plain": [
       "array([[1357.34326172, 1689.22619629,  425.86860921, ..., 1687.41662598,\n",
       "          83.35844053,   18.        ],\n",
       "       [1355.0333252 , 1706.20385742,  321.28673041, ..., 1708.40820312,\n",
       "          62.40593977,   15.        ],\n",
       "       [1371.2824707 , 1702.32226562,  160.89172459, ..., 1706.76733398,\n",
       "          12.91468797,   18.        ],\n",
       "       ...,\n",
       "       [4146.4609375 ,  906.07733154,   95.37000346, ...,  908.21130371,\n",
       "          26.01000094,   15.        ],\n",
       "       [4206.87988281,  909.21466064,   54.63906448, ...,  910.71502686,\n",
       "          10.56656288,   15.        ],\n",
       "       [4200.67236328,  915.49005127,   74.95937772, ...,  916.30627441,\n",
       "          44.97562663,   15.        ]])"
      ]
     },
     "execution_count": 40,
     "metadata": {},
     "output_type": "execute_result"
    }
   ],
   "source": [
    "cells.cell_summary[:]"
   ]
  },
  {
   "cell_type": "code",
   "execution_count": 42,
   "metadata": {},
   "outputs": [
    {
     "data": {
      "text/plain": [
       "array([    1,     2,     3, ..., 72002, 72003, 72004], dtype=uint32)"
      ]
     },
     "execution_count": 42,
     "metadata": {},
     "output_type": "execute_result"
    }
   ],
   "source": [
    "cells.seg_mask_value[:]"
   ]
  },
  {
   "cell_type": "code",
   "execution_count": 44,
   "metadata": {},
   "outputs": [],
   "source": [
    "nuclear_masks = dask.array.from_zarr(cells_zarr_file, component=\"masks/0\")\n",
    "cellular_masks = dask.array.from_zarr(cells_zarr_file, component=\"masks/1\")"
   ]
  },
  {
   "cell_type": "code",
   "execution_count": 51,
   "metadata": {},
   "outputs": [
    {
     "data": {
      "text/plain": [
       "72004"
      ]
     },
     "execution_count": 51,
     "metadata": {},
     "output_type": "execute_result"
    }
   ],
   "source": [
    "np.max(nuclear_masks.compute())"
   ]
  },
  {
   "cell_type": "code",
   "execution_count": 55,
   "metadata": {},
   "outputs": [
    {
     "data": {
      "text/html": [
       "<div>\n",
       "<style scoped>\n",
       "    .dataframe tbody tr th:only-of-type {\n",
       "        vertical-align: middle;\n",
       "    }\n",
       "\n",
       "    .dataframe tbody tr th {\n",
       "        vertical-align: top;\n",
       "    }\n",
       "\n",
       "    .dataframe thead th {\n",
       "        text-align: right;\n",
       "    }\n",
       "</style>\n",
       "<table border=\"1\" class=\"dataframe\">\n",
       "  <thead>\n",
       "    <tr style=\"text-align: right;\">\n",
       "      <th></th>\n",
       "      <th>cell_id</th>\n",
       "      <th>vertex_x</th>\n",
       "      <th>vertex_y</th>\n",
       "    </tr>\n",
       "  </thead>\n",
       "  <tbody>\n",
       "    <tr>\n",
       "      <th>0</th>\n",
       "      <td>aaaakbla-1</td>\n",
       "      <td>1352.987549</td>\n",
       "      <td>1677.475098</td>\n",
       "    </tr>\n",
       "    <tr>\n",
       "      <th>1</th>\n",
       "      <td>aaaakbla-1</td>\n",
       "      <td>1347.462524</td>\n",
       "      <td>1682.362549</td>\n",
       "    </tr>\n",
       "    <tr>\n",
       "      <th>2</th>\n",
       "      <td>aaaakbla-1</td>\n",
       "      <td>1347.462524</td>\n",
       "      <td>1686.612549</td>\n",
       "    </tr>\n",
       "    <tr>\n",
       "      <th>3</th>\n",
       "      <td>aaaakbla-1</td>\n",
       "      <td>1345.975098</td>\n",
       "      <td>1690.225098</td>\n",
       "    </tr>\n",
       "    <tr>\n",
       "      <th>4</th>\n",
       "      <td>aaaakbla-1</td>\n",
       "      <td>1343.425049</td>\n",
       "      <td>1693.412598</td>\n",
       "    </tr>\n",
       "    <tr>\n",
       "      <th>...</th>\n",
       "      <td>...</td>\n",
       "      <td>...</td>\n",
       "      <td>...</td>\n",
       "    </tr>\n",
       "    <tr>\n",
       "      <th>936034</th>\n",
       "      <td>oiiigdjc-1</td>\n",
       "      <td>4204.312500</td>\n",
       "      <td>920.125000</td>\n",
       "    </tr>\n",
       "    <tr>\n",
       "      <th>936035</th>\n",
       "      <td>oiiigdjc-1</td>\n",
       "      <td>4204.950195</td>\n",
       "      <td>917.150024</td>\n",
       "    </tr>\n",
       "    <tr>\n",
       "      <th>936036</th>\n",
       "      <td>oiiigdjc-1</td>\n",
       "      <td>4204.950195</td>\n",
       "      <td>913.962524</td>\n",
       "    </tr>\n",
       "    <tr>\n",
       "      <th>936037</th>\n",
       "      <td>oiiigdjc-1</td>\n",
       "      <td>4201.762695</td>\n",
       "      <td>909.925049</td>\n",
       "    </tr>\n",
       "    <tr>\n",
       "      <th>936038</th>\n",
       "      <td>oiiigdjc-1</td>\n",
       "      <td>4201.337402</td>\n",
       "      <td>909.925049</td>\n",
       "    </tr>\n",
       "  </tbody>\n",
       "</table>\n",
       "<p>936039 rows × 3 columns</p>\n",
       "</div>"
      ],
      "text/plain": [
       "           cell_id     vertex_x     vertex_y\n",
       "0       aaaakbla-1  1352.987549  1677.475098\n",
       "1       aaaakbla-1  1347.462524  1682.362549\n",
       "2       aaaakbla-1  1347.462524  1686.612549\n",
       "3       aaaakbla-1  1345.975098  1690.225098\n",
       "4       aaaakbla-1  1343.425049  1693.412598\n",
       "...            ...          ...          ...\n",
       "936034  oiiigdjc-1  4204.312500   920.125000\n",
       "936035  oiiigdjc-1  4204.950195   917.150024\n",
       "936036  oiiigdjc-1  4204.950195   913.962524\n",
       "936037  oiiigdjc-1  4201.762695   909.925049\n",
       "936038  oiiigdjc-1  4201.337402   909.925049\n",
       "\n",
       "[936039 rows x 3 columns]"
      ]
     },
     "execution_count": 55,
     "metadata": {},
     "output_type": "execute_result"
    }
   ],
   "source": [
    "pd.read_parquet(r\"C:\\Users\\ge37voy\\OneDrive - TUM\\data\\2315_VascularCancer_Mogler\\2315-02-glioblastoma\\20240112__122324__2315-02-Glioblastoma\\output-XETG00050__0017321__N-436-21-N__20240112__124239\\cell_boundaries.parquet\")"
   ]
  },
  {
   "cell_type": "code",
   "execution_count": null,
   "metadata": {},
   "outputs": [
    {
     "data": {
      "text/html": [
       "<div>\n",
       "<style scoped>\n",
       "    .dataframe tbody tr th:only-of-type {\n",
       "        vertical-align: middle;\n",
       "    }\n",
       "\n",
       "    .dataframe tbody tr th {\n",
       "        vertical-align: top;\n",
       "    }\n",
       "\n",
       "    .dataframe thead th {\n",
       "        text-align: right;\n",
       "    }\n",
       "</style>\n",
       "<table border=\"1\" class=\"dataframe\">\n",
       "  <thead>\n",
       "    <tr style=\"text-align: right;\">\n",
       "      <th></th>\n",
       "      <th>cell_id</th>\n",
       "      <th>vertex_x</th>\n",
       "      <th>vertex_y</th>\n",
       "    </tr>\n",
       "  </thead>\n",
       "  <tbody>\n",
       "    <tr>\n",
       "      <th>0</th>\n",
       "      <td>aaaakbla-1</td>\n",
       "      <td>1352.987549</td>\n",
       "      <td>1677.475098</td>\n",
       "    </tr>\n",
       "    <tr>\n",
       "      <th>1</th>\n",
       "      <td>aaaakbla-1</td>\n",
       "      <td>1347.462524</td>\n",
       "      <td>1682.362549</td>\n",
       "    </tr>\n",
       "    <tr>\n",
       "      <th>2</th>\n",
       "      <td>aaaakbla-1</td>\n",
       "      <td>1347.462524</td>\n",
       "      <td>1686.612549</td>\n",
       "    </tr>\n",
       "    <tr>\n",
       "      <th>3</th>\n",
       "      <td>aaaakbla-1</td>\n",
       "      <td>1345.975098</td>\n",
       "      <td>1690.225098</td>\n",
       "    </tr>\n",
       "    <tr>\n",
       "      <th>4</th>\n",
       "      <td>aaaakbla-1</td>\n",
       "      <td>1343.425049</td>\n",
       "      <td>1693.412598</td>\n",
       "    </tr>\n",
       "    <tr>\n",
       "      <th>...</th>\n",
       "      <td>...</td>\n",
       "      <td>...</td>\n",
       "      <td>...</td>\n",
       "    </tr>\n",
       "    <tr>\n",
       "      <th>936034</th>\n",
       "      <td>oiiigdjc-1</td>\n",
       "      <td>4204.312500</td>\n",
       "      <td>920.125000</td>\n",
       "    </tr>\n",
       "    <tr>\n",
       "      <th>936035</th>\n",
       "      <td>oiiigdjc-1</td>\n",
       "      <td>4204.950195</td>\n",
       "      <td>917.150024</td>\n",
       "    </tr>\n",
       "    <tr>\n",
       "      <th>936036</th>\n",
       "      <td>oiiigdjc-1</td>\n",
       "      <td>4204.950195</td>\n",
       "      <td>913.962524</td>\n",
       "    </tr>\n",
       "    <tr>\n",
       "      <th>936037</th>\n",
       "      <td>oiiigdjc-1</td>\n",
       "      <td>4201.762695</td>\n",
       "      <td>909.925049</td>\n",
       "    </tr>\n",
       "    <tr>\n",
       "      <th>936038</th>\n",
       "      <td>oiiigdjc-1</td>\n",
       "      <td>4201.337402</td>\n",
       "      <td>909.925049</td>\n",
       "    </tr>\n",
       "  </tbody>\n",
       "</table>\n",
       "<p>936039 rows × 3 columns</p>\n",
       "</div>"
      ],
      "text/plain": [
       "           cell_id     vertex_x     vertex_y\n",
       "0       aaaakbla-1  1352.987549  1677.475098\n",
       "1       aaaakbla-1  1347.462524  1682.362549\n",
       "2       aaaakbla-1  1347.462524  1686.612549\n",
       "3       aaaakbla-1  1345.975098  1690.225098\n",
       "4       aaaakbla-1  1343.425049  1693.412598\n",
       "...            ...          ...          ...\n",
       "936034  oiiigdjc-1  4204.312500   920.125000\n",
       "936035  oiiigdjc-1  4204.950195   917.150024\n",
       "936036  oiiigdjc-1  4204.950195   913.962524\n",
       "936037  oiiigdjc-1  4201.762695   909.925049\n",
       "936038  oiiigdjc-1  4201.337402   909.925049\n",
       "\n",
       "[936039 rows x 3 columns]"
      ]
     },
     "metadata": {},
     "output_type": "display_data"
    }
   ],
   "source": [
    "pd.read_parquet(r\"C:\\Users\\ge37voy\\OneDrive - TUM\\data\\2315_VascularCancer_Mogler\\2315-02-glioblastoma\\20240112__122324__2315-02-Glioblastoma\\output-XETG00050__0017321__N-436-21-N__20240112__124239\\cells.parquet\")"
   ]
  },
  {
   "cell_type": "code",
   "execution_count": 23,
   "metadata": {},
   "outputs": [
    {
     "data": {
      "text/html": [
       "<table>\n",
       "    <tr>\n",
       "        <td>\n",
       "            <table style=\"border-collapse: collapse;\">\n",
       "                <thead>\n",
       "                    <tr>\n",
       "                        <td> </td>\n",
       "                        <th> Array </th>\n",
       "                        <th> Chunk </th>\n",
       "                    </tr>\n",
       "                </thead>\n",
       "                <tbody>\n",
       "                    \n",
       "                    <tr>\n",
       "                        <th> Bytes </th>\n",
       "                        <td> 1.74 GiB </td>\n",
       "                        <td> 3.48 MiB </td>\n",
       "                    </tr>\n",
       "                    \n",
       "                    <tr>\n",
       "                        <th> Shape </th>\n",
       "                        <td> (20476, 22820) </td>\n",
       "                        <td> (640, 1427) </td>\n",
       "                    </tr>\n",
       "                    <tr>\n",
       "                        <th> Dask graph </th>\n",
       "                        <td colspan=\"2\"> 512 chunks in 2 graph layers </td>\n",
       "                    </tr>\n",
       "                    <tr>\n",
       "                        <th> Data type </th>\n",
       "                        <td colspan=\"2\"> uint32 numpy.ndarray </td>\n",
       "                    </tr>\n",
       "                </tbody>\n",
       "            </table>\n",
       "        </td>\n",
       "        <td>\n",
       "        <svg width=\"170\" height=\"157\" style=\"stroke:rgb(0,0,0);stroke-width:1\" >\n",
       "\n",
       "  <!-- Horizontal lines -->\n",
       "  <line x1=\"0\" y1=\"0\" x2=\"120\" y2=\"0\" style=\"stroke-width:2\" />\n",
       "  <line x1=\"0\" y1=\"3\" x2=\"120\" y2=\"3\" />\n",
       "  <line x1=\"0\" y1=\"10\" x2=\"120\" y2=\"10\" />\n",
       "  <line x1=\"0\" y1=\"16\" x2=\"120\" y2=\"16\" />\n",
       "  <line x1=\"0\" y1=\"20\" x2=\"120\" y2=\"20\" />\n",
       "  <line x1=\"0\" y1=\"26\" x2=\"120\" y2=\"26\" />\n",
       "  <line x1=\"0\" y1=\"33\" x2=\"120\" y2=\"33\" />\n",
       "  <line x1=\"0\" y1=\"37\" x2=\"120\" y2=\"37\" />\n",
       "  <line x1=\"0\" y1=\"43\" x2=\"120\" y2=\"43\" />\n",
       "  <line x1=\"0\" y1=\"50\" x2=\"120\" y2=\"50\" />\n",
       "  <line x1=\"0\" y1=\"53\" x2=\"120\" y2=\"53\" />\n",
       "  <line x1=\"0\" y1=\"60\" x2=\"120\" y2=\"60\" />\n",
       "  <line x1=\"0\" y1=\"67\" x2=\"120\" y2=\"67\" />\n",
       "  <line x1=\"0\" y1=\"70\" x2=\"120\" y2=\"70\" />\n",
       "  <line x1=\"0\" y1=\"77\" x2=\"120\" y2=\"77\" />\n",
       "  <line x1=\"0\" y1=\"84\" x2=\"120\" y2=\"84\" />\n",
       "  <line x1=\"0\" y1=\"87\" x2=\"120\" y2=\"87\" />\n",
       "  <line x1=\"0\" y1=\"94\" x2=\"120\" y2=\"94\" />\n",
       "  <line x1=\"0\" y1=\"100\" x2=\"120\" y2=\"100\" />\n",
       "  <line x1=\"0\" y1=\"107\" x2=\"120\" y2=\"107\" style=\"stroke-width:2\" />\n",
       "\n",
       "  <!-- Vertical lines -->\n",
       "  <line x1=\"0\" y1=\"0\" x2=\"0\" y2=\"107\" style=\"stroke-width:2\" />\n",
       "  <line x1=\"7\" y1=\"0\" x2=\"7\" y2=\"107\" />\n",
       "  <line x1=\"15\" y1=\"0\" x2=\"15\" y2=\"107\" />\n",
       "  <line x1=\"22\" y1=\"0\" x2=\"22\" y2=\"107\" />\n",
       "  <line x1=\"30\" y1=\"0\" x2=\"30\" y2=\"107\" />\n",
       "  <line x1=\"37\" y1=\"0\" x2=\"37\" y2=\"107\" />\n",
       "  <line x1=\"45\" y1=\"0\" x2=\"45\" y2=\"107\" />\n",
       "  <line x1=\"52\" y1=\"0\" x2=\"52\" y2=\"107\" />\n",
       "  <line x1=\"60\" y1=\"0\" x2=\"60\" y2=\"107\" />\n",
       "  <line x1=\"67\" y1=\"0\" x2=\"67\" y2=\"107\" />\n",
       "  <line x1=\"75\" y1=\"0\" x2=\"75\" y2=\"107\" />\n",
       "  <line x1=\"82\" y1=\"0\" x2=\"82\" y2=\"107\" />\n",
       "  <line x1=\"90\" y1=\"0\" x2=\"90\" y2=\"107\" />\n",
       "  <line x1=\"97\" y1=\"0\" x2=\"97\" y2=\"107\" />\n",
       "  <line x1=\"105\" y1=\"0\" x2=\"105\" y2=\"107\" />\n",
       "  <line x1=\"112\" y1=\"0\" x2=\"112\" y2=\"107\" />\n",
       "  <line x1=\"120\" y1=\"0\" x2=\"120\" y2=\"107\" style=\"stroke-width:2\" />\n",
       "\n",
       "  <!-- Colored Rectangle -->\n",
       "  <polygon points=\"0.0,0.0 120.0,0.0 120.0,107.67397020157759 0.0,107.67397020157759\" style=\"fill:#8B4903A0;stroke-width:0\"/>\n",
       "\n",
       "  <!-- Text -->\n",
       "  <text x=\"60.000000\" y=\"127.673970\" font-size=\"1.0rem\" font-weight=\"100\" text-anchor=\"middle\" >22820</text>\n",
       "  <text x=\"140.000000\" y=\"53.836985\" font-size=\"1.0rem\" font-weight=\"100\" text-anchor=\"middle\" transform=\"rotate(-90,140.000000,53.836985)\">20476</text>\n",
       "</svg>\n",
       "        </td>\n",
       "    </tr>\n",
       "</table>"
      ],
      "text/plain": [
       "dask.array<from-zarr, shape=(20476, 22820), dtype=uint32, chunksize=(640, 1427), chunktype=numpy.ndarray>"
      ]
     },
     "execution_count": 23,
     "metadata": {},
     "output_type": "execute_result"
    }
   ],
   "source": [
    "nuclear_masks"
   ]
  },
  {
   "cell_type": "code",
   "execution_count": null,
   "metadata": {},
   "outputs": [
    {
     "data": {
      "text/html": [
       "<table>\n",
       "    <tr>\n",
       "        <td>\n",
       "            <table style=\"border-collapse: collapse;\">\n",
       "                <thead>\n",
       "                    <tr>\n",
       "                        <td> </td>\n",
       "                        <th> Array </th>\n",
       "                        <th> Chunk </th>\n",
       "                    </tr>\n",
       "                </thead>\n",
       "                <tbody>\n",
       "                    \n",
       "                    <tr>\n",
       "                        <th> Bytes </th>\n",
       "                        <td> 1.74 GiB </td>\n",
       "                        <td> 3.48 MiB </td>\n",
       "                    </tr>\n",
       "                    \n",
       "                    <tr>\n",
       "                        <th> Shape </th>\n",
       "                        <td> (20476, 22820) </td>\n",
       "                        <td> (640, 1427) </td>\n",
       "                    </tr>\n",
       "                    <tr>\n",
       "                        <th> Dask graph </th>\n",
       "                        <td colspan=\"2\"> 512 chunks in 2 graph layers </td>\n",
       "                    </tr>\n",
       "                    <tr>\n",
       "                        <th> Data type </th>\n",
       "                        <td colspan=\"2\"> uint32 numpy.ndarray </td>\n",
       "                    </tr>\n",
       "                </tbody>\n",
       "            </table>\n",
       "        </td>\n",
       "        <td>\n",
       "        <svg width=\"170\" height=\"157\" style=\"stroke:rgb(0,0,0);stroke-width:1\" >\n",
       "\n",
       "  <!-- Horizontal lines -->\n",
       "  <line x1=\"0\" y1=\"0\" x2=\"120\" y2=\"0\" style=\"stroke-width:2\" />\n",
       "  <line x1=\"0\" y1=\"3\" x2=\"120\" y2=\"3\" />\n",
       "  <line x1=\"0\" y1=\"10\" x2=\"120\" y2=\"10\" />\n",
       "  <line x1=\"0\" y1=\"16\" x2=\"120\" y2=\"16\" />\n",
       "  <line x1=\"0\" y1=\"20\" x2=\"120\" y2=\"20\" />\n",
       "  <line x1=\"0\" y1=\"26\" x2=\"120\" y2=\"26\" />\n",
       "  <line x1=\"0\" y1=\"33\" x2=\"120\" y2=\"33\" />\n",
       "  <line x1=\"0\" y1=\"37\" x2=\"120\" y2=\"37\" />\n",
       "  <line x1=\"0\" y1=\"43\" x2=\"120\" y2=\"43\" />\n",
       "  <line x1=\"0\" y1=\"50\" x2=\"120\" y2=\"50\" />\n",
       "  <line x1=\"0\" y1=\"53\" x2=\"120\" y2=\"53\" />\n",
       "  <line x1=\"0\" y1=\"60\" x2=\"120\" y2=\"60\" />\n",
       "  <line x1=\"0\" y1=\"67\" x2=\"120\" y2=\"67\" />\n",
       "  <line x1=\"0\" y1=\"70\" x2=\"120\" y2=\"70\" />\n",
       "  <line x1=\"0\" y1=\"77\" x2=\"120\" y2=\"77\" />\n",
       "  <line x1=\"0\" y1=\"84\" x2=\"120\" y2=\"84\" />\n",
       "  <line x1=\"0\" y1=\"87\" x2=\"120\" y2=\"87\" />\n",
       "  <line x1=\"0\" y1=\"94\" x2=\"120\" y2=\"94\" />\n",
       "  <line x1=\"0\" y1=\"100\" x2=\"120\" y2=\"100\" />\n",
       "  <line x1=\"0\" y1=\"107\" x2=\"120\" y2=\"107\" style=\"stroke-width:2\" />\n",
       "\n",
       "  <!-- Vertical lines -->\n",
       "  <line x1=\"0\" y1=\"0\" x2=\"0\" y2=\"107\" style=\"stroke-width:2\" />\n",
       "  <line x1=\"7\" y1=\"0\" x2=\"7\" y2=\"107\" />\n",
       "  <line x1=\"15\" y1=\"0\" x2=\"15\" y2=\"107\" />\n",
       "  <line x1=\"22\" y1=\"0\" x2=\"22\" y2=\"107\" />\n",
       "  <line x1=\"30\" y1=\"0\" x2=\"30\" y2=\"107\" />\n",
       "  <line x1=\"37\" y1=\"0\" x2=\"37\" y2=\"107\" />\n",
       "  <line x1=\"45\" y1=\"0\" x2=\"45\" y2=\"107\" />\n",
       "  <line x1=\"52\" y1=\"0\" x2=\"52\" y2=\"107\" />\n",
       "  <line x1=\"60\" y1=\"0\" x2=\"60\" y2=\"107\" />\n",
       "  <line x1=\"67\" y1=\"0\" x2=\"67\" y2=\"107\" />\n",
       "  <line x1=\"75\" y1=\"0\" x2=\"75\" y2=\"107\" />\n",
       "  <line x1=\"82\" y1=\"0\" x2=\"82\" y2=\"107\" />\n",
       "  <line x1=\"90\" y1=\"0\" x2=\"90\" y2=\"107\" />\n",
       "  <line x1=\"97\" y1=\"0\" x2=\"97\" y2=\"107\" />\n",
       "  <line x1=\"105\" y1=\"0\" x2=\"105\" y2=\"107\" />\n",
       "  <line x1=\"112\" y1=\"0\" x2=\"112\" y2=\"107\" />\n",
       "  <line x1=\"120\" y1=\"0\" x2=\"120\" y2=\"107\" style=\"stroke-width:2\" />\n",
       "\n",
       "  <!-- Colored Rectangle -->\n",
       "  <polygon points=\"0.0,0.0 120.0,0.0 120.0,107.67397020157759 0.0,107.67397020157759\" style=\"fill:#8B4903A0;stroke-width:0\"/>\n",
       "\n",
       "  <!-- Text -->\n",
       "  <text x=\"60.000000\" y=\"127.673970\" font-size=\"1.0rem\" font-weight=\"100\" text-anchor=\"middle\" >22820</text>\n",
       "  <text x=\"140.000000\" y=\"53.836985\" font-size=\"1.0rem\" font-weight=\"100\" text-anchor=\"middle\" transform=\"rotate(-90,140.000000,53.836985)\">20476</text>\n",
       "</svg>\n",
       "        </td>\n",
       "    </tr>\n",
       "</table>"
      ],
      "text/plain": [
       "dask.array<from-zarr, shape=(20476, 22820), dtype=uint32, chunksize=(640, 1427), chunktype=numpy.ndarray>"
      ]
     },
     "metadata": {},
     "output_type": "display_data"
    }
   ],
   "source": [
    "nuclear_masks"
   ]
  },
  {
   "cell_type": "code",
   "execution_count": 24,
   "metadata": {},
   "outputs": [],
   "source": [
    "nsubres = 6\n",
    "nuc_pyramid = [nuclear_masks]\n",
    "cell_pyramid = [cellular_masks]\n",
    "\n",
    "nucsub = nuclear_masks.copy()\n",
    "cellsub = cellular_masks.copy()\n",
    "for n in range(nsubres):\n",
    "    nucsub = nucsub[::2, ::2]\n",
    "    cellsub = cellsub[::2, ::2]\n",
    "    nuc_pyramid.append(nucsub)\n",
    "    cell_pyramid.append(cellsub)"
   ]
  },
  {
   "cell_type": "code",
   "execution_count": 25,
   "metadata": {},
   "outputs": [
    {
     "data": {
      "text/plain": [
       "[dask.array<from-zarr, shape=(20476, 22820), dtype=uint32, chunksize=(640, 1427), chunktype=numpy.ndarray>,\n",
       " dask.array<getitem, shape=(10238, 11410), dtype=uint32, chunksize=(320, 714), chunktype=numpy.ndarray>,\n",
       " dask.array<getitem, shape=(5119, 5705), dtype=uint32, chunksize=(160, 357), chunktype=numpy.ndarray>,\n",
       " dask.array<getitem, shape=(2560, 2853), dtype=uint32, chunksize=(80, 179), chunktype=numpy.ndarray>,\n",
       " dask.array<getitem, shape=(1280, 1427), dtype=uint32, chunksize=(40, 90), chunktype=numpy.ndarray>,\n",
       " dask.array<getitem, shape=(640, 714), dtype=uint32, chunksize=(20, 45), chunktype=numpy.ndarray>,\n",
       " dask.array<getitem, shape=(320, 357), dtype=uint32, chunksize=(10, 23), chunktype=numpy.ndarray>]"
      ]
     },
     "execution_count": 25,
     "metadata": {},
     "output_type": "execute_result"
    }
   ],
   "source": [
    "nuc_pyramid"
   ]
  },
  {
   "cell_type": "code",
   "execution_count": 26,
   "metadata": {},
   "outputs": [
    {
     "name": "stderr",
     "output_type": "stream",
     "text": [
      "WARNING: QWindowsWindow::setGeometry: Unable to set geometry 2172x1310+644+276 (frame: 2194x1366+633+231) on QWidgetWindow/\"_QtMainWindowClassWindow\" on \"\\\\.\\DISPLAY1\". Resulting geometry: 3260x1968+647+290 (frame: 3282x2024+636+245) margins: 11, 45, 11, 11 minimum size: 385x492 MINMAXINFO maxSize=0,0 maxpos=0,0 mintrack=792,1040 maxtrack=0,0)\n"
     ]
    }
   ],
   "source": [
    "xd.show()"
   ]
  },
  {
   "cell_type": "code",
   "execution_count": 27,
   "metadata": {},
   "outputs": [],
   "source": [
    "pixel_size = xd.metadata[\"pixel_size\"]"
   ]
  },
  {
   "cell_type": "code",
   "execution_count": 28,
   "metadata": {},
   "outputs": [
    {
     "data": {
      "text/plain": [
       "<Labels layer 'cell_mask' at 0x24ae9066d60>"
      ]
     },
     "execution_count": 28,
     "metadata": {},
     "output_type": "execute_result"
    }
   ],
   "source": [
    "xd.viewer.add_labels(nuc_pyramid, name='nuclei_mask', scale=(pixel_size, pixel_size))\n",
    "xd.viewer.add_labels(cell_pyramid, name='cell_mask', scale=(pixel_size, pixel_size))"
   ]
  },
  {
   "cell_type": "code",
   "execution_count": null,
   "metadata": {},
   "outputs": [],
   "source": []
  },
  {
   "cell_type": "code",
   "execution_count": 14,
   "metadata": {},
   "outputs": [
    {
     "data": {
      "text/plain": [
       "BoundariesData object with 2 entries:\n",
       "    \u001b[1mcellular\u001b[0m\n",
       "    \u001b[1mnuclear\u001b[0m"
      ]
     },
     "execution_count": 14,
     "metadata": {},
     "output_type": "execute_result"
    }
   ],
   "source": [
    "xd.cells.boundaries"
   ]
  },
  {
   "cell_type": "code",
   "execution_count": 8,
   "metadata": {},
   "outputs": [
    {
     "data": {
      "text/plain": [
       "<zarr.core.Array '/masks/0' (20476, 22820) uint32 read-only>"
      ]
     },
     "execution_count": 8,
     "metadata": {},
     "output_type": "execute_result"
    }
   ],
   "source": [
    "cells[\"masks/0\"]"
   ]
  },
  {
   "cell_type": "code",
   "execution_count": null,
   "metadata": {},
   "outputs": [],
   "source": []
  }
 ],
 "metadata": {
  "kernelspec": {
   "display_name": "insitupy",
   "language": "python",
   "name": "python3"
  },
  "language_info": {
   "codemirror_mode": {
    "name": "ipython",
    "version": 3
   },
   "file_extension": ".py",
   "mimetype": "text/x-python",
   "name": "python",
   "nbconvert_exporter": "python",
   "pygments_lexer": "ipython3",
   "version": "3.9.18"
  }
 },
 "nbformat": 4,
 "nbformat_minor": 4
}
