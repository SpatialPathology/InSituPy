{
 "cells": [
  {
   "cell_type": "markdown",
   "id": "b16df72d-5dd5-47da-a8c3-b569fe97446b",
   "metadata": {
    "tags": []
   },
   "source": [
    "# PancCancerTMA - Register images\n",
    "\n",
    "Anna found in her master thesis that TMAs 1 and 2 of the experiment showed low transcript counts, while in case of TMA4 there were problems during sectioning leading to cores being misplaced. Therefore we will focus here on the analysis of TMA3."
   ]
  },
  {
   "cell_type": "code",
   "execution_count": 1,
   "id": "8bc0c4ed-3587-460e-98d2-6626a020a327",
   "metadata": {},
   "outputs": [],
   "source": [
    "## The following code ensures that all functions and init files are reloaded before executions.\n",
    "%load_ext autoreload\n",
    "%autoreload 2"
   ]
  },
  {
   "cell_type": "code",
   "execution_count": 2,
   "id": "58107e0b-5017-425b-8cd0-9274be2b8253",
   "metadata": {},
   "outputs": [],
   "source": [
    "from pathlib import Path\n",
    "from insitupy import read_xenium\n",
    "from parse import parse\n",
    "from insitupy import register_images"
   ]
  },
  {
   "cell_type": "markdown",
   "metadata": {},
   "source": [
    "## Load Xenium data into `InSituData` object\n",
    "\n",
    "Now the Xenium data can be parsed by providing the data path to `InSituData`"
   ]
  },
  {
   "cell_type": "code",
   "execution_count": 3,
   "id": "99ea3ab6",
   "metadata": {},
   "outputs": [],
   "source": [
    "# data_dir = Path(r\"C:\\Users\\ge37voy\\OneDrive - TUM\\data\\2315_VascularCancer_Mogler\\2315-02-glioblastoma\\20240112__122324__2315-02-Glioblastoma\\output_reseg-0017313__N-245-23-N__20240213__135522\")\n",
    "# img_to_be_registered = Path(r\"C:\\Users\\ge37voy\\OneDrive - TUM\\data\\2315_VascularCancer_Mogler\\2315-02-glioblastoma\\export_tiles_qpath\\unregistered_images\\0017313__N-245-23-N__HE__histo.ome.tif\")\n",
    "\n",
    "data_dir = Path(r\"C:\\Users\\ge37voy\\Github\\InSituPy\\notebooks\\demo_dataset\\output-XETG00000__0001879__Replicate 1\")\n",
    "if_to_be_registered = Path(r\"C:\\Users\\ge37voy\\Github\\InSituPy\\notebooks\\demo_dataset\\unregistered_images\\0001879__Replicate 1__CD20_HER2_DAPI__IF.tif\")\n",
    "he_to_be_registered = Path(r\"C:\\Users\\ge37voy\\Github\\InSituPy\\notebooks\\demo_dataset\\unregistered_images\\0001879__Replicate 1__HE__histo.tif\")"
   ]
  },
  {
   "cell_type": "code",
   "execution_count": 4,
   "id": "870c972a",
   "metadata": {},
   "outputs": [],
   "source": [
    "# read Xenium data\n",
    "xd = read_xenium(data_dir, metadata_filename=\"experiment.xenium\")"
   ]
  },
  {
   "cell_type": "markdown",
   "id": "2c065bad",
   "metadata": {},
   "source": [
    "## Registration of IF images"
   ]
  },
  {
   "cell_type": "code",
   "execution_count": 5,
   "id": "9f81d1b0",
   "metadata": {},
   "outputs": [],
   "source": [
    "# parse name of current image\n",
    "pattern_img_file: str = \"{slide_id}__{sample_id}__{image_names}__{image_type}\"\n",
    "image_name_sep = \"_\"\n",
    "\n",
    "# make sure to remove also suffices like .ome.tif\n",
    "img_stem = if_to_be_registered.stem.split(\".\")[0]\n",
    "\n",
    "# retrieve the image patterns\n",
    "img_file_parsed = parse(pattern_img_file, img_stem)\n",
    "channel_names = img_file_parsed.named[\"image_names\"].split(image_name_sep)\n",
    "image_type = img_file_parsed.named[\"image_type\"] # check which image type it has (`histo` or `IF`)"
   ]
  },
  {
   "cell_type": "code",
   "execution_count": 6,
   "id": "58a74926",
   "metadata": {},
   "outputs": [
    {
     "data": {
      "text/plain": [
       "['CD20', 'HER2', 'DAPI']"
      ]
     },
     "execution_count": 6,
     "metadata": {},
     "output_type": "execute_result"
    }
   ],
   "source": [
    "channel_names"
   ]
  },
  {
   "cell_type": "code",
   "execution_count": 7,
   "id": "c7099dbd",
   "metadata": {},
   "outputs": [
    {
     "name": "stdout",
     "output_type": "stream",
     "text": [
      "\tProcessing following IF images: \u001b[1mCD20, HER2, DAPI\u001b[0m\n",
      "\t\tLoading images to be registered...\n",
      "Loading images...\n",
      "\t\tSelect image with nuclei from IF image (channel: 2)\n",
      "\t\tLoad image into memory...\n",
      "\t\tRescale image and template to save memory.\n",
      "\t\t\tRescaled to following dimensions: (3314, 4827)\n",
      "\t\t\tRescaled to following dimensions: (3412, 4688)\n",
      "\t\tConvert scaled images to 8 bit\n",
      "\t\tExtract common features from image and template\n",
      "\t\t2024-05-28 13:52:33: Get features...\n",
      "\t\t\tMethod: SIFT...\n",
      "\t\t2024-05-28 13:52:39: Compute matches...\n",
      "\t\t2024-05-28 13:52:43: Filter matches...\n",
      "\t\t\tSufficient number of good matches found (10308).\n",
      "\t\t2024-05-28 13:52:43: Display matches...\n",
      "\t\t2024-05-28 13:52:45: Fetch keypoints...\n",
      "\t\t2024-05-28 13:52:45: Estimate 2D affine transformation matrix...\n",
      "\t\t2024-05-28 13:52:45: Register image by affine transformation...\n",
      "\t\tSave OME-TIFF to C:\\Users\\ge37voy\\Github\\InSituPy\\notebooks\\demo_dataset\\registered_images\\0001879__Replicate 1__CD20__registered.ome.tif\n",
      "\t\tSave QC files to C:\\Users\\ge37voy\\Github\\InSituPy\\notebooks\\demo_dataset\\registered_images\\registration_qc\n",
      "\t\t2024-05-28 13:52:53: Register image by affine transformation...\n",
      "\t\tSave OME-TIFF to C:\\Users\\ge37voy\\Github\\InSituPy\\notebooks\\demo_dataset\\registered_images\\0001879__Replicate 1__HER2__registered.ome.tif\n",
      "\t\tSave QC files to C:\\Users\\ge37voy\\Github\\InSituPy\\notebooks\\demo_dataset\\registered_images\\registration_qc\n",
      "\t\t2024-05-28 13:53:01: Register image by affine transformation...\n",
      "\t\tSave OME-TIFF to C:\\Users\\ge37voy\\Github\\InSituPy\\notebooks\\demo_dataset\\registered_images\\0001879__Replicate 1__DAPI__registered.ome.tif\n",
      "\t\tSave QC files to C:\\Users\\ge37voy\\Github\\InSituPy\\notebooks\\demo_dataset\\registered_images\\registration_qc\n"
     ]
    }
   ],
   "source": [
    "register_images(\n",
    "    data=xd,\n",
    "    image_to_be_registered=if_to_be_registered,\n",
    "    image_type=image_type,\n",
    "    channel_names=channel_names,\n",
    "    channel_name_for_registration=\"DAPI\",\n",
    "    template_image_name=\"nuclei\",\n",
    "    save_results=True\n",
    "    )"
   ]
  },
  {
   "cell_type": "markdown",
   "id": "397a9816",
   "metadata": {},
   "source": [
    "## Registration of HE image"
   ]
  },
  {
   "cell_type": "code",
   "execution_count": 11,
   "id": "541f3e71",
   "metadata": {},
   "outputs": [],
   "source": [
    "# parse name of current image\n",
    "pattern_img_file: str = \"{slide_id}__{sample_id}__{image_names}__{image_type}\"\n",
    "image_name_sep = \"_\"\n",
    "\n",
    "img_stem = he_to_be_registered.stem.split(\".\")[0] # make sure to remove also suffices like .ome.tif\n",
    "img_file_parsed = parse(pattern_img_file, img_stem)\n",
    "channel_names = img_file_parsed.named[\"image_names\"].split(image_name_sep)\n",
    "image_type = img_file_parsed.named[\"image_type\"] # check which image type it has (`histo` or `IF`)"
   ]
  },
  {
   "cell_type": "code",
   "execution_count": 15,
   "id": "e738aeaf",
   "metadata": {},
   "outputs": [
    {
     "name": "stdout",
     "output_type": "stream",
     "text": [
      "\tProcessing following histo images: \u001b[1mHE\u001b[0m\n",
      "\t\tLoading images to be registered...\n",
      "Loading images...\n",
      "\t\tRun color deconvolution\n",
      "\t\tRescale image and template to save memory.\n",
      "\t\t\tRescaled to following dimensions: (3448, 4638)\n",
      "\t\t\tRescaled to following dimensions: (3412, 4688)\n",
      "\t\tConvert scaled images to 8 bit\n",
      "\t\tExtract common features from image and template\n",
      "\t\t2024-05-28 13:59:19: Get features...\n",
      "\t\t\tMethod: SIFT...\n",
      "\t\t2024-05-28 13:59:24: Compute matches...\n",
      "\t\t2024-05-28 13:59:26: Filter matches...\n",
      "\t\t\tNumber of good matches (2) below threshold (20). Flipping is tested.\n",
      "\t\tVertical flip is tested.\n",
      "\t\t\tMethod: SIFT...\n",
      "\t\t2024-05-28 13:59:30: Compute matches...\n",
      "\t\t2024-05-28 13:59:32: Filter matches...\n",
      "\t\t\tSufficient number of good matches found (30).\n",
      "\t\t2024-05-28 13:59:32: Display matches...\n",
      "\t\t2024-05-28 13:59:32: Fetch keypoints...\n",
      "\t\t2024-05-28 13:59:32: Estimate 2D affine transformation matrix...\n",
      "\t\tImage is flipped vertically\n",
      "\t\t2024-05-28 13:59:32: Register image by affine transformation...\n",
      "\t\tSave OME-TIFF to C:\\Users\\ge37voy\\Github\\InSituPy\\notebooks\\demo_dataset\\registered_images\\0001879__Replicate 1__HE__registered.ome.tif\n",
      "\t\tSave QC files to C:\\Users\\ge37voy\\Github\\InSituPy\\notebooks\\demo_dataset\\registered_images\\registration_qc\n"
     ]
    }
   ],
   "source": [
    "register_images(\n",
    "    data=xd,\n",
    "    image_to_be_registered=he_to_be_registered,\n",
    "    image_type=image_type,\n",
    "    channel_names=channel_names,\n",
    "    channel_name_for_registration=None,\n",
    "    template_image_name=\"nuclei\",\n",
    "    save_results=True\n",
    "    )"
   ]
  },
  {
   "cell_type": "code",
   "execution_count": 18,
   "id": "bcbb40d2",
   "metadata": {},
   "outputs": [
    {
     "name": "stdout",
     "output_type": "stream",
     "text": [
      "Loading images...\n"
     ]
    }
   ],
   "source": [
    "xd.load_images()"
   ]
  },
  {
   "cell_type": "code",
   "execution_count": 30,
   "id": "93972db5",
   "metadata": {},
   "outputs": [],
   "source": [
    "xd.show()"
   ]
  },
  {
   "cell_type": "code",
   "execution_count": 28,
   "id": "c8eee7e7",
   "metadata": {},
   "outputs": [
    {
     "data": {
      "text/plain": [
       "True"
      ]
     },
     "execution_count": 28,
     "metadata": {},
     "output_type": "execute_result"
    }
   ],
   "source": [
    "hasattr(xd.images, \"HE\")"
   ]
  },
  {
   "cell_type": "code",
   "execution_count": 29,
   "id": "1aa27474",
   "metadata": {},
   "outputs": [
    {
     "data": {
      "text/plain": [
       "\u001b[34m\u001b[1mimages\u001b[0m\n",
       "\u001b[1mnuclei:\u001b[0m\t(25778, 35416)\n",
       "\u001b[1mCD20:\u001b[0m\t(25778, 35416)\n",
       "\u001b[1mHER2:\u001b[0m\t(25778, 35416)\n",
       "\u001b[1mDAPI:\u001b[0m\t(25778, 35416)\n",
       "\u001b[1mHE:\u001b[0m\t(25778, 35416, 3)"
      ]
     },
     "execution_count": 29,
     "metadata": {},
     "output_type": "execute_result"
    }
   ],
   "source": [
    "xd.images"
   ]
  },
  {
   "cell_type": "code",
   "execution_count": 26,
   "id": "0d49bbd7",
   "metadata": {},
   "outputs": [
    {
     "data": {
      "text/plain": [
       "[dask.array<from-zarr, shape=(25778, 35416, 3), dtype=uint8, chunksize=(1024, 1024, 3), chunktype=numpy.ndarray>,\n",
       " dask.array<from-zarr, shape=(12889, 17708, 3), dtype=uint8, chunksize=(1024, 1024, 3), chunktype=numpy.ndarray>,\n",
       " dask.array<from-zarr, shape=(6444, 8854, 3), dtype=uint8, chunksize=(1024, 1024, 3), chunktype=numpy.ndarray>,\n",
       " dask.array<from-zarr, shape=(3222, 4427, 3), dtype=uint8, chunksize=(1024, 1024, 3), chunktype=numpy.ndarray>,\n",
       " dask.array<from-zarr, shape=(1611, 2213, 3), dtype=uint8, chunksize=(1024, 1024, 3), chunktype=numpy.ndarray>,\n",
       " dask.array<from-zarr, shape=(805, 1106, 3), dtype=uint8, chunksize=(805, 1024, 3), chunktype=numpy.ndarray>,\n",
       " dask.array<from-zarr, shape=(402, 553, 3), dtype=uint8, chunksize=(402, 553, 3), chunktype=numpy.ndarray>,\n",
       " dask.array<from-zarr, shape=(201, 276, 3), dtype=uint8, chunksize=(201, 276, 3), chunktype=numpy.ndarray>]"
      ]
     },
     "execution_count": 26,
     "metadata": {},
     "output_type": "execute_result"
    }
   ],
   "source": [
    "xd.images.HE"
   ]
  },
  {
   "cell_type": "code",
   "execution_count": 27,
   "id": "ad47841b",
   "metadata": {},
   "outputs": [
    {
     "data": {
      "text/plain": [
       "\u001b[1m\u001b[31mInSituData\u001b[0m\n",
       "\u001b[1mMethod:\u001b[0m\t\tXenium\n",
       "\u001b[1mSlide ID:\u001b[0m\t0001879\n",
       "\u001b[1mSample ID:\u001b[0m\tReplicate 1\n",
       "\u001b[1mData path:\u001b[0m\tC:\\Users\\ge37voy\\Github\\InSituPy\\notebooks\\demo_dataset\n",
       "\u001b[1mData folder:\u001b[0m\toutput-XETG00000__0001879__Replicate 1\n",
       "\u001b[1mMetadata file:\u001b[0m\texperiment.xenium\n",
       "    ➤ \u001b[34m\u001b[1mimages\u001b[0m\n",
       "       \u001b[1mnuclei:\u001b[0m\t(25778, 35416)\n",
       "       \u001b[1mCD20:\u001b[0m\t(25778, 35416)\n",
       "       \u001b[1mHER2:\u001b[0m\t(25778, 35416)\n",
       "       \u001b[1mDAPI:\u001b[0m\t(25778, 35416)\n",
       "       \u001b[1mHE:\u001b[0m\t(25778, 35416, 3)\n",
       "    ➤\u001b[32m\u001b[1m cells\u001b[0m\n",
       "       \u001b[1mmatrix\u001b[0m\n",
       "           AnnData object with n_obs × n_vars = 167780 × 313\n",
       "           obs: 'transcript_counts', 'control_probe_counts', 'control_codeword_counts', 'total_counts', 'cell_area', 'nucleus_area'\n",
       "           var: 'gene_ids', 'feature_types', 'genome'\n",
       "           obsm: 'spatial'\n",
       "           varm: 'binned_expression'\n",
       "       \u001b[1mboundaries\u001b[0m\n",
       "           BoundariesData object with 2 entries:\n",
       "               \u001b[1mnuclear\u001b[0m\n",
       "               \u001b[1mcellular\u001b[0m\n",
       "    ➤\u001b[95m\u001b[1m transcripts\u001b[0m\n",
       "       DataFrame with shape 42638083 x 7"
      ]
     },
     "execution_count": 27,
     "metadata": {},
     "output_type": "execute_result"
    }
   ],
   "source": [
    "xd"
   ]
  },
  {
   "cell_type": "code",
   "execution_count": 19,
   "id": "a6a6f49b",
   "metadata": {},
   "outputs": [
    {
     "name": "stderr",
     "output_type": "stream",
     "text": [
      "[autoreload of insitupy._core.insitudata failed: Traceback (most recent call last):\n",
      "  File \"c:\\Users\\ge37voy\\AppData\\Local\\miniconda3\\envs\\insitupy\\lib\\site-packages\\IPython\\extensions\\autoreload.py\", line 276, in check\n",
      "    superreload(m, reload, self.old_objects)\n",
      "  File \"c:\\Users\\ge37voy\\AppData\\Local\\miniconda3\\envs\\insitupy\\lib\\site-packages\\IPython\\extensions\\autoreload.py\", line 475, in superreload\n",
      "    module = reload(module)\n",
      "  File \"c:\\Users\\ge37voy\\AppData\\Local\\miniconda3\\envs\\insitupy\\lib\\importlib\\__init__.py\", line 169, in reload\n",
      "    _bootstrap._exec(spec, module)\n",
      "  File \"<frozen importlib._bootstrap>\", line 613, in _exec\n",
      "  File \"<frozen importlib._bootstrap_external>\", line 846, in exec_module\n",
      "  File \"<frozen importlib._bootstrap_external>\", line 983, in get_code\n",
      "  File \"<frozen importlib._bootstrap_external>\", line 913, in source_to_code\n",
      "  File \"<frozen importlib._bootstrap>\", line 228, in _call_with_frames_removed\n",
      "  File \"C:\\Users\\ge37voy\\Github\\InSituPy\\insitupy\\_core\\insitudata.py\", line 818\n",
      "    img_paths = [self.path / elem for elem in img_files]\n",
      "    ^\n",
      "IndentationError: expected an indented block\n",
      "]\n"
     ]
    },
    {
     "data": {
      "text/plain": [
       "\u001b[1m\u001b[31mInSituData\u001b[0m\n",
       "\u001b[1mMethod:\u001b[0m\t\tXenium\n",
       "\u001b[1mSlide ID:\u001b[0m\t0001879\n",
       "\u001b[1mSample ID:\u001b[0m\tReplicate 1\n",
       "\u001b[1mData path:\u001b[0m\tC:\\Users\\ge37voy\\Github\\InSituPy\\notebooks\\demo_dataset\n",
       "\u001b[1mData folder:\u001b[0m\toutput-XETG00000__0001879__Replicate 1\n",
       "\u001b[1mMetadata file:\u001b[0m\texperiment.xenium\n",
       "    ➤ \u001b[34m\u001b[1mimages\u001b[0m\n",
       "       \u001b[1mnuclei:\u001b[0m\t(25778, 35416)\n",
       "       \u001b[1mCD20:\u001b[0m\t(25778, 35416)\n",
       "       \u001b[1mHER2:\u001b[0m\t(25778, 35416)\n",
       "       \u001b[1mDAPI:\u001b[0m\t(25778, 35416)\n",
       "       \u001b[1mHE:\u001b[0m\t(25778, 35416, 3)\n",
       "    ➤\u001b[32m\u001b[1m cells\u001b[0m\n",
       "       \u001b[1mmatrix\u001b[0m\n",
       "           AnnData object with n_obs × n_vars = 167780 × 313\n",
       "           obs: 'transcript_counts', 'control_probe_counts', 'control_codeword_counts', 'total_counts', 'cell_area', 'nucleus_area'\n",
       "           var: 'gene_ids', 'feature_types', 'genome'\n",
       "           obsm: 'spatial'\n",
       "           varm: 'binned_expression'\n",
       "       \u001b[1mboundaries\u001b[0m\n",
       "           BoundariesData object with 2 entries:\n",
       "               \u001b[1mnuclear\u001b[0m\n",
       "               \u001b[1mcellular\u001b[0m\n",
       "    ➤\u001b[95m\u001b[1m transcripts\u001b[0m\n",
       "       DataFrame with shape 42638083 x 7"
      ]
     },
     "execution_count": 19,
     "metadata": {},
     "output_type": "execute_result"
    }
   ],
   "source": [
    "xd"
   ]
  },
  {
   "cell_type": "code",
   "execution_count": 21,
   "id": "3213725a",
   "metadata": {},
   "outputs": [
    {
     "data": {
      "text/plain": [
       "{'nuclei': {'filename': 'morphology_mip.ome.tif',\n",
       "  'shape': (25778, 35416),\n",
       "  'axes': 'YX',\n",
       "  'OME': {'xmlns': 'http://www.openmicroscopy.org/Schemas/OME/2016-06',\n",
       "   'xmlns:xsi': 'http://www.w3.org/2001/XMLSchema-instance',\n",
       "   'Creator': 'tifffile.py 2021.4.8',\n",
       "   'UUID': 'urn:uuid:a73aa686-7468-11ed-89c9-06acdb970e37',\n",
       "   'xsi:schemaLocation': 'http://www.openmicroscopy.org/Schemas/OME/2016-06 http://www.openmicroscopy.org/Schemas/OME/2016-06/ome.xsd',\n",
       "   'Plate': {'ID': 'Plate:1',\n",
       "    'WellOriginX': '-0.0',\n",
       "    'WellOriginXUnit': 'µm',\n",
       "    'WellOriginY': '-0.0',\n",
       "    'WellOriginYUnit': 'µm'},\n",
       "   'Instrument': {'ID': 'Instrument:1',\n",
       "    'Microscope': {'Manufacturer': '10x Genomics', 'Model': 'Xenium'}},\n",
       "   'Image': {'ID': 'Image:0',\n",
       "    'Name': 'Image0',\n",
       "    'InstrumentRef': {'ID': 'Instrument:1'},\n",
       "    'Pixels': {'DimensionOrder': 'XYZCT',\n",
       "     'ID': 'Pixels:0',\n",
       "     'SizeC': '1',\n",
       "     'SizeT': '1',\n",
       "     'SizeX': '35416',\n",
       "     'SizeY': '25778',\n",
       "     'SizeZ': '1',\n",
       "     'Type': 'uint16',\n",
       "     'PhysicalSizeX': '0.2125',\n",
       "     'PhysicalSizeY': '0.2125',\n",
       "     'Channel': {'ID': 'Channel:0:0',\n",
       "      'Color': '-1',\n",
       "      'Name': 'DAPI',\n",
       "      'SamplesPerPixel': '1'},\n",
       "     'TiffData': {'PlaneCount': '1'}}}},\n",
       "  'rgb': False,\n",
       "  'contrast_limits': (0, 5656),\n",
       "  'pixel_size': 0.2125},\n",
       " 'CD20': {'filename': '0001879__Replicate 1__CD20__registered.ome.tif',\n",
       "  'shape': (25778, 35416),\n",
       "  'axes': 'YX',\n",
       "  'OME': {'xmlns': 'http://www.openmicroscopy.org/Schemas/OME/2016-06',\n",
       "   'xmlns:xsi': 'http://www.w3.org/2001/XMLSchema-instance',\n",
       "   'xsi:schemaLocation': 'http://www.openmicroscopy.org/Schemas/OME/2016-06 http://www.openmicroscopy.org/Schemas/OME/2016-06/ome.xsd',\n",
       "   'UUID': 'urn:uuid:cc9c5662-1ce8-11ef-9eb6-806d974825f4',\n",
       "   'Creator': 'tifffile.py 2023.2.28',\n",
       "   'Image': {'ID': 'Image:0',\n",
       "    'Name': 'Image0',\n",
       "    'Pixels': {'ID': 'Pixels:0',\n",
       "     'DimensionOrder': 'XYCZT',\n",
       "     'Type': 'uint8',\n",
       "     'SizeX': '35416',\n",
       "     'SizeY': '25778',\n",
       "     'SizeC': '1',\n",
       "     'SizeZ': '1',\n",
       "     'SizeT': '1',\n",
       "     'SignificantBits': '8',\n",
       "     'PhysicalSizeX': '0.2125',\n",
       "     'PhysicalSizeXUnit': 'µm',\n",
       "     'PhysicalSizeY': '0.2125',\n",
       "     'PhysicalSizeYUnit': 'µm',\n",
       "     'Channel': {'ID': 'Channel:0:0',\n",
       "      'SamplesPerPixel': '1',\n",
       "      'LightPath': None},\n",
       "     'TiffData': {'IFD': '0', 'PlaneCount': '1'}}}},\n",
       "  'rgb': False,\n",
       "  'contrast_limits': (0, 85),\n",
       "  'pixel_size': 0.2125},\n",
       " 'HER2': {'filename': '0001879__Replicate 1__HER2__registered.ome.tif',\n",
       "  'shape': (25778, 35416),\n",
       "  'axes': 'YX',\n",
       "  'OME': {'xmlns': 'http://www.openmicroscopy.org/Schemas/OME/2016-06',\n",
       "   'xmlns:xsi': 'http://www.w3.org/2001/XMLSchema-instance',\n",
       "   'xsi:schemaLocation': 'http://www.openmicroscopy.org/Schemas/OME/2016-06 http://www.openmicroscopy.org/Schemas/OME/2016-06/ome.xsd',\n",
       "   'UUID': 'urn:uuid:d13b1f5a-1ce8-11ef-955e-806d974825f4',\n",
       "   'Creator': 'tifffile.py 2023.2.28',\n",
       "   'Image': {'ID': 'Image:0',\n",
       "    'Name': 'Image0',\n",
       "    'Pixels': {'ID': 'Pixels:0',\n",
       "     'DimensionOrder': 'XYCZT',\n",
       "     'Type': 'uint8',\n",
       "     'SizeX': '35416',\n",
       "     'SizeY': '25778',\n",
       "     'SizeC': '1',\n",
       "     'SizeZ': '1',\n",
       "     'SizeT': '1',\n",
       "     'SignificantBits': '8',\n",
       "     'PhysicalSizeX': '0.2125',\n",
       "     'PhysicalSizeXUnit': 'µm',\n",
       "     'PhysicalSizeY': '0.2125',\n",
       "     'PhysicalSizeYUnit': 'µm',\n",
       "     'Channel': {'ID': 'Channel:0:0',\n",
       "      'SamplesPerPixel': '1',\n",
       "      'LightPath': None},\n",
       "     'TiffData': {'IFD': '0', 'PlaneCount': '1'}}}},\n",
       "  'rgb': False,\n",
       "  'contrast_limits': (0, 85),\n",
       "  'pixel_size': 0.2125},\n",
       " 'DAPI': {'filename': '0001879__Replicate 1__DAPI__registered.ome.tif',\n",
       "  'shape': (25778, 35416),\n",
       "  'axes': 'YX',\n",
       "  'OME': {'xmlns': 'http://www.openmicroscopy.org/Schemas/OME/2016-06',\n",
       "   'xmlns:xsi': 'http://www.w3.org/2001/XMLSchema-instance',\n",
       "   'xsi:schemaLocation': 'http://www.openmicroscopy.org/Schemas/OME/2016-06 http://www.openmicroscopy.org/Schemas/OME/2016-06/ome.xsd',\n",
       "   'UUID': 'urn:uuid:d6246cc3-1ce8-11ef-8547-806d974825f4',\n",
       "   'Creator': 'tifffile.py 2023.2.28',\n",
       "   'Image': {'ID': 'Image:0',\n",
       "    'Name': 'Image0',\n",
       "    'Pixels': {'ID': 'Pixels:0',\n",
       "     'DimensionOrder': 'XYCZT',\n",
       "     'Type': 'uint8',\n",
       "     'SizeX': '35416',\n",
       "     'SizeY': '25778',\n",
       "     'SizeC': '1',\n",
       "     'SizeZ': '1',\n",
       "     'SizeT': '1',\n",
       "     'SignificantBits': '8',\n",
       "     'PhysicalSizeX': '0.2125',\n",
       "     'PhysicalSizeXUnit': 'µm',\n",
       "     'PhysicalSizeY': '0.2125',\n",
       "     'PhysicalSizeYUnit': 'µm',\n",
       "     'Channel': {'ID': 'Channel:0:0',\n",
       "      'SamplesPerPixel': '1',\n",
       "      'LightPath': None},\n",
       "     'TiffData': {'IFD': '0', 'PlaneCount': '1'}}}},\n",
       "  'rgb': False,\n",
       "  'contrast_limits': (0, 85),\n",
       "  'pixel_size': 0.2125},\n",
       " 'HE': {'filename': '0001879__Replicate 1__HE__registered.ome.tif',\n",
       "  'shape': (25778, 35416, 3),\n",
       "  'axes': 'YXS',\n",
       "  'OME': {'xmlns': 'http://www.openmicroscopy.org/Schemas/OME/2016-06',\n",
       "   'xmlns:xsi': 'http://www.w3.org/2001/XMLSchema-instance',\n",
       "   'xsi:schemaLocation': 'http://www.openmicroscopy.org/Schemas/OME/2016-06 http://www.openmicroscopy.org/Schemas/OME/2016-06/ome.xsd',\n",
       "   'UUID': 'urn:uuid:c04104cf-1ce9-11ef-a1af-806d974825f4',\n",
       "   'Creator': 'tifffile.py 2023.2.28',\n",
       "   'Image': {'ID': 'Image:0',\n",
       "    'Name': 'Image0',\n",
       "    'Pixels': {'ID': 'Pixels:0',\n",
       "     'DimensionOrder': 'XYCZT',\n",
       "     'Type': 'uint8',\n",
       "     'SizeX': '35416',\n",
       "     'SizeY': '25778',\n",
       "     'SizeC': '3',\n",
       "     'SizeZ': '1',\n",
       "     'SizeT': '1',\n",
       "     'Interleaved': 'true',\n",
       "     'SignificantBits': '8',\n",
       "     'PhysicalSizeX': '0.2125',\n",
       "     'PhysicalSizeXUnit': 'µm',\n",
       "     'PhysicalSizeY': '0.2125',\n",
       "     'PhysicalSizeYUnit': 'µm',\n",
       "     'Channel': {'ID': 'Channel:0:0',\n",
       "      'SamplesPerPixel': '3',\n",
       "      'LightPath': None},\n",
       "     'TiffData': {'IFD': '0', 'PlaneCount': '1'}}}},\n",
       "  'rgb': True,\n",
       "  'contrast_limits': (0, 255),\n",
       "  'pixel_size': 0.2125}}"
      ]
     },
     "execution_count": 21,
     "metadata": {},
     "output_type": "execute_result"
    }
   ],
   "source": [
    "xd.images.metadata"
   ]
  },
  {
   "cell_type": "code",
   "execution_count": null,
   "id": "8d609c83",
   "metadata": {},
   "outputs": [],
   "source": []
  },
  {
   "cell_type": "code",
   "execution_count": null,
   "id": "47476fe3",
   "metadata": {},
   "outputs": [],
   "source": []
  }
 ],
 "metadata": {
  "kernelspec": {
   "display_name": "xdata",
   "language": "python",
   "name": "python3"
  },
  "language_info": {
   "codemirror_mode": {
    "name": "ipython",
    "version": 3
   },
   "file_extension": ".py",
   "mimetype": "text/x-python",
   "name": "python",
   "nbconvert_exporter": "python",
   "pygments_lexer": "ipython3",
   "version": "3.9.18"
  }
 },
 "nbformat": 4,
 "nbformat_minor": 5
}
