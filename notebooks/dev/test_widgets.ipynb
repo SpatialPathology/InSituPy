{
 "cells": [
  {
   "cell_type": "code",
   "execution_count": 92,
   "metadata": {},
   "outputs": [
    {
     "name": "stderr",
     "output_type": "stream",
     "text": [
      "C:\\Users\\ge37voy\\AppData\\Local\\Temp\\ipykernel_38984\\4226585991.py:34: FutureWarning: Public access to Window.qt_viewer is deprecated and will be removed in\n",
      "v0.5.0. It is considered an \"implementation detail\" of the napari\n",
      "application, not part of the napari viewer model. If your use case\n",
      "requires access to qt_viewer, please open an issue to discuss.\n",
      "  self.layout.addWidget(self.viewer.window.qt_viewer)\n"
     ]
    }
   ],
   "source": [
    "import numpy as np\n",
    "import napari\n",
    "from napari.qt import thread_worker\n",
    "from matplotlib.backends.backend_agg import FigureCanvasAgg as FigureCanvas\n",
    "from matplotlib.figure import Figure\n",
    "from PyQt5.QtWidgets import QApplication, QWidget, QVBoxLayout, QPushButton\n",
    "from matplotlib.backends.backend_qt5agg import FigureCanvasQTAgg as FigureCanvasQT\n",
    "\n",
    "class ScatterPlotWidget(QWidget):\n",
    "    def __init__(self):\n",
    "        super().__init__()\n",
    "\n",
    "        # Set up layout\n",
    "        self.layout = QVBoxLayout(self)\n",
    "\n",
    "        # Create Napari viewer\n",
    "        self.viewer = napari.Viewer()\n",
    "\n",
    "        # Create Matplotlib figure and canvas\n",
    "        self.fig = Figure()  # Fixed the typo here\n",
    "        self.ax = self.fig.add_subplot(111)\n",
    "        self.canvas = FigureCanvasQT(self.fig)\n",
    "\n",
    "        # Create scatter plot with random points\n",
    "        self.scatter = self.ax.scatter(\n",
    "            np.random.rand(100), np.random.rand(100), s=50, c='b', alpha=0.5\n",
    "        )\n",
    "\n",
    "        # Create button to update scatter plot\n",
    "        self.update_button = QPushButton('Update Scatter Plot')\n",
    "        self.update_button.clicked.connect(self.update_scatter_plot_worker)\n",
    "\n",
    "        # Add widgets to layout\n",
    "        self.layout.addWidget(self.viewer.window.qt_viewer)\n",
    "        self.layout.addWidget(self.canvas)\n",
    "        self.layout.addWidget(self.update_button)\n",
    "\n",
    "\n",
    "    def update_scatter_plot_worker(self):\n",
    "        # Update scatter plot with new random positions\n",
    "        x_new, y_new = np.random.rand(100), np.random.rand(100)\n",
    "        self.scatter.set_offsets(np.column_stack((x_new, y_new)))\n",
    "        self.canvas.draw_idle()\n",
    "\n",
    "if __name__ == \"__main__\":\n",
    "    # Create a QApplication instance before creating any QWidget\n",
    "    app = QApplication([])\n",
    "\n",
    "    # Create the widget\n",
    "    scatter_widget = ScatterPlotWidget()\n",
    "\n",
    "    # Show the widget\n",
    "    scatter_widget.show()\n",
    "\n",
    "    # Run the Napari viewer\n",
    "    napari.run()\n"
   ]
  },
  {
   "cell_type": "code",
   "execution_count": 95,
   "metadata": {},
   "outputs": [
    {
     "data": {
      "text/plain": [
       "matplotlib.backends.backend_agg.FigureCanvasAgg"
      ]
     },
     "execution_count": 95,
     "metadata": {},
     "output_type": "execute_result"
    }
   ],
   "source": [
    "FigureCanvas"
   ]
  },
  {
   "cell_type": "code",
   "execution_count": 94,
   "metadata": {},
   "outputs": [],
   "source": [
    "scatter_widget.scatter.set_offsets(np.column_stack((np.random.rand(100), np.random.rand(100))))\n",
    "scatter_widget.canvas.draw_idle()"
   ]
  },
  {
   "cell_type": "markdown",
   "metadata": {},
   "source": [
    "## Nice code from ChatGPT:"
   ]
  },
  {
   "cell_type": "code",
   "execution_count": 116,
   "metadata": {},
   "outputs": [
    {
     "name": "stderr",
     "output_type": "stream",
     "text": [
      "WARNING: QWindowsWindow::setGeometry: Unable to set geometry 1086x669+2557-1157 (frame: 1102x708+2549-1188) on QWidgetWindow/\"_QtMainWindowClassWindow\" on \"\\\\.\\DISPLAY10\". Resulting geometry: 723x532+2554-1171 (frame: 739x571+2546-1202) margins: 8, 31, 8, 8 minimum size: 385x532 MINMAXINFO maxSize=0,0 maxpos=0,0 mintrack=401,571 maxtrack=0,0)\n"
     ]
    }
   ],
   "source": [
    "import napari\n",
    "from PyQt5.QtWidgets import QWidget, QVBoxLayout, QLabel, QPushButton\n",
    "import numpy as np\n",
    "\n",
    "class LegendWidget(QWidget):\n",
    "    def __init__(self, colors, parent=None):\n",
    "        super().__init__(parent)\n",
    "        self.colors = colors\n",
    "        self.setup_ui()\n",
    "\n",
    "    def setup_ui(self):\n",
    "        layout = QVBoxLayout()\n",
    "\n",
    "        for color in self.colors:\n",
    "            color_label = QLabel()\n",
    "            color_label.setStyleSheet(f'background-color: {color}; width: 30px; height: 30px;')\n",
    "            layout.addWidget(color_label)\n",
    "\n",
    "        # Add the \"Change Legend Colors\" button\n",
    "        button = QPushButton('Change Legend Colors')\n",
    "        button.clicked.connect(self.change_colors)\n",
    "        layout.addWidget(button)\n",
    "\n",
    "        self.setLayout(layout)\n",
    "\n",
    "    def update_colors(self, new_colors):\n",
    "        layout = self.layout()\n",
    "        for i in range(len(new_colors)):\n",
    "            color_label = layout.itemAt(i).widget()\n",
    "            color_label.setStyleSheet(f'background-color: {new_colors[i]}; width: 30px; height: 30px;')\n",
    "\n",
    "    def change_colors(self):\n",
    "        new_colors = generate_random_colors()\n",
    "        self.update_colors(new_colors)\n",
    "\n",
    "def generate_random_colors():\n",
    "    return ['#' + ''.join(np.random.choice(list('0123456789ABCDEF'), size=6)) for _ in range(5)]\n",
    "\n",
    "# Create Napari viewer\n",
    "viewer = napari.Viewer()\n",
    "\n",
    "# Add an image to the viewer (you can replace this with your own data)\n",
    "data = np.random.random((512, 512))\n",
    "viewer.add_image(data, name='Random Image')\n",
    "\n",
    "# Create the initial legend widget\n",
    "initial_colors = ['#d62728', '#ff9896', '#ff9896', '#98df8a', '#98df8a']\n",
    "legend_widget = LegendWidget(initial_colors)\n",
    "viewer.window.add_dock_widget(legend_widget, area='right')\n",
    "\n",
    "# Run the viewer\n",
    "napari.run()\n"
   ]
  },
  {
   "cell_type": "code",
   "execution_count": 117,
   "metadata": {},
   "outputs": [
    {
     "name": "stderr",
     "output_type": "stream",
     "text": [
      "WARNING: QWindowsWindow::setGeometry: Unable to set geometry 1086x669+2557-1157 (frame: 1102x708+2549-1188) on QWidgetWindow/\"_QtMainWindowClassWindow\" on \"\\\\.\\DISPLAY10\". Resulting geometry: 723x532+2554-1171 (frame: 739x571+2546-1202) margins: 8, 31, 8, 8 minimum size: 385x532 MINMAXINFO maxSize=0,0 maxpos=0,0 mintrack=401,571 maxtrack=0,0)\n"
     ]
    },
    {
     "ename": "IndexError",
     "evalue": "list index out of range",
     "output_type": "error",
     "traceback": [
      "\u001b[1;31m---------------------------------------------------------------------------\u001b[0m",
      "\u001b[1;31mIndexError\u001b[0m                                Traceback (most recent call last)",
      "\u001b[1;32mc:\\Users\\ge37voy\\Github\\InSituPy\\notebooks\\dev\\test_widgets.ipynb Cell 6\u001b[0m line \u001b[0;36m6\n\u001b[0;32m     <a href='vscode-notebook-cell:/c%3A/Users/ge37voy/Github/InSituPy/notebooks/dev/test_widgets.ipynb#X55sZmlsZQ%3D%3D?line=63'>64</a>\u001b[0m \u001b[39m# Create the initial legend widget\u001b[39;00m\n\u001b[0;32m     <a href='vscode-notebook-cell:/c%3A/Users/ge37voy/Github/InSituPy/notebooks/dev/test_widgets.ipynb#X55sZmlsZQ%3D%3D?line=64'>65</a>\u001b[0m initial_colors \u001b[39m=\u001b[39m [\u001b[39m'\u001b[39m\u001b[39m#d62728\u001b[39m\u001b[39m'\u001b[39m, \u001b[39m'\u001b[39m\u001b[39m#ff9896\u001b[39m\u001b[39m'\u001b[39m, \u001b[39m'\u001b[39m\u001b[39m#ff9896\u001b[39m\u001b[39m'\u001b[39m, \u001b[39m'\u001b[39m\u001b[39m#98df8a\u001b[39m\u001b[39m'\u001b[39m, \u001b[39m'\u001b[39m\u001b[39m#98df8a\u001b[39m\u001b[39m'\u001b[39m]\n\u001b[1;32m---> <a href='vscode-notebook-cell:/c%3A/Users/ge37voy/Github/InSituPy/notebooks/dev/test_widgets.ipynb#X55sZmlsZQ%3D%3D?line=65'>66</a>\u001b[0m legend_widget \u001b[39m=\u001b[39m LegendWidget(initial_colors)\n\u001b[0;32m     <a href='vscode-notebook-cell:/c%3A/Users/ge37voy/Github/InSituPy/notebooks/dev/test_widgets.ipynb#X55sZmlsZQ%3D%3D?line=66'>67</a>\u001b[0m viewer\u001b[39m.\u001b[39mwindow\u001b[39m.\u001b[39madd_dock_widget(legend_widget, area\u001b[39m=\u001b[39m\u001b[39m'\u001b[39m\u001b[39mright\u001b[39m\u001b[39m'\u001b[39m)\n\u001b[0;32m     <a href='vscode-notebook-cell:/c%3A/Users/ge37voy/Github/InSituPy/notebooks/dev/test_widgets.ipynb#X55sZmlsZQ%3D%3D?line=68'>69</a>\u001b[0m \u001b[39m# Run the viewer\u001b[39;00m\n",
      "\u001b[1;32mc:\\Users\\ge37voy\\Github\\InSituPy\\notebooks\\dev\\test_widgets.ipynb Cell 6\u001b[0m line \u001b[0;36m1\n\u001b[0;32m      <a href='vscode-notebook-cell:/c%3A/Users/ge37voy/Github/InSituPy/notebooks/dev/test_widgets.ipynb#X55sZmlsZQ%3D%3D?line=8'>9</a>\u001b[0m \u001b[39msuper\u001b[39m()\u001b[39m.\u001b[39m\u001b[39m__init__\u001b[39m(parent)\n\u001b[0;32m     <a href='vscode-notebook-cell:/c%3A/Users/ge37voy/Github/InSituPy/notebooks/dev/test_widgets.ipynb#X55sZmlsZQ%3D%3D?line=9'>10</a>\u001b[0m \u001b[39mself\u001b[39m\u001b[39m.\u001b[39mcolors \u001b[39m=\u001b[39m colors\n\u001b[1;32m---> <a href='vscode-notebook-cell:/c%3A/Users/ge37voy/Github/InSituPy/notebooks/dev/test_widgets.ipynb#X55sZmlsZQ%3D%3D?line=10'>11</a>\u001b[0m \u001b[39mself\u001b[39;49m\u001b[39m.\u001b[39;49msetup_ui()\n",
      "\u001b[1;32mc:\\Users\\ge37voy\\Github\\InSituPy\\notebooks\\dev\\test_widgets.ipynb Cell 6\u001b[0m line \u001b[0;36m2\n\u001b[0;32m     <a href='vscode-notebook-cell:/c%3A/Users/ge37voy/Github/InSituPy/notebooks/dev/test_widgets.ipynb#X55sZmlsZQ%3D%3D?line=23'>24</a>\u001b[0m     line, \u001b[39m=\u001b[39m \u001b[39mself\u001b[39m\u001b[39m.\u001b[39max\u001b[39m.\u001b[39mplot([], [], color\u001b[39m=\u001b[39mcolor, label\u001b[39m=\u001b[39m\u001b[39m'\u001b[39m\u001b[39m'\u001b[39m)\n\u001b[0;32m     <a href='vscode-notebook-cell:/c%3A/Users/ge37voy/Github/InSituPy/notebooks/dev/test_widgets.ipynb#X55sZmlsZQ%3D%3D?line=24'>25</a>\u001b[0m     handles\u001b[39m.\u001b[39mappend(line)\n\u001b[1;32m---> <a href='vscode-notebook-cell:/c%3A/Users/ge37voy/Github/InSituPy/notebooks/dev/test_widgets.ipynb#X55sZmlsZQ%3D%3D?line=26'>27</a>\u001b[0m \u001b[39mself\u001b[39;49m\u001b[39m.\u001b[39;49mlegend\u001b[39m.\u001b[39;49mget_lines()[\u001b[39m0\u001b[39;49m]\u001b[39m.\u001b[39mset_color(\u001b[39mself\u001b[39m\u001b[39m.\u001b[39mcolors[\u001b[39m0\u001b[39m])  \u001b[39m# Set the first color\u001b[39;00m\n\u001b[0;32m     <a href='vscode-notebook-cell:/c%3A/Users/ge37voy/Github/InSituPy/notebooks/dev/test_widgets.ipynb#X55sZmlsZQ%3D%3D?line=27'>28</a>\u001b[0m \u001b[39mfor\u001b[39;00m i, handle \u001b[39min\u001b[39;00m \u001b[39menumerate\u001b[39m(\u001b[39mself\u001b[39m\u001b[39m.\u001b[39mlegend\u001b[39m.\u001b[39mlegendHandles):\n\u001b[0;32m     <a href='vscode-notebook-cell:/c%3A/Users/ge37voy/Github/InSituPy/notebooks/dev/test_widgets.ipynb#X55sZmlsZQ%3D%3D?line=28'>29</a>\u001b[0m     handle\u001b[39m.\u001b[39mset_color(\u001b[39mself\u001b[39m\u001b[39m.\u001b[39mcolors[i])\n",
      "\u001b[1;31mIndexError\u001b[0m: list index out of range"
     ]
    }
   ],
   "source": [
    "import napari\n",
    "import numpy as np\n",
    "from PyQt5.QtWidgets import QWidget, QVBoxLayout, QPushButton\n",
    "from matplotlib.figure import Figure\n",
    "from matplotlib.backends.backend_qt5agg import FigureCanvasQTAgg as FigureCanvas\n",
    "\n",
    "class LegendWidget(QWidget):\n",
    "    def __init__(self, colors, parent=None):\n",
    "        super().__init__(parent)\n",
    "        self.colors = colors\n",
    "        self.setup_ui()\n",
    "\n",
    "    def setup_ui(self):\n",
    "        # Create a matplotlib figure and canvas\n",
    "        self.figure, _ = Figure(), FigureCanvas(Figure())\n",
    "        self.ax = self.figure.add_subplot(111)\n",
    "\n",
    "        # Create a legend with the specified colors\n",
    "        self.legend = self.ax.legend([''] * len(self.colors), loc='center', frameon=False)\n",
    "\n",
    "        # Set the legend colors and labels\n",
    "        handles = []\n",
    "        for color in self.colors:\n",
    "            line, = self.ax.plot([], [], color=color, label='')\n",
    "            handles.append(line)\n",
    "\n",
    "        self.legend.get_lines()[0].set_color(self.colors[0])  # Set the first color\n",
    "        for i, handle in enumerate(self.legend.legendHandles):\n",
    "            handle.set_color(self.colors[i])\n",
    "            handle.set_label(f'Label {i}')  # Set labels for each line\n",
    "\n",
    "        # Add the \"Change Legend Colors\" button\n",
    "        button = QPushButton('Change Legend Colors')\n",
    "        button.clicked.connect(self.change_colors)\n",
    "\n",
    "        # Create layout and add the matplotlib canvas and button\n",
    "        layout = QVBoxLayout()\n",
    "        layout.addWidget(self.figure.canvas)\n",
    "        layout.addWidget(button)\n",
    "\n",
    "        self.setLayout(layout)\n",
    "\n",
    "    def change_colors(self):\n",
    "        new_colors = generate_random_colors()\n",
    "\n",
    "        # Update the legend colors and labels\n",
    "        for i, handle in enumerate(self.legend.legendHandles):\n",
    "            handle.set_color(new_colors[i])\n",
    "            handle.set_label(f'Label {i}')\n",
    "\n",
    "        # Redraw the canvas\n",
    "        self.figure.canvas.draw()\n",
    "\n",
    "def generate_random_colors():\n",
    "    return ['#' + ''.join(np.random.choice(list('0123456789ABCDEF'), size=6)) for _ in range(5)]\n",
    "\n",
    "# Create Napari viewer\n",
    "viewer = napari.Viewer()\n",
    "\n",
    "# Add an image to the viewer (you can replace this with your own data)\n",
    "data = np.random.random((512, 512))\n",
    "viewer.add_image(data, name='Random Image')\n",
    "\n",
    "# Create the initial legend widget\n",
    "initial_colors = ['#d62728', '#ff9896', '#ff9896', '#98df8a', '#98df8a']\n",
    "legend_widget = LegendWidget(initial_colors)\n",
    "viewer.window.add_dock_widget(legend_widget, area='right')\n",
    "\n",
    "# Run the viewer\n",
    "napari.run()\n"
   ]
  },
  {
   "cell_type": "code",
   "execution_count": null,
   "metadata": {},
   "outputs": [],
   "source": [
    "legend_widget.legend.set"
   ]
  },
  {
   "cell_type": "code",
   "execution_count": 93,
   "metadata": {},
   "outputs": [
    {
     "data": {
      "text/plain": [
       "<__main__.ScatterPlotWidget at 0x1d5259b2c10>"
      ]
     },
     "execution_count": 93,
     "metadata": {},
     "output_type": "execute_result"
    }
   ],
   "source": [
    "scatter_widget"
   ]
  },
  {
   "cell_type": "code",
   "execution_count": 14,
   "metadata": {},
   "outputs": [],
   "source": [
    "import matplotlib.pyplot as plt\n",
    "from matplotlib.lines import Line2D\n",
    "from insitupy.palettes import CustomPalettes"
   ]
  },
  {
   "cell_type": "code",
   "execution_count": 122,
   "metadata": {},
   "outputs": [],
   "source": [
    "# create random colorlegend\n",
    "palettes = CustomPalettes()\n",
    "colors = palettes.tab20_mod.colors\n",
    "colors = np.random.choice(colors, 5)\n",
    "\n",
    "handles = [Line2D([0], [0], \n",
    "                marker='o', \n",
    "                color='w', \n",
    "                label=l,\n",
    "                markerfacecolor=c, \n",
    "                markeredgewidth=0,\n",
    "                linewidth=0,\n",
    "                markersize=15) for c, l in zip(colors, colors)]"
   ]
  },
  {
   "cell_type": "code",
   "execution_count": 119,
   "metadata": {},
   "outputs": [],
   "source": [
    "# Create Matplotlib figure and canvas\n",
    "fig = Figure()  # Fixed the typo here\n",
    "ax = fig.add_subplot(111)\n",
    "canvas = FigureCanvasQT(fig)\n",
    "leg = ax.legend(handles=handles)"
   ]
  },
  {
   "cell_type": "code",
   "execution_count": null,
   "metadata": {},
   "outputs": [],
   "source": [
    "leg."
   ]
  },
  {
   "cell_type": "code",
   "execution_count": 126,
   "metadata": {},
   "outputs": [
    {
     "data": {
      "text/plain": [
       "<Axes: >"
      ]
     },
     "execution_count": 126,
     "metadata": {},
     "output_type": "execute_result"
    }
   ],
   "source": [
    "ax.set_"
   ]
  },
  {
   "cell_type": "code",
   "execution_count": 123,
   "metadata": {},
   "outputs": [],
   "source": [
    "leg.figure.canvas.draw()"
   ]
  },
  {
   "cell_type": "code",
   "execution_count": 124,
   "metadata": {},
   "outputs": [
    {
     "data": {
      "image/png": "[encoded data removed]",
      "text/plain": [
       "<Figure size 640x480 with 1 Axes>"
      ]
     },
     "execution_count": 124,
     "metadata": {},
     "output_type": "execute_result"
    }
   ],
   "source": [
    "fig"
   ]
  },
  {
   "cell_type": "code",
   "execution_count": 90,
   "metadata": {},
   "outputs": [
    {
     "data": {
      "text/plain": [
       "<matplotlib.legend.Legend at 0x1d5259bd820>"
      ]
     },
     "execution_count": 90,
     "metadata": {},
     "output_type": "execute_result"
    }
   ],
   "source": [
    "ax.legend(handles=handles)"
   ]
  },
  {
   "cell_type": "code",
   "execution_count": 91,
   "metadata": {},
   "outputs": [
    {
     "data": {
      "image/png": "[encoded data removed]",
      "text/plain": [
       "<Figure size 640x480 with 1 Axes>"
      ]
     },
     "execution_count": 91,
     "metadata": {},
     "output_type": "execute_result"
    }
   ],
   "source": [
    "fig"
   ]
  },
  {
   "cell_type": "code",
   "execution_count": 78,
   "metadata": {},
   "outputs": [],
   "source": [
    "leg._init_legend_box(handles=handles, labels=colors)"
   ]
  },
  {
   "cell_type": "code",
   "execution_count": 81,
   "metadata": {},
   "outputs": [
    {
     "ename": "TypeError",
     "evalue": "cannot unpack non-iterable Legend object",
     "output_type": "error",
     "traceback": [
      "\u001b[1;31m---------------------------------------------------------------------------\u001b[0m",
      "\u001b[1;31mTypeError\u001b[0m                                 Traceback (most recent call last)",
      "\u001b[1;32mc:\\Users\\ge37voy\\Github\\InSituPy\\notebooks\\dev\\test_widgets.ipynb Cell 7\u001b[0m line \u001b[0;36m1\n\u001b[1;32m----> <a href='vscode-notebook-cell:/c%3A/Users/ge37voy/Github/InSituPy/notebooks/dev/test_widgets.ipynb#X34sZmlsZQ%3D%3D?line=0'>1</a>\u001b[0m handles, labels \u001b[39m=\u001b[39m leg\n",
      "\u001b[1;31mTypeError\u001b[0m: cannot unpack non-iterable Legend object"
     ]
    }
   ],
   "source": [
    "handles, labels = leg"
   ]
  },
  {
   "cell_type": "code",
   "execution_count": 80,
   "metadata": {},
   "outputs": [
    {
     "data": {
      "text/plain": [
       "([], [])"
      ]
     },
     "execution_count": 80,
     "metadata": {},
     "output_type": "execute_result"
    }
   ],
   "source": [
    "ax.get_legend_handles_labels()"
   ]
  },
  {
   "cell_type": "code",
   "execution_count": 50,
   "metadata": {},
   "outputs": [
    {
     "data": {
      "text/plain": [
       "<matplotlib.collections.PathCollection at 0x1d538d17760>"
      ]
     },
     "execution_count": 50,
     "metadata": {},
     "output_type": "execute_result"
    }
   ],
   "source": [
    "ax.scatter(np.random.rand(50), np.random.rand(50))"
   ]
  },
  {
   "cell_type": "code",
   "execution_count": 51,
   "metadata": {},
   "outputs": [
    {
     "data": {
      "text/plain": [
       "array(['#1f77b4', '#c5b0d5', '#bcbd22', '#dbdb8d', '#d62728'], dtype='<U7')"
      ]
     },
     "execution_count": 51,
     "metadata": {},
     "output_type": "execute_result"
    }
   ],
   "source": [
    "colors"
   ]
  },
  {
   "cell_type": "code",
   "execution_count": 54,
   "metadata": {},
   "outputs": [],
   "source": [
    "leg = ax.legend(handles=handles)"
   ]
  },
  {
   "cell_type": "code",
   "execution_count": 57,
   "metadata": {},
   "outputs": [
    {
     "data": {
      "text/plain": [
       "<matplotlib.lines.Line2D at 0x1d53ab14b20>"
      ]
     },
     "execution_count": 57,
     "metadata": {},
     "output_type": "execute_result"
    }
   ],
   "source": [
    "leg.get_lines()[0]"
   ]
  },
  {
   "cell_type": "code",
   "execution_count": 64,
   "metadata": {},
   "outputs": [
    {
     "data": {
      "text/plain": [
       "[<matplotlib.lines.Line2D at 0x1d53ab14b20>,\n",
       " <matplotlib.lines.Line2D at 0x1d53ab21070>,\n",
       " <matplotlib.lines.Line2D at 0x1d53ab21700>,\n",
       " <matplotlib.lines.Line2D at 0x1d53ab21cd0>,\n",
       " <matplotlib.lines.Line2D at 0x1d53ab262e0>]"
      ]
     },
     "execution_count": 64,
     "metadata": {},
     "output_type": "execute_result"
    }
   ],
   "source": [
    "leg.update_default_handler_map()"
   ]
  },
  {
   "cell_type": "code",
   "execution_count": 53,
   "metadata": {},
   "outputs": [
    {
     "data": {
      "image/png": "[encoded data removed]",
      "text/plain": [
       "<Figure size 640x480 with 1 Axes>"
      ]
     },
     "execution_count": 53,
     "metadata": {},
     "output_type": "execute_result"
    }
   ],
   "source": [
    "fig"
   ]
  },
  {
   "cell_type": "code",
   "execution_count": null,
   "metadata": {},
   "outputs": [],
   "source": []
  },
  {
   "cell_type": "code",
   "execution_count": 18,
   "metadata": {},
   "outputs": [
    {
     "data": {
      "image/png": "[encoded data removed]",
      "text/plain": [
       "<Figure size 200x200 with 1 Axes>"
      ]
     },
     "metadata": {},
     "output_type": "display_data"
    }
   ],
   "source": [
    "handles = [Line2D([0], [0], \n",
    "                marker='o', \n",
    "                color='w', \n",
    "                label=l,\n",
    "                markerfacecolor=c, \n",
    "                markeredgewidth=0,\n",
    "                linewidth=0,\n",
    "                markersize=15) for c, l in zip(colors, colors)]\n",
    "    \n",
    "# create new subplot\n",
    "fig, ax = plt.subplots(1,1,figsize=(2,2))\n",
    "\n",
    "ax.legend(handles=handles, \n",
    "            loc=\"center\", \n",
    "            labelspacing=1, \n",
    "            borderpad=0.5,\n",
    "            ncol=1\n",
    "            )\n",
    "ax.set_axis_off()"
   ]
  },
  {
   "cell_type": "code",
   "execution_count": 27,
   "metadata": {},
   "outputs": [
    {
     "ename": "TypeError",
     "evalue": "add_line() missing 1 required positional argument: 'line'",
     "output_type": "error",
     "traceback": [
      "\u001b[1;31m---------------------------------------------------------------------------\u001b[0m",
      "\u001b[1;31mTypeError\u001b[0m                                 Traceback (most recent call last)",
      "\u001b[1;32mc:\\Users\\ge37voy\\Github\\InSituPy\\notebooks\\dev\\test_widgets.ipynb Cell 5\u001b[0m line \u001b[0;36m1\n\u001b[1;32m----> <a href='vscode-notebook-cell:/c%3A/Users/ge37voy/Github/InSituPy/notebooks/dev/test_widgets.ipynb#X14sZmlsZQ%3D%3D?line=0'>1</a>\u001b[0m ax\u001b[39m.\u001b[39;49madd_line()\n",
      "\u001b[1;31mTypeError\u001b[0m: add_line() missing 1 required positional argument: 'line'"
     ]
    }
   ],
   "source": [
    "ax.add_l"
   ]
  },
  {
   "cell_type": "code",
   "execution_count": 20,
   "metadata": {},
   "outputs": [
    {
     "data": {
      "image/png": "[encoded data removed]",
      "text/plain": [
       "<Figure size 200x200 with 1 Axes>"
      ]
     },
     "execution_count": 20,
     "metadata": {},
     "output_type": "execute_result"
    }
   ],
   "source": [
    "fig"
   ]
  },
  {
   "cell_type": "code",
   "execution_count": 28,
   "metadata": {},
   "outputs": [
    {
     "data": {
      "text/plain": [
       "<matplotlib.collections.PathCollection at 0x1d525b8b3d0>"
      ]
     },
     "execution_count": 28,
     "metadata": {},
     "output_type": "execute_result"
    }
   ],
   "source": [
    "scatter_widget.scatter"
   ]
  },
  {
   "cell_type": "code",
   "execution_count": 4,
   "metadata": {},
   "outputs": [],
   "source": [
    "scatter_widget.show()"
   ]
  },
  {
   "cell_type": "code",
   "execution_count": null,
   "metadata": {},
   "outputs": [],
   "source": []
  },
  {
   "cell_type": "code",
   "execution_count": 2,
   "metadata": {},
   "outputs": [
    {
     "name": "stderr",
     "output_type": "stream",
     "text": [
      "C:\\Users\\ge37voy\\AppData\\Local\\Temp\\ipykernel_38588\\4256669455.py:34: FutureWarning: Public access to Window.qt_viewer is deprecated and will be removed in\n",
      "v0.5.0. It is considered an \"implementation detail\" of the napari\n",
      "application, not part of the napari viewer model. If your use case\n",
      "requires access to qt_viewer, please open an issue to discuss.\n",
      "  self.layout.addWidget(self.viewer.window.qt_viewer)\n"
     ]
    }
   ],
   "source": [
    "import napari\n",
    "from qtpy.QtWidgets import QLabel, QPushButton, QWidget, QVBoxLayout\n",
    "from matplotlib.backends.backend_qt5agg import FigureCanvas\n",
    "\n",
    "viewer = napari.Viewer()\n",
    "\n",
    "class Mywidget(QWidget):\n",
    "    def __init__(self, napari_viewer):\n",
    "        super().__init__()\n",
    "        self._viewer = napari_viewer\n",
    "        #self.lbl = QLabel('hey', self)\n",
    "        self.btn = QPushButton('remove', self)\n",
    "        self.random = QPushButton('random', self)\n",
    "        self.shuf = QPushButton('shuffle', self)\n",
    "        self.btn.clicked.connect(self.remove)\n",
    "        self.random.clicked.connect(self.add_random_legend)\n",
    "        self.shuf.clicked.connect(self.shuffle)\n",
    "\n",
    "        self.build()\n",
    "        \n",
    "    def build(self):\n",
    "        self.vbox = QVBoxLayout()\n",
    "        #vbox.addWidget(self.lbl)\n",
    "        self.vbox.addWidget(self.btn)\n",
    "        self.vbox.addWidget(self.random)\n",
    "        self.vbox.addWidget(self.shuf)\n",
    "        #self.vbox.addWidget(FigureCanvas(clb_fig))\n",
    "        self.setLayout(self.vbox)\n",
    "        self.show()\n",
    "    \n",
    "    def remove(self):\n",
    "        # I want to delete widget here\n",
    "        # Then add new widget\n",
    "        self._viewer.window.remove_dock_widget(self)\n",
    "        \n",
    "    def add_random_legend(self):\n",
    "        # create random colorlegend\n",
    "        palettes = CustomPalettes()\n",
    "        colors = palettes.tab20_mod.colors\n",
    "        color_list = np.random.choice(colors, 5)\n",
    "        clb_fig = colorlegend_mpl(colors=color_list, labels=color_list)\n",
    "        self.clb_widget = FigureCanvas(clb_fig)\n",
    "        self.vbox.addWidget(self.clb_widget)\n",
    "        \n",
    "    def shuffle(self):\n",
    "        # shuffle color legend\n",
    "        # create random colorlegend\n",
    "        palettes = CustomPalettes()\n",
    "        colors = palettes.tab20_mod.colors\n",
    "        color_list = np.random.choice(colors, 5)\n",
    "        clb_fig = colorlegend_mpl(colors=color_list, labels=color_list)\n",
    "        self.clb_widget = FigureCanvas(clb_fig)\n",
    "        self.clb_widget.figure.canvas.draw()\n",
    "        self.clb_widget.draw()\n",
    "        \n",
    "widget = Mywidget(viewer)\n",
    "viewer.window.add_dock_widget(widget=widget)"
   ]
  },
  {
   "cell_type": "code",
   "execution_count": 1,
   "metadata": {},
   "outputs": [
    {
     "name": "stderr",
     "output_type": "stream",
     "text": [
      "c:\\Users\\ge37voy\\AppData\\Local\\miniconda3\\envs\\napari\\lib\\contextlib.py:119: FutureWarning: \n",
      "The 'gui_qt()' context manager is deprecated.\n",
      "If you are running napari from a script, please use 'napari.run()' as follows:\n",
      "\n",
      "    import napari\n",
      "\n",
      "    viewer = napari.Viewer()  # no prior setup needed\n",
      "    # other code using the viewer...\n",
      "    napari.run()\n",
      "\n",
      "In IPython or Jupyter, 'napari.run()' is not necessary. napari will automatically\n",
      "start an interactive event loop for you: \n",
      "\n",
      "    import napari\n",
      "    viewer = napari.Viewer()  # that's it!\n",
      "\n",
      "  return next(self.gen)\n",
      "WARNING: QWindowsWindow::setGeometry: Unable to set geometry 2172x1310+42+214 (frame: 2194x1366+31+169) on QWidgetWindow/\"_QtMainWindowClassWindow\" on \"\\\\.\\DISPLAY1\". Resulting geometry: 3260x1968+45+228 (frame: 3282x2024+34+183) margins: 11, 45, 11, 11 minimum size: 385x492 MINMAXINFO maxSize=0,0 maxpos=0,0 mintrack=792,1040 maxtrack=0,0)\n"
     ]
    }
   ],
   "source": [
    "import napari\n",
    "\n",
    "from nilearn import datasets\n",
    "from nilearn import surface\n",
    "\n",
    "from qtpy.QtWidgets import QVBoxLayout, QWidget\n",
    "import vispy as vp\n",
    "from vispy import scene\n",
    "from vispy.scene import widgets\n",
    "import numpy as np\n",
    "\n",
    "nki_dataset = datasets.fetch_surf_nki_enhanced(n_subjects=1)\n",
    "fsaverage = datasets.fetch_surf_fsaverage()\n",
    "\n",
    "brain_vertices, brain_faces = surface.load_surf_data(fsaverage['pial_left'])\n",
    "timeseries = surface.load_surf_data(nki_dataset['func_left'][0])\n",
    "timeseries = timeseries.transpose((1, 0))\n",
    "\n",
    "COLORMAP_STEP = 8\n",
    "\n",
    "def axis_changed(event):\n",
    "\n",
    "    idx_max = viewer.dims.range[0][1]\n",
    "    idx = viewer.dims.current_step[0]\n",
    "\n",
    "    if idx < idx_max and layer.visible:\n",
    "        random_number = np.round(np.random.random(), decimals=1)\n",
    "        colorbar1.clim = (random_number, random_number+1)\n",
    "        colorbar2.clim = (random_number, random_number+1)\n",
    "        colorbar3.clim = (random_number, random_number+1)\n",
    "\n",
    "with napari.gui_qt():\n",
    "\n",
    "    viewer = napari.Viewer(ndisplay=3)\n",
    "\n",
    "    # COLORBARS\n",
    "    width = 300\n",
    "    height = 50\n",
    "    padding = (.4, .4)\n",
    "    ratio = 0.1\n",
    "\n",
    "    canvas1 = scene.SceneCanvas(size=(width, height))\n",
    "    cmap1 = vp.color.get_colormap('turbo')\n",
    "    colorbar1 = widgets.ColorBarWidget(cmap1, 'top', \"\", 'white',\n",
    "                        clim=(0, 1),\n",
    "                        border_width=1.,\n",
    "                        border_color='yellow',\n",
    "                        padding=padding,\n",
    "                        axis_ratio=ratio\n",
    "                        )\n",
    "    canvas1.central_widget.add_widget(colorbar1)\n",
    "\n",
    "    canvas2 = scene.SceneCanvas(size=(width, height))\n",
    "    cmap2 = vp.color.get_colormap('turbo')\n",
    "    colorbar2 = widgets.ColorBarWidget(cmap2, 'top', \"\", 'white',\n",
    "                        clim=(0, 1),\n",
    "                        border_width=1.,\n",
    "                        border_color='yellow',\n",
    "                        padding=padding,\n",
    "                        axis_ratio=ratio\n",
    "                        )\n",
    "    canvas2.central_widget.add_widget(colorbar2)\n",
    "\n",
    "    canvas3 = scene.SceneCanvas(size=(width, height))\n",
    "    base_cmap = vp.color.get_colormap('gist_rainbow')\n",
    "    colors = base_cmap[np.linspace(0., 1., num=COLORMAP_STEP)]\n",
    "    cmap3 = vp.color.Colormap(colors, interpolation='zero')\n",
    "    colorbar3 = widgets.ColorBarWidget(cmap3, 'top', \"\", 'white',\n",
    "                        clim=(0, 1),\n",
    "                        border_width=1.,\n",
    "                        border_color='yellow',\n",
    "                        padding=padding,\n",
    "                        axis_ratio=ratio\n",
    "                        )\n",
    "    canvas3.central_widget.add_widget(colorbar3)\n",
    "\n",
    "    layout = QVBoxLayout()\n",
    "    colorbars_widget = QWidget()\n",
    "    layout.addWidget(canvas1.native)\n",
    "    layout.addWidget(canvas2.native)\n",
    "    layout.addWidget(canvas3.native)\n",
    "    colorbars_widget.setLayout(layout)\n",
    "\n",
    "    layer = viewer.add_surface((brain_vertices, brain_faces, timeseries))\n",
    "    layer.colormap = ('custom', cmap1)\n",
    "\n",
    "    viewer.dims.events.axis.connect(axis_changed)\n",
    "\n",
    "    colorbars_widget.setFixedWidth(300)\n",
    "    colorbars_widget.setFixedHeight(200)\n",
    "    \n",
    "    colorbars_dock = viewer.window.add_dock_widget(colorbars_widget, name='Colorbars', area = 'left')"
   ]
  },
  {
   "cell_type": "code",
   "execution_count": 5,
   "metadata": {},
   "outputs": [],
   "source": [
    "from skimage import data\n",
    "import numpy as np\n",
    "import napari\n",
    "\n",
    "# set parameters for point generation\n",
    "n_points = 100\n",
    "n_clusters = 4\n",
    "points = np.random.rand(n_points, 2) * 100\n",
    "\n",
    "# start viewer\n",
    "viewer = napari.view_image(data.astronaut(), rgb=True)\n",
    "\n",
    "# set point properties\n",
    "point_properties = {\n",
    "    'abc': np.random.choice([str(elem) for elem in np.arange(n_clusters)], n_points)\n",
    "}\n",
    "\n",
    "# add points\n",
    "points_layer = viewer.add_points(\n",
    "    points,\n",
    "    properties=point_properties,\n",
    "    face_color='abc',\n",
    "    face_color_cycle=['magenta', 'green', 'yellow', 'blue'],\n",
    "    edge_width=0.1,\n",
    ")"
   ]
  }
 ],
 "metadata": {
  "kernelspec": {
   "display_name": "xparse",
   "language": "python",
   "name": "python3"
  },
  "language_info": {
   "codemirror_mode": {
    "name": "ipython",
    "version": 3
   },
   "file_extension": ".py",
   "mimetype": "text/x-python",
   "name": "python",
   "nbconvert_exporter": "python",
   "pygments_lexer": "ipython3",
   "version": "3.9.18"
  }
 },
 "nbformat": 4,
 "nbformat_minor": 2
}
