{
 "cells": [
  {
   "cell_type": "markdown",
   "id": "b16df72d-5dd5-47da-a8c3-b569fe97446b",
   "metadata": {
    "tags": []
   },
   "source": [
    "# InSituPy demonstration - Differential gene expression analysis"
   ]
  },
  {
   "cell_type": "code",
   "execution_count": 1,
   "id": "8bc0c4ed-3587-460e-98d2-6626a020a327",
   "metadata": {},
   "outputs": [],
   "source": [
    "## The following code ensures that all functions and init files are reloaded before executions.\n",
    "%load_ext autoreload\n",
    "%autoreload 2"
   ]
  },
  {
   "cell_type": "code",
   "execution_count": 2,
   "id": "58107e0b-5017-425b-8cd0-9274be2b8253",
   "metadata": {},
   "outputs": [],
   "source": [
    "from pathlib import Path\n",
    "from insitupy import read_xenium\n",
    "import scanpy as sc"
   ]
  },
  {
   "cell_type": "code",
   "execution_count": 3,
   "id": "837ee5f0",
   "metadata": {},
   "outputs": [],
   "source": [
    "import warnings\n",
    "warnings.simplefilter(action='ignore', category=FutureWarning)"
   ]
  },
  {
   "cell_type": "markdown",
   "id": "ae409a19",
   "metadata": {},
   "source": [
    "## Load Xenium data into `InSituData` object\n",
    "\n",
    "Now the Xenium data can be parsed by providing the data path to the `InSituPy` project folder."
   ]
  },
  {
   "cell_type": "code",
   "execution_count": 4,
   "id": "2db31fb9",
   "metadata": {},
   "outputs": [],
   "source": [
    "insitupy_project = Path(\"../demo_dataset/demo_insitupy_project\")"
   ]
  },
  {
   "cell_type": "code",
   "execution_count": 5,
   "id": "188ddb98",
   "metadata": {},
   "outputs": [],
   "source": [
    "xd = read_xenium(insitupy_project)"
   ]
  },
  {
   "cell_type": "code",
   "execution_count": 6,
   "id": "ae606b79",
   "metadata": {},
   "outputs": [
    {
     "name": "stdout",
     "output_type": "stream",
     "text": [
      "Loading images...\n",
      "['nuclei', 'CD20', 'HER2', 'DAPI', 'HE']\n",
      "Loading cells...\n",
      "\tNo alternative cells found...\n"
     ]
    }
   ],
   "source": [
    "xd.load_images()\n",
    "xd.load_cells()"
   ]
  },
  {
   "cell_type": "code",
   "execution_count": 7,
   "id": "7a864387",
   "metadata": {},
   "outputs": [
    {
     "data": {
      "text/plain": [
       "\u001b[1m\u001b[31mInSituData\u001b[0m\n",
       "\u001b[1mMethod:\u001b[0m\t\tXenium\n",
       "\u001b[1mSlide ID:\u001b[0m\t0001879\n",
       "\u001b[1mSample ID:\u001b[0m\tReplicate 1\n",
       "\u001b[1mPath:\u001b[0m\t\tC:\\Users\\ge37voy\\Github\\InSituPy\\notebooks\\demo_dataset\\demo_insitupy_project\n",
       "\u001b[1mMetadata file:\u001b[0m\t.ispy\n",
       "    ➤ \u001b[34m\u001b[1mimages\u001b[0m\n",
       "       \u001b[1mnuclei:\u001b[0m\t(25778, 35416)\n",
       "       \u001b[1mCD20:\u001b[0m\t(25778, 35416)\n",
       "       \u001b[1mHER2:\u001b[0m\t(25778, 35416)\n",
       "       \u001b[1mDAPI:\u001b[0m\t(25778, 35416)\n",
       "       \u001b[1mHE:\u001b[0m\t(25778, 35416, 3)\n",
       "    ➤\u001b[32m\u001b[1m cells\u001b[0m\n",
       "       \u001b[1mmatrix\u001b[0m\n",
       "           AnnData object with n_obs × n_vars = 163565 × 313\n",
       "           obs: 'transcript_counts', 'control_probe_counts', 'control_codeword_counts', 'total_counts', 'cell_area', 'nucleus_area', 'n_genes', 'leiden', 'annotations-TestKey', 'annotations-demo', 'annotations-demo2', 'annotations-demo3', 'cell_type'\n",
       "           var: 'gene_ids', 'feature_types', 'genome'\n",
       "           uns: 'cell_type_colors', 'counts_location', 'leiden', 'leiden_colors', 'neighbors', 'pca', 'umap'\n",
       "           obsm: 'OT', 'X_pca', 'X_umap', 'spatial'\n",
       "           varm: 'OT', 'PCs', 'binned_expression'\n",
       "           layers: 'counts', 'norm_counts'\n",
       "           obsp: 'connectivities', 'distances'\n",
       "       \u001b[1mboundaries\u001b[0m\n",
       "           BoundariesData object with 2 entries:\n",
       "               \u001b[1mcellular\u001b[0m\n",
       "               \u001b[1mnuclear\u001b[0m"
      ]
     },
     "execution_count": 7,
     "metadata": {},
     "output_type": "execute_result"
    }
   ],
   "source": [
    "xd"
   ]
  },
  {
   "cell_type": "code",
   "execution_count": 8,
   "id": "ab1e5a65",
   "metadata": {},
   "outputs": [
    {
     "name": "stdout",
     "output_type": "stream",
     "text": [
      "Importing annotations...\n"
     ]
    }
   ],
   "source": [
    "xd.import_annotations(\n",
    "    files=\"../demo_annotations/demo_annotations.geojson\",\n",
    "    keys=\"Demo\"\n",
    ")"
   ]
  },
  {
   "cell_type": "code",
   "execution_count": 9,
   "id": "c39565ee",
   "metadata": {},
   "outputs": [
    {
     "name": "stdout",
     "output_type": "stream",
     "text": [
      "Importing regions...\n"
     ]
    }
   ],
   "source": [
    "xd.import_regions(\n",
    "    files=\"../demo_regions/demo_regions.geojson\",\n",
    "    keys=\"Demo\"\n",
    ")"
   ]
  },
  {
   "cell_type": "code",
   "execution_count": 10,
   "id": "6e81930b",
   "metadata": {},
   "outputs": [],
   "source": [
    "import cv2"
   ]
  },
  {
   "cell_type": "code",
   "execution_count": 11,
   "id": "05c1bd96",
   "metadata": {},
   "outputs": [],
   "source": [
    "from skimage.transform import downscale_local_mean"
   ]
  },
  {
   "cell_type": "code",
   "execution_count": 12,
   "id": "450e371f",
   "metadata": {},
   "outputs": [],
   "source": [
    "img = xd.images[\"nuclei\"][0].compute()"
   ]
  },
  {
   "cell_type": "code",
   "execution_count": 13,
   "id": "555fdd88",
   "metadata": {},
   "outputs": [],
   "source": [
    "img_scaled = cv2.resize(img, None, fx=0.2, fy=0.2, interpolation= cv2.INTER_CUBIC)"
   ]
  },
  {
   "cell_type": "code",
   "execution_count": 14,
   "id": "2eaf5db2",
   "metadata": {},
   "outputs": [
    {
     "data": {
      "text/plain": [
       "array([[0, 0, 0, ..., 0, 0, 0],\n",
       "       [0, 0, 0, ..., 0, 0, 0],\n",
       "       [0, 0, 0, ..., 0, 0, 0],\n",
       "       ...,\n",
       "       [0, 0, 0, ..., 0, 0, 0],\n",
       "       [0, 0, 0, ..., 0, 0, 0],\n",
       "       [0, 0, 0, ..., 0, 0, 0]], dtype=uint16)"
      ]
     },
     "execution_count": 14,
     "metadata": {},
     "output_type": "execute_result"
    }
   ],
   "source": [
    "img_scaled"
   ]
  },
  {
   "cell_type": "code",
   "execution_count": 15,
   "id": "e0b6e45b",
   "metadata": {},
   "outputs": [
    {
     "data": {
      "text/plain": [
       "(5156, 7083)"
      ]
     },
     "execution_count": 15,
     "metadata": {},
     "output_type": "execute_result"
    }
   ],
   "source": [
    "img_scaled.shape"
   ]
  },
  {
   "cell_type": "markdown",
   "id": "5bbbcd84",
   "metadata": {},
   "source": [
    "### Crop data"
   ]
  },
  {
   "cell_type": "code",
   "execution_count": 48,
   "id": "d83b59c8",
   "metadata": {},
   "outputs": [],
   "source": [
    "xdcrop = xd.crop(xlim=(1000,2000), ylim=(1000,2000))"
   ]
  },
  {
   "cell_type": "code",
   "execution_count": 49,
   "id": "2a9d1f87",
   "metadata": {},
   "outputs": [
    {
     "data": {
      "text/plain": [
       "0.2125"
      ]
     },
     "execution_count": 49,
     "metadata": {},
     "output_type": "execute_result"
    }
   ],
   "source": [
    "xdcrop.metadata['xenium']['pixel_size']"
   ]
  },
  {
   "cell_type": "code",
   "execution_count": 50,
   "id": "ca27008c",
   "metadata": {},
   "outputs": [],
   "source": [
    "from insitupy.images.utils import resize_image\n",
    "import numpy as np"
   ]
  },
  {
   "cell_type": "code",
   "execution_count": 51,
   "id": "dbc17ea8",
   "metadata": {},
   "outputs": [
    {
     "name": "stdout",
     "output_type": "stream",
     "text": [
      "Saving data to out\\ometiff\n",
      "nuclei\n",
      "start saving\n",
      "end saving\n",
      "CD20\n",
      "start saving\n",
      "end saving\n",
      "HER2\n",
      "start saving\n",
      "end saving\n",
      "DAPI\n",
      "start saving\n",
      "end saving\n",
      "HE\n",
      "start saving\n",
      "end saving\n",
      "Saved.\n"
     ]
    }
   ],
   "source": [
    "xdcrop.saveas(\"out/ometiff\", images_as_zarr=False,\n",
    "              overwrite=True,\n",
    "              images_max_resolution=None\n",
    "              )"
   ]
  },
  {
   "cell_type": "code",
   "execution_count": 52,
   "id": "50897224",
   "metadata": {},
   "outputs": [
    {
     "data": {
      "text/plain": [
       "0.2125"
      ]
     },
     "execution_count": 52,
     "metadata": {},
     "output_type": "execute_result"
    }
   ],
   "source": [
    "xdcrop.metadata['xenium']['pixel_size']"
   ]
  },
  {
   "cell_type": "code",
   "execution_count": 77,
   "id": "868cfcee",
   "metadata": {},
   "outputs": [
    {
     "name": "stdout",
     "output_type": "stream",
     "text": [
      "Saving data to out\\ometiffscaled3\n",
      "nuclei\n",
      "Downscale image to 1 µm per pixel by factor 4.705882352941177\n",
      "start saving\n",
      "end saving\n",
      "CD20\n",
      "Downscale image to 1 µm per pixel by factor 4.705882352941177\n",
      "start saving\n",
      "end saving\n",
      "HER2\n",
      "Downscale image to 1 µm per pixel by factor 4.705882352941177\n",
      "start saving\n",
      "end saving\n",
      "DAPI\n",
      "Downscale image to 1 µm per pixel by factor 4.705882352941177\n",
      "start saving\n",
      "end saving\n",
      "HE\n",
      "Downscale image to 1 µm per pixel by factor 4.705882352941177\n",
      "start saving\n",
      "end saving\n",
      "Saved.\n"
     ]
    }
   ],
   "source": [
    "xdcrop.saveas(\"out/ometiffscaled3\", images_as_zarr=False,\n",
    "              overwrite=True,\n",
    "              images_max_resolution=1\n",
    "              )"
   ]
  },
  {
   "cell_type": "code",
   "execution_count": 72,
   "id": "c4839498",
   "metadata": {},
   "outputs": [
    {
     "name": "stdout",
     "output_type": "stream",
     "text": [
      "Saving data to out\\zarrscaled\n",
      "nuclei\n",
      "Downscale image to 1 µm per pixel by factor 4.705882352941177\n",
      "CD20\n",
      "Downscale image to 1 µm per pixel by factor 4.705882352941177\n",
      "HER2\n",
      "Downscale image to 1 µm per pixel by factor 4.705882352941177\n",
      "DAPI\n",
      "Downscale image to 1 µm per pixel by factor 4.705882352941177\n",
      "HE\n",
      "Downscale image to 1 µm per pixel by factor 4.705882352941177\n",
      "Saved.\n"
     ]
    }
   ],
   "source": [
    "xdcrop.saveas(\"out/zarrscaled\", images_as_zarr=True,\n",
    "              overwrite=True,\n",
    "              images_max_resolution=1\n",
    "              )"
   ]
  },
  {
   "cell_type": "code",
   "execution_count": 55,
   "id": "a6f81059",
   "metadata": {},
   "outputs": [
    {
     "data": {
      "text/plain": [
       "0.2125"
      ]
     },
     "execution_count": 55,
     "metadata": {},
     "output_type": "execute_result"
    }
   ],
   "source": [
    "xdcrop.images.metadata['nuclei']['pixel_size']"
   ]
  },
  {
   "cell_type": "code",
   "execution_count": 62,
   "id": "615dc1c8",
   "metadata": {},
   "outputs": [
    {
     "data": {
      "text/plain": [
       "{'filename': 'nuclei.ome.tif',\n",
       " 'shape': (1000, 1000),\n",
       " 'axes': 'YX',\n",
       " 'OME': {'xmlns': 'http://www.openmicroscopy.org/Schemas/OME/2016-06',\n",
       "  'xmlns:xsi': 'http://www.w3.org/2001/XMLSchema-instance',\n",
       "  'xsi:schemaLocation': 'http://www.openmicroscopy.org/Schemas/OME/2016-06 http://www.openmicroscopy.org/Schemas/OME/2016-06/ome.xsd',\n",
       "  'UUID': 'urn:uuid:4c28dbae-acd5-11ef-a5d4-047bcbbe29a1',\n",
       "  'Creator': 'tifffile.py 2023.9.18',\n",
       "  'Image': {'ID': 'Image:0',\n",
       "   'Name': 'Image0',\n",
       "   'Pixels': {'ID': 'Pixels:0',\n",
       "    'DimensionOrder': 'XYCZT',\n",
       "    'Type': 'uint16',\n",
       "    'SizeX': '1000',\n",
       "    'SizeY': '1000',\n",
       "    'SizeC': '1',\n",
       "    'SizeZ': '1',\n",
       "    'SizeT': '1',\n",
       "    'SignificantBits': '16',\n",
       "    'PhysicalSizeX': '1',\n",
       "    'PhysicalSizeY': '1',\n",
       "    'Channel': {'ID': 'Channel:0:0',\n",
       "     'SamplesPerPixel': '1',\n",
       "     'LightPath': None},\n",
       "    'TiffData': {'IFD': '0', 'PlaneCount': '1'}}}},\n",
       " 'rgb': False,\n",
       " 'contrast_limits': (0, 5505),\n",
       " 'pixel_size': None}"
      ]
     },
     "execution_count": 62,
     "metadata": {},
     "output_type": "execute_result"
    }
   ],
   "source": [
    "xdr.images.metadata[\"nuclei\"]"
   ]
  },
  {
   "cell_type": "code",
   "execution_count": 78,
   "id": "757fde68",
   "metadata": {},
   "outputs": [
    {
     "name": "stdout",
     "output_type": "stream",
     "text": [
      "Loading annotations...\n",
      "Loading cells...\n",
      "\tNo alternative cells found...\n",
      "Loading images...\n",
      "['nuclei', 'CD20', 'HER2', 'DAPI', 'HE']\n",
      "Loading regions...\n",
      "No `transcripts` modality found.\n"
     ]
    }
   ],
   "source": [
    "xdr = read_xenium(\"out/ometiffscaled3\")\n",
    "xdr.load_all()\n",
    "xdr.show()"
   ]
  },
  {
   "cell_type": "code",
   "execution_count": 84,
   "id": "7bf7ac0a",
   "metadata": {},
   "outputs": [
    {
     "data": {
      "text/plain": [
       "id\n",
       "bb21fa19-fe6d-42e2-8cbe-2ca3309fa5fc    POLYGON ((-3061.88235 -2037.88235, -3061.88235...\n",
       "eab7997c-064f-4856-9e48-ea883690b73f    POLYGON ((-1866.88235 -1178.88235, -1876.88235...\n",
       "Name: geometry, dtype: geometry"
      ]
     },
     "execution_count": 84,
     "metadata": {},
     "output_type": "execute_result"
    }
   ],
   "source": [
    "xdr.annotations['Demo'].geometry"
   ]
  },
  {
   "cell_type": "code",
   "execution_count": 71,
   "id": "702a9322",
   "metadata": {},
   "outputs": [
    {
     "name": "stdout",
     "output_type": "stream",
     "text": [
      "Loading annotations...\n",
      "Loading cells...\n",
      "\tNo alternative cells found...\n",
      "Loading images...\n",
      "['nuclei', 'CD20', 'HER2', 'DAPI', 'HE']\n",
      "Loading regions...\n",
      "No `transcripts` modality found.\n"
     ]
    }
   ],
   "source": [
    "xdr = read_xenium(\"out/zarrscaled\")\n",
    "xdr.load_all()\n",
    "xdr.show()"
   ]
  },
  {
   "cell_type": "code",
   "execution_count": 25,
   "id": "8b10d49b",
   "metadata": {},
   "outputs": [
    {
     "name": "stdout",
     "output_type": "stream",
     "text": [
      "Saving data to out\\ometiffscaled2\n",
      "nuclei\n",
      "Downscale image to 1 µm per pixel by factor 4.705882352941177\n",
      "after downscaling\n",
      "CD20\n",
      "Downscale image to 1 µm per pixel by factor 4.705882352941177\n",
      "after downscaling\n",
      "HER2\n",
      "Downscale image to 1 µm per pixel by factor 4.705882352941177\n",
      "after downscaling\n",
      "DAPI\n",
      "Downscale image to 1 µm per pixel by factor 4.705882352941177\n",
      "after downscaling\n",
      "HE\n",
      "Downscale image to 1 µm per pixel by factor 4.705882352941177\n",
      "after downscaling\n"
     ]
    },
    {
     "name": "stderr",
     "output_type": "stream",
     "text": [
      "C:\\Users\\ge37voy\\Github\\InSituPy\\insitupy\\_core\\insitudata.py:1084: UserWarning: `max_pixel_size` (1) smaller than `pixel_size` (1). Skipped resizing.\n",
      "  warn(f\"`max_pixel_size` ({images_max_resolution}) smaller than `pixel_size` ({pixel_size}). Skipped resizing.\")\n"
     ]
    },
    {
     "name": "stdout",
     "output_type": "stream",
     "text": [
      "Saved.\n"
     ]
    }
   ],
   "source": [
    "xdcrop.saveas(\"out/ometiffscaled2\", images_as_zarr=True,\n",
    "              overwrite=True,\n",
    "              images_max_resolution=1\n",
    "              )"
   ]
  },
  {
   "cell_type": "code",
   "execution_count": null,
   "id": "3b7c7df6",
   "metadata": {},
   "outputs": [],
   "source": [
    "xdr = read_xenium(\"out/ometiffscaled3\")\n",
    "xdr.load_all()\n",
    "xdr.show()"
   ]
  },
  {
   "cell_type": "code",
   "execution_count": 35,
   "id": "9f7ea2a8",
   "metadata": {},
   "outputs": [
    {
     "name": "stdout",
     "output_type": "stream",
     "text": [
      "Loading annotations...\n",
      "Loading cells...\n",
      "\tNo alternative cells found...\n",
      "Loading images...\n",
      "['nuclei', 'CD20', 'HER2', 'DAPI', 'HE']\n",
      "Loading regions...\n",
      "No `transcripts` modality found.\n"
     ]
    }
   ],
   "source": [
    "xdr = read_xenium(\"out/ometiffscaled2\")\n",
    "xdr.load_all()\n",
    "xdr.show()"
   ]
  },
  {
   "cell_type": "code",
   "execution_count": null,
   "id": "5f56ea40",
   "metadata": {},
   "outputs": [
    {
     "name": "stdout",
     "output_type": "stream",
     "text": [
      "Loading annotations...\n",
      "Loading cells...\n",
      "\tNo alternative cells found...\n",
      "Loading images...\n"
     ]
    },
    {
     "name": "stderr",
     "output_type": "stream",
     "text": [
      "<tifffile.TiffFile 'nuclei.ome.tif'> OME series level 6 is empty\n",
      "<tifffile.TiffFile 'CD20.ome.tif'> OME series level 6 is empty\n",
      "<tifffile.TiffFile 'HER2.ome.tif'> OME series level 6 is empty\n",
      "<tifffile.TiffFile 'DAPI.ome.tif'> OME series level 6 is empty\n"
     ]
    },
    {
     "name": "stdout",
     "output_type": "stream",
     "text": [
      "['nuclei', 'CD20', 'HER2', 'DAPI', 'HE']\n"
     ]
    },
    {
     "name": "stderr",
     "output_type": "stream",
     "text": [
      "<tifffile.TiffFile 'HE.ome.tif'> OME series level 6 is empty\n"
     ]
    },
    {
     "name": "stdout",
     "output_type": "stream",
     "text": [
      "Loading regions...\n",
      "No `transcripts` modality found.\n"
     ]
    }
   ],
   "source": [
    "xdr = read_xenium(\"out/ometiffscaled\")\n",
    "xdr.load_all()\n",
    "xdr.show()"
   ]
  },
  {
   "cell_type": "code",
   "execution_count": 32,
   "id": "530ed9ab",
   "metadata": {},
   "outputs": [
    {
     "name": "stdout",
     "output_type": "stream",
     "text": [
      "Loading annotations...\n",
      "Loading cells...\n",
      "\tNo alternative cells found...\n",
      "Loading images...\n"
     ]
    },
    {
     "name": "stderr",
     "output_type": "stream",
     "text": [
      "<tifffile.TiffFile 'nuclei.ome.tif'> OME series level 6 is empty\n",
      "<tifffile.TiffFile 'CD20.ome.tif'> OME series level 6 is empty\n",
      "<tifffile.TiffFile 'HER2.ome.tif'> OME series level 6 is empty\n"
     ]
    },
    {
     "name": "stdout",
     "output_type": "stream",
     "text": [
      "['nuclei', 'CD20', 'HER2', 'DAPI', 'HE']\n"
     ]
    },
    {
     "name": "stderr",
     "output_type": "stream",
     "text": [
      "<tifffile.TiffFile 'DAPI.ome.tif'> OME series level 6 is empty\n",
      "<tifffile.TiffFile 'HE.ome.tif'> OME series level 6 is empty\n"
     ]
    },
    {
     "name": "stdout",
     "output_type": "stream",
     "text": [
      "Loading regions...\n",
      "No `transcripts` modality found.\n"
     ]
    }
   ],
   "source": [
    "xdr = read_xenium(\"out/ometiffscaled\")\n",
    "xdr.load_all()\n",
    "xdr.show()"
   ]
  },
  {
   "cell_type": "code",
   "execution_count": 118,
   "id": "d4939982",
   "metadata": {},
   "outputs": [
    {
     "data": {
      "text/plain": [
       "{'run_name': 'PREVIEW: Human Breast Cancer',\n",
       " 'run_start_time': '',\n",
       " 'region_name': 'Replicate 1',\n",
       " 'preservation_method': 'ffpe',\n",
       " 'num_cells': 167780,\n",
       " 'transcripts_per_cell': 166.0,\n",
       " 'transcripts_per_100um': 105.9945809453222,\n",
       " 'cassette_name': 'human_breast_cancer_SIM1',\n",
       " 'slide_id': '0001879',\n",
       " 'panel_design_id': 'PD_260',\n",
       " 'panel_name': 'Breast Cancer Tumor Microenvironment',\n",
       " 'panel_organism': 'Human',\n",
       " 'panel_tissue_type': 'Breast',\n",
       " 'panel_num_targets_predesigned': 280,\n",
       " 'panel_num_targets_custom': 33,\n",
       " 'pixel_size': 1,\n",
       " 'instrument_sn': 'Xenium prototype instrument',\n",
       " 'instrument_sw_version': 'Development',\n",
       " 'analysis_sw_version': 'Xenium-1.0.1',\n",
       " 'experiment_uuid': '',\n",
       " 'cassette_uuid': '',\n",
       " 'roi_uuid': '',\n",
       " 'z_step_size': 3.0,\n",
       " 'well_uuid': '',\n",
       " 'images': {'morphology_filepath': 'morphology.ome.tif',\n",
       "  'morphology_mip_filepath': 'morphology_mip.ome.tif',\n",
       "  'morphology_focus_filepath': 'morphology_focus.ome.tif',\n",
       "  'registered_CD20_filepath': '../registered_images/0001879__Replicate 1__CD20__registered.ome.tif',\n",
       "  'registered_HER2_filepath': '../registered_images/0001879__Replicate 1__HER2__registered.ome.tif',\n",
       "  'registered_DAPI_filepath': '../registered_images/0001879__Replicate 1__DAPI__registered.ome.tif',\n",
       "  'registered_HE_filepath': '../registered_images/0001879__Replicate 1__HE__registered.ome.tif'},\n",
       " 'xenium_explorer_files': {'transcripts_zarr_filepath': 'transcripts.zarr.zip',\n",
       "  'cells_zarr_filepath': 'cells.zarr.zip',\n",
       "  'cell_features_zarr_filepath': 'cell_feature_matrix.zarr.zip',\n",
       "  'analysis_zarr_filepath': 'analysis.zarr.zip',\n",
       "  'analysis_summary_filepath': 'analysis_summary.html'}}"
      ]
     },
     "execution_count": 118,
     "metadata": {},
     "output_type": "execute_result"
    }
   ],
   "source": [
    "xdr.metadata['xenium']"
   ]
  },
  {
   "cell_type": "code",
   "execution_count": 30,
   "id": "c2262d41",
   "metadata": {},
   "outputs": [
    {
     "name": "stdout",
     "output_type": "stream",
     "text": [
      "Saving data to out\\zarr\n",
      "Saved.\n"
     ]
    }
   ],
   "source": [
    "xdcrop.saveas(\"out/zarr\", images_as_zarr=True, overwrite=True)"
   ]
  },
  {
   "cell_type": "code",
   "execution_count": 107,
   "id": "348ca0e1",
   "metadata": {},
   "outputs": [
    {
     "data": {
      "text/plain": [
       "{'data': {'images': {'nuclei': 'images/nuclei.ome.tif',\n",
       "   'CD20': 'images/CD20.ome.tif',\n",
       "   'HER2': 'images/HER2.ome.tif',\n",
       "   'DAPI': 'images/DAPI.ome.tif',\n",
       "   'HE': 'images/HE.ome.tif'},\n",
       "  'cells': 'cells/241127-094145469589-50baee6c',\n",
       "  'annotations': 'annotations/241127-094146684641-3495a0c5',\n",
       "  'regions': 'regions/241127-094146728605-5f3eb957'},\n",
       " 'history': {'cells': [], 'annotations': [], 'regions': []},\n",
       " 'path': 'c:/Users/ge37voy/Github/InSituPy/notebooks/dev/out/ometiffscaled2',\n",
       " 'metadata_file': '.ispy',\n",
       " 'uids': ['af7a19d3-f49b-4baf-b121-d860c5430124',\n",
       "  '791a7f0a-194e-45a5-8358-d7062c4f40e6'],\n",
       " 'method': 'Xenium',\n",
       " 'slide_id': '0001879',\n",
       " 'sample_id': 'Replicate 1',\n",
       " 'version': '1.4.0',\n",
       " 'cropping_history': {'xlim': [[1000, 2000]], 'ylim': [[1000, 2000]]},\n",
       " 'xenium': {'run_name': 'PREVIEW: Human Breast Cancer',\n",
       "  'run_start_time': '',\n",
       "  'region_name': 'Replicate 1',\n",
       "  'preservation_method': 'ffpe',\n",
       "  'num_cells': 167780,\n",
       "  'transcripts_per_cell': 166.0,\n",
       "  'transcripts_per_100um': 105.9945809453222,\n",
       "  'cassette_name': 'human_breast_cancer_SIM1',\n",
       "  'slide_id': '0001879',\n",
       "  'panel_design_id': 'PD_260',\n",
       "  'panel_name': 'Breast Cancer Tumor Microenvironment',\n",
       "  'panel_organism': 'Human',\n",
       "  'panel_tissue_type': 'Breast',\n",
       "  'panel_num_targets_predesigned': 280,\n",
       "  'panel_num_targets_custom': 33,\n",
       "  'pixel_size': 0.2125,\n",
       "  'instrument_sn': 'Xenium prototype instrument',\n",
       "  'instrument_sw_version': 'Development',\n",
       "  'analysis_sw_version': 'Xenium-1.0.1',\n",
       "  'experiment_uuid': '',\n",
       "  'cassette_uuid': '',\n",
       "  'roi_uuid': '',\n",
       "  'z_step_size': 3.0,\n",
       "  'well_uuid': '',\n",
       "  'images': {'morphology_filepath': 'morphology.ome.tif',\n",
       "   'morphology_mip_filepath': 'morphology_mip.ome.tif',\n",
       "   'morphology_focus_filepath': 'morphology_focus.ome.tif',\n",
       "   'registered_CD20_filepath': '../registered_images/0001879__Replicate 1__CD20__registered.ome.tif',\n",
       "   'registered_HER2_filepath': '../registered_images/0001879__Replicate 1__HER2__registered.ome.tif',\n",
       "   'registered_DAPI_filepath': '../registered_images/0001879__Replicate 1__DAPI__registered.ome.tif',\n",
       "   'registered_HE_filepath': '../registered_images/0001879__Replicate 1__HE__registered.ome.tif'},\n",
       "  'xenium_explorer_files': {'transcripts_zarr_filepath': 'transcripts.zarr.zip',\n",
       "   'cells_zarr_filepath': 'cells.zarr.zip',\n",
       "   'cell_features_zarr_filepath': 'cell_feature_matrix.zarr.zip',\n",
       "   'analysis_zarr_filepath': 'analysis.zarr.zip',\n",
       "   'analysis_summary_filepath': 'analysis_summary.html'}}}"
      ]
     },
     "execution_count": 107,
     "metadata": {},
     "output_type": "execute_result"
    }
   ],
   "source": [
    "xdr.metadata"
   ]
  },
  {
   "cell_type": "code",
   "execution_count": 81,
   "id": "245d982c",
   "metadata": {},
   "outputs": [
    {
     "data": {
      "text/plain": [
       "0.2125"
      ]
     },
     "execution_count": 81,
     "metadata": {},
     "output_type": "execute_result"
    }
   ],
   "source": [
    "img_metadata['pixel_size']"
   ]
  },
  {
   "cell_type": "code",
   "execution_count": 82,
   "id": "8b5165ac",
   "metadata": {},
   "outputs": [],
   "source": [
    "img_metadata['pixel_size'] *= 4"
   ]
  },
  {
   "cell_type": "code",
   "execution_count": 83,
   "id": "5ccf7116",
   "metadata": {},
   "outputs": [
    {
     "data": {
      "text/plain": [
       "0.85"
      ]
     },
     "execution_count": 83,
     "metadata": {},
     "output_type": "execute_result"
    }
   ],
   "source": [
    "img_metadata['pixel_size']"
   ]
  },
  {
   "cell_type": "code",
   "execution_count": 91,
   "id": "9e7d1887",
   "metadata": {},
   "outputs": [
    {
     "data": {
      "text/plain": [
       "'0.2125'"
      ]
     },
     "execution_count": 91,
     "metadata": {},
     "output_type": "execute_result"
    }
   ],
   "source": [
    "img_metadata['OME']['Image']['Pixels']['PhysicalSizeX']"
   ]
  },
  {
   "cell_type": "code",
   "execution_count": 93,
   "id": "3d6da36e",
   "metadata": {},
   "outputs": [
    {
     "data": {
      "text/plain": [
       "'0.2125'"
      ]
     },
     "execution_count": 93,
     "metadata": {},
     "output_type": "execute_result"
    }
   ],
   "source": [
    "img_metadata['OME']['Image']['Pixels']['PhysicalSizeY']"
   ]
  },
  {
   "cell_type": "code",
   "execution_count": 92,
   "id": "ff3c3ab6",
   "metadata": {},
   "outputs": [
    {
     "data": {
      "text/plain": [
       "{'filename': 'nuclei.zarr',\n",
       " 'shape': (4706, 4706),\n",
       " 'axes': 'YX',\n",
       " 'OME': {'Creator': 'tifffile.py 2021.4.8',\n",
       "  'Image': {'ID': 'Image:0',\n",
       "   'InstrumentRef': {'ID': 'Instrument:1'},\n",
       "   'Name': 'Image0',\n",
       "   'Pixels': {'Channel': {'Color': '-1',\n",
       "     'ID': 'Channel:0:0',\n",
       "     'Name': 'DAPI',\n",
       "     'SamplesPerPixel': '1'},\n",
       "    'DimensionOrder': 'XYZCT',\n",
       "    'ID': 'Pixels:0',\n",
       "    'PhysicalSizeX': '0.2125',\n",
       "    'PhysicalSizeY': '0.2125',\n",
       "    'SizeC': '1',\n",
       "    'SizeT': '1',\n",
       "    'SizeX': '35416',\n",
       "    'SizeY': '25778',\n",
       "    'SizeZ': '1',\n",
       "    'TiffData': {'PlaneCount': '1'},\n",
       "    'Type': 'uint16'}},\n",
       "  'Instrument': {'ID': 'Instrument:1',\n",
       "   'Microscope': {'Manufacturer': '10x Genomics', 'Model': 'Xenium'}},\n",
       "  'Plate': {'ID': 'Plate:1',\n",
       "   'WellOriginX': '-0.0',\n",
       "   'WellOriginXUnit': 'µm',\n",
       "   'WellOriginY': '-0.0',\n",
       "   'WellOriginYUnit': 'µm'},\n",
       "  'UUID': 'urn:uuid:a73aa686-7468-11ed-89c9-06acdb970e37',\n",
       "  'xmlns': 'http://www.openmicroscopy.org/Schemas/OME/2016-06',\n",
       "  'xmlns:xsi': 'http://www.w3.org/2001/XMLSchema-instance',\n",
       "  'xsi:schemaLocation': 'http://www.openmicroscopy.org/Schemas/OME/2016-06 http://www.openmicroscopy.org/Schemas/OME/2016-06/ome.xsd'},\n",
       " 'rgb': False,\n",
       " 'contrast_limits': (0, 5656),\n",
       " 'pixel_size': 0.85,\n",
       " 'cropping_xlim': (1000, 2000),\n",
       " 'cropping_ylim': (1000, 2000)}"
      ]
     },
     "execution_count": 92,
     "metadata": {},
     "output_type": "execute_result"
    }
   ],
   "source": [
    "img_metadata"
   ]
  }
 ],
 "metadata": {
  "kernelspec": {
   "display_name": "insitupy",
   "language": "python",
   "name": "python3"
  },
  "language_info": {
   "codemirror_mode": {
    "name": "ipython",
    "version": 3
   },
   "file_extension": ".py",
   "mimetype": "text/x-python",
   "name": "python",
   "nbconvert_exporter": "python",
   "pygments_lexer": "ipython3",
   "version": "3.9.18"
  }
 },
 "nbformat": 4,
 "nbformat_minor": 5
}
