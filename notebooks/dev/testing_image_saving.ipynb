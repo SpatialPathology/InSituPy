{
 "cells": [
  {
   "cell_type": "markdown",
   "id": "b16df72d-5dd5-47da-a8c3-b569fe97446b",
   "metadata": {
    "tags": []
   },
   "source": [
    "# InSituPy demonstration - Differential gene expression analysis"
   ]
  },
  {
   "cell_type": "code",
   "execution_count": 1,
   "id": "8bc0c4ed-3587-460e-98d2-6626a020a327",
   "metadata": {},
   "outputs": [],
   "source": [
    "## The following code ensures that all functions and init files are reloaded before executions.\n",
    "%load_ext autoreload\n",
    "%autoreload 2"
   ]
  },
  {
   "cell_type": "code",
   "execution_count": 2,
   "id": "58107e0b-5017-425b-8cd0-9274be2b8253",
   "metadata": {},
   "outputs": [],
   "source": [
    "from pathlib import Path\n",
    "from insitupy import read_xenium\n",
    "import scanpy as sc"
   ]
  },
  {
   "cell_type": "code",
   "execution_count": 3,
   "id": "837ee5f0",
   "metadata": {},
   "outputs": [],
   "source": [
    "import warnings\n",
    "warnings.simplefilter(action='ignore', category=FutureWarning)"
   ]
  },
  {
   "cell_type": "markdown",
   "id": "ae409a19",
   "metadata": {},
   "source": [
    "## Load Xenium data into `InSituData` object\n",
    "\n",
    "Now the Xenium data can be parsed by providing the data path to the `InSituPy` project folder."
   ]
  },
  {
   "cell_type": "code",
   "execution_count": 4,
   "id": "2db31fb9",
   "metadata": {},
   "outputs": [],
   "source": [
    "insitupy_project = Path(\"../demo_dataset/demo_insitupy_project\")"
   ]
  },
  {
   "cell_type": "code",
   "execution_count": 5,
   "id": "188ddb98",
   "metadata": {},
   "outputs": [],
   "source": [
    "xd = read_xenium(insitupy_project)"
   ]
  },
  {
   "cell_type": "code",
   "execution_count": 6,
   "id": "ae606b79",
   "metadata": {},
   "outputs": [
    {
     "name": "stdout",
     "output_type": "stream",
     "text": [
      "Loading images...\n",
      "['nuclei', 'CD20', 'HER2', 'DAPI', 'HE']\n",
      "Loading cells...\n",
      "\tNo alternative cells found...\n"
     ]
    }
   ],
   "source": [
    "xd.load_images()\n",
    "xd.load_cells()"
   ]
  },
  {
   "cell_type": "code",
   "execution_count": 7,
   "id": "7a864387",
   "metadata": {},
   "outputs": [
    {
     "data": {
      "text/plain": [
       "\u001b[1m\u001b[31mInSituData\u001b[0m\n",
       "\u001b[1mMethod:\u001b[0m\t\tXenium\n",
       "\u001b[1mSlide ID:\u001b[0m\t0001879\n",
       "\u001b[1mSample ID:\u001b[0m\tReplicate 1\n",
       "\u001b[1mPath:\u001b[0m\t\tC:\\Users\\ge37voy\\Github\\InSituPy\\notebooks\\demo_dataset\\demo_insitupy_project\n",
       "\u001b[1mMetadata file:\u001b[0m\t.ispy\n",
       "    ➤ \u001b[34m\u001b[1mimages\u001b[0m\n",
       "       \u001b[1mnuclei:\u001b[0m\t(25778, 35416)\n",
       "       \u001b[1mCD20:\u001b[0m\t(25778, 35416)\n",
       "       \u001b[1mHER2:\u001b[0m\t(25778, 35416)\n",
       "       \u001b[1mDAPI:\u001b[0m\t(25778, 35416)\n",
       "       \u001b[1mHE:\u001b[0m\t(25778, 35416, 3)\n",
       "    ➤\u001b[32m\u001b[1m cells\u001b[0m\n",
       "       \u001b[1mmatrix\u001b[0m\n",
       "           AnnData object with n_obs × n_vars = 163565 × 313\n",
       "           obs: 'transcript_counts', 'control_probe_counts', 'control_codeword_counts', 'total_counts', 'cell_area', 'nucleus_area', 'n_genes', 'leiden', 'annotations-TestKey', 'annotations-demo', 'annotations-demo2', 'annotations-demo3', 'cell_type'\n",
       "           var: 'gene_ids', 'feature_types', 'genome'\n",
       "           uns: 'cell_type_colors', 'counts_location', 'leiden', 'leiden_colors', 'neighbors', 'pca', 'umap'\n",
       "           obsm: 'OT', 'X_pca', 'X_umap', 'spatial'\n",
       "           varm: 'OT', 'PCs', 'binned_expression'\n",
       "           layers: 'counts', 'norm_counts'\n",
       "           obsp: 'connectivities', 'distances'\n",
       "       \u001b[1mboundaries\u001b[0m\n",
       "           BoundariesData object with 2 entries:\n",
       "               \u001b[1mcellular\u001b[0m\n",
       "               \u001b[1mnuclear\u001b[0m"
      ]
     },
     "execution_count": 7,
     "metadata": {},
     "output_type": "execute_result"
    }
   ],
   "source": [
    "xd"
   ]
  },
  {
   "cell_type": "code",
   "execution_count": 15,
   "id": "ab1e5a65",
   "metadata": {},
   "outputs": [
    {
     "name": "stdout",
     "output_type": "stream",
     "text": [
      "Importing annotations...\n"
     ]
    }
   ],
   "source": [
    "xd.import_annotations(\n",
    "    files=\"../demo_annotations/demo_annotations.geojson\",\n",
    "    keys=\"Demo\", pixel_size=0.215\n",
    ")"
   ]
  },
  {
   "cell_type": "code",
   "execution_count": 17,
   "id": "c39565ee",
   "metadata": {},
   "outputs": [
    {
     "name": "stdout",
     "output_type": "stream",
     "text": [
      "Importing regions...\n"
     ]
    }
   ],
   "source": [
    "xd.import_regions(\n",
    "    files=\"../demo_regions/demo_regions.geojson\",\n",
    "    keys=\"Demo\", pixel_size=0.215\n",
    ")"
   ]
  },
  {
   "cell_type": "code",
   "execution_count": 21,
   "id": "d1cce6b7",
   "metadata": {},
   "outputs": [],
   "source": [
    "xd.show()"
   ]
  },
  {
   "cell_type": "code",
   "execution_count": 26,
   "id": "0fb1b319",
   "metadata": {},
   "outputs": [],
   "source": [
    "from insitupy._core.dataclasses import parse_geopandas"
   ]
  },
  {
   "cell_type": "code",
   "execution_count": 28,
   "id": "a8980a80",
   "metadata": {},
   "outputs": [],
   "source": [
    "gdf = parse_geopandas(\"../demo_annotations/demo_annotations.geojson\")"
   ]
  },
  {
   "cell_type": "code",
   "execution_count": 32,
   "id": "4b892af9",
   "metadata": {},
   "outputs": [
    {
     "data": {
      "text/plain": [
       "id\n",
       "62fe25ef-caa9-413f-9f2c-339e933a401e    POLYGON ((2045.29500 5.88000, 2042.71500 6.300...\n",
       "0b23ef14-ef66-4179-aa62-7538692e57e0    POLYGON ((2242.45000 3038.70000, 2241.16000 30...\n",
       "c3769aa5-a6b0-4f0b-9a04-6584440958dc    POLYGON ((6621.14000 2370.48000, 6620.71000 23...\n",
       "fbec3cff-430f-48f4-8ba6-c861db218dfd    POLYGON ((2789.06170 3061.90920, 2790.91500 30...\n",
       "bb21fa19-fe6d-42e2-8cbe-2ca3309fa5fc    POLYGON ((353.46000 560.28000, 353.46000 561.3...\n",
       "20ed6488-477f-42a7-a109-c7262261a4a1    POLYGON ((1884.38900 2383.29000, 1884.04500 23...\n",
       "3471eff0-4800-4cd4-873f-3b5f5f3019a2    POLYGON ((2062.92500 3272.85000, 2058.19500 32...\n",
       "de79270a-e525-4371-8241-0c3875bd97ec    POLYGON ((5156.56000 3942.12000, 5133.77000 39...\n",
       "d29b9701-7415-42d5-8e51-9c31e0e41537    POLYGON ((2009.82000 3038.49000, 2011.75500 30...\n",
       "7c1223f2-9f76-4121-a1ac-d6e97079b41b    POLYGON ((5809.51500 3941.70000, 5807.15000 39...\n",
       "f7b7d0d2-e539-4ac5-8aa5-39af977303b5    POLYGON ((6664.57000 2283.12000, 6663.49500 22...\n",
       "bd196944-34c9-458c-8ae0-64240dccbee1    POLYGON ((3854.95000 2790.06000, 3854.30500 27...\n",
       "d90b8e7d-bf77-4d8e-9d45-0dc8df545fe5    POLYGON ((5402.09000 2731.68000, 5405.11290 27...\n",
       "cd325716-ebf0-4a92-98f1-77e90c952f7e    POLYGON ((6892.68500 2331.00000, 6888.60000 23...\n",
       "d54df1bd-df1c-4e21-865d-82f8b83d9a73    POLYGON ((4385.57000 2794.68000, 4369.23000 28...\n",
       "afff27fb-3685-4e0c-b3d3-b2195b74da42    POLYGON ((6063.86000 2925.30000, 6060.63500 29...\n",
       "7ba32e97-b427-43f2-86b5-8f075b064f82    POLYGON ((1771.56130 4339.16700, 1763.87075 43...\n",
       "0de1a512-0f04-4dab-8ed2-f1fdb4f422ce    POLYGON ((1087.25500 57.33000, 1079.30000 58.1...\n",
       "48c40478-f3bd-4c95-a9a3-4b5a5df41b9c    POLYGON ((7019.32000 3553.20000, 7017.60000 35...\n",
       "5dbcaf70-f33b-4a06-9750-e42ba2402176    POLYGON ((6578.57000 3874.71000, 6572.98000 38...\n",
       "63735c80-e603-47d5-9353-a18ceb26df4b    POLYGON ((3901.39000 3089.94000, 3900.53000 30...\n",
       "eab7997c-064f-4856-9e48-ea883690b73f    POLYGON ((610.38500 740.67000, 608.23500 741.7...\n",
       "8ff0a65e-63d8-421e-888c-5f82cbd91c53    POLYGON ((3683.81000 3023.37000, 3682.73500 30...\n",
       "31fd646c-0207-4be1-964a-1eeb05d6b8eb    POLYGON ((662.84500 10.08000, 661.87750 10.180...\n",
       "aae4ac7d-8b9f-4a0e-a243-456fc688f1a4    POLYGON ((1902.75000 3154.83000, 1902.63390 31...\n",
       "af4a2322-fbb9-490e-a49a-fde555765ef3    POLYGON ((6688.65000 3471.51000, 6688.00500 34...\n",
       "6c5a3636-0251-440b-9a07-d1978029d89b    POLYGON ((3685.74500 2844.24000, 3683.81000 28...\n",
       "538938c5-6bc9-4c43-a875-24230bada840    POLYGON ((3874.30000 2788.80000, 3874.94500 27...\n",
       "dtype: geometry"
      ]
     },
     "execution_count": 32,
     "metadata": {},
     "output_type": "execute_result"
    }
   ],
   "source": [
    "gdf.geometry.scale(xfact=0.215, yfact=0.21, origin=(0,0))"
   ]
  },
  {
   "cell_type": "code",
   "execution_count": 11,
   "id": "f533bcfb",
   "metadata": {},
   "outputs": [
    {
     "data": {
      "text/plain": [
       "[dask.array<from-zarr, shape=(25778, 35416), dtype=uint32, chunksize=(806, 1107), chunktype=numpy.ndarray>,\n",
       " dask.array<from-zarr, shape=(12889, 17708), dtype=uint32, chunksize=(4836, 6648), chunktype=numpy.ndarray>,\n",
       " dask.array<from-zarr, shape=(6445, 8854), dtype=uint32, chunksize=(4836, 6648), chunktype=numpy.ndarray>,\n",
       " dask.array<from-zarr, shape=(3223, 4427), dtype=uint32, chunksize=(3223, 4427), chunktype=numpy.ndarray>,\n",
       " dask.array<from-zarr, shape=(1612, 2214), dtype=uint32, chunksize=(1612, 2214), chunktype=numpy.ndarray>,\n",
       " dask.array<from-zarr, shape=(806, 1107), dtype=uint32, chunksize=(806, 1107), chunktype=numpy.ndarray>,\n",
       " dask.array<from-zarr, shape=(403, 554), dtype=uint32, chunksize=(403, 554), chunktype=numpy.ndarray>]"
      ]
     },
     "execution_count": 11,
     "metadata": {},
     "output_type": "execute_result"
    }
   ],
   "source": [
    "xd.cells.boundaries.cellular"
   ]
  },
  {
   "cell_type": "code",
   "execution_count": 12,
   "id": "dae2f88d",
   "metadata": {},
   "outputs": [],
   "source": [
    "xd.store_geometries()"
   ]
  },
  {
   "cell_type": "code",
   "execution_count": 13,
   "id": "e397712e",
   "metadata": {},
   "outputs": [
    {
     "ename": "AttributeError",
     "evalue": "'AnnotationsData' object has no attribute 'TestKey'",
     "output_type": "error",
     "traceback": [
      "\u001b[1;31m---------------------------------------------------------------------------\u001b[0m",
      "\u001b[1;31mAttributeError\u001b[0m                            Traceback (most recent call last)",
      "Cell \u001b[1;32mIn[13], line 1\u001b[0m\n\u001b[1;32m----> 1\u001b[0m \u001b[43mxd\u001b[49m\u001b[38;5;241;43m.\u001b[39;49m\u001b[43mannotations\u001b[49m\u001b[38;5;241;43m.\u001b[39;49m\u001b[43mTestKey\u001b[49m\n",
      "\u001b[1;31mAttributeError\u001b[0m: 'AnnotationsData' object has no attribute 'TestKey'"
     ]
    }
   ],
   "source": [
    "xd.annotations.TestKey"
   ]
  },
  {
   "cell_type": "code",
   "execution_count": 22,
   "id": "3e80c73d",
   "metadata": {},
   "outputs": [
    {
     "data": {
      "text/plain": [
       "(array('d', [38.14492598907116, 2778.782073112689, 2778.7820731126903, 38.144925989071794, 38.14492598907116]),\n",
       " array('d', [33.04961353782507, 33.0496135378257, 2494.9778982420935, 2494.977898242091, 33.04961353782507]))"
      ]
     },
     "execution_count": 22,
     "metadata": {},
     "output_type": "execute_result"
    }
   ],
   "source": [
    "xd.annotations.TestKey.geometry[1].exterior.coords.xy"
   ]
  },
  {
   "cell_type": "code",
   "execution_count": 13,
   "id": "127bb7fb",
   "metadata": {},
   "outputs": [
    {
     "data": {
      "text/plain": [
       "{'cellular': {'pixel_size': 0.2125}, 'nuclear': {'pixel_size': 0.2125}}"
      ]
     },
     "execution_count": 13,
     "metadata": {},
     "output_type": "execute_result"
    }
   ],
   "source": [
    "xd.cells.boundaries.metadata"
   ]
  },
  {
   "cell_type": "markdown",
   "id": "5bbbcd84",
   "metadata": {},
   "source": [
    "### Crop data"
   ]
  },
  {
   "cell_type": "code",
   "execution_count": 14,
   "id": "d83b59c8",
   "metadata": {},
   "outputs": [],
   "source": [
    "xdcrop = xd.crop(xlim=(1000,2000), ylim=(1000,2000))"
   ]
  },
  {
   "cell_type": "code",
   "execution_count": 15,
   "id": "2a9d1f87",
   "metadata": {},
   "outputs": [
    {
     "data": {
      "text/plain": [
       "0.2125"
      ]
     },
     "execution_count": 15,
     "metadata": {},
     "output_type": "execute_result"
    }
   ],
   "source": [
    "xdcrop.metadata['xenium']['pixel_size']"
   ]
  },
  {
   "cell_type": "code",
   "execution_count": 16,
   "id": "ca27008c",
   "metadata": {},
   "outputs": [],
   "source": [
    "from insitupy.images.utils import resize_image\n",
    "import numpy as np"
   ]
  },
  {
   "cell_type": "code",
   "execution_count": 51,
   "id": "dbc17ea8",
   "metadata": {},
   "outputs": [
    {
     "name": "stdout",
     "output_type": "stream",
     "text": [
      "Saving data to out\\ometiff\n",
      "nuclei\n",
      "start saving\n",
      "end saving\n",
      "CD20\n",
      "start saving\n",
      "end saving\n",
      "HER2\n",
      "start saving\n",
      "end saving\n",
      "DAPI\n",
      "start saving\n",
      "end saving\n",
      "HE\n",
      "start saving\n",
      "end saving\n",
      "Saved.\n"
     ]
    }
   ],
   "source": [
    "xdcrop.saveas(\"out/ometiff\", images_as_zarr=False,\n",
    "              overwrite=True,\n",
    "              images_max_resolution=None\n",
    "              )"
   ]
  },
  {
   "cell_type": "code",
   "execution_count": 52,
   "id": "50897224",
   "metadata": {},
   "outputs": [
    {
     "data": {
      "text/plain": [
       "0.2125"
      ]
     },
     "execution_count": 52,
     "metadata": {},
     "output_type": "execute_result"
    }
   ],
   "source": [
    "xdcrop.metadata['xenium']['pixel_size']"
   ]
  },
  {
   "cell_type": "code",
   "execution_count": 77,
   "id": "868cfcee",
   "metadata": {},
   "outputs": [
    {
     "name": "stdout",
     "output_type": "stream",
     "text": [
      "Saving data to out\\ometiffscaled3\n",
      "nuclei\n",
      "Downscale image to 1 µm per pixel by factor 4.705882352941177\n",
      "start saving\n",
      "end saving\n",
      "CD20\n",
      "Downscale image to 1 µm per pixel by factor 4.705882352941177\n",
      "start saving\n",
      "end saving\n",
      "HER2\n",
      "Downscale image to 1 µm per pixel by factor 4.705882352941177\n",
      "start saving\n",
      "end saving\n",
      "DAPI\n",
      "Downscale image to 1 µm per pixel by factor 4.705882352941177\n",
      "start saving\n",
      "end saving\n",
      "HE\n",
      "Downscale image to 1 µm per pixel by factor 4.705882352941177\n",
      "start saving\n",
      "end saving\n",
      "Saved.\n"
     ]
    }
   ],
   "source": [
    "xdcrop.saveas(\"out/ometiffscaled3\", images_as_zarr=False,\n",
    "              overwrite=True,\n",
    "              images_max_resolution=1\n",
    "              )"
   ]
  },
  {
   "cell_type": "code",
   "execution_count": 72,
   "id": "c4839498",
   "metadata": {},
   "outputs": [
    {
     "name": "stdout",
     "output_type": "stream",
     "text": [
      "Saving data to out\\zarrscaled\n",
      "nuclei\n",
      "Downscale image to 1 µm per pixel by factor 4.705882352941177\n",
      "CD20\n",
      "Downscale image to 1 µm per pixel by factor 4.705882352941177\n",
      "HER2\n",
      "Downscale image to 1 µm per pixel by factor 4.705882352941177\n",
      "DAPI\n",
      "Downscale image to 1 µm per pixel by factor 4.705882352941177\n",
      "HE\n",
      "Downscale image to 1 µm per pixel by factor 4.705882352941177\n",
      "Saved.\n"
     ]
    }
   ],
   "source": [
    "xdcrop.saveas(\"out/zarrscaled\", images_as_zarr=True,\n",
    "              overwrite=True,\n",
    "              images_max_resolution=1\n",
    "              )"
   ]
  },
  {
   "cell_type": "code",
   "execution_count": 55,
   "id": "a6f81059",
   "metadata": {},
   "outputs": [
    {
     "data": {
      "text/plain": [
       "0.2125"
      ]
     },
     "execution_count": 55,
     "metadata": {},
     "output_type": "execute_result"
    }
   ],
   "source": [
    "xdcrop.images.metadata['nuclei']['pixel_size']"
   ]
  },
  {
   "cell_type": "code",
   "execution_count": 62,
   "id": "615dc1c8",
   "metadata": {},
   "outputs": [
    {
     "data": {
      "text/plain": [
       "{'filename': 'nuclei.ome.tif',\n",
       " 'shape': (1000, 1000),\n",
       " 'axes': 'YX',\n",
       " 'OME': {'xmlns': 'http://www.openmicroscopy.org/Schemas/OME/2016-06',\n",
       "  'xmlns:xsi': 'http://www.w3.org/2001/XMLSchema-instance',\n",
       "  'xsi:schemaLocation': 'http://www.openmicroscopy.org/Schemas/OME/2016-06 http://www.openmicroscopy.org/Schemas/OME/2016-06/ome.xsd',\n",
       "  'UUID': 'urn:uuid:4c28dbae-acd5-11ef-a5d4-047bcbbe29a1',\n",
       "  'Creator': 'tifffile.py 2023.9.18',\n",
       "  'Image': {'ID': 'Image:0',\n",
       "   'Name': 'Image0',\n",
       "   'Pixels': {'ID': 'Pixels:0',\n",
       "    'DimensionOrder': 'XYCZT',\n",
       "    'Type': 'uint16',\n",
       "    'SizeX': '1000',\n",
       "    'SizeY': '1000',\n",
       "    'SizeC': '1',\n",
       "    'SizeZ': '1',\n",
       "    'SizeT': '1',\n",
       "    'SignificantBits': '16',\n",
       "    'PhysicalSizeX': '1',\n",
       "    'PhysicalSizeY': '1',\n",
       "    'Channel': {'ID': 'Channel:0:0',\n",
       "     'SamplesPerPixel': '1',\n",
       "     'LightPath': None},\n",
       "    'TiffData': {'IFD': '0', 'PlaneCount': '1'}}}},\n",
       " 'rgb': False,\n",
       " 'contrast_limits': (0, 5505),\n",
       " 'pixel_size': None}"
      ]
     },
     "execution_count": 62,
     "metadata": {},
     "output_type": "execute_result"
    }
   ],
   "source": [
    "xdr.images.metadata[\"nuclei\"]"
   ]
  },
  {
   "cell_type": "code",
   "execution_count": 17,
   "id": "757fde68",
   "metadata": {},
   "outputs": [
    {
     "name": "stdout",
     "output_type": "stream",
     "text": [
      "Loading annotations...\n",
      "Loading cells...\n",
      "\tNo alternative cells found...\n",
      "Loading images...\n",
      "['nuclei', 'CD20', 'HER2', 'DAPI', 'HE']\n",
      "Loading regions...\n",
      "No `transcripts` modality found.\n"
     ]
    }
   ],
   "source": [
    "xdr = read_xenium(\"out/ometiffscaled3\")\n",
    "xdr.load_all()\n",
    "xdr.show()"
   ]
  },
  {
   "cell_type": "code",
   "execution_count": 24,
   "id": "da605175",
   "metadata": {},
   "outputs": [
    {
     "name": "stderr",
     "output_type": "stream",
     "text": [
      "WARNING: QWindowsWindow::setGeometry: Unable to set geometry 2172x1310+790+114 (frame: 2194x1366+779+69) on QWidgetWindow/\"_QtMainWindowClassWindow\" on \"\\\\.\\DISPLAY1\". Resulting geometry: 3260x1968+793+128 (frame: 3282x2024+782+83) margins: 11, 45, 11, 11 minimum size: 385x492 MINMAXINFO maxSize=0,0 maxpos=0,0 mintrack=792,1040 maxtrack=0,0)\n"
     ]
    }
   ],
   "source": [
    "xd.show()"
   ]
  },
  {
   "cell_type": "code",
   "execution_count": 22,
   "id": "5edd0425",
   "metadata": {},
   "outputs": [
    {
     "name": "stdout",
     "output_type": "stream",
     "text": [
      "<Result () {'type_symbol': '🔬', 'class_name': 'TestClass', 'annot_key': 'TestKey'}>\n",
      "[1. 1.]\n",
      "[array([[ 2.85607625,  2.86414357],\n",
      "       [ 2.85607625, 60.45751181],\n",
      "       [62.20533986, 60.45751181],\n",
      "       [62.20533986,  2.86414357]])]\n",
      "Added 1 new annotations to key 'TestKey'\n"
     ]
    }
   ],
   "source": [
    "xdr.store_geometries()"
   ]
  },
  {
   "cell_type": "code",
   "execution_count": 25,
   "id": "4982bc71",
   "metadata": {},
   "outputs": [
    {
     "data": {
      "text/plain": [
       "array([[666.21291504, 264.02657471],\n",
       "       [641.74989014, 267.34107666],\n",
       "       [657.00838623, 280.74891357],\n",
       "       ...,\n",
       "       [760.04058838, 742.91690674],\n",
       "       [761.62873535, 756.7480835 ],\n",
       "       [764.49208984, 728.67473755]])"
      ]
     },
     "execution_count": 25,
     "metadata": {},
     "output_type": "execute_result"
    }
   ],
   "source": [
    "xdr.cells.matrix.obsm['spatial']"
   ]
  },
  {
   "cell_type": "code",
   "execution_count": 23,
   "id": "c4f809ec",
   "metadata": {},
   "outputs": [
    {
     "data": {
      "text/html": [
       "<div>\n",
       "<style scoped>\n",
       "    .dataframe tbody tr th:only-of-type {\n",
       "        vertical-align: middle;\n",
       "    }\n",
       "\n",
       "    .dataframe tbody tr th {\n",
       "        vertical-align: top;\n",
       "    }\n",
       "\n",
       "    .dataframe thead th {\n",
       "        text-align: right;\n",
       "    }\n",
       "</style>\n",
       "<table border=\"1\" class=\"dataframe\">\n",
       "  <thead>\n",
       "    <tr style=\"text-align: right;\">\n",
       "      <th></th>\n",
       "      <th>objectType</th>\n",
       "      <th>geometry</th>\n",
       "      <th>name</th>\n",
       "      <th>color</th>\n",
       "      <th>origin</th>\n",
       "      <th>scale</th>\n",
       "      <th>layer_type</th>\n",
       "    </tr>\n",
       "    <tr>\n",
       "      <th>id</th>\n",
       "      <th></th>\n",
       "      <th></th>\n",
       "      <th></th>\n",
       "      <th></th>\n",
       "      <th></th>\n",
       "      <th></th>\n",
       "      <th></th>\n",
       "    </tr>\n",
       "  </thead>\n",
       "  <tbody>\n",
       "    <tr>\n",
       "      <th>fdf5855a-8e6c-41dd-840d-0bfd53fcfe32</th>\n",
       "      <td>annotation</td>\n",
       "      <td>POLYGON ((2.86414 2.85608, 60.45751 2.85608, 6...</td>\n",
       "      <td>TestClass</td>\n",
       "      <td>[255, 0, 0]</td>\n",
       "      <td>manual</td>\n",
       "      <td>[1.0, 1.0]</td>\n",
       "      <td>Shapes</td>\n",
       "    </tr>\n",
       "  </tbody>\n",
       "</table>\n",
       "</div>"
      ],
      "text/plain": [
       "                                      objectType  \\\n",
       "id                                                 \n",
       "fdf5855a-8e6c-41dd-840d-0bfd53fcfe32  annotation   \n",
       "\n",
       "                                                                               geometry  \\\n",
       "id                                                                                        \n",
       "fdf5855a-8e6c-41dd-840d-0bfd53fcfe32  POLYGON ((2.86414 2.85608, 60.45751 2.85608, 6...   \n",
       "\n",
       "                                           name        color  origin  \\\n",
       "id                                                                     \n",
       "fdf5855a-8e6c-41dd-840d-0bfd53fcfe32  TestClass  [255, 0, 0]  manual   \n",
       "\n",
       "                                           scale layer_type  \n",
       "id                                                           \n",
       "fdf5855a-8e6c-41dd-840d-0bfd53fcfe32  [1.0, 1.0]     Shapes  "
      ]
     },
     "execution_count": 23,
     "metadata": {},
     "output_type": "execute_result"
    }
   ],
   "source": [
    "xdr.annotations.TestKey"
   ]
  },
  {
   "cell_type": "code",
   "execution_count": 20,
   "id": "633f91ab",
   "metadata": {},
   "outputs": [
    {
     "data": {
      "text/plain": [
       "<Shapes layer '🔬 TestClass (TestKey)' at 0x1a6c5fea1c0>"
      ]
     },
     "execution_count": 20,
     "metadata": {},
     "output_type": "execute_result"
    }
   ],
   "source": [
    "xdr.viewer.layers['🔬 TestClass (TestKey)']"
   ]
  },
  {
   "cell_type": "code",
   "execution_count": 84,
   "id": "7bf7ac0a",
   "metadata": {},
   "outputs": [
    {
     "data": {
      "text/plain": [
       "id\n",
       "bb21fa19-fe6d-42e2-8cbe-2ca3309fa5fc    POLYGON ((-3061.88235 -2037.88235, -3061.88235...\n",
       "eab7997c-064f-4856-9e48-ea883690b73f    POLYGON ((-1866.88235 -1178.88235, -1876.88235...\n",
       "Name: geometry, dtype: geometry"
      ]
     },
     "execution_count": 84,
     "metadata": {},
     "output_type": "execute_result"
    }
   ],
   "source": [
    "xdr.annotations['Demo'].geometry"
   ]
  },
  {
   "cell_type": "code",
   "execution_count": 71,
   "id": "702a9322",
   "metadata": {},
   "outputs": [
    {
     "name": "stdout",
     "output_type": "stream",
     "text": [
      "Loading annotations...\n",
      "Loading cells...\n",
      "\tNo alternative cells found...\n",
      "Loading images...\n",
      "['nuclei', 'CD20', 'HER2', 'DAPI', 'HE']\n",
      "Loading regions...\n",
      "No `transcripts` modality found.\n"
     ]
    }
   ],
   "source": [
    "xdr = read_xenium(\"out/zarrscaled\")\n",
    "xdr.load_all()\n",
    "xdr.show()"
   ]
  },
  {
   "cell_type": "code",
   "execution_count": 25,
   "id": "8b10d49b",
   "metadata": {},
   "outputs": [
    {
     "name": "stdout",
     "output_type": "stream",
     "text": [
      "Saving data to out\\ometiffscaled2\n",
      "nuclei\n",
      "Downscale image to 1 µm per pixel by factor 4.705882352941177\n",
      "after downscaling\n",
      "CD20\n",
      "Downscale image to 1 µm per pixel by factor 4.705882352941177\n",
      "after downscaling\n",
      "HER2\n",
      "Downscale image to 1 µm per pixel by factor 4.705882352941177\n",
      "after downscaling\n",
      "DAPI\n",
      "Downscale image to 1 µm per pixel by factor 4.705882352941177\n",
      "after downscaling\n",
      "HE\n",
      "Downscale image to 1 µm per pixel by factor 4.705882352941177\n",
      "after downscaling\n"
     ]
    },
    {
     "name": "stderr",
     "output_type": "stream",
     "text": [
      "C:\\Users\\ge37voy\\Github\\InSituPy\\insitupy\\_core\\insitudata.py:1084: UserWarning: `max_pixel_size` (1) smaller than `pixel_size` (1). Skipped resizing.\n",
      "  warn(f\"`max_pixel_size` ({images_max_resolution}) smaller than `pixel_size` ({pixel_size}). Skipped resizing.\")\n"
     ]
    },
    {
     "name": "stdout",
     "output_type": "stream",
     "text": [
      "Saved.\n"
     ]
    }
   ],
   "source": [
    "xdcrop.saveas(\"out/ometiffscaled2\", images_as_zarr=True,\n",
    "              overwrite=True,\n",
    "              images_max_resolution=1\n",
    "              )"
   ]
  },
  {
   "cell_type": "code",
   "execution_count": null,
   "id": "3b7c7df6",
   "metadata": {},
   "outputs": [],
   "source": [
    "xdr = read_xenium(\"out/ometiffscaled3\")\n",
    "xdr.load_all()\n",
    "xdr.show()"
   ]
  },
  {
   "cell_type": "code",
   "execution_count": 35,
   "id": "9f7ea2a8",
   "metadata": {},
   "outputs": [
    {
     "name": "stdout",
     "output_type": "stream",
     "text": [
      "Loading annotations...\n",
      "Loading cells...\n",
      "\tNo alternative cells found...\n",
      "Loading images...\n",
      "['nuclei', 'CD20', 'HER2', 'DAPI', 'HE']\n",
      "Loading regions...\n",
      "No `transcripts` modality found.\n"
     ]
    }
   ],
   "source": [
    "xdr = read_xenium(\"out/ometiffscaled2\")\n",
    "xdr.load_all()\n",
    "xdr.show()"
   ]
  },
  {
   "cell_type": "code",
   "execution_count": null,
   "id": "5f56ea40",
   "metadata": {},
   "outputs": [
    {
     "name": "stdout",
     "output_type": "stream",
     "text": [
      "Loading annotations...\n",
      "Loading cells...\n",
      "\tNo alternative cells found...\n",
      "Loading images...\n"
     ]
    },
    {
     "name": "stderr",
     "output_type": "stream",
     "text": [
      "<tifffile.TiffFile 'nuclei.ome.tif'> OME series level 6 is empty\n",
      "<tifffile.TiffFile 'CD20.ome.tif'> OME series level 6 is empty\n",
      "<tifffile.TiffFile 'HER2.ome.tif'> OME series level 6 is empty\n",
      "<tifffile.TiffFile 'DAPI.ome.tif'> OME series level 6 is empty\n"
     ]
    },
    {
     "name": "stdout",
     "output_type": "stream",
     "text": [
      "['nuclei', 'CD20', 'HER2', 'DAPI', 'HE']\n"
     ]
    },
    {
     "name": "stderr",
     "output_type": "stream",
     "text": [
      "<tifffile.TiffFile 'HE.ome.tif'> OME series level 6 is empty\n"
     ]
    },
    {
     "name": "stdout",
     "output_type": "stream",
     "text": [
      "Loading regions...\n",
      "No `transcripts` modality found.\n"
     ]
    }
   ],
   "source": [
    "xdr = read_xenium(\"out/ometiffscaled\")\n",
    "xdr.load_all()\n",
    "xdr.show()"
   ]
  },
  {
   "cell_type": "code",
   "execution_count": 32,
   "id": "530ed9ab",
   "metadata": {},
   "outputs": [
    {
     "name": "stdout",
     "output_type": "stream",
     "text": [
      "Loading annotations...\n",
      "Loading cells...\n",
      "\tNo alternative cells found...\n",
      "Loading images...\n"
     ]
    },
    {
     "name": "stderr",
     "output_type": "stream",
     "text": [
      "<tifffile.TiffFile 'nuclei.ome.tif'> OME series level 6 is empty\n",
      "<tifffile.TiffFile 'CD20.ome.tif'> OME series level 6 is empty\n",
      "<tifffile.TiffFile 'HER2.ome.tif'> OME series level 6 is empty\n"
     ]
    },
    {
     "name": "stdout",
     "output_type": "stream",
     "text": [
      "['nuclei', 'CD20', 'HER2', 'DAPI', 'HE']\n"
     ]
    },
    {
     "name": "stderr",
     "output_type": "stream",
     "text": [
      "<tifffile.TiffFile 'DAPI.ome.tif'> OME series level 6 is empty\n",
      "<tifffile.TiffFile 'HE.ome.tif'> OME series level 6 is empty\n"
     ]
    },
    {
     "name": "stdout",
     "output_type": "stream",
     "text": [
      "Loading regions...\n",
      "No `transcripts` modality found.\n"
     ]
    }
   ],
   "source": [
    "xdr = read_xenium(\"out/ometiffscaled\")\n",
    "xdr.load_all()\n",
    "xdr.show()"
   ]
  },
  {
   "cell_type": "code",
   "execution_count": 118,
   "id": "d4939982",
   "metadata": {},
   "outputs": [
    {
     "data": {
      "text/plain": [
       "{'run_name': 'PREVIEW: Human Breast Cancer',\n",
       " 'run_start_time': '',\n",
       " 'region_name': 'Replicate 1',\n",
       " 'preservation_method': 'ffpe',\n",
       " 'num_cells': 167780,\n",
       " 'transcripts_per_cell': 166.0,\n",
       " 'transcripts_per_100um': 105.9945809453222,\n",
       " 'cassette_name': 'human_breast_cancer_SIM1',\n",
       " 'slide_id': '0001879',\n",
       " 'panel_design_id': 'PD_260',\n",
       " 'panel_name': 'Breast Cancer Tumor Microenvironment',\n",
       " 'panel_organism': 'Human',\n",
       " 'panel_tissue_type': 'Breast',\n",
       " 'panel_num_targets_predesigned': 280,\n",
       " 'panel_num_targets_custom': 33,\n",
       " 'pixel_size': 1,\n",
       " 'instrument_sn': 'Xenium prototype instrument',\n",
       " 'instrument_sw_version': 'Development',\n",
       " 'analysis_sw_version': 'Xenium-1.0.1',\n",
       " 'experiment_uuid': '',\n",
       " 'cassette_uuid': '',\n",
       " 'roi_uuid': '',\n",
       " 'z_step_size': 3.0,\n",
       " 'well_uuid': '',\n",
       " 'images': {'morphology_filepath': 'morphology.ome.tif',\n",
       "  'morphology_mip_filepath': 'morphology_mip.ome.tif',\n",
       "  'morphology_focus_filepath': 'morphology_focus.ome.tif',\n",
       "  'registered_CD20_filepath': '../registered_images/0001879__Replicate 1__CD20__registered.ome.tif',\n",
       "  'registered_HER2_filepath': '../registered_images/0001879__Replicate 1__HER2__registered.ome.tif',\n",
       "  'registered_DAPI_filepath': '../registered_images/0001879__Replicate 1__DAPI__registered.ome.tif',\n",
       "  'registered_HE_filepath': '../registered_images/0001879__Replicate 1__HE__registered.ome.tif'},\n",
       " 'xenium_explorer_files': {'transcripts_zarr_filepath': 'transcripts.zarr.zip',\n",
       "  'cells_zarr_filepath': 'cells.zarr.zip',\n",
       "  'cell_features_zarr_filepath': 'cell_feature_matrix.zarr.zip',\n",
       "  'analysis_zarr_filepath': 'analysis.zarr.zip',\n",
       "  'analysis_summary_filepath': 'analysis_summary.html'}}"
      ]
     },
     "execution_count": 118,
     "metadata": {},
     "output_type": "execute_result"
    }
   ],
   "source": [
    "xdr.metadata['xenium']"
   ]
  },
  {
   "cell_type": "code",
   "execution_count": 30,
   "id": "c2262d41",
   "metadata": {},
   "outputs": [
    {
     "name": "stdout",
     "output_type": "stream",
     "text": [
      "Saving data to out\\zarr\n",
      "Saved.\n"
     ]
    }
   ],
   "source": [
    "xdcrop.saveas(\"out/zarr\", images_as_zarr=True, overwrite=True)"
   ]
  },
  {
   "cell_type": "code",
   "execution_count": 107,
   "id": "348ca0e1",
   "metadata": {},
   "outputs": [
    {
     "data": {
      "text/plain": [
       "{'data': {'images': {'nuclei': 'images/nuclei.ome.tif',\n",
       "   'CD20': 'images/CD20.ome.tif',\n",
       "   'HER2': 'images/HER2.ome.tif',\n",
       "   'DAPI': 'images/DAPI.ome.tif',\n",
       "   'HE': 'images/HE.ome.tif'},\n",
       "  'cells': 'cells/241127-094145469589-50baee6c',\n",
       "  'annotations': 'annotations/241127-094146684641-3495a0c5',\n",
       "  'regions': 'regions/241127-094146728605-5f3eb957'},\n",
       " 'history': {'cells': [], 'annotations': [], 'regions': []},\n",
       " 'path': 'c:/Users/ge37voy/Github/InSituPy/notebooks/dev/out/ometiffscaled2',\n",
       " 'metadata_file': '.ispy',\n",
       " 'uids': ['af7a19d3-f49b-4baf-b121-d860c5430124',\n",
       "  '791a7f0a-194e-45a5-8358-d7062c4f40e6'],\n",
       " 'method': 'Xenium',\n",
       " 'slide_id': '0001879',\n",
       " 'sample_id': 'Replicate 1',\n",
       " 'version': '1.4.0',\n",
       " 'cropping_history': {'xlim': [[1000, 2000]], 'ylim': [[1000, 2000]]},\n",
       " 'xenium': {'run_name': 'PREVIEW: Human Breast Cancer',\n",
       "  'run_start_time': '',\n",
       "  'region_name': 'Replicate 1',\n",
       "  'preservation_method': 'ffpe',\n",
       "  'num_cells': 167780,\n",
       "  'transcripts_per_cell': 166.0,\n",
       "  'transcripts_per_100um': 105.9945809453222,\n",
       "  'cassette_name': 'human_breast_cancer_SIM1',\n",
       "  'slide_id': '0001879',\n",
       "  'panel_design_id': 'PD_260',\n",
       "  'panel_name': 'Breast Cancer Tumor Microenvironment',\n",
       "  'panel_organism': 'Human',\n",
       "  'panel_tissue_type': 'Breast',\n",
       "  'panel_num_targets_predesigned': 280,\n",
       "  'panel_num_targets_custom': 33,\n",
       "  'pixel_size': 0.2125,\n",
       "  'instrument_sn': 'Xenium prototype instrument',\n",
       "  'instrument_sw_version': 'Development',\n",
       "  'analysis_sw_version': 'Xenium-1.0.1',\n",
       "  'experiment_uuid': '',\n",
       "  'cassette_uuid': '',\n",
       "  'roi_uuid': '',\n",
       "  'z_step_size': 3.0,\n",
       "  'well_uuid': '',\n",
       "  'images': {'morphology_filepath': 'morphology.ome.tif',\n",
       "   'morphology_mip_filepath': 'morphology_mip.ome.tif',\n",
       "   'morphology_focus_filepath': 'morphology_focus.ome.tif',\n",
       "   'registered_CD20_filepath': '../registered_images/0001879__Replicate 1__CD20__registered.ome.tif',\n",
       "   'registered_HER2_filepath': '../registered_images/0001879__Replicate 1__HER2__registered.ome.tif',\n",
       "   'registered_DAPI_filepath': '../registered_images/0001879__Replicate 1__DAPI__registered.ome.tif',\n",
       "   'registered_HE_filepath': '../registered_images/0001879__Replicate 1__HE__registered.ome.tif'},\n",
       "  'xenium_explorer_files': {'transcripts_zarr_filepath': 'transcripts.zarr.zip',\n",
       "   'cells_zarr_filepath': 'cells.zarr.zip',\n",
       "   'cell_features_zarr_filepath': 'cell_feature_matrix.zarr.zip',\n",
       "   'analysis_zarr_filepath': 'analysis.zarr.zip',\n",
       "   'analysis_summary_filepath': 'analysis_summary.html'}}}"
      ]
     },
     "execution_count": 107,
     "metadata": {},
     "output_type": "execute_result"
    }
   ],
   "source": [
    "xdr.metadata"
   ]
  },
  {
   "cell_type": "code",
   "execution_count": 81,
   "id": "245d982c",
   "metadata": {},
   "outputs": [
    {
     "data": {
      "text/plain": [
       "0.2125"
      ]
     },
     "execution_count": 81,
     "metadata": {},
     "output_type": "execute_result"
    }
   ],
   "source": [
    "img_metadata['pixel_size']"
   ]
  },
  {
   "cell_type": "code",
   "execution_count": 82,
   "id": "8b5165ac",
   "metadata": {},
   "outputs": [],
   "source": [
    "img_metadata['pixel_size'] *= 4"
   ]
  },
  {
   "cell_type": "code",
   "execution_count": 83,
   "id": "5ccf7116",
   "metadata": {},
   "outputs": [
    {
     "data": {
      "text/plain": [
       "0.85"
      ]
     },
     "execution_count": 83,
     "metadata": {},
     "output_type": "execute_result"
    }
   ],
   "source": [
    "img_metadata['pixel_size']"
   ]
  },
  {
   "cell_type": "code",
   "execution_count": 91,
   "id": "9e7d1887",
   "metadata": {},
   "outputs": [
    {
     "data": {
      "text/plain": [
       "'0.2125'"
      ]
     },
     "execution_count": 91,
     "metadata": {},
     "output_type": "execute_result"
    }
   ],
   "source": [
    "img_metadata['OME']['Image']['Pixels']['PhysicalSizeX']"
   ]
  },
  {
   "cell_type": "code",
   "execution_count": 93,
   "id": "3d6da36e",
   "metadata": {},
   "outputs": [
    {
     "data": {
      "text/plain": [
       "'0.2125'"
      ]
     },
     "execution_count": 93,
     "metadata": {},
     "output_type": "execute_result"
    }
   ],
   "source": [
    "img_metadata['OME']['Image']['Pixels']['PhysicalSizeY']"
   ]
  },
  {
   "cell_type": "code",
   "execution_count": 92,
   "id": "ff3c3ab6",
   "metadata": {},
   "outputs": [
    {
     "data": {
      "text/plain": [
       "{'filename': 'nuclei.zarr',\n",
       " 'shape': (4706, 4706),\n",
       " 'axes': 'YX',\n",
       " 'OME': {'Creator': 'tifffile.py 2021.4.8',\n",
       "  'Image': {'ID': 'Image:0',\n",
       "   'InstrumentRef': {'ID': 'Instrument:1'},\n",
       "   'Name': 'Image0',\n",
       "   'Pixels': {'Channel': {'Color': '-1',\n",
       "     'ID': 'Channel:0:0',\n",
       "     'Name': 'DAPI',\n",
       "     'SamplesPerPixel': '1'},\n",
       "    'DimensionOrder': 'XYZCT',\n",
       "    'ID': 'Pixels:0',\n",
       "    'PhysicalSizeX': '0.2125',\n",
       "    'PhysicalSizeY': '0.2125',\n",
       "    'SizeC': '1',\n",
       "    'SizeT': '1',\n",
       "    'SizeX': '35416',\n",
       "    'SizeY': '25778',\n",
       "    'SizeZ': '1',\n",
       "    'TiffData': {'PlaneCount': '1'},\n",
       "    'Type': 'uint16'}},\n",
       "  'Instrument': {'ID': 'Instrument:1',\n",
       "   'Microscope': {'Manufacturer': '10x Genomics', 'Model': 'Xenium'}},\n",
       "  'Plate': {'ID': 'Plate:1',\n",
       "   'WellOriginX': '-0.0',\n",
       "   'WellOriginXUnit': 'µm',\n",
       "   'WellOriginY': '-0.0',\n",
       "   'WellOriginYUnit': 'µm'},\n",
       "  'UUID': 'urn:uuid:a73aa686-7468-11ed-89c9-06acdb970e37',\n",
       "  'xmlns': 'http://www.openmicroscopy.org/Schemas/OME/2016-06',\n",
       "  'xmlns:xsi': 'http://www.w3.org/2001/XMLSchema-instance',\n",
       "  'xsi:schemaLocation': 'http://www.openmicroscopy.org/Schemas/OME/2016-06 http://www.openmicroscopy.org/Schemas/OME/2016-06/ome.xsd'},\n",
       " 'rgb': False,\n",
       " 'contrast_limits': (0, 5656),\n",
       " 'pixel_size': 0.85,\n",
       " 'cropping_xlim': (1000, 2000),\n",
       " 'cropping_ylim': (1000, 2000)}"
      ]
     },
     "execution_count": 92,
     "metadata": {},
     "output_type": "execute_result"
    }
   ],
   "source": [
    "img_metadata"
   ]
  }
 ],
 "metadata": {
  "kernelspec": {
   "display_name": "insitupy",
   "language": "python",
   "name": "python3"
  },
  "language_info": {
   "codemirror_mode": {
    "name": "ipython",
    "version": 3
   },
   "file_extension": ".py",
   "mimetype": "text/x-python",
   "name": "python",
   "nbconvert_exporter": "python",
   "pygments_lexer": "ipython3",
   "version": "3.9.18"
  }
 },
 "nbformat": 4,
 "nbformat_minor": 5
}
