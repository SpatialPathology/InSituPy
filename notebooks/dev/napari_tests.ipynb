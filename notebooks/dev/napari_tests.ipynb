{
 "cells": [
  {
   "cell_type": "code",
   "execution_count": 5,
   "metadata": {},
   "outputs": [
    {
     "name": "stderr",
     "output_type": "stream",
     "text": [
      "WARNING: QWindowsWindow::setGeometry: Unable to set geometry 853x533+2560-1192 (frame: 869x572+2552-1223) on QWidgetWindow/\"_QtMainWindowClassWindow\" on \"\\\\.\\DISPLAY10\". Resulting geometry: 567x653+2557-1206 (frame: 583x692+2549-1237) margins: 8, 31, 8, 8 minimum size: 385x492 MINMAXINFO maxSize=0,0 maxpos=0,0 mintrack=401,531 maxtrack=0,0)\n"
     ]
    },
    {
     "ename": "IndexError",
     "evalue": "tuple index out of range",
     "output_type": "error",
     "traceback": [
      "\u001b[1;31m---------------------------------------------------------------------------\u001b[0m",
      "\u001b[1;31mIndexError\u001b[0m                                Traceback (most recent call last)",
      "Cell \u001b[1;32mIn[5], line 35\u001b[0m\n\u001b[0;32m     32\u001b[0m     properties \u001b[38;5;241m=\u001b[39m {\u001b[38;5;124m'\u001b[39m\u001b[38;5;124mrandom_property\u001b[39m\u001b[38;5;124m'\u001b[39m: np\u001b[38;5;241m.\u001b[39mrandom\u001b[38;5;241m.\u001b[39mrandint(\u001b[38;5;241m0\u001b[39m, \u001b[38;5;241m10\u001b[39m)}\n\u001b[0;32m     33\u001b[0m     shapes_data\u001b[38;5;241m.\u001b[39mappend({\u001b[38;5;124m'\u001b[39m\u001b[38;5;124mdata\u001b[39m\u001b[38;5;124m'\u001b[39m: vertices, \u001b[38;5;124m'\u001b[39m\u001b[38;5;124mtype\u001b[39m\u001b[38;5;124m'\u001b[39m: \u001b[38;5;124m'\u001b[39m\u001b[38;5;124mpolygon\u001b[39m\u001b[38;5;124m'\u001b[39m, \u001b[38;5;124m'\u001b[39m\u001b[38;5;124mproperties\u001b[39m\u001b[38;5;124m'\u001b[39m: properties})\n\u001b[1;32m---> 35\u001b[0m \u001b[43mviewer\u001b[49m\u001b[38;5;241;43m.\u001b[39;49m\u001b[43madd_shapes\u001b[49m\u001b[43m(\u001b[49m\u001b[43mshapes_data\u001b[49m\u001b[43m)\u001b[49m\n\u001b[0;32m     37\u001b[0m \u001b[38;5;66;03m# Open the napari viewer\u001b[39;00m\n\u001b[0;32m     38\u001b[0m napari\u001b[38;5;241m.\u001b[39mrun()\n",
      "File \u001b[1;32m~\\AppData\\Local\\miniconda3\\envs\\insitupy\\lib\\site-packages\\napari\\components\\viewer_model.py:4\u001b[0m, in \u001b[0;36madd_shapes\u001b[1;34m(self, data, ndim, features, feature_defaults, properties, property_choices, text, shape_type, edge_width, edge_color, edge_color_cycle, edge_colormap, edge_contrast_limits, face_color, face_color_cycle, face_colormap, face_contrast_limits, z_index, name, metadata, scale, translate, rotate, shear, affine, opacity, blending, visible, cache, experimental_clipping_planes)\u001b[0m\n\u001b[0;32m      1\u001b[0m \u001b[38;5;28;01mfrom\u001b[39;00m \u001b[38;5;21;01m__future__\u001b[39;00m \u001b[38;5;28;01mimport\u001b[39;00m annotations\n\u001b[0;32m      3\u001b[0m \u001b[38;5;28;01mimport\u001b[39;00m \u001b[38;5;21;01minspect\u001b[39;00m\n\u001b[1;32m----> 4\u001b[0m \u001b[38;5;28;01mimport\u001b[39;00m \u001b[38;5;21;01mitertools\u001b[39;00m\n\u001b[0;32m      5\u001b[0m \u001b[38;5;28;01mimport\u001b[39;00m \u001b[38;5;21;01mos\u001b[39;00m\n\u001b[0;32m      6\u001b[0m \u001b[38;5;28;01mimport\u001b[39;00m \u001b[38;5;21;01mwarnings\u001b[39;00m\n",
      "File \u001b[1;32m~\\AppData\\Local\\miniconda3\\envs\\insitupy\\lib\\site-packages\\napari\\layers\\shapes\\shapes.py:435\u001b[0m, in \u001b[0;36mShapes.__init__\u001b[1;34m(self, data, ndim, features, feature_defaults, properties, property_choices, text, shape_type, edge_width, edge_color, edge_color_cycle, edge_colormap, edge_contrast_limits, face_color, face_color_cycle, face_colormap, face_contrast_limits, z_index, name, metadata, scale, translate, rotate, shear, affine, opacity, blending, visible, cache, experimental_clipping_planes)\u001b[0m\n\u001b[0;32m    433\u001b[0m \u001b[38;5;28;01melse\u001b[39;00m:\n\u001b[0;32m    434\u001b[0m     data, shape_type \u001b[38;5;241m=\u001b[39m extract_shape_type(data, shape_type)\n\u001b[1;32m--> 435\u001b[0m     data_ndim \u001b[38;5;241m=\u001b[39m \u001b[43mget_shape_ndim\u001b[49m\u001b[43m(\u001b[49m\u001b[43mdata\u001b[49m\u001b[43m)\u001b[49m\n\u001b[0;32m    436\u001b[0m     \u001b[38;5;28;01mif\u001b[39;00m ndim \u001b[38;5;129;01mis\u001b[39;00m \u001b[38;5;129;01mnot\u001b[39;00m \u001b[38;5;28;01mNone\u001b[39;00m \u001b[38;5;129;01mand\u001b[39;00m ndim \u001b[38;5;241m!=\u001b[39m data_ndim:\n\u001b[0;32m    437\u001b[0m         \u001b[38;5;28;01mraise\u001b[39;00m \u001b[38;5;167;01mValueError\u001b[39;00m(\n\u001b[0;32m    438\u001b[0m             trans\u001b[38;5;241m.\u001b[39m_(\n\u001b[0;32m    439\u001b[0m                 \u001b[38;5;124m\"\u001b[39m\u001b[38;5;124mShape dimensions must be equal to ndim\u001b[39m\u001b[38;5;124m\"\u001b[39m,\n\u001b[0;32m    440\u001b[0m                 deferred\u001b[38;5;241m=\u001b[39m\u001b[38;5;28;01mTrue\u001b[39;00m,\n\u001b[0;32m    441\u001b[0m             )\n\u001b[0;32m    442\u001b[0m         )\n",
      "File \u001b[1;32m~\\AppData\\Local\\miniconda3\\envs\\insitupy\\lib\\site-packages\\napari\\layers\\shapes\\_shapes_utils.py:1067\u001b[0m, in \u001b[0;36mget_shape_ndim\u001b[1;34m(data)\u001b[0m\n\u001b[0;32m   1064\u001b[0m     ndim \u001b[38;5;241m=\u001b[39m np\u001b[38;5;241m.\u001b[39marray(data)\u001b[38;5;241m.\u001b[39mshape[\u001b[38;5;241m1\u001b[39m]\n\u001b[0;32m   1065\u001b[0m \u001b[38;5;66;03m# list of different shapes\u001b[39;00m\n\u001b[0;32m   1066\u001b[0m \u001b[38;5;28;01melse\u001b[39;00m:\n\u001b[1;32m-> 1067\u001b[0m     ndim \u001b[38;5;241m=\u001b[39m \u001b[43mnp\u001b[49m\u001b[38;5;241;43m.\u001b[39;49m\u001b[43marray\u001b[49m\u001b[43m(\u001b[49m\u001b[43mdata\u001b[49m\u001b[43m[\u001b[49m\u001b[38;5;241;43m0\u001b[39;49m\u001b[43m]\u001b[49m\u001b[43m)\u001b[49m\u001b[38;5;241;43m.\u001b[39;49m\u001b[43mshape\u001b[49m\u001b[43m[\u001b[49m\u001b[38;5;241;43m1\u001b[39;49m\u001b[43m]\u001b[49m\n\u001b[0;32m   1068\u001b[0m \u001b[38;5;28;01mreturn\u001b[39;00m ndim\n",
      "\u001b[1;31mIndexError\u001b[0m: tuple index out of range"
     ]
    }
   ],
   "source": [
    "import napari\n",
    "import numpy as np\n",
    "from napari.layers.shapes.shapes import Shapes\n",
    "\n",
    "# Create a napari viewer\n",
    "viewer = napari.Viewer()\n",
    "\n",
    "def print_event(event):\n",
    "    if event is not None:\n",
    "        if event.action == 'add':\n",
    "            print('added')\n",
    "            # Access and modify the properties attribute\n",
    "            layer = event.source\n",
    "            layer.properties['custom_property'] = 'custom_value'\n",
    "\n",
    "        elif event.action == 'remove':\n",
    "            print('removed')\n",
    "\n",
    "# Connect the function to all shapes layers in the viewer\n",
    "def connect_to_all_shapes_layers(event):\n",
    "    layer = event.source[event.index]\n",
    "    if event is not None and isinstance(layer, Shapes):\n",
    "        layer.events.data.connect(print_event)\n",
    "\n",
    "# Connect the function to any new layers added to the viewer\n",
    "viewer.layers.events.inserted.connect(connect_to_all_shapes_layers)\n",
    "\n",
    "# Add three random triangles with random properties to the same layer\n",
    "shapes_data = []\n",
    "for _ in range(3):\n",
    "    vertices = np.random.rand(3, 2) * 512  # Random vertices for a triangle\n",
    "    properties = {'random_property': np.random.randint(0, 10)}\n",
    "    shapes_data.append({'data': vertices, 'type': 'polygon', 'properties': properties})\n",
    "\n",
    "viewer.add_shapes(shapes_data)\n",
    "\n",
    "# Open the napari viewer\n",
    "napari.run()\n"
   ]
  },
  {
   "cell_type": "code",
   "execution_count": 7,
   "metadata": {},
   "outputs": [
    {
     "data": {
      "text/plain": [
       "array([], dtype=object)"
      ]
     },
     "execution_count": 7,
     "metadata": {},
     "output_type": "execute_result"
    }
   ],
   "source": [
    "np.array([], dtype=\"object\")"
   ]
  },
  {
   "cell_type": "code",
   "execution_count": 2,
   "metadata": {},
   "outputs": [
    {
     "name": "stderr",
     "output_type": "stream",
     "text": [
      "WARNING: QWindowsWindow::setGeometry: Unable to set geometry 853x533+2557-1199 (frame: 869x572+2549-1230) on QWidgetWindow/\"_QtMainWindowClassWindow\" on \"\\\\.\\DISPLAY10\". Resulting geometry: 567x653+2554-1213 (frame: 583x692+2546-1244) margins: 8, 31, 8, 8 minimum size: 385x492 MINMAXINFO maxSize=0,0 maxpos=0,0 mintrack=401,531 maxtrack=0,0)\n"
     ]
    },
    {
     "name": "stdout",
     "output_type": "stream",
     "text": [
      "added\n",
      "{}\n",
      "added\n",
      "{}\n",
      "added\n",
      "{}\n"
     ]
    }
   ],
   "source": [
    "import napari\n",
    "import numpy as np\n",
    "from napari.layers.shapes.shapes import Shapes\n",
    "\n",
    "# Create a napari viewer\n",
    "viewer = napari.Viewer()\n",
    "\n",
    "def print_event(event):\n",
    "    if event is not None:\n",
    "        if event.action == 'add':\n",
    "            print('added')\n",
    "            # Access and modify the properties attribute\n",
    "            layer = event.source\n",
    "            layer.properties['custom_property'] = 'custom_value'\n",
    "\n",
    "        elif event.action == 'remove':\n",
    "            print('removed')\n",
    "\n",
    "        print(layer.properties)\n",
    "\n",
    "# Connect the function to all shapes layers in the viewer\n",
    "def connect_to_all_shapes_layers(event):\n",
    "    layer = event.source[event.index]\n",
    "    if event is not None and isinstance(layer, Shapes):\n",
    "        layer.events.data.connect(print_event)\n",
    "\n",
    "# Connect the function to any new layers added to the viewer\n",
    "viewer.layers.events.inserted.connect(connect_to_all_shapes_layers)\n",
    "\n",
    "# Open the napari viewer\n",
    "napari.run()\n"
   ]
  },
  {
   "cell_type": "code",
   "execution_count": null,
   "metadata": {},
   "outputs": [],
   "source": []
  },
  {
   "cell_type": "code",
   "execution_count": null,
   "metadata": {},
   "outputs": [],
   "source": []
  },
  {
   "cell_type": "code",
   "execution_count": 1,
   "metadata": {},
   "outputs": [],
   "source": [
    "import sys \n",
    "import traceback\n",
    "\n",
    "def my_excepthook(type_, value, trace_back):\n",
    "    traceback.print_exception(type, value, trace_back, file=sys.stdout)\n",
    "\n",
    "sys.excepthook = my_excepthook"
   ]
  },
  {
   "cell_type": "code",
   "execution_count": 2,
   "metadata": {},
   "outputs": [
    {
     "data": {
      "text/plain": [
       "<napari._qt.widgets.qt_viewer_dock_widget.QtViewerDockWidget at 0x22057b32ca0>"
      ]
     },
     "execution_count": 2,
     "metadata": {},
     "output_type": "execute_result"
    }
   ],
   "source": [
    "import napari\n",
    "import numpy as np\n",
    "from napari.layers import Image\n",
    "from magicgui import magicgui\n",
    "\n",
    "@magicgui(image={'label': 'Pick an Image'})\n",
    "def my_widget(image: Image):\n",
    "    raise ValueError(\"Error\")\n",
    "    print('hello')\n",
    "\n",
    "viewer = napari.view_image(np.random.rand(64, 64), name=\"My Image\")\n",
    "viewer.window.add_dock_widget(my_widget)"
   ]
  },
  {
   "cell_type": "code",
   "execution_count": 7,
   "metadata": {},
   "outputs": [],
   "source": [
    "import napari\n",
    "import numpy as np\n",
    "from skimage import data\n",
    "\n",
    "# create the list of polygons\n",
    "triangle = np.array([[11, 13], [111, 113], [22, 246]])\n",
    "\n",
    "person = np.array([[505, 60], [402, 71], [383, 42], [251, 95], [212, 59],\n",
    "                   [131, 137], [126, 187], [191, 204], [171, 248], [211, 260],\n",
    "                   [273, 243], [264, 225], [430, 173], [512, 160]])\n",
    "\n",
    "building = np.array([[310, 382], [229, 381], [209, 401], [221, 411],\n",
    "                     [258, 411], [300, 412], [306, 435], [268, 434],\n",
    "                     [265, 454], [298, 461], [307, 461], [307, 507],\n",
    "                     [349, 510], [352, 369], [330, 366], [330, 366]])\n",
    "\n",
    "polygons = [triangle, person, building]\n",
    "\n",
    "# add the image\n",
    "viewer = napari.view_image(data.camera(), name='photographer')\n",
    "\n",
    "# add the polygons\n",
    "shapes_layer = viewer.add_shapes(polygons,\n",
    "                                 properties={\n",
    "                                     'id': list(\"ABC\")\n",
    "                                     },\n",
    "                                 shape_type='polygon', \n",
    "                                 edge_width=5,\n",
    "                                 edge_color='coral', \n",
    "                                 face_color='royalblue')"
   ]
  },
  {
   "cell_type": "code",
   "execution_count": 6,
   "metadata": {},
   "outputs": [
    {
     "data": {
      "text/plain": [
       "{'id': array(['A', 'B', 'C'], dtype=object)}"
      ]
     },
     "execution_count": 6,
     "metadata": {},
     "output_type": "execute_result"
    }
   ],
   "source": [
    "shapes_layer.properties"
   ]
  },
  {
   "cell_type": "code",
   "execution_count": 27,
   "metadata": {},
   "outputs": [
    {
     "data": {
      "image/png": "[encoded data removed]",
      "text/plain": [
       "<FunctionGui widget_demo(string='')>"
      ]
     },
     "execution_count": 27,
     "metadata": {},
     "output_type": "execute_result"
    },
    {
     "name": "stdout",
     "output_type": "stream",
     "text": [
      "asfd\n"
     ]
    }
   ],
   "source": [
    "from magicgui import magicgui\n",
    "\n",
    "@magicgui(\n",
    "    call_button=\"Print\",\n",
    "    string={'label': 'blubb'}\n",
    ")\n",
    "def widget_demo(\n",
    "    string=\"\"\n",
    "):\n",
    "    if string != \"\":\n",
    "        print(string)\n",
    "    widget_demo.string.value = \"\"\n",
    "\n",
    "widget_demo.show(run=True)"
   ]
  },
  {
   "cell_type": "code",
   "execution_count": 30,
   "metadata": {},
   "outputs": [
    {
     "data": {
      "image/png": "[encoded data removed]",
      "text/plain": [
       "<FunctionGui widget_demo(string='')>"
      ]
     },
     "execution_count": 30,
     "metadata": {},
     "output_type": "execute_result"
    },
    {
     "name": "stdout",
     "output_type": "stream",
     "text": [
      "sfdf\n"
     ]
    }
   ],
   "source": [
    "from magicgui import magicgui\n",
    "\n",
    "@magicgui(\n",
    "    call_button=\"Print\",\n",
    ")\n",
    "def widget_demo(\n",
    "    string=\"\"\n",
    "):\n",
    "    if string != \"\":\n",
    "        print(string)\n",
    "        string = \"\"\n",
    "        \n",
    "    widget_demo.string.value = \"\"\n",
    "\n",
    "widget_demo.show(run=True)"
   ]
  },
  {
   "cell_type": "code",
   "execution_count": 23,
   "metadata": {},
   "outputs": [
    {
     "data": {
      "image/png": "[encoded data removed]",
      "text/plain": [
       "<FunctionGui widget_demo(string='<function _set_string at 0x000001BAEF95F940>')>"
      ]
     },
     "execution_count": 23,
     "metadata": {},
     "output_type": "execute_result"
    }
   ],
   "source": [
    "from magicgui import magicgui\n",
    "\n",
    "def _set_string():\n",
    "    return \"\"\n",
    "\n",
    "@magicgui(\n",
    "    call_button=\"Print\",\n",
    "    string={'value': _set_string}\n",
    ")\n",
    "def widget_demo(\n",
    "    string=\"\"\n",
    "):\n",
    "    if string != \"\":\n",
    "        print(string)\n",
    "    \n",
    "\n",
    "widget_demo.show(run=True)"
   ]
  },
  {
   "cell_type": "code",
   "execution_count": 3,
   "metadata": {},
   "outputs": [],
   "source": [
    "import napari\n",
    "from qtpy.QtWidgets import QVBoxLayout, QSlider, QLabel, QWidget\n",
    "import numpy as np\n",
    "\n",
    "def create_points_layer(viewer, num_points):\n",
    "    # Generate random points\n",
    "    points = np.random.rand(num_points, 2) * 512\n",
    "\n",
    "    # Add points layer to the viewer\n",
    "    points_layer = viewer.add_points(points, size=5, face_color='red', symbol='o', name='points')\n",
    "    viewer.reset_view()\n",
    "\n",
    "def update_points_layer(value):\n",
    "    # Update the number of points when the slider is changed\n",
    "    create_points_layer(viewer, value)\n",
    "\n",
    "# Create a Napari viewer\n",
    "viewer = napari.Viewer()\n",
    "\n",
    "# Create a Qt widget with a slider\n",
    "widget = QWidget()\n",
    "layout = QVBoxLayout()\n",
    "\n",
    "slider_label = QLabel(\"Number of Points:\")\n",
    "layout.addWidget(slider_label)\n",
    "\n",
    "slider = QSlider()\n",
    "slider.setOrientation(1)  # 1 means vertical orientation\n",
    "slider.setRange(1, 100)\n",
    "slider.setValue(10)  # Default number of points\n",
    "layout.addWidget(slider)\n",
    "\n",
    "widget.setLayout(layout)\n",
    "\n",
    "# Connect the slider's valueChanged signal to the update_points_layer function\n",
    "slider.valueChanged.connect(update_points_layer)\n",
    "\n",
    "# Add the widget to the Napari viewer\n",
    "viewer.window.add_dock_widget(widget, area='right')\n",
    "\n",
    "# Initialize the viewer with a default number of points\n",
    "create_points_layer(viewer, slider.value())\n",
    "\n",
    "# Start the Napari event loop\n",
    "napari.run()\n"
   ]
  },
  {
   "cell_type": "code",
   "execution_count": 4,
   "metadata": {},
   "outputs": [],
   "source": [
    "import napari\n",
    "from qtpy.QtWidgets import QVBoxLayout, QSlider, QLabel, QWidget\n",
    "import numpy as np\n",
    "\n",
    "def create_or_update_points_layer(viewer, num_points):\n",
    "    # Check if 'points' layer already exists\n",
    "    if 'points' in viewer.layers:\n",
    "        # Update the existing points layer\n",
    "        viewer.layers['points'].data = np.random.rand(num_points, 2) * 512\n",
    "    else:\n",
    "        # Create a new points layer\n",
    "        points = np.random.rand(num_points, 2) * 512\n",
    "        viewer.add_points(points, size=5, face_color='red', symbol='o', name='points')\n",
    "\n",
    "    viewer.reset_view()\n",
    "\n",
    "def update_points_layer(value):\n",
    "    # Update the points layer when the slider is changed\n",
    "    create_or_update_points_layer(viewer, value)\n",
    "\n",
    "# Create a Napari viewer\n",
    "viewer = napari.Viewer()\n",
    "\n",
    "# Create a Qt widget with a slider\n",
    "widget = QWidget()\n",
    "layout = QVBoxLayout()\n",
    "\n",
    "slider_label = QLabel(\"Number of Points:\")\n",
    "layout.addWidget(slider_label)\n",
    "\n",
    "slider = QSlider()\n",
    "slider.setOrientation(1)  # 1 means vertical orientation\n",
    "slider.setRange(1, 100)\n",
    "slider.setValue(10)  # Default number of points\n",
    "layout.addWidget(slider)\n",
    "\n",
    "widget.setLayout(layout)\n",
    "\n",
    "# Connect the slider's valueChanged signal to the update_points_layer function\n",
    "slider.valueChanged.connect(update_points_layer)\n",
    "\n",
    "# Add the widget to the Napari viewer\n",
    "viewer.window.add_dock_widget(widget, area='right')\n",
    "\n",
    "# Initialize the viewer with a default number of points\n",
    "create_or_update_points_layer(viewer, slider.value())\n",
    "\n",
    "# Start the Napari event loop\n",
    "napari.run()\n"
   ]
  },
  {
   "cell_type": "code",
   "execution_count": null,
   "metadata": {},
   "outputs": [],
   "source": []
  },
  {
   "cell_type": "code",
   "execution_count": 1,
   "metadata": {},
   "outputs": [],
   "source": [
    "import napari\n",
    "import numpy as np\n",
    "\n",
    "# Create a napari viewer\n",
    "viewer = napari.Viewer()\n",
    "\n",
    "# Create an empty shapes layer\n",
    "shapes_layer = viewer.add_shapes()\n",
    "\n",
    "# Function to assign random number between 0 and 10 as a property to the shapes\n",
    "def assign_random_property(event):\n",
    "    if event.added:\n",
    "        print('added')\n",
    "        # num_shapes = len(shapes_layer.data)\n",
    "        # random_values = np.random.randint(0, 11, size=num_shapes)\n",
    "        # shapes_layer.properties['random_property'] = random_values\n",
    "\n",
    "# Connect the function to the shapes layer\n",
    "viewer.layers[\"Shapes\"].events.data.connect(assign_random_property)\n",
    "\n",
    "# Open the napari viewer\n",
    "napari.run()\n"
   ]
  },
  {
   "cell_type": "code",
   "execution_count": 15,
   "metadata": {},
   "outputs": [
    {
     "name": "stderr",
     "output_type": "stream",
     "text": [
      "WARNING: QWindowsWindow::setGeometry: Unable to set geometry 853x533+2560-1192 (frame: 869x572+2552-1223) on QWidgetWindow/\"_QtMainWindowClassWindow\" on \"\\\\.\\DISPLAY10\". Resulting geometry: 567x653+2557-1206 (frame: 583x692+2549-1237) margins: 8, 31, 8, 8 minimum size: 385x492 MINMAXINFO maxSize=0,0 maxpos=0,0 mintrack=401,531 maxtrack=0,0)\n"
     ]
    },
    {
     "name": "stdout",
     "output_type": "stream",
     "text": [
      "added\n",
      "added\n"
     ]
    }
   ],
   "source": [
    "import napari\n",
    "import numpy as np\n",
    "\n",
    "# Create a napari viewer\n",
    "viewer = napari.Viewer()\n",
    "\n",
    "# Create an empty shapes layer\n",
    "shapes_layer = viewer.add_shapes()\n",
    "\n",
    "# Function to assign random number between 0 and 10 as a property to the shapes\n",
    "def assign_random_property(event):\n",
    "    if event is not None:\n",
    "        print('added')\n",
    "        # num_shapes = len(shapes_layer.data)\n",
    "        # random_values = np.random.randint(0, 11, size=num_shapes)\n",
    "        # shapes_layer.properties['random_property'] = random_values\n",
    "\n",
    "# Connect the function to the shapes layer\n",
    "shapes_layer.events.data.connect(assign_random_property)\n",
    "\n",
    "# Open the napari viewer\n",
    "napari.run()\n"
   ]
  },
  {
   "cell_type": "code",
   "execution_count": 1,
   "metadata": {},
   "outputs": [],
   "source": [
    "import napari\n",
    "import numpy as np\n",
    "\n",
    "# Create a napari viewer\n",
    "viewer = napari.Viewer()\n",
    "\n",
    "# Function to assign random number between 0 and 10 as a property to the shapes\n",
    "def assign_random_property(event):\n",
    "    if event is not None:\n",
    "        print('added')\n",
    "        # num_shapes = len(event.source.data)\n",
    "        # random_values = np.random.randint(0, 11, size=num_shapes)\n",
    "        # event.source.properties['random_property'] = random_values\n",
    "\n",
    "# Connect the function to all shapes layers in the viewer\n",
    "def connect_to_all_shapes_layers(event):\n",
    "    if event is not None and event.source.layer_type == 'shapes':\n",
    "        print('blubb')\n",
    "        event.source.events.data.connect(assign_random_property)\n",
    "\n",
    "# Connect the function to any new layers added to the viewer\n",
    "viewer.layers.events.inserted.connect(connect_to_all_shapes_layers)\n",
    "\n",
    "# Open the napari viewer\n",
    "napari.run()\n"
   ]
  },
  {
   "cell_type": "code",
   "execution_count": 8,
   "metadata": {},
   "outputs": [
    {
     "name": "stderr",
     "output_type": "stream",
     "text": [
      "WARNING: QWindowsWindow::setGeometry: Unable to set geometry 853x533+2548-1185 (frame: 869x572+2540-1216) on QWidgetWindow/\"_QtMainWindowClassWindow\" on \"\\\\.\\DISPLAY10\". Resulting geometry: 567x653+2545-1199 (frame: 583x692+2537-1230) margins: 8, 31, 8, 8 minimum size: 385x492 MINMAXINFO maxSize=0,0 maxpos=0,0 mintrack=401,531 maxtrack=0,0)\n"
     ]
    },
    {
     "name": "stdout",
     "output_type": "stream",
     "text": [
      "blubb\n",
      "['__call__', '__class__', '__delattr__', '__dict__', '__dir__', '__doc__', '__eq__', '__format__', '__ge__', '__getattr__', '__getattribute__', '__getitem__', '__gt__', '__hash__', '__init__', '__init_subclass__', '__iter__', '__le__', '__lt__', '__module__', '__ne__', '__new__', '__reduce__', '__reduce_ex__', '__repr__', '__setattr__', '__setitem__', '__sizeof__', '__slotnames__', '__str__', '__subclasshook__', '__weakref__', '_block_counter', '_blocked', '_callback_pass_event', '_callback_refs', '_callbacks', '_check_signature', '_connect_emitters', '_emitters', '_emitters_connected', '_emitting', '_get_proper_name', '_ignore_callback_errors', '_invoke_callback', '_is_core_callback', '_normalize_cb', '_overlays', '_prepare_event', '_print_callback_errors', '_source', 'add', 'affine', 'auto_connect', 'auto_connect_format', 'blending', 'block', 'block_all', 'blocked', 'blocker', 'blocker_all', 'callback_refs', 'callbacks', 'connect', 'current_edge_color', 'current_face_color', 'current_properties', 'cursor', 'cursor_size', 'data', 'default_args', 'deselect', 'disconnect', 'edge_color', 'edge_width', 'editable', 'emitters', 'event_class', 'extent', 'face_color', 'feature_defaults', 'features', 'help', 'highlight', 'ignore_callback_errors', 'interactive', 'loaded', 'mode', 'mouse_pan', 'mouse_zoom', 'name', 'opacity', 'print_callback_errors', 'properties', 'refresh', 'rotate', 'scale', 'select', 'set_data', 'shear', 'source', 'status', 'thumbnail', 'translate', 'unblock', 'unblock_all', 'visible']\n",
      "added\n",
      "added\n"
     ]
    }
   ],
   "source": [
    "import napari\n",
    "import numpy as np\n",
    "from napari.layers.shapes.shapes import Shapes\n",
    "\n",
    "# Create a napari viewer\n",
    "viewer = napari.Viewer()\n",
    "\n",
    "# Function to assign random number between 0 and 10 as a property to the shapes\n",
    "def assign_random_property(event):\n",
    "    if event is not None:\n",
    "        print('added')\n",
    "        # num_shapes = len(event.source.data)\n",
    "        # random_values = np.random.randint(0, 11, size=num_shapes)\n",
    "        # event.source.properties['random_property'] = random_values\n",
    "\n",
    "# Connect the function to all shapes layers in the viewer\n",
    "def connect_to_all_shapes_layers(event):\n",
    "    layer = event.source[event.index]\n",
    "    if event is not None and isinstance(layer, Shapes):\n",
    "        print('blubb')\n",
    "        print(dir(layer.events))\n",
    "        layer.events.data.connect(assign_random_property)\n",
    "\n",
    "# Connect the function to any new layers added to the viewer\n",
    "viewer.layers.events.inserted.connect(connect_to_all_shapes_layers)\n",
    "\n",
    "# Open the napari viewer\n",
    "napari.run()\n"
   ]
  },
  {
   "cell_type": "code",
   "execution_count": null,
   "metadata": {},
   "outputs": [],
   "source": [
    "@viewer."
   ]
  },
  {
   "cell_type": "code",
   "execution_count": 5,
   "metadata": {},
   "outputs": [
    {
     "name": "stderr",
     "output_type": "stream",
     "text": [
      "WARNING: QWindowsWindow::setGeometry: Unable to set geometry 853x533+2548-1192 (frame: 869x572+2540-1223) on QWidgetWindow/\"_QtMainWindowClassWindow\" on \"\\\\.\\DISPLAY10\". Resulting geometry: 567x653+2545-1206 (frame: 583x692+2537-1237) margins: 8, 31, 8, 8 minimum size: 385x492 MINMAXINFO maxSize=0,0 maxpos=0,0 mintrack=401,531 maxtrack=0,0)\n"
     ]
    },
    {
     "name": "stdout",
     "output_type": "stream",
     "text": [
      "['__class__', '__delattr__', '__dict__', '__dir__', '__doc__', '__eq__', '__format__', '__ge__', '__getattr__', '__getattribute__', '__gt__', '__hash__', '__init__', '__init_subclass__', '__le__', '__lt__', '__module__', '__ne__', '__new__', '__reduce__', '__reduce_ex__', '__repr__', '__setattr__', '__sizeof__', '__str__', '__subclasshook__', '__weakref__', '_blocked', '_handled', '_kwargs', '_native', '_pop_source', '_push_source', '_sources', '_type', 'blocked', 'handled', 'index', 'native', 'source', 'sources', 'type', 'value']\n",
      "blocked\n",
      "False\n",
      "handled\n",
      "False\n",
      "index\n",
      "0\n",
      "native\n",
      "None\n",
      "source\n",
      "[<Shapes layer 'Shapes' at 0x209a2dec9a0>]\n",
      "sources\n",
      "[[<Shapes layer 'Shapes' at 0x209a2dec9a0>]]\n",
      "type\n",
      "inserted\n",
      "value\n",
      "Shapes\n",
      "Added: Shapes\n"
     ]
    }
   ],
   "source": [
    "import napari\n",
    "\n",
    "def on_shapes_layer_added(event):\n",
    "    print(dir(event))\n",
    "    for elem in dir(event):\n",
    "        if not elem.startswith(\"_\"):\n",
    "            print(elem)\n",
    "            print(getattr(event, elem))\n",
    "    #layer = event.item\n",
    "    print(f\"Added: {event.value}\")\n",
    "\n",
    "# Create a Napari viewer\n",
    "viewer = napari.Viewer()\n",
    "\n",
    "# Connect the callback function to the `inserted` event\n",
    "viewer.layers.events.inserted.connect(on_shapes_layer_added)\n",
    "\n",
    "# Run the Napari event loop\n",
    "napari.run()\n"
   ]
  },
  {
   "cell_type": "code",
   "execution_count": null,
   "metadata": {},
   "outputs": [],
   "source": []
  },
  {
   "cell_type": "code",
   "execution_count": 29,
   "metadata": {},
   "outputs": [
    {
     "name": "stderr",
     "output_type": "stream",
     "text": [
      "WARNING: QWindowsWindow::setGeometry: Unable to set geometry 853x533+2557-1185 (frame: 869x572+2549-1216) on QWidgetWindow/\"_QtMainWindowClassWindow\" on \"\\\\.\\DISPLAY10\". Resulting geometry: 567x653+2554-1199 (frame: 583x692+2546-1230) margins: 8, 31, 8, 8 minimum size: 385x492 MINMAXINFO maxSize=0,0 maxpos=0,0 mintrack=401,531 maxtrack=0,0)\n"
     ]
    },
    {
     "name": "stdout",
     "output_type": "stream",
     "text": [
      "Added\n"
     ]
    }
   ],
   "source": [
    "import napari\n",
    "\n",
    "def on_shapes_layer_added(event):\n",
    "    print(\"Added\")\n",
    "\n",
    "# Create a Napari viewer\n",
    "viewer = napari.Viewer()\n",
    "\n",
    "# Connect the callback function to the `add_layer` event\n",
    "viewer.layers.events.inserted.connect(on_shapes_layer_added)\n",
    "\n",
    "# Run the Napari event loop\n",
    "napari.run()\n"
   ]
  },
  {
   "cell_type": "code",
   "execution_count": 25,
   "metadata": {},
   "outputs": [
    {
     "data": {
      "text/plain": [
       "['__call__',\n",
       " '__class__',\n",
       " '__delattr__',\n",
       " '__dict__',\n",
       " '__dir__',\n",
       " '__doc__',\n",
       " '__eq__',\n",
       " '__format__',\n",
       " '__ge__',\n",
       " '__getattribute__',\n",
       " '__gt__',\n",
       " '__hash__',\n",
       " '__init__',\n",
       " '__init_subclass__',\n",
       " '__le__',\n",
       " '__lt__',\n",
       " '__module__',\n",
       " '__ne__',\n",
       " '__new__',\n",
       " '__reduce__',\n",
       " '__reduce_ex__',\n",
       " '__repr__',\n",
       " '__setattr__',\n",
       " '__sizeof__',\n",
       " '__slotnames__',\n",
       " '__str__',\n",
       " '__subclasshook__',\n",
       " '__weakref__',\n",
       " '_block_counter',\n",
       " '_blocked',\n",
       " '_callback_pass_event',\n",
       " '_callback_refs',\n",
       " '_callbacks',\n",
       " '_check_signature',\n",
       " '_emitting',\n",
       " '_get_proper_name',\n",
       " '_ignore_callback_errors',\n",
       " '_invoke_callback',\n",
       " '_is_core_callback',\n",
       " '_normalize_cb',\n",
       " '_prepare_event',\n",
       " '_print_callback_errors',\n",
       " '_source',\n",
       " '_vispy_err_registry',\n",
       " 'block',\n",
       " 'blocked',\n",
       " 'blocker',\n",
       " 'callback_refs',\n",
       " 'callbacks',\n",
       " 'connect',\n",
       " 'default_args',\n",
       " 'disconnect',\n",
       " 'event_class',\n",
       " 'ignore_callback_errors',\n",
       " 'print_callback_errors',\n",
       " 'source',\n",
       " 'unblock']"
      ]
     },
     "execution_count": 25,
     "metadata": {},
     "output_type": "execute_result"
    }
   ],
   "source": [
    "dir(viewer.layers.events.inserted)"
   ]
  },
  {
   "cell_type": "code",
   "execution_count": null,
   "metadata": {},
   "outputs": [],
   "source": []
  },
  {
   "cell_type": "code",
   "execution_count": null,
   "metadata": {},
   "outputs": [],
   "source": []
  },
  {
   "cell_type": "code",
   "execution_count": 12,
   "metadata": {},
   "outputs": [
    {
     "name": "stdout",
     "output_type": "stream",
     "text": [
      "hey\n",
      "hey\n",
      "hey\n",
      "hey\n",
      "hey\n",
      "hey\n",
      "hey\n",
      "hey\n",
      "hey\n",
      "hey\n",
      "hey\n",
      "hey\n",
      "hey\n",
      "hey\n",
      "hey\n",
      "hey\n",
      "hey\n",
      "hey\n",
      "hey\n",
      "hey\n",
      "hey\n",
      "hey\n",
      "hey\n",
      "hey\n",
      "hey\n",
      "hey\n",
      "hey\n",
      "hey\n",
      "hey\n",
      "hey\n",
      "hey\n",
      "hey\n",
      "hey\n",
      "hey\n",
      "hey\n",
      "hey\n",
      "hey\n",
      "hey\n",
      "hey\n",
      "hey\n",
      "hey\n",
      "hey\n",
      "hey\n",
      "hey\n",
      "hey\n",
      "hey\n",
      "hey\n",
      "hey\n",
      "hey\n",
      "hey\n",
      "hey\n",
      "hey\n",
      "hey\n",
      "hey\n",
      "hey\n",
      "hey\n",
      "hey\n",
      "hey\n",
      "hey\n",
      "hey\n",
      "hey\n",
      "hey\n",
      "hey\n",
      "hey\n",
      "hey\n",
      "hey\n",
      "hey\n",
      "hey\n",
      "hey\n",
      "hey\n",
      "hey\n",
      "hey\n",
      "hey\n",
      "hey\n",
      "hey\n",
      "hey\n",
      "hey\n",
      "hey\n",
      "hey\n",
      "hey\n",
      "hey\n",
      "hey\n",
      "hey\n",
      "hey\n",
      "hey\n",
      "hey\n",
      "hey\n",
      "hey\n",
      "hey\n",
      "hey\n",
      "hey\n",
      "hey\n",
      "hey\n",
      "hey\n",
      "hey\n",
      "hey\n",
      "hey\n",
      "hey\n",
      "hey\n",
      "hey\n",
      "hey\n",
      "hey\n",
      "hey\n",
      "hey\n",
      "hey\n",
      "hey\n",
      "hey\n",
      "hey\n",
      "hey\n",
      "hey\n",
      "hey\n",
      "hey\n",
      "hey\n",
      "hey\n",
      "hey\n",
      "hey\n",
      "hey\n",
      "hey\n",
      "hey\n",
      "hey\n",
      "hey\n",
      "hey\n",
      "hey\n",
      "hey\n",
      "hey\n",
      "hey\n",
      "hey\n",
      "hey\n",
      "hey\n",
      "hey\n",
      "hey\n",
      "hey\n",
      "hey\n",
      "hey\n",
      "hey\n",
      "hey\n",
      "hey\n",
      "hey\n",
      "hey\n",
      "hey\n",
      "hey\n",
      "hey\n"
     ]
    }
   ],
   "source": [
    "import napari\n",
    "import numpy as np\n",
    "\n",
    "# Create a napari viewer\n",
    "viewer = napari.Viewer()\n",
    "\n",
    "# Create an empty shapes layer\n",
    "shapes_layer = viewer.add_shapes()\n",
    "\n",
    "# Function to assign random number between 0 and 10 as a property to the shapes\n",
    "def assign_random_property(event):\n",
    "    if event is not None:\n",
    "        print('hey')\n",
    "        num_shapes = len(shapes_layer.data)\n",
    "        random_values = np.random.randint(0, 11, size=num_shapes)\n",
    "        shapes_layer.properties['random_property'] = random_values\n",
    "\n",
    "# Connect the function to the shapes layer\n",
    "shapes_layer.events.set_data.connect(assign_random_property)\n",
    "\n",
    "# Open the napari viewer\n",
    "napari.run()\n"
   ]
  },
  {
   "cell_type": "code",
   "execution_count": 8,
   "metadata": {},
   "outputs": [
    {
     "data": {
      "text/plain": [
       "['__call__',\n",
       " '__class__',\n",
       " '__delattr__',\n",
       " '__dict__',\n",
       " '__dir__',\n",
       " '__doc__',\n",
       " '__eq__',\n",
       " '__format__',\n",
       " '__ge__',\n",
       " '__getattr__',\n",
       " '__getattribute__',\n",
       " '__getitem__',\n",
       " '__gt__',\n",
       " '__hash__',\n",
       " '__init__',\n",
       " '__init_subclass__',\n",
       " '__iter__',\n",
       " '__le__',\n",
       " '__lt__',\n",
       " '__module__',\n",
       " '__ne__',\n",
       " '__new__',\n",
       " '__reduce__',\n",
       " '__reduce_ex__',\n",
       " '__repr__',\n",
       " '__setattr__',\n",
       " '__setitem__',\n",
       " '__sizeof__',\n",
       " '__slotnames__',\n",
       " '__str__',\n",
       " '__subclasshook__',\n",
       " '__weakref__',\n",
       " '_block_counter',\n",
       " '_blocked',\n",
       " '_callback_pass_event',\n",
       " '_callback_refs',\n",
       " '_callbacks',\n",
       " '_check_signature',\n",
       " '_connect_emitters',\n",
       " '_emitters',\n",
       " '_emitters_connected',\n",
       " '_emitting',\n",
       " '_get_proper_name',\n",
       " '_ignore_callback_errors',\n",
       " '_invoke_callback',\n",
       " '_is_core_callback',\n",
       " '_normalize_cb',\n",
       " '_prepare_event',\n",
       " '_print_callback_errors',\n",
       " '_source',\n",
       " 'add',\n",
       " 'auto_connect',\n",
       " 'auto_connect_format',\n",
       " 'block',\n",
       " 'block_all',\n",
       " 'blocked',\n",
       " 'blocker',\n",
       " 'blocker_all',\n",
       " 'callback_refs',\n",
       " 'callbacks',\n",
       " 'changed',\n",
       " 'connect',\n",
       " 'default_args',\n",
       " 'disconnect',\n",
       " 'emitters',\n",
       " 'event_class',\n",
       " 'ignore_callback_errors',\n",
       " 'inserted',\n",
       " 'inserting',\n",
       " 'moved',\n",
       " 'moving',\n",
       " 'print_callback_errors',\n",
       " 'removed',\n",
       " 'removing',\n",
       " 'reordered',\n",
       " 'source',\n",
       " 'unblock',\n",
       " 'unblock_all']"
      ]
     },
     "execution_count": 8,
     "metadata": {},
     "output_type": "execute_result"
    }
   ],
   "source": [
    "dir(viewer.layers.events)"
   ]
  },
  {
   "cell_type": "code",
   "execution_count": 10,
   "metadata": {},
   "outputs": [
    {
     "data": {
      "text/plain": [
       "['__call__',\n",
       " '__class__',\n",
       " '__delattr__',\n",
       " '__dict__',\n",
       " '__dir__',\n",
       " '__doc__',\n",
       " '__eq__',\n",
       " '__format__',\n",
       " '__ge__',\n",
       " '__getattribute__',\n",
       " '__gt__',\n",
       " '__hash__',\n",
       " '__init__',\n",
       " '__init_subclass__',\n",
       " '__le__',\n",
       " '__lt__',\n",
       " '__module__',\n",
       " '__ne__',\n",
       " '__new__',\n",
       " '__reduce__',\n",
       " '__reduce_ex__',\n",
       " '__repr__',\n",
       " '__setattr__',\n",
       " '__sizeof__',\n",
       " '__slotnames__',\n",
       " '__str__',\n",
       " '__subclasshook__',\n",
       " '__weakref__',\n",
       " '_block_counter',\n",
       " '_blocked',\n",
       " '_callback_pass_event',\n",
       " '_callback_refs',\n",
       " '_callbacks',\n",
       " '_check_signature',\n",
       " '_emitting',\n",
       " '_get_proper_name',\n",
       " '_ignore_callback_errors',\n",
       " '_invoke_callback',\n",
       " '_is_core_callback',\n",
       " '_normalize_cb',\n",
       " '_prepare_event',\n",
       " '_print_callback_errors',\n",
       " '_source',\n",
       " '_vispy_err_registry',\n",
       " 'block',\n",
       " 'blocked',\n",
       " 'blocker',\n",
       " 'callback_refs',\n",
       " 'callbacks',\n",
       " 'connect',\n",
       " 'default_args',\n",
       " 'disconnect',\n",
       " 'event_class',\n",
       " 'ignore_callback_errors',\n",
       " 'print_callback_errors',\n",
       " 'source',\n",
       " 'unblock']"
      ]
     },
     "execution_count": 10,
     "metadata": {},
     "output_type": "execute_result"
    }
   ],
   "source": [
    "dir(viewer.layers[0].events.data)"
   ]
  },
  {
   "cell_type": "code",
   "execution_count": 9,
   "metadata": {},
   "outputs": [],
   "source": [
    "import napari\n",
    "import numpy as np\n",
    "\n",
    "# Create a napari viewer\n",
    "viewer = napari.Viewer()\n",
    "\n",
    "# Create an empty shapes layer\n",
    "shapes_layer = viewer.add_shapes()\n",
    "\n",
    "# Function to assign random number between 0 and 10 as a property to the shapes\n",
    "def assign_random_property(event):\n",
    "    if event.added:\n",
    "        num_shapes = len(shapes_layer.data)\n",
    "        random_values = np.random.randint(0, 11, size=num_shapes)\n",
    "        shapes_layer.properties['random_property'] = random_values\n",
    "\n",
    "# Connect the function to the shapes layer\n",
    "shapes_layer.events.data.connect(assign_random_property)\n",
    "\n",
    "# Open the napari viewer\n",
    "napari.run()\n"
   ]
  }
 ],
 "metadata": {
  "kernelspec": {
   "display_name": "insitupy_kernel",
   "language": "python",
   "name": "insitupy"
  },
  "language_info": {
   "codemirror_mode": {
    "name": "ipython",
    "version": 3
   },
   "file_extension": ".py",
   "mimetype": "text/x-python",
   "name": "python",
   "nbconvert_exporter": "python",
   "pygments_lexer": "ipython3",
   "version": "3.9.18"
  }
 },
 "nbformat": 4,
 "nbformat_minor": 4
}
