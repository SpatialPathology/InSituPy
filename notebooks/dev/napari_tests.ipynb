{
 "cells": [
  {
   "cell_type": "code",
   "execution_count": 7,
   "metadata": {},
   "outputs": [],
   "source": [
    "import napari\n",
    "import numpy as np\n",
    "from skimage import data\n",
    "\n",
    "# create the list of polygons\n",
    "triangle = np.array([[11, 13], [111, 113], [22, 246]])\n",
    "\n",
    "person = np.array([[505, 60], [402, 71], [383, 42], [251, 95], [212, 59],\n",
    "                   [131, 137], [126, 187], [191, 204], [171, 248], [211, 260],\n",
    "                   [273, 243], [264, 225], [430, 173], [512, 160]])\n",
    "\n",
    "building = np.array([[310, 382], [229, 381], [209, 401], [221, 411],\n",
    "                     [258, 411], [300, 412], [306, 435], [268, 434],\n",
    "                     [265, 454], [298, 461], [307, 461], [307, 507],\n",
    "                     [349, 510], [352, 369], [330, 366], [330, 366]])\n",
    "\n",
    "polygons = [triangle, person, building]\n",
    "\n",
    "# add the image\n",
    "viewer = napari.view_image(data.camera(), name='photographer')\n",
    "\n",
    "# add the polygons\n",
    "shapes_layer = viewer.add_shapes(polygons,\n",
    "                                 properties={\n",
    "                                     'id': list(\"ABC\")\n",
    "                                     },\n",
    "                                 shape_type='polygon', \n",
    "                                 edge_width=5,\n",
    "                                 edge_color='coral', \n",
    "                                 face_color='royalblue')"
   ]
  },
  {
   "cell_type": "code",
   "execution_count": 6,
   "metadata": {},
   "outputs": [
    {
     "data": {
      "text/plain": [
       "{'id': array(['A', 'B', 'C'], dtype=object)}"
      ]
     },
     "execution_count": 6,
     "metadata": {},
     "output_type": "execute_result"
    }
   ],
   "source": [
    "shapes_layer.properties"
   ]
  },
  {
   "cell_type": "code",
   "execution_count": 22,
   "metadata": {},
   "outputs": [
    {
     "data": {
      "image/png": "[encoded data removed]",
      "text/plain": [
       "<FunctionGui widget_demo(string='')>"
      ]
     },
     "execution_count": 22,
     "metadata": {},
     "output_type": "execute_result"
    },
    {
     "name": "stdout",
     "output_type": "stream",
     "text": [
      "sdf\n"
     ]
    }
   ],
   "source": [
    "from magicgui import magicgui\n",
    "\n",
    "@magicgui(\n",
    "    call_button=\"Print\",\n",
    ")\n",
    "def widget_demo(\n",
    "    string=\"\"\n",
    "):\n",
    "    if string != \"\":\n",
    "        print(string)\n",
    "        string = \"\"\n",
    "\n",
    "widget_demo.show(run=True)"
   ]
  },
  {
   "cell_type": "code",
   "execution_count": null,
   "metadata": {},
   "outputs": [
    {
     "data": {
      "image/png": "[encoded data removed]",
      "text/plain": [
       "<FunctionGui widget_demo(string='<function _set_string at 0x000001BAEDAB1430>')>"
      ]
     },
     "metadata": {},
     "output_type": "display_data"
    },
    {
     "name": "stdout",
     "output_type": "stream",
     "text": [
      "<function _set_string at 0x000001BAEDAB1430>\n",
      "asdf\n",
      "asdf\n",
      "asdfadf\n"
     ]
    }
   ],
   "source": [
    "from magicgui import magicgui\n",
    "\n",
    "def _set_string():\n",
    "    return \"\"\n",
    "\n",
    "@magicgui(\n",
    "    call_button=\"Print\",\n",
    "    string={'value': _set_string}\n",
    ")\n",
    "def widget_demo(\n",
    "    string=\"\"\n",
    "):\n",
    "    if string != \"\":\n",
    "        print(string)\n",
    "\n",
    "widget_demo.show(run=True)"
   ]
  },
  {
   "cell_type": "code",
   "execution_count": null,
   "metadata": {},
   "outputs": [],
   "source": []
  }
 ],
 "metadata": {
  "kernelspec": {
   "display_name": "insitupy",
   "language": "python",
   "name": "python3"
  },
  "language_info": {
   "codemirror_mode": {
    "name": "ipython",
    "version": 3
   },
   "file_extension": ".py",
   "mimetype": "text/x-python",
   "name": "python",
   "nbconvert_exporter": "python",
   "pygments_lexer": "ipython3",
   "version": "3.9.18"
  }
 },
 "nbformat": 4,
 "nbformat_minor": 2
}
