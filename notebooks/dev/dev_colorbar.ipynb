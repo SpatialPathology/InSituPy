{
 "cells": [
  {
   "cell_type": "markdown",
   "metadata": {},
   "source": [
    "https://stackoverflow.com/questions/4534480/get-legend-as-a-separate-picture-in-matplotlib"
   ]
  },
  {
   "cell_type": "code",
   "execution_count": 2,
   "metadata": {},
   "outputs": [],
   "source": [
    "## The following code ensures that all functions and init files are reloaded before executions.\n",
    "%load_ext autoreload\n",
    "%autoreload 2"
   ]
  },
  {
   "cell_type": "markdown",
   "metadata": {},
   "source": [
    "## Test implementation into InSituPy"
   ]
  },
  {
   "cell_type": "code",
   "execution_count": 10,
   "metadata": {},
   "outputs": [],
   "source": [
    "from insitupy import XeniumData\n",
    "import napari\n",
    "import numpy as np"
   ]
  },
  {
   "cell_type": "code",
   "execution_count": 5,
   "metadata": {},
   "outputs": [],
   "source": [
    "xd = XeniumData(\"../demo_dataset/cropped_processed/\")"
   ]
  },
  {
   "cell_type": "code",
   "execution_count": 6,
   "metadata": {},
   "outputs": [
    {
     "data": {
      "text/plain": [
       "\u001b[1m\u001b[31mXeniumData\u001b[0m\n",
       "\u001b[1mSlide ID:\u001b[0m\tslide_id\n",
       "\u001b[1mSample ID:\u001b[0m\tsample_id\n",
       "\u001b[1mData path:\u001b[0m\t..\\demo_dataset\n",
       "\u001b[1mData folder:\u001b[0m\tcropped_processed\n",
       "\u001b[1mMetadata file:\u001b[0m\txeniumdata.json"
      ]
     },
     "execution_count": 6,
     "metadata": {},
     "output_type": "execute_result"
    }
   ],
   "source": [
    "xd"
   ]
  },
  {
   "cell_type": "code",
   "execution_count": 7,
   "metadata": {},
   "outputs": [
    {
     "name": "stdout",
     "output_type": "stream",
     "text": [
      "Reading images...\n",
      "Reading matrix...\n"
     ]
    }
   ],
   "source": [
    "xd.read_images()\n",
    "xd.read_matrix()"
   ]
  },
  {
   "cell_type": "code",
   "execution_count": 8,
   "metadata": {},
   "outputs": [],
   "source": [
    "xd.show()"
   ]
  },
  {
   "cell_type": "code",
   "execution_count": 9,
   "metadata": {},
   "outputs": [],
   "source": [
    "from matplotlib.lines import Line2D\n",
    "import matplotlib.pyplot as plt\n",
    "from matplotlib.backends.backend_qt5agg import FigureCanvas\n",
    "\n",
    "\n",
    "def colorlegend_mpl(\n",
    "    colors, labels\n",
    "    ):\n",
    "    with plt.style.context('dark_background'):\n",
    "        handles = [Line2D([0], [0], \n",
    "                        marker='o', \n",
    "                        color='w', \n",
    "                        label=l,\n",
    "                        markerfacecolor=c, \n",
    "                        markeredgewidth=0,\n",
    "                        linewidth=0,\n",
    "                        markersize=15) for c, l in zip(colors, labels)]\n",
    "\n",
    "        fig, ax = plt.subplots(1,1,figsize=(2,2))\n",
    "        ax.legend(handles=handles, \n",
    "                  loc=\"center\", \n",
    "                  labelspacing=1, \n",
    "                  borderpad=0.5,\n",
    "                  ncol=1\n",
    "                  )\n",
    "        ax.set_axis_off()\n",
    "    plt.close()\n",
    "    return fig"
   ]
  },
  {
   "cell_type": "code",
   "execution_count": 21,
   "metadata": {},
   "outputs": [],
   "source": [
    "xd.show(keys=[\"leiden\"])"
   ]
  },
  {
   "cell_type": "code",
   "execution_count": 22,
   "metadata": {},
   "outputs": [],
   "source": [
    "layers = xd.viewer.layers\n",
    "leiden = layers[\"leiden\"]"
   ]
  },
  {
   "cell_type": "code",
   "execution_count": 23,
   "metadata": {},
   "outputs": [],
   "source": [
    "import numpy as np\n",
    "from matplotlib.colors import rgb2hex"
   ]
  },
  {
   "cell_type": "code",
   "execution_count": 24,
   "metadata": {},
   "outputs": [],
   "source": [
    "color_values = leiden.properties['color_value']\n",
    "face_color = leiden.face_color\n",
    "labels = sorted(np.unique(color_values))\n",
    "\n",
    "# create dictionary linking color and labels\n",
    "color_dict = {i: face_color[np.where(color_values == i)[0][0]] for i in labels}\n",
    "color_list = [color_dict[l] for l in labels]"
   ]
  },
  {
   "cell_type": "code",
   "execution_count": 25,
   "metadata": {},
   "outputs": [],
   "source": [
    "clb_fig = colorlegend_mpl(colors=color_list, labels=labels)"
   ]
  },
  {
   "cell_type": "code",
   "execution_count": 26,
   "metadata": {},
   "outputs": [
    {
     "data": {
      "text/plain": [
       "<napari._qt.widgets.qt_viewer_dock_widget.QtViewerDockWidget at 0x1ae0e8b9940>"
      ]
     },
     "execution_count": 26,
     "metadata": {},
     "output_type": "execute_result"
    }
   ],
   "source": [
    "# create widget for colorbar\n",
    "clb_widget = FigureCanvas(clb_fig)\n",
    "#clb_widget.max_height = 50\n",
    "# clb_widget.setMaximumHeight(100)\n",
    "# clb_widget.setMaximumWidth(150)\n",
    "\n",
    "# add the figure to the viewer as a FigureCanvas widget\n",
    "xd.viewer.window.add_dock_widget(clb_widget)"
   ]
  },
  {
   "cell_type": "code",
   "execution_count": 1,
   "metadata": {},
   "outputs": [],
   "source": [
    "from insitupy.palettes import CustomPalettes"
   ]
  },
  {
   "cell_type": "code",
   "execution_count": 14,
   "metadata": {},
   "outputs": [],
   "source": [
    "palettes = CustomPalettes()\n",
    "colors = palettes.tab20_mod.colors\n",
    "color_list = np.random.choice(colors, 5)"
   ]
  },
  {
   "cell_type": "code",
   "execution_count": 15,
   "metadata": {},
   "outputs": [],
   "source": [
    "clb_fig = colorlegend_mpl(colors=color_list, labels=color_list)"
   ]
  },
  {
   "cell_type": "code",
   "execution_count": 17,
   "metadata": {},
   "outputs": [],
   "source": [
    "# create widget for colorbar\n",
    "clb_widget = FigureCanvas(clb_fig)\n",
    "# add the figure to the viewer as a FigureCanvas widget\n",
    "#xd.viewer.window.add_dock_widget(clb_widget)"
   ]
  },
  {
   "cell_type": "code",
   "execution_count": 20,
   "metadata": {},
   "outputs": [
    {
     "data": {
      "image/png": "[encoded data removed]",
      "text/plain": [
       "<Figure size 200x200 with 1 Axes>"
      ]
     },
     "execution_count": 20,
     "metadata": {},
     "output_type": "execute_result"
    }
   ],
   "source": [
    "clb_widget.figure = "
   ]
  },
  {
   "cell_type": "code",
   "execution_count": 92,
   "metadata": {},
   "outputs": [
    {
     "data": {
      "text/plain": [
       "<matplotlib.lines.Line2D at 0x215b5155d30>"
      ]
     },
     "execution_count": 92,
     "metadata": {},
     "output_type": "execute_result"
    }
   ],
   "source": [
    "line"
   ]
  },
  {
   "cell_type": "code",
   "execution_count": 190,
   "metadata": {},
   "outputs": [
    {
     "data": {
      "text/plain": [
       "array(['#d62728', '#ff9896', '#ff9896', '#98df8a', '#98df8a'], dtype='<U7')"
      ]
     },
     "execution_count": 190,
     "metadata": {},
     "output_type": "execute_result"
    }
   ],
   "source": [
    "color_list"
   ]
  },
  {
   "cell_type": "code",
   "execution_count": 93,
   "metadata": {},
   "outputs": [
    {
     "data": {
      "image/png": "[encoded data removed]",
      "text/plain": [
       "<Figure size 301x521 with 1 Axes>"
      ]
     },
     "execution_count": 93,
     "metadata": {},
     "output_type": "execute_result"
    }
   ],
   "source": [
    "clb_fig"
   ]
  },
  {
   "cell_type": "code",
   "execution_count": 178,
   "metadata": {},
   "outputs": [
    {
     "name": "stdout",
     "output_type": "stream",
     "text": [
      "inserted: leiden\n",
      "here\n",
      "here\n",
      "here\n"
     ]
    }
   ],
   "source": [
    "xd.show()"
   ]
  },
  {
   "cell_type": "code",
   "execution_count": 184,
   "metadata": {},
   "outputs": [
    {
     "data": {
      "image/png": "[encoded data removed]",
      "text/plain": [
       "<Figure size 301x350 with 1 Axes>"
      ]
     },
     "execution_count": 184,
     "metadata": {},
     "output_type": "execute_result"
    }
   ],
   "source": [
    "clb_fig"
   ]
  },
  {
   "cell_type": "code",
   "execution_count": 185,
   "metadata": {},
   "outputs": [],
   "source": [
    "xd.clb_widget.figure = clb_fig"
   ]
  },
  {
   "cell_type": "code",
   "execution_count": 186,
   "metadata": {},
   "outputs": [
    {
     "data": {
      "image/png": "[encoded data removed]",
      "text/plain": [
       "<Figure size 301x350 with 1 Axes>"
      ]
     },
     "execution_count": 186,
     "metadata": {},
     "output_type": "execute_result"
    }
   ],
   "source": [
    "xd.clb_widget.figure"
   ]
  },
  {
   "cell_type": "code",
   "execution_count": 188,
   "metadata": {},
   "outputs": [
    {
     "ename": "AttributeError",
     "evalue": "'FigureCanvasQTAgg' object has no attribute 'canvas'",
     "output_type": "error",
     "traceback": [
      "\u001b[1;31m---------------------------------------------------------------------------\u001b[0m",
      "\u001b[1;31mAttributeError\u001b[0m                            Traceback (most recent call last)",
      "\u001b[1;32mc:\\Users\\ge37voy\\Github\\InSituPy\\notebooks\\dev\\dev_colorbar.ipynb Cell 27\u001b[0m line \u001b[0;36m1\n\u001b[1;32m----> <a href='vscode-notebook-cell:/c%3A/Users/ge37voy/Github/InSituPy/notebooks/dev/dev_colorbar.ipynb#Y203sZmlsZQ%3D%3D?line=0'>1</a>\u001b[0m xd\u001b[39m.\u001b[39;49mclb_widget\u001b[39m.\u001b[39;49mcanvas\u001b[39m.\u001b[39mdraw_idle()\n",
      "\u001b[1;31mAttributeError\u001b[0m: 'FigureCanvasQTAgg' object has no attribute 'canvas'"
     ]
    }
   ],
   "source": [
    "xd.clb_widget.canvas.draw_idle()"
   ]
  },
  {
   "cell_type": "code",
   "execution_count": 189,
   "metadata": {},
   "outputs": [
    {
     "data": {
      "text/plain": [
       "<matplotlib.backends.backend_qtagg.FigureCanvasQTAgg at 0x2163b37de50>"
      ]
     },
     "execution_count": 189,
     "metadata": {},
     "output_type": "execute_result"
    }
   ],
   "source": [
    "xd.clb_widget"
   ]
  },
  {
   "cell_type": "code",
   "execution_count": 180,
   "metadata": {},
   "outputs": [
    {
     "name": "stderr",
     "output_type": "stream",
     "text": [
      "No artists with labels found to put in legend.  Note that artists whose label start with an underscore are ignored when legend() is called with no argument.\n"
     ]
    },
    {
     "data": {
      "text/plain": [
       "<matplotlib.legend.Legend at 0x216295c35b0>"
      ]
     },
     "execution_count": 180,
     "metadata": {},
     "output_type": "execute_result"
    }
   ],
   "source": [
    "xd.clb_ax.legend()"
   ]
  },
  {
   "cell_type": "code",
   "execution_count": null,
   "metadata": {},
   "outputs": [],
   "source": []
  },
  {
   "cell_type": "code",
   "execution_count": null,
   "metadata": {},
   "outputs": [],
   "source": []
  },
  {
   "cell_type": "code",
   "execution_count": 177,
   "metadata": {},
   "outputs": [
    {
     "data": {
      "image/png": "[encoded data removed]",
      "text/plain": [
       "<Figure size 301x819 with 1 Axes>"
      ]
     },
     "execution_count": 177,
     "metadata": {},
     "output_type": "execute_result"
    }
   ],
   "source": [
    "xd.clb_ax.s"
   ]
  },
  {
   "cell_type": "code",
   "execution_count": null,
   "metadata": {},
   "outputs": [],
   "source": []
  },
  {
   "cell_type": "code",
   "execution_count": 122,
   "metadata": {},
   "outputs": [
    {
     "data": {
      "image/png": "[encoded data removed]",
      "text/plain": [
       "<Figure size 301x449 with 1 Axes>"
      ]
     },
     "execution_count": 122,
     "metadata": {},
     "output_type": "execute_result"
    },
    {
     "name": "stdout",
     "output_type": "stream",
     "text": [
      "inserted: leiden\n",
      "here\n",
      "here\n",
      "active: leiden\n",
      "here\n",
      "active: leiden\n",
      "here\n",
      "here\n",
      "active: HE\n",
      "here\n",
      "here\n",
      "active: HER2\n",
      "here\n",
      "here\n",
      "active: CD20\n",
      "here\n",
      "here\n",
      "active: nuclei\n",
      "here\n",
      "here\n",
      "active: CD20\n",
      "here\n",
      "here\n",
      "active: HER2\n",
      "here\n",
      "here\n",
      "active: leiden\n",
      "here\n",
      "here\n",
      "active: HE\n",
      "here\n",
      "here\n",
      "active: HER2\n",
      "here\n",
      "here\n",
      "active: CD20\n",
      "here\n",
      "here\n",
      "active: nuclei\n",
      "here\n",
      "here\n",
      "active: CD20\n",
      "here\n",
      "here\n",
      "active: HER2\n",
      "here\n",
      "here\n",
      "active: HE\n",
      "here\n",
      "here\n",
      "active: leiden\n",
      "here\n",
      "here\n",
      "active: HER2\n",
      "here\n",
      "here\n",
      "active: CD20\n",
      "here\n",
      "here\n",
      "active: nuclei\n",
      "here\n",
      "here\n",
      "active: HER2\n",
      "here\n",
      "here\n",
      "active: CD20\n",
      "here\n",
      "here\n",
      "active: nuclei\n",
      "here\n",
      "here\n",
      "active: CD20\n",
      "here\n",
      "here\n",
      "active: HER2\n",
      "here\n",
      "here\n",
      "active: HE\n",
      "here\n",
      "here\n",
      "active: leiden\n",
      "here\n",
      "here\n",
      "active: HE\n",
      "here\n",
      "here\n",
      "active: HER2\n",
      "here\n",
      "here\n",
      "active: nuclei\n",
      "here\n",
      "here\n",
      "active: CD20\n",
      "here\n",
      "here\n",
      "active: HER2\n",
      "here\n",
      "here\n",
      "active: HE\n",
      "here\n",
      "here\n",
      "active: leiden\n",
      "here\n",
      "here\n",
      "active: HE\n",
      "here\n",
      "here\n",
      "active: HER2\n",
      "here\n",
      "here\n",
      "active: CD20\n",
      "here\n",
      "here\n",
      "active: HER2\n",
      "here\n",
      "here\n",
      "active: HE\n",
      "here\n",
      "here\n",
      "active: leiden\n",
      "here\n",
      "here\n",
      "active: HE\n",
      "here\n",
      "here\n",
      "active: HER2\n",
      "here\n",
      "here\n",
      "active: CD20\n"
     ]
    }
   ],
   "source": [
    "clb_fig"
   ]
  },
  {
   "cell_type": "code",
   "execution_count": 127,
   "metadata": {},
   "outputs": [
    {
     "ename": "AttributeError",
     "evalue": "'Window' object has no attribute 'clear'",
     "output_type": "error",
     "traceback": [
      "\u001b[1;31m---------------------------------------------------------------------------\u001b[0m",
      "\u001b[1;31mAttributeError\u001b[0m                            Traceback (most recent call last)",
      "\u001b[1;32mc:\\Users\\ge37voy\\Github\\InSituPy\\notebooks\\dev\\dev_colorbar.ipynb Cell 25\u001b[0m line \u001b[0;36m1\n\u001b[1;32m----> <a href='vscode-notebook-cell:/c%3A/Users/ge37voy/Github/InSituPy/notebooks/dev/dev_colorbar.ipynb#Y144sZmlsZQ%3D%3D?line=0'>1</a>\u001b[0m xd\u001b[39m.\u001b[39;49mviewer\u001b[39m.\u001b[39;49mwindow\u001b[39m.\u001b[39;49mclear()\n",
      "\u001b[1;31mAttributeError\u001b[0m: 'Window' object has no attribute 'clear'"
     ]
    }
   ],
   "source": [
    "xd.viewer.window.clear()"
   ]
  },
  {
   "cell_type": "code",
   "execution_count": null,
   "metadata": {},
   "outputs": [],
   "source": []
  },
  {
   "cell_type": "code",
   "execution_count": 196,
   "metadata": {},
   "outputs": [
    {
     "data": {
      "text/plain": [
       "<napari._qt.widgets.qt_viewer_dock_widget.QtViewerDockWidget at 0x21633b223a0>"
      ]
     },
     "execution_count": 196,
     "metadata": {},
     "output_type": "execute_result"
    }
   ],
   "source": [
    "import napari\n",
    "from qtpy.QtWidgets import QLabel, QPushButton, QWidget, QVBoxLayout\n",
    "from matplotlib.backends.backend_qt5agg import FigureCanvas\n",
    "\n",
    "viewer = napari.Viewer()\n",
    "\n",
    "class Mywidget(QWidget):\n",
    "    def __init__(self, napari_viewer):\n",
    "        super().__init__()\n",
    "        self._viewer = napari_viewer\n",
    "        #self.lbl = QLabel('hey', self)\n",
    "        self.btn = QPushButton('remove', self)\n",
    "        self.random = QPushButton('random', self)\n",
    "        self.shuf = QPushButton('shuffle', self)\n",
    "        self.btn.clicked.connect(self.remove)\n",
    "        self.random.clicked.connect(self.add_random_legend)\n",
    "        self.shuf.clicked.connect(self.shuffle)\n",
    "\n",
    "        self.build()\n",
    "        \n",
    "    def build(self):\n",
    "        self.vbox = QVBoxLayout()\n",
    "        #vbox.addWidget(self.lbl)\n",
    "        self.vbox.addWidget(self.btn)\n",
    "        self.vbox.addWidget(self.random)\n",
    "        self.vbox.addWidget(self.shuf)\n",
    "        #self.vbox.addWidget(FigureCanvas(clb_fig))\n",
    "        self.setLayout(self.vbox)\n",
    "        self.show()\n",
    "    \n",
    "    def remove(self):\n",
    "        # I want to delete widget here\n",
    "        # Then add new widget\n",
    "        self._viewer.window.remove_dock_widget(self)\n",
    "        \n",
    "    def add_random_legend(self):\n",
    "        # create random colorlegend\n",
    "        palettes = CustomPalettes()\n",
    "        colors = palettes.tab20_mod.colors\n",
    "        color_list = np.random.choice(colors, 5)\n",
    "        clb_fig = colorlegend_mpl(colors=color_list, labels=color_list)\n",
    "        self.clb_widget = FigureCanvas(clb_fig)\n",
    "        self.vbox.addWidget(self.clb_widget)\n",
    "        \n",
    "    def shuffle(self):\n",
    "        # shuffle color legend\n",
    "        # create random colorlegend\n",
    "        palettes = CustomPalettes()\n",
    "        colors = palettes.tab20_mod.colors\n",
    "        color_list = np.random.choice(colors, 5)\n",
    "        clb_fig = colorlegend_mpl(colors=color_list, labels=color_list)\n",
    "        self.clb_widget = FigureCanvas(clb_fig)\n",
    "        self.clb_widget.figure.canvas.draw()\n",
    "        self.clb_widget.draw()\n",
    "        \n",
    "widget = Mywidget(viewer)\n",
    "viewer.window.add_dock_widget(widget=widget)"
   ]
  },
  {
   "cell_type": "code",
   "execution_count": 198,
   "metadata": {},
   "outputs": [
    {
     "name": "stderr",
     "output_type": "stream",
     "text": [
      "WARNING: QWidget::setLayout: Attempting to set QLayout \"\" on Mywidget \"\", which already has a layout\n"
     ]
    }
   ],
   "source": [
    "widget.build()"
   ]
  },
  {
   "cell_type": "code",
   "execution_count": 170,
   "metadata": {},
   "outputs": [],
   "source": [
    "widget.clb_widget = FigureCanvas(clb_fig)"
   ]
  },
  {
   "cell_type": "code",
   "execution_count": 171,
   "metadata": {},
   "outputs": [],
   "source": [
    "widget.clb_widget.figure.canvas.draw()"
   ]
  },
  {
   "cell_type": "code",
   "execution_count": 173,
   "metadata": {},
   "outputs": [],
   "source": [
    "widget.clb_widget.draw()"
   ]
  },
  {
   "cell_type": "code",
   "execution_count": 149,
   "metadata": {},
   "outputs": [
    {
     "data": {
      "text/plain": [
       "['Dock widget 1']"
      ]
     },
     "execution_count": 149,
     "metadata": {},
     "output_type": "execute_result"
    }
   ],
   "source": [
    "list(viewer.window._dock_widgets.keys())"
   ]
  },
  {
   "cell_type": "code",
   "execution_count": null,
   "metadata": {},
   "outputs": [
    {
     "data": {
      "text/plain": [
       "<napari._qt.widgets.qt_viewer_dock_widget.QtViewerDockWidget at 0x215f2ba8280>"
      ]
     },
     "metadata": {},
     "output_type": "display_data"
    }
   ],
   "source": [
    "import napari\n",
    "from qtpy.QtWidgets import QLabel, QPushButton, QWidget, QVBoxLayout\n",
    "\n",
    "viewer = napari.Viewer()\n",
    "\n",
    "class Mywidget(QWidget):\n",
    "    def __init__(self, napari_viewer):\n",
    "        super().__init__()\n",
    "        self._viewer = napari_viewer\n",
    "        self.lbl = QLabel('function', self)\n",
    "        self.btn = QPushButton('button', self)\n",
    "        self.btn.clicked.connect(self.func)\n",
    "        self.build()\n",
    "        \n",
    "    def build(self):\n",
    "        vbox = QVBoxLayout()\n",
    "        vbox.addWidget(self.lbl)\n",
    "        vbox.addWidget(self.btn)\n",
    "        self.setLayout(vbox)\n",
    "        self.show()\n",
    "    \n",
    "    def func(self):\n",
    "        # I want to delete widget here\n",
    "        # Then add new widget\n",
    "        self._viewer.window.remove_dock_widget(self)\n",
    "\n",
    "viewer.window.add_dock_widget(Mywidget(viewer))"
   ]
  },
  {
   "cell_type": "code",
   "execution_count": 115,
   "metadata": {},
   "outputs": [],
   "source": [
    "xd.clb_widget.figure = clb_fig"
   ]
  },
  {
   "cell_type": "code",
   "execution_count": 113,
   "metadata": {},
   "outputs": [],
   "source": [
    "xd.clb_widget.figure.canvas.draw()"
   ]
  },
  {
   "cell_type": "code",
   "execution_count": 116,
   "metadata": {},
   "outputs": [],
   "source": [
    "xd.clb_widget.draw()"
   ]
  },
  {
   "cell_type": "code",
   "execution_count": null,
   "metadata": {},
   "outputs": [],
   "source": [
    "xd.window"
   ]
  },
  {
   "cell_type": "code",
   "execution_count": null,
   "metadata": {},
   "outputs": [],
   "source": [
    "# connect a callback that updates the line plot when\n",
    "# the user clicks on the image\n",
    "@layer.mouse_drag_callbacks.append\n",
    "def profile_lines_drag(layer, event):\n",
    "    try:\n",
    "        line.set_ydata(layer.data[int(event.position[0])])\n",
    "        line.figure.canvas.draw()\n",
    "    except IndexError:\n",
    "        pass"
   ]
  },
  {
   "cell_type": "code",
   "execution_count": 32,
   "metadata": {},
   "outputs": [
    {
     "data": {
      "text/plain": [
       "['__class__',\n",
       " '__delattr__',\n",
       " '__dict__',\n",
       " '__dir__',\n",
       " '__doc__',\n",
       " '__eq__',\n",
       " '__format__',\n",
       " '__ge__',\n",
       " '__getattribute__',\n",
       " '__gt__',\n",
       " '__hash__',\n",
       " '__init__',\n",
       " '__init_subclass__',\n",
       " '__le__',\n",
       " '__lt__',\n",
       " '__module__',\n",
       " '__ne__',\n",
       " '__new__',\n",
       " '__reduce__',\n",
       " '__reduce_ex__',\n",
       " '__repr__',\n",
       " '__setattr__',\n",
       " '__sizeof__',\n",
       " '__str__',\n",
       " '__subclasshook__',\n",
       " '__weakref__',\n",
       " '_add_menus',\n",
       " '_add_plugin_function_widget',\n",
       " '_add_theme',\n",
       " '_add_viewer_dock_widget',\n",
       " '_connect_theme',\n",
       " '_disconnect_theme',\n",
       " '_dock_widgets',\n",
       " '_help_changed',\n",
       " '_main_menu_shortcut',\n",
       " '_qt_viewer',\n",
       " '_qt_window',\n",
       " '_remove_dock_widget',\n",
       " '_remove_theme',\n",
       " '_restart',\n",
       " '_screenshot',\n",
       " '_setup_existing_themes',\n",
       " '_status_bar',\n",
       " '_status_changed',\n",
       " '_teardown',\n",
       " '_title_changed',\n",
       " '_toggle_fullscreen',\n",
       " '_toggle_menubar_visible',\n",
       " '_toggle_play',\n",
       " '_unnamed_dockwidget_count',\n",
       " '_update_theme',\n",
       " '_update_theme_no_event',\n",
       " 'activate',\n",
       " 'add_dock_widget',\n",
       " 'add_function_widget',\n",
       " 'add_plugin_dock_widget',\n",
       " 'clipboard',\n",
       " 'close',\n",
       " 'file_menu',\n",
       " 'geometry',\n",
       " 'help_menu',\n",
       " 'main_menu',\n",
       " 'plugins_menu',\n",
       " 'qt_viewer',\n",
       " 'remove_dock_widget',\n",
       " 'resize',\n",
       " 'screenshot',\n",
       " 'set_geometry',\n",
       " 'show',\n",
       " 'view_menu',\n",
       " 'window_menu']"
      ]
     },
     "execution_count": 32,
     "metadata": {},
     "output_type": "execute_result"
    }
   ],
   "source": [
    "dir(xd.viewer.window)"
   ]
  },
  {
   "cell_type": "code",
   "execution_count": 26,
   "metadata": {},
   "outputs": [
    {
     "data": {
      "text/plain": [
       "<matplotlib.backends.backend_qtagg.FigureCanvasQTAgg at 0x215898530d0>"
      ]
     },
     "execution_count": 26,
     "metadata": {},
     "output_type": "execute_result"
    }
   ],
   "source": [
    "xd.clb_widget"
   ]
  },
  {
   "cell_type": "code",
   "execution_count": 39,
   "metadata": {},
   "outputs": [
    {
     "data": {
      "text/plain": [
       "[<Image layer 'nuclei' at 0x1ad97be0b20>, <Image layer 'CD20' at 0x1adb2cfb100>, <Image layer 'HER2' at 0x1adb2d880d0>, <Image layer 'HE' at 0x1adb5866af0>, <Points layer 'leiden' at 0x1adb5b96970>]"
      ]
     },
     "execution_count": 39,
     "metadata": {},
     "output_type": "execute_result"
    }
   ],
   "source": [
    "xd.viewer.layers.events.changed"
   ]
  },
  {
   "cell_type": "code",
   "execution_count": 95,
   "metadata": {},
   "outputs": [],
   "source": [
    "l = xd.viewer.layers[\"leiden\"]\n",
    "he = xd.viewer.layers[\"HE\"]"
   ]
  },
  {
   "cell_type": "code",
   "execution_count": 99,
   "metadata": {},
   "outputs": [
    {
     "data": {
      "text/plain": [
       "'image'"
      ]
     },
     "execution_count": 99,
     "metadata": {},
     "output_type": "execute_result"
    }
   ],
   "source": [
    "he.as_layer_data_tuple()[2]"
   ]
  },
  {
   "cell_type": "code",
   "execution_count": null,
   "metadata": {},
   "outputs": [],
   "source": []
  },
  {
   "cell_type": "code",
   "execution_count": 90,
   "metadata": {},
   "outputs": [
    {
     "data": {
      "text/plain": [
       "True"
      ]
     },
     "execution_count": 90,
     "metadata": {},
     "output_type": "execute_result"
    }
   ],
   "source": [
    "isinstance(l, napari.layers.points.points.Points)"
   ]
  },
  {
   "cell_type": "code",
   "execution_count": 94,
   "metadata": {},
   "outputs": [
    {
     "data": {
      "text/plain": [
       "'points'"
      ]
     },
     "execution_count": 94,
     "metadata": {},
     "output_type": "execute_result"
    }
   ],
   "source": [
    "l.as_layer_data_tuple()[2]"
   ]
  },
  {
   "cell_type": "code",
   "execution_count": 86,
   "metadata": {},
   "outputs": [
    {
     "data": {
      "text/plain": [
       "napari.layers.points.points.Points"
      ]
     },
     "execution_count": 86,
     "metadata": {},
     "output_type": "execute_result"
    }
   ],
   "source": [
    "type(l)"
   ]
  },
  {
   "cell_type": "code",
   "execution_count": 79,
   "metadata": {},
   "outputs": [
    {
     "name": "stdout",
     "output_type": "stream",
     "text": [
      "active: HER2\n",
      "active: HE\n",
      "active: leiden\n",
      "active: CD20\n"
     ]
    }
   ],
   "source": [
    "xd.show(keys=[\"leiden\"])"
   ]
  },
  {
   "cell_type": "code",
   "execution_count": 56,
   "metadata": {},
   "outputs": [
    {
     "ename": "TypeError",
     "evalue": "connect() missing 1 required positional argument: 'callback'",
     "output_type": "error",
     "traceback": [
      "\u001b[1;31m---------------------------------------------------------------------------\u001b[0m",
      "\u001b[1;31mTypeError\u001b[0m                                 Traceback (most recent call last)",
      "\u001b[1;32mc:\\Users\\ge37voy\\Github\\InSituPy\\notebooks\\dev\\dev_colorbar.ipynb Cell 18\u001b[0m line \u001b[0;36m1\n\u001b[1;32m----> <a href='vscode-notebook-cell:/c%3A/Users/ge37voy/Github/InSituPy/notebooks/dev/dev_colorbar.ipynb#Y162sZmlsZQ%3D%3D?line=0'>1</a>\u001b[0m xd\u001b[39m.\u001b[39;49mviewer\u001b[39m.\u001b[39;49mlayers\u001b[39m.\u001b[39;49mselection\u001b[39m.\u001b[39;49mevents\u001b[39m.\u001b[39;49mactive\u001b[39m.\u001b[39;49mconnect()\n",
      "\u001b[1;31mTypeError\u001b[0m: connect() missing 1 required positional argument: 'callback'"
     ]
    }
   ],
   "source": [
    "xd.viewer.layers.selection.events.active.connect()"
   ]
  },
  {
   "cell_type": "code",
   "execution_count": 67,
   "metadata": {},
   "outputs": [
    {
     "data": {
      "text/plain": [
       "Selection({<Image layer 'HER2' at 0x1ae1174e610>})"
      ]
     },
     "execution_count": 67,
     "metadata": {},
     "output_type": "execute_result"
    }
   ],
   "source": [
    "xd.viewer.layers.selection.events.active.source"
   ]
  },
  {
   "cell_type": "code",
   "execution_count": 52,
   "metadata": {},
   "outputs": [
    {
     "data": {
      "text/plain": [
       "Selection({<Image layer 'CD20' at 0x1adb901cb80>})"
      ]
     },
     "execution_count": 52,
     "metadata": {},
     "output_type": "execute_result"
    }
   ],
   "source": [
    "xd.viewer.layers.selection.events.changed.source"
   ]
  },
  {
   "cell_type": "markdown",
   "metadata": {},
   "source": [
    "## Event examples\n",
    "\n",
    "https://forum.image.sc/t/event-handling-in-napari/46539/2"
   ]
  },
  {
   "cell_type": "code",
   "execution_count": 68,
   "metadata": {},
   "outputs": [
    {
     "name": "stderr",
     "output_type": "stream",
     "text": [
      "c:\\Users\\ge37voy\\AppData\\Local\\miniconda3\\envs\\xparse\\lib\\contextlib.py:119: FutureWarning: \n",
      "The 'gui_qt()' context manager is deprecated.\n",
      "If you are running napari from a script, please use 'napari.run()' as follows:\n",
      "\n",
      "    import napari\n",
      "\n",
      "    viewer = napari.Viewer()  # no prior setup needed\n",
      "    # other code using the viewer...\n",
      "    napari.run()\n",
      "\n",
      "In IPython or Jupyter, 'napari.run()' is not necessary. napari will automatically\n",
      "start an interactive event loop for you: \n",
      "\n",
      "    import napari\n",
      "    viewer = napari.Viewer()  # that's it!\n",
      "\n",
      "  return next(self.gen)\n"
     ]
    },
    {
     "name": "stdout",
     "output_type": "stream",
     "text": [
      "removed: image [2]\n",
      "removed: image [3]\n"
     ]
    }
   ],
   "source": [
    "import napari\n",
    "from skimage.io import imread\n",
    "image = imread('https://samples.fiji.sc/blobs.png')\n",
    "\n",
    "with napari.gui_qt():\n",
    "    viewer = napari.Viewer()\n",
    "    viewer.add_image(image)\n",
    "    viewer.add_image(image)\n",
    "    viewer.add_image(image)\n",
    "    viewer.add_image(image)\n",
    "\n",
    "    def _on_removed(event):\n",
    "        layer = event.value\n",
    "        print(\"removed: \" + layer.name)\n",
    "\n",
    "    viewer.layers.events.removed.connect(_on_removed)"
   ]
  },
  {
   "cell_type": "code",
   "execution_count": 46,
   "metadata": {},
   "outputs": [
    {
     "ename": "SyntaxError",
     "evalue": "invalid syntax (3761097936.py, line 1)",
     "output_type": "error",
     "traceback": [
      "\u001b[1;36m  Cell \u001b[1;32mIn[46], line 1\u001b[1;36m\u001b[0m\n\u001b[1;33m    xd.viewer.layers['leiden'].events.data.\u001b[0m\n\u001b[1;37m                                           ^\u001b[0m\n\u001b[1;31mSyntaxError\u001b[0m\u001b[1;31m:\u001b[0m invalid syntax\n"
     ]
    }
   ],
   "source": [
    "xd.viewer.layers['leiden'].events.data."
   ]
  },
  {
   "cell_type": "code",
   "execution_count": null,
   "metadata": {},
   "outputs": [],
   "source": []
  },
  {
   "cell_type": "code",
   "execution_count": null,
   "metadata": {},
   "outputs": [],
   "source": [
    "# create colorbar\n",
    "colors = [\"crimson\", \"purple\", \"gold\"]\n",
    "clb_fig = colorlegend_mpl(colors, colors)\n",
    "\n",
    "# create widget for colorbar\n",
    "clb_widget = FigureCanvas(clb_fig)\n",
    "clb_widget.setMaximumHeight(100)\n",
    "clb_widget.setMaximumWidth(150)"
   ]
  },
  {
   "cell_type": "code",
   "execution_count": 20,
   "metadata": {},
   "outputs": [
    {
     "ename": "RuntimeError",
     "evalue": "wrapped C/C++ object of type FigureCanvasQTAgg has been deleted",
     "output_type": "error",
     "traceback": [
      "\u001b[1;31m---------------------------------------------------------------------------\u001b[0m",
      "\u001b[1;31mRuntimeError\u001b[0m                              Traceback (most recent call last)",
      "\u001b[1;32mc:\\Users\\ge37voy\\Github\\InSituPy\\notebooks\\dev\\dev_colorbar.ipynb Cell 17\u001b[0m line \u001b[0;36m4\n\u001b[0;32m      <a href='vscode-notebook-cell:/c%3A/Users/ge37voy/Github/InSituPy/notebooks/dev/dev_colorbar.ipynb#Y150sZmlsZQ%3D%3D?line=0'>1</a>\u001b[0m xd\u001b[39m.\u001b[39mshow(keys\u001b[39m=\u001b[39m[\u001b[39m\"\u001b[39m\u001b[39mleiden\u001b[39m\u001b[39m\"\u001b[39m])\n\u001b[0;32m      <a href='vscode-notebook-cell:/c%3A/Users/ge37voy/Github/InSituPy/notebooks/dev/dev_colorbar.ipynb#Y150sZmlsZQ%3D%3D?line=2'>3</a>\u001b[0m \u001b[39m# add the figure to the viewer as a FigureCanvas widget\u001b[39;00m\n\u001b[1;32m----> <a href='vscode-notebook-cell:/c%3A/Users/ge37voy/Github/InSituPy/notebooks/dev/dev_colorbar.ipynb#Y150sZmlsZQ%3D%3D?line=3'>4</a>\u001b[0m xd\u001b[39m.\u001b[39;49mviewer\u001b[39m.\u001b[39;49mwindow\u001b[39m.\u001b[39;49madd_dock_widget(clb_widget)\n",
      "File \u001b[1;32mc:\\Users\\ge37voy\\AppData\\Local\\miniconda3\\envs\\xparse\\lib\\site-packages\\napari\\_qt\\qt_main_window.py:899\u001b[0m, in \u001b[0;36mWindow.add_dock_widget\u001b[1;34m(self, widget, name, area, allowed_areas, shortcut, add_vertical_stretch, tabify, menu)\u001b[0m\n\u001b[0;32m    897\u001b[0m \u001b[39mif\u001b[39;00m \u001b[39mnot\u001b[39;00m name:\n\u001b[0;32m    898\u001b[0m     \u001b[39mwith\u001b[39;00m contextlib\u001b[39m.\u001b[39msuppress(\u001b[39mAttributeError\u001b[39;00m):\n\u001b[1;32m--> 899\u001b[0m         name \u001b[39m=\u001b[39m widget\u001b[39m.\u001b[39;49mobjectName()\n\u001b[0;32m    900\u001b[0m     name \u001b[39m=\u001b[39m name \u001b[39mor\u001b[39;00m trans\u001b[39m.\u001b[39m_(\n\u001b[0;32m    901\u001b[0m         \u001b[39m\"\u001b[39m\u001b[39mDock widget \u001b[39m\u001b[39m{number}\u001b[39;00m\u001b[39m\"\u001b[39m,\n\u001b[0;32m    902\u001b[0m         number\u001b[39m=\u001b[39m\u001b[39mself\u001b[39m\u001b[39m.\u001b[39m_unnamed_dockwidget_count,\n\u001b[0;32m    903\u001b[0m     )\n\u001b[0;32m    905\u001b[0m     \u001b[39mself\u001b[39m\u001b[39m.\u001b[39m_unnamed_dockwidget_count \u001b[39m+\u001b[39m\u001b[39m=\u001b[39m \u001b[39m1\u001b[39m\n",
      "\u001b[1;31mRuntimeError\u001b[0m: wrapped C/C++ object of type FigureCanvasQTAgg has been deleted"
     ]
    }
   ],
   "source": [
    "xd.show(keys=[\"leiden\"])\n",
    "\n",
    "# add the figure to the viewer as a FigureCanvas widget\n",
    "xd.viewer.window.add_dock_widget(clb_widget)"
   ]
  },
  {
   "cell_type": "markdown",
   "metadata": {},
   "source": [
    "# promising way"
   ]
  },
  {
   "cell_type": "code",
   "execution_count": 1,
   "metadata": {},
   "outputs": [],
   "source": [
    "import numpy as np\n",
    "import napari\n",
    "from skimage import data\n",
    "from matplotlib.backends.backend_qt5agg import FigureCanvas\n",
    "from matplotlib.figure import Figure\n",
    "from matplotlib.lines import Line2D\n",
    "\n",
    "    \n",
    "    \n",
    "blobs_raw = data.binary_blobs(length=64, n_dim=2, volume_fraction=0.1)\n",
    "viewer = napari.view_image(blobs_raw)\n",
    "\n",
    "static_canvas = FigureCanvas(Figure(figsize=(5, 3)))\n",
    "axes = static_canvas.figure.subplots()\n",
    "\n",
    "colors = [\"crimson\", \"purple\", \"gold\"]\n",
    "\n",
    "red_circle = [Line2D([0], [0], \n",
    "                    marker='o', color='w', label=c,\n",
    "                    markerfacecolor=c, markersize=15) for c in colors]\n",
    "\n",
    "axes.legend(handles=red_circle, loc=\"center\", labelspacing=1, borderpad=0.5)\n",
    "axes.set_axis_off()\n",
    "viewer.window.add_dock_widget(static_canvas, area='right', name='matplotlib figure')\n",
    "\n",
    "napari.run()"
   ]
  },
  {
   "cell_type": "code",
   "execution_count": 71,
   "metadata": {},
   "outputs": [
    {
     "data": {
      "image/png": "[encoded data removed]",
      "text/plain": [
       "<Figure size 10x100 with 1 Axes>"
      ]
     },
     "metadata": {},
     "output_type": "display_data"
    }
   ],
   "source": [
    "from matplotlib.lines import Line2D\n",
    "import matplotlib.pyplot as plt\n",
    "colors = [\"crimson\", \"purple\", \"gold\"]\n",
    "\n",
    "red_circle = [Line2D([0], [0], \n",
    "                    marker='o', color='w', label=c,\n",
    "                    markerfacecolor=c, markersize=15) for c in colors]\n",
    "\n",
    "fig, ax = plt.subplots(1,1,figsize=(0.1,1))\n",
    "ax.legend(handles=red_circle, loc=\"center\", labelspacing=1, borderpad=0.5)\n",
    "ax.set_axis_off()"
   ]
  },
  {
   "cell_type": "code",
   "execution_count": 191,
   "metadata": {},
   "outputs": [
    {
     "name": "stderr",
     "output_type": "stream",
     "text": [
      "WARNING: QWindowsWindow::setGeometry: Unable to set geometry 853x533+2560-1192 (frame: 869x572+2552-1223) on QWidgetWindow/\"_QtMainWindowClassWindow\" on \"\\\\.\\DISPLAY10\". Resulting geometry: 567x653+2557-1206 (frame: 583x692+2549-1237) margins: 8, 31, 8, 8 minimum size: 385x492 MINMAXINFO maxSize=0,0 maxpos=0,0 mintrack=401,531 maxtrack=0,0)\n"
     ]
    }
   ],
   "source": [
    "import matplotlib.pyplot as plt\n",
    "import numpy as np\n",
    "from matplotlib.backends.backend_qt5agg import FigureCanvas\n",
    "\n",
    "import napari\n",
    "\n",
    "# create image\n",
    "x = np.linspace(0, 5, 256)\n",
    "y = np.linspace(0, 5, 256)[:, np.newaxis]\n",
    "img = np.sin(x) ** 10 + np.cos(10 + y * x) * np.cos(x)\n",
    "\n",
    "# add it to the viewer\n",
    "viewer = napari.view_image(img, colormap='viridis')\n",
    "layer = viewer.layers[-1]\n",
    "\n",
    "# create mpl figure with subplots\n",
    "mpl_fig = plt.figure()\n",
    "ax = mpl_fig.add_subplot(111)\n",
    "(line,) = ax.plot(layer.data[123])  # linescan through the middle of the image\n",
    "\n",
    "# add the figure to the viewer as a FigureCanvas widget\n",
    "viewer.window.add_dock_widget(FigureCanvas(mpl_fig))\n",
    "\n",
    "\n",
    "# connect a callback that updates the line plot when\n",
    "# the user clicks on the image\n",
    "@layer.mouse_drag_callbacks.append\n",
    "def profile_lines_drag(layer, event):\n",
    "    try:\n",
    "        line.set_ydata(layer.data[int(event.position[0])])\n",
    "        line.figure.canvas.draw()\n",
    "    except IndexError:\n",
    "        pass\n",
    "\n",
    "\n",
    "if __name__ == '__main__':\n",
    "    napari.run()"
   ]
  },
  {
   "cell_type": "code",
   "execution_count": 96,
   "metadata": {},
   "outputs": [
    {
     "data": {
      "text/plain": [
       "(256, 256)"
      ]
     },
     "execution_count": 96,
     "metadata": {},
     "output_type": "execute_result"
    }
   ],
   "source": [
    "layer.data.shape"
   ]
  },
  {
   "cell_type": "code",
   "execution_count": 98,
   "metadata": {},
   "outputs": [
    {
     "data": {
      "text/plain": [
       "[<matplotlib.lines.Line2D at 0x215e0c17cd0>]"
      ]
     },
     "execution_count": 98,
     "metadata": {},
     "output_type": "execute_result"
    }
   ],
   "source": [
    "ax.plot(layer.data[123])"
   ]
  },
  {
   "cell_type": "code",
   "execution_count": 103,
   "metadata": {},
   "outputs": [
    {
     "data": {
      "text/plain": [
       "matplotlib.figure.Figure"
      ]
     },
     "execution_count": 103,
     "metadata": {},
     "output_type": "execute_result"
    }
   ],
   "source": [
    "type(clb_fig)"
   ]
  },
  {
   "cell_type": "code",
   "execution_count": null,
   "metadata": {},
   "outputs": [],
   "source": [
    "plt.legend(handles=color_list, )"
   ]
  },
  {
   "cell_type": "code",
   "execution_count": 108,
   "metadata": {},
   "outputs": [
    {
     "name": "stderr",
     "output_type": "stream",
     "text": [
      "C:\\Users\\ge37voy\\AppData\\Local\\Temp\\ipykernel_21448\\3353717858.py:1: UserWarning: Legend does not support handles for str_ instances.\n",
      "A proxy artist may be used instead.\n",
      "See: https://matplotlib.org/stable/users/explain/axes/legend_guide.html#controlling-the-legend-entries\n",
      "  plt.legend(color_list, color_list)\n"
     ]
    },
    {
     "data": {
      "text/plain": [
       "<matplotlib.legend.Legend at 0x215c8c951c0>"
      ]
     },
     "execution_count": 108,
     "metadata": {},
     "output_type": "execute_result"
    }
   ],
   "source": [
    "plt.legend(color_list, color_list)"
   ]
  },
  {
   "cell_type": "code",
   "execution_count": 107,
   "metadata": {},
   "outputs": [
    {
     "data": {
      "image/png": "[encoded data removed]",
      "text/plain": [
       "<Figure size 301x521 with 1 Axes>"
      ]
     },
     "execution_count": 107,
     "metadata": {},
     "output_type": "execute_result"
    }
   ],
   "source": [
    "clb_fig"
   ]
  },
  {
   "cell_type": "code",
   "execution_count": null,
   "metadata": {},
   "outputs": [],
   "source": []
  },
  {
   "cell_type": "code",
   "execution_count": 100,
   "metadata": {},
   "outputs": [
    {
     "data": {
      "image/png": "[encoded data removed]",
      "text/plain": [
       "<Figure size 588x1067 with 1 Axes>"
      ]
     },
     "execution_count": 100,
     "metadata": {},
     "output_type": "execute_result"
    }
   ],
   "source": [
    "mpl_fig."
   ]
  },
  {
   "cell_type": "code",
   "execution_count": 99,
   "metadata": {},
   "outputs": [
    {
     "data": {
      "image/png": "[encoded data removed]",
      "text/plain": [
       "<Figure size 301x521 with 1 Axes>"
      ]
     },
     "execution_count": 99,
     "metadata": {},
     "output_type": "execute_result"
    }
   ],
   "source": [
    "clb_fig"
   ]
  },
  {
   "cell_type": "code",
   "execution_count": 58,
   "metadata": {},
   "outputs": [],
   "source": [
    "data_tuple = leiden.as_layer_data_tuple()"
   ]
  },
  {
   "cell_type": "code",
   "execution_count": 63,
   "metadata": {},
   "outputs": [
    {
     "data": {
      "text/plain": [
       "dict_keys(['color_value'])"
      ]
     },
     "execution_count": 63,
     "metadata": {},
     "output_type": "execute_result"
    }
   ],
   "source": [
    "data_tuple[1]['properties'].keys()"
   ]
  },
  {
   "cell_type": "code",
   "execution_count": 35,
   "metadata": {},
   "outputs": [
    {
     "data": {
      "text/plain": [
       "array([[0.12156863, 0.46666667, 0.7058824 , 1.        ],\n",
       "       [1.        , 0.49803922, 0.05490196, 1.        ],\n",
       "       [0.17254902, 0.627451  , 0.17254902, 1.        ],\n",
       "       [0.8392157 , 0.15294118, 0.15686275, 1.        ],\n",
       "       [0.5803922 , 0.40392157, 0.7411765 , 1.        ],\n",
       "       [0.54901963, 0.3372549 , 0.29411766, 1.        ],\n",
       "       [0.8901961 , 0.46666667, 0.7607843 , 1.        ],\n",
       "       [0.7372549 , 0.7411765 , 0.13333334, 1.        ],\n",
       "       [0.09019608, 0.74509805, 0.8117647 , 1.        ],\n",
       "       [0.68235296, 0.78039217, 0.9098039 , 1.        ],\n",
       "       [1.        , 0.73333335, 0.47058824, 1.        ],\n",
       "       [0.59607846, 0.8745098 , 0.5411765 , 1.        ],\n",
       "       [1.        , 0.59607846, 0.5882353 , 1.        ],\n",
       "       [0.77254903, 0.6901961 , 0.8352941 , 1.        ],\n",
       "       [0.76862746, 0.6117647 , 0.5803922 , 1.        ],\n",
       "       [0.96862745, 0.7137255 , 0.8235294 , 1.        ],\n",
       "       [0.85882354, 0.85882354, 0.5529412 , 1.        ],\n",
       "       [0.61960787, 0.85490197, 0.8980392 , 1.        ]], dtype=float32)"
      ]
     },
     "execution_count": 35,
     "metadata": {},
     "output_type": "execute_result"
    }
   ],
   "source": [
    "leiden.face_color_cycle"
   ]
  },
  {
   "cell_type": "code",
   "execution_count": 8,
   "metadata": {},
   "outputs": [
    {
     "data": {
      "text/plain": [
       "<Points layer 'leiden' at 0x182a82bd0d0>"
      ]
     },
     "execution_count": 8,
     "metadata": {},
     "output_type": "execute_result"
    }
   ],
   "source": [
    "layers[\"leiden\"]"
   ]
  },
  {
   "cell_type": "code",
   "execution_count": 16,
   "metadata": {},
   "outputs": [],
   "source": [
    "layers."
   ]
  },
  {
   "cell_type": "code",
   "execution_count": 23,
   "metadata": {},
   "outputs": [
    {
     "data": {
      "text/plain": [
       "Dims(ndim=2, ndisplay=2, last_used=0, range=((0.0, 1791.1625, 0.2125), (0.0, 2691.247886548464, 0.2125)), current_step=(4214, 6331), order=(0, 1), axis_labels=('0', '1'))"
      ]
     },
     "execution_count": 23,
     "metadata": {},
     "output_type": "execute_result"
    }
   ],
   "source": [
    "xd.viewer.dims"
   ]
  },
  {
   "cell_type": "code",
   "execution_count": null,
   "metadata": {},
   "outputs": [],
   "source": []
  }
 ],
 "metadata": {
  "kernelspec": {
   "display_name": "xparse",
   "language": "python",
   "name": "python3"
  },
  "language_info": {
   "codemirror_mode": {
    "name": "ipython",
    "version": 3
   },
   "file_extension": ".py",
   "mimetype": "text/x-python",
   "name": "python",
   "nbconvert_exporter": "python",
   "pygments_lexer": "ipython3",
   "version": "3.9.18"
  }
 },
 "nbformat": 4,
 "nbformat_minor": 2
}
