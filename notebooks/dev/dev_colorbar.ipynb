{
 "cells": [
  {
   "cell_type": "markdown",
   "metadata": {},
   "source": [
    "https://stackoverflow.com/questions/4534480/get-legend-as-a-separate-picture-in-matplotlib"
   ]
  },
  {
   "cell_type": "code",
   "execution_count": 1,
   "metadata": {},
   "outputs": [],
   "source": [
    "## The following code ensures that all functions and init files are reloaded before executions.\n",
    "%load_ext autoreload\n",
    "%autoreload 2"
   ]
  },
  {
   "cell_type": "markdown",
   "metadata": {},
   "source": [
    "## Test implementation into InSituPy"
   ]
  },
  {
   "cell_type": "code",
   "execution_count": 2,
   "metadata": {},
   "outputs": [],
   "source": [
    "from insitupy import XeniumData"
   ]
  },
  {
   "cell_type": "code",
   "execution_count": 3,
   "metadata": {},
   "outputs": [],
   "source": [
    "xd = XeniumData(\"../demo_dataset/cropped_processed/\")"
   ]
  },
  {
   "cell_type": "code",
   "execution_count": 4,
   "metadata": {},
   "outputs": [
    {
     "data": {
      "text/plain": [
       "\u001b[1m\u001b[31mXeniumData\u001b[0m\n",
       "\u001b[1mSlide ID:\u001b[0m\tslide_id\n",
       "\u001b[1mSample ID:\u001b[0m\tsample_id\n",
       "\u001b[1mData path:\u001b[0m\t..\\demo_dataset\n",
       "\u001b[1mData folder:\u001b[0m\tcropped_processed\n",
       "\u001b[1mMetadata file:\u001b[0m\txeniumdata.json"
      ]
     },
     "execution_count": 4,
     "metadata": {},
     "output_type": "execute_result"
    }
   ],
   "source": [
    "xd"
   ]
  },
  {
   "cell_type": "code",
   "execution_count": 5,
   "metadata": {},
   "outputs": [
    {
     "name": "stdout",
     "output_type": "stream",
     "text": [
      "Reading images...\n",
      "Reading matrix...\n"
     ]
    }
   ],
   "source": [
    "xd.read_images()\n",
    "xd.read_matrix()"
   ]
  },
  {
   "cell_type": "code",
   "execution_count": 6,
   "metadata": {},
   "outputs": [],
   "source": [
    "xd.show()"
   ]
  },
  {
   "cell_type": "code",
   "execution_count": 7,
   "metadata": {},
   "outputs": [],
   "source": [
    "from matplotlib.lines import Line2D\n",
    "import matplotlib.pyplot as plt\n",
    "from matplotlib.backends.backend_qt5agg import FigureCanvas\n",
    "\n",
    "\n",
    "def colorlegend_mpl(\n",
    "    colors, labels\n",
    "    ):\n",
    "    with plt.style.context('dark_background'):\n",
    "        handles = [Line2D([0], [0], \n",
    "                        marker='o', \n",
    "                        color='w', \n",
    "                        label=l,\n",
    "                        markerfacecolor=c, \n",
    "                        markeredgewidth=0,\n",
    "                        linewidth=0,\n",
    "                        markersize=15) for c, l in zip(colors, labels)]\n",
    "\n",
    "        fig, ax = plt.subplots(1,1,figsize=(2,2))\n",
    "        ax.legend(handles=handles, \n",
    "                  loc=\"center\", \n",
    "                  labelspacing=1, \n",
    "                  borderpad=0.5,\n",
    "                  ncol=1\n",
    "                  )\n",
    "        ax.set_axis_off()\n",
    "    plt.close()\n",
    "    return fig"
   ]
  },
  {
   "cell_type": "code",
   "execution_count": 21,
   "metadata": {},
   "outputs": [],
   "source": [
    "xd.show(keys=[\"leiden\"])"
   ]
  },
  {
   "cell_type": "code",
   "execution_count": 22,
   "metadata": {},
   "outputs": [],
   "source": [
    "layers = xd.viewer.layers\n",
    "leiden = layers[\"leiden\"]"
   ]
  },
  {
   "cell_type": "code",
   "execution_count": 23,
   "metadata": {},
   "outputs": [],
   "source": [
    "import numpy as np\n",
    "from matplotlib.colors import rgb2hex"
   ]
  },
  {
   "cell_type": "code",
   "execution_count": 24,
   "metadata": {},
   "outputs": [],
   "source": [
    "color_values = leiden.properties['color_value']\n",
    "face_color = leiden.face_color\n",
    "labels = sorted(np.unique(color_values))\n",
    "\n",
    "# create dictionary linking color and labels\n",
    "color_dict = {i: face_color[np.where(color_values == i)[0][0]] for i in labels}\n",
    "color_list = [color_dict[l] for l in labels]"
   ]
  },
  {
   "cell_type": "code",
   "execution_count": 25,
   "metadata": {},
   "outputs": [],
   "source": [
    "clb_fig = colorlegend_mpl(colors=color_list, labels=labels)"
   ]
  },
  {
   "cell_type": "code",
   "execution_count": 26,
   "metadata": {},
   "outputs": [
    {
     "data": {
      "text/plain": [
       "<napari._qt.widgets.qt_viewer_dock_widget.QtViewerDockWidget at 0x1ae0e8b9940>"
      ]
     },
     "execution_count": 26,
     "metadata": {},
     "output_type": "execute_result"
    }
   ],
   "source": [
    "# create widget for colorbar\n",
    "clb_widget = FigureCanvas(clb_fig)\n",
    "#clb_widget.max_height = 50\n",
    "# clb_widget.setMaximumHeight(100)\n",
    "# clb_widget.setMaximumWidth(150)\n",
    "\n",
    "# add the figure to the viewer as a FigureCanvas widget\n",
    "xd.viewer.window.add_dock_widget(clb_widget)"
   ]
  },
  {
   "cell_type": "code",
   "execution_count": 39,
   "metadata": {},
   "outputs": [
    {
     "data": {
      "text/plain": [
       "[<Image layer 'nuclei' at 0x1ad97be0b20>, <Image layer 'CD20' at 0x1adb2cfb100>, <Image layer 'HER2' at 0x1adb2d880d0>, <Image layer 'HE' at 0x1adb5866af0>, <Points layer 'leiden' at 0x1adb5b96970>]"
      ]
     },
     "execution_count": 39,
     "metadata": {},
     "output_type": "execute_result"
    }
   ],
   "source": [
    "xd.viewer.layers.events.changed"
   ]
  },
  {
   "cell_type": "code",
   "execution_count": 73,
   "metadata": {},
   "outputs": [
    {
     "name": "stdout",
     "output_type": "stream",
     "text": [
      "moved to 3: leiden\n",
      "moved to 0: leiden\n",
      "moved to 2: leiden\n"
     ]
    }
   ],
   "source": [
    "xd.show(keys=[\"leiden\"])"
   ]
  },
  {
   "cell_type": "code",
   "execution_count": 56,
   "metadata": {},
   "outputs": [
    {
     "ename": "TypeError",
     "evalue": "connect() missing 1 required positional argument: 'callback'",
     "output_type": "error",
     "traceback": [
      "\u001b[1;31m---------------------------------------------------------------------------\u001b[0m",
      "\u001b[1;31mTypeError\u001b[0m                                 Traceback (most recent call last)",
      "\u001b[1;32mc:\\Users\\ge37voy\\Github\\InSituPy\\notebooks\\dev\\dev_colorbar.ipynb Cell 18\u001b[0m line \u001b[0;36m1\n\u001b[1;32m----> <a href='vscode-notebook-cell:/c%3A/Users/ge37voy/Github/InSituPy/notebooks/dev/dev_colorbar.ipynb#Y162sZmlsZQ%3D%3D?line=0'>1</a>\u001b[0m xd\u001b[39m.\u001b[39;49mviewer\u001b[39m.\u001b[39;49mlayers\u001b[39m.\u001b[39;49mselection\u001b[39m.\u001b[39;49mevents\u001b[39m.\u001b[39;49mactive\u001b[39m.\u001b[39;49mconnect()\n",
      "\u001b[1;31mTypeError\u001b[0m: connect() missing 1 required positional argument: 'callback'"
     ]
    }
   ],
   "source": [
    "xd.viewer.layers.selection.events.active.connect()"
   ]
  },
  {
   "cell_type": "code",
   "execution_count": 67,
   "metadata": {},
   "outputs": [
    {
     "data": {
      "text/plain": [
       "Selection({<Image layer 'HER2' at 0x1ae1174e610>})"
      ]
     },
     "execution_count": 67,
     "metadata": {},
     "output_type": "execute_result"
    }
   ],
   "source": [
    "xd.viewer.layers.selection.events.active.source"
   ]
  },
  {
   "cell_type": "code",
   "execution_count": 52,
   "metadata": {},
   "outputs": [
    {
     "data": {
      "text/plain": [
       "Selection({<Image layer 'CD20' at 0x1adb901cb80>})"
      ]
     },
     "execution_count": 52,
     "metadata": {},
     "output_type": "execute_result"
    }
   ],
   "source": [
    "xd.viewer.layers.selection.events.changed.source"
   ]
  },
  {
   "cell_type": "markdown",
   "metadata": {},
   "source": [
    "## Event examples\n",
    "\n",
    "https://forum.image.sc/t/event-handling-in-napari/46539/2"
   ]
  },
  {
   "cell_type": "code",
   "execution_count": 68,
   "metadata": {},
   "outputs": [
    {
     "name": "stderr",
     "output_type": "stream",
     "text": [
      "c:\\Users\\ge37voy\\AppData\\Local\\miniconda3\\envs\\xparse\\lib\\contextlib.py:119: FutureWarning: \n",
      "The 'gui_qt()' context manager is deprecated.\n",
      "If you are running napari from a script, please use 'napari.run()' as follows:\n",
      "\n",
      "    import napari\n",
      "\n",
      "    viewer = napari.Viewer()  # no prior setup needed\n",
      "    # other code using the viewer...\n",
      "    napari.run()\n",
      "\n",
      "In IPython or Jupyter, 'napari.run()' is not necessary. napari will automatically\n",
      "start an interactive event loop for you: \n",
      "\n",
      "    import napari\n",
      "    viewer = napari.Viewer()  # that's it!\n",
      "\n",
      "  return next(self.gen)\n"
     ]
    },
    {
     "name": "stdout",
     "output_type": "stream",
     "text": [
      "removed: image [2]\n",
      "removed: image [3]\n"
     ]
    }
   ],
   "source": [
    "import napari\n",
    "from skimage.io import imread\n",
    "image = imread('https://samples.fiji.sc/blobs.png')\n",
    "\n",
    "with napari.gui_qt():\n",
    "    viewer = napari.Viewer()\n",
    "    viewer.add_image(image)\n",
    "    viewer.add_image(image)\n",
    "    viewer.add_image(image)\n",
    "    viewer.add_image(image)\n",
    "\n",
    "    def _on_removed(event):\n",
    "        layer = event.value\n",
    "        print(\"removed: \" + layer.name)\n",
    "\n",
    "    viewer.layers.events.removed.connect(_on_removed)"
   ]
  },
  {
   "cell_type": "code",
   "execution_count": 46,
   "metadata": {},
   "outputs": [
    {
     "ename": "SyntaxError",
     "evalue": "invalid syntax (3761097936.py, line 1)",
     "output_type": "error",
     "traceback": [
      "\u001b[1;36m  Cell \u001b[1;32mIn[46], line 1\u001b[1;36m\u001b[0m\n\u001b[1;33m    xd.viewer.layers['leiden'].events.data.\u001b[0m\n\u001b[1;37m                                           ^\u001b[0m\n\u001b[1;31mSyntaxError\u001b[0m\u001b[1;31m:\u001b[0m invalid syntax\n"
     ]
    }
   ],
   "source": [
    "xd.viewer.layers['leiden'].events.data."
   ]
  },
  {
   "cell_type": "code",
   "execution_count": null,
   "metadata": {},
   "outputs": [],
   "source": []
  },
  {
   "cell_type": "code",
   "execution_count": null,
   "metadata": {},
   "outputs": [],
   "source": [
    "# create colorbar\n",
    "colors = [\"crimson\", \"purple\", \"gold\"]\n",
    "clb_fig = colorlegend_mpl(colors, colors)\n",
    "\n",
    "# create widget for colorbar\n",
    "clb_widget = FigureCanvas(clb_fig)\n",
    "clb_widget.setMaximumHeight(100)\n",
    "clb_widget.setMaximumWidth(150)"
   ]
  },
  {
   "cell_type": "code",
   "execution_count": 20,
   "metadata": {},
   "outputs": [
    {
     "ename": "RuntimeError",
     "evalue": "wrapped C/C++ object of type FigureCanvasQTAgg has been deleted",
     "output_type": "error",
     "traceback": [
      "\u001b[1;31m---------------------------------------------------------------------------\u001b[0m",
      "\u001b[1;31mRuntimeError\u001b[0m                              Traceback (most recent call last)",
      "\u001b[1;32mc:\\Users\\ge37voy\\Github\\InSituPy\\notebooks\\dev\\dev_colorbar.ipynb Cell 17\u001b[0m line \u001b[0;36m4\n\u001b[0;32m      <a href='vscode-notebook-cell:/c%3A/Users/ge37voy/Github/InSituPy/notebooks/dev/dev_colorbar.ipynb#Y150sZmlsZQ%3D%3D?line=0'>1</a>\u001b[0m xd\u001b[39m.\u001b[39mshow(keys\u001b[39m=\u001b[39m[\u001b[39m\"\u001b[39m\u001b[39mleiden\u001b[39m\u001b[39m\"\u001b[39m])\n\u001b[0;32m      <a href='vscode-notebook-cell:/c%3A/Users/ge37voy/Github/InSituPy/notebooks/dev/dev_colorbar.ipynb#Y150sZmlsZQ%3D%3D?line=2'>3</a>\u001b[0m \u001b[39m# add the figure to the viewer as a FigureCanvas widget\u001b[39;00m\n\u001b[1;32m----> <a href='vscode-notebook-cell:/c%3A/Users/ge37voy/Github/InSituPy/notebooks/dev/dev_colorbar.ipynb#Y150sZmlsZQ%3D%3D?line=3'>4</a>\u001b[0m xd\u001b[39m.\u001b[39;49mviewer\u001b[39m.\u001b[39;49mwindow\u001b[39m.\u001b[39;49madd_dock_widget(clb_widget)\n",
      "File \u001b[1;32mc:\\Users\\ge37voy\\AppData\\Local\\miniconda3\\envs\\xparse\\lib\\site-packages\\napari\\_qt\\qt_main_window.py:899\u001b[0m, in \u001b[0;36mWindow.add_dock_widget\u001b[1;34m(self, widget, name, area, allowed_areas, shortcut, add_vertical_stretch, tabify, menu)\u001b[0m\n\u001b[0;32m    897\u001b[0m \u001b[39mif\u001b[39;00m \u001b[39mnot\u001b[39;00m name:\n\u001b[0;32m    898\u001b[0m     \u001b[39mwith\u001b[39;00m contextlib\u001b[39m.\u001b[39msuppress(\u001b[39mAttributeError\u001b[39;00m):\n\u001b[1;32m--> 899\u001b[0m         name \u001b[39m=\u001b[39m widget\u001b[39m.\u001b[39;49mobjectName()\n\u001b[0;32m    900\u001b[0m     name \u001b[39m=\u001b[39m name \u001b[39mor\u001b[39;00m trans\u001b[39m.\u001b[39m_(\n\u001b[0;32m    901\u001b[0m         \u001b[39m\"\u001b[39m\u001b[39mDock widget \u001b[39m\u001b[39m{number}\u001b[39;00m\u001b[39m\"\u001b[39m,\n\u001b[0;32m    902\u001b[0m         number\u001b[39m=\u001b[39m\u001b[39mself\u001b[39m\u001b[39m.\u001b[39m_unnamed_dockwidget_count,\n\u001b[0;32m    903\u001b[0m     )\n\u001b[0;32m    905\u001b[0m     \u001b[39mself\u001b[39m\u001b[39m.\u001b[39m_unnamed_dockwidget_count \u001b[39m+\u001b[39m\u001b[39m=\u001b[39m \u001b[39m1\u001b[39m\n",
      "\u001b[1;31mRuntimeError\u001b[0m: wrapped C/C++ object of type FigureCanvasQTAgg has been deleted"
     ]
    }
   ],
   "source": [
    "xd.show(keys=[\"leiden\"])\n",
    "\n",
    "# add the figure to the viewer as a FigureCanvas widget\n",
    "xd.viewer.window.add_dock_widget(clb_widget)"
   ]
  },
  {
   "cell_type": "markdown",
   "metadata": {},
   "source": [
    "# promising way"
   ]
  },
  {
   "cell_type": "code",
   "execution_count": 1,
   "metadata": {},
   "outputs": [],
   "source": [
    "import numpy as np\n",
    "import napari\n",
    "from skimage import data\n",
    "from matplotlib.backends.backend_qt5agg import FigureCanvas\n",
    "from matplotlib.figure import Figure\n",
    "from matplotlib.lines import Line2D\n",
    "\n",
    "    \n",
    "    \n",
    "blobs_raw = data.binary_blobs(length=64, n_dim=2, volume_fraction=0.1)\n",
    "viewer = napari.view_image(blobs_raw)\n",
    "\n",
    "static_canvas = FigureCanvas(Figure(figsize=(5, 3)))\n",
    "axes = static_canvas.figure.subplots()\n",
    "\n",
    "colors = [\"crimson\", \"purple\", \"gold\"]\n",
    "\n",
    "red_circle = [Line2D([0], [0], \n",
    "                    marker='o', color='w', label=c,\n",
    "                    markerfacecolor=c, markersize=15) for c in colors]\n",
    "\n",
    "axes.legend(handles=red_circle, loc=\"center\", labelspacing=1, borderpad=0.5)\n",
    "axes.set_axis_off()\n",
    "viewer.window.add_dock_widget(static_canvas, area='right', name='matplotlib figure')\n",
    "\n",
    "napari.run()"
   ]
  },
  {
   "cell_type": "code",
   "execution_count": 71,
   "metadata": {},
   "outputs": [
    {
     "data": {
      "image/png": "[encoded data removed]",
      "text/plain": [
       "<Figure size 10x100 with 1 Axes>"
      ]
     },
     "metadata": {},
     "output_type": "display_data"
    }
   ],
   "source": [
    "from matplotlib.lines import Line2D\n",
    "import matplotlib.pyplot as plt\n",
    "colors = [\"crimson\", \"purple\", \"gold\"]\n",
    "\n",
    "red_circle = [Line2D([0], [0], \n",
    "                    marker='o', color='w', label=c,\n",
    "                    markerfacecolor=c, markersize=15) for c in colors]\n",
    "\n",
    "fig, ax = plt.subplots(1,1,figsize=(0.1,1))\n",
    "ax.legend(handles=red_circle, loc=\"center\", labelspacing=1, borderpad=0.5)\n",
    "ax.set_axis_off()"
   ]
  },
  {
   "cell_type": "code",
   "execution_count": 1,
   "metadata": {},
   "outputs": [
    {
     "data": {
      "image/png": "[encoded data removed]",
      "text/plain": [
       "<Figure size 640x480 with 1 Axes>"
      ]
     },
     "metadata": {},
     "output_type": "display_data"
    }
   ],
   "source": [
    "import matplotlib.pyplot as plt\n",
    "import numpy as np\n",
    "from matplotlib.backends.backend_qt5agg import FigureCanvas\n",
    "\n",
    "import napari\n",
    "\n",
    "# create image\n",
    "x = np.linspace(0, 5, 256)\n",
    "y = np.linspace(0, 5, 256)[:, np.newaxis]\n",
    "img = np.sin(x) ** 10 + np.cos(10 + y * x) * np.cos(x)\n",
    "\n",
    "# add it to the viewer\n",
    "viewer = napari.view_image(img, colormap='viridis')\n",
    "layer = viewer.layers[-1]\n",
    "\n",
    "# create mpl figure with subplots\n",
    "mpl_fig = plt.figure()\n",
    "ax = mpl_fig.add_subplot(111)\n",
    "(line,) = ax.plot(layer.data[123])  # linescan through the middle of the image\n",
    "\n",
    "# add the figure to the viewer as a FigureCanvas widget\n",
    "viewer.window.add_dock_widget(FigureCanvas(mpl_fig))\n",
    "\n",
    "\n",
    "# connect a callback that updates the line plot when\n",
    "# the user clicks on the image\n",
    "@layer.mouse_drag_callbacks.append\n",
    "def profile_lines_drag(layer, event):\n",
    "    try:\n",
    "        line.set_ydata(layer.data[int(event.position[0])])\n",
    "        line.figure.canvas.draw()\n",
    "    except IndexError:\n",
    "        pass\n",
    "\n",
    "\n",
    "if __name__ == '__main__':\n",
    "    napari.run()"
   ]
  },
  {
   "cell_type": "code",
   "execution_count": 58,
   "metadata": {},
   "outputs": [],
   "source": [
    "data_tuple = leiden.as_layer_data_tuple()"
   ]
  },
  {
   "cell_type": "code",
   "execution_count": 63,
   "metadata": {},
   "outputs": [
    {
     "data": {
      "text/plain": [
       "dict_keys(['color_value'])"
      ]
     },
     "execution_count": 63,
     "metadata": {},
     "output_type": "execute_result"
    }
   ],
   "source": [
    "data_tuple[1]['properties'].keys()"
   ]
  },
  {
   "cell_type": "code",
   "execution_count": 35,
   "metadata": {},
   "outputs": [
    {
     "data": {
      "text/plain": [
       "array([[0.12156863, 0.46666667, 0.7058824 , 1.        ],\n",
       "       [1.        , 0.49803922, 0.05490196, 1.        ],\n",
       "       [0.17254902, 0.627451  , 0.17254902, 1.        ],\n",
       "       [0.8392157 , 0.15294118, 0.15686275, 1.        ],\n",
       "       [0.5803922 , 0.40392157, 0.7411765 , 1.        ],\n",
       "       [0.54901963, 0.3372549 , 0.29411766, 1.        ],\n",
       "       [0.8901961 , 0.46666667, 0.7607843 , 1.        ],\n",
       "       [0.7372549 , 0.7411765 , 0.13333334, 1.        ],\n",
       "       [0.09019608, 0.74509805, 0.8117647 , 1.        ],\n",
       "       [0.68235296, 0.78039217, 0.9098039 , 1.        ],\n",
       "       [1.        , 0.73333335, 0.47058824, 1.        ],\n",
       "       [0.59607846, 0.8745098 , 0.5411765 , 1.        ],\n",
       "       [1.        , 0.59607846, 0.5882353 , 1.        ],\n",
       "       [0.77254903, 0.6901961 , 0.8352941 , 1.        ],\n",
       "       [0.76862746, 0.6117647 , 0.5803922 , 1.        ],\n",
       "       [0.96862745, 0.7137255 , 0.8235294 , 1.        ],\n",
       "       [0.85882354, 0.85882354, 0.5529412 , 1.        ],\n",
       "       [0.61960787, 0.85490197, 0.8980392 , 1.        ]], dtype=float32)"
      ]
     },
     "execution_count": 35,
     "metadata": {},
     "output_type": "execute_result"
    }
   ],
   "source": [
    "leiden.face_color_cycle"
   ]
  },
  {
   "cell_type": "code",
   "execution_count": 8,
   "metadata": {},
   "outputs": [
    {
     "data": {
      "text/plain": [
       "<Points layer 'leiden' at 0x182a82bd0d0>"
      ]
     },
     "execution_count": 8,
     "metadata": {},
     "output_type": "execute_result"
    }
   ],
   "source": [
    "layers[\"leiden\"]"
   ]
  },
  {
   "cell_type": "code",
   "execution_count": 16,
   "metadata": {},
   "outputs": [],
   "source": [
    "layers."
   ]
  },
  {
   "cell_type": "code",
   "execution_count": 23,
   "metadata": {},
   "outputs": [
    {
     "data": {
      "text/plain": [
       "Dims(ndim=2, ndisplay=2, last_used=0, range=((0.0, 1791.1625, 0.2125), (0.0, 2691.247886548464, 0.2125)), current_step=(4214, 6331), order=(0, 1), axis_labels=('0', '1'))"
      ]
     },
     "execution_count": 23,
     "metadata": {},
     "output_type": "execute_result"
    }
   ],
   "source": [
    "xd.viewer.dims"
   ]
  },
  {
   "cell_type": "code",
   "execution_count": null,
   "metadata": {},
   "outputs": [],
   "source": []
  }
 ],
 "metadata": {
  "kernelspec": {
   "display_name": "xparse",
   "language": "python",
   "name": "python3"
  },
  "language_info": {
   "codemirror_mode": {
    "name": "ipython",
    "version": 3
   },
   "file_extension": ".py",
   "mimetype": "text/x-python",
   "name": "python",
   "nbconvert_exporter": "python",
   "pygments_lexer": "ipython3",
   "version": "3.9.18"
  }
 },
 "nbformat": 4,
 "nbformat_minor": 2
}
