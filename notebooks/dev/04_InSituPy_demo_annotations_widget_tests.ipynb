{
 "cells": [
  {
   "cell_type": "markdown",
   "id": "b16df72d-5dd5-47da-a8c3-b569fe97446b",
   "metadata": {
    "tags": []
   },
   "source": [
    "# InSituPy demonstration - Add annotations"
   ]
  },
  {
   "cell_type": "code",
   "execution_count": 1,
   "id": "8bc0c4ed-3587-460e-98d2-6626a020a327",
   "metadata": {},
   "outputs": [],
   "source": [
    "## The following code ensures that all functions and init files are reloaded before executions.\n",
    "%load_ext autoreload\n",
    "%autoreload 2"
   ]
  },
  {
   "cell_type": "code",
   "execution_count": 2,
   "id": "58107e0b-5017-425b-8cd0-9274be2b8253",
   "metadata": {},
   "outputs": [],
   "source": [
    "from pathlib import Path\n",
    "from insitupy import XeniumData"
   ]
  },
  {
   "cell_type": "markdown",
   "id": "db038252",
   "metadata": {},
   "source": [
    "## Previous steps\n",
    "\n",
    "1. Download the example data for demonstration: [01_InSituPy_demo_download_data.ipynb](./01_InSituPy_demo_download_data.ipynb)\n",
    "2. Register images from external stainings: [02_InSituPy_demo_register_images.ipynb](./02_InSituPy_demo_register_images.ipynb)\n",
    "3. Visualize data with napari and do preprocessing steps: [03_InSituPy_demo_analyze.ipynb](./03_InSituPy_demo_analyze.ipynb)\n",
    "\n",
    "At this point, the structure of the data should look like this:\n",
    "\n",
    "    ```\n",
    "    ./demo_dataset\n",
    "    ├───cropped_processed\n",
    "    ├───output-XETG00000__slide_id__sample_id\n",
    "    │   ├───analysis\n",
    "    │   │   ├───clustering\n",
    "    │   │   ├───diffexp\n",
    "    │   │   ├───pca\n",
    "    │   │   ├───tsne\n",
    "    │   │   └───umap\n",
    "    │   └───cell_feature_matrix\n",
    "    ├───registered_images\n",
    "    ├───registration_qc\n",
    "    └───unregistered_images\n",
    "    ```\n"
   ]
  },
  {
   "cell_type": "markdown",
   "id": "ae409a19",
   "metadata": {},
   "source": [
    "## Load Xenium data into `XeniumData` object\n",
    "\n",
    "Now the Xenium data can be parsed by providing the data path to `XeniumData`"
   ]
  },
  {
   "cell_type": "code",
   "execution_count": 3,
   "id": "2db31fb9",
   "metadata": {},
   "outputs": [],
   "source": [
    "# prepare paths\n",
    "data_dir = Path(\"demo_dataset\") # output directory\n",
    "xenium_dir = data_dir / \"output-XETG00000__slide_id__sample_id\" # directory of xenium data\n",
    "image_dir = data_dir / \"unregistered_images\" # directory of images"
   ]
  },
  {
   "cell_type": "code",
   "execution_count": 4,
   "id": "188ddb98",
   "metadata": {},
   "outputs": [],
   "source": [
    "xd = XeniumData(xenium_dir)"
   ]
  },
  {
   "cell_type": "code",
   "execution_count": 5,
   "id": "22afdac4",
   "metadata": {},
   "outputs": [
    {
     "data": {
      "text/plain": [
       "\u001b[1m\u001b[31mXeniumData\u001b[0m\n",
       "\u001b[1mSlide ID:\u001b[0m\tslide_id\n",
       "\u001b[1mSample ID:\u001b[0m\tsample_id\n",
       "\u001b[1mData path:\u001b[0m\tdemo_dataset\n",
       "\u001b[1mData folder:\u001b[0m\toutput-XETG00000__slide_id__sample_id\n",
       "\u001b[1mMetadata file:\u001b[0m\texperiment_modified.xenium"
      ]
     },
     "execution_count": 5,
     "metadata": {},
     "output_type": "execute_result"
    }
   ],
   "source": [
    "xd"
   ]
  },
  {
   "cell_type": "code",
   "execution_count": 6,
   "id": "e0ec9d39",
   "metadata": {},
   "outputs": [
    {
     "name": "stdout",
     "output_type": "stream",
     "text": [
      "No `annotations` modality found.\n",
      "Reading boundaries...\n",
      "Reading images...\n",
      "Reading matrix...\n",
      "Reading transcripts...\n"
     ]
    }
   ],
   "source": [
    "# read all data modalities at once\n",
    "xd.read_all()\n",
    "\n",
    "# alternatively, it is also possible to read each modality separately\n",
    "# xd.read_matrix()\n",
    "# xd.read_images()\n",
    "# xd.read_boundaries()\n",
    "# xd.read_transcripts()\n",
    "# xd.read_annotations()"
   ]
  },
  {
   "cell_type": "markdown",
   "id": "a7cc74ee",
   "metadata": {},
   "source": [
    "Note: That the `annotations` modality is not found here is expected. Annotations are added in a later step."
   ]
  },
  {
   "cell_type": "code",
   "execution_count": 7,
   "id": "7a864387",
   "metadata": {},
   "outputs": [
    {
     "data": {
      "text/plain": [
       "\u001b[1m\u001b[31mXeniumData\u001b[0m\n",
       "\u001b[1mSlide ID:\u001b[0m\tslide_id\n",
       "\u001b[1mSample ID:\u001b[0m\tsample_id\n",
       "\u001b[1mData path:\u001b[0m\tdemo_dataset\n",
       "\u001b[1mData folder:\u001b[0m\toutput-XETG00000__slide_id__sample_id\n",
       "\u001b[1mMetadata file:\u001b[0m\texperiment_modified.xenium\n",
       "    ➤ \u001b[34m\u001b[1mimages\u001b[0m\n",
       "       \u001b[1mnuclei:\u001b[0m\t(25778, 35416)\n",
       "       \u001b[1mCD20:\u001b[0m\t(25778, 35416)\n",
       "       \u001b[1mHER2:\u001b[0m\t(25778, 35416)\n",
       "       \u001b[1mHE:\u001b[0m\t(25778, 35416, 3)\n",
       "    ➤\u001b[32m\u001b[1m matrix\u001b[0m\n",
       "       AnnData object with n_obs × n_vars = 167780 × 313\n",
       "\t       obs: 'transcript_counts', 'control_probe_counts', 'control_codeword_counts', 'total_counts', 'cell_area', 'nucleus_area'\n",
       "\t       var: 'gene_ids', 'feature_types', 'genome'\n",
       "\t       obsm: 'spatial'\n",
       "    ➤\u001b[96m\u001b[1m transcripts\u001b[0m\n",
       "\t   DataFrame with shape 42638083 x 8\n",
       "    ➤ \u001b[95m\u001b[1mboundaries\u001b[0m\n",
       "       \u001b[1mcells\u001b[0m\n",
       "       \u001b[1mnuclei\u001b[0m"
      ]
     },
     "execution_count": 7,
     "metadata": {},
     "output_type": "execute_result"
    }
   ],
   "source": [
    "xd"
   ]
  },
  {
   "cell_type": "markdown",
   "metadata": {},
   "source": [
    "## Load annotations\n",
    "\n",
    "For the analysis of spatial transcriptomic datasets the inclusion of annotations from experts of disease pathology is key. Here, we demonstrate how to annotate data in [QuPath](https://qupath.github.io/), export the annotations as `.geojson` file and import them into the `XeniumData` object.\n",
    "\n",
    "### Create annotations in QuPath\n",
    "\n",
    "To create annotations in QuPath, follow these steps:\n",
    "\n",
    "1. Select a annotation tool from the bar on the top left:\n",
    "\n",
    "<center><img src=\"./demo_annotations/qupath_annotation_buttons.png\"/></center>\n",
    "\n",
    "2. Add as many annotations as you want and label them by setting classes in the annotation list. Do not forget to press the \"Set class\" button:\n",
    "\n",
    "<center><img src=\"./demo_annotations/qupath_annotation_list.png\"/></center>\n",
    "\n",
    "3. Export annotations using `File > Export objects as GeoJSON`. Tick `Pretty JSON` to get an easily readable JSON file. The file name needs to have following structure: `annotation-{slide_id}__{sample_id}__{annotation_label}`.\n",
    "\n",
    "### Import annotations into `XeniumData`\n",
    "\n",
    "For demonstration purposes, we created a dummy annotation file in `./demo_annotations/`. To add the annotations to `XeniumData` follow the steps below.\n",
    "\n"
   ]
  },
  {
   "cell_type": "code",
   "execution_count": 17,
   "metadata": {},
   "outputs": [
    {
     "name": "stdout",
     "output_type": "stream",
     "text": [
      "Reading annotations...\n"
     ]
    }
   ],
   "source": [
    "xd.read_annotations(annotation_dir=\"./demo_annotations/\")"
   ]
  },
  {
   "cell_type": "code",
   "execution_count": 18,
   "metadata": {},
   "outputs": [
    {
     "data": {
      "text/plain": [
       "\u001b[1m\u001b[31mXeniumData\u001b[0m\n",
       "\u001b[1mSlide ID:\u001b[0m\tslide_id\n",
       "\u001b[1mSample ID:\u001b[0m\tsample_id\n",
       "\u001b[1mData path:\u001b[0m\tdemo_dataset\n",
       "\u001b[1mData folder:\u001b[0m\toutput-XETG00000__slide_id__sample_id\n",
       "\u001b[1mMetadata file:\u001b[0m\texperiment_modified.xenium\n",
       "    ➤ \u001b[34m\u001b[1mimages\u001b[0m\n",
       "       \u001b[1mnuclei:\u001b[0m\t(25778, 35416)\n",
       "       \u001b[1mCD20:\u001b[0m\t(25778, 35416)\n",
       "       \u001b[1mHER2:\u001b[0m\t(25778, 35416)\n",
       "       \u001b[1mHE:\u001b[0m\t(25778, 35416, 3)\n",
       "    ➤\u001b[32m\u001b[1m matrix\u001b[0m\n",
       "       AnnData object with n_obs × n_vars = 167780 × 313\n",
       "\t       obs: 'transcript_counts', 'control_probe_counts', 'control_codeword_counts', 'total_counts', 'cell_area', 'nucleus_area'\n",
       "\t       var: 'gene_ids', 'feature_types', 'genome'\n",
       "\t       obsm: 'spatial'\n",
       "    ➤\u001b[96m\u001b[1m transcripts\u001b[0m\n",
       "\t   DataFrame with shape 42638083 x 8\n",
       "    ➤ \u001b[95m\u001b[1mboundaries\u001b[0m\n",
       "       \u001b[1mcells\u001b[0m\n",
       "       \u001b[1mnuclei\u001b[0m\n",
       "    ➤ \u001b[36m\u001b[1mannotations\u001b[0m\n",
       "       \u001b[1mdemo:\u001b[0m\t4 annotations, 2 classes ('Positive', 'Negative') \n",
       "       \u001b[1mdemo2:\u001b[0m\t5 annotations, 3 classes ('Negative', 'Positive', 'Other') "
      ]
     },
     "execution_count": 18,
     "metadata": {},
     "output_type": "execute_result"
    }
   ],
   "source": [
    "xd"
   ]
  },
  {
   "cell_type": "markdown",
   "metadata": {},
   "source": [
    "### Visualize annotations using napari"
   ]
  },
  {
   "cell_type": "code",
   "execution_count": 24,
   "metadata": {},
   "outputs": [
    {
     "ename": "RuntimeError",
     "evalue": "wrapped C/C++ object of type QWidget has been deleted",
     "output_type": "error",
     "traceback": [
      "\u001b[1;31m---------------------------------------------------------------------------\u001b[0m",
      "\u001b[1;31mRuntimeError\u001b[0m                              Traceback (most recent call last)",
      "\u001b[1;32mc:\\Users\\ge37voy\\Github\\InSituPy\\notebooks\\04_InSituPy_demo_annotations_widget_tests.ipynb Cell 16\u001b[0m line \u001b[0;36m1\n\u001b[1;32m----> <a href='vscode-notebook-cell:/c%3A/Users/ge37voy/Github/InSituPy/notebooks/04_InSituPy_demo_annotations_widget_tests.ipynb#X42sZmlsZQ%3D%3D?line=0'>1</a>\u001b[0m xd\u001b[39m.\u001b[39;49mshow(annotation_labels\u001b[39m=\u001b[39;49m\u001b[39m\"\u001b[39;49m\u001b[39mall\u001b[39;49m\u001b[39m\"\u001b[39;49m)\n",
      "File \u001b[1;32m~\\Github\\InSituPy\\insitupy\\visualize\\_visualize.py:133\u001b[0m, in \u001b[0;36mshow\u001b[1;34m(self, keys, annotation_labels, show_images, show_cells, scalebar, pixel_size, unit, cmap_annotations, grayscale_colormap, return_viewer)\u001b[0m\n\u001b[0;32m    130\u001b[0m \u001b[39m# optionally add annotations\u001b[39;00m\n\u001b[0;32m    131\u001b[0m \u001b[39mif\u001b[39;00m annotation_labels \u001b[39mis\u001b[39;00m \u001b[39mnot\u001b[39;00m \u001b[39mNone\u001b[39;00m:\n\u001b[0;32m    132\u001b[0m     \u001b[39m# add annotation widget to napari\u001b[39;00m\n\u001b[1;32m--> 133\u001b[0m     \u001b[39mself\u001b[39;49m\u001b[39m.\u001b[39;49mviewer\u001b[39m.\u001b[39;49mwindow\u001b[39m.\u001b[39;49madd_dock_widget(annotation_widget, name\u001b[39m=\u001b[39;49m\u001b[39m\"\u001b[39;49m\u001b[39mAdd annotations\u001b[39;49m\u001b[39m\"\u001b[39;49m, area\u001b[39m=\u001b[39;49m\u001b[39m\"\u001b[39;49m\u001b[39mright\u001b[39;49m\u001b[39m\"\u001b[39;49m)\n\u001b[0;32m    135\u001b[0m     \u001b[39m# get colorcycle for region annotations\u001b[39;00m\n\u001b[0;32m    136\u001b[0m     cmap_annot \u001b[39m=\u001b[39m matplotlib\u001b[39m.\u001b[39mcolormaps[cmap_annotations]\n",
      "File \u001b[1;32mc:\\Users\\ge37voy\\AppData\\Local\\miniconda3\\envs\\insitupy\\lib\\site-packages\\napari\\_qt\\qt_main_window.py:923\u001b[0m, in \u001b[0;36mWindow.add_dock_widget\u001b[1;34m(self, widget, name, area, allowed_areas, shortcut, add_vertical_stretch, tabify, menu)\u001b[0m\n\u001b[0;32m    913\u001b[0m     dock_widget \u001b[39m=\u001b[39m QtViewerDockWidget(\n\u001b[0;32m    914\u001b[0m         \u001b[39mself\u001b[39m\u001b[39m.\u001b[39m_qt_viewer,\n\u001b[0;32m    915\u001b[0m         widget,\n\u001b[1;32m   (...)\u001b[0m\n\u001b[0;32m    920\u001b[0m         add_vertical_stretch\u001b[39m=\u001b[39madd_vertical_stretch,\n\u001b[0;32m    921\u001b[0m     )\n\u001b[0;32m    922\u001b[0m \u001b[39melse\u001b[39;00m:\n\u001b[1;32m--> 923\u001b[0m     dock_widget \u001b[39m=\u001b[39m QtViewerDockWidget(\n\u001b[0;32m    924\u001b[0m         \u001b[39mself\u001b[39;49m\u001b[39m.\u001b[39;49m_qt_viewer,\n\u001b[0;32m    925\u001b[0m         widget,\n\u001b[0;32m    926\u001b[0m         name\u001b[39m=\u001b[39;49mname,\n\u001b[0;32m    927\u001b[0m         area\u001b[39m=\u001b[39;49marea,\n\u001b[0;32m    928\u001b[0m         allowed_areas\u001b[39m=\u001b[39;49mallowed_areas,\n\u001b[0;32m    929\u001b[0m         add_vertical_stretch\u001b[39m=\u001b[39;49madd_vertical_stretch,\n\u001b[0;32m    930\u001b[0m     )\n\u001b[0;32m    932\u001b[0m \u001b[39mself\u001b[39m\u001b[39m.\u001b[39m_add_viewer_dock_widget(dock_widget, tabify\u001b[39m=\u001b[39mtabify, menu\u001b[39m=\u001b[39mmenu)\n\u001b[0;32m    934\u001b[0m \u001b[39mif\u001b[39;00m \u001b[39mhasattr\u001b[39m(widget, \u001b[39m'\u001b[39m\u001b[39mreset_choices\u001b[39m\u001b[39m'\u001b[39m):\n\u001b[0;32m    935\u001b[0m     \u001b[39m# Keep the dropdown menus in the widget in sync with the layer model\u001b[39;00m\n\u001b[0;32m    936\u001b[0m     \u001b[39m# if widget has a `reset_choices`, which is true for all magicgui\u001b[39;00m\n\u001b[0;32m    937\u001b[0m     \u001b[39m# `CategoricalWidget`s\u001b[39;00m\n",
      "File \u001b[1;32mc:\\Users\\ge37voy\\AppData\\Local\\miniconda3\\envs\\insitupy\\lib\\site-packages\\napari\\_qt\\widgets\\qt_viewer_dock_widget.py:142\u001b[0m, in \u001b[0;36mQtViewerDockWidget.__init__\u001b[1;34m(self, qt_viewer, widget, name, area, allowed_areas, shortcut, object_name, add_vertical_stretch, close_btn)\u001b[0m\n\u001b[0;32m    140\u001b[0m is_vertical \u001b[39m=\u001b[39m area \u001b[39min\u001b[39;00m {\u001b[39m'\u001b[39m\u001b[39mleft\u001b[39m\u001b[39m'\u001b[39m, \u001b[39m'\u001b[39m\u001b[39mright\u001b[39m\u001b[39m'\u001b[39m}\n\u001b[0;32m    141\u001b[0m widget \u001b[39m=\u001b[39m combine_widgets(widget, vertical\u001b[39m=\u001b[39mis_vertical)\n\u001b[1;32m--> 142\u001b[0m \u001b[39mself\u001b[39;49m\u001b[39m.\u001b[39;49msetWidget(widget)\n\u001b[0;32m    143\u001b[0m \u001b[39mif\u001b[39;00m is_vertical \u001b[39mand\u001b[39;00m add_vertical_stretch:\n\u001b[0;32m    144\u001b[0m     \u001b[39mself\u001b[39m\u001b[39m.\u001b[39m_maybe_add_vertical_stretch(widget)\n",
      "File \u001b[1;32mc:\\Users\\ge37voy\\AppData\\Local\\miniconda3\\envs\\insitupy\\lib\\site-packages\\napari\\_qt\\widgets\\qt_viewer_dock_widget.py:299\u001b[0m, in \u001b[0;36mQtViewerDockWidget.setWidget\u001b[1;34m(self, widget)\u001b[0m\n\u001b[0;32m    297\u001b[0m \u001b[39mdef\u001b[39;00m \u001b[39msetWidget\u001b[39m(\u001b[39mself\u001b[39m, widget):\n\u001b[0;32m    298\u001b[0m     widget\u001b[39m.\u001b[39m_parent \u001b[39m=\u001b[39m \u001b[39mself\u001b[39m\n\u001b[1;32m--> 299\u001b[0m     \u001b[39mself\u001b[39;49m\u001b[39m.\u001b[39;49msetFocusProxy(widget)\n\u001b[0;32m    300\u001b[0m     \u001b[39msuper\u001b[39m()\u001b[39m.\u001b[39msetWidget(widget)\n",
      "\u001b[1;31mRuntimeError\u001b[0m: wrapped C/C++ object of type QWidget has been deleted"
     ]
    }
   ],
   "source": [
    "xd.show(annotation_labels=\"all\")"
   ]
  },
  {
   "cell_type": "code",
   "execution_count": 15,
   "metadata": {},
   "outputs": [],
   "source": [
    "l = xd.viewer.layers[\"Other (demo2)\"]"
   ]
  },
  {
   "cell_type": "code",
   "execution_count": 20,
   "metadata": {},
   "outputs": [],
   "source": [
    "ll = xd.viewer.layers"
   ]
  },
  {
   "cell_type": "code",
   "execution_count": 33,
   "metadata": {},
   "outputs": [],
   "source": [
    "sel = ll.selection"
   ]
  },
  {
   "cell_type": "code",
   "execution_count": null,
   "metadata": {},
   "outputs": [
    {
     "data": {
      "text/plain": [
       "1"
      ]
     },
     "execution_count": 54,
     "metadata": {},
     "output_type": "execute_result"
    }
   ],
   "source": [
    "len(sel)"
   ]
  },
  {
   "cell_type": "code",
   "execution_count": 43,
   "metadata": {},
   "outputs": [],
   "source": [
    "sh = list(sel)[0]"
   ]
  },
  {
   "cell_type": "code",
   "execution_count": 46,
   "metadata": {},
   "outputs": [
    {
     "data": {
      "text/plain": [
       "[array([[ 9688.22942556, 16895.30604434],\n",
       "        [10104.80363213, 16697.98142018],\n",
       "        [10499.45288046, 16610.28158722],\n",
       "        [10959.87700351, 16588.35662898],\n",
       "        [11201.05154416, 16610.28158722],\n",
       "        [11442.2260848 , 16785.68125314],\n",
       "        [11617.62575073, 17114.55562675],\n",
       "        [11639.55070897, 17333.80520915],\n",
       "        [11508.00095952, 17640.75462452],\n",
       "        [11398.37616832, 17860.00420693],\n",
       "        [11113.35171119, 18123.10370582],\n",
       "        [10806.40229582, 18232.72849702],\n",
       "        [10565.22775518, 18232.72849702],\n",
       "        [10302.12825629, 18123.10370582],\n",
       "        [10039.0287574 , 17969.62899813],\n",
       "        [ 9863.62909148, 17662.67958276],\n",
       "        [ 9797.85421676, 17399.58008388]]),\n",
       " array([[12099.97483202, 18517.75295415],\n",
       "        [12341.14937266, 18386.2032047 ],\n",
       "        [12976.97316164, 18254.65345526],\n",
       "        [13283.92257701, 18320.42832998],\n",
       "        [13459.32224293, 18561.60287063],\n",
       "        [13481.24720117, 18846.62732775],\n",
       "        [13327.77249349, 19065.87691016],\n",
       "        [13042.74803636, 19219.35161784],\n",
       "        [12757.72357924, 19285.12649257],\n",
       "        [12165.74970674, 19285.12649257]]),\n",
       " array([[14752.89477913, 18890.47724424],\n",
       "        [14950.21940329, 18715.07757831],\n",
       "        [15432.56848459, 18495.82799591],\n",
       "        [15761.44285819, 18408.12816294],\n",
       "        [16024.54235708, 18451.97807942],\n",
       "        [16265.71689773, 18693.15262007],\n",
       "        [16353.41673069, 19197.4266596 ],\n",
       "        [16287.64185597, 19548.22599145],\n",
       "        [16112.24219004, 19745.55061562],\n",
       "        [15739.51789995, 19964.80019802],\n",
       "        [15476.41840107, 20052.50003099],\n",
       "        [14928.29444505, 19789.4005321 ]]),\n",
       " array([[15733.74734132, 16613.42910733],\n",
       "        [15920.99069482, 16531.51014017],\n",
       "        [16307.18011141, 16484.6993018 ],\n",
       "        [16786.99120475, 16578.32097855],\n",
       "        [17079.5589446 , 16952.80768555],\n",
       "        [17149.77520216, 17338.99710214],\n",
       "        [17079.5589446 , 17491.13232686],\n",
       "        [16927.42371988, 17561.34858442],\n",
       "        [16658.26139922, 17584.75400361],\n",
       "        [16365.69365938, 17549.64587483],\n",
       "        [16190.15301547, 17479.42961726]]),\n",
       " array([[17278.50500769, 17736.88922833],\n",
       "        [17372.12668444, 17654.97026117],\n",
       "        [17641.28900509, 17549.64587483],\n",
       "        [17840.23506819, 17549.64587483],\n",
       "        [18214.72177518, 17783.7000667 ],\n",
       "        [18366.8569999 , 18099.67322573],\n",
       "        [18401.96512868, 18450.75451354],\n",
       "        [18331.74887112, 18567.78160948],\n",
       "        [18203.01906559, 18673.10599582],\n",
       "        [18015.77571209, 18719.9168342 ],\n",
       "        [17805.1269394 , 18719.9168342 ],\n",
       "        [17582.77545712, 18614.59244785],\n",
       "        [17489.15378037, 18532.6734807 ],\n",
       "        [17430.64023241, 18403.94367517]]),\n",
       " array([[13400.97108015, 16519.51478787],\n",
       "        [14237.72651601, 16360.81979141],\n",
       "        [14540.68969107, 16606.07569503],\n",
       "        [14771.51877682, 17154.2947737 ],\n",
       "        [14728.23832324, 17457.25794875],\n",
       "        [14598.3969625 , 17543.81885591],\n",
       "        [14295.43378745, 17615.95294521],\n",
       "        [13963.61697668, 17587.09930949],\n",
       "        [13559.66607661, 17486.11158447],\n",
       "        [13386.54426229, 17385.12385945],\n",
       "        [13285.55653727, 17255.28249871]]),\n",
       " array([[13718.36107306, 20357.04833854],\n",
       "        [14165.59242671, 20270.48743138],\n",
       "        [14728.23832324, 20919.69423507],\n",
       "        [14641.67741608, 21193.8037744 ],\n",
       "        [14454.12878391, 21366.92558872],\n",
       "        [14281.00696959, 21482.3401316 ],\n",
       "        [13992.4706124 , 21525.62058518],\n",
       "        [13819.34879808, 21525.62058518],\n",
       "        [13588.51971233, 21410.2060423 ],\n",
       "        [13487.53198731, 21164.95013868]]),\n",
       " array([[16863.40736647, 19448.15881338],\n",
       "        [17007.67554507, 19318.31745265],\n",
       "        [17411.62644514, 19260.61018121],\n",
       "        [17830.00416307, 19433.73199552],\n",
       "        [18147.39415598, 19765.5488063 ],\n",
       "        [18291.66233458, 20227.20697781],\n",
       "        [18262.80869886, 20429.18242784],\n",
       "        [18060.83324883, 20573.45060644],\n",
       "        [17743.44325591, 20645.58469574],\n",
       "        [17281.7850844 , 20573.45060644],\n",
       "        [17079.80963437, 20443.6092457 ]])]"
      ]
     },
     "execution_count": 46,
     "metadata": {},
     "output_type": "execute_result"
    }
   ],
   "source": [
    "sh.data"
   ]
  },
  {
   "cell_type": "code",
   "execution_count": 53,
   "metadata": {},
   "outputs": [
    {
     "data": {
      "text/plain": [
       "<Shapes layer 'class' at 0x259a807ce80>"
      ]
     },
     "execution_count": 53,
     "metadata": {},
     "output_type": "execute_result"
    }
   ],
   "source": [
    "xd.viewer.add_shapes([], name=\"class\")"
   ]
  },
  {
   "cell_type": "code",
   "execution_count": 49,
   "metadata": {},
   "outputs": [
    {
     "data": {
      "text/plain": [
       "117.30000000000001"
      ]
     },
     "execution_count": 49,
     "metadata": {},
     "output_type": "execute_result"
    }
   ],
   "source": [
    "0.46*255"
   ]
  },
  {
   "cell_type": "code",
   "execution_count": 50,
   "metadata": {},
   "outputs": [
    {
     "data": {
      "text/plain": [
       "array([[1.        , 1.        , 1.        , 1.        ],\n",
       "       [0.        , 0.33333334, 1.        , 1.        ],\n",
       "       [0.        , 0.33333334, 1.        , 1.        ],\n",
       "       [0.        , 0.33333334, 1.        , 1.        ],\n",
       "       [0.        , 0.33333334, 1.        , 1.        ],\n",
       "       [0.        , 0.        , 0.        , 1.        ],\n",
       "       [0.        , 0.        , 0.        , 0.        ],\n",
       "       [0.        , 0.        , 0.        , 0.        ]])"
      ]
     },
     "execution_count": 50,
     "metadata": {},
     "output_type": "execute_result"
    }
   ],
   "source": [
    "sh.face_color"
   ]
  },
  {
   "cell_type": "code",
   "execution_count": 48,
   "metadata": {},
   "outputs": [
    {
     "data": {
      "text/plain": [
       "array([[0.46666667, 0.46666667, 0.46666667, 1.        ],\n",
       "       [0.46666667, 0.46666667, 0.46666667, 1.        ],\n",
       "       [1.        , 0.        , 0.        , 1.        ],\n",
       "       [1.        , 0.        , 0.        , 1.        ],\n",
       "       [1.        , 0.        , 0.        , 1.        ],\n",
       "       [1.        , 0.        , 0.        , 1.        ],\n",
       "       [1.        , 0.        , 0.        , 1.        ],\n",
       "       [1.        , 0.        , 0.        , 1.        ]])"
      ]
     },
     "execution_count": 48,
     "metadata": {},
     "output_type": "execute_result"
    }
   ],
   "source": [
    "sh.edge_color"
   ]
  },
  {
   "cell_type": "code",
   "execution_count": 31,
   "metadata": {},
   "outputs": [],
   "source": [
    "sel.active"
   ]
  },
  {
   "cell_type": "code",
   "execution_count": null,
   "metadata": {},
   "outputs": [],
   "source": [
    "xd.viewer.add_shapes(\n",
    "    \n",
    ")"
   ]
  },
  {
   "cell_type": "code",
   "execution_count": 18,
   "metadata": {},
   "outputs": [
    {
     "data": {
      "text/plain": [
       "set()"
      ]
     },
     "execution_count": 18,
     "metadata": {},
     "output_type": "execute_result"
    }
   ],
   "source": []
  },
  {
   "cell_type": "code",
   "execution_count": 92,
   "metadata": {},
   "outputs": [],
   "source": [
    "xd.show(annotation_labels=\"demo2\")"
   ]
  },
  {
   "cell_type": "markdown",
   "id": "89e5650a",
   "metadata": {},
   "source": [
    "## Save results\n",
    "\n",
    "The cropped and/or processed data can be saved into a folder using the `.save()` function of `XeniumData`.\n",
    "\n",
    "The resulting folder has following structure:\n",
    "```\n",
    "with_annotations\n",
    "│   xenium.json\n",
    "│   xeniumdata.json\n",
    "│\n",
    "├───annotations\n",
    "│       demo.geojson\n",
    "│\n",
    "├───boundaries\n",
    "│       cells.parquet\n",
    "│       nuclei.parquet\n",
    "│\n",
    "├───images\n",
    "│       morphology_focus.ome.tif\n",
    "│       slide_id__sample_id__CD20__registered.ome.tif\n",
    "│       slide_id__sample_id__HER2__registered.ome.tif\n",
    "│       slide_id__sample_id__HE__registered.ome.tif\n",
    "│\n",
    "├───matrix\n",
    "│       matrix.h5ad\n",
    "│\n",
    "└───transcripts\n",
    "        transcripts.parquet\n",
    "```"
   ]
  },
  {
   "cell_type": "code",
   "execution_count": 8,
   "id": "49f29bb8",
   "metadata": {},
   "outputs": [],
   "source": [
    "out_dir = data_dir / \"with_annotations\"\n",
    "xd.save(out_dir, overwrite=True)"
   ]
  },
  {
   "cell_type": "code",
   "execution_count": 9,
   "metadata": {},
   "outputs": [],
   "source": [
    "xd_reloaded = XeniumData(out_dir)"
   ]
  },
  {
   "cell_type": "code",
   "execution_count": 10,
   "metadata": {},
   "outputs": [
    {
     "data": {
      "text/plain": [
       "\u001b[1m\u001b[31mXeniumData\u001b[0m\n",
       "\u001b[1mSlide ID:\u001b[0m\tslide_id\n",
       "\u001b[1mSample ID:\u001b[0m\tsample_id\n",
       "\u001b[1mData path:\u001b[0m\tdemo_dataset\n",
       "\u001b[1mData folder:\u001b[0m\twith_annotations\n",
       "\u001b[1mMetadata file:\u001b[0m\txeniumdata.json"
      ]
     },
     "execution_count": 10,
     "metadata": {},
     "output_type": "execute_result"
    }
   ],
   "source": [
    "xd_reloaded"
   ]
  },
  {
   "cell_type": "code",
   "execution_count": 15,
   "metadata": {},
   "outputs": [
    {
     "name": "stdout",
     "output_type": "stream",
     "text": [
      "Reading annotations...\n",
      "[WindowsPath('demo_dataset/with_annotations/annotations/demo.geojson')]\n",
      "No `boundaries` modality found.\n",
      "No `images` modality found.\n",
      "No `matrix` modality found.\n",
      "No `transcripts` modality found.\n"
     ]
    }
   ],
   "source": [
    "xd_reloaded.read_all()"
   ]
  },
  {
   "cell_type": "code",
   "execution_count": null,
   "metadata": {},
   "outputs": [],
   "source": []
  }
 ],
 "metadata": {
  "kernelspec": {
   "display_name": "xparse",
   "language": "python",
   "name": "python3"
  },
  "language_info": {
   "codemirror_mode": {
    "name": "ipython",
    "version": 3
   },
   "file_extension": ".py",
   "mimetype": "text/x-python",
   "name": "python",
   "nbconvert_exporter": "python",
   "pygments_lexer": "ipython3",
   "version": "3.9.18"
  }
 },
 "nbformat": 4,
 "nbformat_minor": 5
}
