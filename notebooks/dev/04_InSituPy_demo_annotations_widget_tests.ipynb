{
 "cells": [
  {
   "cell_type": "markdown",
   "id": "b16df72d-5dd5-47da-a8c3-b569fe97446b",
   "metadata": {
    "tags": []
   },
   "source": [
    "# InSituPy demonstration - Add annotations"
   ]
  },
  {
   "cell_type": "code",
   "execution_count": 1,
   "id": "8bc0c4ed-3587-460e-98d2-6626a020a327",
   "metadata": {},
   "outputs": [],
   "source": [
    "## The following code ensures that all functions and init files are reloaded before executions.\n",
    "%load_ext autoreload\n",
    "%autoreload 2"
   ]
  },
  {
   "cell_type": "code",
   "execution_count": 2,
   "id": "58107e0b-5017-425b-8cd0-9274be2b8253",
   "metadata": {},
   "outputs": [],
   "source": [
    "from pathlib import Path\n",
    "from insitupy import XeniumData"
   ]
  },
  {
   "cell_type": "markdown",
   "id": "db038252",
   "metadata": {},
   "source": [
    "## Previous steps\n",
    "\n",
    "1. Download the example data for demonstration: [01_InSituPy_demo_download_data.ipynb](./01_InSituPy_demo_download_data.ipynb)\n",
    "2. Register images from external stainings: [02_InSituPy_demo_register_images.ipynb](./02_InSituPy_demo_register_images.ipynb)\n",
    "3. Visualize data with napari and do preprocessing steps: [03_InSituPy_demo_analyze.ipynb](./03_InSituPy_demo_analyze.ipynb)\n",
    "\n",
    "At this point, the structure of the data should look like this:\n",
    "\n",
    "    ```\n",
    "    ./demo_dataset\n",
    "    ├───cropped_processed\n",
    "    ├───output-XETG00000__slide_id__sample_id\n",
    "    │   ├───analysis\n",
    "    │   │   ├───clustering\n",
    "    │   │   ├───diffexp\n",
    "    │   │   ├───pca\n",
    "    │   │   ├───tsne\n",
    "    │   │   └───umap\n",
    "    │   └───cell_feature_matrix\n",
    "    ├───registered_images\n",
    "    ├───registration_qc\n",
    "    └───unregistered_images\n",
    "    ```\n"
   ]
  },
  {
   "cell_type": "markdown",
   "id": "ae409a19",
   "metadata": {},
   "source": [
    "## Load Xenium data into `XeniumData` object\n",
    "\n",
    "Now the Xenium data can be parsed by providing the data path to `XeniumData`"
   ]
  },
  {
   "cell_type": "code",
   "execution_count": 3,
   "id": "2db31fb9",
   "metadata": {},
   "outputs": [],
   "source": [
    "# prepare paths\n",
    "data_dir = Path(\"../demo_dataset\") # output directory\n",
    "xenium_dir = data_dir / \"output-XETG00000__slide_id__sample_id\" # directory of xenium data\n",
    "image_dir = data_dir / \"unregistered_images\" # directory of images"
   ]
  },
  {
   "cell_type": "code",
   "execution_count": 4,
   "id": "188ddb98",
   "metadata": {},
   "outputs": [],
   "source": [
    "xd = XeniumData(xenium_dir)"
   ]
  },
  {
   "cell_type": "code",
   "execution_count": 5,
   "id": "22afdac4",
   "metadata": {},
   "outputs": [
    {
     "data": {
      "text/plain": [
       "\u001b[1m\u001b[31mXeniumData\u001b[0m\n",
       "\u001b[1mSlide ID:\u001b[0m\tslide_id\n",
       "\u001b[1mSample ID:\u001b[0m\tsample_id\n",
       "\u001b[1mData path:\u001b[0m\t..\\demo_dataset\n",
       "\u001b[1mData folder:\u001b[0m\toutput-XETG00000__slide_id__sample_id\n",
       "\u001b[1mMetadata file:\u001b[0m\texperiment_modified.xenium"
      ]
     },
     "execution_count": 5,
     "metadata": {},
     "output_type": "execute_result"
    }
   ],
   "source": [
    "xd"
   ]
  },
  {
   "cell_type": "code",
   "execution_count": 6,
   "id": "e0ec9d39",
   "metadata": {},
   "outputs": [
    {
     "name": "stdout",
     "output_type": "stream",
     "text": [
      "No `annotations` modality found.\n",
      "Reading boundaries...\n",
      "Reading images...\n",
      "Reading matrix...\n",
      "Reading transcripts...\n"
     ]
    }
   ],
   "source": [
    "# read all data modalities at once\n",
    "xd.read_all()\n",
    "\n",
    "# alternatively, it is also possible to read each modality separately\n",
    "# xd.read_matrix()\n",
    "# xd.read_images()\n",
    "# xd.read_boundaries()\n",
    "# xd.read_transcripts()\n",
    "# xd.read_annotations()"
   ]
  },
  {
   "cell_type": "markdown",
   "id": "a7cc74ee",
   "metadata": {},
   "source": [
    "Note: That the `annotations` modality is not found here is expected. Annotations are added in a later step."
   ]
  },
  {
   "cell_type": "code",
   "execution_count": 7,
   "id": "7a864387",
   "metadata": {},
   "outputs": [
    {
     "data": {
      "text/plain": [
       "\u001b[1m\u001b[31mXeniumData\u001b[0m\n",
       "\u001b[1mSlide ID:\u001b[0m\tslide_id\n",
       "\u001b[1mSample ID:\u001b[0m\tsample_id\n",
       "\u001b[1mData path:\u001b[0m\t..\\demo_dataset\n",
       "\u001b[1mData folder:\u001b[0m\toutput-XETG00000__slide_id__sample_id\n",
       "\u001b[1mMetadata file:\u001b[0m\texperiment_modified.xenium\n",
       "    ➤ \u001b[34m\u001b[1mimages\u001b[0m\n",
       "       \u001b[1mnuclei:\u001b[0m\t(25778, 35416)\n",
       "       \u001b[1mCD20:\u001b[0m\t(25778, 35416)\n",
       "       \u001b[1mHER2:\u001b[0m\t(25778, 35416)\n",
       "       \u001b[1mHE:\u001b[0m\t(25778, 35416, 3)\n",
       "    ➤\u001b[32m\u001b[1m matrix\u001b[0m\n",
       "       AnnData object with n_obs × n_vars = 167780 × 313\n",
       "\t       obs: 'transcript_counts', 'control_probe_counts', 'control_codeword_counts', 'total_counts', 'cell_area', 'nucleus_area'\n",
       "\t       var: 'gene_ids', 'feature_types', 'genome'\n",
       "\t       obsm: 'spatial'\n",
       "    ➤\u001b[96m\u001b[1m transcripts\u001b[0m\n",
       "\t   DataFrame with shape 42638083 x 8\n",
       "    ➤ \u001b[95m\u001b[1mboundaries\u001b[0m\n",
       "       \u001b[1mcells\u001b[0m\n",
       "       \u001b[1mnuclei\u001b[0m"
      ]
     },
     "execution_count": 7,
     "metadata": {},
     "output_type": "execute_result"
    }
   ],
   "source": [
    "xd"
   ]
  },
  {
   "cell_type": "markdown",
   "id": "93df8c95",
   "metadata": {},
   "source": [
    "## Load annotations\n",
    "\n",
    "For the analysis of spatial transcriptomic datasets the inclusion of annotations from experts of disease pathology is key. Here, we demonstrate how to annotate data in [QuPath](https://qupath.github.io/), export the annotations as `.geojson` file and import them into the `XeniumData` object.\n",
    "\n",
    "### Create annotations in QuPath\n",
    "\n",
    "To create annotations in QuPath, follow these steps:\n",
    "\n",
    "1. Select a annotation tool from the bar on the top left:\n",
    "\n",
    "<center><img src=\"../demo_annotations/qupath_annotation_buttons.png\"/></center>\n",
    "\n",
    "2. Add as many annotations as you want and label them by setting classes in the annotation list. Do not forget to press the \"Set class\" button:\n",
    "\n",
    "<center><img src=\"../demo_annotations/qupath_annotation_list.png\"/></center>\n",
    "\n",
    "3. Export annotations using `File > Export objects as GeoJSON`. Tick `Pretty JSON` to get an easily readable JSON file. The file name needs to have following structure: `annotation-{slide_id}__{sample_id}__{annotation_label}`.\n",
    "\n",
    "### Import annotations into `XeniumData`\n",
    "\n",
    "For demonstration purposes, we created a dummy annotation file in `./demo_annotations/`. To add the annotations to `XeniumData` follow the steps below.\n",
    "\n"
   ]
  },
  {
   "cell_type": "code",
   "execution_count": 170,
   "id": "76f38add",
   "metadata": {},
   "outputs": [
    {
     "name": "stdout",
     "output_type": "stream",
     "text": [
      "Reading annotations...\n"
     ]
    }
   ],
   "source": [
    "xd.read_annotations(annotation_dir=\"../demo_annotations/\")"
   ]
  },
  {
   "cell_type": "code",
   "execution_count": 171,
   "id": "adad8bf6",
   "metadata": {},
   "outputs": [
    {
     "data": {
      "text/plain": [
       "\u001b[1m\u001b[31mXeniumData\u001b[0m\n",
       "\u001b[1mSlide ID:\u001b[0m\tslide_id\n",
       "\u001b[1mSample ID:\u001b[0m\tsample_id\n",
       "\u001b[1mData path:\u001b[0m\t..\\demo_dataset\n",
       "\u001b[1mData folder:\u001b[0m\toutput-XETG00000__slide_id__sample_id\n",
       "\u001b[1mMetadata file:\u001b[0m\texperiment_modified.xenium\n",
       "    ➤ \u001b[34m\u001b[1mimages\u001b[0m\n",
       "       \u001b[1mnuclei:\u001b[0m\t(25778, 35416)\n",
       "       \u001b[1mCD20:\u001b[0m\t(25778, 35416)\n",
       "       \u001b[1mHER2:\u001b[0m\t(25778, 35416)\n",
       "       \u001b[1mHE:\u001b[0m\t(25778, 35416, 3)\n",
       "    ➤\u001b[32m\u001b[1m matrix\u001b[0m\n",
       "       AnnData object with n_obs × n_vars = 167780 × 313\n",
       "\t       obs: 'transcript_counts', 'control_probe_counts', 'control_codeword_counts', 'total_counts', 'cell_area', 'nucleus_area'\n",
       "\t       var: 'gene_ids', 'feature_types', 'genome'\n",
       "\t       obsm: 'spatial'\n",
       "    ➤\u001b[96m\u001b[1m transcripts\u001b[0m\n",
       "\t   DataFrame with shape 42638083 x 8\n",
       "    ➤ \u001b[95m\u001b[1mboundaries\u001b[0m\n",
       "       \u001b[1mcells\u001b[0m\n",
       "       \u001b[1mnuclei\u001b[0m\n",
       "    ➤ \u001b[36m\u001b[1mannotations\u001b[0m\n",
       "       \u001b[1mdemo:\u001b[0m\t4 annotations, 2 classes ('Positive', 'Negative') \n",
       "       \u001b[1mdemo2:\u001b[0m\t5 annotations, 3 classes ('Negative', 'Positive', 'Other') "
      ]
     },
     "execution_count": 171,
     "metadata": {},
     "output_type": "execute_result"
    }
   ],
   "source": [
    "xd"
   ]
  },
  {
   "cell_type": "code",
   "execution_count": 172,
   "id": "f963a946",
   "metadata": {},
   "outputs": [
    {
     "data": {
      "text/plain": [
       "{'demo': {'n_annotations': 4,\n",
       "  'classes': array(['Positive', 'Negative'], dtype=object),\n",
       "  'analyzed': ''},\n",
       " 'demo2': {'n_annotations': 5,\n",
       "  'classes': array(['Negative', 'Positive', 'Other'], dtype=object),\n",
       "  'analyzed': ''}}"
      ]
     },
     "execution_count": 172,
     "metadata": {},
     "output_type": "execute_result"
    }
   ],
   "source": [
    "xd.annotations.metadata"
   ]
  },
  {
   "cell_type": "markdown",
   "id": "9d7e2d9d",
   "metadata": {},
   "source": [
    "### Visualize annotations using napari"
   ]
  },
  {
   "cell_type": "code",
   "execution_count": 173,
   "metadata": {},
   "outputs": [],
   "source": [
    "import warnings\n",
    "warnings.filterwarnings('error')"
   ]
  },
  {
   "cell_type": "code",
   "execution_count": 174,
   "id": "07770607",
   "metadata": {},
   "outputs": [],
   "source": [
    "xd.show(annotation_labels=\"demo2\")"
   ]
  },
  {
   "cell_type": "code",
   "execution_count": 178,
   "metadata": {},
   "outputs": [
    {
     "data": {
      "text/plain": [
       "<Geographic 2D CRS: EPSG:4326>\n",
       "Name: WGS 84\n",
       "Axis Info [ellipsoidal]:\n",
       "- Lat[north]: Geodetic latitude (degree)\n",
       "- Lon[east]: Geodetic longitude (degree)\n",
       "Area of Use:\n",
       "- name: World.\n",
       "- bounds: (-180.0, -90.0, 180.0, 90.0)\n",
       "Datum: World Geodetic System 1984 ensemble\n",
       "- Ellipsoid: WGS 84\n",
       "- Prime Meridian: Greenwich"
      ]
     },
     "execution_count": 178,
     "metadata": {},
     "output_type": "execute_result"
    }
   ],
   "source": [
    "xd.annotations.demo2.crs"
   ]
  },
  {
   "cell_type": "code",
   "execution_count": 179,
   "metadata": {},
   "outputs": [],
   "source": [
    "import geopandas"
   ]
  },
  {
   "cell_type": "code",
   "execution_count": 193,
   "metadata": {},
   "outputs": [],
   "source": [
    "file = r\"C:\\Users\\ge37voy\\Github\\InSituPy\\notebooks\\demo_annotations\\annotation-slide_id__sample_id__demo.geojson\"\n",
    "df = geopandas.read_file(file)"
   ]
  },
  {
   "cell_type": "code",
   "execution_count": 194,
   "metadata": {},
   "outputs": [
    {
     "data": {
      "text/html": [
       "<div>\n",
       "<style scoped>\n",
       "    .dataframe tbody tr th:only-of-type {\n",
       "        vertical-align: middle;\n",
       "    }\n",
       "\n",
       "    .dataframe tbody tr th {\n",
       "        vertical-align: top;\n",
       "    }\n",
       "\n",
       "    .dataframe thead th {\n",
       "        text-align: right;\n",
       "    }\n",
       "</style>\n",
       "<table border=\"1\" class=\"dataframe\">\n",
       "  <thead>\n",
       "    <tr style=\"text-align: right;\">\n",
       "      <th></th>\n",
       "      <th>id</th>\n",
       "      <th>objectType</th>\n",
       "      <th>classification</th>\n",
       "      <th>geometry</th>\n",
       "    </tr>\n",
       "  </thead>\n",
       "  <tbody>\n",
       "    <tr>\n",
       "      <th>0</th>\n",
       "      <td>bd3aacca-1716-4df8-91dd-bf8f6413a7bd</td>\n",
       "      <td>annotation</td>\n",
       "      <td>{'name': 'Positive', 'color': [250, 62, 62]}</td>\n",
       "      <td>POLYGON ((8863.00000 10814.00000, 8863.00000 1...</td>\n",
       "    </tr>\n",
       "    <tr>\n",
       "      <th>1</th>\n",
       "      <td>69814505-4059-42cd-8df2-752f7eb0810d</td>\n",
       "      <td>annotation</td>\n",
       "      <td>{'name': 'Positive', 'color': [250, 62, 62]}</td>\n",
       "      <td>POLYGON ((13096.00000 12492.00000, 13072.40000...</td>\n",
       "    </tr>\n",
       "    <tr>\n",
       "      <th>2</th>\n",
       "      <td>1957cd32-0a21-4b45-9dae-ecf236217140</td>\n",
       "      <td>annotation</td>\n",
       "      <td>{'name': 'Negative', 'color': [112, 112, 225]}</td>\n",
       "      <td>POLYGON ((30975.26000 22938.00000, 30982.00000...</td>\n",
       "    </tr>\n",
       "    <tr>\n",
       "      <th>3</th>\n",
       "      <td>19d2197a-1b8e-456f-8223-fba74641ac1c</td>\n",
       "      <td>annotation</td>\n",
       "      <td>{'name': 'Negative', 'color': [112, 112, 225]}</td>\n",
       "      <td>POLYGON ((31165.00000 16408.00000, 31149.00000...</td>\n",
       "    </tr>\n",
       "  </tbody>\n",
       "</table>\n",
       "</div>"
      ],
      "text/plain": [
       "                                     id  objectType  \\\n",
       "0  bd3aacca-1716-4df8-91dd-bf8f6413a7bd  annotation   \n",
       "1  69814505-4059-42cd-8df2-752f7eb0810d  annotation   \n",
       "2  1957cd32-0a21-4b45-9dae-ecf236217140  annotation   \n",
       "3  19d2197a-1b8e-456f-8223-fba74641ac1c  annotation   \n",
       "\n",
       "                                   classification  \\\n",
       "0    {'name': 'Positive', 'color': [250, 62, 62]}   \n",
       "1    {'name': 'Positive', 'color': [250, 62, 62]}   \n",
       "2  {'name': 'Negative', 'color': [112, 112, 225]}   \n",
       "3  {'name': 'Negative', 'color': [112, 112, 225]}   \n",
       "\n",
       "                                            geometry  \n",
       "0  POLYGON ((8863.00000 10814.00000, 8863.00000 1...  \n",
       "1  POLYGON ((13096.00000 12492.00000, 13072.40000...  \n",
       "2  POLYGON ((30975.26000 22938.00000, 30982.00000...  \n",
       "3  POLYGON ((31165.00000 16408.00000, 31149.00000...  "
      ]
     },
     "execution_count": 194,
     "metadata": {},
     "output_type": "execute_result"
    }
   ],
   "source": [
    "df.set_crs(4326)"
   ]
  },
  {
   "cell_type": "code",
   "execution_count": 195,
   "metadata": {},
   "outputs": [
    {
     "name": "stdout",
     "output_type": "stream",
     "text": [
      "Negative\n",
      "demo2\n",
      "Positive\n",
      "demo2\n",
      "Other\n",
      "demo2\n"
     ]
    }
   ],
   "source": [
    "xd.store_annotations()"
   ]
  },
  {
   "cell_type": "code",
   "execution_count": 196,
   "metadata": {},
   "outputs": [
    {
     "data": {
      "text/html": [
       "<div>\n",
       "<style scoped>\n",
       "    .dataframe tbody tr th:only-of-type {\n",
       "        vertical-align: middle;\n",
       "    }\n",
       "\n",
       "    .dataframe tbody tr th {\n",
       "        vertical-align: top;\n",
       "    }\n",
       "\n",
       "    .dataframe thead th {\n",
       "        text-align: right;\n",
       "    }\n",
       "</style>\n",
       "<table border=\"1\" class=\"dataframe\">\n",
       "  <thead>\n",
       "    <tr style=\"text-align: right;\">\n",
       "      <th></th>\n",
       "      <th>objectType</th>\n",
       "      <th>geometry</th>\n",
       "      <th>name</th>\n",
       "      <th>color</th>\n",
       "      <th>origin</th>\n",
       "    </tr>\n",
       "    <tr>\n",
       "      <th>id</th>\n",
       "      <th></th>\n",
       "      <th></th>\n",
       "      <th></th>\n",
       "      <th></th>\n",
       "      <th></th>\n",
       "    </tr>\n",
       "  </thead>\n",
       "  <tbody>\n",
       "    <tr>\n",
       "      <th>1970eccb-ad38-4b4b-b7a8-54509027b57d</th>\n",
       "      <td>annotation</td>\n",
       "      <td>POLYGON ((25319.00000 3892.00000, 25313.00000 ...</td>\n",
       "      <td>Negative</td>\n",
       "      <td>[112, 112, 225]</td>\n",
       "      <td>file</td>\n",
       "    </tr>\n",
       "    <tr>\n",
       "      <th>a3b32cce-1bb9-4a6f-b1d1-9e0c44420cfa</th>\n",
       "      <td>annotation</td>\n",
       "      <td>POLYGON ((30950.00000 10855.00000, 30944.00000...</td>\n",
       "      <td>Positive</td>\n",
       "      <td>[250, 62, 62]</td>\n",
       "      <td>file</td>\n",
       "    </tr>\n",
       "    <tr>\n",
       "      <th>92bfe928-a21f-4864-b7cb-f0d300113d88</th>\n",
       "      <td>annotation</td>\n",
       "      <td>MULTIPOLYGON (((21534.00000 19541.00000, 21534...</td>\n",
       "      <td>Other</td>\n",
       "      <td>[255, 200, 0]</td>\n",
       "      <td>file</td>\n",
       "    </tr>\n",
       "    <tr>\n",
       "      <th>a6c17a54-6839-40b2-8531-c9227635f344</th>\n",
       "      <td>annotation</td>\n",
       "      <td>POLYGON ((6501.00000 17126.00000, 6495.00000 1...</td>\n",
       "      <td>Other</td>\n",
       "      <td>[255, 200, 0]</td>\n",
       "      <td>file</td>\n",
       "    </tr>\n",
       "    <tr>\n",
       "      <th>e78efe2f-d185-4ab6-9cc9-6621897f3662</th>\n",
       "      <td>annotation</td>\n",
       "      <td>POLYGON ((29519.63000 18523.00000, 29476.00000...</td>\n",
       "      <td>Negative</td>\n",
       "      <td>[112, 112, 225]</td>\n",
       "      <td>file</td>\n",
       "    </tr>\n",
       "    <tr>\n",
       "      <th>6928a7a6-c201-4564-af9f-24f0781ae2ef</th>\n",
       "      <td>annotation</td>\n",
       "      <td>POLYGON ((7635.78004 5876.87989, 7396.29395 61...</td>\n",
       "      <td>Other</td>\n",
       "      <td>[255, 200, 0]</td>\n",
       "      <td>manual</td>\n",
       "    </tr>\n",
       "    <tr>\n",
       "      <th>75db5bce-b32f-4cac-9760-6accbc7f5404</th>\n",
       "      <td>annotation</td>\n",
       "      <td>POLYGON ((12984.30266 12156.73730, 12771.42614...</td>\n",
       "      <td>Other</td>\n",
       "      <td>[255, 200, 0]</td>\n",
       "      <td>manual</td>\n",
       "    </tr>\n",
       "    <tr>\n",
       "      <th>30963298-8fb8-4c71-a14d-c6bb6ba5dad7</th>\n",
       "      <td>annotation</td>\n",
       "      <td>POLYGON ((17827.24355 6488.89990, 17481.31920 ...</td>\n",
       "      <td>Other</td>\n",
       "      <td>[255, 200, 0]</td>\n",
       "      <td>manual</td>\n",
       "    </tr>\n",
       "    <tr>\n",
       "      <th>b3158bbd-500b-4dad-86db-9fdbf4e27205</th>\n",
       "      <td>annotation</td>\n",
       "      <td>POLYGON ((13410.05571 6355.85207, 13090.74092 ...</td>\n",
       "      <td>Other</td>\n",
       "      <td>[255, 200, 0]</td>\n",
       "      <td>manual</td>\n",
       "    </tr>\n",
       "  </tbody>\n",
       "</table>\n",
       "</div>"
      ],
      "text/plain": [
       "                                      objectType  \\\n",
       "id                                                 \n",
       "1970eccb-ad38-4b4b-b7a8-54509027b57d  annotation   \n",
       "a3b32cce-1bb9-4a6f-b1d1-9e0c44420cfa  annotation   \n",
       "92bfe928-a21f-4864-b7cb-f0d300113d88  annotation   \n",
       "a6c17a54-6839-40b2-8531-c9227635f344  annotation   \n",
       "e78efe2f-d185-4ab6-9cc9-6621897f3662  annotation   \n",
       "6928a7a6-c201-4564-af9f-24f0781ae2ef  annotation   \n",
       "75db5bce-b32f-4cac-9760-6accbc7f5404  annotation   \n",
       "30963298-8fb8-4c71-a14d-c6bb6ba5dad7  annotation   \n",
       "b3158bbd-500b-4dad-86db-9fdbf4e27205  annotation   \n",
       "\n",
       "                                                                               geometry  \\\n",
       "id                                                                                        \n",
       "1970eccb-ad38-4b4b-b7a8-54509027b57d  POLYGON ((25319.00000 3892.00000, 25313.00000 ...   \n",
       "a3b32cce-1bb9-4a6f-b1d1-9e0c44420cfa  POLYGON ((30950.00000 10855.00000, 30944.00000...   \n",
       "92bfe928-a21f-4864-b7cb-f0d300113d88  MULTIPOLYGON (((21534.00000 19541.00000, 21534...   \n",
       "a6c17a54-6839-40b2-8531-c9227635f344  POLYGON ((6501.00000 17126.00000, 6495.00000 1...   \n",
       "e78efe2f-d185-4ab6-9cc9-6621897f3662  POLYGON ((29519.63000 18523.00000, 29476.00000...   \n",
       "6928a7a6-c201-4564-af9f-24f0781ae2ef  POLYGON ((7635.78004 5876.87989, 7396.29395 61...   \n",
       "75db5bce-b32f-4cac-9760-6accbc7f5404  POLYGON ((12984.30266 12156.73730, 12771.42614...   \n",
       "30963298-8fb8-4c71-a14d-c6bb6ba5dad7  POLYGON ((17827.24355 6488.89990, 17481.31920 ...   \n",
       "b3158bbd-500b-4dad-86db-9fdbf4e27205  POLYGON ((13410.05571 6355.85207, 13090.74092 ...   \n",
       "\n",
       "                                          name            color  origin  \n",
       "id                                                                       \n",
       "1970eccb-ad38-4b4b-b7a8-54509027b57d  Negative  [112, 112, 225]    file  \n",
       "a3b32cce-1bb9-4a6f-b1d1-9e0c44420cfa  Positive    [250, 62, 62]    file  \n",
       "92bfe928-a21f-4864-b7cb-f0d300113d88     Other    [255, 200, 0]    file  \n",
       "a6c17a54-6839-40b2-8531-c9227635f344     Other    [255, 200, 0]    file  \n",
       "e78efe2f-d185-4ab6-9cc9-6621897f3662  Negative  [112, 112, 225]    file  \n",
       "6928a7a6-c201-4564-af9f-24f0781ae2ef     Other    [255, 200, 0]  manual  \n",
       "75db5bce-b32f-4cac-9760-6accbc7f5404     Other    [255, 200, 0]  manual  \n",
       "30963298-8fb8-4c71-a14d-c6bb6ba5dad7     Other    [255, 200, 0]  manual  \n",
       "b3158bbd-500b-4dad-86db-9fdbf4e27205     Other    [255, 200, 0]  manual  "
      ]
     },
     "execution_count": 196,
     "metadata": {},
     "output_type": "execute_result"
    }
   ],
   "source": [
    "xd.annotations.demo2"
   ]
  },
  {
   "cell_type": "code",
   "execution_count": 168,
   "metadata": {},
   "outputs": [
    {
     "data": {
      "text/html": [
       "<div>\n",
       "<style scoped>\n",
       "    .dataframe tbody tr th:only-of-type {\n",
       "        vertical-align: middle;\n",
       "    }\n",
       "\n",
       "    .dataframe tbody tr th {\n",
       "        vertical-align: top;\n",
       "    }\n",
       "\n",
       "    .dataframe thead th {\n",
       "        text-align: right;\n",
       "    }\n",
       "</style>\n",
       "<table border=\"1\" class=\"dataframe\">\n",
       "  <thead>\n",
       "    <tr style=\"text-align: right;\">\n",
       "      <th></th>\n",
       "      <th>objectType</th>\n",
       "      <th>geometry</th>\n",
       "      <th>name</th>\n",
       "      <th>color</th>\n",
       "      <th>origin</th>\n",
       "    </tr>\n",
       "    <tr>\n",
       "      <th>id</th>\n",
       "      <th></th>\n",
       "      <th></th>\n",
       "      <th></th>\n",
       "      <th></th>\n",
       "      <th></th>\n",
       "    </tr>\n",
       "  </thead>\n",
       "  <tbody>\n",
       "    <tr>\n",
       "      <th>92902415-28af-4a3d-9486-2a858934934b</th>\n",
       "      <td>annotation</td>\n",
       "      <td>POLYGON ((16017.408 6985.425, 15576.514 7524.2...</td>\n",
       "      <td>newclass</td>\n",
       "      <td>[255, 0, 0]</td>\n",
       "      <td>manual</td>\n",
       "    </tr>\n",
       "    <tr>\n",
       "      <th>73ccc998-06ce-43d9-ab1d-10dda0b78476</th>\n",
       "      <td>annotation</td>\n",
       "      <td>POLYGON ((27137.723 5907.685, 26990.758 7377.3...</td>\n",
       "      <td>newclass</td>\n",
       "      <td>[255, 0, 0]</td>\n",
       "      <td>manual</td>\n",
       "    </tr>\n",
       "    <tr>\n",
       "      <th>7c3c0d48-e4ce-4a42-961d-af66b2592d27</th>\n",
       "      <td>annotation</td>\n",
       "      <td>POLYGON ((15233.597 14088.710, 14890.680 15509...</td>\n",
       "      <td>newclass</td>\n",
       "      <td>[255, 0, 0]</td>\n",
       "      <td>manual</td>\n",
       "    </tr>\n",
       "  </tbody>\n",
       "</table>\n",
       "</div>"
      ],
      "text/plain": [
       "                                      objectType  \\\n",
       "id                                                 \n",
       "92902415-28af-4a3d-9486-2a858934934b  annotation   \n",
       "73ccc998-06ce-43d9-ab1d-10dda0b78476  annotation   \n",
       "7c3c0d48-e4ce-4a42-961d-af66b2592d27  annotation   \n",
       "\n",
       "                                                                               geometry  \\\n",
       "id                                                                                        \n",
       "92902415-28af-4a3d-9486-2a858934934b  POLYGON ((16017.408 6985.425, 15576.514 7524.2...   \n",
       "73ccc998-06ce-43d9-ab1d-10dda0b78476  POLYGON ((27137.723 5907.685, 26990.758 7377.3...   \n",
       "7c3c0d48-e4ce-4a42-961d-af66b2592d27  POLYGON ((15233.597 14088.710, 14890.680 15509...   \n",
       "\n",
       "                                          name        color  origin  \n",
       "id                                                                   \n",
       "92902415-28af-4a3d-9486-2a858934934b  newclass  [255, 0, 0]  manual  \n",
       "73ccc998-06ce-43d9-ab1d-10dda0b78476  newclass  [255, 0, 0]  manual  \n",
       "7c3c0d48-e4ce-4a42-961d-af66b2592d27  newclass  [255, 0, 0]  manual  "
      ]
     },
     "execution_count": 168,
     "metadata": {},
     "output_type": "execute_result"
    }
   ],
   "source": [
    "xd.annotations.newlabel"
   ]
  },
  {
   "cell_type": "code",
   "execution_count": 169,
   "metadata": {},
   "outputs": [
    {
     "name": "stderr",
     "output_type": "stream",
     "text": [
      "WARNING: QWindowsWindow::setGeometry: Unable to set geometry 2172x1310+846-308 (frame: 2194x1366+835-353) on QWidgetWindow/\"_QtMainWindowClassWindow\" on \"\\\\.\\DISPLAY1\". Resulting geometry: 2564x1968+849-294 (frame: 2586x2024+838-339) margins: 11, 45, 11, 11 minimum size: 385x492 MINMAXINFO maxSize=0,0 maxpos=0,0 mintrack=792,1040 maxtrack=0,0)\n"
     ]
    }
   ],
   "source": [
    "xd.show(annotation_labels=\"all\")"
   ]
  },
  {
   "cell_type": "code",
   "execution_count": 155,
   "metadata": {},
   "outputs": [],
   "source": [
    "ar = xd.viewer.layers[\"*newclass2 (newlabel)\"].data[0]"
   ]
  },
  {
   "cell_type": "code",
   "execution_count": 159,
   "metadata": {},
   "outputs": [],
   "source": [
    "import numpy as np"
   ]
  },
  {
   "cell_type": "code",
   "execution_count": 161,
   "metadata": {},
   "outputs": [
    {
     "data": {
      "text/plain": [
       "array([[2660.29714647,  706.44008882],\n",
       "       [2920.54681355,  550.29028858],\n",
       "       [3336.94628086,  581.52024863],\n",
       "       [3503.50606779,  800.12996897],\n",
       "       [3545.14601452, 1029.14967599],\n",
       "       [3368.17624091, 1112.42956945],\n",
       "       [2826.8569334 , 1185.29947623],\n",
       "       [2608.24721306, 1122.83955614],\n",
       "       [2483.32737286, 1018.73968931]])"
      ]
     },
     "execution_count": 161,
     "metadata": {},
     "output_type": "execute_result"
    }
   ],
   "source": [
    "np.stack([ar[:, 1], ar[:, 0]], axis=1)"
   ]
  },
  {
   "cell_type": "code",
   "execution_count": 153,
   "metadata": {},
   "outputs": [
    {
     "data": {
      "text/plain": [
       "array([ 706.44008882,  550.29028858,  581.52024863,  800.12996897,\n",
       "       1029.14967599, 1112.42956945, 1185.29947623, 1122.83955614,\n",
       "       1018.73968931])"
      ]
     },
     "execution_count": 153,
     "metadata": {},
     "output_type": "execute_result"
    }
   ],
   "source": [
    "xd.viewer.layers[\"*newclass2 (newlabel)\"].data[0][:, 0]"
   ]
  },
  {
   "cell_type": "code",
   "execution_count": 108,
   "metadata": {},
   "outputs": [
    {
     "data": {
      "text/html": [
       "<div>\n",
       "<style scoped>\n",
       "    .dataframe tbody tr th:only-of-type {\n",
       "        vertical-align: middle;\n",
       "    }\n",
       "\n",
       "    .dataframe tbody tr th {\n",
       "        vertical-align: top;\n",
       "    }\n",
       "\n",
       "    .dataframe thead th {\n",
       "        text-align: right;\n",
       "    }\n",
       "</style>\n",
       "<table border=\"1\" class=\"dataframe\">\n",
       "  <thead>\n",
       "    <tr style=\"text-align: right;\">\n",
       "      <th></th>\n",
       "      <th>objectType</th>\n",
       "      <th>geometry</th>\n",
       "      <th>name</th>\n",
       "      <th>color</th>\n",
       "      <th>origin</th>\n",
       "    </tr>\n",
       "    <tr>\n",
       "      <th>id</th>\n",
       "      <th></th>\n",
       "      <th></th>\n",
       "      <th></th>\n",
       "      <th></th>\n",
       "      <th></th>\n",
       "    </tr>\n",
       "  </thead>\n",
       "  <tbody>\n",
       "    <tr>\n",
       "      <th>e210beae-f5fe-4ac7-b22c-daf6c0cf7dd5</th>\n",
       "      <td>annotation</td>\n",
       "      <td>POLYGON ((206.756 379.869, 206.756 525.219, 29...</td>\n",
       "      <td>newclass</td>\n",
       "      <td>[1.0, 0.0, 0.0, 1.0]</td>\n",
       "      <td>manual</td>\n",
       "    </tr>\n",
       "    <tr>\n",
       "      <th>c3145bd2-a031-483b-95d3-d6353c32975a</th>\n",
       "      <td>annotation</td>\n",
       "      <td>POLYGON ((304.645 1121.451, 304.645 1349.858, ...</td>\n",
       "      <td>newclass</td>\n",
       "      <td>[1.0, 0.0, 0.0, 1.0]</td>\n",
       "      <td>manual</td>\n",
       "    </tr>\n",
       "    <tr>\n",
       "      <th>b70b0e77-039e-4e23-ad05-beff5dd3fe9c</th>\n",
       "      <td>annotation</td>\n",
       "      <td>POLYGON ((794.089 397.667, 794.089 557.849, 90...</td>\n",
       "      <td>newclass</td>\n",
       "      <td>[1.0, 0.0, 0.0, 1.0]</td>\n",
       "      <td>manual</td>\n",
       "    </tr>\n",
       "    <tr>\n",
       "      <th>9a7909df-a678-480d-bd6b-1aec4c864389</th>\n",
       "      <td>annotation</td>\n",
       "      <td>POLYGON ((452.961 204.856, 515.254 178.159, 55...</td>\n",
       "      <td>newclass</td>\n",
       "      <td>[1.0, 0.0, 0.0, 1.0]</td>\n",
       "      <td>manual</td>\n",
       "    </tr>\n",
       "    <tr>\n",
       "      <th>96cdf9f9-e2e8-418e-a055-754d23505814</th>\n",
       "      <td>annotation</td>\n",
       "      <td>POLYGON ((236.419 605.310, 334.308 611.242, 39...</td>\n",
       "      <td>secondclass</td>\n",
       "      <td>[0.0, 0.0, 1.0, 1.0]</td>\n",
       "      <td>manual</td>\n",
       "    </tr>\n",
       "    <tr>\n",
       "      <th>37077cb7-e3e1-4460-b807-b95f8dd4405c</th>\n",
       "      <td>annotation</td>\n",
       "      <td>POLYGON ((209.722 961.269, 260.150 919.741, 31...</td>\n",
       "      <td>secondclass</td>\n",
       "      <td>[0.0, 0.0, 1.0, 1.0]</td>\n",
       "      <td>manual</td>\n",
       "    </tr>\n",
       "  </tbody>\n",
       "</table>\n",
       "</div>"
      ],
      "text/plain": [
       "                                      objectType  \\\n",
       "id                                                 \n",
       "e210beae-f5fe-4ac7-b22c-daf6c0cf7dd5  annotation   \n",
       "c3145bd2-a031-483b-95d3-d6353c32975a  annotation   \n",
       "b70b0e77-039e-4e23-ad05-beff5dd3fe9c  annotation   \n",
       "9a7909df-a678-480d-bd6b-1aec4c864389  annotation   \n",
       "96cdf9f9-e2e8-418e-a055-754d23505814  annotation   \n",
       "37077cb7-e3e1-4460-b807-b95f8dd4405c  annotation   \n",
       "\n",
       "                                                                               geometry  \\\n",
       "id                                                                                        \n",
       "e210beae-f5fe-4ac7-b22c-daf6c0cf7dd5  POLYGON ((206.756 379.869, 206.756 525.219, 29...   \n",
       "c3145bd2-a031-483b-95d3-d6353c32975a  POLYGON ((304.645 1121.451, 304.645 1349.858, ...   \n",
       "b70b0e77-039e-4e23-ad05-beff5dd3fe9c  POLYGON ((794.089 397.667, 794.089 557.849, 90...   \n",
       "9a7909df-a678-480d-bd6b-1aec4c864389  POLYGON ((452.961 204.856, 515.254 178.159, 55...   \n",
       "96cdf9f9-e2e8-418e-a055-754d23505814  POLYGON ((236.419 605.310, 334.308 611.242, 39...   \n",
       "37077cb7-e3e1-4460-b807-b95f8dd4405c  POLYGON ((209.722 961.269, 260.150 919.741, 31...   \n",
       "\n",
       "                                             name                 color  \\\n",
       "id                                                                        \n",
       "e210beae-f5fe-4ac7-b22c-daf6c0cf7dd5     newclass  [1.0, 0.0, 0.0, 1.0]   \n",
       "c3145bd2-a031-483b-95d3-d6353c32975a     newclass  [1.0, 0.0, 0.0, 1.0]   \n",
       "b70b0e77-039e-4e23-ad05-beff5dd3fe9c     newclass  [1.0, 0.0, 0.0, 1.0]   \n",
       "9a7909df-a678-480d-bd6b-1aec4c864389     newclass  [1.0, 0.0, 0.0, 1.0]   \n",
       "96cdf9f9-e2e8-418e-a055-754d23505814  secondclass  [0.0, 0.0, 1.0, 1.0]   \n",
       "37077cb7-e3e1-4460-b807-b95f8dd4405c  secondclass  [0.0, 0.0, 1.0, 1.0]   \n",
       "\n",
       "                                      origin  \n",
       "id                                            \n",
       "e210beae-f5fe-4ac7-b22c-daf6c0cf7dd5  manual  \n",
       "c3145bd2-a031-483b-95d3-d6353c32975a  manual  \n",
       "b70b0e77-039e-4e23-ad05-beff5dd3fe9c  manual  \n",
       "9a7909df-a678-480d-bd6b-1aec4c864389  manual  \n",
       "96cdf9f9-e2e8-418e-a055-754d23505814  manual  \n",
       "37077cb7-e3e1-4460-b807-b95f8dd4405c  manual  "
      ]
     },
     "execution_count": 108,
     "metadata": {},
     "output_type": "execute_result"
    }
   ],
   "source": [
    "xd.annotations.newlabel"
   ]
  },
  {
   "cell_type": "code",
   "execution_count": 109,
   "metadata": {},
   "outputs": [
    {
     "data": {
      "text/html": [
       "<div>\n",
       "<style scoped>\n",
       "    .dataframe tbody tr th:only-of-type {\n",
       "        vertical-align: middle;\n",
       "    }\n",
       "\n",
       "    .dataframe tbody tr th {\n",
       "        vertical-align: top;\n",
       "    }\n",
       "\n",
       "    .dataframe thead th {\n",
       "        text-align: right;\n",
       "    }\n",
       "</style>\n",
       "<table border=\"1\" class=\"dataframe\">\n",
       "  <thead>\n",
       "    <tr style=\"text-align: right;\">\n",
       "      <th></th>\n",
       "      <th>objectType</th>\n",
       "      <th>geometry</th>\n",
       "      <th>name</th>\n",
       "      <th>color</th>\n",
       "      <th>origin</th>\n",
       "    </tr>\n",
       "    <tr>\n",
       "      <th>id</th>\n",
       "      <th></th>\n",
       "      <th></th>\n",
       "      <th></th>\n",
       "      <th></th>\n",
       "      <th></th>\n",
       "    </tr>\n",
       "  </thead>\n",
       "  <tbody>\n",
       "    <tr>\n",
       "      <th>1970eccb-ad38-4b4b-b7a8-54509027b57d</th>\n",
       "      <td>annotation</td>\n",
       "      <td>POLYGON ((25319.00000 3892.00000, 25313.00000 ...</td>\n",
       "      <td>Negative</td>\n",
       "      <td>[112, 112, 225]</td>\n",
       "      <td>file</td>\n",
       "    </tr>\n",
       "    <tr>\n",
       "      <th>a3b32cce-1bb9-4a6f-b1d1-9e0c44420cfa</th>\n",
       "      <td>annotation</td>\n",
       "      <td>POLYGON ((30950.00000 10855.00000, 30944.00000...</td>\n",
       "      <td>Positive</td>\n",
       "      <td>[250, 62, 62]</td>\n",
       "      <td>file</td>\n",
       "    </tr>\n",
       "    <tr>\n",
       "      <th>92bfe928-a21f-4864-b7cb-f0d300113d88</th>\n",
       "      <td>annotation</td>\n",
       "      <td>MULTIPOLYGON (((21534.00000 19541.00000, 21534...</td>\n",
       "      <td>Other</td>\n",
       "      <td>[255, 200, 0]</td>\n",
       "      <td>file</td>\n",
       "    </tr>\n",
       "    <tr>\n",
       "      <th>a6c17a54-6839-40b2-8531-c9227635f344</th>\n",
       "      <td>annotation</td>\n",
       "      <td>POLYGON ((6501.00000 17126.00000, 6495.00000 1...</td>\n",
       "      <td>Other</td>\n",
       "      <td>[255, 200, 0]</td>\n",
       "      <td>file</td>\n",
       "    </tr>\n",
       "    <tr>\n",
       "      <th>e78efe2f-d185-4ab6-9cc9-6621897f3662</th>\n",
       "      <td>annotation</td>\n",
       "      <td>POLYGON ((29519.63000 18523.00000, 29476.00000...</td>\n",
       "      <td>Negative</td>\n",
       "      <td>[112, 112, 225]</td>\n",
       "      <td>file</td>\n",
       "    </tr>\n",
       "    <tr>\n",
       "      <th>24b9db2b-05f8-422c-8dde-b92dd9c3a2db</th>\n",
       "      <td>annotation</td>\n",
       "      <td>POLYGON ((369.90390 462.92608, 467.79272 439.1...</td>\n",
       "      <td>Other</td>\n",
       "      <td>[1.0, 0.7843137383460999, 0.0, 1.0]</td>\n",
       "      <td>manual</td>\n",
       "    </tr>\n",
       "    <tr>\n",
       "      <th>9c863fae-40c5-4561-a72a-a449cbd3df25</th>\n",
       "      <td>annotation</td>\n",
       "      <td>POLYGON ((384.73554 658.70371, 384.73554 958.3...</td>\n",
       "      <td>Other</td>\n",
       "      <td>[1.0, 0.7843137383460999, 0.0, 1.0]</td>\n",
       "      <td>manual</td>\n",
       "    </tr>\n",
       "    <tr>\n",
       "      <th>b9d164f9-2b05-4055-bede-e046b703095f</th>\n",
       "      <td>annotation</td>\n",
       "      <td>POLYGON ((494.48966 1162.97941, 580.51317 1133...</td>\n",
       "      <td>Other</td>\n",
       "      <td>[1.0, 0.7843137383460999, 0.0, 1.0]</td>\n",
       "      <td>manual</td>\n",
       "    </tr>\n",
       "    <tr>\n",
       "      <th>3517bcc1-f915-4fc0-a4fe-7a974f3ae6c5</th>\n",
       "      <td>annotation</td>\n",
       "      <td>POLYGON ((740.69486 667.60269, 797.05509 652.7...</td>\n",
       "      <td>Other</td>\n",
       "      <td>[1.0, 0.7843137383460999, 0.0, 1.0]</td>\n",
       "      <td>manual</td>\n",
       "    </tr>\n",
       "  </tbody>\n",
       "</table>\n",
       "</div>"
      ],
      "text/plain": [
       "                                      objectType  \\\n",
       "id                                                 \n",
       "1970eccb-ad38-4b4b-b7a8-54509027b57d  annotation   \n",
       "a3b32cce-1bb9-4a6f-b1d1-9e0c44420cfa  annotation   \n",
       "92bfe928-a21f-4864-b7cb-f0d300113d88  annotation   \n",
       "a6c17a54-6839-40b2-8531-c9227635f344  annotation   \n",
       "e78efe2f-d185-4ab6-9cc9-6621897f3662  annotation   \n",
       "24b9db2b-05f8-422c-8dde-b92dd9c3a2db  annotation   \n",
       "9c863fae-40c5-4561-a72a-a449cbd3df25  annotation   \n",
       "b9d164f9-2b05-4055-bede-e046b703095f  annotation   \n",
       "3517bcc1-f915-4fc0-a4fe-7a974f3ae6c5  annotation   \n",
       "\n",
       "                                                                               geometry  \\\n",
       "id                                                                                        \n",
       "1970eccb-ad38-4b4b-b7a8-54509027b57d  POLYGON ((25319.00000 3892.00000, 25313.00000 ...   \n",
       "a3b32cce-1bb9-4a6f-b1d1-9e0c44420cfa  POLYGON ((30950.00000 10855.00000, 30944.00000...   \n",
       "92bfe928-a21f-4864-b7cb-f0d300113d88  MULTIPOLYGON (((21534.00000 19541.00000, 21534...   \n",
       "a6c17a54-6839-40b2-8531-c9227635f344  POLYGON ((6501.00000 17126.00000, 6495.00000 1...   \n",
       "e78efe2f-d185-4ab6-9cc9-6621897f3662  POLYGON ((29519.63000 18523.00000, 29476.00000...   \n",
       "24b9db2b-05f8-422c-8dde-b92dd9c3a2db  POLYGON ((369.90390 462.92608, 467.79272 439.1...   \n",
       "9c863fae-40c5-4561-a72a-a449cbd3df25  POLYGON ((384.73554 658.70371, 384.73554 958.3...   \n",
       "b9d164f9-2b05-4055-bede-e046b703095f  POLYGON ((494.48966 1162.97941, 580.51317 1133...   \n",
       "3517bcc1-f915-4fc0-a4fe-7a974f3ae6c5  POLYGON ((740.69486 667.60269, 797.05509 652.7...   \n",
       "\n",
       "                                          name  \\\n",
       "id                                               \n",
       "1970eccb-ad38-4b4b-b7a8-54509027b57d  Negative   \n",
       "a3b32cce-1bb9-4a6f-b1d1-9e0c44420cfa  Positive   \n",
       "92bfe928-a21f-4864-b7cb-f0d300113d88     Other   \n",
       "a6c17a54-6839-40b2-8531-c9227635f344     Other   \n",
       "e78efe2f-d185-4ab6-9cc9-6621897f3662  Negative   \n",
       "24b9db2b-05f8-422c-8dde-b92dd9c3a2db     Other   \n",
       "9c863fae-40c5-4561-a72a-a449cbd3df25     Other   \n",
       "b9d164f9-2b05-4055-bede-e046b703095f     Other   \n",
       "3517bcc1-f915-4fc0-a4fe-7a974f3ae6c5     Other   \n",
       "\n",
       "                                                                    color  \\\n",
       "id                                                                          \n",
       "1970eccb-ad38-4b4b-b7a8-54509027b57d                      [112, 112, 225]   \n",
       "a3b32cce-1bb9-4a6f-b1d1-9e0c44420cfa                        [250, 62, 62]   \n",
       "92bfe928-a21f-4864-b7cb-f0d300113d88                        [255, 200, 0]   \n",
       "a6c17a54-6839-40b2-8531-c9227635f344                        [255, 200, 0]   \n",
       "e78efe2f-d185-4ab6-9cc9-6621897f3662                      [112, 112, 225]   \n",
       "24b9db2b-05f8-422c-8dde-b92dd9c3a2db  [1.0, 0.7843137383460999, 0.0, 1.0]   \n",
       "9c863fae-40c5-4561-a72a-a449cbd3df25  [1.0, 0.7843137383460999, 0.0, 1.0]   \n",
       "b9d164f9-2b05-4055-bede-e046b703095f  [1.0, 0.7843137383460999, 0.0, 1.0]   \n",
       "3517bcc1-f915-4fc0-a4fe-7a974f3ae6c5  [1.0, 0.7843137383460999, 0.0, 1.0]   \n",
       "\n",
       "                                      origin  \n",
       "id                                            \n",
       "1970eccb-ad38-4b4b-b7a8-54509027b57d    file  \n",
       "a3b32cce-1bb9-4a6f-b1d1-9e0c44420cfa    file  \n",
       "92bfe928-a21f-4864-b7cb-f0d300113d88    file  \n",
       "a6c17a54-6839-40b2-8531-c9227635f344    file  \n",
       "e78efe2f-d185-4ab6-9cc9-6621897f3662    file  \n",
       "24b9db2b-05f8-422c-8dde-b92dd9c3a2db  manual  \n",
       "9c863fae-40c5-4561-a72a-a449cbd3df25  manual  \n",
       "b9d164f9-2b05-4055-bede-e046b703095f  manual  \n",
       "3517bcc1-f915-4fc0-a4fe-7a974f3ae6c5  manual  "
      ]
     },
     "execution_count": 109,
     "metadata": {},
     "output_type": "execute_result"
    }
   ],
   "source": [
    "xd.annotations.demo2"
   ]
  },
  {
   "cell_type": "code",
   "execution_count": null,
   "metadata": {},
   "outputs": [],
   "source": []
  },
  {
   "cell_type": "code",
   "execution_count": null,
   "metadata": {},
   "outputs": [],
   "source": []
  },
  {
   "cell_type": "code",
   "execution_count": 84,
   "metadata": {},
   "outputs": [
    {
     "data": {
      "text/html": [
       "<div>\n",
       "<style scoped>\n",
       "    .dataframe tbody tr th:only-of-type {\n",
       "        vertical-align: middle;\n",
       "    }\n",
       "\n",
       "    .dataframe tbody tr th {\n",
       "        vertical-align: top;\n",
       "    }\n",
       "\n",
       "    .dataframe thead th {\n",
       "        text-align: right;\n",
       "    }\n",
       "</style>\n",
       "<table border=\"1\" class=\"dataframe\">\n",
       "  <thead>\n",
       "    <tr style=\"text-align: right;\">\n",
       "      <th></th>\n",
       "      <th>objectType</th>\n",
       "      <th>geometry</th>\n",
       "      <th>name</th>\n",
       "      <th>color</th>\n",
       "      <th>origin</th>\n",
       "    </tr>\n",
       "    <tr>\n",
       "      <th>id</th>\n",
       "      <th></th>\n",
       "      <th></th>\n",
       "      <th></th>\n",
       "      <th></th>\n",
       "      <th></th>\n",
       "    </tr>\n",
       "  </thead>\n",
       "  <tbody>\n",
       "    <tr>\n",
       "      <th>1970eccb-ad38-4b4b-b7a8-54509027b57d</th>\n",
       "      <td>annotation</td>\n",
       "      <td>POLYGON ((25319.00000 3892.00000, 25313.00000 ...</td>\n",
       "      <td>Negative</td>\n",
       "      <td>[112, 112, 225]</td>\n",
       "      <td>file</td>\n",
       "    </tr>\n",
       "    <tr>\n",
       "      <th>a3b32cce-1bb9-4a6f-b1d1-9e0c44420cfa</th>\n",
       "      <td>annotation</td>\n",
       "      <td>POLYGON ((30950.00000 10855.00000, 30944.00000...</td>\n",
       "      <td>Positive</td>\n",
       "      <td>[250, 62, 62]</td>\n",
       "      <td>file</td>\n",
       "    </tr>\n",
       "    <tr>\n",
       "      <th>92bfe928-a21f-4864-b7cb-f0d300113d88</th>\n",
       "      <td>annotation</td>\n",
       "      <td>MULTIPOLYGON (((21534.00000 19541.00000, 21534...</td>\n",
       "      <td>Other</td>\n",
       "      <td>[255, 200, 0]</td>\n",
       "      <td>file</td>\n",
       "    </tr>\n",
       "    <tr>\n",
       "      <th>a6c17a54-6839-40b2-8531-c9227635f344</th>\n",
       "      <td>annotation</td>\n",
       "      <td>POLYGON ((6501.00000 17126.00000, 6495.00000 1...</td>\n",
       "      <td>Other</td>\n",
       "      <td>[255, 200, 0]</td>\n",
       "      <td>file</td>\n",
       "    </tr>\n",
       "    <tr>\n",
       "      <th>e78efe2f-d185-4ab6-9cc9-6621897f3662</th>\n",
       "      <td>annotation</td>\n",
       "      <td>POLYGON ((29519.63000 18523.00000, 29476.00000...</td>\n",
       "      <td>Negative</td>\n",
       "      <td>[112, 112, 225]</td>\n",
       "      <td>file</td>\n",
       "    </tr>\n",
       "    <tr>\n",
       "      <th>268d0c72-0b42-4790-9f61-4712e6cdb9ab</th>\n",
       "      <td>annotation</td>\n",
       "      <td>POLYGON ((1371.54196 670.72323, 1371.54196 226...</td>\n",
       "      <td>Other</td>\n",
       "      <td>[1.0, 0.7843137383460999, 0.0, 1.0]</td>\n",
       "      <td>manual</td>\n",
       "    </tr>\n",
       "    <tr>\n",
       "      <th>2fac0953-e562-4c10-815e-f8c2da57f939</th>\n",
       "      <td>annotation</td>\n",
       "      <td>POLYGON ((1595.91351 3054.67093, 1595.91351 44...</td>\n",
       "      <td>Other</td>\n",
       "      <td>[1.0, 0.7843137383460999, 0.0, 1.0]</td>\n",
       "      <td>manual</td>\n",
       "    </tr>\n",
       "    <tr>\n",
       "      <th>100bfda9-15ad-4eec-a2c5-cdeaaacc7164</th>\n",
       "      <td>annotation</td>\n",
       "      <td>POLYGON ((838.65953 2311.44018, 1063.03108 231...</td>\n",
       "      <td>Other</td>\n",
       "      <td>[1.0, 0.7843137383460999, 0.0, 1.0]</td>\n",
       "      <td>manual</td>\n",
       "    </tr>\n",
       "    <tr>\n",
       "      <th>b0d821bf-7bf4-40c6-a92e-a15cc6500b4f</th>\n",
       "      <td>annotation</td>\n",
       "      <td>POLYGON ((1371.54196 5256.31675, 1497.75095 51...</td>\n",
       "      <td>Other</td>\n",
       "      <td>[1.0, 0.7843137383460999, 0.0, 1.0]</td>\n",
       "      <td>manual</td>\n",
       "    </tr>\n",
       "    <tr>\n",
       "      <th>780b5f66-b7e5-47e4-87f0-bc3ca28e1a66</th>\n",
       "      <td>annotation</td>\n",
       "      <td>POLYGON ((3503.07167 3307.08893, 3769.51288 32...</td>\n",
       "      <td>Other</td>\n",
       "      <td>[1.0, 0.7843137383460999, 0.0, 1.0]</td>\n",
       "      <td>manual</td>\n",
       "    </tr>\n",
       "  </tbody>\n",
       "</table>\n",
       "</div>"
      ],
      "text/plain": [
       "                                      objectType  \\\n",
       "id                                                 \n",
       "1970eccb-ad38-4b4b-b7a8-54509027b57d  annotation   \n",
       "a3b32cce-1bb9-4a6f-b1d1-9e0c44420cfa  annotation   \n",
       "92bfe928-a21f-4864-b7cb-f0d300113d88  annotation   \n",
       "a6c17a54-6839-40b2-8531-c9227635f344  annotation   \n",
       "e78efe2f-d185-4ab6-9cc9-6621897f3662  annotation   \n",
       "268d0c72-0b42-4790-9f61-4712e6cdb9ab  annotation   \n",
       "2fac0953-e562-4c10-815e-f8c2da57f939  annotation   \n",
       "100bfda9-15ad-4eec-a2c5-cdeaaacc7164  annotation   \n",
       "b0d821bf-7bf4-40c6-a92e-a15cc6500b4f  annotation   \n",
       "780b5f66-b7e5-47e4-87f0-bc3ca28e1a66  annotation   \n",
       "\n",
       "                                                                               geometry  \\\n",
       "id                                                                                        \n",
       "1970eccb-ad38-4b4b-b7a8-54509027b57d  POLYGON ((25319.00000 3892.00000, 25313.00000 ...   \n",
       "a3b32cce-1bb9-4a6f-b1d1-9e0c44420cfa  POLYGON ((30950.00000 10855.00000, 30944.00000...   \n",
       "92bfe928-a21f-4864-b7cb-f0d300113d88  MULTIPOLYGON (((21534.00000 19541.00000, 21534...   \n",
       "a6c17a54-6839-40b2-8531-c9227635f344  POLYGON ((6501.00000 17126.00000, 6495.00000 1...   \n",
       "e78efe2f-d185-4ab6-9cc9-6621897f3662  POLYGON ((29519.63000 18523.00000, 29476.00000...   \n",
       "268d0c72-0b42-4790-9f61-4712e6cdb9ab  POLYGON ((1371.54196 670.72323, 1371.54196 226...   \n",
       "2fac0953-e562-4c10-815e-f8c2da57f939  POLYGON ((1595.91351 3054.67093, 1595.91351 44...   \n",
       "100bfda9-15ad-4eec-a2c5-cdeaaacc7164  POLYGON ((838.65953 2311.44018, 1063.03108 231...   \n",
       "b0d821bf-7bf4-40c6-a92e-a15cc6500b4f  POLYGON ((1371.54196 5256.31675, 1497.75095 51...   \n",
       "780b5f66-b7e5-47e4-87f0-bc3ca28e1a66  POLYGON ((3503.07167 3307.08893, 3769.51288 32...   \n",
       "\n",
       "                                          name  \\\n",
       "id                                               \n",
       "1970eccb-ad38-4b4b-b7a8-54509027b57d  Negative   \n",
       "a3b32cce-1bb9-4a6f-b1d1-9e0c44420cfa  Positive   \n",
       "92bfe928-a21f-4864-b7cb-f0d300113d88     Other   \n",
       "a6c17a54-6839-40b2-8531-c9227635f344     Other   \n",
       "e78efe2f-d185-4ab6-9cc9-6621897f3662  Negative   \n",
       "268d0c72-0b42-4790-9f61-4712e6cdb9ab     Other   \n",
       "2fac0953-e562-4c10-815e-f8c2da57f939     Other   \n",
       "100bfda9-15ad-4eec-a2c5-cdeaaacc7164     Other   \n",
       "b0d821bf-7bf4-40c6-a92e-a15cc6500b4f     Other   \n",
       "780b5f66-b7e5-47e4-87f0-bc3ca28e1a66     Other   \n",
       "\n",
       "                                                                    color  \\\n",
       "id                                                                          \n",
       "1970eccb-ad38-4b4b-b7a8-54509027b57d                      [112, 112, 225]   \n",
       "a3b32cce-1bb9-4a6f-b1d1-9e0c44420cfa                        [250, 62, 62]   \n",
       "92bfe928-a21f-4864-b7cb-f0d300113d88                        [255, 200, 0]   \n",
       "a6c17a54-6839-40b2-8531-c9227635f344                        [255, 200, 0]   \n",
       "e78efe2f-d185-4ab6-9cc9-6621897f3662                      [112, 112, 225]   \n",
       "268d0c72-0b42-4790-9f61-4712e6cdb9ab  [1.0, 0.7843137383460999, 0.0, 1.0]   \n",
       "2fac0953-e562-4c10-815e-f8c2da57f939  [1.0, 0.7843137383460999, 0.0, 1.0]   \n",
       "100bfda9-15ad-4eec-a2c5-cdeaaacc7164  [1.0, 0.7843137383460999, 0.0, 1.0]   \n",
       "b0d821bf-7bf4-40c6-a92e-a15cc6500b4f  [1.0, 0.7843137383460999, 0.0, 1.0]   \n",
       "780b5f66-b7e5-47e4-87f0-bc3ca28e1a66  [1.0, 0.7843137383460999, 0.0, 1.0]   \n",
       "\n",
       "                                      origin  \n",
       "id                                            \n",
       "1970eccb-ad38-4b4b-b7a8-54509027b57d    file  \n",
       "a3b32cce-1bb9-4a6f-b1d1-9e0c44420cfa    file  \n",
       "92bfe928-a21f-4864-b7cb-f0d300113d88    file  \n",
       "a6c17a54-6839-40b2-8531-c9227635f344    file  \n",
       "e78efe2f-d185-4ab6-9cc9-6621897f3662    file  \n",
       "268d0c72-0b42-4790-9f61-4712e6cdb9ab  manual  \n",
       "2fac0953-e562-4c10-815e-f8c2da57f939  manual  \n",
       "100bfda9-15ad-4eec-a2c5-cdeaaacc7164  manual  \n",
       "b0d821bf-7bf4-40c6-a92e-a15cc6500b4f  manual  \n",
       "780b5f66-b7e5-47e4-87f0-bc3ca28e1a66  manual  "
      ]
     },
     "execution_count": 84,
     "metadata": {},
     "output_type": "execute_result"
    }
   ],
   "source": [
    "xd.annotations.demo2"
   ]
  },
  {
   "cell_type": "code",
   "execution_count": null,
   "metadata": {},
   "outputs": [],
   "source": []
  },
  {
   "cell_type": "code",
   "execution_count": null,
   "metadata": {},
   "outputs": [],
   "source": []
  },
  {
   "cell_type": "code",
   "execution_count": 29,
   "metadata": {},
   "outputs": [
    {
     "name": "stderr",
     "output_type": "stream",
     "text": [
      "c:\\Users\\ge37voy\\AppData\\Local\\miniconda3\\envs\\insitupy\\lib\\site-packages\\geopandas\\geoseries.py:628: FutureWarning: Series.__getitem__ treating keys as positions is deprecated. In a future version, integer keys will always be treated as labels (consistent with DataFrame behavior). To access a value by position, use `ser.iloc[pos]`\n",
      "  val = getattr(super(), mtd)(*args, **kwargs)\n"
     ]
    },
    {
     "data": {
      "text/plain": [
       "<matplotlib.collections.PathCollection at 0x227207c80d0>"
      ]
     },
     "execution_count": 29,
     "metadata": {},
     "output_type": "execute_result"
    },
    {
     "data": {
      "image/png": "[encoded data removed]",
      "text/plain": [
       "<Figure size 640x480 with 1 Axes>"
      ]
     },
     "metadata": {},
     "output_type": "display_data"
    }
   ],
   "source": [
    "import matplotlib.pyplot as plt\n",
    "from shapely.affinity import scale\n",
    "\n",
    "p = xd.annotations.demo.geometry[0]\n",
    "p_scaled = scale(p, xfact=0.5, yfact=0.5, \n",
    "                 origin=(0,0)\n",
    "                 )\n",
    "p2 = xd.annotations.demo2.geometry[2]\n",
    "p2_scaled = scale(p2, xfact=0.5, yfact=0.5, \n",
    "                 origin=(0,0)\n",
    ")\n",
    "\n",
    "\n",
    "plt.plot(*p.exterior.xy, c='red')\n",
    "plt.plot(*p_scaled.exterior.xy, c='green')\n",
    "for geom in p2.geoms:\n",
    "    plt.plot(*geom.exterior.xy, c='orange')\n",
    "for geom in p2_scaled.geoms:\n",
    "    plt.plot(*geom.exterior.xy, c='blue')\n",
    "\n",
    "plt.scatter(0, 0)"
   ]
  },
  {
   "cell_type": "code",
   "execution_count": 30,
   "metadata": {},
   "outputs": [],
   "source": [
    "from shapely import MultiPolygon"
   ]
  },
  {
   "cell_type": "code",
   "execution_count": 37,
   "metadata": {},
   "outputs": [
    {
     "data": {
      "image/svg+xml": [
       "<svg xmlns=\"http://www.w3.org/2000/svg\" xmlns:xlink=\"http://www.w3.org/1999/xlink\" width=\"300\" height=\"300\" viewBox=\"7476.44 10559.44 4109.12 6873.120000000001\" preserveAspectRatio=\"xMinYMin meet\"><g transform=\"matrix(1,0,0,-1,0,27992.0)\"><g><path fill-rule=\"evenodd\" fill=\"#ff3333\" stroke=\"#555555\" stroke-width=\"45.820800000000006\" opacity=\"0.6\" d=\"M 8863.0,10814.0 L 8863.0,10824.0 L 8832.0,10824.0 L 8822.0,10844.0 L 8792.0,10844.0 L 8761.0,10854.0 L 8730.0,10875.0 L 8720.0,10875.0 L 8710.0,10885.0 L 8679.0,10905.0 L 8659.0,10905.0 L 8628.0,10916.0 L 8618.0,10926.0 L 8588.0,10926.0 L 8577.0,10946.0 L 8557.0,10946.0 L 8547.0,10956.0 L 8537.0,10956.0 L 8516.0,10967.0 L 8496.0,10967.0 L 8475.0,10987.0 L 8465.0,10987.0 L 8445.0,10997.0 L 8435.0,10997.0 L 8404.0,11018.0 L 8363.0,11028.0 L 8353.0,11028.0 L 8333.0,11038.0 L 8322.0,11038.0 L 8292.0,11058.0 L 8272.0,11058.0 L 8261.0,11069.0 L 8231.0,11069.0 L 8221.0,11089.0 L 8210.0,11099.0 L 8159.0,11099.0 L 8149.0,11109.0 L 8139.0,11109.0 L 8139.0,11130.0 L 8108.0,11130.0 L 8108.0,11140.0 L 8078.0,11140.0 L 8078.0,11160.0 L 8068.0,11160.0 L 8068.0,11171.0 L 8037.0,11171.0 L 8027.0,11181.0 L 8027.0,11201.0 L 8006.0,11201.0 L 8006.0,11211.0 L 8006.0,11222.0 L 8006.0,11242.0 L 7996.0,11242.0 L 7996.0,11252.0 L 7986.0,11252.0 L 7986.0,11262.0 L 7986.0,11283.0 L 7986.0,11293.0 L 7966.0,11293.0 L 7966.0,11313.0 L 7966.0,11324.0 L 7762.0,11936.0 L 7762.0,11956.0 L 7762.0,11987.0 L 7762.0,12017.0 L 7741.0,12027.0 L 7741.0,12058.0 L 7741.0,12078.0 L 7731.0,12109.0 L 7731.0,12119.0 L 7731.0,12160.0 L 7731.0,12190.0 L 7731.0,12221.0 L 7731.0,12252.0 L 7731.0,12282.0 L 7731.0,12333.0 L 7731.0,12384.0 L 7731.0,12415.0 L 7731.0,12425.0 L 7731.0,12456.0 L 7731.0,12466.0 L 7731.0,12496.0 L 7731.0,12517.0 L 7731.0,12547.0 L 7731.0,12578.0 L 7731.0,12588.0 L 7731.0,12619.0 L 7731.0,12629.0 L 7731.0,12649.0 L 7731.0,12660.0 L 7731.0,12670.0 L 7731.0,12700.0 L 7731.0,12721.0 L 7731.0,12731.0 L 7731.0,12762.0 L 7731.0,12772.0 L 7731.0,12792.0 L 7731.0,12843.0 L 7731.0,12864.0 L 7731.0,12894.0 L 7751.0,12904.0 L 7751.0,12955.0 L 7751.0,12966.0 L 7751.0,13006.0 L 7751.0,13037.0 L 7751.0,13047.0 L 7751.0,13078.0 L 7762.0,13088.0 L 7762.0,13108.0 L 7762.0,13119.0 L 7762.0,13139.0 L 7762.0,13180.0 L 7762.0,13190.0 L 7762.0,13210.0 L 7762.0,13221.0 L 7762.0,13231.0 L 7762.0,13261.0 L 7762.0,13394.0 L 7762.0,13435.0 L 7762.0,13465.0 L 7762.0,13476.0 L 7762.0,13506.0 L 7762.0,13527.0 L 7751.0,13557.0 L 7751.0,13588.0 L 7751.0,13598.0 L 7751.0,13608.0 L 7751.0,13629.0 L 7751.0,13639.0 L 7751.0,13669.0 L 7751.0,13680.0 L 7751.0,13710.0 L 7751.0,13731.0 L 7751.0,13761.0 L 7751.0,13771.0 L 7751.0,13802.0 L 7751.0,13812.0 L 7762.0,13863.0 L 7762.0,13894.0 L 7762.0,13904.0 L 7762.0,13935.0 L 7762.0,13965.0 L 7762.0,13975.0 L 7762.0,13996.0 L 7772.0,14047.0 L 7772.0,14067.0 L 7772.0,14098.0 L 7772.0,14108.0 L 7772.0,14139.0 L 7772.0,14169.0 L 7772.0,14200.0 L 7772.0,14230.0 L 7792.0,14353.0 L 7792.0,14383.0 L 7792.0,14475.0 L 7792.0,14485.0 L 7792.0,14506.0 L 7792.0,14516.0 L 7792.0,14526.0 L 7792.0,14557.0 L 7802.0,14587.0 L 7802.0,14598.0 L 7802.0,14618.0 L 7802.0,14628.0 L 7802.0,14649.0 L 7823.0,14669.0 L 7823.0,14700.0 L 7823.0,14720.0 L 7833.0,14751.0 L 7833.0,14771.0 L 7833.0,14791.0 L 7833.0,14802.0 L 7853.0,14812.0 L 7853.0,14832.0 L 7853.0,14853.0 L 7853.0,14873.0 L 7853.0,14883.0 L 7864.0,14904.0 L 7864.0,14924.0 L 7864.0,14944.0 L 7864.0,14975.0 L 7874.0,14985.0 L 7874.0,14995.0 L 7874.0,15016.0 L 7894.0,15026.0 L 7894.0,15046.0 L 7894.0,15057.0 L 7894.0,15067.0 L 7904.0,15087.0 L 7904.0,15097.0 L 7904.0,15108.0 L 7925.0,15128.0 L 7925.0,15138.0 L 7925.0,15169.0 L 7925.0,15179.0 L 7935.0,15199.0 L 7935.0,15210.0 L 7935.0,15220.0 L 7935.0,15240.0 L 7935.0,15250.0 L 7935.0,15271.0 L 7935.0,15291.0 L 7945.0,15312.0 L 7945.0,15322.0 L 7945.0,15342.0 L 7945.0,15352.0 L 7945.0,15363.0 L 7966.0,15383.0 L 7966.0,15393.0 L 7966.0,15424.0 L 7966.0,15434.0 L 7966.0,15465.0 L 7976.0,15536.0 L 7976.0,15556.0 L 7996.0,15567.0 L 7996.0,15577.0 L 7996.0,15597.0 L 8006.0,15628.0 L 8006.0,15638.0 L 8017.0,15669.0 L 8017.0,15679.0 L 8017.0,15709.0 L 8017.0,15720.0 L 8037.0,15750.0 L 8037.0,15771.0 L 8047.0,15801.0 L 8047.0,15832.0 L 8068.0,15842.0 L 8068.0,15873.0 L 8068.0,15893.0 L 8078.0,15903.0 L 8078.0,15913.0 L 8098.0,15944.0 L 8098.0,15964.0 L 8098.0,15995.0 L 8108.0,16005.0 L 8108.0,16015.0 L 8119.0,16077.0 L 8139.0,16097.0 L 8139.0,16128.0 L 8139.0,16148.0 L 8139.0,16158.0 L 8139.0,16168.0 L 8149.0,16189.0 L 8149.0,16219.0 L 8159.0,16230.0 L 8159.0,16260.0 L 8180.0,16270.0 L 8180.0,16291.0 L 8180.0,16301.0 L 8190.0,16311.0 L 8190.0,16332.0 L 8190.0,16342.0 L 8210.0,16342.0 L 8210.0,16372.0 L 8221.0,16383.0 L 8221.0,16393.0 L 8231.0,16413.0 L 8251.0,16413.0 L 8251.0,16423.0 L 8261.0,16444.0 L 8261.0,16454.0 L 8302.0,16495.0 L 8322.0,16515.0 L 8333.0,16525.0 L 8333.0,16535.0 L 8363.0,16556.0 L 8363.0,16566.0 L 8394.0,16566.0 L 8394.0,16576.0 L 8404.0,16597.0 L 8435.0,16607.0 L 8455.0,16627.0 L 8465.0,16627.0 L 8475.0,16637.0 L 8496.0,16648.0 L 8506.0,16648.0 L 8526.0,16668.0 L 8537.0,16668.0 L 8547.0,16678.0 L 8567.0,16699.0 L 8588.0,16699.0 L 8608.0,16709.0 L 8618.0,16719.0 L 8628.0,16719.0 L 8659.0,16739.0 L 8679.0,16750.0 L 8690.0,16750.0 L 8720.0,16770.0 L 8730.0,16780.0 L 8761.0,16790.0 L 8781.0,16790.0 L 8812.0,16811.0 L 8822.0,16811.0 L 8853.0,16821.0 L 8863.0,16841.0 L 8883.0,16852.0 L 8914.0,16872.0 L 8924.0,16872.0 L 8955.0,16882.0 L 8985.0,16903.0 L 9026.0,16913.0 L 9067.0,16943.0 L 9087.0,16943.0 L 9118.0,16964.0 L 9159.0,16974.0 L 9169.0,16994.0 L 9189.0,16994.0 L 9200.0,17005.0 L 9230.0,17005.0 L 9240.0,17015.0 L 9302.0,17045.0 L 9332.0,17045.0 L 9342.0,17056.0 L 9373.0,17056.0 L 9393.0,17076.0 L 9404.0,17086.0 L 9434.0,17086.0 L 9465.0,17107.0 L 9526.0,17117.0 L 9557.0,17117.0 L 9577.0,17137.0 L 9679.0,17137.0 L 9689.0,17147.0 L 9720.0,17147.0 L 9730.0,17168.0 L 9801.0,17168.0 L 9832.0,17178.0 L 10209.0,17178.0 L 10220.0,17158.0 L 10281.0,17158.0 L 10291.0,17147.0 L 10362.0,17147.0 L 10373.0,17127.0 L 10434.0,17127.0 L 10444.0,17117.0 L 10536.0,17117.0 L 10536.0,17107.0 L 10556.0,17107.0 L 10556.0,17086.0 L 10587.0,17086.0 L 10607.0,17076.0 L 10617.0,17076.0 L 10628.0,17066.0 L 10648.0,17066.0 L 10658.0,17045.0 L 10668.0,17035.0 L 10689.0,17025.0 L 10699.0,17005.0 L 10719.0,16994.0 L 10730.0,16994.0 L 10740.0,16974.0 L 10760.0,16974.0 L 10781.0,16954.0 L 10801.0,16954.0 L 10801.0,16933.0 L 10811.0,16923.0 L 10821.0,16913.0 L 10842.0,16892.0 L 10852.0,16892.0 L 10852.0,16882.0 L 10872.0,16882.0 L 10872.0,16872.0 L 10883.0,16872.0 L 10883.0,16852.0 L 10893.0,16841.0 L 10913.0,16811.0 L 10923.0,16780.0 L 10954.0,16770.0 L 10964.0,16760.0 L 10964.0,16739.0 L 10974.0,16729.0 L 11005.0,16699.0 L 11005.0,16688.0 L 11005.0,16668.0 L 11025.0,16658.0 L 11036.0,16648.0 L 11036.0,16627.0 L 11046.0,16617.0 L 11046.0,16607.0 L 11066.0,16576.0 L 11066.0,16556.0 L 11076.0,16546.0 L 11076.0,16525.0 L 11097.0,16515.0 L 11107.0,16485.0 L 11107.0,16474.0 L 11117.0,16454.0 L 11117.0,16423.0 L 11117.0,16413.0 L 11138.0,16383.0 L 11148.0,16321.0 L 11168.0,16311.0 L 11168.0,16301.0 L 11178.0,16270.0 L 11178.0,16250.0 L 11178.0,16219.0 L 11178.0,16209.0 L 11199.0,16199.0 L 11199.0,16168.0 L 11209.0,16148.0 L 11209.0,16138.0 L 11219.0,16128.0 L 11219.0,16097.0 L 11240.0,16077.0 L 11240.0,16066.0 L 11240.0,16036.0 L 11250.0,16005.0 L 11250.0,15954.0 L 11270.0,15934.0 L 11270.0,15893.0 L 11280.0,15852.0 L 11280.0,15822.0 L 11280.0,15791.0 L 11301.0,15760.0 L 11301.0,15679.0 L 11311.0,15628.0 L 11311.0,15607.0 L 11311.0,15567.0 L 11311.0,15465.0 L 11331.0,15434.0 L 11331.0,15414.0 L 11331.0,15403.0 L 11331.0,15373.0 L 11331.0,15363.0 L 11331.0,15332.0 L 11331.0,15312.0 L 11331.0,15291.0 L 11331.0,15271.0 L 11331.0,15240.0 L 11331.0,15210.0 L 11331.0,15199.0 L 11331.0,15189.0 L 11331.0,15169.0 L 11331.0,15159.0 L 11331.0,15138.0 L 11331.0,15128.0 L 11331.0,15118.0 L 11331.0,15087.0 L 11331.0,15067.0 L 11331.0,15046.0 L 11331.0,14995.0 L 11331.0,14975.0 L 11331.0,14955.0 L 11331.0,14914.0 L 11331.0,14904.0 L 11331.0,14883.0 L 11331.0,14853.0 L 11331.0,14842.0 L 11331.0,14812.0 L 11331.0,14781.0 L 11331.0,14771.0 L 11331.0,14740.0 L 11331.0,14710.0 L 11331.0,14679.0 L 11331.0,14659.0 L 11331.0,14628.0 L 11331.0,14598.0 L 11331.0,14567.0 L 11311.0,14536.0 L 11311.0,14506.0 L 11311.0,14475.0 L 11311.0,14455.0 L 11311.0,14424.0 L 11311.0,14394.0 L 11311.0,14383.0 L 11311.0,14353.0 L 11311.0,14322.0 L 11311.0,14292.0 L 11311.0,14281.0 L 11311.0,14251.0 L 11311.0,14220.0 L 11311.0,14190.0 L 11311.0,14108.0 L 11311.0,14077.0 L 11311.0,14047.0 L 11311.0,14016.0 L 11311.0,13965.0 L 11311.0,13935.0 L 11311.0,13904.0 L 11311.0,13873.0 L 11311.0,13843.0 L 11311.0,13802.0 L 11311.0,13771.0 L 11311.0,13741.0 L 11311.0,13710.0 L 11311.0,13680.0 L 11311.0,13649.0 L 11311.0,13618.0 L 11311.0,13588.0 L 11311.0,13557.0 L 11311.0,13506.0 L 11311.0,13486.0 L 11311.0,13465.0 L 11311.0,13435.0 L 11311.0,13404.0 L 11311.0,13394.0 L 11311.0,13363.0 L 11311.0,13333.0 L 11311.0,13323.0 L 11311.0,13292.0 L 11311.0,13272.0 L 11311.0,13241.0 L 11311.0,13210.0 L 11311.0,13200.0 L 11311.0,13170.0 L 11311.0,13159.0 L 11311.0,13129.0 L 11291.0,13088.0 L 11291.0,13078.0 L 11291.0,13047.0 L 11291.0,13017.0 L 11291.0,13006.0 L 11291.0,12986.0 L 11291.0,12966.0 L 11291.0,12925.0 L 11291.0,12915.0 L 11291.0,12884.0 L 11291.0,12874.0 L 11291.0,12853.0 L 11291.0,12833.0 L 11291.0,12813.0 L 11291.0,12782.0 L 11291.0,12772.0 L 11291.0,12741.0 L 11280.0,12731.0 L 11280.0,12711.0 L 11280.0,12680.0 L 11280.0,12670.0 L 11280.0,12639.0 L 11280.0,12609.0 L 11270.0,12598.0 L 11270.0,12568.0 L 11270.0,12547.0 L 11270.0,12527.0 L 11270.0,12507.0 L 11270.0,12496.0 L 11270.0,12476.0 L 11250.0,12445.0 L 11250.0,12415.0 L 11250.0,12394.0 L 11240.0,12343.0 L 11240.0,12333.0 L 11240.0,12303.0 L 11240.0,12292.0 L 11240.0,12272.0 L 11240.0,12241.0 L 11219.0,12211.0 L 11219.0,12180.0 L 11219.0,12150.0 L 11209.0,12139.0 L 11209.0,12109.0 L 11209.0,12099.0 L 11209.0,12078.0 L 11209.0,12068.0 L 11189.0,12058.0 L 11189.0,12037.0 L 11189.0,12027.0 L 11178.0,12017.0 L 11178.0,11987.0 L 11178.0,11966.0 L 11168.0,11956.0 L 11168.0,11946.0 L 11168.0,11925.0 L 11148.0,11915.0 L 11148.0,11905.0 L 11148.0,11885.0 L 11148.0,11874.0 L 11138.0,11874.0 L 11138.0,11854.0 L 11138.0,11844.0 L 11138.0,11834.0 L 11117.0,11813.0 L 11117.0,11803.0 L 11117.0,11793.0 L 11107.0,11772.0 L 11107.0,11762.0 L 11107.0,11742.0 L 11097.0,11711.0 L 11076.0,11701.0 L 11076.0,11691.0 L 11076.0,11670.0 L 11066.0,11660.0 L 11066.0,11650.0 L 11046.0,11619.0 L 11046.0,11599.0 L 11036.0,11599.0 L 11036.0,11589.0 L 11036.0,11579.0 L 11025.0,11558.0 L 11005.0,11548.0 L 10995.0,11517.0 L 10995.0,11507.0 L 10985.0,11487.0 L 10985.0,11477.0 L 10964.0,11466.0 L 10954.0,11446.0 L 10954.0,11436.0 L 10934.0,11426.0 L 10934.0,11405.0 L 10923.0,11405.0 L 10923.0,11375.0 L 10913.0,11375.0 L 10913.0,11364.0 L 10913.0,11354.0 L 10893.0,11334.0 L 10883.0,11303.0 L 10862.0,11293.0 L 10852.0,11262.0 L 10842.0,11252.0 L 10842.0,11232.0 L 10821.0,11222.0 L 10811.0,11211.0 L 10811.0,11191.0 L 10801.0,11181.0 L 10781.0,11171.0 L 10781.0,11140.0 L 10760.0,11120.0 L 10740.0,11099.0 L 10730.0,11079.0 L 10709.0,11079.0 L 10709.0,11069.0 L 10699.0,11058.0 L 10689.0,11058.0 L 10668.0,11038.0 L 10648.0,11038.0 L 10648.0,11028.0 L 10617.0,11028.0 L 10597.0,11007.0 L 10373.0,11007.0 L 10322.0,10997.0 L 10250.0,10997.0 L 10209.0,10987.0 L 10169.0,10967.0 L 10138.0,10967.0 L 10128.0,10956.0 L 10077.0,10956.0 L 10067.0,10936.0 L 10056.0,10936.0 L 10036.0,10926.0 L 9822.0,10926.0 L 9791.0,10916.0 L 9761.0,10916.0 L 9730.0,10895.0 L 9669.0,10895.0 L 9659.0,10885.0 L 9373.0,10885.0 L 9363.0,10865.0 L 9322.0,10865.0 L 9312.0,10854.0 L 9281.0,10854.0 L 9230.0,10844.0 L 9179.0,10844.0 L 9159.0,10824.0 L 9067.0,10824.0 L 9036.0,10814.0 L 8863.0,10814.0 z\" /><path fill-rule=\"evenodd\" fill=\"#ff3333\" stroke=\"#555555\" stroke-width=\"45.820800000000006\" opacity=\"0.6\" d=\"M 8863.0,10814.0 L 8863.0,10824.0 L 8832.0,10824.0 L 8822.0,10844.0 L 8792.0,10844.0 L 8761.0,10854.0 L 8730.0,10875.0 L 8720.0,10875.0 L 8710.0,10885.0 L 8679.0,10905.0 L 8659.0,10905.0 L 8628.0,10916.0 L 8618.0,10926.0 L 8588.0,10926.0 L 8577.0,10946.0 L 8557.0,10946.0 L 8547.0,10956.0 L 8537.0,10956.0 L 8516.0,10967.0 L 8496.0,10967.0 L 8475.0,10987.0 L 8465.0,10987.0 L 8445.0,10997.0 L 8435.0,10997.0 L 8404.0,11018.0 L 8363.0,11028.0 L 8353.0,11028.0 L 8333.0,11038.0 L 8322.0,11038.0 L 8292.0,11058.0 L 8272.0,11058.0 L 8261.0,11069.0 L 8231.0,11069.0 L 8221.0,11089.0 L 8210.0,11099.0 L 8159.0,11099.0 L 8149.0,11109.0 L 8139.0,11109.0 L 8139.0,11130.0 L 8108.0,11130.0 L 8108.0,11140.0 L 8078.0,11140.0 L 8078.0,11160.0 L 8068.0,11160.0 L 8068.0,11171.0 L 8037.0,11171.0 L 8027.0,11181.0 L 8027.0,11201.0 L 8006.0,11201.0 L 8006.0,11211.0 L 8006.0,11222.0 L 8006.0,11242.0 L 7996.0,11242.0 L 7996.0,11252.0 L 7986.0,11252.0 L 7986.0,11262.0 L 7986.0,11283.0 L 7986.0,11293.0 L 7966.0,11293.0 L 7966.0,11313.0 L 7966.0,11324.0 L 7762.0,11936.0 L 7762.0,11956.0 L 7762.0,11987.0 L 7762.0,12017.0 L 7741.0,12027.0 L 7741.0,12058.0 L 7741.0,12078.0 L 7731.0,12109.0 L 7731.0,12119.0 L 7731.0,12160.0 L 7731.0,12190.0 L 7731.0,12221.0 L 7731.0,12252.0 L 7731.0,12282.0 L 7731.0,12333.0 L 7731.0,12384.0 L 7731.0,12415.0 L 7731.0,12425.0 L 7731.0,12456.0 L 7731.0,12466.0 L 7731.0,12496.0 L 7731.0,12517.0 L 7731.0,12547.0 L 7731.0,12578.0 L 7731.0,12588.0 L 7731.0,12619.0 L 7731.0,12629.0 L 7731.0,12649.0 L 7731.0,12660.0 L 7731.0,12670.0 L 7731.0,12700.0 L 7731.0,12721.0 L 7731.0,12731.0 L 7731.0,12762.0 L 7731.0,12772.0 L 7731.0,12792.0 L 7731.0,12843.0 L 7731.0,12864.0 L 7731.0,12894.0 L 7751.0,12904.0 L 7751.0,12955.0 L 7751.0,12966.0 L 7751.0,13006.0 L 7751.0,13037.0 L 7751.0,13047.0 L 7751.0,13078.0 L 7762.0,13088.0 L 7762.0,13108.0 L 7762.0,13119.0 L 7762.0,13139.0 L 7762.0,13180.0 L 7762.0,13190.0 L 7762.0,13210.0 L 7762.0,13221.0 L 7762.0,13231.0 L 7762.0,13261.0 L 7762.0,13394.0 L 7762.0,13435.0 L 7762.0,13465.0 L 7762.0,13476.0 L 7762.0,13506.0 L 7762.0,13527.0 L 7751.0,13557.0 L 7751.0,13588.0 L 7751.0,13598.0 L 7751.0,13608.0 L 7751.0,13629.0 L 7751.0,13639.0 L 7751.0,13669.0 L 7751.0,13680.0 L 7751.0,13710.0 L 7751.0,13731.0 L 7751.0,13761.0 L 7751.0,13771.0 L 7751.0,13802.0 L 7751.0,13812.0 L 7762.0,13863.0 L 7762.0,13894.0 L 7762.0,13904.0 L 7762.0,13935.0 L 7762.0,13965.0 L 7762.0,13975.0 L 7762.0,13996.0 L 7772.0,14047.0 L 7772.0,14067.0 L 7772.0,14098.0 L 7772.0,14108.0 L 7772.0,14139.0 L 7772.0,14169.0 L 7772.0,14200.0 L 7772.0,14230.0 L 7792.0,14353.0 L 7792.0,14383.0 L 7792.0,14475.0 L 7792.0,14485.0 L 7792.0,14506.0 L 7792.0,14516.0 L 7792.0,14526.0 L 7792.0,14557.0 L 7802.0,14587.0 L 7802.0,14598.0 L 7802.0,14618.0 L 7802.0,14628.0 L 7802.0,14649.0 L 7823.0,14669.0 L 7823.0,14700.0 L 7823.0,14720.0 L 7833.0,14751.0 L 7833.0,14771.0 L 7833.0,14791.0 L 7833.0,14802.0 L 7853.0,14812.0 L 7853.0,14832.0 L 7853.0,14853.0 L 7853.0,14873.0 L 7853.0,14883.0 L 7864.0,14904.0 L 7864.0,14924.0 L 7864.0,14944.0 L 7864.0,14975.0 L 7874.0,14985.0 L 7874.0,14995.0 L 7874.0,15016.0 L 7894.0,15026.0 L 7894.0,15046.0 L 7894.0,15057.0 L 7894.0,15067.0 L 7904.0,15087.0 L 7904.0,15097.0 L 7904.0,15108.0 L 7925.0,15128.0 L 7925.0,15138.0 L 7925.0,15169.0 L 7925.0,15179.0 L 7935.0,15199.0 L 7935.0,15210.0 L 7935.0,15220.0 L 7935.0,15240.0 L 7935.0,15250.0 L 7935.0,15271.0 L 7935.0,15291.0 L 7945.0,15312.0 L 7945.0,15322.0 L 7945.0,15342.0 L 7945.0,15352.0 L 7945.0,15363.0 L 7966.0,15383.0 L 7966.0,15393.0 L 7966.0,15424.0 L 7966.0,15434.0 L 7966.0,15465.0 L 7976.0,15536.0 L 7976.0,15556.0 L 7996.0,15567.0 L 7996.0,15577.0 L 7996.0,15597.0 L 8006.0,15628.0 L 8006.0,15638.0 L 8017.0,15669.0 L 8017.0,15679.0 L 8017.0,15709.0 L 8017.0,15720.0 L 8037.0,15750.0 L 8037.0,15771.0 L 8047.0,15801.0 L 8047.0,15832.0 L 8068.0,15842.0 L 8068.0,15873.0 L 8068.0,15893.0 L 8078.0,15903.0 L 8078.0,15913.0 L 8098.0,15944.0 L 8098.0,15964.0 L 8098.0,15995.0 L 8108.0,16005.0 L 8108.0,16015.0 L 8119.0,16077.0 L 8139.0,16097.0 L 8139.0,16128.0 L 8139.0,16148.0 L 8139.0,16158.0 L 8139.0,16168.0 L 8149.0,16189.0 L 8149.0,16219.0 L 8159.0,16230.0 L 8159.0,16260.0 L 8180.0,16270.0 L 8180.0,16291.0 L 8180.0,16301.0 L 8190.0,16311.0 L 8190.0,16332.0 L 8190.0,16342.0 L 8210.0,16342.0 L 8210.0,16372.0 L 8221.0,16383.0 L 8221.0,16393.0 L 8231.0,16413.0 L 8251.0,16413.0 L 8251.0,16423.0 L 8261.0,16444.0 L 8261.0,16454.0 L 8302.0,16495.0 L 8322.0,16515.0 L 8333.0,16525.0 L 8333.0,16535.0 L 8363.0,16556.0 L 8363.0,16566.0 L 8394.0,16566.0 L 8394.0,16576.0 L 8404.0,16597.0 L 8435.0,16607.0 L 8455.0,16627.0 L 8465.0,16627.0 L 8475.0,16637.0 L 8496.0,16648.0 L 8506.0,16648.0 L 8526.0,16668.0 L 8537.0,16668.0 L 8547.0,16678.0 L 8567.0,16699.0 L 8588.0,16699.0 L 8608.0,16709.0 L 8618.0,16719.0 L 8628.0,16719.0 L 8659.0,16739.0 L 8679.0,16750.0 L 8690.0,16750.0 L 8720.0,16770.0 L 8730.0,16780.0 L 8761.0,16790.0 L 8781.0,16790.0 L 8812.0,16811.0 L 8822.0,16811.0 L 8853.0,16821.0 L 8863.0,16841.0 L 8883.0,16852.0 L 8914.0,16872.0 L 8924.0,16872.0 L 8955.0,16882.0 L 8985.0,16903.0 L 9026.0,16913.0 L 9067.0,16943.0 L 9087.0,16943.0 L 9118.0,16964.0 L 9159.0,16974.0 L 9169.0,16994.0 L 9189.0,16994.0 L 9200.0,17005.0 L 9230.0,17005.0 L 9240.0,17015.0 L 9302.0,17045.0 L 9332.0,17045.0 L 9342.0,17056.0 L 9373.0,17056.0 L 9393.0,17076.0 L 9404.0,17086.0 L 9434.0,17086.0 L 9465.0,17107.0 L 9526.0,17117.0 L 9557.0,17117.0 L 9577.0,17137.0 L 9679.0,17137.0 L 9689.0,17147.0 L 9720.0,17147.0 L 9730.0,17168.0 L 9801.0,17168.0 L 9832.0,17178.0 L 10209.0,17178.0 L 10220.0,17158.0 L 10281.0,17158.0 L 10291.0,17147.0 L 10362.0,17147.0 L 10373.0,17127.0 L 10434.0,17127.0 L 10444.0,17117.0 L 10536.0,17117.0 L 10536.0,17107.0 L 10556.0,17107.0 L 10556.0,17086.0 L 10587.0,17086.0 L 10607.0,17076.0 L 10617.0,17076.0 L 10628.0,17066.0 L 10648.0,17066.0 L 10658.0,17045.0 L 10668.0,17035.0 L 10689.0,17025.0 L 10699.0,17005.0 L 10719.0,16994.0 L 10730.0,16994.0 L 10740.0,16974.0 L 10760.0,16974.0 L 10781.0,16954.0 L 10801.0,16954.0 L 10801.0,16933.0 L 10811.0,16923.0 L 10821.0,16913.0 L 10842.0,16892.0 L 10852.0,16892.0 L 10852.0,16882.0 L 10872.0,16882.0 L 10872.0,16872.0 L 10883.0,16872.0 L 10883.0,16852.0 L 10893.0,16841.0 L 10913.0,16811.0 L 10923.0,16780.0 L 10954.0,16770.0 L 10964.0,16760.0 L 10964.0,16739.0 L 10974.0,16729.0 L 11005.0,16699.0 L 11005.0,16688.0 L 11005.0,16668.0 L 11025.0,16658.0 L 11036.0,16648.0 L 11036.0,16627.0 L 11046.0,16617.0 L 11046.0,16607.0 L 11066.0,16576.0 L 11066.0,16556.0 L 11076.0,16546.0 L 11076.0,16525.0 L 11097.0,16515.0 L 11107.0,16485.0 L 11107.0,16474.0 L 11117.0,16454.0 L 11117.0,16423.0 L 11117.0,16413.0 L 11138.0,16383.0 L 11148.0,16321.0 L 11168.0,16311.0 L 11168.0,16301.0 L 11178.0,16270.0 L 11178.0,16250.0 L 11178.0,16219.0 L 11178.0,16209.0 L 11199.0,16199.0 L 11199.0,16168.0 L 11209.0,16148.0 L 11209.0,16138.0 L 11219.0,16128.0 L 11219.0,16097.0 L 11240.0,16077.0 L 11240.0,16066.0 L 11240.0,16036.0 L 11250.0,16005.0 L 11250.0,15954.0 L 11270.0,15934.0 L 11270.0,15893.0 L 11280.0,15852.0 L 11280.0,15822.0 L 11280.0,15791.0 L 11301.0,15760.0 L 11301.0,15679.0 L 11311.0,15628.0 L 11311.0,15607.0 L 11311.0,15567.0 L 11311.0,15465.0 L 11331.0,15434.0 L 11331.0,15414.0 L 11331.0,15403.0 L 11331.0,15373.0 L 11331.0,15363.0 L 11331.0,15332.0 L 11331.0,15312.0 L 11331.0,15291.0 L 11331.0,15271.0 L 11331.0,15240.0 L 11331.0,15210.0 L 11331.0,15199.0 L 11331.0,15189.0 L 11331.0,15169.0 L 11331.0,15159.0 L 11331.0,15138.0 L 11331.0,15128.0 L 11331.0,15118.0 L 11331.0,15087.0 L 11331.0,15067.0 L 11331.0,15046.0 L 11331.0,14995.0 L 11331.0,14975.0 L 11331.0,14955.0 L 11331.0,14914.0 L 11331.0,14904.0 L 11331.0,14883.0 L 11331.0,14853.0 L 11331.0,14842.0 L 11331.0,14812.0 L 11331.0,14781.0 L 11331.0,14771.0 L 11331.0,14740.0 L 11331.0,14710.0 L 11331.0,14679.0 L 11331.0,14659.0 L 11331.0,14628.0 L 11331.0,14598.0 L 11331.0,14567.0 L 11311.0,14536.0 L 11311.0,14506.0 L 11311.0,14475.0 L 11311.0,14455.0 L 11311.0,14424.0 L 11311.0,14394.0 L 11311.0,14383.0 L 11311.0,14353.0 L 11311.0,14322.0 L 11311.0,14292.0 L 11311.0,14281.0 L 11311.0,14251.0 L 11311.0,14220.0 L 11311.0,14190.0 L 11311.0,14108.0 L 11311.0,14077.0 L 11311.0,14047.0 L 11311.0,14016.0 L 11311.0,13965.0 L 11311.0,13935.0 L 11311.0,13904.0 L 11311.0,13873.0 L 11311.0,13843.0 L 11311.0,13802.0 L 11311.0,13771.0 L 11311.0,13741.0 L 11311.0,13710.0 L 11311.0,13680.0 L 11311.0,13649.0 L 11311.0,13618.0 L 11311.0,13588.0 L 11311.0,13557.0 L 11311.0,13506.0 L 11311.0,13486.0 L 11311.0,13465.0 L 11311.0,13435.0 L 11311.0,13404.0 L 11311.0,13394.0 L 11311.0,13363.0 L 11311.0,13333.0 L 11311.0,13323.0 L 11311.0,13292.0 L 11311.0,13272.0 L 11311.0,13241.0 L 11311.0,13210.0 L 11311.0,13200.0 L 11311.0,13170.0 L 11311.0,13159.0 L 11311.0,13129.0 L 11291.0,13088.0 L 11291.0,13078.0 L 11291.0,13047.0 L 11291.0,13017.0 L 11291.0,13006.0 L 11291.0,12986.0 L 11291.0,12966.0 L 11291.0,12925.0 L 11291.0,12915.0 L 11291.0,12884.0 L 11291.0,12874.0 L 11291.0,12853.0 L 11291.0,12833.0 L 11291.0,12813.0 L 11291.0,12782.0 L 11291.0,12772.0 L 11291.0,12741.0 L 11280.0,12731.0 L 11280.0,12711.0 L 11280.0,12680.0 L 11280.0,12670.0 L 11280.0,12639.0 L 11280.0,12609.0 L 11270.0,12598.0 L 11270.0,12568.0 L 11270.0,12547.0 L 11270.0,12527.0 L 11270.0,12507.0 L 11270.0,12496.0 L 11270.0,12476.0 L 11250.0,12445.0 L 11250.0,12415.0 L 11250.0,12394.0 L 11240.0,12343.0 L 11240.0,12333.0 L 11240.0,12303.0 L 11240.0,12292.0 L 11240.0,12272.0 L 11240.0,12241.0 L 11219.0,12211.0 L 11219.0,12180.0 L 11219.0,12150.0 L 11209.0,12139.0 L 11209.0,12109.0 L 11209.0,12099.0 L 11209.0,12078.0 L 11209.0,12068.0 L 11189.0,12058.0 L 11189.0,12037.0 L 11189.0,12027.0 L 11178.0,12017.0 L 11178.0,11987.0 L 11178.0,11966.0 L 11168.0,11956.0 L 11168.0,11946.0 L 11168.0,11925.0 L 11148.0,11915.0 L 11148.0,11905.0 L 11148.0,11885.0 L 11148.0,11874.0 L 11138.0,11874.0 L 11138.0,11854.0 L 11138.0,11844.0 L 11138.0,11834.0 L 11117.0,11813.0 L 11117.0,11803.0 L 11117.0,11793.0 L 11107.0,11772.0 L 11107.0,11762.0 L 11107.0,11742.0 L 11097.0,11711.0 L 11076.0,11701.0 L 11076.0,11691.0 L 11076.0,11670.0 L 11066.0,11660.0 L 11066.0,11650.0 L 11046.0,11619.0 L 11046.0,11599.0 L 11036.0,11599.0 L 11036.0,11589.0 L 11036.0,11579.0 L 11025.0,11558.0 L 11005.0,11548.0 L 10995.0,11517.0 L 10995.0,11507.0 L 10985.0,11487.0 L 10985.0,11477.0 L 10964.0,11466.0 L 10954.0,11446.0 L 10954.0,11436.0 L 10934.0,11426.0 L 10934.0,11405.0 L 10923.0,11405.0 L 10923.0,11375.0 L 10913.0,11375.0 L 10913.0,11364.0 L 10913.0,11354.0 L 10893.0,11334.0 L 10883.0,11303.0 L 10862.0,11293.0 L 10852.0,11262.0 L 10842.0,11252.0 L 10842.0,11232.0 L 10821.0,11222.0 L 10811.0,11211.0 L 10811.0,11191.0 L 10801.0,11181.0 L 10781.0,11171.0 L 10781.0,11140.0 L 10760.0,11120.0 L 10740.0,11099.0 L 10730.0,11079.0 L 10709.0,11079.0 L 10709.0,11069.0 L 10699.0,11058.0 L 10689.0,11058.0 L 10668.0,11038.0 L 10648.0,11038.0 L 10648.0,11028.0 L 10617.0,11028.0 L 10597.0,11007.0 L 10373.0,11007.0 L 10322.0,10997.0 L 10250.0,10997.0 L 10209.0,10987.0 L 10169.0,10967.0 L 10138.0,10967.0 L 10128.0,10956.0 L 10077.0,10956.0 L 10067.0,10936.0 L 10056.0,10936.0 L 10036.0,10926.0 L 9822.0,10926.0 L 9791.0,10916.0 L 9761.0,10916.0 L 9730.0,10895.0 L 9669.0,10895.0 L 9659.0,10885.0 L 9373.0,10885.0 L 9363.0,10865.0 L 9322.0,10865.0 L 9312.0,10854.0 L 9281.0,10854.0 L 9230.0,10844.0 L 9179.0,10844.0 L 9159.0,10824.0 L 9067.0,10824.0 L 9036.0,10814.0 L 8863.0,10814.0 z\" /><path fill-rule=\"evenodd\" fill=\"#ff3333\" stroke=\"#555555\" stroke-width=\"45.820800000000006\" opacity=\"0.6\" d=\"M 8863.0,10814.0 L 8863.0,10824.0 L 8832.0,10824.0 L 8822.0,10844.0 L 8792.0,10844.0 L 8761.0,10854.0 L 8730.0,10875.0 L 8720.0,10875.0 L 8710.0,10885.0 L 8679.0,10905.0 L 8659.0,10905.0 L 8628.0,10916.0 L 8618.0,10926.0 L 8588.0,10926.0 L 8577.0,10946.0 L 8557.0,10946.0 L 8547.0,10956.0 L 8537.0,10956.0 L 8516.0,10967.0 L 8496.0,10967.0 L 8475.0,10987.0 L 8465.0,10987.0 L 8445.0,10997.0 L 8435.0,10997.0 L 8404.0,11018.0 L 8363.0,11028.0 L 8353.0,11028.0 L 8333.0,11038.0 L 8322.0,11038.0 L 8292.0,11058.0 L 8272.0,11058.0 L 8261.0,11069.0 L 8231.0,11069.0 L 8221.0,11089.0 L 8210.0,11099.0 L 8159.0,11099.0 L 8149.0,11109.0 L 8139.0,11109.0 L 8139.0,11130.0 L 8108.0,11130.0 L 8108.0,11140.0 L 8078.0,11140.0 L 8078.0,11160.0 L 8068.0,11160.0 L 8068.0,11171.0 L 8037.0,11171.0 L 8027.0,11181.0 L 8027.0,11201.0 L 8006.0,11201.0 L 8006.0,11211.0 L 8006.0,11222.0 L 8006.0,11242.0 L 7996.0,11242.0 L 7996.0,11252.0 L 7986.0,11252.0 L 7986.0,11262.0 L 7986.0,11283.0 L 7986.0,11293.0 L 7966.0,11293.0 L 7966.0,11313.0 L 7966.0,11324.0 L 7762.0,11936.0 L 7762.0,11956.0 L 7762.0,11987.0 L 7762.0,12017.0 L 7741.0,12027.0 L 7741.0,12058.0 L 7741.0,12078.0 L 7731.0,12109.0 L 7731.0,12119.0 L 7731.0,12160.0 L 7731.0,12190.0 L 7731.0,12221.0 L 7731.0,12252.0 L 7731.0,12282.0 L 7731.0,12333.0 L 7731.0,12384.0 L 7731.0,12415.0 L 7731.0,12425.0 L 7731.0,12456.0 L 7731.0,12466.0 L 7731.0,12496.0 L 7731.0,12517.0 L 7731.0,12547.0 L 7731.0,12578.0 L 7731.0,12588.0 L 7731.0,12619.0 L 7731.0,12629.0 L 7731.0,12649.0 L 7731.0,12660.0 L 7731.0,12670.0 L 7731.0,12700.0 L 7731.0,12721.0 L 7731.0,12731.0 L 7731.0,12762.0 L 7731.0,12772.0 L 7731.0,12792.0 L 7731.0,12843.0 L 7731.0,12864.0 L 7731.0,12894.0 L 7751.0,12904.0 L 7751.0,12955.0 L 7751.0,12966.0 L 7751.0,13006.0 L 7751.0,13037.0 L 7751.0,13047.0 L 7751.0,13078.0 L 7762.0,13088.0 L 7762.0,13108.0 L 7762.0,13119.0 L 7762.0,13139.0 L 7762.0,13180.0 L 7762.0,13190.0 L 7762.0,13210.0 L 7762.0,13221.0 L 7762.0,13231.0 L 7762.0,13261.0 L 7762.0,13394.0 L 7762.0,13435.0 L 7762.0,13465.0 L 7762.0,13476.0 L 7762.0,13506.0 L 7762.0,13527.0 L 7751.0,13557.0 L 7751.0,13588.0 L 7751.0,13598.0 L 7751.0,13608.0 L 7751.0,13629.0 L 7751.0,13639.0 L 7751.0,13669.0 L 7751.0,13680.0 L 7751.0,13710.0 L 7751.0,13731.0 L 7751.0,13761.0 L 7751.0,13771.0 L 7751.0,13802.0 L 7751.0,13812.0 L 7762.0,13863.0 L 7762.0,13894.0 L 7762.0,13904.0 L 7762.0,13935.0 L 7762.0,13965.0 L 7762.0,13975.0 L 7762.0,13996.0 L 7772.0,14047.0 L 7772.0,14067.0 L 7772.0,14098.0 L 7772.0,14108.0 L 7772.0,14139.0 L 7772.0,14169.0 L 7772.0,14200.0 L 7772.0,14230.0 L 7792.0,14353.0 L 7792.0,14383.0 L 7792.0,14475.0 L 7792.0,14485.0 L 7792.0,14506.0 L 7792.0,14516.0 L 7792.0,14526.0 L 7792.0,14557.0 L 7802.0,14587.0 L 7802.0,14598.0 L 7802.0,14618.0 L 7802.0,14628.0 L 7802.0,14649.0 L 7823.0,14669.0 L 7823.0,14700.0 L 7823.0,14720.0 L 7833.0,14751.0 L 7833.0,14771.0 L 7833.0,14791.0 L 7833.0,14802.0 L 7853.0,14812.0 L 7853.0,14832.0 L 7853.0,14853.0 L 7853.0,14873.0 L 7853.0,14883.0 L 7864.0,14904.0 L 7864.0,14924.0 L 7864.0,14944.0 L 7864.0,14975.0 L 7874.0,14985.0 L 7874.0,14995.0 L 7874.0,15016.0 L 7894.0,15026.0 L 7894.0,15046.0 L 7894.0,15057.0 L 7894.0,15067.0 L 7904.0,15087.0 L 7904.0,15097.0 L 7904.0,15108.0 L 7925.0,15128.0 L 7925.0,15138.0 L 7925.0,15169.0 L 7925.0,15179.0 L 7935.0,15199.0 L 7935.0,15210.0 L 7935.0,15220.0 L 7935.0,15240.0 L 7935.0,15250.0 L 7935.0,15271.0 L 7935.0,15291.0 L 7945.0,15312.0 L 7945.0,15322.0 L 7945.0,15342.0 L 7945.0,15352.0 L 7945.0,15363.0 L 7966.0,15383.0 L 7966.0,15393.0 L 7966.0,15424.0 L 7966.0,15434.0 L 7966.0,15465.0 L 7976.0,15536.0 L 7976.0,15556.0 L 7996.0,15567.0 L 7996.0,15577.0 L 7996.0,15597.0 L 8006.0,15628.0 L 8006.0,15638.0 L 8017.0,15669.0 L 8017.0,15679.0 L 8017.0,15709.0 L 8017.0,15720.0 L 8037.0,15750.0 L 8037.0,15771.0 L 8047.0,15801.0 L 8047.0,15832.0 L 8068.0,15842.0 L 8068.0,15873.0 L 8068.0,15893.0 L 8078.0,15903.0 L 8078.0,15913.0 L 8098.0,15944.0 L 8098.0,15964.0 L 8098.0,15995.0 L 8108.0,16005.0 L 8108.0,16015.0 L 8119.0,16077.0 L 8139.0,16097.0 L 8139.0,16128.0 L 8139.0,16148.0 L 8139.0,16158.0 L 8139.0,16168.0 L 8149.0,16189.0 L 8149.0,16219.0 L 8159.0,16230.0 L 8159.0,16260.0 L 8180.0,16270.0 L 8180.0,16291.0 L 8180.0,16301.0 L 8190.0,16311.0 L 8190.0,16332.0 L 8190.0,16342.0 L 8210.0,16342.0 L 8210.0,16372.0 L 8221.0,16383.0 L 8221.0,16393.0 L 8231.0,16413.0 L 8251.0,16413.0 L 8251.0,16423.0 L 8261.0,16444.0 L 8261.0,16454.0 L 8302.0,16495.0 L 8322.0,16515.0 L 8333.0,16525.0 L 8333.0,16535.0 L 8363.0,16556.0 L 8363.0,16566.0 L 8394.0,16566.0 L 8394.0,16576.0 L 8404.0,16597.0 L 8435.0,16607.0 L 8455.0,16627.0 L 8465.0,16627.0 L 8475.0,16637.0 L 8496.0,16648.0 L 8506.0,16648.0 L 8526.0,16668.0 L 8537.0,16668.0 L 8547.0,16678.0 L 8567.0,16699.0 L 8588.0,16699.0 L 8608.0,16709.0 L 8618.0,16719.0 L 8628.0,16719.0 L 8659.0,16739.0 L 8679.0,16750.0 L 8690.0,16750.0 L 8720.0,16770.0 L 8730.0,16780.0 L 8761.0,16790.0 L 8781.0,16790.0 L 8812.0,16811.0 L 8822.0,16811.0 L 8853.0,16821.0 L 8863.0,16841.0 L 8883.0,16852.0 L 8914.0,16872.0 L 8924.0,16872.0 L 8955.0,16882.0 L 8985.0,16903.0 L 9026.0,16913.0 L 9067.0,16943.0 L 9087.0,16943.0 L 9118.0,16964.0 L 9159.0,16974.0 L 9169.0,16994.0 L 9189.0,16994.0 L 9200.0,17005.0 L 9230.0,17005.0 L 9240.0,17015.0 L 9302.0,17045.0 L 9332.0,17045.0 L 9342.0,17056.0 L 9373.0,17056.0 L 9393.0,17076.0 L 9404.0,17086.0 L 9434.0,17086.0 L 9465.0,17107.0 L 9526.0,17117.0 L 9557.0,17117.0 L 9577.0,17137.0 L 9679.0,17137.0 L 9689.0,17147.0 L 9720.0,17147.0 L 9730.0,17168.0 L 9801.0,17168.0 L 9832.0,17178.0 L 10209.0,17178.0 L 10220.0,17158.0 L 10281.0,17158.0 L 10291.0,17147.0 L 10362.0,17147.0 L 10373.0,17127.0 L 10434.0,17127.0 L 10444.0,17117.0 L 10536.0,17117.0 L 10536.0,17107.0 L 10556.0,17107.0 L 10556.0,17086.0 L 10587.0,17086.0 L 10607.0,17076.0 L 10617.0,17076.0 L 10628.0,17066.0 L 10648.0,17066.0 L 10658.0,17045.0 L 10668.0,17035.0 L 10689.0,17025.0 L 10699.0,17005.0 L 10719.0,16994.0 L 10730.0,16994.0 L 10740.0,16974.0 L 10760.0,16974.0 L 10781.0,16954.0 L 10801.0,16954.0 L 10801.0,16933.0 L 10811.0,16923.0 L 10821.0,16913.0 L 10842.0,16892.0 L 10852.0,16892.0 L 10852.0,16882.0 L 10872.0,16882.0 L 10872.0,16872.0 L 10883.0,16872.0 L 10883.0,16852.0 L 10893.0,16841.0 L 10913.0,16811.0 L 10923.0,16780.0 L 10954.0,16770.0 L 10964.0,16760.0 L 10964.0,16739.0 L 10974.0,16729.0 L 11005.0,16699.0 L 11005.0,16688.0 L 11005.0,16668.0 L 11025.0,16658.0 L 11036.0,16648.0 L 11036.0,16627.0 L 11046.0,16617.0 L 11046.0,16607.0 L 11066.0,16576.0 L 11066.0,16556.0 L 11076.0,16546.0 L 11076.0,16525.0 L 11097.0,16515.0 L 11107.0,16485.0 L 11107.0,16474.0 L 11117.0,16454.0 L 11117.0,16423.0 L 11117.0,16413.0 L 11138.0,16383.0 L 11148.0,16321.0 L 11168.0,16311.0 L 11168.0,16301.0 L 11178.0,16270.0 L 11178.0,16250.0 L 11178.0,16219.0 L 11178.0,16209.0 L 11199.0,16199.0 L 11199.0,16168.0 L 11209.0,16148.0 L 11209.0,16138.0 L 11219.0,16128.0 L 11219.0,16097.0 L 11240.0,16077.0 L 11240.0,16066.0 L 11240.0,16036.0 L 11250.0,16005.0 L 11250.0,15954.0 L 11270.0,15934.0 L 11270.0,15893.0 L 11280.0,15852.0 L 11280.0,15822.0 L 11280.0,15791.0 L 11301.0,15760.0 L 11301.0,15679.0 L 11311.0,15628.0 L 11311.0,15607.0 L 11311.0,15567.0 L 11311.0,15465.0 L 11331.0,15434.0 L 11331.0,15414.0 L 11331.0,15403.0 L 11331.0,15373.0 L 11331.0,15363.0 L 11331.0,15332.0 L 11331.0,15312.0 L 11331.0,15291.0 L 11331.0,15271.0 L 11331.0,15240.0 L 11331.0,15210.0 L 11331.0,15199.0 L 11331.0,15189.0 L 11331.0,15169.0 L 11331.0,15159.0 L 11331.0,15138.0 L 11331.0,15128.0 L 11331.0,15118.0 L 11331.0,15087.0 L 11331.0,15067.0 L 11331.0,15046.0 L 11331.0,14995.0 L 11331.0,14975.0 L 11331.0,14955.0 L 11331.0,14914.0 L 11331.0,14904.0 L 11331.0,14883.0 L 11331.0,14853.0 L 11331.0,14842.0 L 11331.0,14812.0 L 11331.0,14781.0 L 11331.0,14771.0 L 11331.0,14740.0 L 11331.0,14710.0 L 11331.0,14679.0 L 11331.0,14659.0 L 11331.0,14628.0 L 11331.0,14598.0 L 11331.0,14567.0 L 11311.0,14536.0 L 11311.0,14506.0 L 11311.0,14475.0 L 11311.0,14455.0 L 11311.0,14424.0 L 11311.0,14394.0 L 11311.0,14383.0 L 11311.0,14353.0 L 11311.0,14322.0 L 11311.0,14292.0 L 11311.0,14281.0 L 11311.0,14251.0 L 11311.0,14220.0 L 11311.0,14190.0 L 11311.0,14108.0 L 11311.0,14077.0 L 11311.0,14047.0 L 11311.0,14016.0 L 11311.0,13965.0 L 11311.0,13935.0 L 11311.0,13904.0 L 11311.0,13873.0 L 11311.0,13843.0 L 11311.0,13802.0 L 11311.0,13771.0 L 11311.0,13741.0 L 11311.0,13710.0 L 11311.0,13680.0 L 11311.0,13649.0 L 11311.0,13618.0 L 11311.0,13588.0 L 11311.0,13557.0 L 11311.0,13506.0 L 11311.0,13486.0 L 11311.0,13465.0 L 11311.0,13435.0 L 11311.0,13404.0 L 11311.0,13394.0 L 11311.0,13363.0 L 11311.0,13333.0 L 11311.0,13323.0 L 11311.0,13292.0 L 11311.0,13272.0 L 11311.0,13241.0 L 11311.0,13210.0 L 11311.0,13200.0 L 11311.0,13170.0 L 11311.0,13159.0 L 11311.0,13129.0 L 11291.0,13088.0 L 11291.0,13078.0 L 11291.0,13047.0 L 11291.0,13017.0 L 11291.0,13006.0 L 11291.0,12986.0 L 11291.0,12966.0 L 11291.0,12925.0 L 11291.0,12915.0 L 11291.0,12884.0 L 11291.0,12874.0 L 11291.0,12853.0 L 11291.0,12833.0 L 11291.0,12813.0 L 11291.0,12782.0 L 11291.0,12772.0 L 11291.0,12741.0 L 11280.0,12731.0 L 11280.0,12711.0 L 11280.0,12680.0 L 11280.0,12670.0 L 11280.0,12639.0 L 11280.0,12609.0 L 11270.0,12598.0 L 11270.0,12568.0 L 11270.0,12547.0 L 11270.0,12527.0 L 11270.0,12507.0 L 11270.0,12496.0 L 11270.0,12476.0 L 11250.0,12445.0 L 11250.0,12415.0 L 11250.0,12394.0 L 11240.0,12343.0 L 11240.0,12333.0 L 11240.0,12303.0 L 11240.0,12292.0 L 11240.0,12272.0 L 11240.0,12241.0 L 11219.0,12211.0 L 11219.0,12180.0 L 11219.0,12150.0 L 11209.0,12139.0 L 11209.0,12109.0 L 11209.0,12099.0 L 11209.0,12078.0 L 11209.0,12068.0 L 11189.0,12058.0 L 11189.0,12037.0 L 11189.0,12027.0 L 11178.0,12017.0 L 11178.0,11987.0 L 11178.0,11966.0 L 11168.0,11956.0 L 11168.0,11946.0 L 11168.0,11925.0 L 11148.0,11915.0 L 11148.0,11905.0 L 11148.0,11885.0 L 11148.0,11874.0 L 11138.0,11874.0 L 11138.0,11854.0 L 11138.0,11844.0 L 11138.0,11834.0 L 11117.0,11813.0 L 11117.0,11803.0 L 11117.0,11793.0 L 11107.0,11772.0 L 11107.0,11762.0 L 11107.0,11742.0 L 11097.0,11711.0 L 11076.0,11701.0 L 11076.0,11691.0 L 11076.0,11670.0 L 11066.0,11660.0 L 11066.0,11650.0 L 11046.0,11619.0 L 11046.0,11599.0 L 11036.0,11599.0 L 11036.0,11589.0 L 11036.0,11579.0 L 11025.0,11558.0 L 11005.0,11548.0 L 10995.0,11517.0 L 10995.0,11507.0 L 10985.0,11487.0 L 10985.0,11477.0 L 10964.0,11466.0 L 10954.0,11446.0 L 10954.0,11436.0 L 10934.0,11426.0 L 10934.0,11405.0 L 10923.0,11405.0 L 10923.0,11375.0 L 10913.0,11375.0 L 10913.0,11364.0 L 10913.0,11354.0 L 10893.0,11334.0 L 10883.0,11303.0 L 10862.0,11293.0 L 10852.0,11262.0 L 10842.0,11252.0 L 10842.0,11232.0 L 10821.0,11222.0 L 10811.0,11211.0 L 10811.0,11191.0 L 10801.0,11181.0 L 10781.0,11171.0 L 10781.0,11140.0 L 10760.0,11120.0 L 10740.0,11099.0 L 10730.0,11079.0 L 10709.0,11079.0 L 10709.0,11069.0 L 10699.0,11058.0 L 10689.0,11058.0 L 10668.0,11038.0 L 10648.0,11038.0 L 10648.0,11028.0 L 10617.0,11028.0 L 10597.0,11007.0 L 10373.0,11007.0 L 10322.0,10997.0 L 10250.0,10997.0 L 10209.0,10987.0 L 10169.0,10967.0 L 10138.0,10967.0 L 10128.0,10956.0 L 10077.0,10956.0 L 10067.0,10936.0 L 10056.0,10936.0 L 10036.0,10926.0 L 9822.0,10926.0 L 9791.0,10916.0 L 9761.0,10916.0 L 9730.0,10895.0 L 9669.0,10895.0 L 9659.0,10885.0 L 9373.0,10885.0 L 9363.0,10865.0 L 9322.0,10865.0 L 9312.0,10854.0 L 9281.0,10854.0 L 9230.0,10844.0 L 9179.0,10844.0 L 9159.0,10824.0 L 9067.0,10824.0 L 9036.0,10814.0 L 8863.0,10814.0 z\" /></g></g></svg>"
      ],
      "text/plain": [
       "<MULTIPOLYGON (((8863 10814, 8863 10824, 8832 10824, 8822 10844, 8792 10844,...>"
      ]
     },
     "execution_count": 37,
     "metadata": {},
     "output_type": "execute_result"
    }
   ],
   "source": [
    "MultiPolygon([p, p, p])"
   ]
  },
  {
   "cell_type": "code",
   "execution_count": 28,
   "metadata": {},
   "outputs": [
    {
     "data": {
      "image/svg+xml": [
       "<svg xmlns=\"http://www.w3.org/2000/svg\" xmlns:xlink=\"http://www.w3.org/1999/xlink\" width=\"100.0\" height=\"100.0\" viewBox=\"6345.4046 11422.9296 2.575800000000527 0.6658000000006723\" preserveAspectRatio=\"xMinYMin meet\"><g transform=\"matrix(1,0,0,-1,0,22846.525)\"><path fill-rule=\"evenodd\" fill=\"#66cc99\" stroke=\"#555555\" stroke-width=\"0.05151600000001053\" opacity=\"0.6\" d=\"M 6347.395,11423.025 L 6345.5,11423.5 L 6347.885,11423.5 L 6347.395,11423.025 z\" /></g></svg>"
      ],
      "text/plain": [
       "<POLYGON ((6347.395 11423.025, 6345.5 11423.5, 6347.885 11423.5, 6347.395 11...>"
      ]
     },
     "execution_count": 28,
     "metadata": {},
     "output_type": "execute_result"
    }
   ],
   "source": [
    "p2_scaled.geoms[1]"
   ]
  },
  {
   "cell_type": "code",
   "execution_count": null,
   "metadata": {},
   "outputs": [],
   "source": []
  },
  {
   "cell_type": "code",
   "execution_count": 112,
   "id": "f9dea07c-27f7-4619-b82d-4da91234a610",
   "metadata": {},
   "outputs": [
    {
     "name": "stdout",
     "output_type": "stream",
     "text": [
      "Positive\n",
      "demo\n",
      "Negative\n",
      "demo\n",
      "Negative\n",
      "demo2\n",
      "Positive\n",
      "demo2\n",
      "Other\n",
      "demo2\n",
      "class\n",
      "label\n",
      "class2\n",
      "label\n"
     ]
    }
   ],
   "source": [
    "xd.store_annotations()"
   ]
  },
  {
   "cell_type": "code",
   "execution_count": 120,
   "id": "4d8df09b-5c87-4765-aaed-ad357e53dc38",
   "metadata": {},
   "outputs": [
    {
     "name": "stderr",
     "output_type": "stream",
     "text": [
      "C:\\Users\\ge37voy\\AppData\\Local\\miniconda3\\envs\\insitupy\\lib\\site-packages\\geopandas\\geoseries.py:628: FutureWarning: Series.__getitem__ treating keys as positions is deprecated. In a future version, integer keys will always be treated as labels (consistent with DataFrame behavior). To access a value by position, use `ser.iloc[pos]`\n",
      "  val = getattr(super(), mtd)(*args, **kwargs)\n"
     ]
    },
    {
     "ename": "TypeError",
     "evalue": "unsupported operand type(s) for *: 'Polygon' and 'int'",
     "output_type": "error",
     "traceback": [
      "\u001b[1;31m---------------------------------------------------------------------------\u001b[0m",
      "\u001b[1;31mTypeError\u001b[0m                                 Traceback (most recent call last)",
      "Cell \u001b[1;32mIn[120], line 1\u001b[0m\n\u001b[1;32m----> 1\u001b[0m \u001b[43mdf1\u001b[49m\u001b[43m[\u001b[49m\u001b[38;5;124;43m\"\u001b[39;49m\u001b[38;5;124;43mgeometry\u001b[39;49m\u001b[38;5;124;43m\"\u001b[39;49m\u001b[43m]\u001b[49m\u001b[43m[\u001b[49m\u001b[38;5;241;43m0\u001b[39;49m\u001b[43m]\u001b[49m\u001b[43m \u001b[49m\u001b[38;5;241;43m*\u001b[39;49m\u001b[43m \u001b[49m\u001b[38;5;241;43m1000\u001b[39;49m\n",
      "\u001b[1;31mTypeError\u001b[0m: unsupported operand type(s) for *: 'Polygon' and 'int'"
     ]
    }
   ],
   "source": [
    "df1[\"geometry\"][0] * 1000"
   ]
  },
  {
   "cell_type": "markdown",
   "id": "3a9cf607-6ccb-4943-9661-47f7884b49bb",
   "metadata": {},
   "source": [
    "# Problem scale factor: When reading the annotations we should directly apply the scale factor. Problem: how to apply the scale factor correctly to the shapely Polygons? Like here? https://stackoverflow.com/questions/72786576/how-to-scale-polygon-using-shapely - with origin (0,0)?"
   ]
  },
  {
   "cell_type": "code",
   "execution_count": null,
   "id": "b95da366-eb8d-45c3-818a-b7a6ad84f03e",
   "metadata": {},
   "outputs": [],
   "source": []
  },
  {
   "cell_type": "markdown",
   "id": "19b8a17a-f3be-46de-a0c2-8fe6399de2fe",
   "metadata": {},
   "source": [
    "xd.annotations.metadata"
   ]
  },
  {
   "cell_type": "code",
   "execution_count": 110,
   "id": "ec3e946b-c94e-4f17-8894-1d54cf93d9d6",
   "metadata": {},
   "outputs": [
    {
     "data": {
      "text/plain": [
       "\u001b[36m\u001b[1mannotations\u001b[0m\n",
       "\u001b[1mdemo:\u001b[0m\t4 annotations, 2 classes ('Positive', 'Negative') \n",
       "\u001b[1mdemo2:\u001b[0m\t5 annotations, 3 classes ('Negative', 'Positive', 'Other') \n",
       "\u001b[1mlabel:\u001b[0m\t4 annotations, 1 classes ('class',) "
      ]
     },
     "execution_count": 110,
     "metadata": {},
     "output_type": "execute_result"
    }
   ],
   "source": [
    "xd.annotations"
   ]
  },
  {
   "cell_type": "code",
   "execution_count": 65,
   "id": "3b882523-37d8-4b1a-ade5-95adbc98b809",
   "metadata": {},
   "outputs": [
    {
     "data": {
      "text/plain": [
       "\u001b[36m\u001b[1mannotations\u001b[0m\n",
       "\u001b[1mdemo:\u001b[0m\t4 annotations, 2 classes ('Positive', 'Negative') \n",
       "\u001b[1mdemo2:\u001b[0m\t5 annotations, 3 classes ('Negative', 'Positive', 'Other') \n",
       "\u001b[1mlabel:\u001b[0m\t5 annotations, 1 classes ('class',) "
      ]
     },
     "execution_count": 65,
     "metadata": {},
     "output_type": "execute_result"
    }
   ],
   "source": [
    "xd.annotations"
   ]
  },
  {
   "cell_type": "code",
   "execution_count": 72,
   "id": "80050e64-03a4-4040-ba53-f7e4b9e4e08c",
   "metadata": {},
   "outputs": [],
   "source": [
    "import pandas as pd\n",
    "from geopandas import GeoDataFrame"
   ]
  },
  {
   "cell_type": "code",
   "execution_count": 37,
   "id": "debb604e-e564-4c99-b443-023e85f7eb7a",
   "metadata": {},
   "outputs": [],
   "source": [
    "df1 = xd.annotations.demo.set_index(\"id\").copy()\n",
    "df2 = xd.annotations.demo2.set_index(\"id\").copy()"
   ]
  },
  {
   "cell_type": "code",
   "execution_count": 67,
   "id": "ff897374-776b-42f2-b29c-6928ee3aaf7d",
   "metadata": {},
   "outputs": [
    {
     "data": {
      "text/plain": [
       "Index(['bd3aacca-1716-4df8-91dd-bf8f6413a7bd',\n",
       "       '69814505-4059-42cd-8df2-752f7eb0810d',\n",
       "       '1957cd32-0a21-4b45-9dae-ecf236217140',\n",
       "       '19d2197a-1b8e-456f-8223-fba74641ac1c'],\n",
       "      dtype='object', name='id')"
      ]
     },
     "execution_count": 67,
     "metadata": {},
     "output_type": "execute_result"
    }
   ],
   "source": [
    "df1.index"
   ]
  },
  {
   "cell_type": "code",
   "execution_count": 78,
   "id": "83a52ae1-3731-47b1-9a2c-8d8656ab850a",
   "metadata": {},
   "outputs": [],
   "source": [
    "d = df1.to_dict()"
   ]
  },
  {
   "cell_type": "code",
   "execution_count": 85,
   "id": "9b8349a1-b055-4835-86b5-60e3ccf89380",
   "metadata": {},
   "outputs": [
    {
     "data": {
      "text/html": [
       "<div>\n",
       "<style scoped>\n",
       "    .dataframe tbody tr th:only-of-type {\n",
       "        vertical-align: middle;\n",
       "    }\n",
       "\n",
       "    .dataframe tbody tr th {\n",
       "        vertical-align: top;\n",
       "    }\n",
       "\n",
       "    .dataframe thead th {\n",
       "        text-align: right;\n",
       "    }\n",
       "</style>\n",
       "<table border=\"1\" class=\"dataframe\">\n",
       "  <thead>\n",
       "    <tr style=\"text-align: right;\">\n",
       "      <th></th>\n",
       "      <th>objectType</th>\n",
       "      <th>geometry</th>\n",
       "      <th>name</th>\n",
       "      <th>color</th>\n",
       "    </tr>\n",
       "    <tr>\n",
       "      <th>id</th>\n",
       "      <th></th>\n",
       "      <th></th>\n",
       "      <th></th>\n",
       "      <th></th>\n",
       "    </tr>\n",
       "  </thead>\n",
       "  <tbody>\n",
       "    <tr>\n",
       "      <th>bd3aacca-1716-4df8-91dd-bf8f6413a7bd</th>\n",
       "      <td>annotation</td>\n",
       "      <td>POLYGON ((8863.00000 10814.00000, 8863.00000 1...</td>\n",
       "      <td>Positive</td>\n",
       "      <td>[250, 62, 62]</td>\n",
       "    </tr>\n",
       "    <tr>\n",
       "      <th>69814505-4059-42cd-8df2-752f7eb0810d</th>\n",
       "      <td>annotation</td>\n",
       "      <td>POLYGON ((13096.00000 12492.00000, 13072.40000...</td>\n",
       "      <td>Positive</td>\n",
       "      <td>[250, 62, 62]</td>\n",
       "    </tr>\n",
       "    <tr>\n",
       "      <th>1957cd32-0a21-4b45-9dae-ecf236217140</th>\n",
       "      <td>annotation</td>\n",
       "      <td>POLYGON ((30975.26000 22938.00000, 30982.00000...</td>\n",
       "      <td>Negative</td>\n",
       "      <td>[112, 112, 225]</td>\n",
       "    </tr>\n",
       "    <tr>\n",
       "      <th>19d2197a-1b8e-456f-8223-fba74641ac1c</th>\n",
       "      <td>annotation</td>\n",
       "      <td>POLYGON ((31165.00000 16408.00000, 31149.00000...</td>\n",
       "      <td>Negative</td>\n",
       "      <td>[112, 112, 225]</td>\n",
       "    </tr>\n",
       "    <tr>\n",
       "      <th>1970eccb-ad38-4b4b-b7a8-54509027b57d</th>\n",
       "      <td>annotation</td>\n",
       "      <td>POLYGON ((25319.00000 3892.00000, 25313.00000 ...</td>\n",
       "      <td>Negative</td>\n",
       "      <td>[112, 112, 225]</td>\n",
       "    </tr>\n",
       "    <tr>\n",
       "      <th>a3b32cce-1bb9-4a6f-b1d1-9e0c44420cfa</th>\n",
       "      <td>annotation</td>\n",
       "      <td>POLYGON ((30950.00000 10855.00000, 30944.00000...</td>\n",
       "      <td>Positive</td>\n",
       "      <td>[250, 62, 62]</td>\n",
       "    </tr>\n",
       "    <tr>\n",
       "      <th>92bfe928-a21f-4864-b7cb-f0d300113d88</th>\n",
       "      <td>annotation</td>\n",
       "      <td>MULTIPOLYGON (((21534.00000 19541.00000, 21534...</td>\n",
       "      <td>Other</td>\n",
       "      <td>[255, 200, 0]</td>\n",
       "    </tr>\n",
       "    <tr>\n",
       "      <th>a6c17a54-6839-40b2-8531-c9227635f344</th>\n",
       "      <td>annotation</td>\n",
       "      <td>POLYGON ((6501.00000 17126.00000, 6495.00000 1...</td>\n",
       "      <td>Other</td>\n",
       "      <td>[255, 200, 0]</td>\n",
       "    </tr>\n",
       "    <tr>\n",
       "      <th>e78efe2f-d185-4ab6-9cc9-6621897f3662</th>\n",
       "      <td>annotation</td>\n",
       "      <td>POLYGON ((29519.63000 18523.00000, 29476.00000...</td>\n",
       "      <td>Negative</td>\n",
       "      <td>[112, 112, 225]</td>\n",
       "    </tr>\n",
       "  </tbody>\n",
       "</table>\n",
       "</div>"
      ],
      "text/plain": [
       "                                      objectType  \\\n",
       "id                                                 \n",
       "bd3aacca-1716-4df8-91dd-bf8f6413a7bd  annotation   \n",
       "69814505-4059-42cd-8df2-752f7eb0810d  annotation   \n",
       "1957cd32-0a21-4b45-9dae-ecf236217140  annotation   \n",
       "19d2197a-1b8e-456f-8223-fba74641ac1c  annotation   \n",
       "1970eccb-ad38-4b4b-b7a8-54509027b57d  annotation   \n",
       "a3b32cce-1bb9-4a6f-b1d1-9e0c44420cfa  annotation   \n",
       "92bfe928-a21f-4864-b7cb-f0d300113d88  annotation   \n",
       "a6c17a54-6839-40b2-8531-c9227635f344  annotation   \n",
       "e78efe2f-d185-4ab6-9cc9-6621897f3662  annotation   \n",
       "\n",
       "                                                                               geometry  \\\n",
       "id                                                                                        \n",
       "bd3aacca-1716-4df8-91dd-bf8f6413a7bd  POLYGON ((8863.00000 10814.00000, 8863.00000 1...   \n",
       "69814505-4059-42cd-8df2-752f7eb0810d  POLYGON ((13096.00000 12492.00000, 13072.40000...   \n",
       "1957cd32-0a21-4b45-9dae-ecf236217140  POLYGON ((30975.26000 22938.00000, 30982.00000...   \n",
       "19d2197a-1b8e-456f-8223-fba74641ac1c  POLYGON ((31165.00000 16408.00000, 31149.00000...   \n",
       "1970eccb-ad38-4b4b-b7a8-54509027b57d  POLYGON ((25319.00000 3892.00000, 25313.00000 ...   \n",
       "a3b32cce-1bb9-4a6f-b1d1-9e0c44420cfa  POLYGON ((30950.00000 10855.00000, 30944.00000...   \n",
       "92bfe928-a21f-4864-b7cb-f0d300113d88  MULTIPOLYGON (((21534.00000 19541.00000, 21534...   \n",
       "a6c17a54-6839-40b2-8531-c9227635f344  POLYGON ((6501.00000 17126.00000, 6495.00000 1...   \n",
       "e78efe2f-d185-4ab6-9cc9-6621897f3662  POLYGON ((29519.63000 18523.00000, 29476.00000...   \n",
       "\n",
       "                                          name            color  \n",
       "id                                                               \n",
       "bd3aacca-1716-4df8-91dd-bf8f6413a7bd  Positive    [250, 62, 62]  \n",
       "69814505-4059-42cd-8df2-752f7eb0810d  Positive    [250, 62, 62]  \n",
       "1957cd32-0a21-4b45-9dae-ecf236217140  Negative  [112, 112, 225]  \n",
       "19d2197a-1b8e-456f-8223-fba74641ac1c  Negative  [112, 112, 225]  \n",
       "1970eccb-ad38-4b4b-b7a8-54509027b57d  Negative  [112, 112, 225]  \n",
       "a3b32cce-1bb9-4a6f-b1d1-9e0c44420cfa  Positive    [250, 62, 62]  \n",
       "92bfe928-a21f-4864-b7cb-f0d300113d88     Other    [255, 200, 0]  \n",
       "a6c17a54-6839-40b2-8531-c9227635f344     Other    [255, 200, 0]  \n",
       "e78efe2f-d185-4ab6-9cc9-6621897f3662  Negative  [112, 112, 225]  "
      ]
     },
     "execution_count": 85,
     "metadata": {},
     "output_type": "execute_result"
    }
   ],
   "source": [
    "pd.concat([df1, df2])"
   ]
  },
  {
   "cell_type": "code",
   "execution_count": 101,
   "id": "4343ed7f-dae6-4d08-9772-7e9f07eda014",
   "metadata": {},
   "outputs": [],
   "source": [
    "ddf = pd.concat([df1, df1])\n",
    "ddff = pd.concat([df1, df2])"
   ]
  },
  {
   "cell_type": "code",
   "execution_count": 95,
   "id": "e149e9c7-1b9b-4ea7-9870-f091136d0a1c",
   "metadata": {},
   "outputs": [
    {
     "data": {
      "text/plain": [
       "array([ True,  True,  True,  True, False, False, False, False])"
      ]
     },
     "execution_count": 95,
     "metadata": {},
     "output_type": "execute_result"
    }
   ],
   "source": [
    "~ddf.index.duplicated()"
   ]
  },
  {
   "cell_type": "code",
   "execution_count": 94,
   "id": "ea064a75-c949-48f1-9ac1-43ac189f06c8",
   "metadata": {},
   "outputs": [
    {
     "data": {
      "text/html": [
       "<div>\n",
       "<style scoped>\n",
       "    .dataframe tbody tr th:only-of-type {\n",
       "        vertical-align: middle;\n",
       "    }\n",
       "\n",
       "    .dataframe tbody tr th {\n",
       "        vertical-align: top;\n",
       "    }\n",
       "\n",
       "    .dataframe thead th {\n",
       "        text-align: right;\n",
       "    }\n",
       "</style>\n",
       "<table border=\"1\" class=\"dataframe\">\n",
       "  <thead>\n",
       "    <tr style=\"text-align: right;\">\n",
       "      <th></th>\n",
       "      <th>objectType</th>\n",
       "      <th>geometry</th>\n",
       "      <th>name</th>\n",
       "      <th>color</th>\n",
       "    </tr>\n",
       "    <tr>\n",
       "      <th>id</th>\n",
       "      <th></th>\n",
       "      <th></th>\n",
       "      <th></th>\n",
       "      <th></th>\n",
       "    </tr>\n",
       "  </thead>\n",
       "  <tbody>\n",
       "    <tr>\n",
       "      <th>bd3aacca-1716-4df8-91dd-bf8f6413a7bd</th>\n",
       "      <td>annotation</td>\n",
       "      <td>POLYGON ((8863.00000 10814.00000, 8863.00000 1...</td>\n",
       "      <td>Positive</td>\n",
       "      <td>[250, 62, 62]</td>\n",
       "    </tr>\n",
       "    <tr>\n",
       "      <th>69814505-4059-42cd-8df2-752f7eb0810d</th>\n",
       "      <td>annotation</td>\n",
       "      <td>POLYGON ((13096.00000 12492.00000, 13072.40000...</td>\n",
       "      <td>Positive</td>\n",
       "      <td>[250, 62, 62]</td>\n",
       "    </tr>\n",
       "    <tr>\n",
       "      <th>1957cd32-0a21-4b45-9dae-ecf236217140</th>\n",
       "      <td>annotation</td>\n",
       "      <td>POLYGON ((30975.26000 22938.00000, 30982.00000...</td>\n",
       "      <td>Negative</td>\n",
       "      <td>[112, 112, 225]</td>\n",
       "    </tr>\n",
       "    <tr>\n",
       "      <th>19d2197a-1b8e-456f-8223-fba74641ac1c</th>\n",
       "      <td>annotation</td>\n",
       "      <td>POLYGON ((31165.00000 16408.00000, 31149.00000...</td>\n",
       "      <td>Negative</td>\n",
       "      <td>[112, 112, 225]</td>\n",
       "    </tr>\n",
       "  </tbody>\n",
       "</table>\n",
       "</div>"
      ],
      "text/plain": [
       "                                      objectType  \\\n",
       "id                                                 \n",
       "bd3aacca-1716-4df8-91dd-bf8f6413a7bd  annotation   \n",
       "69814505-4059-42cd-8df2-752f7eb0810d  annotation   \n",
       "1957cd32-0a21-4b45-9dae-ecf236217140  annotation   \n",
       "19d2197a-1b8e-456f-8223-fba74641ac1c  annotation   \n",
       "\n",
       "                                                                               geometry  \\\n",
       "id                                                                                        \n",
       "bd3aacca-1716-4df8-91dd-bf8f6413a7bd  POLYGON ((8863.00000 10814.00000, 8863.00000 1...   \n",
       "69814505-4059-42cd-8df2-752f7eb0810d  POLYGON ((13096.00000 12492.00000, 13072.40000...   \n",
       "1957cd32-0a21-4b45-9dae-ecf236217140  POLYGON ((30975.26000 22938.00000, 30982.00000...   \n",
       "19d2197a-1b8e-456f-8223-fba74641ac1c  POLYGON ((31165.00000 16408.00000, 31149.00000...   \n",
       "\n",
       "                                          name            color  \n",
       "id                                                               \n",
       "bd3aacca-1716-4df8-91dd-bf8f6413a7bd  Positive    [250, 62, 62]  \n",
       "69814505-4059-42cd-8df2-752f7eb0810d  Positive    [250, 62, 62]  \n",
       "1957cd32-0a21-4b45-9dae-ecf236217140  Negative  [112, 112, 225]  \n",
       "19d2197a-1b8e-456f-8223-fba74641ac1c  Negative  [112, 112, 225]  "
      ]
     },
     "execution_count": 94,
     "metadata": {},
     "output_type": "execute_result"
    }
   ],
   "source": [
    "ddf[~ddf.index.duplicated()]"
   ]
  },
  {
   "cell_type": "code",
   "execution_count": 100,
   "id": "35e374cc-fef2-4dca-b721-b0caca6a35ca",
   "metadata": {},
   "outputs": [
    {
     "data": {
      "text/plain": [
       "{'1957cd32-0a21-4b45-9dae-ecf236217140',\n",
       " '1970eccb-ad38-4b4b-b7a8-54509027b57d',\n",
       " '19d2197a-1b8e-456f-8223-fba74641ac1c',\n",
       " '69814505-4059-42cd-8df2-752f7eb0810d',\n",
       " '92bfe928-a21f-4864-b7cb-f0d300113d88',\n",
       " 'a3b32cce-1bb9-4a6f-b1d1-9e0c44420cfa',\n",
       " 'a6c17a54-6839-40b2-8531-c9227635f344',\n",
       " 'bd3aacca-1716-4df8-91dd-bf8f6413a7bd',\n",
       " 'e78efe2f-d185-4ab6-9cc9-6621897f3662'}"
      ]
     },
     "execution_count": 100,
     "metadata": {},
     "output_type": "execute_result"
    }
   ],
   "source": [
    "set(df1.index).symmetric_difference(set(df2.index))"
   ]
  },
  {
   "cell_type": "code",
   "execution_count": 102,
   "id": "1dc4b911-99f4-4505-b23b-62f6dad09475",
   "metadata": {},
   "outputs": [
    {
     "data": {
      "text/plain": [
       "{'1970eccb-ad38-4b4b-b7a8-54509027b57d',\n",
       " '92bfe928-a21f-4864-b7cb-f0d300113d88',\n",
       " 'a3b32cce-1bb9-4a6f-b1d1-9e0c44420cfa',\n",
       " 'a6c17a54-6839-40b2-8531-c9227635f344',\n",
       " 'e78efe2f-d185-4ab6-9cc9-6621897f3662'}"
      ]
     },
     "execution_count": 102,
     "metadata": {},
     "output_type": "execute_result"
    }
   ],
   "source": [
    "set(df1.index).symmetric_difference(set(ddff.index))"
   ]
  },
  {
   "cell_type": "code",
   "execution_count": 98,
   "id": "2cef3bce-87c4-46c6-b3b7-0344304ad3e6",
   "metadata": {},
   "outputs": [
    {
     "data": {
      "text/html": [
       "<div>\n",
       "<style scoped>\n",
       "    .dataframe tbody tr th:only-of-type {\n",
       "        vertical-align: middle;\n",
       "    }\n",
       "\n",
       "    .dataframe tbody tr th {\n",
       "        vertical-align: top;\n",
       "    }\n",
       "\n",
       "    .dataframe thead th {\n",
       "        text-align: right;\n",
       "    }\n",
       "</style>\n",
       "<table border=\"1\" class=\"dataframe\">\n",
       "  <thead>\n",
       "    <tr style=\"text-align: right;\">\n",
       "      <th></th>\n",
       "      <th>objectType</th>\n",
       "      <th>geometry</th>\n",
       "      <th>name</th>\n",
       "      <th>color</th>\n",
       "    </tr>\n",
       "    <tr>\n",
       "      <th>id</th>\n",
       "      <th></th>\n",
       "      <th></th>\n",
       "      <th></th>\n",
       "      <th></th>\n",
       "    </tr>\n",
       "  </thead>\n",
       "  <tbody>\n",
       "    <tr>\n",
       "      <th>1970eccb-ad38-4b4b-b7a8-54509027b57d</th>\n",
       "      <td>annotation</td>\n",
       "      <td>POLYGON ((25319.00000 3892.00000, 25313.00000 ...</td>\n",
       "      <td>Negative</td>\n",
       "      <td>[112, 112, 225]</td>\n",
       "    </tr>\n",
       "    <tr>\n",
       "      <th>a3b32cce-1bb9-4a6f-b1d1-9e0c44420cfa</th>\n",
       "      <td>annotation</td>\n",
       "      <td>POLYGON ((30950.00000 10855.00000, 30944.00000...</td>\n",
       "      <td>Positive</td>\n",
       "      <td>[250, 62, 62]</td>\n",
       "    </tr>\n",
       "    <tr>\n",
       "      <th>92bfe928-a21f-4864-b7cb-f0d300113d88</th>\n",
       "      <td>annotation</td>\n",
       "      <td>MULTIPOLYGON (((21534.00000 19541.00000, 21534...</td>\n",
       "      <td>Other</td>\n",
       "      <td>[255, 200, 0]</td>\n",
       "    </tr>\n",
       "    <tr>\n",
       "      <th>a6c17a54-6839-40b2-8531-c9227635f344</th>\n",
       "      <td>annotation</td>\n",
       "      <td>POLYGON ((6501.00000 17126.00000, 6495.00000 1...</td>\n",
       "      <td>Other</td>\n",
       "      <td>[255, 200, 0]</td>\n",
       "    </tr>\n",
       "    <tr>\n",
       "      <th>e78efe2f-d185-4ab6-9cc9-6621897f3662</th>\n",
       "      <td>annotation</td>\n",
       "      <td>POLYGON ((29519.63000 18523.00000, 29476.00000...</td>\n",
       "      <td>Negative</td>\n",
       "      <td>[112, 112, 225]</td>\n",
       "    </tr>\n",
       "  </tbody>\n",
       "</table>\n",
       "</div>"
      ],
      "text/plain": [
       "                                      objectType  \\\n",
       "id                                                 \n",
       "1970eccb-ad38-4b4b-b7a8-54509027b57d  annotation   \n",
       "a3b32cce-1bb9-4a6f-b1d1-9e0c44420cfa  annotation   \n",
       "92bfe928-a21f-4864-b7cb-f0d300113d88  annotation   \n",
       "a6c17a54-6839-40b2-8531-c9227635f344  annotation   \n",
       "e78efe2f-d185-4ab6-9cc9-6621897f3662  annotation   \n",
       "\n",
       "                                                                               geometry  \\\n",
       "id                                                                                        \n",
       "1970eccb-ad38-4b4b-b7a8-54509027b57d  POLYGON ((25319.00000 3892.00000, 25313.00000 ...   \n",
       "a3b32cce-1bb9-4a6f-b1d1-9e0c44420cfa  POLYGON ((30950.00000 10855.00000, 30944.00000...   \n",
       "92bfe928-a21f-4864-b7cb-f0d300113d88  MULTIPOLYGON (((21534.00000 19541.00000, 21534...   \n",
       "a6c17a54-6839-40b2-8531-c9227635f344  POLYGON ((6501.00000 17126.00000, 6495.00000 1...   \n",
       "e78efe2f-d185-4ab6-9cc9-6621897f3662  POLYGON ((29519.63000 18523.00000, 29476.00000...   \n",
       "\n",
       "                                          name            color  \n",
       "id                                                               \n",
       "1970eccb-ad38-4b4b-b7a8-54509027b57d  Negative  [112, 112, 225]  \n",
       "a3b32cce-1bb9-4a6f-b1d1-9e0c44420cfa  Positive    [250, 62, 62]  \n",
       "92bfe928-a21f-4864-b7cb-f0d300113d88     Other    [255, 200, 0]  \n",
       "a6c17a54-6839-40b2-8531-c9227635f344     Other    [255, 200, 0]  \n",
       "e78efe2f-d185-4ab6-9cc9-6621897f3662  Negative  [112, 112, 225]  "
      ]
     },
     "execution_count": 98,
     "metadata": {},
     "output_type": "execute_result"
    }
   ],
   "source": [
    "df2"
   ]
  },
  {
   "cell_type": "code",
   "execution_count": 41,
   "id": "8cfb1afa-5aa0-4e96-a0c7-c378235939be",
   "metadata": {},
   "outputs": [
    {
     "data": {
      "text/html": [
       "<div>\n",
       "<style scoped>\n",
       "    .dataframe tbody tr th:only-of-type {\n",
       "        vertical-align: middle;\n",
       "    }\n",
       "\n",
       "    .dataframe tbody tr th {\n",
       "        vertical-align: top;\n",
       "    }\n",
       "\n",
       "    .dataframe thead th {\n",
       "        text-align: right;\n",
       "    }\n",
       "</style>\n",
       "<table border=\"1\" class=\"dataframe\">\n",
       "  <thead>\n",
       "    <tr style=\"text-align: right;\">\n",
       "      <th></th>\n",
       "      <th>objectType</th>\n",
       "      <th>geometry</th>\n",
       "      <th>name</th>\n",
       "      <th>color</th>\n",
       "    </tr>\n",
       "    <tr>\n",
       "      <th>id</th>\n",
       "      <th></th>\n",
       "      <th></th>\n",
       "      <th></th>\n",
       "      <th></th>\n",
       "    </tr>\n",
       "  </thead>\n",
       "  <tbody>\n",
       "    <tr>\n",
       "      <th>bd3aacca-1716-4df8-91dd-bf8f6413a7bd</th>\n",
       "      <td>annotation</td>\n",
       "      <td>POLYGON ((8863.00000 10814.00000, 8863.00000 1...</td>\n",
       "      <td>Positive</td>\n",
       "      <td>[250, 62, 62]</td>\n",
       "    </tr>\n",
       "    <tr>\n",
       "      <th>69814505-4059-42cd-8df2-752f7eb0810d</th>\n",
       "      <td>annotation</td>\n",
       "      <td>POLYGON ((13096.00000 12492.00000, 13072.40000...</td>\n",
       "      <td>Positive</td>\n",
       "      <td>[250, 62, 62]</td>\n",
       "    </tr>\n",
       "    <tr>\n",
       "      <th>1957cd32-0a21-4b45-9dae-ecf236217140</th>\n",
       "      <td>annotation</td>\n",
       "      <td>POLYGON ((30975.26000 22938.00000, 30982.00000...</td>\n",
       "      <td>Negative</td>\n",
       "      <td>[112, 112, 225]</td>\n",
       "    </tr>\n",
       "    <tr>\n",
       "      <th>19d2197a-1b8e-456f-8223-fba74641ac1c</th>\n",
       "      <td>annotation</td>\n",
       "      <td>POLYGON ((31165.00000 16408.00000, 31149.00000...</td>\n",
       "      <td>Negative</td>\n",
       "      <td>[112, 112, 225]</td>\n",
       "    </tr>\n",
       "    <tr>\n",
       "      <th>1970eccb-ad38-4b4b-b7a8-54509027b57d</th>\n",
       "      <td>annotation</td>\n",
       "      <td>POLYGON ((25319.00000 3892.00000, 25313.00000 ...</td>\n",
       "      <td>Negative</td>\n",
       "      <td>[112, 112, 225]</td>\n",
       "    </tr>\n",
       "    <tr>\n",
       "      <th>a3b32cce-1bb9-4a6f-b1d1-9e0c44420cfa</th>\n",
       "      <td>annotation</td>\n",
       "      <td>POLYGON ((30950.00000 10855.00000, 30944.00000...</td>\n",
       "      <td>Positive</td>\n",
       "      <td>[250, 62, 62]</td>\n",
       "    </tr>\n",
       "    <tr>\n",
       "      <th>92bfe928-a21f-4864-b7cb-f0d300113d88</th>\n",
       "      <td>annotation</td>\n",
       "      <td>MULTIPOLYGON (((21534.00000 19541.00000, 21534...</td>\n",
       "      <td>Other</td>\n",
       "      <td>[255, 200, 0]</td>\n",
       "    </tr>\n",
       "    <tr>\n",
       "      <th>a6c17a54-6839-40b2-8531-c9227635f344</th>\n",
       "      <td>annotation</td>\n",
       "      <td>POLYGON ((6501.00000 17126.00000, 6495.00000 1...</td>\n",
       "      <td>Other</td>\n",
       "      <td>[255, 200, 0]</td>\n",
       "    </tr>\n",
       "    <tr>\n",
       "      <th>e78efe2f-d185-4ab6-9cc9-6621897f3662</th>\n",
       "      <td>annotation</td>\n",
       "      <td>POLYGON ((29519.63000 18523.00000, 29476.00000...</td>\n",
       "      <td>Negative</td>\n",
       "      <td>[112, 112, 225]</td>\n",
       "    </tr>\n",
       "  </tbody>\n",
       "</table>\n",
       "</div>"
      ],
      "text/plain": [
       "                                      objectType  \\\n",
       "id                                                 \n",
       "bd3aacca-1716-4df8-91dd-bf8f6413a7bd  annotation   \n",
       "69814505-4059-42cd-8df2-752f7eb0810d  annotation   \n",
       "1957cd32-0a21-4b45-9dae-ecf236217140  annotation   \n",
       "19d2197a-1b8e-456f-8223-fba74641ac1c  annotation   \n",
       "1970eccb-ad38-4b4b-b7a8-54509027b57d  annotation   \n",
       "a3b32cce-1bb9-4a6f-b1d1-9e0c44420cfa  annotation   \n",
       "92bfe928-a21f-4864-b7cb-f0d300113d88  annotation   \n",
       "a6c17a54-6839-40b2-8531-c9227635f344  annotation   \n",
       "e78efe2f-d185-4ab6-9cc9-6621897f3662  annotation   \n",
       "\n",
       "                                                                               geometry  \\\n",
       "id                                                                                        \n",
       "bd3aacca-1716-4df8-91dd-bf8f6413a7bd  POLYGON ((8863.00000 10814.00000, 8863.00000 1...   \n",
       "69814505-4059-42cd-8df2-752f7eb0810d  POLYGON ((13096.00000 12492.00000, 13072.40000...   \n",
       "1957cd32-0a21-4b45-9dae-ecf236217140  POLYGON ((30975.26000 22938.00000, 30982.00000...   \n",
       "19d2197a-1b8e-456f-8223-fba74641ac1c  POLYGON ((31165.00000 16408.00000, 31149.00000...   \n",
       "1970eccb-ad38-4b4b-b7a8-54509027b57d  POLYGON ((25319.00000 3892.00000, 25313.00000 ...   \n",
       "a3b32cce-1bb9-4a6f-b1d1-9e0c44420cfa  POLYGON ((30950.00000 10855.00000, 30944.00000...   \n",
       "92bfe928-a21f-4864-b7cb-f0d300113d88  MULTIPOLYGON (((21534.00000 19541.00000, 21534...   \n",
       "a6c17a54-6839-40b2-8531-c9227635f344  POLYGON ((6501.00000 17126.00000, 6495.00000 1...   \n",
       "e78efe2f-d185-4ab6-9cc9-6621897f3662  POLYGON ((29519.63000 18523.00000, 29476.00000...   \n",
       "\n",
       "                                          name            color  \n",
       "id                                                               \n",
       "bd3aacca-1716-4df8-91dd-bf8f6413a7bd  Positive    [250, 62, 62]  \n",
       "69814505-4059-42cd-8df2-752f7eb0810d  Positive    [250, 62, 62]  \n",
       "1957cd32-0a21-4b45-9dae-ecf236217140  Negative  [112, 112, 225]  \n",
       "19d2197a-1b8e-456f-8223-fba74641ac1c  Negative  [112, 112, 225]  \n",
       "1970eccb-ad38-4b4b-b7a8-54509027b57d  Negative  [112, 112, 225]  \n",
       "a3b32cce-1bb9-4a6f-b1d1-9e0c44420cfa  Positive    [250, 62, 62]  \n",
       "92bfe928-a21f-4864-b7cb-f0d300113d88     Other    [255, 200, 0]  \n",
       "a6c17a54-6839-40b2-8531-c9227635f344     Other    [255, 200, 0]  \n",
       "e78efe2f-d185-4ab6-9cc9-6621897f3662  Negative  [112, 112, 225]  "
      ]
     },
     "execution_count": 41,
     "metadata": {},
     "output_type": "execute_result"
    }
   ],
   "source": [
    "pd.concat([df1, df2])"
   ]
  },
  {
   "cell_type": "code",
   "execution_count": 42,
   "id": "4e5896aa-6089-4717-a1ef-9f807d4ae6c5",
   "metadata": {},
   "outputs": [
    {
     "data": {
      "text/html": [
       "<div>\n",
       "<style scoped>\n",
       "    .dataframe tbody tr th:only-of-type {\n",
       "        vertical-align: middle;\n",
       "    }\n",
       "\n",
       "    .dataframe tbody tr th {\n",
       "        vertical-align: top;\n",
       "    }\n",
       "\n",
       "    .dataframe thead th {\n",
       "        text-align: right;\n",
       "    }\n",
       "</style>\n",
       "<table border=\"1\" class=\"dataframe\">\n",
       "  <thead>\n",
       "    <tr style=\"text-align: right;\">\n",
       "      <th></th>\n",
       "      <th>objectType</th>\n",
       "      <th>geometry</th>\n",
       "      <th>name</th>\n",
       "      <th>color</th>\n",
       "    </tr>\n",
       "    <tr>\n",
       "      <th>id</th>\n",
       "      <th></th>\n",
       "      <th></th>\n",
       "      <th></th>\n",
       "      <th></th>\n",
       "    </tr>\n",
       "  </thead>\n",
       "  <tbody>\n",
       "    <tr>\n",
       "      <th>1970eccb-ad38-4b4b-b7a8-54509027b57d</th>\n",
       "      <td>annotation</td>\n",
       "      <td>POLYGON ((25319.00000 3892.00000, 25313.00000 ...</td>\n",
       "      <td>Negative</td>\n",
       "      <td>[112, 112, 225]</td>\n",
       "    </tr>\n",
       "    <tr>\n",
       "      <th>a3b32cce-1bb9-4a6f-b1d1-9e0c44420cfa</th>\n",
       "      <td>annotation</td>\n",
       "      <td>POLYGON ((30950.00000 10855.00000, 30944.00000...</td>\n",
       "      <td>Positive</td>\n",
       "      <td>[250, 62, 62]</td>\n",
       "    </tr>\n",
       "    <tr>\n",
       "      <th>92bfe928-a21f-4864-b7cb-f0d300113d88</th>\n",
       "      <td>annotation</td>\n",
       "      <td>MULTIPOLYGON (((21534.00000 19541.00000, 21534...</td>\n",
       "      <td>Other</td>\n",
       "      <td>[255, 200, 0]</td>\n",
       "    </tr>\n",
       "    <tr>\n",
       "      <th>a6c17a54-6839-40b2-8531-c9227635f344</th>\n",
       "      <td>annotation</td>\n",
       "      <td>POLYGON ((6501.00000 17126.00000, 6495.00000 1...</td>\n",
       "      <td>Other</td>\n",
       "      <td>[255, 200, 0]</td>\n",
       "    </tr>\n",
       "    <tr>\n",
       "      <th>e78efe2f-d185-4ab6-9cc9-6621897f3662</th>\n",
       "      <td>annotation</td>\n",
       "      <td>POLYGON ((29519.63000 18523.00000, 29476.00000...</td>\n",
       "      <td>Negative</td>\n",
       "      <td>[112, 112, 225]</td>\n",
       "    </tr>\n",
       "  </tbody>\n",
       "</table>\n",
       "</div>"
      ],
      "text/plain": [
       "                                      objectType  \\\n",
       "id                                                 \n",
       "1970eccb-ad38-4b4b-b7a8-54509027b57d  annotation   \n",
       "a3b32cce-1bb9-4a6f-b1d1-9e0c44420cfa  annotation   \n",
       "92bfe928-a21f-4864-b7cb-f0d300113d88  annotation   \n",
       "a6c17a54-6839-40b2-8531-c9227635f344  annotation   \n",
       "e78efe2f-d185-4ab6-9cc9-6621897f3662  annotation   \n",
       "\n",
       "                                                                               geometry  \\\n",
       "id                                                                                        \n",
       "1970eccb-ad38-4b4b-b7a8-54509027b57d  POLYGON ((25319.00000 3892.00000, 25313.00000 ...   \n",
       "a3b32cce-1bb9-4a6f-b1d1-9e0c44420cfa  POLYGON ((30950.00000 10855.00000, 30944.00000...   \n",
       "92bfe928-a21f-4864-b7cb-f0d300113d88  MULTIPOLYGON (((21534.00000 19541.00000, 21534...   \n",
       "a6c17a54-6839-40b2-8531-c9227635f344  POLYGON ((6501.00000 17126.00000, 6495.00000 1...   \n",
       "e78efe2f-d185-4ab6-9cc9-6621897f3662  POLYGON ((29519.63000 18523.00000, 29476.00000...   \n",
       "\n",
       "                                          name            color  \n",
       "id                                                               \n",
       "1970eccb-ad38-4b4b-b7a8-54509027b57d  Negative  [112, 112, 225]  \n",
       "a3b32cce-1bb9-4a6f-b1d1-9e0c44420cfa  Positive    [250, 62, 62]  \n",
       "92bfe928-a21f-4864-b7cb-f0d300113d88     Other    [255, 200, 0]  \n",
       "a6c17a54-6839-40b2-8531-c9227635f344     Other    [255, 200, 0]  \n",
       "e78efe2f-d185-4ab6-9cc9-6621897f3662  Negative  [112, 112, 225]  "
      ]
     },
     "execution_count": 42,
     "metadata": {},
     "output_type": "execute_result"
    }
   ],
   "source": [
    "df2"
   ]
  },
  {
   "cell_type": "code",
   "execution_count": null,
   "id": "056c7068-ee39-4256-8f70-7664673c600f",
   "metadata": {},
   "outputs": [],
   "source": []
  },
  {
   "cell_type": "code",
   "execution_count": null,
   "id": "d74f0c43-28cd-4db9-a768-38dba3d4a12c",
   "metadata": {},
   "outputs": [],
   "source": []
  },
  {
   "cell_type": "code",
   "execution_count": 19,
   "id": "ec5dc622-8d36-4d11-98e6-c26bb29d8756",
   "metadata": {},
   "outputs": [
    {
     "data": {
      "text/plain": [
       "<napari.utils.events.event.EventEmitter at 0x1d6bf0ef070>"
      ]
     },
     "execution_count": 19,
     "metadata": {},
     "output_type": "execute_result"
    }
   ],
   "source": [
    "xd.viewer.layers['*class (label)'].events.data"
   ]
  },
  {
   "cell_type": "code",
   "execution_count": 87,
   "id": "a9460c44-351f-4773-90ea-66e5c59a621c",
   "metadata": {},
   "outputs": [
    {
     "data": {
      "text/plain": [
       "{}"
      ]
     },
     "execution_count": 87,
     "metadata": {},
     "output_type": "execute_result"
    }
   ],
   "source": [
    "xd.viewer.layers['Shapes'].property_choices"
   ]
  },
  {
   "cell_type": "code",
   "execution_count": 88,
   "id": "21f6a354-d167-4eef-b498-88c8ad6f1521",
   "metadata": {},
   "outputs": [
    {
     "data": {
      "text/plain": [
       "['__abstractmethods__',\n",
       " '__annotations__',\n",
       " '__class__',\n",
       " '__delattr__',\n",
       " '__dict__',\n",
       " '__dir__',\n",
       " '__doc__',\n",
       " '__eq__',\n",
       " '__format__',\n",
       " '__ge__',\n",
       " '__getattribute__',\n",
       " '__gt__',\n",
       " '__hash__',\n",
       " '__init__',\n",
       " '__init_subclass__',\n",
       " '__le__',\n",
       " '__lt__',\n",
       " '__module__',\n",
       " '__ne__',\n",
       " '__new__',\n",
       " '__reduce__',\n",
       " '__reduce_ex__',\n",
       " '__repr__',\n",
       " '__setattr__',\n",
       " '__sizeof__',\n",
       " '__slots__',\n",
       " '__str__',\n",
       " '__subclasshook__',\n",
       " '__weakref__',\n",
       " '_abc_impl',\n",
       " '_add_shapes',\n",
       " '_add_shapes_to_view',\n",
       " '_allow_thumbnail_update',\n",
       " '_array_like',\n",
       " '_aspect_ratio',\n",
       " '_basename',\n",
       " '_blending',\n",
       " '_clear_extent',\n",
       " '_clipboard',\n",
       " '_colors',\n",
       " '_compute_vertices_and_box',\n",
       " '_copy_data',\n",
       " '_current_edge_color',\n",
       " '_current_edge_width',\n",
       " '_current_face_color',\n",
       " '_cursor',\n",
       " '_cursor_modes',\n",
       " '_cursor_size',\n",
       " '_data_to_world',\n",
       " '_data_view',\n",
       " '_display_bounding_box',\n",
       " '_display_order_stored',\n",
       " '_double_click_modes',\n",
       " '_drag_box',\n",
       " '_drag_box_stored',\n",
       " '_drag_modes',\n",
       " '_drag_start',\n",
       " '_edge_color_cycle',\n",
       " '_edge_color_cycle_values',\n",
       " '_edge_color_mode',\n",
       " '_edge_color_property',\n",
       " '_edge_colormap',\n",
       " '_edge_contrast_limits',\n",
       " '_editable',\n",
       " '_experimental_clipping_planes',\n",
       " '_extent_data',\n",
       " '_extent_world',\n",
       " '_face_color_cycle',\n",
       " '_face_color_cycle_values',\n",
       " '_face_color_mode',\n",
       " '_face_color_property',\n",
       " '_face_colormap',\n",
       " '_face_contrast_limits',\n",
       " '_feature_table',\n",
       " '_finish_drawing',\n",
       " '_fixed_aspect',\n",
       " '_fixed_index',\n",
       " '_fixed_vertex',\n",
       " '_freeze',\n",
       " '_get_base_state',\n",
       " '_get_index_and_intersection',\n",
       " '_get_ndim',\n",
       " '_get_new_shape_color',\n",
       " '_get_offset_data_position',\n",
       " '_get_ray_intersections',\n",
       " '_get_source_info',\n",
       " '_get_state',\n",
       " '_get_tooltip_text',\n",
       " '_get_value',\n",
       " '_get_value_3d',\n",
       " '_help',\n",
       " '_highlight_color',\n",
       " '_highlight_width',\n",
       " '_indices_view',\n",
       " '_init_shapes',\n",
       " '_initialize_color',\n",
       " '_initialize_current_color_for_empty_layer',\n",
       " '_interactive_modes',\n",
       " '_is_color_mapped',\n",
       " '_is_creating',\n",
       " '_is_moving',\n",
       " '_is_selecting',\n",
       " '_last_cursor_position',\n",
       " '_map_color',\n",
       " '_max_shapes_thumbnail',\n",
       " '_metadata',\n",
       " '_mode',\n",
       " '_mode_setter_helper',\n",
       " '_modeclass',\n",
       " '_mouse_drag_gen',\n",
       " '_mouse_pan',\n",
       " '_mouse_wheel_gen',\n",
       " '_mouse_zoom',\n",
       " '_move_modes',\n",
       " '_moving_coordinates',\n",
       " '_moving_value',\n",
       " '_name',\n",
       " '_ndim',\n",
       " '_ndisplay_stored',\n",
       " '_on_editable_changed',\n",
       " '_on_selection',\n",
       " '_opacity',\n",
       " '_outline_shapes',\n",
       " '_overlays',\n",
       " '_paste_data',\n",
       " '_persisted_mouse_event',\n",
       " '_private_is_moving',\n",
       " '_refresh_color',\n",
       " '_reset_editable',\n",
       " '_rotate_box',\n",
       " '_rotation_handle_length',\n",
       " '_scale_box',\n",
       " '_selected_box',\n",
       " '_selected_data',\n",
       " '_selected_data_history',\n",
       " '_selected_data_stored',\n",
       " '_set_color',\n",
       " '_set_color_cycle',\n",
       " '_set_color_mode',\n",
       " '_set_highlight',\n",
       " '_set_view_slice',\n",
       " '_slice_dims',\n",
       " '_slice_indices',\n",
       " '_slice_input',\n",
       " '_source',\n",
       " '_status',\n",
       " '_text',\n",
       " '_thumbnail',\n",
       " '_thumbnail_shape',\n",
       " '_transform_box',\n",
       " '_transforms',\n",
       " '_translate_grid',\n",
       " '_type_string',\n",
       " '_update_dims',\n",
       " '_update_draw',\n",
       " '_update_properties',\n",
       " '_update_thumbnail',\n",
       " '_value',\n",
       " '_value_stored',\n",
       " '_vertex_size',\n",
       " '_view_text',\n",
       " '_view_text_color',\n",
       " '_view_text_coords',\n",
       " '_visible',\n",
       " '_world_to_data_ray',\n",
       " '_world_to_displayed_data',\n",
       " '_world_to_displayed_data_ray',\n",
       " '_world_to_layer_dims',\n",
       " 'add',\n",
       " 'add_ellipses',\n",
       " 'add_lines',\n",
       " 'add_paths',\n",
       " 'add_polygons',\n",
       " 'add_rectangles',\n",
       " 'affine',\n",
       " 'as_layer_data_tuple',\n",
       " 'bind_key',\n",
       " 'blending',\n",
       " 'block_thumbnail_update',\n",
       " 'block_update_properties',\n",
       " 'bounding_box',\n",
       " 'class_keymap',\n",
       " 'click_plane_from_click_data',\n",
       " 'corner_pixels',\n",
       " 'create',\n",
       " 'current_edge_color',\n",
       " 'current_edge_width',\n",
       " 'current_face_color',\n",
       " 'current_properties',\n",
       " 'cursor',\n",
       " 'cursor_size',\n",
       " 'dask_optimized_slicing',\n",
       " 'data',\n",
       " 'data_to_world',\n",
       " 'edge_color',\n",
       " 'edge_color_cycle',\n",
       " 'edge_color_cycle_map',\n",
       " 'edge_color_mode',\n",
       " 'edge_colormap',\n",
       " 'edge_contrast_limits',\n",
       " 'edge_width',\n",
       " 'editable',\n",
       " 'events',\n",
       " 'experimental_clipping_planes',\n",
       " 'extent',\n",
       " 'face_color',\n",
       " 'face_color_cycle',\n",
       " 'face_color_cycle_map',\n",
       " 'face_color_mode',\n",
       " 'face_colormap',\n",
       " 'face_contrast_limits',\n",
       " 'feature_defaults',\n",
       " 'features',\n",
       " 'get_index_and_intersection',\n",
       " 'get_ray_intersections',\n",
       " 'get_source_str',\n",
       " 'get_status',\n",
       " 'get_value',\n",
       " 'help',\n",
       " 'interaction_box',\n",
       " 'interactive',\n",
       " 'keymap',\n",
       " 'loaded',\n",
       " 'metadata',\n",
       " 'mode',\n",
       " 'mouse_double_click_callbacks',\n",
       " 'mouse_drag_callbacks',\n",
       " 'mouse_move_callbacks',\n",
       " 'mouse_pan',\n",
       " 'mouse_wheel_callbacks',\n",
       " 'mouse_zoom',\n",
       " 'move_to_back',\n",
       " 'move_to_front',\n",
       " 'multiscale',\n",
       " 'name',\n",
       " 'ndim',\n",
       " 'nshapes',\n",
       " 'opacity',\n",
       " 'projected_distance_from_mouse_drag',\n",
       " 'properties',\n",
       " 'property_choices',\n",
       " 'refresh',\n",
       " 'refresh_colors',\n",
       " 'refresh_text',\n",
       " 'remove_selected',\n",
       " 'rotate',\n",
       " 'save',\n",
       " 'scale',\n",
       " 'scale_factor',\n",
       " 'selected_data',\n",
       " 'set_view_slice',\n",
       " 'shape_type',\n",
       " 'shear',\n",
       " 'source',\n",
       " 'text',\n",
       " 'thumbnail',\n",
       " 'to_labels',\n",
       " 'to_masks',\n",
       " 'translate',\n",
       " 'translate_grid',\n",
       " 'visible',\n",
       " 'world_to_data',\n",
       " 'z_index']"
      ]
     },
     "execution_count": 88,
     "metadata": {},
     "output_type": "execute_result"
    }
   ],
   "source": [
    "dir(xd.viewer.layers['Shapes'])"
   ]
  },
  {
   "cell_type": "code",
   "execution_count": 54,
   "id": "f9ea63da-d1b7-441b-8e2b-2d1883c909be",
   "metadata": {},
   "outputs": [],
   "source": [
    "xd.viewer.layers[\"*sfddsf (asdfsfs)\"].properties['uid'] = \"test\""
   ]
  },
  {
   "cell_type": "code",
   "execution_count": null,
   "id": "f166427b-b546-43cc-b5e6-fdacaeae2628",
   "metadata": {},
   "outputs": [],
   "source": []
  },
  {
   "cell_type": "code",
   "execution_count": 57,
   "id": "ad7b486f-280e-49d1-a5ad-531391d1b2e4",
   "metadata": {},
   "outputs": [],
   "source": [
    "l = xd.viewer.layers[\"*sfddsf (asdfsfs)\"]"
   ]
  },
  {
   "cell_type": "code",
   "execution_count": 73,
   "id": "b2a0bfae-e577-4c5c-b22b-088254829aed",
   "metadata": {},
   "outputs": [
    {
     "data": {
      "text/plain": [
       "{}"
      ]
     },
     "execution_count": 73,
     "metadata": {},
     "output_type": "execute_result"
    }
   ],
   "source": [
    "l.properties"
   ]
  },
  {
   "cell_type": "code",
   "execution_count": 60,
   "id": "90a8b407-1a92-488e-8832-62b3bb03d1ef",
   "metadata": {},
   "outputs": [
    {
     "data": {
      "text/plain": [
       "{}"
      ]
     },
     "execution_count": 60,
     "metadata": {},
     "output_type": "execute_result"
    }
   ],
   "source": [
    "xd.viewer.layers[\"*sfddsf (asdfsfs)\"].current_properties"
   ]
  },
  {
   "cell_type": "code",
   "execution_count": 59,
   "id": "4ed11aae-94ae-4796-aff8-9787230eed25",
   "metadata": {},
   "outputs": [
    {
     "data": {
      "text/plain": [
       "['_edge_color_property',\n",
       " '_face_color_property',\n",
       " '_update_properties',\n",
       " 'block_update_properties',\n",
       " 'current_properties',\n",
       " 'properties',\n",
       " 'property_choices']"
      ]
     },
     "execution_count": 59,
     "metadata": {},
     "output_type": "execute_result"
    }
   ],
   "source": [
    "[elem for elem in dir(l) if \"prop\" in elem]"
   ]
  },
  {
   "cell_type": "code",
   "execution_count": 75,
   "id": "6aa10127-45ef-477e-9e5f-fe019f91b477",
   "metadata": {},
   "outputs": [
    {
     "data": {
      "text/plain": [
       "array(['a6c17a54-6839-40b2-8531-c9227635f344'], dtype=object)"
      ]
     },
     "execution_count": 75,
     "metadata": {},
     "output_type": "execute_result"
    }
   ],
   "source": [
    "xd.viewer.layers[\"Other (demo2)\"].current_properties['uid']"
   ]
  },
  {
   "cell_type": "code",
   "execution_count": 77,
   "id": "7ca9854a-68ca-425e-911c-251321a7ff02",
   "metadata": {},
   "outputs": [],
   "source": [
    "from uuid import uuid4"
   ]
  },
  {
   "cell_type": "code",
   "execution_count": 80,
   "id": "e2f3b6ef-0465-4ffc-aed0-b36141efbdf9",
   "metadata": {},
   "outputs": [
    {
     "data": {
      "text/plain": [
       "array(['0836db83-cb90-4c43-b7a5-e9742fe10106'], dtype=object)"
      ]
     },
     "execution_count": 80,
     "metadata": {},
     "output_type": "execute_result"
    }
   ],
   "source": [
    "np.array([str(uuid4())], dtype='object')"
   ]
  },
  {
   "cell_type": "code",
   "execution_count": 66,
   "id": "6e6ce73c-768b-425d-9ae1-0316fe83a0b4",
   "metadata": {},
   "outputs": [
    {
     "data": {
      "text/plain": [
       "{}"
      ]
     },
     "execution_count": 66,
     "metadata": {},
     "output_type": "execute_result"
    }
   ],
   "source": [
    "xd.viewer.layers[\"Other (demo2)\"].property_choices"
   ]
  },
  {
   "cell_type": "code",
   "execution_count": 68,
   "id": "941ef96e-85d4-4535-ac91-4ae587f32117",
   "metadata": {},
   "outputs": [
    {
     "data": {
      "text/plain": [
       "True"
      ]
     },
     "execution_count": 68,
     "metadata": {},
     "output_type": "execute_result"
    }
   ],
   "source": [
    "l._update_properties"
   ]
  },
  {
   "cell_type": "code",
   "execution_count": 62,
   "id": "91385874-ec5e-42f7-8bec-546e58192eec",
   "metadata": {},
   "outputs": [
    {
     "data": {
      "text/plain": [
       "{'uid': array(['92bfe928-a21f-4864-b7cb-f0d300113d88',\n",
       "        '92bfe928-a21f-4864-b7cb-f0d300113d88',\n",
       "        '92bfe928-a21f-4864-b7cb-f0d300113d88',\n",
       "        '92bfe928-a21f-4864-b7cb-f0d300113d88',\n",
       "        'a6c17a54-6839-40b2-8531-c9227635f344',\n",
       "        '13f2259f-de00-40ed-b1cc-66b3a4e80806',\n",
       "        '16ad4534-e4ec-4b3a-aca8-9f05d4acf264'], dtype=object)}"
      ]
     },
     "execution_count": 62,
     "metadata": {},
     "output_type": "execute_result"
    }
   ],
   "source": [
    "xd.viewer.layers[\"Other (demo2)\"].properties"
   ]
  },
  {
   "cell_type": "code",
   "execution_count": 19,
   "id": "97c775e5-1d20-44bb-a5d5-6d6dbf8841c9",
   "metadata": {},
   "outputs": [
    {
     "data": {
      "text/plain": [
       "<bound method EmitterGroup.add of <napari.utils.events.event.EmitterGroup object at 0x0000018E108F6520>>"
      ]
     },
     "execution_count": 19,
     "metadata": {},
     "output_type": "execute_result"
    }
   ],
   "source": [
    "xd.viewer.layers[\"*class (label)\"].events.add"
   ]
  },
  {
   "cell_type": "code",
   "execution_count": 20,
   "id": "6ffed26e-626c-41b5-925c-9458c72c80f2",
   "metadata": {},
   "outputs": [
    {
     "data": {
      "text/plain": [
       "<napari.utils.events.event.EventEmitter at 0x18e108f6d30>"
      ]
     },
     "execution_count": 20,
     "metadata": {},
     "output_type": "execute_result"
    }
   ],
   "source": [
    "xd.viewer.layers[\"*class (label)\"].events.data"
   ]
  },
  {
   "cell_type": "code",
   "execution_count": null,
   "id": "e4a1972f-8ee6-4ee8-b976-5ed6146f2bed",
   "metadata": {},
   "outputs": [],
   "source": []
  },
  {
   "cell_type": "code",
   "execution_count": 18,
   "id": "902af94b",
   "metadata": {},
   "outputs": [
    {
     "data": {
      "text/plain": [
       "['add',\n",
       " 'affine',\n",
       " 'auto_connect',\n",
       " 'auto_connect_format',\n",
       " 'blending',\n",
       " 'block',\n",
       " 'block_all',\n",
       " 'blocked',\n",
       " 'blocker',\n",
       " 'blocker_all',\n",
       " 'callback_refs',\n",
       " 'callbacks',\n",
       " 'connect',\n",
       " 'current_edge_color',\n",
       " 'current_face_color',\n",
       " 'current_properties',\n",
       " 'cursor',\n",
       " 'cursor_size',\n",
       " 'data',\n",
       " 'default_args',\n",
       " 'deselect',\n",
       " 'disconnect',\n",
       " 'edge_color',\n",
       " 'edge_width',\n",
       " 'editable',\n",
       " 'emitters',\n",
       " 'event_class',\n",
       " 'extent',\n",
       " 'face_color',\n",
       " 'feature_defaults',\n",
       " 'features',\n",
       " 'help',\n",
       " 'highlight',\n",
       " 'ignore_callback_errors',\n",
       " 'interactive',\n",
       " 'loaded',\n",
       " 'mode',\n",
       " 'mouse_pan',\n",
       " 'mouse_zoom',\n",
       " 'name',\n",
       " 'opacity',\n",
       " 'print_callback_errors',\n",
       " 'properties',\n",
       " 'refresh',\n",
       " 'rotate',\n",
       " 'scale',\n",
       " 'select',\n",
       " 'set_data',\n",
       " 'shear',\n",
       " 'source',\n",
       " 'status',\n",
       " 'thumbnail',\n",
       " 'translate',\n",
       " 'unblock',\n",
       " 'unblock_all',\n",
       " 'visible']"
      ]
     },
     "execution_count": 18,
     "metadata": {},
     "output_type": "execute_result"
    }
   ],
   "source": [
    "[elem for elem in dir(xd.viewer.layers[\"*class (label)\"].events) if not elem.startswith(\"_\")]"
   ]
  },
  {
   "cell_type": "code",
   "execution_count": 14,
   "id": "43249a72",
   "metadata": {},
   "outputs": [
    {
     "data": {
      "text/plain": [
       "{'demo': {'n_annotations': 4,\n",
       "  'classes': array(['Positive', 'Negative'], dtype=object),\n",
       "  'analyzed': ''},\n",
       " 'demo2': {'n_annotations': 5,\n",
       "  'classes': array(['Negative', 'Positive', 'Other'], dtype=object),\n",
       "  'analyzed': ''}}"
      ]
     },
     "execution_count": 14,
     "metadata": {},
     "output_type": "execute_result"
    }
   ],
   "source": [
    "xd.annotations.metadata"
   ]
  },
  {
   "cell_type": "code",
   "execution_count": 15,
   "id": "8c2ef6f5",
   "metadata": {},
   "outputs": [
    {
     "name": "stdout",
     "output_type": "stream",
     "text": [
      "class\n",
      "label\n"
     ]
    }
   ],
   "source": [
    "xd.store_annotations()"
   ]
  },
  {
   "cell_type": "code",
   "execution_count": 16,
   "id": "9e7e80ed",
   "metadata": {},
   "outputs": [
    {
     "data": {
      "text/plain": [
       "{'demo': {'n_annotations': 4,\n",
       "  'classes': array(['Positive', 'Negative'], dtype=object),\n",
       "  'analyzed': ''},\n",
       " 'demo2': {'n_annotations': 5,\n",
       "  'classes': array(['Negative', 'Positive', 'Other'], dtype=object),\n",
       "  'analyzed': ''},\n",
       " 'label': {'n_annotations': 2,\n",
       "  'classes': array(['class'], dtype=object),\n",
       "  'analyzed': ''}}"
      ]
     },
     "execution_count": 16,
     "metadata": {},
     "output_type": "execute_result"
    }
   ],
   "source": [
    "xd.annotations.metadata"
   ]
  },
  {
   "cell_type": "code",
   "execution_count": 17,
   "id": "1d84f0cf",
   "metadata": {},
   "outputs": [],
   "source": [
    "from geopandas import GeoDataFrame"
   ]
  },
  {
   "cell_type": "code",
   "execution_count": 18,
   "id": "8a3b10a5",
   "metadata": {},
   "outputs": [],
   "source": [
    "v = xd.viewer"
   ]
  },
  {
   "cell_type": "code",
   "execution_count": 19,
   "id": "3c34a1fd",
   "metadata": {},
   "outputs": [],
   "source": [
    "l = xd.viewer.layers[\"*class (label)\"]\n",
    "lold = xd.viewer.layers[\"Other (demo2)\"]\n",
    "ll = xd.viewer.layers"
   ]
  },
  {
   "cell_type": "code",
   "execution_count": 20,
   "id": "c6443ca8",
   "metadata": {},
   "outputs": [
    {
     "data": {
      "text/plain": [
       "{}"
      ]
     },
     "execution_count": 20,
     "metadata": {},
     "output_type": "execute_result"
    }
   ],
   "source": [
    "l.properties"
   ]
  },
  {
   "cell_type": "code",
   "execution_count": 21,
   "id": "2c71199b",
   "metadata": {},
   "outputs": [
    {
     "data": {
      "text/plain": [
       "{'uid': array(['92bfe928-a21f-4864-b7cb-f0d300113d88',\n",
       "        '92bfe928-a21f-4864-b7cb-f0d300113d88',\n",
       "        '92bfe928-a21f-4864-b7cb-f0d300113d88',\n",
       "        '92bfe928-a21f-4864-b7cb-f0d300113d88',\n",
       "        'a6c17a54-6839-40b2-8531-c9227635f344'], dtype=object)}"
      ]
     },
     "execution_count": 21,
     "metadata": {},
     "output_type": "execute_result"
    }
   ],
   "source": [
    "lold.properties"
   ]
  },
  {
   "cell_type": "code",
   "execution_count": 24,
   "id": "389b1ac3",
   "metadata": {},
   "outputs": [
    {
     "data": {
      "text/plain": [
       "{'uid': array(['92bfe928-a21f-4864-b7cb-f0d300113d88',\n",
       "        '92bfe928-a21f-4864-b7cb-f0d300113d88',\n",
       "        '92bfe928-a21f-4864-b7cb-f0d300113d88',\n",
       "        '92bfe928-a21f-4864-b7cb-f0d300113d88',\n",
       "        'a6c17a54-6839-40b2-8531-c9227635f344'], dtype=object)}"
      ]
     },
     "execution_count": 24,
     "metadata": {},
     "output_type": "execute_result"
    }
   ],
   "source": [
    "lold.properties"
   ]
  },
  {
   "cell_type": "code",
   "execution_count": 59,
   "id": "0a83d525",
   "metadata": {},
   "outputs": [],
   "source": [
    "from napari.layers.shapes.shapes import Shapes"
   ]
  },
  {
   "cell_type": "code",
   "execution_count": 62,
   "id": "9f493288",
   "metadata": {},
   "outputs": [
    {
     "name": "stdout",
     "output_type": "stream",
     "text": [
      "48.5 ns ± 2.21 ns per loop (mean ± std. dev. of 7 runs, 10,000,000 loops each)\n"
     ]
    }
   ],
   "source": [
    "%timeit isinstance(l, Shapes)"
   ]
  },
  {
   "cell_type": "code",
   "execution_count": 63,
   "id": "b243ed32",
   "metadata": {},
   "outputs": [
    {
     "name": "stdout",
     "output_type": "stream",
     "text": [
      "133 µs ± 5.2 µs per loop (mean ± std. dev. of 7 runs, 10,000 loops each)\n"
     ]
    }
   ],
   "source": [
    "%timeit \"shapes\" == l.as_layer_data_tuple()[-1]"
   ]
  },
  {
   "cell_type": "code",
   "execution_count": 53,
   "id": "aba865e9",
   "metadata": {},
   "outputs": [
    {
     "data": {
      "text/plain": [
       "[<Image layer 'nuclei' at 0x17aa06fddf0>, <Image layer 'CD20' at 0x17aa07c7790>, <Image layer 'HER2' at 0x17aa07d2850>, <Image layer 'HE' at 0x17b9bd3f7f0>, <Shapes layer 'Positive (demo)' at 0x17b9c00de50>, <Shapes layer 'Negative (demo)' at 0x17b9c01e580>, <Shapes layer 'Negative (demo2)' at 0x17b9c1294f0>, <Shapes layer 'Positive (demo2)' at 0x17b9c1f9640>, <Shapes layer 'Other (demo2)' at 0x17b9c342b50>, <Shapes layer '*class (label)' at 0x17b9ef069a0>]"
      ]
     },
     "execution_count": 53,
     "metadata": {},
     "output_type": "execute_result"
    }
   ],
   "source": [
    "ll"
   ]
  },
  {
   "cell_type": "code",
   "execution_count": 45,
   "id": "7585a1c6",
   "metadata": {},
   "outputs": [
    {
     "data": {
      "text/plain": [
       "10"
      ]
     },
     "execution_count": 45,
     "metadata": {},
     "output_type": "execute_result"
    }
   ],
   "source": [
    "len(lold.data)"
   ]
  },
  {
   "cell_type": "code",
   "execution_count": 77,
   "id": "17a1672e",
   "metadata": {},
   "outputs": [
    {
     "name": "stdout",
     "output_type": "stream",
     "text": [
      "test_string\n"
     ]
    },
    {
     "data": {
      "image/png": "[encoded data removed]",
      "text/plain": [
       "<FunctionGui widget_demo(self=<__main__.WidgetClass object at 0x000001D51528C910>, string='')>"
      ]
     },
     "execution_count": 77,
     "metadata": {},
     "output_type": "execute_result"
    },
    {
     "name": "stdout",
     "output_type": "stream",
     "text": [
      "asdf\n"
     ]
    }
   ],
   "source": [
    "from magicgui import magicgui\n",
    "\n",
    "class WidgetClass:\n",
    "    def __init__(self, init_string):\n",
    "        self.init_string = init_string\n",
    "        print(self.init_string)\n",
    "        \n",
    "    # keep the function logic \"pure\"\n",
    "    @magicgui(call_button=\"Print\")\n",
    "    def widget_demo(self, string=\"\"):\n",
    "        widget_demo.string.value = self.init_string\n",
    "        if string != \"\":\n",
    "            print(string)\n",
    "\n",
    "    # do whatever you want after the function has been called\n",
    "    # in a callback connected to the `called` signal\n",
    "    @widget_demo.called.connect\n",
    "    def after_call():\n",
    "        widget_demo.string.value = \"\"\n",
    "        \n",
    "w = WidgetClass(init_string=\"test_string\")\n",
    "w.widget_demo.show(run=True)"
   ]
  },
  {
   "cell_type": "code",
   "execution_count": 70,
   "id": "9fcc8b77",
   "metadata": {},
   "outputs": [
    {
     "data": {
      "text/plain": [
       "psygnal._signal.SignalInstance"
      ]
     },
     "execution_count": 70,
     "metadata": {},
     "output_type": "execute_result"
    }
   ],
   "source": [
    "type(widget_demo.changed)"
   ]
  },
  {
   "cell_type": "code",
   "execution_count": 74,
   "id": "e370a7d8",
   "metadata": {},
   "outputs": [
    {
     "name": "stdout",
     "output_type": "stream",
     "text": [
      "NO_VALUE\n",
      "<class 'str'>\n",
      "annotation\n",
      "<class 'NoneType'>\n",
      "append\n",
      "<class 'method'>\n",
      "asdict\n",
      "<class 'method'>\n",
      "call_button\n",
      "<class 'magicgui.widgets.PushButton'>\n",
      "call_count\n",
      "<class 'int'>\n",
      "called\n",
      "<class 'psygnal._signal.SignalInstance'>\n",
      "changed\n",
      "<class 'psygnal._signal.SignalInstance'>\n",
      "clear\n",
      "<class 'method'>\n",
      "close\n",
      "<class 'method'>\n",
      "copy\n",
      "<class 'method'>\n",
      "count\n",
      "<class 'method'>\n",
      "enabled\n",
      "<class 'bool'>\n",
      "extend\n",
      "<class 'method'>\n",
      "from_callable\n",
      "<class 'method'>\n",
      "from_signature\n",
      "<class 'method'>\n",
      "gui_only\n",
      "<class 'bool'>\n",
      "height\n",
      "<class 'int'>\n",
      "hide\n",
      "<class 'method'>\n",
      "index\n",
      "<class 'method'>\n",
      "insert\n",
      "<class 'method'>\n",
      "label\n",
      "<class 'str'>\n",
      "label_changed\n",
      "<class 'psygnal._signal.SignalInstance'>\n",
      "labels\n",
      "<class 'bool'>\n",
      "layout\n",
      "<class 'str'>\n",
      "margins\n",
      "<class 'tuple'>\n",
      "max_height\n",
      "<class 'int'>\n",
      "max_width\n",
      "<class 'int'>\n",
      "min_height\n",
      "<class 'int'>\n",
      "min_width\n",
      "<class 'int'>\n",
      "name\n",
      "<class 'str'>\n",
      "native\n",
      "<class 'PyQt5.QtWidgets.QWidget'>\n",
      "options\n",
      "<class 'dict'>\n",
      "orientation\n",
      "<class 'str'>\n",
      "param_kind\n",
      "<enum '_ParameterKind'>\n",
      "parent\n",
      "<class 'NoneType'>\n",
      "parent_changed\n",
      "<class 'psygnal._signal.SignalInstance'>\n",
      "persist\n",
      "<class 'bool'>\n",
      "pop\n",
      "<class 'method'>\n",
      "remove\n",
      "<class 'method'>\n",
      "render\n",
      "<class 'method'>\n",
      "reset_call_count\n",
      "<class 'method'>\n",
      "reset_choices\n",
      "<class 'method'>\n",
      "result_name\n",
      "<class 'str'>\n",
      "return_annotation\n",
      "<class 'type'>\n",
      "reverse\n",
      "<class 'method'>\n",
      "root_native_widget\n",
      "<class 'PyQt5.QtWidgets.QWidget'>\n",
      "show\n",
      "<class 'method'>\n",
      "shown\n",
      "<class 'method'>\n",
      "string\n",
      "<class 'magicgui.widgets.LineEdit'>\n",
      "tooltip\n",
      "<class 'NoneType'>\n",
      "update\n",
      "<class 'method'>\n",
      "visible\n",
      "<class 'bool'>\n",
      "widget_type\n",
      "<class 'str'>\n",
      "width\n",
      "<class 'int'>\n"
     ]
    }
   ],
   "source": [
    "for elem in dir(widget_demo):\n",
    "    if not elem.startswith(\"_\"):\n",
    "        print(elem)\n",
    "        print(type(getattr(widget_demo, elem)))"
   ]
  },
  {
   "cell_type": "code",
   "execution_count": null,
   "id": "d88fa74e",
   "metadata": {},
   "outputs": [],
   "source": []
  },
  {
   "cell_type": "code",
   "execution_count": 37,
   "id": "2a6a9a10",
   "metadata": {},
   "outputs": [
    {
     "data": {
      "image/png": "[encoded data removed]",
      "text/plain": [
       "<FunctionGui widget_demo(self=<__main__.WidgetClass object at 0x000001D51E3A6AF0>, string='')>"
      ]
     },
     "execution_count": 37,
     "metadata": {},
     "output_type": "execute_result"
    },
    {
     "name": "stdout",
     "output_type": "stream",
     "text": [
      "asf\n"
     ]
    }
   ],
   "source": [
    "w = WidgetClass(init_string=\"test_string\")\n"
   ]
  },
  {
   "cell_type": "markdown",
   "id": "ab20fa39",
   "metadata": {},
   "source": [
    "## Good example how to connect layers and events"
   ]
  },
  {
   "cell_type": "code",
   "execution_count": 41,
   "id": "fc66d2ee",
   "metadata": {},
   "outputs": [
    {
     "name": "stderr",
     "output_type": "stream",
     "text": [
      "WARNING: QWindowsWindow::setGeometry: Unable to set geometry 853x533+2551-1199 (frame: 869x572+2543-1230) on QWidgetWindow/\"_QtMainWindowClassWindow\" on \"\\\\.\\DISPLAY10\". Resulting geometry: 567x653+2548-1213 (frame: 583x692+2540-1244) margins: 8, 31, 8, 8 minimum size: 385x492 MINMAXINFO maxSize=0,0 maxpos=0,0 mintrack=401,531 maxtrack=0,0)\n"
     ]
    },
    {
     "name": "stdout",
     "output_type": "stream",
     "text": [
      "blubb\n",
      "['__call__', '__class__', '__delattr__', '__dict__', '__dir__', '__doc__', '__eq__', '__format__', '__ge__', '__getattr__', '__getattribute__', '__getitem__', '__gt__', '__hash__', '__init__', '__init_subclass__', '__iter__', '__le__', '__lt__', '__module__', '__ne__', '__new__', '__reduce__', '__reduce_ex__', '__repr__', '__setattr__', '__setitem__', '__sizeof__', '__slotnames__', '__str__', '__subclasshook__', '__weakref__', '_block_counter', '_blocked', '_callback_pass_event', '_callback_refs', '_callbacks', '_check_signature', '_connect_emitters', '_emitters', '_emitters_connected', '_emitting', '_get_proper_name', '_ignore_callback_errors', '_invoke_callback', '_is_core_callback', '_normalize_cb', '_overlays', '_prepare_event', '_print_callback_errors', '_source', 'add', 'affine', 'auto_connect', 'auto_connect_format', 'blending', 'block', 'block_all', 'blocked', 'blocker', 'blocker_all', 'callback_refs', 'callbacks', 'connect', 'current_edge_color', 'current_face_color', 'current_properties', 'cursor', 'cursor_size', 'data', 'default_args', 'deselect', 'disconnect', 'edge_color', 'edge_width', 'editable', 'emitters', 'event_class', 'extent', 'face_color', 'feature_defaults', 'features', 'help', 'highlight', 'ignore_callback_errors', 'interactive', 'loaded', 'mode', 'mouse_pan', 'mouse_zoom', 'name', 'opacity', 'print_callback_errors', 'properties', 'refresh', 'rotate', 'scale', 'select', 'set_data', 'shear', 'source', 'status', 'thumbnail', 'translate', 'unblock', 'unblock_all', 'visible']\n",
      "add\n",
      "added\n",
      "add\n",
      "added\n",
      "remove\n",
      "added\n"
     ]
    }
   ],
   "source": [
    "import napari\n",
    "import numpy as np\n",
    "from napari.layers.shapes.shapes import Shapes\n",
    "\n",
    "# Create a napari viewer\n",
    "viewer = napari.Viewer()\n",
    "\n",
    "def print_event(event):\n",
    "    print(event.action)\n",
    "    if event is not None:\n",
    "        print('added')\n",
    "\n",
    "# Connect the function to all shapes layers in the viewer\n",
    "def connect_to_all_shapes_layers(event):\n",
    "    layer = event.source[event.index]\n",
    "    if event is not None and isinstance(layer, Shapes):\n",
    "        print('blubb')\n",
    "        print(dir(layer.events))\n",
    "        layer.events.data.connect(print_event)\n",
    "\n",
    "# Connect the function to any new layers added to the viewer\n",
    "viewer.layers.events.inserted.connect(connect_to_all_shapes_layers)\n",
    "\n",
    "# Open the napari viewer\n",
    "napari.run()"
   ]
  },
  {
   "cell_type": "code",
   "execution_count": 37,
   "id": "0bf1804b-9c84-404e-9842-afc992af62a7",
   "metadata": {},
   "outputs": [
    {
     "name": "stderr",
     "output_type": "stream",
     "text": [
      "WARNING: QWindowsWindow::setGeometry: Unable to set geometry 853x533+2554-1199 (frame: 869x572+2546-1230) on QWidgetWindow/\"_QtMainWindowClassWindow\" on \"\\\\.\\DISPLAY10\". Resulting geometry: 567x653+2551-1213 (frame: 583x692+2543-1244) margins: 8, 31, 8, 8 minimum size: 385x492 MINMAXINFO maxSize=0,0 maxpos=0,0 mintrack=401,531 maxtrack=0,0)\n"
     ]
    },
    {
     "name": "stdout",
     "output_type": "stream",
     "text": [
      "Connected to Shapes layer\n"
     ]
    }
   ],
   "source": [
    "import napari\n",
    "import numpy as np\n",
    "from napari.layers.shapes.shapes import Shapes\n",
    "\n",
    "# Create a napari viewer\n",
    "viewer = napari.Viewer()\n",
    "\n",
    "def print_event(event):\n",
    "    if event is not None:\n",
    "        if event.type == 'added':\n",
    "            print('Shape added')\n",
    "        elif event.type == 'removed':\n",
    "            print('Shape removed')\n",
    "\n",
    "# Connect the function to all shapes layers in the viewer\n",
    "def connect_to_all_shapes_layers(event):\n",
    "    layer = event.source[event.index]\n",
    "    if event is not None and isinstance(layer, Shapes):\n",
    "        print('Connected to Shapes layer')\n",
    "        layer.events.data.connect(print_event)\n",
    "\n",
    "# Connect the function to any new layers added to the viewer\n",
    "viewer.layers.events.inserted.connect(connect_to_all_shapes_layers)\n",
    "\n",
    "# Open the napari viewer\n",
    "napari.run()\n"
   ]
  },
  {
   "cell_type": "code",
   "execution_count": 48,
   "id": "ae1f33b2",
   "metadata": {},
   "outputs": [
    {
     "data": {
      "text/plain": [
       "<napari.utils.events.event.EventEmitter at 0x17b9ef399a0>"
      ]
     },
     "execution_count": 48,
     "metadata": {},
     "output_type": "execute_result"
    }
   ],
   "source": [
    "l.events.data"
   ]
  },
  {
   "cell_type": "code",
   "execution_count": 40,
   "id": "270c7eed",
   "metadata": {},
   "outputs": [
    {
     "data": {
      "text/plain": [
       "{'uid': array(['92bfe928-a21f-4864-b7cb-f0d300113d88',\n",
       "        '92bfe928-a21f-4864-b7cb-f0d300113d88',\n",
       "        '92bfe928-a21f-4864-b7cb-f0d300113d88',\n",
       "        '92bfe928-a21f-4864-b7cb-f0d300113d88',\n",
       "        'a6c17a54-6839-40b2-8531-c9227635f344',\n",
       "        'a6c17a54-6839-40b2-8531-c9227635f344',\n",
       "        'a6c17a54-6839-40b2-8531-c9227635f344'], dtype=object)}"
      ]
     },
     "execution_count": 40,
     "metadata": {},
     "output_type": "execute_result"
    }
   ],
   "source": [
    "lold.properties"
   ]
  },
  {
   "cell_type": "code",
   "execution_count": 39,
   "id": "d9329865",
   "metadata": {},
   "outputs": [
    {
     "data": {
      "text/plain": [
       "<Shapes layer 'Other (demo2)' at 0x17b9c342b50>"
      ]
     },
     "execution_count": 39,
     "metadata": {},
     "output_type": "execute_result"
    }
   ],
   "source": [
    "lold"
   ]
  },
  {
   "cell_type": "code",
   "execution_count": 53,
   "id": "ad621d02",
   "metadata": {},
   "outputs": [],
   "source": [
    "d = {\"blubb\": \"test\"}"
   ]
  },
  {
   "cell_type": "code",
   "execution_count": 54,
   "id": "a5a72cd9",
   "metadata": {},
   "outputs": [
    {
     "data": {
      "text/plain": [
       "1"
      ]
     },
     "execution_count": 54,
     "metadata": {},
     "output_type": "execute_result"
    }
   ],
   "source": [
    "len(d)"
   ]
  },
  {
   "cell_type": "code",
   "execution_count": 38,
   "id": "46a042fe",
   "metadata": {},
   "outputs": [
    {
     "data": {
      "text/plain": [
       "{}"
      ]
     },
     "execution_count": 38,
     "metadata": {},
     "output_type": "execute_result"
    }
   ],
   "source": [
    "l.properties"
   ]
  },
  {
   "cell_type": "code",
   "execution_count": 55,
   "id": "32bda05d",
   "metadata": {},
   "outputs": [
    {
     "name": "stderr",
     "output_type": "stream",
     "text": [
      "[autoreload of insitupy.main failed: Traceback (most recent call last):\n",
      "  File \"c:\\Users\\ge37voy\\AppData\\Local\\miniconda3\\envs\\insitupy\\lib\\site-packages\\IPython\\extensions\\autoreload.py\", line 276, in check\n",
      "    superreload(m, reload, self.old_objects)\n",
      "  File \"c:\\Users\\ge37voy\\AppData\\Local\\miniconda3\\envs\\insitupy\\lib\\site-packages\\IPython\\extensions\\autoreload.py\", line 475, in superreload\n",
      "    module = reload(module)\n",
      "  File \"c:\\Users\\ge37voy\\AppData\\Local\\miniconda3\\envs\\insitupy\\lib\\importlib\\__init__.py\", line 169, in reload\n",
      "    _bootstrap._exec(spec, module)\n",
      "  File \"<frozen importlib._bootstrap>\", line 613, in _exec\n",
      "  File \"<frozen importlib._bootstrap_external>\", line 846, in exec_module\n",
      "  File \"<frozen importlib._bootstrap_external>\", line 983, in get_code\n",
      "  File \"<frozen importlib._bootstrap_external>\", line 913, in source_to_code\n",
      "  File \"<frozen importlib._bootstrap>\", line 228, in _call_with_frames_removed\n",
      "  File \"C:\\Users\\ge37voy\\Github\\InSituPy\\insitupy\\main.py\", line 315\n",
      "    self.annotations = \n",
      "                       ^\n",
      "SyntaxError: invalid syntax\n",
      "]\n"
     ]
    },
    {
     "data": {
      "text/html": [
       "<div>\n",
       "<style scoped>\n",
       "    .dataframe tbody tr th:only-of-type {\n",
       "        vertical-align: middle;\n",
       "    }\n",
       "\n",
       "    .dataframe tbody tr th {\n",
       "        vertical-align: top;\n",
       "    }\n",
       "\n",
       "    .dataframe thead th {\n",
       "        text-align: right;\n",
       "    }\n",
       "</style>\n",
       "<table border=\"1\" class=\"dataframe\">\n",
       "  <thead>\n",
       "    <tr style=\"text-align: right;\">\n",
       "      <th></th>\n",
       "      <th>id</th>\n",
       "      <th>objectType</th>\n",
       "      <th>geometry</th>\n",
       "      <th>name</th>\n",
       "      <th>color</th>\n",
       "    </tr>\n",
       "  </thead>\n",
       "  <tbody>\n",
       "    <tr>\n",
       "      <th>0</th>\n",
       "      <td>bd3aacca-1716-4df8-91dd-bf8f6413a7bd</td>\n",
       "      <td>annotation</td>\n",
       "      <td>POLYGON ((8863.00000 10814.00000, 8863.00000 1...</td>\n",
       "      <td>Positive</td>\n",
       "      <td>[250, 62, 62]</td>\n",
       "    </tr>\n",
       "    <tr>\n",
       "      <th>1</th>\n",
       "      <td>69814505-4059-42cd-8df2-752f7eb0810d</td>\n",
       "      <td>annotation</td>\n",
       "      <td>POLYGON ((13096.00000 12492.00000, 13072.40000...</td>\n",
       "      <td>Positive</td>\n",
       "      <td>[250, 62, 62]</td>\n",
       "    </tr>\n",
       "    <tr>\n",
       "      <th>2</th>\n",
       "      <td>1957cd32-0a21-4b45-9dae-ecf236217140</td>\n",
       "      <td>annotation</td>\n",
       "      <td>POLYGON ((30975.26000 22938.00000, 30982.00000...</td>\n",
       "      <td>Negative</td>\n",
       "      <td>[112, 112, 225]</td>\n",
       "    </tr>\n",
       "    <tr>\n",
       "      <th>3</th>\n",
       "      <td>19d2197a-1b8e-456f-8223-fba74641ac1c</td>\n",
       "      <td>annotation</td>\n",
       "      <td>POLYGON ((31165.00000 16408.00000, 31149.00000...</td>\n",
       "      <td>Negative</td>\n",
       "      <td>[112, 112, 225]</td>\n",
       "    </tr>\n",
       "  </tbody>\n",
       "</table>\n",
       "</div>"
      ],
      "text/plain": [
       "                                     id  objectType  \\\n",
       "0  bd3aacca-1716-4df8-91dd-bf8f6413a7bd  annotation   \n",
       "1  69814505-4059-42cd-8df2-752f7eb0810d  annotation   \n",
       "2  1957cd32-0a21-4b45-9dae-ecf236217140  annotation   \n",
       "3  19d2197a-1b8e-456f-8223-fba74641ac1c  annotation   \n",
       "\n",
       "                                            geometry      name  \\\n",
       "0  POLYGON ((8863.00000 10814.00000, 8863.00000 1...  Positive   \n",
       "1  POLYGON ((13096.00000 12492.00000, 13072.40000...  Positive   \n",
       "2  POLYGON ((30975.26000 22938.00000, 30982.00000...  Negative   \n",
       "3  POLYGON ((31165.00000 16408.00000, 31149.00000...  Negative   \n",
       "\n",
       "             color  \n",
       "0    [250, 62, 62]  \n",
       "1    [250, 62, 62]  \n",
       "2  [112, 112, 225]  \n",
       "3  [112, 112, 225]  "
      ]
     },
     "execution_count": 55,
     "metadata": {},
     "output_type": "execute_result"
    }
   ],
   "source": [
    "xd.annotations.demo"
   ]
  },
  {
   "cell_type": "code",
   "execution_count": 62,
   "id": "f42c602d",
   "metadata": {},
   "outputs": [
    {
     "data": {
      "text/plain": [
       "[array([[1203.26329718, 1974.88285835],\n",
       "        [1497.75095436, 1918.78997127],\n",
       "        [1708.09928091, 1960.85963658],\n",
       "        [1834.30827684, 2185.2311849 ],\n",
       "        [1876.37794215, 2479.71884208],\n",
       "        [1778.21538976, 2662.02072509],\n",
       "        [1553.84384144, 2774.20649925],\n",
       "        [1259.35618427, 2732.13683394],\n",
       "        [1091.07752302, 2549.83495093]]),\n",
       " array([[1848.33149861, 4316.76089396],\n",
       "        [2072.70304693, 4316.76089396],\n",
       "        [2226.9584864 , 4471.01633343],\n",
       "        [2255.00492994, 4737.45754706],\n",
       "        [2002.58693808, 4919.75943008],\n",
       "        [1750.16894622, 4905.73620831],\n",
       "        [1666.0296156 , 4779.52721238],\n",
       "        [1736.14572445, 4625.2717729 ]]),\n",
       " array([[3727.4432158 , 3349.15859182],\n",
       "        [3979.86120767, 3321.11214828],\n",
       "        [4106.0702036 , 3559.50691838],\n",
       "        [3769.51288111, 3671.69269254],\n",
       "        [3587.2109981 , 3601.57658369],\n",
       "        [3587.2109981 , 3447.32114421]])]"
      ]
     },
     "execution_count": 62,
     "metadata": {},
     "output_type": "execute_result"
    }
   ],
   "source": [
    "l.data"
   ]
  },
  {
   "cell_type": "code",
   "execution_count": 56,
   "id": "4d77991c",
   "metadata": {},
   "outputs": [],
   "source": [
    "from uuid import uuid4"
   ]
  },
  {
   "cell_type": "code",
   "execution_count": 63,
   "id": "7890535a",
   "metadata": {},
   "outputs": [
    {
     "data": {
      "text/plain": [
       "['c42ccf0f-d362-4b3c-862a-a0979e7722ed',\n",
       " '45a53acf-e497-4c57-b058-9b00ca851c30',\n",
       " '4bff1810-ebe5-44c2-a37a-1ae5daa08346',\n",
       " '271e12f0-ae32-41cc-be6b-8ee11ab1d274']"
      ]
     },
     "execution_count": 63,
     "metadata": {},
     "output_type": "execute_result"
    }
   ],
   "source": [
    "[str(uuid4()) for _ in range(4)]"
   ]
  },
  {
   "cell_type": "code",
   "execution_count": 39,
   "id": "abf6dadb",
   "metadata": {},
   "outputs": [
    {
     "data": {
      "text/plain": [
       "{'uid': array(['92bfe928-a21f-4864-b7cb-f0d300113d88',\n",
       "        '92bfe928-a21f-4864-b7cb-f0d300113d88',\n",
       "        '92bfe928-a21f-4864-b7cb-f0d300113d88',\n",
       "        '92bfe928-a21f-4864-b7cb-f0d300113d88',\n",
       "        'a6c17a54-6839-40b2-8531-c9227635f344'], dtype=object)}"
      ]
     },
     "execution_count": 39,
     "metadata": {},
     "output_type": "execute_result"
    }
   ],
   "source": [
    "lold.properties"
   ]
  },
  {
   "cell_type": "code",
   "execution_count": 68,
   "id": "3e4c2ace",
   "metadata": {},
   "outputs": [
    {
     "data": {
      "text/plain": [
       "5"
      ]
     },
     "execution_count": 68,
     "metadata": {},
     "output_type": "execute_result"
    }
   ],
   "source": [
    "len(lold.data)"
   ]
  },
  {
   "cell_type": "code",
   "execution_count": 71,
   "id": "2f56fd42",
   "metadata": {},
   "outputs": [],
   "source": [
    "mp = xd.annotations.demo2.loc[2, \"geometry\"]"
   ]
  },
  {
   "cell_type": "code",
   "execution_count": 63,
   "id": "ef60004d",
   "metadata": {},
   "outputs": [
    {
     "data": {
      "text/plain": [
       "{}"
      ]
     },
     "execution_count": 63,
     "metadata": {},
     "output_type": "execute_result"
    }
   ],
   "source": [
    "l.properties"
   ]
  },
  {
   "cell_type": "code",
   "execution_count": 50,
   "id": "a9404a2a",
   "metadata": {},
   "outputs": [],
   "source": [
    "import numpy as np"
   ]
  },
  {
   "cell_type": "code",
   "execution_count": 51,
   "id": "e6e8b445",
   "metadata": {},
   "outputs": [
    {
     "data": {
      "text/plain": [
       "array([[1, 5],\n",
       "       [1, 6],\n",
       "       [2, 7],\n",
       "       [3, 8]])"
      ]
     },
     "execution_count": 51,
     "metadata": {},
     "output_type": "execute_result"
    }
   ],
   "source": [
    "np.array([[1,1,2,3],\n",
    "          [5,6,7,8]]).T"
   ]
  },
  {
   "cell_type": "code",
   "execution_count": 52,
   "id": "77f9f524",
   "metadata": {},
   "outputs": [
    {
     "data": {
      "text/plain": [
       "True"
      ]
     },
     "execution_count": 52,
     "metadata": {},
     "output_type": "execute_result"
    }
   ],
   "source": [
    "isinstance(df, gp.GeoDataFrame)"
   ]
  },
  {
   "cell_type": "code",
   "execution_count": 53,
   "id": "21e38e2a",
   "metadata": {},
   "outputs": [],
   "source": [
    "from shapely import Polygon"
   ]
  },
  {
   "cell_type": "code",
   "execution_count": 54,
   "id": "b05ab60c",
   "metadata": {},
   "outputs": [
    {
     "data": {
      "image/svg+xml": [
       "<svg xmlns=\"http://www.w3.org/2000/svg\" xmlns:xlink=\"http://www.w3.org/1999/xlink\" width=\"100.0\" height=\"100.0\" viewBox=\"0.88 4.88 2.24 3.2399999999999993\" preserveAspectRatio=\"xMinYMin meet\"><g transform=\"matrix(1,0,0,-1,0,13.0)\"><path fill-rule=\"evenodd\" fill=\"#66cc99\" stroke=\"#555555\" stroke-width=\"0.06479999999999998\" opacity=\"0.6\" d=\"M 1.0,5.0 L 1.0,6.0 L 2.0,7.0 L 3.0,8.0 L 1.0,5.0 z\" /></g></svg>"
      ],
      "text/plain": [
       "<POLYGON ((1 5, 1 6, 2 7, 3 8, 1 5))>"
      ]
     },
     "execution_count": 54,
     "metadata": {},
     "output_type": "execute_result"
    }
   ],
   "source": [
    "Polygon(np.array([[1,1,2,3],\n",
    "                  [5,6,7,8]]).T)"
   ]
  },
  {
   "cell_type": "code",
   "execution_count": 55,
   "id": "9175e16a",
   "metadata": {},
   "outputs": [],
   "source": [
    "import uuid"
   ]
  },
  {
   "cell_type": "code",
   "execution_count": 56,
   "id": "d473aae3",
   "metadata": {},
   "outputs": [
    {
     "data": {
      "text/plain": [
       "'863f00b7-086d-49f7-9b45-0204bcce8a9d'"
      ]
     },
     "execution_count": 56,
     "metadata": {},
     "output_type": "execute_result"
    }
   ],
   "source": [
    "str(uuid.uuid4())"
   ]
  },
  {
   "cell_type": "code",
   "execution_count": 57,
   "id": "15be04a0",
   "metadata": {},
   "outputs": [],
   "source": []
  },
  {
   "cell_type": "code",
   "execution_count": 71,
   "id": "68b3c172",
   "metadata": {},
   "outputs": [],
   "source": [
    "from shapely import Point\n",
    "from insitupy.io.io import parse_geopandas\n",
    "\n",
    "d = {'id': ['i'],\n",
    "                 'objectType': ['o'], \n",
    "                 'geometry': [Point(0, 1)],\n",
    "                 'name': ['n'],\n",
    "                 'color': ['c']\n",
    "                 }\n",
    "a = parse_geopandas(d)"
   ]
  },
  {
   "cell_type": "code",
   "execution_count": 72,
   "id": "a663c698",
   "metadata": {},
   "outputs": [],
   "source": [
    "from shapely import Point\n",
    "from insitupy.io.io import parse_geopandas\n",
    "import geopandas as gp\n",
    "\n",
    "d = {'id': ['i'],\n",
    "                 'objectType': ['o'], \n",
    "                 'name': ['n'],\n",
    "                 'color': ['c'],\n",
    "                 #'geometry': [Point(0, 1)]\n",
    "                 }\n",
    "\n",
    "b = gp.GeoDataFrame(d, geometry=[Point(0, 1)])"
   ]
  },
  {
   "cell_type": "code",
   "execution_count": 74,
   "id": "eefca2eb",
   "metadata": {},
   "outputs": [
    {
     "data": {
      "text/html": [
       "<div>\n",
       "<style scoped>\n",
       "    .dataframe tbody tr th:only-of-type {\n",
       "        vertical-align: middle;\n",
       "    }\n",
       "\n",
       "    .dataframe tbody tr th {\n",
       "        vertical-align: top;\n",
       "    }\n",
       "\n",
       "    .dataframe thead th {\n",
       "        text-align: right;\n",
       "    }\n",
       "</style>\n",
       "<table border=\"1\" class=\"dataframe\">\n",
       "  <thead>\n",
       "    <tr style=\"text-align: right;\">\n",
       "      <th></th>\n",
       "      <th>id</th>\n",
       "      <th>objectType</th>\n",
       "      <th>geometry</th>\n",
       "      <th>name</th>\n",
       "      <th>color</th>\n",
       "    </tr>\n",
       "  </thead>\n",
       "  <tbody>\n",
       "    <tr>\n",
       "      <th>0</th>\n",
       "      <td>i</td>\n",
       "      <td>o</td>\n",
       "      <td>POINT (0.00000 1.00000)</td>\n",
       "      <td>n</td>\n",
       "      <td>c</td>\n",
       "    </tr>\n",
       "    <tr>\n",
       "      <th>0</th>\n",
       "      <td>i</td>\n",
       "      <td>o</td>\n",
       "      <td>POINT (0.00000 1.00000)</td>\n",
       "      <td>n</td>\n",
       "      <td>c</td>\n",
       "    </tr>\n",
       "  </tbody>\n",
       "</table>\n",
       "</div>"
      ],
      "text/plain": [
       "  id objectType                 geometry name color\n",
       "0  i          o  POINT (0.00000 1.00000)    n     c\n",
       "0  i          o  POINT (0.00000 1.00000)    n     c"
      ]
     },
     "execution_count": 74,
     "metadata": {},
     "output_type": "execute_result"
    }
   ],
   "source": [
    "import pandas as pd\n",
    "pd.concat([a, b])"
   ]
  },
  {
   "cell_type": "code",
   "execution_count": 125,
   "id": "385a7a4a",
   "metadata": {},
   "outputs": [],
   "source": [
    "dd = gp.GeoDataFrame(d, geometry=d[\"geometry\"])"
   ]
  },
  {
   "cell_type": "code",
   "execution_count": 126,
   "id": "7e5330c9",
   "metadata": {},
   "outputs": [
    {
     "data": {
      "text/plain": [
       "True"
      ]
     },
     "execution_count": 126,
     "metadata": {},
     "output_type": "execute_result"
    }
   ],
   "source": [
    "dd.equals(dd)"
   ]
  },
  {
   "cell_type": "code",
   "execution_count": null,
   "id": "97175639",
   "metadata": {},
   "outputs": [],
   "source": [
    "parse_geopandas()"
   ]
  },
  {
   "cell_type": "code",
   "execution_count": 115,
   "id": "02fc876a",
   "metadata": {},
   "outputs": [
    {
     "data": {
      "text/html": [
       "<div>\n",
       "<style scoped>\n",
       "    .dataframe tbody tr th:only-of-type {\n",
       "        vertical-align: middle;\n",
       "    }\n",
       "\n",
       "    .dataframe tbody tr th {\n",
       "        vertical-align: top;\n",
       "    }\n",
       "\n",
       "    .dataframe thead th {\n",
       "        text-align: right;\n",
       "    }\n",
       "</style>\n",
       "<table border=\"1\" class=\"dataframe\">\n",
       "  <thead>\n",
       "    <tr style=\"text-align: right;\">\n",
       "      <th></th>\n",
       "      <th>id</th>\n",
       "      <th>objectType</th>\n",
       "      <th>name</th>\n",
       "      <th>color</th>\n",
       "      <th>geometry</th>\n",
       "    </tr>\n",
       "  </thead>\n",
       "  <tbody>\n",
       "    <tr>\n",
       "      <th>0</th>\n",
       "      <td>i</td>\n",
       "      <td>o</td>\n",
       "      <td>n</td>\n",
       "      <td>c</td>\n",
       "      <td>MULTIPOLYGON (((21534.000 19541.000, 21534.000...</td>\n",
       "    </tr>\n",
       "  </tbody>\n",
       "</table>\n",
       "</div>"
      ],
      "text/plain": [
       "  id objectType name color                                           geometry\n",
       "0  i          o    n     c  MULTIPOLYGON (((21534.000 19541.000, 21534.000..."
      ]
     },
     "execution_count": 115,
     "metadata": {},
     "output_type": "execute_result"
    }
   ],
   "source": [
    "gp.GeoDataFrame(d, geometry=d[\"geometry\"])"
   ]
  },
  {
   "cell_type": "code",
   "execution_count": 58,
   "id": "1c31a60d",
   "metadata": {},
   "outputs": [],
   "source": [
    "row_new = gp.GeoDataFrame({'id': ['i'],\n",
    "                 'objectType': ['o'],\n",
    "                 'geometry': ['g'], \n",
    "                 'name': ['n'],\n",
    "                 'color': ['c']})"
   ]
  },
  {
   "cell_type": "code",
   "execution_count": 59,
   "id": "7c1da156",
   "metadata": {},
   "outputs": [
    {
     "ename": "NameError",
     "evalue": "name 'l' is not defined",
     "output_type": "error",
     "traceback": [
      "\u001b[1;31m---------------------------------------------------------------------------\u001b[0m",
      "\u001b[1;31mNameError\u001b[0m                                 Traceback (most recent call last)",
      "\u001b[1;32mc:\\Users\\ge37voy\\Github\\InSituPy\\notebooks\\dev\\04_InSituPy_demo_annotations_widget_tests.ipynb Cell 27\u001b[0m line \u001b[0;36m1\n\u001b[1;32m----> <a href='vscode-notebook-cell:/c%3A/Users/ge37voy/Github/InSituPy/notebooks/dev/04_InSituPy_demo_annotations_widget_tests.ipynb#X40sZmlsZQ%3D%3D?line=0'>1</a>\u001b[0m l\u001b[39m.\u001b[39medge_color\n",
      "\u001b[1;31mNameError\u001b[0m: name 'l' is not defined"
     ]
    }
   ],
   "source": [
    "l.edge_color"
   ]
  },
  {
   "cell_type": "code",
   "execution_count": 28,
   "id": "22e63c3d",
   "metadata": {},
   "outputs": [],
   "source": [
    "df = xd.annotations.demo.copy()"
   ]
  },
  {
   "cell_type": "code",
   "execution_count": 29,
   "id": "81022c46",
   "metadata": {},
   "outputs": [],
   "source": [
    "import pandas as pd"
   ]
  },
  {
   "cell_type": "code",
   "execution_count": 31,
   "id": "f58fc5b6",
   "metadata": {},
   "outputs": [
    {
     "data": {
      "text/html": [
       "<div>\n",
       "<style scoped>\n",
       "    .dataframe tbody tr th:only-of-type {\n",
       "        vertical-align: middle;\n",
       "    }\n",
       "\n",
       "    .dataframe tbody tr th {\n",
       "        vertical-align: top;\n",
       "    }\n",
       "\n",
       "    .dataframe thead th {\n",
       "        text-align: right;\n",
       "    }\n",
       "</style>\n",
       "<table border=\"1\" class=\"dataframe\">\n",
       "  <thead>\n",
       "    <tr style=\"text-align: right;\">\n",
       "      <th></th>\n",
       "      <th>id</th>\n",
       "      <th>objectType</th>\n",
       "      <th>geometry</th>\n",
       "      <th>name</th>\n",
       "      <th>color</th>\n",
       "    </tr>\n",
       "  </thead>\n",
       "  <tbody>\n",
       "    <tr>\n",
       "      <th>0</th>\n",
       "      <td>bd3aacca-1716-4df8-91dd-bf8f6413a7bd</td>\n",
       "      <td>annotation</td>\n",
       "      <td>POLYGON ((8863 10814, 8863 10824, 8832 10824, ...</td>\n",
       "      <td>Positive</td>\n",
       "      <td>[250, 62, 62]</td>\n",
       "    </tr>\n",
       "    <tr>\n",
       "      <th>1</th>\n",
       "      <td>69814505-4059-42cd-8df2-752f7eb0810d</td>\n",
       "      <td>annotation</td>\n",
       "      <td>POLYGON ((13096 12492, 13072.4 12494.2, 13031 ...</td>\n",
       "      <td>Positive</td>\n",
       "      <td>[250, 62, 62]</td>\n",
       "    </tr>\n",
       "    <tr>\n",
       "      <th>2</th>\n",
       "      <td>1957cd32-0a21-4b45-9dae-ecf236217140</td>\n",
       "      <td>annotation</td>\n",
       "      <td>POLYGON ((30975.26 22938, 30982 22938, 30992 2...</td>\n",
       "      <td>Negative</td>\n",
       "      <td>[112, 112, 225]</td>\n",
       "    </tr>\n",
       "    <tr>\n",
       "      <th>3</th>\n",
       "      <td>19d2197a-1b8e-456f-8223-fba74641ac1c</td>\n",
       "      <td>annotation</td>\n",
       "      <td>POLYGON ((31165 16408, 31149 16410, 31134 1641...</td>\n",
       "      <td>Negative</td>\n",
       "      <td>[112, 112, 225]</td>\n",
       "    </tr>\n",
       "    <tr>\n",
       "      <th>4</th>\n",
       "      <td>i</td>\n",
       "      <td>o</td>\n",
       "      <td>g</td>\n",
       "      <td>n</td>\n",
       "      <td>c</td>\n",
       "    </tr>\n",
       "  </tbody>\n",
       "</table>\n",
       "</div>"
      ],
      "text/plain": [
       "                                     id  objectType  \\\n",
       "0  bd3aacca-1716-4df8-91dd-bf8f6413a7bd  annotation   \n",
       "1  69814505-4059-42cd-8df2-752f7eb0810d  annotation   \n",
       "2  1957cd32-0a21-4b45-9dae-ecf236217140  annotation   \n",
       "3  19d2197a-1b8e-456f-8223-fba74641ac1c  annotation   \n",
       "4                                     i           o   \n",
       "\n",
       "                                            geometry      name  \\\n",
       "0  POLYGON ((8863 10814, 8863 10824, 8832 10824, ...  Positive   \n",
       "1  POLYGON ((13096 12492, 13072.4 12494.2, 13031 ...  Positive   \n",
       "2  POLYGON ((30975.26 22938, 30982 22938, 30992 2...  Negative   \n",
       "3  POLYGON ((31165 16408, 31149 16410, 31134 1641...  Negative   \n",
       "4                                                  g         n   \n",
       "\n",
       "             color  \n",
       "0    [250, 62, 62]  \n",
       "1    [250, 62, 62]  \n",
       "2  [112, 112, 225]  \n",
       "3  [112, 112, 225]  \n",
       "4                c  "
      ]
     },
     "execution_count": 31,
     "metadata": {},
     "output_type": "execute_result"
    }
   ],
   "source": [
    "pd.concat([df, row_new], ignore_index=True)"
   ]
  },
  {
   "cell_type": "code",
   "execution_count": null,
   "id": "4f4d36ad",
   "metadata": {},
   "outputs": [],
   "source": []
  },
  {
   "cell_type": "code",
   "execution_count": null,
   "id": "74cb69b1",
   "metadata": {},
   "outputs": [
    {
     "data": {
      "text/html": [
       "<div>\n",
       "<style scoped>\n",
       "    .dataframe tbody tr th:only-of-type {\n",
       "        vertical-align: middle;\n",
       "    }\n",
       "\n",
       "    .dataframe tbody tr th {\n",
       "        vertical-align: top;\n",
       "    }\n",
       "\n",
       "    .dataframe thead th {\n",
       "        text-align: right;\n",
       "    }\n",
       "</style>\n",
       "<table border=\"1\" class=\"dataframe\">\n",
       "  <thead>\n",
       "    <tr style=\"text-align: right;\">\n",
       "      <th></th>\n",
       "      <th>id</th>\n",
       "      <th>objectType</th>\n",
       "      <th>geometry</th>\n",
       "      <th>name</th>\n",
       "      <th>color</th>\n",
       "    </tr>\n",
       "  </thead>\n",
       "  <tbody>\n",
       "    <tr>\n",
       "      <th>0</th>\n",
       "      <td>bd3aacca-1716-4df8-91dd-bf8f6413a7bd</td>\n",
       "      <td>annotation</td>\n",
       "      <td>POLYGON ((8863.00000 10814.00000, 8863.00000 1...</td>\n",
       "      <td>Positive</td>\n",
       "      <td>[250, 62, 62]</td>\n",
       "    </tr>\n",
       "    <tr>\n",
       "      <th>1</th>\n",
       "      <td>69814505-4059-42cd-8df2-752f7eb0810d</td>\n",
       "      <td>annotation</td>\n",
       "      <td>POLYGON ((13096.00000 12492.00000, 13072.40000...</td>\n",
       "      <td>Positive</td>\n",
       "      <td>[250, 62, 62]</td>\n",
       "    </tr>\n",
       "    <tr>\n",
       "      <th>2</th>\n",
       "      <td>1957cd32-0a21-4b45-9dae-ecf236217140</td>\n",
       "      <td>annotation</td>\n",
       "      <td>POLYGON ((30975.26000 22938.00000, 30982.00000...</td>\n",
       "      <td>Negative</td>\n",
       "      <td>[112, 112, 225]</td>\n",
       "    </tr>\n",
       "    <tr>\n",
       "      <th>3</th>\n",
       "      <td>19d2197a-1b8e-456f-8223-fba74641ac1c</td>\n",
       "      <td>annotation</td>\n",
       "      <td>POLYGON ((31165.00000 16408.00000, 31149.00000...</td>\n",
       "      <td>Negative</td>\n",
       "      <td>[112, 112, 225]</td>\n",
       "    </tr>\n",
       "  </tbody>\n",
       "</table>\n",
       "</div>"
      ],
      "text/plain": [
       "                                     id  objectType  \\\n",
       "0  bd3aacca-1716-4df8-91dd-bf8f6413a7bd  annotation   \n",
       "1  69814505-4059-42cd-8df2-752f7eb0810d  annotation   \n",
       "2  1957cd32-0a21-4b45-9dae-ecf236217140  annotation   \n",
       "3  19d2197a-1b8e-456f-8223-fba74641ac1c  annotation   \n",
       "\n",
       "                                            geometry      name  \\\n",
       "0  POLYGON ((8863.00000 10814.00000, 8863.00000 1...  Positive   \n",
       "1  POLYGON ((13096.00000 12492.00000, 13072.40000...  Positive   \n",
       "2  POLYGON ((30975.26000 22938.00000, 30982.00000...  Negative   \n",
       "3  POLYGON ((31165.00000 16408.00000, 31149.00000...  Negative   \n",
       "\n",
       "             color  \n",
       "0    [250, 62, 62]  \n",
       "1    [250, 62, 62]  \n",
       "2  [112, 112, 225]  \n",
       "3  [112, 112, 225]  "
      ]
     },
     "metadata": {},
     "output_type": "display_data"
    }
   ],
   "source": [
    "xd.annotations.demo"
   ]
  },
  {
   "cell_type": "code",
   "execution_count": 49,
   "id": "1f03307d",
   "metadata": {},
   "outputs": [
    {
     "data": {
      "text/plain": [
       "geopandas.geodataframe.GeoDataFrame"
      ]
     },
     "execution_count": 49,
     "metadata": {},
     "output_type": "execute_result"
    }
   ],
   "source": [
    "type(xd.annotations.demo)"
   ]
  },
  {
   "cell_type": "code",
   "execution_count": 36,
   "id": "264bd7ff",
   "metadata": {},
   "outputs": [
    {
     "ename": "AttributeError",
     "evalue": "'numpy.ndarray' object has no attribute 'pop'",
     "output_type": "error",
     "traceback": [
      "\u001b[1;31m---------------------------------------------------------------------------\u001b[0m",
      "\u001b[1;31mAttributeError\u001b[0m                            Traceback (most recent call last)",
      "\u001b[1;32mc:\\Users\\ge37voy\\Github\\InSituPy\\notebooks\\dev\\04_InSituPy_demo_annotations_widget_tests.ipynb Cell 23\u001b[0m line \u001b[0;36m1\n\u001b[1;32m----> <a href='vscode-notebook-cell:/c%3A/Users/ge37voy/Github/InSituPy/notebooks/dev/04_InSituPy_demo_annotations_widget_tests.ipynb#Y105sZmlsZQ%3D%3D?line=0'>1</a>\u001b[0m l\u001b[39m.\u001b[39;49mdata[\u001b[39m0\u001b[39;49m]\u001b[39m.\u001b[39;49mpop()\n",
      "\u001b[1;31mAttributeError\u001b[0m: 'numpy.ndarray' object has no attribute 'pop'"
     ]
    }
   ],
   "source": [
    "l.data[0]"
   ]
  },
  {
   "cell_type": "code",
   "execution_count": 40,
   "id": "c61f260d",
   "metadata": {},
   "outputs": [
    {
     "data": {
      "text/plain": [
       "['A', 'B', 'C']"
      ]
     },
     "execution_count": 40,
     "metadata": {},
     "output_type": "execute_result"
    }
   ],
   "source": [
    "list(\"ABCD\")[:-1]"
   ]
  },
  {
   "cell_type": "code",
   "execution_count": 38,
   "id": "280e0287",
   "metadata": {},
   "outputs": [
    {
     "data": {
      "text/plain": [
       "['demo']"
      ]
     },
     "execution_count": 38,
     "metadata": {},
     "output_type": "execute_result"
    }
   ],
   "source": [
    "xd.annotations.labels"
   ]
  },
  {
   "cell_type": "code",
   "execution_count": 20,
   "id": "8cedcd15",
   "metadata": {},
   "outputs": [
    {
     "data": {
      "text/plain": [
       "'nuclei'"
      ]
     },
     "execution_count": 20,
     "metadata": {},
     "output_type": "execute_result"
    }
   ],
   "source": [
    "ll[0]"
   ]
  },
  {
   "cell_type": "code",
   "execution_count": 18,
   "id": "7d36d02e",
   "metadata": {},
   "outputs": [],
   "source": [
    "from parse import *\n",
    "pat = \"*{Class} ({Label})\"\n",
    "cla = \"CLASS\"\n",
    "lab = \"LABEL\"\n",
    "s = pat.format(Class=cla, Label=lab)"
   ]
  },
  {
   "cell_type": "code",
   "execution_count": 19,
   "id": "6f1205c0",
   "metadata": {},
   "outputs": [
    {
     "data": {
      "text/plain": [
       "'*CLASS (LABEL)'"
      ]
     },
     "execution_count": 19,
     "metadata": {},
     "output_type": "execute_result"
    }
   ],
   "source": [
    "s"
   ]
  },
  {
   "cell_type": "code",
   "execution_count": 22,
   "id": "c09c8530",
   "metadata": {},
   "outputs": [
    {
     "ename": "NameError",
     "evalue": "name 'x' is not defined",
     "output_type": "error",
     "traceback": [
      "\u001b[1;31m---------------------------------------------------------------------------\u001b[0m",
      "\u001b[1;31mNameError\u001b[0m                                 Traceback (most recent call last)",
      "\u001b[1;32mc:\\Users\\ge37voy\\Github\\InSituPy\\notebooks\\dev\\04_InSituPy_demo_annotations_widget_tests.ipynb Cell 24\u001b[0m line \u001b[0;36m1\n\u001b[1;32m----> <a href='vscode-notebook-cell:/c%3A/Users/ge37voy/Github/InSituPy/notebooks/dev/04_InSituPy_demo_annotations_widget_tests.ipynb#X31sZmlsZQ%3D%3D?line=0'>1</a>\u001b[0m parse(pat, x)\u001b[39m.\u001b[39mnamed\n",
      "\u001b[1;31mNameError\u001b[0m: name 'x' is not defined"
     ]
    }
   ],
   "source": [
    "parse(pat, x).named"
   ]
  },
  {
   "cell_type": "code",
   "execution_count": 23,
   "id": "93cec263",
   "metadata": {},
   "outputs": [],
   "source": [
    "parse(pat, \"blubb\")"
   ]
  },
  {
   "cell_type": "code",
   "execution_count": null,
   "id": "c19d9c7e",
   "metadata": {},
   "outputs": [],
   "source": []
  },
  {
   "cell_type": "code",
   "execution_count": 51,
   "id": "7c425c46",
   "metadata": {},
   "outputs": [
    {
     "data": {
      "text/plain": [
       "Selection({<Shapes layer 'Other (demo2)' at 0x2bbf5bc8100>, <Shapes layer 'Positive (demo2)' at 0x2bbe3746190>})"
      ]
     },
     "execution_count": 51,
     "metadata": {},
     "output_type": "execute_result"
    }
   ],
   "source": [
    "ll.selection"
   ]
  },
  {
   "cell_type": "code",
   "execution_count": 33,
   "id": "380148f7",
   "metadata": {},
   "outputs": [],
   "source": [
    "sel = ll.selection"
   ]
  },
  {
   "cell_type": "code",
   "execution_count": null,
   "id": "e2138912",
   "metadata": {},
   "outputs": [
    {
     "data": {
      "text/plain": [
       "1"
      ]
     },
     "execution_count": 54,
     "metadata": {},
     "output_type": "execute_result"
    }
   ],
   "source": [
    "len(sel)"
   ]
  },
  {
   "cell_type": "code",
   "execution_count": 43,
   "id": "0e036776",
   "metadata": {},
   "outputs": [],
   "source": [
    "sh = list(sel)[0]"
   ]
  },
  {
   "cell_type": "code",
   "execution_count": 46,
   "id": "6b905df4",
   "metadata": {},
   "outputs": [
    {
     "data": {
      "text/plain": [
       "[array([[ 9688.22942556, 16895.30604434],\n",
       "        [10104.80363213, 16697.98142018],\n",
       "        [10499.45288046, 16610.28158722],\n",
       "        [10959.87700351, 16588.35662898],\n",
       "        [11201.05154416, 16610.28158722],\n",
       "        [11442.2260848 , 16785.68125314],\n",
       "        [11617.62575073, 17114.55562675],\n",
       "        [11639.55070897, 17333.80520915],\n",
       "        [11508.00095952, 17640.75462452],\n",
       "        [11398.37616832, 17860.00420693],\n",
       "        [11113.35171119, 18123.10370582],\n",
       "        [10806.40229582, 18232.72849702],\n",
       "        [10565.22775518, 18232.72849702],\n",
       "        [10302.12825629, 18123.10370582],\n",
       "        [10039.0287574 , 17969.62899813],\n",
       "        [ 9863.62909148, 17662.67958276],\n",
       "        [ 9797.85421676, 17399.58008388]]),\n",
       " array([[12099.97483202, 18517.75295415],\n",
       "        [12341.14937266, 18386.2032047 ],\n",
       "        [12976.97316164, 18254.65345526],\n",
       "        [13283.92257701, 18320.42832998],\n",
       "        [13459.32224293, 18561.60287063],\n",
       "        [13481.24720117, 18846.62732775],\n",
       "        [13327.77249349, 19065.87691016],\n",
       "        [13042.74803636, 19219.35161784],\n",
       "        [12757.72357924, 19285.12649257],\n",
       "        [12165.74970674, 19285.12649257]]),\n",
       " array([[14752.89477913, 18890.47724424],\n",
       "        [14950.21940329, 18715.07757831],\n",
       "        [15432.56848459, 18495.82799591],\n",
       "        [15761.44285819, 18408.12816294],\n",
       "        [16024.54235708, 18451.97807942],\n",
       "        [16265.71689773, 18693.15262007],\n",
       "        [16353.41673069, 19197.4266596 ],\n",
       "        [16287.64185597, 19548.22599145],\n",
       "        [16112.24219004, 19745.55061562],\n",
       "        [15739.51789995, 19964.80019802],\n",
       "        [15476.41840107, 20052.50003099],\n",
       "        [14928.29444505, 19789.4005321 ]]),\n",
       " array([[15733.74734132, 16613.42910733],\n",
       "        [15920.99069482, 16531.51014017],\n",
       "        [16307.18011141, 16484.6993018 ],\n",
       "        [16786.99120475, 16578.32097855],\n",
       "        [17079.5589446 , 16952.80768555],\n",
       "        [17149.77520216, 17338.99710214],\n",
       "        [17079.5589446 , 17491.13232686],\n",
       "        [16927.42371988, 17561.34858442],\n",
       "        [16658.26139922, 17584.75400361],\n",
       "        [16365.69365938, 17549.64587483],\n",
       "        [16190.15301547, 17479.42961726]]),\n",
       " array([[17278.50500769, 17736.88922833],\n",
       "        [17372.12668444, 17654.97026117],\n",
       "        [17641.28900509, 17549.64587483],\n",
       "        [17840.23506819, 17549.64587483],\n",
       "        [18214.72177518, 17783.7000667 ],\n",
       "        [18366.8569999 , 18099.67322573],\n",
       "        [18401.96512868, 18450.75451354],\n",
       "        [18331.74887112, 18567.78160948],\n",
       "        [18203.01906559, 18673.10599582],\n",
       "        [18015.77571209, 18719.9168342 ],\n",
       "        [17805.1269394 , 18719.9168342 ],\n",
       "        [17582.77545712, 18614.59244785],\n",
       "        [17489.15378037, 18532.6734807 ],\n",
       "        [17430.64023241, 18403.94367517]]),\n",
       " array([[13400.97108015, 16519.51478787],\n",
       "        [14237.72651601, 16360.81979141],\n",
       "        [14540.68969107, 16606.07569503],\n",
       "        [14771.51877682, 17154.2947737 ],\n",
       "        [14728.23832324, 17457.25794875],\n",
       "        [14598.3969625 , 17543.81885591],\n",
       "        [14295.43378745, 17615.95294521],\n",
       "        [13963.61697668, 17587.09930949],\n",
       "        [13559.66607661, 17486.11158447],\n",
       "        [13386.54426229, 17385.12385945],\n",
       "        [13285.55653727, 17255.28249871]]),\n",
       " array([[13718.36107306, 20357.04833854],\n",
       "        [14165.59242671, 20270.48743138],\n",
       "        [14728.23832324, 20919.69423507],\n",
       "        [14641.67741608, 21193.8037744 ],\n",
       "        [14454.12878391, 21366.92558872],\n",
       "        [14281.00696959, 21482.3401316 ],\n",
       "        [13992.4706124 , 21525.62058518],\n",
       "        [13819.34879808, 21525.62058518],\n",
       "        [13588.51971233, 21410.2060423 ],\n",
       "        [13487.53198731, 21164.95013868]]),\n",
       " array([[16863.40736647, 19448.15881338],\n",
       "        [17007.67554507, 19318.31745265],\n",
       "        [17411.62644514, 19260.61018121],\n",
       "        [17830.00416307, 19433.73199552],\n",
       "        [18147.39415598, 19765.5488063 ],\n",
       "        [18291.66233458, 20227.20697781],\n",
       "        [18262.80869886, 20429.18242784],\n",
       "        [18060.83324883, 20573.45060644],\n",
       "        [17743.44325591, 20645.58469574],\n",
       "        [17281.7850844 , 20573.45060644],\n",
       "        [17079.80963437, 20443.6092457 ]])]"
      ]
     },
     "execution_count": 46,
     "metadata": {},
     "output_type": "execute_result"
    }
   ],
   "source": [
    "sh.data"
   ]
  },
  {
   "cell_type": "code",
   "execution_count": 53,
   "id": "cd291b90",
   "metadata": {},
   "outputs": [
    {
     "data": {
      "text/plain": [
       "<Shapes layer 'class' at 0x259a807ce80>"
      ]
     },
     "execution_count": 53,
     "metadata": {},
     "output_type": "execute_result"
    }
   ],
   "source": [
    "xd.viewer.add_shapes([], name=\"class\")"
   ]
  },
  {
   "cell_type": "code",
   "execution_count": 49,
   "id": "8f446e4c",
   "metadata": {},
   "outputs": [
    {
     "data": {
      "text/plain": [
       "117.30000000000001"
      ]
     },
     "execution_count": 49,
     "metadata": {},
     "output_type": "execute_result"
    }
   ],
   "source": [
    "0.46*255"
   ]
  },
  {
   "cell_type": "code",
   "execution_count": 50,
   "id": "e110acfb",
   "metadata": {},
   "outputs": [
    {
     "data": {
      "text/plain": [
       "array([[1.        , 1.        , 1.        , 1.        ],\n",
       "       [0.        , 0.33333334, 1.        , 1.        ],\n",
       "       [0.        , 0.33333334, 1.        , 1.        ],\n",
       "       [0.        , 0.33333334, 1.        , 1.        ],\n",
       "       [0.        , 0.33333334, 1.        , 1.        ],\n",
       "       [0.        , 0.        , 0.        , 1.        ],\n",
       "       [0.        , 0.        , 0.        , 0.        ],\n",
       "       [0.        , 0.        , 0.        , 0.        ]])"
      ]
     },
     "execution_count": 50,
     "metadata": {},
     "output_type": "execute_result"
    }
   ],
   "source": [
    "sh.face_color"
   ]
  },
  {
   "cell_type": "code",
   "execution_count": 48,
   "id": "d9896095",
   "metadata": {},
   "outputs": [
    {
     "data": {
      "text/plain": [
       "array([[0.46666667, 0.46666667, 0.46666667, 1.        ],\n",
       "       [0.46666667, 0.46666667, 0.46666667, 1.        ],\n",
       "       [1.        , 0.        , 0.        , 1.        ],\n",
       "       [1.        , 0.        , 0.        , 1.        ],\n",
       "       [1.        , 0.        , 0.        , 1.        ],\n",
       "       [1.        , 0.        , 0.        , 1.        ],\n",
       "       [1.        , 0.        , 0.        , 1.        ],\n",
       "       [1.        , 0.        , 0.        , 1.        ]])"
      ]
     },
     "execution_count": 48,
     "metadata": {},
     "output_type": "execute_result"
    }
   ],
   "source": [
    "sh.edge_color"
   ]
  },
  {
   "cell_type": "code",
   "execution_count": 31,
   "id": "3d127d70",
   "metadata": {},
   "outputs": [],
   "source": [
    "sel.active"
   ]
  },
  {
   "cell_type": "code",
   "execution_count": null,
   "id": "25015af3",
   "metadata": {},
   "outputs": [],
   "source": [
    "xd.viewer.add_shapes(\n",
    "    \n",
    ")"
   ]
  },
  {
   "cell_type": "code",
   "execution_count": 18,
   "id": "54166f8c",
   "metadata": {},
   "outputs": [
    {
     "data": {
      "text/plain": [
       "set()"
      ]
     },
     "execution_count": 18,
     "metadata": {},
     "output_type": "execute_result"
    }
   ],
   "source": []
  },
  {
   "cell_type": "code",
   "execution_count": 92,
   "id": "316c6426",
   "metadata": {},
   "outputs": [],
   "source": [
    "xd.show(annotation_labels=\"demo2\")"
   ]
  },
  {
   "cell_type": "markdown",
   "id": "89e5650a",
   "metadata": {},
   "source": [
    "## Save results\n",
    "\n",
    "The cropped and/or processed data can be saved into a folder using the `.save()` function of `XeniumData`.\n",
    "\n",
    "The resulting folder has following structure:\n",
    "```\n",
    "with_annotations\n",
    "│   xenium.json\n",
    "│   xeniumdata.json\n",
    "│\n",
    "├───annotations\n",
    "│       demo.geojson\n",
    "│\n",
    "├───boundaries\n",
    "│       cells.parquet\n",
    "│       nuclei.parquet\n",
    "│\n",
    "├───images\n",
    "│       morphology_focus.ome.tif\n",
    "│       slide_id__sample_id__CD20__registered.ome.tif\n",
    "│       slide_id__sample_id__HER2__registered.ome.tif\n",
    "│       slide_id__sample_id__HE__registered.ome.tif\n",
    "│\n",
    "├───matrix\n",
    "│       matrix.h5ad\n",
    "│\n",
    "└───transcripts\n",
    "        transcripts.parquet\n",
    "```"
   ]
  },
  {
   "cell_type": "code",
   "execution_count": 8,
   "id": "49f29bb8",
   "metadata": {},
   "outputs": [],
   "source": [
    "out_dir = data_dir / \"with_annotations\"\n",
    "xd.save(out_dir, overwrite=True)"
   ]
  },
  {
   "cell_type": "code",
   "execution_count": 9,
   "id": "23e48757",
   "metadata": {},
   "outputs": [],
   "source": [
    "xd_reloaded = XeniumData(out_dir)"
   ]
  },
  {
   "cell_type": "code",
   "execution_count": 10,
   "id": "e1c75bb8",
   "metadata": {},
   "outputs": [
    {
     "data": {
      "text/plain": [
       "\u001b[1m\u001b[31mXeniumData\u001b[0m\n",
       "\u001b[1mSlide ID:\u001b[0m\tslide_id\n",
       "\u001b[1mSample ID:\u001b[0m\tsample_id\n",
       "\u001b[1mData path:\u001b[0m\tdemo_dataset\n",
       "\u001b[1mData folder:\u001b[0m\twith_annotations\n",
       "\u001b[1mMetadata file:\u001b[0m\txeniumdata.json"
      ]
     },
     "execution_count": 10,
     "metadata": {},
     "output_type": "execute_result"
    }
   ],
   "source": [
    "xd_reloaded"
   ]
  },
  {
   "cell_type": "code",
   "execution_count": 15,
   "id": "6eb3c05f",
   "metadata": {},
   "outputs": [
    {
     "name": "stdout",
     "output_type": "stream",
     "text": [
      "Reading annotations...\n",
      "[WindowsPath('demo_dataset/with_annotations/annotations/demo.geojson')]\n",
      "No `boundaries` modality found.\n",
      "No `images` modality found.\n",
      "No `matrix` modality found.\n",
      "No `transcripts` modality found.\n"
     ]
    }
   ],
   "source": [
    "xd_reloaded.read_all()"
   ]
  },
  {
   "cell_type": "markdown",
   "id": "0d041cd6-06ff-4fbf-8785-db5f057c9dab",
   "metadata": {},
   "source": [
    "## Widget testing"
   ]
  },
  {
   "cell_type": "code",
   "execution_count": 37,
   "id": "3e36ea4f",
   "metadata": {},
   "outputs": [],
   "source": [
    "from magicgui import magic_factory\n",
    "from napari_plugin_engine import napari_hook_implementation\n",
    "\n",
    "@magic_factory(auto_call=True, threshold={'max': 2 ** 16})\n",
    "def threshold(\n",
    "    data: 'napari.types.ImageData', threshold: int\n",
    ") -> 'napari.types.LabelsData':\n",
    "    return (data > threshold).astype(int)\n",
    "\n",
    "@napari_hook_implementation\n",
    "def napari_experimental_provide_dock_widget():\n",
    "    return threshold"
   ]
  },
  {
   "cell_type": "code",
   "execution_count": 38,
   "id": "286bfe1b",
   "metadata": {},
   "outputs": [
    {
     "name": "stderr",
     "output_type": "stream",
     "text": [
      "WARNING: QWindowsWindow::setGeometry: Unable to set geometry 2172x1310+380+206 (frame: 2194x1366+369+161) on QWidgetWindow/\"_QtMainWindowClassWindow\" on \"\\\\.\\DISPLAY1\". Resulting geometry: 3260x1968+383+220 (frame: 3282x2024+372+175) margins: 11, 45, 11, 11 minimum size: 385x492 MINMAXINFO maxSize=0,0 maxpos=0,0 mintrack=792,1040 maxtrack=0,0)\n"
     ]
    }
   ],
   "source": [
    "import napari\n",
    "import numpy as np\n",
    "from magicgui import magicgui, magic_factory\n",
    "\n",
    "\n",
    "@magic_factory(call_button='Do Something')\n",
    "def my_widget(vertical: bool = True, label: str = 'Dummy'):\n",
    "    pass\n",
    "\n",
    "data = np.random.random((10,128,128))\n",
    "viewer = napari.view_image(data)\n",
    "widget = my_widget()\n",
    "viewer.window.add_dock_widget(widget)\n",
    "napari.run()\n"
   ]
  },
  {
   "cell_type": "code",
   "execution_count": 35,
   "id": "bfa148d8",
   "metadata": {},
   "outputs": [
    {
     "name": "stderr",
     "output_type": "stream",
     "text": [
      "WARNING: QWindowsWindow::setGeometry: Unable to set geometry 2172x1310+380+220 (frame: 2194x1366+369+175) on QWidgetWindow/\"_QtMainWindowClassWindow\" on \"\\\\.\\DISPLAY1\". Resulting geometry: 3260x1968+383+234 (frame: 3282x2024+372+189) margins: 11, 45, 11, 11 minimum size: 385x492 MINMAXINFO maxSize=0,0 maxpos=0,0 mintrack=792,1040 maxtrack=0,0)\n"
     ]
    },
    {
     "ename": "RuntimeError",
     "evalue": "wrapped C/C++ object of type QWidget has been deleted",
     "output_type": "error",
     "traceback": [
      "\u001b[1;31m---------------------------------------------------------------------------\u001b[0m",
      "\u001b[1;31mRuntimeError\u001b[0m                              Traceback (most recent call last)",
      "\u001b[1;32mc:\\Users\\ge37voy\\Github\\InSituPy\\notebooks\\dev\\04_InSituPy_demo_annotations_widget_tests.ipynb Cell 16\u001b[0m line \u001b[0;36m2\n\u001b[0;32m      <a href='vscode-notebook-cell:/c%3A/Users/ge37voy/Github/InSituPy/notebooks/dev/04_InSituPy_demo_annotations_widget_tests.ipynb#X55sZmlsZQ%3D%3D?line=0'>1</a>\u001b[0m viewer2 \u001b[39m=\u001b[39m napari\u001b[39m.\u001b[39mview_image(data)\n\u001b[1;32m----> <a href='vscode-notebook-cell:/c%3A/Users/ge37voy/Github/InSituPy/notebooks/dev/04_InSituPy_demo_annotations_widget_tests.ipynb#X55sZmlsZQ%3D%3D?line=1'>2</a>\u001b[0m viewer2\u001b[39m.\u001b[39;49mwindow\u001b[39m.\u001b[39;49madd_dock_widget(widget)\n\u001b[0;32m      <a href='vscode-notebook-cell:/c%3A/Users/ge37voy/Github/InSituPy/notebooks/dev/04_InSituPy_demo_annotations_widget_tests.ipynb#X55sZmlsZQ%3D%3D?line=2'>3</a>\u001b[0m napari\u001b[39m.\u001b[39mrun()\n",
      "File \u001b[1;32mc:\\Users\\ge37voy\\AppData\\Local\\miniconda3\\envs\\insitupy\\lib\\site-packages\\napari\\_qt\\qt_main_window.py:923\u001b[0m, in \u001b[0;36mWindow.add_dock_widget\u001b[1;34m(self, widget, name, area, allowed_areas, shortcut, add_vertical_stretch, tabify, menu)\u001b[0m\n\u001b[0;32m    913\u001b[0m     dock_widget \u001b[39m=\u001b[39m QtViewerDockWidget(\n\u001b[0;32m    914\u001b[0m         \u001b[39mself\u001b[39m\u001b[39m.\u001b[39m_qt_viewer,\n\u001b[0;32m    915\u001b[0m         widget,\n\u001b[1;32m   (...)\u001b[0m\n\u001b[0;32m    920\u001b[0m         add_vertical_stretch\u001b[39m=\u001b[39madd_vertical_stretch,\n\u001b[0;32m    921\u001b[0m     )\n\u001b[0;32m    922\u001b[0m \u001b[39melse\u001b[39;00m:\n\u001b[1;32m--> 923\u001b[0m     dock_widget \u001b[39m=\u001b[39m QtViewerDockWidget(\n\u001b[0;32m    924\u001b[0m         \u001b[39mself\u001b[39;49m\u001b[39m.\u001b[39;49m_qt_viewer,\n\u001b[0;32m    925\u001b[0m         widget,\n\u001b[0;32m    926\u001b[0m         name\u001b[39m=\u001b[39;49mname,\n\u001b[0;32m    927\u001b[0m         area\u001b[39m=\u001b[39;49marea,\n\u001b[0;32m    928\u001b[0m         allowed_areas\u001b[39m=\u001b[39;49mallowed_areas,\n\u001b[0;32m    929\u001b[0m         add_vertical_stretch\u001b[39m=\u001b[39;49madd_vertical_stretch,\n\u001b[0;32m    930\u001b[0m     )\n\u001b[0;32m    932\u001b[0m \u001b[39mself\u001b[39m\u001b[39m.\u001b[39m_add_viewer_dock_widget(dock_widget, tabify\u001b[39m=\u001b[39mtabify, menu\u001b[39m=\u001b[39mmenu)\n\u001b[0;32m    934\u001b[0m \u001b[39mif\u001b[39;00m \u001b[39mhasattr\u001b[39m(widget, \u001b[39m'\u001b[39m\u001b[39mreset_choices\u001b[39m\u001b[39m'\u001b[39m):\n\u001b[0;32m    935\u001b[0m     \u001b[39m# Keep the dropdown menus in the widget in sync with the layer model\u001b[39;00m\n\u001b[0;32m    936\u001b[0m     \u001b[39m# if widget has a `reset_choices`, which is true for all magicgui\u001b[39;00m\n\u001b[0;32m    937\u001b[0m     \u001b[39m# `CategoricalWidget`s\u001b[39;00m\n",
      "File \u001b[1;32mc:\\Users\\ge37voy\\AppData\\Local\\miniconda3\\envs\\insitupy\\lib\\site-packages\\napari\\_qt\\widgets\\qt_viewer_dock_widget.py:142\u001b[0m, in \u001b[0;36mQtViewerDockWidget.__init__\u001b[1;34m(self, qt_viewer, widget, name, area, allowed_areas, shortcut, object_name, add_vertical_stretch, close_btn)\u001b[0m\n\u001b[0;32m    140\u001b[0m is_vertical \u001b[39m=\u001b[39m area \u001b[39min\u001b[39;00m {\u001b[39m'\u001b[39m\u001b[39mleft\u001b[39m\u001b[39m'\u001b[39m, \u001b[39m'\u001b[39m\u001b[39mright\u001b[39m\u001b[39m'\u001b[39m}\n\u001b[0;32m    141\u001b[0m widget \u001b[39m=\u001b[39m combine_widgets(widget, vertical\u001b[39m=\u001b[39mis_vertical)\n\u001b[1;32m--> 142\u001b[0m \u001b[39mself\u001b[39;49m\u001b[39m.\u001b[39;49msetWidget(widget)\n\u001b[0;32m    143\u001b[0m \u001b[39mif\u001b[39;00m is_vertical \u001b[39mand\u001b[39;00m add_vertical_stretch:\n\u001b[0;32m    144\u001b[0m     \u001b[39mself\u001b[39m\u001b[39m.\u001b[39m_maybe_add_vertical_stretch(widget)\n",
      "File \u001b[1;32mc:\\Users\\ge37voy\\AppData\\Local\\miniconda3\\envs\\insitupy\\lib\\site-packages\\napari\\_qt\\widgets\\qt_viewer_dock_widget.py:299\u001b[0m, in \u001b[0;36mQtViewerDockWidget.setWidget\u001b[1;34m(self, widget)\u001b[0m\n\u001b[0;32m    297\u001b[0m \u001b[39mdef\u001b[39;00m \u001b[39msetWidget\u001b[39m(\u001b[39mself\u001b[39m, widget):\n\u001b[0;32m    298\u001b[0m     widget\u001b[39m.\u001b[39m_parent \u001b[39m=\u001b[39m \u001b[39mself\u001b[39m\n\u001b[1;32m--> 299\u001b[0m     \u001b[39mself\u001b[39;49m\u001b[39m.\u001b[39;49msetFocusProxy(widget)\n\u001b[0;32m    300\u001b[0m     \u001b[39msuper\u001b[39m()\u001b[39m.\u001b[39msetWidget(widget)\n",
      "\u001b[1;31mRuntimeError\u001b[0m: wrapped C/C++ object of type QWidget has been deleted"
     ]
    }
   ],
   "source": [
    "viewer2 = napari.view_image(data)\n",
    "widget = my_widget()\n",
    "viewer2.window.add_dock_widget(widget)\n",
    "napari.run()"
   ]
  },
  {
   "cell_type": "code",
   "execution_count": null,
   "id": "d3442f7b",
   "metadata": {},
   "outputs": [
    {
     "name": "stderr",
     "output_type": "stream",
     "text": [
      "WARNING: QWindowsWindow::setGeometry: Unable to set geometry 2172x1310+380+304 (frame: 2194x1366+369+259) on QWidgetWindow/\"_QtMainWindowClassWindow\" on \"\\\\.\\DISPLAY1\". Resulting geometry: 3260x1968+383+318 (frame: 3282x2024+372+273) margins: 11, 45, 11, 11 minimum size: 385x492 MINMAXINFO maxSize=0,0 maxpos=0,0 mintrack=792,1040 maxtrack=0,0)\n"
     ]
    }
   ],
   "source": [
    "import napari\n",
    "import numpy as np\n",
    "from magicgui import magicgui\n",
    "from magicgui.widgets import FunctionGui\n",
    "\n",
    "\n",
    "def initialize_widget() -> FunctionGui:     \n",
    "    @magicgui(call_button='Do Something')\n",
    "    def my_widget(vertical: bool = True, label: str = 'Dummy'):\n",
    "        pass\n",
    "    return my_widget\n",
    "\n",
    "data = np.random.random((10,128,128))\n",
    "viewer = napari.view_image(data)\n",
    "my_widget = initialize_widget()\n",
    "viewer.window.add_dock_widget(my_widget)\n",
    "napari.run()\n"
   ]
  },
  {
   "cell_type": "code",
   "execution_count": 29,
   "id": "53850e81",
   "metadata": {},
   "outputs": [
    {
     "name": "stderr",
     "output_type": "stream",
     "text": [
      "WARNING: QWindowsWindow::setGeometry: Unable to set geometry 2172x1310+380+290 (frame: 2194x1366+369+245) on QWidgetWindow/\"_QtMainWindowClassWindow\" on \"\\\\.\\DISPLAY1\". Resulting geometry: 3260x1968+383+304 (frame: 3282x2024+372+259) margins: 11, 45, 11, 11 minimum size: 385x492 MINMAXINFO maxSize=0,0 maxpos=0,0 mintrack=792,1040 maxtrack=0,0)\n"
     ]
    }
   ],
   "source": [
    "viewer2 = napari.view_image(data)\n",
    "my_widget = initialize_widget()\n",
    "viewer2.window.add_dock_widget(my_widget)\n",
    "napari.run()"
   ]
  }
 ],
 "metadata": {
  "kernelspec": {
   "display_name": "insitupy",
   "language": "python",
   "name": "python3"
  },
  "language_info": {
   "codemirror_mode": {
    "name": "ipython",
    "version": 3
   },
   "file_extension": ".py",
   "mimetype": "text/x-python",
   "name": "python",
   "nbconvert_exporter": "python",
   "pygments_lexer": "ipython3",
   "version": "3.9.18"
  }
 },
 "nbformat": 4,
 "nbformat_minor": 5
}
