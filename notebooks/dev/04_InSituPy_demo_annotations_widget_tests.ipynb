{
 "cells": [
  {
   "cell_type": "markdown",
   "id": "b16df72d-5dd5-47da-a8c3-b569fe97446b",
   "metadata": {
    "tags": []
   },
   "source": [
    "# InSituPy demonstration - Add annotations"
   ]
  },
  {
   "cell_type": "code",
   "execution_count": 1,
   "id": "8bc0c4ed-3587-460e-98d2-6626a020a327",
   "metadata": {},
   "outputs": [],
   "source": [
    "## The following code ensures that all functions and init files are reloaded before executions.\n",
    "%load_ext autoreload\n",
    "%autoreload 2"
   ]
  },
  {
   "cell_type": "code",
   "execution_count": 2,
   "id": "58107e0b-5017-425b-8cd0-9274be2b8253",
   "metadata": {},
   "outputs": [],
   "source": [
    "from pathlib import Path\n",
    "from insitupy import XeniumData"
   ]
  },
  {
   "cell_type": "markdown",
   "id": "db038252",
   "metadata": {},
   "source": [
    "## Previous steps\n",
    "\n",
    "1. Download the example data for demonstration: [01_InSituPy_demo_download_data.ipynb](./01_InSituPy_demo_download_data.ipynb)\n",
    "2. Register images from external stainings: [02_InSituPy_demo_register_images.ipynb](./02_InSituPy_demo_register_images.ipynb)\n",
    "3. Visualize data with napari and do preprocessing steps: [03_InSituPy_demo_analyze.ipynb](./03_InSituPy_demo_analyze.ipynb)\n",
    "\n",
    "At this point, the structure of the data should look like this:\n",
    "\n",
    "    ```\n",
    "    ./demo_dataset\n",
    "    ├───cropped_processed\n",
    "    ├───output-XETG00000__slide_id__sample_id\n",
    "    │   ├───analysis\n",
    "    │   │   ├───clustering\n",
    "    │   │   ├───diffexp\n",
    "    │   │   ├───pca\n",
    "    │   │   ├───tsne\n",
    "    │   │   └───umap\n",
    "    │   └───cell_feature_matrix\n",
    "    ├───registered_images\n",
    "    ├───registration_qc\n",
    "    └───unregistered_images\n",
    "    ```\n"
   ]
  },
  {
   "cell_type": "markdown",
   "id": "ae409a19",
   "metadata": {},
   "source": [
    "## Load Xenium data into `XeniumData` object\n",
    "\n",
    "Now the Xenium data can be parsed by providing the data path to `XeniumData`"
   ]
  },
  {
   "cell_type": "code",
   "execution_count": 3,
   "id": "2db31fb9",
   "metadata": {},
   "outputs": [],
   "source": [
    "# prepare paths\n",
    "data_dir = Path(\"../demo_dataset\") # output directory\n",
    "xenium_dir = data_dir / \"output-XETG00000__slide_id__sample_id\" # directory of xenium data\n",
    "image_dir = data_dir / \"unregistered_images\" # directory of images"
   ]
  },
  {
   "cell_type": "code",
   "execution_count": 23,
   "id": "188ddb98",
   "metadata": {},
   "outputs": [],
   "source": [
    "xd = XeniumData(xenium_dir)"
   ]
  },
  {
   "cell_type": "code",
   "execution_count": 24,
   "id": "22afdac4",
   "metadata": {},
   "outputs": [
    {
     "data": {
      "text/plain": [
       "\u001b[1m\u001b[31mXeniumData\u001b[0m\n",
       "\u001b[1mSlide ID:\u001b[0m\tslide_id\n",
       "\u001b[1mSample ID:\u001b[0m\tsample_id\n",
       "\u001b[1mData path:\u001b[0m\t..\\demo_dataset\n",
       "\u001b[1mData folder:\u001b[0m\toutput-XETG00000__slide_id__sample_id\n",
       "\u001b[1mMetadata file:\u001b[0m\texperiment_modified.xenium"
      ]
     },
     "execution_count": 24,
     "metadata": {},
     "output_type": "execute_result"
    }
   ],
   "source": [
    "xd"
   ]
  },
  {
   "cell_type": "code",
   "execution_count": 25,
   "id": "e0ec9d39",
   "metadata": {},
   "outputs": [
    {
     "name": "stdout",
     "output_type": "stream",
     "text": [
      "No `annotations` modality found.\n",
      "Reading boundaries...\n",
      "Reading images...\n",
      "Reading matrix...\n",
      "Reading transcripts...\n"
     ]
    }
   ],
   "source": [
    "# read all data modalities at once\n",
    "xd.read_all()\n",
    "\n",
    "# alternatively, it is also possible to read each modality separately\n",
    "# xd.read_matrix()\n",
    "# xd.read_images()\n",
    "# xd.read_boundaries()\n",
    "# xd.read_transcripts()\n",
    "# xd.read_annotations()"
   ]
  },
  {
   "cell_type": "markdown",
   "id": "a7cc74ee",
   "metadata": {},
   "source": [
    "Note: That the `annotations` modality is not found here is expected. Annotations are added in a later step."
   ]
  },
  {
   "cell_type": "code",
   "execution_count": 26,
   "id": "7a864387",
   "metadata": {},
   "outputs": [
    {
     "data": {
      "text/plain": [
       "\u001b[1m\u001b[31mXeniumData\u001b[0m\n",
       "\u001b[1mSlide ID:\u001b[0m\tslide_id\n",
       "\u001b[1mSample ID:\u001b[0m\tsample_id\n",
       "\u001b[1mData path:\u001b[0m\t..\\demo_dataset\n",
       "\u001b[1mData folder:\u001b[0m\toutput-XETG00000__slide_id__sample_id\n",
       "\u001b[1mMetadata file:\u001b[0m\texperiment_modified.xenium\n",
       "    ➤ \u001b[34m\u001b[1mimages\u001b[0m\n",
       "       \u001b[1mnuclei:\u001b[0m\t(25778, 35416)\n",
       "       \u001b[1mCD20:\u001b[0m\t(25778, 35416)\n",
       "       \u001b[1mHER2:\u001b[0m\t(25778, 35416)\n",
       "       \u001b[1mHE:\u001b[0m\t(25778, 35416, 3)\n",
       "    ➤\u001b[32m\u001b[1m matrix\u001b[0m\n",
       "       AnnData object with n_obs × n_vars = 167780 × 313\n",
       "\t       obs: 'transcript_counts', 'control_probe_counts', 'control_codeword_counts', 'total_counts', 'cell_area', 'nucleus_area'\n",
       "\t       var: 'gene_ids', 'feature_types', 'genome'\n",
       "\t       obsm: 'spatial'\n",
       "    ➤\u001b[96m\u001b[1m transcripts\u001b[0m\n",
       "\t   DataFrame with shape 42638083 x 8\n",
       "    ➤ \u001b[95m\u001b[1mboundaries\u001b[0m\n",
       "       \u001b[1mcells\u001b[0m\n",
       "       \u001b[1mnuclei\u001b[0m"
      ]
     },
     "execution_count": 26,
     "metadata": {},
     "output_type": "execute_result"
    }
   ],
   "source": [
    "xd"
   ]
  },
  {
   "cell_type": "markdown",
   "id": "93df8c95",
   "metadata": {},
   "source": [
    "## Load annotations\n",
    "\n",
    "For the analysis of spatial transcriptomic datasets the inclusion of annotations from experts of disease pathology is key. Here, we demonstrate how to annotate data in [QuPath](https://qupath.github.io/), export the annotations as `.geojson` file and import them into the `XeniumData` object.\n",
    "\n",
    "### Create annotations in QuPath\n",
    "\n",
    "To create annotations in QuPath, follow these steps:\n",
    "\n",
    "1. Select a annotation tool from the bar on the top left:\n",
    "\n",
    "<center><img src=\"./demo_annotations/qupath_annotation_buttons.png\"/></center>\n",
    "\n",
    "2. Add as many annotations as you want and label them by setting classes in the annotation list. Do not forget to press the \"Set class\" button:\n",
    "\n",
    "<center><img src=\"./demo_annotations/qupath_annotation_list.png\"/></center>\n",
    "\n",
    "3. Export annotations using `File > Export objects as GeoJSON`. Tick `Pretty JSON` to get an easily readable JSON file. The file name needs to have following structure: `annotation-{slide_id}__{sample_id}__{annotation_label}`.\n",
    "\n",
    "### Import annotations into `XeniumData`\n",
    "\n",
    "For demonstration purposes, we created a dummy annotation file in `./demo_annotations/`. To add the annotations to `XeniumData` follow the steps below.\n",
    "\n"
   ]
  },
  {
   "cell_type": "code",
   "execution_count": 27,
   "id": "76f38add",
   "metadata": {},
   "outputs": [
    {
     "name": "stdout",
     "output_type": "stream",
     "text": [
      "Reading annotations...\n"
     ]
    }
   ],
   "source": [
    "xd.read_annotations(annotation_dir=\"../demo_annotations/\")"
   ]
  },
  {
   "cell_type": "code",
   "execution_count": 28,
   "id": "adad8bf6",
   "metadata": {},
   "outputs": [
    {
     "data": {
      "text/plain": [
       "\u001b[1m\u001b[31mXeniumData\u001b[0m\n",
       "\u001b[1mSlide ID:\u001b[0m\tslide_id\n",
       "\u001b[1mSample ID:\u001b[0m\tsample_id\n",
       "\u001b[1mData path:\u001b[0m\t..\\demo_dataset\n",
       "\u001b[1mData folder:\u001b[0m\toutput-XETG00000__slide_id__sample_id\n",
       "\u001b[1mMetadata file:\u001b[0m\texperiment_modified.xenium\n",
       "    ➤ \u001b[34m\u001b[1mimages\u001b[0m\n",
       "       \u001b[1mnuclei:\u001b[0m\t(25778, 35416)\n",
       "       \u001b[1mCD20:\u001b[0m\t(25778, 35416)\n",
       "       \u001b[1mHER2:\u001b[0m\t(25778, 35416)\n",
       "       \u001b[1mHE:\u001b[0m\t(25778, 35416, 3)\n",
       "    ➤\u001b[32m\u001b[1m matrix\u001b[0m\n",
       "       AnnData object with n_obs × n_vars = 167780 × 313\n",
       "\t       obs: 'transcript_counts', 'control_probe_counts', 'control_codeword_counts', 'total_counts', 'cell_area', 'nucleus_area'\n",
       "\t       var: 'gene_ids', 'feature_types', 'genome'\n",
       "\t       obsm: 'spatial'\n",
       "    ➤\u001b[96m\u001b[1m transcripts\u001b[0m\n",
       "\t   DataFrame with shape 42638083 x 8\n",
       "    ➤ \u001b[95m\u001b[1mboundaries\u001b[0m\n",
       "       \u001b[1mcells\u001b[0m\n",
       "       \u001b[1mnuclei\u001b[0m\n",
       "    ➤ \u001b[36m\u001b[1mannotations\u001b[0m\n",
       "       \u001b[1mdemo:\u001b[0m\t4 annotations, 2 classes ('Positive', 'Negative') \n",
       "       \u001b[1mdemo2:\u001b[0m\t5 annotations, 3 classes ('Negative', 'Positive', 'Other') "
      ]
     },
     "execution_count": 28,
     "metadata": {},
     "output_type": "execute_result"
    }
   ],
   "source": [
    "xd"
   ]
  },
  {
   "cell_type": "code",
   "execution_count": 29,
   "metadata": {},
   "outputs": [
    {
     "data": {
      "text/plain": [
       "{'demo': {'n_annotations': 4,\n",
       "  'classes': array(['Positive', 'Negative'], dtype=object),\n",
       "  'analyzed': ''},\n",
       " 'demo2': {'n_annotations': 5,\n",
       "  'classes': array(['Negative', 'Positive', 'Other'], dtype=object),\n",
       "  'analyzed': ''}}"
      ]
     },
     "execution_count": 29,
     "metadata": {},
     "output_type": "execute_result"
    }
   ],
   "source": [
    "xd.annotations.metadata"
   ]
  },
  {
   "cell_type": "code",
   "execution_count": 30,
   "metadata": {},
   "outputs": [
    {
     "data": {
      "text/html": [
       "<div>\n",
       "<style scoped>\n",
       "    .dataframe tbody tr th:only-of-type {\n",
       "        vertical-align: middle;\n",
       "    }\n",
       "\n",
       "    .dataframe tbody tr th {\n",
       "        vertical-align: top;\n",
       "    }\n",
       "\n",
       "    .dataframe thead th {\n",
       "        text-align: right;\n",
       "    }\n",
       "</style>\n",
       "<table border=\"1\" class=\"dataframe\">\n",
       "  <thead>\n",
       "    <tr style=\"text-align: right;\">\n",
       "      <th></th>\n",
       "      <th>id</th>\n",
       "      <th>objectType</th>\n",
       "      <th>geometry</th>\n",
       "      <th>name</th>\n",
       "      <th>color</th>\n",
       "    </tr>\n",
       "  </thead>\n",
       "  <tbody>\n",
       "    <tr>\n",
       "      <th>0</th>\n",
       "      <td>bd3aacca-1716-4df8-91dd-bf8f6413a7bd</td>\n",
       "      <td>annotation</td>\n",
       "      <td>POLYGON ((8863.00000 10814.00000, 8863.00000 1...</td>\n",
       "      <td>Positive</td>\n",
       "      <td>[250, 62, 62]</td>\n",
       "    </tr>\n",
       "    <tr>\n",
       "      <th>1</th>\n",
       "      <td>69814505-4059-42cd-8df2-752f7eb0810d</td>\n",
       "      <td>annotation</td>\n",
       "      <td>POLYGON ((13096.00000 12492.00000, 13072.40000...</td>\n",
       "      <td>Positive</td>\n",
       "      <td>[250, 62, 62]</td>\n",
       "    </tr>\n",
       "    <tr>\n",
       "      <th>2</th>\n",
       "      <td>1957cd32-0a21-4b45-9dae-ecf236217140</td>\n",
       "      <td>annotation</td>\n",
       "      <td>POLYGON ((30975.26000 22938.00000, 30982.00000...</td>\n",
       "      <td>Negative</td>\n",
       "      <td>[112, 112, 225]</td>\n",
       "    </tr>\n",
       "    <tr>\n",
       "      <th>3</th>\n",
       "      <td>19d2197a-1b8e-456f-8223-fba74641ac1c</td>\n",
       "      <td>annotation</td>\n",
       "      <td>POLYGON ((31165.00000 16408.00000, 31149.00000...</td>\n",
       "      <td>Negative</td>\n",
       "      <td>[112, 112, 225]</td>\n",
       "    </tr>\n",
       "  </tbody>\n",
       "</table>\n",
       "</div>"
      ],
      "text/plain": [
       "                                     id  objectType  \\\n",
       "0  bd3aacca-1716-4df8-91dd-bf8f6413a7bd  annotation   \n",
       "1  69814505-4059-42cd-8df2-752f7eb0810d  annotation   \n",
       "2  1957cd32-0a21-4b45-9dae-ecf236217140  annotation   \n",
       "3  19d2197a-1b8e-456f-8223-fba74641ac1c  annotation   \n",
       "\n",
       "                                            geometry      name  \\\n",
       "0  POLYGON ((8863.00000 10814.00000, 8863.00000 1...  Positive   \n",
       "1  POLYGON ((13096.00000 12492.00000, 13072.40000...  Positive   \n",
       "2  POLYGON ((30975.26000 22938.00000, 30982.00000...  Negative   \n",
       "3  POLYGON ((31165.00000 16408.00000, 31149.00000...  Negative   \n",
       "\n",
       "             color  \n",
       "0    [250, 62, 62]  \n",
       "1    [250, 62, 62]  \n",
       "2  [112, 112, 225]  \n",
       "3  [112, 112, 225]  "
      ]
     },
     "execution_count": 30,
     "metadata": {},
     "output_type": "execute_result"
    }
   ],
   "source": [
    "xd.annotations.demo"
   ]
  },
  {
   "cell_type": "markdown",
   "id": "9d7e2d9d",
   "metadata": {},
   "source": [
    "### Visualize annotations using napari"
   ]
  },
  {
   "cell_type": "code",
   "execution_count": 110,
   "id": "07770607",
   "metadata": {},
   "outputs": [],
   "source": [
    "xd.show(annotation_labels=\"all\")"
   ]
  },
  {
   "cell_type": "code",
   "execution_count": 111,
   "metadata": {},
   "outputs": [
    {
     "data": {
      "text/plain": [
       "{'demo': {'n_annotations': 4,\n",
       "  'classes': array(['Positive', 'Negative'], dtype=object),\n",
       "  'analyzed': ''},\n",
       " 'demo2': {'n_annotations': 5,\n",
       "  'classes': array(['Negative', 'Positive', 'Other'], dtype=object),\n",
       "  'analyzed': ''},\n",
       " 'label': {'n_annotations': 3,\n",
       "  'classes': array(['class'], dtype=object),\n",
       "  'analyzed': ''}}"
      ]
     },
     "execution_count": 111,
     "metadata": {},
     "output_type": "execute_result"
    }
   ],
   "source": [
    "xd.annotations.metadata"
   ]
  },
  {
   "cell_type": "code",
   "execution_count": 112,
   "metadata": {},
   "outputs": [
    {
     "name": "stdout",
     "output_type": "stream",
     "text": [
      "tumor\n",
      "johannes\n"
     ]
    }
   ],
   "source": [
    "xd.store_annotations()"
   ]
  },
  {
   "cell_type": "code",
   "execution_count": 113,
   "metadata": {},
   "outputs": [
    {
     "data": {
      "text/plain": [
       "{'demo': {'n_annotations': 4,\n",
       "  'classes': array(['Positive', 'Negative'], dtype=object),\n",
       "  'analyzed': ''},\n",
       " 'demo2': {'n_annotations': 5,\n",
       "  'classes': array(['Negative', 'Positive', 'Other'], dtype=object),\n",
       "  'analyzed': ''},\n",
       " 'label': {'n_annotations': 3,\n",
       "  'classes': array(['class'], dtype=object),\n",
       "  'analyzed': ''},\n",
       " 'johannes': {'n_annotations': 3,\n",
       "  'classes': array(['tumor'], dtype=object),\n",
       "  'analyzed': ''}}"
      ]
     },
     "execution_count": 113,
     "metadata": {},
     "output_type": "execute_result"
    }
   ],
   "source": [
    "xd.annotations.metadata"
   ]
  },
  {
   "cell_type": "code",
   "execution_count": 114,
   "metadata": {},
   "outputs": [
    {
     "data": {
      "text/plain": [
       "\u001b[1m\u001b[31mXeniumData\u001b[0m\n",
       "\u001b[1mSlide ID:\u001b[0m\tslide_id\n",
       "\u001b[1mSample ID:\u001b[0m\tsample_id\n",
       "\u001b[1mData path:\u001b[0m\t..\\demo_dataset\n",
       "\u001b[1mData folder:\u001b[0m\toutput-XETG00000__slide_id__sample_id\n",
       "\u001b[1mMetadata file:\u001b[0m\texperiment_modified.xenium\n",
       "    ➤ \u001b[34m\u001b[1mimages\u001b[0m\n",
       "       \u001b[1mnuclei:\u001b[0m\t(25778, 35416)\n",
       "       \u001b[1mCD20:\u001b[0m\t(25778, 35416)\n",
       "       \u001b[1mHER2:\u001b[0m\t(25778, 35416)\n",
       "       \u001b[1mHE:\u001b[0m\t(25778, 35416, 3)\n",
       "    ➤\u001b[32m\u001b[1m matrix\u001b[0m\n",
       "       AnnData object with n_obs × n_vars = 167780 × 313\n",
       "\t       obs: 'transcript_counts', 'control_probe_counts', 'control_codeword_counts', 'total_counts', 'cell_area', 'nucleus_area'\n",
       "\t       var: 'gene_ids', 'feature_types', 'genome'\n",
       "\t       obsm: 'spatial'\n",
       "    ➤\u001b[96m\u001b[1m transcripts\u001b[0m\n",
       "\t   DataFrame with shape 42638083 x 8\n",
       "    ➤ \u001b[95m\u001b[1mboundaries\u001b[0m\n",
       "       \u001b[1mcells\u001b[0m\n",
       "       \u001b[1mnuclei\u001b[0m\n",
       "    ➤ \u001b[36m\u001b[1mannotations\u001b[0m\n",
       "       \u001b[1mdemo:\u001b[0m\t4 annotations, 2 classes ('Positive', 'Negative') \n",
       "       \u001b[1mdemo2:\u001b[0m\t5 annotations, 3 classes ('Negative', 'Positive', 'Other') \n",
       "       \u001b[1mlabel:\u001b[0m\t3 annotations, 1 classes ('class',) \n",
       "       \u001b[1mjohannes:\u001b[0m\t3 annotations, 1 classes ('tumor',) "
      ]
     },
     "execution_count": 114,
     "metadata": {},
     "output_type": "execute_result"
    }
   ],
   "source": [
    "xd"
   ]
  },
  {
   "cell_type": "code",
   "execution_count": 100,
   "metadata": {},
   "outputs": [
    {
     "data": {
      "text/plain": [
       "[[1.0, 0.7843137383460999, 0.0, 1.0],\n",
       " [1.0, 0.7843137383460999, 0.0, 1.0],\n",
       " [1.0, 0.7843137383460999, 0.0, 1.0]]"
      ]
     },
     "execution_count": 100,
     "metadata": {},
     "output_type": "execute_result"
    }
   ],
   "source": [
    "dd['color']"
   ]
  },
  {
   "cell_type": "code",
   "execution_count": 101,
   "metadata": {},
   "outputs": [
    {
     "data": {
      "text/plain": [
       "[<POLYGON ((1049.008 1876.72, 1189.24 1792.581, 1483.728 1750.511, 1736.146 1...>,\n",
       " <POLYGON ((1385.565 4793.55, 1539.821 4695.388, 1876.378 4485.04, 2030.633 4...>,\n",
       " <POLYGON ((3811.583 3433.298, 4064.001 3433.298, 4162.163 3629.623, 4106.07 ...>]"
      ]
     },
     "execution_count": 101,
     "metadata": {},
     "output_type": "execute_result"
    }
   ],
   "source": [
    "geo"
   ]
  },
  {
   "cell_type": "code",
   "execution_count": 102,
   "metadata": {},
   "outputs": [],
   "source": [
    "from geopandas import GeoDataFrame"
   ]
  },
  {
   "cell_type": "code",
   "execution_count": 103,
   "metadata": {},
   "outputs": [
    {
     "data": {
      "text/html": [
       "<div>\n",
       "<style scoped>\n",
       "    .dataframe tbody tr th:only-of-type {\n",
       "        vertical-align: middle;\n",
       "    }\n",
       "\n",
       "    .dataframe tbody tr th {\n",
       "        vertical-align: top;\n",
       "    }\n",
       "\n",
       "    .dataframe thead th {\n",
       "        text-align: right;\n",
       "    }\n",
       "</style>\n",
       "<table border=\"1\" class=\"dataframe\">\n",
       "  <thead>\n",
       "    <tr style=\"text-align: right;\">\n",
       "      <th></th>\n",
       "      <th>id</th>\n",
       "      <th>objectType</th>\n",
       "      <th>name</th>\n",
       "      <th>color</th>\n",
       "      <th>geometry</th>\n",
       "    </tr>\n",
       "  </thead>\n",
       "  <tbody>\n",
       "    <tr>\n",
       "      <th>0</th>\n",
       "      <td>6163c188-c9cf-4f39-bbb5-dcb48d70237b</td>\n",
       "      <td>annotation</td>\n",
       "      <td>class</td>\n",
       "      <td>[1.0, 0.7843137383460999, 0.0, 1.0]</td>\n",
       "      <td>POLYGON ((1049.008 1876.720, 1189.240 1792.581...</td>\n",
       "    </tr>\n",
       "    <tr>\n",
       "      <th>1</th>\n",
       "      <td>b3fbc624-7696-450c-bb38-2000454337a3</td>\n",
       "      <td>annotation</td>\n",
       "      <td>class</td>\n",
       "      <td>[1.0, 0.7843137383460999, 0.0, 1.0]</td>\n",
       "      <td>POLYGON ((1385.565 4793.550, 1539.821 4695.388...</td>\n",
       "    </tr>\n",
       "    <tr>\n",
       "      <th>2</th>\n",
       "      <td>6c4d983a-9b30-499a-b678-4a1f6a8ce0a5</td>\n",
       "      <td>annotation</td>\n",
       "      <td>class</td>\n",
       "      <td>[1.0, 0.7843137383460999, 0.0, 1.0]</td>\n",
       "      <td>POLYGON ((3811.583 3433.298, 4064.001 3433.298...</td>\n",
       "    </tr>\n",
       "  </tbody>\n",
       "</table>\n",
       "</div>"
      ],
      "text/plain": [
       "                                     id  objectType   name  \\\n",
       "0  6163c188-c9cf-4f39-bbb5-dcb48d70237b  annotation  class   \n",
       "1  b3fbc624-7696-450c-bb38-2000454337a3  annotation  class   \n",
       "2  6c4d983a-9b30-499a-b678-4a1f6a8ce0a5  annotation  class   \n",
       "\n",
       "                                 color  \\\n",
       "0  [1.0, 0.7843137383460999, 0.0, 1.0]   \n",
       "1  [1.0, 0.7843137383460999, 0.0, 1.0]   \n",
       "2  [1.0, 0.7843137383460999, 0.0, 1.0]   \n",
       "\n",
       "                                            geometry  \n",
       "0  POLYGON ((1049.008 1876.720, 1189.240 1792.581...  \n",
       "1  POLYGON ((1385.565 4793.550, 1539.821 4695.388...  \n",
       "2  POLYGON ((3811.583 3433.298, 4064.001 3433.298...  "
      ]
     },
     "execution_count": 103,
     "metadata": {},
     "output_type": "execute_result"
    }
   ],
   "source": [
    "GeoDataFrame(dd, geometry=geo)"
   ]
  },
  {
   "cell_type": "code",
   "execution_count": 46,
   "metadata": {},
   "outputs": [],
   "source": [
    "v = xd.viewer"
   ]
  },
  {
   "cell_type": "code",
   "execution_count": 47,
   "metadata": {},
   "outputs": [],
   "source": [
    "l = xd.viewer.layers[\"*test (blubb)\"]\n",
    "lold = xd.viewer.layers[\"Other (demo2)\"]\n",
    "ll = xd.viewer.layers"
   ]
  },
  {
   "cell_type": "code",
   "execution_count": 53,
   "metadata": {},
   "outputs": [],
   "source": [
    "d = {\"blubb\": \"test\"}"
   ]
  },
  {
   "cell_type": "code",
   "execution_count": 54,
   "metadata": {},
   "outputs": [
    {
     "data": {
      "text/plain": [
       "1"
      ]
     },
     "execution_count": 54,
     "metadata": {},
     "output_type": "execute_result"
    }
   ],
   "source": [
    "len(d)"
   ]
  },
  {
   "cell_type": "code",
   "execution_count": 38,
   "metadata": {},
   "outputs": [
    {
     "data": {
      "text/plain": [
       "{}"
      ]
     },
     "execution_count": 38,
     "metadata": {},
     "output_type": "execute_result"
    }
   ],
   "source": [
    "l.properties"
   ]
  },
  {
   "cell_type": "code",
   "execution_count": 55,
   "metadata": {},
   "outputs": [
    {
     "name": "stderr",
     "output_type": "stream",
     "text": [
      "[autoreload of insitupy.main failed: Traceback (most recent call last):\n",
      "  File \"c:\\Users\\ge37voy\\AppData\\Local\\miniconda3\\envs\\insitupy\\lib\\site-packages\\IPython\\extensions\\autoreload.py\", line 276, in check\n",
      "    superreload(m, reload, self.old_objects)\n",
      "  File \"c:\\Users\\ge37voy\\AppData\\Local\\miniconda3\\envs\\insitupy\\lib\\site-packages\\IPython\\extensions\\autoreload.py\", line 475, in superreload\n",
      "    module = reload(module)\n",
      "  File \"c:\\Users\\ge37voy\\AppData\\Local\\miniconda3\\envs\\insitupy\\lib\\importlib\\__init__.py\", line 169, in reload\n",
      "    _bootstrap._exec(spec, module)\n",
      "  File \"<frozen importlib._bootstrap>\", line 613, in _exec\n",
      "  File \"<frozen importlib._bootstrap_external>\", line 846, in exec_module\n",
      "  File \"<frozen importlib._bootstrap_external>\", line 983, in get_code\n",
      "  File \"<frozen importlib._bootstrap_external>\", line 913, in source_to_code\n",
      "  File \"<frozen importlib._bootstrap>\", line 228, in _call_with_frames_removed\n",
      "  File \"C:\\Users\\ge37voy\\Github\\InSituPy\\insitupy\\main.py\", line 315\n",
      "    self.annotations = \n",
      "                       ^\n",
      "SyntaxError: invalid syntax\n",
      "]\n"
     ]
    },
    {
     "data": {
      "text/html": [
       "<div>\n",
       "<style scoped>\n",
       "    .dataframe tbody tr th:only-of-type {\n",
       "        vertical-align: middle;\n",
       "    }\n",
       "\n",
       "    .dataframe tbody tr th {\n",
       "        vertical-align: top;\n",
       "    }\n",
       "\n",
       "    .dataframe thead th {\n",
       "        text-align: right;\n",
       "    }\n",
       "</style>\n",
       "<table border=\"1\" class=\"dataframe\">\n",
       "  <thead>\n",
       "    <tr style=\"text-align: right;\">\n",
       "      <th></th>\n",
       "      <th>id</th>\n",
       "      <th>objectType</th>\n",
       "      <th>geometry</th>\n",
       "      <th>name</th>\n",
       "      <th>color</th>\n",
       "    </tr>\n",
       "  </thead>\n",
       "  <tbody>\n",
       "    <tr>\n",
       "      <th>0</th>\n",
       "      <td>bd3aacca-1716-4df8-91dd-bf8f6413a7bd</td>\n",
       "      <td>annotation</td>\n",
       "      <td>POLYGON ((8863.00000 10814.00000, 8863.00000 1...</td>\n",
       "      <td>Positive</td>\n",
       "      <td>[250, 62, 62]</td>\n",
       "    </tr>\n",
       "    <tr>\n",
       "      <th>1</th>\n",
       "      <td>69814505-4059-42cd-8df2-752f7eb0810d</td>\n",
       "      <td>annotation</td>\n",
       "      <td>POLYGON ((13096.00000 12492.00000, 13072.40000...</td>\n",
       "      <td>Positive</td>\n",
       "      <td>[250, 62, 62]</td>\n",
       "    </tr>\n",
       "    <tr>\n",
       "      <th>2</th>\n",
       "      <td>1957cd32-0a21-4b45-9dae-ecf236217140</td>\n",
       "      <td>annotation</td>\n",
       "      <td>POLYGON ((30975.26000 22938.00000, 30982.00000...</td>\n",
       "      <td>Negative</td>\n",
       "      <td>[112, 112, 225]</td>\n",
       "    </tr>\n",
       "    <tr>\n",
       "      <th>3</th>\n",
       "      <td>19d2197a-1b8e-456f-8223-fba74641ac1c</td>\n",
       "      <td>annotation</td>\n",
       "      <td>POLYGON ((31165.00000 16408.00000, 31149.00000...</td>\n",
       "      <td>Negative</td>\n",
       "      <td>[112, 112, 225]</td>\n",
       "    </tr>\n",
       "  </tbody>\n",
       "</table>\n",
       "</div>"
      ],
      "text/plain": [
       "                                     id  objectType  \\\n",
       "0  bd3aacca-1716-4df8-91dd-bf8f6413a7bd  annotation   \n",
       "1  69814505-4059-42cd-8df2-752f7eb0810d  annotation   \n",
       "2  1957cd32-0a21-4b45-9dae-ecf236217140  annotation   \n",
       "3  19d2197a-1b8e-456f-8223-fba74641ac1c  annotation   \n",
       "\n",
       "                                            geometry      name  \\\n",
       "0  POLYGON ((8863.00000 10814.00000, 8863.00000 1...  Positive   \n",
       "1  POLYGON ((13096.00000 12492.00000, 13072.40000...  Positive   \n",
       "2  POLYGON ((30975.26000 22938.00000, 30982.00000...  Negative   \n",
       "3  POLYGON ((31165.00000 16408.00000, 31149.00000...  Negative   \n",
       "\n",
       "             color  \n",
       "0    [250, 62, 62]  \n",
       "1    [250, 62, 62]  \n",
       "2  [112, 112, 225]  \n",
       "3  [112, 112, 225]  "
      ]
     },
     "execution_count": 55,
     "metadata": {},
     "output_type": "execute_result"
    }
   ],
   "source": [
    "xd.annotations.demo"
   ]
  },
  {
   "cell_type": "code",
   "execution_count": 62,
   "metadata": {},
   "outputs": [
    {
     "data": {
      "text/plain": [
       "[array([[1203.26329718, 1974.88285835],\n",
       "        [1497.75095436, 1918.78997127],\n",
       "        [1708.09928091, 1960.85963658],\n",
       "        [1834.30827684, 2185.2311849 ],\n",
       "        [1876.37794215, 2479.71884208],\n",
       "        [1778.21538976, 2662.02072509],\n",
       "        [1553.84384144, 2774.20649925],\n",
       "        [1259.35618427, 2732.13683394],\n",
       "        [1091.07752302, 2549.83495093]]),\n",
       " array([[1848.33149861, 4316.76089396],\n",
       "        [2072.70304693, 4316.76089396],\n",
       "        [2226.9584864 , 4471.01633343],\n",
       "        [2255.00492994, 4737.45754706],\n",
       "        [2002.58693808, 4919.75943008],\n",
       "        [1750.16894622, 4905.73620831],\n",
       "        [1666.0296156 , 4779.52721238],\n",
       "        [1736.14572445, 4625.2717729 ]]),\n",
       " array([[3727.4432158 , 3349.15859182],\n",
       "        [3979.86120767, 3321.11214828],\n",
       "        [4106.0702036 , 3559.50691838],\n",
       "        [3769.51288111, 3671.69269254],\n",
       "        [3587.2109981 , 3601.57658369],\n",
       "        [3587.2109981 , 3447.32114421]])]"
      ]
     },
     "execution_count": 62,
     "metadata": {},
     "output_type": "execute_result"
    }
   ],
   "source": [
    "l.data"
   ]
  },
  {
   "cell_type": "code",
   "execution_count": 56,
   "metadata": {},
   "outputs": [],
   "source": [
    "from uuid import uuid4"
   ]
  },
  {
   "cell_type": "code",
   "execution_count": 63,
   "metadata": {},
   "outputs": [
    {
     "data": {
      "text/plain": [
       "['c42ccf0f-d362-4b3c-862a-a0979e7722ed',\n",
       " '45a53acf-e497-4c57-b058-9b00ca851c30',\n",
       " '4bff1810-ebe5-44c2-a37a-1ae5daa08346',\n",
       " '271e12f0-ae32-41cc-be6b-8ee11ab1d274']"
      ]
     },
     "execution_count": 63,
     "metadata": {},
     "output_type": "execute_result"
    }
   ],
   "source": [
    "[str(uuid4()) for _ in range(4)]"
   ]
  },
  {
   "cell_type": "code",
   "execution_count": 39,
   "metadata": {},
   "outputs": [
    {
     "data": {
      "text/plain": [
       "{'uid': array(['92bfe928-a21f-4864-b7cb-f0d300113d88',\n",
       "        '92bfe928-a21f-4864-b7cb-f0d300113d88',\n",
       "        '92bfe928-a21f-4864-b7cb-f0d300113d88',\n",
       "        '92bfe928-a21f-4864-b7cb-f0d300113d88',\n",
       "        'a6c17a54-6839-40b2-8531-c9227635f344'], dtype=object)}"
      ]
     },
     "execution_count": 39,
     "metadata": {},
     "output_type": "execute_result"
    }
   ],
   "source": [
    "lold.properties"
   ]
  },
  {
   "cell_type": "code",
   "execution_count": 68,
   "metadata": {},
   "outputs": [
    {
     "data": {
      "text/plain": [
       "5"
      ]
     },
     "execution_count": 68,
     "metadata": {},
     "output_type": "execute_result"
    }
   ],
   "source": [
    "len(lold.data)"
   ]
  },
  {
   "cell_type": "code",
   "execution_count": 71,
   "metadata": {},
   "outputs": [],
   "source": [
    "mp = xd.annotations.demo2.loc[2, \"geometry\"]"
   ]
  },
  {
   "cell_type": "code",
   "execution_count": 63,
   "metadata": {},
   "outputs": [
    {
     "data": {
      "text/plain": [
       "{}"
      ]
     },
     "execution_count": 63,
     "metadata": {},
     "output_type": "execute_result"
    }
   ],
   "source": [
    "l.properties"
   ]
  },
  {
   "cell_type": "code",
   "execution_count": 50,
   "metadata": {},
   "outputs": [],
   "source": [
    "import numpy as np"
   ]
  },
  {
   "cell_type": "code",
   "execution_count": 51,
   "metadata": {},
   "outputs": [
    {
     "data": {
      "text/plain": [
       "array([[1, 5],\n",
       "       [1, 6],\n",
       "       [2, 7],\n",
       "       [3, 8]])"
      ]
     },
     "execution_count": 51,
     "metadata": {},
     "output_type": "execute_result"
    }
   ],
   "source": [
    "np.array([[1,1,2,3],\n",
    "          [5,6,7,8]]).T"
   ]
  },
  {
   "cell_type": "code",
   "execution_count": 52,
   "metadata": {},
   "outputs": [
    {
     "data": {
      "text/plain": [
       "True"
      ]
     },
     "execution_count": 52,
     "metadata": {},
     "output_type": "execute_result"
    }
   ],
   "source": [
    "isinstance(df, gp.GeoDataFrame)"
   ]
  },
  {
   "cell_type": "code",
   "execution_count": 53,
   "metadata": {},
   "outputs": [],
   "source": [
    "from shapely import Polygon"
   ]
  },
  {
   "cell_type": "code",
   "execution_count": 54,
   "metadata": {},
   "outputs": [
    {
     "data": {
      "image/svg+xml": [
       "<svg xmlns=\"http://www.w3.org/2000/svg\" xmlns:xlink=\"http://www.w3.org/1999/xlink\" width=\"100.0\" height=\"100.0\" viewBox=\"0.88 4.88 2.24 3.2399999999999993\" preserveAspectRatio=\"xMinYMin meet\"><g transform=\"matrix(1,0,0,-1,0,13.0)\"><path fill-rule=\"evenodd\" fill=\"#66cc99\" stroke=\"#555555\" stroke-width=\"0.06479999999999998\" opacity=\"0.6\" d=\"M 1.0,5.0 L 1.0,6.0 L 2.0,7.0 L 3.0,8.0 L 1.0,5.0 z\" /></g></svg>"
      ],
      "text/plain": [
       "<POLYGON ((1 5, 1 6, 2 7, 3 8, 1 5))>"
      ]
     },
     "execution_count": 54,
     "metadata": {},
     "output_type": "execute_result"
    }
   ],
   "source": [
    "Polygon(np.array([[1,1,2,3],\n",
    "                  [5,6,7,8]]).T)"
   ]
  },
  {
   "cell_type": "code",
   "execution_count": 55,
   "metadata": {},
   "outputs": [],
   "source": [
    "import uuid"
   ]
  },
  {
   "cell_type": "code",
   "execution_count": 56,
   "metadata": {},
   "outputs": [
    {
     "data": {
      "text/plain": [
       "'863f00b7-086d-49f7-9b45-0204bcce8a9d'"
      ]
     },
     "execution_count": 56,
     "metadata": {},
     "output_type": "execute_result"
    }
   ],
   "source": [
    "str(uuid.uuid4())"
   ]
  },
  {
   "cell_type": "code",
   "execution_count": 57,
   "metadata": {},
   "outputs": [],
   "source": []
  },
  {
   "cell_type": "code",
   "execution_count": 71,
   "metadata": {},
   "outputs": [],
   "source": [
    "from shapely import Point\n",
    "from insitupy.io.io import parse_geopandas\n",
    "\n",
    "d = {'id': ['i'],\n",
    "                 'objectType': ['o'], \n",
    "                 'geometry': [Point(0, 1)],\n",
    "                 'name': ['n'],\n",
    "                 'color': ['c']\n",
    "                 }\n",
    "a = parse_geopandas(d)"
   ]
  },
  {
   "cell_type": "code",
   "execution_count": 72,
   "metadata": {},
   "outputs": [],
   "source": [
    "from shapely import Point\n",
    "from insitupy.io.io import parse_geopandas\n",
    "import geopandas as gp\n",
    "\n",
    "d = {'id': ['i'],\n",
    "                 'objectType': ['o'], \n",
    "                 'name': ['n'],\n",
    "                 'color': ['c'],\n",
    "                 #'geometry': [Point(0, 1)]\n",
    "                 }\n",
    "\n",
    "b = gp.GeoDataFrame(d, geometry=[Point(0, 1)])"
   ]
  },
  {
   "cell_type": "code",
   "execution_count": 74,
   "metadata": {},
   "outputs": [
    {
     "data": {
      "text/html": [
       "<div>\n",
       "<style scoped>\n",
       "    .dataframe tbody tr th:only-of-type {\n",
       "        vertical-align: middle;\n",
       "    }\n",
       "\n",
       "    .dataframe tbody tr th {\n",
       "        vertical-align: top;\n",
       "    }\n",
       "\n",
       "    .dataframe thead th {\n",
       "        text-align: right;\n",
       "    }\n",
       "</style>\n",
       "<table border=\"1\" class=\"dataframe\">\n",
       "  <thead>\n",
       "    <tr style=\"text-align: right;\">\n",
       "      <th></th>\n",
       "      <th>id</th>\n",
       "      <th>objectType</th>\n",
       "      <th>geometry</th>\n",
       "      <th>name</th>\n",
       "      <th>color</th>\n",
       "    </tr>\n",
       "  </thead>\n",
       "  <tbody>\n",
       "    <tr>\n",
       "      <th>0</th>\n",
       "      <td>i</td>\n",
       "      <td>o</td>\n",
       "      <td>POINT (0.00000 1.00000)</td>\n",
       "      <td>n</td>\n",
       "      <td>c</td>\n",
       "    </tr>\n",
       "    <tr>\n",
       "      <th>0</th>\n",
       "      <td>i</td>\n",
       "      <td>o</td>\n",
       "      <td>POINT (0.00000 1.00000)</td>\n",
       "      <td>n</td>\n",
       "      <td>c</td>\n",
       "    </tr>\n",
       "  </tbody>\n",
       "</table>\n",
       "</div>"
      ],
      "text/plain": [
       "  id objectType                 geometry name color\n",
       "0  i          o  POINT (0.00000 1.00000)    n     c\n",
       "0  i          o  POINT (0.00000 1.00000)    n     c"
      ]
     },
     "execution_count": 74,
     "metadata": {},
     "output_type": "execute_result"
    }
   ],
   "source": [
    "import pandas as pd\n",
    "pd.concat([a, b])"
   ]
  },
  {
   "cell_type": "code",
   "execution_count": 125,
   "metadata": {},
   "outputs": [],
   "source": [
    "dd = gp.GeoDataFrame(d, geometry=d[\"geometry\"])"
   ]
  },
  {
   "cell_type": "code",
   "execution_count": 126,
   "metadata": {},
   "outputs": [
    {
     "data": {
      "text/plain": [
       "True"
      ]
     },
     "execution_count": 126,
     "metadata": {},
     "output_type": "execute_result"
    }
   ],
   "source": [
    "dd.equals(dd)"
   ]
  },
  {
   "cell_type": "code",
   "execution_count": null,
   "metadata": {},
   "outputs": [],
   "source": [
    "parse_geopandas()"
   ]
  },
  {
   "cell_type": "code",
   "execution_count": 115,
   "metadata": {},
   "outputs": [
    {
     "data": {
      "text/html": [
       "<div>\n",
       "<style scoped>\n",
       "    .dataframe tbody tr th:only-of-type {\n",
       "        vertical-align: middle;\n",
       "    }\n",
       "\n",
       "    .dataframe tbody tr th {\n",
       "        vertical-align: top;\n",
       "    }\n",
       "\n",
       "    .dataframe thead th {\n",
       "        text-align: right;\n",
       "    }\n",
       "</style>\n",
       "<table border=\"1\" class=\"dataframe\">\n",
       "  <thead>\n",
       "    <tr style=\"text-align: right;\">\n",
       "      <th></th>\n",
       "      <th>id</th>\n",
       "      <th>objectType</th>\n",
       "      <th>name</th>\n",
       "      <th>color</th>\n",
       "      <th>geometry</th>\n",
       "    </tr>\n",
       "  </thead>\n",
       "  <tbody>\n",
       "    <tr>\n",
       "      <th>0</th>\n",
       "      <td>i</td>\n",
       "      <td>o</td>\n",
       "      <td>n</td>\n",
       "      <td>c</td>\n",
       "      <td>MULTIPOLYGON (((21534.000 19541.000, 21534.000...</td>\n",
       "    </tr>\n",
       "  </tbody>\n",
       "</table>\n",
       "</div>"
      ],
      "text/plain": [
       "  id objectType name color                                           geometry\n",
       "0  i          o    n     c  MULTIPOLYGON (((21534.000 19541.000, 21534.000..."
      ]
     },
     "execution_count": 115,
     "metadata": {},
     "output_type": "execute_result"
    }
   ],
   "source": [
    "gp.GeoDataFrame(d, geometry=d[\"geometry\"])"
   ]
  },
  {
   "cell_type": "code",
   "execution_count": 58,
   "metadata": {},
   "outputs": [],
   "source": [
    "row_new = gp.GeoDataFrame({'id': ['i'],\n",
    "                 'objectType': ['o'],\n",
    "                 'geometry': ['g'], \n",
    "                 'name': ['n'],\n",
    "                 'color': ['c']})"
   ]
  },
  {
   "cell_type": "code",
   "execution_count": 59,
   "metadata": {},
   "outputs": [
    {
     "ename": "NameError",
     "evalue": "name 'l' is not defined",
     "output_type": "error",
     "traceback": [
      "\u001b[1;31m---------------------------------------------------------------------------\u001b[0m",
      "\u001b[1;31mNameError\u001b[0m                                 Traceback (most recent call last)",
      "\u001b[1;32mc:\\Users\\ge37voy\\Github\\InSituPy\\notebooks\\dev\\04_InSituPy_demo_annotations_widget_tests.ipynb Cell 27\u001b[0m line \u001b[0;36m1\n\u001b[1;32m----> <a href='vscode-notebook-cell:/c%3A/Users/ge37voy/Github/InSituPy/notebooks/dev/04_InSituPy_demo_annotations_widget_tests.ipynb#X40sZmlsZQ%3D%3D?line=0'>1</a>\u001b[0m l\u001b[39m.\u001b[39medge_color\n",
      "\u001b[1;31mNameError\u001b[0m: name 'l' is not defined"
     ]
    }
   ],
   "source": [
    "l.edge_color"
   ]
  },
  {
   "cell_type": "code",
   "execution_count": 28,
   "metadata": {},
   "outputs": [],
   "source": [
    "df = xd.annotations.demo.copy()"
   ]
  },
  {
   "cell_type": "code",
   "execution_count": 29,
   "metadata": {},
   "outputs": [],
   "source": [
    "import pandas as pd"
   ]
  },
  {
   "cell_type": "code",
   "execution_count": 31,
   "metadata": {},
   "outputs": [
    {
     "data": {
      "text/html": [
       "<div>\n",
       "<style scoped>\n",
       "    .dataframe tbody tr th:only-of-type {\n",
       "        vertical-align: middle;\n",
       "    }\n",
       "\n",
       "    .dataframe tbody tr th {\n",
       "        vertical-align: top;\n",
       "    }\n",
       "\n",
       "    .dataframe thead th {\n",
       "        text-align: right;\n",
       "    }\n",
       "</style>\n",
       "<table border=\"1\" class=\"dataframe\">\n",
       "  <thead>\n",
       "    <tr style=\"text-align: right;\">\n",
       "      <th></th>\n",
       "      <th>id</th>\n",
       "      <th>objectType</th>\n",
       "      <th>geometry</th>\n",
       "      <th>name</th>\n",
       "      <th>color</th>\n",
       "    </tr>\n",
       "  </thead>\n",
       "  <tbody>\n",
       "    <tr>\n",
       "      <th>0</th>\n",
       "      <td>bd3aacca-1716-4df8-91dd-bf8f6413a7bd</td>\n",
       "      <td>annotation</td>\n",
       "      <td>POLYGON ((8863 10814, 8863 10824, 8832 10824, ...</td>\n",
       "      <td>Positive</td>\n",
       "      <td>[250, 62, 62]</td>\n",
       "    </tr>\n",
       "    <tr>\n",
       "      <th>1</th>\n",
       "      <td>69814505-4059-42cd-8df2-752f7eb0810d</td>\n",
       "      <td>annotation</td>\n",
       "      <td>POLYGON ((13096 12492, 13072.4 12494.2, 13031 ...</td>\n",
       "      <td>Positive</td>\n",
       "      <td>[250, 62, 62]</td>\n",
       "    </tr>\n",
       "    <tr>\n",
       "      <th>2</th>\n",
       "      <td>1957cd32-0a21-4b45-9dae-ecf236217140</td>\n",
       "      <td>annotation</td>\n",
       "      <td>POLYGON ((30975.26 22938, 30982 22938, 30992 2...</td>\n",
       "      <td>Negative</td>\n",
       "      <td>[112, 112, 225]</td>\n",
       "    </tr>\n",
       "    <tr>\n",
       "      <th>3</th>\n",
       "      <td>19d2197a-1b8e-456f-8223-fba74641ac1c</td>\n",
       "      <td>annotation</td>\n",
       "      <td>POLYGON ((31165 16408, 31149 16410, 31134 1641...</td>\n",
       "      <td>Negative</td>\n",
       "      <td>[112, 112, 225]</td>\n",
       "    </tr>\n",
       "    <tr>\n",
       "      <th>4</th>\n",
       "      <td>i</td>\n",
       "      <td>o</td>\n",
       "      <td>g</td>\n",
       "      <td>n</td>\n",
       "      <td>c</td>\n",
       "    </tr>\n",
       "  </tbody>\n",
       "</table>\n",
       "</div>"
      ],
      "text/plain": [
       "                                     id  objectType  \\\n",
       "0  bd3aacca-1716-4df8-91dd-bf8f6413a7bd  annotation   \n",
       "1  69814505-4059-42cd-8df2-752f7eb0810d  annotation   \n",
       "2  1957cd32-0a21-4b45-9dae-ecf236217140  annotation   \n",
       "3  19d2197a-1b8e-456f-8223-fba74641ac1c  annotation   \n",
       "4                                     i           o   \n",
       "\n",
       "                                            geometry      name  \\\n",
       "0  POLYGON ((8863 10814, 8863 10824, 8832 10824, ...  Positive   \n",
       "1  POLYGON ((13096 12492, 13072.4 12494.2, 13031 ...  Positive   \n",
       "2  POLYGON ((30975.26 22938, 30982 22938, 30992 2...  Negative   \n",
       "3  POLYGON ((31165 16408, 31149 16410, 31134 1641...  Negative   \n",
       "4                                                  g         n   \n",
       "\n",
       "             color  \n",
       "0    [250, 62, 62]  \n",
       "1    [250, 62, 62]  \n",
       "2  [112, 112, 225]  \n",
       "3  [112, 112, 225]  \n",
       "4                c  "
      ]
     },
     "execution_count": 31,
     "metadata": {},
     "output_type": "execute_result"
    }
   ],
   "source": [
    "pd.concat([df, row_new], ignore_index=True)"
   ]
  },
  {
   "cell_type": "code",
   "execution_count": null,
   "metadata": {},
   "outputs": [],
   "source": []
  },
  {
   "cell_type": "code",
   "execution_count": null,
   "metadata": {},
   "outputs": [
    {
     "data": {
      "text/html": [
       "<div>\n",
       "<style scoped>\n",
       "    .dataframe tbody tr th:only-of-type {\n",
       "        vertical-align: middle;\n",
       "    }\n",
       "\n",
       "    .dataframe tbody tr th {\n",
       "        vertical-align: top;\n",
       "    }\n",
       "\n",
       "    .dataframe thead th {\n",
       "        text-align: right;\n",
       "    }\n",
       "</style>\n",
       "<table border=\"1\" class=\"dataframe\">\n",
       "  <thead>\n",
       "    <tr style=\"text-align: right;\">\n",
       "      <th></th>\n",
       "      <th>id</th>\n",
       "      <th>objectType</th>\n",
       "      <th>geometry</th>\n",
       "      <th>name</th>\n",
       "      <th>color</th>\n",
       "    </tr>\n",
       "  </thead>\n",
       "  <tbody>\n",
       "    <tr>\n",
       "      <th>0</th>\n",
       "      <td>bd3aacca-1716-4df8-91dd-bf8f6413a7bd</td>\n",
       "      <td>annotation</td>\n",
       "      <td>POLYGON ((8863.00000 10814.00000, 8863.00000 1...</td>\n",
       "      <td>Positive</td>\n",
       "      <td>[250, 62, 62]</td>\n",
       "    </tr>\n",
       "    <tr>\n",
       "      <th>1</th>\n",
       "      <td>69814505-4059-42cd-8df2-752f7eb0810d</td>\n",
       "      <td>annotation</td>\n",
       "      <td>POLYGON ((13096.00000 12492.00000, 13072.40000...</td>\n",
       "      <td>Positive</td>\n",
       "      <td>[250, 62, 62]</td>\n",
       "    </tr>\n",
       "    <tr>\n",
       "      <th>2</th>\n",
       "      <td>1957cd32-0a21-4b45-9dae-ecf236217140</td>\n",
       "      <td>annotation</td>\n",
       "      <td>POLYGON ((30975.26000 22938.00000, 30982.00000...</td>\n",
       "      <td>Negative</td>\n",
       "      <td>[112, 112, 225]</td>\n",
       "    </tr>\n",
       "    <tr>\n",
       "      <th>3</th>\n",
       "      <td>19d2197a-1b8e-456f-8223-fba74641ac1c</td>\n",
       "      <td>annotation</td>\n",
       "      <td>POLYGON ((31165.00000 16408.00000, 31149.00000...</td>\n",
       "      <td>Negative</td>\n",
       "      <td>[112, 112, 225]</td>\n",
       "    </tr>\n",
       "  </tbody>\n",
       "</table>\n",
       "</div>"
      ],
      "text/plain": [
       "                                     id  objectType  \\\n",
       "0  bd3aacca-1716-4df8-91dd-bf8f6413a7bd  annotation   \n",
       "1  69814505-4059-42cd-8df2-752f7eb0810d  annotation   \n",
       "2  1957cd32-0a21-4b45-9dae-ecf236217140  annotation   \n",
       "3  19d2197a-1b8e-456f-8223-fba74641ac1c  annotation   \n",
       "\n",
       "                                            geometry      name  \\\n",
       "0  POLYGON ((8863.00000 10814.00000, 8863.00000 1...  Positive   \n",
       "1  POLYGON ((13096.00000 12492.00000, 13072.40000...  Positive   \n",
       "2  POLYGON ((30975.26000 22938.00000, 30982.00000...  Negative   \n",
       "3  POLYGON ((31165.00000 16408.00000, 31149.00000...  Negative   \n",
       "\n",
       "             color  \n",
       "0    [250, 62, 62]  \n",
       "1    [250, 62, 62]  \n",
       "2  [112, 112, 225]  \n",
       "3  [112, 112, 225]  "
      ]
     },
     "metadata": {},
     "output_type": "display_data"
    }
   ],
   "source": [
    "xd.annotations.demo"
   ]
  },
  {
   "cell_type": "code",
   "execution_count": 49,
   "metadata": {},
   "outputs": [
    {
     "data": {
      "text/plain": [
       "geopandas.geodataframe.GeoDataFrame"
      ]
     },
     "execution_count": 49,
     "metadata": {},
     "output_type": "execute_result"
    }
   ],
   "source": [
    "type(xd.annotations.demo)"
   ]
  },
  {
   "cell_type": "code",
   "execution_count": 36,
   "metadata": {},
   "outputs": [
    {
     "ename": "AttributeError",
     "evalue": "'numpy.ndarray' object has no attribute 'pop'",
     "output_type": "error",
     "traceback": [
      "\u001b[1;31m---------------------------------------------------------------------------\u001b[0m",
      "\u001b[1;31mAttributeError\u001b[0m                            Traceback (most recent call last)",
      "\u001b[1;32mc:\\Users\\ge37voy\\Github\\InSituPy\\notebooks\\dev\\04_InSituPy_demo_annotations_widget_tests.ipynb Cell 23\u001b[0m line \u001b[0;36m1\n\u001b[1;32m----> <a href='vscode-notebook-cell:/c%3A/Users/ge37voy/Github/InSituPy/notebooks/dev/04_InSituPy_demo_annotations_widget_tests.ipynb#Y105sZmlsZQ%3D%3D?line=0'>1</a>\u001b[0m l\u001b[39m.\u001b[39;49mdata[\u001b[39m0\u001b[39;49m]\u001b[39m.\u001b[39;49mpop()\n",
      "\u001b[1;31mAttributeError\u001b[0m: 'numpy.ndarray' object has no attribute 'pop'"
     ]
    }
   ],
   "source": [
    "l.data[0]"
   ]
  },
  {
   "cell_type": "code",
   "execution_count": 40,
   "metadata": {},
   "outputs": [
    {
     "data": {
      "text/plain": [
       "['A', 'B', 'C']"
      ]
     },
     "execution_count": 40,
     "metadata": {},
     "output_type": "execute_result"
    }
   ],
   "source": [
    "list(\"ABCD\")[:-1]"
   ]
  },
  {
   "cell_type": "code",
   "execution_count": 38,
   "metadata": {},
   "outputs": [
    {
     "data": {
      "text/plain": [
       "['demo']"
      ]
     },
     "execution_count": 38,
     "metadata": {},
     "output_type": "execute_result"
    }
   ],
   "source": [
    "xd.annotations.labels"
   ]
  },
  {
   "cell_type": "code",
   "execution_count": 20,
   "id": "8cedcd15",
   "metadata": {},
   "outputs": [
    {
     "data": {
      "text/plain": [
       "'nuclei'"
      ]
     },
     "execution_count": 20,
     "metadata": {},
     "output_type": "execute_result"
    }
   ],
   "source": [
    "ll[0]"
   ]
  },
  {
   "cell_type": "code",
   "execution_count": 18,
   "metadata": {},
   "outputs": [],
   "source": [
    "from parse import *\n",
    "pat = \"*{Class} ({Label})\"\n",
    "cla = \"CLASS\"\n",
    "lab = \"LABEL\"\n",
    "s = pat.format(Class=cla, Label=lab)"
   ]
  },
  {
   "cell_type": "code",
   "execution_count": 19,
   "metadata": {},
   "outputs": [
    {
     "data": {
      "text/plain": [
       "'*CLASS (LABEL)'"
      ]
     },
     "execution_count": 19,
     "metadata": {},
     "output_type": "execute_result"
    }
   ],
   "source": [
    "s"
   ]
  },
  {
   "cell_type": "code",
   "execution_count": 22,
   "metadata": {},
   "outputs": [
    {
     "ename": "NameError",
     "evalue": "name 'x' is not defined",
     "output_type": "error",
     "traceback": [
      "\u001b[1;31m---------------------------------------------------------------------------\u001b[0m",
      "\u001b[1;31mNameError\u001b[0m                                 Traceback (most recent call last)",
      "\u001b[1;32mc:\\Users\\ge37voy\\Github\\InSituPy\\notebooks\\dev\\04_InSituPy_demo_annotations_widget_tests.ipynb Cell 24\u001b[0m line \u001b[0;36m1\n\u001b[1;32m----> <a href='vscode-notebook-cell:/c%3A/Users/ge37voy/Github/InSituPy/notebooks/dev/04_InSituPy_demo_annotations_widget_tests.ipynb#X31sZmlsZQ%3D%3D?line=0'>1</a>\u001b[0m parse(pat, x)\u001b[39m.\u001b[39mnamed\n",
      "\u001b[1;31mNameError\u001b[0m: name 'x' is not defined"
     ]
    }
   ],
   "source": [
    "parse(pat, x).named"
   ]
  },
  {
   "cell_type": "code",
   "execution_count": 23,
   "metadata": {},
   "outputs": [],
   "source": [
    "parse(pat, \"blubb\")"
   ]
  },
  {
   "cell_type": "code",
   "execution_count": null,
   "metadata": {},
   "outputs": [],
   "source": []
  },
  {
   "cell_type": "code",
   "execution_count": 51,
   "id": "7c425c46",
   "metadata": {},
   "outputs": [
    {
     "data": {
      "text/plain": [
       "Selection({<Shapes layer 'Other (demo2)' at 0x2bbf5bc8100>, <Shapes layer 'Positive (demo2)' at 0x2bbe3746190>})"
      ]
     },
     "execution_count": 51,
     "metadata": {},
     "output_type": "execute_result"
    }
   ],
   "source": [
    "ll.selection"
   ]
  },
  {
   "cell_type": "code",
   "execution_count": 33,
   "id": "380148f7",
   "metadata": {},
   "outputs": [],
   "source": [
    "sel = ll.selection"
   ]
  },
  {
   "cell_type": "code",
   "execution_count": null,
   "id": "e2138912",
   "metadata": {},
   "outputs": [
    {
     "data": {
      "text/plain": [
       "1"
      ]
     },
     "execution_count": 54,
     "metadata": {},
     "output_type": "execute_result"
    }
   ],
   "source": [
    "len(sel)"
   ]
  },
  {
   "cell_type": "code",
   "execution_count": 43,
   "id": "0e036776",
   "metadata": {},
   "outputs": [],
   "source": [
    "sh = list(sel)[0]"
   ]
  },
  {
   "cell_type": "code",
   "execution_count": 46,
   "id": "6b905df4",
   "metadata": {},
   "outputs": [
    {
     "data": {
      "text/plain": [
       "[array([[ 9688.22942556, 16895.30604434],\n",
       "        [10104.80363213, 16697.98142018],\n",
       "        [10499.45288046, 16610.28158722],\n",
       "        [10959.87700351, 16588.35662898],\n",
       "        [11201.05154416, 16610.28158722],\n",
       "        [11442.2260848 , 16785.68125314],\n",
       "        [11617.62575073, 17114.55562675],\n",
       "        [11639.55070897, 17333.80520915],\n",
       "        [11508.00095952, 17640.75462452],\n",
       "        [11398.37616832, 17860.00420693],\n",
       "        [11113.35171119, 18123.10370582],\n",
       "        [10806.40229582, 18232.72849702],\n",
       "        [10565.22775518, 18232.72849702],\n",
       "        [10302.12825629, 18123.10370582],\n",
       "        [10039.0287574 , 17969.62899813],\n",
       "        [ 9863.62909148, 17662.67958276],\n",
       "        [ 9797.85421676, 17399.58008388]]),\n",
       " array([[12099.97483202, 18517.75295415],\n",
       "        [12341.14937266, 18386.2032047 ],\n",
       "        [12976.97316164, 18254.65345526],\n",
       "        [13283.92257701, 18320.42832998],\n",
       "        [13459.32224293, 18561.60287063],\n",
       "        [13481.24720117, 18846.62732775],\n",
       "        [13327.77249349, 19065.87691016],\n",
       "        [13042.74803636, 19219.35161784],\n",
       "        [12757.72357924, 19285.12649257],\n",
       "        [12165.74970674, 19285.12649257]]),\n",
       " array([[14752.89477913, 18890.47724424],\n",
       "        [14950.21940329, 18715.07757831],\n",
       "        [15432.56848459, 18495.82799591],\n",
       "        [15761.44285819, 18408.12816294],\n",
       "        [16024.54235708, 18451.97807942],\n",
       "        [16265.71689773, 18693.15262007],\n",
       "        [16353.41673069, 19197.4266596 ],\n",
       "        [16287.64185597, 19548.22599145],\n",
       "        [16112.24219004, 19745.55061562],\n",
       "        [15739.51789995, 19964.80019802],\n",
       "        [15476.41840107, 20052.50003099],\n",
       "        [14928.29444505, 19789.4005321 ]]),\n",
       " array([[15733.74734132, 16613.42910733],\n",
       "        [15920.99069482, 16531.51014017],\n",
       "        [16307.18011141, 16484.6993018 ],\n",
       "        [16786.99120475, 16578.32097855],\n",
       "        [17079.5589446 , 16952.80768555],\n",
       "        [17149.77520216, 17338.99710214],\n",
       "        [17079.5589446 , 17491.13232686],\n",
       "        [16927.42371988, 17561.34858442],\n",
       "        [16658.26139922, 17584.75400361],\n",
       "        [16365.69365938, 17549.64587483],\n",
       "        [16190.15301547, 17479.42961726]]),\n",
       " array([[17278.50500769, 17736.88922833],\n",
       "        [17372.12668444, 17654.97026117],\n",
       "        [17641.28900509, 17549.64587483],\n",
       "        [17840.23506819, 17549.64587483],\n",
       "        [18214.72177518, 17783.7000667 ],\n",
       "        [18366.8569999 , 18099.67322573],\n",
       "        [18401.96512868, 18450.75451354],\n",
       "        [18331.74887112, 18567.78160948],\n",
       "        [18203.01906559, 18673.10599582],\n",
       "        [18015.77571209, 18719.9168342 ],\n",
       "        [17805.1269394 , 18719.9168342 ],\n",
       "        [17582.77545712, 18614.59244785],\n",
       "        [17489.15378037, 18532.6734807 ],\n",
       "        [17430.64023241, 18403.94367517]]),\n",
       " array([[13400.97108015, 16519.51478787],\n",
       "        [14237.72651601, 16360.81979141],\n",
       "        [14540.68969107, 16606.07569503],\n",
       "        [14771.51877682, 17154.2947737 ],\n",
       "        [14728.23832324, 17457.25794875],\n",
       "        [14598.3969625 , 17543.81885591],\n",
       "        [14295.43378745, 17615.95294521],\n",
       "        [13963.61697668, 17587.09930949],\n",
       "        [13559.66607661, 17486.11158447],\n",
       "        [13386.54426229, 17385.12385945],\n",
       "        [13285.55653727, 17255.28249871]]),\n",
       " array([[13718.36107306, 20357.04833854],\n",
       "        [14165.59242671, 20270.48743138],\n",
       "        [14728.23832324, 20919.69423507],\n",
       "        [14641.67741608, 21193.8037744 ],\n",
       "        [14454.12878391, 21366.92558872],\n",
       "        [14281.00696959, 21482.3401316 ],\n",
       "        [13992.4706124 , 21525.62058518],\n",
       "        [13819.34879808, 21525.62058518],\n",
       "        [13588.51971233, 21410.2060423 ],\n",
       "        [13487.53198731, 21164.95013868]]),\n",
       " array([[16863.40736647, 19448.15881338],\n",
       "        [17007.67554507, 19318.31745265],\n",
       "        [17411.62644514, 19260.61018121],\n",
       "        [17830.00416307, 19433.73199552],\n",
       "        [18147.39415598, 19765.5488063 ],\n",
       "        [18291.66233458, 20227.20697781],\n",
       "        [18262.80869886, 20429.18242784],\n",
       "        [18060.83324883, 20573.45060644],\n",
       "        [17743.44325591, 20645.58469574],\n",
       "        [17281.7850844 , 20573.45060644],\n",
       "        [17079.80963437, 20443.6092457 ]])]"
      ]
     },
     "execution_count": 46,
     "metadata": {},
     "output_type": "execute_result"
    }
   ],
   "source": [
    "sh.data"
   ]
  },
  {
   "cell_type": "code",
   "execution_count": 53,
   "id": "cd291b90",
   "metadata": {},
   "outputs": [
    {
     "data": {
      "text/plain": [
       "<Shapes layer 'class' at 0x259a807ce80>"
      ]
     },
     "execution_count": 53,
     "metadata": {},
     "output_type": "execute_result"
    }
   ],
   "source": [
    "xd.viewer.add_shapes([], name=\"class\")"
   ]
  },
  {
   "cell_type": "code",
   "execution_count": 49,
   "id": "8f446e4c",
   "metadata": {},
   "outputs": [
    {
     "data": {
      "text/plain": [
       "117.30000000000001"
      ]
     },
     "execution_count": 49,
     "metadata": {},
     "output_type": "execute_result"
    }
   ],
   "source": [
    "0.46*255"
   ]
  },
  {
   "cell_type": "code",
   "execution_count": 50,
   "id": "e110acfb",
   "metadata": {},
   "outputs": [
    {
     "data": {
      "text/plain": [
       "array([[1.        , 1.        , 1.        , 1.        ],\n",
       "       [0.        , 0.33333334, 1.        , 1.        ],\n",
       "       [0.        , 0.33333334, 1.        , 1.        ],\n",
       "       [0.        , 0.33333334, 1.        , 1.        ],\n",
       "       [0.        , 0.33333334, 1.        , 1.        ],\n",
       "       [0.        , 0.        , 0.        , 1.        ],\n",
       "       [0.        , 0.        , 0.        , 0.        ],\n",
       "       [0.        , 0.        , 0.        , 0.        ]])"
      ]
     },
     "execution_count": 50,
     "metadata": {},
     "output_type": "execute_result"
    }
   ],
   "source": [
    "sh.face_color"
   ]
  },
  {
   "cell_type": "code",
   "execution_count": 48,
   "id": "d9896095",
   "metadata": {},
   "outputs": [
    {
     "data": {
      "text/plain": [
       "array([[0.46666667, 0.46666667, 0.46666667, 1.        ],\n",
       "       [0.46666667, 0.46666667, 0.46666667, 1.        ],\n",
       "       [1.        , 0.        , 0.        , 1.        ],\n",
       "       [1.        , 0.        , 0.        , 1.        ],\n",
       "       [1.        , 0.        , 0.        , 1.        ],\n",
       "       [1.        , 0.        , 0.        , 1.        ],\n",
       "       [1.        , 0.        , 0.        , 1.        ],\n",
       "       [1.        , 0.        , 0.        , 1.        ]])"
      ]
     },
     "execution_count": 48,
     "metadata": {},
     "output_type": "execute_result"
    }
   ],
   "source": [
    "sh.edge_color"
   ]
  },
  {
   "cell_type": "code",
   "execution_count": 31,
   "id": "3d127d70",
   "metadata": {},
   "outputs": [],
   "source": [
    "sel.active"
   ]
  },
  {
   "cell_type": "code",
   "execution_count": null,
   "id": "25015af3",
   "metadata": {},
   "outputs": [],
   "source": [
    "xd.viewer.add_shapes(\n",
    "    \n",
    ")"
   ]
  },
  {
   "cell_type": "code",
   "execution_count": 18,
   "id": "54166f8c",
   "metadata": {},
   "outputs": [
    {
     "data": {
      "text/plain": [
       "set()"
      ]
     },
     "execution_count": 18,
     "metadata": {},
     "output_type": "execute_result"
    }
   ],
   "source": []
  },
  {
   "cell_type": "code",
   "execution_count": 92,
   "id": "316c6426",
   "metadata": {},
   "outputs": [],
   "source": [
    "xd.show(annotation_labels=\"demo2\")"
   ]
  },
  {
   "cell_type": "markdown",
   "id": "89e5650a",
   "metadata": {},
   "source": [
    "## Save results\n",
    "\n",
    "The cropped and/or processed data can be saved into a folder using the `.save()` function of `XeniumData`.\n",
    "\n",
    "The resulting folder has following structure:\n",
    "```\n",
    "with_annotations\n",
    "│   xenium.json\n",
    "│   xeniumdata.json\n",
    "│\n",
    "├───annotations\n",
    "│       demo.geojson\n",
    "│\n",
    "├───boundaries\n",
    "│       cells.parquet\n",
    "│       nuclei.parquet\n",
    "│\n",
    "├───images\n",
    "│       morphology_focus.ome.tif\n",
    "│       slide_id__sample_id__CD20__registered.ome.tif\n",
    "│       slide_id__sample_id__HER2__registered.ome.tif\n",
    "│       slide_id__sample_id__HE__registered.ome.tif\n",
    "│\n",
    "├───matrix\n",
    "│       matrix.h5ad\n",
    "│\n",
    "└───transcripts\n",
    "        transcripts.parquet\n",
    "```"
   ]
  },
  {
   "cell_type": "code",
   "execution_count": 8,
   "id": "49f29bb8",
   "metadata": {},
   "outputs": [],
   "source": [
    "out_dir = data_dir / \"with_annotations\"\n",
    "xd.save(out_dir, overwrite=True)"
   ]
  },
  {
   "cell_type": "code",
   "execution_count": 9,
   "id": "23e48757",
   "metadata": {},
   "outputs": [],
   "source": [
    "xd_reloaded = XeniumData(out_dir)"
   ]
  },
  {
   "cell_type": "code",
   "execution_count": 10,
   "id": "e1c75bb8",
   "metadata": {},
   "outputs": [
    {
     "data": {
      "text/plain": [
       "\u001b[1m\u001b[31mXeniumData\u001b[0m\n",
       "\u001b[1mSlide ID:\u001b[0m\tslide_id\n",
       "\u001b[1mSample ID:\u001b[0m\tsample_id\n",
       "\u001b[1mData path:\u001b[0m\tdemo_dataset\n",
       "\u001b[1mData folder:\u001b[0m\twith_annotations\n",
       "\u001b[1mMetadata file:\u001b[0m\txeniumdata.json"
      ]
     },
     "execution_count": 10,
     "metadata": {},
     "output_type": "execute_result"
    }
   ],
   "source": [
    "xd_reloaded"
   ]
  },
  {
   "cell_type": "code",
   "execution_count": 15,
   "id": "6eb3c05f",
   "metadata": {},
   "outputs": [
    {
     "name": "stdout",
     "output_type": "stream",
     "text": [
      "Reading annotations...\n",
      "[WindowsPath('demo_dataset/with_annotations/annotations/demo.geojson')]\n",
      "No `boundaries` modality found.\n",
      "No `images` modality found.\n",
      "No `matrix` modality found.\n",
      "No `transcripts` modality found.\n"
     ]
    }
   ],
   "source": [
    "xd_reloaded.read_all()"
   ]
  },
  {
   "cell_type": "markdown",
   "id": "0d041cd6-06ff-4fbf-8785-db5f057c9dab",
   "metadata": {},
   "source": [
    "## Widget testing"
   ]
  },
  {
   "cell_type": "code",
   "execution_count": 37,
   "id": "3e36ea4f",
   "metadata": {},
   "outputs": [],
   "source": [
    "from magicgui import magic_factory\n",
    "from napari_plugin_engine import napari_hook_implementation\n",
    "\n",
    "@magic_factory(auto_call=True, threshold={'max': 2 ** 16})\n",
    "def threshold(\n",
    "    data: 'napari.types.ImageData', threshold: int\n",
    ") -> 'napari.types.LabelsData':\n",
    "    return (data > threshold).astype(int)\n",
    "\n",
    "@napari_hook_implementation\n",
    "def napari_experimental_provide_dock_widget():\n",
    "    return threshold"
   ]
  },
  {
   "cell_type": "code",
   "execution_count": 38,
   "id": "286bfe1b",
   "metadata": {},
   "outputs": [
    {
     "name": "stderr",
     "output_type": "stream",
     "text": [
      "WARNING: QWindowsWindow::setGeometry: Unable to set geometry 2172x1310+380+206 (frame: 2194x1366+369+161) on QWidgetWindow/\"_QtMainWindowClassWindow\" on \"\\\\.\\DISPLAY1\". Resulting geometry: 3260x1968+383+220 (frame: 3282x2024+372+175) margins: 11, 45, 11, 11 minimum size: 385x492 MINMAXINFO maxSize=0,0 maxpos=0,0 mintrack=792,1040 maxtrack=0,0)\n"
     ]
    }
   ],
   "source": [
    "import napari\n",
    "import numpy as np\n",
    "from magicgui import magicgui, magic_factory\n",
    "\n",
    "\n",
    "@magic_factory(call_button='Do Something')\n",
    "def my_widget(vertical: bool = True, label: str = 'Dummy'):\n",
    "    pass\n",
    "\n",
    "data = np.random.random((10,128,128))\n",
    "viewer = napari.view_image(data)\n",
    "widget = my_widget()\n",
    "viewer.window.add_dock_widget(widget)\n",
    "napari.run()\n"
   ]
  },
  {
   "cell_type": "code",
   "execution_count": 35,
   "id": "bfa148d8",
   "metadata": {},
   "outputs": [
    {
     "name": "stderr",
     "output_type": "stream",
     "text": [
      "WARNING: QWindowsWindow::setGeometry: Unable to set geometry 2172x1310+380+220 (frame: 2194x1366+369+175) on QWidgetWindow/\"_QtMainWindowClassWindow\" on \"\\\\.\\DISPLAY1\". Resulting geometry: 3260x1968+383+234 (frame: 3282x2024+372+189) margins: 11, 45, 11, 11 minimum size: 385x492 MINMAXINFO maxSize=0,0 maxpos=0,0 mintrack=792,1040 maxtrack=0,0)\n"
     ]
    },
    {
     "ename": "RuntimeError",
     "evalue": "wrapped C/C++ object of type QWidget has been deleted",
     "output_type": "error",
     "traceback": [
      "\u001b[1;31m---------------------------------------------------------------------------\u001b[0m",
      "\u001b[1;31mRuntimeError\u001b[0m                              Traceback (most recent call last)",
      "\u001b[1;32mc:\\Users\\ge37voy\\Github\\InSituPy\\notebooks\\dev\\04_InSituPy_demo_annotations_widget_tests.ipynb Cell 16\u001b[0m line \u001b[0;36m2\n\u001b[0;32m      <a href='vscode-notebook-cell:/c%3A/Users/ge37voy/Github/InSituPy/notebooks/dev/04_InSituPy_demo_annotations_widget_tests.ipynb#X55sZmlsZQ%3D%3D?line=0'>1</a>\u001b[0m viewer2 \u001b[39m=\u001b[39m napari\u001b[39m.\u001b[39mview_image(data)\n\u001b[1;32m----> <a href='vscode-notebook-cell:/c%3A/Users/ge37voy/Github/InSituPy/notebooks/dev/04_InSituPy_demo_annotations_widget_tests.ipynb#X55sZmlsZQ%3D%3D?line=1'>2</a>\u001b[0m viewer2\u001b[39m.\u001b[39;49mwindow\u001b[39m.\u001b[39;49madd_dock_widget(widget)\n\u001b[0;32m      <a href='vscode-notebook-cell:/c%3A/Users/ge37voy/Github/InSituPy/notebooks/dev/04_InSituPy_demo_annotations_widget_tests.ipynb#X55sZmlsZQ%3D%3D?line=2'>3</a>\u001b[0m napari\u001b[39m.\u001b[39mrun()\n",
      "File \u001b[1;32mc:\\Users\\ge37voy\\AppData\\Local\\miniconda3\\envs\\insitupy\\lib\\site-packages\\napari\\_qt\\qt_main_window.py:923\u001b[0m, in \u001b[0;36mWindow.add_dock_widget\u001b[1;34m(self, widget, name, area, allowed_areas, shortcut, add_vertical_stretch, tabify, menu)\u001b[0m\n\u001b[0;32m    913\u001b[0m     dock_widget \u001b[39m=\u001b[39m QtViewerDockWidget(\n\u001b[0;32m    914\u001b[0m         \u001b[39mself\u001b[39m\u001b[39m.\u001b[39m_qt_viewer,\n\u001b[0;32m    915\u001b[0m         widget,\n\u001b[1;32m   (...)\u001b[0m\n\u001b[0;32m    920\u001b[0m         add_vertical_stretch\u001b[39m=\u001b[39madd_vertical_stretch,\n\u001b[0;32m    921\u001b[0m     )\n\u001b[0;32m    922\u001b[0m \u001b[39melse\u001b[39;00m:\n\u001b[1;32m--> 923\u001b[0m     dock_widget \u001b[39m=\u001b[39m QtViewerDockWidget(\n\u001b[0;32m    924\u001b[0m         \u001b[39mself\u001b[39;49m\u001b[39m.\u001b[39;49m_qt_viewer,\n\u001b[0;32m    925\u001b[0m         widget,\n\u001b[0;32m    926\u001b[0m         name\u001b[39m=\u001b[39;49mname,\n\u001b[0;32m    927\u001b[0m         area\u001b[39m=\u001b[39;49marea,\n\u001b[0;32m    928\u001b[0m         allowed_areas\u001b[39m=\u001b[39;49mallowed_areas,\n\u001b[0;32m    929\u001b[0m         add_vertical_stretch\u001b[39m=\u001b[39;49madd_vertical_stretch,\n\u001b[0;32m    930\u001b[0m     )\n\u001b[0;32m    932\u001b[0m \u001b[39mself\u001b[39m\u001b[39m.\u001b[39m_add_viewer_dock_widget(dock_widget, tabify\u001b[39m=\u001b[39mtabify, menu\u001b[39m=\u001b[39mmenu)\n\u001b[0;32m    934\u001b[0m \u001b[39mif\u001b[39;00m \u001b[39mhasattr\u001b[39m(widget, \u001b[39m'\u001b[39m\u001b[39mreset_choices\u001b[39m\u001b[39m'\u001b[39m):\n\u001b[0;32m    935\u001b[0m     \u001b[39m# Keep the dropdown menus in the widget in sync with the layer model\u001b[39;00m\n\u001b[0;32m    936\u001b[0m     \u001b[39m# if widget has a `reset_choices`, which is true for all magicgui\u001b[39;00m\n\u001b[0;32m    937\u001b[0m     \u001b[39m# `CategoricalWidget`s\u001b[39;00m\n",
      "File \u001b[1;32mc:\\Users\\ge37voy\\AppData\\Local\\miniconda3\\envs\\insitupy\\lib\\site-packages\\napari\\_qt\\widgets\\qt_viewer_dock_widget.py:142\u001b[0m, in \u001b[0;36mQtViewerDockWidget.__init__\u001b[1;34m(self, qt_viewer, widget, name, area, allowed_areas, shortcut, object_name, add_vertical_stretch, close_btn)\u001b[0m\n\u001b[0;32m    140\u001b[0m is_vertical \u001b[39m=\u001b[39m area \u001b[39min\u001b[39;00m {\u001b[39m'\u001b[39m\u001b[39mleft\u001b[39m\u001b[39m'\u001b[39m, \u001b[39m'\u001b[39m\u001b[39mright\u001b[39m\u001b[39m'\u001b[39m}\n\u001b[0;32m    141\u001b[0m widget \u001b[39m=\u001b[39m combine_widgets(widget, vertical\u001b[39m=\u001b[39mis_vertical)\n\u001b[1;32m--> 142\u001b[0m \u001b[39mself\u001b[39;49m\u001b[39m.\u001b[39;49msetWidget(widget)\n\u001b[0;32m    143\u001b[0m \u001b[39mif\u001b[39;00m is_vertical \u001b[39mand\u001b[39;00m add_vertical_stretch:\n\u001b[0;32m    144\u001b[0m     \u001b[39mself\u001b[39m\u001b[39m.\u001b[39m_maybe_add_vertical_stretch(widget)\n",
      "File \u001b[1;32mc:\\Users\\ge37voy\\AppData\\Local\\miniconda3\\envs\\insitupy\\lib\\site-packages\\napari\\_qt\\widgets\\qt_viewer_dock_widget.py:299\u001b[0m, in \u001b[0;36mQtViewerDockWidget.setWidget\u001b[1;34m(self, widget)\u001b[0m\n\u001b[0;32m    297\u001b[0m \u001b[39mdef\u001b[39;00m \u001b[39msetWidget\u001b[39m(\u001b[39mself\u001b[39m, widget):\n\u001b[0;32m    298\u001b[0m     widget\u001b[39m.\u001b[39m_parent \u001b[39m=\u001b[39m \u001b[39mself\u001b[39m\n\u001b[1;32m--> 299\u001b[0m     \u001b[39mself\u001b[39;49m\u001b[39m.\u001b[39;49msetFocusProxy(widget)\n\u001b[0;32m    300\u001b[0m     \u001b[39msuper\u001b[39m()\u001b[39m.\u001b[39msetWidget(widget)\n",
      "\u001b[1;31mRuntimeError\u001b[0m: wrapped C/C++ object of type QWidget has been deleted"
     ]
    }
   ],
   "source": [
    "viewer2 = napari.view_image(data)\n",
    "widget = my_widget()\n",
    "viewer2.window.add_dock_widget(widget)\n",
    "napari.run()"
   ]
  },
  {
   "cell_type": "code",
   "execution_count": null,
   "id": "d3442f7b",
   "metadata": {},
   "outputs": [
    {
     "name": "stderr",
     "output_type": "stream",
     "text": [
      "WARNING: QWindowsWindow::setGeometry: Unable to set geometry 2172x1310+380+304 (frame: 2194x1366+369+259) on QWidgetWindow/\"_QtMainWindowClassWindow\" on \"\\\\.\\DISPLAY1\". Resulting geometry: 3260x1968+383+318 (frame: 3282x2024+372+273) margins: 11, 45, 11, 11 minimum size: 385x492 MINMAXINFO maxSize=0,0 maxpos=0,0 mintrack=792,1040 maxtrack=0,0)\n"
     ]
    }
   ],
   "source": [
    "import napari\n",
    "import numpy as np\n",
    "from magicgui import magicgui\n",
    "from magicgui.widgets import FunctionGui\n",
    "\n",
    "\n",
    "def initialize_widget() -> FunctionGui:     \n",
    "    @magicgui(call_button='Do Something')\n",
    "    def my_widget(vertical: bool = True, label: str = 'Dummy'):\n",
    "        pass\n",
    "    return my_widget\n",
    "\n",
    "data = np.random.random((10,128,128))\n",
    "viewer = napari.view_image(data)\n",
    "my_widget = initialize_widget()\n",
    "viewer.window.add_dock_widget(my_widget)\n",
    "napari.run()\n"
   ]
  },
  {
   "cell_type": "code",
   "execution_count": 29,
   "id": "53850e81",
   "metadata": {},
   "outputs": [
    {
     "name": "stderr",
     "output_type": "stream",
     "text": [
      "WARNING: QWindowsWindow::setGeometry: Unable to set geometry 2172x1310+380+290 (frame: 2194x1366+369+245) on QWidgetWindow/\"_QtMainWindowClassWindow\" on \"\\\\.\\DISPLAY1\". Resulting geometry: 3260x1968+383+304 (frame: 3282x2024+372+259) margins: 11, 45, 11, 11 minimum size: 385x492 MINMAXINFO maxSize=0,0 maxpos=0,0 mintrack=792,1040 maxtrack=0,0)\n"
     ]
    }
   ],
   "source": [
    "viewer2 = napari.view_image(data)\n",
    "my_widget = initialize_widget()\n",
    "viewer2.window.add_dock_widget(my_widget)\n",
    "napari.run()"
   ]
  }
 ],
 "metadata": {
  "kernelspec": {
   "display_name": "insitupy",
   "language": "python",
   "name": "python3"
  },
  "language_info": {
   "codemirror_mode": {
    "name": "ipython",
    "version": 3
   },
   "file_extension": ".py",
   "mimetype": "text/x-python",
   "name": "python",
   "nbconvert_exporter": "python",
   "pygments_lexer": "ipython3",
   "version": "3.9.18"
  }
 },
 "nbformat": 4,
 "nbformat_minor": 5
}
