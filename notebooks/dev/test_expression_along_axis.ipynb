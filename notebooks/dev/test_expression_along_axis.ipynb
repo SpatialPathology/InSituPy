{
 "cells": [
  {
   "cell_type": "markdown",
   "id": "b16df72d-5dd5-47da-a8c3-b569fe97446b",
   "metadata": {
    "tags": []
   },
   "source": [
    "# InSituPy demonstration - Performance tests"
   ]
  },
  {
   "cell_type": "code",
   "execution_count": 1,
   "id": "8bc0c4ed-3587-460e-98d2-6626a020a327",
   "metadata": {},
   "outputs": [],
   "source": [
    "## The following code ensures that all functions and init files are reloaded before executions.\n",
    "%load_ext autoreload\n",
    "%autoreload 2"
   ]
  },
  {
   "cell_type": "code",
   "execution_count": 2,
   "id": "58107e0b-5017-425b-8cd0-9274be2b8253",
   "metadata": {},
   "outputs": [],
   "source": [
    "from pathlib import Path\n",
    "from insitupy import read_xenium\n",
    "from datetime import datetime\n",
    "import shutil\n",
    "import pandas as pd\n",
    "import numpy as np\n",
    "import seaborn as sns\n",
    "import matplotlib.pyplot as plt\n"
   ]
  },
  {
   "cell_type": "code",
   "execution_count": 3,
   "id": "06261274",
   "metadata": {},
   "outputs": [],
   "source": [
    "import geopandas as gpd\n",
    "import shapely"
   ]
  },
  {
   "cell_type": "markdown",
   "id": "ae409a19",
   "metadata": {},
   "source": [
    "## Load Xenium data into `InSituData` object"
   ]
  },
  {
   "cell_type": "code",
   "execution_count": 4,
   "id": "2db31fb9",
   "metadata": {},
   "outputs": [],
   "source": [
    "insitupy_project = Path(\"../demo_dataset/demo_insitupy_project\")"
   ]
  },
  {
   "cell_type": "code",
   "execution_count": 5,
   "id": "188ddb98",
   "metadata": {},
   "outputs": [],
   "source": [
    "xd = read_xenium(insitupy_project)"
   ]
  },
  {
   "cell_type": "code",
   "execution_count": 6,
   "id": "9c9c0df2",
   "metadata": {},
   "outputs": [
    {
     "name": "stdout",
     "output_type": "stream",
     "text": [
      "Loading cells...\n",
      "\tNo alternative cells found...\n",
      "Loading images...\n"
     ]
    }
   ],
   "source": [
    "xd.load_cells()\n",
    "xd.load_images()"
   ]
  },
  {
   "cell_type": "code",
   "execution_count": 7,
   "id": "6ca1ccf4",
   "metadata": {},
   "outputs": [
    {
     "name": "stderr",
     "output_type": "stream",
     "text": [
      "Invalid schema for package 'ome-types', please run 'npe2 validate ome-types' to check for manifest errors.\n",
      "WARNING: QWindowsWindow::setGeometry: Unable to set geometry 2172x1310+640+276 (frame: 2194x1366+629+231) on QWidgetWindow/\"_QtMainWindowClassWindow\" on \"\\\\.\\DISPLAY1\". Resulting geometry: 3260x1968+643+290 (frame: 3282x2024+632+245) margins: 11, 45, 11, 11 minimum size: 385x492 MINMAXINFO maxSize=0,0 maxpos=0,0 mintrack=792,1040 maxtrack=0,0)\n"
     ]
    }
   ],
   "source": [
    "xd.show()"
   ]
  },
  {
   "cell_type": "code",
   "execution_count": 9,
   "id": "80834d05",
   "metadata": {},
   "outputs": [],
   "source": [
    "pixel_size = xd.images.metadata[\"nuclei\"][\"pixel_size\"]\n",
    "pl = xd.viewer.layers[\"Points\"]\n",
    "#ll = xd.viewer.layers[\"Shapes\"]\n",
    "px = pl.data[:, 1] * pixel_size\n",
    "py = pl.data[:, 0] * pixel_size\n",
    "points = gpd.points_from_xy(px, py)"
   ]
  },
  {
   "cell_type": "code",
   "execution_count": 10,
   "id": "20ca2fbb",
   "metadata": {},
   "outputs": [],
   "source": [
    "x = xd.cells.matrix.obsm[\"spatial\"][:, 0]\n",
    "y = xd.cells.matrix.obsm[\"spatial\"][:, 1]"
   ]
  },
  {
   "cell_type": "code",
   "execution_count": 11,
   "id": "b5e1079d",
   "metadata": {},
   "outputs": [],
   "source": [
    "cells = gpd.points_from_xy(x, y)"
   ]
  },
  {
   "cell_type": "code",
   "execution_count": 12,
   "id": "f0eceebb",
   "metadata": {},
   "outputs": [],
   "source": [
    "# measure distance of all cells to one point\n",
    "dists = np.array([cells.distance(p) for p in points])"
   ]
  },
  {
   "cell_type": "code",
   "execution_count": 13,
   "id": "1f808f30",
   "metadata": {},
   "outputs": [
    {
     "data": {
      "text/plain": [
       "array([[2350.24854787, 2356.48709125, 2344.53735655, ..., 6307.48211482,\n",
       "        6318.35235446, 6326.65703662],\n",
       "       [2823.53684718, 2828.60233868, 2817.79546321, ..., 6094.39399644,\n",
       "        6104.8342925 , 6113.826066  ],\n",
       "       [3104.41209558, 3114.68709374, 3098.97232046, ..., 5362.85859638,\n",
       "        5373.73008901, 5382.03314382],\n",
       "       [4811.22297331, 4831.19331898, 4808.50696362, ..., 4183.84879916,\n",
       "        4195.84879497, 4196.3699068 ]])"
      ]
     },
     "execution_count": 13,
     "metadata": {},
     "output_type": "execute_result"
    }
   ],
   "source": [
    "dists"
   ]
  },
  {
   "cell_type": "code",
   "execution_count": 14,
   "id": "87e81cd4",
   "metadata": {},
   "outputs": [
    {
     "data": {
      "text/plain": [
       "<GeometryArray>\n",
       "[<POINT (1730.225 2504.273)>, <POINT (1756.285 2999.398)>,\n",
       " <POINT (2590.179 2895.161)>,  <POINT (5534.87 1409.786)>]\n",
       "Length: 4, dtype: geometry"
      ]
     },
     "execution_count": 14,
     "metadata": {},
     "output_type": "execute_result"
    }
   ],
   "source": [
    "points"
   ]
  },
  {
   "cell_type": "code",
   "execution_count": 15,
   "id": "2761c3c0",
   "metadata": {},
   "outputs": [],
   "source": [
    "from skmisc.loess import loess"
   ]
  },
  {
   "cell_type": "code",
   "execution_count": 16,
   "id": "3dd8ee3a",
   "metadata": {},
   "outputs": [],
   "source": [
    "min_dists = dists.min(axis=0)"
   ]
  },
  {
   "cell_type": "code",
   "execution_count": 17,
   "id": "9c174ae1",
   "metadata": {},
   "outputs": [
    {
     "data": {
      "text/plain": [
       "array([2350.24854787, 2356.48709125, 2344.53735655, ..., 4183.84879916,\n",
       "       4195.84879497, 4196.3699068 ])"
      ]
     },
     "execution_count": 17,
     "metadata": {},
     "output_type": "execute_result"
    }
   ],
   "source": [
    "min_dists"
   ]
  },
  {
   "cell_type": "code",
   "execution_count": 18,
   "id": "b0b87e6b",
   "metadata": {},
   "outputs": [],
   "source": [
    "xd.cells.matrix.obs[\"dist_from_points\"] = min_dists"
   ]
  },
  {
   "cell_type": "code",
   "execution_count": 19,
   "id": "c9436647",
   "metadata": {},
   "outputs": [],
   "source": [
    "from insitupy.plotting.expression_along_axis import expr_along_obs_val"
   ]
  },
  {
   "cell_type": "code",
   "execution_count": 27,
   "id": "a8c37b50",
   "metadata": {},
   "outputs": [],
   "source": [
    "data = expr_along_obs_val(adata=xd.cells.matrix,\n",
    "                   keys=\"ACTA2\",\n",
    "                   x_category=\"dist_from_points\", groupby=None, return_data=True,\n",
    "                   stderr=False, nsteps=10\n",
    "                   )"
   ]
  },
  {
   "cell_type": "code",
   "execution_count": 57,
   "id": "406162a8",
   "metadata": {},
   "outputs": [
    {
     "data": {
      "text/html": [
       "<div>\n",
       "<style scoped>\n",
       "    .dataframe tbody tr th:only-of-type {\n",
       "        vertical-align: middle;\n",
       "    }\n",
       "\n",
       "    .dataframe tbody tr th {\n",
       "        vertical-align: top;\n",
       "    }\n",
       "\n",
       "    .dataframe thead th {\n",
       "        text-align: right;\n",
       "    }\n",
       "</style>\n",
       "<table border=\"1\" class=\"dataframe\">\n",
       "  <thead>\n",
       "    <tr style=\"text-align: right;\">\n",
       "      <th></th>\n",
       "      <th></th>\n",
       "      <th></th>\n",
       "      <th>x</th>\n",
       "      <th>y_pred</th>\n",
       "      <th>std</th>\n",
       "    </tr>\n",
       "    <tr>\n",
       "      <th>key</th>\n",
       "      <th></th>\n",
       "      <th></th>\n",
       "      <th></th>\n",
       "      <th></th>\n",
       "      <th></th>\n",
       "    </tr>\n",
       "  </thead>\n",
       "  <tbody>\n",
       "    <tr>\n",
       "      <th rowspan=\"8\" valign=\"top\">ACTA2</th>\n",
       "      <th rowspan=\"8\" valign=\"top\">None</th>\n",
       "      <th>0</th>\n",
       "      <td>504.257656</td>\n",
       "      <td>1.877883</td>\n",
       "      <td>False</td>\n",
       "    </tr>\n",
       "    <tr>\n",
       "      <th>1</th>\n",
       "      <td>1004.245360</td>\n",
       "      <td>1.951516</td>\n",
       "      <td>False</td>\n",
       "    </tr>\n",
       "    <tr>\n",
       "      <th>2</th>\n",
       "      <td>1504.233064</td>\n",
       "      <td>1.936031</td>\n",
       "      <td>False</td>\n",
       "    </tr>\n",
       "    <tr>\n",
       "      <th>3</th>\n",
       "      <td>2004.220768</td>\n",
       "      <td>1.881070</td>\n",
       "      <td>False</td>\n",
       "    </tr>\n",
       "    <tr>\n",
       "      <th>4</th>\n",
       "      <td>2504.208473</td>\n",
       "      <td>1.756132</td>\n",
       "      <td>False</td>\n",
       "    </tr>\n",
       "    <tr>\n",
       "      <th>5</th>\n",
       "      <td>3004.196177</td>\n",
       "      <td>1.817721</td>\n",
       "      <td>False</td>\n",
       "    </tr>\n",
       "    <tr>\n",
       "      <th>6</th>\n",
       "      <td>3504.183881</td>\n",
       "      <td>2.123669</td>\n",
       "      <td>False</td>\n",
       "    </tr>\n",
       "    <tr>\n",
       "      <th>7</th>\n",
       "      <td>4004.171585</td>\n",
       "      <td>2.658033</td>\n",
       "      <td>False</td>\n",
       "    </tr>\n",
       "  </tbody>\n",
       "</table>\n",
       "</div>"
      ],
      "text/plain": [
       "                        x    y_pred    std\n",
       "key                                       \n",
       "ACTA2 None 0   504.257656  1.877883  False\n",
       "           1  1004.245360  1.951516  False\n",
       "           2  1504.233064  1.936031  False\n",
       "           3  2004.220768  1.881070  False\n",
       "           4  2504.208473  1.756132  False\n",
       "           5  3004.196177  1.817721  False\n",
       "           6  3504.183881  2.123669  False\n",
       "           7  4004.171585  2.658033  False"
      ]
     },
     "execution_count": 57,
     "metadata": {},
     "output_type": "execute_result"
    }
   ],
   "source": [
    "data.dropna(how=\"all\", axis=1)"
   ]
  },
  {
   "cell_type": "code",
   "execution_count": 58,
   "id": "7952c59a",
   "metadata": {},
   "outputs": [
    {
     "data": {
      "text/html": [
       "<div>\n",
       "<style scoped>\n",
       "    .dataframe tbody tr th:only-of-type {\n",
       "        vertical-align: middle;\n",
       "    }\n",
       "\n",
       "    .dataframe tbody tr th {\n",
       "        vertical-align: top;\n",
       "    }\n",
       "\n",
       "    .dataframe thead th {\n",
       "        text-align: right;\n",
       "    }\n",
       "</style>\n",
       "<table border=\"1\" class=\"dataframe\">\n",
       "  <thead>\n",
       "    <tr style=\"text-align: right;\">\n",
       "      <th></th>\n",
       "      <th></th>\n",
       "      <th></th>\n",
       "      <th>x</th>\n",
       "      <th>y_pred</th>\n",
       "      <th>std</th>\n",
       "      <th>conf_lower</th>\n",
       "      <th>conf_upper</th>\n",
       "    </tr>\n",
       "    <tr>\n",
       "      <th>key</th>\n",
       "      <th></th>\n",
       "      <th></th>\n",
       "      <th></th>\n",
       "      <th></th>\n",
       "      <th></th>\n",
       "      <th></th>\n",
       "      <th></th>\n",
       "    </tr>\n",
       "  </thead>\n",
       "  <tbody>\n",
       "    <tr>\n",
       "      <th rowspan=\"8\" valign=\"top\">ACTA2</th>\n",
       "      <th rowspan=\"8\" valign=\"top\">None</th>\n",
       "      <th>0</th>\n",
       "      <td>504.257656</td>\n",
       "      <td>1.877883</td>\n",
       "      <td>False</td>\n",
       "      <td>NaN</td>\n",
       "      <td>NaN</td>\n",
       "    </tr>\n",
       "    <tr>\n",
       "      <th>1</th>\n",
       "      <td>1004.245360</td>\n",
       "      <td>1.951516</td>\n",
       "      <td>False</td>\n",
       "      <td>NaN</td>\n",
       "      <td>NaN</td>\n",
       "    </tr>\n",
       "    <tr>\n",
       "      <th>2</th>\n",
       "      <td>1504.233064</td>\n",
       "      <td>1.936031</td>\n",
       "      <td>False</td>\n",
       "      <td>NaN</td>\n",
       "      <td>NaN</td>\n",
       "    </tr>\n",
       "    <tr>\n",
       "      <th>3</th>\n",
       "      <td>2004.220768</td>\n",
       "      <td>1.881070</td>\n",
       "      <td>False</td>\n",
       "      <td>NaN</td>\n",
       "      <td>NaN</td>\n",
       "    </tr>\n",
       "    <tr>\n",
       "      <th>4</th>\n",
       "      <td>2504.208473</td>\n",
       "      <td>1.756132</td>\n",
       "      <td>False</td>\n",
       "      <td>NaN</td>\n",
       "      <td>NaN</td>\n",
       "    </tr>\n",
       "    <tr>\n",
       "      <th>5</th>\n",
       "      <td>3004.196177</td>\n",
       "      <td>1.817721</td>\n",
       "      <td>False</td>\n",
       "      <td>NaN</td>\n",
       "      <td>NaN</td>\n",
       "    </tr>\n",
       "    <tr>\n",
       "      <th>6</th>\n",
       "      <td>3504.183881</td>\n",
       "      <td>2.123669</td>\n",
       "      <td>False</td>\n",
       "      <td>NaN</td>\n",
       "      <td>NaN</td>\n",
       "    </tr>\n",
       "    <tr>\n",
       "      <th>7</th>\n",
       "      <td>4004.171585</td>\n",
       "      <td>2.658033</td>\n",
       "      <td>False</td>\n",
       "      <td>NaN</td>\n",
       "      <td>NaN</td>\n",
       "    </tr>\n",
       "  </tbody>\n",
       "</table>\n",
       "</div>"
      ],
      "text/plain": [
       "                        x    y_pred    std  conf_lower  conf_upper\n",
       "key                                                               \n",
       "ACTA2 None 0   504.257656  1.877883  False         NaN         NaN\n",
       "           1  1004.245360  1.951516  False         NaN         NaN\n",
       "           2  1504.233064  1.936031  False         NaN         NaN\n",
       "           3  2004.220768  1.881070  False         NaN         NaN\n",
       "           4  2504.208473  1.756132  False         NaN         NaN\n",
       "           5  3004.196177  1.817721  False         NaN         NaN\n",
       "           6  3504.183881  2.123669  False         NaN         NaN\n",
       "           7  4004.171585  2.658033  False         NaN         NaN"
      ]
     },
     "execution_count": 58,
     "metadata": {},
     "output_type": "execute_result"
    }
   ],
   "source": [
    "data"
   ]
  },
  {
   "cell_type": "code",
   "execution_count": 65,
   "id": "c8e8954c",
   "metadata": {},
   "outputs": [
    {
     "name": "stderr",
     "output_type": "stream",
     "text": [
      "No artists with labels found to put in legend.  Note that artists whose label start with an underscore are ignored when legend() is called with no argument.\n",
      "No artists with labels found to put in legend.  Note that artists whose label start with an underscore are ignored when legend() is called with no argument.\n"
     ]
    },
    {
     "data": {
      "image/png": "[encoded data removed]",
      "text/plain": [
       "<Figure size 1600x600 with 2 Axes>"
      ]
     },
     "metadata": {},
     "output_type": "display_data"
    }
   ],
   "source": [
    "expr_along_obs_val(adata=xd.cells.matrix,\n",
    "                   keys=[\"ACTA2\", \"KRT5\"],\n",
    "                   x_category=\"dist_from_points\", groupby=None, return_data=False,\n",
    "                   stderr=False, nsteps=100, plot_legend=False, xmax=1000\n",
    "                   )"
   ]
  },
  {
   "cell_type": "code",
   "execution_count": 41,
   "id": "0b86f99f",
   "metadata": {},
   "outputs": [
    {
     "data": {
      "text/plain": [
       "<Axes: xlabel='x'>"
      ]
     },
     "execution_count": 41,
     "metadata": {},
     "output_type": "execute_result"
    },
    {
     "data": {
      "image/png": "[encoded data removed]",
      "text/plain": [
       "<Figure size 640x480 with 1 Axes>"
      ]
     },
     "metadata": {},
     "output_type": "display_data"
    },
    {
     "data": {
      "image/png": "[encoded data removed]",
      "text/plain": [
       "<Figure size 640x480 with 1 Axes>"
      ]
     },
     "metadata": {},
     "output_type": "display_data"
    }
   ],
   "source": [
    "data.plot(kind=\"line\", x=\"x\", y=\"y_pred\", label=None, color=None, linewidth=2)\n",
    "data.plot(kind=\"line\", x=\"x\", y=\"y_pred\", label=\"2\", color=\"red\", linewidth=2)"
   ]
  },
  {
   "cell_type": "code",
   "execution_count": 32,
   "id": "3df624d9",
   "metadata": {},
   "outputs": [
    {
     "data": {
      "text/plain": [
       "[<matplotlib.lines.Line2D at 0x1d681ac63a0>]"
      ]
     },
     "execution_count": 32,
     "metadata": {},
     "output_type": "execute_result"
    },
    {
     "data": {
      "image/png": "[encoded data removed]",
      "text/plain": [
       "<Figure size 640x480 with 1 Axes>"
      ]
     },
     "metadata": {},
     "output_type": "display_data"
    }
   ],
   "source": [
    "plt.plot(data[\"x\"], data[\"y_pred\"])"
   ]
  },
  {
   "cell_type": "code",
   "execution_count": 30,
   "id": "dcf50b79",
   "metadata": {},
   "outputs": [
    {
     "data": {
      "text/plain": [
       "Index(['x', 'y_pred', 'std', 'conf_lower', 'conf_upper'], dtype='object')"
      ]
     },
     "execution_count": 30,
     "metadata": {},
     "output_type": "execute_result"
    }
   ],
   "source": [
    "data.columns"
   ]
  },
  {
   "cell_type": "code",
   "execution_count": 23,
   "id": "ffb44fb3",
   "metadata": {},
   "outputs": [
    {
     "data": {
      "text/html": [
       "<div>\n",
       "<style scoped>\n",
       "    .dataframe tbody tr th:only-of-type {\n",
       "        vertical-align: middle;\n",
       "    }\n",
       "\n",
       "    .dataframe tbody tr th {\n",
       "        vertical-align: top;\n",
       "    }\n",
       "\n",
       "    .dataframe thead th {\n",
       "        text-align: right;\n",
       "    }\n",
       "</style>\n",
       "<table border=\"1\" class=\"dataframe\">\n",
       "  <thead>\n",
       "    <tr style=\"text-align: right;\">\n",
       "      <th></th>\n",
       "      <th></th>\n",
       "      <th></th>\n",
       "      <th>x</th>\n",
       "      <th>y_pred</th>\n",
       "      <th>std</th>\n",
       "      <th>conf_lower</th>\n",
       "      <th>conf_upper</th>\n",
       "    </tr>\n",
       "    <tr>\n",
       "      <th>key</th>\n",
       "      <th></th>\n",
       "      <th></th>\n",
       "      <th></th>\n",
       "      <th></th>\n",
       "      <th></th>\n",
       "      <th></th>\n",
       "      <th></th>\n",
       "    </tr>\n",
       "  </thead>\n",
       "  <tbody>\n",
       "    <tr>\n",
       "      <th rowspan=\"8\" valign=\"top\">ACTA2</th>\n",
       "      <th rowspan=\"8\" valign=\"top\">None</th>\n",
       "      <th>0</th>\n",
       "      <td>504.257656</td>\n",
       "      <td>1.877883</td>\n",
       "      <td>False</td>\n",
       "      <td>NaN</td>\n",
       "      <td>NaN</td>\n",
       "    </tr>\n",
       "    <tr>\n",
       "      <th>1</th>\n",
       "      <td>1004.245360</td>\n",
       "      <td>1.951516</td>\n",
       "      <td>False</td>\n",
       "      <td>NaN</td>\n",
       "      <td>NaN</td>\n",
       "    </tr>\n",
       "    <tr>\n",
       "      <th>2</th>\n",
       "      <td>1504.233064</td>\n",
       "      <td>1.936031</td>\n",
       "      <td>False</td>\n",
       "      <td>NaN</td>\n",
       "      <td>NaN</td>\n",
       "    </tr>\n",
       "    <tr>\n",
       "      <th>3</th>\n",
       "      <td>2004.220768</td>\n",
       "      <td>1.881070</td>\n",
       "      <td>False</td>\n",
       "      <td>NaN</td>\n",
       "      <td>NaN</td>\n",
       "    </tr>\n",
       "    <tr>\n",
       "      <th>4</th>\n",
       "      <td>2504.208473</td>\n",
       "      <td>1.756132</td>\n",
       "      <td>False</td>\n",
       "      <td>NaN</td>\n",
       "      <td>NaN</td>\n",
       "    </tr>\n",
       "    <tr>\n",
       "      <th>5</th>\n",
       "      <td>3004.196177</td>\n",
       "      <td>1.817721</td>\n",
       "      <td>False</td>\n",
       "      <td>NaN</td>\n",
       "      <td>NaN</td>\n",
       "    </tr>\n",
       "    <tr>\n",
       "      <th>6</th>\n",
       "      <td>3504.183881</td>\n",
       "      <td>2.123669</td>\n",
       "      <td>False</td>\n",
       "      <td>NaN</td>\n",
       "      <td>NaN</td>\n",
       "    </tr>\n",
       "    <tr>\n",
       "      <th>7</th>\n",
       "      <td>4004.171585</td>\n",
       "      <td>2.658033</td>\n",
       "      <td>False</td>\n",
       "      <td>NaN</td>\n",
       "      <td>NaN</td>\n",
       "    </tr>\n",
       "  </tbody>\n",
       "</table>\n",
       "</div>"
      ],
      "text/plain": [
       "                        x    y_pred    std  conf_lower  conf_upper\n",
       "key                                                               \n",
       "ACTA2 None 0   504.257656  1.877883  False         NaN         NaN\n",
       "           1  1004.245360  1.951516  False         NaN         NaN\n",
       "           2  1504.233064  1.936031  False         NaN         NaN\n",
       "           3  2004.220768  1.881070  False         NaN         NaN\n",
       "           4  2504.208473  1.756132  False         NaN         NaN\n",
       "           5  3004.196177  1.817721  False         NaN         NaN\n",
       "           6  3504.183881  2.123669  False         NaN         NaN\n",
       "           7  4004.171585  2.658033  False         NaN         NaN"
      ]
     },
     "execution_count": 23,
     "metadata": {},
     "output_type": "execute_result"
    }
   ],
   "source": [
    "data"
   ]
  },
  {
   "cell_type": "code",
   "execution_count": 27,
   "id": "24ae7f44",
   "metadata": {},
   "outputs": [],
   "source": [
    "ls, xs_pred = data"
   ]
  },
  {
   "cell_type": "code",
   "execution_count": 30,
   "id": "9082f0a0",
   "metadata": {},
   "outputs": [
    {
     "ename": "",
     "evalue": "",
     "output_type": "error",
     "traceback": [
      "\u001b[1;31mThe Kernel crashed while executing code in the current cell or a previous cell. \n",
      "\u001b[1;31mPlease review the code in the cell(s) to identify a possible cause of the failure. \n",
      "\u001b[1;31mClick <a href='https://aka.ms/vscodeJupyterKernelCrash'>here</a> for more info. \n",
      "\u001b[1;31mView Jupyter <a href='command:jupyter.viewOutput'>log</a> for further details."
     ]
    }
   ],
   "source": [
    "pred =  ls.predict(xs_pred, stderror=False)"
   ]
  },
  {
   "cell_type": "code",
   "execution_count": 29,
   "id": "fc47ee41",
   "metadata": {},
   "outputs": [
    {
     "ename": "ValueError",
     "evalue": "Standard error was not computed.Use 'stderror=True' when predicting.",
     "output_type": "error",
     "traceback": [
      "\u001b[1;31m---------------------------------------------------------------------------\u001b[0m",
      "\u001b[1;31mValueError\u001b[0m                                Traceback (most recent call last)",
      "Cell \u001b[1;32mIn[29], line 1\u001b[0m\n\u001b[1;32m----> 1\u001b[0m \u001b[43mpred\u001b[49m\u001b[38;5;241;43m.\u001b[39;49m\u001b[43mstderr\u001b[49m\n",
      "File \u001b[1;32m_loess.pyx:742\u001b[0m, in \u001b[0;36m_loess.loess_prediction.stderr.__get__\u001b[1;34m()\u001b[0m\n",
      "\u001b[1;31mValueError\u001b[0m: Standard error was not computed.Use 'stderror=True' when predicting."
     ]
    }
   ],
   "source": [
    "pred.stderr"
   ]
  },
  {
   "cell_type": "code",
   "execution_count": 24,
   "id": "209bef3e",
   "metadata": {},
   "outputs": [
    {
     "ename": "ValueError",
     "evalue": "Standard error was not computed.Use 'stderror=True' when predicting.",
     "output_type": "error",
     "traceback": [
      "\u001b[1;31m---------------------------------------------------------------------------\u001b[0m",
      "\u001b[1;31mValueError\u001b[0m                                Traceback (most recent call last)",
      "Cell \u001b[1;32mIn[24], line 1\u001b[0m\n\u001b[1;32m----> 1\u001b[0m \u001b[43mdata\u001b[49m\u001b[38;5;241;43m.\u001b[39;49m\u001b[43mstderr\u001b[49m\n",
      "File \u001b[1;32m_loess.pyx:742\u001b[0m, in \u001b[0;36m_loess.loess_prediction.stderr.__get__\u001b[1;34m()\u001b[0m\n",
      "\u001b[1;31mValueError\u001b[0m: Standard error was not computed.Use 'stderror=True' when predicting."
     ]
    }
   ],
   "source": [
    "data.stderr"
   ]
  },
  {
   "cell_type": "code",
   "execution_count": 23,
   "id": "d3a1e6df",
   "metadata": {},
   "outputs": [
    {
     "data": {
      "text/html": [
       "<div>\n",
       "<style scoped>\n",
       "    .dataframe tbody tr th:only-of-type {\n",
       "        vertical-align: middle;\n",
       "    }\n",
       "\n",
       "    .dataframe tbody tr th {\n",
       "        vertical-align: top;\n",
       "    }\n",
       "\n",
       "    .dataframe thead th {\n",
       "        text-align: right;\n",
       "    }\n",
       "</style>\n",
       "<table border=\"1\" class=\"dataframe\">\n",
       "  <thead>\n",
       "    <tr style=\"text-align: right;\">\n",
       "      <th></th>\n",
       "      <th></th>\n",
       "      <th></th>\n",
       "      <th>x</th>\n",
       "      <th>y_pred</th>\n",
       "      <th>std</th>\n",
       "      <th>conf_lower</th>\n",
       "      <th>conf_upper</th>\n",
       "    </tr>\n",
       "    <tr>\n",
       "      <th>key</th>\n",
       "      <th></th>\n",
       "      <th></th>\n",
       "      <th></th>\n",
       "      <th></th>\n",
       "      <th></th>\n",
       "      <th></th>\n",
       "      <th></th>\n",
       "    </tr>\n",
       "  </thead>\n",
       "  <tbody>\n",
       "    <tr>\n",
       "      <th rowspan=\"8\" valign=\"top\">ACTA2</th>\n",
       "      <th rowspan=\"8\" valign=\"top\">None</th>\n",
       "      <th>0</th>\n",
       "      <td>479.806029</td>\n",
       "      <td>2.100595</td>\n",
       "      <td>False</td>\n",
       "      <td>NaN</td>\n",
       "      <td>NaN</td>\n",
       "    </tr>\n",
       "    <tr>\n",
       "      <th>1</th>\n",
       "      <td>958.483608</td>\n",
       "      <td>1.943201</td>\n",
       "      <td>False</td>\n",
       "      <td>NaN</td>\n",
       "      <td>NaN</td>\n",
       "    </tr>\n",
       "    <tr>\n",
       "      <th>2</th>\n",
       "      <td>1437.161187</td>\n",
       "      <td>1.921318</td>\n",
       "      <td>False</td>\n",
       "      <td>NaN</td>\n",
       "      <td>NaN</td>\n",
       "    </tr>\n",
       "    <tr>\n",
       "      <th>3</th>\n",
       "      <td>1915.838766</td>\n",
       "      <td>1.826385</td>\n",
       "      <td>False</td>\n",
       "      <td>NaN</td>\n",
       "      <td>NaN</td>\n",
       "    </tr>\n",
       "    <tr>\n",
       "      <th>4</th>\n",
       "      <td>2394.516345</td>\n",
       "      <td>1.634902</td>\n",
       "      <td>False</td>\n",
       "      <td>NaN</td>\n",
       "      <td>NaN</td>\n",
       "    </tr>\n",
       "    <tr>\n",
       "      <th>5</th>\n",
       "      <td>2873.193924</td>\n",
       "      <td>1.797144</td>\n",
       "      <td>False</td>\n",
       "      <td>NaN</td>\n",
       "      <td>NaN</td>\n",
       "    </tr>\n",
       "    <tr>\n",
       "      <th>6</th>\n",
       "      <td>3351.871503</td>\n",
       "      <td>2.273278</td>\n",
       "      <td>False</td>\n",
       "      <td>NaN</td>\n",
       "      <td>NaN</td>\n",
       "    </tr>\n",
       "    <tr>\n",
       "      <th>7</th>\n",
       "      <td>3830.549082</td>\n",
       "      <td>3.041486</td>\n",
       "      <td>False</td>\n",
       "      <td>NaN</td>\n",
       "      <td>NaN</td>\n",
       "    </tr>\n",
       "  </tbody>\n",
       "</table>\n",
       "</div>"
      ],
      "text/plain": [
       "                        x    y_pred    std  conf_lower  conf_upper\n",
       "key                                                               \n",
       "ACTA2 None 0   479.806029  2.100595  False         NaN         NaN\n",
       "           1   958.483608  1.943201  False         NaN         NaN\n",
       "           2  1437.161187  1.921318  False         NaN         NaN\n",
       "           3  1915.838766  1.826385  False         NaN         NaN\n",
       "           4  2394.516345  1.634902  False         NaN         NaN\n",
       "           5  2873.193924  1.797144  False         NaN         NaN\n",
       "           6  3351.871503  2.273278  False         NaN         NaN\n",
       "           7  3830.549082  3.041486  False         NaN         NaN"
      ]
     },
     "execution_count": 23,
     "metadata": {},
     "output_type": "execute_result"
    }
   ],
   "source": [
    "data"
   ]
  },
  {
   "cell_type": "code",
   "execution_count": 33,
   "id": "90002997",
   "metadata": {},
   "outputs": [
    {
     "ename": "NameError",
     "evalue": "name 'xs' is not defined",
     "output_type": "error",
     "traceback": [
      "\u001b[1;31m---------------------------------------------------------------------------\u001b[0m",
      "\u001b[1;31mNameError\u001b[0m                                 Traceback (most recent call last)",
      "Cell \u001b[1;32mIn[33], line 1\u001b[0m\n\u001b[1;32m----> 1\u001b[0m \u001b[43mxs\u001b[49m\n",
      "\u001b[1;31mNameError\u001b[0m: name 'xs' is not defined"
     ]
    }
   ],
   "source": [
    "xs"
   ]
  },
  {
   "cell_type": "code",
   "execution_count": null,
   "id": "67a4d041",
   "metadata": {},
   "outputs": [],
   "source": []
  },
  {
   "cell_type": "code",
   "execution_count": null,
   "id": "e1f5fd45",
   "metadata": {},
   "outputs": [
    {
     "ename": "ValueError",
     "evalue": "setting an array element with a sequence.",
     "output_type": "error",
     "traceback": [
      "\u001b[1;31m---------------------------------------------------------------------------\u001b[0m\n",
      "\u001b[1;31mTypeError\u001b[0m                                 Traceback (most recent call last)\n",
      "\u001b[1;31mTypeError\u001b[0m: float() argument must be a string or a number, not 'csr_matrix'\n",
      "\n",
      "The above exception was the direct cause of the following exception:\n",
      "\n",
      "\u001b[1;31mValueError\u001b[0m                                Traceback (most recent call last)\n",
      "Cell \u001b[1;32mIn[29], line 1\u001b[0m\n",
      "\u001b[1;32m----> 1\u001b[0m \u001b[43mexpr_along_obs_val\u001b[49m\u001b[43m(\u001b[49m\u001b[43madata\u001b[49m\u001b[38;5;241;43m=\u001b[39;49m\u001b[43mxd\u001b[49m\u001b[38;5;241;43m.\u001b[39;49m\u001b[43mcells\u001b[49m\u001b[38;5;241;43m.\u001b[39;49m\u001b[43mmatrix\u001b[49m\u001b[43m,\u001b[49m\n",
      "\u001b[0;32m      2\u001b[0m \u001b[43m                   \u001b[49m\u001b[43mkeys\u001b[49m\u001b[38;5;241;43m=\u001b[39;49m\u001b[38;5;124;43m\"\u001b[39;49m\u001b[38;5;124;43mACTA2\u001b[39;49m\u001b[38;5;124;43m\"\u001b[39;49m\u001b[43m,\u001b[49m\n",
      "\u001b[0;32m      3\u001b[0m \u001b[43m                   \u001b[49m\u001b[43mx_category\u001b[49m\u001b[38;5;241;43m=\u001b[39;49m\u001b[38;5;124;43m\"\u001b[39;49m\u001b[38;5;124;43mdist_from_points\u001b[39;49m\u001b[38;5;124;43m\"\u001b[39;49m\u001b[43m,\u001b[49m\u001b[43m \u001b[49m\u001b[43mgroupby\u001b[49m\u001b[38;5;241;43m=\u001b[39;49m\u001b[38;5;28;43;01mNone\u001b[39;49;00m\n",
      "\u001b[0;32m      4\u001b[0m \u001b[43m                   \u001b[49m\u001b[43m)\u001b[49m\n",
      "\n",
      "File \u001b[1;32m~\\Github\\InSituPy\\insitupy\\plotting\\expression_along_axis.py:165\u001b[0m, in \u001b[0;36mexpr_along_obs_val\u001b[1;34m(adata, keys, x_category, groupby, splitby, hue, method, stderr, range_min, range_max, cmap, linewidth, extra_cats, normalize, nsteps, show_progress, use_raw, max_cols, xlabel, ylabel, vline, hline, vlinewidth, custom_titles, legend_fontsize, plot_legend, xlabel_fontsize, ylabel_fontsize, title_fontsize, tick_fontsize, figsize, savepath, save_only, show, axis, return_data, fig, dpi_save, smooth, **kwargs)\u001b[0m\n",
      "\u001b[0;32m    161\u001b[0m     \u001b[38;5;28mprint\u001b[39m(\u001b[38;5;124m\"\u001b[39m\u001b[38;5;124mKey \u001b[39m\u001b[38;5;124m'\u001b[39m\u001b[38;5;132;01m{}\u001b[39;00m\u001b[38;5;124m'\u001b[39m\u001b[38;5;124m not found.\u001b[39m\u001b[38;5;124m\"\u001b[39m\u001b[38;5;241m.\u001b[39mformat(key))\n",
      "\u001b[0;32m    163\u001b[0m \u001b[38;5;28;01mif\u001b[39;00m smooth:\n",
      "\u001b[0;32m    164\u001b[0m     \u001b[38;5;66;03m# do smooth fitting\u001b[39;00m\n",
      "\u001b[1;32m--> 165\u001b[0m     df \u001b[38;5;241m=\u001b[39m smooth_fit(x, y,\n",
      "\u001b[0;32m    166\u001b[0m                 \u001b[38;5;28mmin\u001b[39m\u001b[38;5;241m=\u001b[39mrange_min, \u001b[38;5;28mmax\u001b[39m\u001b[38;5;241m=\u001b[39mrange_max,\n",
      "\u001b[0;32m    167\u001b[0m                 nsteps\u001b[38;5;241m=\u001b[39mnsteps, method\u001b[38;5;241m=\u001b[39mmethod, stderr\u001b[38;5;241m=\u001b[39mstderr, \u001b[38;5;241m*\u001b[39m\u001b[38;5;241m*\u001b[39mkwargs)\n",
      "\u001b[0;32m    168\u001b[0m \u001b[38;5;28;01melse\u001b[39;00m:\n",
      "\u001b[0;32m    169\u001b[0m     \u001b[38;5;66;03m# set up dataframe without smooth fitting\u001b[39;00m\n",
      "\u001b[0;32m    170\u001b[0m     df \u001b[38;5;241m=\u001b[39m pd\u001b[38;5;241m.\u001b[39mDataFrame({\u001b[38;5;124m\"\u001b[39m\u001b[38;5;124mx\u001b[39m\u001b[38;5;124m\"\u001b[39m: x, \u001b[38;5;124m\"\u001b[39m\u001b[38;5;124my_pred\u001b[39m\u001b[38;5;124m\"\u001b[39m: y})\n",
      "\n",
      "File \u001b[1;32m~\\Github\\InSituPy\\insitupy\\utils\\_calc.py:100\u001b[0m, in \u001b[0;36msmooth_fit\u001b[1;34m(xs, ys, min, max, nsteps, method, stderr, K)\u001b[0m\n",
      "\u001b[0;32m     98\u001b[0m \u001b[38;5;66;03m# generate loess class object\u001b[39;00m\n",
      "\u001b[0;32m     99\u001b[0m \u001b[38;5;28;01mif\u001b[39;00m use_loess:\n",
      "\u001b[1;32m--> 100\u001b[0m     ls \u001b[38;5;241m=\u001b[39m \u001b[43mloess\u001b[49m\u001b[43m(\u001b[49m\u001b[43mxs\u001b[49m\u001b[43m,\u001b[49m\u001b[43m \u001b[49m\u001b[43mys\u001b[49m\u001b[43m)\u001b[49m\n",
      "\u001b[0;32m    101\u001b[0m \u001b[38;5;28;01melse\u001b[39;00m:\n",
      "\u001b[0;32m    102\u001b[0m     ls \u001b[38;5;241m=\u001b[39m lowess(xs, ys)\n",
      "\n",
      "File \u001b[1;32m_loess.pyx:897\u001b[0m, in \u001b[0;36m_loess.loess.__init__\u001b[1;34m()\u001b[0m\n",
      "\n",
      "File \u001b[1;32m_loess.pyx:81\u001b[0m, in \u001b[0;36m_loess.loess_inputs.__cinit__\u001b[1;34m()\u001b[0m\n",
      "\n",
      "\u001b[1;31mValueError\u001b[0m: setting an array element with a sequence."
     ]
    },
    {
     "data": {
      "image/png": "[encoded data removed]",
      "text/plain": [
       "<Figure size 800x600 with 1 Axes>"
      ]
     },
     "metadata": {},
     "output_type": "display_data"
    }
   ],
   "source": [
    "expr_along_obs_val(adata=xd.cells.matrix,\n",
    "                   keys=\"ACTA2\",\n",
    "                   x_category=\"dist_from_points\", groupby=None\n",
    "                   )"
   ]
  },
  {
   "cell_type": "code",
   "execution_count": null,
   "id": "1f0981e0",
   "metadata": {},
   "outputs": [
    {
     "ename": "ValueError",
     "evalue": "setting an array element with a sequence.",
     "output_type": "error",
     "traceback": [
      "\u001b[1;31m---------------------------------------------------------------------------\u001b[0m\n",
      "\u001b[1;31mTypeError\u001b[0m                                 Traceback (most recent call last)\n",
      "\u001b[1;31mTypeError\u001b[0m: float() argument must be a string or a number, not 'csr_matrix'\n",
      "\n",
      "The above exception was the direct cause of the following exception:\n",
      "\n",
      "\u001b[1;31mValueError\u001b[0m                                Traceback (most recent call last)\n",
      "Cell \u001b[1;32mIn[29], line 1\u001b[0m\n",
      "\u001b[1;32m----> 1\u001b[0m \u001b[43mexpr_along_obs_val\u001b[49m\u001b[43m(\u001b[49m\u001b[43madata\u001b[49m\u001b[38;5;241;43m=\u001b[39;49m\u001b[43mxd\u001b[49m\u001b[38;5;241;43m.\u001b[39;49m\u001b[43mcells\u001b[49m\u001b[38;5;241;43m.\u001b[39;49m\u001b[43mmatrix\u001b[49m\u001b[43m,\u001b[49m\n",
      "\u001b[0;32m      2\u001b[0m \u001b[43m                   \u001b[49m\u001b[43mkeys\u001b[49m\u001b[38;5;241;43m=\u001b[39;49m\u001b[38;5;124;43m\"\u001b[39;49m\u001b[38;5;124;43mACTA2\u001b[39;49m\u001b[38;5;124;43m\"\u001b[39;49m\u001b[43m,\u001b[49m\n",
      "\u001b[0;32m      3\u001b[0m \u001b[43m                   \u001b[49m\u001b[43mx_category\u001b[49m\u001b[38;5;241;43m=\u001b[39;49m\u001b[38;5;124;43m\"\u001b[39;49m\u001b[38;5;124;43mdist_from_points\u001b[39;49m\u001b[38;5;124;43m\"\u001b[39;49m\u001b[43m,\u001b[49m\u001b[43m \u001b[49m\u001b[43mgroupby\u001b[49m\u001b[38;5;241;43m=\u001b[39;49m\u001b[38;5;28;43;01mNone\u001b[39;49;00m\n",
      "\u001b[0;32m      4\u001b[0m \u001b[43m                   \u001b[49m\u001b[43m)\u001b[49m\n",
      "\n",
      "File \u001b[1;32m~\\Github\\InSituPy\\insitupy\\plotting\\expression_along_axis.py:165\u001b[0m, in \u001b[0;36mexpr_along_obs_val\u001b[1;34m(adata, keys, x_category, groupby, splitby, hue, method, stderr, range_min, range_max, cmap, linewidth, extra_cats, normalize, nsteps, show_progress, use_raw, max_cols, xlabel, ylabel, vline, hline, vlinewidth, custom_titles, legend_fontsize, plot_legend, xlabel_fontsize, ylabel_fontsize, title_fontsize, tick_fontsize, figsize, savepath, save_only, show, axis, return_data, fig, dpi_save, smooth, **kwargs)\u001b[0m\n",
      "\u001b[0;32m    161\u001b[0m     \u001b[38;5;28mprint\u001b[39m(\u001b[38;5;124m\"\u001b[39m\u001b[38;5;124mKey \u001b[39m\u001b[38;5;124m'\u001b[39m\u001b[38;5;132;01m{}\u001b[39;00m\u001b[38;5;124m'\u001b[39m\u001b[38;5;124m not found.\u001b[39m\u001b[38;5;124m\"\u001b[39m\u001b[38;5;241m.\u001b[39mformat(key))\n",
      "\u001b[0;32m    163\u001b[0m \u001b[38;5;28;01mif\u001b[39;00m smooth:\n",
      "\u001b[0;32m    164\u001b[0m     \u001b[38;5;66;03m# do smooth fitting\u001b[39;00m\n",
      "\u001b[1;32m--> 165\u001b[0m     df \u001b[38;5;241m=\u001b[39m smooth_fit(x, y,\n",
      "\u001b[0;32m    166\u001b[0m                 \u001b[38;5;28mmin\u001b[39m\u001b[38;5;241m=\u001b[39mrange_min, \u001b[38;5;28mmax\u001b[39m\u001b[38;5;241m=\u001b[39mrange_max,\n",
      "\u001b[0;32m    167\u001b[0m                 nsteps\u001b[38;5;241m=\u001b[39mnsteps, method\u001b[38;5;241m=\u001b[39mmethod, stderr\u001b[38;5;241m=\u001b[39mstderr, \u001b[38;5;241m*\u001b[39m\u001b[38;5;241m*\u001b[39mkwargs)\n",
      "\u001b[0;32m    168\u001b[0m \u001b[38;5;28;01melse\u001b[39;00m:\n",
      "\u001b[0;32m    169\u001b[0m     \u001b[38;5;66;03m# set up dataframe without smooth fitting\u001b[39;00m\n",
      "\u001b[0;32m    170\u001b[0m     df \u001b[38;5;241m=\u001b[39m pd\u001b[38;5;241m.\u001b[39mDataFrame({\u001b[38;5;124m\"\u001b[39m\u001b[38;5;124mx\u001b[39m\u001b[38;5;124m\"\u001b[39m: x, \u001b[38;5;124m\"\u001b[39m\u001b[38;5;124my_pred\u001b[39m\u001b[38;5;124m\"\u001b[39m: y})\n",
      "\n",
      "File \u001b[1;32m~\\Github\\InSituPy\\insitupy\\utils\\_calc.py:100\u001b[0m, in \u001b[0;36msmooth_fit\u001b[1;34m(xs, ys, min, max, nsteps, method, stderr, K)\u001b[0m\n",
      "\u001b[0;32m     98\u001b[0m \u001b[38;5;66;03m# generate loess class object\u001b[39;00m\n",
      "\u001b[0;32m     99\u001b[0m \u001b[38;5;28;01mif\u001b[39;00m use_loess:\n",
      "\u001b[1;32m--> 100\u001b[0m     ls \u001b[38;5;241m=\u001b[39m \u001b[43mloess\u001b[49m\u001b[43m(\u001b[49m\u001b[43mxs\u001b[49m\u001b[43m,\u001b[49m\u001b[43m \u001b[49m\u001b[43mys\u001b[49m\u001b[43m)\u001b[49m\n",
      "\u001b[0;32m    101\u001b[0m \u001b[38;5;28;01melse\u001b[39;00m:\n",
      "\u001b[0;32m    102\u001b[0m     ls \u001b[38;5;241m=\u001b[39m lowess(xs, ys)\n",
      "\n",
      "File \u001b[1;32m_loess.pyx:897\u001b[0m, in \u001b[0;36m_loess.loess.__init__\u001b[1;34m()\u001b[0m\n",
      "\n",
      "File \u001b[1;32m_loess.pyx:81\u001b[0m, in \u001b[0;36m_loess.loess_inputs.__cinit__\u001b[1;34m()\u001b[0m\n",
      "\n",
      "\u001b[1;31mValueError\u001b[0m: setting an array element with a sequence."
     ]
    },
    {
     "data": {
      "image/png": "[encoded data removed]",
      "text/plain": [
       "<Figure size 800x600 with 1 Axes>"
      ]
     },
     "metadata": {},
     "output_type": "display_data"
    }
   ],
   "source": [
    "expr_along_obs_val(adata=xd.cells.matrix,\n",
    "                   keys=\"ACTA2\",\n",
    "                   x_category=\"dist_from_points\", groupby=None\n",
    "                   )"
   ]
  },
  {
   "cell_type": "code",
   "execution_count": null,
   "id": "d908cfcd",
   "metadata": {},
   "outputs": [],
   "source": [
    "a"
   ]
  },
  {
   "cell_type": "code",
   "execution_count": 19,
   "id": "a05a66b9",
   "metadata": {},
   "outputs": [
    {
     "data": {
      "text/plain": [
       "(8, 167780)"
      ]
     },
     "execution_count": 19,
     "metadata": {},
     "output_type": "execute_result"
    }
   ],
   "source": [
    "dists.shape"
   ]
  },
  {
   "cell_type": "code",
   "execution_count": 13,
   "id": "96960e45",
   "metadata": {},
   "outputs": [
    {
     "data": {
      "text/plain": [
       "<GeometryArray>\n",
       "[<POINT (1910.078 2939.854)>, <POINT (2054.715 2852.311)>,\n",
       " <POINT (1872.015 2585.873)>, <POINT (1970.978 3210.098)>,\n",
       " <POINT (2225.996 3164.423)>,  <POINT (2069.94 3377.573)>,\n",
       "  <POINT (2770.289 2974.11)>, <POINT (5278.293 1273.736)>]\n",
       "Length: 8, dtype: geometry"
      ]
     },
     "execution_count": 13,
     "metadata": {},
     "output_type": "execute_result"
    }
   ],
   "source": [
    "points"
   ]
  },
  {
   "cell_type": "code",
   "execution_count": 12,
   "id": "1354ac63",
   "metadata": {},
   "outputs": [
    {
     "data": {
      "text/plain": [
       "10.316043603539608"
      ]
     },
     "execution_count": 12,
     "metadata": {},
     "output_type": "execute_result"
    }
   ],
   "source": [
    "dist.min()"
   ]
  },
  {
   "cell_type": "code",
   "execution_count": 91,
   "id": "ab9d4973",
   "metadata": {},
   "outputs": [
    {
     "data": {
      "text/plain": [
       "array([2840.97583443, 2847.16676686, 2835.26350056, ..., 5964.1267676 ,\n",
       "       5974.66129396, 5983.51357957])"
      ]
     },
     "execution_count": 91,
     "metadata": {},
     "output_type": "execute_result"
    }
   ],
   "source": [
    "dist"
   ]
  },
  {
   "cell_type": "code",
   "execution_count": 92,
   "id": "a47d1457",
   "metadata": {},
   "outputs": [],
   "source": [
    "from shapely import LineString"
   ]
  },
  {
   "cell_type": "code",
   "execution_count": 93,
   "id": "f4216995",
   "metadata": {},
   "outputs": [
    {
     "data": {
      "text/plain": [
       "array([[ 7264.325411  , 28308.07095047],\n",
       "       [ 7743.80240649, 27436.29459505],\n",
       "       [ 9182.23339293, 26491.87021001],\n",
       "       [10577.0755616 , 24922.67277026],\n",
       "       [11812.09206511, 23992.77799114],\n",
       "       [13250.52305156, 23760.30429636]])"
      ]
     },
     "execution_count": 93,
     "metadata": {},
     "output_type": "execute_result"
    }
   ],
   "source": [
    "ll.data[0]"
   ]
  },
  {
   "cell_type": "code",
   "execution_count": 94,
   "id": "6228f58b",
   "metadata": {},
   "outputs": [],
   "source": [
    "line_coords_xy = np.flip(ll.data[0], axis=1) * pixel_size"
   ]
  },
  {
   "cell_type": "code",
   "execution_count": 95,
   "id": "f89a6749",
   "metadata": {},
   "outputs": [],
   "source": [
    "line = LineString(line_coords_xy)"
   ]
  },
  {
   "cell_type": "code",
   "execution_count": 96,
   "id": "9a77a3ec",
   "metadata": {},
   "outputs": [
    {
     "data": {
      "text/plain": [
       "array([4779.33797023, 4797.11646734, 4775.46252531, ..., 3341.75590766,\n",
       "       3353.85023477, 3358.49688704])"
      ]
     },
     "execution_count": 96,
     "metadata": {},
     "output_type": "execute_result"
    }
   ],
   "source": [
    "cells.distance(line)"
   ]
  },
  {
   "cell_type": "code",
   "execution_count": 97,
   "id": "e799a616",
   "metadata": {},
   "outputs": [],
   "source": [
    "xd.cells.matrix.obs[\"line\"] = cells.distance(line)\n",
    "xd.cells.matrix.obs[\"line2\"] = cells.distance(line)**2"
   ]
  },
  {
   "cell_type": "code",
   "execution_count": 82,
   "id": "7cfb06ab",
   "metadata": {},
   "outputs": [],
   "source": [
    "xd.show()"
   ]
  },
  {
   "cell_type": "code",
   "execution_count": 99,
   "id": "60311008",
   "metadata": {},
   "outputs": [],
   "source": [
    "adata = xd.cells.matrix"
   ]
  },
  {
   "cell_type": "code",
   "execution_count": 100,
   "id": "81f22f7e",
   "metadata": {},
   "outputs": [
    {
     "data": {
      "text/plain": [
       "AnnData object with n_obs × n_vars = 167780 × 313\n",
       "    obs: 'transcript_counts', 'control_probe_counts', 'control_codeword_counts', 'total_counts', 'cell_area', 'nucleus_area', 'annotation-demo', 'annotation-demo2', 'line', 'line2'\n",
       "    var: 'gene_ids', 'feature_types', 'genome'\n",
       "    obsm: 'spatial'\n",
       "    varm: 'binned_expression'"
      ]
     },
     "execution_count": 100,
     "metadata": {},
     "output_type": "execute_result"
    }
   ],
   "source": [
    "adata"
   ]
  },
  {
   "cell_type": "code",
   "execution_count": 102,
   "id": "a7f72e38",
   "metadata": {},
   "outputs": [
    {
     "data": {
      "text/plain": [
       "array([[0., 0., 0., ..., 0., 0., 0.],\n",
       "       [0., 0., 1., ..., 0., 0., 0.],\n",
       "       [0., 0., 0., ..., 0., 0., 0.],\n",
       "       ...,\n",
       "       [4., 1., 5., ..., 0., 0., 3.],\n",
       "       [1., 0., 0., ..., 0., 0., 0.],\n",
       "       [4., 1., 3., ..., 0., 0., 0.]], dtype=float32)"
      ]
     },
     "execution_count": 102,
     "metadata": {},
     "output_type": "execute_result"
    }
   ],
   "source": [
    "adata.X.toarray()"
   ]
  },
  {
   "cell_type": "code",
   "execution_count": 103,
   "id": "32be3be0",
   "metadata": {},
   "outputs": [
    {
     "data": {
      "text/html": [
       "<div>\n",
       "<style scoped>\n",
       "    .dataframe tbody tr th:only-of-type {\n",
       "        vertical-align: middle;\n",
       "    }\n",
       "\n",
       "    .dataframe tbody tr th {\n",
       "        vertical-align: top;\n",
       "    }\n",
       "\n",
       "    .dataframe thead th {\n",
       "        text-align: right;\n",
       "    }\n",
       "</style>\n",
       "<table border=\"1\" class=\"dataframe\">\n",
       "  <thead>\n",
       "    <tr style=\"text-align: right;\">\n",
       "      <th></th>\n",
       "      <th>transcript_counts</th>\n",
       "      <th>control_probe_counts</th>\n",
       "      <th>control_codeword_counts</th>\n",
       "      <th>total_counts</th>\n",
       "      <th>cell_area</th>\n",
       "      <th>nucleus_area</th>\n",
       "      <th>annotation-demo</th>\n",
       "      <th>annotation-demo2</th>\n",
       "      <th>line</th>\n",
       "      <th>line2</th>\n",
       "    </tr>\n",
       "  </thead>\n",
       "  <tbody>\n",
       "    <tr>\n",
       "      <th>1</th>\n",
       "      <td>28</td>\n",
       "      <td>1</td>\n",
       "      <td>0</td>\n",
       "      <td>29</td>\n",
       "      <td>58.387031</td>\n",
       "      <td>26.642188</td>\n",
       "      <td>NaN</td>\n",
       "      <td>NaN</td>\n",
       "      <td>4779.337970</td>\n",
       "      <td>2.284207e+07</td>\n",
       "    </tr>\n",
       "    <tr>\n",
       "      <th>2</th>\n",
       "      <td>94</td>\n",
       "      <td>0</td>\n",
       "      <td>0</td>\n",
       "      <td>94</td>\n",
       "      <td>197.016719</td>\n",
       "      <td>42.130781</td>\n",
       "      <td>NaN</td>\n",
       "      <td>NaN</td>\n",
       "      <td>4797.116467</td>\n",
       "      <td>2.301233e+07</td>\n",
       "    </tr>\n",
       "    <tr>\n",
       "      <th>3</th>\n",
       "      <td>9</td>\n",
       "      <td>0</td>\n",
       "      <td>0</td>\n",
       "      <td>9</td>\n",
       "      <td>16.256250</td>\n",
       "      <td>12.688906</td>\n",
       "      <td>NaN</td>\n",
       "      <td>NaN</td>\n",
       "      <td>4775.462525</td>\n",
       "      <td>2.280504e+07</td>\n",
       "    </tr>\n",
       "    <tr>\n",
       "      <th>4</th>\n",
       "      <td>11</td>\n",
       "      <td>0</td>\n",
       "      <td>0</td>\n",
       "      <td>11</td>\n",
       "      <td>42.311406</td>\n",
       "      <td>10.069844</td>\n",
       "      <td>NaN</td>\n",
       "      <td>NaN</td>\n",
       "      <td>4796.173524</td>\n",
       "      <td>2.300328e+07</td>\n",
       "    </tr>\n",
       "    <tr>\n",
       "      <th>5</th>\n",
       "      <td>48</td>\n",
       "      <td>0</td>\n",
       "      <td>0</td>\n",
       "      <td>48</td>\n",
       "      <td>107.652500</td>\n",
       "      <td>37.479688</td>\n",
       "      <td>NaN</td>\n",
       "      <td>NaN</td>\n",
       "      <td>4781.829921</td>\n",
       "      <td>2.286590e+07</td>\n",
       "    </tr>\n",
       "    <tr>\n",
       "      <th>...</th>\n",
       "      <td>...</td>\n",
       "      <td>...</td>\n",
       "      <td>...</td>\n",
       "      <td>...</td>\n",
       "      <td>...</td>\n",
       "      <td>...</td>\n",
       "      <td>...</td>\n",
       "      <td>...</td>\n",
       "      <td>...</td>\n",
       "      <td>...</td>\n",
       "    </tr>\n",
       "    <tr>\n",
       "      <th>167776</th>\n",
       "      <td>229</td>\n",
       "      <td>1</td>\n",
       "      <td>0</td>\n",
       "      <td>230</td>\n",
       "      <td>220.452813</td>\n",
       "      <td>60.599688</td>\n",
       "      <td>NaN</td>\n",
       "      <td>NaN</td>\n",
       "      <td>3328.190758</td>\n",
       "      <td>1.107685e+07</td>\n",
       "    </tr>\n",
       "    <tr>\n",
       "      <th>167777</th>\n",
       "      <td>79</td>\n",
       "      <td>0</td>\n",
       "      <td>0</td>\n",
       "      <td>79</td>\n",
       "      <td>37.389375</td>\n",
       "      <td>25.242344</td>\n",
       "      <td>NaN</td>\n",
       "      <td>NaN</td>\n",
       "      <td>3346.342668</td>\n",
       "      <td>1.119801e+07</td>\n",
       "    </tr>\n",
       "    <tr>\n",
       "      <th>167778</th>\n",
       "      <td>397</td>\n",
       "      <td>0</td>\n",
       "      <td>0</td>\n",
       "      <td>397</td>\n",
       "      <td>287.058281</td>\n",
       "      <td>86.700000</td>\n",
       "      <td>NaN</td>\n",
       "      <td>NaN</td>\n",
       "      <td>3341.755908</td>\n",
       "      <td>1.116733e+07</td>\n",
       "    </tr>\n",
       "    <tr>\n",
       "      <th>167779</th>\n",
       "      <td>117</td>\n",
       "      <td>0</td>\n",
       "      <td>0</td>\n",
       "      <td>117</td>\n",
       "      <td>235.354375</td>\n",
       "      <td>25.197188</td>\n",
       "      <td>NaN</td>\n",
       "      <td>NaN</td>\n",
       "      <td>3353.850235</td>\n",
       "      <td>1.124831e+07</td>\n",
       "    </tr>\n",
       "    <tr>\n",
       "      <th>167780</th>\n",
       "      <td>378</td>\n",
       "      <td>0</td>\n",
       "      <td>0</td>\n",
       "      <td>378</td>\n",
       "      <td>270.079531</td>\n",
       "      <td>111.806875</td>\n",
       "      <td>NaN</td>\n",
       "      <td>NaN</td>\n",
       "      <td>3358.496887</td>\n",
       "      <td>1.127950e+07</td>\n",
       "    </tr>\n",
       "  </tbody>\n",
       "</table>\n",
       "<p>167780 rows × 10 columns</p>\n",
       "</div>"
      ],
      "text/plain": [
       "        transcript_counts  control_probe_counts  control_codeword_counts  \\\n",
       "1                      28                     1                        0   \n",
       "2                      94                     0                        0   \n",
       "3                       9                     0                        0   \n",
       "4                      11                     0                        0   \n",
       "5                      48                     0                        0   \n",
       "...                   ...                   ...                      ...   \n",
       "167776                229                     1                        0   \n",
       "167777                 79                     0                        0   \n",
       "167778                397                     0                        0   \n",
       "167779                117                     0                        0   \n",
       "167780                378                     0                        0   \n",
       "\n",
       "        total_counts   cell_area  nucleus_area annotation-demo  \\\n",
       "1                 29   58.387031     26.642188             NaN   \n",
       "2                 94  197.016719     42.130781             NaN   \n",
       "3                  9   16.256250     12.688906             NaN   \n",
       "4                 11   42.311406     10.069844             NaN   \n",
       "5                 48  107.652500     37.479688             NaN   \n",
       "...              ...         ...           ...             ...   \n",
       "167776           230  220.452813     60.599688             NaN   \n",
       "167777            79   37.389375     25.242344             NaN   \n",
       "167778           397  287.058281     86.700000             NaN   \n",
       "167779           117  235.354375     25.197188             NaN   \n",
       "167780           378  270.079531    111.806875             NaN   \n",
       "\n",
       "       annotation-demo2         line         line2  \n",
       "1                   NaN  4779.337970  2.284207e+07  \n",
       "2                   NaN  4797.116467  2.301233e+07  \n",
       "3                   NaN  4775.462525  2.280504e+07  \n",
       "4                   NaN  4796.173524  2.300328e+07  \n",
       "5                   NaN  4781.829921  2.286590e+07  \n",
       "...                 ...          ...           ...  \n",
       "167776              NaN  3328.190758  1.107685e+07  \n",
       "167777              NaN  3346.342668  1.119801e+07  \n",
       "167778              NaN  3341.755908  1.116733e+07  \n",
       "167779              NaN  3353.850235  1.124831e+07  \n",
       "167780              NaN  3358.496887  1.127950e+07  \n",
       "\n",
       "[167780 rows x 10 columns]"
      ]
     },
     "execution_count": 103,
     "metadata": {},
     "output_type": "execute_result"
    }
   ],
   "source": [
    "adata.obs"
   ]
  },
  {
   "cell_type": "code",
   "execution_count": 104,
   "id": "a7d80240",
   "metadata": {},
   "outputs": [
    {
     "data": {
      "text/html": [
       "<div>\n",
       "<style scoped>\n",
       "    .dataframe tbody tr th:only-of-type {\n",
       "        vertical-align: middle;\n",
       "    }\n",
       "\n",
       "    .dataframe tbody tr th {\n",
       "        vertical-align: top;\n",
       "    }\n",
       "\n",
       "    .dataframe thead th {\n",
       "        text-align: right;\n",
       "    }\n",
       "</style>\n",
       "<table border=\"1\" class=\"dataframe\">\n",
       "  <thead>\n",
       "    <tr style=\"text-align: right;\">\n",
       "      <th></th>\n",
       "      <th>gene_ids</th>\n",
       "      <th>feature_types</th>\n",
       "      <th>genome</th>\n",
       "    </tr>\n",
       "  </thead>\n",
       "  <tbody>\n",
       "    <tr>\n",
       "      <th>ABCC11</th>\n",
       "      <td>ENSG00000121270</td>\n",
       "      <td>Gene Expression</td>\n",
       "      <td>Unknown</td>\n",
       "    </tr>\n",
       "    <tr>\n",
       "      <th>ACTA2</th>\n",
       "      <td>ENSG00000107796</td>\n",
       "      <td>Gene Expression</td>\n",
       "      <td>Unknown</td>\n",
       "    </tr>\n",
       "    <tr>\n",
       "      <th>ACTG2</th>\n",
       "      <td>ENSG00000163017</td>\n",
       "      <td>Gene Expression</td>\n",
       "      <td>Unknown</td>\n",
       "    </tr>\n",
       "    <tr>\n",
       "      <th>ADAM9</th>\n",
       "      <td>ENSG00000168615</td>\n",
       "      <td>Gene Expression</td>\n",
       "      <td>Unknown</td>\n",
       "    </tr>\n",
       "    <tr>\n",
       "      <th>ADGRE5</th>\n",
       "      <td>ENSG00000123146</td>\n",
       "      <td>Gene Expression</td>\n",
       "      <td>Unknown</td>\n",
       "    </tr>\n",
       "    <tr>\n",
       "      <th>...</th>\n",
       "      <td>...</td>\n",
       "      <td>...</td>\n",
       "      <td>...</td>\n",
       "    </tr>\n",
       "    <tr>\n",
       "      <th>VWF</th>\n",
       "      <td>ENSG00000110799</td>\n",
       "      <td>Gene Expression</td>\n",
       "      <td>Unknown</td>\n",
       "    </tr>\n",
       "    <tr>\n",
       "      <th>WARS</th>\n",
       "      <td>ENSG00000140105</td>\n",
       "      <td>Gene Expression</td>\n",
       "      <td>Unknown</td>\n",
       "    </tr>\n",
       "    <tr>\n",
       "      <th>ZEB1</th>\n",
       "      <td>ENSG00000148516</td>\n",
       "      <td>Gene Expression</td>\n",
       "      <td>Unknown</td>\n",
       "    </tr>\n",
       "    <tr>\n",
       "      <th>ZEB2</th>\n",
       "      <td>ENSG00000169554</td>\n",
       "      <td>Gene Expression</td>\n",
       "      <td>Unknown</td>\n",
       "    </tr>\n",
       "    <tr>\n",
       "      <th>ZNF562</th>\n",
       "      <td>ENSG00000171466</td>\n",
       "      <td>Gene Expression</td>\n",
       "      <td>Unknown</td>\n",
       "    </tr>\n",
       "  </tbody>\n",
       "</table>\n",
       "<p>313 rows × 3 columns</p>\n",
       "</div>"
      ],
      "text/plain": [
       "               gene_ids    feature_types   genome\n",
       "ABCC11  ENSG00000121270  Gene Expression  Unknown\n",
       "ACTA2   ENSG00000107796  Gene Expression  Unknown\n",
       "ACTG2   ENSG00000163017  Gene Expression  Unknown\n",
       "ADAM9   ENSG00000168615  Gene Expression  Unknown\n",
       "ADGRE5  ENSG00000123146  Gene Expression  Unknown\n",
       "...                 ...              ...      ...\n",
       "VWF     ENSG00000110799  Gene Expression  Unknown\n",
       "WARS    ENSG00000140105  Gene Expression  Unknown\n",
       "ZEB1    ENSG00000148516  Gene Expression  Unknown\n",
       "ZEB2    ENSG00000169554  Gene Expression  Unknown\n",
       "ZNF562  ENSG00000171466  Gene Expression  Unknown\n",
       "\n",
       "[313 rows x 3 columns]"
      ]
     },
     "execution_count": 104,
     "metadata": {},
     "output_type": "execute_result"
    }
   ],
   "source": [
    "adata.var"
   ]
  },
  {
   "cell_type": "code",
   "execution_count": null,
   "id": "ff019e32",
   "metadata": {},
   "outputs": [],
   "source": []
  },
  {
   "cell_type": "code",
   "execution_count": null,
   "id": "749f5ee6",
   "metadata": {},
   "outputs": [],
   "source": []
  },
  {
   "cell_type": "code",
   "execution_count": 44,
   "id": "4c75b55d",
   "metadata": {},
   "outputs": [
    {
     "name": "stdout",
     "output_type": "stream",
     "text": [
      "Added 1 new annotations to key 'test'\n"
     ]
    }
   ],
   "source": [
    "xd.store_annotations()"
   ]
  },
  {
   "cell_type": "code",
   "execution_count": 46,
   "id": "e51e75c6",
   "metadata": {},
   "outputs": [
    {
     "data": {
      "text/html": [
       "<div>\n",
       "<style scoped>\n",
       "    .dataframe tbody tr th:only-of-type {\n",
       "        vertical-align: middle;\n",
       "    }\n",
       "\n",
       "    .dataframe tbody tr th {\n",
       "        vertical-align: top;\n",
       "    }\n",
       "\n",
       "    .dataframe thead th {\n",
       "        text-align: right;\n",
       "    }\n",
       "</style>\n",
       "<table border=\"1\" class=\"dataframe\">\n",
       "  <thead>\n",
       "    <tr style=\"text-align: right;\">\n",
       "      <th></th>\n",
       "      <th>objectType</th>\n",
       "      <th>geometry</th>\n",
       "      <th>name</th>\n",
       "      <th>color</th>\n",
       "      <th>origin</th>\n",
       "    </tr>\n",
       "    <tr>\n",
       "      <th>id</th>\n",
       "      <th></th>\n",
       "      <th></th>\n",
       "      <th></th>\n",
       "      <th></th>\n",
       "      <th></th>\n",
       "    </tr>\n",
       "  </thead>\n",
       "  <tbody>\n",
       "    <tr>\n",
       "      <th>5af017cc-02a8-4644-8687-7f07f4591693</th>\n",
       "      <td>annotation</td>\n",
       "      <td>POLYGON ((6021.63193 1559.75951, 5801.00825 16...</td>\n",
       "      <td>blubb</td>\n",
       "      <td>[255, 0, 0]</td>\n",
       "      <td>manual</td>\n",
       "    </tr>\n",
       "  </tbody>\n",
       "</table>\n",
       "</div>"
      ],
      "text/plain": [
       "                                      objectType  \\\n",
       "id                                                 \n",
       "5af017cc-02a8-4644-8687-7f07f4591693  annotation   \n",
       "\n",
       "                                                                               geometry  \\\n",
       "id                                                                                        \n",
       "5af017cc-02a8-4644-8687-7f07f4591693  POLYGON ((6021.63193 1559.75951, 5801.00825 16...   \n",
       "\n",
       "                                       name        color  origin  \n",
       "id                                                                \n",
       "5af017cc-02a8-4644-8687-7f07f4591693  blubb  [255, 0, 0]  manual  "
      ]
     },
     "execution_count": 46,
     "metadata": {},
     "output_type": "execute_result"
    }
   ],
   "source": [
    "xd.annotations.test"
   ]
  },
  {
   "cell_type": "code",
   "execution_count": 47,
   "id": "6fb190ae",
   "metadata": {},
   "outputs": [],
   "source": [
    "xd.show()"
   ]
  },
  {
   "cell_type": "code",
   "execution_count": 42,
   "id": "28d35d8a",
   "metadata": {},
   "outputs": [
    {
     "data": {
      "text/plain": [
       "\u001b[1m\u001b[31mInSituData\u001b[0m\n",
       "\u001b[1mMethod:\u001b[0m\t\tXenium\n",
       "\u001b[1mSlide ID:\u001b[0m\t0001879\n",
       "\u001b[1mSample ID:\u001b[0m\tReplicate 1\n",
       "\u001b[1mPath:\u001b[0m\t\tC:\\Users\\ge37voy\\Github\\InSituPy\\notebooks\\demo_dataset\\demo_insitupy_project\n",
       "\u001b[1mMetadata file:\u001b[0m\t.ispy\n",
       "    ➤ \u001b[34m\u001b[1mimages\u001b[0m\n",
       "       \u001b[1mnuclei:\u001b[0m\t(25778, 35416)\n",
       "       \u001b[1mCD20:\u001b[0m\t(25778, 35416)\n",
       "       \u001b[1mHER2:\u001b[0m\t(25778, 35416)\n",
       "       \u001b[1mHE:\u001b[0m\t(25778, 35416, 3)\n",
       "    ➤\u001b[32m\u001b[1m cells\u001b[0m\n",
       "       \u001b[1mmatrix\u001b[0m\n",
       "           AnnData object with n_obs × n_vars = 167780 × 313\n",
       "           obs: 'transcript_counts', 'control_probe_counts', 'control_codeword_counts', 'total_counts', 'cell_area', 'nucleus_area', 'annotation-demo', 'annotation-demo2'\n",
       "           var: 'gene_ids', 'feature_types', 'genome'\n",
       "           obsm: 'spatial'\n",
       "           varm: 'binned_expression'\n",
       "       \u001b[1mboundaries\u001b[0m\n",
       "           BoundariesData object with 2 entries:\n",
       "               \u001b[1mcellular\u001b[0m\n",
       "               \u001b[1mnuclear\u001b[0m"
      ]
     },
     "execution_count": 42,
     "metadata": {},
     "output_type": "execute_result"
    }
   ],
   "source": [
    "xd"
   ]
  },
  {
   "cell_type": "code",
   "execution_count": 62,
   "id": "c8c51d7e",
   "metadata": {},
   "outputs": [],
   "source": [
    "l = xd.viewer.layers[\"Shapes\"]\n",
    "l2 = xd.viewer.layers[\"*blubb (test)\"]\n",
    "p = xd.viewer.layers[\"Points\"]"
   ]
  },
  {
   "cell_type": "code",
   "execution_count": 56,
   "id": "47d05b41",
   "metadata": {},
   "outputs": [
    {
     "data": {
      "text/plain": [
       "['path']"
      ]
     },
     "execution_count": 56,
     "metadata": {},
     "output_type": "execute_result"
    }
   ],
   "source": [
    "l.shape_type"
   ]
  },
  {
   "cell_type": "code",
   "execution_count": 58,
   "id": "75512713",
   "metadata": {},
   "outputs": [
    {
     "data": {
      "text/plain": [
       "['polygon', 'polygon', 'path']"
      ]
     },
     "execution_count": 58,
     "metadata": {},
     "output_type": "execute_result"
    }
   ],
   "source": [
    "l2.shape_type"
   ]
  },
  {
   "cell_type": "code",
   "execution_count": 60,
   "id": "ae3d1bb7",
   "metadata": {},
   "outputs": [
    {
     "data": {
      "text/plain": [
       "napari.layers.shapes.shapes.Shapes"
      ]
     },
     "execution_count": 60,
     "metadata": {},
     "output_type": "execute_result"
    }
   ],
   "source": [
    "type(l2)"
   ]
  },
  {
   "cell_type": "code",
   "execution_count": 61,
   "id": "2813a9e6",
   "metadata": {},
   "outputs": [
    {
     "data": {
      "text/plain": [
       "napari.layers.shapes.shapes.Shapes"
      ]
     },
     "execution_count": 61,
     "metadata": {},
     "output_type": "execute_result"
    }
   ],
   "source": [
    "type(l)"
   ]
  },
  {
   "cell_type": "code",
   "execution_count": 34,
   "id": "71f8fa6d",
   "metadata": {},
   "outputs": [
    {
     "data": {
      "image/svg+xml": [
       "<svg xmlns=\"http://www.w3.org/2000/svg\" xmlns:xlink=\"http://www.w3.org/1999/xlink\" width=\"300\" height=\"300\" viewBox=\"7031.1442116776525 23376.755148113472 6783.240564551683 5213.045989423968\" preserveAspectRatio=\"xMinYMin meet\"><g transform=\"matrix(1,0,0,-1,0,51966.55628565091)\"><polyline fill=\"none\" stroke=\"#66cc99\" stroke-width=\"45.221603763677884\" points=\"7282.375343698085,28338.57000551701 7817.668948855256,27339.35527589029 9459.236004670583,26268.768065575947 11314.92050254878,24127.59364494726 13563.153644208902,23627.986280133904\" opacity=\"0.8\" /></g></svg>"
      ],
      "text/plain": [
       "<LINESTRING (7282.375 28338.57, 7817.669 27339.355, 9459.236 26268.768, 1131...>"
      ]
     },
     "execution_count": 34,
     "metadata": {},
     "output_type": "execute_result"
    }
   ],
   "source": [
    "LineString(ll.data[0])"
   ]
  },
  {
   "cell_type": "code",
   "execution_count": 17,
   "id": "5474cdb5",
   "metadata": {},
   "outputs": [
    {
     "data": {
      "text/plain": [
       "array([[ 7282.3753437 , 28338.57000552],\n",
       "       [ 7817.66894886, 27339.35527589],\n",
       "       [ 9459.23600467, 26268.76806558],\n",
       "       [11314.92050255, 24127.59364495],\n",
       "       [13563.15364421, 23627.98628013]])"
      ]
     },
     "execution_count": 17,
     "metadata": {},
     "output_type": "execute_result"
    }
   ],
   "source": [
    "ll.data[0]"
   ]
  },
  {
   "cell_type": "code",
   "execution_count": 22,
   "id": "d92b6520",
   "metadata": {},
   "outputs": [
    {
     "data": {
      "text/plain": [
       "array([ 7282.3753437 ,  7817.66894886,  9459.23600467, 11314.92050255,\n",
       "       13563.15364421])"
      ]
     },
     "execution_count": 22,
     "metadata": {},
     "output_type": "execute_result"
    }
   ],
   "source": [
    "ll.data[0][:, 0]"
   ]
  },
  {
   "cell_type": "code",
   "execution_count": 24,
   "id": "46c31aaa",
   "metadata": {},
   "outputs": [],
   "source": [
    "s = gpd.points_from_xy(ll.data[0][:, 1], ll.data[0][:, 0])"
   ]
  },
  {
   "cell_type": "code",
   "execution_count": 25,
   "id": "f303cbf2",
   "metadata": {},
   "outputs": [
    {
     "data": {
      "image/svg+xml": [
       "<svg xmlns=\"http://www.w3.org/2000/svg\" xmlns:xlink=\"http://www.w3.org/1999/xlink\" width=\"100.0\" height=\"100.0\" viewBox=\"28337.57000551701 7281.375343698085 2.0 2.0\" preserveAspectRatio=\"xMinYMin meet\"><g transform=\"matrix(1,0,0,-1,0,14564.75068739617)\"><circle cx=\"28338.57000551701\" cy=\"7282.375343698085\" r=\"0.06\" stroke=\"#555555\" stroke-width=\"0.02\" fill=\"#66cc99\" opacity=\"0.6\" /></g></svg>"
      ],
      "text/plain": [
       "<POINT (28338.57 7282.375)>"
      ]
     },
     "execution_count": 25,
     "metadata": {},
     "output_type": "execute_result"
    }
   ],
   "source": [
    "s[0]"
   ]
  }
 ],
 "metadata": {
  "kernelspec": {
   "display_name": "xparse",
   "language": "python",
   "name": "python3"
  },
  "language_info": {
   "codemirror_mode": {
    "name": "ipython",
    "version": 3
   },
   "file_extension": ".py",
   "mimetype": "text/x-python",
   "name": "python",
   "nbconvert_exporter": "python",
   "pygments_lexer": "ipython3",
   "version": "3.9.18"
  }
 },
 "nbformat": 4,
 "nbformat_minor": 5
}
