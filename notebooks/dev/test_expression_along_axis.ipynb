{
 "cells": [
  {
   "cell_type": "markdown",
   "id": "b16df72d-5dd5-47da-a8c3-b569fe97446b",
   "metadata": {
    "tags": []
   },
   "source": [
    "# InSituPy demonstration - Performance tests"
   ]
  },
  {
   "cell_type": "code",
   "execution_count": 1,
   "id": "8bc0c4ed-3587-460e-98d2-6626a020a327",
   "metadata": {},
   "outputs": [],
   "source": [
    "## The following code ensures that all functions and init files are reloaded before executions.\n",
    "%load_ext autoreload\n",
    "%autoreload 2"
   ]
  },
  {
   "cell_type": "code",
   "execution_count": 2,
   "id": "58107e0b-5017-425b-8cd0-9274be2b8253",
   "metadata": {},
   "outputs": [],
   "source": [
    "from pathlib import Path\n",
    "from insitupy import read_xenium\n",
    "from datetime import datetime\n",
    "import shutil\n",
    "import pandas as pd\n",
    "import numpy as np\n",
    "import seaborn as sns\n",
    "import matplotlib.pyplot as plt\n"
   ]
  },
  {
   "cell_type": "code",
   "execution_count": 3,
   "id": "06261274",
   "metadata": {},
   "outputs": [],
   "source": [
    "import geopandas as gpd\n",
    "import shapely"
   ]
  },
  {
   "cell_type": "markdown",
   "id": "ae409a19",
   "metadata": {},
   "source": [
    "## Load Xenium data into `InSituData` object"
   ]
  },
  {
   "cell_type": "code",
   "execution_count": 4,
   "id": "2db31fb9",
   "metadata": {},
   "outputs": [],
   "source": [
    "insitupy_project = Path(\"../demo_dataset/demo_insitupy_project\")"
   ]
  },
  {
   "cell_type": "code",
   "execution_count": 5,
   "id": "188ddb98",
   "metadata": {},
   "outputs": [],
   "source": [
    "data = read_xenium(insitupy_project)"
   ]
  },
  {
   "cell_type": "code",
   "execution_count": 6,
   "id": "9c9c0df2",
   "metadata": {},
   "outputs": [
    {
     "name": "stdout",
     "output_type": "stream",
     "text": [
      "Loading cells...\n",
      "\tNo alternative cells found...\n",
      "Loading images...\n"
     ]
    }
   ],
   "source": [
    "data.load_cells()\n",
    "data.load_images()"
   ]
  },
  {
   "cell_type": "code",
   "execution_count": 7,
   "id": "d88a4fd6",
   "metadata": {},
   "outputs": [
    {
     "data": {
      "text/plain": [
       "\u001b[1m\u001b[31mInSituData\u001b[0m\n",
       "\u001b[1mMethod:\u001b[0m\t\tXenium\n",
       "\u001b[1mSlide ID:\u001b[0m\t0001879\n",
       "\u001b[1mSample ID:\u001b[0m\tReplicate 1\n",
       "\u001b[1mPath:\u001b[0m\t\tC:\\Users\\ge37voy\\Github\\InSituPy\\notebooks\\demo_dataset\\demo_insitupy_project\n",
       "\u001b[1mMetadata file:\u001b[0m\t.ispy\n",
       "    ➤ \u001b[34m\u001b[1mimages\u001b[0m\n",
       "       \u001b[1mnuclei:\u001b[0m\t(25778, 35416)\n",
       "       \u001b[1mCD20:\u001b[0m\t(25778, 35416)\n",
       "       \u001b[1mHER2:\u001b[0m\t(25778, 35416)\n",
       "       \u001b[1mHE:\u001b[0m\t(25778, 35416, 3)\n",
       "    ➤\u001b[32m\u001b[1m cells\u001b[0m\n",
       "       \u001b[1mmatrix\u001b[0m\n",
       "           AnnData object with n_obs × n_vars = 167780 × 313\n",
       "           obs: 'transcript_counts', 'control_probe_counts', 'control_codeword_counts', 'total_counts', 'cell_area', 'nucleus_area', 'annotation-demo', 'annotation-demo2', 'dist_from_points'\n",
       "           var: 'gene_ids', 'feature_types', 'genome'\n",
       "           obsm: 'spatial'\n",
       "           varm: 'binned_expression'\n",
       "       \u001b[1mboundaries\u001b[0m\n",
       "           BoundariesData object with 2 entries:\n",
       "               \u001b[1mcellular\u001b[0m\n",
       "               \u001b[1mnuclear\u001b[0m"
      ]
     },
     "execution_count": 7,
     "metadata": {},
     "output_type": "execute_result"
    }
   ],
   "source": [
    "data"
   ]
  },
  {
   "cell_type": "code",
   "execution_count": 8,
   "id": "5eeea7db",
   "metadata": {},
   "outputs": [
    {
     "name": "stderr",
     "output_type": "stream",
     "text": [
      "Invalid schema for package 'ome-types', please run 'npe2 validate ome-types' to check for manifest errors.\n"
     ]
    },
    {
     "name": "stderr",
     "output_type": "stream",
     "text": [
      "Invalid schema for package 'ome-types', please run 'npe2 validate ome-types' to check for manifest errors.\n"
     ]
    }
   ],
   "source": [
    "data.show()"
   ]
  },
  {
   "cell_type": "code",
   "execution_count": 9,
   "id": "c2816044",
   "metadata": {},
   "outputs": [
    {
     "name": "stdout",
     "output_type": "stream",
     "text": [
      "Added 2 new annotations to key 'TestKey'\n",
      "Added 4 new annotations to existing key 'TestKey'\n"
     ]
    }
   ],
   "source": [
    "data.store_annotations()"
   ]
  },
  {
   "cell_type": "code",
   "execution_count": 11,
   "id": "11ae910d-10e9-4b62-86c8-664807ce0ce7",
   "metadata": {},
   "outputs": [
    {
     "data": {
      "text/plain": [
       "\u001b[1m\u001b[31mInSituData\u001b[0m\n",
       "\u001b[1mMethod:\u001b[0m\t\tXenium\n",
       "\u001b[1mSlide ID:\u001b[0m\t0001879\n",
       "\u001b[1mSample ID:\u001b[0m\tReplicate 1\n",
       "\u001b[1mPath:\u001b[0m\t\tC:\\Users\\ge37voy\\Github\\InSituPy\\notebooks\\demo_dataset\\demo_insitupy_project\n",
       "\u001b[1mMetadata file:\u001b[0m\t.ispy\n",
       "    ➤ \u001b[34m\u001b[1mimages\u001b[0m\n",
       "       \u001b[1mnuclei:\u001b[0m\t(25778, 35416)\n",
       "       \u001b[1mCD20:\u001b[0m\t(25778, 35416)\n",
       "       \u001b[1mHER2:\u001b[0m\t(25778, 35416)\n",
       "       \u001b[1mHE:\u001b[0m\t(25778, 35416, 3)\n",
       "    ➤\u001b[32m\u001b[1m cells\u001b[0m\n",
       "       \u001b[1mmatrix\u001b[0m\n",
       "           AnnData object with n_obs × n_vars = 167780 × 313\n",
       "           obs: 'transcript_counts', 'control_probe_counts', 'control_codeword_counts', 'total_counts', 'cell_area', 'nucleus_area', 'annotation-demo', 'annotation-demo2', 'dist_from_points'\n",
       "           var: 'gene_ids', 'feature_types', 'genome'\n",
       "           obsm: 'spatial'\n",
       "           varm: 'binned_expression'\n",
       "       \u001b[1mboundaries\u001b[0m\n",
       "           BoundariesData object with 2 entries:\n",
       "               \u001b[1mcellular\u001b[0m\n",
       "               \u001b[1mnuclear\u001b[0m\n",
       "    ➤ \u001b[36m\u001b[1mannotations\u001b[0m\n",
       "       \u001b[1mTestKey:\u001b[0m\t6 annotations, 1 class ('TestClass') "
      ]
     },
     "execution_count": 11,
     "metadata": {},
     "output_type": "execute_result"
    }
   ],
   "source": [
    "data"
   ]
  },
  {
   "cell_type": "code",
   "execution_count": 13,
   "id": "97928764",
   "metadata": {},
   "outputs": [],
   "source": [
    "x = data.cells.matrix.obsm[\"spatial\"][:, 0]\n",
    "y = data.cells.matrix.obsm[\"spatial\"][:, 1]\n",
    "cells = gpd.points_from_xy(x, y)"
   ]
  },
  {
   "cell_type": "code",
   "execution_count": 26,
   "id": "3571174a",
   "metadata": {},
   "outputs": [
    {
     "data": {
      "text/html": [
       "<div>\n",
       "<style scoped>\n",
       "    .dataframe tbody tr th:only-of-type {\n",
       "        vertical-align: middle;\n",
       "    }\n",
       "\n",
       "    .dataframe tbody tr th {\n",
       "        vertical-align: top;\n",
       "    }\n",
       "\n",
       "    .dataframe thead th {\n",
       "        text-align: right;\n",
       "    }\n",
       "</style>\n",
       "<table border=\"1\" class=\"dataframe\">\n",
       "  <thead>\n",
       "    <tr style=\"text-align: right;\">\n",
       "      <th></th>\n",
       "      <th>objectType</th>\n",
       "      <th>geometry</th>\n",
       "      <th>name</th>\n",
       "      <th>color</th>\n",
       "      <th>scale</th>\n",
       "      <th>layer_type</th>\n",
       "      <th>origin</th>\n",
       "    </tr>\n",
       "    <tr>\n",
       "      <th>id</th>\n",
       "      <th></th>\n",
       "      <th></th>\n",
       "      <th></th>\n",
       "      <th></th>\n",
       "      <th></th>\n",
       "      <th></th>\n",
       "      <th></th>\n",
       "    </tr>\n",
       "  </thead>\n",
       "  <tbody>\n",
       "    <tr>\n",
       "      <th>e2218a13-c5b7-4e88-8bdb-0cd45fedbc89</th>\n",
       "      <td>annotation</td>\n",
       "      <td>POLYGON ((8008.08330 10589.18330, 8589.51976 1...</td>\n",
       "      <td>TestClass</td>\n",
       "      <td>[255, 0, 0]</td>\n",
       "      <td>[0.2125, 0.2125]</td>\n",
       "      <td>Shapes</td>\n",
       "      <td>manual</td>\n",
       "    </tr>\n",
       "    <tr>\n",
       "      <th>97a15baa-0979-4f48-ae26-ed7c5391ab76</th>\n",
       "      <td>annotation</td>\n",
       "      <td>POLYGON ((13611.01644 10113.46257, 14192.45289...</td>\n",
       "      <td>TestClass</td>\n",
       "      <td>[255, 0, 0]</td>\n",
       "      <td>[0.2125, 0.2125]</td>\n",
       "      <td>Shapes</td>\n",
       "      <td>manual</td>\n",
       "    </tr>\n",
       "    <tr>\n",
       "      <th>75fdc129-8fed-4155-9b94-7d29cbfcc97b</th>\n",
       "      <td>annotation</td>\n",
       "      <td>POINT (17575.35592 10853.47260)</td>\n",
       "      <td>TestClass</td>\n",
       "      <td>[0, 0, 0]</td>\n",
       "      <td>[0.2125, 0.2125]</td>\n",
       "      <td>Points</td>\n",
       "      <td>manual</td>\n",
       "    </tr>\n",
       "    <tr>\n",
       "      <th>4e217f1f-6c3b-4831-9426-ed32205867aa</th>\n",
       "      <td>annotation</td>\n",
       "      <td>POINT (21169.69038 10800.61474)</td>\n",
       "      <td>TestClass</td>\n",
       "      <td>[0, 0, 0]</td>\n",
       "      <td>[0.2125, 0.2125]</td>\n",
       "      <td>Points</td>\n",
       "      <td>manual</td>\n",
       "    </tr>\n",
       "    <tr>\n",
       "      <th>44be6049-2710-4234-90f2-bba5e29471a6</th>\n",
       "      <td>annotation</td>\n",
       "      <td>POINT (20905.40108 13073.50271)</td>\n",
       "      <td>TestClass</td>\n",
       "      <td>[0, 0, 0]</td>\n",
       "      <td>[0.2125, 0.2125]</td>\n",
       "      <td>Points</td>\n",
       "      <td>manual</td>\n",
       "    </tr>\n",
       "    <tr>\n",
       "      <th>a90bd8a0-e590-44f4-ba73-f3b3e59f25c3</th>\n",
       "      <td>annotation</td>\n",
       "      <td>POINT (18368.22381 12174.91910)</td>\n",
       "      <td>TestClass</td>\n",
       "      <td>[0, 0, 0]</td>\n",
       "      <td>[0.2125, 0.2125]</td>\n",
       "      <td>Points</td>\n",
       "      <td>manual</td>\n",
       "    </tr>\n",
       "  </tbody>\n",
       "</table>\n",
       "</div>"
      ],
      "text/plain": [
       "                                      objectType  \\\n",
       "id                                                 \n",
       "e2218a13-c5b7-4e88-8bdb-0cd45fedbc89  annotation   \n",
       "97a15baa-0979-4f48-ae26-ed7c5391ab76  annotation   \n",
       "75fdc129-8fed-4155-9b94-7d29cbfcc97b  annotation   \n",
       "4e217f1f-6c3b-4831-9426-ed32205867aa  annotation   \n",
       "44be6049-2710-4234-90f2-bba5e29471a6  annotation   \n",
       "a90bd8a0-e590-44f4-ba73-f3b3e59f25c3  annotation   \n",
       "\n",
       "                                                                               geometry  \\\n",
       "id                                                                                        \n",
       "e2218a13-c5b7-4e88-8bdb-0cd45fedbc89  POLYGON ((8008.08330 10589.18330, 8589.51976 1...   \n",
       "97a15baa-0979-4f48-ae26-ed7c5391ab76  POLYGON ((13611.01644 10113.46257, 14192.45289...   \n",
       "75fdc129-8fed-4155-9b94-7d29cbfcc97b                    POINT (17575.35592 10853.47260)   \n",
       "4e217f1f-6c3b-4831-9426-ed32205867aa                    POINT (21169.69038 10800.61474)   \n",
       "44be6049-2710-4234-90f2-bba5e29471a6                    POINT (20905.40108 13073.50271)   \n",
       "a90bd8a0-e590-44f4-ba73-f3b3e59f25c3                    POINT (18368.22381 12174.91910)   \n",
       "\n",
       "                                           name        color  \\\n",
       "id                                                             \n",
       "e2218a13-c5b7-4e88-8bdb-0cd45fedbc89  TestClass  [255, 0, 0]   \n",
       "97a15baa-0979-4f48-ae26-ed7c5391ab76  TestClass  [255, 0, 0]   \n",
       "75fdc129-8fed-4155-9b94-7d29cbfcc97b  TestClass    [0, 0, 0]   \n",
       "4e217f1f-6c3b-4831-9426-ed32205867aa  TestClass    [0, 0, 0]   \n",
       "44be6049-2710-4234-90f2-bba5e29471a6  TestClass    [0, 0, 0]   \n",
       "a90bd8a0-e590-44f4-ba73-f3b3e59f25c3  TestClass    [0, 0, 0]   \n",
       "\n",
       "                                                 scale layer_type  origin  \n",
       "id                                                                         \n",
       "e2218a13-c5b7-4e88-8bdb-0cd45fedbc89  [0.2125, 0.2125]     Shapes  manual  \n",
       "97a15baa-0979-4f48-ae26-ed7c5391ab76  [0.2125, 0.2125]     Shapes  manual  \n",
       "75fdc129-8fed-4155-9b94-7d29cbfcc97b  [0.2125, 0.2125]     Points  manual  \n",
       "4e217f1f-6c3b-4831-9426-ed32205867aa  [0.2125, 0.2125]     Points  manual  \n",
       "44be6049-2710-4234-90f2-bba5e29471a6  [0.2125, 0.2125]     Points  manual  \n",
       "a90bd8a0-e590-44f4-ba73-f3b3e59f25c3  [0.2125, 0.2125]     Points  manual  "
      ]
     },
     "execution_count": 26,
     "metadata": {},
     "output_type": "execute_result"
    }
   ],
   "source": [
    "data.annotations.TestKey"
   ]
  },
  {
   "cell_type": "code",
   "execution_count": 75,
   "id": "80f2b872",
   "metadata": {},
   "outputs": [],
   "source": [
    "from shapely import Point"
   ]
  },
  {
   "cell_type": "code",
   "execution_count": 76,
   "id": "38065382",
   "metadata": {},
   "outputs": [],
   "source": [
    "layer_types = []\n",
    "for geom in xd.annotations.TestKey[\"geometry\"]:\n",
    "    if isinstance(geom, Point):\n",
    "        layer_types.append(\"Points\")\n",
    "    else:\n",
    "        layer_types.append(\"Shapes\")"
   ]
  },
  {
   "cell_type": "code",
   "execution_count": 77,
   "id": "69a51dab",
   "metadata": {},
   "outputs": [
    {
     "data": {
      "text/plain": [
       "['Shapes', 'Shapes', 'Points', 'Points', 'Points', 'Points']"
      ]
     },
     "execution_count": 77,
     "metadata": {},
     "output_type": "execute_result"
    }
   ],
   "source": [
    "layer_types"
   ]
  },
  {
   "cell_type": "code",
   "execution_count": 29,
   "id": "3acc82a7",
   "metadata": {},
   "outputs": [],
   "source": [
    "annotation_key = \"TestKey\"\n",
    "annotation_class = \"TestClass\"\n",
    "\n"
   ]
  },
  {
   "cell_type": "code",
   "execution_count": 54,
   "id": "b6598f0f",
   "metadata": {},
   "outputs": [],
   "source": [
    "from shapely.affinity import scale as scale_func\n",
    "# retrieve annotation information\n",
    "annot_df = data.annotations.get(annotation_key)\n",
    "class_df = annot_df[annot_df[\"name\"] == annotation_class]\n",
    "\n",
    "# calculate distance of cells to their closest point\n",
    "scaled_geometries = [\n",
    "    scale_func(geometry, xfact=scale[0], yfact=scale[1], origin=(0,0))\n",
    "    for geometry, scale in zip(class_df[\"geometry\"], class_df[\"scale\"])\n",
    "    ]\n",
    "dists = np.array([cells.distance(geometry) for geometry in scaled_geometries])\n",
    "min_dists = dists.min(axis=0)"
   ]
  },
  {
   "cell_type": "code",
   "execution_count": 59,
   "id": "c5b4743d",
   "metadata": {},
   "outputs": [
    {
     "data": {
      "text/plain": [
       "insitupy._core.insitudata.InSituData"
      ]
     },
     "execution_count": 59,
     "metadata": {},
     "output_type": "execute_result"
    }
   ],
   "source": [
    "type(xd)"
   ]
  },
  {
   "cell_type": "code",
   "execution_count": 62,
   "id": "a3a74391",
   "metadata": {},
   "outputs": [],
   "source": [
    "from insitupy import InSituData\n",
    "def calc_distance_of_cells_from(\n",
    "    data: InSituData,\n",
    "    annotation_key: str,\n",
    "    annotation_class: str,\n",
    "    key_to_save: str = None\n",
    "    ):\n",
    "\n",
    "    # create geopandas points from cells\n",
    "    x = data.cells.matrix.obsm[\"spatial\"][:, 0]\n",
    "    y = data.cells.matrix.obsm[\"spatial\"][:, 1]\n",
    "    cells = gpd.points_from_xy(x, y)\n",
    "\n",
    "    # retrieve annotation information\n",
    "    annot_df = data.annotations.get(annotation_key)\n",
    "    class_df = annot_df[annot_df[\"name\"] == annotation_class]\n",
    "\n",
    "    # calculate distance of cells to their closest point\n",
    "    scaled_geometries = [\n",
    "        scale_func(geometry, xfact=scale[0], yfact=scale[1], origin=(0,0))\n",
    "        for geometry, scale in zip(class_df[\"geometry\"], class_df[\"scale\"])\n",
    "        ]\n",
    "    dists = np.array([cells.distance(geometry) for geometry in scaled_geometries])\n",
    "    min_dists = dists.min(axis=0)\n",
    "\n",
    "    # add results to CellData\n",
    "    if key_to_save is None:\n",
    "        key_to_save = f\"dist_from_{annotation_class}\"\n",
    "    data.cells.matrix.obs[key_to_save] = min_dists\n",
    "    print(f'Save distances to `.cells.matrix.obs[\"{key_to_save}\"]`')\n",
    "\n"
   ]
  },
  {
   "cell_type": "code",
   "execution_count": 69,
   "id": "086e40bb",
   "metadata": {},
   "outputs": [],
   "source": [
    "df = xd.annotations.TestKey"
   ]
  },
  {
   "cell_type": "code",
   "execution_count": 71,
   "id": "68dee853",
   "metadata": {},
   "outputs": [],
   "source": [
    "df[\"test\"] = [(1,1)] * len(df)"
   ]
  },
  {
   "cell_type": "code",
   "execution_count": 72,
   "id": "4fea95d1",
   "metadata": {},
   "outputs": [
    {
     "data": {
      "text/html": [
       "<div>\n",
       "<style scoped>\n",
       "    .dataframe tbody tr th:only-of-type {\n",
       "        vertical-align: middle;\n",
       "    }\n",
       "\n",
       "    .dataframe tbody tr th {\n",
       "        vertical-align: top;\n",
       "    }\n",
       "\n",
       "    .dataframe thead th {\n",
       "        text-align: right;\n",
       "    }\n",
       "</style>\n",
       "<table border=\"1\" class=\"dataframe\">\n",
       "  <thead>\n",
       "    <tr style=\"text-align: right;\">\n",
       "      <th></th>\n",
       "      <th>objectType</th>\n",
       "      <th>geometry</th>\n",
       "      <th>name</th>\n",
       "      <th>color</th>\n",
       "      <th>scale</th>\n",
       "      <th>layer_type</th>\n",
       "      <th>origin</th>\n",
       "      <th>test</th>\n",
       "    </tr>\n",
       "    <tr>\n",
       "      <th>id</th>\n",
       "      <th></th>\n",
       "      <th></th>\n",
       "      <th></th>\n",
       "      <th></th>\n",
       "      <th></th>\n",
       "      <th></th>\n",
       "      <th></th>\n",
       "      <th></th>\n",
       "    </tr>\n",
       "  </thead>\n",
       "  <tbody>\n",
       "    <tr>\n",
       "      <th>e2218a13-c5b7-4e88-8bdb-0cd45fedbc89</th>\n",
       "      <td>annotation</td>\n",
       "      <td>POLYGON ((8008.08330 10589.18330, 8589.51976 1...</td>\n",
       "      <td>TestClass</td>\n",
       "      <td>[255, 0, 0]</td>\n",
       "      <td>[0.2125, 0.2125]</td>\n",
       "      <td>Shapes</td>\n",
       "      <td>manual</td>\n",
       "      <td>(1, 1)</td>\n",
       "    </tr>\n",
       "    <tr>\n",
       "      <th>97a15baa-0979-4f48-ae26-ed7c5391ab76</th>\n",
       "      <td>annotation</td>\n",
       "      <td>POLYGON ((13611.01644 10113.46257, 14192.45289...</td>\n",
       "      <td>TestClass</td>\n",
       "      <td>[255, 0, 0]</td>\n",
       "      <td>[0.2125, 0.2125]</td>\n",
       "      <td>Shapes</td>\n",
       "      <td>manual</td>\n",
       "      <td>(1, 1)</td>\n",
       "    </tr>\n",
       "    <tr>\n",
       "      <th>75fdc129-8fed-4155-9b94-7d29cbfcc97b</th>\n",
       "      <td>annotation</td>\n",
       "      <td>POINT (17575.35592 10853.47260)</td>\n",
       "      <td>TestClass</td>\n",
       "      <td>[0, 0, 0]</td>\n",
       "      <td>[0.2125, 0.2125]</td>\n",
       "      <td>Points</td>\n",
       "      <td>manual</td>\n",
       "      <td>(1, 1)</td>\n",
       "    </tr>\n",
       "    <tr>\n",
       "      <th>4e217f1f-6c3b-4831-9426-ed32205867aa</th>\n",
       "      <td>annotation</td>\n",
       "      <td>POINT (21169.69038 10800.61474)</td>\n",
       "      <td>TestClass</td>\n",
       "      <td>[0, 0, 0]</td>\n",
       "      <td>[0.2125, 0.2125]</td>\n",
       "      <td>Points</td>\n",
       "      <td>manual</td>\n",
       "      <td>(1, 1)</td>\n",
       "    </tr>\n",
       "    <tr>\n",
       "      <th>44be6049-2710-4234-90f2-bba5e29471a6</th>\n",
       "      <td>annotation</td>\n",
       "      <td>POINT (20905.40108 13073.50271)</td>\n",
       "      <td>TestClass</td>\n",
       "      <td>[0, 0, 0]</td>\n",
       "      <td>[0.2125, 0.2125]</td>\n",
       "      <td>Points</td>\n",
       "      <td>manual</td>\n",
       "      <td>(1, 1)</td>\n",
       "    </tr>\n",
       "    <tr>\n",
       "      <th>a90bd8a0-e590-44f4-ba73-f3b3e59f25c3</th>\n",
       "      <td>annotation</td>\n",
       "      <td>POINT (18368.22381 12174.91910)</td>\n",
       "      <td>TestClass</td>\n",
       "      <td>[0, 0, 0]</td>\n",
       "      <td>[0.2125, 0.2125]</td>\n",
       "      <td>Points</td>\n",
       "      <td>manual</td>\n",
       "      <td>(1, 1)</td>\n",
       "    </tr>\n",
       "  </tbody>\n",
       "</table>\n",
       "</div>"
      ],
      "text/plain": [
       "                                      objectType  \\\n",
       "id                                                 \n",
       "e2218a13-c5b7-4e88-8bdb-0cd45fedbc89  annotation   \n",
       "97a15baa-0979-4f48-ae26-ed7c5391ab76  annotation   \n",
       "75fdc129-8fed-4155-9b94-7d29cbfcc97b  annotation   \n",
       "4e217f1f-6c3b-4831-9426-ed32205867aa  annotation   \n",
       "44be6049-2710-4234-90f2-bba5e29471a6  annotation   \n",
       "a90bd8a0-e590-44f4-ba73-f3b3e59f25c3  annotation   \n",
       "\n",
       "                                                                               geometry  \\\n",
       "id                                                                                        \n",
       "e2218a13-c5b7-4e88-8bdb-0cd45fedbc89  POLYGON ((8008.08330 10589.18330, 8589.51976 1...   \n",
       "97a15baa-0979-4f48-ae26-ed7c5391ab76  POLYGON ((13611.01644 10113.46257, 14192.45289...   \n",
       "75fdc129-8fed-4155-9b94-7d29cbfcc97b                    POINT (17575.35592 10853.47260)   \n",
       "4e217f1f-6c3b-4831-9426-ed32205867aa                    POINT (21169.69038 10800.61474)   \n",
       "44be6049-2710-4234-90f2-bba5e29471a6                    POINT (20905.40108 13073.50271)   \n",
       "a90bd8a0-e590-44f4-ba73-f3b3e59f25c3                    POINT (18368.22381 12174.91910)   \n",
       "\n",
       "                                           name        color  \\\n",
       "id                                                             \n",
       "e2218a13-c5b7-4e88-8bdb-0cd45fedbc89  TestClass  [255, 0, 0]   \n",
       "97a15baa-0979-4f48-ae26-ed7c5391ab76  TestClass  [255, 0, 0]   \n",
       "75fdc129-8fed-4155-9b94-7d29cbfcc97b  TestClass    [0, 0, 0]   \n",
       "4e217f1f-6c3b-4831-9426-ed32205867aa  TestClass    [0, 0, 0]   \n",
       "44be6049-2710-4234-90f2-bba5e29471a6  TestClass    [0, 0, 0]   \n",
       "a90bd8a0-e590-44f4-ba73-f3b3e59f25c3  TestClass    [0, 0, 0]   \n",
       "\n",
       "                                                 scale layer_type  origin  \\\n",
       "id                                                                          \n",
       "e2218a13-c5b7-4e88-8bdb-0cd45fedbc89  [0.2125, 0.2125]     Shapes  manual   \n",
       "97a15baa-0979-4f48-ae26-ed7c5391ab76  [0.2125, 0.2125]     Shapes  manual   \n",
       "75fdc129-8fed-4155-9b94-7d29cbfcc97b  [0.2125, 0.2125]     Points  manual   \n",
       "4e217f1f-6c3b-4831-9426-ed32205867aa  [0.2125, 0.2125]     Points  manual   \n",
       "44be6049-2710-4234-90f2-bba5e29471a6  [0.2125, 0.2125]     Points  manual   \n",
       "a90bd8a0-e590-44f4-ba73-f3b3e59f25c3  [0.2125, 0.2125]     Points  manual   \n",
       "\n",
       "                                        test  \n",
       "id                                            \n",
       "e2218a13-c5b7-4e88-8bdb-0cd45fedbc89  (1, 1)  \n",
       "97a15baa-0979-4f48-ae26-ed7c5391ab76  (1, 1)  \n",
       "75fdc129-8fed-4155-9b94-7d29cbfcc97b  (1, 1)  \n",
       "4e217f1f-6c3b-4831-9426-ed32205867aa  (1, 1)  \n",
       "44be6049-2710-4234-90f2-bba5e29471a6  (1, 1)  \n",
       "a90bd8a0-e590-44f4-ba73-f3b3e59f25c3  (1, 1)  "
      ]
     },
     "execution_count": 72,
     "metadata": {},
     "output_type": "execute_result"
    }
   ],
   "source": [
    "df"
   ]
  },
  {
   "cell_type": "code",
   "execution_count": 66,
   "id": "d1a19e50",
   "metadata": {},
   "outputs": [],
   "source": [
    "xd.show()"
   ]
  },
  {
   "cell_type": "code",
   "execution_count": 63,
   "id": "33f205e7",
   "metadata": {},
   "outputs": [
    {
     "name": "stdout",
     "output_type": "stream",
     "text": [
      "Save distances to `.cells.matrix.obs[\"dist_from_TestClass\"]`\n"
     ]
    }
   ],
   "source": [
    "calc_distance_of_cells_from(data=xd,\n",
    "                            annotation_key=\"TestKey\",\n",
    "                            annotation_class=\"TestClass\",\n",
    "                            )"
   ]
  },
  {
   "cell_type": "code",
   "execution_count": 64,
   "id": "c0c45677",
   "metadata": {},
   "outputs": [
    {
     "data": {
      "text/plain": [
       "\u001b[1m\u001b[31mInSituData\u001b[0m\n",
       "\u001b[1mMethod:\u001b[0m\t\tXenium\n",
       "\u001b[1mSlide ID:\u001b[0m\t0001879\n",
       "\u001b[1mSample ID:\u001b[0m\tReplicate 1\n",
       "\u001b[1mPath:\u001b[0m\t\tC:\\Users\\ge37voy\\Github\\InSituPy\\notebooks\\demo_dataset\\demo_insitupy_project\n",
       "\u001b[1mMetadata file:\u001b[0m\t.ispy\n",
       "    ➤ \u001b[34m\u001b[1mimages\u001b[0m\n",
       "       \u001b[1mnuclei:\u001b[0m\t(25778, 35416)\n",
       "       \u001b[1mCD20:\u001b[0m\t(25778, 35416)\n",
       "       \u001b[1mHER2:\u001b[0m\t(25778, 35416)\n",
       "       \u001b[1mHE:\u001b[0m\t(25778, 35416, 3)\n",
       "    ➤\u001b[32m\u001b[1m cells\u001b[0m\n",
       "       \u001b[1mmatrix\u001b[0m\n",
       "           AnnData object with n_obs × n_vars = 167780 × 313\n",
       "           obs: 'transcript_counts', 'control_probe_counts', 'control_codeword_counts', 'total_counts', 'cell_area', 'nucleus_area', 'annotation-demo', 'annotation-demo2', 'dist_from_points', 'dist_from_TestClass'\n",
       "           var: 'gene_ids', 'feature_types', 'genome'\n",
       "           obsm: 'spatial'\n",
       "           varm: 'binned_expression'\n",
       "       \u001b[1mboundaries\u001b[0m\n",
       "           BoundariesData object with 2 entries:\n",
       "               \u001b[1mcellular\u001b[0m\n",
       "               \u001b[1mnuclear\u001b[0m\n",
       "    ➤ \u001b[36m\u001b[1mannotations\u001b[0m\n",
       "       \u001b[1mTestKey:\u001b[0m\t6 annotations, 1 class ('TestClass') "
      ]
     },
     "execution_count": 64,
     "metadata": {},
     "output_type": "execute_result"
    }
   ],
   "source": [
    "xd"
   ]
  },
  {
   "cell_type": "code",
   "execution_count": 65,
   "id": "ceeadf82",
   "metadata": {},
   "outputs": [],
   "source": [
    "xd.show()"
   ]
  },
  {
   "cell_type": "code",
   "execution_count": 23,
   "id": "9a05af70",
   "metadata": {},
   "outputs": [],
   "source": [
    "#pl = xd.viewer.layers[\"*test (TestKey)\"]\n",
    "sl = data.viewer.layers[\"*TestClass (TestKey)\"]\n",
    "ll = data.viewer.layers[\"*blubb (TestKey)\"]\n",
    "pl = data.viewer.layers[\"Points\"]"
   ]
  },
  {
   "cell_type": "code",
   "execution_count": 24,
   "id": "5d157fb1-81b4-41e2-b69f-7c87f5aca666",
   "metadata": {},
   "outputs": [
    {
     "data": {
      "text/plain": [
       "array([0.2125, 0.2125])"
      ]
     },
     "execution_count": 24,
     "metadata": {},
     "output_type": "execute_result"
    }
   ],
   "source": [
    "pl.scale"
   ]
  },
  {
   "cell_type": "code",
   "execution_count": 19,
   "id": "f5184cd9-2c67-43c3-b191-545f178f907c",
   "metadata": {},
   "outputs": [
    {
     "data": {
      "text/plain": [
       "array([1., 1.])"
      ]
     },
     "execution_count": 19,
     "metadata": {},
     "output_type": "execute_result"
    }
   ],
   "source": [
    "sl.scale"
   ]
  },
  {
   "cell_type": "code",
   "execution_count": 20,
   "id": "f5ead112-6bfc-4ba0-86e1-a130d75560d9",
   "metadata": {},
   "outputs": [
    {
     "data": {
      "text/plain": [
       "array([0.2125, 0.2125])"
      ]
     },
     "execution_count": 20,
     "metadata": {},
     "output_type": "execute_result"
    }
   ],
   "source": [
    "ll.scale"
   ]
  },
  {
   "cell_type": "code",
   "execution_count": 21,
   "id": "14a258c3-7bbb-4d2d-921d-fcd10af2dadd",
   "metadata": {},
   "outputs": [
    {
     "data": {
      "text/plain": [
       "array([0.2125, 0.2125])"
      ]
     },
     "execution_count": 21,
     "metadata": {},
     "output_type": "execute_result"
    }
   ],
   "source": [
    "ll.scale"
   ]
  },
  {
   "cell_type": "code",
   "execution_count": 52,
   "id": "9c92a752",
   "metadata": {},
   "outputs": [
    {
     "data": {
      "text/plain": [
       "['polygon', 'polygon', 'polygon', 'path', 'ellipse', 'ellipse']"
      ]
     },
     "execution_count": 52,
     "metadata": {},
     "output_type": "execute_result"
    }
   ],
   "source": [
    "sl.shape_type"
   ]
  },
  {
   "cell_type": "code",
   "execution_count": 53,
   "id": "4c21ec52",
   "metadata": {},
   "outputs": [],
   "source": [
    "from shapely import LineString, Polygon"
   ]
  },
  {
   "cell_type": "code",
   "execution_count": 57,
   "id": "d364ce3d",
   "metadata": {},
   "outputs": [],
   "source": [
    "ar = sl.data[-1]"
   ]
  },
  {
   "cell_type": "code",
   "execution_count": 82,
   "id": "3e205798",
   "metadata": {},
   "outputs": [],
   "source": [
    "\n",
    "from insitupy.utils.utils import create_ellipse_from_bbox, convert_napari_shape_to_polygon_or_line\n"
   ]
  },
  {
   "cell_type": "code",
   "execution_count": 83,
   "id": "29e633c8",
   "metadata": {},
   "outputs": [
    {
     "data": {
      "text/plain": [
       "['polygon', 'polygon', 'polygon', 'path', 'ellipse', 'ellipse']"
      ]
     },
     "execution_count": 83,
     "metadata": {},
     "output_type": "execute_result"
    }
   ],
   "source": [
    "sl.shape_type"
   ]
  },
  {
   "cell_type": "code",
   "execution_count": 79,
   "id": "19262349",
   "metadata": {},
   "outputs": [],
   "source": [
    "el = convert_napari_shape_to_polygon_or_line(sl.data[-1], sl.shape_type[-1])"
   ]
  },
  {
   "cell_type": "code",
   "execution_count": 85,
   "id": "1cfa909f",
   "metadata": {},
   "outputs": [],
   "source": [
    "data.store_annotations()"
   ]
  },
  {
   "cell_type": "code",
   "execution_count": 86,
   "id": "d3e0b47a",
   "metadata": {},
   "outputs": [
    {
     "data": {
      "text/plain": [
       "\u001b[1m\u001b[31mInSituData\u001b[0m\n",
       "\u001b[1mMethod:\u001b[0m\t\tXenium\n",
       "\u001b[1mSlide ID:\u001b[0m\t0001879\n",
       "\u001b[1mSample ID:\u001b[0m\tReplicate 1\n",
       "\u001b[1mPath:\u001b[0m\t\tC:\\Users\\ge37voy\\Github\\InSituPy\\notebooks\\demo_dataset\\demo_insitupy_project\n",
       "\u001b[1mMetadata file:\u001b[0m\t.ispy\n",
       "    ➤ \u001b[34m\u001b[1mimages\u001b[0m\n",
       "       \u001b[1mnuclei:\u001b[0m\t(25778, 35416)\n",
       "       \u001b[1mCD20:\u001b[0m\t(25778, 35416)\n",
       "       \u001b[1mHER2:\u001b[0m\t(25778, 35416)\n",
       "       \u001b[1mHE:\u001b[0m\t(25778, 35416, 3)\n",
       "    ➤\u001b[32m\u001b[1m cells\u001b[0m\n",
       "       \u001b[1mmatrix\u001b[0m\n",
       "           AnnData object with n_obs × n_vars = 167780 × 313\n",
       "           obs: 'transcript_counts', 'control_probe_counts', 'control_codeword_counts', 'total_counts', 'cell_area', 'nucleus_area', 'annotation-demo', 'annotation-demo2', 'dist_from_points'\n",
       "           var: 'gene_ids', 'feature_types', 'genome'\n",
       "           obsm: 'spatial'\n",
       "           varm: 'binned_expression'\n",
       "       \u001b[1mboundaries\u001b[0m\n",
       "           BoundariesData object with 2 entries:\n",
       "               \u001b[1mcellular\u001b[0m\n",
       "               \u001b[1mnuclear\u001b[0m\n",
       "    ➤ \u001b[36m\u001b[1mannotations\u001b[0m\n",
       "       \u001b[1mTestKey:\u001b[0m\t14 annotations, 2 classes ('TestClass','test') "
      ]
     },
     "execution_count": 86,
     "metadata": {},
     "output_type": "execute_result"
    }
   ],
   "source": [
    "data"
   ]
  },
  {
   "cell_type": "code",
   "execution_count": 87,
   "id": "4e9a2274",
   "metadata": {},
   "outputs": [
    {
     "data": {
      "text/html": [
       "<div>\n",
       "<style scoped>\n",
       "    .dataframe tbody tr th:only-of-type {\n",
       "        vertical-align: middle;\n",
       "    }\n",
       "\n",
       "    .dataframe tbody tr th {\n",
       "        vertical-align: top;\n",
       "    }\n",
       "\n",
       "    .dataframe thead th {\n",
       "        text-align: right;\n",
       "    }\n",
       "</style>\n",
       "<table border=\"1\" class=\"dataframe\">\n",
       "  <thead>\n",
       "    <tr style=\"text-align: right;\">\n",
       "      <th></th>\n",
       "      <th>objectType</th>\n",
       "      <th>geometry</th>\n",
       "      <th>name</th>\n",
       "      <th>color</th>\n",
       "      <th>origin</th>\n",
       "    </tr>\n",
       "    <tr>\n",
       "      <th>id</th>\n",
       "      <th></th>\n",
       "      <th></th>\n",
       "      <th></th>\n",
       "      <th></th>\n",
       "      <th></th>\n",
       "    </tr>\n",
       "  </thead>\n",
       "  <tbody>\n",
       "    <tr>\n",
       "      <th>a55ae5f8-e3ac-4db2-b483-0172796a2918</th>\n",
       "      <td>annotation</td>\n",
       "      <td>POLYGON ((12485.12055 12724.27430, 12090.97874...</td>\n",
       "      <td>TestClass</td>\n",
       "      <td>[255, 0, 0]</td>\n",
       "      <td>manual</td>\n",
       "    </tr>\n",
       "    <tr>\n",
       "      <th>debff88f-591a-48bc-8f95-8055e0c33c2a</th>\n",
       "      <td>annotation</td>\n",
       "      <td>POLYGON ((8412.32187 11541.84888, 8215.25096 1...</td>\n",
       "      <td>TestClass</td>\n",
       "      <td>[255, 0, 0]</td>\n",
       "      <td>manual</td>\n",
       "    </tr>\n",
       "    <tr>\n",
       "      <th>09617a4e-d1f1-44a6-80e5-29b7e3bd830f</th>\n",
       "      <td>annotation</td>\n",
       "      <td>POLYGON ((17740.34464 12789.96460, 17214.82223...</td>\n",
       "      <td>TestClass</td>\n",
       "      <td>[255, 0, 0]</td>\n",
       "      <td>manual</td>\n",
       "    </tr>\n",
       "    <tr>\n",
       "      <th>657c6b1e-8c7a-4ae7-adb6-7bf9542945e0</th>\n",
       "      <td>annotation</td>\n",
       "      <td>POINT (13048.27650 14000.94096)</td>\n",
       "      <td>test</td>\n",
       "      <td>[0, 0, 255]</td>\n",
       "      <td>manual</td>\n",
       "    </tr>\n",
       "    <tr>\n",
       "      <th>55c1bdda-9de4-403b-a55e-5549b51233ad</th>\n",
       "      <td>annotation</td>\n",
       "      <td>POINT (10453.61558 15017.76753)</td>\n",
       "      <td>test</td>\n",
       "      <td>[0, 0, 255]</td>\n",
       "      <td>manual</td>\n",
       "    </tr>\n",
       "    <tr>\n",
       "      <th>5dfc5e8f-0757-4b8e-8fd1-053bbff69485</th>\n",
       "      <td>annotation</td>\n",
       "      <td>POINT (9366.66303 15052.83052)</td>\n",
       "      <td>test</td>\n",
       "      <td>[0, 0, 255]</td>\n",
       "      <td>manual</td>\n",
       "    </tr>\n",
       "    <tr>\n",
       "      <th>2d3299dc-2124-44be-a6e6-6d64284debc8</th>\n",
       "      <td>annotation</td>\n",
       "      <td>POINT (8980.97019 13965.87797)</td>\n",
       "      <td>test</td>\n",
       "      <td>[0, 0, 255]</td>\n",
       "      <td>manual</td>\n",
       "    </tr>\n",
       "    <tr>\n",
       "      <th>6076667f-7089-4864-996d-7fe796c961de</th>\n",
       "      <td>annotation</td>\n",
       "      <td>POINT (9647.16691 13369.80722)</td>\n",
       "      <td>test</td>\n",
       "      <td>[0, 0, 255]</td>\n",
       "      <td>manual</td>\n",
       "    </tr>\n",
       "    <tr>\n",
       "      <th>e520078e-5f19-4013-baea-78997e1c5c45</th>\n",
       "      <td>annotation</td>\n",
       "      <td>POINT (8700.46631 12107.53974)</td>\n",
       "      <td>test</td>\n",
       "      <td>[0, 0, 255]</td>\n",
       "      <td>manual</td>\n",
       "    </tr>\n",
       "    <tr>\n",
       "      <th>1a098701-a20e-486f-9ba7-c2d4f3bfa5b9</th>\n",
       "      <td>annotation</td>\n",
       "      <td>POINT (19149.23595 16735.85382)</td>\n",
       "      <td>test</td>\n",
       "      <td>[0, 0, 255]</td>\n",
       "      <td>manual</td>\n",
       "    </tr>\n",
       "    <tr>\n",
       "      <th>104915f9-1485-45b2-bcd5-73c2b0c015cb</th>\n",
       "      <td>annotation</td>\n",
       "      <td>POINT (20376.44044 13755.50006)</td>\n",
       "      <td>test</td>\n",
       "      <td>[0, 0, 255]</td>\n",
       "      <td>manual</td>\n",
       "    </tr>\n",
       "    <tr>\n",
       "      <th>6274844b-ebbe-475a-b5f5-260c5de8997e</th>\n",
       "      <td>annotation</td>\n",
       "      <td>LINESTRING (7437.80075 9323.25836, 9426.14168 ...</td>\n",
       "      <td>TestClass</td>\n",
       "      <td>[255, 0, 0]</td>\n",
       "      <td>manual</td>\n",
       "    </tr>\n",
       "    <tr>\n",
       "      <th>1c64782c-54cd-4146-8baa-83b23da6889f</th>\n",
       "      <td>annotation</td>\n",
       "      <td>POLYGON ((15905.92915 10400.12375, 15897.39544...</td>\n",
       "      <td>TestClass</td>\n",
       "      <td>[255, 0, 0]</td>\n",
       "      <td>manual</td>\n",
       "    </tr>\n",
       "    <tr>\n",
       "      <th>2611df08-e3b3-4ff8-b581-85e4f8a494c5</th>\n",
       "      <td>annotation</td>\n",
       "      <td>POLYGON ((15235.88523 8774.64016, 15233.99272 ...</td>\n",
       "      <td>TestClass</td>\n",
       "      <td>[255, 0, 0]</td>\n",
       "      <td>manual</td>\n",
       "    </tr>\n",
       "  </tbody>\n",
       "</table>\n",
       "</div>"
      ],
      "text/plain": [
       "                                      objectType  \\\n",
       "id                                                 \n",
       "a55ae5f8-e3ac-4db2-b483-0172796a2918  annotation   \n",
       "debff88f-591a-48bc-8f95-8055e0c33c2a  annotation   \n",
       "09617a4e-d1f1-44a6-80e5-29b7e3bd830f  annotation   \n",
       "657c6b1e-8c7a-4ae7-adb6-7bf9542945e0  annotation   \n",
       "55c1bdda-9de4-403b-a55e-5549b51233ad  annotation   \n",
       "5dfc5e8f-0757-4b8e-8fd1-053bbff69485  annotation   \n",
       "2d3299dc-2124-44be-a6e6-6d64284debc8  annotation   \n",
       "6076667f-7089-4864-996d-7fe796c961de  annotation   \n",
       "e520078e-5f19-4013-baea-78997e1c5c45  annotation   \n",
       "1a098701-a20e-486f-9ba7-c2d4f3bfa5b9  annotation   \n",
       "104915f9-1485-45b2-bcd5-73c2b0c015cb  annotation   \n",
       "6274844b-ebbe-475a-b5f5-260c5de8997e  annotation   \n",
       "1c64782c-54cd-4146-8baa-83b23da6889f  annotation   \n",
       "2611df08-e3b3-4ff8-b581-85e4f8a494c5  annotation   \n",
       "\n",
       "                                                                               geometry  \\\n",
       "id                                                                                        \n",
       "a55ae5f8-e3ac-4db2-b483-0172796a2918  POLYGON ((12485.12055 12724.27430, 12090.97874...   \n",
       "debff88f-591a-48bc-8f95-8055e0c33c2a  POLYGON ((8412.32187 11541.84888, 8215.25096 1...   \n",
       "09617a4e-d1f1-44a6-80e5-29b7e3bd830f  POLYGON ((17740.34464 12789.96460, 17214.82223...   \n",
       "657c6b1e-8c7a-4ae7-adb6-7bf9542945e0                    POINT (13048.27650 14000.94096)   \n",
       "55c1bdda-9de4-403b-a55e-5549b51233ad                    POINT (10453.61558 15017.76753)   \n",
       "5dfc5e8f-0757-4b8e-8fd1-053bbff69485                     POINT (9366.66303 15052.83052)   \n",
       "2d3299dc-2124-44be-a6e6-6d64284debc8                     POINT (8980.97019 13965.87797)   \n",
       "6076667f-7089-4864-996d-7fe796c961de                     POINT (9647.16691 13369.80722)   \n",
       "e520078e-5f19-4013-baea-78997e1c5c45                     POINT (8700.46631 12107.53974)   \n",
       "1a098701-a20e-486f-9ba7-c2d4f3bfa5b9                    POINT (19149.23595 16735.85382)   \n",
       "104915f9-1485-45b2-bcd5-73c2b0c015cb                    POINT (20376.44044 13755.50006)   \n",
       "6274844b-ebbe-475a-b5f5-260c5de8997e  LINESTRING (7437.80075 9323.25836, 9426.14168 ...   \n",
       "1c64782c-54cd-4146-8baa-83b23da6889f  POLYGON ((15905.92915 10400.12375, 15897.39544...   \n",
       "2611df08-e3b3-4ff8-b581-85e4f8a494c5  POLYGON ((15235.88523 8774.64016, 15233.99272 ...   \n",
       "\n",
       "                                           name        color  origin  \n",
       "id                                                                    \n",
       "a55ae5f8-e3ac-4db2-b483-0172796a2918  TestClass  [255, 0, 0]  manual  \n",
       "debff88f-591a-48bc-8f95-8055e0c33c2a  TestClass  [255, 0, 0]  manual  \n",
       "09617a4e-d1f1-44a6-80e5-29b7e3bd830f  TestClass  [255, 0, 0]  manual  \n",
       "657c6b1e-8c7a-4ae7-adb6-7bf9542945e0       test  [0, 0, 255]  manual  \n",
       "55c1bdda-9de4-403b-a55e-5549b51233ad       test  [0, 0, 255]  manual  \n",
       "5dfc5e8f-0757-4b8e-8fd1-053bbff69485       test  [0, 0, 255]  manual  \n",
       "2d3299dc-2124-44be-a6e6-6d64284debc8       test  [0, 0, 255]  manual  \n",
       "6076667f-7089-4864-996d-7fe796c961de       test  [0, 0, 255]  manual  \n",
       "e520078e-5f19-4013-baea-78997e1c5c45       test  [0, 0, 255]  manual  \n",
       "1a098701-a20e-486f-9ba7-c2d4f3bfa5b9       test  [0, 0, 255]  manual  \n",
       "104915f9-1485-45b2-bcd5-73c2b0c015cb       test  [0, 0, 255]  manual  \n",
       "6274844b-ebbe-475a-b5f5-260c5de8997e  TestClass  [255, 0, 0]  manual  \n",
       "1c64782c-54cd-4146-8baa-83b23da6889f  TestClass  [255, 0, 0]  manual  \n",
       "2611df08-e3b3-4ff8-b581-85e4f8a494c5  TestClass  [255, 0, 0]  manual  "
      ]
     },
     "execution_count": 87,
     "metadata": {},
     "output_type": "execute_result"
    }
   ],
   "source": [
    "data.annotations.TestKey"
   ]
  },
  {
   "cell_type": "code",
   "execution_count": 88,
   "id": "6de7d86a",
   "metadata": {},
   "outputs": [],
   "source": [
    "data.show()"
   ]
  },
  {
   "cell_type": "code",
   "execution_count": 43,
   "id": "0b6b5778",
   "metadata": {},
   "outputs": [
    {
     "data": {
      "text/plain": [
       "[<POLYGON ((12485.121 12724.274, 12090.979 13643.939, 11762.527 15614.648, 11...>,\n",
       " <POLYGON ((8412.322 11541.849, 8215.251 12395.823, 8149.561 13184.106, 8149....>,\n",
       " <POLYGON ((17740.345 12789.965, 17214.822 13249.797, 16623.61 13972.39, 1629...>,\n",
       " <POLYGON ((7437.801 9323.258, 9426.142 8329.088, 11673.831 9150.359, 13316.3...>]"
      ]
     },
     "execution_count": 43,
     "metadata": {},
     "output_type": "execute_result"
    }
   ],
   "source": [
    "[Polygon(np.stack([ar[:, 1], ar[:, 0]], axis=1)) for ar in sl.data]"
   ]
  },
  {
   "cell_type": "code",
   "execution_count": 38,
   "id": "1a42654e",
   "metadata": {},
   "outputs": [
    {
     "data": {
      "image/svg+xml": [
       "<svg xmlns=\"http://www.w3.org/2000/svg\" xmlns:xlink=\"http://www.w3.org/1999/xlink\" width=\"300\" height=\"300\" viewBox=\"7064.338447460175 6831.780716778845 10083.482039303244 2864.939941551007\" preserveAspectRatio=\"xMinYMin meet\"><g transform=\"matrix(1,0,0,-1,0,16528.501375108695)\"><polyline fill=\"none\" stroke=\"#66cc99\" stroke-width=\"67.22321359535496\" points=\"7437.800745212147,9323.25836057788 9426.141682317553,8329.087892025176 11673.831437306275,9150.35914865567 13316.373950567262,7507.816635394683 14483.443631042173,7205.243014530817 16774.358189011447,7896.839862219655\" opacity=\"0.8\" /></g></svg>"
      ],
      "text/plain": [
       "<LINESTRING (7437.801 9323.258, 9426.142 8329.088, 11673.831 9150.359, 13316...>"
      ]
     },
     "execution_count": 38,
     "metadata": {},
     "output_type": "execute_result"
    }
   ],
   "source": [
    "LineString(np.flip(ar, axis=1))"
   ]
  },
  {
   "cell_type": "code",
   "execution_count": 27,
   "id": "dfa18b53",
   "metadata": {},
   "outputs": [
    {
     "data": {
      "image/svg+xml": [
       "<svg xmlns=\"http://www.w3.org/2000/svg\" xmlns:xlink=\"http://www.w3.org/1999/xlink\" width=\"300\" height=\"300\" viewBox=\"6831.780716778845 7064.338447460175 2864.939941551007 10083.482039303244\" preserveAspectRatio=\"xMinYMin meet\"><g transform=\"matrix(1,0,0,-1,0,24212.158934223597)\"><polyline fill=\"none\" stroke=\"#66cc99\" stroke-width=\"67.22321359535496\" points=\"9323.25836057788,7437.800745212147 8329.087892025176,9426.141682317553 9150.35914865567,11673.831437306275 7507.816635394683,13316.373950567262 7205.243014530817,14483.443631042173 7896.839862219655,16774.358189011447\" opacity=\"0.8\" /></g></svg>"
      ],
      "text/plain": [
       "<LINESTRING (9323.258 7437.801, 8329.088 9426.142, 9150.359 11673.831, 7507....>"
      ]
     },
     "execution_count": 27,
     "metadata": {},
     "output_type": "execute_result"
    }
   ],
   "source": [
    "LineString(sl.data[-1])"
   ]
  },
  {
   "cell_type": "code",
   "execution_count": 24,
   "id": "7fc6d7c6",
   "metadata": {},
   "outputs": [
    {
     "data": {
      "text/plain": [
       "array([[14000.94095578, 13048.27649683],\n",
       "       [15017.76753208, 10453.61557799],\n",
       "       [15052.83051747,  9366.66303091],\n",
       "       [13965.87797039,  8980.97019162],\n",
       "       [13369.80721876,  9647.16691403],\n",
       "       [12107.53974473,  8700.4663085 ],\n",
       "       [16735.85381617, 19149.23595464],\n",
       "       [13755.50005805, 20376.44044328]])"
      ]
     },
     "execution_count": 24,
     "metadata": {},
     "output_type": "execute_result"
    }
   ],
   "source": [
    "pl.data"
   ]
  },
  {
   "cell_type": "code",
   "execution_count": 15,
   "id": "36f6b968",
   "metadata": {},
   "outputs": [
    {
     "data": {
      "text/plain": [
       "array([0.2125, 0.2125])"
      ]
     },
     "execution_count": 15,
     "metadata": {},
     "output_type": "execute_result"
    }
   ],
   "source": [
    "pl.scale"
   ]
  },
  {
   "cell_type": "code",
   "execution_count": 13,
   "id": "146dbdc4",
   "metadata": {},
   "outputs": [],
   "source": [
    "def test(scale_param = None):\n",
    "    global scale\n",
    "    if scale_param is None:\n",
    "        scale = \"hello\"\n",
    "    else:\n",
    "        scale = scale_param"
   ]
  },
  {
   "cell_type": "code",
   "execution_count": 15,
   "id": "27b03ba1",
   "metadata": {},
   "outputs": [
    {
     "data": {
      "text/plain": [
       "array([[4633.618086  , 2611.18039549]])"
      ]
     },
     "execution_count": 15,
     "metadata": {},
     "output_type": "execute_result"
    }
   ],
   "source": [
    "pl.data"
   ]
  },
  {
   "cell_type": "code",
   "execution_count": 17,
   "id": "1e39f70d",
   "metadata": {},
   "outputs": [
    {
     "data": {
      "text/plain": [
       "array([[4633.618086  , 2612.71413837]])"
      ]
     },
     "execution_count": 17,
     "metadata": {},
     "output_type": "execute_result"
    }
   ],
   "source": [
    "ll.data"
   ]
  },
  {
   "cell_type": "code",
   "execution_count": 21,
   "id": "bc0aa6a0",
   "metadata": {},
   "outputs": [
    {
     "data": {
      "text/plain": [
       "array([0.2125, 0.2125])"
      ]
     },
     "execution_count": 21,
     "metadata": {},
     "output_type": "execute_result"
    }
   ],
   "source": [
    "pl.scale"
   ]
  },
  {
   "cell_type": "code",
   "execution_count": 22,
   "id": "e3f1ab23",
   "metadata": {},
   "outputs": [
    {
     "data": {
      "text/plain": [
       "9.273792257053264"
      ]
     },
     "execution_count": 22,
     "metadata": {},
     "output_type": "execute_result"
    }
   ],
   "source": [
    "ll.scale_factor"
   ]
  },
  {
   "cell_type": "code",
   "execution_count": 23,
   "id": "c4d16820",
   "metadata": {},
   "outputs": [
    {
     "data": {
      "text/plain": [
       "array([0.2125, 0.2125])"
      ]
     },
     "execution_count": 23,
     "metadata": {},
     "output_type": "execute_result"
    }
   ],
   "source": [
    "ll.scale"
   ]
  },
  {
   "cell_type": "code",
   "execution_count": 22,
   "id": "63ed9981",
   "metadata": {},
   "outputs": [
    {
     "data": {
      "text/plain": [
       "\u001b[1m\u001b[31mInSituData\u001b[0m\n",
       "\u001b[1mMethod:\u001b[0m\t\tXenium\n",
       "\u001b[1mSlide ID:\u001b[0m\t0001879\n",
       "\u001b[1mSample ID:\u001b[0m\tReplicate 1\n",
       "\u001b[1mPath:\u001b[0m\t\tC:\\Users\\ge37voy\\Github\\InSituPy\\notebooks\\demo_dataset\\demo_insitupy_project\n",
       "\u001b[1mMetadata file:\u001b[0m\t.ispy\n",
       "    ➤ \u001b[34m\u001b[1mimages\u001b[0m\n",
       "       \u001b[1mnuclei:\u001b[0m\t(25778, 35416)\n",
       "       \u001b[1mCD20:\u001b[0m\t(25778, 35416)\n",
       "       \u001b[1mHER2:\u001b[0m\t(25778, 35416)\n",
       "       \u001b[1mHE:\u001b[0m\t(25778, 35416, 3)\n",
       "    ➤\u001b[32m\u001b[1m cells\u001b[0m\n",
       "       \u001b[1mmatrix\u001b[0m\n",
       "           AnnData object with n_obs × n_vars = 167780 × 313\n",
       "           obs: 'transcript_counts', 'control_probe_counts', 'control_codeword_counts', 'total_counts', 'cell_area', 'nucleus_area', 'annotation-demo', 'annotation-demo2', 'dist_from_points'\n",
       "           var: 'gene_ids', 'feature_types', 'genome'\n",
       "           obsm: 'spatial'\n",
       "           varm: 'binned_expression'\n",
       "       \u001b[1mboundaries\u001b[0m\n",
       "           BoundariesData object with 2 entries:\n",
       "               \u001b[1mcellular\u001b[0m\n",
       "               \u001b[1mnuclear\u001b[0m\n",
       "    ➤ \u001b[36m\u001b[1mannotations\u001b[0m\n",
       "       \u001b[1mTestKey:\u001b[0m\t10 annotations, 2 classes ('TestClass','test') "
      ]
     },
     "execution_count": 22,
     "metadata": {},
     "output_type": "execute_result"
    }
   ],
   "source": [
    "data"
   ]
  },
  {
   "cell_type": "code",
   "execution_count": 9,
   "id": "a5eebe12",
   "metadata": {},
   "outputs": [
    {
     "name": "stderr",
     "output_type": "stream",
     "text": [
      "Invalid schema for package 'ome-types', please run 'npe2 validate ome-types' to check for manifest errors.\n"
     ]
    }
   ],
   "source": [
    "data.show()"
   ]
  },
  {
   "cell_type": "code",
   "execution_count": 24,
   "id": "fe17671a",
   "metadata": {},
   "outputs": [
    {
     "name": "stdout",
     "output_type": "stream",
     "text": [
      "Added 3 new annotations to key 'TestKey'\n",
      "Added 12 new annotations to existing key 'TestKey'\n"
     ]
    }
   ],
   "source": [
    "data.store_annotations()"
   ]
  },
  {
   "cell_type": "code",
   "execution_count": 25,
   "id": "07d2ca55",
   "metadata": {},
   "outputs": [
    {
     "data": {
      "text/plain": [
       "\u001b[1m\u001b[31mInSituData\u001b[0m\n",
       "\u001b[1mMethod:\u001b[0m\t\tXenium\n",
       "\u001b[1mSlide ID:\u001b[0m\t0001879\n",
       "\u001b[1mSample ID:\u001b[0m\tReplicate 1\n",
       "\u001b[1mPath:\u001b[0m\t\tC:\\Users\\ge37voy\\Github\\InSituPy\\notebooks\\demo_dataset\\demo_insitupy_project\n",
       "\u001b[1mMetadata file:\u001b[0m\t.ispy\n",
       "    ➤ \u001b[34m\u001b[1mimages\u001b[0m\n",
       "       \u001b[1mnuclei:\u001b[0m\t(25778, 35416)\n",
       "       \u001b[1mCD20:\u001b[0m\t(25778, 35416)\n",
       "       \u001b[1mHER2:\u001b[0m\t(25778, 35416)\n",
       "       \u001b[1mHE:\u001b[0m\t(25778, 35416, 3)\n",
       "    ➤\u001b[32m\u001b[1m cells\u001b[0m\n",
       "       \u001b[1mmatrix\u001b[0m\n",
       "           AnnData object with n_obs × n_vars = 167780 × 313\n",
       "           obs: 'transcript_counts', 'control_probe_counts', 'control_codeword_counts', 'total_counts', 'cell_area', 'nucleus_area', 'annotation-demo', 'annotation-demo2', 'dist_from_points'\n",
       "           var: 'gene_ids', 'feature_types', 'genome'\n",
       "           obsm: 'spatial'\n",
       "           varm: 'binned_expression'\n",
       "       \u001b[1mboundaries\u001b[0m\n",
       "           BoundariesData object with 2 entries:\n",
       "               \u001b[1mcellular\u001b[0m\n",
       "               \u001b[1mnuclear\u001b[0m\n",
       "    ➤ \u001b[36m\u001b[1mannotations\u001b[0m\n",
       "       \u001b[1mTestKey:\u001b[0m\t15 annotations, 2 classes ('TestClass','test') "
      ]
     },
     "execution_count": 25,
     "metadata": {},
     "output_type": "execute_result"
    }
   ],
   "source": [
    "data"
   ]
  },
  {
   "cell_type": "code",
   "execution_count": 61,
   "id": "d21e7d03",
   "metadata": {},
   "outputs": [
    {
     "data": {
      "text/plain": [
       "\u001b[36m\u001b[1mannotations\u001b[0m\n",
       "\u001b[1mTestKey:\u001b[0m\t15 annotations, 2 classes ('TestClass','test') "
      ]
     },
     "execution_count": 61,
     "metadata": {},
     "output_type": "execute_result"
    }
   ],
   "source": [
    "data.annotations"
   ]
  },
  {
   "cell_type": "code",
   "execution_count": null,
   "id": "df0179f3",
   "metadata": {},
   "outputs": [],
   "source": []
  },
  {
   "cell_type": "code",
   "execution_count": 28,
   "id": "554966c3",
   "metadata": {},
   "outputs": [],
   "source": [
    "df = data.annotations.TestKey"
   ]
  },
  {
   "cell_type": "code",
   "execution_count": 30,
   "id": "499deef0",
   "metadata": {},
   "outputs": [
    {
     "data": {
      "text/plain": [
       "{'TestKey': {'n_annotations': 15,\n",
       "  'classes': ['TestClass', 'test'],\n",
       "  'analyzed': ''}}"
      ]
     },
     "execution_count": 30,
     "metadata": {},
     "output_type": "execute_result"
    }
   ],
   "source": [
    "data.annotations"
   ]
  },
  {
   "cell_type": "code",
   "execution_count": 58,
   "id": "7e15a99e",
   "metadata": {},
   "outputs": [],
   "source": [
    "a = data.annotations.copy()"
   ]
  },
  {
   "cell_type": "code",
   "execution_count": 59,
   "id": "a96cace6",
   "metadata": {},
   "outputs": [],
   "source": [
    "a.remove_data(\"TestKey\")"
   ]
  },
  {
   "cell_type": "code",
   "execution_count": 60,
   "id": "574f3d2d",
   "metadata": {},
   "outputs": [
    {
     "data": {
      "text/plain": [
       "\u001b[36m\u001b[1mannotations\u001b[0m"
      ]
     },
     "execution_count": 60,
     "metadata": {},
     "output_type": "execute_result"
    }
   ],
   "source": [
    "a"
   ]
  },
  {
   "cell_type": "code",
   "execution_count": 54,
   "id": "1a2288c1",
   "metadata": {},
   "outputs": [],
   "source": [
    "delattr(a, \"TestKey\")"
   ]
  },
  {
   "cell_type": "code",
   "execution_count": 56,
   "id": "d9822a8f",
   "metadata": {},
   "outputs": [],
   "source": [
    "a._update_metadata()"
   ]
  },
  {
   "cell_type": "code",
   "execution_count": 57,
   "id": "dfb964af",
   "metadata": {},
   "outputs": [
    {
     "data": {
      "text/plain": [
       "\u001b[36m\u001b[1mannotations\u001b[0m"
      ]
     },
     "execution_count": 57,
     "metadata": {},
     "output_type": "execute_result"
    }
   ],
   "source": [
    "a"
   ]
  },
  {
   "cell_type": "code",
   "execution_count": 52,
   "id": "a7d853fc",
   "metadata": {},
   "outputs": [
    {
     "data": {
      "text/plain": [
       "{'TestKey': {'n_annotations': 15,\n",
       "  'classes': ['TestClass', 'test'],\n",
       "  'analyzed': ''}}"
      ]
     },
     "execution_count": 52,
     "metadata": {},
     "output_type": "execute_result"
    }
   ],
   "source": [
    "a.metadata"
   ]
  },
  {
   "cell_type": "code",
   "execution_count": 46,
   "id": "43fc1157",
   "metadata": {},
   "outputs": [],
   "source": [
    "del a.TestKey"
   ]
  },
  {
   "cell_type": "code",
   "execution_count": 47,
   "id": "28af4c20",
   "metadata": {},
   "outputs": [
    {
     "name": "stdout",
     "output_type": "stream",
     "text": [
      "Remove TestKey\n"
     ]
    }
   ],
   "source": [
    "a._update_metadata()"
   ]
  },
  {
   "cell_type": "code",
   "execution_count": 49,
   "id": "d9710ff9",
   "metadata": {},
   "outputs": [
    {
     "data": {
      "text/plain": [
       "{}"
      ]
     },
     "execution_count": 49,
     "metadata": {},
     "output_type": "execute_result"
    }
   ],
   "source": [
    "a.metadata"
   ]
  },
  {
   "cell_type": "code",
   "execution_count": 41,
   "id": "75caab4b",
   "metadata": {},
   "outputs": [],
   "source": [
    "l = list(\"abcd\")"
   ]
  },
  {
   "cell_type": "code",
   "execution_count": 43,
   "id": "d39ea561",
   "metadata": {},
   "outputs": [
    {
     "ename": "TypeError",
     "evalue": "'str' object cannot be interpreted as an integer",
     "output_type": "error",
     "traceback": [
      "\u001b[1;31m---------------------------------------------------------------------------\u001b[0m",
      "\u001b[1;31mTypeError\u001b[0m                                 Traceback (most recent call last)",
      "Cell \u001b[1;32mIn[43], line 1\u001b[0m\n\u001b[1;32m----> 1\u001b[0m m \u001b[38;5;241m=\u001b[39m \u001b[43ml\u001b[49m\u001b[38;5;241;43m.\u001b[39;49m\u001b[43mpop\u001b[49m\u001b[43m(\u001b[49m\u001b[38;5;124;43m\"\u001b[39;49m\u001b[38;5;124;43mb\u001b[39;49m\u001b[38;5;124;43m\"\u001b[39;49m\u001b[43m)\u001b[49m\n",
      "\u001b[1;31mTypeError\u001b[0m: 'str' object cannot be interpreted as an integer"
     ]
    }
   ],
   "source": [
    "m = l.pop(\"b\")"
   ]
  },
  {
   "cell_type": "code",
   "execution_count": null,
   "id": "0ded1063",
   "metadata": {},
   "outputs": [],
   "source": []
  },
  {
   "cell_type": "code",
   "execution_count": 38,
   "id": "21eb9894",
   "metadata": {},
   "outputs": [
    {
     "data": {
      "text/plain": [
       "{'TestKey': {'n_annotations': 15,\n",
       "  'classes': ['TestClass', 'test'],\n",
       "  'analyzed': ''}}"
      ]
     },
     "execution_count": 38,
     "metadata": {},
     "output_type": "execute_result"
    }
   ],
   "source": [
    "a.metadata"
   ]
  },
  {
   "cell_type": "code",
   "execution_count": 29,
   "id": "2c20b814",
   "metadata": {},
   "outputs": [
    {
     "data": {
      "text/html": [
       "<div>\n",
       "<style scoped>\n",
       "    .dataframe tbody tr th:only-of-type {\n",
       "        vertical-align: middle;\n",
       "    }\n",
       "\n",
       "    .dataframe tbody tr th {\n",
       "        vertical-align: top;\n",
       "    }\n",
       "\n",
       "    .dataframe thead th {\n",
       "        text-align: right;\n",
       "    }\n",
       "</style>\n",
       "<table border=\"1\" class=\"dataframe\">\n",
       "  <thead>\n",
       "    <tr style=\"text-align: right;\">\n",
       "      <th></th>\n",
       "      <th>objectType</th>\n",
       "      <th>geometry</th>\n",
       "      <th>name</th>\n",
       "      <th>color</th>\n",
       "      <th>origin</th>\n",
       "    </tr>\n",
       "    <tr>\n",
       "      <th>id</th>\n",
       "      <th></th>\n",
       "      <th></th>\n",
       "      <th></th>\n",
       "      <th></th>\n",
       "      <th></th>\n",
       "    </tr>\n",
       "  </thead>\n",
       "  <tbody>\n",
       "    <tr>\n",
       "      <th>f711ab03-4d01-4957-9862-372562a1e282</th>\n",
       "      <td>annotation</td>\n",
       "      <td>POLYGON ((12581.72268 13023.89770, 12232.59168...</td>\n",
       "      <td>TestClass</td>\n",
       "      <td>[255, 0, 0]</td>\n",
       "      <td>manual</td>\n",
       "    </tr>\n",
       "    <tr>\n",
       "      <th>dd2f9644-348d-418e-b2a6-c84b5e430466</th>\n",
       "      <td>annotation</td>\n",
       "      <td>POLYGON ((9352.26098 11016.39449, 8784.92312 1...</td>\n",
       "      <td>TestClass</td>\n",
       "      <td>[255, 0, 0]</td>\n",
       "      <td>manual</td>\n",
       "    </tr>\n",
       "    <tr>\n",
       "      <th>69663707-dc64-4175-9c7c-33f3c7d56992</th>\n",
       "      <td>annotation</td>\n",
       "      <td>POLYGON ((20786.30104 9008.89127, 20786.30104 ...</td>\n",
       "      <td>TestClass</td>\n",
       "      <td>[255, 0, 0]</td>\n",
       "      <td>manual</td>\n",
       "    </tr>\n",
       "    <tr>\n",
       "      <th>b3fe1f6a-67eb-4348-839b-3cd4febcd4c0</th>\n",
       "      <td>annotation</td>\n",
       "      <td>POINT (2611.18040 4633.61809)</td>\n",
       "      <td>test</td>\n",
       "      <td>[0, 0, 255]</td>\n",
       "      <td>manual</td>\n",
       "    </tr>\n",
       "    <tr>\n",
       "      <th>1d64bcdc-d507-4f1d-ba20-6ae1f621c80d</th>\n",
       "      <td>annotation</td>\n",
       "      <td>POINT (8965.29493 13650.02655)</td>\n",
       "      <td>test</td>\n",
       "      <td>[0, 0, 255]</td>\n",
       "      <td>manual</td>\n",
       "    </tr>\n",
       "    <tr>\n",
       "      <th>29bd1c3d-5e88-4a7c-be1f-89d263cc3e87</th>\n",
       "      <td>annotation</td>\n",
       "      <td>POINT (9486.43775 13312.81648)</td>\n",
       "      <td>test</td>\n",
       "      <td>[0, 0, 255]</td>\n",
       "      <td>manual</td>\n",
       "    </tr>\n",
       "    <tr>\n",
       "      <th>3c2736f8-f4e2-44ed-a2e6-4e19dff1ff9a</th>\n",
       "      <td>annotation</td>\n",
       "      <td>POINT (8643.41260 12147.90900)</td>\n",
       "      <td>test</td>\n",
       "      <td>[0, 0, 255]</td>\n",
       "      <td>manual</td>\n",
       "    </tr>\n",
       "    <tr>\n",
       "      <th>e2932209-4eba-4231-acba-12f9c34aa210</th>\n",
       "      <td>annotation</td>\n",
       "      <td>POINT (13088.45431 13910.59796)</td>\n",
       "      <td>test</td>\n",
       "      <td>[0, 0, 255]</td>\n",
       "      <td>manual</td>\n",
       "    </tr>\n",
       "    <tr>\n",
       "      <th>976a143f-c8bc-45ef-92b7-345587a2807d</th>\n",
       "      <td>annotation</td>\n",
       "      <td>POINT (9271.84953 15121.48863)</td>\n",
       "      <td>test</td>\n",
       "      <td>[0, 0, 255]</td>\n",
       "      <td>manual</td>\n",
       "    </tr>\n",
       "    <tr>\n",
       "      <th>23fba555-afc5-43d6-b701-d01bc901a489</th>\n",
       "      <td>annotation</td>\n",
       "      <td>POINT (9593.73186 15857.21967)</td>\n",
       "      <td>test</td>\n",
       "      <td>[0, 0, 255]</td>\n",
       "      <td>manual</td>\n",
       "    </tr>\n",
       "    <tr>\n",
       "      <th>97a7f9f7-d5b8-4a7e-a79a-ae273647581f</th>\n",
       "      <td>annotation</td>\n",
       "      <td>POINT (10390.77382 15060.17771)</td>\n",
       "      <td>test</td>\n",
       "      <td>[0, 0, 255]</td>\n",
       "      <td>manual</td>\n",
       "    </tr>\n",
       "    <tr>\n",
       "      <th>cdd576b6-e4e0-406f-925e-232aea99a3b0</th>\n",
       "      <td>annotation</td>\n",
       "      <td>POINT (24866.00218 6027.43196)</td>\n",
       "      <td>test</td>\n",
       "      <td>[0, 0, 255]</td>\n",
       "      <td>manual</td>\n",
       "    </tr>\n",
       "    <tr>\n",
       "      <th>fe56e00b-0b06-4874-9879-f561eb4fbf93</th>\n",
       "      <td>annotation</td>\n",
       "      <td>POINT (27556.47073 19515.17558)</td>\n",
       "      <td>test</td>\n",
       "      <td>[0, 0, 255]</td>\n",
       "      <td>manual</td>\n",
       "    </tr>\n",
       "    <tr>\n",
       "      <th>70e387e5-7c95-487e-b78d-2ab819e786ff</th>\n",
       "      <td>annotation</td>\n",
       "      <td>POINT (29857.52935 16364.49531)</td>\n",
       "      <td>test</td>\n",
       "      <td>[0, 0, 255]</td>\n",
       "      <td>manual</td>\n",
       "    </tr>\n",
       "    <tr>\n",
       "      <th>b90826ba-c0b5-4792-894a-faa8d39fc5db</th>\n",
       "      <td>annotation</td>\n",
       "      <td>POINT (19803.67321 23126.06757)</td>\n",
       "      <td>test</td>\n",
       "      <td>[0, 0, 255]</td>\n",
       "      <td>manual</td>\n",
       "    </tr>\n",
       "  </tbody>\n",
       "</table>\n",
       "</div>"
      ],
      "text/plain": [
       "                                      objectType  \\\n",
       "id                                                 \n",
       "f711ab03-4d01-4957-9862-372562a1e282  annotation   \n",
       "dd2f9644-348d-418e-b2a6-c84b5e430466  annotation   \n",
       "69663707-dc64-4175-9c7c-33f3c7d56992  annotation   \n",
       "b3fe1f6a-67eb-4348-839b-3cd4febcd4c0  annotation   \n",
       "1d64bcdc-d507-4f1d-ba20-6ae1f621c80d  annotation   \n",
       "29bd1c3d-5e88-4a7c-be1f-89d263cc3e87  annotation   \n",
       "3c2736f8-f4e2-44ed-a2e6-4e19dff1ff9a  annotation   \n",
       "e2932209-4eba-4231-acba-12f9c34aa210  annotation   \n",
       "976a143f-c8bc-45ef-92b7-345587a2807d  annotation   \n",
       "23fba555-afc5-43d6-b701-d01bc901a489  annotation   \n",
       "97a7f9f7-d5b8-4a7e-a79a-ae273647581f  annotation   \n",
       "cdd576b6-e4e0-406f-925e-232aea99a3b0  annotation   \n",
       "fe56e00b-0b06-4874-9879-f561eb4fbf93  annotation   \n",
       "70e387e5-7c95-487e-b78d-2ab819e786ff  annotation   \n",
       "b90826ba-c0b5-4792-894a-faa8d39fc5db  annotation   \n",
       "\n",
       "                                                                               geometry  \\\n",
       "id                                                                                        \n",
       "f711ab03-4d01-4957-9862-372562a1e282  POLYGON ((12581.72268 13023.89770, 12232.59168...   \n",
       "dd2f9644-348d-418e-b2a6-c84b5e430466  POLYGON ((9352.26098 11016.39449, 8784.92312 1...   \n",
       "69663707-dc64-4175-9c7c-33f3c7d56992  POLYGON ((20786.30104 9008.89127, 20786.30104 ...   \n",
       "b3fe1f6a-67eb-4348-839b-3cd4febcd4c0                      POINT (2611.18040 4633.61809)   \n",
       "1d64bcdc-d507-4f1d-ba20-6ae1f621c80d                     POINT (8965.29493 13650.02655)   \n",
       "29bd1c3d-5e88-4a7c-be1f-89d263cc3e87                     POINT (9486.43775 13312.81648)   \n",
       "3c2736f8-f4e2-44ed-a2e6-4e19dff1ff9a                     POINT (8643.41260 12147.90900)   \n",
       "e2932209-4eba-4231-acba-12f9c34aa210                    POINT (13088.45431 13910.59796)   \n",
       "976a143f-c8bc-45ef-92b7-345587a2807d                     POINT (9271.84953 15121.48863)   \n",
       "23fba555-afc5-43d6-b701-d01bc901a489                     POINT (9593.73186 15857.21967)   \n",
       "97a7f9f7-d5b8-4a7e-a79a-ae273647581f                    POINT (10390.77382 15060.17771)   \n",
       "cdd576b6-e4e0-406f-925e-232aea99a3b0                     POINT (24866.00218 6027.43196)   \n",
       "fe56e00b-0b06-4874-9879-f561eb4fbf93                    POINT (27556.47073 19515.17558)   \n",
       "70e387e5-7c95-487e-b78d-2ab819e786ff                    POINT (29857.52935 16364.49531)   \n",
       "b90826ba-c0b5-4792-894a-faa8d39fc5db                    POINT (19803.67321 23126.06757)   \n",
       "\n",
       "                                           name        color  origin  \n",
       "id                                                                    \n",
       "f711ab03-4d01-4957-9862-372562a1e282  TestClass  [255, 0, 0]  manual  \n",
       "dd2f9644-348d-418e-b2a6-c84b5e430466  TestClass  [255, 0, 0]  manual  \n",
       "69663707-dc64-4175-9c7c-33f3c7d56992  TestClass  [255, 0, 0]  manual  \n",
       "b3fe1f6a-67eb-4348-839b-3cd4febcd4c0       test  [0, 0, 255]  manual  \n",
       "1d64bcdc-d507-4f1d-ba20-6ae1f621c80d       test  [0, 0, 255]  manual  \n",
       "29bd1c3d-5e88-4a7c-be1f-89d263cc3e87       test  [0, 0, 255]  manual  \n",
       "3c2736f8-f4e2-44ed-a2e6-4e19dff1ff9a       test  [0, 0, 255]  manual  \n",
       "e2932209-4eba-4231-acba-12f9c34aa210       test  [0, 0, 255]  manual  \n",
       "976a143f-c8bc-45ef-92b7-345587a2807d       test  [0, 0, 255]  manual  \n",
       "23fba555-afc5-43d6-b701-d01bc901a489       test  [0, 0, 255]  manual  \n",
       "97a7f9f7-d5b8-4a7e-a79a-ae273647581f       test  [0, 0, 255]  manual  \n",
       "cdd576b6-e4e0-406f-925e-232aea99a3b0       test  [0, 0, 255]  manual  \n",
       "fe56e00b-0b06-4874-9879-f561eb4fbf93       test  [0, 0, 255]  manual  \n",
       "70e387e5-7c95-487e-b78d-2ab819e786ff       test  [0, 0, 255]  manual  \n",
       "b90826ba-c0b5-4792-894a-faa8d39fc5db       test  [0, 0, 255]  manual  "
      ]
     },
     "execution_count": 29,
     "metadata": {},
     "output_type": "execute_result"
    }
   ],
   "source": [
    "df"
   ]
  },
  {
   "cell_type": "code",
   "execution_count": null,
   "id": "4ece937b",
   "metadata": {},
   "outputs": [],
   "source": [
    "df.distance"
   ]
  },
  {
   "cell_type": "code",
   "execution_count": 10,
   "id": "3eb442dc",
   "metadata": {},
   "outputs": [
    {
     "data": {
      "text/plain": [
       "\u001b[1m\u001b[31mInSituData\u001b[0m\n",
       "\u001b[1mMethod:\u001b[0m\t\tXenium\n",
       "\u001b[1mSlide ID:\u001b[0m\t0001879\n",
       "\u001b[1mSample ID:\u001b[0m\tReplicate 1\n",
       "\u001b[1mPath:\u001b[0m\t\tC:\\Users\\ge37voy\\Github\\InSituPy\\notebooks\\demo_dataset\\demo_insitupy_project\n",
       "\u001b[1mMetadata file:\u001b[0m\t.ispy\n",
       "    ➤ \u001b[34m\u001b[1mimages\u001b[0m\n",
       "       \u001b[1mnuclei:\u001b[0m\t(25778, 35416)\n",
       "       \u001b[1mCD20:\u001b[0m\t(25778, 35416)\n",
       "       \u001b[1mHER2:\u001b[0m\t(25778, 35416)\n",
       "       \u001b[1mHE:\u001b[0m\t(25778, 35416, 3)\n",
       "    ➤\u001b[32m\u001b[1m cells\u001b[0m\n",
       "       \u001b[1mmatrix\u001b[0m\n",
       "           AnnData object with n_obs × n_vars = 167780 × 313\n",
       "           obs: 'transcript_counts', 'control_probe_counts', 'control_codeword_counts', 'total_counts', 'cell_area', 'nucleus_area', 'annotation-demo', 'annotation-demo2', 'dist_from_points'\n",
       "           var: 'gene_ids', 'feature_types', 'genome'\n",
       "           obsm: 'spatial'\n",
       "           varm: 'binned_expression'\n",
       "       \u001b[1mboundaries\u001b[0m\n",
       "           BoundariesData object with 2 entries:\n",
       "               \u001b[1mcellular\u001b[0m\n",
       "               \u001b[1mnuclear\u001b[0m\n",
       "    ➤ \u001b[36m\u001b[1mannotations\u001b[0m\n",
       "       \u001b[1mTest Key:\u001b[0m\t3 annotations, 2 classes ('Test Class','sdfs') "
      ]
     },
     "execution_count": 10,
     "metadata": {},
     "output_type": "execute_result"
    }
   ],
   "source": [
    "data"
   ]
  },
  {
   "cell_type": "code",
   "execution_count": 14,
   "id": "11e91dc8",
   "metadata": {},
   "outputs": [
    {
     "data": {
      "text/html": [
       "<div>\n",
       "<style scoped>\n",
       "    .dataframe tbody tr th:only-of-type {\n",
       "        vertical-align: middle;\n",
       "    }\n",
       "\n",
       "    .dataframe tbody tr th {\n",
       "        vertical-align: top;\n",
       "    }\n",
       "\n",
       "    .dataframe thead th {\n",
       "        text-align: right;\n",
       "    }\n",
       "</style>\n",
       "<table border=\"1\" class=\"dataframe\">\n",
       "  <thead>\n",
       "    <tr style=\"text-align: right;\">\n",
       "      <th></th>\n",
       "      <th>objectType</th>\n",
       "      <th>geometry</th>\n",
       "      <th>name</th>\n",
       "      <th>color</th>\n",
       "      <th>origin</th>\n",
       "    </tr>\n",
       "    <tr>\n",
       "      <th>id</th>\n",
       "      <th></th>\n",
       "      <th></th>\n",
       "      <th></th>\n",
       "      <th></th>\n",
       "      <th></th>\n",
       "    </tr>\n",
       "  </thead>\n",
       "  <tbody>\n",
       "    <tr>\n",
       "      <th>30d839fb-63d9-4905-a04b-a57aed200ebf</th>\n",
       "      <td>annotation</td>\n",
       "      <td>POLYGON ((2283.56462 2874.27129, 2272.72741 29...</td>\n",
       "      <td>Test Class</td>\n",
       "      <td>[255, 0, 0]</td>\n",
       "      <td>manual</td>\n",
       "    </tr>\n",
       "    <tr>\n",
       "      <th>500d4b01-cf1b-4b04-aab0-41214043339f</th>\n",
       "      <td>annotation</td>\n",
       "      <td>POLYGON ((3811.61109 2549.15502, 3887.47156 31...</td>\n",
       "      <td>Test Class</td>\n",
       "      <td>[255, 0, 0]</td>\n",
       "      <td>manual</td>\n",
       "    </tr>\n",
       "    <tr>\n",
       "      <th>NaN</th>\n",
       "      <td>annotation</td>\n",
       "      <td>POINT (1492.44837 1974.78294)</td>\n",
       "      <td>sdfs</td>\n",
       "      <td>[0, 0, 255]</td>\n",
       "      <td>manual</td>\n",
       "    </tr>\n",
       "  </tbody>\n",
       "</table>\n",
       "</div>"
      ],
      "text/plain": [
       "                                      objectType  \\\n",
       "id                                                 \n",
       "30d839fb-63d9-4905-a04b-a57aed200ebf  annotation   \n",
       "500d4b01-cf1b-4b04-aab0-41214043339f  annotation   \n",
       "NaN                                   annotation   \n",
       "\n",
       "                                                                               geometry  \\\n",
       "id                                                                                        \n",
       "30d839fb-63d9-4905-a04b-a57aed200ebf  POLYGON ((2283.56462 2874.27129, 2272.72741 29...   \n",
       "500d4b01-cf1b-4b04-aab0-41214043339f  POLYGON ((3811.61109 2549.15502, 3887.47156 31...   \n",
       "NaN                                                       POINT (1492.44837 1974.78294)   \n",
       "\n",
       "                                            name        color  origin  \n",
       "id                                                                     \n",
       "30d839fb-63d9-4905-a04b-a57aed200ebf  Test Class  [255, 0, 0]  manual  \n",
       "500d4b01-cf1b-4b04-aab0-41214043339f  Test Class  [255, 0, 0]  manual  \n",
       "NaN                                         sdfs  [0, 0, 255]  manual  "
      ]
     },
     "execution_count": 14,
     "metadata": {},
     "output_type": "execute_result"
    }
   ],
   "source": [
    "data.annotations.get(\"Test Key\")"
   ]
  },
  {
   "cell_type": "code",
   "execution_count": 11,
   "id": "5c7bfa57",
   "metadata": {},
   "outputs": [
    {
     "data": {
      "text/plain": [
       "\u001b[1m\u001b[31mInSituData\u001b[0m\n",
       "\u001b[1mMethod:\u001b[0m\t\tXenium\n",
       "\u001b[1mSlide ID:\u001b[0m\t0001879\n",
       "\u001b[1mSample ID:\u001b[0m\tReplicate 1\n",
       "\u001b[1mPath:\u001b[0m\t\tC:\\Users\\ge37voy\\Github\\InSituPy\\notebooks\\demo_dataset\\demo_insitupy_project\n",
       "\u001b[1mMetadata file:\u001b[0m\t.ispy\n",
       "    ➤ \u001b[34m\u001b[1mimages\u001b[0m\n",
       "       \u001b[1mnuclei:\u001b[0m\t(25778, 35416)\n",
       "       \u001b[1mCD20:\u001b[0m\t(25778, 35416)\n",
       "       \u001b[1mHER2:\u001b[0m\t(25778, 35416)\n",
       "       \u001b[1mHE:\u001b[0m\t(25778, 35416, 3)\n",
       "    ➤\u001b[32m\u001b[1m cells\u001b[0m\n",
       "       \u001b[1mmatrix\u001b[0m\n",
       "           AnnData object with n_obs × n_vars = 167780 × 313\n",
       "           obs: 'transcript_counts', 'control_probe_counts', 'control_codeword_counts', 'total_counts', 'cell_area', 'nucleus_area', 'annotation-demo', 'annotation-demo2', 'dist_from_points'\n",
       "           var: 'gene_ids', 'feature_types', 'genome'\n",
       "           obsm: 'spatial'\n",
       "           varm: 'binned_expression'\n",
       "       \u001b[1mboundaries\u001b[0m\n",
       "           BoundariesData object with 2 entries:\n",
       "               \u001b[1mcellular\u001b[0m\n",
       "               \u001b[1mnuclear\u001b[0m\n",
       "    ➤ \u001b[36m\u001b[1mannotations\u001b[0m\n",
       "       \u001b[1mTest Key:\u001b[0m\t3 annotations, 1 class ('Test Class') "
      ]
     },
     "execution_count": 11,
     "metadata": {},
     "output_type": "execute_result"
    }
   ],
   "source": [
    "data"
   ]
  },
  {
   "cell_type": "code",
   "execution_count": 9,
   "id": "013c56c7",
   "metadata": {},
   "outputs": [],
   "source": [
    "l = data.viewer.layers[\"*Test Class (Test Key)\"]\n",
    "s = data.viewer.layers[\"*test (Test Key)\"]"
   ]
  },
  {
   "cell_type": "code",
   "execution_count": 10,
   "id": "5c99f51d",
   "metadata": {},
   "outputs": [
    {
     "data": {
      "text/plain": [
       "{'uid': array(['4dbd5fe7-60a7-4642-b995-acd27b162b23',\n",
       "        'e91fcdf7-883e-49d4-a1d1-cc6312a5856b'], dtype=object)}"
      ]
     },
     "execution_count": 10,
     "metadata": {},
     "output_type": "execute_result"
    }
   ],
   "source": [
    "s.properties"
   ]
  },
  {
   "cell_type": "code",
   "execution_count": 15,
   "id": "cd18a253",
   "metadata": {},
   "outputs": [
    {
     "data": {
      "text/plain": [
       "array([[3103.77434833, 2117.49644727],\n",
       "       [2577.26316608, 2608.10913982],\n",
       "       [3223.43598066, 3122.65415883],\n",
       "       [3977.30426433, 2763.66926185],\n",
       "       [3630.28553058, 2273.0565693 ],\n",
       "       [4192.69520252, 2117.49644727],\n",
       "       [3163.60516449, 2296.98889576],\n",
       "       [2445.63537052, 2572.21065012]])"
      ]
     },
     "execution_count": 15,
     "metadata": {},
     "output_type": "execute_result"
    }
   ],
   "source": [
    "l.data"
   ]
  },
  {
   "cell_type": "code",
   "execution_count": 17,
   "id": "e6d0342a",
   "metadata": {},
   "outputs": [],
   "source": [
    "from shapely import Point"
   ]
  },
  {
   "cell_type": "code",
   "execution_count": null,
   "id": "a7598886",
   "metadata": {},
   "outputs": [],
   "source": [
    "Point()"
   ]
  },
  {
   "cell_type": "code",
   "execution_count": 18,
   "id": "f7a0f281",
   "metadata": {},
   "outputs": [
    {
     "data": {
      "text/plain": [
       "{'uid': array(['54fc3ba4-4139-4bfc-911b-7a84f24bdb77',\n",
       "        'fc17b968-ffe8-45db-8be9-a72ece954b9c',\n",
       "        'ae937f31-4d33-488d-a2a1-4b75ec7e7d8c'], dtype=object)}"
      ]
     },
     "execution_count": 18,
     "metadata": {},
     "output_type": "execute_result"
    }
   ],
   "source": [
    "s.properties"
   ]
  },
  {
   "cell_type": "code",
   "execution_count": 19,
   "id": "59563ab7",
   "metadata": {},
   "outputs": [
    {
     "data": {
      "text/plain": [
       "{'uid': array([nan, nan, nan, nan, nan, nan, nan, nan], dtype=object)}"
      ]
     },
     "execution_count": 19,
     "metadata": {},
     "output_type": "execute_result"
    }
   ],
   "source": [
    "l.properties"
   ]
  },
  {
   "cell_type": "code",
   "execution_count": 16,
   "id": "cd58b521",
   "metadata": {},
   "outputs": [
    {
     "data": {
      "text/plain": [
       "napari.layers.points.points.Points"
      ]
     },
     "execution_count": 16,
     "metadata": {},
     "output_type": "execute_result"
    }
   ],
   "source": [
    "type(data.viewer.layers[\"Points\"])"
   ]
  },
  {
   "cell_type": "code",
   "execution_count": 17,
   "id": "2c16f7de",
   "metadata": {},
   "outputs": [],
   "source": [
    "import napari"
   ]
  },
  {
   "cell_type": "code",
   "execution_count": 20,
   "id": "081fd5ca",
   "metadata": {},
   "outputs": [
    {
     "data": {
      "text/plain": [
       "True"
      ]
     },
     "execution_count": 20,
     "metadata": {},
     "output_type": "execute_result"
    }
   ],
   "source": [
    "l = data.viewer.layers[\"Shapes\"]\n",
    "isinstance(l, napari.layers.Shapes)"
   ]
  },
  {
   "cell_type": "code",
   "execution_count": 21,
   "id": "132886c3",
   "metadata": {},
   "outputs": [
    {
     "data": {
      "text/plain": [
       "True"
      ]
     },
     "execution_count": 21,
     "metadata": {},
     "output_type": "execute_result"
    }
   ],
   "source": [
    "l = data.viewer.layers[\"Points\"]\n",
    "isinstance(l, napari.layers.Points)"
   ]
  },
  {
   "cell_type": "code",
   "execution_count": 12,
   "id": "b0b87e6b",
   "metadata": {},
   "outputs": [
    {
     "name": "stdout",
     "output_type": "stream",
     "text": [
      "Save distances to `.cells.matrix.obs[\"dist_from_Points\"]`\n"
     ]
    }
   ],
   "source": [
    "calc_distance_from(data, layer_name=\"Points\")"
   ]
  },
  {
   "cell_type": "code",
   "execution_count": 13,
   "id": "672efbfe",
   "metadata": {},
   "outputs": [
    {
     "data": {
      "text/html": [
       "<div>\n",
       "<style scoped>\n",
       "    .dataframe tbody tr th:only-of-type {\n",
       "        vertical-align: middle;\n",
       "    }\n",
       "\n",
       "    .dataframe tbody tr th {\n",
       "        vertical-align: top;\n",
       "    }\n",
       "\n",
       "    .dataframe thead th {\n",
       "        text-align: right;\n",
       "    }\n",
       "</style>\n",
       "<table border=\"1\" class=\"dataframe\">\n",
       "  <thead>\n",
       "    <tr style=\"text-align: right;\">\n",
       "      <th></th>\n",
       "      <th>transcript_counts</th>\n",
       "      <th>control_probe_counts</th>\n",
       "      <th>control_codeword_counts</th>\n",
       "      <th>total_counts</th>\n",
       "      <th>cell_area</th>\n",
       "      <th>nucleus_area</th>\n",
       "      <th>annotation-demo</th>\n",
       "      <th>annotation-demo2</th>\n",
       "      <th>dist_from_points</th>\n",
       "      <th>dist_from_Points</th>\n",
       "    </tr>\n",
       "  </thead>\n",
       "  <tbody>\n",
       "    <tr>\n",
       "      <th>1</th>\n",
       "      <td>28</td>\n",
       "      <td>1</td>\n",
       "      <td>0</td>\n",
       "      <td>29</td>\n",
       "      <td>58.387031</td>\n",
       "      <td>26.642188</td>\n",
       "      <td>NaN</td>\n",
       "      <td>NaN</td>\n",
       "      <td>2430.108111</td>\n",
       "      <td>2796.217039</td>\n",
       "    </tr>\n",
       "    <tr>\n",
       "      <th>2</th>\n",
       "      <td>94</td>\n",
       "      <td>0</td>\n",
       "      <td>0</td>\n",
       "      <td>94</td>\n",
       "      <td>197.016719</td>\n",
       "      <td>42.130781</td>\n",
       "      <td>NaN</td>\n",
       "      <td>NaN</td>\n",
       "      <td>2437.209760</td>\n",
       "      <td>2803.844133</td>\n",
       "    </tr>\n",
       "    <tr>\n",
       "      <th>3</th>\n",
       "      <td>9</td>\n",
       "      <td>0</td>\n",
       "      <td>0</td>\n",
       "      <td>9</td>\n",
       "      <td>16.256250</td>\n",
       "      <td>12.688906</td>\n",
       "      <td>NaN</td>\n",
       "      <td>NaN</td>\n",
       "      <td>2424.432420</td>\n",
       "      <td>2790.569064</td>\n",
       "    </tr>\n",
       "    <tr>\n",
       "      <th>4</th>\n",
       "      <td>11</td>\n",
       "      <td>0</td>\n",
       "      <td>0</td>\n",
       "      <td>11</td>\n",
       "      <td>42.311406</td>\n",
       "      <td>10.069844</td>\n",
       "      <td>NaN</td>\n",
       "      <td>NaN</td>\n",
       "      <td>2432.471467</td>\n",
       "      <td>2799.226017</td>\n",
       "    </tr>\n",
       "    <tr>\n",
       "      <th>5</th>\n",
       "      <td>48</td>\n",
       "      <td>0</td>\n",
       "      <td>0</td>\n",
       "      <td>48</td>\n",
       "      <td>107.652500</td>\n",
       "      <td>37.479688</td>\n",
       "      <td>NaN</td>\n",
       "      <td>NaN</td>\n",
       "      <td>2427.070861</td>\n",
       "      <td>2793.394574</td>\n",
       "    </tr>\n",
       "    <tr>\n",
       "      <th>...</th>\n",
       "      <td>...</td>\n",
       "      <td>...</td>\n",
       "      <td>...</td>\n",
       "      <td>...</td>\n",
       "      <td>...</td>\n",
       "      <td>...</td>\n",
       "      <td>...</td>\n",
       "      <td>...</td>\n",
       "      <td>...</td>\n",
       "      <td>...</td>\n",
       "    </tr>\n",
       "    <tr>\n",
       "      <th>167776</th>\n",
       "      <td>229</td>\n",
       "      <td>1</td>\n",
       "      <td>0</td>\n",
       "      <td>230</td>\n",
       "      <td>220.452813</td>\n",
       "      <td>60.599688</td>\n",
       "      <td>NaN</td>\n",
       "      <td>NaN</td>\n",
       "      <td>1288.446510</td>\n",
       "      <td>5122.486209</td>\n",
       "    </tr>\n",
       "    <tr>\n",
       "      <th>167777</th>\n",
       "      <td>79</td>\n",
       "      <td>0</td>\n",
       "      <td>0</td>\n",
       "      <td>79</td>\n",
       "      <td>37.389375</td>\n",
       "      <td>25.242344</td>\n",
       "      <td>NaN</td>\n",
       "      <td>NaN</td>\n",
       "      <td>1308.526830</td>\n",
       "      <td>5146.794504</td>\n",
       "    </tr>\n",
       "    <tr>\n",
       "      <th>167778</th>\n",
       "      <td>397</td>\n",
       "      <td>0</td>\n",
       "      <td>0</td>\n",
       "      <td>397</td>\n",
       "      <td>287.058281</td>\n",
       "      <td>86.700000</td>\n",
       "      <td>NaN</td>\n",
       "      <td>NaN</td>\n",
       "      <td>1302.580629</td>\n",
       "      <td>5137.612049</td>\n",
       "    </tr>\n",
       "    <tr>\n",
       "      <th>167779</th>\n",
       "      <td>117</td>\n",
       "      <td>0</td>\n",
       "      <td>0</td>\n",
       "      <td>117</td>\n",
       "      <td>235.354375</td>\n",
       "      <td>25.197188</td>\n",
       "      <td>NaN</td>\n",
       "      <td>NaN</td>\n",
       "      <td>1314.475574</td>\n",
       "      <td>5148.485700</td>\n",
       "    </tr>\n",
       "    <tr>\n",
       "      <th>167780</th>\n",
       "      <td>378</td>\n",
       "      <td>0</td>\n",
       "      <td>0</td>\n",
       "      <td>378</td>\n",
       "      <td>270.079531</td>\n",
       "      <td>111.806875</td>\n",
       "      <td>NaN</td>\n",
       "      <td>NaN</td>\n",
       "      <td>1320.188429</td>\n",
       "      <td>5156.785116</td>\n",
       "    </tr>\n",
       "  </tbody>\n",
       "</table>\n",
       "<p>167780 rows × 10 columns</p>\n",
       "</div>"
      ],
      "text/plain": [
       "        transcript_counts  control_probe_counts  control_codeword_counts  \\\n",
       "1                      28                     1                        0   \n",
       "2                      94                     0                        0   \n",
       "3                       9                     0                        0   \n",
       "4                      11                     0                        0   \n",
       "5                      48                     0                        0   \n",
       "...                   ...                   ...                      ...   \n",
       "167776                229                     1                        0   \n",
       "167777                 79                     0                        0   \n",
       "167778                397                     0                        0   \n",
       "167779                117                     0                        0   \n",
       "167780                378                     0                        0   \n",
       "\n",
       "        total_counts   cell_area  nucleus_area annotation-demo  \\\n",
       "1                 29   58.387031     26.642188             NaN   \n",
       "2                 94  197.016719     42.130781             NaN   \n",
       "3                  9   16.256250     12.688906             NaN   \n",
       "4                 11   42.311406     10.069844             NaN   \n",
       "5                 48  107.652500     37.479688             NaN   \n",
       "...              ...         ...           ...             ...   \n",
       "167776           230  220.452813     60.599688             NaN   \n",
       "167777            79   37.389375     25.242344             NaN   \n",
       "167778           397  287.058281     86.700000             NaN   \n",
       "167779           117  235.354375     25.197188             NaN   \n",
       "167780           378  270.079531    111.806875             NaN   \n",
       "\n",
       "       annotation-demo2  dist_from_points  dist_from_Points  \n",
       "1                   NaN       2430.108111       2796.217039  \n",
       "2                   NaN       2437.209760       2803.844133  \n",
       "3                   NaN       2424.432420       2790.569064  \n",
       "4                   NaN       2432.471467       2799.226017  \n",
       "5                   NaN       2427.070861       2793.394574  \n",
       "...                 ...               ...               ...  \n",
       "167776              NaN       1288.446510       5122.486209  \n",
       "167777              NaN       1308.526830       5146.794504  \n",
       "167778              NaN       1302.580629       5137.612049  \n",
       "167779              NaN       1314.475574       5148.485700  \n",
       "167780              NaN       1320.188429       5156.785116  \n",
       "\n",
       "[167780 rows x 10 columns]"
      ]
     },
     "execution_count": 13,
     "metadata": {},
     "output_type": "execute_result"
    }
   ],
   "source": [
    "data.cells.matrix.obs"
   ]
  },
  {
   "cell_type": "code",
   "execution_count": null,
   "id": "acc883a7",
   "metadata": {},
   "outputs": [],
   "source": []
  },
  {
   "cell_type": "code",
   "execution_count": 19,
   "id": "dd3b8518",
   "metadata": {},
   "outputs": [
    {
     "data": {
      "text/plain": [
       "WindowsPath('../demo_dataset/demo_insitupy_project')"
      ]
     },
     "execution_count": 19,
     "metadata": {},
     "output_type": "execute_result"
    }
   ],
   "source": [
    "data.path"
   ]
  },
  {
   "cell_type": "code",
   "execution_count": 20,
   "id": "37be63ec",
   "metadata": {},
   "outputs": [
    {
     "name": "stdout",
     "output_type": "stream",
     "text": [
      "Updating project in c:\\Users\\ge37voy\\Github\\InSituPy\\notebooks\\demo_dataset\\demo_insitupy_project\n",
      "\tUpdating cells...\n",
      "Saved.\n",
      "Reloading following modalities: cells,images\n",
      "Loading cells...\n",
      "\tNo alternative cells found...\n",
      "Loading images...\n"
     ]
    }
   ],
   "source": [
    "data.save()"
   ]
  },
  {
   "cell_type": "code",
   "execution_count": 18,
   "id": "c9436647",
   "metadata": {},
   "outputs": [],
   "source": [
    "from insitupy.plotting.expression_along_axis import expr_along_obs_val"
   ]
  },
  {
   "cell_type": "code",
   "execution_count": 20,
   "id": "a8c37b50",
   "metadata": {},
   "outputs": [],
   "source": [
    "data = expr_along_obs_val(adata=data.cells.matrix,\n",
    "                   keys=\"ACTA2\",\n",
    "                   x_category=\"dist_from_points\", groupby=None, return_data=True,\n",
    "                   stderr=False, nsteps=10\n",
    "                   )"
   ]
  },
  {
   "cell_type": "code",
   "execution_count": 21,
   "id": "a9c70bd6",
   "metadata": {},
   "outputs": [
    {
     "data": {
      "text/html": [
       "<div>\n",
       "<style scoped>\n",
       "    .dataframe tbody tr th:only-of-type {\n",
       "        vertical-align: middle;\n",
       "    }\n",
       "\n",
       "    .dataframe tbody tr th {\n",
       "        vertical-align: top;\n",
       "    }\n",
       "\n",
       "    .dataframe thead th {\n",
       "        text-align: right;\n",
       "    }\n",
       "</style>\n",
       "<table border=\"1\" class=\"dataframe\">\n",
       "  <thead>\n",
       "    <tr style=\"text-align: right;\">\n",
       "      <th></th>\n",
       "      <th></th>\n",
       "      <th></th>\n",
       "      <th>x</th>\n",
       "      <th>y_pred</th>\n",
       "      <th>std</th>\n",
       "    </tr>\n",
       "    <tr>\n",
       "      <th>key</th>\n",
       "      <th></th>\n",
       "      <th></th>\n",
       "      <th></th>\n",
       "      <th></th>\n",
       "      <th></th>\n",
       "    </tr>\n",
       "  </thead>\n",
       "  <tbody>\n",
       "    <tr>\n",
       "      <th rowspan=\"8\" valign=\"top\">ACTA2</th>\n",
       "      <th rowspan=\"8\" valign=\"top\">None</th>\n",
       "      <th>0</th>\n",
       "      <td>354.693428</td>\n",
       "      <td>2.084774</td>\n",
       "      <td>False</td>\n",
       "    </tr>\n",
       "    <tr>\n",
       "      <th>1</th>\n",
       "      <td>706.606128</td>\n",
       "      <td>1.922362</td>\n",
       "      <td>False</td>\n",
       "    </tr>\n",
       "    <tr>\n",
       "      <th>2</th>\n",
       "      <td>1058.518828</td>\n",
       "      <td>1.881677</td>\n",
       "      <td>False</td>\n",
       "    </tr>\n",
       "    <tr>\n",
       "      <th>3</th>\n",
       "      <td>1410.431528</td>\n",
       "      <td>1.866302</td>\n",
       "      <td>False</td>\n",
       "    </tr>\n",
       "    <tr>\n",
       "      <th>4</th>\n",
       "      <td>1762.344228</td>\n",
       "      <td>2.026653</td>\n",
       "      <td>False</td>\n",
       "    </tr>\n",
       "    <tr>\n",
       "      <th>5</th>\n",
       "      <td>2114.256927</td>\n",
       "      <td>1.849244</td>\n",
       "      <td>False</td>\n",
       "    </tr>\n",
       "    <tr>\n",
       "      <th>6</th>\n",
       "      <td>2466.169627</td>\n",
       "      <td>1.562058</td>\n",
       "      <td>False</td>\n",
       "    </tr>\n",
       "    <tr>\n",
       "      <th>7</th>\n",
       "      <td>2818.082327</td>\n",
       "      <td>1.168777</td>\n",
       "      <td>False</td>\n",
       "    </tr>\n",
       "  </tbody>\n",
       "</table>\n",
       "</div>"
      ],
      "text/plain": [
       "                        x    y_pred    std\n",
       "key                                       \n",
       "ACTA2 None 0   354.693428  2.084774  False\n",
       "           1   706.606128  1.922362  False\n",
       "           2  1058.518828  1.881677  False\n",
       "           3  1410.431528  1.866302  False\n",
       "           4  1762.344228  2.026653  False\n",
       "           5  2114.256927  1.849244  False\n",
       "           6  2466.169627  1.562058  False\n",
       "           7  2818.082327  1.168777  False"
      ]
     },
     "execution_count": 21,
     "metadata": {},
     "output_type": "execute_result"
    }
   ],
   "source": [
    "data"
   ]
  },
  {
   "cell_type": "code",
   "execution_count": 22,
   "id": "c8e8954c",
   "metadata": {},
   "outputs": [
    {
     "name": "stderr",
     "output_type": "stream",
     "text": [
      "No artists with labels found to put in legend.  Note that artists whose label start with an underscore are ignored when legend() is called with no argument.\n",
      "No artists with labels found to put in legend.  Note that artists whose label start with an underscore are ignored when legend() is called with no argument.\n"
     ]
    },
    {
     "data": {
      "image/png": "[encoded data removed]",
      "text/plain": [
       "<Figure size 1600x600 with 2 Axes>"
      ]
     },
     "metadata": {},
     "output_type": "display_data"
    }
   ],
   "source": [
    "expr_along_obs_val(adata=data.cells.matrix,\n",
    "                   keys=[\"ACTA2\", \"KRT5\"],\n",
    "                   x_category=\"dist_from_points\", groupby=None, return_data=False,\n",
    "                   stderr=False, nsteps=100, plot_legend=False, xmax=1000\n",
    "                   )"
   ]
  },
  {
   "cell_type": "code",
   "execution_count": 23,
   "id": "d697a7c8",
   "metadata": {},
   "outputs": [
    {
     "name": "stderr",
     "output_type": "stream",
     "text": [
      "No artists with labels found to put in legend.  Note that artists whose label start with an underscore are ignored when legend() is called with no argument.\n",
      "No artists with labels found to put in legend.  Note that artists whose label start with an underscore are ignored when legend() is called with no argument.\n"
     ]
    },
    {
     "data": {
      "image/png": "[encoded data removed]",
      "text/plain": [
       "<Figure size 1600x600 with 2 Axes>"
      ]
     },
     "metadata": {},
     "output_type": "display_data"
    }
   ],
   "source": [
    "expr_along_obs_val(adata=data.cells.matrix,\n",
    "                   keys=[\"ACTA2\", \"KRT5\"], x_category=\"dist_from_points\",\n",
    "                   groupby=None, return_data=False,\n",
    "                   method=\"lowess\", stderr=False,\n",
    "                   nsteps=100, plot_legend=False, xmax=1000\n",
    "                   )"
   ]
  },
  {
   "cell_type": "markdown",
   "id": "1634e013",
   "metadata": {},
   "source": [
    "## Problems\n",
    "\n",
    "1. `loess` makes the kernel crash when calculating the stderr\n",
    "2. `lowess` custom function takes extremely low when calculating the stderr and when skipping stderr also takes very long plus produces weird results.\n",
    "\n",
    "## Possible solution\n",
    "1. use `loess` with custom bootstrapping as done in the custom `lowess` function. Should work definitely and not take too long since the `loess` prediction seems to be very fast."
   ]
  },
  {
   "cell_type": "code",
   "execution_count": null,
   "id": "e6d7b0c9",
   "metadata": {},
   "outputs": [
    {
     "ename": "KeyboardInterrupt",
     "evalue": "",
     "output_type": "error",
     "traceback": [
      "\u001b[1;31m---------------------------------------------------------------------------\u001b[0m\n",
      "\u001b[1;31mKeyboardInterrupt\u001b[0m                         Traceback (most recent call last)\n",
      "File \u001b[1;32mc:\\Users\\ge37voy\\AppData\\Local\\miniconda3\\envs\\insitupy\\lib\\site-packages\\numpy\\core\\fromnumeric.py:2172\u001b[0m, in \u001b[0;36m_sum_dispatcher\u001b[1;34m(a, axis, dtype, out, keepdims, initial, where)\u001b[0m\n",
      "\u001b[0;32m   2102\u001b[0m \u001b[38;5;250m    \u001b[39m\u001b[38;5;124;03m\"\"\"\u001b[39;00m\n",
      "\u001b[0;32m   2103\u001b[0m \u001b[38;5;124;03m    Clip (limit) the values in an array.\u001b[39;00m\n",
      "\u001b[0;32m   2104\u001b[0m \n",
      "\u001b[1;32m   (...)\u001b[0m\n",
      "\u001b[0;32m   2167\u001b[0m \n",
      "\u001b[0;32m   2168\u001b[0m \u001b[38;5;124;03m    \"\"\"\u001b[39;00m\n",
      "\u001b[0;32m   2169\u001b[0m     \u001b[38;5;28;01mreturn\u001b[39;00m _wrapfunc(a, \u001b[38;5;124m'\u001b[39m\u001b[38;5;124mclip\u001b[39m\u001b[38;5;124m'\u001b[39m, a_min, a_max, out\u001b[38;5;241m=\u001b[39mout, \u001b[38;5;241m*\u001b[39m\u001b[38;5;241m*\u001b[39mkwargs)\n",
      "\u001b[1;32m-> 2172\u001b[0m \u001b[38;5;28;01mdef\u001b[39;00m \u001b[38;5;21m_sum_dispatcher\u001b[39m(a, axis\u001b[38;5;241m=\u001b[39m\u001b[38;5;28;01mNone\u001b[39;00m, dtype\u001b[38;5;241m=\u001b[39m\u001b[38;5;28;01mNone\u001b[39;00m, out\u001b[38;5;241m=\u001b[39m\u001b[38;5;28;01mNone\u001b[39;00m, keepdims\u001b[38;5;241m=\u001b[39m\u001b[38;5;28;01mNone\u001b[39;00m,\n",
      "\u001b[0;32m   2173\u001b[0m                     initial\u001b[38;5;241m=\u001b[39m\u001b[38;5;28;01mNone\u001b[39;00m, where\u001b[38;5;241m=\u001b[39m\u001b[38;5;28;01mNone\u001b[39;00m):\n",
      "\u001b[0;32m   2174\u001b[0m     \u001b[38;5;28;01mreturn\u001b[39;00m (a, out)\n",
      "\u001b[0;32m   2177\u001b[0m \u001b[38;5;129m@array_function_dispatch\u001b[39m(_sum_dispatcher)\n",
      "\u001b[0;32m   2178\u001b[0m \u001b[38;5;28;01mdef\u001b[39;00m \u001b[38;5;21msum\u001b[39m(a, axis\u001b[38;5;241m=\u001b[39m\u001b[38;5;28;01mNone\u001b[39;00m, dtype\u001b[38;5;241m=\u001b[39m\u001b[38;5;28;01mNone\u001b[39;00m, out\u001b[38;5;241m=\u001b[39m\u001b[38;5;28;01mNone\u001b[39;00m, keepdims\u001b[38;5;241m=\u001b[39mnp\u001b[38;5;241m.\u001b[39m_NoValue,\n",
      "\u001b[0;32m   2179\u001b[0m         initial\u001b[38;5;241m=\u001b[39mnp\u001b[38;5;241m.\u001b[39m_NoValue, where\u001b[38;5;241m=\u001b[39mnp\u001b[38;5;241m.\u001b[39m_NoValue):\n",
      "\n",
      "\u001b[1;31mKeyboardInterrupt\u001b[0m: "
     ]
    },
    {
     "name": "stderr",
     "output_type": "stream",
     "text": [
      "Exception ignored in: 'statsmodels.nonparametric._smoothers_lowess.calculate_weights'\n",
      "Traceback (most recent call last):\n",
      "  File \"c:\\Users\\ge37voy\\AppData\\Local\\miniconda3\\envs\\insitupy\\lib\\site-packages\\numpy\\core\\fromnumeric.py\", line 2172, in _sum_dispatcher\n",
      "    def _sum_dispatcher(a, axis=None, dtype=None, out=None, keepdims=None,\n",
      "KeyboardInterrupt: \n"
     ]
    }
   ],
   "source": [
    "expr_along_obs_val(adata=data.cells.matrix,\n",
    "                   keys=[\"ACTA2\", \"KRT5\"], x_category=\"dist_from_points\",\n",
    "                   groupby=None, return_data=False,\n",
    "                   method=\"lowess\", stderr=True,\n",
    "                   nsteps=100, plot_legend=False, xmax=1000\n",
    "                   )"
   ]
  },
  {
   "cell_type": "code",
   "execution_count": 41,
   "id": "0b86f99f",
   "metadata": {},
   "outputs": [
    {
     "data": {
      "text/plain": [
       "<Axes: xlabel='x'>"
      ]
     },
     "execution_count": 41,
     "metadata": {},
     "output_type": "execute_result"
    },
    {
     "data": {
      "image/png": "[encoded data removed]",
      "text/plain": [
       "<Figure size 640x480 with 1 Axes>"
      ]
     },
     "metadata": {},
     "output_type": "display_data"
    },
    {
     "data": {
      "image/png": "[encoded data removed]",
      "text/plain": [
       "<Figure size 640x480 with 1 Axes>"
      ]
     },
     "metadata": {},
     "output_type": "display_data"
    }
   ],
   "source": [
    "data.plot(kind=\"line\", x=\"x\", y=\"y_pred\", label=None, color=None, linewidth=2)\n",
    "data.plot(kind=\"line\", x=\"x\", y=\"y_pred\", label=\"2\", color=\"red\", linewidth=2)"
   ]
  },
  {
   "cell_type": "code",
   "execution_count": 32,
   "id": "3df624d9",
   "metadata": {},
   "outputs": [
    {
     "data": {
      "text/plain": [
       "[<matplotlib.lines.Line2D at 0x1d681ac63a0>]"
      ]
     },
     "execution_count": 32,
     "metadata": {},
     "output_type": "execute_result"
    },
    {
     "data": {
      "image/png": "[encoded data removed]",
      "text/plain": [
       "<Figure size 640x480 with 1 Axes>"
      ]
     },
     "metadata": {},
     "output_type": "display_data"
    }
   ],
   "source": [
    "plt.plot(data[\"x\"], data[\"y_pred\"])"
   ]
  },
  {
   "cell_type": "code",
   "execution_count": 30,
   "id": "dcf50b79",
   "metadata": {},
   "outputs": [
    {
     "data": {
      "text/plain": [
       "Index(['x', 'y_pred', 'std', 'conf_lower', 'conf_upper'], dtype='object')"
      ]
     },
     "execution_count": 30,
     "metadata": {},
     "output_type": "execute_result"
    }
   ],
   "source": [
    "data.columns"
   ]
  },
  {
   "cell_type": "code",
   "execution_count": 23,
   "id": "ffb44fb3",
   "metadata": {},
   "outputs": [
    {
     "data": {
      "text/html": [
       "<div>\n",
       "<style scoped>\n",
       "    .dataframe tbody tr th:only-of-type {\n",
       "        vertical-align: middle;\n",
       "    }\n",
       "\n",
       "    .dataframe tbody tr th {\n",
       "        vertical-align: top;\n",
       "    }\n",
       "\n",
       "    .dataframe thead th {\n",
       "        text-align: right;\n",
       "    }\n",
       "</style>\n",
       "<table border=\"1\" class=\"dataframe\">\n",
       "  <thead>\n",
       "    <tr style=\"text-align: right;\">\n",
       "      <th></th>\n",
       "      <th></th>\n",
       "      <th></th>\n",
       "      <th>x</th>\n",
       "      <th>y_pred</th>\n",
       "      <th>std</th>\n",
       "      <th>conf_lower</th>\n",
       "      <th>conf_upper</th>\n",
       "    </tr>\n",
       "    <tr>\n",
       "      <th>key</th>\n",
       "      <th></th>\n",
       "      <th></th>\n",
       "      <th></th>\n",
       "      <th></th>\n",
       "      <th></th>\n",
       "      <th></th>\n",
       "      <th></th>\n",
       "    </tr>\n",
       "  </thead>\n",
       "  <tbody>\n",
       "    <tr>\n",
       "      <th rowspan=\"8\" valign=\"top\">ACTA2</th>\n",
       "      <th rowspan=\"8\" valign=\"top\">None</th>\n",
       "      <th>0</th>\n",
       "      <td>504.257656</td>\n",
       "      <td>1.877883</td>\n",
       "      <td>False</td>\n",
       "      <td>NaN</td>\n",
       "      <td>NaN</td>\n",
       "    </tr>\n",
       "    <tr>\n",
       "      <th>1</th>\n",
       "      <td>1004.245360</td>\n",
       "      <td>1.951516</td>\n",
       "      <td>False</td>\n",
       "      <td>NaN</td>\n",
       "      <td>NaN</td>\n",
       "    </tr>\n",
       "    <tr>\n",
       "      <th>2</th>\n",
       "      <td>1504.233064</td>\n",
       "      <td>1.936031</td>\n",
       "      <td>False</td>\n",
       "      <td>NaN</td>\n",
       "      <td>NaN</td>\n",
       "    </tr>\n",
       "    <tr>\n",
       "      <th>3</th>\n",
       "      <td>2004.220768</td>\n",
       "      <td>1.881070</td>\n",
       "      <td>False</td>\n",
       "      <td>NaN</td>\n",
       "      <td>NaN</td>\n",
       "    </tr>\n",
       "    <tr>\n",
       "      <th>4</th>\n",
       "      <td>2504.208473</td>\n",
       "      <td>1.756132</td>\n",
       "      <td>False</td>\n",
       "      <td>NaN</td>\n",
       "      <td>NaN</td>\n",
       "    </tr>\n",
       "    <tr>\n",
       "      <th>5</th>\n",
       "      <td>3004.196177</td>\n",
       "      <td>1.817721</td>\n",
       "      <td>False</td>\n",
       "      <td>NaN</td>\n",
       "      <td>NaN</td>\n",
       "    </tr>\n",
       "    <tr>\n",
       "      <th>6</th>\n",
       "      <td>3504.183881</td>\n",
       "      <td>2.123669</td>\n",
       "      <td>False</td>\n",
       "      <td>NaN</td>\n",
       "      <td>NaN</td>\n",
       "    </tr>\n",
       "    <tr>\n",
       "      <th>7</th>\n",
       "      <td>4004.171585</td>\n",
       "      <td>2.658033</td>\n",
       "      <td>False</td>\n",
       "      <td>NaN</td>\n",
       "      <td>NaN</td>\n",
       "    </tr>\n",
       "  </tbody>\n",
       "</table>\n",
       "</div>"
      ],
      "text/plain": [
       "                        x    y_pred    std  conf_lower  conf_upper\n",
       "key                                                               \n",
       "ACTA2 None 0   504.257656  1.877883  False         NaN         NaN\n",
       "           1  1004.245360  1.951516  False         NaN         NaN\n",
       "           2  1504.233064  1.936031  False         NaN         NaN\n",
       "           3  2004.220768  1.881070  False         NaN         NaN\n",
       "           4  2504.208473  1.756132  False         NaN         NaN\n",
       "           5  3004.196177  1.817721  False         NaN         NaN\n",
       "           6  3504.183881  2.123669  False         NaN         NaN\n",
       "           7  4004.171585  2.658033  False         NaN         NaN"
      ]
     },
     "execution_count": 23,
     "metadata": {},
     "output_type": "execute_result"
    }
   ],
   "source": [
    "data"
   ]
  },
  {
   "cell_type": "code",
   "execution_count": 27,
   "id": "24ae7f44",
   "metadata": {},
   "outputs": [],
   "source": [
    "ls, xs_pred = data"
   ]
  },
  {
   "cell_type": "code",
   "execution_count": 30,
   "id": "9082f0a0",
   "metadata": {},
   "outputs": [
    {
     "ename": "",
     "evalue": "",
     "output_type": "error",
     "traceback": [
      "\u001b[1;31mThe Kernel crashed while executing code in the current cell or a previous cell. \n",
      "\u001b[1;31mPlease review the code in the cell(s) to identify a possible cause of the failure. \n",
      "\u001b[1;31mClick <a href='https://aka.ms/vscodeJupyterKernelCrash'>here</a> for more info. \n",
      "\u001b[1;31mView Jupyter <a href='command:jupyter.viewOutput'>log</a> for further details."
     ]
    }
   ],
   "source": [
    "pred =  ls.predict(xs_pred, stderror=False)"
   ]
  },
  {
   "cell_type": "code",
   "execution_count": 29,
   "id": "fc47ee41",
   "metadata": {},
   "outputs": [
    {
     "ename": "ValueError",
     "evalue": "Standard error was not computed.Use 'stderror=True' when predicting.",
     "output_type": "error",
     "traceback": [
      "\u001b[1;31m---------------------------------------------------------------------------\u001b[0m",
      "\u001b[1;31mValueError\u001b[0m                                Traceback (most recent call last)",
      "Cell \u001b[1;32mIn[29], line 1\u001b[0m\n\u001b[1;32m----> 1\u001b[0m \u001b[43mpred\u001b[49m\u001b[38;5;241;43m.\u001b[39;49m\u001b[43mstderr\u001b[49m\n",
      "File \u001b[1;32m_loess.pyx:742\u001b[0m, in \u001b[0;36m_loess.loess_prediction.stderr.__get__\u001b[1;34m()\u001b[0m\n",
      "\u001b[1;31mValueError\u001b[0m: Standard error was not computed.Use 'stderror=True' when predicting."
     ]
    }
   ],
   "source": [
    "pred.stderr"
   ]
  },
  {
   "cell_type": "code",
   "execution_count": 24,
   "id": "209bef3e",
   "metadata": {},
   "outputs": [
    {
     "ename": "ValueError",
     "evalue": "Standard error was not computed.Use 'stderror=True' when predicting.",
     "output_type": "error",
     "traceback": [
      "\u001b[1;31m---------------------------------------------------------------------------\u001b[0m",
      "\u001b[1;31mValueError\u001b[0m                                Traceback (most recent call last)",
      "Cell \u001b[1;32mIn[24], line 1\u001b[0m\n\u001b[1;32m----> 1\u001b[0m \u001b[43mdata\u001b[49m\u001b[38;5;241;43m.\u001b[39;49m\u001b[43mstderr\u001b[49m\n",
      "File \u001b[1;32m_loess.pyx:742\u001b[0m, in \u001b[0;36m_loess.loess_prediction.stderr.__get__\u001b[1;34m()\u001b[0m\n",
      "\u001b[1;31mValueError\u001b[0m: Standard error was not computed.Use 'stderror=True' when predicting."
     ]
    }
   ],
   "source": [
    "data.stderr"
   ]
  },
  {
   "cell_type": "code",
   "execution_count": 23,
   "id": "d3a1e6df",
   "metadata": {},
   "outputs": [
    {
     "data": {
      "text/html": [
       "<div>\n",
       "<style scoped>\n",
       "    .dataframe tbody tr th:only-of-type {\n",
       "        vertical-align: middle;\n",
       "    }\n",
       "\n",
       "    .dataframe tbody tr th {\n",
       "        vertical-align: top;\n",
       "    }\n",
       "\n",
       "    .dataframe thead th {\n",
       "        text-align: right;\n",
       "    }\n",
       "</style>\n",
       "<table border=\"1\" class=\"dataframe\">\n",
       "  <thead>\n",
       "    <tr style=\"text-align: right;\">\n",
       "      <th></th>\n",
       "      <th></th>\n",
       "      <th></th>\n",
       "      <th>x</th>\n",
       "      <th>y_pred</th>\n",
       "      <th>std</th>\n",
       "      <th>conf_lower</th>\n",
       "      <th>conf_upper</th>\n",
       "    </tr>\n",
       "    <tr>\n",
       "      <th>key</th>\n",
       "      <th></th>\n",
       "      <th></th>\n",
       "      <th></th>\n",
       "      <th></th>\n",
       "      <th></th>\n",
       "      <th></th>\n",
       "      <th></th>\n",
       "    </tr>\n",
       "  </thead>\n",
       "  <tbody>\n",
       "    <tr>\n",
       "      <th rowspan=\"8\" valign=\"top\">ACTA2</th>\n",
       "      <th rowspan=\"8\" valign=\"top\">None</th>\n",
       "      <th>0</th>\n",
       "      <td>479.806029</td>\n",
       "      <td>2.100595</td>\n",
       "      <td>False</td>\n",
       "      <td>NaN</td>\n",
       "      <td>NaN</td>\n",
       "    </tr>\n",
       "    <tr>\n",
       "      <th>1</th>\n",
       "      <td>958.483608</td>\n",
       "      <td>1.943201</td>\n",
       "      <td>False</td>\n",
       "      <td>NaN</td>\n",
       "      <td>NaN</td>\n",
       "    </tr>\n",
       "    <tr>\n",
       "      <th>2</th>\n",
       "      <td>1437.161187</td>\n",
       "      <td>1.921318</td>\n",
       "      <td>False</td>\n",
       "      <td>NaN</td>\n",
       "      <td>NaN</td>\n",
       "    </tr>\n",
       "    <tr>\n",
       "      <th>3</th>\n",
       "      <td>1915.838766</td>\n",
       "      <td>1.826385</td>\n",
       "      <td>False</td>\n",
       "      <td>NaN</td>\n",
       "      <td>NaN</td>\n",
       "    </tr>\n",
       "    <tr>\n",
       "      <th>4</th>\n",
       "      <td>2394.516345</td>\n",
       "      <td>1.634902</td>\n",
       "      <td>False</td>\n",
       "      <td>NaN</td>\n",
       "      <td>NaN</td>\n",
       "    </tr>\n",
       "    <tr>\n",
       "      <th>5</th>\n",
       "      <td>2873.193924</td>\n",
       "      <td>1.797144</td>\n",
       "      <td>False</td>\n",
       "      <td>NaN</td>\n",
       "      <td>NaN</td>\n",
       "    </tr>\n",
       "    <tr>\n",
       "      <th>6</th>\n",
       "      <td>3351.871503</td>\n",
       "      <td>2.273278</td>\n",
       "      <td>False</td>\n",
       "      <td>NaN</td>\n",
       "      <td>NaN</td>\n",
       "    </tr>\n",
       "    <tr>\n",
       "      <th>7</th>\n",
       "      <td>3830.549082</td>\n",
       "      <td>3.041486</td>\n",
       "      <td>False</td>\n",
       "      <td>NaN</td>\n",
       "      <td>NaN</td>\n",
       "    </tr>\n",
       "  </tbody>\n",
       "</table>\n",
       "</div>"
      ],
      "text/plain": [
       "                        x    y_pred    std  conf_lower  conf_upper\n",
       "key                                                               \n",
       "ACTA2 None 0   479.806029  2.100595  False         NaN         NaN\n",
       "           1   958.483608  1.943201  False         NaN         NaN\n",
       "           2  1437.161187  1.921318  False         NaN         NaN\n",
       "           3  1915.838766  1.826385  False         NaN         NaN\n",
       "           4  2394.516345  1.634902  False         NaN         NaN\n",
       "           5  2873.193924  1.797144  False         NaN         NaN\n",
       "           6  3351.871503  2.273278  False         NaN         NaN\n",
       "           7  3830.549082  3.041486  False         NaN         NaN"
      ]
     },
     "execution_count": 23,
     "metadata": {},
     "output_type": "execute_result"
    }
   ],
   "source": [
    "data"
   ]
  },
  {
   "cell_type": "code",
   "execution_count": 33,
   "id": "90002997",
   "metadata": {},
   "outputs": [
    {
     "ename": "NameError",
     "evalue": "name 'xs' is not defined",
     "output_type": "error",
     "traceback": [
      "\u001b[1;31m---------------------------------------------------------------------------\u001b[0m",
      "\u001b[1;31mNameError\u001b[0m                                 Traceback (most recent call last)",
      "Cell \u001b[1;32mIn[33], line 1\u001b[0m\n\u001b[1;32m----> 1\u001b[0m \u001b[43mxs\u001b[49m\n",
      "\u001b[1;31mNameError\u001b[0m: name 'xs' is not defined"
     ]
    }
   ],
   "source": [
    "xs"
   ]
  },
  {
   "cell_type": "code",
   "execution_count": null,
   "id": "67a4d041",
   "metadata": {},
   "outputs": [],
   "source": []
  },
  {
   "cell_type": "code",
   "execution_count": null,
   "id": "e1f5fd45",
   "metadata": {},
   "outputs": [
    {
     "ename": "ValueError",
     "evalue": "setting an array element with a sequence.",
     "output_type": "error",
     "traceback": [
      "\u001b[1;31m---------------------------------------------------------------------------\u001b[0m\n",
      "\u001b[1;31mTypeError\u001b[0m                                 Traceback (most recent call last)\n",
      "\u001b[1;31mTypeError\u001b[0m: float() argument must be a string or a number, not 'csr_matrix'\n",
      "\n",
      "The above exception was the direct cause of the following exception:\n",
      "\n",
      "\u001b[1;31mValueError\u001b[0m                                Traceback (most recent call last)\n",
      "Cell \u001b[1;32mIn[29], line 1\u001b[0m\n",
      "\u001b[1;32m----> 1\u001b[0m \u001b[43mexpr_along_obs_val\u001b[49m\u001b[43m(\u001b[49m\u001b[43madata\u001b[49m\u001b[38;5;241;43m=\u001b[39;49m\u001b[43mxd\u001b[49m\u001b[38;5;241;43m.\u001b[39;49m\u001b[43mcells\u001b[49m\u001b[38;5;241;43m.\u001b[39;49m\u001b[43mmatrix\u001b[49m\u001b[43m,\u001b[49m\n",
      "\u001b[0;32m      2\u001b[0m \u001b[43m                   \u001b[49m\u001b[43mkeys\u001b[49m\u001b[38;5;241;43m=\u001b[39;49m\u001b[38;5;124;43m\"\u001b[39;49m\u001b[38;5;124;43mACTA2\u001b[39;49m\u001b[38;5;124;43m\"\u001b[39;49m\u001b[43m,\u001b[49m\n",
      "\u001b[0;32m      3\u001b[0m \u001b[43m                   \u001b[49m\u001b[43mx_category\u001b[49m\u001b[38;5;241;43m=\u001b[39;49m\u001b[38;5;124;43m\"\u001b[39;49m\u001b[38;5;124;43mdist_from_points\u001b[39;49m\u001b[38;5;124;43m\"\u001b[39;49m\u001b[43m,\u001b[49m\u001b[43m \u001b[49m\u001b[43mgroupby\u001b[49m\u001b[38;5;241;43m=\u001b[39;49m\u001b[38;5;28;43;01mNone\u001b[39;49;00m\n",
      "\u001b[0;32m      4\u001b[0m \u001b[43m                   \u001b[49m\u001b[43m)\u001b[49m\n",
      "\n",
      "File \u001b[1;32m~\\Github\\InSituPy\\insitupy\\plotting\\expression_along_axis.py:165\u001b[0m, in \u001b[0;36mexpr_along_obs_val\u001b[1;34m(adata, keys, x_category, groupby, splitby, hue, method, stderr, range_min, range_max, cmap, linewidth, extra_cats, normalize, nsteps, show_progress, use_raw, max_cols, xlabel, ylabel, vline, hline, vlinewidth, custom_titles, legend_fontsize, plot_legend, xlabel_fontsize, ylabel_fontsize, title_fontsize, tick_fontsize, figsize, savepath, save_only, show, axis, return_data, fig, dpi_save, smooth, **kwargs)\u001b[0m\n",
      "\u001b[0;32m    161\u001b[0m     \u001b[38;5;28mprint\u001b[39m(\u001b[38;5;124m\"\u001b[39m\u001b[38;5;124mKey \u001b[39m\u001b[38;5;124m'\u001b[39m\u001b[38;5;132;01m{}\u001b[39;00m\u001b[38;5;124m'\u001b[39m\u001b[38;5;124m not found.\u001b[39m\u001b[38;5;124m\"\u001b[39m\u001b[38;5;241m.\u001b[39mformat(key))\n",
      "\u001b[0;32m    163\u001b[0m \u001b[38;5;28;01mif\u001b[39;00m smooth:\n",
      "\u001b[0;32m    164\u001b[0m     \u001b[38;5;66;03m# do smooth fitting\u001b[39;00m\n",
      "\u001b[1;32m--> 165\u001b[0m     df \u001b[38;5;241m=\u001b[39m smooth_fit(x, y,\n",
      "\u001b[0;32m    166\u001b[0m                 \u001b[38;5;28mmin\u001b[39m\u001b[38;5;241m=\u001b[39mrange_min, \u001b[38;5;28mmax\u001b[39m\u001b[38;5;241m=\u001b[39mrange_max,\n",
      "\u001b[0;32m    167\u001b[0m                 nsteps\u001b[38;5;241m=\u001b[39mnsteps, method\u001b[38;5;241m=\u001b[39mmethod, stderr\u001b[38;5;241m=\u001b[39mstderr, \u001b[38;5;241m*\u001b[39m\u001b[38;5;241m*\u001b[39mkwargs)\n",
      "\u001b[0;32m    168\u001b[0m \u001b[38;5;28;01melse\u001b[39;00m:\n",
      "\u001b[0;32m    169\u001b[0m     \u001b[38;5;66;03m# set up dataframe without smooth fitting\u001b[39;00m\n",
      "\u001b[0;32m    170\u001b[0m     df \u001b[38;5;241m=\u001b[39m pd\u001b[38;5;241m.\u001b[39mDataFrame({\u001b[38;5;124m\"\u001b[39m\u001b[38;5;124mx\u001b[39m\u001b[38;5;124m\"\u001b[39m: x, \u001b[38;5;124m\"\u001b[39m\u001b[38;5;124my_pred\u001b[39m\u001b[38;5;124m\"\u001b[39m: y})\n",
      "\n",
      "File \u001b[1;32m~\\Github\\InSituPy\\insitupy\\utils\\_calc.py:100\u001b[0m, in \u001b[0;36msmooth_fit\u001b[1;34m(xs, ys, min, max, nsteps, method, stderr, K)\u001b[0m\n",
      "\u001b[0;32m     98\u001b[0m \u001b[38;5;66;03m# generate loess class object\u001b[39;00m\n",
      "\u001b[0;32m     99\u001b[0m \u001b[38;5;28;01mif\u001b[39;00m use_loess:\n",
      "\u001b[1;32m--> 100\u001b[0m     ls \u001b[38;5;241m=\u001b[39m \u001b[43mloess\u001b[49m\u001b[43m(\u001b[49m\u001b[43mxs\u001b[49m\u001b[43m,\u001b[49m\u001b[43m \u001b[49m\u001b[43mys\u001b[49m\u001b[43m)\u001b[49m\n",
      "\u001b[0;32m    101\u001b[0m \u001b[38;5;28;01melse\u001b[39;00m:\n",
      "\u001b[0;32m    102\u001b[0m     ls \u001b[38;5;241m=\u001b[39m lowess(xs, ys)\n",
      "\n",
      "File \u001b[1;32m_loess.pyx:897\u001b[0m, in \u001b[0;36m_loess.loess.__init__\u001b[1;34m()\u001b[0m\n",
      "\n",
      "File \u001b[1;32m_loess.pyx:81\u001b[0m, in \u001b[0;36m_loess.loess_inputs.__cinit__\u001b[1;34m()\u001b[0m\n",
      "\n",
      "\u001b[1;31mValueError\u001b[0m: setting an array element with a sequence."
     ]
    },
    {
     "data": {
      "image/png": "[encoded data removed]",
      "text/plain": [
       "<Figure size 800x600 with 1 Axes>"
      ]
     },
     "metadata": {},
     "output_type": "display_data"
    }
   ],
   "source": [
    "expr_along_obs_val(adata=data.cells.matrix,\n",
    "                   keys=\"ACTA2\",\n",
    "                   x_category=\"dist_from_points\", groupby=None\n",
    "                   )"
   ]
  },
  {
   "cell_type": "code",
   "execution_count": null,
   "id": "1f0981e0",
   "metadata": {},
   "outputs": [
    {
     "ename": "ValueError",
     "evalue": "setting an array element with a sequence.",
     "output_type": "error",
     "traceback": [
      "\u001b[1;31m---------------------------------------------------------------------------\u001b[0m\n",
      "\u001b[1;31mTypeError\u001b[0m                                 Traceback (most recent call last)\n",
      "\u001b[1;31mTypeError\u001b[0m: float() argument must be a string or a number, not 'csr_matrix'\n",
      "\n",
      "The above exception was the direct cause of the following exception:\n",
      "\n",
      "\u001b[1;31mValueError\u001b[0m                                Traceback (most recent call last)\n",
      "Cell \u001b[1;32mIn[29], line 1\u001b[0m\n",
      "\u001b[1;32m----> 1\u001b[0m \u001b[43mexpr_along_obs_val\u001b[49m\u001b[43m(\u001b[49m\u001b[43madata\u001b[49m\u001b[38;5;241;43m=\u001b[39;49m\u001b[43mxd\u001b[49m\u001b[38;5;241;43m.\u001b[39;49m\u001b[43mcells\u001b[49m\u001b[38;5;241;43m.\u001b[39;49m\u001b[43mmatrix\u001b[49m\u001b[43m,\u001b[49m\n",
      "\u001b[0;32m      2\u001b[0m \u001b[43m                   \u001b[49m\u001b[43mkeys\u001b[49m\u001b[38;5;241;43m=\u001b[39;49m\u001b[38;5;124;43m\"\u001b[39;49m\u001b[38;5;124;43mACTA2\u001b[39;49m\u001b[38;5;124;43m\"\u001b[39;49m\u001b[43m,\u001b[49m\n",
      "\u001b[0;32m      3\u001b[0m \u001b[43m                   \u001b[49m\u001b[43mx_category\u001b[49m\u001b[38;5;241;43m=\u001b[39;49m\u001b[38;5;124;43m\"\u001b[39;49m\u001b[38;5;124;43mdist_from_points\u001b[39;49m\u001b[38;5;124;43m\"\u001b[39;49m\u001b[43m,\u001b[49m\u001b[43m \u001b[49m\u001b[43mgroupby\u001b[49m\u001b[38;5;241;43m=\u001b[39;49m\u001b[38;5;28;43;01mNone\u001b[39;49;00m\n",
      "\u001b[0;32m      4\u001b[0m \u001b[43m                   \u001b[49m\u001b[43m)\u001b[49m\n",
      "\n",
      "File \u001b[1;32m~\\Github\\InSituPy\\insitupy\\plotting\\expression_along_axis.py:165\u001b[0m, in \u001b[0;36mexpr_along_obs_val\u001b[1;34m(adata, keys, x_category, groupby, splitby, hue, method, stderr, range_min, range_max, cmap, linewidth, extra_cats, normalize, nsteps, show_progress, use_raw, max_cols, xlabel, ylabel, vline, hline, vlinewidth, custom_titles, legend_fontsize, plot_legend, xlabel_fontsize, ylabel_fontsize, title_fontsize, tick_fontsize, figsize, savepath, save_only, show, axis, return_data, fig, dpi_save, smooth, **kwargs)\u001b[0m\n",
      "\u001b[0;32m    161\u001b[0m     \u001b[38;5;28mprint\u001b[39m(\u001b[38;5;124m\"\u001b[39m\u001b[38;5;124mKey \u001b[39m\u001b[38;5;124m'\u001b[39m\u001b[38;5;132;01m{}\u001b[39;00m\u001b[38;5;124m'\u001b[39m\u001b[38;5;124m not found.\u001b[39m\u001b[38;5;124m\"\u001b[39m\u001b[38;5;241m.\u001b[39mformat(key))\n",
      "\u001b[0;32m    163\u001b[0m \u001b[38;5;28;01mif\u001b[39;00m smooth:\n",
      "\u001b[0;32m    164\u001b[0m     \u001b[38;5;66;03m# do smooth fitting\u001b[39;00m\n",
      "\u001b[1;32m--> 165\u001b[0m     df \u001b[38;5;241m=\u001b[39m smooth_fit(x, y,\n",
      "\u001b[0;32m    166\u001b[0m                 \u001b[38;5;28mmin\u001b[39m\u001b[38;5;241m=\u001b[39mrange_min, \u001b[38;5;28mmax\u001b[39m\u001b[38;5;241m=\u001b[39mrange_max,\n",
      "\u001b[0;32m    167\u001b[0m                 nsteps\u001b[38;5;241m=\u001b[39mnsteps, method\u001b[38;5;241m=\u001b[39mmethod, stderr\u001b[38;5;241m=\u001b[39mstderr, \u001b[38;5;241m*\u001b[39m\u001b[38;5;241m*\u001b[39mkwargs)\n",
      "\u001b[0;32m    168\u001b[0m \u001b[38;5;28;01melse\u001b[39;00m:\n",
      "\u001b[0;32m    169\u001b[0m     \u001b[38;5;66;03m# set up dataframe without smooth fitting\u001b[39;00m\n",
      "\u001b[0;32m    170\u001b[0m     df \u001b[38;5;241m=\u001b[39m pd\u001b[38;5;241m.\u001b[39mDataFrame({\u001b[38;5;124m\"\u001b[39m\u001b[38;5;124mx\u001b[39m\u001b[38;5;124m\"\u001b[39m: x, \u001b[38;5;124m\"\u001b[39m\u001b[38;5;124my_pred\u001b[39m\u001b[38;5;124m\"\u001b[39m: y})\n",
      "\n",
      "File \u001b[1;32m~\\Github\\InSituPy\\insitupy\\utils\\_calc.py:100\u001b[0m, in \u001b[0;36msmooth_fit\u001b[1;34m(xs, ys, min, max, nsteps, method, stderr, K)\u001b[0m\n",
      "\u001b[0;32m     98\u001b[0m \u001b[38;5;66;03m# generate loess class object\u001b[39;00m\n",
      "\u001b[0;32m     99\u001b[0m \u001b[38;5;28;01mif\u001b[39;00m use_loess:\n",
      "\u001b[1;32m--> 100\u001b[0m     ls \u001b[38;5;241m=\u001b[39m \u001b[43mloess\u001b[49m\u001b[43m(\u001b[49m\u001b[43mxs\u001b[49m\u001b[43m,\u001b[49m\u001b[43m \u001b[49m\u001b[43mys\u001b[49m\u001b[43m)\u001b[49m\n",
      "\u001b[0;32m    101\u001b[0m \u001b[38;5;28;01melse\u001b[39;00m:\n",
      "\u001b[0;32m    102\u001b[0m     ls \u001b[38;5;241m=\u001b[39m lowess(xs, ys)\n",
      "\n",
      "File \u001b[1;32m_loess.pyx:897\u001b[0m, in \u001b[0;36m_loess.loess.__init__\u001b[1;34m()\u001b[0m\n",
      "\n",
      "File \u001b[1;32m_loess.pyx:81\u001b[0m, in \u001b[0;36m_loess.loess_inputs.__cinit__\u001b[1;34m()\u001b[0m\n",
      "\n",
      "\u001b[1;31mValueError\u001b[0m: setting an array element with a sequence."
     ]
    },
    {
     "data": {
      "image/png": "[encoded data removed]",
      "text/plain": [
       "<Figure size 800x600 with 1 Axes>"
      ]
     },
     "metadata": {},
     "output_type": "display_data"
    }
   ],
   "source": [
    "expr_along_obs_val(adata=data.cells.matrix,\n",
    "                   keys=\"ACTA2\",\n",
    "                   x_category=\"dist_from_points\", groupby=None\n",
    "                   )"
   ]
  },
  {
   "cell_type": "code",
   "execution_count": null,
   "id": "d908cfcd",
   "metadata": {},
   "outputs": [],
   "source": [
    "a"
   ]
  },
  {
   "cell_type": "code",
   "execution_count": 19,
   "id": "a05a66b9",
   "metadata": {},
   "outputs": [
    {
     "data": {
      "text/plain": [
       "(8, 167780)"
      ]
     },
     "execution_count": 19,
     "metadata": {},
     "output_type": "execute_result"
    }
   ],
   "source": [
    "dists.shape"
   ]
  },
  {
   "cell_type": "code",
   "execution_count": 13,
   "id": "96960e45",
   "metadata": {},
   "outputs": [
    {
     "data": {
      "text/plain": [
       "<GeometryArray>\n",
       "[<POINT (1910.078 2939.854)>, <POINT (2054.715 2852.311)>,\n",
       " <POINT (1872.015 2585.873)>, <POINT (1970.978 3210.098)>,\n",
       " <POINT (2225.996 3164.423)>,  <POINT (2069.94 3377.573)>,\n",
       "  <POINT (2770.289 2974.11)>, <POINT (5278.293 1273.736)>]\n",
       "Length: 8, dtype: geometry"
      ]
     },
     "execution_count": 13,
     "metadata": {},
     "output_type": "execute_result"
    }
   ],
   "source": [
    "points"
   ]
  },
  {
   "cell_type": "code",
   "execution_count": 12,
   "id": "1354ac63",
   "metadata": {},
   "outputs": [
    {
     "data": {
      "text/plain": [
       "10.316043603539608"
      ]
     },
     "execution_count": 12,
     "metadata": {},
     "output_type": "execute_result"
    }
   ],
   "source": [
    "dist.min()"
   ]
  },
  {
   "cell_type": "code",
   "execution_count": 91,
   "id": "ab9d4973",
   "metadata": {},
   "outputs": [
    {
     "data": {
      "text/plain": [
       "array([2840.97583443, 2847.16676686, 2835.26350056, ..., 5964.1267676 ,\n",
       "       5974.66129396, 5983.51357957])"
      ]
     },
     "execution_count": 91,
     "metadata": {},
     "output_type": "execute_result"
    }
   ],
   "source": [
    "dist"
   ]
  },
  {
   "cell_type": "code",
   "execution_count": 92,
   "id": "a47d1457",
   "metadata": {},
   "outputs": [],
   "source": [
    "from shapely import LineString"
   ]
  },
  {
   "cell_type": "code",
   "execution_count": 93,
   "id": "f4216995",
   "metadata": {},
   "outputs": [
    {
     "data": {
      "text/plain": [
       "array([[ 7264.325411  , 28308.07095047],\n",
       "       [ 7743.80240649, 27436.29459505],\n",
       "       [ 9182.23339293, 26491.87021001],\n",
       "       [10577.0755616 , 24922.67277026],\n",
       "       [11812.09206511, 23992.77799114],\n",
       "       [13250.52305156, 23760.30429636]])"
      ]
     },
     "execution_count": 93,
     "metadata": {},
     "output_type": "execute_result"
    }
   ],
   "source": [
    "ll.data[0]"
   ]
  },
  {
   "cell_type": "code",
   "execution_count": 94,
   "id": "6228f58b",
   "metadata": {},
   "outputs": [],
   "source": [
    "line_coords_xy = np.flip(ll.data[0], axis=1) * pixel_size"
   ]
  },
  {
   "cell_type": "code",
   "execution_count": 95,
   "id": "f89a6749",
   "metadata": {},
   "outputs": [],
   "source": [
    "line = LineString(line_coords_xy)"
   ]
  },
  {
   "cell_type": "code",
   "execution_count": 96,
   "id": "9a77a3ec",
   "metadata": {},
   "outputs": [
    {
     "data": {
      "text/plain": [
       "array([4779.33797023, 4797.11646734, 4775.46252531, ..., 3341.75590766,\n",
       "       3353.85023477, 3358.49688704])"
      ]
     },
     "execution_count": 96,
     "metadata": {},
     "output_type": "execute_result"
    }
   ],
   "source": [
    "cells.distance(line)"
   ]
  },
  {
   "cell_type": "code",
   "execution_count": 97,
   "id": "e799a616",
   "metadata": {},
   "outputs": [],
   "source": [
    "data.cells.matrix.obs[\"line\"] = cells.distance(line)\n",
    "data.cells.matrix.obs[\"line2\"] = cells.distance(line)**2"
   ]
  },
  {
   "cell_type": "code",
   "execution_count": 82,
   "id": "7cfb06ab",
   "metadata": {},
   "outputs": [],
   "source": [
    "data.show()"
   ]
  },
  {
   "cell_type": "code",
   "execution_count": 99,
   "id": "60311008",
   "metadata": {},
   "outputs": [],
   "source": [
    "adata = data.cells.matrix"
   ]
  },
  {
   "cell_type": "code",
   "execution_count": 100,
   "id": "81f22f7e",
   "metadata": {},
   "outputs": [
    {
     "data": {
      "text/plain": [
       "AnnData object with n_obs × n_vars = 167780 × 313\n",
       "    obs: 'transcript_counts', 'control_probe_counts', 'control_codeword_counts', 'total_counts', 'cell_area', 'nucleus_area', 'annotation-demo', 'annotation-demo2', 'line', 'line2'\n",
       "    var: 'gene_ids', 'feature_types', 'genome'\n",
       "    obsm: 'spatial'\n",
       "    varm: 'binned_expression'"
      ]
     },
     "execution_count": 100,
     "metadata": {},
     "output_type": "execute_result"
    }
   ],
   "source": [
    "adata"
   ]
  },
  {
   "cell_type": "code",
   "execution_count": 102,
   "id": "a7f72e38",
   "metadata": {},
   "outputs": [
    {
     "data": {
      "text/plain": [
       "array([[0., 0., 0., ..., 0., 0., 0.],\n",
       "       [0., 0., 1., ..., 0., 0., 0.],\n",
       "       [0., 0., 0., ..., 0., 0., 0.],\n",
       "       ...,\n",
       "       [4., 1., 5., ..., 0., 0., 3.],\n",
       "       [1., 0., 0., ..., 0., 0., 0.],\n",
       "       [4., 1., 3., ..., 0., 0., 0.]], dtype=float32)"
      ]
     },
     "execution_count": 102,
     "metadata": {},
     "output_type": "execute_result"
    }
   ],
   "source": [
    "adata.X.toarray()"
   ]
  },
  {
   "cell_type": "code",
   "execution_count": 103,
   "id": "32be3be0",
   "metadata": {},
   "outputs": [
    {
     "data": {
      "text/html": [
       "<div>\n",
       "<style scoped>\n",
       "    .dataframe tbody tr th:only-of-type {\n",
       "        vertical-align: middle;\n",
       "    }\n",
       "\n",
       "    .dataframe tbody tr th {\n",
       "        vertical-align: top;\n",
       "    }\n",
       "\n",
       "    .dataframe thead th {\n",
       "        text-align: right;\n",
       "    }\n",
       "</style>\n",
       "<table border=\"1\" class=\"dataframe\">\n",
       "  <thead>\n",
       "    <tr style=\"text-align: right;\">\n",
       "      <th></th>\n",
       "      <th>transcript_counts</th>\n",
       "      <th>control_probe_counts</th>\n",
       "      <th>control_codeword_counts</th>\n",
       "      <th>total_counts</th>\n",
       "      <th>cell_area</th>\n",
       "      <th>nucleus_area</th>\n",
       "      <th>annotation-demo</th>\n",
       "      <th>annotation-demo2</th>\n",
       "      <th>line</th>\n",
       "      <th>line2</th>\n",
       "    </tr>\n",
       "  </thead>\n",
       "  <tbody>\n",
       "    <tr>\n",
       "      <th>1</th>\n",
       "      <td>28</td>\n",
       "      <td>1</td>\n",
       "      <td>0</td>\n",
       "      <td>29</td>\n",
       "      <td>58.387031</td>\n",
       "      <td>26.642188</td>\n",
       "      <td>NaN</td>\n",
       "      <td>NaN</td>\n",
       "      <td>4779.337970</td>\n",
       "      <td>2.284207e+07</td>\n",
       "    </tr>\n",
       "    <tr>\n",
       "      <th>2</th>\n",
       "      <td>94</td>\n",
       "      <td>0</td>\n",
       "      <td>0</td>\n",
       "      <td>94</td>\n",
       "      <td>197.016719</td>\n",
       "      <td>42.130781</td>\n",
       "      <td>NaN</td>\n",
       "      <td>NaN</td>\n",
       "      <td>4797.116467</td>\n",
       "      <td>2.301233e+07</td>\n",
       "    </tr>\n",
       "    <tr>\n",
       "      <th>3</th>\n",
       "      <td>9</td>\n",
       "      <td>0</td>\n",
       "      <td>0</td>\n",
       "      <td>9</td>\n",
       "      <td>16.256250</td>\n",
       "      <td>12.688906</td>\n",
       "      <td>NaN</td>\n",
       "      <td>NaN</td>\n",
       "      <td>4775.462525</td>\n",
       "      <td>2.280504e+07</td>\n",
       "    </tr>\n",
       "    <tr>\n",
       "      <th>4</th>\n",
       "      <td>11</td>\n",
       "      <td>0</td>\n",
       "      <td>0</td>\n",
       "      <td>11</td>\n",
       "      <td>42.311406</td>\n",
       "      <td>10.069844</td>\n",
       "      <td>NaN</td>\n",
       "      <td>NaN</td>\n",
       "      <td>4796.173524</td>\n",
       "      <td>2.300328e+07</td>\n",
       "    </tr>\n",
       "    <tr>\n",
       "      <th>5</th>\n",
       "      <td>48</td>\n",
       "      <td>0</td>\n",
       "      <td>0</td>\n",
       "      <td>48</td>\n",
       "      <td>107.652500</td>\n",
       "      <td>37.479688</td>\n",
       "      <td>NaN</td>\n",
       "      <td>NaN</td>\n",
       "      <td>4781.829921</td>\n",
       "      <td>2.286590e+07</td>\n",
       "    </tr>\n",
       "    <tr>\n",
       "      <th>...</th>\n",
       "      <td>...</td>\n",
       "      <td>...</td>\n",
       "      <td>...</td>\n",
       "      <td>...</td>\n",
       "      <td>...</td>\n",
       "      <td>...</td>\n",
       "      <td>...</td>\n",
       "      <td>...</td>\n",
       "      <td>...</td>\n",
       "      <td>...</td>\n",
       "    </tr>\n",
       "    <tr>\n",
       "      <th>167776</th>\n",
       "      <td>229</td>\n",
       "      <td>1</td>\n",
       "      <td>0</td>\n",
       "      <td>230</td>\n",
       "      <td>220.452813</td>\n",
       "      <td>60.599688</td>\n",
       "      <td>NaN</td>\n",
       "      <td>NaN</td>\n",
       "      <td>3328.190758</td>\n",
       "      <td>1.107685e+07</td>\n",
       "    </tr>\n",
       "    <tr>\n",
       "      <th>167777</th>\n",
       "      <td>79</td>\n",
       "      <td>0</td>\n",
       "      <td>0</td>\n",
       "      <td>79</td>\n",
       "      <td>37.389375</td>\n",
       "      <td>25.242344</td>\n",
       "      <td>NaN</td>\n",
       "      <td>NaN</td>\n",
       "      <td>3346.342668</td>\n",
       "      <td>1.119801e+07</td>\n",
       "    </tr>\n",
       "    <tr>\n",
       "      <th>167778</th>\n",
       "      <td>397</td>\n",
       "      <td>0</td>\n",
       "      <td>0</td>\n",
       "      <td>397</td>\n",
       "      <td>287.058281</td>\n",
       "      <td>86.700000</td>\n",
       "      <td>NaN</td>\n",
       "      <td>NaN</td>\n",
       "      <td>3341.755908</td>\n",
       "      <td>1.116733e+07</td>\n",
       "    </tr>\n",
       "    <tr>\n",
       "      <th>167779</th>\n",
       "      <td>117</td>\n",
       "      <td>0</td>\n",
       "      <td>0</td>\n",
       "      <td>117</td>\n",
       "      <td>235.354375</td>\n",
       "      <td>25.197188</td>\n",
       "      <td>NaN</td>\n",
       "      <td>NaN</td>\n",
       "      <td>3353.850235</td>\n",
       "      <td>1.124831e+07</td>\n",
       "    </tr>\n",
       "    <tr>\n",
       "      <th>167780</th>\n",
       "      <td>378</td>\n",
       "      <td>0</td>\n",
       "      <td>0</td>\n",
       "      <td>378</td>\n",
       "      <td>270.079531</td>\n",
       "      <td>111.806875</td>\n",
       "      <td>NaN</td>\n",
       "      <td>NaN</td>\n",
       "      <td>3358.496887</td>\n",
       "      <td>1.127950e+07</td>\n",
       "    </tr>\n",
       "  </tbody>\n",
       "</table>\n",
       "<p>167780 rows × 10 columns</p>\n",
       "</div>"
      ],
      "text/plain": [
       "        transcript_counts  control_probe_counts  control_codeword_counts  \\\n",
       "1                      28                     1                        0   \n",
       "2                      94                     0                        0   \n",
       "3                       9                     0                        0   \n",
       "4                      11                     0                        0   \n",
       "5                      48                     0                        0   \n",
       "...                   ...                   ...                      ...   \n",
       "167776                229                     1                        0   \n",
       "167777                 79                     0                        0   \n",
       "167778                397                     0                        0   \n",
       "167779                117                     0                        0   \n",
       "167780                378                     0                        0   \n",
       "\n",
       "        total_counts   cell_area  nucleus_area annotation-demo  \\\n",
       "1                 29   58.387031     26.642188             NaN   \n",
       "2                 94  197.016719     42.130781             NaN   \n",
       "3                  9   16.256250     12.688906             NaN   \n",
       "4                 11   42.311406     10.069844             NaN   \n",
       "5                 48  107.652500     37.479688             NaN   \n",
       "...              ...         ...           ...             ...   \n",
       "167776           230  220.452813     60.599688             NaN   \n",
       "167777            79   37.389375     25.242344             NaN   \n",
       "167778           397  287.058281     86.700000             NaN   \n",
       "167779           117  235.354375     25.197188             NaN   \n",
       "167780           378  270.079531    111.806875             NaN   \n",
       "\n",
       "       annotation-demo2         line         line2  \n",
       "1                   NaN  4779.337970  2.284207e+07  \n",
       "2                   NaN  4797.116467  2.301233e+07  \n",
       "3                   NaN  4775.462525  2.280504e+07  \n",
       "4                   NaN  4796.173524  2.300328e+07  \n",
       "5                   NaN  4781.829921  2.286590e+07  \n",
       "...                 ...          ...           ...  \n",
       "167776              NaN  3328.190758  1.107685e+07  \n",
       "167777              NaN  3346.342668  1.119801e+07  \n",
       "167778              NaN  3341.755908  1.116733e+07  \n",
       "167779              NaN  3353.850235  1.124831e+07  \n",
       "167780              NaN  3358.496887  1.127950e+07  \n",
       "\n",
       "[167780 rows x 10 columns]"
      ]
     },
     "execution_count": 103,
     "metadata": {},
     "output_type": "execute_result"
    }
   ],
   "source": [
    "adata.obs"
   ]
  },
  {
   "cell_type": "code",
   "execution_count": 104,
   "id": "a7d80240",
   "metadata": {},
   "outputs": [
    {
     "data": {
      "text/html": [
       "<div>\n",
       "<style scoped>\n",
       "    .dataframe tbody tr th:only-of-type {\n",
       "        vertical-align: middle;\n",
       "    }\n",
       "\n",
       "    .dataframe tbody tr th {\n",
       "        vertical-align: top;\n",
       "    }\n",
       "\n",
       "    .dataframe thead th {\n",
       "        text-align: right;\n",
       "    }\n",
       "</style>\n",
       "<table border=\"1\" class=\"dataframe\">\n",
       "  <thead>\n",
       "    <tr style=\"text-align: right;\">\n",
       "      <th></th>\n",
       "      <th>gene_ids</th>\n",
       "      <th>feature_types</th>\n",
       "      <th>genome</th>\n",
       "    </tr>\n",
       "  </thead>\n",
       "  <tbody>\n",
       "    <tr>\n",
       "      <th>ABCC11</th>\n",
       "      <td>ENSG00000121270</td>\n",
       "      <td>Gene Expression</td>\n",
       "      <td>Unknown</td>\n",
       "    </tr>\n",
       "    <tr>\n",
       "      <th>ACTA2</th>\n",
       "      <td>ENSG00000107796</td>\n",
       "      <td>Gene Expression</td>\n",
       "      <td>Unknown</td>\n",
       "    </tr>\n",
       "    <tr>\n",
       "      <th>ACTG2</th>\n",
       "      <td>ENSG00000163017</td>\n",
       "      <td>Gene Expression</td>\n",
       "      <td>Unknown</td>\n",
       "    </tr>\n",
       "    <tr>\n",
       "      <th>ADAM9</th>\n",
       "      <td>ENSG00000168615</td>\n",
       "      <td>Gene Expression</td>\n",
       "      <td>Unknown</td>\n",
       "    </tr>\n",
       "    <tr>\n",
       "      <th>ADGRE5</th>\n",
       "      <td>ENSG00000123146</td>\n",
       "      <td>Gene Expression</td>\n",
       "      <td>Unknown</td>\n",
       "    </tr>\n",
       "    <tr>\n",
       "      <th>...</th>\n",
       "      <td>...</td>\n",
       "      <td>...</td>\n",
       "      <td>...</td>\n",
       "    </tr>\n",
       "    <tr>\n",
       "      <th>VWF</th>\n",
       "      <td>ENSG00000110799</td>\n",
       "      <td>Gene Expression</td>\n",
       "      <td>Unknown</td>\n",
       "    </tr>\n",
       "    <tr>\n",
       "      <th>WARS</th>\n",
       "      <td>ENSG00000140105</td>\n",
       "      <td>Gene Expression</td>\n",
       "      <td>Unknown</td>\n",
       "    </tr>\n",
       "    <tr>\n",
       "      <th>ZEB1</th>\n",
       "      <td>ENSG00000148516</td>\n",
       "      <td>Gene Expression</td>\n",
       "      <td>Unknown</td>\n",
       "    </tr>\n",
       "    <tr>\n",
       "      <th>ZEB2</th>\n",
       "      <td>ENSG00000169554</td>\n",
       "      <td>Gene Expression</td>\n",
       "      <td>Unknown</td>\n",
       "    </tr>\n",
       "    <tr>\n",
       "      <th>ZNF562</th>\n",
       "      <td>ENSG00000171466</td>\n",
       "      <td>Gene Expression</td>\n",
       "      <td>Unknown</td>\n",
       "    </tr>\n",
       "  </tbody>\n",
       "</table>\n",
       "<p>313 rows × 3 columns</p>\n",
       "</div>"
      ],
      "text/plain": [
       "               gene_ids    feature_types   genome\n",
       "ABCC11  ENSG00000121270  Gene Expression  Unknown\n",
       "ACTA2   ENSG00000107796  Gene Expression  Unknown\n",
       "ACTG2   ENSG00000163017  Gene Expression  Unknown\n",
       "ADAM9   ENSG00000168615  Gene Expression  Unknown\n",
       "ADGRE5  ENSG00000123146  Gene Expression  Unknown\n",
       "...                 ...              ...      ...\n",
       "VWF     ENSG00000110799  Gene Expression  Unknown\n",
       "WARS    ENSG00000140105  Gene Expression  Unknown\n",
       "ZEB1    ENSG00000148516  Gene Expression  Unknown\n",
       "ZEB2    ENSG00000169554  Gene Expression  Unknown\n",
       "ZNF562  ENSG00000171466  Gene Expression  Unknown\n",
       "\n",
       "[313 rows x 3 columns]"
      ]
     },
     "execution_count": 104,
     "metadata": {},
     "output_type": "execute_result"
    }
   ],
   "source": [
    "adata.var"
   ]
  },
  {
   "cell_type": "code",
   "execution_count": null,
   "id": "ff019e32",
   "metadata": {},
   "outputs": [],
   "source": []
  },
  {
   "cell_type": "code",
   "execution_count": null,
   "id": "749f5ee6",
   "metadata": {},
   "outputs": [],
   "source": []
  },
  {
   "cell_type": "code",
   "execution_count": 44,
   "id": "4c75b55d",
   "metadata": {},
   "outputs": [
    {
     "name": "stdout",
     "output_type": "stream",
     "text": [
      "Added 1 new annotations to key 'test'\n"
     ]
    }
   ],
   "source": [
    "data.store_annotations()"
   ]
  },
  {
   "cell_type": "code",
   "execution_count": 46,
   "id": "e51e75c6",
   "metadata": {},
   "outputs": [
    {
     "data": {
      "text/html": [
       "<div>\n",
       "<style scoped>\n",
       "    .dataframe tbody tr th:only-of-type {\n",
       "        vertical-align: middle;\n",
       "    }\n",
       "\n",
       "    .dataframe tbody tr th {\n",
       "        vertical-align: top;\n",
       "    }\n",
       "\n",
       "    .dataframe thead th {\n",
       "        text-align: right;\n",
       "    }\n",
       "</style>\n",
       "<table border=\"1\" class=\"dataframe\">\n",
       "  <thead>\n",
       "    <tr style=\"text-align: right;\">\n",
       "      <th></th>\n",
       "      <th>objectType</th>\n",
       "      <th>geometry</th>\n",
       "      <th>name</th>\n",
       "      <th>color</th>\n",
       "      <th>origin</th>\n",
       "    </tr>\n",
       "    <tr>\n",
       "      <th>id</th>\n",
       "      <th></th>\n",
       "      <th></th>\n",
       "      <th></th>\n",
       "      <th></th>\n",
       "      <th></th>\n",
       "    </tr>\n",
       "  </thead>\n",
       "  <tbody>\n",
       "    <tr>\n",
       "      <th>5af017cc-02a8-4644-8687-7f07f4591693</th>\n",
       "      <td>annotation</td>\n",
       "      <td>POLYGON ((6021.63193 1559.75951, 5801.00825 16...</td>\n",
       "      <td>blubb</td>\n",
       "      <td>[255, 0, 0]</td>\n",
       "      <td>manual</td>\n",
       "    </tr>\n",
       "  </tbody>\n",
       "</table>\n",
       "</div>"
      ],
      "text/plain": [
       "                                      objectType  \\\n",
       "id                                                 \n",
       "5af017cc-02a8-4644-8687-7f07f4591693  annotation   \n",
       "\n",
       "                                                                               geometry  \\\n",
       "id                                                                                        \n",
       "5af017cc-02a8-4644-8687-7f07f4591693  POLYGON ((6021.63193 1559.75951, 5801.00825 16...   \n",
       "\n",
       "                                       name        color  origin  \n",
       "id                                                                \n",
       "5af017cc-02a8-4644-8687-7f07f4591693  blubb  [255, 0, 0]  manual  "
      ]
     },
     "execution_count": 46,
     "metadata": {},
     "output_type": "execute_result"
    }
   ],
   "source": [
    "data.annotations.test"
   ]
  },
  {
   "cell_type": "code",
   "execution_count": 47,
   "id": "6fb190ae",
   "metadata": {},
   "outputs": [],
   "source": [
    "data.show()"
   ]
  },
  {
   "cell_type": "code",
   "execution_count": 42,
   "id": "28d35d8a",
   "metadata": {},
   "outputs": [
    {
     "data": {
      "text/plain": [
       "\u001b[1m\u001b[31mInSituData\u001b[0m\n",
       "\u001b[1mMethod:\u001b[0m\t\tXenium\n",
       "\u001b[1mSlide ID:\u001b[0m\t0001879\n",
       "\u001b[1mSample ID:\u001b[0m\tReplicate 1\n",
       "\u001b[1mPath:\u001b[0m\t\tC:\\Users\\ge37voy\\Github\\InSituPy\\notebooks\\demo_dataset\\demo_insitupy_project\n",
       "\u001b[1mMetadata file:\u001b[0m\t.ispy\n",
       "    ➤ \u001b[34m\u001b[1mimages\u001b[0m\n",
       "       \u001b[1mnuclei:\u001b[0m\t(25778, 35416)\n",
       "       \u001b[1mCD20:\u001b[0m\t(25778, 35416)\n",
       "       \u001b[1mHER2:\u001b[0m\t(25778, 35416)\n",
       "       \u001b[1mHE:\u001b[0m\t(25778, 35416, 3)\n",
       "    ➤\u001b[32m\u001b[1m cells\u001b[0m\n",
       "       \u001b[1mmatrix\u001b[0m\n",
       "           AnnData object with n_obs × n_vars = 167780 × 313\n",
       "           obs: 'transcript_counts', 'control_probe_counts', 'control_codeword_counts', 'total_counts', 'cell_area', 'nucleus_area', 'annotation-demo', 'annotation-demo2'\n",
       "           var: 'gene_ids', 'feature_types', 'genome'\n",
       "           obsm: 'spatial'\n",
       "           varm: 'binned_expression'\n",
       "       \u001b[1mboundaries\u001b[0m\n",
       "           BoundariesData object with 2 entries:\n",
       "               \u001b[1mcellular\u001b[0m\n",
       "               \u001b[1mnuclear\u001b[0m"
      ]
     },
     "execution_count": 42,
     "metadata": {},
     "output_type": "execute_result"
    }
   ],
   "source": [
    "data"
   ]
  },
  {
   "cell_type": "code",
   "execution_count": 62,
   "id": "c8c51d7e",
   "metadata": {},
   "outputs": [],
   "source": [
    "l = data.viewer.layers[\"Shapes\"]\n",
    "l2 = data.viewer.layers[\"*blubb (test)\"]\n",
    "p = data.viewer.layers[\"Points\"]"
   ]
  },
  {
   "cell_type": "code",
   "execution_count": 56,
   "id": "47d05b41",
   "metadata": {},
   "outputs": [
    {
     "data": {
      "text/plain": [
       "['path']"
      ]
     },
     "execution_count": 56,
     "metadata": {},
     "output_type": "execute_result"
    }
   ],
   "source": [
    "l.shape_type"
   ]
  },
  {
   "cell_type": "code",
   "execution_count": 58,
   "id": "75512713",
   "metadata": {},
   "outputs": [
    {
     "data": {
      "text/plain": [
       "['polygon', 'polygon', 'path']"
      ]
     },
     "execution_count": 58,
     "metadata": {},
     "output_type": "execute_result"
    }
   ],
   "source": [
    "l2.shape_type"
   ]
  },
  {
   "cell_type": "code",
   "execution_count": 60,
   "id": "ae3d1bb7",
   "metadata": {},
   "outputs": [
    {
     "data": {
      "text/plain": [
       "napari.layers.shapes.shapes.Shapes"
      ]
     },
     "execution_count": 60,
     "metadata": {},
     "output_type": "execute_result"
    }
   ],
   "source": [
    "type(l2)"
   ]
  },
  {
   "cell_type": "code",
   "execution_count": 61,
   "id": "2813a9e6",
   "metadata": {},
   "outputs": [
    {
     "data": {
      "text/plain": [
       "napari.layers.shapes.shapes.Shapes"
      ]
     },
     "execution_count": 61,
     "metadata": {},
     "output_type": "execute_result"
    }
   ],
   "source": [
    "type(l)"
   ]
  },
  {
   "cell_type": "code",
   "execution_count": 34,
   "id": "71f8fa6d",
   "metadata": {},
   "outputs": [
    {
     "data": {
      "image/svg+xml": [
       "<svg xmlns=\"http://www.w3.org/2000/svg\" xmlns:xlink=\"http://www.w3.org/1999/xlink\" width=\"300\" height=\"300\" viewBox=\"7031.1442116776525 23376.755148113472 6783.240564551683 5213.045989423968\" preserveAspectRatio=\"xMinYMin meet\"><g transform=\"matrix(1,0,0,-1,0,51966.55628565091)\"><polyline fill=\"none\" stroke=\"#66cc99\" stroke-width=\"45.221603763677884\" points=\"7282.375343698085,28338.57000551701 7817.668948855256,27339.35527589029 9459.236004670583,26268.768065575947 11314.92050254878,24127.59364494726 13563.153644208902,23627.986280133904\" opacity=\"0.8\" /></g></svg>"
      ],
      "text/plain": [
       "<LINESTRING (7282.375 28338.57, 7817.669 27339.355, 9459.236 26268.768, 1131...>"
      ]
     },
     "execution_count": 34,
     "metadata": {},
     "output_type": "execute_result"
    }
   ],
   "source": [
    "LineString(ll.data[0])"
   ]
  },
  {
   "cell_type": "code",
   "execution_count": 17,
   "id": "5474cdb5",
   "metadata": {},
   "outputs": [
    {
     "data": {
      "text/plain": [
       "array([[ 7282.3753437 , 28338.57000552],\n",
       "       [ 7817.66894886, 27339.35527589],\n",
       "       [ 9459.23600467, 26268.76806558],\n",
       "       [11314.92050255, 24127.59364495],\n",
       "       [13563.15364421, 23627.98628013]])"
      ]
     },
     "execution_count": 17,
     "metadata": {},
     "output_type": "execute_result"
    }
   ],
   "source": [
    "ll.data[0]"
   ]
  },
  {
   "cell_type": "code",
   "execution_count": 22,
   "id": "d92b6520",
   "metadata": {},
   "outputs": [
    {
     "data": {
      "text/plain": [
       "array([ 7282.3753437 ,  7817.66894886,  9459.23600467, 11314.92050255,\n",
       "       13563.15364421])"
      ]
     },
     "execution_count": 22,
     "metadata": {},
     "output_type": "execute_result"
    }
   ],
   "source": [
    "ll.data[0][:, 0]"
   ]
  },
  {
   "cell_type": "code",
   "execution_count": 24,
   "id": "46c31aaa",
   "metadata": {},
   "outputs": [],
   "source": [
    "s = gpd.points_from_xy(ll.data[0][:, 1], ll.data[0][:, 0])"
   ]
  },
  {
   "cell_type": "code",
   "execution_count": 25,
   "id": "f303cbf2",
   "metadata": {},
   "outputs": [
    {
     "data": {
      "image/svg+xml": [
       "<svg xmlns=\"http://www.w3.org/2000/svg\" xmlns:xlink=\"http://www.w3.org/1999/xlink\" width=\"100.0\" height=\"100.0\" viewBox=\"28337.57000551701 7281.375343698085 2.0 2.0\" preserveAspectRatio=\"xMinYMin meet\"><g transform=\"matrix(1,0,0,-1,0,14564.75068739617)\"><circle cx=\"28338.57000551701\" cy=\"7282.375343698085\" r=\"0.06\" stroke=\"#555555\" stroke-width=\"0.02\" fill=\"#66cc99\" opacity=\"0.6\" /></g></svg>"
      ],
      "text/plain": [
       "<POINT (28338.57 7282.375)>"
      ]
     },
     "execution_count": 25,
     "metadata": {},
     "output_type": "execute_result"
    }
   ],
   "source": [
    "s[0]"
   ]
  }
 ],
 "metadata": {
  "kernelspec": {
   "display_name": "insitupy",
   "language": "python",
   "name": "python3"
  },
  "language_info": {
   "codemirror_mode": {
    "name": "ipython",
    "version": 3
   },
   "file_extension": ".py",
   "mimetype": "text/x-python",
   "name": "python",
   "nbconvert_exporter": "python",
   "pygments_lexer": "ipython3",
   "version": "3.9.18"
  }
 },
 "nbformat": 4,
 "nbformat_minor": 5
}
