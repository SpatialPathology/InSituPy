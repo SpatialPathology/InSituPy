{
 "cells": [
  {
   "cell_type": "code",
   "execution_count": 1,
   "metadata": {},
   "outputs": [
    {
     "ename": "QtBindingsNotFoundError",
     "evalue": "No Qt bindings could be found",
     "output_type": "error",
     "traceback": [
      "\u001b[1;31m---------------------------------------------------------------------------\u001b[0m",
      "\u001b[1;31mQtBindingsNotFoundError\u001b[0m                   Traceback (most recent call last)",
      "Cell \u001b[1;32mIn[1], line 2\u001b[0m\n\u001b[0;32m      1\u001b[0m \u001b[38;5;28;01mimport\u001b[39;00m \u001b[38;5;21;01mspatialdata_io\u001b[39;00m\n\u001b[1;32m----> 2\u001b[0m \u001b[38;5;28;01mfrom\u001b[39;00m \u001b[38;5;21;01mnapari_spatialdata\u001b[39;00m \u001b[38;5;28;01mimport\u001b[39;00m Interactive\n",
      "File \u001b[1;32mc:\\Users\\ge37voy\\AppData\\Local\\miniconda3\\envs\\spatialdata\\lib\\site-packages\\napari_spatialdata\\__init__.py:15\u001b[0m\n\u001b[0;32m     11\u001b[0m     __full_version__ \u001b[38;5;241m=\u001b[39m __version__\n\u001b[0;32m     13\u001b[0m \u001b[38;5;28;01mdel\u001b[39;00m version, parse\n\u001b[1;32m---> 15\u001b[0m \u001b[38;5;28;01mfrom\u001b[39;00m \u001b[38;5;21;01mnapari_spatialdata\u001b[39;00m\u001b[38;5;21;01m.\u001b[39;00m\u001b[38;5;21;01m_interactive\u001b[39;00m \u001b[38;5;28;01mimport\u001b[39;00m Interactive \u001b[38;5;28;01mas\u001b[39;00m Interactive  \u001b[38;5;66;03m# noqa: E402\u001b[39;00m\n\u001b[0;32m     16\u001b[0m \u001b[38;5;28;01mfrom\u001b[39;00m \u001b[38;5;21;01mnapari_spatialdata\u001b[39;00m\u001b[38;5;21;01m.\u001b[39;00m\u001b[38;5;21;01m_reader\u001b[39;00m \u001b[38;5;28;01mimport\u001b[39;00m get_reader  \u001b[38;5;66;03m# noqa: E402\u001b[39;00m\n\u001b[0;32m     17\u001b[0m \u001b[38;5;28;01mfrom\u001b[39;00m \u001b[38;5;21;01mnapari_spatialdata\u001b[39;00m\u001b[38;5;21;01m.\u001b[39;00m\u001b[38;5;21;01m_view\u001b[39;00m \u001b[38;5;28;01mimport\u001b[39;00m (  \u001b[38;5;66;03m# noqa: E402\u001b[39;00m\n\u001b[0;32m     18\u001b[0m     QtAdataScatterWidget,\n\u001b[0;32m     19\u001b[0m     QtAdataViewWidget,\n\u001b[0;32m     20\u001b[0m )\n",
      "File \u001b[1;32mc:\\Users\\ge37voy\\AppData\\Local\\miniconda3\\envs\\spatialdata\\lib\\site-packages\\napari_spatialdata\\_interactive.py:8\u001b[0m\n\u001b[0;32m      5\u001b[0m \u001b[38;5;28;01mimport\u001b[39;00m \u001b[38;5;21;01mnapari\u001b[39;00m\n\u001b[0;32m      6\u001b[0m \u001b[38;5;28;01mfrom\u001b[39;00m \u001b[38;5;21;01mnapari\u001b[39;00m\u001b[38;5;21;01m.\u001b[39;00m\u001b[38;5;21;01mutils\u001b[39;00m\u001b[38;5;21;01m.\u001b[39;00m\u001b[38;5;21;01mevents\u001b[39;00m \u001b[38;5;28;01mimport\u001b[39;00m EventedList\n\u001b[1;32m----> 8\u001b[0m \u001b[38;5;28;01mfrom\u001b[39;00m \u001b[38;5;21;01mnapari_spatialdata\u001b[39;00m\u001b[38;5;21;01m.\u001b[39;00m\u001b[38;5;21;01m_sdata_widgets\u001b[39;00m \u001b[38;5;28;01mimport\u001b[39;00m SdataWidget\n\u001b[0;32m      9\u001b[0m \u001b[38;5;28;01mfrom\u001b[39;00m \u001b[38;5;21;01mnapari_spatialdata\u001b[39;00m\u001b[38;5;21;01m.\u001b[39;00m\u001b[38;5;21;01mutils\u001b[39;00m\u001b[38;5;21;01m.\u001b[39;00m\u001b[38;5;21;01m_utils\u001b[39;00m \u001b[38;5;28;01mimport\u001b[39;00m (\n\u001b[0;32m     10\u001b[0m     NDArrayA,\n\u001b[0;32m     11\u001b[0m     get_duplicate_element_names,\n\u001b[0;32m     12\u001b[0m     get_elements_meta_mapping,\n\u001b[0;32m     13\u001b[0m     get_itemindex_by_text,\n\u001b[0;32m     14\u001b[0m )\n\u001b[0;32m     16\u001b[0m \u001b[38;5;28;01mif\u001b[39;00m TYPE_CHECKING:\n",
      "File \u001b[1;32mc:\\Users\\ge37voy\\AppData\\Local\\miniconda3\\envs\\spatialdata\\lib\\site-packages\\napari_spatialdata\\_sdata_widgets.py:7\u001b[0m\n\u001b[0;32m      5\u001b[0m \u001b[38;5;28;01mimport\u001b[39;00m \u001b[38;5;21;01mshapely\u001b[39;00m\n\u001b[0;32m      6\u001b[0m \u001b[38;5;28;01mfrom\u001b[39;00m \u001b[38;5;21;01mnapari\u001b[39;00m\u001b[38;5;21;01m.\u001b[39;00m\u001b[38;5;21;01mutils\u001b[39;00m\u001b[38;5;21;01m.\u001b[39;00m\u001b[38;5;21;01mevents\u001b[39;00m \u001b[38;5;28;01mimport\u001b[39;00m EventedList\n\u001b[1;32m----> 7\u001b[0m \u001b[38;5;28;01mfrom\u001b[39;00m \u001b[38;5;21;01mqtpy\u001b[39;00m\u001b[38;5;21;01m.\u001b[39;00m\u001b[38;5;21;01mQtWidgets\u001b[39;00m \u001b[38;5;28;01mimport\u001b[39;00m QLabel, QListWidget, QListWidgetItem, QVBoxLayout, QWidget\n\u001b[0;32m      8\u001b[0m \u001b[38;5;28;01mfrom\u001b[39;00m \u001b[38;5;21;01mspatialdata\u001b[39;00m \u001b[38;5;28;01mimport\u001b[39;00m SpatialData\n\u001b[0;32m     10\u001b[0m \u001b[38;5;28;01mfrom\u001b[39;00m \u001b[38;5;21;01mnapari_spatialdata\u001b[39;00m\u001b[38;5;21;01m.\u001b[39;00m\u001b[38;5;21;01m_viewer\u001b[39;00m \u001b[38;5;28;01mimport\u001b[39;00m SpatialDataViewer\n",
      "File \u001b[1;32mc:\\Users\\ge37voy\\AppData\\Local\\miniconda3\\envs\\spatialdata\\lib\\site-packages\\qtpy\\__init__.py:287\u001b[0m\n\u001b[0;32m    284\u001b[0m     QT6 \u001b[38;5;241m=\u001b[39m PYSIDE6 \u001b[38;5;241m=\u001b[39m \u001b[38;5;28;01mTrue\u001b[39;00m\n\u001b[0;32m    286\u001b[0m \u001b[38;5;28;01mexcept\u001b[39;00m \u001b[38;5;167;01mImportError\u001b[39;00m:\n\u001b[1;32m--> 287\u001b[0m     \u001b[38;5;28;01mraise\u001b[39;00m QtBindingsNotFoundError \u001b[38;5;28;01mfrom\u001b[39;00m \u001b[38;5;28;01mNone\u001b[39;00m\n\u001b[0;32m    288\u001b[0m \u001b[38;5;28;01melse\u001b[39;00m:\n\u001b[0;32m    289\u001b[0m     os\u001b[38;5;241m.\u001b[39menviron[QT_API] \u001b[38;5;241m=\u001b[39m API\n",
      "\u001b[1;31mQtBindingsNotFoundError\u001b[0m: No Qt bindings could be found"
     ]
    }
   ],
   "source": [
    "import spatialdata_io\n",
    "from napari_spatialdata import Interactive"
   ]
  },
  {
   "cell_type": "code",
   "execution_count": null,
   "metadata": {},
   "outputs": [],
   "source": [
    "file = r\"C:\\Users\\ge37voy\\OneDrive - TUM\\data\\2301_CRC\\2301-01_20230504_CRC\\01_xenium_data_crc\\output-XETG00050__0003621__Region_1__20230504__121954\""
   ]
  },
  {
   "cell_type": "code",
   "execution_count": 3,
   "metadata": {},
   "outputs": [
    {
     "name": "stdout",
     "output_type": "stream",
     "text": [
      "\u001b[34mINFO    \u001b[0m reading C:\\Users\\ge37voy\\OneDrive -                                                                       \n",
      "         TUM\\data\\2301_CRC\\\u001b[1;36m2301\u001b[0m-01_20230504_CRC\\01_xenium_data_crc\\output-XETG00050__0003621__Region_1__20230504__1\n",
      "         21954\\cell_feature_matrix.h5                                                                              \n"
     ]
    },
    {
     "name": "stderr",
     "output_type": "stream",
     "text": [
      "C:\\Users\\ge37voy\\AppData\\Roaming\\Python\\Python39\\site-packages\\spatialdata_io\\readers\\xenium.py:197: UserWarning: Converting `region_key: region` to categorical dtype.\n",
      "  table = TableModel.parse(adata, region=specs[\"region\"], region_key=\"region\", instance_key=str(XeniumKeys.CELL_ID))\n"
     ]
    }
   ],
   "source": [
    "sd = spatialdata_io.xenium(file)"
   ]
  },
  {
   "cell_type": "code",
   "execution_count": 4,
   "metadata": {},
   "outputs": [
    {
     "data": {
      "text/plain": [
       "SpatialData object with:\n",
       "├── Images\n",
       "│     ├── 'morphology_focus': MultiscaleSpatialImage[cyx] (1, 27352, 34139), (1, 13676, 17069), (1, 6838, 8534), (1, 3419, 4267), (1, 1709, 2133)\n",
       "│     └── 'morphology_mip': MultiscaleSpatialImage[cyx] (1, 27352, 34139), (1, 13676, 17069), (1, 6838, 8534), (1, 3419, 4267), (1, 1709, 2133)\n",
       "├── Points\n",
       "│     └── 'transcripts': DataFrame with shape: (<Delayed>, 10) (3D points)\n",
       "├── Shapes\n",
       "│     ├── 'cell_boundaries': GeoDataFrame shape: (151305, 1) (2D shapes)\n",
       "│     └── 'nucleus_boundaries': GeoDataFrame shape: (151305, 1) (2D shapes)\n",
       "└── Table\n",
       "      └── AnnData object with n_obs × n_vars = 151305 × 280\n",
       "    obs: 'cell_id', 'transcript_counts', 'control_probe_counts', 'control_codeword_counts', 'unassigned_codeword_counts', 'total_counts', 'cell_area', 'nucleus_area', 'region'\n",
       "    var: 'gene_ids', 'feature_types', 'genome'\n",
       "    uns: 'spatialdata_attrs'\n",
       "    obsm: 'spatial': AnnData (151305, 280)\n",
       "with coordinate systems:\n",
       "▸ 'global', with elements:\n",
       "        morphology_focus (Images), morphology_mip (Images), transcripts (Points), cell_boundaries (Shapes), nucleus_boundaries (Shapes)"
      ]
     },
     "execution_count": 4,
     "metadata": {},
     "output_type": "execute_result"
    }
   ],
   "source": [
    "sd"
   ]
  },
  {
   "cell_type": "code",
   "execution_count": 5,
   "metadata": {},
   "outputs": [
    {
     "ename": "QtBindingsNotFoundError",
     "evalue": "No Qt bindings could be found",
     "output_type": "error",
     "traceback": [
      "\u001b[1;31m---------------------------------------------------------------------------\u001b[0m",
      "\u001b[1;31mQtBindingsNotFoundError\u001b[0m                   Traceback (most recent call last)",
      "Cell \u001b[1;32mIn[5], line 1\u001b[0m\n\u001b[1;32m----> 1\u001b[0m \u001b[38;5;28;01mfrom\u001b[39;00m \u001b[38;5;21;01mnapari_spatialdata\u001b[39;00m \u001b[38;5;28;01mimport\u001b[39;00m Interactive\n",
      "File \u001b[1;32mc:\\Users\\ge37voy\\AppData\\Local\\miniconda3\\envs\\spatialdata\\lib\\site-packages\\napari_spatialdata\\__init__.py:15\u001b[0m\n\u001b[0;32m     11\u001b[0m     __full_version__ \u001b[38;5;241m=\u001b[39m __version__\n\u001b[0;32m     13\u001b[0m \u001b[38;5;28;01mdel\u001b[39;00m version, parse\n\u001b[1;32m---> 15\u001b[0m \u001b[38;5;28;01mfrom\u001b[39;00m \u001b[38;5;21;01mnapari_spatialdata\u001b[39;00m\u001b[38;5;21;01m.\u001b[39;00m\u001b[38;5;21;01m_interactive\u001b[39;00m \u001b[38;5;28;01mimport\u001b[39;00m Interactive \u001b[38;5;28;01mas\u001b[39;00m Interactive  \u001b[38;5;66;03m# noqa: E402\u001b[39;00m\n\u001b[0;32m     16\u001b[0m \u001b[38;5;28;01mfrom\u001b[39;00m \u001b[38;5;21;01mnapari_spatialdata\u001b[39;00m\u001b[38;5;21;01m.\u001b[39;00m\u001b[38;5;21;01m_reader\u001b[39;00m \u001b[38;5;28;01mimport\u001b[39;00m get_reader  \u001b[38;5;66;03m# noqa: E402\u001b[39;00m\n\u001b[0;32m     17\u001b[0m \u001b[38;5;28;01mfrom\u001b[39;00m \u001b[38;5;21;01mnapari_spatialdata\u001b[39;00m\u001b[38;5;21;01m.\u001b[39;00m\u001b[38;5;21;01m_view\u001b[39;00m \u001b[38;5;28;01mimport\u001b[39;00m (  \u001b[38;5;66;03m# noqa: E402\u001b[39;00m\n\u001b[0;32m     18\u001b[0m     QtAdataScatterWidget,\n\u001b[0;32m     19\u001b[0m     QtAdataViewWidget,\n\u001b[0;32m     20\u001b[0m )\n",
      "File \u001b[1;32mc:\\Users\\ge37voy\\AppData\\Local\\miniconda3\\envs\\spatialdata\\lib\\site-packages\\napari_spatialdata\\_interactive.py:8\u001b[0m\n\u001b[0;32m      5\u001b[0m \u001b[38;5;28;01mimport\u001b[39;00m \u001b[38;5;21;01mnapari\u001b[39;00m\n\u001b[0;32m      6\u001b[0m \u001b[38;5;28;01mfrom\u001b[39;00m \u001b[38;5;21;01mnapari\u001b[39;00m\u001b[38;5;21;01m.\u001b[39;00m\u001b[38;5;21;01mutils\u001b[39;00m\u001b[38;5;21;01m.\u001b[39;00m\u001b[38;5;21;01mevents\u001b[39;00m \u001b[38;5;28;01mimport\u001b[39;00m EventedList\n\u001b[1;32m----> 8\u001b[0m \u001b[38;5;28;01mfrom\u001b[39;00m \u001b[38;5;21;01mnapari_spatialdata\u001b[39;00m\u001b[38;5;21;01m.\u001b[39;00m\u001b[38;5;21;01m_sdata_widgets\u001b[39;00m \u001b[38;5;28;01mimport\u001b[39;00m SdataWidget\n\u001b[0;32m      9\u001b[0m \u001b[38;5;28;01mfrom\u001b[39;00m \u001b[38;5;21;01mnapari_spatialdata\u001b[39;00m\u001b[38;5;21;01m.\u001b[39;00m\u001b[38;5;21;01mutils\u001b[39;00m\u001b[38;5;21;01m.\u001b[39;00m\u001b[38;5;21;01m_utils\u001b[39;00m \u001b[38;5;28;01mimport\u001b[39;00m (\n\u001b[0;32m     10\u001b[0m     NDArrayA,\n\u001b[0;32m     11\u001b[0m     get_duplicate_element_names,\n\u001b[0;32m     12\u001b[0m     get_elements_meta_mapping,\n\u001b[0;32m     13\u001b[0m     get_itemindex_by_text,\n\u001b[0;32m     14\u001b[0m )\n\u001b[0;32m     16\u001b[0m \u001b[38;5;28;01mif\u001b[39;00m TYPE_CHECKING:\n",
      "File \u001b[1;32mc:\\Users\\ge37voy\\AppData\\Local\\miniconda3\\envs\\spatialdata\\lib\\site-packages\\napari_spatialdata\\_sdata_widgets.py:7\u001b[0m\n\u001b[0;32m      5\u001b[0m \u001b[38;5;28;01mimport\u001b[39;00m \u001b[38;5;21;01mshapely\u001b[39;00m\n\u001b[0;32m      6\u001b[0m \u001b[38;5;28;01mfrom\u001b[39;00m \u001b[38;5;21;01mnapari\u001b[39;00m\u001b[38;5;21;01m.\u001b[39;00m\u001b[38;5;21;01mutils\u001b[39;00m\u001b[38;5;21;01m.\u001b[39;00m\u001b[38;5;21;01mevents\u001b[39;00m \u001b[38;5;28;01mimport\u001b[39;00m EventedList\n\u001b[1;32m----> 7\u001b[0m \u001b[38;5;28;01mfrom\u001b[39;00m \u001b[38;5;21;01mqtpy\u001b[39;00m\u001b[38;5;21;01m.\u001b[39;00m\u001b[38;5;21;01mQtWidgets\u001b[39;00m \u001b[38;5;28;01mimport\u001b[39;00m QLabel, QListWidget, QListWidgetItem, QVBoxLayout, QWidget\n\u001b[0;32m      8\u001b[0m \u001b[38;5;28;01mfrom\u001b[39;00m \u001b[38;5;21;01mspatialdata\u001b[39;00m \u001b[38;5;28;01mimport\u001b[39;00m SpatialData\n\u001b[0;32m     10\u001b[0m \u001b[38;5;28;01mfrom\u001b[39;00m \u001b[38;5;21;01mnapari_spatialdata\u001b[39;00m\u001b[38;5;21;01m.\u001b[39;00m\u001b[38;5;21;01m_viewer\u001b[39;00m \u001b[38;5;28;01mimport\u001b[39;00m SpatialDataViewer\n",
      "File \u001b[1;32mc:\\Users\\ge37voy\\AppData\\Local\\miniconda3\\envs\\spatialdata\\lib\\site-packages\\qtpy\\__init__.py:287\u001b[0m\n\u001b[0;32m    284\u001b[0m     QT6 \u001b[38;5;241m=\u001b[39m PYSIDE6 \u001b[38;5;241m=\u001b[39m \u001b[38;5;28;01mTrue\u001b[39;00m\n\u001b[0;32m    286\u001b[0m \u001b[38;5;28;01mexcept\u001b[39;00m \u001b[38;5;167;01mImportError\u001b[39;00m:\n\u001b[1;32m--> 287\u001b[0m     \u001b[38;5;28;01mraise\u001b[39;00m QtBindingsNotFoundError \u001b[38;5;28;01mfrom\u001b[39;00m \u001b[38;5;28;01mNone\u001b[39;00m\n\u001b[0;32m    288\u001b[0m \u001b[38;5;28;01melse\u001b[39;00m:\n\u001b[0;32m    289\u001b[0m     os\u001b[38;5;241m.\u001b[39menviron[QT_API] \u001b[38;5;241m=\u001b[39m API\n",
      "\u001b[1;31mQtBindingsNotFoundError\u001b[0m: No Qt bindings could be found"
     ]
    }
   ],
   "source": []
  },
  {
   "cell_type": "code",
   "execution_count": null,
   "metadata": {},
   "outputs": [],
   "source": []
  }
 ],
 "metadata": {
  "kernelspec": {
   "display_name": "spatialdata",
   "language": "python",
   "name": "python3"
  },
  "language_info": {
   "codemirror_mode": {
    "name": "ipython",
    "version": 3
   },
   "file_extension": ".py",
   "mimetype": "text/x-python",
   "name": "python",
   "nbconvert_exporter": "python",
   "pygments_lexer": "ipython3",
   "version": "3.9.18"
  }
 },
 "nbformat": 4,
 "nbformat_minor": 2
}
