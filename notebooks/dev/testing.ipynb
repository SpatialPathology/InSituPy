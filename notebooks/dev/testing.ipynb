{
 "cells": [
  {
   "cell_type": "code",
   "execution_count": 1,
   "metadata": {},
   "outputs": [],
   "source": [
    "## The following code ensures that all functions and init files are reloaded before executions.\n",
    "%load_ext autoreload\n",
    "%autoreload 2"
   ]
  },
  {
   "cell_type": "code",
   "execution_count": 2,
   "metadata": {},
   "outputs": [],
   "source": [
    "import anndata\n",
    "from pathlib import Path\n",
    "import scanpy as sc\n",
    "\n",
    "from insitupy import XeniumData\n",
    "from insitupy.utils.qc import find_xenium_outputs, collect_qc_data, plot_qc"
   ]
  },
  {
   "cell_type": "code",
   "execution_count": 3,
   "metadata": {},
   "outputs": [
    {
     "data": {
      "text/plain": [
       "'Xenium_FFPE_Human_Breast_Cancer_Rep1_outs.zip'"
      ]
     },
     "execution_count": 3,
     "metadata": {},
     "output_type": "execute_result"
    }
   ],
   "source": [
    "Path(\"https://cf.10xgenomics.com/samples/xenium/1.0.1/Xenium_FFPE_Human_Breast_Cancer_Rep1/Xenium_FFPE_Human_Breast_Cancer_Rep1_outs.zip\").name"
   ]
  },
  {
   "cell_type": "markdown",
   "metadata": {},
   "source": [
    "## Load data"
   ]
  },
  {
   "cell_type": "code",
   "execution_count": 3,
   "metadata": {},
   "outputs": [],
   "source": [
    "datadir = Path(\"C:/Users/ge37voy/OneDrive - TUM/data/2315_VascularCancer_Mogler/2315-02-glioblastoma/20240112__122324__2315-02-Glioblastoma/\")\n",
    "\n",
    "# collect all out Xenium output folders\n",
    "outfolders = list(datadir.glob(\"output-*\"))"
   ]
  },
  {
   "cell_type": "code",
   "execution_count": 29,
   "metadata": {},
   "outputs": [
    {
     "data": {
      "text/plain": [
       "[WindowsPath('C:/Users/ge37voy/OneDrive - TUM/data/2315_VascularCancer_Mogler/2315-02-glioblastoma/20240112__122324__2315-02-Glioblastoma/output-XETG00050__0017321__N-1445-19-N__20240112__124239'),\n",
       " WindowsPath('C:/Users/ge37voy/OneDrive - TUM/data/2315_VascularCancer_Mogler/2315-02-glioblastoma/20240112__122324__2315-02-Glioblastoma/output-XETG00050__0017321__N-1445-19-T__20240112__124239'),\n",
       " WindowsPath('C:/Users/ge37voy/OneDrive - TUM/data/2315_VascularCancer_Mogler/2315-02-glioblastoma/20240112__122324__2315-02-Glioblastoma/output-XETG00050__0017321__N-1993-15-T__20240112__124239'),\n",
       " WindowsPath('C:/Users/ge37voy/OneDrive - TUM/data/2315_VascularCancer_Mogler/2315-02-glioblastoma/20240112__122324__2315-02-Glioblastoma/output-XETG00050__0017321__N-2070-20-N__20240112__124239'),\n",
       " WindowsPath('C:/Users/ge37voy/OneDrive - TUM/data/2315_VascularCancer_Mogler/2315-02-glioblastoma/20240112__122324__2315-02-Glioblastoma/output-XETG00050__0017321__N-2070-20-T__20240112__124239'),\n",
       " WindowsPath('C:/Users/ge37voy/OneDrive - TUM/data/2315_VascularCancer_Mogler/2315-02-glioblastoma/20240112__122324__2315-02-Glioblastoma/output-XETG00050__0017321__N-436-21-N__20240112__124239'),\n",
       " WindowsPath('C:/Users/ge37voy/OneDrive - TUM/data/2315_VascularCancer_Mogler/2315-02-glioblastoma/20240112__122324__2315-02-Glioblastoma/output-XETG00050__0017321__N-436-21-T__20240112__124239'),\n",
       " WindowsPath('C:/Users/ge37voy/OneDrive - TUM/data/2315_VascularCancer_Mogler/2315-02-glioblastoma/20240112__122324__2315-02-Glioblastoma/output-XETG00050__0017321__N-851-22-N__20240112__124239'),\n",
       " WindowsPath('C:/Users/ge37voy/OneDrive - TUM/data/2315_VascularCancer_Mogler/2315-02-glioblastoma/20240112__122324__2315-02-Glioblastoma/output-XETG00050__0017321__N-851-22-T__20240112__124239')]"
      ]
     },
     "execution_count": 29,
     "metadata": {},
     "output_type": "execute_result"
    }
   ],
   "source": [
    "outfolders"
   ]
  },
  {
   "cell_type": "code",
   "execution_count": 30,
   "metadata": {},
   "outputs": [],
   "source": [
    "xd = XeniumData(outfolders[5])"
   ]
  },
  {
   "cell_type": "code",
   "execution_count": 31,
   "metadata": {},
   "outputs": [
    {
     "data": {
      "text/plain": [
       "\u001b[1m\u001b[31mXeniumData\u001b[0m\n",
       "\u001b[1mSlide ID:\u001b[0m\t0017321\n",
       "\u001b[1mSample ID:\u001b[0m\tN-436-21-N\n",
       "\u001b[1mData path:\u001b[0m\tC:\\Users\\ge37voy\\OneDrive - TUM\\data\\2315_VascularCancer_Mogler\\2315-02-glioblastoma\\20240112__122324__2315-02-Glioblastoma\n",
       "\u001b[1mData folder:\u001b[0m\toutput-XETG00050__0017321__N-436-21-N__20240112__124239\n",
       "\u001b[1mMetadata file:\u001b[0m\texperiment_modified.xenium"
      ]
     },
     "execution_count": 31,
     "metadata": {},
     "output_type": "execute_result"
    }
   ],
   "source": [
    "xd"
   ]
  },
  {
   "cell_type": "code",
   "execution_count": 32,
   "metadata": {},
   "outputs": [
    {
     "name": "stdout",
     "output_type": "stream",
     "text": [
      "Reading annotations...\n",
      "No `annotations` modality found.\n",
      "Reading cells...\n",
      "Reading images...\n",
      "Reading regions...\n",
      "No `regions` modality found.\n",
      "Reading transcripts...\n"
     ]
    }
   ],
   "source": [
    "xd.read_all()"
   ]
  },
  {
   "cell_type": "code",
   "execution_count": 33,
   "metadata": {},
   "outputs": [
    {
     "data": {
      "text/plain": [
       "\u001b[1m\u001b[31mXeniumData\u001b[0m\n",
       "\u001b[1mSlide ID:\u001b[0m\t0017321\n",
       "\u001b[1mSample ID:\u001b[0m\tN-436-21-N\n",
       "\u001b[1mData path:\u001b[0m\tC:\\Users\\ge37voy\\OneDrive - TUM\\data\\2315_VascularCancer_Mogler\\2315-02-glioblastoma\\20240112__122324__2315-02-Glioblastoma\n",
       "\u001b[1mData folder:\u001b[0m\toutput-XETG00050__0017321__N-436-21-N__20240112__124239\n",
       "\u001b[1mMetadata file:\u001b[0m\texperiment_modified.xenium\n",
       "    ➤ \u001b[34m\u001b[1mimages\u001b[0m\n",
       "       \u001b[1mnuclei:\u001b[0m\t(20476, 22820)\n",
       "       \u001b[1mHE:\u001b[0m\t(20476, 22820, 3)\n",
       "    ➤\u001b[32m\u001b[1m cells\u001b[0m\n",
       "       \u001b[1mmatrix\u001b[0m\n",
       "           AnnData object with n_obs × n_vars = 72004 × 314\n",
       "           obs: 'transcript_counts', 'control_probe_counts', 'control_codeword_counts', 'unassigned_codeword_counts', 'deprecated_codeword_counts', 'total_counts', 'cell_area', 'nucleus_area'\n",
       "           var: 'gene_ids', 'feature_types', 'genome'\n",
       "           obsm: 'spatial'\n",
       "       \u001b[1mboundaries\u001b[0m\n",
       "           BoundariesData object with 2 entries:\n",
       "               \u001b[1mcellular\u001b[0m\n",
       "               \u001b[1mnuclear\u001b[0m\n",
       "    ➤\u001b[95m\u001b[1m transcripts\u001b[0m\n",
       "       DataFrame with shape 13063085 x 10"
      ]
     },
     "execution_count": 33,
     "metadata": {},
     "output_type": "execute_result"
    }
   ],
   "source": [
    "xd"
   ]
  },
  {
   "cell_type": "code",
   "execution_count": 36,
   "metadata": {},
   "outputs": [],
   "source": [
    "from collections import OrderedDict\n",
    "import numpy as np"
   ]
  },
  {
   "cell_type": "code",
   "execution_count": 37,
   "metadata": {},
   "outputs": [],
   "source": [
    "d = OrderedDict({\n",
    "    \"Transcript filtering\": ['a'],\n",
    "    \"Baysor preview\": [],\n",
    "    \"Baysor run\": [],\n",
    "    \"File conversion\": []\n",
    "})"
   ]
  },
  {
   "cell_type": "code",
   "execution_count": 38,
   "metadata": {},
   "outputs": [],
   "source": [
    "ar = [None, None, None]"
   ]
  },
  {
   "cell_type": "code",
   "execution_count": 2,
   "metadata": {},
   "outputs": [],
   "source": [
    "import shlex"
   ]
  },
  {
   "cell_type": "code",
   "execution_count": 5,
   "metadata": {},
   "outputs": [],
   "source": [
    "command = \"baysor run /tmp/tmpgj3icy36/transcripts_filtered.csv :cell_id_renamed -x x_location -y y_location -z z_location -g feature_name -m 15 --prior-segmentation-confidence 0.5 --output /dss/dssfs02/lwp-dss-0001/pn57fo/pn57fo-dss-0000/projects/2315_VascularCancer_Mogler/2315-01/aligned_data/baysor_out_N-486-22-T -p && python filter.script --run\""
   ]
  },
  {
   "cell_type": "code",
   "execution_count": 6,
   "metadata": {},
   "outputs": [
    {
     "data": {
      "text/plain": [
       "['baysor',\n",
       " 'run',\n",
       " '/tmp/tmpgj3icy36/transcripts_filtered.csv',\n",
       " ':cell_id_renamed',\n",
       " '-x',\n",
       " 'x_location',\n",
       " '-y',\n",
       " 'y_location',\n",
       " '-z',\n",
       " 'z_location',\n",
       " '-g',\n",
       " 'feature_name',\n",
       " '-m',\n",
       " '15',\n",
       " '--prior-segmentation-confidence',\n",
       " '0.5',\n",
       " '--output',\n",
       " '/dss/dssfs02/lwp-dss-0001/pn57fo/pn57fo-dss-0000/projects/2315_VascularCancer_Mogler/2315-01/aligned_data/baysor_out_N-486-22-T',\n",
       " '-p',\n",
       " '&&',\n",
       " 'python',\n",
       " 'filter.script',\n",
       " '--run']"
      ]
     },
     "execution_count": 6,
     "metadata": {},
     "output_type": "execute_result"
    }
   ],
   "source": [
    "shlex.split(command)"
   ]
  },
  {
   "cell_type": "code",
   "execution_count": null,
   "metadata": {},
   "outputs": [],
   "source": [
    "from subprocess import Popen"
   ]
  },
  {
   "cell_type": "code",
   "execution_count": 7,
   "metadata": {},
   "outputs": [
    {
     "data": {
      "text/plain": [
       "['echo', 'hello world', '>', 'out.out']"
      ]
     },
     "execution_count": 7,
     "metadata": {},
     "output_type": "execute_result"
    }
   ],
   "source": [
    "cmd = 'echo \"hello world\" > out.out'\n",
    "cmd_split = shlex.split(cmd)\n"
   ]
  },
  {
   "cell_type": "code",
   "execution_count": null,
   "metadata": {},
   "outputs": [],
   "source": []
  },
  {
   "cell_type": "code",
   "execution_count": 39,
   "metadata": {},
   "outputs": [
    {
     "data": {
      "text/plain": [
       "False"
      ]
     },
     "execution_count": 39,
     "metadata": {},
     "output_type": "execute_result"
    }
   ],
   "source": [
    "np.any([elem is not None for elem in ar])"
   ]
  },
  {
   "cell_type": "code",
   "execution_count": 40,
   "metadata": {},
   "outputs": [
    {
     "name": "stdout",
     "output_type": "stream",
     "text": [
      "Transcript filtering\n",
      "['a']\n",
      "Baysor preview\n",
      "[]\n",
      "Baysor run\n",
      "[]\n",
      "File conversion\n",
      "[]\n"
     ]
    }
   ],
   "source": [
    "for a, b in d.items():\n",
    "    print(a)\n",
    "    print(b)"
   ]
  },
  {
   "cell_type": "code",
   "execution_count": 41,
   "metadata": {},
   "outputs": [],
   "source": [
    "xd.show()"
   ]
  },
  {
   "cell_type": "code",
   "execution_count": 42,
   "metadata": {},
   "outputs": [],
   "source": [
    "crop = xd.crop(shape_layer=\"Shapes\")"
   ]
  },
  {
   "cell_type": "code",
   "execution_count": 43,
   "metadata": {},
   "outputs": [
    {
     "data": {
      "text/plain": [
       "\u001b[1m\u001b[31mXeniumData\u001b[0m\n",
       "\u001b[1mSlide ID:\u001b[0m\t0017321\n",
       "\u001b[1mSample ID:\u001b[0m\tN-436-21-N\n",
       "\u001b[1mData path:\u001b[0m\tC:\\Users\\ge37voy\\OneDrive - TUM\\data\\2315_VascularCancer_Mogler\\2315-02-glioblastoma\\20240112__122324__2315-02-Glioblastoma\n",
       "\u001b[1mData folder:\u001b[0m\toutput-XETG00050__0017321__N-436-21-N__20240112__124239\n",
       "\u001b[1mMetadata file:\u001b[0m\texperiment_modified.xenium\n",
       "    ➤ \u001b[34m\u001b[1mimages\u001b[0m\n",
       "       \u001b[1mnuclei:\u001b[0m\t(1682, 1646)\n",
       "       \u001b[1mHE:\u001b[0m\t(1682, 1646, 3)\n",
       "    ➤\u001b[32m\u001b[1m cells\u001b[0m\n",
       "       \u001b[1mmatrix\u001b[0m\n",
       "           AnnData object with n_obs × n_vars = 1046 × 314\n",
       "           obs: 'transcript_counts', 'control_probe_counts', 'control_codeword_counts', 'unassigned_codeword_counts', 'deprecated_codeword_counts', 'total_counts', 'cell_area', 'nucleus_area'\n",
       "           var: 'gene_ids', 'feature_types', 'genome'\n",
       "           obsm: 'spatial'\n",
       "       \u001b[1mboundaries\u001b[0m\n",
       "           BoundariesData object with 2 entries:\n",
       "               \u001b[1mcellular\u001b[0m\n",
       "               \u001b[1mnuclear\u001b[0m\n",
       "    ➤\u001b[95m\u001b[1m transcripts\u001b[0m\n",
       "       DataFrame with shape 189588 x 10"
      ]
     },
     "execution_count": 43,
     "metadata": {},
     "output_type": "execute_result"
    }
   ],
   "source": [
    "crop"
   ]
  },
  {
   "cell_type": "code",
   "execution_count": 45,
   "metadata": {},
   "outputs": [],
   "source": [
    "crop.save(r\"C:\\Users\\ge37voy\\Downloads\\tmp\\test\", overwrite=True)"
   ]
  },
  {
   "cell_type": "code",
   "execution_count": 9,
   "metadata": {},
   "outputs": [],
   "source": [
    "import napari"
   ]
  },
  {
   "cell_type": "code",
   "execution_count": 10,
   "metadata": {},
   "outputs": [
    {
     "data": {
      "text/plain": [
       "'0.4.19'"
      ]
     },
     "execution_count": 10,
     "metadata": {},
     "output_type": "execute_result"
    }
   ],
   "source": [
    "napari.__version__"
   ]
  },
  {
   "cell_type": "code",
   "execution_count": 48,
   "metadata": {},
   "outputs": [
    {
     "data": {
      "text/plain": [
       "['a', 'b']"
      ]
     },
     "execution_count": 48,
     "metadata": {},
     "output_type": "execute_result"
    }
   ],
   "source": [
    "[] + [\"a\", \"b\"]"
   ]
  },
  {
   "cell_type": "code",
   "execution_count": 24,
   "metadata": {},
   "outputs": [],
   "source": [
    "import tempfile\n",
    "import pandas as pd\n",
    "from os.path import realpath\n",
    "import shutil"
   ]
  },
  {
   "cell_type": "code",
   "execution_count": 17,
   "metadata": {},
   "outputs": [
    {
     "name": "stdout",
     "output_type": "stream",
     "text": [
      "C:\\Users\\ge37voy\\AppData\\Local\\Temp\\tmpw7qd0tfe\n"
     ]
    }
   ],
   "source": [
    "with tempfile.TemporaryDirectory() as tmpdir:\n",
    "    print(tmpdir)\n",
    "    tmpdir = Path(tmpdir)\n",
    "    tmpfile = tmpdir / \"test.csv\"\n",
    "    xd.transcripts.to_csv(tmpfile)\n",
    "    \n",
    "    df = pd.read_csv(tmpfile)"
   ]
  },
  {
   "cell_type": "code",
   "execution_count": 33,
   "metadata": {},
   "outputs": [
    {
     "name": "stdout",
     "output_type": "stream",
     "text": [
      "C:\\Users\\ge37voy\\AppData\\Local\\Temp\\tmpmahjmk16\n"
     ]
    }
   ],
   "source": [
    "tmpdir = Path(tempfile.mkdtemp())\n",
    "print(tmpdir)"
   ]
  },
  {
   "cell_type": "code",
   "execution_count": 31,
   "metadata": {},
   "outputs": [
    {
     "data": {
      "text/plain": [
       "True"
      ]
     },
     "execution_count": 31,
     "metadata": {},
     "output_type": "execute_result"
    }
   ],
   "source": [
    "Path(tmpdir).exists()"
   ]
  },
  {
   "cell_type": "code",
   "execution_count": 32,
   "metadata": {},
   "outputs": [],
   "source": [
    "shutil.rmtree(tmpdir)"
   ]
  },
  {
   "cell_type": "code",
   "execution_count": null,
   "metadata": {},
   "outputs": [],
   "source": []
  },
  {
   "cell_type": "code",
   "execution_count": 18,
   "metadata": {},
   "outputs": [
    {
     "data": {
      "text/plain": [
       "'C:\\\\Users\\\\ge37voy\\\\AppData\\\\Local\\\\Temp'"
      ]
     },
     "execution_count": 18,
     "metadata": {},
     "output_type": "execute_result"
    }
   ],
   "source": [
    "tempfile.gettempdir()"
   ]
  },
  {
   "cell_type": "code",
   "execution_count": 19,
   "metadata": {},
   "outputs": [],
   "source": [
    "xd.show()"
   ]
  },
  {
   "cell_type": "code",
   "execution_count": 16,
   "metadata": {},
   "outputs": [
    {
     "ename": "NameError",
     "evalue": "name '__file__' is not defined",
     "output_type": "error",
     "traceback": [
      "\u001b[1;31m---------------------------------------------------------------------------\u001b[0m",
      "\u001b[1;31mNameError\u001b[0m                                 Traceback (most recent call last)",
      "Cell \u001b[1;32mIn[16], line 1\u001b[0m\n\u001b[1;32m----> 1\u001b[0m Path(realpath(\u001b[38;5;18;43m__file__\u001b[39;49m))\n",
      "\u001b[1;31mNameError\u001b[0m: name '__file__' is not defined"
     ]
    }
   ],
   "source": [
    "Path(realpath(__file__))"
   ]
  },
  {
   "cell_type": "code",
   "execution_count": 9,
   "metadata": {},
   "outputs": [
    {
     "data": {
      "text/html": [
       "<div>\n",
       "<style scoped>\n",
       "    .dataframe tbody tr th:only-of-type {\n",
       "        vertical-align: middle;\n",
       "    }\n",
       "\n",
       "    .dataframe tbody tr th {\n",
       "        vertical-align: top;\n",
       "    }\n",
       "\n",
       "    .dataframe thead th {\n",
       "        text-align: right;\n",
       "    }\n",
       "</style>\n",
       "<table border=\"1\" class=\"dataframe\">\n",
       "  <thead>\n",
       "    <tr style=\"text-align: right;\">\n",
       "      <th></th>\n",
       "      <th>transcript_id</th>\n",
       "      <th>cell_id</th>\n",
       "      <th>overlaps_nucleus</th>\n",
       "      <th>feature_name</th>\n",
       "      <th>x_location</th>\n",
       "      <th>y_location</th>\n",
       "      <th>z_location</th>\n",
       "      <th>qv</th>\n",
       "      <th>fov_name</th>\n",
       "      <th>nucleus_distance</th>\n",
       "    </tr>\n",
       "  </thead>\n",
       "  <tbody>\n",
       "    <tr>\n",
       "      <th>0</th>\n",
       "      <td>281474976710656</td>\n",
       "      <td>UNASSIGNED</td>\n",
       "      <td>0</td>\n",
       "      <td>PARP1</td>\n",
       "      <td>131.127197</td>\n",
       "      <td>233.686935</td>\n",
       "      <td>14.904863</td>\n",
       "      <td>40.000000</td>\n",
       "      <td>A10</td>\n",
       "      <td>207.525360</td>\n",
       "    </tr>\n",
       "    <tr>\n",
       "      <th>1</th>\n",
       "      <td>281474976713084</td>\n",
       "      <td>UNASSIGNED</td>\n",
       "      <td>0</td>\n",
       "      <td>ACTN2</td>\n",
       "      <td>101.329865</td>\n",
       "      <td>158.191437</td>\n",
       "      <td>15.056396</td>\n",
       "      <td>28.386402</td>\n",
       "      <td>A10</td>\n",
       "      <td>287.972443</td>\n",
       "    </tr>\n",
       "    <tr>\n",
       "      <th>2</th>\n",
       "      <td>281474976713105</td>\n",
       "      <td>UNASSIGNED</td>\n",
       "      <td>0</td>\n",
       "      <td>SIRPA</td>\n",
       "      <td>221.381378</td>\n",
       "      <td>188.989319</td>\n",
       "      <td>14.750847</td>\n",
       "      <td>40.000000</td>\n",
       "      <td>A10</td>\n",
       "      <td>202.944839</td>\n",
       "    </tr>\n",
       "    <tr>\n",
       "      <th>3</th>\n",
       "      <td>281474976715236</td>\n",
       "      <td>UNASSIGNED</td>\n",
       "      <td>0</td>\n",
       "      <td>SIRPA</td>\n",
       "      <td>47.687836</td>\n",
       "      <td>110.987190</td>\n",
       "      <td>15.135176</td>\n",
       "      <td>17.672949</td>\n",
       "      <td>A10</td>\n",
       "      <td>355.727631</td>\n",
       "    </tr>\n",
       "    <tr>\n",
       "      <th>4</th>\n",
       "      <td>281474976715245</td>\n",
       "      <td>UNASSIGNED</td>\n",
       "      <td>0</td>\n",
       "      <td>SIRPA</td>\n",
       "      <td>223.537552</td>\n",
       "      <td>211.742218</td>\n",
       "      <td>14.713785</td>\n",
       "      <td>40.000000</td>\n",
       "      <td>A10</td>\n",
       "      <td>182.017700</td>\n",
       "    </tr>\n",
       "    <tr>\n",
       "      <th>...</th>\n",
       "      <td>...</td>\n",
       "      <td>...</td>\n",
       "      <td>...</td>\n",
       "      <td>...</td>\n",
       "      <td>...</td>\n",
       "      <td>...</td>\n",
       "      <td>...</td>\n",
       "      <td>...</td>\n",
       "      <td>...</td>\n",
       "      <td>...</td>\n",
       "    </tr>\n",
       "    <tr>\n",
       "      <th>1095982</th>\n",
       "      <td>281586645861426</td>\n",
       "      <td>UNASSIGNED</td>\n",
       "      <td>0</td>\n",
       "      <td>SEMA3C</td>\n",
       "      <td>4792.373535</td>\n",
       "      <td>2832.877197</td>\n",
       "      <td>10.180483</td>\n",
       "      <td>20.934530</td>\n",
       "      <td>D17</td>\n",
       "      <td>241.148361</td>\n",
       "    </tr>\n",
       "    <tr>\n",
       "      <th>1095983</th>\n",
       "      <td>281586645861707</td>\n",
       "      <td>UNASSIGNED</td>\n",
       "      <td>0</td>\n",
       "      <td>SELENOP</td>\n",
       "      <td>4786.158203</td>\n",
       "      <td>2904.505615</td>\n",
       "      <td>10.023684</td>\n",
       "      <td>23.381475</td>\n",
       "      <td>D17</td>\n",
       "      <td>307.391663</td>\n",
       "    </tr>\n",
       "    <tr>\n",
       "      <th>1095984</th>\n",
       "      <td>281586645862012</td>\n",
       "      <td>UNASSIGNED</td>\n",
       "      <td>0</td>\n",
       "      <td>EDN1</td>\n",
       "      <td>4832.786133</td>\n",
       "      <td>2830.980225</td>\n",
       "      <td>10.415154</td>\n",
       "      <td>40.000000</td>\n",
       "      <td>D17</td>\n",
       "      <td>256.771667</td>\n",
       "    </tr>\n",
       "    <tr>\n",
       "      <th>1095985</th>\n",
       "      <td>281586645862225</td>\n",
       "      <td>UNASSIGNED</td>\n",
       "      <td>0</td>\n",
       "      <td>UnassignedCodeword_0407</td>\n",
       "      <td>4805.250488</td>\n",
       "      <td>2782.770264</td>\n",
       "      <td>10.210635</td>\n",
       "      <td>1.560612</td>\n",
       "      <td>D17</td>\n",
       "      <td>201.252304</td>\n",
       "    </tr>\n",
       "    <tr>\n",
       "      <th>1095986</th>\n",
       "      <td>281586645862226</td>\n",
       "      <td>UNASSIGNED</td>\n",
       "      <td>0</td>\n",
       "      <td>XRCC5</td>\n",
       "      <td>4816.228516</td>\n",
       "      <td>2820.079102</td>\n",
       "      <td>10.117906</td>\n",
       "      <td>21.297773</td>\n",
       "      <td>D17</td>\n",
       "      <td>239.278275</td>\n",
       "    </tr>\n",
       "  </tbody>\n",
       "</table>\n",
       "<p>1095987 rows × 10 columns</p>\n",
       "</div>"
      ],
      "text/plain": [
       "           transcript_id     cell_id  overlaps_nucleus  \\\n",
       "0        281474976710656  UNASSIGNED                 0   \n",
       "1        281474976713084  UNASSIGNED                 0   \n",
       "2        281474976713105  UNASSIGNED                 0   \n",
       "3        281474976715236  UNASSIGNED                 0   \n",
       "4        281474976715245  UNASSIGNED                 0   \n",
       "...                  ...         ...               ...   \n",
       "1095982  281586645861426  UNASSIGNED                 0   \n",
       "1095983  281586645861707  UNASSIGNED                 0   \n",
       "1095984  281586645862012  UNASSIGNED                 0   \n",
       "1095985  281586645862225  UNASSIGNED                 0   \n",
       "1095986  281586645862226  UNASSIGNED                 0   \n",
       "\n",
       "                    feature_name   x_location   y_location  z_location  \\\n",
       "0                          PARP1   131.127197   233.686935   14.904863   \n",
       "1                          ACTN2   101.329865   158.191437   15.056396   \n",
       "2                          SIRPA   221.381378   188.989319   14.750847   \n",
       "3                          SIRPA    47.687836   110.987190   15.135176   \n",
       "4                          SIRPA   223.537552   211.742218   14.713785   \n",
       "...                          ...          ...          ...         ...   \n",
       "1095982                   SEMA3C  4792.373535  2832.877197   10.180483   \n",
       "1095983                  SELENOP  4786.158203  2904.505615   10.023684   \n",
       "1095984                     EDN1  4832.786133  2830.980225   10.415154   \n",
       "1095985  UnassignedCodeword_0407  4805.250488  2782.770264   10.210635   \n",
       "1095986                    XRCC5  4816.228516  2820.079102   10.117906   \n",
       "\n",
       "                qv fov_name  nucleus_distance  \n",
       "0        40.000000      A10        207.525360  \n",
       "1        28.386402      A10        287.972443  \n",
       "2        40.000000      A10        202.944839  \n",
       "3        17.672949      A10        355.727631  \n",
       "4        40.000000      A10        182.017700  \n",
       "...            ...      ...               ...  \n",
       "1095982  20.934530      D17        241.148361  \n",
       "1095983  23.381475      D17        307.391663  \n",
       "1095984  40.000000      D17        256.771667  \n",
       "1095985   1.560612      D17        201.252304  \n",
       "1095986  21.297773      D17        239.278275  \n",
       "\n",
       "[1095987 rows x 10 columns]"
      ]
     },
     "execution_count": 9,
     "metadata": {},
     "output_type": "execute_result"
    }
   ],
   "source": [
    "xd.transcripts"
   ]
  },
  {
   "cell_type": "code",
   "execution_count": 8,
   "metadata": {},
   "outputs": [],
   "source": [
    "xd.show()"
   ]
  },
  {
   "cell_type": "code",
   "execution_count": 17,
   "metadata": {},
   "outputs": [],
   "source": [
    "xdcrop = xd.crop(\"Shapes\")"
   ]
  },
  {
   "cell_type": "code",
   "execution_count": 11,
   "metadata": {},
   "outputs": [],
   "source": [
    "xdcrop.show()"
   ]
  },
  {
   "cell_type": "code",
   "execution_count": 18,
   "metadata": {},
   "outputs": [],
   "source": [
    "savedir = Path(r\"C:\\Users\\ge37voy\\Downloads\\tmp\")\n",
    "savefolder = savedir / \"test\""
   ]
  },
  {
   "cell_type": "code",
   "execution_count": 19,
   "metadata": {},
   "outputs": [],
   "source": [
    "xdcrop.save(savefolder, overwrite=True)"
   ]
  },
  {
   "cell_type": "code",
   "execution_count": 3,
   "metadata": {},
   "outputs": [
    {
     "name": "stdout",
     "output_type": "stream",
     "text": [
      "ABD\n"
     ]
    }
   ],
   "source": [
    "def inner(a, b, c):\n",
    "    print(f'{a+b+c}')\n",
    "\n",
    "def outer(func):\n",
    "    func(\"A\", \"B\", \"D\")\n",
    "    \n",
    "outer(inner)"
   ]
  },
  {
   "cell_type": "code",
   "execution_count": 1,
   "metadata": {},
   "outputs": [
    {
     "name": "stdout",
     "output_type": "stream",
     "text": [
      "1\n"
     ]
    }
   ],
   "source": [
    "print(f'{1}')"
   ]
  },
  {
   "cell_type": "code",
   "execution_count": 21,
   "metadata": {},
   "outputs": [],
   "source": [
    "from os.path import relpath, abspath\n",
    "from pathlib import Path"
   ]
  },
  {
   "cell_type": "code",
   "execution_count": 22,
   "metadata": {},
   "outputs": [],
   "source": [
    "a = Path(\"/Users/isabelgiray/Library/\")\n",
    "b = r\"..\\registered_images\\0017321__N-851-22-T__HE__registered.ome.tif\"\n",
    "c = \"..\\\\registered_images\\\\0017321__N-851-22-T__HE__registered.ome.tif\""
   ]
  },
  {
   "cell_type": "code",
   "execution_count": 23,
   "metadata": {},
   "outputs": [
    {
     "data": {
      "text/plain": [
       "'..\\\\registered_images\\\\0017321__N-851-22-T__HE__registered.ome.tif'"
      ]
     },
     "execution_count": 23,
     "metadata": {},
     "output_type": "execute_result"
    }
   ],
   "source": [
    "str(Path(c))"
   ]
  },
  {
   "cell_type": "code",
   "execution_count": 46,
   "metadata": {},
   "outputs": [
    {
     "data": {
      "text/plain": [
       "'c:/Users/ge37voy/Github/InSituPy/notebooks/registered_images/0017321__N-851-22-T__HE__registered.ome.tif'"
      ]
     },
     "execution_count": 46,
     "metadata": {},
     "output_type": "execute_result"
    }
   ],
   "source": [
    "abspath(c).replace(\"\\\\\", \"/\")"
   ]
  },
  {
   "cell_type": "code",
   "execution_count": 25,
   "metadata": {},
   "outputs": [],
   "source": [
    "path = r\"C:\\Users\\ge37voy\\OneDrive - TUM\\data\\2315_VascularCancer_Mogler\\2315-02-glioblastoma\\20240112__122324__2315-02-Glioblastoma\\output-XETG00050__0017321__N-436-21-N__20240112__124239\"\n",
    "regpath = r\"C:\\Users\\ge37voy\\OneDrive - TUM\\data\\2315_VascularCancer_Mogler\\2315-02-glioblastoma\\20240112__122324__2315-02-Glioblastoma\\registered_images\\0017321__N-436-21-N__HE__registered.ome.tif\""
   ]
  },
  {
   "cell_type": "code",
   "execution_count": 33,
   "metadata": {},
   "outputs": [],
   "source": [
    "pp = Path(relpath(regpath, path))"
   ]
  },
  {
   "cell_type": "code",
   "execution_count": 40,
   "metadata": {},
   "outputs": [
    {
     "data": {
      "text/plain": [
       "'../registered_images/0017321__N-436-21-N__HE__registered.ome.tif'"
      ]
     },
     "execution_count": 40,
     "metadata": {},
     "output_type": "execute_result"
    }
   ],
   "source": [
    "'../registered_images/0017321__N-436-21-N__HE__registered.ome.tif'.replace(\"\\\\\", \"/\")"
   ]
  },
  {
   "cell_type": "code",
   "execution_count": 38,
   "metadata": {},
   "outputs": [
    {
     "data": {
      "text/plain": [
       "'../registered_images/0017321__N-436-21-N__HE__registered.ome.tif'"
      ]
     },
     "execution_count": 38,
     "metadata": {},
     "output_type": "execute_result"
    }
   ],
   "source": [
    "relpath(regpath, path).replace(\"\\\\\", \"/\")"
   ]
  },
  {
   "cell_type": "code",
   "execution_count": 19,
   "metadata": {},
   "outputs": [],
   "source": [
    "cc = c.replace(\"\\\\\", \"/\")"
   ]
  },
  {
   "cell_type": "code",
   "execution_count": 20,
   "metadata": {},
   "outputs": [
    {
     "data": {
      "text/plain": [
       "WindowsPath('../registered_images/0017321__N-851-22-T__HE__registered.ome.tif')"
      ]
     },
     "execution_count": 20,
     "metadata": {},
     "output_type": "execute_result"
    }
   ],
   "source": [
    "Path(b)"
   ]
  },
  {
   "cell_type": "code",
   "execution_count": 13,
   "metadata": {},
   "outputs": [
    {
     "data": {
      "text/plain": [
       "WindowsPath('/Users/isabelgiray/Library/../registered_images/0017321__N-851-22-T__HE__registered.ome.tif')"
      ]
     },
     "execution_count": 13,
     "metadata": {},
     "output_type": "execute_result"
    }
   ],
   "source": [
    "a / Path(c)"
   ]
  },
  {
   "cell_type": "code",
   "execution_count": null,
   "metadata": {},
   "outputs": [],
   "source": [
    "impath = path / f.replace(\"\\\\\", \"/\")"
   ]
  },
  {
   "cell_type": "code",
   "execution_count": 12,
   "metadata": {},
   "outputs": [
    {
     "data": {
      "text/plain": [
       "'..\\registered_images\\x017321__N-851-22-T__HE__registered.ome.tif'"
      ]
     },
     "execution_count": 12,
     "metadata": {},
     "output_type": "execute_result"
    }
   ],
   "source": [
    "b.replace(\"\\\\\", \"/\")"
   ]
  },
  {
   "cell_type": "code",
   "execution_count": 10,
   "metadata": {},
   "outputs": [
    {
     "data": {
      "text/plain": [
       "WindowsPath('/Users/isabelgiray/Library/../registered_images/0017321__N-851-22-T__HE__registered.ome.tif')"
      ]
     },
     "execution_count": 10,
     "metadata": {},
     "output_type": "execute_result"
    }
   ],
   "source": [
    "a / c"
   ]
  },
  {
   "cell_type": "code",
   "execution_count": 11,
   "metadata": {},
   "outputs": [
    {
     "data": {
      "text/plain": [
       "WindowsPath('/Users/isabelgiray/Library/../registered_images/0017321__N-851-22-T__HE__registered.ome.tif')"
      ]
     },
     "execution_count": 11,
     "metadata": {},
     "output_type": "execute_result"
    }
   ],
   "source": [
    "a / cc"
   ]
  },
  {
   "cell_type": "code",
   "execution_count": 4,
   "metadata": {},
   "outputs": [
    {
     "ename": "AssertionError",
     "evalue": "",
     "output_type": "error",
     "traceback": [
      "\u001b[1;31m---------------------------------------------------------------------------\u001b[0m",
      "\u001b[1;31mAssertionError\u001b[0m                            Traceback (most recent call last)",
      "Cell \u001b[1;32mIn[4], line 1\u001b[0m\n\u001b[1;32m----> 1\u001b[0m \u001b[38;5;28;01massert\u001b[39;00m \u001b[38;5;28;01mFalse\u001b[39;00m\n",
      "\u001b[1;31mAssertionError\u001b[0m: "
     ]
    }
   ],
   "source": [
    "assert False"
   ]
  },
  {
   "cell_type": "code",
   "execution_count": null,
   "metadata": {},
   "outputs": [],
   "source": [
    "d = a / c"
   ]
  },
  {
   "cell_type": "code",
   "execution_count": null,
   "metadata": {},
   "outputs": [
    {
     "data": {
      "text/plain": [
       "WindowsPath('/Users/isabelgiray/Library/../registered_images/0017321__N-851-22-T__HE__registered.ome.tif')"
      ]
     },
     "metadata": {},
     "output_type": "display_data"
    }
   ],
   "source": [
    "d"
   ]
  },
  {
   "cell_type": "code",
   "execution_count": null,
   "metadata": {},
   "outputs": [
    {
     "data": {
      "text/plain": [
       "WindowsPath('C:/Users/isabelgiray/registered_images/0017321__N-851-22-T__HE__registered.ome.tif')"
      ]
     },
     "metadata": {},
     "output_type": "display_data"
    }
   ],
   "source": [
    "d.resolve()"
   ]
  },
  {
   "cell_type": "code",
   "execution_count": null,
   "metadata": {},
   "outputs": [
    {
     "data": {
      "text/plain": [
       "'..\\\\..\\\\..\\\\..\\\\..\\\\..\\\\isabelgiray\\\\Library'"
      ]
     },
     "metadata": {},
     "output_type": "display_data"
    }
   ],
   "source": [
    "relpath(a, b)"
   ]
  },
  {
   "cell_type": "code",
   "execution_count": null,
   "metadata": {},
   "outputs": [
    {
     "data": {
      "text/plain": [
       "'c:\\\\Users\\\\isabelgiray\\\\Library\\\\..\\registered_images\\x017321__N-851-22-T__HE__registered.ome.tif'"
      ]
     },
     "metadata": {},
     "output_type": "display_data"
    }
   ],
   "source": [
    "abspath(a / b)"
   ]
  }
 ],
 "metadata": {
  "kernelspec": {
   "display_name": "insitupy",
   "language": "python",
   "name": "python3"
  },
  "language_info": {
   "codemirror_mode": {
    "name": "ipython",
    "version": 3
   },
   "file_extension": ".py",
   "mimetype": "text/x-python",
   "name": "python",
   "nbconvert_exporter": "python",
   "pygments_lexer": "ipython3",
   "version": "3.9.18"
  }
 },
 "nbformat": 4,
 "nbformat_minor": 4
}
