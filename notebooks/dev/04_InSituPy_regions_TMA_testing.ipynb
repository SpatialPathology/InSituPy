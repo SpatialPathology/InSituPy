{
 "cells": [
  {
   "cell_type": "markdown",
   "id": "b16df72d-5dd5-47da-a8c3-b569fe97446b",
   "metadata": {
    "tags": []
   },
   "source": [
    "# InSituPy demonstration - Add annotations"
   ]
  },
  {
   "cell_type": "code",
   "execution_count": 1,
   "id": "8bc0c4ed-3587-460e-98d2-6626a020a327",
   "metadata": {},
   "outputs": [],
   "source": [
    "## The following code ensures that all functions and init files are reloaded before executions.\n",
    "%load_ext autoreload\n",
    "%autoreload 2"
   ]
  },
  {
   "cell_type": "code",
   "execution_count": 2,
   "id": "58107e0b-5017-425b-8cd0-9274be2b8253",
   "metadata": {},
   "outputs": [],
   "source": [
    "from pathlib import Path\n",
    "from insitupy import XeniumData"
   ]
  },
  {
   "cell_type": "markdown",
   "id": "db038252",
   "metadata": {},
   "source": [
    "## Previous steps\n",
    "\n",
    "1. Download the example data for demonstration: [01_InSituPy_demo_download_data.ipynb](./01_InSituPy_demo_download_data.ipynb)\n",
    "2. Register images from external stainings: [02_InSituPy_demo_register_images.ipynb](./02_InSituPy_demo_register_images.ipynb)\n",
    "3. Visualize data with napari and do preprocessing steps: [03_InSituPy_demo_analyze.ipynb](./03_InSituPy_demo_analyze.ipynb)\n",
    "\n",
    "At this point, the structure of the data should look like this:\n",
    "\n",
    "    ```\n",
    "    ./demo_dataset\n",
    "    ├───cropped_processed\n",
    "    ├───output-XETG00000__slide_id__sample_id\n",
    "    │   ├───analysis\n",
    "    │   │   ├───clustering\n",
    "    │   │   ├───diffexp\n",
    "    │   │   ├───pca\n",
    "    │   │   ├───tsne\n",
    "    │   │   └───umap\n",
    "    │   └───cell_feature_matrix\n",
    "    ├───registered_images\n",
    "    ├───registration_qc\n",
    "    └───unregistered_images\n",
    "    ```\n"
   ]
  },
  {
   "cell_type": "markdown",
   "id": "ae409a19",
   "metadata": {},
   "source": [
    "## Load Xenium data into `XeniumData` object\n",
    "\n",
    "Now the Xenium data can be parsed by providing the data path to `XeniumData`"
   ]
  },
  {
   "cell_type": "code",
   "execution_count": 3,
   "id": "2db31fb9",
   "metadata": {},
   "outputs": [],
   "source": [
    "# prepare paths\n",
    "data_dir = Path(\"../demo_dataset\") # output directory\n",
    "xenium_dir = data_dir / \"output-XETG00000__slide_id__sample_id\" # directory of xenium data\n",
    "image_dir = data_dir / \"unregistered_images\" # directory of images"
   ]
  },
  {
   "cell_type": "code",
   "execution_count": 4,
   "id": "188ddb98",
   "metadata": {},
   "outputs": [],
   "source": [
    "xd = XeniumData(xenium_dir)"
   ]
  },
  {
   "cell_type": "code",
   "execution_count": 5,
   "id": "22afdac4",
   "metadata": {},
   "outputs": [
    {
     "data": {
      "text/plain": [
       "\u001b[1m\u001b[31mXeniumData\u001b[0m\n",
       "\u001b[1mSlide ID:\u001b[0m\tslide_id\n",
       "\u001b[1mSample ID:\u001b[0m\tsample_id\n",
       "\u001b[1mData path:\u001b[0m\t..\\demo_dataset\n",
       "\u001b[1mData folder:\u001b[0m\toutput-XETG00000__slide_id__sample_id\n",
       "\u001b[1mMetadata file:\u001b[0m\texperiment_modified.xenium"
      ]
     },
     "execution_count": 5,
     "metadata": {},
     "output_type": "execute_result"
    }
   ],
   "source": [
    "xd"
   ]
  },
  {
   "cell_type": "code",
   "execution_count": 6,
   "id": "87d3eae2",
   "metadata": {},
   "outputs": [],
   "source": [
    "#xd.read_all()"
   ]
  },
  {
   "cell_type": "code",
   "execution_count": 7,
   "id": "e0ec9d39",
   "metadata": {},
   "outputs": [
    {
     "name": "stdout",
     "output_type": "stream",
     "text": [
      "Reading cells...\n",
      "Reading images...\n"
     ]
    }
   ],
   "source": [
    "# read all data modalities at once\n",
    "#xd.read_all()\n",
    "\n",
    "# alternatively, it is also possible to read each modality separately\n",
    "xd.read_cells()\n",
    "xd.read_images(names=[\"HE\"])\n",
    "#xd.read_annotations()\n",
    "# xd.read_boundaries()\n",
    "# xd.read_transcripts()\n"
   ]
  },
  {
   "cell_type": "markdown",
   "id": "e75c9b81",
   "metadata": {},
   "source": [
    "## Load annotations\n",
    "\n",
    "For the analysis of spatial transcriptomic datasets the inclusion of annotations from experts of disease pathology is key. Here, we demonstrate how to annotate data in [QuPath](https://qupath.github.io/), export the annotations as `.geojson` file and import them into the `XeniumData` object.\n",
    "\n",
    "### Create annotations in QuPath\n",
    "\n",
    "To create annotations in QuPath, follow these steps:\n",
    "\n",
    "1. Select a annotation tool from the bar on the top left:\n",
    "\n",
    "<center><img src=\"./demo_annotations/qupath_annotation_buttons.jpg\" width=\"300\"/></center>\n",
    "\n",
    "2. Add as many annotations as you want and label them by setting classes in the annotation list. Do not forget to press the \"Set class\" button:\n",
    "\n",
    "<center><img src=\"./demo_annotations/qupath_annotation_list.jpg\" width=\"350\"/></center>\n",
    "\n",
    "3. Export annotations using `File > Export objects as GeoJSON`. Tick `Pretty JSON` to get an easily readable JSON file. The file name needs to have following structure: `annotation-{slide_id}__{sample_id}__{annotation_label}`.\n",
    "\n",
    "### Import annotations into `XeniumData`\n",
    "\n",
    "For demonstration purposes, we created a dummy annotation file in `./demo_annotations/`. To add the annotations to `XeniumData` follow the steps below.\n",
    "\n"
   ]
  },
  {
   "cell_type": "code",
   "execution_count": 8,
   "id": "b8274ce6",
   "metadata": {},
   "outputs": [
    {
     "name": "stdout",
     "output_type": "stream",
     "text": [
      "Reading annotations...\n"
     ]
    },
    {
     "name": "stderr",
     "output_type": "stream",
     "text": [
      "C:\\Users\\ge37voy\\Github\\InSituPy\\insitupy\\_core\\dataclasses.py:133: UserWarning: Some annotations were a shapely 'MultiPolygon' objects and skipped.\n",
      "  warnings.warn(f\"Some {self.shape_name} were a shapely 'MultiPolygon' objects and skipped.\")\n"
     ]
    }
   ],
   "source": [
    "xd.read_annotations(annotations_dir=\"../demo_annotations/\")"
   ]
  },
  {
   "cell_type": "code",
   "execution_count": 9,
   "id": "2b928818",
   "metadata": {},
   "outputs": [
    {
     "name": "stdout",
     "output_type": "stream",
     "text": [
      "Reading regions...\n"
     ]
    },
    {
     "name": "stderr",
     "output_type": "stream",
     "text": [
      "C:\\Users\\ge37voy\\Github\\InSituPy\\insitupy\\_core\\dataclasses.py:123: UserWarning: Names of regions for key 'demo_warning' were not unique. Key was skipped.\n",
      "  warnings.warn(message=f\"Names of {self.shape_name} for key '{key}' were not unique. Key was skipped.\")\n"
     ]
    }
   ],
   "source": [
    "xd.read_regions(regions_dir=\"../demo_regions/\")"
   ]
  },
  {
   "cell_type": "code",
   "execution_count": 11,
   "id": "ab7ca40b",
   "metadata": {},
   "outputs": [
    {
     "data": {
      "text/plain": [
       "\u001b[1m\u001b[31mXeniumData\u001b[0m\n",
       "\u001b[1mSlide ID:\u001b[0m\tslide_id\n",
       "\u001b[1mSample ID:\u001b[0m\tsample_id\n",
       "\u001b[1mData path:\u001b[0m\t..\\demo_dataset\n",
       "\u001b[1mData folder:\u001b[0m\toutput-XETG00000__slide_id__sample_id\n",
       "\u001b[1mMetadata file:\u001b[0m\texperiment_modified.xenium\n",
       "    ➤ \u001b[34m\u001b[1mimages\u001b[0m\n",
       "       \u001b[1mHE:\u001b[0m\t(25778, 35416, 3)\n",
       "    ➤\u001b[32m\u001b[1m cells\u001b[0m\n",
       "       \u001b[1mmatrix\u001b[0m\n",
       "           AnnData object with n_obs × n_vars = 167780 × 313\n",
       "           obs: 'transcript_counts', 'control_probe_counts', 'control_codeword_counts', 'total_counts', 'cell_area', 'nucleus_area'\n",
       "           var: 'gene_ids', 'feature_types', 'genome'\n",
       "           obsm: 'spatial'\n",
       "       \u001b[1mboundaries\u001b[0m\n",
       "           BoundariesData object with 2 entries:\n",
       "               \u001b[1mcellular\u001b[0m\n",
       "               \u001b[1mnuclear\u001b[0m\n",
       "    ➤ \u001b[36m\u001b[1mannotations\u001b[0m\n",
       "       \u001b[1mdemo:\u001b[0m\t4 annotations, 2 classes ('Positive', 'Negative') \n",
       "       \u001b[1mdemo2:\u001b[0m\t4 annotations, 3 classes ('Negative', 'Positive', 'Other') \n",
       "    ➤ \u001b[33m\u001b[1mregions\u001b[0m\n",
       "       \u001b[1mdemo_regions:\u001b[0m\t3 regions, 3 classes ('Region1', 'Region2', 'Region3') \n",
       "       \u001b[1mTMA:\u001b[0m\t6 regions, 6 classes ('B-2', 'A-3', 'B-1', 'B-3', 'A-1', 'A-2') "
      ]
     },
     "execution_count": 11,
     "metadata": {},
     "output_type": "execute_result"
    }
   ],
   "source": [
    "xd"
   ]
  },
  {
   "cell_type": "code",
   "execution_count": 12,
   "id": "11d83c13",
   "metadata": {},
   "outputs": [
    {
     "data": {
      "text/html": [
       "<div>\n",
       "<style scoped>\n",
       "    .dataframe tbody tr th:only-of-type {\n",
       "        vertical-align: middle;\n",
       "    }\n",
       "\n",
       "    .dataframe tbody tr th {\n",
       "        vertical-align: top;\n",
       "    }\n",
       "\n",
       "    .dataframe thead th {\n",
       "        text-align: right;\n",
       "    }\n",
       "</style>\n",
       "<table border=\"1\" class=\"dataframe\">\n",
       "  <thead>\n",
       "    <tr style=\"text-align: right;\">\n",
       "      <th></th>\n",
       "      <th>cell_id</th>\n",
       "      <th>vertex_x</th>\n",
       "      <th>vertex_y</th>\n",
       "    </tr>\n",
       "  </thead>\n",
       "  <tbody>\n",
       "    <tr>\n",
       "      <th>0</th>\n",
       "      <td>1</td>\n",
       "      <td>849.787476</td>\n",
       "      <td>322.362488</td>\n",
       "    </tr>\n",
       "    <tr>\n",
       "      <th>1</th>\n",
       "      <td>1</td>\n",
       "      <td>844.262512</td>\n",
       "      <td>323.212494</td>\n",
       "    </tr>\n",
       "    <tr>\n",
       "      <th>2</th>\n",
       "      <td>1</td>\n",
       "      <td>841.500000</td>\n",
       "      <td>324.487488</td>\n",
       "    </tr>\n",
       "    <tr>\n",
       "      <th>3</th>\n",
       "      <td>1</td>\n",
       "      <td>843.200012</td>\n",
       "      <td>327.250000</td>\n",
       "    </tr>\n",
       "    <tr>\n",
       "      <th>4</th>\n",
       "      <td>1</td>\n",
       "      <td>844.900024</td>\n",
       "      <td>328.737488</td>\n",
       "    </tr>\n",
       "    <tr>\n",
       "      <th>...</th>\n",
       "      <td>...</td>\n",
       "      <td>...</td>\n",
       "      <td>...</td>\n",
       "    </tr>\n",
       "    <tr>\n",
       "      <th>2181081</th>\n",
       "      <td>167780</td>\n",
       "      <td>7497.212402</td>\n",
       "      <td>5117.000000</td>\n",
       "    </tr>\n",
       "    <tr>\n",
       "      <th>2181082</th>\n",
       "      <td>167780</td>\n",
       "      <td>7495.512695</td>\n",
       "      <td>5114.662598</td>\n",
       "    </tr>\n",
       "    <tr>\n",
       "      <th>2181083</th>\n",
       "      <td>167780</td>\n",
       "      <td>7491.262695</td>\n",
       "      <td>5111.262695</td>\n",
       "    </tr>\n",
       "    <tr>\n",
       "      <th>2181084</th>\n",
       "      <td>167780</td>\n",
       "      <td>7489.350098</td>\n",
       "      <td>5109.137695</td>\n",
       "    </tr>\n",
       "    <tr>\n",
       "      <th>2181085</th>\n",
       "      <td>167780</td>\n",
       "      <td>7488.924805</td>\n",
       "      <td>5108.712402</td>\n",
       "    </tr>\n",
       "  </tbody>\n",
       "</table>\n",
       "<p>2181086 rows × 3 columns</p>\n",
       "</div>"
      ],
      "text/plain": [
       "         cell_id     vertex_x     vertex_y\n",
       "0              1   849.787476   322.362488\n",
       "1              1   844.262512   323.212494\n",
       "2              1   841.500000   324.487488\n",
       "3              1   843.200012   327.250000\n",
       "4              1   844.900024   328.737488\n",
       "...          ...          ...          ...\n",
       "2181081   167780  7497.212402  5117.000000\n",
       "2181082   167780  7495.512695  5114.662598\n",
       "2181083   167780  7491.262695  5111.262695\n",
       "2181084   167780  7489.350098  5109.137695\n",
       "2181085   167780  7488.924805  5108.712402\n",
       "\n",
       "[2181086 rows x 3 columns]"
      ]
     },
     "execution_count": 12,
     "metadata": {},
     "output_type": "execute_result"
    }
   ],
   "source": [
    "xd.cells.boundaries.cellular"
   ]
  },
  {
   "cell_type": "code",
   "execution_count": 16,
   "id": "6a8c147a",
   "metadata": {},
   "outputs": [],
   "source": [
    "xd.show()"
   ]
  },
  {
   "cell_type": "code",
   "execution_count": 17,
   "id": "deb07793",
   "metadata": {},
   "outputs": [
    {
     "data": {
      "text/plain": [
       "Viewer(camera=Camera(center=(0.0, 2738.80625, 3762.84375), zoom=0.03837414794243878, angles=(0.0, 0.0, 90.0), perspective=0.0, mouse_pan=False, mouse_zoom=True), cursor=Cursor(position=(10530.509933907259, 2928.9489829222107), scaled=True, size=1, style=<CursorStyle.CROSS: 'cross'>), dims=Dims(ndim=2, ndisplay=2, last_used=0, range=((0.0, 5477.825, 0.2125), (0.0, 7525.9, 0.2125)), current_step=(12888, 17707), order=(0, 1), axis_labels=('0', '1')), grid=GridCanvas(stride=1, shape=(-1, -1), enabled=False), layers=[<Image layer 'HE' at 0x2630e7b7220>, <Shapes layer 'Shapes' at 0x2628baf6f40>], help='use <6> for pan/zoom, use <2> for transform, use <E> for add ellipses, use <L> for add lines, use <T> for add path, use <P> for add polygons, use <Shift-P> for add polygons lasso, use <4> for select vertices, use <5> for select shapes, use <2> for insert vertex, use <1> for remove vertex', status='', tooltip=Tooltip(visible=False, text=''), theme='dark', title='napari', mouse_over_canvas=False, mouse_move_callbacks=[], mouse_drag_callbacks=[], mouse_double_click_callbacks=[], mouse_wheel_callbacks=[<function dims_scroll at 0x000002628BA0DEE0>], _persisted_mouse_event={}, _mouse_drag_gen={}, _mouse_wheel_gen={}, keymap={})"
      ]
     },
     "execution_count": 17,
     "metadata": {},
     "output_type": "execute_result"
    }
   ],
   "source": [
    "xd.viewer"
   ]
  },
  {
   "cell_type": "code",
   "execution_count": 18,
   "id": "766b17da",
   "metadata": {},
   "outputs": [
    {
     "ename": "",
     "evalue": "",
     "output_type": "error",
     "traceback": [
      "\u001b[1;31mThe Kernel crashed while executing code in the the current cell or a previous cell. Please review the code in the cell(s) to identify a possible cause of the failure. Click <a href='https://aka.ms/vscodeJupyterKernelCrash'>here</a> for more info. View Jupyter <a href='command:jupyter.viewOutput'>log</a> for further details."
     ]
    }
   ],
   "source": [
    "xdcrop = xd.crop(shape_layer=\"Shapes\")"
   ]
  },
  {
   "cell_type": "code",
   "execution_count": null,
   "id": "3c63c83d",
   "metadata": {},
   "outputs": [
    {
     "name": "stderr",
     "output_type": "stream",
     "text": [
      "c:\\Users\\ge37voy\\AppData\\Local\\miniconda3\\envs\\insitupy\\lib\\site-packages\\anndata\\_core\\anndata.py:183: ImplicitModificationWarning: Transforming to str index.\n",
      "  warnings.warn(\"Transforming to str index.\", ImplicitModificationWarning)\n"
     ]
    }
   ],
   "source": [
    "xd.crop(shape_layer=\"Shapes\", inplace=True)"
   ]
  },
  {
   "cell_type": "code",
   "execution_count": 69,
   "id": "95700f7e",
   "metadata": {},
   "outputs": [
    {
     "data": {
      "text/plain": [
       "\u001b[1m\u001b[31mXeniumData\u001b[0m\n",
       "\u001b[1mSlide ID:\u001b[0m\tslide_id\n",
       "\u001b[1mSample ID:\u001b[0m\tsample_id\n",
       "\u001b[1mData path:\u001b[0m\t..\\demo_dataset\n",
       "\u001b[1mData folder:\u001b[0m\toutput-XETG00000__slide_id__sample_id\n",
       "\u001b[1mMetadata file:\u001b[0m\texperiment_modified.xenium\n",
       "    ➤ \u001b[34m\u001b[1mimages\u001b[0m\n",
       "       \u001b[1mHE:\u001b[0m\t(24, 28, 3)\n",
       "    ➤\u001b[32m\u001b[1m cells\u001b[0m\n",
       "       \u001b[1mmatrix\u001b[0m\n",
       "           AnnData object with n_obs × n_vars = 0 × 313\n",
       "           obs: 'transcript_counts', 'control_probe_counts', 'control_codeword_counts', 'total_counts', 'cell_area', 'nucleus_area'\n",
       "           var: 'gene_ids', 'feature_types', 'genome'\n",
       "           obsm: 'spatial'\n",
       "       \u001b[1mboundaries\u001b[0m\n",
       "           BoundariesData object with 2 entries:\n",
       "               \u001b[1mcellular\u001b[0m\n",
       "               \u001b[1mnuclear\u001b[0m\n",
       "    ➤ \u001b[36m\u001b[1mannotations\u001b[0m\n",
       "       \u001b[1mdemo:\u001b[0m\t0 annotations, 0 classes () \n",
       "       \u001b[1mdemo2:\u001b[0m\t0 annotations, 0 classes () \n",
       "    ➤ \u001b[33m\u001b[1mregions\u001b[0m\n",
       "       \u001b[1mdemo_regions:\u001b[0m\t3 regions, 3 classes ('Region1', 'Region2', 'Region3') \n",
       "       \u001b[1mTMA:\u001b[0m\t6 regions, 6 classes ('B-2', 'A-3', 'B-1', 'B-3', 'A-1', 'A-2') "
      ]
     },
     "execution_count": 69,
     "metadata": {},
     "output_type": "execute_result"
    }
   ],
   "source": [
    "xd"
   ]
  },
  {
   "cell_type": "code",
   "execution_count": 65,
   "id": "beeb53a7",
   "metadata": {},
   "outputs": [],
   "source": [
    "xdcrop = xd.crop(shape_layer=\"Shapes\")"
   ]
  },
  {
   "cell_type": "code",
   "execution_count": 67,
   "id": "6b4bf4a1",
   "metadata": {},
   "outputs": [],
   "source": [
    "xd.viewer.camera.center = (0,0,0)"
   ]
  },
  {
   "cell_type": "code",
   "execution_count": 64,
   "id": "8a5ec8c5",
   "metadata": {},
   "outputs": [
    {
     "ename": "AttributeError",
     "evalue": "'XeniumData' object has no attribute 'viewer'",
     "output_type": "error",
     "traceback": [
      "\u001b[1;31m---------------------------------------------------------------------------\u001b[0m",
      "\u001b[1;31mAttributeError\u001b[0m                            Traceback (most recent call last)",
      "Cell \u001b[1;32mIn[64], line 1\u001b[0m\n\u001b[1;32m----> 1\u001b[0m \u001b[43mxdcrop\u001b[49m\u001b[38;5;241;43m.\u001b[39;49m\u001b[43mviewer\u001b[49m\n",
      "\u001b[1;31mAttributeError\u001b[0m: 'XeniumData' object has no attribute 'viewer'"
     ]
    }
   ],
   "source": [
    "xdcrop.viewer"
   ]
  },
  {
   "cell_type": "code",
   "execution_count": 49,
   "id": "a15910a5",
   "metadata": {},
   "outputs": [
    {
     "data": {
      "text/html": [
       "<div>\n",
       "<style scoped>\n",
       "    .dataframe tbody tr th:only-of-type {\n",
       "        vertical-align: middle;\n",
       "    }\n",
       "\n",
       "    .dataframe tbody tr th {\n",
       "        vertical-align: top;\n",
       "    }\n",
       "\n",
       "    .dataframe thead th {\n",
       "        text-align: right;\n",
       "    }\n",
       "</style>\n",
       "<table border=\"1\" class=\"dataframe\">\n",
       "  <thead>\n",
       "    <tr style=\"text-align: right;\">\n",
       "      <th></th>\n",
       "      <th>cell_id</th>\n",
       "      <th>vertex_x</th>\n",
       "      <th>vertex_y</th>\n",
       "    </tr>\n",
       "  </thead>\n",
       "  <tbody>\n",
       "    <tr>\n",
       "      <th>0</th>\n",
       "      <td>1</td>\n",
       "      <td>849.787476</td>\n",
       "      <td>322.362488</td>\n",
       "    </tr>\n",
       "    <tr>\n",
       "      <th>1</th>\n",
       "      <td>1</td>\n",
       "      <td>844.262512</td>\n",
       "      <td>323.212494</td>\n",
       "    </tr>\n",
       "    <tr>\n",
       "      <th>2</th>\n",
       "      <td>1</td>\n",
       "      <td>841.500000</td>\n",
       "      <td>324.487488</td>\n",
       "    </tr>\n",
       "    <tr>\n",
       "      <th>3</th>\n",
       "      <td>1</td>\n",
       "      <td>843.200012</td>\n",
       "      <td>327.250000</td>\n",
       "    </tr>\n",
       "    <tr>\n",
       "      <th>4</th>\n",
       "      <td>1</td>\n",
       "      <td>844.900024</td>\n",
       "      <td>328.737488</td>\n",
       "    </tr>\n",
       "    <tr>\n",
       "      <th>...</th>\n",
       "      <td>...</td>\n",
       "      <td>...</td>\n",
       "      <td>...</td>\n",
       "    </tr>\n",
       "    <tr>\n",
       "      <th>2181081</th>\n",
       "      <td>167780</td>\n",
       "      <td>7497.212402</td>\n",
       "      <td>5117.000000</td>\n",
       "    </tr>\n",
       "    <tr>\n",
       "      <th>2181082</th>\n",
       "      <td>167780</td>\n",
       "      <td>7495.512695</td>\n",
       "      <td>5114.662598</td>\n",
       "    </tr>\n",
       "    <tr>\n",
       "      <th>2181083</th>\n",
       "      <td>167780</td>\n",
       "      <td>7491.262695</td>\n",
       "      <td>5111.262695</td>\n",
       "    </tr>\n",
       "    <tr>\n",
       "      <th>2181084</th>\n",
       "      <td>167780</td>\n",
       "      <td>7489.350098</td>\n",
       "      <td>5109.137695</td>\n",
       "    </tr>\n",
       "    <tr>\n",
       "      <th>2181085</th>\n",
       "      <td>167780</td>\n",
       "      <td>7488.924805</td>\n",
       "      <td>5108.712402</td>\n",
       "    </tr>\n",
       "  </tbody>\n",
       "</table>\n",
       "<p>2181086 rows × 3 columns</p>\n",
       "</div>"
      ],
      "text/plain": [
       "         cell_id     vertex_x     vertex_y\n",
       "0              1   849.787476   322.362488\n",
       "1              1   844.262512   323.212494\n",
       "2              1   841.500000   324.487488\n",
       "3              1   843.200012   327.250000\n",
       "4              1   844.900024   328.737488\n",
       "...          ...          ...          ...\n",
       "2181081   167780  7497.212402  5117.000000\n",
       "2181082   167780  7495.512695  5114.662598\n",
       "2181083   167780  7491.262695  5111.262695\n",
       "2181084   167780  7489.350098  5109.137695\n",
       "2181085   167780  7488.924805  5108.712402\n",
       "\n",
       "[2181086 rows x 3 columns]"
      ]
     },
     "execution_count": 49,
     "metadata": {},
     "output_type": "execute_result"
    }
   ],
   "source": [
    "xd.cells.boundaries.cellular"
   ]
  },
  {
   "cell_type": "code",
   "execution_count": 54,
   "id": "f2d3337a",
   "metadata": {},
   "outputs": [
    {
     "data": {
      "text/plain": [
       "324"
      ]
     },
     "execution_count": 54,
     "metadata": {},
     "output_type": "execute_result"
    }
   ],
   "source": [
    "len(xdcrop.cells.boundaries.nuclear.cell_id.unique())"
   ]
  },
  {
   "cell_type": "code",
   "execution_count": null,
   "id": "1c5f8f69",
   "metadata": {},
   "outputs": [],
   "source": []
  },
  {
   "cell_type": "code",
   "execution_count": 57,
   "id": "c1c67cc2",
   "metadata": {},
   "outputs": [],
   "source": [
    "xdcrop.viewer.camera.center = (0, 0, 0)"
   ]
  },
  {
   "cell_type": "code",
   "execution_count": 42,
   "id": "ecedb66d",
   "metadata": {},
   "outputs": [
    {
     "data": {
      "text/plain": [
       "0               1\n",
       "1               1\n",
       "2               1\n",
       "3               1\n",
       "4               1\n",
       "            ...  \n",
       "2181081    167780\n",
       "2181082    167780\n",
       "2181083    167780\n",
       "2181084    167780\n",
       "2181085    167780\n",
       "Name: cell_id, Length: 2181086, dtype: object"
      ]
     },
     "execution_count": 42,
     "metadata": {},
     "output_type": "execute_result"
    }
   ],
   "source": [
    "xd.cells.boundaries.cellular.cell_id.astype(str)"
   ]
  },
  {
   "cell_type": "code",
   "execution_count": 36,
   "id": "ff835605",
   "metadata": {},
   "outputs": [
    {
     "data": {
      "text/html": [
       "<div>\n",
       "<style scoped>\n",
       "    .dataframe tbody tr th:only-of-type {\n",
       "        vertical-align: middle;\n",
       "    }\n",
       "\n",
       "    .dataframe tbody tr th {\n",
       "        vertical-align: top;\n",
       "    }\n",
       "\n",
       "    .dataframe thead th {\n",
       "        text-align: right;\n",
       "    }\n",
       "</style>\n",
       "<table border=\"1\" class=\"dataframe\">\n",
       "  <thead>\n",
       "    <tr style=\"text-align: right;\">\n",
       "      <th></th>\n",
       "      <th>cell_id</th>\n",
       "      <th>vertex_x</th>\n",
       "      <th>vertex_y</th>\n",
       "    </tr>\n",
       "  </thead>\n",
       "  <tbody>\n",
       "  </tbody>\n",
       "</table>\n",
       "</div>"
      ],
      "text/plain": [
       "Empty DataFrame\n",
       "Columns: [cell_id, vertex_x, vertex_y]\n",
       "Index: []"
      ]
     },
     "execution_count": 36,
     "metadata": {},
     "output_type": "execute_result"
    }
   ],
   "source": [
    "xdcrop.cells.boundaries.cellular"
   ]
  },
  {
   "cell_type": "code",
   "execution_count": 21,
   "id": "c32196f4",
   "metadata": {},
   "outputs": [
    {
     "data": {
      "text/plain": [
       "(2181086, 3)"
      ]
     },
     "execution_count": 21,
     "metadata": {},
     "output_type": "execute_result"
    }
   ],
   "source": [
    "xdcrop.cells.boundaries.cellular.shape"
   ]
  },
  {
   "cell_type": "code",
   "execution_count": null,
   "id": "6f54d45d",
   "metadata": {},
   "outputs": [],
   "source": [
    "xd.cells.boundaries.convert_to_shapely_objects()"
   ]
  },
  {
   "cell_type": "code",
   "execution_count": null,
   "id": "d85a3f17",
   "metadata": {},
   "outputs": [],
   "source": []
  },
  {
   "cell_type": "code",
   "execution_count": 19,
   "id": "1071711b",
   "metadata": {},
   "outputs": [],
   "source": [
    "xd.show()"
   ]
  },
  {
   "cell_type": "code",
   "execution_count": 18,
   "id": "0232ec58",
   "metadata": {},
   "outputs": [],
   "source": [
    "from shapely.geometry.multipolygon import MultiPolygon\n"
   ]
  },
  {
   "cell_type": "code",
   "execution_count": 24,
   "id": "e72a30c9",
   "metadata": {},
   "outputs": [],
   "source": [
    "is_not_multipolygon = [not isinstance(p, MultiPolygon) for p in xd.regions.TMA.geometry]"
   ]
  },
  {
   "cell_type": "code",
   "execution_count": 26,
   "id": "5276441e",
   "metadata": {},
   "outputs": [
    {
     "data": {
      "text/html": [
       "<div>\n",
       "<style scoped>\n",
       "    .dataframe tbody tr th:only-of-type {\n",
       "        vertical-align: middle;\n",
       "    }\n",
       "\n",
       "    .dataframe tbody tr th {\n",
       "        vertical-align: top;\n",
       "    }\n",
       "\n",
       "    .dataframe thead th {\n",
       "        text-align: right;\n",
       "    }\n",
       "</style>\n",
       "<table border=\"1\" class=\"dataframe\">\n",
       "  <thead>\n",
       "    <tr style=\"text-align: right;\">\n",
       "      <th></th>\n",
       "      <th>objectType</th>\n",
       "      <th>name</th>\n",
       "      <th>isMissing</th>\n",
       "      <th>geometry</th>\n",
       "      <th>origin</th>\n",
       "    </tr>\n",
       "    <tr>\n",
       "      <th>id</th>\n",
       "      <th></th>\n",
       "      <th></th>\n",
       "      <th></th>\n",
       "      <th></th>\n",
       "      <th></th>\n",
       "    </tr>\n",
       "  </thead>\n",
       "  <tbody>\n",
       "    <tr>\n",
       "      <th>7ab5d5a6-49bd-4122-bc64-05477bc0207b</th>\n",
       "      <td>tmaCore</td>\n",
       "      <td>B-2</td>\n",
       "      <td>False</td>\n",
       "      <td>POLYGON ((4299.61025 4213.18862, 4298.62425 42...</td>\n",
       "      <td>file</td>\n",
       "    </tr>\n",
       "    <tr>\n",
       "      <th>06ef93c1-f86d-45e6-ad9a-896e254638ea</th>\n",
       "      <td>tmaCore</td>\n",
       "      <td>A-3</td>\n",
       "      <td>False</td>\n",
       "      <td>POLYGON ((7201.19150 903.26738, 7200.20550 934...</td>\n",
       "      <td>file</td>\n",
       "    </tr>\n",
       "    <tr>\n",
       "      <th>7933d3fd-ccd3-46af-8f15-fcc01ec9c128</th>\n",
       "      <td>tmaCore</td>\n",
       "      <td>B-1</td>\n",
       "      <td>False</td>\n",
       "      <td>POLYGON ((1555.14725 4333.64638, 1554.15912 43...</td>\n",
       "      <td>file</td>\n",
       "    </tr>\n",
       "    <tr>\n",
       "      <th>7015118d-2947-48e3-baf0-4b220a76a951</th>\n",
       "      <td>tmaCore</td>\n",
       "      <td>B-3</td>\n",
       "      <td>False</td>\n",
       "      <td>POLYGON ((7311.17300 4228.90087, 7310.18700 42...</td>\n",
       "      <td>file</td>\n",
       "    </tr>\n",
       "    <tr>\n",
       "      <th>bf86657f-31f6-40fe-983b-f80c3d75512b</th>\n",
       "      <td>tmaCore</td>\n",
       "      <td>A-1</td>\n",
       "      <td>False</td>\n",
       "      <td>POLYGON ((1481.82625 908.50338, 1480.83812 939...</td>\n",
       "      <td>file</td>\n",
       "    </tr>\n",
       "    <tr>\n",
       "      <th>440d8f00-fb0e-42e7-9f98-30d30adfc8df</th>\n",
       "      <td>tmaCore</td>\n",
       "      <td>A-2</td>\n",
       "      <td>False</td>\n",
       "      <td>POLYGON ((4173.91650 856.13063, 4172.93050 887...</td>\n",
       "      <td>file</td>\n",
       "    </tr>\n",
       "  </tbody>\n",
       "</table>\n",
       "</div>"
      ],
      "text/plain": [
       "                                     objectType name  isMissing  \\\n",
       "id                                                                \n",
       "7ab5d5a6-49bd-4122-bc64-05477bc0207b    tmaCore  B-2      False   \n",
       "06ef93c1-f86d-45e6-ad9a-896e254638ea    tmaCore  A-3      False   \n",
       "7933d3fd-ccd3-46af-8f15-fcc01ec9c128    tmaCore  B-1      False   \n",
       "7015118d-2947-48e3-baf0-4b220a76a951    tmaCore  B-3      False   \n",
       "bf86657f-31f6-40fe-983b-f80c3d75512b    tmaCore  A-1      False   \n",
       "440d8f00-fb0e-42e7-9f98-30d30adfc8df    tmaCore  A-2      False   \n",
       "\n",
       "                                                                               geometry  \\\n",
       "id                                                                                        \n",
       "7ab5d5a6-49bd-4122-bc64-05477bc0207b  POLYGON ((4299.61025 4213.18862, 4298.62425 42...   \n",
       "06ef93c1-f86d-45e6-ad9a-896e254638ea  POLYGON ((7201.19150 903.26738, 7200.20550 934...   \n",
       "7933d3fd-ccd3-46af-8f15-fcc01ec9c128  POLYGON ((1555.14725 4333.64638, 1554.15912 43...   \n",
       "7015118d-2947-48e3-baf0-4b220a76a951  POLYGON ((7311.17300 4228.90087, 7310.18700 42...   \n",
       "bf86657f-31f6-40fe-983b-f80c3d75512b  POLYGON ((1481.82625 908.50338, 1480.83812 939...   \n",
       "440d8f00-fb0e-42e7-9f98-30d30adfc8df  POLYGON ((4173.91650 856.13063, 4172.93050 887...   \n",
       "\n",
       "                                     origin  \n",
       "id                                           \n",
       "7ab5d5a6-49bd-4122-bc64-05477bc0207b   file  \n",
       "06ef93c1-f86d-45e6-ad9a-896e254638ea   file  \n",
       "7933d3fd-ccd3-46af-8f15-fcc01ec9c128   file  \n",
       "7015118d-2947-48e3-baf0-4b220a76a951   file  \n",
       "bf86657f-31f6-40fe-983b-f80c3d75512b   file  \n",
       "440d8f00-fb0e-42e7-9f98-30d30adfc8df   file  "
      ]
     },
     "execution_count": 26,
     "metadata": {},
     "output_type": "execute_result"
    }
   ],
   "source": [
    "xd.regions.TMA.loc[is_not_multipolygon]"
   ]
  },
  {
   "cell_type": "code",
   "execution_count": 12,
   "id": "4a8e447e",
   "metadata": {},
   "outputs": [
    {
     "data": {
      "text/html": [
       "<div>\n",
       "<style scoped>\n",
       "    .dataframe tbody tr th:only-of-type {\n",
       "        vertical-align: middle;\n",
       "    }\n",
       "\n",
       "    .dataframe tbody tr th {\n",
       "        vertical-align: top;\n",
       "    }\n",
       "\n",
       "    .dataframe thead th {\n",
       "        text-align: right;\n",
       "    }\n",
       "</style>\n",
       "<table border=\"1\" class=\"dataframe\">\n",
       "  <thead>\n",
       "    <tr style=\"text-align: right;\">\n",
       "      <th></th>\n",
       "      <th>objectType</th>\n",
       "      <th>name</th>\n",
       "      <th>isMissing</th>\n",
       "      <th>geometry</th>\n",
       "      <th>origin</th>\n",
       "    </tr>\n",
       "    <tr>\n",
       "      <th>id</th>\n",
       "      <th></th>\n",
       "      <th></th>\n",
       "      <th></th>\n",
       "      <th></th>\n",
       "      <th></th>\n",
       "    </tr>\n",
       "  </thead>\n",
       "  <tbody>\n",
       "    <tr>\n",
       "      <th>7ab5d5a6-49bd-4122-bc64-05477bc0207b</th>\n",
       "      <td>tmaCore</td>\n",
       "      <td>B-2</td>\n",
       "      <td>False</td>\n",
       "      <td>POLYGON ((4299.61025 4213.18862, 4298.62425 42...</td>\n",
       "      <td>file</td>\n",
       "    </tr>\n",
       "    <tr>\n",
       "      <th>06ef93c1-f86d-45e6-ad9a-896e254638ea</th>\n",
       "      <td>tmaCore</td>\n",
       "      <td>A-3</td>\n",
       "      <td>False</td>\n",
       "      <td>POLYGON ((7201.19150 903.26738, 7200.20550 934...</td>\n",
       "      <td>file</td>\n",
       "    </tr>\n",
       "    <tr>\n",
       "      <th>7933d3fd-ccd3-46af-8f15-fcc01ec9c128</th>\n",
       "      <td>tmaCore</td>\n",
       "      <td>B-1</td>\n",
       "      <td>False</td>\n",
       "      <td>POLYGON ((1555.14725 4333.64638, 1554.15912 43...</td>\n",
       "      <td>file</td>\n",
       "    </tr>\n",
       "    <tr>\n",
       "      <th>7015118d-2947-48e3-baf0-4b220a76a951</th>\n",
       "      <td>tmaCore</td>\n",
       "      <td>B-3</td>\n",
       "      <td>False</td>\n",
       "      <td>POLYGON ((7311.17300 4228.90087, 7310.18700 42...</td>\n",
       "      <td>file</td>\n",
       "    </tr>\n",
       "    <tr>\n",
       "      <th>bf86657f-31f6-40fe-983b-f80c3d75512b</th>\n",
       "      <td>tmaCore</td>\n",
       "      <td>A-1</td>\n",
       "      <td>False</td>\n",
       "      <td>POLYGON ((1481.82625 908.50338, 1480.83812 939...</td>\n",
       "      <td>file</td>\n",
       "    </tr>\n",
       "    <tr>\n",
       "      <th>440d8f00-fb0e-42e7-9f98-30d30adfc8df</th>\n",
       "      <td>tmaCore</td>\n",
       "      <td>A-2</td>\n",
       "      <td>False</td>\n",
       "      <td>POLYGON ((4173.91650 856.13063, 4172.93050 887...</td>\n",
       "      <td>file</td>\n",
       "    </tr>\n",
       "  </tbody>\n",
       "</table>\n",
       "</div>"
      ],
      "text/plain": [
       "                                     objectType name  isMissing  \\\n",
       "id                                                                \n",
       "7ab5d5a6-49bd-4122-bc64-05477bc0207b    tmaCore  B-2      False   \n",
       "06ef93c1-f86d-45e6-ad9a-896e254638ea    tmaCore  A-3      False   \n",
       "7933d3fd-ccd3-46af-8f15-fcc01ec9c128    tmaCore  B-1      False   \n",
       "7015118d-2947-48e3-baf0-4b220a76a951    tmaCore  B-3      False   \n",
       "bf86657f-31f6-40fe-983b-f80c3d75512b    tmaCore  A-1      False   \n",
       "440d8f00-fb0e-42e7-9f98-30d30adfc8df    tmaCore  A-2      False   \n",
       "\n",
       "                                                                               geometry  \\\n",
       "id                                                                                        \n",
       "7ab5d5a6-49bd-4122-bc64-05477bc0207b  POLYGON ((4299.61025 4213.18862, 4298.62425 42...   \n",
       "06ef93c1-f86d-45e6-ad9a-896e254638ea  POLYGON ((7201.19150 903.26738, 7200.20550 934...   \n",
       "7933d3fd-ccd3-46af-8f15-fcc01ec9c128  POLYGON ((1555.14725 4333.64638, 1554.15912 43...   \n",
       "7015118d-2947-48e3-baf0-4b220a76a951  POLYGON ((7311.17300 4228.90087, 7310.18700 42...   \n",
       "bf86657f-31f6-40fe-983b-f80c3d75512b  POLYGON ((1481.82625 908.50338, 1480.83812 939...   \n",
       "440d8f00-fb0e-42e7-9f98-30d30adfc8df  POLYGON ((4173.91650 856.13063, 4172.93050 887...   \n",
       "\n",
       "                                     origin  \n",
       "id                                           \n",
       "7ab5d5a6-49bd-4122-bc64-05477bc0207b   file  \n",
       "06ef93c1-f86d-45e6-ad9a-896e254638ea   file  \n",
       "7933d3fd-ccd3-46af-8f15-fcc01ec9c128   file  \n",
       "7015118d-2947-48e3-baf0-4b220a76a951   file  \n",
       "bf86657f-31f6-40fe-983b-f80c3d75512b   file  \n",
       "440d8f00-fb0e-42e7-9f98-30d30adfc8df   file  "
      ]
     },
     "execution_count": 12,
     "metadata": {},
     "output_type": "execute_result"
    }
   ],
   "source": [
    "xd.regions.TMA"
   ]
  },
  {
   "cell_type": "code",
   "execution_count": 21,
   "id": "ac167c9c",
   "metadata": {},
   "outputs": [
    {
     "data": {
      "text/html": [
       "<div>\n",
       "<style scoped>\n",
       "    .dataframe tbody tr th:only-of-type {\n",
       "        vertical-align: middle;\n",
       "    }\n",
       "\n",
       "    .dataframe tbody tr th {\n",
       "        vertical-align: top;\n",
       "    }\n",
       "\n",
       "    .dataframe thead th {\n",
       "        text-align: right;\n",
       "    }\n",
       "</style>\n",
       "<table border=\"1\" class=\"dataframe\">\n",
       "  <thead>\n",
       "    <tr style=\"text-align: right;\">\n",
       "      <th></th>\n",
       "      <th>objectType</th>\n",
       "      <th>geometry</th>\n",
       "      <th>name</th>\n",
       "      <th>color</th>\n",
       "      <th>origin</th>\n",
       "    </tr>\n",
       "    <tr>\n",
       "      <th>id</th>\n",
       "      <th></th>\n",
       "      <th></th>\n",
       "      <th></th>\n",
       "      <th></th>\n",
       "      <th></th>\n",
       "    </tr>\n",
       "  </thead>\n",
       "  <tbody>\n",
       "    <tr>\n",
       "      <th>bd3aacca-1716-4df8-91dd-bf8f6413a7bd</th>\n",
       "      <td>annotation</td>\n",
       "      <td>POLYGON ((1883.38750 2297.97500, 1883.38750 23...</td>\n",
       "      <td>Positive</td>\n",
       "      <td>[250, 62, 62]</td>\n",
       "      <td>file</td>\n",
       "    </tr>\n",
       "    <tr>\n",
       "      <th>69814505-4059-42cd-8df2-752f7eb0810d</th>\n",
       "      <td>annotation</td>\n",
       "      <td>POLYGON ((2782.90000 2654.55000, 2777.88500 26...</td>\n",
       "      <td>Positive</td>\n",
       "      <td>[250, 62, 62]</td>\n",
       "      <td>file</td>\n",
       "    </tr>\n",
       "    <tr>\n",
       "      <th>1957cd32-0a21-4b45-9dae-ecf236217140</th>\n",
       "      <td>annotation</td>\n",
       "      <td>POLYGON ((6582.24275 4874.32500, 6583.67500 48...</td>\n",
       "      <td>Negative</td>\n",
       "      <td>[112, 112, 225]</td>\n",
       "      <td>file</td>\n",
       "    </tr>\n",
       "    <tr>\n",
       "      <th>19d2197a-1b8e-456f-8223-fba74641ac1c</th>\n",
       "      <td>annotation</td>\n",
       "      <td>POLYGON ((6622.56250 3486.70000, 6619.16250 34...</td>\n",
       "      <td>Negative</td>\n",
       "      <td>[112, 112, 225]</td>\n",
       "      <td>file</td>\n",
       "    </tr>\n",
       "  </tbody>\n",
       "</table>\n",
       "</div>"
      ],
      "text/plain": [
       "                                      objectType  \\\n",
       "id                                                 \n",
       "bd3aacca-1716-4df8-91dd-bf8f6413a7bd  annotation   \n",
       "69814505-4059-42cd-8df2-752f7eb0810d  annotation   \n",
       "1957cd32-0a21-4b45-9dae-ecf236217140  annotation   \n",
       "19d2197a-1b8e-456f-8223-fba74641ac1c  annotation   \n",
       "\n",
       "                                                                               geometry  \\\n",
       "id                                                                                        \n",
       "bd3aacca-1716-4df8-91dd-bf8f6413a7bd  POLYGON ((1883.38750 2297.97500, 1883.38750 23...   \n",
       "69814505-4059-42cd-8df2-752f7eb0810d  POLYGON ((2782.90000 2654.55000, 2777.88500 26...   \n",
       "1957cd32-0a21-4b45-9dae-ecf236217140  POLYGON ((6582.24275 4874.32500, 6583.67500 48...   \n",
       "19d2197a-1b8e-456f-8223-fba74641ac1c  POLYGON ((6622.56250 3486.70000, 6619.16250 34...   \n",
       "\n",
       "                                          name            color origin  \n",
       "id                                                                      \n",
       "bd3aacca-1716-4df8-91dd-bf8f6413a7bd  Positive    [250, 62, 62]   file  \n",
       "69814505-4059-42cd-8df2-752f7eb0810d  Positive    [250, 62, 62]   file  \n",
       "1957cd32-0a21-4b45-9dae-ecf236217140  Negative  [112, 112, 225]   file  \n",
       "19d2197a-1b8e-456f-8223-fba74641ac1c  Negative  [112, 112, 225]   file  "
      ]
     },
     "execution_count": 21,
     "metadata": {},
     "output_type": "execute_result"
    }
   ],
   "source": [
    "xd.annotations.demo"
   ]
  },
  {
   "cell_type": "code",
   "execution_count": 19,
   "id": "6d0545ea",
   "metadata": {},
   "outputs": [
    {
     "data": {
      "text/plain": [
       "\u001b[36m\u001b[1mannotations\u001b[0m\n",
       "\u001b[1mdemo:\u001b[0m\t4 annotations, 2 classes ('Positive', 'Negative') \n",
       "\u001b[1mdemo2:\u001b[0m\t5 annotations, 3 classes ('Negative', 'Positive', 'Other') "
      ]
     },
     "execution_count": 19,
     "metadata": {},
     "output_type": "execute_result"
    }
   ],
   "source": [
    "xd.annotations"
   ]
  },
  {
   "cell_type": "code",
   "execution_count": 9,
   "id": "6222661d",
   "metadata": {},
   "outputs": [],
   "source": [
    "xd.show()"
   ]
  },
  {
   "cell_type": "code",
   "execution_count": 12,
   "id": "d0cf29cd",
   "metadata": {},
   "outputs": [
    {
     "data": {
      "text/html": [
       "<div>\n",
       "<style scoped>\n",
       "    .dataframe tbody tr th:only-of-type {\n",
       "        vertical-align: middle;\n",
       "    }\n",
       "\n",
       "    .dataframe tbody tr th {\n",
       "        vertical-align: top;\n",
       "    }\n",
       "\n",
       "    .dataframe thead th {\n",
       "        text-align: right;\n",
       "    }\n",
       "</style>\n",
       "<table border=\"1\" class=\"dataframe\">\n",
       "  <thead>\n",
       "    <tr style=\"text-align: right;\">\n",
       "      <th></th>\n",
       "      <th>objectType</th>\n",
       "      <th>name</th>\n",
       "      <th>geometry</th>\n",
       "      <th>origin</th>\n",
       "    </tr>\n",
       "    <tr>\n",
       "      <th>id</th>\n",
       "      <th></th>\n",
       "      <th></th>\n",
       "      <th></th>\n",
       "      <th></th>\n",
       "    </tr>\n",
       "  </thead>\n",
       "  <tbody>\n",
       "    <tr>\n",
       "      <th>2d0da635-c408-459f-9178-839097fe5a98</th>\n",
       "      <td>annotation</td>\n",
       "      <td>Region1</td>\n",
       "      <td>POLYGON ((1564.42500 1321.96250, 2267.80000 13...</td>\n",
       "      <td>file</td>\n",
       "    </tr>\n",
       "    <tr>\n",
       "      <th>ce6c2342-620d-4f44-be03-68a4454e9b33</th>\n",
       "      <td>annotation</td>\n",
       "      <td>Region2</td>\n",
       "      <td>POLYGON ((4541.76250 1356.38750, 5613.82500 13...</td>\n",
       "      <td>file</td>\n",
       "    </tr>\n",
       "    <tr>\n",
       "      <th>70a125ec-c53e-469b-8927-efe224e504c1</th>\n",
       "      <td>annotation</td>\n",
       "      <td>Region3</td>\n",
       "      <td>POLYGON ((2110.76250 2708.31250, 3387.67500 27...</td>\n",
       "      <td>file</td>\n",
       "    </tr>\n",
       "  </tbody>\n",
       "</table>\n",
       "</div>"
      ],
      "text/plain": [
       "                                      objectType     name  \\\n",
       "id                                                          \n",
       "2d0da635-c408-459f-9178-839097fe5a98  annotation  Region1   \n",
       "ce6c2342-620d-4f44-be03-68a4454e9b33  annotation  Region2   \n",
       "70a125ec-c53e-469b-8927-efe224e504c1  annotation  Region3   \n",
       "\n",
       "                                                                               geometry  \\\n",
       "id                                                                                        \n",
       "2d0da635-c408-459f-9178-839097fe5a98  POLYGON ((1564.42500 1321.96250, 2267.80000 13...   \n",
       "ce6c2342-620d-4f44-be03-68a4454e9b33  POLYGON ((4541.76250 1356.38750, 5613.82500 13...   \n",
       "70a125ec-c53e-469b-8927-efe224e504c1  POLYGON ((2110.76250 2708.31250, 3387.67500 27...   \n",
       "\n",
       "                                     origin  \n",
       "id                                           \n",
       "2d0da635-c408-459f-9178-839097fe5a98   file  \n",
       "ce6c2342-620d-4f44-be03-68a4454e9b33   file  \n",
       "70a125ec-c53e-469b-8927-efe224e504c1   file  "
      ]
     },
     "execution_count": 12,
     "metadata": {},
     "output_type": "execute_result"
    }
   ],
   "source": [
    "xd.regions.demo_regions"
   ]
  },
  {
   "cell_type": "code",
   "execution_count": 13,
   "id": "d6e6aed0",
   "metadata": {},
   "outputs": [
    {
     "data": {
      "text/plain": [
       "Index(['2d0da635-c408-459f-9178-839097fe5a98',\n",
       "       'ce6c2342-620d-4f44-be03-68a4454e9b33',\n",
       "       '70a125ec-c53e-469b-8927-efe224e504c1'],\n",
       "      dtype='object', name='id')"
      ]
     },
     "execution_count": 13,
     "metadata": {},
     "output_type": "execute_result"
    }
   ],
   "source": [
    "len(xd.regions.demo_regions.index.unique())"
   ]
  },
  {
   "cell_type": "code",
   "execution_count": null,
   "id": "8c7c9801",
   "metadata": {},
   "outputs": [],
   "source": []
  },
  {
   "cell_type": "code",
   "execution_count": 206,
   "id": "6e8f4a35",
   "metadata": {},
   "outputs": [],
   "source": [
    "xdcrop = xd.crop(shape_layer=\"Shapes\")"
   ]
  },
  {
   "cell_type": "code",
   "execution_count": 207,
   "id": "40dedafc",
   "metadata": {},
   "outputs": [
    {
     "data": {
      "text/plain": [
       "\u001b[1m\u001b[31mXeniumData\u001b[0m\n",
       "\u001b[1mSlide ID:\u001b[0m\tslide_id\n",
       "\u001b[1mSample ID:\u001b[0m\tsample_id\n",
       "\u001b[1mData path:\u001b[0m\t..\\demo_dataset\n",
       "\u001b[1mData folder:\u001b[0m\toutput-XETG00000__slide_id__sample_id\n",
       "\u001b[1mMetadata file:\u001b[0m\texperiment_modified.xenium\n",
       "    ➤ \u001b[34m\u001b[1mimages\u001b[0m\n",
       "       \u001b[1mnuclei:\u001b[0m\t(277, 307)\n",
       "       \u001b[1mCD20:\u001b[0m\t(277, 307)\n",
       "       \u001b[1mHER2:\u001b[0m\t(277, 307)\n",
       "       \u001b[1mHE:\u001b[0m\t(277, 307, 3)\n",
       "    ➤\u001b[32m\u001b[1m cells\u001b[0m\n",
       "       \u001b[1mmatrix\u001b[0m\n",
       "           AnnData object with n_obs × n_vars = 22 × 313\n",
       "           obs: 'transcript_counts', 'control_probe_counts', 'control_codeword_counts', 'total_counts', 'cell_area', 'nucleus_area'\n",
       "           var: 'gene_ids', 'feature_types', 'genome'\n",
       "           obsm: 'spatial'\n",
       "       \u001b[1mboundaries\u001b[0m\n",
       "           BoundariesData object with 2 entries:\n",
       "               \u001b[1mcellular\u001b[0m\n",
       "               \u001b[1mnuclear\u001b[0m\n",
       "    ➤\u001b[95m\u001b[1m transcripts\u001b[0m\n",
       "       DataFrame with shape 3543 x 8\n",
       "    ➤ \u001b[36m\u001b[1mannotations\u001b[0m\n",
       "       \u001b[1mdemo:\u001b[0m\t1 annotations, 1 classes ('Positive',) \n",
       "       \u001b[1mdemo2:\u001b[0m\t0 annotations, 0 classes () \n",
       "    ➤ \u001b[33m\u001b[1mregions\u001b[0m\n",
       "       \u001b[1mdemo_regions:\u001b[0m\t3 regions \n",
       "       \u001b[1mTMA:\u001b[0m\t6 regions "
      ]
     },
     "execution_count": 207,
     "metadata": {},
     "output_type": "execute_result"
    }
   ],
   "source": [
    "xdcrop"
   ]
  },
  {
   "cell_type": "code",
   "execution_count": 221,
   "id": "6614452e",
   "metadata": {},
   "outputs": [
    {
     "name": "stderr",
     "output_type": "stream",
     "text": [
      "c:\\Users\\ge37voy\\AppData\\Local\\miniconda3\\envs\\insitupy\\lib\\site-packages\\geopandas\\io\\file.py:612: UserWarning: You are attempting to write an empty DataFrame to file. For some drivers, this operation may fail.\n",
      "  _to_file_fiona(df, filename, driver, schema, crs, mode, **kwargs)\n"
     ]
    }
   ],
   "source": [
    "xdcrop.save(path=r\"C:\\Users\\ge37voy\\Downloads\\test\\testsave.zip\", overwrite=True)"
   ]
  },
  {
   "cell_type": "code",
   "execution_count": 222,
   "id": "c617dad9",
   "metadata": {},
   "outputs": [],
   "source": [
    "xd.quicksave()"
   ]
  },
  {
   "cell_type": "code",
   "execution_count": 223,
   "id": "ea0c903a",
   "metadata": {},
   "outputs": [
    {
     "data": {
      "text/html": [
       "<div>\n",
       "<style scoped>\n",
       "    .dataframe tbody tr th:only-of-type {\n",
       "        vertical-align: middle;\n",
       "    }\n",
       "\n",
       "    .dataframe tbody tr th {\n",
       "        vertical-align: top;\n",
       "    }\n",
       "\n",
       "    .dataframe thead th {\n",
       "        text-align: right;\n",
       "    }\n",
       "</style>\n",
       "<table border=\"1\" class=\"dataframe\">\n",
       "  <thead>\n",
       "    <tr style=\"text-align: right;\">\n",
       "      <th></th>\n",
       "      <th>slide_id</th>\n",
       "      <th>sample_id</th>\n",
       "      <th>savetime</th>\n",
       "      <th>uid</th>\n",
       "    </tr>\n",
       "  </thead>\n",
       "  <tbody>\n",
       "    <tr>\n",
       "      <th>0</th>\n",
       "      <td>slide_id</td>\n",
       "      <td>sample_id</td>\n",
       "      <td>240126_18-00-02</td>\n",
       "      <td>28add796</td>\n",
       "    </tr>\n",
       "    <tr>\n",
       "      <th>1</th>\n",
       "      <td>slide_id</td>\n",
       "      <td>sample_id</td>\n",
       "      <td>240126_18-00-05</td>\n",
       "      <td>27334f4a</td>\n",
       "    </tr>\n",
       "    <tr>\n",
       "      <th>2</th>\n",
       "      <td>slide_id</td>\n",
       "      <td>sample_id</td>\n",
       "      <td>240126_18-00-08</td>\n",
       "      <td>12409187</td>\n",
       "    </tr>\n",
       "    <tr>\n",
       "      <th>3</th>\n",
       "      <td>slide_id</td>\n",
       "      <td>sample_id</td>\n",
       "      <td>240126_18-00-13</td>\n",
       "      <td>aaeea3b2</td>\n",
       "    </tr>\n",
       "    <tr>\n",
       "      <th>4</th>\n",
       "      <td>slide_id</td>\n",
       "      <td>sample_id</td>\n",
       "      <td>240126_18-14-52</td>\n",
       "      <td>309141ed</td>\n",
       "    </tr>\n",
       "  </tbody>\n",
       "</table>\n",
       "</div>"
      ],
      "text/plain": [
       "   slide_id  sample_id         savetime       uid\n",
       "0  slide_id  sample_id  240126_18-00-02  28add796\n",
       "1  slide_id  sample_id  240126_18-00-05  27334f4a\n",
       "2  slide_id  sample_id  240126_18-00-08  12409187\n",
       "3  slide_id  sample_id  240126_18-00-13  aaeea3b2\n",
       "4  slide_id  sample_id  240126_18-14-52  309141ed"
      ]
     },
     "execution_count": 223,
     "metadata": {},
     "output_type": "execute_result"
    }
   ],
   "source": [
    "xd.list_quicksaves()"
   ]
  },
  {
   "cell_type": "code",
   "execution_count": null,
   "id": "9ddb8ff1",
   "metadata": {},
   "outputs": [],
   "source": []
  },
  {
   "cell_type": "code",
   "execution_count": 178,
   "id": "78a58b49",
   "metadata": {},
   "outputs": [],
   "source": [
    "quicksave_dir = __cache__ / \"quicksaves\"\n",
    "pattern = \"{slide_id}__{sample_id}__{savetime}__{uid}\"\n",
    "\n",
    "res = {\n",
    "    \"slide_id\": [],\n",
    "    \"sample_id\": [],\n",
    "    \"savetime\": [],\n",
    "    \"uid\": []\n",
    "}\n",
    "\n",
    "for f in quicksave_dir.glob(\"*\"):\n",
    "    parse_res = parse(pattern, f.stem).named\n",
    "    for key, value in parse_res.items():\n",
    "        res[key].append(value)\n",
    "    "
   ]
  },
  {
   "cell_type": "code",
   "execution_count": 181,
   "id": "ec691f17",
   "metadata": {},
   "outputs": [
    {
     "data": {
      "text/plain": [
       "False"
      ]
     },
     "execution_count": 181,
     "metadata": {},
     "output_type": "execute_result"
    }
   ],
   "source": [
    "quicksave_dir.exists()"
   ]
  },
  {
   "cell_type": "code",
   "execution_count": 180,
   "id": "03b3e42c",
   "metadata": {},
   "outputs": [
    {
     "data": {
      "text/plain": [
       "<generator object Path.glob at 0x0000022090193190>"
      ]
     },
     "execution_count": 180,
     "metadata": {},
     "output_type": "execute_result"
    }
   ],
   "source": [
    "quicksave_dir.glob(\"*\")"
   ]
  },
  {
   "cell_type": "code",
   "execution_count": 179,
   "id": "8b06c0b5",
   "metadata": {},
   "outputs": [
    {
     "data": {
      "text/html": [
       "<div>\n",
       "<style scoped>\n",
       "    .dataframe tbody tr th:only-of-type {\n",
       "        vertical-align: middle;\n",
       "    }\n",
       "\n",
       "    .dataframe tbody tr th {\n",
       "        vertical-align: top;\n",
       "    }\n",
       "\n",
       "    .dataframe thead th {\n",
       "        text-align: right;\n",
       "    }\n",
       "</style>\n",
       "<table border=\"1\" class=\"dataframe\">\n",
       "  <thead>\n",
       "    <tr style=\"text-align: right;\">\n",
       "      <th></th>\n",
       "      <th>slide_id</th>\n",
       "      <th>sample_id</th>\n",
       "      <th>savetime</th>\n",
       "      <th>uid</th>\n",
       "    </tr>\n",
       "  </thead>\n",
       "  <tbody>\n",
       "  </tbody>\n",
       "</table>\n",
       "</div>"
      ],
      "text/plain": [
       "Empty DataFrame\n",
       "Columns: [slide_id, sample_id, savetime, uid]\n",
       "Index: []"
      ]
     },
     "execution_count": 179,
     "metadata": {},
     "output_type": "execute_result"
    }
   ],
   "source": [
    "pd.DataFrame(res)"
   ]
  },
  {
   "cell_type": "code",
   "execution_count": 169,
   "id": "9a9d75ce",
   "metadata": {},
   "outputs": [
    {
     "data": {
      "text/plain": [
       "WindowsPath('C:/Users/ge37voy/.cache/InSituPy/quicksaves/slide_id__sample_id__240126_17-47-11__a1c35fd3.zip')"
      ]
     },
     "execution_count": 169,
     "metadata": {},
     "output_type": "execute_result"
    }
   ],
   "source": [
    "f"
   ]
  },
  {
   "cell_type": "code",
   "execution_count": null,
   "id": "41b3c1d2",
   "metadata": {},
   "outputs": [],
   "source": []
  },
  {
   "cell_type": "code",
   "execution_count": 165,
   "id": "e48d9fe5",
   "metadata": {},
   "outputs": [],
   "source": [
    "a = parse_res.named\n",
    "b = parse_res.named"
   ]
  },
  {
   "cell_type": "code",
   "execution_count": 166,
   "id": "d05de083",
   "metadata": {},
   "outputs": [],
   "source": [
    "a.update(b)"
   ]
  },
  {
   "cell_type": "code",
   "execution_count": 167,
   "id": "aa03681f",
   "metadata": {},
   "outputs": [
    {
     "data": {
      "text/plain": [
       "{'slide_id': 'C:/Users/ge37voy/.cache/InSituPy/quicksaves/slide_id',\n",
       " 'sample_id': 'sample_id',\n",
       " 'date_time': '240126_17-47-11',\n",
       " 'uid': 'a1c35fd3.zip'}"
      ]
     },
     "execution_count": 167,
     "metadata": {},
     "output_type": "execute_result"
    }
   ],
   "source": [
    "a"
   ]
  },
  {
   "cell_type": "code",
   "execution_count": 162,
   "id": "07e42225",
   "metadata": {},
   "outputs": [
    {
     "data": {
      "text/plain": [
       "{'slide_id': 'C:/Users/ge37voy/.cache/InSituPy/quicksaves/slide_id',\n",
       " 'sample_id': 'sample_id',\n",
       " 'date_time': '240126_17-47-11',\n",
       " 'uid': 'a1c35fd3.zip'}"
      ]
     },
     "execution_count": 162,
     "metadata": {},
     "output_type": "execute_result"
    }
   ],
   "source": [
    "a"
   ]
  },
  {
   "cell_type": "code",
   "execution_count": 157,
   "id": "3fa9fda9",
   "metadata": {},
   "outputs": [],
   "source": [
    "import pandas as pd"
   ]
  },
  {
   "cell_type": "code",
   "execution_count": 160,
   "id": "068075d7",
   "metadata": {},
   "outputs": [
    {
     "ename": "TypeError",
     "evalue": "cannot concatenate object of type '<class 'dict'>'; only Series and DataFrame objs are valid",
     "output_type": "error",
     "traceback": [
      "\u001b[1;31m---------------------------------------------------------------------------\u001b[0m",
      "\u001b[1;31mTypeError\u001b[0m                                 Traceback (most recent call last)",
      "Cell \u001b[1;32mIn[160], line 1\u001b[0m\n\u001b[1;32m----> 1\u001b[0m \u001b[43mpd\u001b[49m\u001b[38;5;241;43m.\u001b[39;49m\u001b[43mconcat\u001b[49m\u001b[43m(\u001b[49m\u001b[43m[\u001b[49m\u001b[43ma\u001b[49m\u001b[43m,\u001b[49m\u001b[43mb\u001b[49m\u001b[43m]\u001b[49m\u001b[43m)\u001b[49m\n",
      "File \u001b[1;32mc:\\Users\\ge37voy\\AppData\\Local\\miniconda3\\envs\\insitupy\\lib\\site-packages\\pandas\\core\\reshape\\concat.py:380\u001b[0m, in \u001b[0;36mconcat\u001b[1;34m(objs, axis, join, ignore_index, keys, levels, names, verify_integrity, sort, copy)\u001b[0m\n\u001b[0;32m    377\u001b[0m \u001b[38;5;28;01melif\u001b[39;00m copy \u001b[38;5;129;01mand\u001b[39;00m using_copy_on_write():\n\u001b[0;32m    378\u001b[0m     copy \u001b[38;5;241m=\u001b[39m \u001b[38;5;28;01mFalse\u001b[39;00m\n\u001b[1;32m--> 380\u001b[0m op \u001b[38;5;241m=\u001b[39m \u001b[43m_Concatenator\u001b[49m\u001b[43m(\u001b[49m\n\u001b[0;32m    381\u001b[0m \u001b[43m    \u001b[49m\u001b[43mobjs\u001b[49m\u001b[43m,\u001b[49m\n\u001b[0;32m    382\u001b[0m \u001b[43m    \u001b[49m\u001b[43maxis\u001b[49m\u001b[38;5;241;43m=\u001b[39;49m\u001b[43maxis\u001b[49m\u001b[43m,\u001b[49m\n\u001b[0;32m    383\u001b[0m \u001b[43m    \u001b[49m\u001b[43mignore_index\u001b[49m\u001b[38;5;241;43m=\u001b[39;49m\u001b[43mignore_index\u001b[49m\u001b[43m,\u001b[49m\n\u001b[0;32m    384\u001b[0m \u001b[43m    \u001b[49m\u001b[43mjoin\u001b[49m\u001b[38;5;241;43m=\u001b[39;49m\u001b[43mjoin\u001b[49m\u001b[43m,\u001b[49m\n\u001b[0;32m    385\u001b[0m \u001b[43m    \u001b[49m\u001b[43mkeys\u001b[49m\u001b[38;5;241;43m=\u001b[39;49m\u001b[43mkeys\u001b[49m\u001b[43m,\u001b[49m\n\u001b[0;32m    386\u001b[0m \u001b[43m    \u001b[49m\u001b[43mlevels\u001b[49m\u001b[38;5;241;43m=\u001b[39;49m\u001b[43mlevels\u001b[49m\u001b[43m,\u001b[49m\n\u001b[0;32m    387\u001b[0m \u001b[43m    \u001b[49m\u001b[43mnames\u001b[49m\u001b[38;5;241;43m=\u001b[39;49m\u001b[43mnames\u001b[49m\u001b[43m,\u001b[49m\n\u001b[0;32m    388\u001b[0m \u001b[43m    \u001b[49m\u001b[43mverify_integrity\u001b[49m\u001b[38;5;241;43m=\u001b[39;49m\u001b[43mverify_integrity\u001b[49m\u001b[43m,\u001b[49m\n\u001b[0;32m    389\u001b[0m \u001b[43m    \u001b[49m\u001b[43mcopy\u001b[49m\u001b[38;5;241;43m=\u001b[39;49m\u001b[43mcopy\u001b[49m\u001b[43m,\u001b[49m\n\u001b[0;32m    390\u001b[0m \u001b[43m    \u001b[49m\u001b[43msort\u001b[49m\u001b[38;5;241;43m=\u001b[39;49m\u001b[43msort\u001b[49m\u001b[43m,\u001b[49m\n\u001b[0;32m    391\u001b[0m \u001b[43m\u001b[49m\u001b[43m)\u001b[49m\n\u001b[0;32m    393\u001b[0m \u001b[38;5;28;01mreturn\u001b[39;00m op\u001b[38;5;241m.\u001b[39mget_result()\n",
      "File \u001b[1;32mc:\\Users\\ge37voy\\AppData\\Local\\miniconda3\\envs\\insitupy\\lib\\site-packages\\pandas\\core\\reshape\\concat.py:446\u001b[0m, in \u001b[0;36m_Concatenator.__init__\u001b[1;34m(self, objs, axis, join, keys, levels, names, ignore_index, verify_integrity, copy, sort)\u001b[0m\n\u001b[0;32m    443\u001b[0m objs, keys \u001b[38;5;241m=\u001b[39m \u001b[38;5;28mself\u001b[39m\u001b[38;5;241m.\u001b[39m_clean_keys_and_objs(objs, keys)\n\u001b[0;32m    445\u001b[0m \u001b[38;5;66;03m# figure out what our result ndim is going to be\u001b[39;00m\n\u001b[1;32m--> 446\u001b[0m ndims \u001b[38;5;241m=\u001b[39m \u001b[38;5;28;43mself\u001b[39;49m\u001b[38;5;241;43m.\u001b[39;49m\u001b[43m_get_ndims\u001b[49m\u001b[43m(\u001b[49m\u001b[43mobjs\u001b[49m\u001b[43m)\u001b[49m\n\u001b[0;32m    447\u001b[0m sample, objs \u001b[38;5;241m=\u001b[39m \u001b[38;5;28mself\u001b[39m\u001b[38;5;241m.\u001b[39m_get_sample_object(objs, ndims, keys, names, levels)\n\u001b[0;32m    449\u001b[0m \u001b[38;5;66;03m# Standardize axis parameter to int\u001b[39;00m\n",
      "File \u001b[1;32mc:\\Users\\ge37voy\\AppData\\Local\\miniconda3\\envs\\insitupy\\lib\\site-packages\\pandas\\core\\reshape\\concat.py:487\u001b[0m, in \u001b[0;36m_Concatenator._get_ndims\u001b[1;34m(self, objs)\u001b[0m\n\u001b[0;32m    482\u001b[0m     \u001b[38;5;28;01mif\u001b[39;00m \u001b[38;5;129;01mnot\u001b[39;00m \u001b[38;5;28misinstance\u001b[39m(obj, (ABCSeries, ABCDataFrame)):\n\u001b[0;32m    483\u001b[0m         msg \u001b[38;5;241m=\u001b[39m (\n\u001b[0;32m    484\u001b[0m             \u001b[38;5;124mf\u001b[39m\u001b[38;5;124m\"\u001b[39m\u001b[38;5;124mcannot concatenate object of type \u001b[39m\u001b[38;5;124m'\u001b[39m\u001b[38;5;132;01m{\u001b[39;00m\u001b[38;5;28mtype\u001b[39m(obj)\u001b[38;5;132;01m}\u001b[39;00m\u001b[38;5;124m'\u001b[39m\u001b[38;5;124m; \u001b[39m\u001b[38;5;124m\"\u001b[39m\n\u001b[0;32m    485\u001b[0m             \u001b[38;5;124m\"\u001b[39m\u001b[38;5;124monly Series and DataFrame objs are valid\u001b[39m\u001b[38;5;124m\"\u001b[39m\n\u001b[0;32m    486\u001b[0m         )\n\u001b[1;32m--> 487\u001b[0m         \u001b[38;5;28;01mraise\u001b[39;00m \u001b[38;5;167;01mTypeError\u001b[39;00m(msg)\n\u001b[0;32m    489\u001b[0m     ndims\u001b[38;5;241m.\u001b[39madd(obj\u001b[38;5;241m.\u001b[39mndim)\n\u001b[0;32m    490\u001b[0m \u001b[38;5;28;01mreturn\u001b[39;00m ndims\n",
      "\u001b[1;31mTypeError\u001b[0m: cannot concatenate object of type '<class 'dict'>'; only Series and DataFrame objs are valid"
     ]
    }
   ],
   "source": [
    "pd.concat([a,b])"
   ]
  },
  {
   "cell_type": "code",
   "execution_count": null,
   "id": "e50ede66",
   "metadata": {},
   "outputs": [],
   "source": []
  },
  {
   "cell_type": "code",
   "execution_count": 90,
   "id": "172b73da",
   "metadata": {},
   "outputs": [
    {
     "data": {
      "text/plain": [
       "WindowsPath('C:/Users')"
      ]
     },
     "execution_count": 90,
     "metadata": {},
     "output_type": "execute_result"
    }
   ],
   "source": [
    "Path.home().parent"
   ]
  },
  {
   "cell_type": "code",
   "execution_count": 88,
   "id": "d4a5e7a0",
   "metadata": {},
   "outputs": [],
   "source": [
    "import shutil"
   ]
  },
  {
   "cell_type": "code",
   "execution_count": 128,
   "id": "0a1ba901",
   "metadata": {},
   "outputs": [
    {
     "ename": "TypeError",
     "evalue": "make_archive() missing 2 required positional arguments: 'base_name' and 'format'",
     "output_type": "error",
     "traceback": [
      "\u001b[1;31m---------------------------------------------------------------------------\u001b[0m",
      "\u001b[1;31mTypeError\u001b[0m                                 Traceback (most recent call last)",
      "Cell \u001b[1;32mIn[128], line 1\u001b[0m\n\u001b[1;32m----> 1\u001b[0m \u001b[43mshutil\u001b[49m\u001b[38;5;241;43m.\u001b[39;49m\u001b[43mmake_archive\u001b[49m\u001b[43m(\u001b[49m\u001b[43m)\u001b[49m\n",
      "\u001b[1;31mTypeError\u001b[0m: make_archive() missing 2 required positional arguments: 'base_name' and 'format'"
     ]
    }
   ],
   "source": [
    "shutil.make_archive()"
   ]
  },
  {
   "cell_type": "code",
   "execution_count": null,
   "id": "a37911e2",
   "metadata": {},
   "outputs": [],
   "source": []
  },
  {
   "cell_type": "code",
   "execution_count": null,
   "id": "3b6d0887",
   "metadata": {},
   "outputs": [],
   "source": [
    "from datetime import datetime\n",
    "from uuid import uuid4\n",
    "current_datetime = datetime.now().strftime(\"%y%m%d_%H-%M-%S\")\n",
    "\n",
    "slide_id = xd.slide_id\n",
    "sample_id = xd.sample_id\n",
    "uid = str(uuid4())[:8]\n",
    "\n",
    "filename = f\"{slide_id}__{sample_id}__{current_datetime}__{uid}\""
   ]
  },
  {
   "cell_type": "code",
   "execution_count": 69,
   "id": "b7344a45",
   "metadata": {},
   "outputs": [
    {
     "data": {
      "text/plain": [
       "'slide_id__sample_id__240126_16-16-03__ee75b902'"
      ]
     },
     "execution_count": 69,
     "metadata": {},
     "output_type": "execute_result"
    }
   ],
   "source": [
    "filename"
   ]
  },
  {
   "cell_type": "code",
   "execution_count": 61,
   "id": "b2894b98",
   "metadata": {},
   "outputs": [
    {
     "data": {
      "text/plain": [
       "'8105b8ab'"
      ]
     },
     "execution_count": 61,
     "metadata": {},
     "output_type": "execute_result"
    }
   ],
   "source": []
  },
  {
   "cell_type": "code",
   "execution_count": 50,
   "id": "3ea0863b",
   "metadata": {},
   "outputs": [
    {
     "data": {
      "text/plain": [
       "\u001b[1m\u001b[31mXeniumData\u001b[0m\n",
       "\u001b[1mSlide ID:\u001b[0m\tslide_id\n",
       "\u001b[1mSample ID:\u001b[0m\tsample_id\n",
       "\u001b[1mData path:\u001b[0m\t..\\demo_dataset\n",
       "\u001b[1mData folder:\u001b[0m\toutput-XETG00000__slide_id__sample_id\n",
       "\u001b[1mMetadata file:\u001b[0m\texperiment_modified.xenium\n",
       "    ➤ \u001b[34m\u001b[1mimages\u001b[0m\n",
       "       \u001b[1mnuclei:\u001b[0m\t(25778, 35416)\n",
       "       \u001b[1mCD20:\u001b[0m\t(25778, 35416)\n",
       "       \u001b[1mHER2:\u001b[0m\t(25778, 35416)\n",
       "       \u001b[1mHE:\u001b[0m\t(25778, 35416, 3)\n",
       "    ➤\u001b[32m\u001b[1m cells\u001b[0m\n",
       "       \u001b[1mmatrix\u001b[0m\n",
       "           AnnData object with n_obs × n_vars = 167780 × 313\n",
       "           obs: 'transcript_counts', 'control_probe_counts', 'control_codeword_counts', 'total_counts', 'cell_area', 'nucleus_area'\n",
       "           var: 'gene_ids', 'feature_types', 'genome'\n",
       "           obsm: 'spatial'\n",
       "       \u001b[1mboundaries\u001b[0m\n",
       "           BoundariesData object with 2 entries:\n",
       "               \u001b[1mcellular\u001b[0m\n",
       "               \u001b[1mnuclear\u001b[0m\n",
       "    ➤\u001b[95m\u001b[1m transcripts\u001b[0m\n",
       "       DataFrame with shape 42638083 x 8\n",
       "    ➤ \u001b[36m\u001b[1mannotations\u001b[0m\n",
       "       \u001b[1mdemo:\u001b[0m\t4 annotations, 2 classes ('Positive', 'Negative') \n",
       "       \u001b[1mdemo2:\u001b[0m\t5 annotations, 3 classes ('Negative', 'Positive', 'Other') \n",
       "    ➤ \u001b[33m\u001b[1mregions\u001b[0m\n",
       "       \u001b[1mdemo_regions:\u001b[0m\t3 regions \n",
       "       \u001b[1mTMA:\u001b[0m\t6 regions "
      ]
     },
     "execution_count": 50,
     "metadata": {},
     "output_type": "execute_result"
    }
   ],
   "source": [
    "xd"
   ]
  },
  {
   "cell_type": "code",
   "execution_count": 48,
   "id": "27c20d99",
   "metadata": {},
   "outputs": [
    {
     "data": {
      "text/plain": [
       "'slide_id'"
      ]
     },
     "execution_count": 48,
     "metadata": {},
     "output_type": "execute_result"
    }
   ],
   "source": [
    "slide_id"
   ]
  },
  {
   "cell_type": "code",
   "execution_count": 23,
   "id": "0407ec68",
   "metadata": {},
   "outputs": [
    {
     "data": {
      "text/plain": [
       "'slide_id'"
      ]
     },
     "execution_count": 23,
     "metadata": {},
     "output_type": "execute_result"
    }
   ],
   "source": [
    "xd.slide_id"
   ]
  },
  {
   "cell_type": "code",
   "execution_count": null,
   "id": "a44e06d3",
   "metadata": {},
   "outputs": [],
   "source": []
  },
  {
   "cell_type": "code",
   "execution_count": 20,
   "id": "6ec07ad2",
   "metadata": {},
   "outputs": [],
   "source": [
    "import insitupy"
   ]
  },
  {
   "cell_type": "code",
   "execution_count": null,
   "id": "30a65cc6",
   "metadata": {},
   "outputs": [],
   "source": []
  },
  {
   "cell_type": "code",
   "execution_count": 11,
   "id": "37ae64dc",
   "metadata": {},
   "outputs": [
    {
     "data": {
      "text/html": [
       "<div>\n",
       "<style scoped>\n",
       "    .dataframe tbody tr th:only-of-type {\n",
       "        vertical-align: middle;\n",
       "    }\n",
       "\n",
       "    .dataframe tbody tr th {\n",
       "        vertical-align: top;\n",
       "    }\n",
       "\n",
       "    .dataframe thead th {\n",
       "        text-align: right;\n",
       "    }\n",
       "</style>\n",
       "<table border=\"1\" class=\"dataframe\">\n",
       "  <thead>\n",
       "    <tr style=\"text-align: right;\">\n",
       "      <th></th>\n",
       "      <th>transcript_id</th>\n",
       "      <th>cell_id</th>\n",
       "      <th>overlaps_nucleus</th>\n",
       "      <th>feature_name</th>\n",
       "      <th>x_location</th>\n",
       "      <th>y_location</th>\n",
       "      <th>z_location</th>\n",
       "      <th>qv</th>\n",
       "    </tr>\n",
       "  </thead>\n",
       "  <tbody>\n",
       "    <tr>\n",
       "      <th>0</th>\n",
       "      <td>281474976710656</td>\n",
       "      <td>565</td>\n",
       "      <td>0</td>\n",
       "      <td>SEC11C</td>\n",
       "      <td>4.395842</td>\n",
       "      <td>328.666473</td>\n",
       "      <td>12.019493</td>\n",
       "      <td>18.662479</td>\n",
       "    </tr>\n",
       "    <tr>\n",
       "      <th>1</th>\n",
       "      <td>281474976710657</td>\n",
       "      <td>540</td>\n",
       "      <td>0</td>\n",
       "      <td>NegControlCodeword_0502</td>\n",
       "      <td>5.074415</td>\n",
       "      <td>236.964844</td>\n",
       "      <td>7.608510</td>\n",
       "      <td>18.634956</td>\n",
       "    </tr>\n",
       "    <tr>\n",
       "      <th>2</th>\n",
       "      <td>281474976710658</td>\n",
       "      <td>562</td>\n",
       "      <td>0</td>\n",
       "      <td>SEC11C</td>\n",
       "      <td>4.702023</td>\n",
       "      <td>322.797150</td>\n",
       "      <td>12.289083</td>\n",
       "      <td>18.662479</td>\n",
       "    </tr>\n",
       "    <tr>\n",
       "      <th>3</th>\n",
       "      <td>281474976710659</td>\n",
       "      <td>271</td>\n",
       "      <td>0</td>\n",
       "      <td>DAPK3</td>\n",
       "      <td>4.906601</td>\n",
       "      <td>581.428650</td>\n",
       "      <td>11.222615</td>\n",
       "      <td>20.821745</td>\n",
       "    </tr>\n",
       "    <tr>\n",
       "      <th>4</th>\n",
       "      <td>281474976710660</td>\n",
       "      <td>291</td>\n",
       "      <td>0</td>\n",
       "      <td>TCIM</td>\n",
       "      <td>5.660699</td>\n",
       "      <td>720.851746</td>\n",
       "      <td>9.265523</td>\n",
       "      <td>18.017488</td>\n",
       "    </tr>\n",
       "    <tr>\n",
       "      <th>...</th>\n",
       "      <td>...</td>\n",
       "      <td>...</td>\n",
       "      <td>...</td>\n",
       "      <td>...</td>\n",
       "      <td>...</td>\n",
       "      <td>...</td>\n",
       "      <td>...</td>\n",
       "      <td>...</td>\n",
       "    </tr>\n",
       "    <tr>\n",
       "      <th>42638078</th>\n",
       "      <td>281805689407068</td>\n",
       "      <td>-1</td>\n",
       "      <td>0</td>\n",
       "      <td>HOXD8</td>\n",
       "      <td>5218.000488</td>\n",
       "      <td>5295.519531</td>\n",
       "      <td>30.560934</td>\n",
       "      <td>20.061079</td>\n",
       "    </tr>\n",
       "    <tr>\n",
       "      <th>42638079</th>\n",
       "      <td>281805689407071</td>\n",
       "      <td>135717</td>\n",
       "      <td>1</td>\n",
       "      <td>LUM</td>\n",
       "      <td>5218.804688</td>\n",
       "      <td>4792.928223</td>\n",
       "      <td>38.440426</td>\n",
       "      <td>21.389278</td>\n",
       "    </tr>\n",
       "    <tr>\n",
       "      <th>42638080</th>\n",
       "      <td>281805689407078</td>\n",
       "      <td>-1</td>\n",
       "      <td>0</td>\n",
       "      <td>LUM</td>\n",
       "      <td>5217.404785</td>\n",
       "      <td>5425.386230</td>\n",
       "      <td>30.519602</td>\n",
       "      <td>21.960102</td>\n",
       "    </tr>\n",
       "    <tr>\n",
       "      <th>42638081</th>\n",
       "      <td>281805689407083</td>\n",
       "      <td>-1</td>\n",
       "      <td>0</td>\n",
       "      <td>NARS</td>\n",
       "      <td>5220.155273</td>\n",
       "      <td>4839.704102</td>\n",
       "      <td>32.180698</td>\n",
       "      <td>25.970398</td>\n",
       "    </tr>\n",
       "    <tr>\n",
       "      <th>42638082</th>\n",
       "      <td>281805689407092</td>\n",
       "      <td>135716</td>\n",
       "      <td>0</td>\n",
       "      <td>LUM</td>\n",
       "      <td>5220.235840</td>\n",
       "      <td>4738.751953</td>\n",
       "      <td>30.208746</td>\n",
       "      <td>20.524120</td>\n",
       "    </tr>\n",
       "  </tbody>\n",
       "</table>\n",
       "<p>42638083 rows × 8 columns</p>\n",
       "</div>"
      ],
      "text/plain": [
       "            transcript_id  cell_id  overlaps_nucleus             feature_name  \\\n",
       "0         281474976710656      565                 0                   SEC11C   \n",
       "1         281474976710657      540                 0  NegControlCodeword_0502   \n",
       "2         281474976710658      562                 0                   SEC11C   \n",
       "3         281474976710659      271                 0                    DAPK3   \n",
       "4         281474976710660      291                 0                     TCIM   \n",
       "...                   ...      ...               ...                      ...   \n",
       "42638078  281805689407068       -1                 0                    HOXD8   \n",
       "42638079  281805689407071   135717                 1                      LUM   \n",
       "42638080  281805689407078       -1                 0                      LUM   \n",
       "42638081  281805689407083       -1                 0                     NARS   \n",
       "42638082  281805689407092   135716                 0                      LUM   \n",
       "\n",
       "           x_location   y_location  z_location         qv  \n",
       "0            4.395842   328.666473   12.019493  18.662479  \n",
       "1            5.074415   236.964844    7.608510  18.634956  \n",
       "2            4.702023   322.797150   12.289083  18.662479  \n",
       "3            4.906601   581.428650   11.222615  20.821745  \n",
       "4            5.660699   720.851746    9.265523  18.017488  \n",
       "...               ...          ...         ...        ...  \n",
       "42638078  5218.000488  5295.519531   30.560934  20.061079  \n",
       "42638079  5218.804688  4792.928223   38.440426  21.389278  \n",
       "42638080  5217.404785  5425.386230   30.519602  21.960102  \n",
       "42638081  5220.155273  4839.704102   32.180698  25.970398  \n",
       "42638082  5220.235840  4738.751953   30.208746  20.524120  \n",
       "\n",
       "[42638083 rows x 8 columns]"
      ]
     },
     "execution_count": 11,
     "metadata": {},
     "output_type": "execute_result"
    }
   ],
   "source": [
    "xd.transcripts"
   ]
  },
  {
   "cell_type": "code",
   "execution_count": null,
   "id": "5e64b1e1",
   "metadata": {},
   "outputs": [],
   "source": []
  },
  {
   "cell_type": "code",
   "execution_count": 10,
   "id": "b8b19278",
   "metadata": {},
   "outputs": [
    {
     "name": "stdout",
     "output_type": "stream",
     "text": [
      "demo2\n",
      "demo\n",
      "demo2\n"
     ]
    }
   ],
   "source": [
    "xd.show(annotation_keys=\"demo\")"
   ]
  },
  {
   "cell_type": "code",
   "execution_count": 19,
   "id": "28d1fe8a",
   "metadata": {},
   "outputs": [
    {
     "name": "stdout",
     "output_type": "stream",
     "text": [
      "except\n"
     ]
    }
   ],
   "source": [
    "try:\n",
    "    cells = xd.blubb\n",
    "    cells.matrix\n",
    "except AttributeError:\n",
    "    print(\"except\")\n",
    "    pass\n",
    "else:\n",
    "    print(\"else\")"
   ]
  },
  {
   "cell_type": "code",
   "execution_count": 11,
   "id": "62a61395",
   "metadata": {},
   "outputs": [
    {
     "data": {
      "text/plain": [
       "\u001b[1m\u001b[31mXeniumData\u001b[0m\n",
       "\u001b[1mSlide ID:\u001b[0m\tslide_id\n",
       "\u001b[1mSample ID:\u001b[0m\tsample_id\n",
       "\u001b[1mData path:\u001b[0m\t..\\demo_dataset\n",
       "\u001b[1mData folder:\u001b[0m\toutput-XETG00000__slide_id__sample_id\n",
       "\u001b[1mMetadata file:\u001b[0m\texperiment_modified.xenium\n",
       "    ➤ \u001b[34m\u001b[1mimages\u001b[0m\n",
       "       \u001b[1mnuclei:\u001b[0m\t(25778, 35416)\n",
       "       \u001b[1mCD20:\u001b[0m\t(25778, 35416)\n",
       "       \u001b[1mHER2:\u001b[0m\t(25778, 35416)\n",
       "       \u001b[1mHE:\u001b[0m\t(25778, 35416, 3)\n",
       "    ➤\u001b[32m\u001b[1m cells\u001b[0m\n",
       "       \u001b[1mmatrix\u001b[0m\n",
       "           AnnData object with n_obs × n_vars = 167780 × 313\n",
       "           obs: 'transcript_counts', 'control_probe_counts', 'control_codeword_counts', 'total_counts', 'cell_area', 'nucleus_area'\n",
       "           var: 'gene_ids', 'feature_types', 'genome'\n",
       "           obsm: 'spatial'\n",
       "       \u001b[1mboundaries\u001b[0m\n",
       "           BoundariesData object with 2 entries:\n",
       "               \u001b[1mcellular\u001b[0m\n",
       "               \u001b[1mnuclear\u001b[0m\n",
       "    ➤\u001b[95m\u001b[1m transcripts\u001b[0m\n",
       "       DataFrame with shape 42638083 x 8\n",
       "    ➤ \u001b[36m\u001b[1mannotations\u001b[0m\n",
       "       \u001b[1mdemo:\u001b[0m\t4 annotations, 2 classes ('Positive', 'Negative') \n",
       "       \u001b[1mdemo2:\u001b[0m\t5 annotations, 3 classes ('Negative', 'Positive', 'Other') \n",
       "    ➤ \u001b[33m\u001b[1mregions\u001b[0m\n",
       "       \u001b[1mdemo_regions:\u001b[0m\t3 regions \n",
       "       \u001b[1mTMA:\u001b[0m\t6 regions "
      ]
     },
     "execution_count": 11,
     "metadata": {},
     "output_type": "execute_result"
    }
   ],
   "source": [
    "xd"
   ]
  },
  {
   "cell_type": "markdown",
   "id": "8b725a93",
   "metadata": {},
   "source": [
    "### Visualize and edit annotations using napari\n",
    "\n",
    "To show all annoation labels set `annotation_labels=\"all\"`. We can also only show one specific annotation label or a list of labels, e.g. `xd.show(annotation_labels=\"demo2\")`.\n"
   ]
  },
  {
   "cell_type": "code",
   "execution_count": 12,
   "id": "b6dc4416-8fe4-4322-9b10-a66abd7fb320",
   "metadata": {},
   "outputs": [
    {
     "name": "stderr",
     "output_type": "stream",
     "text": [
      "WARNING: QWindowsWindow::setGeometry: Unable to set geometry 853x533+235-298 (frame: 875x589+224-343) on QWidgetWindow/\"_QtMainWindowClassWindow\" on \"\\\\.\\DISPLAY1\". Resulting geometry: 853x982+235-298 (frame: 875x1038+224-343) margins: 11, 45, 11, 11 minimum size: 385x491 MINMAXINFO maxSize=0,0 maxpos=0,0 mintrack=792,1038 maxtrack=0,0)\n"
     ]
    }
   ],
   "source": [
    "xd.show(annotation_labels=\"demo2\")"
   ]
  },
  {
   "cell_type": "code",
   "execution_count": 10,
   "id": "b994f06e",
   "metadata": {},
   "outputs": [
    {
     "name": "stdout",
     "output_type": "stream",
     "text": [
      "Reading cells...\n"
     ]
    }
   ],
   "source": [
    "xd.read_cells()"
   ]
  },
  {
   "cell_type": "code",
   "execution_count": 58,
   "id": "3ce22558",
   "metadata": {},
   "outputs": [
    {
     "name": "stderr",
     "output_type": "stream",
     "text": [
      "WARNING: QWindowsWindow::setGeometry: Unable to set geometry 853x533+102-541 (frame: 869x572+94-572) on QWidgetWindow/\"_QtMainWindowClassWindow\" on \"\\\\.\\DISPLAY2\". Resulting geometry: 567x653+99-555 (frame: 583x692+91-586) margins: 8, 31, 8, 8 minimum size: 385x492 MINMAXINFO maxSize=0,0 maxpos=0,0 mintrack=401,531 maxtrack=0,0)\n",
      "WARNING: QWindowsWindow::setGeometry: Unable to set geometry 864x1489+99-555 (frame: 886x1545+88-600) on QWidgetWindow/\"_QtMainWindowClassWindow\" on \"\\\\.\\DISPLAY1\". Resulting geometry: 1298x2236+102-541 (frame: 1320x2292+91-586) margins: 11, 45, 11, 11 minimum size: 385x492 MINMAXINFO maxSize=0,0 maxpos=0,0 mintrack=792,1040 maxtrack=0,0)\n"
     ]
    }
   ],
   "source": [
    "xd.show()"
   ]
  },
  {
   "cell_type": "code",
   "execution_count": 61,
   "id": "1797ecc0-8406-488a-bbc1-cf2607929176",
   "metadata": {},
   "outputs": [
    {
     "data": {
      "text/plain": [
       "array([[ 9828.86495405,  6183.45101857],\n",
       "       [ 9828.86495405, 10917.9511538 ],\n",
       "       [13318.43676687, 10917.9511538 ],\n",
       "       [13318.43676687,  6183.45101857]])"
      ]
     },
     "execution_count": 61,
     "metadata": {},
     "output_type": "execute_result"
    }
   ],
   "source": [
    "xd.viewer.layers['Shapes'].data[0]"
   ]
  },
  {
   "cell_type": "code",
   "execution_count": 63,
   "id": "3ef43522-89b1-43ff-8411-44074c8878e3",
   "metadata": {},
   "outputs": [
    {
     "data": {
      "text/plain": [
       "array([[2088.63380274, 1313.98334145],\n",
       "       [2088.63380274, 2320.06462018],\n",
       "       [2830.16781296, 2320.06462018],\n",
       "       [2830.16781296, 1313.98334145]])"
      ]
     },
     "execution_count": 63,
     "metadata": {},
     "output_type": "execute_result"
    }
   ],
   "source": [
    "xd.viewer.layers['Shapes'].data[0] * xd.metadata[\"pixel_size\"]"
   ]
  },
  {
   "cell_type": "code",
   "execution_count": 65,
   "id": "62109017-7386-4277-9e1e-3468a3775f50",
   "metadata": {},
   "outputs": [
    {
     "data": {
      "text/plain": [
       "array([[ 847.25991211,  326.19136505],\n",
       "       [ 826.34199524,  328.03182983],\n",
       "       [ 848.76691895,  331.74318695],\n",
       "       ...,\n",
       "       [7470.15942383, 5119.13205566],\n",
       "       [7477.73720703, 5128.71281738],\n",
       "       [7489.3765625 , 5123.19777832]])"
      ]
     },
     "execution_count": 65,
     "metadata": {},
     "output_type": "execute_result"
    }
   ],
   "source": [
    "xd.cells.matrix.obsm['spatial']"
   ]
  },
  {
   "cell_type": "code",
   "execution_count": 119,
   "id": "0488ca34-81e4-4ef1-bea5-478d25b82441",
   "metadata": {},
   "outputs": [
    {
     "name": "stderr",
     "output_type": "stream",
     "text": [
      "WARNING: QWindowsWindow::setGeometry: Unable to set geometry 853x533+235-298 (frame: 875x589+224-343) on QWidgetWindow/\"_QtMainWindowClassWindow\" on \"\\\\.\\DISPLAY1\". Resulting geometry: 853x982+235-298 (frame: 875x1038+224-343) margins: 11, 45, 11, 11 minimum size: 385x491 MINMAXINFO maxSize=0,0 maxpos=0,0 mintrack=792,1038 maxtrack=0,0)\n"
     ]
    }
   ],
   "source": [
    "xd.show()"
   ]
  },
  {
   "cell_type": "code",
   "execution_count": 120,
   "id": "b4fea20e",
   "metadata": {},
   "outputs": [],
   "source": [
    "xd_cropped = xd.crop(shape_layer=\"Shapes\")"
   ]
  },
  {
   "cell_type": "code",
   "execution_count": 121,
   "id": "871494ea",
   "metadata": {},
   "outputs": [
    {
     "data": {
      "text/plain": [
       "\u001b[1m\u001b[31mXeniumData\u001b[0m\n",
       "\u001b[1mSlide ID:\u001b[0m\tslide_id\n",
       "\u001b[1mSample ID:\u001b[0m\tsample_id\n",
       "\u001b[1mData path:\u001b[0m\t..\\demo_dataset\n",
       "\u001b[1mData folder:\u001b[0m\toutput-XETG00000__slide_id__sample_id\n",
       "\u001b[1mMetadata file:\u001b[0m\texperiment_modified.xenium\n",
       "    ➤ \u001b[34m\u001b[1mimages\u001b[0m\n",
       "       \u001b[1mnuclei:\u001b[0m\t(3680, 4130)\n",
       "       \u001b[1mCD20:\u001b[0m\t(3680, 4130)\n",
       "       \u001b[1mHER2:\u001b[0m\t(3680, 4130)\n",
       "       \u001b[1mHE:\u001b[0m\t(3680, 4130, 3)\n",
       "    ➤\u001b[32m\u001b[1m cells\u001b[0m\n",
       "       \u001b[1mmatrix\u001b[0m\n",
       "           AnnData object with n_obs × n_vars = 3949 × 313\n",
       "           obs: 'transcript_counts', 'control_probe_counts', 'control_codeword_counts', 'total_counts', 'cell_area', 'nucleus_area'\n",
       "           var: 'gene_ids', 'feature_types', 'genome'\n",
       "           obsm: 'spatial'\n",
       "       \u001b[1mboundaries\u001b[0m\n",
       "           BoundariesData object with 2 entries:\n",
       "               \u001b[1mcellular\u001b[0m\n",
       "               \u001b[1mnuclear\u001b[0m\n",
       "    ➤\u001b[95m\u001b[1m transcripts\u001b[0m\n",
       "       DataFrame with shape 829113 x 8"
      ]
     },
     "execution_count": 121,
     "metadata": {},
     "output_type": "execute_result"
    }
   ],
   "source": [
    "xd_cropped"
   ]
  },
  {
   "cell_type": "code",
   "execution_count": 122,
   "id": "38d11332-8fce-4642-b208-1f4db8e18772",
   "metadata": {},
   "outputs": [
    {
     "data": {
      "text/plain": [
       "[dask.array<getitem, shape=(3680, 4130, 3), dtype=uint8, chunksize=(1024, 1024, 3), chunktype=numpy.ndarray>,\n",
       " dask.array<getitem, shape=(1840, 2065, 3), dtype=uint8, chunksize=(1024, 1024, 3), chunktype=numpy.ndarray>,\n",
       " dask.array<getitem, shape=(920, 1032, 3), dtype=uint8, chunksize=(574, 697, 3), chunktype=numpy.ndarray>,\n",
       " dask.array<getitem, shape=(460, 516, 3), dtype=uint8, chunksize=(460, 348, 3), chunktype=numpy.ndarray>,\n",
       " dask.array<getitem, shape=(230, 258, 3), dtype=uint8, chunksize=(230, 258, 3), chunktype=numpy.ndarray>,\n",
       " dask.array<getitem, shape=(115, 129, 3), dtype=uint8, chunksize=(115, 129, 3), chunktype=numpy.ndarray>,\n",
       " dask.array<getitem, shape=(57, 64, 3), dtype=uint8, chunksize=(57, 64, 3), chunktype=numpy.ndarray>,\n",
       " dask.array<getitem, shape=(29, 32, 3), dtype=uint8, chunksize=(29, 32, 3), chunktype=numpy.ndarray>]"
      ]
     },
     "execution_count": 122,
     "metadata": {},
     "output_type": "execute_result"
    }
   ],
   "source": [
    "xd_cropped.images.HE"
   ]
  },
  {
   "cell_type": "code",
   "execution_count": 123,
   "id": "bb3fba13-9b45-41bf-b6ca-09a01131a5a3",
   "metadata": {},
   "outputs": [
    {
     "name": "stderr",
     "output_type": "stream",
     "text": [
      "WARNING: QWindowsWindow::setGeometry: Unable to set geometry 853x533+235-298 (frame: 875x589+224-343) on QWidgetWindow/\"_QtMainWindowClassWindow\" on \"\\\\.\\DISPLAY1\". Resulting geometry: 853x982+235-298 (frame: 875x1038+224-343) margins: 11, 45, 11, 11 minimum size: 385x491 MINMAXINFO maxSize=0,0 maxpos=0,0 mintrack=792,1038 maxtrack=0,0)\n"
     ]
    }
   ],
   "source": [
    "xd_cropped.show()"
   ]
  },
  {
   "cell_type": "code",
   "execution_count": 83,
   "id": "d83dea17-876b-43f2-9463-64f95d17d6a5",
   "metadata": {},
   "outputs": [
    {
     "data": {
      "text/plain": [
       "True"
      ]
     },
     "execution_count": 83,
     "metadata": {},
     "output_type": "execute_result"
    }
   ],
   "source": [
    "xd_cropped.images.metadata['HE']['OME']['Image']['Pixels']['PhysicalSizeX'] == xd_cropped.images.metadata['HE']['OME']['Image']['Pixels']['PhysicalSizeY']"
   ]
  },
  {
   "cell_type": "code",
   "execution_count": null,
   "id": "540555da-a319-4fc0-87e8-e566d4e2fcf6",
   "metadata": {},
   "outputs": [],
   "source": [
    "xd"
   ]
  },
  {
   "cell_type": "code",
   "execution_count": 69,
   "id": "cec49281-2be4-4663-95f2-f6344e67f512",
   "metadata": {},
   "outputs": [
    {
     "data": {
      "text/plain": [
       "{'run_name': 'PREVIEW: Human Breast Cancer',\n",
       " 'run_start_time': '',\n",
       " 'region_name': 'Replicate 1',\n",
       " 'preservation_method': 'ffpe',\n",
       " 'num_cells': 167780,\n",
       " 'transcripts_per_cell': 166.0,\n",
       " 'transcripts_per_100um': 105.9945809453222,\n",
       " 'cassette_name': 'human_breast_cancer_SIM1',\n",
       " 'slide_id': '0001879',\n",
       " 'panel_design_id': 'PD_260',\n",
       " 'panel_name': 'Breast Cancer Tumor Microenvironment',\n",
       " 'panel_organism': 'Human',\n",
       " 'panel_tissue_type': 'Breast',\n",
       " 'panel_num_targets_predesigned': 280,\n",
       " 'panel_num_targets_custom': 33,\n",
       " 'pixel_size': 0.2125,\n",
       " 'instrument_sn': 'Xenium prototype instrument',\n",
       " 'instrument_sw_version': 'Development',\n",
       " 'analysis_sw_version': 'Xenium-1.0.1',\n",
       " 'experiment_uuid': '',\n",
       " 'cassette_uuid': '',\n",
       " 'roi_uuid': '',\n",
       " 'z_step_size': 3.0,\n",
       " 'well_uuid': '',\n",
       " 'images': {'morphology_filepath': 'morphology.ome.tif',\n",
       "  'morphology_mip_filepath': 'morphology_mip.ome.tif',\n",
       "  'morphology_focus_filepath': 'morphology_focus.ome.tif',\n",
       "  'registered_CD20_filepath': '..\\\\registered_images\\\\slide_id__sample_id__CD20__registered.ome.tif',\n",
       "  'registered_HER2_filepath': '..\\\\registered_images\\\\slide_id__sample_id__HER2__registered.ome.tif',\n",
       "  'registered_HE_filepath': '..\\\\registered_images\\\\slide_id__sample_id__HE__registered.ome.tif'},\n",
       " 'xenium_explorer_files': {'transcripts_zarr_filepath': 'transcripts.zarr.zip',\n",
       "  'cells_zarr_filepath': 'cells.zarr.zip',\n",
       "  'cell_features_zarr_filepath': 'cell_feature_matrix.zarr.zip',\n",
       "  'analysis_zarr_filepath': 'analysis.zarr.zip',\n",
       "  'analysis_summary_filepath': 'analysis_summary.html'},\n",
       " 'cropping_xlim': (1313.9833414454188, 2320.0646201832715),\n",
       " 'cropping_ylim': (2088.6338027353004, 2830.1678129604106)}"
      ]
     },
     "execution_count": 69,
     "metadata": {},
     "output_type": "execute_result"
    }
   ],
   "source": [
    "xd_cropped.metadata"
   ]
  },
  {
   "cell_type": "code",
   "execution_count": null,
   "id": "d94bfb51-5f51-471f-944a-7c1e1b057a4f",
   "metadata": {},
   "outputs": [],
   "source": []
  },
  {
   "cell_type": "code",
   "execution_count": 57,
   "id": "b8c999ca",
   "metadata": {},
   "outputs": [
    {
     "name": "stderr",
     "output_type": "stream",
     "text": [
      "WARNING: QWindowsWindow::setGeometry: Unable to set geometry 853x533+191-543 (frame: 869x572+183-574) on QWidgetWindow/\"_QtMainWindowClassWindow\" on \"\\\\.\\DISPLAY2\". Resulting geometry: 567x653+188-557 (frame: 583x692+180-588) margins: 8, 31, 8, 8 minimum size: 385x492 MINMAXINFO maxSize=0,0 maxpos=0,0 mintrack=401,531 maxtrack=0,0)\n",
      "WARNING: QWindowsWindow::setGeometry: Unable to set geometry 864x1489+188-557 (frame: 886x1545+177-602) on QWidgetWindow/\"_QtMainWindowClassWindow\" on \"\\\\.\\DISPLAY1\". Resulting geometry: 1298x2236+191-543 (frame: 1320x2292+180-588) margins: 11, 45, 11, 11 minimum size: 385x492 MINMAXINFO maxSize=0,0 maxpos=0,0 mintrack=792,1040 maxtrack=0,0)\n"
     ]
    }
   ],
   "source": [
    "xd_cropped.show()"
   ]
  },
  {
   "cell_type": "code",
   "execution_count": 48,
   "id": "aa9a3f6e-ad56-438c-a40d-123efada36ed",
   "metadata": {},
   "outputs": [
    {
     "data": {
      "text/plain": [
       "\u001b[1m\u001b[31mXeniumData\u001b[0m\n",
       "\u001b[1mSlide ID:\u001b[0m\tslide_id\n",
       "\u001b[1mSample ID:\u001b[0m\tsample_id\n",
       "\u001b[1mData path:\u001b[0m\t..\\demo_dataset\n",
       "\u001b[1mData folder:\u001b[0m\toutput-XETG00000__slide_id__sample_id\n",
       "\u001b[1mMetadata file:\u001b[0m\texperiment_modified.xenium\n",
       "    ➤ \u001b[34m\u001b[1mimages\u001b[0m\n",
       "       \u001b[1mHE:\u001b[0m\t(4686, 5794, 3)\n",
       "    ➤\u001b[32m\u001b[1m cells\u001b[0m\n",
       "       \u001b[1mmatrix\u001b[0m\n",
       "           AnnData object with n_obs × n_vars = 0 × 313\n",
       "           obs: 'transcript_counts', 'control_probe_counts', 'control_codeword_counts', 'total_counts', 'cell_area', 'nucleus_area'\n",
       "           var: 'gene_ids', 'feature_types', 'genome'\n",
       "           obsm: 'spatial'\n",
       "       \u001b[1mboundaries\u001b[0m\n",
       "           BoundariesData object with 2 entries:\n",
       "               \u001b[1mcellular\u001b[0m\n",
       "               \u001b[1mnuclear\u001b[0m"
      ]
     },
     "execution_count": 48,
     "metadata": {},
     "output_type": "execute_result"
    }
   ],
   "source": [
    "xd_cropped"
   ]
  },
  {
   "cell_type": "code",
   "execution_count": 53,
   "id": "ed113f9d-065a-4939-aa78-7d68d3df5e5e",
   "metadata": {},
   "outputs": [
    {
     "data": {
      "text/plain": [
       "[array([[1598.09534724, 1653.58033604],\n",
       "        [1598.09534724, 3640.90446785],\n",
       "        [2878.06682197, 3640.90446785],\n",
       "        [2878.06682197, 1653.58033604]])]"
      ]
     },
     "execution_count": 53,
     "metadata": {},
     "output_type": "execute_result"
    }
   ],
   "source": [
    "xd_cropped.viewer.layers['Shapes'].data"
   ]
  },
  {
   "cell_type": "code",
   "execution_count": 21,
   "id": "bbba0752",
   "metadata": {},
   "outputs": [
    {
     "data": {
      "text/plain": [
       "{'run_name': 'PREVIEW: Human Breast Cancer',\n",
       " 'run_start_time': '',\n",
       " 'region_name': 'Replicate 1',\n",
       " 'preservation_method': 'ffpe',\n",
       " 'num_cells': 167780,\n",
       " 'transcripts_per_cell': 166.0,\n",
       " 'transcripts_per_100um': 105.9945809453222,\n",
       " 'cassette_name': 'human_breast_cancer_SIM1',\n",
       " 'slide_id': '0001879',\n",
       " 'panel_design_id': 'PD_260',\n",
       " 'panel_name': 'Breast Cancer Tumor Microenvironment',\n",
       " 'panel_organism': 'Human',\n",
       " 'panel_tissue_type': 'Breast',\n",
       " 'panel_num_targets_predesigned': 280,\n",
       " 'panel_num_targets_custom': 33,\n",
       " 'pixel_size': 0.2125,\n",
       " 'instrument_sn': 'Xenium prototype instrument',\n",
       " 'instrument_sw_version': 'Development',\n",
       " 'analysis_sw_version': 'Xenium-1.0.1',\n",
       " 'experiment_uuid': '',\n",
       " 'cassette_uuid': '',\n",
       " 'roi_uuid': '',\n",
       " 'z_step_size': 3.0,\n",
       " 'well_uuid': '',\n",
       " 'images': {'morphology_filepath': 'morphology.ome.tif',\n",
       "  'morphology_mip_filepath': 'morphology_mip.ome.tif',\n",
       "  'morphology_focus_filepath': 'morphology_focus.ome.tif',\n",
       "  'registered_CD20_filepath': '..\\\\registered_images\\\\slide_id__sample_id__CD20__registered.ome.tif',\n",
       "  'registered_HER2_filepath': '..\\\\registered_images\\\\slide_id__sample_id__HER2__registered.ome.tif',\n",
       "  'registered_HE_filepath': '..\\\\registered_images\\\\slide_id__sample_id__HE__registered.ome.tif'},\n",
       " 'xenium_explorer_files': {'transcripts_zarr_filepath': 'transcripts.zarr.zip',\n",
       "  'cells_zarr_filepath': 'cells.zarr.zip',\n",
       "  'cell_features_zarr_filepath': 'cell_feature_matrix.zarr.zip',\n",
       "  'analysis_zarr_filepath': 'analysis.zarr.zip',\n",
       "  'analysis_summary_filepath': 'analysis_summary.html'},\n",
       " 'cropping_xlim': (11552.849871762177, 14541.715294152735),\n",
       " 'cropping_ylim': (12625.212005897043, 16983.974080216605)}"
      ]
     },
     "execution_count": 21,
     "metadata": {},
     "output_type": "execute_result"
    }
   ],
   "source": [
    "xd_cropped.metadata"
   ]
  },
  {
   "cell_type": "code",
   "execution_count": 22,
   "id": "34ee3900",
   "metadata": {},
   "outputs": [
    {
     "data": {
      "text/plain": [
       "{'demo': {'n_annotations': 4,\n",
       "  'classes': ['Positive', 'Negative'],\n",
       "  'analyzed': ''},\n",
       " 'demo2': {'n_annotations': 5,\n",
       "  'classes': ['Negative', 'Positive', 'Other'],\n",
       "  'analyzed': ''}}"
      ]
     },
     "execution_count": 22,
     "metadata": {},
     "output_type": "execute_result"
    }
   ],
   "source": [
    "xd.annotations.metadata"
   ]
  },
  {
   "cell_type": "code",
   "execution_count": 23,
   "id": "2071a0bf",
   "metadata": {},
   "outputs": [
    {
     "data": {
      "text/plain": [
       "\u001b[1mmatrix\u001b[0m\n",
       "    AnnData object with n_obs × n_vars = 167780 × 313\n",
       "    obs: 'transcript_counts', 'control_probe_counts', 'control_codeword_counts', 'total_counts', 'cell_area', 'nucleus_area'\n",
       "    var: 'gene_ids', 'feature_types', 'genome'\n",
       "    obsm: 'spatial'\n",
       "\u001b[1mboundaries\u001b[0m\n",
       "    BoundariesData object with 2 entries:\n",
       "        \u001b[1mcellular\u001b[0m\n",
       "        \u001b[1mnuclear\u001b[0m"
      ]
     },
     "execution_count": 23,
     "metadata": {},
     "output_type": "execute_result"
    }
   ],
   "source": [
    "xd.cells"
   ]
  },
  {
   "cell_type": "code",
   "execution_count": 24,
   "id": "904cee4b",
   "metadata": {},
   "outputs": [
    {
     "data": {
      "text/plain": [
       "{'HE': {'file': '..\\\\registered_images\\\\slide_id__sample_id__HE__registered.ome.tif',\n",
       "  'shape': (25778, 35416, 3),\n",
       "  'subresolutions': 7,\n",
       "  'axes': 'YXS',\n",
       "  'OME': {'xmlns': 'http://www.openmicroscopy.org/Schemas/OME/2016-06',\n",
       "   'xmlns:xsi': 'http://www.w3.org/2001/XMLSchema-instance',\n",
       "   'xsi:schemaLocation': 'http://www.openmicroscopy.org/Schemas/OME/2016-06 http://www.openmicroscopy.org/Schemas/OME/2016-06/ome.xsd',\n",
       "   'UUID': 'urn:uuid:5b74ab29-9b2b-11ee-a7a5-047bcbbe29a1',\n",
       "   'Creator': 'tifffile.py 2023.9.26',\n",
       "   'Image': {'ID': 'Image:0',\n",
       "    'Name': 'Image0',\n",
       "    'Pixels': {'ID': 'Pixels:0',\n",
       "     'DimensionOrder': 'XYCZT',\n",
       "     'Type': 'uint8',\n",
       "     'SizeX': '35416',\n",
       "     'SizeY': '25778',\n",
       "     'SizeC': '3',\n",
       "     'SizeZ': '1',\n",
       "     'SizeT': '1',\n",
       "     'Interleaved': 'true',\n",
       "     'SignificantBits': '8',\n",
       "     'PhysicalSizeX': '0.2125',\n",
       "     'PhysicalSizeXUnit': 'µm',\n",
       "     'PhysicalSizeY': '0.2125',\n",
       "     'PhysicalSizeYUnit': 'µm',\n",
       "     'Channel': {'ID': 'Channel:0:0',\n",
       "      'SamplesPerPixel': '3',\n",
       "      'LightPath': None},\n",
       "     'TiffData': {'IFD': '0', 'PlaneCount': '1'}}}},\n",
       "  'rgb': True,\n",
       "  'contrast_limits': (0, 255)}}"
      ]
     },
     "execution_count": 24,
     "metadata": {},
     "output_type": "execute_result"
    }
   ],
   "source": [
    "xd.images.metadata"
   ]
  },
  {
   "cell_type": "code",
   "execution_count": 27,
   "id": "4ae23e8e",
   "metadata": {},
   "outputs": [
    {
     "data": {
      "text/plain": [
       "'0.2125'"
      ]
     },
     "execution_count": 27,
     "metadata": {},
     "output_type": "execute_result"
    }
   ],
   "source": [
    "xd.images.metadata['HE']['OME']['Image']['Pixels']['PhysicalSizeX']"
   ]
  },
  {
   "cell_type": "code",
   "execution_count": 25,
   "id": "f5173b52",
   "metadata": {},
   "outputs": [
    {
     "data": {
      "text/plain": [
       "0.2125"
      ]
     },
     "execution_count": 25,
     "metadata": {},
     "output_type": "execute_result"
    }
   ],
   "source": [
    "xd.cells.pixel_size"
   ]
  },
  {
   "cell_type": "code",
   "execution_count": null,
   "id": "f4ec8a63",
   "metadata": {},
   "outputs": [],
   "source": []
  },
  {
   "cell_type": "code",
   "execution_count": null,
   "id": "28902f7b",
   "metadata": {},
   "outputs": [],
   "source": []
  },
  {
   "cell_type": "markdown",
   "id": "962d096a",
   "metadata": {},
   "source": [
    "#### Annotation layers\n",
    "\n",
    "The annotations are added as shapes layers to the layer list. The layer name always starts with a \"*\" and has following syntax: `\"* Class (Label)\"`:\n",
    "\n",
    "<left><img src=\"./demo_annotations/napari_layerlist_annotations.jpg\" width=\"300\"/></left>\n",
    "\n",
    "- **Label**: A label for one collection of annotations. Could e.g. tell us who did the annotations or what is the focus of this collection of annotations.\n",
    "- **Class**: Specifies the class of one specific annotation. Could be e.g. the name of cells, the morphological structure or the disease state annotated.\n",
    "\n",
    "#### Add custom annotations using the Annotation Widget\n",
    "\n",
    "<left><img src=\"./demo_annotations/napari_annotation_widget.jpg\" width=\"200\"/></left>\n",
    "\n",
    "By clicking the `\"Add annotation layer\"` button a new layer with the above mentioned syntax is added. The layer controls on the top left can be then used to add new shapes as annotations:\n",
    "\n",
    "<left><img src=\"./demo_annotations/napari_layerconrols_annotations.jpg\" width=\"300\"/></left>\n",
    "\n",
    "An example annotation is shown here:\n",
    "\n",
    "<left><img src=\"./demo_annotations/napari_annotation_example.jpg\" width=\"200\"/></left>\n",
    "\n",
    "The annotations can then be stored in the `XeniumData` object using the `store_annotations` function.\n"
   ]
  },
  {
   "cell_type": "code",
   "execution_count": 41,
   "id": "d00938ff",
   "metadata": {},
   "outputs": [
    {
     "name": "stdout",
     "output_type": "stream",
     "text": [
      "'XeniumData' object has no attribute 'viewer'. Use `.show()` first to open a napari viewer.\n"
     ]
    },
    {
     "ename": "UnboundLocalError",
     "evalue": "local variable 'viewer' referenced before assignment",
     "output_type": "error",
     "traceback": [
      "\u001b[1;31m---------------------------------------------------------------------------\u001b[0m",
      "\u001b[1;31mUnboundLocalError\u001b[0m                         Traceback (most recent call last)",
      "Cell \u001b[1;32mIn[41], line 1\u001b[0m\n\u001b[1;32m----> 1\u001b[0m \u001b[43mxd\u001b[49m\u001b[38;5;241;43m.\u001b[39;49m\u001b[43mstore_annotations\u001b[49m\u001b[43m(\u001b[49m\u001b[43m)\u001b[49m\n",
      "File \u001b[1;32m~\\Github\\InSituPy\\insitupy\\_core\\xeniumdata.py:1403\u001b[0m, in \u001b[0;36mXeniumData.store_annotations\u001b[1;34m(self, name_pattern, uid_col)\u001b[0m\n\u001b[0;32m   1400\u001b[0m     \u001b[38;5;28mprint\u001b[39m(\u001b[38;5;124mf\u001b[39m\u001b[38;5;124m\"\u001b[39m\u001b[38;5;132;01m{\u001b[39;00m\u001b[38;5;28mstr\u001b[39m(e)\u001b[38;5;132;01m}\u001b[39;00m\u001b[38;5;124m. Use `.show()` first to open a napari viewer.\u001b[39m\u001b[38;5;124m\"\u001b[39m)\n\u001b[0;32m   1402\u001b[0m \u001b[38;5;66;03m# iterate through layers and save them as annotation if they meet requirements\u001b[39;00m\n\u001b[1;32m-> 1403\u001b[0m layers \u001b[38;5;241m=\u001b[39m \u001b[43mviewer\u001b[49m\u001b[38;5;241m.\u001b[39mlayers\n\u001b[0;32m   1404\u001b[0m collection_dict \u001b[38;5;241m=\u001b[39m {}\n\u001b[0;32m   1405\u001b[0m \u001b[38;5;28;01mfor\u001b[39;00m layer \u001b[38;5;129;01min\u001b[39;00m layers:\n",
      "\u001b[1;31mUnboundLocalError\u001b[0m: local variable 'viewer' referenced before assignment"
     ]
    }
   ],
   "source": [
    "xd.store_annotations()"
   ]
  },
  {
   "cell_type": "code",
   "execution_count": 42,
   "id": "a4d4f5f2",
   "metadata": {},
   "outputs": [
    {
     "data": {
      "text/plain": [
       "\u001b[1m\u001b[31mXeniumData\u001b[0m\n",
       "\u001b[1mSlide ID:\u001b[0m\tslide_id\n",
       "\u001b[1mSample ID:\u001b[0m\tsample_id\n",
       "\u001b[1mData path:\u001b[0m\t..\\demo_dataset\n",
       "\u001b[1mData folder:\u001b[0m\toutput-XETG00000__slide_id__sample_id\n",
       "\u001b[1mMetadata file:\u001b[0m\texperiment_modified.xenium\n",
       "    ➤ \u001b[34m\u001b[1mimages\u001b[0m\n",
       "       \u001b[1mHE:\u001b[0m\t(25778, 35416, 3)\n",
       "    ➤\u001b[32m\u001b[1m cells\u001b[0m\n",
       "       \u001b[1mmatrix\u001b[0m\n",
       "           AnnData object with n_obs × n_vars = 167780 × 313\n",
       "           obs: 'transcript_counts', 'control_probe_counts', 'control_codeword_counts', 'total_counts', 'cell_area', 'nucleus_area'\n",
       "           var: 'gene_ids', 'feature_types', 'genome'\n",
       "           obsm: 'spatial'\n",
       "       \u001b[1mboundaries\u001b[0m\n",
       "           BoundariesData object with 2 entries:\n",
       "               \u001b[1mcellular\u001b[0m\n",
       "               \u001b[1mnuclear\u001b[0m\n",
       "    ➤ \u001b[36m\u001b[1mannotations\u001b[0m\n",
       "       \u001b[1mdemo:\u001b[0m\t4 annotations, 2 classes ('Positive', 'Negative') \n",
       "       \u001b[1mdemo2:\u001b[0m\t5 annotations, 3 classes ('Negative', 'Positive', 'Other') "
      ]
     },
     "execution_count": 42,
     "metadata": {},
     "output_type": "execute_result"
    }
   ],
   "source": [
    "xd"
   ]
  },
  {
   "cell_type": "markdown",
   "id": "7703aab6",
   "metadata": {},
   "source": [
    "### Assign annotations to observations\n",
    "\n",
    "To use the annotations in analyses (e.g. to select only observations within a certain annotation or compare gene expression between different annotations) one can use the `assign_annotations` function. It adds columns containing the annotation class to `xd.matrix.obs`. The column has the syntax `annotation-{Label}` and if an observation is not part of any annotation within this label, it contains `NaN`. "
   ]
  },
  {
   "cell_type": "code",
   "execution_count": 43,
   "id": "bc8df06a",
   "metadata": {},
   "outputs": [
    {
     "name": "stdout",
     "output_type": "stream",
     "text": [
      "Assigning label 'demo'...\n",
      "Assigning label 'demo2'...\n"
     ]
    }
   ],
   "source": [
    "xd.assign_annotations()"
   ]
  },
  {
   "cell_type": "markdown",
   "id": "10e3c780",
   "metadata": {},
   "source": [
    "After assigning the annotations, the labels analyzed here are marked with a tick (✔):"
   ]
  },
  {
   "cell_type": "code",
   "execution_count": null,
   "id": "8dc56907-7b3e-4be0-9467-6f1d60782573",
   "metadata": {},
   "outputs": [],
   "source": []
  },
  {
   "cell_type": "code",
   "execution_count": null,
   "id": "b08cbaaf-b2de-4e04-b0e4-69c9a76dd860",
   "metadata": {},
   "outputs": [],
   "source": []
  },
  {
   "cell_type": "code",
   "execution_count": 45,
   "id": "3b335b42-7471-4c6c-81ef-7e849208093c",
   "metadata": {},
   "outputs": [],
   "source": [
    "import numpy as np"
   ]
  },
  {
   "cell_type": "code",
   "execution_count": 59,
   "id": "e64a4257-8708-45d1-97da-850ba5edec9c",
   "metadata": {},
   "outputs": [
    {
     "data": {
      "text/plain": [
       "array(['Positive', 'Positive', 'Positive', ..., 'Negative', 'Negative',\n",
       "       'Negative'], dtype=object)"
      ]
     },
     "execution_count": 59,
     "metadata": {},
     "output_type": "execute_result"
    }
   ],
   "source": [
    "xd.cells.matrix.obs['annotation-demo'][xd.cells.matrix.obs['annotation-demo'].notnull()].values"
   ]
  },
  {
   "cell_type": "code",
   "execution_count": 66,
   "id": "ff4db7a1-2366-4c69-b85a-f28b49f15a5a",
   "metadata": {},
   "outputs": [],
   "source": [
    "import pandas as pd"
   ]
  },
  {
   "cell_type": "code",
   "execution_count": 67,
   "id": "d31aed63-0727-4578-a4a7-d56e4a22b27c",
   "metadata": {},
   "outputs": [
    {
     "data": {
      "text/plain": [
       "array([False, False, False, ..., False, False, False])"
      ]
     },
     "execution_count": 67,
     "metadata": {},
     "output_type": "execute_result"
    }
   ],
   "source": [
    "pd.notnull(xd.cells.matrix.obs['annotation-demo'].values)"
   ]
  },
  {
   "cell_type": "code",
   "execution_count": 48,
   "id": "7b7ef00f-db7e-4e29-ae58-97da1ee21ad0",
   "metadata": {},
   "outputs": [
    {
     "ename": "TypeError",
     "evalue": "ufunc 'isnan' not supported for the input types, and the inputs could not be safely coerced to any supported types according to the casting rule ''safe''",
     "output_type": "error",
     "traceback": [
      "\u001b[1;31m---------------------------------------------------------------------------\u001b[0m",
      "\u001b[1;31mTypeError\u001b[0m                                 Traceback (most recent call last)",
      "Cell \u001b[1;32mIn[48], line 1\u001b[0m\n\u001b[1;32m----> 1\u001b[0m \u001b[38;5;241m~\u001b[39m\u001b[43mnp\u001b[49m\u001b[38;5;241;43m.\u001b[39;49m\u001b[43misnan\u001b[49m\u001b[43m(\u001b[49m\u001b[43mxd\u001b[49m\u001b[38;5;241;43m.\u001b[39;49m\u001b[43mcells\u001b[49m\u001b[38;5;241;43m.\u001b[39;49m\u001b[43mmatrix\u001b[49m\u001b[38;5;241;43m.\u001b[39;49m\u001b[43mobs\u001b[49m\u001b[43m[\u001b[49m\u001b[38;5;124;43m'\u001b[39;49m\u001b[38;5;124;43mannotation-demo\u001b[39;49m\u001b[38;5;124;43m'\u001b[39;49m\u001b[43m]\u001b[49m\u001b[38;5;241;43m.\u001b[39;49m\u001b[43mvalues\u001b[49m\u001b[43m)\u001b[49m\n",
      "\u001b[1;31mTypeError\u001b[0m: ufunc 'isnan' not supported for the input types, and the inputs could not be safely coerced to any supported types according to the casting rule ''safe''"
     ]
    }
   ],
   "source": [
    "~np.isnan(xd.cells.matrix.obs['annotation-demo'].values)"
   ]
  },
  {
   "cell_type": "code",
   "execution_count": 47,
   "id": "f87accc4-03b4-4714-8f22-b5c6af32de34",
   "metadata": {},
   "outputs": [
    {
     "ename": "TypeError",
     "evalue": "ufunc 'isnan' not supported for the input types, and the inputs could not be safely coerced to any supported types according to the casting rule ''safe''",
     "output_type": "error",
     "traceback": [
      "\u001b[1;31m---------------------------------------------------------------------------\u001b[0m",
      "\u001b[1;31mTypeError\u001b[0m                                 Traceback (most recent call last)",
      "Cell \u001b[1;32mIn[47], line 1\u001b[0m\n\u001b[1;32m----> 1\u001b[0m xd\u001b[38;5;241m.\u001b[39mcells\u001b[38;5;241m.\u001b[39mmatrix\u001b[38;5;241m.\u001b[39mobs[\u001b[38;5;124m'\u001b[39m\u001b[38;5;124mannotation-demo\u001b[39m\u001b[38;5;124m'\u001b[39m][\u001b[38;5;241m~\u001b[39m\u001b[43mnp\u001b[49m\u001b[38;5;241;43m.\u001b[39;49m\u001b[43misnan\u001b[49m\u001b[43m(\u001b[49m\u001b[43mxd\u001b[49m\u001b[38;5;241;43m.\u001b[39;49m\u001b[43mcells\u001b[49m\u001b[38;5;241;43m.\u001b[39;49m\u001b[43mmatrix\u001b[49m\u001b[38;5;241;43m.\u001b[39;49m\u001b[43mobs\u001b[49m\u001b[43m[\u001b[49m\u001b[38;5;124;43m'\u001b[39;49m\u001b[38;5;124;43mannotation-demo\u001b[39;49m\u001b[38;5;124;43m'\u001b[39;49m\u001b[43m]\u001b[49m\u001b[38;5;241;43m.\u001b[39;49m\u001b[43mvalues\u001b[49m\u001b[43m)\u001b[49m]\n",
      "\u001b[1;31mTypeError\u001b[0m: ufunc 'isnan' not supported for the input types, and the inputs could not be safely coerced to any supported types according to the casting rule ''safe''"
     ]
    }
   ],
   "source": [
    "xd.cells.matrix.obs['annotation-demo'][~np.isnan(xd.cells.matrix.obs['annotation-demo'].values)]"
   ]
  },
  {
   "cell_type": "code",
   "execution_count": 32,
   "id": "23bd9476-01dd-4ffd-9754-c7a7567800a5",
   "metadata": {},
   "outputs": [
    {
     "data": {
      "text/plain": [
       "0"
      ]
     },
     "execution_count": 32,
     "metadata": {},
     "output_type": "execute_result"
    }
   ],
   "source": [
    "np.sum(~np.isnan(xd.cells.matrix.obs['annotation-demo']))"
   ]
  },
  {
   "cell_type": "code",
   "execution_count": 68,
   "id": "711f1a8b",
   "metadata": {},
   "outputs": [],
   "source": [
    "xd.show()"
   ]
  },
  {
   "cell_type": "code",
   "execution_count": 61,
   "id": "72a3dcc2-ef08-40fa-8fb2-a24144eb525a",
   "metadata": {},
   "outputs": [],
   "source": [
    "xd.show()"
   ]
  },
  {
   "cell_type": "markdown",
   "id": "452f1b66",
   "metadata": {},
   "source": [
    "Following cells show examples how to explore the assigned annotations:"
   ]
  },
  {
   "cell_type": "code",
   "execution_count": 44,
   "id": "ed96f627",
   "metadata": {},
   "outputs": [
    {
     "data": {
      "text/plain": [
       "9431"
      ]
     },
     "execution_count": 44,
     "metadata": {},
     "output_type": "execute_result"
    }
   ],
   "source": [
    "# print number of cells within one annotation\n",
    "xd.cells.matrix.obs[\"annotation-demo2\"].notna().sum()"
   ]
  },
  {
   "cell_type": "code",
   "execution_count": 17,
   "id": "6db0d5c9",
   "metadata": {},
   "outputs": [
    {
     "data": {
      "text/html": [
       "<div>\n",
       "<style scoped>\n",
       "    .dataframe tbody tr th:only-of-type {\n",
       "        vertical-align: middle;\n",
       "    }\n",
       "\n",
       "    .dataframe tbody tr th {\n",
       "        vertical-align: top;\n",
       "    }\n",
       "\n",
       "    .dataframe thead th {\n",
       "        text-align: right;\n",
       "    }\n",
       "</style>\n",
       "<table border=\"1\" class=\"dataframe\">\n",
       "  <thead>\n",
       "    <tr style=\"text-align: right;\">\n",
       "      <th></th>\n",
       "      <th>transcript_counts</th>\n",
       "      <th>control_probe_counts</th>\n",
       "      <th>control_codeword_counts</th>\n",
       "      <th>total_counts</th>\n",
       "      <th>cell_area</th>\n",
       "      <th>nucleus_area</th>\n",
       "      <th>annotation-demo</th>\n",
       "      <th>annotation-demo2</th>\n",
       "      <th>annotation-newlabel</th>\n",
       "    </tr>\n",
       "  </thead>\n",
       "  <tbody>\n",
       "    <tr>\n",
       "      <th>4921</th>\n",
       "      <td>281</td>\n",
       "      <td>0</td>\n",
       "      <td>0</td>\n",
       "      <td>281</td>\n",
       "      <td>733.247187</td>\n",
       "      <td>26.010000</td>\n",
       "      <td>NaN</td>\n",
       "      <td>Other</td>\n",
       "      <td>NaN</td>\n",
       "    </tr>\n",
       "    <tr>\n",
       "      <th>4922</th>\n",
       "      <td>273</td>\n",
       "      <td>1</td>\n",
       "      <td>0</td>\n",
       "      <td>274</td>\n",
       "      <td>380.576875</td>\n",
       "      <td>30.074063</td>\n",
       "      <td>NaN</td>\n",
       "      <td>Other</td>\n",
       "      <td>NaN</td>\n",
       "    </tr>\n",
       "    <tr>\n",
       "      <th>4923</th>\n",
       "      <td>189</td>\n",
       "      <td>2</td>\n",
       "      <td>0</td>\n",
       "      <td>191</td>\n",
       "      <td>285.658437</td>\n",
       "      <td>8.263594</td>\n",
       "      <td>NaN</td>\n",
       "      <td>Other</td>\n",
       "      <td>NaN</td>\n",
       "    </tr>\n",
       "    <tr>\n",
       "      <th>4924</th>\n",
       "      <td>212</td>\n",
       "      <td>0</td>\n",
       "      <td>0</td>\n",
       "      <td>212</td>\n",
       "      <td>282.226562</td>\n",
       "      <td>24.068281</td>\n",
       "      <td>NaN</td>\n",
       "      <td>Other</td>\n",
       "      <td>NaN</td>\n",
       "    </tr>\n",
       "    <tr>\n",
       "      <th>4925</th>\n",
       "      <td>58</td>\n",
       "      <td>0</td>\n",
       "      <td>0</td>\n",
       "      <td>58</td>\n",
       "      <td>81.823125</td>\n",
       "      <td>4.470469</td>\n",
       "      <td>NaN</td>\n",
       "      <td>Other</td>\n",
       "      <td>NaN</td>\n",
       "    </tr>\n",
       "    <tr>\n",
       "      <th>...</th>\n",
       "      <td>...</td>\n",
       "      <td>...</td>\n",
       "      <td>...</td>\n",
       "      <td>...</td>\n",
       "      <td>...</td>\n",
       "      <td>...</td>\n",
       "      <td>...</td>\n",
       "      <td>...</td>\n",
       "      <td>...</td>\n",
       "    </tr>\n",
       "    <tr>\n",
       "      <th>165374</th>\n",
       "      <td>96</td>\n",
       "      <td>1</td>\n",
       "      <td>0</td>\n",
       "      <td>97</td>\n",
       "      <td>150.234844</td>\n",
       "      <td>11.063281</td>\n",
       "      <td>Negative</td>\n",
       "      <td>Negative</td>\n",
       "      <td>NaN</td>\n",
       "    </tr>\n",
       "    <tr>\n",
       "      <th>165375</th>\n",
       "      <td>379</td>\n",
       "      <td>0</td>\n",
       "      <td>0</td>\n",
       "      <td>379</td>\n",
       "      <td>153.666719</td>\n",
       "      <td>75.681875</td>\n",
       "      <td>Negative</td>\n",
       "      <td>Negative</td>\n",
       "      <td>NaN</td>\n",
       "    </tr>\n",
       "    <tr>\n",
       "      <th>165376</th>\n",
       "      <td>101</td>\n",
       "      <td>0</td>\n",
       "      <td>0</td>\n",
       "      <td>101</td>\n",
       "      <td>27.996875</td>\n",
       "      <td>17.836719</td>\n",
       "      <td>Negative</td>\n",
       "      <td>Negative</td>\n",
       "      <td>NaN</td>\n",
       "    </tr>\n",
       "    <tr>\n",
       "      <th>165377</th>\n",
       "      <td>472</td>\n",
       "      <td>0</td>\n",
       "      <td>0</td>\n",
       "      <td>472</td>\n",
       "      <td>200.177656</td>\n",
       "      <td>52.652188</td>\n",
       "      <td>Negative</td>\n",
       "      <td>Negative</td>\n",
       "      <td>NaN</td>\n",
       "    </tr>\n",
       "    <tr>\n",
       "      <th>165378</th>\n",
       "      <td>588</td>\n",
       "      <td>0</td>\n",
       "      <td>0</td>\n",
       "      <td>588</td>\n",
       "      <td>319.525625</td>\n",
       "      <td>96.995625</td>\n",
       "      <td>Negative</td>\n",
       "      <td>Negative</td>\n",
       "      <td>NaN</td>\n",
       "    </tr>\n",
       "  </tbody>\n",
       "</table>\n",
       "<p>9431 rows × 9 columns</p>\n",
       "</div>"
      ],
      "text/plain": [
       "        transcript_counts  control_probe_counts  control_codeword_counts  \\\n",
       "4921                  281                     0                        0   \n",
       "4922                  273                     1                        0   \n",
       "4923                  189                     2                        0   \n",
       "4924                  212                     0                        0   \n",
       "4925                   58                     0                        0   \n",
       "...                   ...                   ...                      ...   \n",
       "165374                 96                     1                        0   \n",
       "165375                379                     0                        0   \n",
       "165376                101                     0                        0   \n",
       "165377                472                     0                        0   \n",
       "165378                588                     0                        0   \n",
       "\n",
       "        total_counts   cell_area  nucleus_area annotation-demo  \\\n",
       "4921             281  733.247187     26.010000             NaN   \n",
       "4922             274  380.576875     30.074063             NaN   \n",
       "4923             191  285.658437      8.263594             NaN   \n",
       "4924             212  282.226562     24.068281             NaN   \n",
       "4925              58   81.823125      4.470469             NaN   \n",
       "...              ...         ...           ...             ...   \n",
       "165374            97  150.234844     11.063281        Negative   \n",
       "165375           379  153.666719     75.681875        Negative   \n",
       "165376           101   27.996875     17.836719        Negative   \n",
       "165377           472  200.177656     52.652188        Negative   \n",
       "165378           588  319.525625     96.995625        Negative   \n",
       "\n",
       "       annotation-demo2 annotation-newlabel  \n",
       "4921              Other                 NaN  \n",
       "4922              Other                 NaN  \n",
       "4923              Other                 NaN  \n",
       "4924              Other                 NaN  \n",
       "4925              Other                 NaN  \n",
       "...                 ...                 ...  \n",
       "165374         Negative                 NaN  \n",
       "165375         Negative                 NaN  \n",
       "165376         Negative                 NaN  \n",
       "165377         Negative                 NaN  \n",
       "165378         Negative                 NaN  \n",
       "\n",
       "[9431 rows x 9 columns]"
      ]
     },
     "execution_count": 17,
     "metadata": {},
     "output_type": "execute_result"
    }
   ],
   "source": [
    "# show only observations that were part of this annotation label\n",
    "xd.matrix.obs[xd.matrix.obs[\"annotation-demo2\"].notna()]"
   ]
  },
  {
   "cell_type": "markdown",
   "id": "89e5650a",
   "metadata": {},
   "source": [
    "## Save results\n",
    "\n",
    "The cropped and/or processed data can be saved into a folder using the `.save()` function of `XeniumData`.\n",
    "\n",
    "The resulting folder has following structure:\n",
    "```\n",
    "with_annotations\n",
    "│   xenium.json\n",
    "│   xeniumdata.json\n",
    "│\n",
    "├───annotations\n",
    "│       demo.geojson\n",
    "│\n",
    "├───boundaries\n",
    "│       cells.parquet\n",
    "│       nuclei.parquet\n",
    "│\n",
    "├───images\n",
    "│       morphology_focus.ome.tif\n",
    "│       slide_id__sample_id__CD20__registered.ome.tif\n",
    "│       slide_id__sample_id__HER2__registered.ome.tif\n",
    "│       slide_id__sample_id__HE__registered.ome.tif\n",
    "│\n",
    "├───matrix\n",
    "│       matrix.h5ad\n",
    "│\n",
    "└───transcripts\n",
    "        transcripts.parquet\n",
    "```"
   ]
  },
  {
   "cell_type": "code",
   "execution_count": 18,
   "id": "49f29bb8",
   "metadata": {},
   "outputs": [],
   "source": [
    "out_dir = data_dir / \"with_annotations\"\n",
    "xd.save(out_dir, overwrite=True)"
   ]
  },
  {
   "cell_type": "code",
   "execution_count": 19,
   "id": "11fb706a",
   "metadata": {},
   "outputs": [],
   "source": [
    "xd_reloaded = XeniumData(out_dir)"
   ]
  },
  {
   "cell_type": "code",
   "execution_count": 20,
   "id": "513bf899",
   "metadata": {},
   "outputs": [
    {
     "data": {
      "text/plain": [
       "\u001b[1m\u001b[31mXeniumData\u001b[0m\n",
       "\u001b[1mSlide ID:\u001b[0m\tslide_id\n",
       "\u001b[1mSample ID:\u001b[0m\tsample_id\n",
       "\u001b[1mData path:\u001b[0m\tdemo_dataset\n",
       "\u001b[1mData folder:\u001b[0m\twith_annotations\n",
       "\u001b[1mMetadata file:\u001b[0m\txeniumdata.json"
      ]
     },
     "execution_count": 20,
     "metadata": {},
     "output_type": "execute_result"
    }
   ],
   "source": [
    "xd_reloaded"
   ]
  },
  {
   "cell_type": "code",
   "execution_count": 21,
   "id": "44326c78",
   "metadata": {},
   "outputs": [
    {
     "name": "stdout",
     "output_type": "stream",
     "text": [
      "Reading annotations...\n",
      "No `boundaries` modality found.\n",
      "Reading images...\n",
      "Reading matrix...\n",
      "No `transcripts` modality found.\n"
     ]
    },
    {
     "name": "stderr",
     "output_type": "stream",
     "text": [
      "c:\\Users\\ge37voy\\AppData\\Local\\miniconda3\\envs\\insitupy\\lib\\site-packages\\anndata\\__init__.py:51: FutureWarning: `anndata.read` is deprecated, use `anndata.read_h5ad` instead. `ad.read` will be removed in mid 2024.\n",
      "  warnings.warn(\n"
     ]
    }
   ],
   "source": [
    "xd_reloaded.read_all()"
   ]
  },
  {
   "cell_type": "code",
   "execution_count": 22,
   "id": "eae15ebb",
   "metadata": {},
   "outputs": [
    {
     "data": {
      "text/plain": [
       "\u001b[1m\u001b[31mXeniumData\u001b[0m\n",
       "\u001b[1mSlide ID:\u001b[0m\tslide_id\n",
       "\u001b[1mSample ID:\u001b[0m\tsample_id\n",
       "\u001b[1mData path:\u001b[0m\tdemo_dataset\n",
       "\u001b[1mData folder:\u001b[0m\twith_annotations\n",
       "\u001b[1mMetadata file:\u001b[0m\txeniumdata.json\n",
       "    ➤ \u001b[34m\u001b[1mimages\u001b[0m\n",
       "       \u001b[1mHE:\u001b[0m\t(25778, 35416, 3)\n",
       "    ➤\u001b[32m\u001b[1m matrix\u001b[0m\n",
       "       AnnData object with n_obs × n_vars = 167780 × 313\n",
       "\t       obs: 'transcript_counts', 'control_probe_counts', 'control_codeword_counts', 'total_counts', 'cell_area', 'nucleus_area', 'annotation-demo', 'annotation-demo2', 'annotation-newlabel'\n",
       "\t       var: 'gene_ids', 'feature_types', 'genome'\n",
       "\t       obsm: 'spatial'\n",
       "    ➤ \u001b[36m\u001b[1mannotations\u001b[0m\n",
       "       \u001b[1mdemo:\u001b[0m\t4 annotations, 2 classes ('Positive', 'Negative') ✔\n",
       "       \u001b[1mdemo2:\u001b[0m\t5 annotations, 3 classes ('Negative', 'Positive', 'Other') ✔\n",
       "       \u001b[1mnewlabel:\u001b[0m\t6 annotations, 1 classes ('newclass',) ✔"
      ]
     },
     "execution_count": 22,
     "metadata": {},
     "output_type": "execute_result"
    }
   ],
   "source": [
    "xd_reloaded"
   ]
  },
  {
   "cell_type": "code",
   "execution_count": 23,
   "id": "7746c711",
   "metadata": {},
   "outputs": [],
   "source": [
    "xd_reloaded.show(annotation_labels=\"all\")"
   ]
  },
  {
   "cell_type": "code",
   "execution_count": null,
   "id": "21147f8e",
   "metadata": {},
   "outputs": [],
   "source": []
  }
 ],
 "metadata": {
  "kernelspec": {
   "display_name": "insitupy",
   "language": "python",
   "name": "python3"
  },
  "language_info": {
   "codemirror_mode": {
    "name": "ipython",
    "version": 3
   },
   "file_extension": ".py",
   "mimetype": "text/x-python",
   "name": "python",
   "nbconvert_exporter": "python",
   "pygments_lexer": "ipython3",
   "version": "3.9.18"
  }
 },
 "nbformat": 4,
 "nbformat_minor": 5
}
