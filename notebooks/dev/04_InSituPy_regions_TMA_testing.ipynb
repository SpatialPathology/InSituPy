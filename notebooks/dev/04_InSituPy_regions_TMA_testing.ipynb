{
 "cells": [
  {
   "cell_type": "markdown",
   "id": "b16df72d-5dd5-47da-a8c3-b569fe97446b",
   "metadata": {
    "tags": []
   },
   "source": [
    "# InSituPy demonstration - Add annotations"
   ]
  },
  {
   "cell_type": "code",
   "execution_count": 1,
   "id": "8bc0c4ed-3587-460e-98d2-6626a020a327",
   "metadata": {},
   "outputs": [],
   "source": [
    "## The following code ensures that all functions and init files are reloaded before executions.\n",
    "%load_ext autoreload\n",
    "%autoreload 2"
   ]
  },
  {
   "cell_type": "code",
   "execution_count": 2,
   "id": "58107e0b-5017-425b-8cd0-9274be2b8253",
   "metadata": {},
   "outputs": [],
   "source": [
    "from pathlib import Path\n",
    "from insitupy import XeniumData"
   ]
  },
  {
   "cell_type": "markdown",
   "id": "db038252",
   "metadata": {},
   "source": [
    "## Previous steps\n",
    "\n",
    "1. Download the example data for demonstration: [01_InSituPy_demo_download_data.ipynb](./01_InSituPy_demo_download_data.ipynb)\n",
    "2. Register images from external stainings: [02_InSituPy_demo_register_images.ipynb](./02_InSituPy_demo_register_images.ipynb)\n",
    "3. Visualize data with napari and do preprocessing steps: [03_InSituPy_demo_analyze.ipynb](./03_InSituPy_demo_analyze.ipynb)\n",
    "\n",
    "At this point, the structure of the data should look like this:\n",
    "\n",
    "    ```\n",
    "    ./demo_dataset\n",
    "    ├───cropped_processed\n",
    "    ├───output-XETG00000__slide_id__sample_id\n",
    "    │   ├───analysis\n",
    "    │   │   ├───clustering\n",
    "    │   │   ├───diffexp\n",
    "    │   │   ├───pca\n",
    "    │   │   ├───tsne\n",
    "    │   │   └───umap\n",
    "    │   └───cell_feature_matrix\n",
    "    ├───registered_images\n",
    "    ├───registration_qc\n",
    "    └───unregistered_images\n",
    "    ```\n"
   ]
  },
  {
   "cell_type": "markdown",
   "id": "ae409a19",
   "metadata": {},
   "source": [
    "## Load Xenium data into `XeniumData` object\n",
    "\n",
    "Now the Xenium data can be parsed by providing the data path to `XeniumData`"
   ]
  },
  {
   "cell_type": "code",
   "execution_count": 3,
   "id": "2db31fb9",
   "metadata": {},
   "outputs": [],
   "source": [
    "# prepare paths\n",
    "data_dir = Path(\"../demo_dataset\") # output directory\n",
    "xenium_dir = data_dir / \"output-XETG00000__slide_id__sample_id\" # directory of xenium data\n",
    "image_dir = data_dir / \"unregistered_images\" # directory of images"
   ]
  },
  {
   "cell_type": "code",
   "execution_count": 24,
   "id": "188ddb98",
   "metadata": {},
   "outputs": [],
   "source": [
    "xd = XeniumData(xenium_dir)"
   ]
  },
  {
   "cell_type": "code",
   "execution_count": 25,
   "id": "22afdac4",
   "metadata": {},
   "outputs": [
    {
     "data": {
      "text/plain": [
       "\u001b[1m\u001b[31mXeniumData\u001b[0m\n",
       "\u001b[1mSlide ID:\u001b[0m\tslide_id\n",
       "\u001b[1mSample ID:\u001b[0m\tsample_id\n",
       "\u001b[1mData path:\u001b[0m\t..\\demo_dataset\n",
       "\u001b[1mData folder:\u001b[0m\toutput-XETG00000__slide_id__sample_id\n",
       "\u001b[1mMetadata file:\u001b[0m\texperiment_modified.xenium"
      ]
     },
     "execution_count": 25,
     "metadata": {},
     "output_type": "execute_result"
    }
   ],
   "source": [
    "xd"
   ]
  },
  {
   "cell_type": "code",
   "execution_count": 26,
   "id": "87d3eae2",
   "metadata": {},
   "outputs": [
    {
     "name": "stdout",
     "output_type": "stream",
     "text": [
      "No `annotations` modality found.\n",
      "Reading cells...\n",
      "Reading images...\n",
      "No `regions` modality found.\n",
      "Reading transcripts...\n"
     ]
    }
   ],
   "source": [
    "xd.read_all()"
   ]
  },
  {
   "cell_type": "code",
   "execution_count": 6,
   "id": "e0ec9d39",
   "metadata": {},
   "outputs": [
    {
     "name": "stdout",
     "output_type": "stream",
     "text": [
      "Reading cells...\n",
      "Reading images...\n"
     ]
    }
   ],
   "source": [
    "# read all data modalities at once\n",
    "#xd.read_all()\n",
    "\n",
    "# alternatively, it is also possible to read each modality separately\n",
    "xd.read_cells()\n",
    "xd.read_images(names=[\"HE\"])\n",
    "#xd.read_annotations()\n",
    "# xd.read_boundaries()\n",
    "# xd.read_transcripts()\n"
   ]
  },
  {
   "cell_type": "markdown",
   "id": "e75c9b81",
   "metadata": {},
   "source": [
    "## Load annotations\n",
    "\n",
    "For the analysis of spatial transcriptomic datasets the inclusion of annotations from experts of disease pathology is key. Here, we demonstrate how to annotate data in [QuPath](https://qupath.github.io/), export the annotations as `.geojson` file and import them into the `XeniumData` object.\n",
    "\n",
    "### Create annotations in QuPath\n",
    "\n",
    "To create annotations in QuPath, follow these steps:\n",
    "\n",
    "1. Select a annotation tool from the bar on the top left:\n",
    "\n",
    "<center><img src=\"./demo_annotations/qupath_annotation_buttons.jpg\" width=\"300\"/></center>\n",
    "\n",
    "2. Add as many annotations as you want and label them by setting classes in the annotation list. Do not forget to press the \"Set class\" button:\n",
    "\n",
    "<center><img src=\"./demo_annotations/qupath_annotation_list.jpg\" width=\"350\"/></center>\n",
    "\n",
    "3. Export annotations using `File > Export objects as GeoJSON`. Tick `Pretty JSON` to get an easily readable JSON file. The file name needs to have following structure: `annotation-{slide_id}__{sample_id}__{annotation_label}`.\n",
    "\n",
    "### Import annotations into `XeniumData`\n",
    "\n",
    "For demonstration purposes, we created a dummy annotation file in `./demo_annotations/`. To add the annotations to `XeniumData` follow the steps below.\n",
    "\n"
   ]
  },
  {
   "cell_type": "code",
   "execution_count": 27,
   "id": "b8274ce6",
   "metadata": {},
   "outputs": [
    {
     "name": "stdout",
     "output_type": "stream",
     "text": [
      "Reading annotations...\n"
     ]
    }
   ],
   "source": [
    "xd.read_annotations(annotations_dir=\"../demo_annotations/\")"
   ]
  },
  {
   "cell_type": "code",
   "execution_count": 28,
   "id": "2b928818",
   "metadata": {},
   "outputs": [
    {
     "name": "stdout",
     "output_type": "stream",
     "text": [
      "Reading regions...\n"
     ]
    }
   ],
   "source": [
    "xd.read_regions(regions_dir=\"../demo_regions/\")"
   ]
  },
  {
   "cell_type": "code",
   "execution_count": 30,
   "id": "33190a92",
   "metadata": {},
   "outputs": [
    {
     "data": {
      "text/plain": [
       "\u001b[1m\u001b[31mXeniumData\u001b[0m\n",
       "\u001b[1mSlide ID:\u001b[0m\tslide_id\n",
       "\u001b[1mSample ID:\u001b[0m\tsample_id\n",
       "\u001b[1mData path:\u001b[0m\t..\\demo_dataset\n",
       "\u001b[1mData folder:\u001b[0m\toutput-XETG00000__slide_id__sample_id\n",
       "\u001b[1mMetadata file:\u001b[0m\texperiment_modified.xenium\n",
       "    ➤ \u001b[34m\u001b[1mimages\u001b[0m\n",
       "       \u001b[1mnuclei:\u001b[0m\t(25778, 35416)\n",
       "       \u001b[1mCD20:\u001b[0m\t(25778, 35416)\n",
       "       \u001b[1mHER2:\u001b[0m\t(25778, 35416)\n",
       "       \u001b[1mHE:\u001b[0m\t(25778, 35416, 3)\n",
       "    ➤\u001b[32m\u001b[1m cells\u001b[0m\n",
       "       \u001b[1mmatrix\u001b[0m\n",
       "           AnnData object with n_obs × n_vars = 167780 × 313\n",
       "           obs: 'transcript_counts', 'control_probe_counts', 'control_codeword_counts', 'total_counts', 'cell_area', 'nucleus_area'\n",
       "           var: 'gene_ids', 'feature_types', 'genome'\n",
       "           obsm: 'spatial'\n",
       "       \u001b[1mboundaries\u001b[0m\n",
       "           BoundariesData object with 2 entries:\n",
       "               \u001b[1mcellular\u001b[0m\n",
       "               \u001b[1mnuclear\u001b[0m\n",
       "    ➤\u001b[95m\u001b[1m transcripts\u001b[0m\n",
       "       DataFrame with shape 42638083 x 8\n",
       "    ➤ \u001b[36m\u001b[1mannotations\u001b[0m\n",
       "       \u001b[1mdemo:\u001b[0m\t4 annotations, 2 classes ('Positive', 'Negative') \n",
       "       \u001b[1mdemo2:\u001b[0m\t5 annotations, 3 classes ('Negative', 'Positive', 'Other') \n",
       "    ➤ \u001b[33m\u001b[1mregions\u001b[0m\n",
       "       \u001b[1mdemo_regions:\u001b[0m\t3 regions \n",
       "       \u001b[1mTMA:\u001b[0m\t6 regions "
      ]
     },
     "execution_count": 30,
     "metadata": {},
     "output_type": "execute_result"
    }
   ],
   "source": [
    "xd"
   ]
  },
  {
   "cell_type": "code",
   "execution_count": 34,
   "id": "b8b19278",
   "metadata": {},
   "outputs": [],
   "source": [
    "xd.show()"
   ]
  },
  {
   "cell_type": "code",
   "execution_count": 12,
   "id": "0ab7a2d7",
   "metadata": {},
   "outputs": [
    {
     "data": {
      "text/plain": [
       "\u001b[36m\u001b[1mannotations\u001b[0m\n",
       "\u001b[1mdemo:\u001b[0m\t4 annotations, 2 classes ('Positive', 'Negative') \n",
       "\u001b[1mdemo2:\u001b[0m\t5 annotations, 3 classes ('Negative', 'Positive', 'Other') "
      ]
     },
     "execution_count": 12,
     "metadata": {},
     "output_type": "execute_result"
    }
   ],
   "source": [
    "xd.annotations"
   ]
  },
  {
   "cell_type": "code",
   "execution_count": 55,
   "id": "621c74ba-4102-4b55-92cb-8994864aeb0c",
   "metadata": {},
   "outputs": [
    {
     "data": {
      "text/html": [
       "<div>\n",
       "<style scoped>\n",
       "    .dataframe tbody tr th:only-of-type {\n",
       "        vertical-align: middle;\n",
       "    }\n",
       "\n",
       "    .dataframe tbody tr th {\n",
       "        vertical-align: top;\n",
       "    }\n",
       "\n",
       "    .dataframe thead th {\n",
       "        text-align: right;\n",
       "    }\n",
       "</style>\n",
       "<table border=\"1\" class=\"dataframe\">\n",
       "  <thead>\n",
       "    <tr style=\"text-align: right;\">\n",
       "      <th></th>\n",
       "      <th>objectType</th>\n",
       "      <th>name</th>\n",
       "      <th>isMissing</th>\n",
       "      <th>geometry</th>\n",
       "      <th>origin</th>\n",
       "    </tr>\n",
       "    <tr>\n",
       "      <th>id</th>\n",
       "      <th></th>\n",
       "      <th></th>\n",
       "      <th></th>\n",
       "      <th></th>\n",
       "      <th></th>\n",
       "    </tr>\n",
       "  </thead>\n",
       "  <tbody>\n",
       "    <tr>\n",
       "      <th>7ab5d5a6-49bd-4122-bc64-05477bc0207b</th>\n",
       "      <td>tmaCore</td>\n",
       "      <td>B-2</td>\n",
       "      <td>False</td>\n",
       "      <td>POLYGON ((4299.61025 4213.18862, 4298.62425 42...</td>\n",
       "      <td>file</td>\n",
       "    </tr>\n",
       "    <tr>\n",
       "      <th>06ef93c1-f86d-45e6-ad9a-896e254638ea</th>\n",
       "      <td>tmaCore</td>\n",
       "      <td>A-3</td>\n",
       "      <td>False</td>\n",
       "      <td>POLYGON ((7201.19150 903.26738, 7200.20550 934...</td>\n",
       "      <td>file</td>\n",
       "    </tr>\n",
       "    <tr>\n",
       "      <th>7933d3fd-ccd3-46af-8f15-fcc01ec9c128</th>\n",
       "      <td>tmaCore</td>\n",
       "      <td>B-1</td>\n",
       "      <td>False</td>\n",
       "      <td>POLYGON ((1555.14725 4333.64638, 1554.15912 43...</td>\n",
       "      <td>file</td>\n",
       "    </tr>\n",
       "    <tr>\n",
       "      <th>7015118d-2947-48e3-baf0-4b220a76a951</th>\n",
       "      <td>tmaCore</td>\n",
       "      <td>B-3</td>\n",
       "      <td>False</td>\n",
       "      <td>POLYGON ((7311.17300 4228.90087, 7310.18700 42...</td>\n",
       "      <td>file</td>\n",
       "    </tr>\n",
       "    <tr>\n",
       "      <th>bf86657f-31f6-40fe-983b-f80c3d75512b</th>\n",
       "      <td>tmaCore</td>\n",
       "      <td>A-1</td>\n",
       "      <td>False</td>\n",
       "      <td>POLYGON ((1481.82625 908.50338, 1480.83812 939...</td>\n",
       "      <td>file</td>\n",
       "    </tr>\n",
       "    <tr>\n",
       "      <th>440d8f00-fb0e-42e7-9f98-30d30adfc8df</th>\n",
       "      <td>tmaCore</td>\n",
       "      <td>A-2</td>\n",
       "      <td>False</td>\n",
       "      <td>POLYGON ((4173.91650 856.13063, 4172.93050 887...</td>\n",
       "      <td>file</td>\n",
       "    </tr>\n",
       "  </tbody>\n",
       "</table>\n",
       "</div>"
      ],
      "text/plain": [
       "                                     objectType name  isMissing  \\\n",
       "id                                                                \n",
       "7ab5d5a6-49bd-4122-bc64-05477bc0207b    tmaCore  B-2      False   \n",
       "06ef93c1-f86d-45e6-ad9a-896e254638ea    tmaCore  A-3      False   \n",
       "7933d3fd-ccd3-46af-8f15-fcc01ec9c128    tmaCore  B-1      False   \n",
       "7015118d-2947-48e3-baf0-4b220a76a951    tmaCore  B-3      False   \n",
       "bf86657f-31f6-40fe-983b-f80c3d75512b    tmaCore  A-1      False   \n",
       "440d8f00-fb0e-42e7-9f98-30d30adfc8df    tmaCore  A-2      False   \n",
       "\n",
       "                                                                               geometry  \\\n",
       "id                                                                                        \n",
       "7ab5d5a6-49bd-4122-bc64-05477bc0207b  POLYGON ((4299.61025 4213.18862, 4298.62425 42...   \n",
       "06ef93c1-f86d-45e6-ad9a-896e254638ea  POLYGON ((7201.19150 903.26738, 7200.20550 934...   \n",
       "7933d3fd-ccd3-46af-8f15-fcc01ec9c128  POLYGON ((1555.14725 4333.64638, 1554.15912 43...   \n",
       "7015118d-2947-48e3-baf0-4b220a76a951  POLYGON ((7311.17300 4228.90087, 7310.18700 42...   \n",
       "bf86657f-31f6-40fe-983b-f80c3d75512b  POLYGON ((1481.82625 908.50338, 1480.83812 939...   \n",
       "440d8f00-fb0e-42e7-9f98-30d30adfc8df  POLYGON ((4173.91650 856.13063, 4172.93050 887...   \n",
       "\n",
       "                                     origin  \n",
       "id                                           \n",
       "7ab5d5a6-49bd-4122-bc64-05477bc0207b   file  \n",
       "06ef93c1-f86d-45e6-ad9a-896e254638ea   file  \n",
       "7933d3fd-ccd3-46af-8f15-fcc01ec9c128   file  \n",
       "7015118d-2947-48e3-baf0-4b220a76a951   file  \n",
       "bf86657f-31f6-40fe-983b-f80c3d75512b   file  \n",
       "440d8f00-fb0e-42e7-9f98-30d30adfc8df   file  "
      ]
     },
     "execution_count": 55,
     "metadata": {},
     "output_type": "execute_result"
    }
   ],
   "source": [
    "xd.regions.TMA"
   ]
  },
  {
   "cell_type": "code",
   "execution_count": 60,
   "id": "5dffc006-d33d-4cf6-b224-e767c1263204",
   "metadata": {},
   "outputs": [
    {
     "data": {
      "text/html": [
       "<div>\n",
       "<style scoped>\n",
       "    .dataframe tbody tr th:only-of-type {\n",
       "        vertical-align: middle;\n",
       "    }\n",
       "\n",
       "    .dataframe tbody tr th {\n",
       "        vertical-align: top;\n",
       "    }\n",
       "\n",
       "    .dataframe thead th {\n",
       "        text-align: right;\n",
       "    }\n",
       "</style>\n",
       "<table border=\"1\" class=\"dataframe\">\n",
       "  <thead>\n",
       "    <tr style=\"text-align: right;\">\n",
       "      <th></th>\n",
       "      <th>objectType</th>\n",
       "      <th>geometry</th>\n",
       "      <th>name</th>\n",
       "      <th>color</th>\n",
       "      <th>origin</th>\n",
       "    </tr>\n",
       "    <tr>\n",
       "      <th>id</th>\n",
       "      <th></th>\n",
       "      <th></th>\n",
       "      <th></th>\n",
       "      <th></th>\n",
       "      <th></th>\n",
       "    </tr>\n",
       "  </thead>\n",
       "  <tbody>\n",
       "    <tr>\n",
       "      <th>bd3aacca-1716-4df8-91dd-bf8f6413a7bd</th>\n",
       "      <td>annotation</td>\n",
       "      <td>POLYGON ((1883.38750 2297.97500, 1883.38750 23...</td>\n",
       "      <td>Positive</td>\n",
       "      <td>[250, 62, 62]</td>\n",
       "      <td>file</td>\n",
       "    </tr>\n",
       "    <tr>\n",
       "      <th>69814505-4059-42cd-8df2-752f7eb0810d</th>\n",
       "      <td>annotation</td>\n",
       "      <td>POLYGON ((2782.90000 2654.55000, 2777.88500 26...</td>\n",
       "      <td>Positive</td>\n",
       "      <td>[250, 62, 62]</td>\n",
       "      <td>file</td>\n",
       "    </tr>\n",
       "    <tr>\n",
       "      <th>1957cd32-0a21-4b45-9dae-ecf236217140</th>\n",
       "      <td>annotation</td>\n",
       "      <td>POLYGON ((6582.24275 4874.32500, 6583.67500 48...</td>\n",
       "      <td>Negative</td>\n",
       "      <td>[112, 112, 225]</td>\n",
       "      <td>file</td>\n",
       "    </tr>\n",
       "    <tr>\n",
       "      <th>19d2197a-1b8e-456f-8223-fba74641ac1c</th>\n",
       "      <td>annotation</td>\n",
       "      <td>POLYGON ((6622.56250 3486.70000, 6619.16250 34...</td>\n",
       "      <td>Negative</td>\n",
       "      <td>[112, 112, 225]</td>\n",
       "      <td>file</td>\n",
       "    </tr>\n",
       "  </tbody>\n",
       "</table>\n",
       "</div>"
      ],
      "text/plain": [
       "                                      objectType  \\\n",
       "id                                                 \n",
       "bd3aacca-1716-4df8-91dd-bf8f6413a7bd  annotation   \n",
       "69814505-4059-42cd-8df2-752f7eb0810d  annotation   \n",
       "1957cd32-0a21-4b45-9dae-ecf236217140  annotation   \n",
       "19d2197a-1b8e-456f-8223-fba74641ac1c  annotation   \n",
       "\n",
       "                                                                               geometry  \\\n",
       "id                                                                                        \n",
       "bd3aacca-1716-4df8-91dd-bf8f6413a7bd  POLYGON ((1883.38750 2297.97500, 1883.38750 23...   \n",
       "69814505-4059-42cd-8df2-752f7eb0810d  POLYGON ((2782.90000 2654.55000, 2777.88500 26...   \n",
       "1957cd32-0a21-4b45-9dae-ecf236217140  POLYGON ((6582.24275 4874.32500, 6583.67500 48...   \n",
       "19d2197a-1b8e-456f-8223-fba74641ac1c  POLYGON ((6622.56250 3486.70000, 6619.16250 34...   \n",
       "\n",
       "                                          name            color origin  \n",
       "id                                                                      \n",
       "bd3aacca-1716-4df8-91dd-bf8f6413a7bd  Positive    [250, 62, 62]   file  \n",
       "69814505-4059-42cd-8df2-752f7eb0810d  Positive    [250, 62, 62]   file  \n",
       "1957cd32-0a21-4b45-9dae-ecf236217140  Negative  [112, 112, 225]   file  \n",
       "19d2197a-1b8e-456f-8223-fba74641ac1c  Negative  [112, 112, 225]   file  "
      ]
     },
     "execution_count": 60,
     "metadata": {},
     "output_type": "execute_result"
    }
   ],
   "source": [
    "xd.annotations.demo"
   ]
  },
  {
   "cell_type": "code",
   "execution_count": 61,
   "id": "4a424ed9",
   "metadata": {},
   "outputs": [
    {
     "name": "stderr",
     "output_type": "stream",
     "text": [
      "WARNING: QWindowsWindow::setGeometry: Unable to set geometry 853x533+2557-1199 (frame: 869x572+2549-1230) on QWidgetWindow/\"_QtMainWindowClassWindow\" on \"\\\\.\\DISPLAY14\". Resulting geometry: 567x653+2554-1213 (frame: 583x692+2546-1244) margins: 8, 31, 8, 8 minimum size: 385x492 MINMAXINFO maxSize=0,0 maxpos=0,0 mintrack=401,531 maxtrack=0,0)\n"
     ]
    }
   ],
   "source": [
    "xd.show()"
   ]
  },
  {
   "cell_type": "code",
   "execution_count": 48,
   "id": "62c6e2de-5466-449c-b796-4547a99ce13f",
   "metadata": {},
   "outputs": [
    {
     "name": "stderr",
     "output_type": "stream",
     "text": [
      "[autoreload of insitupy._core._widgets failed: Traceback (most recent call last):\n",
      "  File \"C:\\Users\\ge37voy\\AppData\\Local\\miniconda3\\envs\\insitupy\\lib\\site-packages\\IPython\\extensions\\autoreload.py\", line 276, in check\n",
      "    superreload(m, reload, self.old_objects)\n",
      "  File \"C:\\Users\\ge37voy\\AppData\\Local\\miniconda3\\envs\\insitupy\\lib\\site-packages\\IPython\\extensions\\autoreload.py\", line 475, in superreload\n",
      "    module = reload(module)\n",
      "  File \"C:\\Users\\ge37voy\\AppData\\Local\\miniconda3\\envs\\insitupy\\lib\\importlib\\__init__.py\", line 169, in reload\n",
      "    _bootstrap._exec(spec, module)\n",
      "  File \"<frozen importlib._bootstrap>\", line 613, in _exec\n",
      "  File \"<frozen importlib._bootstrap_external>\", line 846, in exec_module\n",
      "  File \"<frozen importlib._bootstrap_external>\", line 983, in get_code\n",
      "  File \"<frozen importlib._bootstrap_external>\", line 913, in source_to_code\n",
      "  File \"<frozen importlib._bootstrap>\", line 228, in _call_with_frames_removed\n",
      "  File \"C:\\Users\\ge37voy\\Github\\InSituPy\\insitupy\\_core\\_widgets.py\", line 228\n",
      "    edge_color=,\n",
      "               ^\n",
      "SyntaxError: invalid syntax\n",
      "]\n"
     ]
    },
    {
     "data": {
      "text/plain": [
       "[1, 2, 3]"
      ]
     },
     "execution_count": 48,
     "metadata": {},
     "output_type": "execute_result"
    }
   ],
   "source": [
    "[elem for elem in (1,2,3)]"
   ]
  },
  {
   "cell_type": "code",
   "execution_count": 16,
   "id": "71674d8c-4bc1-4afa-9e7b-369304fa113d",
   "metadata": {},
   "outputs": [],
   "source": [
    "import matplotlib"
   ]
  },
  {
   "cell_type": "code",
   "execution_count": 17,
   "id": "291f2138-0307-459b-815c-a6204ea56764",
   "metadata": {},
   "outputs": [],
   "source": [
    "colormap = matplotlib.colormaps[\"tab20\"]"
   ]
  },
  {
   "cell_type": "code",
   "execution_count": 22,
   "id": "cfdbe602-d98a-43c2-90f4-967b18bdd918",
   "metadata": {},
   "outputs": [
    {
     "data": {
      "text/plain": [
       "(0.12156862745098039, 0.4666666666666667, 0.7058823529411765)"
      ]
     },
     "execution_count": 22,
     "metadata": {},
     "output_type": "execute_result"
    }
   ],
   "source": [
    "colormap.colors[0]"
   ]
  },
  {
   "cell_type": "code",
   "execution_count": 37,
   "id": "2f236588-c0e3-44e7-9416-22bf495171f6",
   "metadata": {},
   "outputs": [
    {
     "data": {
      "text/plain": [
       "20"
      ]
     },
     "execution_count": 37,
     "metadata": {},
     "output_type": "execute_result"
    }
   ],
   "source": [
    "len(colormap.colors)"
   ]
  },
  {
   "cell_type": "code",
   "execution_count": 34,
   "id": "e2263a8f-8c75-4cc5-b9ee-81c6b3fa7af6",
   "metadata": {},
   "outputs": [
    {
     "data": {
      "text/plain": [
       "(0.17254901960784313, 0.6274509803921569, 0.17254901960784313, 1.0)"
      ]
     },
     "execution_count": 34,
     "metadata": {},
     "output_type": "execute_result"
    }
   ],
   "source": [
    "colormap(4)"
   ]
  },
  {
   "cell_type": "code",
   "execution_count": 45,
   "id": "c46c0099-faec-44d5-9a87-1b8c3b4ff0d1",
   "metadata": {},
   "outputs": [
    {
     "data": {
      "text/plain": [
       "(0.6196078431372549, 0.8549019607843137, 0.8980392156862745, 1.0)"
      ]
     },
     "execution_count": 45,
     "metadata": {},
     "output_type": "execute_result"
    }
   ],
   "source": [
    "colormap(25)"
   ]
  },
  {
   "cell_type": "code",
   "execution_count": 46,
   "id": "e1264623",
   "metadata": {},
   "outputs": [
    {
     "data": {
      "text/plain": [
       "['demo_regions', 'TMA']"
      ]
     },
     "execution_count": 46,
     "metadata": {},
     "output_type": "execute_result"
    }
   ],
   "source": [
    "list(xd.regions.metadata.keys())"
   ]
  },
  {
   "cell_type": "code",
   "execution_count": 16,
   "id": "31dd8f4b",
   "metadata": {},
   "outputs": [
    {
     "data": {
      "text/plain": [
       "Viewer(camera=Camera(center=(0.0, 2738.80625, 3762.84375), zoom=0.09227467811158797, angles=(0.0, 0.0, 90.0), perspective=0.0, mouse_pan=True, mouse_zoom=True), cursor=Cursor(position=(1.0, 1.0), scaled=True, size=1, style=<CursorStyle.STANDARD: 'standard'>), dims=Dims(ndim=2, ndisplay=2, last_used=0, range=((0.0, 5477.825, 0.2125), (0.0, 7525.9, 0.2125)), current_step=(12888, 17707), order=(0, 1), axis_labels=('0', '1')), grid=GridCanvas(stride=1, shape=(-1, -1), enabled=False), layers=[<Image layer 'nuclei' at 0x13cdde5e4c0>, <Image layer 'CD20' at 0x13ce0f6eeb0>, <Image layer 'HER2' at 0x13ce0f82d30>, <Image layer 'HE' at 0x13ce0859fa0>], help='use <2> for transform', status='Ready', tooltip=Tooltip(visible=False, text=''), theme='dark', title='napari', mouse_over_canvas=False, mouse_move_callbacks=[], mouse_drag_callbacks=[], mouse_double_click_callbacks=[], mouse_wheel_callbacks=[<function dims_scroll at 0x0000013CF97ED0D0>], _persisted_mouse_event={}, _mouse_drag_gen={}, _mouse_wheel_gen={}, keymap={})"
      ]
     },
     "execution_count": 16,
     "metadata": {},
     "output_type": "execute_result"
    }
   ],
   "source": [
    "xd.viewer"
   ]
  },
  {
   "cell_type": "code",
   "execution_count": 31,
   "id": "916a21a5",
   "metadata": {},
   "outputs": [],
   "source": [
    "xd.viewer.camera.center = (0,0,0)"
   ]
  },
  {
   "cell_type": "code",
   "execution_count": 38,
   "id": "1910a518",
   "metadata": {},
   "outputs": [],
   "source": [
    "xd.viewer.camera.zoom = 0.1"
   ]
  },
  {
   "cell_type": "code",
   "execution_count": 27,
   "id": "00d87722",
   "metadata": {},
   "outputs": [
    {
     "data": {
      "text/plain": [
       "Camera(center=(0.0, 1652.8386517220902, 3715.2126964854133), zoom=0.06071755930404312, angles=(0.0, 0.0, 90.0), perspective=0.0, mouse_pan=True, mouse_zoom=True)"
      ]
     },
     "execution_count": 27,
     "metadata": {},
     "output_type": "execute_result"
    }
   ],
   "source": [
    "xd.viewer.camera"
   ]
  },
  {
   "cell_type": "code",
   "execution_count": 82,
   "id": "21fb4658",
   "metadata": {},
   "outputs": [
    {
     "data": {
      "text/html": [
       "<div>\n",
       "<style scoped>\n",
       "    .dataframe tbody tr th:only-of-type {\n",
       "        vertical-align: middle;\n",
       "    }\n",
       "\n",
       "    .dataframe tbody tr th {\n",
       "        vertical-align: top;\n",
       "    }\n",
       "\n",
       "    .dataframe thead th {\n",
       "        text-align: right;\n",
       "    }\n",
       "</style>\n",
       "<table border=\"1\" class=\"dataframe\">\n",
       "  <thead>\n",
       "    <tr style=\"text-align: right;\">\n",
       "      <th></th>\n",
       "      <th>objectType</th>\n",
       "      <th>name</th>\n",
       "      <th>isMissing</th>\n",
       "      <th>geometry</th>\n",
       "      <th>origin</th>\n",
       "    </tr>\n",
       "    <tr>\n",
       "      <th>id</th>\n",
       "      <th></th>\n",
       "      <th></th>\n",
       "      <th></th>\n",
       "      <th></th>\n",
       "      <th></th>\n",
       "    </tr>\n",
       "  </thead>\n",
       "  <tbody>\n",
       "    <tr>\n",
       "      <th>7ab5d5a6-49bd-4122-bc64-05477bc0207b</th>\n",
       "      <td>tmaCore</td>\n",
       "      <td>B-2</td>\n",
       "      <td>False</td>\n",
       "      <td>POLYGON ((4299.61025 4213.18862, 4298.62425 42...</td>\n",
       "      <td>file</td>\n",
       "    </tr>\n",
       "    <tr>\n",
       "      <th>06ef93c1-f86d-45e6-ad9a-896e254638ea</th>\n",
       "      <td>tmaCore</td>\n",
       "      <td>A-3</td>\n",
       "      <td>False</td>\n",
       "      <td>POLYGON ((7201.19150 903.26738, 7200.20550 934...</td>\n",
       "      <td>file</td>\n",
       "    </tr>\n",
       "    <tr>\n",
       "      <th>7933d3fd-ccd3-46af-8f15-fcc01ec9c128</th>\n",
       "      <td>tmaCore</td>\n",
       "      <td>B-1</td>\n",
       "      <td>False</td>\n",
       "      <td>POLYGON ((1555.14725 4333.64638, 1554.15912 43...</td>\n",
       "      <td>file</td>\n",
       "    </tr>\n",
       "    <tr>\n",
       "      <th>7015118d-2947-48e3-baf0-4b220a76a951</th>\n",
       "      <td>tmaCore</td>\n",
       "      <td>B-3</td>\n",
       "      <td>False</td>\n",
       "      <td>POLYGON ((7311.17300 4228.90087, 7310.18700 42...</td>\n",
       "      <td>file</td>\n",
       "    </tr>\n",
       "    <tr>\n",
       "      <th>bf86657f-31f6-40fe-983b-f80c3d75512b</th>\n",
       "      <td>tmaCore</td>\n",
       "      <td>A-1</td>\n",
       "      <td>False</td>\n",
       "      <td>POLYGON ((1481.82625 908.50338, 1480.83812 939...</td>\n",
       "      <td>file</td>\n",
       "    </tr>\n",
       "    <tr>\n",
       "      <th>440d8f00-fb0e-42e7-9f98-30d30adfc8df</th>\n",
       "      <td>tmaCore</td>\n",
       "      <td>A-2</td>\n",
       "      <td>False</td>\n",
       "      <td>POLYGON ((4173.91650 856.13063, 4172.93050 887...</td>\n",
       "      <td>file</td>\n",
       "    </tr>\n",
       "  </tbody>\n",
       "</table>\n",
       "</div>"
      ],
      "text/plain": [
       "                                     objectType name  isMissing  \\\n",
       "id                                                                \n",
       "7ab5d5a6-49bd-4122-bc64-05477bc0207b    tmaCore  B-2      False   \n",
       "06ef93c1-f86d-45e6-ad9a-896e254638ea    tmaCore  A-3      False   \n",
       "7933d3fd-ccd3-46af-8f15-fcc01ec9c128    tmaCore  B-1      False   \n",
       "7015118d-2947-48e3-baf0-4b220a76a951    tmaCore  B-3      False   \n",
       "bf86657f-31f6-40fe-983b-f80c3d75512b    tmaCore  A-1      False   \n",
       "440d8f00-fb0e-42e7-9f98-30d30adfc8df    tmaCore  A-2      False   \n",
       "\n",
       "                                                                               geometry  \\\n",
       "id                                                                                        \n",
       "7ab5d5a6-49bd-4122-bc64-05477bc0207b  POLYGON ((4299.61025 4213.18862, 4298.62425 42...   \n",
       "06ef93c1-f86d-45e6-ad9a-896e254638ea  POLYGON ((7201.19150 903.26738, 7200.20550 934...   \n",
       "7933d3fd-ccd3-46af-8f15-fcc01ec9c128  POLYGON ((1555.14725 4333.64638, 1554.15912 43...   \n",
       "7015118d-2947-48e3-baf0-4b220a76a951  POLYGON ((7311.17300 4228.90087, 7310.18700 42...   \n",
       "bf86657f-31f6-40fe-983b-f80c3d75512b  POLYGON ((1481.82625 908.50338, 1480.83812 939...   \n",
       "440d8f00-fb0e-42e7-9f98-30d30adfc8df  POLYGON ((4173.91650 856.13063, 4172.93050 887...   \n",
       "\n",
       "                                     origin  \n",
       "id                                           \n",
       "7ab5d5a6-49bd-4122-bc64-05477bc0207b   file  \n",
       "06ef93c1-f86d-45e6-ad9a-896e254638ea   file  \n",
       "7933d3fd-ccd3-46af-8f15-fcc01ec9c128   file  \n",
       "7015118d-2947-48e3-baf0-4b220a76a951   file  \n",
       "bf86657f-31f6-40fe-983b-f80c3d75512b   file  \n",
       "440d8f00-fb0e-42e7-9f98-30d30adfc8df   file  "
      ]
     },
     "execution_count": 82,
     "metadata": {},
     "output_type": "execute_result"
    }
   ],
   "source": [
    "xd.regions.TMA"
   ]
  },
  {
   "cell_type": "code",
   "execution_count": 56,
   "id": "55733652",
   "metadata": {},
   "outputs": [],
   "source": [
    "query_res = getattr(xd.regions, \"TMA\").query('name == \"B-1\"')"
   ]
  },
  {
   "cell_type": "code",
   "execution_count": 79,
   "id": "bfa31b6c",
   "metadata": {},
   "outputs": [
    {
     "ename": "AttributeError",
     "evalue": "'MultiPolygon' object has no attribute 'exterior'",
     "output_type": "error",
     "traceback": [
      "\u001b[1;31m---------------------------------------------------------------------------\u001b[0m",
      "\u001b[1;31mAttributeError\u001b[0m                            Traceback (most recent call last)",
      "Cell \u001b[1;32mIn[79], line 1\u001b[0m\n\u001b[1;32m----> 1\u001b[0m \u001b[43mxd\u001b[49m\u001b[38;5;241;43m.\u001b[39;49m\u001b[43mannotations\u001b[49m\u001b[38;5;241;43m.\u001b[39;49m\u001b[43mdemo2\u001b[49m\u001b[38;5;241;43m.\u001b[39;49m\u001b[43miloc\u001b[49m\u001b[43m[\u001b[49m\u001b[38;5;241;43m2\u001b[39;49m\u001b[43m]\u001b[49m\u001b[43m[\u001b[49m\u001b[38;5;124;43m\"\u001b[39;49m\u001b[38;5;124;43mgeometry\u001b[39;49m\u001b[38;5;124;43m\"\u001b[39;49m\u001b[43m]\u001b[49m\u001b[38;5;241;43m.\u001b[39;49m\u001b[43mexterior\u001b[49m\n",
      "\u001b[1;31mAttributeError\u001b[0m: 'MultiPolygon' object has no attribute 'exterior'"
     ]
    }
   ],
   "source": [
    "xd.annotations.demo2.iloc[2][\"geometry\"].exterior"
   ]
  },
  {
   "cell_type": "code",
   "execution_count": 80,
   "id": "9b6a064a",
   "metadata": {},
   "outputs": [],
   "source": [
    "from shapely.geometry.multipolygon import MultiPolygon\n"
   ]
  },
  {
   "cell_type": "code",
   "execution_count": 81,
   "id": "c4b6a807",
   "metadata": {},
   "outputs": [
    {
     "name": "stdout",
     "output_type": "stream",
     "text": [
      "{MultiPolygon}\n"
     ]
    }
   ],
   "source": [
    "print(\"{MultiPolygon}\")"
   ]
  },
  {
   "cell_type": "code",
   "execution_count": 61,
   "id": "a8e5bf44",
   "metadata": {},
   "outputs": [
    {
     "data": {
      "text/html": [
       "<div>\n",
       "<style scoped>\n",
       "    .dataframe tbody tr th:only-of-type {\n",
       "        vertical-align: middle;\n",
       "    }\n",
       "\n",
       "    .dataframe tbody tr th {\n",
       "        vertical-align: top;\n",
       "    }\n",
       "\n",
       "    .dataframe thead th {\n",
       "        text-align: right;\n",
       "    }\n",
       "</style>\n",
       "<table border=\"1\" class=\"dataframe\">\n",
       "  <thead>\n",
       "    <tr style=\"text-align: right;\">\n",
       "      <th></th>\n",
       "      <th>objectType</th>\n",
       "      <th>name</th>\n",
       "      <th>isMissing</th>\n",
       "      <th>geometry</th>\n",
       "      <th>origin</th>\n",
       "    </tr>\n",
       "    <tr>\n",
       "      <th>id</th>\n",
       "      <th></th>\n",
       "      <th></th>\n",
       "      <th></th>\n",
       "      <th></th>\n",
       "      <th></th>\n",
       "    </tr>\n",
       "  </thead>\n",
       "  <tbody>\n",
       "    <tr>\n",
       "      <th>7ab5d5a6-49bd-4122-bc64-05477bc0207b</th>\n",
       "      <td>tmaCore</td>\n",
       "      <td>B-2</td>\n",
       "      <td>False</td>\n",
       "      <td>POLYGON ((4299.61025 4213.18862, 4298.62425 42...</td>\n",
       "      <td>file</td>\n",
       "    </tr>\n",
       "    <tr>\n",
       "      <th>06ef93c1-f86d-45e6-ad9a-896e254638ea</th>\n",
       "      <td>tmaCore</td>\n",
       "      <td>A-3</td>\n",
       "      <td>False</td>\n",
       "      <td>POLYGON ((7201.19150 903.26738, 7200.20550 934...</td>\n",
       "      <td>file</td>\n",
       "    </tr>\n",
       "    <tr>\n",
       "      <th>7933d3fd-ccd3-46af-8f15-fcc01ec9c128</th>\n",
       "      <td>tmaCore</td>\n",
       "      <td>B-1</td>\n",
       "      <td>False</td>\n",
       "      <td>POLYGON ((1555.14725 4333.64638, 1554.15912 43...</td>\n",
       "      <td>file</td>\n",
       "    </tr>\n",
       "    <tr>\n",
       "      <th>7015118d-2947-48e3-baf0-4b220a76a951</th>\n",
       "      <td>tmaCore</td>\n",
       "      <td>B-3</td>\n",
       "      <td>False</td>\n",
       "      <td>POLYGON ((7311.17300 4228.90087, 7310.18700 42...</td>\n",
       "      <td>file</td>\n",
       "    </tr>\n",
       "    <tr>\n",
       "      <th>bf86657f-31f6-40fe-983b-f80c3d75512b</th>\n",
       "      <td>tmaCore</td>\n",
       "      <td>A-1</td>\n",
       "      <td>False</td>\n",
       "      <td>POLYGON ((1481.82625 908.50338, 1480.83812 939...</td>\n",
       "      <td>file</td>\n",
       "    </tr>\n",
       "    <tr>\n",
       "      <th>440d8f00-fb0e-42e7-9f98-30d30adfc8df</th>\n",
       "      <td>tmaCore</td>\n",
       "      <td>A-2</td>\n",
       "      <td>False</td>\n",
       "      <td>POLYGON ((4173.91650 856.13063, 4172.93050 887...</td>\n",
       "      <td>file</td>\n",
       "    </tr>\n",
       "  </tbody>\n",
       "</table>\n",
       "</div>"
      ],
      "text/plain": [
       "                                     objectType name  isMissing  \\\n",
       "id                                                                \n",
       "7ab5d5a6-49bd-4122-bc64-05477bc0207b    tmaCore  B-2      False   \n",
       "06ef93c1-f86d-45e6-ad9a-896e254638ea    tmaCore  A-3      False   \n",
       "7933d3fd-ccd3-46af-8f15-fcc01ec9c128    tmaCore  B-1      False   \n",
       "7015118d-2947-48e3-baf0-4b220a76a951    tmaCore  B-3      False   \n",
       "bf86657f-31f6-40fe-983b-f80c3d75512b    tmaCore  A-1      False   \n",
       "440d8f00-fb0e-42e7-9f98-30d30adfc8df    tmaCore  A-2      False   \n",
       "\n",
       "                                                                               geometry  \\\n",
       "id                                                                                        \n",
       "7ab5d5a6-49bd-4122-bc64-05477bc0207b  POLYGON ((4299.61025 4213.18862, 4298.62425 42...   \n",
       "06ef93c1-f86d-45e6-ad9a-896e254638ea  POLYGON ((7201.19150 903.26738, 7200.20550 934...   \n",
       "7933d3fd-ccd3-46af-8f15-fcc01ec9c128  POLYGON ((1555.14725 4333.64638, 1554.15912 43...   \n",
       "7015118d-2947-48e3-baf0-4b220a76a951  POLYGON ((7311.17300 4228.90087, 7310.18700 42...   \n",
       "bf86657f-31f6-40fe-983b-f80c3d75512b  POLYGON ((1481.82625 908.50338, 1480.83812 939...   \n",
       "440d8f00-fb0e-42e7-9f98-30d30adfc8df  POLYGON ((4173.91650 856.13063, 4172.93050 887...   \n",
       "\n",
       "                                     origin  \n",
       "id                                           \n",
       "7ab5d5a6-49bd-4122-bc64-05477bc0207b   file  \n",
       "06ef93c1-f86d-45e6-ad9a-896e254638ea   file  \n",
       "7933d3fd-ccd3-46af-8f15-fcc01ec9c128   file  \n",
       "7015118d-2947-48e3-baf0-4b220a76a951   file  \n",
       "bf86657f-31f6-40fe-983b-f80c3d75512b   file  \n",
       "440d8f00-fb0e-42e7-9f98-30d30adfc8df   file  "
      ]
     },
     "execution_count": 61,
     "metadata": {},
     "output_type": "execute_result"
    }
   ],
   "source": [
    "getattr(xd.regions, \"TMA\")"
   ]
  },
  {
   "cell_type": "code",
   "execution_count": 72,
   "id": "1dac0ac8",
   "metadata": {},
   "outputs": [
    {
     "data": {
      "text/plain": [
       "array([[1055.14636063, 4333.64579273]])"
      ]
     },
     "execution_count": 72,
     "metadata": {},
     "output_type": "execute_result"
    }
   ],
   "source": [
    "get_coordinates(query_res[\"geometry\"].iloc[0].centroid)"
   ]
  },
  {
   "cell_type": "code",
   "execution_count": 59,
   "id": "3788acad",
   "metadata": {},
   "outputs": [
    {
     "name": "stderr",
     "output_type": "stream",
     "text": [
      "C:\\Users\\ge37voy\\AppData\\Local\\Temp\\ipykernel_28720\\3570522621.py:1: UserWarning: Geometry is in a geographic CRS. Results from 'centroid' are likely incorrect. Use 'GeoSeries.to_crs()' to re-project geometries to a projected CRS before this operation.\n",
      "\n",
      "  get_coordinates(query_res.geometry.centroid)\n"
     ]
    },
    {
     "data": {
      "text/plain": [
       "array([[1055.14636063, 4333.64579273]])"
      ]
     },
     "execution_count": 59,
     "metadata": {},
     "output_type": "execute_result"
    }
   ],
   "source": [
    "get_coordinates(query_res.geometry.centroid)"
   ]
  },
  {
   "cell_type": "code",
   "execution_count": 55,
   "id": "bfffe6d7",
   "metadata": {},
   "outputs": [],
   "source": [
    "from shapely import get_coordinates"
   ]
  },
  {
   "cell_type": "code",
   "execution_count": 42,
   "id": "cef0b73b",
   "metadata": {},
   "outputs": [
    {
     "data": {
      "text/plain": [
       "{'demo': {'n_annotations': 4,\n",
       "  'classes': ['Positive', 'Negative'],\n",
       "  'analyzed': ''},\n",
       " 'demo2': {'n_annotations': 5,\n",
       "  'classes': ['Negative', 'Positive', 'Other'],\n",
       "  'analyzed': ''}}"
      ]
     },
     "execution_count": 42,
     "metadata": {},
     "output_type": "execute_result"
    }
   ],
   "source": [
    "xd.annotations.metadata"
   ]
  },
  {
   "cell_type": "code",
   "execution_count": null,
   "id": "4072f348",
   "metadata": {},
   "outputs": [
    {
     "data": {
      "text/plain": [
       "{'demo_regions': {'n_annotations': 3,\n",
       "  'classes': ['Region1', 'Region2', 'Region3'],\n",
       "  'analyzed': ''},\n",
       " 'TMA': {'n_annotations': 6,\n",
       "  'classes': ['B-2', 'A-3', 'B-1', 'B-3', 'A-1', 'A-2'],\n",
       "  'analyzed': ''}}"
      ]
     },
     "metadata": {},
     "output_type": "display_data"
    }
   ],
   "source": [
    "xd.regions.metadata"
   ]
  },
  {
   "cell_type": "code",
   "execution_count": 22,
   "id": "5434fe73",
   "metadata": {},
   "outputs": [],
   "source": [
    "xd.viewer.dims.range = ((0.0, 5477.825, 0.5125), (0.0, 1525.9, 0.5125))"
   ]
  },
  {
   "cell_type": "code",
   "execution_count": 13,
   "id": "b1308dd2",
   "metadata": {},
   "outputs": [
    {
     "data": {
      "text/plain": [
       "Camera(center=(0.0, 2575.575468754741, 4159.764054695486), zoom=0.08152545395814942, angles=(0.0, 0.0, 90.0), perspective=0.0, mouse_pan=True, mouse_zoom=True)"
      ]
     },
     "execution_count": 13,
     "metadata": {},
     "output_type": "execute_result"
    }
   ],
   "source": [
    "xd.viewer.camera"
   ]
  },
  {
   "cell_type": "code",
   "execution_count": 13,
   "id": "2d920238",
   "metadata": {},
   "outputs": [
    {
     "data": {
      "text/plain": [
       "dict_keys(['demo_regions', 'TMA'])"
      ]
     },
     "execution_count": 13,
     "metadata": {},
     "output_type": "execute_result"
    }
   ],
   "source": [
    "xd.regions.metadata.keys()"
   ]
  },
  {
   "cell_type": "code",
   "execution_count": 23,
   "id": "a637c1fd",
   "metadata": {},
   "outputs": [],
   "source": [
    "from shapely import get_coordinates"
   ]
  },
  {
   "cell_type": "code",
   "execution_count": 24,
   "id": "ee1ead68",
   "metadata": {},
   "outputs": [
    {
     "data": {
      "text/plain": [
       "array([[3799.61058111, 4213.18920728]])"
      ]
     },
     "execution_count": 24,
     "metadata": {},
     "output_type": "execute_result"
    }
   ],
   "source": [
    "get_coordinates(xd.regions.TMA.iloc[0].geometry.centroid)"
   ]
  },
  {
   "cell_type": "code",
   "execution_count": 22,
   "id": "510a1eba",
   "metadata": {},
   "outputs": [
    {
     "data": {
      "text/plain": [
       "(array('d', [3799.610581113812]), array('d', [4213.189207276972]))"
      ]
     },
     "execution_count": 22,
     "metadata": {},
     "output_type": "execute_result"
    }
   ],
   "source": [
    "xd.regions.TMA.iloc[0].geometry.centroid.coords.xy"
   ]
  },
  {
   "cell_type": "code",
   "execution_count": 14,
   "id": "b18d19a8",
   "metadata": {},
   "outputs": [
    {
     "name": "stderr",
     "output_type": "stream",
     "text": [
      "[autoreload of insitupy._core._widgets failed: Traceback (most recent call last):\n",
      "  File \"c:\\Users\\ge37voy\\AppData\\Local\\miniconda3\\envs\\insitupy\\lib\\site-packages\\IPython\\extensions\\autoreload.py\", line 276, in check\n",
      "    superreload(m, reload, self.old_objects)\n",
      "  File \"c:\\Users\\ge37voy\\AppData\\Local\\miniconda3\\envs\\insitupy\\lib\\site-packages\\IPython\\extensions\\autoreload.py\", line 475, in superreload\n",
      "    module = reload(module)\n",
      "  File \"c:\\Users\\ge37voy\\AppData\\Local\\miniconda3\\envs\\insitupy\\lib\\importlib\\__init__.py\", line 169, in reload\n",
      "    _bootstrap._exec(spec, module)\n",
      "  File \"<frozen importlib._bootstrap>\", line 613, in _exec\n",
      "  File \"<frozen importlib._bootstrap_external>\", line 846, in exec_module\n",
      "  File \"<frozen importlib._bootstrap_external>\", line 983, in get_code\n",
      "  File \"<frozen importlib._bootstrap_external>\", line 913, in source_to_code\n",
      "  File \"<frozen importlib._bootstrap>\", line 228, in _call_with_frames_removed\n",
      "  File \"C:\\Users\\ge37voy\\Github\\InSituPy\\insitupy\\_core\\_widgets.py\", line 185\n",
      "    return add_points_widget, locate_cells_widget #add_genes, add_observations\n",
      "IndentationError: unexpected unindent\n",
      "]\n"
     ]
    },
    {
     "data": {
      "text/plain": [
       "{'demo_regions': {'n_annotations': 3,\n",
       "  'classes': ['Region1', 'Region2', 'Region3'],\n",
       "  'analyzed': ''},\n",
       " 'TMA': {'n_annotations': 6,\n",
       "  'classes': ['B-2', 'A-3', 'B-1', 'B-3', 'A-1', 'A-2'],\n",
       "  'analyzed': ''}}"
      ]
     },
     "execution_count": 14,
     "metadata": {},
     "output_type": "execute_result"
    }
   ],
   "source": [
    "xd.regions.metadata"
   ]
  },
  {
   "cell_type": "code",
   "execution_count": 14,
   "id": "d30f32ad",
   "metadata": {},
   "outputs": [
    {
     "data": {
      "text/plain": [
       "True"
      ]
     },
     "execution_count": 14,
     "metadata": {},
     "output_type": "execute_result"
    }
   ],
   "source": [
    "\"nuclei\" in xd.viewer.layers"
   ]
  },
  {
   "cell_type": "code",
   "execution_count": 16,
   "id": "95a654b6",
   "metadata": {},
   "outputs": [],
   "source": [
    "import geopandas"
   ]
  },
  {
   "cell_type": "code",
   "execution_count": 18,
   "id": "873f7988",
   "metadata": {},
   "outputs": [
    {
     "data": {
      "text/html": [
       "<div>\n",
       "<style scoped>\n",
       "    .dataframe tbody tr th:only-of-type {\n",
       "        vertical-align: middle;\n",
       "    }\n",
       "\n",
       "    .dataframe tbody tr th {\n",
       "        vertical-align: top;\n",
       "    }\n",
       "\n",
       "    .dataframe thead th {\n",
       "        text-align: right;\n",
       "    }\n",
       "</style>\n",
       "<table border=\"1\" class=\"dataframe\">\n",
       "  <thead>\n",
       "    <tr style=\"text-align: right;\">\n",
       "      <th></th>\n",
       "      <th>id</th>\n",
       "      <th>objectType</th>\n",
       "      <th>classification</th>\n",
       "      <th>name</th>\n",
       "      <th>isMissing</th>\n",
       "      <th>geometry</th>\n",
       "    </tr>\n",
       "  </thead>\n",
       "  <tbody>\n",
       "    <tr>\n",
       "      <th>0</th>\n",
       "      <td>3b1e2f98-ec6e-44f2-a895-ab319670286d</td>\n",
       "      <td>tmaCore</td>\n",
       "      <td>None</td>\n",
       "      <td>B-1</td>\n",
       "      <td>False</td>\n",
       "      <td>POLYGON ((4705.88000 23425.06000, 4701.24000 2...</td>\n",
       "    </tr>\n",
       "    <tr>\n",
       "      <th>1</th>\n",
       "      <td>5db6897e-1830-4ec1-8b22-171eefa39eb1</td>\n",
       "      <td>annotation</td>\n",
       "      <td>None</td>\n",
       "      <td>None</td>\n",
       "      <td>None</td>\n",
       "      <td>POLYGON ((24621.00000 11484.00000, 29181.00000...</td>\n",
       "    </tr>\n",
       "    <tr>\n",
       "      <th>2</th>\n",
       "      <td>c82af7f3-369e-4018-b0cd-9c34ba4882c2</td>\n",
       "      <td>tmaCore</td>\n",
       "      <td>None</td>\n",
       "      <td>A-1</td>\n",
       "      <td>False</td>\n",
       "      <td>POLYGON ((4705.88000 2352.94000, 4701.24000 25...</td>\n",
       "    </tr>\n",
       "    <tr>\n",
       "      <th>3</th>\n",
       "      <td>f52e883f-fe4e-4eac-91e6-1866eca8cf2e</td>\n",
       "      <td>tmaCore</td>\n",
       "      <td>None</td>\n",
       "      <td>B-2</td>\n",
       "      <td>False</td>\n",
       "      <td>POLYGON ((20060.94000 23425.06000, 20056.30000...</td>\n",
       "    </tr>\n",
       "    <tr>\n",
       "      <th>4</th>\n",
       "      <td>ac1f14a8-9901-4159-98c8-5f68f214b926</td>\n",
       "      <td>annotation</td>\n",
       "      <td>{'name': 'Stroma', 'color': [150, 200, 150]}</td>\n",
       "      <td>None</td>\n",
       "      <td>None</td>\n",
       "      <td>POLYGON ((6803.00000 6431.00000, 13925.00000 6...</td>\n",
       "    </tr>\n",
       "    <tr>\n",
       "      <th>5</th>\n",
       "      <td>f6f639c6-62d0-4e3c-ac41-b50d92da7f82</td>\n",
       "      <td>tmaCore</td>\n",
       "      <td>None</td>\n",
       "      <td>A-2</td>\n",
       "      <td>False</td>\n",
       "      <td>POLYGON ((20060.94000 2352.94000, 20056.30000 ...</td>\n",
       "    </tr>\n",
       "    <tr>\n",
       "      <th>6</th>\n",
       "      <td>f785735d-ff05-4d4d-b0d8-0b6c157acbda</td>\n",
       "      <td>tmaCore</td>\n",
       "      <td>None</td>\n",
       "      <td>A-3</td>\n",
       "      <td>False</td>\n",
       "      <td>POLYGON ((35416.00000 2352.94000, 35411.36000 ...</td>\n",
       "    </tr>\n",
       "    <tr>\n",
       "      <th>7</th>\n",
       "      <td>1b57dd5a-87de-4550-9f0e-e8f3b5c2c7bc</td>\n",
       "      <td>tmaCore</td>\n",
       "      <td>None</td>\n",
       "      <td>B-3</td>\n",
       "      <td>False</td>\n",
       "      <td>POLYGON ((35416.00000 23425.06000, 35411.36000...</td>\n",
       "    </tr>\n",
       "  </tbody>\n",
       "</table>\n",
       "</div>"
      ],
      "text/plain": [
       "                                     id  objectType  \\\n",
       "0  3b1e2f98-ec6e-44f2-a895-ab319670286d     tmaCore   \n",
       "1  5db6897e-1830-4ec1-8b22-171eefa39eb1  annotation   \n",
       "2  c82af7f3-369e-4018-b0cd-9c34ba4882c2     tmaCore   \n",
       "3  f52e883f-fe4e-4eac-91e6-1866eca8cf2e     tmaCore   \n",
       "4  ac1f14a8-9901-4159-98c8-5f68f214b926  annotation   \n",
       "5  f6f639c6-62d0-4e3c-ac41-b50d92da7f82     tmaCore   \n",
       "6  f785735d-ff05-4d4d-b0d8-0b6c157acbda     tmaCore   \n",
       "7  1b57dd5a-87de-4550-9f0e-e8f3b5c2c7bc     tmaCore   \n",
       "\n",
       "                                 classification  name isMissing  \\\n",
       "0                                          None   B-1     False   \n",
       "1                                          None  None      None   \n",
       "2                                          None   A-1     False   \n",
       "3                                          None   B-2     False   \n",
       "4  {'name': 'Stroma', 'color': [150, 200, 150]}  None      None   \n",
       "5                                          None   A-2     False   \n",
       "6                                          None   A-3     False   \n",
       "7                                          None   B-3     False   \n",
       "\n",
       "                                            geometry  \n",
       "0  POLYGON ((4705.88000 23425.06000, 4701.24000 2...  \n",
       "1  POLYGON ((24621.00000 11484.00000, 29181.00000...  \n",
       "2  POLYGON ((4705.88000 2352.94000, 4701.24000 25...  \n",
       "3  POLYGON ((20060.94000 23425.06000, 20056.30000...  \n",
       "4  POLYGON ((6803.00000 6431.00000, 13925.00000 6...  \n",
       "5  POLYGON ((20060.94000 2352.94000, 20056.30000 ...  \n",
       "6  POLYGON ((35416.00000 2352.94000, 35411.36000 ...  \n",
       "7  POLYGON ((35416.00000 23425.06000, 35411.36000...  "
      ]
     },
     "execution_count": 18,
     "metadata": {},
     "output_type": "execute_result"
    }
   ],
   "source": [
    "geopandas.read_file(r\"C:\\Users\\ge37voy\\Downloads\\mixed_regions.geojson\")"
   ]
  },
  {
   "cell_type": "code",
   "execution_count": 19,
   "id": "90aea8ec",
   "metadata": {},
   "outputs": [
    {
     "data": {
      "text/html": [
       "<div>\n",
       "<style scoped>\n",
       "    .dataframe tbody tr th:only-of-type {\n",
       "        vertical-align: middle;\n",
       "    }\n",
       "\n",
       "    .dataframe tbody tr th {\n",
       "        vertical-align: top;\n",
       "    }\n",
       "\n",
       "    .dataframe thead th {\n",
       "        text-align: right;\n",
       "    }\n",
       "</style>\n",
       "<table border=\"1\" class=\"dataframe\">\n",
       "  <thead>\n",
       "    <tr style=\"text-align: right;\">\n",
       "      <th></th>\n",
       "      <th>id</th>\n",
       "      <th>objectType</th>\n",
       "      <th>name</th>\n",
       "      <th>geometry</th>\n",
       "    </tr>\n",
       "  </thead>\n",
       "  <tbody>\n",
       "    <tr>\n",
       "      <th>0</th>\n",
       "      <td>2d0da635-c408-459f-9178-839097fe5a98</td>\n",
       "      <td>annotation</td>\n",
       "      <td>Region1</td>\n",
       "      <td>POLYGON ((7362.00000 6221.00000, 10672.00000 6...</td>\n",
       "    </tr>\n",
       "    <tr>\n",
       "      <th>1</th>\n",
       "      <td>ce6c2342-620d-4f44-be03-68a4454e9b33</td>\n",
       "      <td>annotation</td>\n",
       "      <td>Region2</td>\n",
       "      <td>POLYGON ((21373.00000 6383.00000, 26418.00000 ...</td>\n",
       "    </tr>\n",
       "    <tr>\n",
       "      <th>2</th>\n",
       "      <td>70a125ec-c53e-469b-8927-efe224e504c1</td>\n",
       "      <td>annotation</td>\n",
       "      <td>Region3</td>\n",
       "      <td>POLYGON ((9933.00000 12745.00000, 15942.00000 ...</td>\n",
       "    </tr>\n",
       "  </tbody>\n",
       "</table>\n",
       "</div>"
      ],
      "text/plain": [
       "                                     id  objectType     name  \\\n",
       "0  2d0da635-c408-459f-9178-839097fe5a98  annotation  Region1   \n",
       "1  ce6c2342-620d-4f44-be03-68a4454e9b33  annotation  Region2   \n",
       "2  70a125ec-c53e-469b-8927-efe224e504c1  annotation  Region3   \n",
       "\n",
       "                                            geometry  \n",
       "0  POLYGON ((7362.00000 6221.00000, 10672.00000 6...  \n",
       "1  POLYGON ((21373.00000 6383.00000, 26418.00000 ...  \n",
       "2  POLYGON ((9933.00000 12745.00000, 15942.00000 ...  "
      ]
     },
     "execution_count": 19,
     "metadata": {},
     "output_type": "execute_result"
    }
   ],
   "source": [
    "geopandas.read_file(r\"C:\\Users\\ge37voy\\Github\\InSituPy\\notebooks\\demo_regions\\regions-slide_id__sample_id__demo_regions.geojson\")"
   ]
  },
  {
   "cell_type": "code",
   "execution_count": 64,
   "id": "0bea986a",
   "metadata": {},
   "outputs": [
    {
     "data": {
      "text/html": [
       "<div>\n",
       "<style scoped>\n",
       "    .dataframe tbody tr th:only-of-type {\n",
       "        vertical-align: middle;\n",
       "    }\n",
       "\n",
       "    .dataframe tbody tr th {\n",
       "        vertical-align: top;\n",
       "    }\n",
       "\n",
       "    .dataframe thead th {\n",
       "        text-align: right;\n",
       "    }\n",
       "</style>\n",
       "<table border=\"1\" class=\"dataframe\">\n",
       "  <thead>\n",
       "    <tr style=\"text-align: right;\">\n",
       "      <th></th>\n",
       "      <th>objectType</th>\n",
       "      <th>name</th>\n",
       "      <th>isMissing</th>\n",
       "      <th>geometry</th>\n",
       "      <th>origin</th>\n",
       "    </tr>\n",
       "    <tr>\n",
       "      <th>id</th>\n",
       "      <th></th>\n",
       "      <th></th>\n",
       "      <th></th>\n",
       "      <th></th>\n",
       "      <th></th>\n",
       "    </tr>\n",
       "  </thead>\n",
       "  <tbody>\n",
       "    <tr>\n",
       "      <th>7ab5d5a6-49bd-4122-bc64-05477bc0207b</th>\n",
       "      <td>tmaCore</td>\n",
       "      <td>B-2</td>\n",
       "      <td>False</td>\n",
       "      <td>POLYGON ((4299.61025 4213.18862, 4298.62425 42...</td>\n",
       "      <td>file</td>\n",
       "    </tr>\n",
       "    <tr>\n",
       "      <th>06ef93c1-f86d-45e6-ad9a-896e254638ea</th>\n",
       "      <td>tmaCore</td>\n",
       "      <td>A-3</td>\n",
       "      <td>False</td>\n",
       "      <td>POLYGON ((7201.19150 903.26738, 7200.20550 934...</td>\n",
       "      <td>file</td>\n",
       "    </tr>\n",
       "    <tr>\n",
       "      <th>7933d3fd-ccd3-46af-8f15-fcc01ec9c128</th>\n",
       "      <td>tmaCore</td>\n",
       "      <td>B-1</td>\n",
       "      <td>False</td>\n",
       "      <td>POLYGON ((1555.14725 4333.64638, 1554.15912 43...</td>\n",
       "      <td>file</td>\n",
       "    </tr>\n",
       "    <tr>\n",
       "      <th>7015118d-2947-48e3-baf0-4b220a76a951</th>\n",
       "      <td>tmaCore</td>\n",
       "      <td>B-3</td>\n",
       "      <td>False</td>\n",
       "      <td>POLYGON ((7311.17300 4228.90087, 7310.18700 42...</td>\n",
       "      <td>file</td>\n",
       "    </tr>\n",
       "    <tr>\n",
       "      <th>bf86657f-31f6-40fe-983b-f80c3d75512b</th>\n",
       "      <td>tmaCore</td>\n",
       "      <td>A-1</td>\n",
       "      <td>False</td>\n",
       "      <td>POLYGON ((1481.82625 908.50338, 1480.83812 939...</td>\n",
       "      <td>file</td>\n",
       "    </tr>\n",
       "    <tr>\n",
       "      <th>440d8f00-fb0e-42e7-9f98-30d30adfc8df</th>\n",
       "      <td>tmaCore</td>\n",
       "      <td>A-2</td>\n",
       "      <td>False</td>\n",
       "      <td>POLYGON ((4173.91650 856.13063, 4172.93050 887...</td>\n",
       "      <td>file</td>\n",
       "    </tr>\n",
       "  </tbody>\n",
       "</table>\n",
       "</div>"
      ],
      "text/plain": [
       "                                     objectType name  isMissing  \\\n",
       "id                                                                \n",
       "7ab5d5a6-49bd-4122-bc64-05477bc0207b    tmaCore  B-2      False   \n",
       "06ef93c1-f86d-45e6-ad9a-896e254638ea    tmaCore  A-3      False   \n",
       "7933d3fd-ccd3-46af-8f15-fcc01ec9c128    tmaCore  B-1      False   \n",
       "7015118d-2947-48e3-baf0-4b220a76a951    tmaCore  B-3      False   \n",
       "bf86657f-31f6-40fe-983b-f80c3d75512b    tmaCore  A-1      False   \n",
       "440d8f00-fb0e-42e7-9f98-30d30adfc8df    tmaCore  A-2      False   \n",
       "\n",
       "                                                                               geometry  \\\n",
       "id                                                                                        \n",
       "7ab5d5a6-49bd-4122-bc64-05477bc0207b  POLYGON ((4299.61025 4213.18862, 4298.62425 42...   \n",
       "06ef93c1-f86d-45e6-ad9a-896e254638ea  POLYGON ((7201.19150 903.26738, 7200.20550 934...   \n",
       "7933d3fd-ccd3-46af-8f15-fcc01ec9c128  POLYGON ((1555.14725 4333.64638, 1554.15912 43...   \n",
       "7015118d-2947-48e3-baf0-4b220a76a951  POLYGON ((7311.17300 4228.90087, 7310.18700 42...   \n",
       "bf86657f-31f6-40fe-983b-f80c3d75512b  POLYGON ((1481.82625 908.50338, 1480.83812 939...   \n",
       "440d8f00-fb0e-42e7-9f98-30d30adfc8df  POLYGON ((4173.91650 856.13063, 4172.93050 887...   \n",
       "\n",
       "                                     origin  \n",
       "id                                           \n",
       "7ab5d5a6-49bd-4122-bc64-05477bc0207b   file  \n",
       "06ef93c1-f86d-45e6-ad9a-896e254638ea   file  \n",
       "7933d3fd-ccd3-46af-8f15-fcc01ec9c128   file  \n",
       "7015118d-2947-48e3-baf0-4b220a76a951   file  \n",
       "bf86657f-31f6-40fe-983b-f80c3d75512b   file  \n",
       "440d8f00-fb0e-42e7-9f98-30d30adfc8df   file  "
      ]
     },
     "execution_count": 64,
     "metadata": {},
     "output_type": "execute_result"
    }
   ],
   "source": [
    "xd.regions.TMA"
   ]
  },
  {
   "cell_type": "code",
   "execution_count": null,
   "id": "b4eb91a6",
   "metadata": {},
   "outputs": [],
   "source": [
    "xd.read_annotations"
   ]
  },
  {
   "cell_type": "code",
   "execution_count": 9,
   "id": "afbc5f1d",
   "metadata": {},
   "outputs": [],
   "source": [
    "import pandas as pd"
   ]
  },
  {
   "cell_type": "code",
   "execution_count": null,
   "id": "872f5296",
   "metadata": {},
   "outputs": [],
   "source": [
    "pd.read_csv()"
   ]
  },
  {
   "cell_type": "code",
   "execution_count": null,
   "id": "41fa1b01",
   "metadata": {},
   "outputs": [],
   "source": []
  },
  {
   "cell_type": "code",
   "execution_count": 8,
   "id": "e478ceea",
   "metadata": {},
   "outputs": [
    {
     "data": {
      "text/plain": [
       "\u001b[1m\u001b[31mXeniumData\u001b[0m\n",
       "\u001b[1mSlide ID:\u001b[0m\tslide_id\n",
       "\u001b[1mSample ID:\u001b[0m\tsample_id\n",
       "\u001b[1mData path:\u001b[0m\t..\\demo_dataset\n",
       "\u001b[1mData folder:\u001b[0m\toutput-XETG00000__slide_id__sample_id\n",
       "\u001b[1mMetadata file:\u001b[0m\texperiment_modified.xenium\n",
       "    ➤ \u001b[34m\u001b[1mimages\u001b[0m\n",
       "       \u001b[1mHE:\u001b[0m\t(25778, 35416, 3)\n",
       "    ➤\u001b[32m\u001b[1m cells\u001b[0m\n",
       "       \u001b[1mmatrix\u001b[0m\n",
       "           AnnData object with n_obs × n_vars = 167780 × 313\n",
       "           obs: 'transcript_counts', 'control_probe_counts', 'control_codeword_counts', 'total_counts', 'cell_area', 'nucleus_area'\n",
       "           var: 'gene_ids', 'feature_types', 'genome'\n",
       "           obsm: 'spatial'\n",
       "       \u001b[1mboundaries\u001b[0m\n",
       "           BoundariesData object with 2 entries:\n",
       "               \u001b[1mcellular\u001b[0m\n",
       "               \u001b[1mnuclear\u001b[0m"
      ]
     },
     "execution_count": 8,
     "metadata": {},
     "output_type": "execute_result"
    }
   ],
   "source": [
    "xd"
   ]
  },
  {
   "cell_type": "code",
   "execution_count": 10,
   "id": "c43befb7",
   "metadata": {},
   "outputs": [
    {
     "data": {
      "text/plain": [
       "<bound method XeniumData.read_annotations of \u001b[1m\u001b[31mXeniumData\u001b[0m\n",
       "\u001b[1mSlide ID:\u001b[0m\tslide_id\n",
       "\u001b[1mSample ID:\u001b[0m\tsample_id\n",
       "\u001b[1mData path:\u001b[0m\t..\\demo_dataset\n",
       "\u001b[1mData folder:\u001b[0m\toutput-XETG00000__slide_id__sample_id\n",
       "\u001b[1mMetadata file:\u001b[0m\texperiment_modified.xenium\n",
       "    ➤ \u001b[34m\u001b[1mimages\u001b[0m\n",
       "       \u001b[1mHE:\u001b[0m\t(25778, 35416, 3)\n",
       "    ➤\u001b[32m\u001b[1m cells\u001b[0m\n",
       "       \u001b[1mmatrix\u001b[0m\n",
       "           AnnData object with n_obs × n_vars = 167780 × 313\n",
       "           obs: 'transcript_counts', 'control_probe_counts', 'control_codeword_counts', 'total_counts', 'cell_area', 'nucleus_area'\n",
       "           var: 'gene_ids', 'feature_types', 'genome'\n",
       "           obsm: 'spatial'\n",
       "       \u001b[1mboundaries\u001b[0m\n",
       "           BoundariesData object with 2 entries:\n",
       "               \u001b[1mcellular\u001b[0m\n",
       "               \u001b[1mnuclear\u001b[0m>"
      ]
     },
     "execution_count": 10,
     "metadata": {},
     "output_type": "execute_result"
    }
   ],
   "source": [
    "xd.read_annotations()"
   ]
  },
  {
   "cell_type": "code",
   "execution_count": 9,
   "id": "1a17d59f",
   "metadata": {},
   "outputs": [
    {
     "data": {
      "text/plain": [
       "\u001b[1m\u001b[31mXeniumData\u001b[0m\n",
       "\u001b[1mSlide ID:\u001b[0m\tslide_id\n",
       "\u001b[1mSample ID:\u001b[0m\tsample_id\n",
       "\u001b[1mData path:\u001b[0m\t..\\demo_dataset\n",
       "\u001b[1mData folder:\u001b[0m\toutput-XETG00000__slide_id__sample_id\n",
       "\u001b[1mMetadata file:\u001b[0m\texperiment_modified.xenium\n",
       "    ➤ \u001b[34m\u001b[1mimages\u001b[0m\n",
       "       \u001b[1mHE:\u001b[0m\t(25778, 35416, 3)\n",
       "    ➤\u001b[32m\u001b[1m cells\u001b[0m\n",
       "       \u001b[1mmatrix\u001b[0m\n",
       "           AnnData object with n_obs × n_vars = 167780 × 313\n",
       "           obs: 'transcript_counts', 'control_probe_counts', 'control_codeword_counts', 'total_counts', 'cell_area', 'nucleus_area'\n",
       "           var: 'gene_ids', 'feature_types', 'genome'\n",
       "           obsm: 'spatial'\n",
       "       \u001b[1mboundaries\u001b[0m\n",
       "           BoundariesData object with 2 entries:\n",
       "               \u001b[1mcellular\u001b[0m\n",
       "               \u001b[1mnuclear\u001b[0m"
      ]
     },
     "execution_count": 9,
     "metadata": {},
     "output_type": "execute_result"
    }
   ],
   "source": [
    "xd"
   ]
  },
  {
   "cell_type": "code",
   "execution_count": 13,
   "id": "69967ee0-e5c0-4178-8662-b7d52f1aea50",
   "metadata": {},
   "outputs": [
    {
     "data": {
      "text/html": [
       "<div>\n",
       "<style scoped>\n",
       "    .dataframe tbody tr th:only-of-type {\n",
       "        vertical-align: middle;\n",
       "    }\n",
       "\n",
       "    .dataframe tbody tr th {\n",
       "        vertical-align: top;\n",
       "    }\n",
       "\n",
       "    .dataframe thead th {\n",
       "        text-align: right;\n",
       "    }\n",
       "</style>\n",
       "<table border=\"1\" class=\"dataframe\">\n",
       "  <thead>\n",
       "    <tr style=\"text-align: right;\">\n",
       "      <th></th>\n",
       "      <th>objectType</th>\n",
       "      <th>geometry</th>\n",
       "      <th>name</th>\n",
       "      <th>color</th>\n",
       "      <th>origin</th>\n",
       "    </tr>\n",
       "    <tr>\n",
       "      <th>id</th>\n",
       "      <th></th>\n",
       "      <th></th>\n",
       "      <th></th>\n",
       "      <th></th>\n",
       "      <th></th>\n",
       "    </tr>\n",
       "  </thead>\n",
       "  <tbody>\n",
       "    <tr>\n",
       "      <th>bd3aacca-1716-4df8-91dd-bf8f6413a7bd</th>\n",
       "      <td>annotation</td>\n",
       "      <td>POLYGON ((8863.00000 10814.00000, 8863.00000 1...</td>\n",
       "      <td>Positive</td>\n",
       "      <td>[250, 62, 62]</td>\n",
       "      <td>file</td>\n",
       "    </tr>\n",
       "    <tr>\n",
       "      <th>69814505-4059-42cd-8df2-752f7eb0810d</th>\n",
       "      <td>annotation</td>\n",
       "      <td>POLYGON ((13096.00000 12492.00000, 13072.40000...</td>\n",
       "      <td>Positive</td>\n",
       "      <td>[250, 62, 62]</td>\n",
       "      <td>file</td>\n",
       "    </tr>\n",
       "    <tr>\n",
       "      <th>1957cd32-0a21-4b45-9dae-ecf236217140</th>\n",
       "      <td>annotation</td>\n",
       "      <td>POLYGON ((30975.26000 22938.00000, 30982.00000...</td>\n",
       "      <td>Negative</td>\n",
       "      <td>[112, 112, 225]</td>\n",
       "      <td>file</td>\n",
       "    </tr>\n",
       "    <tr>\n",
       "      <th>19d2197a-1b8e-456f-8223-fba74641ac1c</th>\n",
       "      <td>annotation</td>\n",
       "      <td>POLYGON ((31165.00000 16408.00000, 31149.00000...</td>\n",
       "      <td>Negative</td>\n",
       "      <td>[112, 112, 225]</td>\n",
       "      <td>file</td>\n",
       "    </tr>\n",
       "  </tbody>\n",
       "</table>\n",
       "</div>"
      ],
      "text/plain": [
       "                                      objectType  \\\n",
       "id                                                 \n",
       "bd3aacca-1716-4df8-91dd-bf8f6413a7bd  annotation   \n",
       "69814505-4059-42cd-8df2-752f7eb0810d  annotation   \n",
       "1957cd32-0a21-4b45-9dae-ecf236217140  annotation   \n",
       "19d2197a-1b8e-456f-8223-fba74641ac1c  annotation   \n",
       "\n",
       "                                                                               geometry  \\\n",
       "id                                                                                        \n",
       "bd3aacca-1716-4df8-91dd-bf8f6413a7bd  POLYGON ((8863.00000 10814.00000, 8863.00000 1...   \n",
       "69814505-4059-42cd-8df2-752f7eb0810d  POLYGON ((13096.00000 12492.00000, 13072.40000...   \n",
       "1957cd32-0a21-4b45-9dae-ecf236217140  POLYGON ((30975.26000 22938.00000, 30982.00000...   \n",
       "19d2197a-1b8e-456f-8223-fba74641ac1c  POLYGON ((31165.00000 16408.00000, 31149.00000...   \n",
       "\n",
       "                                          name            color origin  \n",
       "id                                                                      \n",
       "bd3aacca-1716-4df8-91dd-bf8f6413a7bd  Positive    [250, 62, 62]   file  \n",
       "69814505-4059-42cd-8df2-752f7eb0810d  Positive    [250, 62, 62]   file  \n",
       "1957cd32-0a21-4b45-9dae-ecf236217140  Negative  [112, 112, 225]   file  \n",
       "19d2197a-1b8e-456f-8223-fba74641ac1c  Negative  [112, 112, 225]   file  "
      ]
     },
     "execution_count": 13,
     "metadata": {},
     "output_type": "execute_result"
    }
   ],
   "source": [
    "xd.annotations.demo"
   ]
  },
  {
   "cell_type": "code",
   "execution_count": 22,
   "id": "835b4516-7006-4655-9111-1ec85d89ee6c",
   "metadata": {},
   "outputs": [
    {
     "ename": "TypeError",
     "evalue": "scale() got an unexpected keyword argument 'inplace'",
     "output_type": "error",
     "traceback": [
      "\u001b[1;31m---------------------------------------------------------------------------\u001b[0m",
      "\u001b[1;31mTypeError\u001b[0m                                 Traceback (most recent call last)",
      "Cell \u001b[1;32mIn[22], line 1\u001b[0m\n\u001b[1;32m----> 1\u001b[0m \u001b[43mxd\u001b[49m\u001b[38;5;241;43m.\u001b[39;49m\u001b[43mannotations\u001b[49m\u001b[38;5;241;43m.\u001b[39;49m\u001b[43mdemo\u001b[49m\u001b[38;5;241;43m.\u001b[39;49m\u001b[43mgeometry\u001b[49m\u001b[38;5;241;43m.\u001b[39;49m\u001b[43mscale\u001b[49m\u001b[43m(\u001b[49m\u001b[43morigin\u001b[49m\u001b[38;5;241;43m=\u001b[39;49m\u001b[43m(\u001b[49m\u001b[38;5;241;43m0\u001b[39;49m\u001b[43m,\u001b[49m\u001b[38;5;241;43m0\u001b[39;49m\u001b[43m)\u001b[49m\u001b[43m,\u001b[49m\u001b[43m \u001b[49m\u001b[43mxfact\u001b[49m\u001b[38;5;241;43m=\u001b[39;49m\u001b[38;5;241;43m1\u001b[39;49m\u001b[43m,\u001b[49m\u001b[43m \u001b[49m\u001b[43myfact\u001b[49m\u001b[38;5;241;43m=\u001b[39;49m\u001b[38;5;241;43m1\u001b[39;49m\u001b[43m,\u001b[49m\u001b[43m \u001b[49m\u001b[43minplace\u001b[49m\u001b[38;5;241;43m=\u001b[39;49m\u001b[38;5;28;43;01mTrue\u001b[39;49;00m\u001b[43m)\u001b[49m\n",
      "\u001b[1;31mTypeError\u001b[0m: scale() got an unexpected keyword argument 'inplace'"
     ]
    }
   ],
   "source": [
    "xd.annotations.demo.geometry.scale(origin=(0,0), xfact=1, yfact=1, inplace=True)"
   ]
  },
  {
   "cell_type": "markdown",
   "id": "8b725a93",
   "metadata": {},
   "source": [
    "### Visualize and edit annotations using napari\n",
    "\n",
    "To show all annoation labels set `annotation_labels=\"all\"`. We can also only show one specific annotation label or a list of labels, e.g. `xd.show(annotation_labels=\"demo2\")`.\n"
   ]
  },
  {
   "cell_type": "code",
   "execution_count": 12,
   "id": "b6dc4416-8fe4-4322-9b10-a66abd7fb320",
   "metadata": {},
   "outputs": [
    {
     "name": "stderr",
     "output_type": "stream",
     "text": [
      "WARNING: QWindowsWindow::setGeometry: Unable to set geometry 853x533+235-298 (frame: 875x589+224-343) on QWidgetWindow/\"_QtMainWindowClassWindow\" on \"\\\\.\\DISPLAY1\". Resulting geometry: 853x982+235-298 (frame: 875x1038+224-343) margins: 11, 45, 11, 11 minimum size: 385x491 MINMAXINFO maxSize=0,0 maxpos=0,0 mintrack=792,1038 maxtrack=0,0)\n"
     ]
    }
   ],
   "source": [
    "xd.show(annotation_labels=\"demo2\")"
   ]
  },
  {
   "cell_type": "code",
   "execution_count": 10,
   "id": "b994f06e",
   "metadata": {},
   "outputs": [
    {
     "name": "stdout",
     "output_type": "stream",
     "text": [
      "Reading cells...\n"
     ]
    }
   ],
   "source": [
    "xd.read_cells()"
   ]
  },
  {
   "cell_type": "code",
   "execution_count": 58,
   "id": "3ce22558",
   "metadata": {},
   "outputs": [
    {
     "name": "stderr",
     "output_type": "stream",
     "text": [
      "WARNING: QWindowsWindow::setGeometry: Unable to set geometry 853x533+102-541 (frame: 869x572+94-572) on QWidgetWindow/\"_QtMainWindowClassWindow\" on \"\\\\.\\DISPLAY2\". Resulting geometry: 567x653+99-555 (frame: 583x692+91-586) margins: 8, 31, 8, 8 minimum size: 385x492 MINMAXINFO maxSize=0,0 maxpos=0,0 mintrack=401,531 maxtrack=0,0)\n",
      "WARNING: QWindowsWindow::setGeometry: Unable to set geometry 864x1489+99-555 (frame: 886x1545+88-600) on QWidgetWindow/\"_QtMainWindowClassWindow\" on \"\\\\.\\DISPLAY1\". Resulting geometry: 1298x2236+102-541 (frame: 1320x2292+91-586) margins: 11, 45, 11, 11 minimum size: 385x492 MINMAXINFO maxSize=0,0 maxpos=0,0 mintrack=792,1040 maxtrack=0,0)\n"
     ]
    }
   ],
   "source": [
    "xd.show()"
   ]
  },
  {
   "cell_type": "code",
   "execution_count": 61,
   "id": "1797ecc0-8406-488a-bbc1-cf2607929176",
   "metadata": {},
   "outputs": [
    {
     "data": {
      "text/plain": [
       "array([[ 9828.86495405,  6183.45101857],\n",
       "       [ 9828.86495405, 10917.9511538 ],\n",
       "       [13318.43676687, 10917.9511538 ],\n",
       "       [13318.43676687,  6183.45101857]])"
      ]
     },
     "execution_count": 61,
     "metadata": {},
     "output_type": "execute_result"
    }
   ],
   "source": [
    "xd.viewer.layers['Shapes'].data[0]"
   ]
  },
  {
   "cell_type": "code",
   "execution_count": 63,
   "id": "3ef43522-89b1-43ff-8411-44074c8878e3",
   "metadata": {},
   "outputs": [
    {
     "data": {
      "text/plain": [
       "array([[2088.63380274, 1313.98334145],\n",
       "       [2088.63380274, 2320.06462018],\n",
       "       [2830.16781296, 2320.06462018],\n",
       "       [2830.16781296, 1313.98334145]])"
      ]
     },
     "execution_count": 63,
     "metadata": {},
     "output_type": "execute_result"
    }
   ],
   "source": [
    "xd.viewer.layers['Shapes'].data[0] * xd.metadata[\"pixel_size\"]"
   ]
  },
  {
   "cell_type": "code",
   "execution_count": 65,
   "id": "62109017-7386-4277-9e1e-3468a3775f50",
   "metadata": {},
   "outputs": [
    {
     "data": {
      "text/plain": [
       "array([[ 847.25991211,  326.19136505],\n",
       "       [ 826.34199524,  328.03182983],\n",
       "       [ 848.76691895,  331.74318695],\n",
       "       ...,\n",
       "       [7470.15942383, 5119.13205566],\n",
       "       [7477.73720703, 5128.71281738],\n",
       "       [7489.3765625 , 5123.19777832]])"
      ]
     },
     "execution_count": 65,
     "metadata": {},
     "output_type": "execute_result"
    }
   ],
   "source": [
    "xd.cells.matrix.obsm['spatial']"
   ]
  },
  {
   "cell_type": "code",
   "execution_count": 119,
   "id": "0488ca34-81e4-4ef1-bea5-478d25b82441",
   "metadata": {},
   "outputs": [
    {
     "name": "stderr",
     "output_type": "stream",
     "text": [
      "WARNING: QWindowsWindow::setGeometry: Unable to set geometry 853x533+235-298 (frame: 875x589+224-343) on QWidgetWindow/\"_QtMainWindowClassWindow\" on \"\\\\.\\DISPLAY1\". Resulting geometry: 853x982+235-298 (frame: 875x1038+224-343) margins: 11, 45, 11, 11 minimum size: 385x491 MINMAXINFO maxSize=0,0 maxpos=0,0 mintrack=792,1038 maxtrack=0,0)\n"
     ]
    }
   ],
   "source": [
    "xd.show()"
   ]
  },
  {
   "cell_type": "code",
   "execution_count": 120,
   "id": "b4fea20e",
   "metadata": {},
   "outputs": [],
   "source": [
    "xd_cropped = xd.crop(shape_layer=\"Shapes\")"
   ]
  },
  {
   "cell_type": "code",
   "execution_count": 121,
   "id": "871494ea",
   "metadata": {},
   "outputs": [
    {
     "data": {
      "text/plain": [
       "\u001b[1m\u001b[31mXeniumData\u001b[0m\n",
       "\u001b[1mSlide ID:\u001b[0m\tslide_id\n",
       "\u001b[1mSample ID:\u001b[0m\tsample_id\n",
       "\u001b[1mData path:\u001b[0m\t..\\demo_dataset\n",
       "\u001b[1mData folder:\u001b[0m\toutput-XETG00000__slide_id__sample_id\n",
       "\u001b[1mMetadata file:\u001b[0m\texperiment_modified.xenium\n",
       "    ➤ \u001b[34m\u001b[1mimages\u001b[0m\n",
       "       \u001b[1mnuclei:\u001b[0m\t(3680, 4130)\n",
       "       \u001b[1mCD20:\u001b[0m\t(3680, 4130)\n",
       "       \u001b[1mHER2:\u001b[0m\t(3680, 4130)\n",
       "       \u001b[1mHE:\u001b[0m\t(3680, 4130, 3)\n",
       "    ➤\u001b[32m\u001b[1m cells\u001b[0m\n",
       "       \u001b[1mmatrix\u001b[0m\n",
       "           AnnData object with n_obs × n_vars = 3949 × 313\n",
       "           obs: 'transcript_counts', 'control_probe_counts', 'control_codeword_counts', 'total_counts', 'cell_area', 'nucleus_area'\n",
       "           var: 'gene_ids', 'feature_types', 'genome'\n",
       "           obsm: 'spatial'\n",
       "       \u001b[1mboundaries\u001b[0m\n",
       "           BoundariesData object with 2 entries:\n",
       "               \u001b[1mcellular\u001b[0m\n",
       "               \u001b[1mnuclear\u001b[0m\n",
       "    ➤\u001b[95m\u001b[1m transcripts\u001b[0m\n",
       "       DataFrame with shape 829113 x 8"
      ]
     },
     "execution_count": 121,
     "metadata": {},
     "output_type": "execute_result"
    }
   ],
   "source": [
    "xd_cropped"
   ]
  },
  {
   "cell_type": "code",
   "execution_count": 122,
   "id": "38d11332-8fce-4642-b208-1f4db8e18772",
   "metadata": {},
   "outputs": [
    {
     "data": {
      "text/plain": [
       "[dask.array<getitem, shape=(3680, 4130, 3), dtype=uint8, chunksize=(1024, 1024, 3), chunktype=numpy.ndarray>,\n",
       " dask.array<getitem, shape=(1840, 2065, 3), dtype=uint8, chunksize=(1024, 1024, 3), chunktype=numpy.ndarray>,\n",
       " dask.array<getitem, shape=(920, 1032, 3), dtype=uint8, chunksize=(574, 697, 3), chunktype=numpy.ndarray>,\n",
       " dask.array<getitem, shape=(460, 516, 3), dtype=uint8, chunksize=(460, 348, 3), chunktype=numpy.ndarray>,\n",
       " dask.array<getitem, shape=(230, 258, 3), dtype=uint8, chunksize=(230, 258, 3), chunktype=numpy.ndarray>,\n",
       " dask.array<getitem, shape=(115, 129, 3), dtype=uint8, chunksize=(115, 129, 3), chunktype=numpy.ndarray>,\n",
       " dask.array<getitem, shape=(57, 64, 3), dtype=uint8, chunksize=(57, 64, 3), chunktype=numpy.ndarray>,\n",
       " dask.array<getitem, shape=(29, 32, 3), dtype=uint8, chunksize=(29, 32, 3), chunktype=numpy.ndarray>]"
      ]
     },
     "execution_count": 122,
     "metadata": {},
     "output_type": "execute_result"
    }
   ],
   "source": [
    "xd_cropped.images.HE"
   ]
  },
  {
   "cell_type": "code",
   "execution_count": 123,
   "id": "bb3fba13-9b45-41bf-b6ca-09a01131a5a3",
   "metadata": {},
   "outputs": [
    {
     "name": "stderr",
     "output_type": "stream",
     "text": [
      "WARNING: QWindowsWindow::setGeometry: Unable to set geometry 853x533+235-298 (frame: 875x589+224-343) on QWidgetWindow/\"_QtMainWindowClassWindow\" on \"\\\\.\\DISPLAY1\". Resulting geometry: 853x982+235-298 (frame: 875x1038+224-343) margins: 11, 45, 11, 11 minimum size: 385x491 MINMAXINFO maxSize=0,0 maxpos=0,0 mintrack=792,1038 maxtrack=0,0)\n"
     ]
    }
   ],
   "source": [
    "xd_cropped.show()"
   ]
  },
  {
   "cell_type": "code",
   "execution_count": 83,
   "id": "d83dea17-876b-43f2-9463-64f95d17d6a5",
   "metadata": {},
   "outputs": [
    {
     "data": {
      "text/plain": [
       "True"
      ]
     },
     "execution_count": 83,
     "metadata": {},
     "output_type": "execute_result"
    }
   ],
   "source": [
    "xd_cropped.images.metadata['HE']['OME']['Image']['Pixels']['PhysicalSizeX'] == xd_cropped.images.metadata['HE']['OME']['Image']['Pixels']['PhysicalSizeY']"
   ]
  },
  {
   "cell_type": "code",
   "execution_count": null,
   "id": "540555da-a319-4fc0-87e8-e566d4e2fcf6",
   "metadata": {},
   "outputs": [],
   "source": [
    "xd"
   ]
  },
  {
   "cell_type": "code",
   "execution_count": 69,
   "id": "cec49281-2be4-4663-95f2-f6344e67f512",
   "metadata": {},
   "outputs": [
    {
     "data": {
      "text/plain": [
       "{'run_name': 'PREVIEW: Human Breast Cancer',\n",
       " 'run_start_time': '',\n",
       " 'region_name': 'Replicate 1',\n",
       " 'preservation_method': 'ffpe',\n",
       " 'num_cells': 167780,\n",
       " 'transcripts_per_cell': 166.0,\n",
       " 'transcripts_per_100um': 105.9945809453222,\n",
       " 'cassette_name': 'human_breast_cancer_SIM1',\n",
       " 'slide_id': '0001879',\n",
       " 'panel_design_id': 'PD_260',\n",
       " 'panel_name': 'Breast Cancer Tumor Microenvironment',\n",
       " 'panel_organism': 'Human',\n",
       " 'panel_tissue_type': 'Breast',\n",
       " 'panel_num_targets_predesigned': 280,\n",
       " 'panel_num_targets_custom': 33,\n",
       " 'pixel_size': 0.2125,\n",
       " 'instrument_sn': 'Xenium prototype instrument',\n",
       " 'instrument_sw_version': 'Development',\n",
       " 'analysis_sw_version': 'Xenium-1.0.1',\n",
       " 'experiment_uuid': '',\n",
       " 'cassette_uuid': '',\n",
       " 'roi_uuid': '',\n",
       " 'z_step_size': 3.0,\n",
       " 'well_uuid': '',\n",
       " 'images': {'morphology_filepath': 'morphology.ome.tif',\n",
       "  'morphology_mip_filepath': 'morphology_mip.ome.tif',\n",
       "  'morphology_focus_filepath': 'morphology_focus.ome.tif',\n",
       "  'registered_CD20_filepath': '..\\\\registered_images\\\\slide_id__sample_id__CD20__registered.ome.tif',\n",
       "  'registered_HER2_filepath': '..\\\\registered_images\\\\slide_id__sample_id__HER2__registered.ome.tif',\n",
       "  'registered_HE_filepath': '..\\\\registered_images\\\\slide_id__sample_id__HE__registered.ome.tif'},\n",
       " 'xenium_explorer_files': {'transcripts_zarr_filepath': 'transcripts.zarr.zip',\n",
       "  'cells_zarr_filepath': 'cells.zarr.zip',\n",
       "  'cell_features_zarr_filepath': 'cell_feature_matrix.zarr.zip',\n",
       "  'analysis_zarr_filepath': 'analysis.zarr.zip',\n",
       "  'analysis_summary_filepath': 'analysis_summary.html'},\n",
       " 'cropping_xlim': (1313.9833414454188, 2320.0646201832715),\n",
       " 'cropping_ylim': (2088.6338027353004, 2830.1678129604106)}"
      ]
     },
     "execution_count": 69,
     "metadata": {},
     "output_type": "execute_result"
    }
   ],
   "source": [
    "xd_cropped.metadata"
   ]
  },
  {
   "cell_type": "code",
   "execution_count": null,
   "id": "d94bfb51-5f51-471f-944a-7c1e1b057a4f",
   "metadata": {},
   "outputs": [],
   "source": []
  },
  {
   "cell_type": "code",
   "execution_count": 57,
   "id": "b8c999ca",
   "metadata": {},
   "outputs": [
    {
     "name": "stderr",
     "output_type": "stream",
     "text": [
      "WARNING: QWindowsWindow::setGeometry: Unable to set geometry 853x533+191-543 (frame: 869x572+183-574) on QWidgetWindow/\"_QtMainWindowClassWindow\" on \"\\\\.\\DISPLAY2\". Resulting geometry: 567x653+188-557 (frame: 583x692+180-588) margins: 8, 31, 8, 8 minimum size: 385x492 MINMAXINFO maxSize=0,0 maxpos=0,0 mintrack=401,531 maxtrack=0,0)\n",
      "WARNING: QWindowsWindow::setGeometry: Unable to set geometry 864x1489+188-557 (frame: 886x1545+177-602) on QWidgetWindow/\"_QtMainWindowClassWindow\" on \"\\\\.\\DISPLAY1\". Resulting geometry: 1298x2236+191-543 (frame: 1320x2292+180-588) margins: 11, 45, 11, 11 minimum size: 385x492 MINMAXINFO maxSize=0,0 maxpos=0,0 mintrack=792,1040 maxtrack=0,0)\n"
     ]
    }
   ],
   "source": [
    "xd_cropped.show()"
   ]
  },
  {
   "cell_type": "code",
   "execution_count": 48,
   "id": "aa9a3f6e-ad56-438c-a40d-123efada36ed",
   "metadata": {},
   "outputs": [
    {
     "data": {
      "text/plain": [
       "\u001b[1m\u001b[31mXeniumData\u001b[0m\n",
       "\u001b[1mSlide ID:\u001b[0m\tslide_id\n",
       "\u001b[1mSample ID:\u001b[0m\tsample_id\n",
       "\u001b[1mData path:\u001b[0m\t..\\demo_dataset\n",
       "\u001b[1mData folder:\u001b[0m\toutput-XETG00000__slide_id__sample_id\n",
       "\u001b[1mMetadata file:\u001b[0m\texperiment_modified.xenium\n",
       "    ➤ \u001b[34m\u001b[1mimages\u001b[0m\n",
       "       \u001b[1mHE:\u001b[0m\t(4686, 5794, 3)\n",
       "    ➤\u001b[32m\u001b[1m cells\u001b[0m\n",
       "       \u001b[1mmatrix\u001b[0m\n",
       "           AnnData object with n_obs × n_vars = 0 × 313\n",
       "           obs: 'transcript_counts', 'control_probe_counts', 'control_codeword_counts', 'total_counts', 'cell_area', 'nucleus_area'\n",
       "           var: 'gene_ids', 'feature_types', 'genome'\n",
       "           obsm: 'spatial'\n",
       "       \u001b[1mboundaries\u001b[0m\n",
       "           BoundariesData object with 2 entries:\n",
       "               \u001b[1mcellular\u001b[0m\n",
       "               \u001b[1mnuclear\u001b[0m"
      ]
     },
     "execution_count": 48,
     "metadata": {},
     "output_type": "execute_result"
    }
   ],
   "source": [
    "xd_cropped"
   ]
  },
  {
   "cell_type": "code",
   "execution_count": 53,
   "id": "ed113f9d-065a-4939-aa78-7d68d3df5e5e",
   "metadata": {},
   "outputs": [
    {
     "data": {
      "text/plain": [
       "[array([[1598.09534724, 1653.58033604],\n",
       "        [1598.09534724, 3640.90446785],\n",
       "        [2878.06682197, 3640.90446785],\n",
       "        [2878.06682197, 1653.58033604]])]"
      ]
     },
     "execution_count": 53,
     "metadata": {},
     "output_type": "execute_result"
    }
   ],
   "source": [
    "xd_cropped.viewer.layers['Shapes'].data"
   ]
  },
  {
   "cell_type": "code",
   "execution_count": 21,
   "id": "bbba0752",
   "metadata": {},
   "outputs": [
    {
     "data": {
      "text/plain": [
       "{'run_name': 'PREVIEW: Human Breast Cancer',\n",
       " 'run_start_time': '',\n",
       " 'region_name': 'Replicate 1',\n",
       " 'preservation_method': 'ffpe',\n",
       " 'num_cells': 167780,\n",
       " 'transcripts_per_cell': 166.0,\n",
       " 'transcripts_per_100um': 105.9945809453222,\n",
       " 'cassette_name': 'human_breast_cancer_SIM1',\n",
       " 'slide_id': '0001879',\n",
       " 'panel_design_id': 'PD_260',\n",
       " 'panel_name': 'Breast Cancer Tumor Microenvironment',\n",
       " 'panel_organism': 'Human',\n",
       " 'panel_tissue_type': 'Breast',\n",
       " 'panel_num_targets_predesigned': 280,\n",
       " 'panel_num_targets_custom': 33,\n",
       " 'pixel_size': 0.2125,\n",
       " 'instrument_sn': 'Xenium prototype instrument',\n",
       " 'instrument_sw_version': 'Development',\n",
       " 'analysis_sw_version': 'Xenium-1.0.1',\n",
       " 'experiment_uuid': '',\n",
       " 'cassette_uuid': '',\n",
       " 'roi_uuid': '',\n",
       " 'z_step_size': 3.0,\n",
       " 'well_uuid': '',\n",
       " 'images': {'morphology_filepath': 'morphology.ome.tif',\n",
       "  'morphology_mip_filepath': 'morphology_mip.ome.tif',\n",
       "  'morphology_focus_filepath': 'morphology_focus.ome.tif',\n",
       "  'registered_CD20_filepath': '..\\\\registered_images\\\\slide_id__sample_id__CD20__registered.ome.tif',\n",
       "  'registered_HER2_filepath': '..\\\\registered_images\\\\slide_id__sample_id__HER2__registered.ome.tif',\n",
       "  'registered_HE_filepath': '..\\\\registered_images\\\\slide_id__sample_id__HE__registered.ome.tif'},\n",
       " 'xenium_explorer_files': {'transcripts_zarr_filepath': 'transcripts.zarr.zip',\n",
       "  'cells_zarr_filepath': 'cells.zarr.zip',\n",
       "  'cell_features_zarr_filepath': 'cell_feature_matrix.zarr.zip',\n",
       "  'analysis_zarr_filepath': 'analysis.zarr.zip',\n",
       "  'analysis_summary_filepath': 'analysis_summary.html'},\n",
       " 'cropping_xlim': (11552.849871762177, 14541.715294152735),\n",
       " 'cropping_ylim': (12625.212005897043, 16983.974080216605)}"
      ]
     },
     "execution_count": 21,
     "metadata": {},
     "output_type": "execute_result"
    }
   ],
   "source": [
    "xd_cropped.metadata"
   ]
  },
  {
   "cell_type": "code",
   "execution_count": 22,
   "id": "34ee3900",
   "metadata": {},
   "outputs": [
    {
     "data": {
      "text/plain": [
       "{'demo': {'n_annotations': 4,\n",
       "  'classes': ['Positive', 'Negative'],\n",
       "  'analyzed': ''},\n",
       " 'demo2': {'n_annotations': 5,\n",
       "  'classes': ['Negative', 'Positive', 'Other'],\n",
       "  'analyzed': ''}}"
      ]
     },
     "execution_count": 22,
     "metadata": {},
     "output_type": "execute_result"
    }
   ],
   "source": [
    "xd.annotations.metadata"
   ]
  },
  {
   "cell_type": "code",
   "execution_count": 23,
   "id": "2071a0bf",
   "metadata": {},
   "outputs": [
    {
     "data": {
      "text/plain": [
       "\u001b[1mmatrix\u001b[0m\n",
       "    AnnData object with n_obs × n_vars = 167780 × 313\n",
       "    obs: 'transcript_counts', 'control_probe_counts', 'control_codeword_counts', 'total_counts', 'cell_area', 'nucleus_area'\n",
       "    var: 'gene_ids', 'feature_types', 'genome'\n",
       "    obsm: 'spatial'\n",
       "\u001b[1mboundaries\u001b[0m\n",
       "    BoundariesData object with 2 entries:\n",
       "        \u001b[1mcellular\u001b[0m\n",
       "        \u001b[1mnuclear\u001b[0m"
      ]
     },
     "execution_count": 23,
     "metadata": {},
     "output_type": "execute_result"
    }
   ],
   "source": [
    "xd.cells"
   ]
  },
  {
   "cell_type": "code",
   "execution_count": 24,
   "id": "904cee4b",
   "metadata": {},
   "outputs": [
    {
     "data": {
      "text/plain": [
       "{'HE': {'file': '..\\\\registered_images\\\\slide_id__sample_id__HE__registered.ome.tif',\n",
       "  'shape': (25778, 35416, 3),\n",
       "  'subresolutions': 7,\n",
       "  'axes': 'YXS',\n",
       "  'OME': {'xmlns': 'http://www.openmicroscopy.org/Schemas/OME/2016-06',\n",
       "   'xmlns:xsi': 'http://www.w3.org/2001/XMLSchema-instance',\n",
       "   'xsi:schemaLocation': 'http://www.openmicroscopy.org/Schemas/OME/2016-06 http://www.openmicroscopy.org/Schemas/OME/2016-06/ome.xsd',\n",
       "   'UUID': 'urn:uuid:5b74ab29-9b2b-11ee-a7a5-047bcbbe29a1',\n",
       "   'Creator': 'tifffile.py 2023.9.26',\n",
       "   'Image': {'ID': 'Image:0',\n",
       "    'Name': 'Image0',\n",
       "    'Pixels': {'ID': 'Pixels:0',\n",
       "     'DimensionOrder': 'XYCZT',\n",
       "     'Type': 'uint8',\n",
       "     'SizeX': '35416',\n",
       "     'SizeY': '25778',\n",
       "     'SizeC': '3',\n",
       "     'SizeZ': '1',\n",
       "     'SizeT': '1',\n",
       "     'Interleaved': 'true',\n",
       "     'SignificantBits': '8',\n",
       "     'PhysicalSizeX': '0.2125',\n",
       "     'PhysicalSizeXUnit': 'µm',\n",
       "     'PhysicalSizeY': '0.2125',\n",
       "     'PhysicalSizeYUnit': 'µm',\n",
       "     'Channel': {'ID': 'Channel:0:0',\n",
       "      'SamplesPerPixel': '3',\n",
       "      'LightPath': None},\n",
       "     'TiffData': {'IFD': '0', 'PlaneCount': '1'}}}},\n",
       "  'rgb': True,\n",
       "  'contrast_limits': (0, 255)}}"
      ]
     },
     "execution_count": 24,
     "metadata": {},
     "output_type": "execute_result"
    }
   ],
   "source": [
    "xd.images.metadata"
   ]
  },
  {
   "cell_type": "code",
   "execution_count": 27,
   "id": "4ae23e8e",
   "metadata": {},
   "outputs": [
    {
     "data": {
      "text/plain": [
       "'0.2125'"
      ]
     },
     "execution_count": 27,
     "metadata": {},
     "output_type": "execute_result"
    }
   ],
   "source": [
    "xd.images.metadata['HE']['OME']['Image']['Pixels']['PhysicalSizeX']"
   ]
  },
  {
   "cell_type": "code",
   "execution_count": 25,
   "id": "f5173b52",
   "metadata": {},
   "outputs": [
    {
     "data": {
      "text/plain": [
       "0.2125"
      ]
     },
     "execution_count": 25,
     "metadata": {},
     "output_type": "execute_result"
    }
   ],
   "source": [
    "xd.cells.pixel_size"
   ]
  },
  {
   "cell_type": "code",
   "execution_count": null,
   "id": "f4ec8a63",
   "metadata": {},
   "outputs": [],
   "source": []
  },
  {
   "cell_type": "code",
   "execution_count": null,
   "id": "28902f7b",
   "metadata": {},
   "outputs": [],
   "source": []
  },
  {
   "cell_type": "markdown",
   "id": "962d096a",
   "metadata": {},
   "source": [
    "#### Annotation layers\n",
    "\n",
    "The annotations are added as shapes layers to the layer list. The layer name always starts with a \"*\" and has following syntax: `\"* Class (Label)\"`:\n",
    "\n",
    "<left><img src=\"./demo_annotations/napari_layerlist_annotations.jpg\" width=\"300\"/></left>\n",
    "\n",
    "- **Label**: A label for one collection of annotations. Could e.g. tell us who did the annotations or what is the focus of this collection of annotations.\n",
    "- **Class**: Specifies the class of one specific annotation. Could be e.g. the name of cells, the morphological structure or the disease state annotated.\n",
    "\n",
    "#### Add custom annotations using the Annotation Widget\n",
    "\n",
    "<left><img src=\"./demo_annotations/napari_annotation_widget.jpg\" width=\"200\"/></left>\n",
    "\n",
    "By clicking the `\"Add annotation layer\"` button a new layer with the above mentioned syntax is added. The layer controls on the top left can be then used to add new shapes as annotations:\n",
    "\n",
    "<left><img src=\"./demo_annotations/napari_layerconrols_annotations.jpg\" width=\"300\"/></left>\n",
    "\n",
    "An example annotation is shown here:\n",
    "\n",
    "<left><img src=\"./demo_annotations/napari_annotation_example.jpg\" width=\"200\"/></left>\n",
    "\n",
    "The annotations can then be stored in the `XeniumData` object using the `store_annotations` function.\n"
   ]
  },
  {
   "cell_type": "code",
   "execution_count": 41,
   "id": "d00938ff",
   "metadata": {},
   "outputs": [
    {
     "name": "stdout",
     "output_type": "stream",
     "text": [
      "'XeniumData' object has no attribute 'viewer'. Use `.show()` first to open a napari viewer.\n"
     ]
    },
    {
     "ename": "UnboundLocalError",
     "evalue": "local variable 'viewer' referenced before assignment",
     "output_type": "error",
     "traceback": [
      "\u001b[1;31m---------------------------------------------------------------------------\u001b[0m",
      "\u001b[1;31mUnboundLocalError\u001b[0m                         Traceback (most recent call last)",
      "Cell \u001b[1;32mIn[41], line 1\u001b[0m\n\u001b[1;32m----> 1\u001b[0m \u001b[43mxd\u001b[49m\u001b[38;5;241;43m.\u001b[39;49m\u001b[43mstore_annotations\u001b[49m\u001b[43m(\u001b[49m\u001b[43m)\u001b[49m\n",
      "File \u001b[1;32m~\\Github\\InSituPy\\insitupy\\_core\\xeniumdata.py:1403\u001b[0m, in \u001b[0;36mXeniumData.store_annotations\u001b[1;34m(self, name_pattern, uid_col)\u001b[0m\n\u001b[0;32m   1400\u001b[0m     \u001b[38;5;28mprint\u001b[39m(\u001b[38;5;124mf\u001b[39m\u001b[38;5;124m\"\u001b[39m\u001b[38;5;132;01m{\u001b[39;00m\u001b[38;5;28mstr\u001b[39m(e)\u001b[38;5;132;01m}\u001b[39;00m\u001b[38;5;124m. Use `.show()` first to open a napari viewer.\u001b[39m\u001b[38;5;124m\"\u001b[39m)\n\u001b[0;32m   1402\u001b[0m \u001b[38;5;66;03m# iterate through layers and save them as annotation if they meet requirements\u001b[39;00m\n\u001b[1;32m-> 1403\u001b[0m layers \u001b[38;5;241m=\u001b[39m \u001b[43mviewer\u001b[49m\u001b[38;5;241m.\u001b[39mlayers\n\u001b[0;32m   1404\u001b[0m collection_dict \u001b[38;5;241m=\u001b[39m {}\n\u001b[0;32m   1405\u001b[0m \u001b[38;5;28;01mfor\u001b[39;00m layer \u001b[38;5;129;01min\u001b[39;00m layers:\n",
      "\u001b[1;31mUnboundLocalError\u001b[0m: local variable 'viewer' referenced before assignment"
     ]
    }
   ],
   "source": [
    "xd.store_annotations()"
   ]
  },
  {
   "cell_type": "code",
   "execution_count": 42,
   "id": "a4d4f5f2",
   "metadata": {},
   "outputs": [
    {
     "data": {
      "text/plain": [
       "\u001b[1m\u001b[31mXeniumData\u001b[0m\n",
       "\u001b[1mSlide ID:\u001b[0m\tslide_id\n",
       "\u001b[1mSample ID:\u001b[0m\tsample_id\n",
       "\u001b[1mData path:\u001b[0m\t..\\demo_dataset\n",
       "\u001b[1mData folder:\u001b[0m\toutput-XETG00000__slide_id__sample_id\n",
       "\u001b[1mMetadata file:\u001b[0m\texperiment_modified.xenium\n",
       "    ➤ \u001b[34m\u001b[1mimages\u001b[0m\n",
       "       \u001b[1mHE:\u001b[0m\t(25778, 35416, 3)\n",
       "    ➤\u001b[32m\u001b[1m cells\u001b[0m\n",
       "       \u001b[1mmatrix\u001b[0m\n",
       "           AnnData object with n_obs × n_vars = 167780 × 313\n",
       "           obs: 'transcript_counts', 'control_probe_counts', 'control_codeword_counts', 'total_counts', 'cell_area', 'nucleus_area'\n",
       "           var: 'gene_ids', 'feature_types', 'genome'\n",
       "           obsm: 'spatial'\n",
       "       \u001b[1mboundaries\u001b[0m\n",
       "           BoundariesData object with 2 entries:\n",
       "               \u001b[1mcellular\u001b[0m\n",
       "               \u001b[1mnuclear\u001b[0m\n",
       "    ➤ \u001b[36m\u001b[1mannotations\u001b[0m\n",
       "       \u001b[1mdemo:\u001b[0m\t4 annotations, 2 classes ('Positive', 'Negative') \n",
       "       \u001b[1mdemo2:\u001b[0m\t5 annotations, 3 classes ('Negative', 'Positive', 'Other') "
      ]
     },
     "execution_count": 42,
     "metadata": {},
     "output_type": "execute_result"
    }
   ],
   "source": [
    "xd"
   ]
  },
  {
   "cell_type": "markdown",
   "id": "7703aab6",
   "metadata": {},
   "source": [
    "### Assign annotations to observations\n",
    "\n",
    "To use the annotations in analyses (e.g. to select only observations within a certain annotation or compare gene expression between different annotations) one can use the `assign_annotations` function. It adds columns containing the annotation class to `xd.matrix.obs`. The column has the syntax `annotation-{Label}` and if an observation is not part of any annotation within this label, it contains `NaN`. "
   ]
  },
  {
   "cell_type": "code",
   "execution_count": 43,
   "id": "bc8df06a",
   "metadata": {},
   "outputs": [
    {
     "name": "stdout",
     "output_type": "stream",
     "text": [
      "Assigning label 'demo'...\n",
      "Assigning label 'demo2'...\n"
     ]
    }
   ],
   "source": [
    "xd.assign_annotations()"
   ]
  },
  {
   "cell_type": "markdown",
   "id": "10e3c780",
   "metadata": {},
   "source": [
    "After assigning the annotations, the labels analyzed here are marked with a tick (✔):"
   ]
  },
  {
   "cell_type": "code",
   "execution_count": null,
   "id": "8dc56907-7b3e-4be0-9467-6f1d60782573",
   "metadata": {},
   "outputs": [],
   "source": []
  },
  {
   "cell_type": "code",
   "execution_count": null,
   "id": "b08cbaaf-b2de-4e04-b0e4-69c9a76dd860",
   "metadata": {},
   "outputs": [],
   "source": []
  },
  {
   "cell_type": "code",
   "execution_count": 45,
   "id": "3b335b42-7471-4c6c-81ef-7e849208093c",
   "metadata": {},
   "outputs": [],
   "source": [
    "import numpy as np"
   ]
  },
  {
   "cell_type": "code",
   "execution_count": 59,
   "id": "e64a4257-8708-45d1-97da-850ba5edec9c",
   "metadata": {},
   "outputs": [
    {
     "data": {
      "text/plain": [
       "array(['Positive', 'Positive', 'Positive', ..., 'Negative', 'Negative',\n",
       "       'Negative'], dtype=object)"
      ]
     },
     "execution_count": 59,
     "metadata": {},
     "output_type": "execute_result"
    }
   ],
   "source": [
    "xd.cells.matrix.obs['annotation-demo'][xd.cells.matrix.obs['annotation-demo'].notnull()].values"
   ]
  },
  {
   "cell_type": "code",
   "execution_count": 66,
   "id": "ff4db7a1-2366-4c69-b85a-f28b49f15a5a",
   "metadata": {},
   "outputs": [],
   "source": [
    "import pandas as pd"
   ]
  },
  {
   "cell_type": "code",
   "execution_count": 67,
   "id": "d31aed63-0727-4578-a4a7-d56e4a22b27c",
   "metadata": {},
   "outputs": [
    {
     "data": {
      "text/plain": [
       "array([False, False, False, ..., False, False, False])"
      ]
     },
     "execution_count": 67,
     "metadata": {},
     "output_type": "execute_result"
    }
   ],
   "source": [
    "pd.notnull(xd.cells.matrix.obs['annotation-demo'].values)"
   ]
  },
  {
   "cell_type": "code",
   "execution_count": 48,
   "id": "7b7ef00f-db7e-4e29-ae58-97da1ee21ad0",
   "metadata": {},
   "outputs": [
    {
     "ename": "TypeError",
     "evalue": "ufunc 'isnan' not supported for the input types, and the inputs could not be safely coerced to any supported types according to the casting rule ''safe''",
     "output_type": "error",
     "traceback": [
      "\u001b[1;31m---------------------------------------------------------------------------\u001b[0m",
      "\u001b[1;31mTypeError\u001b[0m                                 Traceback (most recent call last)",
      "Cell \u001b[1;32mIn[48], line 1\u001b[0m\n\u001b[1;32m----> 1\u001b[0m \u001b[38;5;241m~\u001b[39m\u001b[43mnp\u001b[49m\u001b[38;5;241;43m.\u001b[39;49m\u001b[43misnan\u001b[49m\u001b[43m(\u001b[49m\u001b[43mxd\u001b[49m\u001b[38;5;241;43m.\u001b[39;49m\u001b[43mcells\u001b[49m\u001b[38;5;241;43m.\u001b[39;49m\u001b[43mmatrix\u001b[49m\u001b[38;5;241;43m.\u001b[39;49m\u001b[43mobs\u001b[49m\u001b[43m[\u001b[49m\u001b[38;5;124;43m'\u001b[39;49m\u001b[38;5;124;43mannotation-demo\u001b[39;49m\u001b[38;5;124;43m'\u001b[39;49m\u001b[43m]\u001b[49m\u001b[38;5;241;43m.\u001b[39;49m\u001b[43mvalues\u001b[49m\u001b[43m)\u001b[49m\n",
      "\u001b[1;31mTypeError\u001b[0m: ufunc 'isnan' not supported for the input types, and the inputs could not be safely coerced to any supported types according to the casting rule ''safe''"
     ]
    }
   ],
   "source": [
    "~np.isnan(xd.cells.matrix.obs['annotation-demo'].values)"
   ]
  },
  {
   "cell_type": "code",
   "execution_count": 47,
   "id": "f87accc4-03b4-4714-8f22-b5c6af32de34",
   "metadata": {},
   "outputs": [
    {
     "ename": "TypeError",
     "evalue": "ufunc 'isnan' not supported for the input types, and the inputs could not be safely coerced to any supported types according to the casting rule ''safe''",
     "output_type": "error",
     "traceback": [
      "\u001b[1;31m---------------------------------------------------------------------------\u001b[0m",
      "\u001b[1;31mTypeError\u001b[0m                                 Traceback (most recent call last)",
      "Cell \u001b[1;32mIn[47], line 1\u001b[0m\n\u001b[1;32m----> 1\u001b[0m xd\u001b[38;5;241m.\u001b[39mcells\u001b[38;5;241m.\u001b[39mmatrix\u001b[38;5;241m.\u001b[39mobs[\u001b[38;5;124m'\u001b[39m\u001b[38;5;124mannotation-demo\u001b[39m\u001b[38;5;124m'\u001b[39m][\u001b[38;5;241m~\u001b[39m\u001b[43mnp\u001b[49m\u001b[38;5;241;43m.\u001b[39;49m\u001b[43misnan\u001b[49m\u001b[43m(\u001b[49m\u001b[43mxd\u001b[49m\u001b[38;5;241;43m.\u001b[39;49m\u001b[43mcells\u001b[49m\u001b[38;5;241;43m.\u001b[39;49m\u001b[43mmatrix\u001b[49m\u001b[38;5;241;43m.\u001b[39;49m\u001b[43mobs\u001b[49m\u001b[43m[\u001b[49m\u001b[38;5;124;43m'\u001b[39;49m\u001b[38;5;124;43mannotation-demo\u001b[39;49m\u001b[38;5;124;43m'\u001b[39;49m\u001b[43m]\u001b[49m\u001b[38;5;241;43m.\u001b[39;49m\u001b[43mvalues\u001b[49m\u001b[43m)\u001b[49m]\n",
      "\u001b[1;31mTypeError\u001b[0m: ufunc 'isnan' not supported for the input types, and the inputs could not be safely coerced to any supported types according to the casting rule ''safe''"
     ]
    }
   ],
   "source": [
    "xd.cells.matrix.obs['annotation-demo'][~np.isnan(xd.cells.matrix.obs['annotation-demo'].values)]"
   ]
  },
  {
   "cell_type": "code",
   "execution_count": 32,
   "id": "23bd9476-01dd-4ffd-9754-c7a7567800a5",
   "metadata": {},
   "outputs": [
    {
     "data": {
      "text/plain": [
       "0"
      ]
     },
     "execution_count": 32,
     "metadata": {},
     "output_type": "execute_result"
    }
   ],
   "source": [
    "np.sum(~np.isnan(xd.cells.matrix.obs['annotation-demo']))"
   ]
  },
  {
   "cell_type": "code",
   "execution_count": 68,
   "id": "711f1a8b",
   "metadata": {},
   "outputs": [],
   "source": [
    "xd.show()"
   ]
  },
  {
   "cell_type": "code",
   "execution_count": 61,
   "id": "72a3dcc2-ef08-40fa-8fb2-a24144eb525a",
   "metadata": {},
   "outputs": [],
   "source": [
    "xd.show()"
   ]
  },
  {
   "cell_type": "markdown",
   "id": "452f1b66",
   "metadata": {},
   "source": [
    "Following cells show examples how to explore the assigned annotations:"
   ]
  },
  {
   "cell_type": "code",
   "execution_count": 44,
   "id": "ed96f627",
   "metadata": {},
   "outputs": [
    {
     "data": {
      "text/plain": [
       "9431"
      ]
     },
     "execution_count": 44,
     "metadata": {},
     "output_type": "execute_result"
    }
   ],
   "source": [
    "# print number of cells within one annotation\n",
    "xd.cells.matrix.obs[\"annotation-demo2\"].notna().sum()"
   ]
  },
  {
   "cell_type": "code",
   "execution_count": 17,
   "id": "6db0d5c9",
   "metadata": {},
   "outputs": [
    {
     "data": {
      "text/html": [
       "<div>\n",
       "<style scoped>\n",
       "    .dataframe tbody tr th:only-of-type {\n",
       "        vertical-align: middle;\n",
       "    }\n",
       "\n",
       "    .dataframe tbody tr th {\n",
       "        vertical-align: top;\n",
       "    }\n",
       "\n",
       "    .dataframe thead th {\n",
       "        text-align: right;\n",
       "    }\n",
       "</style>\n",
       "<table border=\"1\" class=\"dataframe\">\n",
       "  <thead>\n",
       "    <tr style=\"text-align: right;\">\n",
       "      <th></th>\n",
       "      <th>transcript_counts</th>\n",
       "      <th>control_probe_counts</th>\n",
       "      <th>control_codeword_counts</th>\n",
       "      <th>total_counts</th>\n",
       "      <th>cell_area</th>\n",
       "      <th>nucleus_area</th>\n",
       "      <th>annotation-demo</th>\n",
       "      <th>annotation-demo2</th>\n",
       "      <th>annotation-newlabel</th>\n",
       "    </tr>\n",
       "  </thead>\n",
       "  <tbody>\n",
       "    <tr>\n",
       "      <th>4921</th>\n",
       "      <td>281</td>\n",
       "      <td>0</td>\n",
       "      <td>0</td>\n",
       "      <td>281</td>\n",
       "      <td>733.247187</td>\n",
       "      <td>26.010000</td>\n",
       "      <td>NaN</td>\n",
       "      <td>Other</td>\n",
       "      <td>NaN</td>\n",
       "    </tr>\n",
       "    <tr>\n",
       "      <th>4922</th>\n",
       "      <td>273</td>\n",
       "      <td>1</td>\n",
       "      <td>0</td>\n",
       "      <td>274</td>\n",
       "      <td>380.576875</td>\n",
       "      <td>30.074063</td>\n",
       "      <td>NaN</td>\n",
       "      <td>Other</td>\n",
       "      <td>NaN</td>\n",
       "    </tr>\n",
       "    <tr>\n",
       "      <th>4923</th>\n",
       "      <td>189</td>\n",
       "      <td>2</td>\n",
       "      <td>0</td>\n",
       "      <td>191</td>\n",
       "      <td>285.658437</td>\n",
       "      <td>8.263594</td>\n",
       "      <td>NaN</td>\n",
       "      <td>Other</td>\n",
       "      <td>NaN</td>\n",
       "    </tr>\n",
       "    <tr>\n",
       "      <th>4924</th>\n",
       "      <td>212</td>\n",
       "      <td>0</td>\n",
       "      <td>0</td>\n",
       "      <td>212</td>\n",
       "      <td>282.226562</td>\n",
       "      <td>24.068281</td>\n",
       "      <td>NaN</td>\n",
       "      <td>Other</td>\n",
       "      <td>NaN</td>\n",
       "    </tr>\n",
       "    <tr>\n",
       "      <th>4925</th>\n",
       "      <td>58</td>\n",
       "      <td>0</td>\n",
       "      <td>0</td>\n",
       "      <td>58</td>\n",
       "      <td>81.823125</td>\n",
       "      <td>4.470469</td>\n",
       "      <td>NaN</td>\n",
       "      <td>Other</td>\n",
       "      <td>NaN</td>\n",
       "    </tr>\n",
       "    <tr>\n",
       "      <th>...</th>\n",
       "      <td>...</td>\n",
       "      <td>...</td>\n",
       "      <td>...</td>\n",
       "      <td>...</td>\n",
       "      <td>...</td>\n",
       "      <td>...</td>\n",
       "      <td>...</td>\n",
       "      <td>...</td>\n",
       "      <td>...</td>\n",
       "    </tr>\n",
       "    <tr>\n",
       "      <th>165374</th>\n",
       "      <td>96</td>\n",
       "      <td>1</td>\n",
       "      <td>0</td>\n",
       "      <td>97</td>\n",
       "      <td>150.234844</td>\n",
       "      <td>11.063281</td>\n",
       "      <td>Negative</td>\n",
       "      <td>Negative</td>\n",
       "      <td>NaN</td>\n",
       "    </tr>\n",
       "    <tr>\n",
       "      <th>165375</th>\n",
       "      <td>379</td>\n",
       "      <td>0</td>\n",
       "      <td>0</td>\n",
       "      <td>379</td>\n",
       "      <td>153.666719</td>\n",
       "      <td>75.681875</td>\n",
       "      <td>Negative</td>\n",
       "      <td>Negative</td>\n",
       "      <td>NaN</td>\n",
       "    </tr>\n",
       "    <tr>\n",
       "      <th>165376</th>\n",
       "      <td>101</td>\n",
       "      <td>0</td>\n",
       "      <td>0</td>\n",
       "      <td>101</td>\n",
       "      <td>27.996875</td>\n",
       "      <td>17.836719</td>\n",
       "      <td>Negative</td>\n",
       "      <td>Negative</td>\n",
       "      <td>NaN</td>\n",
       "    </tr>\n",
       "    <tr>\n",
       "      <th>165377</th>\n",
       "      <td>472</td>\n",
       "      <td>0</td>\n",
       "      <td>0</td>\n",
       "      <td>472</td>\n",
       "      <td>200.177656</td>\n",
       "      <td>52.652188</td>\n",
       "      <td>Negative</td>\n",
       "      <td>Negative</td>\n",
       "      <td>NaN</td>\n",
       "    </tr>\n",
       "    <tr>\n",
       "      <th>165378</th>\n",
       "      <td>588</td>\n",
       "      <td>0</td>\n",
       "      <td>0</td>\n",
       "      <td>588</td>\n",
       "      <td>319.525625</td>\n",
       "      <td>96.995625</td>\n",
       "      <td>Negative</td>\n",
       "      <td>Negative</td>\n",
       "      <td>NaN</td>\n",
       "    </tr>\n",
       "  </tbody>\n",
       "</table>\n",
       "<p>9431 rows × 9 columns</p>\n",
       "</div>"
      ],
      "text/plain": [
       "        transcript_counts  control_probe_counts  control_codeword_counts  \\\n",
       "4921                  281                     0                        0   \n",
       "4922                  273                     1                        0   \n",
       "4923                  189                     2                        0   \n",
       "4924                  212                     0                        0   \n",
       "4925                   58                     0                        0   \n",
       "...                   ...                   ...                      ...   \n",
       "165374                 96                     1                        0   \n",
       "165375                379                     0                        0   \n",
       "165376                101                     0                        0   \n",
       "165377                472                     0                        0   \n",
       "165378                588                     0                        0   \n",
       "\n",
       "        total_counts   cell_area  nucleus_area annotation-demo  \\\n",
       "4921             281  733.247187     26.010000             NaN   \n",
       "4922             274  380.576875     30.074063             NaN   \n",
       "4923             191  285.658437      8.263594             NaN   \n",
       "4924             212  282.226562     24.068281             NaN   \n",
       "4925              58   81.823125      4.470469             NaN   \n",
       "...              ...         ...           ...             ...   \n",
       "165374            97  150.234844     11.063281        Negative   \n",
       "165375           379  153.666719     75.681875        Negative   \n",
       "165376           101   27.996875     17.836719        Negative   \n",
       "165377           472  200.177656     52.652188        Negative   \n",
       "165378           588  319.525625     96.995625        Negative   \n",
       "\n",
       "       annotation-demo2 annotation-newlabel  \n",
       "4921              Other                 NaN  \n",
       "4922              Other                 NaN  \n",
       "4923              Other                 NaN  \n",
       "4924              Other                 NaN  \n",
       "4925              Other                 NaN  \n",
       "...                 ...                 ...  \n",
       "165374         Negative                 NaN  \n",
       "165375         Negative                 NaN  \n",
       "165376         Negative                 NaN  \n",
       "165377         Negative                 NaN  \n",
       "165378         Negative                 NaN  \n",
       "\n",
       "[9431 rows x 9 columns]"
      ]
     },
     "execution_count": 17,
     "metadata": {},
     "output_type": "execute_result"
    }
   ],
   "source": [
    "# show only observations that were part of this annotation label\n",
    "xd.matrix.obs[xd.matrix.obs[\"annotation-demo2\"].notna()]"
   ]
  },
  {
   "cell_type": "markdown",
   "id": "89e5650a",
   "metadata": {},
   "source": [
    "## Save results\n",
    "\n",
    "The cropped and/or processed data can be saved into a folder using the `.save()` function of `XeniumData`.\n",
    "\n",
    "The resulting folder has following structure:\n",
    "```\n",
    "with_annotations\n",
    "│   xenium.json\n",
    "│   xeniumdata.json\n",
    "│\n",
    "├───annotations\n",
    "│       demo.geojson\n",
    "│\n",
    "├───boundaries\n",
    "│       cells.parquet\n",
    "│       nuclei.parquet\n",
    "│\n",
    "├───images\n",
    "│       morphology_focus.ome.tif\n",
    "│       slide_id__sample_id__CD20__registered.ome.tif\n",
    "│       slide_id__sample_id__HER2__registered.ome.tif\n",
    "│       slide_id__sample_id__HE__registered.ome.tif\n",
    "│\n",
    "├───matrix\n",
    "│       matrix.h5ad\n",
    "│\n",
    "└───transcripts\n",
    "        transcripts.parquet\n",
    "```"
   ]
  },
  {
   "cell_type": "code",
   "execution_count": 18,
   "id": "49f29bb8",
   "metadata": {},
   "outputs": [],
   "source": [
    "out_dir = data_dir / \"with_annotations\"\n",
    "xd.save(out_dir, overwrite=True)"
   ]
  },
  {
   "cell_type": "code",
   "execution_count": 19,
   "id": "11fb706a",
   "metadata": {},
   "outputs": [],
   "source": [
    "xd_reloaded = XeniumData(out_dir)"
   ]
  },
  {
   "cell_type": "code",
   "execution_count": 20,
   "id": "513bf899",
   "metadata": {},
   "outputs": [
    {
     "data": {
      "text/plain": [
       "\u001b[1m\u001b[31mXeniumData\u001b[0m\n",
       "\u001b[1mSlide ID:\u001b[0m\tslide_id\n",
       "\u001b[1mSample ID:\u001b[0m\tsample_id\n",
       "\u001b[1mData path:\u001b[0m\tdemo_dataset\n",
       "\u001b[1mData folder:\u001b[0m\twith_annotations\n",
       "\u001b[1mMetadata file:\u001b[0m\txeniumdata.json"
      ]
     },
     "execution_count": 20,
     "metadata": {},
     "output_type": "execute_result"
    }
   ],
   "source": [
    "xd_reloaded"
   ]
  },
  {
   "cell_type": "code",
   "execution_count": 21,
   "id": "44326c78",
   "metadata": {},
   "outputs": [
    {
     "name": "stdout",
     "output_type": "stream",
     "text": [
      "Reading annotations...\n",
      "No `boundaries` modality found.\n",
      "Reading images...\n",
      "Reading matrix...\n",
      "No `transcripts` modality found.\n"
     ]
    },
    {
     "name": "stderr",
     "output_type": "stream",
     "text": [
      "c:\\Users\\ge37voy\\AppData\\Local\\miniconda3\\envs\\insitupy\\lib\\site-packages\\anndata\\__init__.py:51: FutureWarning: `anndata.read` is deprecated, use `anndata.read_h5ad` instead. `ad.read` will be removed in mid 2024.\n",
      "  warnings.warn(\n"
     ]
    }
   ],
   "source": [
    "xd_reloaded.read_all()"
   ]
  },
  {
   "cell_type": "code",
   "execution_count": 22,
   "id": "eae15ebb",
   "metadata": {},
   "outputs": [
    {
     "data": {
      "text/plain": [
       "\u001b[1m\u001b[31mXeniumData\u001b[0m\n",
       "\u001b[1mSlide ID:\u001b[0m\tslide_id\n",
       "\u001b[1mSample ID:\u001b[0m\tsample_id\n",
       "\u001b[1mData path:\u001b[0m\tdemo_dataset\n",
       "\u001b[1mData folder:\u001b[0m\twith_annotations\n",
       "\u001b[1mMetadata file:\u001b[0m\txeniumdata.json\n",
       "    ➤ \u001b[34m\u001b[1mimages\u001b[0m\n",
       "       \u001b[1mHE:\u001b[0m\t(25778, 35416, 3)\n",
       "    ➤\u001b[32m\u001b[1m matrix\u001b[0m\n",
       "       AnnData object with n_obs × n_vars = 167780 × 313\n",
       "\t       obs: 'transcript_counts', 'control_probe_counts', 'control_codeword_counts', 'total_counts', 'cell_area', 'nucleus_area', 'annotation-demo', 'annotation-demo2', 'annotation-newlabel'\n",
       "\t       var: 'gene_ids', 'feature_types', 'genome'\n",
       "\t       obsm: 'spatial'\n",
       "    ➤ \u001b[36m\u001b[1mannotations\u001b[0m\n",
       "       \u001b[1mdemo:\u001b[0m\t4 annotations, 2 classes ('Positive', 'Negative') ✔\n",
       "       \u001b[1mdemo2:\u001b[0m\t5 annotations, 3 classes ('Negative', 'Positive', 'Other') ✔\n",
       "       \u001b[1mnewlabel:\u001b[0m\t6 annotations, 1 classes ('newclass',) ✔"
      ]
     },
     "execution_count": 22,
     "metadata": {},
     "output_type": "execute_result"
    }
   ],
   "source": [
    "xd_reloaded"
   ]
  },
  {
   "cell_type": "code",
   "execution_count": 23,
   "id": "7746c711",
   "metadata": {},
   "outputs": [],
   "source": [
    "xd_reloaded.show(annotation_labels=\"all\")"
   ]
  },
  {
   "cell_type": "code",
   "execution_count": null,
   "id": "21147f8e",
   "metadata": {},
   "outputs": [],
   "source": []
  }
 ],
 "metadata": {
  "kernelspec": {
   "display_name": "insitupy",
   "language": "python",
   "name": "python3"
  },
  "language_info": {
   "codemirror_mode": {
    "name": "ipython",
    "version": 3
   },
   "file_extension": ".py",
   "mimetype": "text/x-python",
   "name": "python",
   "nbconvert_exporter": "python",
   "pygments_lexer": "ipython3",
   "version": "3.9.18"
  }
 },
 "nbformat": 4,
 "nbformat_minor": 5
}
