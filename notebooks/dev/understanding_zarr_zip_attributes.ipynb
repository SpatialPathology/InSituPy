{
 "cells": [
  {
   "cell_type": "code",
   "execution_count": 1,
   "metadata": {},
   "outputs": [],
   "source": [
    "## The following code ensures that all functions and init files are reloaded before executions.\n",
    "%load_ext autoreload\n",
    "%autoreload 2"
   ]
  },
  {
   "cell_type": "code",
   "execution_count": 2,
   "metadata": {},
   "outputs": [],
   "source": [
    "import geopandas as gpd\n",
    "from insitupy.utils.geo import parse_geopandas\n",
    "from insitupy.utils.io import read_json\n",
    "import numpy as np\n",
    "import shapely\n",
    "import pandas as pd\n",
    "from tqdm import tqdm\n",
    "import matplotlib.pyplot as plt\n",
    "from insitupy import XeniumData\n",
    "from rasterio.features import rasterize\n",
    "from pathlib import Path"
   ]
  },
  {
   "cell_type": "code",
   "execution_count": 3,
   "metadata": {},
   "outputs": [],
   "source": [
    "baysor_folder = Path(r\"C:\\Users\\ge37voy\\OneDrive - TUM\\data\\2315_VascularCancer_Mogler\\2315-02-glioblastoma\\20240112__122324__2315-02-Glioblastoma\\baysor\\baysor_output-0017313__N-42-20-T__20240219__155112\")\n",
    "#annotfile = Path(r\"C:\\Users\\ge37voy\\Github\\InSituPy\\notebooks\\demo_annotations\\annotations-slide_id__sample_id__demo2.geojson\")\n",
    "xdfile = Path(r\"C:\\Users\\ge37voy\\OneDrive - TUM\\data\\2315_VascularCancer_Mogler\\2315-02-glioblastoma\\20240112__122324__2315-02-Glioblastoma\\output_reseg-0017313__N-42-20-T__20240213__135523\")"
   ]
  },
  {
   "cell_type": "code",
   "execution_count": 4,
   "metadata": {},
   "outputs": [],
   "source": [
    "jsonfile = baysor_folder / \"segmentation_polygons.json\"\n",
    "d = read_json(jsonfile)\n",
    "xd = XeniumData(xdfile)"
   ]
  },
  {
   "cell_type": "code",
   "execution_count": 5,
   "metadata": {},
   "outputs": [
    {
     "name": "stdout",
     "output_type": "stream",
     "text": [
      "Reading annotations...\n",
      "No `annotations` modality found.\n",
      "Reading cells...\n",
      "Reading images...\n",
      "Reading regions...\n",
      "No `regions` modality found.\n",
      "Reading transcripts...\n"
     ]
    }
   ],
   "source": [
    "xd.load_all()"
   ]
  },
  {
   "cell_type": "code",
   "execution_count": 6,
   "metadata": {},
   "outputs": [
    {
     "data": {
      "text/html": [
       "<table>\n",
       "    <tr>\n",
       "        <td>\n",
       "            <table style=\"border-collapse: collapse;\">\n",
       "                <thead>\n",
       "                    <tr>\n",
       "                        <td> </td>\n",
       "                        <th> Array </th>\n",
       "                        <th> Chunk </th>\n",
       "                    </tr>\n",
       "                </thead>\n",
       "                <tbody>\n",
       "                    \n",
       "                    <tr>\n",
       "                        <th> Bytes </th>\n",
       "                        <td> 1.09 GiB </td>\n",
       "                        <td> 2.00 MiB </td>\n",
       "                    </tr>\n",
       "                    \n",
       "                    <tr>\n",
       "                        <th> Shape </th>\n",
       "                        <td> (20539, 28483) </td>\n",
       "                        <td> (1024, 1024) </td>\n",
       "                    </tr>\n",
       "                    <tr>\n",
       "                        <th> Dask graph </th>\n",
       "                        <td colspan=\"2\"> 588 chunks in 2 graph layers </td>\n",
       "                    </tr>\n",
       "                    <tr>\n",
       "                        <th> Data type </th>\n",
       "                        <td colspan=\"2\"> uint16 numpy.ndarray </td>\n",
       "                    </tr>\n",
       "                </tbody>\n",
       "            </table>\n",
       "        </td>\n",
       "        <td>\n",
       "        <svg width=\"170\" height=\"136\" style=\"stroke:rgb(0,0,0);stroke-width:1\" >\n",
       "\n",
       "  <!-- Horizontal lines -->\n",
       "  <line x1=\"0\" y1=\"0\" x2=\"120\" y2=\"0\" style=\"stroke-width:2\" />\n",
       "  <line x1=\"0\" y1=\"4\" x2=\"120\" y2=\"4\" />\n",
       "  <line x1=\"0\" y1=\"8\" x2=\"120\" y2=\"8\" />\n",
       "  <line x1=\"0\" y1=\"12\" x2=\"120\" y2=\"12\" />\n",
       "  <line x1=\"0\" y1=\"17\" x2=\"120\" y2=\"17\" />\n",
       "  <line x1=\"0\" y1=\"21\" x2=\"120\" y2=\"21\" />\n",
       "  <line x1=\"0\" y1=\"25\" x2=\"120\" y2=\"25\" />\n",
       "  <line x1=\"0\" y1=\"30\" x2=\"120\" y2=\"30\" />\n",
       "  <line x1=\"0\" y1=\"34\" x2=\"120\" y2=\"34\" />\n",
       "  <line x1=\"0\" y1=\"38\" x2=\"120\" y2=\"38\" />\n",
       "  <line x1=\"0\" y1=\"47\" x2=\"120\" y2=\"47\" />\n",
       "  <line x1=\"0\" y1=\"51\" x2=\"120\" y2=\"51\" />\n",
       "  <line x1=\"0\" y1=\"56\" x2=\"120\" y2=\"56\" />\n",
       "  <line x1=\"0\" y1=\"60\" x2=\"120\" y2=\"60\" />\n",
       "  <line x1=\"0\" y1=\"64\" x2=\"120\" y2=\"64\" />\n",
       "  <line x1=\"0\" y1=\"69\" x2=\"120\" y2=\"69\" />\n",
       "  <line x1=\"0\" y1=\"73\" x2=\"120\" y2=\"73\" />\n",
       "  <line x1=\"0\" y1=\"77\" x2=\"120\" y2=\"77\" />\n",
       "  <line x1=\"0\" y1=\"81\" x2=\"120\" y2=\"81\" />\n",
       "  <line x1=\"0\" y1=\"86\" x2=\"120\" y2=\"86\" style=\"stroke-width:2\" />\n",
       "\n",
       "  <!-- Vertical lines -->\n",
       "  <line x1=\"0\" y1=\"0\" x2=\"0\" y2=\"86\" style=\"stroke-width:2\" />\n",
       "  <line x1=\"4\" y1=\"0\" x2=\"4\" y2=\"86\" />\n",
       "  <line x1=\"8\" y1=\"0\" x2=\"8\" y2=\"86\" />\n",
       "  <line x1=\"17\" y1=\"0\" x2=\"17\" y2=\"86\" />\n",
       "  <line x1=\"21\" y1=\"0\" x2=\"21\" y2=\"86\" />\n",
       "  <line x1=\"30\" y1=\"0\" x2=\"30\" y2=\"86\" />\n",
       "  <line x1=\"34\" y1=\"0\" x2=\"34\" y2=\"86\" />\n",
       "  <line x1=\"43\" y1=\"0\" x2=\"43\" y2=\"86\" />\n",
       "  <line x1=\"47\" y1=\"0\" x2=\"47\" y2=\"86\" />\n",
       "  <line x1=\"56\" y1=\"0\" x2=\"56\" y2=\"86\" />\n",
       "  <line x1=\"60\" y1=\"0\" x2=\"60\" y2=\"86\" />\n",
       "  <line x1=\"69\" y1=\"0\" x2=\"69\" y2=\"86\" />\n",
       "  <line x1=\"73\" y1=\"0\" x2=\"73\" y2=\"86\" />\n",
       "  <line x1=\"81\" y1=\"0\" x2=\"81\" y2=\"86\" />\n",
       "  <line x1=\"86\" y1=\"0\" x2=\"86\" y2=\"86\" />\n",
       "  <line x1=\"94\" y1=\"0\" x2=\"94\" y2=\"86\" />\n",
       "  <line x1=\"99\" y1=\"0\" x2=\"99\" y2=\"86\" />\n",
       "  <line x1=\"107\" y1=\"0\" x2=\"107\" y2=\"86\" />\n",
       "  <line x1=\"112\" y1=\"0\" x2=\"112\" y2=\"86\" />\n",
       "  <line x1=\"120\" y1=\"0\" x2=\"120\" y2=\"86\" style=\"stroke-width:2\" />\n",
       "\n",
       "  <!-- Colored Rectangle -->\n",
       "  <polygon points=\"0.0,0.0 120.0,0.0 120.0,86.53161534950672 0.0,86.53161534950672\" style=\"fill:#8B4903A0;stroke-width:0\"/>\n",
       "\n",
       "  <!-- Text -->\n",
       "  <text x=\"60.000000\" y=\"106.531615\" font-size=\"1.0rem\" font-weight=\"100\" text-anchor=\"middle\" >28483</text>\n",
       "  <text x=\"140.000000\" y=\"43.265808\" font-size=\"1.0rem\" font-weight=\"100\" text-anchor=\"middle\" transform=\"rotate(-90,140.000000,43.265808)\">20539</text>\n",
       "</svg>\n",
       "        </td>\n",
       "    </tr>\n",
       "</table>"
      ],
      "text/plain": [
       "dask.array<from-zarr, shape=(20539, 28483), dtype=uint16, chunksize=(1024, 1024), chunktype=numpy.ndarray>"
      ]
     },
     "execution_count": 6,
     "metadata": {},
     "output_type": "execute_result"
    }
   ],
   "source": [
    "xd.images.nuclei"
   ]
  },
  {
   "cell_type": "code",
   "execution_count": 7,
   "metadata": {},
   "outputs": [
    {
     "name": "stdout",
     "output_type": "stream",
     "text": [
      "Key 'ABCD4' already in layer list.\n",
      "Key 'ABCD4' already in layer list.\n",
      "Key 'ABCD4' already in layer list.\n",
      "Key 'transcript_counts' already in layer list.\n",
      "Key 'ABO' already in layer list.\n",
      "Key 'ABO' already in layer list.\n"
     ]
    }
   ],
   "source": [
    "xd.show()"
   ]
  },
  {
   "cell_type": "code",
   "execution_count": 8,
   "metadata": {},
   "outputs": [],
   "source": [
    "xdcrop = xd.crop(\"Shapes\")"
   ]
  },
  {
   "cell_type": "code",
   "execution_count": 9,
   "metadata": {},
   "outputs": [],
   "source": [
    "xdcrop.show()"
   ]
  },
  {
   "cell_type": "code",
   "execution_count": 10,
   "metadata": {},
   "outputs": [],
   "source": [
    "savefull = \"tmp/full\"\n",
    "savecrop = \"tmp/crop\""
   ]
  },
  {
   "cell_type": "code",
   "execution_count": 11,
   "metadata": {},
   "outputs": [
    {
     "name": "stderr",
     "output_type": "stream",
     "text": [
      "c:\\Users\\ge37voy\\AppData\\Local\\miniconda3\\envs\\insitupy\\lib\\zipfile.py:1514: UserWarning: Duplicate name: '.zattrs'\n",
      "  return self._open_to_write(zinfo, force_zip64=force_zip64)\n"
     ]
    }
   ],
   "source": [
    "xd.save(savefull, overwrite=True)"
   ]
  },
  {
   "cell_type": "code",
   "execution_count": 12,
   "metadata": {},
   "outputs": [
    {
     "name": "stderr",
     "output_type": "stream",
     "text": [
      "c:\\Users\\ge37voy\\AppData\\Local\\miniconda3\\envs\\insitupy\\lib\\zipfile.py:1514: UserWarning: Duplicate name: '.zattrs'\n",
      "  return self._open_to_write(zinfo, force_zip64=force_zip64)\n"
     ]
    }
   ],
   "source": [
    "xdcrop.save(savecrop, overwrite=True)"
   ]
  },
  {
   "cell_type": "code",
   "execution_count": 14,
   "metadata": {},
   "outputs": [],
   "source": [
    "cropreload = XeniumData(savecrop)\n",
    "fullreload = XeniumData(savefull)"
   ]
  },
  {
   "cell_type": "code",
   "execution_count": 15,
   "metadata": {},
   "outputs": [
    {
     "name": "stdout",
     "output_type": "stream",
     "text": [
      "Reading annotations...\n",
      "No `annotations` modality found.\n",
      "Reading cells...\n",
      "Reading images...\n",
      "Reading regions...\n",
      "No `regions` modality found.\n",
      "Reading transcripts...\n",
      "Reading annotations...\n",
      "No `annotations` modality found.\n",
      "Reading cells...\n"
     ]
    },
    {
     "name": "stderr",
     "output_type": "stream",
     "text": [
      "c:\\Users\\ge37voy\\AppData\\Local\\miniconda3\\envs\\insitupy\\lib\\site-packages\\anndata\\__init__.py:51: FutureWarning: `anndata.read` is deprecated, use `anndata.read_h5ad` instead. `ad.read` will be removed in mid 2024.\n",
      "  warnings.warn(\n",
      "c:\\Users\\ge37voy\\AppData\\Local\\miniconda3\\envs\\insitupy\\lib\\site-packages\\anndata\\__init__.py:51: FutureWarning: `anndata.read` is deprecated, use `anndata.read_h5ad` instead. `ad.read` will be removed in mid 2024.\n",
      "  warnings.warn(\n"
     ]
    },
    {
     "name": "stdout",
     "output_type": "stream",
     "text": [
      "Reading images...\n",
      "Reading regions...\n",
      "No `regions` modality found.\n",
      "Reading transcripts...\n"
     ]
    }
   ],
   "source": [
    "cropreload.load_all()\n",
    "fullreload.load_all()"
   ]
  },
  {
   "cell_type": "code",
   "execution_count": 18,
   "metadata": {},
   "outputs": [],
   "source": [
    "cropreload.show()"
   ]
  },
  {
   "cell_type": "code",
   "execution_count": 19,
   "metadata": {},
   "outputs": [],
   "source": [
    "cropcrop = cropreload.crop(\"Shapes\")"
   ]
  },
  {
   "cell_type": "code",
   "execution_count": 22,
   "metadata": {},
   "outputs": [],
   "source": [
    "cropcrop.show()"
   ]
  },
  {
   "cell_type": "code",
   "execution_count": 23,
   "metadata": {},
   "outputs": [
    {
     "name": "stderr",
     "output_type": "stream",
     "text": [
      "c:\\Users\\ge37voy\\AppData\\Local\\miniconda3\\envs\\insitupy\\lib\\zipfile.py:1514: UserWarning: Duplicate name: '.zattrs'\n",
      "  return self._open_to_write(zinfo, force_zip64=force_zip64)\n"
     ]
    }
   ],
   "source": [
    "cropcrop.save(\"tmp/cropcrop\")"
   ]
  },
  {
   "cell_type": "code",
   "execution_count": 24,
   "metadata": {},
   "outputs": [],
   "source": [
    "ccreload = XeniumData(\"tmp/cropcrop\")"
   ]
  },
  {
   "cell_type": "code",
   "execution_count": 26,
   "metadata": {},
   "outputs": [
    {
     "name": "stdout",
     "output_type": "stream",
     "text": [
      "Reading annotations...\n",
      "No `annotations` modality found.\n",
      "Reading cells...\n",
      "Reading images...\n",
      "Reading regions...\n",
      "No `regions` modality found.\n",
      "Reading transcripts...\n"
     ]
    },
    {
     "name": "stderr",
     "output_type": "stream",
     "text": [
      "c:\\Users\\ge37voy\\AppData\\Local\\miniconda3\\envs\\insitupy\\lib\\site-packages\\anndata\\__init__.py:51: FutureWarning: `anndata.read` is deprecated, use `anndata.read_h5ad` instead. `ad.read` will be removed in mid 2024.\n",
      "  warnings.warn(\n"
     ]
    }
   ],
   "source": [
    "ccreload.load_all()"
   ]
  },
  {
   "cell_type": "code",
   "execution_count": 27,
   "metadata": {},
   "outputs": [],
   "source": [
    "ccreload.show()"
   ]
  },
  {
   "cell_type": "code",
   "execution_count": 17,
   "metadata": {},
   "outputs": [
    {
     "data": {
      "text/plain": [
       "\u001b[1m\u001b[31mXeniumData\u001b[0m\n",
       "\u001b[1mSlide ID:\u001b[0m\t0017313\n",
       "\u001b[1mSample ID:\u001b[0m\tN-42-20-T\n",
       "\u001b[1mData path:\u001b[0m\ttmp\n",
       "\u001b[1mData folder:\u001b[0m\tfull\n",
       "\u001b[1mMetadata file:\u001b[0m\t.xeniumdata\n",
       "    ➤ \u001b[34m\u001b[1mimages\u001b[0m\n",
       "       \u001b[1mnuclei:\u001b[0m\t(20539, 28483)\n",
       "    ➤\u001b[32m\u001b[1m cells\u001b[0m\n",
       "       \u001b[1mmatrix\u001b[0m\n",
       "           AnnData object with n_obs × n_vars = 58264 × 314\n",
       "           obs: 'transcript_counts', 'control_probe_counts', 'control_codeword_counts', 'unassigned_codeword_counts', 'deprecated_codeword_counts', 'total_counts', 'cell_area', 'nucleus_area'\n",
       "           var: 'gene_ids', 'feature_types', 'genome'\n",
       "           obsm: 'spatial'\n",
       "           varm: 'binned_expression'\n",
       "       \u001b[1mboundaries\u001b[0m\n",
       "           BoundariesData object with 2 entries:\n",
       "               \u001b[1mnuclear\u001b[0m\n",
       "               \u001b[1mcellular\u001b[0m\n",
       "    ➤\u001b[95m\u001b[1m transcripts\u001b[0m\n",
       "       DataFrame with shape 13317980 x 9"
      ]
     },
     "execution_count": 17,
     "metadata": {},
     "output_type": "execute_result"
    }
   ],
   "source": [
    "fullreload"
   ]
  },
  {
   "cell_type": "code",
   "execution_count": null,
   "metadata": {},
   "outputs": [],
   "source": []
  },
  {
   "cell_type": "code",
   "execution_count": 13,
   "metadata": {},
   "outputs": [],
   "source": [
    "cropreload.show()"
   ]
  },
  {
   "cell_type": "code",
   "execution_count": 64,
   "metadata": {},
   "outputs": [
    {
     "data": {
      "text/html": [
       "<table>\n",
       "    <tr>\n",
       "        <td>\n",
       "            <table style=\"border-collapse: collapse;\">\n",
       "                <thead>\n",
       "                    <tr>\n",
       "                        <td> </td>\n",
       "                        <th> Array </th>\n",
       "                        <th> Chunk </th>\n",
       "                    </tr>\n",
       "                </thead>\n",
       "                <tbody>\n",
       "                    \n",
       "                    <tr>\n",
       "                        <th> Bytes </th>\n",
       "                        <td> 9.54 MiB </td>\n",
       "                        <td> 9.54 MiB </td>\n",
       "                    </tr>\n",
       "                    \n",
       "                    <tr>\n",
       "                        <th> Shape </th>\n",
       "                        <td> (2816, 1777) </td>\n",
       "                        <td> (2816, 1777) </td>\n",
       "                    </tr>\n",
       "                    <tr>\n",
       "                        <th> Dask graph </th>\n",
       "                        <td colspan=\"2\"> 1 chunks in 1 graph layer </td>\n",
       "                    </tr>\n",
       "                    <tr>\n",
       "                        <th> Data type </th>\n",
       "                        <td colspan=\"2\"> uint16 numpy.ndarray </td>\n",
       "                    </tr>\n",
       "                </tbody>\n",
       "            </table>\n",
       "        </td>\n",
       "        <td>\n",
       "        <svg width=\"125\" height=\"170\" style=\"stroke:rgb(0,0,0);stroke-width:1\" >\n",
       "\n",
       "  <!-- Horizontal lines -->\n",
       "  <line x1=\"0\" y1=\"0\" x2=\"75\" y2=\"0\" style=\"stroke-width:2\" />\n",
       "  <line x1=\"0\" y1=\"120\" x2=\"75\" y2=\"120\" style=\"stroke-width:2\" />\n",
       "\n",
       "  <!-- Vertical lines -->\n",
       "  <line x1=\"0\" y1=\"0\" x2=\"0\" y2=\"120\" style=\"stroke-width:2\" />\n",
       "  <line x1=\"75\" y1=\"0\" x2=\"75\" y2=\"120\" style=\"stroke-width:2\" />\n",
       "\n",
       "  <!-- Colored Rectangle -->\n",
       "  <polygon points=\"0.0,0.0 75.72443181818181,0.0 75.72443181818181,120.0 0.0,120.0\" style=\"fill:#ECB172A0;stroke-width:0\"/>\n",
       "\n",
       "  <!-- Text -->\n",
       "  <text x=\"37.862216\" y=\"140.000000\" font-size=\"1.0rem\" font-weight=\"100\" text-anchor=\"middle\" >1777</text>\n",
       "  <text x=\"95.724432\" y=\"60.000000\" font-size=\"1.0rem\" font-weight=\"100\" text-anchor=\"middle\" transform=\"rotate(-90,95.724432,60.000000)\">2816</text>\n",
       "</svg>\n",
       "        </td>\n",
       "    </tr>\n",
       "</table>"
      ],
      "text/plain": [
       "dask.array<from-zarr, shape=(2816, 1777), dtype=uint16, chunksize=(2816, 1777), chunktype=numpy.ndarray>"
      ]
     },
     "execution_count": 64,
     "metadata": {},
     "output_type": "execute_result"
    }
   ],
   "source": [
    "cropreload.images.nuclei"
   ]
  },
  {
   "cell_type": "code",
   "execution_count": 70,
   "metadata": {},
   "outputs": [
    {
     "data": {
      "text/plain": [
       "array(['aaabfmpc-1', 'aaacfhhg-1', 'aaacngll-1', ..., 'oijdlohl-1',\n",
       "       'oijdmbco-1', 'oijdmogd-1'], dtype=object)"
      ]
     },
     "execution_count": 70,
     "metadata": {},
     "output_type": "execute_result"
    }
   ],
   "source": [
    "xd.cells.matrix.obs_names.values"
   ]
  },
  {
   "cell_type": "code",
   "execution_count": 72,
   "metadata": {},
   "outputs": [],
   "source": [
    "cropreload.show()"
   ]
  },
  {
   "cell_type": "code",
   "execution_count": 35,
   "metadata": {},
   "outputs": [],
   "source": [
    "import zarr\n",
    "import dask.array as da"
   ]
  },
  {
   "cell_type": "code",
   "execution_count": 55,
   "metadata": {},
   "outputs": [
    {
     "name": "stdout",
     "output_type": "stream",
     "text": [
      "5911\n"
     ]
    }
   ],
   "source": [
    "path = r\"C:\\Users\\ge37voy\\Github\\InSituPy\\notebooks\\dev\\tmp\\crop\\images\\morphology_mip.zarr.zip\"\n",
    "with zarr.ZipStore(path, mode=\"r\") as zipstore:\n",
    "    # open store\n",
    "    img = da.from_zarr(zipstore).persist()\n",
    "    print(int(img.max()))"
   ]
  },
  {
   "cell_type": "code",
   "execution_count": 56,
   "metadata": {},
   "outputs": [
    {
     "name": "stdout",
     "output_type": "stream",
     "text": [
      "5911\n"
     ]
    }
   ],
   "source": [
    "print(int(img.max()))"
   ]
  },
  {
   "cell_type": "code",
   "execution_count": 57,
   "metadata": {},
   "outputs": [],
   "source": [
    "zipstore = zarr.ZipStore(path, mode=\"r\")\n",
    "img = da.from_zarr(zipstore)"
   ]
  },
  {
   "cell_type": "code",
   "execution_count": 49,
   "metadata": {},
   "outputs": [
    {
     "data": {
      "text/plain": [
       "5911"
      ]
     },
     "execution_count": 49,
     "metadata": {},
     "output_type": "execute_result"
    }
   ],
   "source": [
    "int(img.max())"
   ]
  },
  {
   "cell_type": "code",
   "execution_count": 52,
   "metadata": {},
   "outputs": [],
   "source": [
    "img = img.persist()"
   ]
  },
  {
   "cell_type": "code",
   "execution_count": 53,
   "metadata": {},
   "outputs": [
    {
     "data": {
      "text/html": [
       "<table>\n",
       "    <tr>\n",
       "        <td>\n",
       "            <table style=\"border-collapse: collapse;\">\n",
       "                <thead>\n",
       "                    <tr>\n",
       "                        <td> </td>\n",
       "                        <th> Array </th>\n",
       "                        <th> Chunk </th>\n",
       "                    </tr>\n",
       "                </thead>\n",
       "                <tbody>\n",
       "                    \n",
       "                    <tr>\n",
       "                        <th> Bytes </th>\n",
       "                        <td> 9.54 MiB </td>\n",
       "                        <td> 9.54 MiB </td>\n",
       "                    </tr>\n",
       "                    \n",
       "                    <tr>\n",
       "                        <th> Shape </th>\n",
       "                        <td> (2816, 1777) </td>\n",
       "                        <td> (2816, 1777) </td>\n",
       "                    </tr>\n",
       "                    <tr>\n",
       "                        <th> Dask graph </th>\n",
       "                        <td colspan=\"2\"> 1 chunks in 1 graph layer </td>\n",
       "                    </tr>\n",
       "                    <tr>\n",
       "                        <th> Data type </th>\n",
       "                        <td colspan=\"2\"> uint16 numpy.ndarray </td>\n",
       "                    </tr>\n",
       "                </tbody>\n",
       "            </table>\n",
       "        </td>\n",
       "        <td>\n",
       "        <svg width=\"125\" height=\"170\" style=\"stroke:rgb(0,0,0);stroke-width:1\" >\n",
       "\n",
       "  <!-- Horizontal lines -->\n",
       "  <line x1=\"0\" y1=\"0\" x2=\"75\" y2=\"0\" style=\"stroke-width:2\" />\n",
       "  <line x1=\"0\" y1=\"120\" x2=\"75\" y2=\"120\" style=\"stroke-width:2\" />\n",
       "\n",
       "  <!-- Vertical lines -->\n",
       "  <line x1=\"0\" y1=\"0\" x2=\"0\" y2=\"120\" style=\"stroke-width:2\" />\n",
       "  <line x1=\"75\" y1=\"0\" x2=\"75\" y2=\"120\" style=\"stroke-width:2\" />\n",
       "\n",
       "  <!-- Colored Rectangle -->\n",
       "  <polygon points=\"0.0,0.0 75.72443181818181,0.0 75.72443181818181,120.0 0.0,120.0\" style=\"fill:#ECB172A0;stroke-width:0\"/>\n",
       "\n",
       "  <!-- Text -->\n",
       "  <text x=\"37.862216\" y=\"140.000000\" font-size=\"1.0rem\" font-weight=\"100\" text-anchor=\"middle\" >1777</text>\n",
       "  <text x=\"95.724432\" y=\"60.000000\" font-size=\"1.0rem\" font-weight=\"100\" text-anchor=\"middle\" transform=\"rotate(-90,95.724432,60.000000)\">2816</text>\n",
       "</svg>\n",
       "        </td>\n",
       "    </tr>\n",
       "</table>"
      ],
      "text/plain": [
       "dask.array<from-zarr, shape=(2816, 1777), dtype=uint16, chunksize=(2816, 1777), chunktype=numpy.ndarray>"
      ]
     },
     "execution_count": 53,
     "metadata": {},
     "output_type": "execute_result"
    }
   ],
   "source": [
    "img"
   ]
  },
  {
   "cell_type": "code",
   "execution_count": null,
   "metadata": {},
   "outputs": [],
   "source": []
  },
  {
   "cell_type": "code",
   "execution_count": 50,
   "metadata": {},
   "outputs": [
    {
     "data": {
      "text/plain": [
       "array([[ 34,  24,  26, ...,  50,  41,  33],\n",
       "       [ 27,  29,  23, ...,  35,  32,  36],\n",
       "       [ 27,  31,  24, ...,  31,  35,  41],\n",
       "       ...,\n",
       "       [654, 706, 720, ..., 310, 300, 287],\n",
       "       [647, 686, 704, ..., 305, 313, 331],\n",
       "       [667, 673, 712, ..., 340, 307, 338]], dtype=uint16)"
      ]
     },
     "execution_count": 50,
     "metadata": {},
     "output_type": "execute_result"
    }
   ],
   "source": [
    "img.compute()"
   ]
  },
  {
   "cell_type": "code",
   "execution_count": null,
   "metadata": {},
   "outputs": [],
   "source": []
  },
  {
   "cell_type": "code",
   "execution_count": 41,
   "metadata": {},
   "outputs": [
    {
     "data": {
      "text/plain": [
       "(2816, 1777)"
      ]
     },
     "execution_count": 41,
     "metadata": {},
     "output_type": "execute_result"
    }
   ],
   "source": [
    "img.shape"
   ]
  },
  {
   "cell_type": "code",
   "execution_count": 44,
   "metadata": {},
   "outputs": [
    {
     "ename": "ValueError",
     "evalue": "Attempt to use ZIP archive that was already closed",
     "output_type": "error",
     "traceback": [
      "\u001b[1;31m---------------------------------------------------------------------------\u001b[0m",
      "\u001b[1;31mValueError\u001b[0m                                Traceback (most recent call last)",
      "Cell \u001b[1;32mIn[44], line 1\u001b[0m\n\u001b[1;32m----> 1\u001b[0m \u001b[38;5;28;43mint\u001b[39;49m\u001b[43m(\u001b[49m\u001b[43mimg\u001b[49m\u001b[38;5;241;43m.\u001b[39;49m\u001b[43mmax\u001b[49m\u001b[43m(\u001b[49m\u001b[43m)\u001b[49m\u001b[43m)\u001b[49m\n",
      "File \u001b[1;32mc:\\Users\\ge37voy\\AppData\\Local\\miniconda3\\envs\\insitupy\\lib\\site-packages\\dask\\array\\core.py:1878\u001b[0m, in \u001b[0;36mArray.__int__\u001b[1;34m(self)\u001b[0m\n\u001b[0;32m   1877\u001b[0m \u001b[38;5;28;01mdef\u001b[39;00m \u001b[38;5;21m__int__\u001b[39m(\u001b[38;5;28mself\u001b[39m):\n\u001b[1;32m-> 1878\u001b[0m     \u001b[38;5;28;01mreturn\u001b[39;00m \u001b[38;5;28;43mself\u001b[39;49m\u001b[38;5;241;43m.\u001b[39;49m\u001b[43m_scalarfunc\u001b[49m\u001b[43m(\u001b[49m\u001b[38;5;28;43mint\u001b[39;49m\u001b[43m)\u001b[49m\n",
      "File \u001b[1;32mc:\\Users\\ge37voy\\AppData\\Local\\miniconda3\\envs\\insitupy\\lib\\site-packages\\dask\\array\\core.py:1875\u001b[0m, in \u001b[0;36mArray._scalarfunc\u001b[1;34m(self, cast_type)\u001b[0m\n\u001b[0;32m   1873\u001b[0m     \u001b[38;5;28;01mraise\u001b[39;00m \u001b[38;5;167;01mTypeError\u001b[39;00m(\u001b[38;5;124m\"\u001b[39m\u001b[38;5;124mOnly length-1 arrays can be converted to Python scalars\u001b[39m\u001b[38;5;124m\"\u001b[39m)\n\u001b[0;32m   1874\u001b[0m \u001b[38;5;28;01melse\u001b[39;00m:\n\u001b[1;32m-> 1875\u001b[0m     \u001b[38;5;28;01mreturn\u001b[39;00m cast_type(\u001b[38;5;28;43mself\u001b[39;49m\u001b[38;5;241;43m.\u001b[39;49m\u001b[43mcompute\u001b[49m\u001b[43m(\u001b[49m\u001b[43m)\u001b[49m\u001b[38;5;241m.\u001b[39mitem())\n",
      "File \u001b[1;32mc:\\Users\\ge37voy\\AppData\\Local\\miniconda3\\envs\\insitupy\\lib\\site-packages\\dask\\base.py:342\u001b[0m, in \u001b[0;36mDaskMethodsMixin.compute\u001b[1;34m(self, **kwargs)\u001b[0m\n\u001b[0;32m    318\u001b[0m \u001b[38;5;28;01mdef\u001b[39;00m \u001b[38;5;21mcompute\u001b[39m(\u001b[38;5;28mself\u001b[39m, \u001b[38;5;241m*\u001b[39m\u001b[38;5;241m*\u001b[39mkwargs):\n\u001b[0;32m    319\u001b[0m \u001b[38;5;250m    \u001b[39m\u001b[38;5;124;03m\"\"\"Compute this dask collection\u001b[39;00m\n\u001b[0;32m    320\u001b[0m \n\u001b[0;32m    321\u001b[0m \u001b[38;5;124;03m    This turns a lazy Dask collection into its in-memory equivalent.\u001b[39;00m\n\u001b[1;32m   (...)\u001b[0m\n\u001b[0;32m    340\u001b[0m \u001b[38;5;124;03m    dask.compute\u001b[39;00m\n\u001b[0;32m    341\u001b[0m \u001b[38;5;124;03m    \"\"\"\u001b[39;00m\n\u001b[1;32m--> 342\u001b[0m     (result,) \u001b[38;5;241m=\u001b[39m compute(\u001b[38;5;28mself\u001b[39m, traverse\u001b[38;5;241m=\u001b[39m\u001b[38;5;28;01mFalse\u001b[39;00m, \u001b[38;5;241m*\u001b[39m\u001b[38;5;241m*\u001b[39mkwargs)\n\u001b[0;32m    343\u001b[0m     \u001b[38;5;28;01mreturn\u001b[39;00m result\n",
      "File \u001b[1;32mc:\\Users\\ge37voy\\AppData\\Local\\miniconda3\\envs\\insitupy\\lib\\site-packages\\dask\\base.py:628\u001b[0m, in \u001b[0;36mcompute\u001b[1;34m(traverse, optimize_graph, scheduler, get, *args, **kwargs)\u001b[0m\n\u001b[0;32m    625\u001b[0m     postcomputes\u001b[38;5;241m.\u001b[39mappend(x\u001b[38;5;241m.\u001b[39m__dask_postcompute__())\n\u001b[0;32m    627\u001b[0m \u001b[38;5;28;01mwith\u001b[39;00m shorten_traceback():\n\u001b[1;32m--> 628\u001b[0m     results \u001b[38;5;241m=\u001b[39m schedule(dsk, keys, \u001b[38;5;241m*\u001b[39m\u001b[38;5;241m*\u001b[39mkwargs)\n\u001b[0;32m    630\u001b[0m \u001b[38;5;28;01mreturn\u001b[39;00m repack([f(r, \u001b[38;5;241m*\u001b[39ma) \u001b[38;5;28;01mfor\u001b[39;00m r, (f, a) \u001b[38;5;129;01min\u001b[39;00m \u001b[38;5;28mzip\u001b[39m(results, postcomputes)])\n",
      "File \u001b[1;32mc:\\Users\\ge37voy\\AppData\\Local\\miniconda3\\envs\\insitupy\\lib\\site-packages\\zarr\\core.py:842\u001b[0m, in \u001b[0;36mArray.__getitem__\u001b[1;34m(self, selection)\u001b[0m\n\u001b[0;32m    840\u001b[0m     result \u001b[38;5;241m=\u001b[39m \u001b[38;5;28mself\u001b[39m\u001b[38;5;241m.\u001b[39mvindex[selection]\n\u001b[0;32m    841\u001b[0m \u001b[38;5;28;01melif\u001b[39;00m is_pure_orthogonal_indexing(pure_selection, \u001b[38;5;28mself\u001b[39m\u001b[38;5;241m.\u001b[39mndim):\n\u001b[1;32m--> 842\u001b[0m     result \u001b[38;5;241m=\u001b[39m \u001b[38;5;28;43mself\u001b[39;49m\u001b[38;5;241;43m.\u001b[39;49m\u001b[43mget_orthogonal_selection\u001b[49m\u001b[43m(\u001b[49m\u001b[43mpure_selection\u001b[49m\u001b[43m,\u001b[49m\u001b[43m \u001b[49m\u001b[43mfields\u001b[49m\u001b[38;5;241;43m=\u001b[39;49m\u001b[43mfields\u001b[49m\u001b[43m)\u001b[49m\n\u001b[0;32m    843\u001b[0m \u001b[38;5;28;01melse\u001b[39;00m:\n\u001b[0;32m    844\u001b[0m     result \u001b[38;5;241m=\u001b[39m \u001b[38;5;28mself\u001b[39m\u001b[38;5;241m.\u001b[39mget_basic_selection(pure_selection, fields\u001b[38;5;241m=\u001b[39mfields)\n",
      "File \u001b[1;32mc:\\Users\\ge37voy\\AppData\\Local\\miniconda3\\envs\\insitupy\\lib\\site-packages\\zarr\\core.py:1124\u001b[0m, in \u001b[0;36mArray.get_orthogonal_selection\u001b[1;34m(self, selection, out, fields)\u001b[0m\n\u001b[0;32m   1121\u001b[0m \u001b[38;5;66;03m# setup indexer\u001b[39;00m\n\u001b[0;32m   1122\u001b[0m indexer \u001b[38;5;241m=\u001b[39m OrthogonalIndexer(selection, \u001b[38;5;28mself\u001b[39m)\n\u001b[1;32m-> 1124\u001b[0m \u001b[38;5;28;01mreturn\u001b[39;00m \u001b[38;5;28;43mself\u001b[39;49m\u001b[38;5;241;43m.\u001b[39;49m\u001b[43m_get_selection\u001b[49m\u001b[43m(\u001b[49m\u001b[43mindexer\u001b[49m\u001b[38;5;241;43m=\u001b[39;49m\u001b[43mindexer\u001b[49m\u001b[43m,\u001b[49m\u001b[43m \u001b[49m\u001b[43mout\u001b[49m\u001b[38;5;241;43m=\u001b[39;49m\u001b[43mout\u001b[49m\u001b[43m,\u001b[49m\u001b[43m \u001b[49m\u001b[43mfields\u001b[49m\u001b[38;5;241;43m=\u001b[39;49m\u001b[43mfields\u001b[49m\u001b[43m)\u001b[49m\n",
      "File \u001b[1;32mc:\\Users\\ge37voy\\AppData\\Local\\miniconda3\\envs\\insitupy\\lib\\site-packages\\zarr\\core.py:1388\u001b[0m, in \u001b[0;36mArray._get_selection\u001b[1;34m(self, indexer, out, fields)\u001b[0m\n\u001b[0;32m   1385\u001b[0m \u001b[38;5;28;01mif\u001b[39;00m math\u001b[38;5;241m.\u001b[39mprod(out_shape) \u001b[38;5;241m>\u001b[39m \u001b[38;5;241m0\u001b[39m:\n\u001b[0;32m   1386\u001b[0m     \u001b[38;5;66;03m# allow storage to get multiple items at once\u001b[39;00m\n\u001b[0;32m   1387\u001b[0m     lchunk_coords, lchunk_selection, lout_selection \u001b[38;5;241m=\u001b[39m \u001b[38;5;28mzip\u001b[39m(\u001b[38;5;241m*\u001b[39mindexer)\n\u001b[1;32m-> 1388\u001b[0m     \u001b[38;5;28;43mself\u001b[39;49m\u001b[38;5;241;43m.\u001b[39;49m\u001b[43m_chunk_getitems\u001b[49m\u001b[43m(\u001b[49m\n\u001b[0;32m   1389\u001b[0m \u001b[43m        \u001b[49m\u001b[43mlchunk_coords\u001b[49m\u001b[43m,\u001b[49m\n\u001b[0;32m   1390\u001b[0m \u001b[43m        \u001b[49m\u001b[43mlchunk_selection\u001b[49m\u001b[43m,\u001b[49m\n\u001b[0;32m   1391\u001b[0m \u001b[43m        \u001b[49m\u001b[43mout\u001b[49m\u001b[43m,\u001b[49m\n\u001b[0;32m   1392\u001b[0m \u001b[43m        \u001b[49m\u001b[43mlout_selection\u001b[49m\u001b[43m,\u001b[49m\n\u001b[0;32m   1393\u001b[0m \u001b[43m        \u001b[49m\u001b[43mdrop_axes\u001b[49m\u001b[38;5;241;43m=\u001b[39;49m\u001b[43mindexer\u001b[49m\u001b[38;5;241;43m.\u001b[39;49m\u001b[43mdrop_axes\u001b[49m\u001b[43m,\u001b[49m\n\u001b[0;32m   1394\u001b[0m \u001b[43m        \u001b[49m\u001b[43mfields\u001b[49m\u001b[38;5;241;43m=\u001b[39;49m\u001b[43mfields\u001b[49m\u001b[43m,\u001b[49m\n\u001b[0;32m   1395\u001b[0m \u001b[43m    \u001b[49m\u001b[43m)\u001b[49m\n\u001b[0;32m   1396\u001b[0m \u001b[38;5;28;01mif\u001b[39;00m out\u001b[38;5;241m.\u001b[39mshape:\n\u001b[0;32m   1397\u001b[0m     \u001b[38;5;28;01mreturn\u001b[39;00m out\n",
      "File \u001b[1;32mc:\\Users\\ge37voy\\AppData\\Local\\miniconda3\\envs\\insitupy\\lib\\site-packages\\zarr\\core.py:2224\u001b[0m, in \u001b[0;36mArray._chunk_getitems\u001b[1;34m(self, lchunk_coords, lchunk_selection, out, lout_selection, drop_axes, fields)\u001b[0m\n\u001b[0;32m   2222\u001b[0m     \u001b[38;5;28;01mif\u001b[39;00m \u001b[38;5;129;01mnot\u001b[39;00m \u001b[38;5;28misinstance\u001b[39m(\u001b[38;5;28mself\u001b[39m\u001b[38;5;241m.\u001b[39m_meta_array, np\u001b[38;5;241m.\u001b[39mndarray):\n\u001b[0;32m   2223\u001b[0m         contexts \u001b[38;5;241m=\u001b[39m ConstantMap(ckeys, constant\u001b[38;5;241m=\u001b[39mContext(meta_array\u001b[38;5;241m=\u001b[39m\u001b[38;5;28mself\u001b[39m\u001b[38;5;241m.\u001b[39m_meta_array))\n\u001b[1;32m-> 2224\u001b[0m     cdatas \u001b[38;5;241m=\u001b[39m \u001b[38;5;28;43mself\u001b[39;49m\u001b[38;5;241;43m.\u001b[39;49m\u001b[43mchunk_store\u001b[49m\u001b[38;5;241;43m.\u001b[39;49m\u001b[43mgetitems\u001b[49m\u001b[43m(\u001b[49m\u001b[43mckeys\u001b[49m\u001b[43m,\u001b[49m\u001b[43m \u001b[49m\u001b[43mcontexts\u001b[49m\u001b[38;5;241;43m=\u001b[39;49m\u001b[43mcontexts\u001b[49m\u001b[43m)\u001b[49m\n\u001b[0;32m   2226\u001b[0m \u001b[38;5;28;01mfor\u001b[39;00m ckey, chunk_select, out_select \u001b[38;5;129;01min\u001b[39;00m \u001b[38;5;28mzip\u001b[39m(ckeys, lchunk_selection, lout_selection):\n\u001b[0;32m   2227\u001b[0m     \u001b[38;5;28;01mif\u001b[39;00m ckey \u001b[38;5;129;01min\u001b[39;00m cdatas:\n",
      "File \u001b[1;32mc:\\Users\\ge37voy\\AppData\\Local\\miniconda3\\envs\\insitupy\\lib\\site-packages\\zarr\\_storage\\store.py:160\u001b[0m, in \u001b[0;36mBaseStore.getitems\u001b[1;34m(self, keys, contexts)\u001b[0m\n\u001b[0;32m    135\u001b[0m \u001b[38;5;28;01mdef\u001b[39;00m \u001b[38;5;21mgetitems\u001b[39m(\n\u001b[0;32m    136\u001b[0m     \u001b[38;5;28mself\u001b[39m, keys: Sequence[\u001b[38;5;28mstr\u001b[39m], \u001b[38;5;241m*\u001b[39m, contexts: Mapping[\u001b[38;5;28mstr\u001b[39m, Context]\n\u001b[0;32m    137\u001b[0m ) \u001b[38;5;241m-\u001b[39m\u001b[38;5;241m>\u001b[39m Mapping[\u001b[38;5;28mstr\u001b[39m, Any]:\n\u001b[0;32m    138\u001b[0m \u001b[38;5;250m    \u001b[39m\u001b[38;5;124;03m\"\"\"Retrieve data from multiple keys.\u001b[39;00m\n\u001b[0;32m    139\u001b[0m \n\u001b[0;32m    140\u001b[0m \u001b[38;5;124;03m    Parameters\u001b[39;00m\n\u001b[1;32m   (...)\u001b[0m\n\u001b[0;32m    158\u001b[0m \u001b[38;5;124;03m    keys and/or to utilize the contexts.\u001b[39;00m\n\u001b[0;32m    159\u001b[0m \u001b[38;5;124;03m    \"\"\"\u001b[39;00m\n\u001b[1;32m--> 160\u001b[0m     \u001b[38;5;28;01mreturn\u001b[39;00m {k: \u001b[38;5;28mself\u001b[39m[k] \u001b[38;5;28;01mfor\u001b[39;00m k \u001b[38;5;129;01min\u001b[39;00m keys \u001b[38;5;28;01mif\u001b[39;00m k \u001b[38;5;129;01min\u001b[39;00m \u001b[38;5;28mself\u001b[39m}\n",
      "File \u001b[1;32mc:\\Users\\ge37voy\\AppData\\Local\\miniconda3\\envs\\insitupy\\lib\\site-packages\\zarr\\_storage\\store.py:160\u001b[0m, in \u001b[0;36m<dictcomp>\u001b[1;34m(.0)\u001b[0m\n\u001b[0;32m    135\u001b[0m \u001b[38;5;28;01mdef\u001b[39;00m \u001b[38;5;21mgetitems\u001b[39m(\n\u001b[0;32m    136\u001b[0m     \u001b[38;5;28mself\u001b[39m, keys: Sequence[\u001b[38;5;28mstr\u001b[39m], \u001b[38;5;241m*\u001b[39m, contexts: Mapping[\u001b[38;5;28mstr\u001b[39m, Context]\n\u001b[0;32m    137\u001b[0m ) \u001b[38;5;241m-\u001b[39m\u001b[38;5;241m>\u001b[39m Mapping[\u001b[38;5;28mstr\u001b[39m, Any]:\n\u001b[0;32m    138\u001b[0m \u001b[38;5;250m    \u001b[39m\u001b[38;5;124;03m\"\"\"Retrieve data from multiple keys.\u001b[39;00m\n\u001b[0;32m    139\u001b[0m \n\u001b[0;32m    140\u001b[0m \u001b[38;5;124;03m    Parameters\u001b[39;00m\n\u001b[1;32m   (...)\u001b[0m\n\u001b[0;32m    158\u001b[0m \u001b[38;5;124;03m    keys and/or to utilize the contexts.\u001b[39;00m\n\u001b[0;32m    159\u001b[0m \u001b[38;5;124;03m    \"\"\"\u001b[39;00m\n\u001b[1;32m--> 160\u001b[0m     \u001b[38;5;28;01mreturn\u001b[39;00m {k: \u001b[38;5;28;43mself\u001b[39;49m\u001b[43m[\u001b[49m\u001b[43mk\u001b[49m\u001b[43m]\u001b[49m \u001b[38;5;28;01mfor\u001b[39;00m k \u001b[38;5;129;01min\u001b[39;00m keys \u001b[38;5;28;01mif\u001b[39;00m k \u001b[38;5;129;01min\u001b[39;00m \u001b[38;5;28mself\u001b[39m}\n",
      "File \u001b[1;32mc:\\Users\\ge37voy\\AppData\\Local\\miniconda3\\envs\\insitupy\\lib\\site-packages\\zarr\\storage.py:1825\u001b[0m, in \u001b[0;36mZipStore.__getitem__\u001b[1;34m(self, key)\u001b[0m\n\u001b[0;32m   1823\u001b[0m \u001b[38;5;28;01mdef\u001b[39;00m \u001b[38;5;21m__getitem__\u001b[39m(\u001b[38;5;28mself\u001b[39m, key):\n\u001b[0;32m   1824\u001b[0m     \u001b[38;5;28;01mwith\u001b[39;00m \u001b[38;5;28mself\u001b[39m\u001b[38;5;241m.\u001b[39mmutex:\n\u001b[1;32m-> 1825\u001b[0m         \u001b[38;5;28;01mwith\u001b[39;00m \u001b[38;5;28;43mself\u001b[39;49m\u001b[38;5;241;43m.\u001b[39;49m\u001b[43mzf\u001b[49m\u001b[38;5;241;43m.\u001b[39;49m\u001b[43mopen\u001b[49m\u001b[43m(\u001b[49m\u001b[43mkey\u001b[49m\u001b[43m)\u001b[49m \u001b[38;5;28;01mas\u001b[39;00m f:  \u001b[38;5;66;03m# will raise KeyError\u001b[39;00m\n\u001b[0;32m   1826\u001b[0m             \u001b[38;5;28;01mreturn\u001b[39;00m f\u001b[38;5;241m.\u001b[39mread()\n",
      "File \u001b[1;32mc:\\Users\\ge37voy\\AppData\\Local\\miniconda3\\envs\\insitupy\\lib\\zipfile.py:1498\u001b[0m, in \u001b[0;36mZipFile.open\u001b[1;34m(self, name, mode, pwd, force_zip64)\u001b[0m\n\u001b[0;32m   1496\u001b[0m     \u001b[38;5;28;01mraise\u001b[39;00m \u001b[38;5;167;01mValueError\u001b[39;00m(\u001b[38;5;124m\"\u001b[39m\u001b[38;5;124mpwd is only supported for reading files\u001b[39m\u001b[38;5;124m\"\u001b[39m)\n\u001b[0;32m   1497\u001b[0m \u001b[38;5;28;01mif\u001b[39;00m \u001b[38;5;129;01mnot\u001b[39;00m \u001b[38;5;28mself\u001b[39m\u001b[38;5;241m.\u001b[39mfp:\n\u001b[1;32m-> 1498\u001b[0m     \u001b[38;5;28;01mraise\u001b[39;00m \u001b[38;5;167;01mValueError\u001b[39;00m(\n\u001b[0;32m   1499\u001b[0m         \u001b[38;5;124m\"\u001b[39m\u001b[38;5;124mAttempt to use ZIP archive that was already closed\u001b[39m\u001b[38;5;124m\"\u001b[39m)\n\u001b[0;32m   1501\u001b[0m \u001b[38;5;66;03m# Make sure we have an info object\u001b[39;00m\n\u001b[0;32m   1502\u001b[0m \u001b[38;5;28;01mif\u001b[39;00m \u001b[38;5;28misinstance\u001b[39m(name, ZipInfo):\n\u001b[0;32m   1503\u001b[0m     \u001b[38;5;66;03m# 'name' is already an info object\u001b[39;00m\n",
      "\u001b[1;31mValueError\u001b[0m: Attempt to use ZIP archive that was already closed"
     ]
    }
   ],
   "source": []
  },
  {
   "cell_type": "code",
   "execution_count": null,
   "metadata": {},
   "outputs": [],
   "source": [
    "xdcrop"
   ]
  },
  {
   "cell_type": "code",
   "execution_count": 62,
   "metadata": {},
   "outputs": [
    {
     "ename": "TypeError",
     "evalue": "'int' object is not iterable",
     "output_type": "error",
     "traceback": [
      "\u001b[1;31m---------------------------------------------------------------------------\u001b[0m",
      "\u001b[1;31mTypeError\u001b[0m                                 Traceback (most recent call last)",
      "Cell \u001b[1;32mIn[62], line 1\u001b[0m\n\u001b[1;32m----> 1\u001b[0m \u001b[38;5;28;43mlist\u001b[39;49m\u001b[43m(\u001b[49m\u001b[38;5;241;43m2\u001b[39;49m\u001b[43m)\u001b[49m\n",
      "\u001b[1;31mTypeError\u001b[0m: 'int' object is not iterable"
     ]
    }
   ],
   "source": [
    "list(2)"
   ]
  },
  {
   "cell_type": "code",
   "execution_count": 5,
   "metadata": {},
   "outputs": [
    {
     "name": "stdout",
     "output_type": "stream",
     "text": [
      "Reading annotations...\n",
      "No `annotations` modality found.\n",
      "Reading cells...\n",
      "Reading images...\n",
      "Reading regions...\n",
      "No `regions` modality found.\n",
      "Reading transcripts...\n"
     ]
    }
   ],
   "source": [
    "xd.load_all()"
   ]
  },
  {
   "cell_type": "code",
   "execution_count": 6,
   "metadata": {},
   "outputs": [
    {
     "name": "stdout",
     "output_type": "stream",
     "text": [
      "Parsing count matrix...\n",
      "Reading segmentation masks\n",
      "\tRead polygons\n"
     ]
    },
    {
     "name": "stderr",
     "output_type": "stream",
     "text": [
      "c:\\Users\\ge37voy\\AppData\\Local\\miniconda3\\envs\\insitupy\\lib\\site-packages\\anndata\\_core\\anndata.py:183: ImplicitModificationWarning: Transforming to str index.\n",
      "  warnings.warn(\"Transforming to str index.\", ImplicitModificationWarning)\n",
      "c:\\Users\\ge37voy\\AppData\\Local\\miniconda3\\envs\\insitupy\\lib\\site-packages\\anndata\\_core\\anndata.py:183: ImplicitModificationWarning: Transforming to str index.\n",
      "  warnings.warn(\"Transforming to str index.\", ImplicitModificationWarning)\n"
     ]
    },
    {
     "name": "stdout",
     "output_type": "stream",
     "text": [
      "\tConvert polygons to segmentation mask\n",
      "Parsing transcripts data...\n",
      "\tRead data\n",
      "\tMerge with existing data\n"
     ]
    }
   ],
   "source": [
    "xd.parse_baysor(baysor_output=baysor_folder)"
   ]
  },
  {
   "cell_type": "code",
   "execution_count": 7,
   "metadata": {},
   "outputs": [],
   "source": [
    "img = xd.images.nuclei[0]"
   ]
  },
  {
   "cell_type": "code",
   "execution_count": 8,
   "metadata": {},
   "outputs": [],
   "source": [
    "import zarr\n",
    "import dask.array as da"
   ]
  },
  {
   "cell_type": "code",
   "execution_count": 9,
   "metadata": {},
   "outputs": [],
   "source": [
    "unzipped = \"tmp/unzipped.zarr\"\n",
    "img.to_zarr(unzipped)"
   ]
  },
  {
   "cell_type": "code",
   "execution_count": 10,
   "metadata": {},
   "outputs": [],
   "source": [
    "store = zarr.open(unzipped, mode=\"a\")\n",
    "store.attrs[\"blubb\"] = 234"
   ]
  },
  {
   "cell_type": "code",
   "execution_count": 11,
   "metadata": {},
   "outputs": [],
   "source": [
    "reload = da.from_zarr(unzipped)"
   ]
  },
  {
   "cell_type": "code",
   "execution_count": 12,
   "metadata": {},
   "outputs": [
    {
     "data": {
      "text/html": [
       "<table>\n",
       "    <tr>\n",
       "        <td>\n",
       "            <table style=\"border-collapse: collapse;\">\n",
       "                <thead>\n",
       "                    <tr>\n",
       "                        <td> </td>\n",
       "                        <th> Array </th>\n",
       "                        <th> Chunk </th>\n",
       "                    </tr>\n",
       "                </thead>\n",
       "                <tbody>\n",
       "                    \n",
       "                    <tr>\n",
       "                        <th> Bytes </th>\n",
       "                        <td> 1.09 GiB </td>\n",
       "                        <td> 2.00 MiB </td>\n",
       "                    </tr>\n",
       "                    \n",
       "                    <tr>\n",
       "                        <th> Shape </th>\n",
       "                        <td> (20539, 28483) </td>\n",
       "                        <td> (1024, 1024) </td>\n",
       "                    </tr>\n",
       "                    <tr>\n",
       "                        <th> Dask graph </th>\n",
       "                        <td colspan=\"2\"> 588 chunks in 2 graph layers </td>\n",
       "                    </tr>\n",
       "                    <tr>\n",
       "                        <th> Data type </th>\n",
       "                        <td colspan=\"2\"> uint16 numpy.ndarray </td>\n",
       "                    </tr>\n",
       "                </tbody>\n",
       "            </table>\n",
       "        </td>\n",
       "        <td>\n",
       "        <svg width=\"170\" height=\"136\" style=\"stroke:rgb(0,0,0);stroke-width:1\" >\n",
       "\n",
       "  <!-- Horizontal lines -->\n",
       "  <line x1=\"0\" y1=\"0\" x2=\"120\" y2=\"0\" style=\"stroke-width:2\" />\n",
       "  <line x1=\"0\" y1=\"4\" x2=\"120\" y2=\"4\" />\n",
       "  <line x1=\"0\" y1=\"8\" x2=\"120\" y2=\"8\" />\n",
       "  <line x1=\"0\" y1=\"12\" x2=\"120\" y2=\"12\" />\n",
       "  <line x1=\"0\" y1=\"17\" x2=\"120\" y2=\"17\" />\n",
       "  <line x1=\"0\" y1=\"21\" x2=\"120\" y2=\"21\" />\n",
       "  <line x1=\"0\" y1=\"25\" x2=\"120\" y2=\"25\" />\n",
       "  <line x1=\"0\" y1=\"30\" x2=\"120\" y2=\"30\" />\n",
       "  <line x1=\"0\" y1=\"34\" x2=\"120\" y2=\"34\" />\n",
       "  <line x1=\"0\" y1=\"38\" x2=\"120\" y2=\"38\" />\n",
       "  <line x1=\"0\" y1=\"47\" x2=\"120\" y2=\"47\" />\n",
       "  <line x1=\"0\" y1=\"51\" x2=\"120\" y2=\"51\" />\n",
       "  <line x1=\"0\" y1=\"56\" x2=\"120\" y2=\"56\" />\n",
       "  <line x1=\"0\" y1=\"60\" x2=\"120\" y2=\"60\" />\n",
       "  <line x1=\"0\" y1=\"64\" x2=\"120\" y2=\"64\" />\n",
       "  <line x1=\"0\" y1=\"69\" x2=\"120\" y2=\"69\" />\n",
       "  <line x1=\"0\" y1=\"73\" x2=\"120\" y2=\"73\" />\n",
       "  <line x1=\"0\" y1=\"77\" x2=\"120\" y2=\"77\" />\n",
       "  <line x1=\"0\" y1=\"81\" x2=\"120\" y2=\"81\" />\n",
       "  <line x1=\"0\" y1=\"86\" x2=\"120\" y2=\"86\" style=\"stroke-width:2\" />\n",
       "\n",
       "  <!-- Vertical lines -->\n",
       "  <line x1=\"0\" y1=\"0\" x2=\"0\" y2=\"86\" style=\"stroke-width:2\" />\n",
       "  <line x1=\"4\" y1=\"0\" x2=\"4\" y2=\"86\" />\n",
       "  <line x1=\"8\" y1=\"0\" x2=\"8\" y2=\"86\" />\n",
       "  <line x1=\"17\" y1=\"0\" x2=\"17\" y2=\"86\" />\n",
       "  <line x1=\"21\" y1=\"0\" x2=\"21\" y2=\"86\" />\n",
       "  <line x1=\"30\" y1=\"0\" x2=\"30\" y2=\"86\" />\n",
       "  <line x1=\"34\" y1=\"0\" x2=\"34\" y2=\"86\" />\n",
       "  <line x1=\"43\" y1=\"0\" x2=\"43\" y2=\"86\" />\n",
       "  <line x1=\"47\" y1=\"0\" x2=\"47\" y2=\"86\" />\n",
       "  <line x1=\"56\" y1=\"0\" x2=\"56\" y2=\"86\" />\n",
       "  <line x1=\"60\" y1=\"0\" x2=\"60\" y2=\"86\" />\n",
       "  <line x1=\"69\" y1=\"0\" x2=\"69\" y2=\"86\" />\n",
       "  <line x1=\"73\" y1=\"0\" x2=\"73\" y2=\"86\" />\n",
       "  <line x1=\"81\" y1=\"0\" x2=\"81\" y2=\"86\" />\n",
       "  <line x1=\"86\" y1=\"0\" x2=\"86\" y2=\"86\" />\n",
       "  <line x1=\"94\" y1=\"0\" x2=\"94\" y2=\"86\" />\n",
       "  <line x1=\"99\" y1=\"0\" x2=\"99\" y2=\"86\" />\n",
       "  <line x1=\"107\" y1=\"0\" x2=\"107\" y2=\"86\" />\n",
       "  <line x1=\"112\" y1=\"0\" x2=\"112\" y2=\"86\" />\n",
       "  <line x1=\"120\" y1=\"0\" x2=\"120\" y2=\"86\" style=\"stroke-width:2\" />\n",
       "\n",
       "  <!-- Colored Rectangle -->\n",
       "  <polygon points=\"0.0,0.0 120.0,0.0 120.0,86.53161534950672 0.0,86.53161534950672\" style=\"fill:#8B4903A0;stroke-width:0\"/>\n",
       "\n",
       "  <!-- Text -->\n",
       "  <text x=\"60.000000\" y=\"106.531615\" font-size=\"1.0rem\" font-weight=\"100\" text-anchor=\"middle\" >28483</text>\n",
       "  <text x=\"140.000000\" y=\"43.265808\" font-size=\"1.0rem\" font-weight=\"100\" text-anchor=\"middle\" transform=\"rotate(-90,140.000000,43.265808)\">20539</text>\n",
       "</svg>\n",
       "        </td>\n",
       "    </tr>\n",
       "</table>"
      ],
      "text/plain": [
       "dask.array<from-zarr, shape=(20539, 28483), dtype=uint16, chunksize=(1024, 1024), chunktype=numpy.ndarray>"
      ]
     },
     "execution_count": 12,
     "metadata": {},
     "output_type": "execute_result"
    }
   ],
   "source": [
    "reload"
   ]
  },
  {
   "cell_type": "code",
   "execution_count": 13,
   "metadata": {},
   "outputs": [
    {
     "data": {
      "text/html": [
       "<table>\n",
       "    <tr>\n",
       "        <td>\n",
       "            <table style=\"border-collapse: collapse;\">\n",
       "                <thead>\n",
       "                    <tr>\n",
       "                        <td> </td>\n",
       "                        <th> Array </th>\n",
       "                        <th> Chunk </th>\n",
       "                    </tr>\n",
       "                </thead>\n",
       "                <tbody>\n",
       "                    \n",
       "                    <tr>\n",
       "                        <th> Bytes </th>\n",
       "                        <td> 1.09 GiB </td>\n",
       "                        <td> 2.00 MiB </td>\n",
       "                    </tr>\n",
       "                    \n",
       "                    <tr>\n",
       "                        <th> Shape </th>\n",
       "                        <td> (20539, 28483) </td>\n",
       "                        <td> (1024, 1024) </td>\n",
       "                    </tr>\n",
       "                    <tr>\n",
       "                        <th> Dask graph </th>\n",
       "                        <td colspan=\"2\"> 588 chunks in 2 graph layers </td>\n",
       "                    </tr>\n",
       "                    <tr>\n",
       "                        <th> Data type </th>\n",
       "                        <td colspan=\"2\"> uint16 numpy.ndarray </td>\n",
       "                    </tr>\n",
       "                </tbody>\n",
       "            </table>\n",
       "        </td>\n",
       "        <td>\n",
       "        <svg width=\"170\" height=\"136\" style=\"stroke:rgb(0,0,0);stroke-width:1\" >\n",
       "\n",
       "  <!-- Horizontal lines -->\n",
       "  <line x1=\"0\" y1=\"0\" x2=\"120\" y2=\"0\" style=\"stroke-width:2\" />\n",
       "  <line x1=\"0\" y1=\"4\" x2=\"120\" y2=\"4\" />\n",
       "  <line x1=\"0\" y1=\"8\" x2=\"120\" y2=\"8\" />\n",
       "  <line x1=\"0\" y1=\"12\" x2=\"120\" y2=\"12\" />\n",
       "  <line x1=\"0\" y1=\"17\" x2=\"120\" y2=\"17\" />\n",
       "  <line x1=\"0\" y1=\"21\" x2=\"120\" y2=\"21\" />\n",
       "  <line x1=\"0\" y1=\"25\" x2=\"120\" y2=\"25\" />\n",
       "  <line x1=\"0\" y1=\"30\" x2=\"120\" y2=\"30\" />\n",
       "  <line x1=\"0\" y1=\"34\" x2=\"120\" y2=\"34\" />\n",
       "  <line x1=\"0\" y1=\"38\" x2=\"120\" y2=\"38\" />\n",
       "  <line x1=\"0\" y1=\"47\" x2=\"120\" y2=\"47\" />\n",
       "  <line x1=\"0\" y1=\"51\" x2=\"120\" y2=\"51\" />\n",
       "  <line x1=\"0\" y1=\"56\" x2=\"120\" y2=\"56\" />\n",
       "  <line x1=\"0\" y1=\"60\" x2=\"120\" y2=\"60\" />\n",
       "  <line x1=\"0\" y1=\"64\" x2=\"120\" y2=\"64\" />\n",
       "  <line x1=\"0\" y1=\"69\" x2=\"120\" y2=\"69\" />\n",
       "  <line x1=\"0\" y1=\"73\" x2=\"120\" y2=\"73\" />\n",
       "  <line x1=\"0\" y1=\"77\" x2=\"120\" y2=\"77\" />\n",
       "  <line x1=\"0\" y1=\"81\" x2=\"120\" y2=\"81\" />\n",
       "  <line x1=\"0\" y1=\"86\" x2=\"120\" y2=\"86\" style=\"stroke-width:2\" />\n",
       "\n",
       "  <!-- Vertical lines -->\n",
       "  <line x1=\"0\" y1=\"0\" x2=\"0\" y2=\"86\" style=\"stroke-width:2\" />\n",
       "  <line x1=\"4\" y1=\"0\" x2=\"4\" y2=\"86\" />\n",
       "  <line x1=\"8\" y1=\"0\" x2=\"8\" y2=\"86\" />\n",
       "  <line x1=\"17\" y1=\"0\" x2=\"17\" y2=\"86\" />\n",
       "  <line x1=\"21\" y1=\"0\" x2=\"21\" y2=\"86\" />\n",
       "  <line x1=\"30\" y1=\"0\" x2=\"30\" y2=\"86\" />\n",
       "  <line x1=\"34\" y1=\"0\" x2=\"34\" y2=\"86\" />\n",
       "  <line x1=\"43\" y1=\"0\" x2=\"43\" y2=\"86\" />\n",
       "  <line x1=\"47\" y1=\"0\" x2=\"47\" y2=\"86\" />\n",
       "  <line x1=\"56\" y1=\"0\" x2=\"56\" y2=\"86\" />\n",
       "  <line x1=\"60\" y1=\"0\" x2=\"60\" y2=\"86\" />\n",
       "  <line x1=\"69\" y1=\"0\" x2=\"69\" y2=\"86\" />\n",
       "  <line x1=\"73\" y1=\"0\" x2=\"73\" y2=\"86\" />\n",
       "  <line x1=\"81\" y1=\"0\" x2=\"81\" y2=\"86\" />\n",
       "  <line x1=\"86\" y1=\"0\" x2=\"86\" y2=\"86\" />\n",
       "  <line x1=\"94\" y1=\"0\" x2=\"94\" y2=\"86\" />\n",
       "  <line x1=\"99\" y1=\"0\" x2=\"99\" y2=\"86\" />\n",
       "  <line x1=\"107\" y1=\"0\" x2=\"107\" y2=\"86\" />\n",
       "  <line x1=\"112\" y1=\"0\" x2=\"112\" y2=\"86\" />\n",
       "  <line x1=\"120\" y1=\"0\" x2=\"120\" y2=\"86\" style=\"stroke-width:2\" />\n",
       "\n",
       "  <!-- Colored Rectangle -->\n",
       "  <polygon points=\"0.0,0.0 120.0,0.0 120.0,86.53161534950672 0.0,86.53161534950672\" style=\"fill:#8B4903A0;stroke-width:0\"/>\n",
       "\n",
       "  <!-- Text -->\n",
       "  <text x=\"60.000000\" y=\"106.531615\" font-size=\"1.0rem\" font-weight=\"100\" text-anchor=\"middle\" >28483</text>\n",
       "  <text x=\"140.000000\" y=\"43.265808\" font-size=\"1.0rem\" font-weight=\"100\" text-anchor=\"middle\" transform=\"rotate(-90,140.000000,43.265808)\">20539</text>\n",
       "</svg>\n",
       "        </td>\n",
       "    </tr>\n",
       "</table>"
      ],
      "text/plain": [
       "dask.array<from-zarr, shape=(20539, 28483), dtype=uint16, chunksize=(1024, 1024), chunktype=numpy.ndarray>"
      ]
     },
     "execution_count": 13,
     "metadata": {},
     "output_type": "execute_result"
    }
   ],
   "source": [
    "img"
   ]
  },
  {
   "cell_type": "markdown",
   "metadata": {},
   "source": [
    "### Test writing of attributes into `zarr.zip`"
   ]
  },
  {
   "cell_type": "code",
   "execution_count": 14,
   "metadata": {},
   "outputs": [],
   "source": [
    "zipped = \"tmp/zipped.zarr.zip\"\n",
    "with zarr.ZipStore(zipped, mode=\"w\") as zipstore:\n",
    "    img.to_zarr(zipstore)"
   ]
  },
  {
   "cell_type": "code",
   "execution_count": null,
   "metadata": {},
   "outputs": [],
   "source": [
    "# open zipstore\n",
    "zipstore =  zarr.ZipStore(zipped, mode=\"a\")\n",
    "\n",
    "# open store\n",
    "store = zarr.open(zipstore)\n",
    "\n",
    "# add attributes\n",
    "store.attrs[\"blubbzip\"] = 3434\n",
    "\n",
    "# close zip store\n",
    "zipstore.close()"
   ]
  },
  {
   "cell_type": "markdown",
   "metadata": {},
   "source": [
    "### Test reading of attributes from `zarr.zip`"
   ]
  },
  {
   "cell_type": "code",
   "execution_count": 53,
   "metadata": {},
   "outputs": [],
   "source": [
    "zipstore =  zarr.ZipStore(zipped, mode=\"r\")\n",
    "\n",
    "# open store\n",
    "store = zarr.open(zipstore)"
   ]
  },
  {
   "cell_type": "code",
   "execution_count": 54,
   "metadata": {},
   "outputs": [
    {
     "data": {
      "text/html": [
       "<table>\n",
       "    <tr>\n",
       "        <td>\n",
       "            <table style=\"border-collapse: collapse;\">\n",
       "                <thead>\n",
       "                    <tr>\n",
       "                        <td> </td>\n",
       "                        <th> Array </th>\n",
       "                        <th> Chunk </th>\n",
       "                    </tr>\n",
       "                </thead>\n",
       "                <tbody>\n",
       "                    \n",
       "                    <tr>\n",
       "                        <th> Bytes </th>\n",
       "                        <td> 1.09 GiB </td>\n",
       "                        <td> 2.00 MiB </td>\n",
       "                    </tr>\n",
       "                    \n",
       "                    <tr>\n",
       "                        <th> Shape </th>\n",
       "                        <td> (20539, 28483) </td>\n",
       "                        <td> (1024, 1024) </td>\n",
       "                    </tr>\n",
       "                    <tr>\n",
       "                        <th> Dask graph </th>\n",
       "                        <td colspan=\"2\"> 588 chunks in 2 graph layers </td>\n",
       "                    </tr>\n",
       "                    <tr>\n",
       "                        <th> Data type </th>\n",
       "                        <td colspan=\"2\"> uint16 numpy.ndarray </td>\n",
       "                    </tr>\n",
       "                </tbody>\n",
       "            </table>\n",
       "        </td>\n",
       "        <td>\n",
       "        <svg width=\"170\" height=\"136\" style=\"stroke:rgb(0,0,0);stroke-width:1\" >\n",
       "\n",
       "  <!-- Horizontal lines -->\n",
       "  <line x1=\"0\" y1=\"0\" x2=\"120\" y2=\"0\" style=\"stroke-width:2\" />\n",
       "  <line x1=\"0\" y1=\"4\" x2=\"120\" y2=\"4\" />\n",
       "  <line x1=\"0\" y1=\"8\" x2=\"120\" y2=\"8\" />\n",
       "  <line x1=\"0\" y1=\"12\" x2=\"120\" y2=\"12\" />\n",
       "  <line x1=\"0\" y1=\"17\" x2=\"120\" y2=\"17\" />\n",
       "  <line x1=\"0\" y1=\"21\" x2=\"120\" y2=\"21\" />\n",
       "  <line x1=\"0\" y1=\"25\" x2=\"120\" y2=\"25\" />\n",
       "  <line x1=\"0\" y1=\"30\" x2=\"120\" y2=\"30\" />\n",
       "  <line x1=\"0\" y1=\"34\" x2=\"120\" y2=\"34\" />\n",
       "  <line x1=\"0\" y1=\"38\" x2=\"120\" y2=\"38\" />\n",
       "  <line x1=\"0\" y1=\"47\" x2=\"120\" y2=\"47\" />\n",
       "  <line x1=\"0\" y1=\"51\" x2=\"120\" y2=\"51\" />\n",
       "  <line x1=\"0\" y1=\"56\" x2=\"120\" y2=\"56\" />\n",
       "  <line x1=\"0\" y1=\"60\" x2=\"120\" y2=\"60\" />\n",
       "  <line x1=\"0\" y1=\"64\" x2=\"120\" y2=\"64\" />\n",
       "  <line x1=\"0\" y1=\"69\" x2=\"120\" y2=\"69\" />\n",
       "  <line x1=\"0\" y1=\"73\" x2=\"120\" y2=\"73\" />\n",
       "  <line x1=\"0\" y1=\"77\" x2=\"120\" y2=\"77\" />\n",
       "  <line x1=\"0\" y1=\"81\" x2=\"120\" y2=\"81\" />\n",
       "  <line x1=\"0\" y1=\"86\" x2=\"120\" y2=\"86\" style=\"stroke-width:2\" />\n",
       "\n",
       "  <!-- Vertical lines -->\n",
       "  <line x1=\"0\" y1=\"0\" x2=\"0\" y2=\"86\" style=\"stroke-width:2\" />\n",
       "  <line x1=\"4\" y1=\"0\" x2=\"4\" y2=\"86\" />\n",
       "  <line x1=\"8\" y1=\"0\" x2=\"8\" y2=\"86\" />\n",
       "  <line x1=\"17\" y1=\"0\" x2=\"17\" y2=\"86\" />\n",
       "  <line x1=\"21\" y1=\"0\" x2=\"21\" y2=\"86\" />\n",
       "  <line x1=\"30\" y1=\"0\" x2=\"30\" y2=\"86\" />\n",
       "  <line x1=\"34\" y1=\"0\" x2=\"34\" y2=\"86\" />\n",
       "  <line x1=\"43\" y1=\"0\" x2=\"43\" y2=\"86\" />\n",
       "  <line x1=\"47\" y1=\"0\" x2=\"47\" y2=\"86\" />\n",
       "  <line x1=\"56\" y1=\"0\" x2=\"56\" y2=\"86\" />\n",
       "  <line x1=\"60\" y1=\"0\" x2=\"60\" y2=\"86\" />\n",
       "  <line x1=\"69\" y1=\"0\" x2=\"69\" y2=\"86\" />\n",
       "  <line x1=\"73\" y1=\"0\" x2=\"73\" y2=\"86\" />\n",
       "  <line x1=\"81\" y1=\"0\" x2=\"81\" y2=\"86\" />\n",
       "  <line x1=\"86\" y1=\"0\" x2=\"86\" y2=\"86\" />\n",
       "  <line x1=\"94\" y1=\"0\" x2=\"94\" y2=\"86\" />\n",
       "  <line x1=\"99\" y1=\"0\" x2=\"99\" y2=\"86\" />\n",
       "  <line x1=\"107\" y1=\"0\" x2=\"107\" y2=\"86\" />\n",
       "  <line x1=\"112\" y1=\"0\" x2=\"112\" y2=\"86\" />\n",
       "  <line x1=\"120\" y1=\"0\" x2=\"120\" y2=\"86\" style=\"stroke-width:2\" />\n",
       "\n",
       "  <!-- Colored Rectangle -->\n",
       "  <polygon points=\"0.0,0.0 120.0,0.0 120.0,86.53161534950672 0.0,86.53161534950672\" style=\"fill:#8B4903A0;stroke-width:0\"/>\n",
       "\n",
       "  <!-- Text -->\n",
       "  <text x=\"60.000000\" y=\"106.531615\" font-size=\"1.0rem\" font-weight=\"100\" text-anchor=\"middle\" >28483</text>\n",
       "  <text x=\"140.000000\" y=\"43.265808\" font-size=\"1.0rem\" font-weight=\"100\" text-anchor=\"middle\" transform=\"rotate(-90,140.000000,43.265808)\">20539</text>\n",
       "</svg>\n",
       "        </td>\n",
       "    </tr>\n",
       "</table>"
      ],
      "text/plain": [
       "dask.array<from-zarr, shape=(20539, 28483), dtype=uint16, chunksize=(1024, 1024), chunktype=numpy.ndarray>"
      ]
     },
     "execution_count": 54,
     "metadata": {},
     "output_type": "execute_result"
    }
   ],
   "source": [
    "da.from_zarr(zipstore)"
   ]
  },
  {
   "cell_type": "code",
   "execution_count": 50,
   "metadata": {},
   "outputs": [
    {
     "data": {
      "text/plain": [
       "<zarr.core.Array (20539, 28483) uint16>"
      ]
     },
     "execution_count": 50,
     "metadata": {},
     "output_type": "execute_result"
    }
   ],
   "source": [
    "store"
   ]
  },
  {
   "cell_type": "code",
   "execution_count": 51,
   "metadata": {},
   "outputs": [
    {
     "data": {
      "text/plain": [
       "{'blubbzip': 3434}"
      ]
     },
     "execution_count": 51,
     "metadata": {},
     "output_type": "execute_result"
    }
   ],
   "source": [
    "store.attrs.asdict()"
   ]
  },
  {
   "cell_type": "code",
   "execution_count": 25,
   "metadata": {},
   "outputs": [],
   "source": [
    "zipstore.close()"
   ]
  },
  {
   "cell_type": "code",
   "execution_count": 26,
   "metadata": {},
   "outputs": [
    {
     "data": {
      "text/plain": [
       "{'blubbzip': 3434}"
      ]
     },
     "execution_count": 26,
     "metadata": {},
     "output_type": "execute_result"
    }
   ],
   "source": [
    "store.attrs.asdict()"
   ]
  },
  {
   "cell_type": "code",
   "execution_count": 30,
   "metadata": {},
   "outputs": [
    {
     "data": {
      "text/plain": [
       "<zarr.attrs.Attributes at 0x1bd88148e80>"
      ]
     },
     "execution_count": 30,
     "metadata": {},
     "output_type": "execute_result"
    }
   ],
   "source": [
    "store.attrs"
   ]
  },
  {
   "cell_type": "code",
   "execution_count": 33,
   "metadata": {},
   "outputs": [],
   "source": [
    "savepath = Path(\"tmp/savetest\")"
   ]
  },
  {
   "cell_type": "code",
   "execution_count": 31,
   "metadata": {},
   "outputs": [
    {
     "name": "stderr",
     "output_type": "stream",
     "text": [
      "c:\\Users\\ge37voy\\AppData\\Local\\miniconda3\\envs\\insitupy\\lib\\zipfile.py:1514: UserWarning: Duplicate name: '.zattrs'\n",
      "  return self._open_to_write(zinfo, force_zip64=force_zip64)\n"
     ]
    }
   ],
   "source": [
    "xd.save(savepath, overwrite=True)"
   ]
  },
  {
   "cell_type": "code",
   "execution_count": 58,
   "metadata": {},
   "outputs": [
    {
     "data": {
      "text/plain": [
       "{'file': 'morphology_mip.ome.tif',\n",
       " 'shape': (20539, 28483),\n",
       " 'subresolutions': 6,\n",
       " 'axes': 'YX',\n",
       " 'OME': {'xmlns': 'http://www.openmicroscopy.org/Schemas/OME/2016-06',\n",
       "  'xmlns:xsi': 'http://www.w3.org/2001/XMLSchema-instance',\n",
       "  'Creator': 'tifffile.py 2022.10.10',\n",
       "  'UUID': 'urn:uuid:82c8f6e2-b198-11ee-96eb-3cecefcca217',\n",
       "  'xsi:schemaLocation': 'http://www.openmicroscopy.org/Schemas/OME/2016-06 http://www.openmicroscopy.org/Schemas/OME/2016-06/ome.xsd',\n",
       "  'Plate': {'ID': 'Plate:1',\n",
       "   'WellOriginX': '-0.0',\n",
       "   'WellOriginXUnit': 'µm',\n",
       "   'WellOriginY': '-0.0',\n",
       "   'WellOriginYUnit': 'µm'},\n",
       "  'Instrument': {'ID': 'Instrument:1',\n",
       "   'Microscope': {'Manufacturer': '10x Genomics', 'Model': 'Xenium'}},\n",
       "  'Image': {'ID': 'Image:0',\n",
       "   'Name': 'Image0',\n",
       "   'InstrumentRef': {'ID': 'Instrument:1'},\n",
       "   'Pixels': {'DimensionOrder': 'XYZCT',\n",
       "    'ID': 'Pixels:0',\n",
       "    'SizeC': '1',\n",
       "    'SizeT': '1',\n",
       "    'SizeX': '28483',\n",
       "    'SizeY': '20539',\n",
       "    'SizeZ': '1',\n",
       "    'Type': 'uint16',\n",
       "    'PhysicalSizeX': '0.2125',\n",
       "    'PhysicalSizeY': '0.2125',\n",
       "    'Channel': {'ID': 'Channel:0:0', 'Name': 'DAPI', 'SamplesPerPixel': '1'},\n",
       "    'TiffData': {'PlaneCount': '1'}}}},\n",
       " 'rgb': False,\n",
       " 'contrast_limits': (0, 7654),\n",
       " 'pixel_size': 0.2125}"
      ]
     },
     "execution_count": 58,
     "metadata": {},
     "output_type": "execute_result"
    }
   ],
   "source": [
    "xd.images.metadata['nuclei']"
   ]
  },
  {
   "cell_type": "code",
   "execution_count": 36,
   "metadata": {},
   "outputs": [],
   "source": [
    "imgpath = savepath / \"images/morphology_mip.zarr.zip\""
   ]
  },
  {
   "cell_type": "code",
   "execution_count": 39,
   "metadata": {},
   "outputs": [],
   "source": [
    "reloaded = da.from_zarr(imgpath)"
   ]
  },
  {
   "cell_type": "code",
   "execution_count": 45,
   "metadata": {},
   "outputs": [
    {
     "name": "stdout",
     "output_type": "stream",
     "text": [
      "{'OME': {'Creator': 'tifffile.py 2022.10.10', 'Image': {'ID': 'Image:0', 'InstrumentRef': {'ID': 'Instrument:1'}, 'Name': 'Image0', 'Pixels': {'Channel': {'ID': 'Channel:0:0', 'Name': 'DAPI', 'SamplesPerPixel': '1'}, 'DimensionOrder': 'XYZCT', 'ID': 'Pixels:0', 'PhysicalSizeX': '0.2125', 'PhysicalSizeY': '0.2125', 'SizeC': '1', 'SizeT': '1', 'SizeX': '28483', 'SizeY': '20539', 'SizeZ': '1', 'TiffData': {'PlaneCount': '1'}, 'Type': 'uint16'}}, 'Instrument': {'ID': 'Instrument:1', 'Microscope': {'Manufacturer': '10x Genomics', 'Model': 'Xenium'}}, 'Plate': {'ID': 'Plate:1', 'WellOriginX': '-0.0', 'WellOriginXUnit': 'µm', 'WellOriginY': '-0.0', 'WellOriginYUnit': 'µm'}, 'UUID': 'urn:uuid:82c8f6e2-b198-11ee-96eb-3cecefcca217', 'xmlns': 'http://www.openmicroscopy.org/Schemas/OME/2016-06', 'xmlns:xsi': 'http://www.w3.org/2001/XMLSchema-instance', 'xsi:schemaLocation': 'http://www.openmicroscopy.org/Schemas/OME/2016-06 http://www.openmicroscopy.org/Schemas/OME/2016-06/ome.xsd'}, 'axes': 'YX', 'contrast_limits': [0, 7654], 'file': 'morphology_mip.ome.tif', 'pixel_size': 0.2125, 'rgb': False, 'shape': [20539, 28483], 'subresolutions': 6}\n"
     ]
    }
   ],
   "source": [
    "with zarr.ZipStore(imgpath, mode=\"r\") as zipstore:\n",
    "    # open store\n",
    "    store = zarr.open(zipstore)\n",
    "    print(store.attrs.asdict())"
   ]
  },
  {
   "cell_type": "code",
   "execution_count": 48,
   "metadata": {},
   "outputs": [
    {
     "data": {
      "text/plain": [
       "'zarr.zip'"
      ]
     },
     "execution_count": 48,
     "metadata": {},
     "output_type": "execute_result"
    }
   ],
   "source": [
    "imgpath.name.split(\".\", maxsplit=1)[-1]"
   ]
  },
  {
   "cell_type": "code",
   "execution_count": 42,
   "metadata": {},
   "outputs": [
    {
     "ename": "AttributeError",
     "evalue": "'Array' object has no attribute 'attrs'",
     "output_type": "error",
     "traceback": [
      "\u001b[1;31m---------------------------------------------------------------------------\u001b[0m",
      "\u001b[1;31mAttributeError\u001b[0m                            Traceback (most recent call last)",
      "Cell \u001b[1;32mIn[42], line 1\u001b[0m\n\u001b[1;32m----> 1\u001b[0m \u001b[43mreloaded\u001b[49m\u001b[38;5;241;43m.\u001b[39;49m\u001b[43mattrs\u001b[49m\n",
      "\u001b[1;31mAttributeError\u001b[0m: 'Array' object has no attribute 'attrs'"
     ]
    }
   ],
   "source": [
    "reloaded.attrs"
   ]
  },
  {
   "cell_type": "code",
   "execution_count": null,
   "metadata": {},
   "outputs": [
    {
     "ename": "AttributeError",
     "evalue": "'DirectoryStore' object has no attribute 'attrs'",
     "output_type": "error",
     "traceback": [
      "\u001b[1;31m---------------------------------------------------------------------------\u001b[0m\n",
      "\u001b[1;31mAttributeError\u001b[0m                            Traceback (most recent call last)\n",
      "Cell \u001b[1;32mIn[23], line 2\u001b[0m\n",
      "\u001b[0;32m      1\u001b[0m \u001b[38;5;28;01mwith\u001b[39;00m zarr\u001b[38;5;241m.\u001b[39mDirectoryStore(unzipped) \u001b[38;5;28;01mas\u001b[39;00m store:\n",
      "\u001b[1;32m----> 2\u001b[0m     \u001b[43mstore\u001b[49m\u001b[38;5;241;43m.\u001b[39;49m\u001b[43mattrs\u001b[49m[\u001b[38;5;124m\"\u001b[39m\u001b[38;5;124mblubb\u001b[39m\u001b[38;5;124m\"\u001b[39m] \u001b[38;5;241m=\u001b[39m \u001b[38;5;241m234\u001b[39m\n",
      "\n",
      "\u001b[1;31mAttributeError\u001b[0m: 'DirectoryStore' object has no attribute 'attrs'"
     ]
    }
   ],
   "source": [
    "with zarr.DirectoryStore(unzipped) as store:\n",
    "    store.attrs[\"blubb\"] = 234"
   ]
  },
  {
   "cell_type": "code",
   "execution_count": null,
   "metadata": {},
   "outputs": [],
   "source": []
  },
  {
   "cell_type": "code",
   "execution_count": null,
   "metadata": {},
   "outputs": [],
   "source": [
    "store = zarr.ZipStore(\"tmp/testtest.zarr.zip\", mode=\"w\")"
   ]
  },
  {
   "cell_type": "code",
   "execution_count": null,
   "metadata": {},
   "outputs": [],
   "source": [
    "g = zarr.group(store)"
   ]
  },
  {
   "cell_type": "code",
   "execution_count": null,
   "metadata": {},
   "outputs": [],
   "source": [
    "g.attrs[\"check\"] = 42"
   ]
  },
  {
   "cell_type": "code",
   "execution_count": null,
   "metadata": {},
   "outputs": [],
   "source": [
    "store.close()"
   ]
  },
  {
   "cell_type": "code",
   "execution_count": null,
   "metadata": {},
   "outputs": [],
   "source": [
    "read = zarr.ZipStore(\"tmp/testtest.zarr.zip\", mode=\"r\")"
   ]
  },
  {
   "cell_type": "code",
   "execution_count": null,
   "metadata": {},
   "outputs": [
    {
     "data": {
      "text/plain": [
       "42"
      ]
     },
     "metadata": {},
     "output_type": "display_data"
    }
   ],
   "source": [
    "zarr.open(read).attrs[\"check\"]"
   ]
  },
  {
   "cell_type": "markdown",
   "metadata": {},
   "source": [
    "# As shown above I was able to set the attributes in a ZipStore!!!"
   ]
  },
  {
   "cell_type": "code",
   "execution_count": null,
   "metadata": {},
   "outputs": [],
   "source": []
  },
  {
   "cell_type": "code",
   "execution_count": null,
   "metadata": {},
   "outputs": [],
   "source": [
    "store = zarr.group()"
   ]
  },
  {
   "cell_type": "code",
   "execution_count": null,
   "metadata": {},
   "outputs": [
    {
     "data": {
      "text/plain": [
       "<zarr.hierarchy.Group '/'>"
      ]
     },
     "metadata": {},
     "output_type": "display_data"
    }
   ],
   "source": [
    "store"
   ]
  },
  {
   "cell_type": "code",
   "execution_count": null,
   "metadata": {},
   "outputs": [
    {
     "data": {
      "text/plain": [
       "<zarr.attrs.Attributes at 0x1a129ea1e20>"
      ]
     },
     "metadata": {},
     "output_type": "display_data"
    }
   ],
   "source": [
    "store.attrs"
   ]
  },
  {
   "cell_type": "code",
   "execution_count": null,
   "metadata": {},
   "outputs": [
    {
     "ename": "AttributeError",
     "evalue": "'ZipStore' object has no attribute 'group'",
     "output_type": "error",
     "traceback": [
      "\u001b[1;31m---------------------------------------------------------------------------\u001b[0m\n",
      "\u001b[1;31mAttributeError\u001b[0m                            Traceback (most recent call last)\n",
      "Cell \u001b[1;32mIn[11], line 1\u001b[0m\n",
      "\u001b[1;32m----> 1\u001b[0m \u001b[43mstore\u001b[49m\u001b[38;5;241;43m.\u001b[39;49m\u001b[43mgroup\u001b[49m()\n",
      "\n",
      "\u001b[1;31mAttributeError\u001b[0m: 'ZipStore' object has no attribute 'group'"
     ]
    }
   ],
   "source": [
    "store.group()"
   ]
  },
  {
   "cell_type": "code",
   "execution_count": null,
   "metadata": {},
   "outputs": [],
   "source": [
    "attrs = zarr.attrs.Attributes(store=store)"
   ]
  },
  {
   "cell_type": "code",
   "execution_count": null,
   "metadata": {},
   "outputs": [],
   "source": [
    "attrs[\"blubb\"] = 234"
   ]
  },
  {
   "cell_type": "code",
   "execution_count": null,
   "metadata": {},
   "outputs": [],
   "source": [
    "store.close()"
   ]
  },
  {
   "cell_type": "code",
   "execution_count": null,
   "metadata": {},
   "outputs": [],
   "source": [
    "store = zarr.ZipStore(\"tmp/testtest.zarr.zip\", mode=\"r\")"
   ]
  },
  {
   "cell_type": "code",
   "execution_count": null,
   "metadata": {},
   "outputs": [
    {
     "ename": "ContainsGroupError",
     "evalue": "path '' contains a group",
     "output_type": "error",
     "traceback": [
      "\u001b[1;31m---------------------------------------------------------------------------\u001b[0m\n",
      "\u001b[1;31mContainsGroupError\u001b[0m                        Traceback (most recent call last)\n",
      "Cell \u001b[1;32mIn[66], line 6\u001b[0m\n",
      "\u001b[0;32m      3\u001b[0m     \u001b[38;5;28;01mfor\u001b[39;00m k,v \u001b[38;5;129;01min\u001b[39;00m xd\u001b[38;5;241m.\u001b[39mimages\u001b[38;5;241m.\u001b[39mmetadata\u001b[38;5;241m.\u001b[39mitems():\n",
      "\u001b[0;32m      4\u001b[0m         s\u001b[38;5;241m.\u001b[39mattrs[k] \u001b[38;5;241m=\u001b[39m v\n",
      "\u001b[1;32m----> 6\u001b[0m \u001b[43mimg\u001b[49m\u001b[38;5;241;43m.\u001b[39;49m\u001b[43mto_zarr\u001b[49m\u001b[43m(\u001b[49m\u001b[43mstore\u001b[49m\u001b[43m)\u001b[49m\n",
      "\n",
      "File \u001b[1;32mc:\\Users\\ge37voy\\AppData\\Local\\miniconda3\\envs\\insitupy\\lib\\site-packages\\dask\\array\\core.py:2948\u001b[0m, in \u001b[0;36mArray.to_zarr\u001b[1;34m(self, *args, **kwargs)\u001b[0m\n",
      "\u001b[0;32m   2937\u001b[0m \u001b[38;5;28;01mdef\u001b[39;00m \u001b[38;5;21mto_zarr\u001b[39m(\u001b[38;5;28mself\u001b[39m, \u001b[38;5;241m*\u001b[39margs, \u001b[38;5;241m*\u001b[39m\u001b[38;5;241m*\u001b[39mkwargs):\n",
      "\u001b[0;32m   2938\u001b[0m \u001b[38;5;250m    \u001b[39m\u001b[38;5;124;03m\"\"\"Save array to the zarr storage format\u001b[39;00m\n",
      "\u001b[0;32m   2939\u001b[0m \n",
      "\u001b[0;32m   2940\u001b[0m \u001b[38;5;124;03m    See https://zarr.readthedocs.io for details about the format.\u001b[39;00m\n",
      "\u001b[1;32m   (...)\u001b[0m\n",
      "\u001b[0;32m   2946\u001b[0m \u001b[38;5;124;03m    dask.array.to_zarr : equivalent function\u001b[39;00m\n",
      "\u001b[0;32m   2947\u001b[0m \u001b[38;5;124;03m    \"\"\"\u001b[39;00m\n",
      "\u001b[1;32m-> 2948\u001b[0m     \u001b[38;5;28;01mreturn\u001b[39;00m to_zarr(\u001b[38;5;28mself\u001b[39m, \u001b[38;5;241m*\u001b[39margs, \u001b[38;5;241m*\u001b[39m\u001b[38;5;241m*\u001b[39mkwargs)\n",
      "\n",
      "File \u001b[1;32mc:\\Users\\ge37voy\\AppData\\Local\\miniconda3\\envs\\insitupy\\lib\\site-packages\\dask\\array\\core.py:3716\u001b[0m, in \u001b[0;36mto_zarr\u001b[1;34m(arr, url, component, storage_options, overwrite, region, compute, return_stored, **kwargs)\u001b[0m\n",
      "\u001b[0;32m   3712\u001b[0m     store \u001b[38;5;241m=\u001b[39m url\n",
      "\u001b[0;32m   3714\u001b[0m chunks \u001b[38;5;241m=\u001b[39m [c[\u001b[38;5;241m0\u001b[39m] \u001b[38;5;28;01mfor\u001b[39;00m c \u001b[38;5;129;01min\u001b[39;00m arr\u001b[38;5;241m.\u001b[39mchunks]\n",
      "\u001b[1;32m-> 3716\u001b[0m z \u001b[38;5;241m=\u001b[39m zarr\u001b[38;5;241m.\u001b[39mcreate(\n",
      "\u001b[0;32m   3717\u001b[0m     shape\u001b[38;5;241m=\u001b[39marr\u001b[38;5;241m.\u001b[39mshape,\n",
      "\u001b[0;32m   3718\u001b[0m     chunks\u001b[38;5;241m=\u001b[39mchunks,\n",
      "\u001b[0;32m   3719\u001b[0m     dtype\u001b[38;5;241m=\u001b[39marr\u001b[38;5;241m.\u001b[39mdtype,\n",
      "\u001b[0;32m   3720\u001b[0m     store\u001b[38;5;241m=\u001b[39mstore,\n",
      "\u001b[0;32m   3721\u001b[0m     path\u001b[38;5;241m=\u001b[39mcomponent,\n",
      "\u001b[0;32m   3722\u001b[0m     overwrite\u001b[38;5;241m=\u001b[39moverwrite,\n",
      "\u001b[0;32m   3723\u001b[0m     \u001b[38;5;241m*\u001b[39m\u001b[38;5;241m*\u001b[39mkwargs,\n",
      "\u001b[0;32m   3724\u001b[0m )\n",
      "\u001b[0;32m   3725\u001b[0m \u001b[38;5;28;01mreturn\u001b[39;00m arr\u001b[38;5;241m.\u001b[39mstore(z, lock\u001b[38;5;241m=\u001b[39m\u001b[38;5;28;01mFalse\u001b[39;00m, compute\u001b[38;5;241m=\u001b[39mcompute, return_stored\u001b[38;5;241m=\u001b[39mreturn_stored)\n",
      "\n",
      "File \u001b[1;32mc:\\Users\\ge37voy\\AppData\\Local\\miniconda3\\envs\\insitupy\\lib\\site-packages\\zarr\\creation.py:203\u001b[0m, in \u001b[0;36mcreate\u001b[1;34m(shape, chunks, dtype, compressor, fill_value, order, store, synchronizer, overwrite, path, chunk_store, filters, cache_metadata, cache_attrs, read_only, object_codec, dimension_separator, write_empty_chunks, zarr_version, meta_array, storage_transformers, **kwargs)\u001b[0m\n",
      "\u001b[0;32m    200\u001b[0m     path \u001b[38;5;241m=\u001b[39m \u001b[38;5;124m\"\u001b[39m\u001b[38;5;124m/\u001b[39m\u001b[38;5;124m\"\u001b[39m\n",
      "\u001b[0;32m    202\u001b[0m \u001b[38;5;66;03m# initialize array metadata\u001b[39;00m\n",
      "\u001b[1;32m--> 203\u001b[0m \u001b[43minit_array\u001b[49m\u001b[43m(\u001b[49m\n",
      "\u001b[0;32m    204\u001b[0m \u001b[43m    \u001b[49m\u001b[43mstore\u001b[49m\u001b[43m,\u001b[49m\n",
      "\u001b[0;32m    205\u001b[0m \u001b[43m    \u001b[49m\u001b[43mshape\u001b[49m\u001b[38;5;241;43m=\u001b[39;49m\u001b[43mshape\u001b[49m\u001b[43m,\u001b[49m\n",
      "\u001b[0;32m    206\u001b[0m \u001b[43m    \u001b[49m\u001b[43mchunks\u001b[49m\u001b[38;5;241;43m=\u001b[39;49m\u001b[43mchunks\u001b[49m\u001b[43m,\u001b[49m\n",
      "\u001b[0;32m    207\u001b[0m \u001b[43m    \u001b[49m\u001b[43mdtype\u001b[49m\u001b[38;5;241;43m=\u001b[39;49m\u001b[43mdtype\u001b[49m\u001b[43m,\u001b[49m\n",
      "\u001b[0;32m    208\u001b[0m \u001b[43m    \u001b[49m\u001b[43mcompressor\u001b[49m\u001b[38;5;241;43m=\u001b[39;49m\u001b[43mcompressor\u001b[49m\u001b[43m,\u001b[49m\n",
      "\u001b[0;32m    209\u001b[0m \u001b[43m    \u001b[49m\u001b[43mfill_value\u001b[49m\u001b[38;5;241;43m=\u001b[39;49m\u001b[43mfill_value\u001b[49m\u001b[43m,\u001b[49m\n",
      "\u001b[0;32m    210\u001b[0m \u001b[43m    \u001b[49m\u001b[43morder\u001b[49m\u001b[38;5;241;43m=\u001b[39;49m\u001b[43morder\u001b[49m\u001b[43m,\u001b[49m\n",
      "\u001b[0;32m    211\u001b[0m \u001b[43m    \u001b[49m\u001b[43moverwrite\u001b[49m\u001b[38;5;241;43m=\u001b[39;49m\u001b[43moverwrite\u001b[49m\u001b[43m,\u001b[49m\n",
      "\u001b[0;32m    212\u001b[0m \u001b[43m    \u001b[49m\u001b[43mpath\u001b[49m\u001b[38;5;241;43m=\u001b[39;49m\u001b[43mpath\u001b[49m\u001b[43m,\u001b[49m\n",
      "\u001b[0;32m    213\u001b[0m \u001b[43m    \u001b[49m\u001b[43mchunk_store\u001b[49m\u001b[38;5;241;43m=\u001b[39;49m\u001b[43mchunk_store\u001b[49m\u001b[43m,\u001b[49m\n",
      "\u001b[0;32m    214\u001b[0m \u001b[43m    \u001b[49m\u001b[43mfilters\u001b[49m\u001b[38;5;241;43m=\u001b[39;49m\u001b[43mfilters\u001b[49m\u001b[43m,\u001b[49m\n",
      "\u001b[0;32m    215\u001b[0m \u001b[43m    \u001b[49m\u001b[43mobject_codec\u001b[49m\u001b[38;5;241;43m=\u001b[39;49m\u001b[43mobject_codec\u001b[49m\u001b[43m,\u001b[49m\n",
      "\u001b[0;32m    216\u001b[0m \u001b[43m    \u001b[49m\u001b[43mdimension_separator\u001b[49m\u001b[38;5;241;43m=\u001b[39;49m\u001b[43mdimension_separator\u001b[49m\u001b[43m,\u001b[49m\n",
      "\u001b[0;32m    217\u001b[0m \u001b[43m    \u001b[49m\u001b[43mstorage_transformers\u001b[49m\u001b[38;5;241;43m=\u001b[39;49m\u001b[43mstorage_transformers\u001b[49m\u001b[43m,\u001b[49m\n",
      "\u001b[0;32m    218\u001b[0m \u001b[43m\u001b[49m\u001b[43m)\u001b[49m\n",
      "\u001b[0;32m    220\u001b[0m \u001b[38;5;66;03m# instantiate array\u001b[39;00m\n",
      "\u001b[0;32m    221\u001b[0m z \u001b[38;5;241m=\u001b[39m Array(\n",
      "\u001b[0;32m    222\u001b[0m     store,\n",
      "\u001b[0;32m    223\u001b[0m     path\u001b[38;5;241m=\u001b[39mpath,\n",
      "\u001b[1;32m   (...)\u001b[0m\n",
      "\u001b[0;32m    230\u001b[0m     meta_array\u001b[38;5;241m=\u001b[39mmeta_array,\n",
      "\u001b[0;32m    231\u001b[0m )\n",
      "\n",
      "File \u001b[1;32mc:\\Users\\ge37voy\\AppData\\Local\\miniconda3\\envs\\insitupy\\lib\\site-packages\\zarr\\storage.py:451\u001b[0m, in \u001b[0;36minit_array\u001b[1;34m(store, shape, chunks, dtype, compressor, fill_value, order, overwrite, path, chunk_store, filters, object_codec, dimension_separator, storage_transformers)\u001b[0m\n",
      "\u001b[0;32m    448\u001b[0m \u001b[38;5;28;01mif\u001b[39;00m \u001b[38;5;129;01mnot\u001b[39;00m compressor:\n",
      "\u001b[0;32m    449\u001b[0m     \u001b[38;5;66;03m# compatibility with legacy tests using compressor=[]\u001b[39;00m\n",
      "\u001b[0;32m    450\u001b[0m     compressor \u001b[38;5;241m=\u001b[39m \u001b[38;5;28;01mNone\u001b[39;00m\n",
      "\u001b[1;32m--> 451\u001b[0m \u001b[43m_init_array_metadata\u001b[49m\u001b[43m(\u001b[49m\n",
      "\u001b[0;32m    452\u001b[0m \u001b[43m    \u001b[49m\u001b[43mstore\u001b[49m\u001b[43m,\u001b[49m\n",
      "\u001b[0;32m    453\u001b[0m \u001b[43m    \u001b[49m\u001b[43mshape\u001b[49m\u001b[38;5;241;43m=\u001b[39;49m\u001b[43mshape\u001b[49m\u001b[43m,\u001b[49m\n",
      "\u001b[0;32m    454\u001b[0m \u001b[43m    \u001b[49m\u001b[43mchunks\u001b[49m\u001b[38;5;241;43m=\u001b[39;49m\u001b[43mchunks\u001b[49m\u001b[43m,\u001b[49m\n",
      "\u001b[0;32m    455\u001b[0m \u001b[43m    \u001b[49m\u001b[43mdtype\u001b[49m\u001b[38;5;241;43m=\u001b[39;49m\u001b[43mdtype\u001b[49m\u001b[43m,\u001b[49m\n",
      "\u001b[0;32m    456\u001b[0m \u001b[43m    \u001b[49m\u001b[43mcompressor\u001b[49m\u001b[38;5;241;43m=\u001b[39;49m\u001b[43mcompressor\u001b[49m\u001b[43m,\u001b[49m\n",
      "\u001b[0;32m    457\u001b[0m \u001b[43m    \u001b[49m\u001b[43mfill_value\u001b[49m\u001b[38;5;241;43m=\u001b[39;49m\u001b[43mfill_value\u001b[49m\u001b[43m,\u001b[49m\n",
      "\u001b[0;32m    458\u001b[0m \u001b[43m    \u001b[49m\u001b[43morder\u001b[49m\u001b[38;5;241;43m=\u001b[39;49m\u001b[43morder\u001b[49m\u001b[43m,\u001b[49m\n",
      "\u001b[0;32m    459\u001b[0m \u001b[43m    \u001b[49m\u001b[43moverwrite\u001b[49m\u001b[38;5;241;43m=\u001b[39;49m\u001b[43moverwrite\u001b[49m\u001b[43m,\u001b[49m\n",
      "\u001b[0;32m    460\u001b[0m \u001b[43m    \u001b[49m\u001b[43mpath\u001b[49m\u001b[38;5;241;43m=\u001b[39;49m\u001b[43mpath\u001b[49m\u001b[43m,\u001b[49m\n",
      "\u001b[0;32m    461\u001b[0m \u001b[43m    \u001b[49m\u001b[43mchunk_store\u001b[49m\u001b[38;5;241;43m=\u001b[39;49m\u001b[43mchunk_store\u001b[49m\u001b[43m,\u001b[49m\n",
      "\u001b[0;32m    462\u001b[0m \u001b[43m    \u001b[49m\u001b[43mfilters\u001b[49m\u001b[38;5;241;43m=\u001b[39;49m\u001b[43mfilters\u001b[49m\u001b[43m,\u001b[49m\n",
      "\u001b[0;32m    463\u001b[0m \u001b[43m    \u001b[49m\u001b[43mobject_codec\u001b[49m\u001b[38;5;241;43m=\u001b[39;49m\u001b[43mobject_codec\u001b[49m\u001b[43m,\u001b[49m\n",
      "\u001b[0;32m    464\u001b[0m \u001b[43m    \u001b[49m\u001b[43mdimension_separator\u001b[49m\u001b[38;5;241;43m=\u001b[39;49m\u001b[43mdimension_separator\u001b[49m\u001b[43m,\u001b[49m\n",
      "\u001b[0;32m    465\u001b[0m \u001b[43m    \u001b[49m\u001b[43mstorage_transformers\u001b[49m\u001b[38;5;241;43m=\u001b[39;49m\u001b[43mstorage_transformers\u001b[49m\u001b[43m,\u001b[49m\n",
      "\u001b[0;32m    466\u001b[0m \u001b[43m\u001b[49m\u001b[43m)\u001b[49m\n",
      "\n",
      "File \u001b[1;32mc:\\Users\\ge37voy\\AppData\\Local\\miniconda3\\envs\\insitupy\\lib\\site-packages\\zarr\\storage.py:523\u001b[0m, in \u001b[0;36m_init_array_metadata\u001b[1;34m(store, shape, chunks, dtype, compressor, fill_value, order, overwrite, path, chunk_store, filters, object_codec, dimension_separator, storage_transformers)\u001b[0m\n",
      "\u001b[0;32m    521\u001b[0m     \u001b[38;5;28;01mraise\u001b[39;00m ContainsArrayError(path)\n",
      "\u001b[0;32m    522\u001b[0m \u001b[38;5;28;01melif\u001b[39;00m contains_group(store, path, explicit_only\u001b[38;5;241m=\u001b[39m\u001b[38;5;28;01mFalse\u001b[39;00m):\n",
      "\u001b[1;32m--> 523\u001b[0m     \u001b[38;5;28;01mraise\u001b[39;00m ContainsGroupError(path)\n",
      "\u001b[0;32m    524\u001b[0m \u001b[38;5;28;01melif\u001b[39;00m store_version \u001b[38;5;241m==\u001b[39m \u001b[38;5;241m3\u001b[39m:\n",
      "\u001b[0;32m    525\u001b[0m     \u001b[38;5;28;01mif\u001b[39;00m \u001b[38;5;124m\"\u001b[39m\u001b[38;5;124m/\u001b[39m\u001b[38;5;124m\"\u001b[39m \u001b[38;5;129;01min\u001b[39;00m path:\n",
      "\u001b[0;32m    526\u001b[0m         \u001b[38;5;66;03m# cannot create an array within an existing array path\u001b[39;00m\n",
      "\n",
      "\u001b[1;31mContainsGroupError\u001b[0m: path '' contains a group"
     ]
    }
   ],
   "source": [
    "with zarr.ZipStore(\"tmp/testtest.zarr.zip\", mode=\"w\") as store:\n",
    "    with zarr.open(store=store) as s:\n",
    "        for k,v in xd.images.metadata.items():\n",
    "            s.attrs[k] = v\n",
    "\n",
    "    img.to_zarr(store)"
   ]
  },
  {
   "cell_type": "code",
   "execution_count": null,
   "metadata": {},
   "outputs": [
    {
     "ename": "AttributeError",
     "evalue": "'DirectoryStore' object has no attribute 'attrs'",
     "output_type": "error",
     "traceback": [
      "\u001b[1;31m---------------------------------------------------------------------------\u001b[0m\n",
      "\u001b[1;31mAttributeError\u001b[0m                            Traceback (most recent call last)\n",
      "Cell \u001b[1;32mIn[53], line 3\u001b[0m\n",
      "\u001b[0;32m      1\u001b[0m \u001b[38;5;28;01mwith\u001b[39;00m zarr\u001b[38;5;241m.\u001b[39mDirectoryStore(\u001b[38;5;124m\"\u001b[39m\u001b[38;5;124mtmp/testtest.zarr\u001b[39m\u001b[38;5;124m\"\u001b[39m) \u001b[38;5;28;01mas\u001b[39;00m store:\n",
      "\u001b[0;32m      2\u001b[0m     \u001b[38;5;28;01mfor\u001b[39;00m k,v \u001b[38;5;129;01min\u001b[39;00m xd\u001b[38;5;241m.\u001b[39mimages\u001b[38;5;241m.\u001b[39mmetadata\u001b[38;5;241m.\u001b[39mitems():\n",
      "\u001b[1;32m----> 3\u001b[0m         \u001b[43mstore\u001b[49m\u001b[38;5;241;43m.\u001b[39;49m\u001b[43mattrs\u001b[49m[k] \u001b[38;5;241m=\u001b[39m v\n",
      "\u001b[0;32m      4\u001b[0m     img\u001b[38;5;241m.\u001b[39mto_zarr(store)\n",
      "\n",
      "\u001b[1;31mAttributeError\u001b[0m: 'DirectoryStore' object has no attribute 'attrs'"
     ]
    }
   ],
   "source": [
    "with zarr.DirectoryStore(\"tmp/testtest.zarr\") as store:\n",
    "    for k,v in xd.images.metadata.items():\n",
    "        store.attrs[k] = v\n",
    "    img.to_zarr(store)"
   ]
  },
  {
   "cell_type": "code",
   "execution_count": null,
   "metadata": {},
   "outputs": [],
   "source": [
    "store = zarr.open(\"tmp/testtest.zarr\", mode=\"w\")"
   ]
  },
  {
   "cell_type": "code",
   "execution_count": null,
   "metadata": {},
   "outputs": [],
   "source": [
    "for k,v in xd.images.metadata.items():\n",
    "    store.attrs[k] = v"
   ]
  },
  {
   "cell_type": "code",
   "execution_count": null,
   "metadata": {},
   "outputs": [
    {
     "data": {
      "text/plain": [
       "zarr.hierarchy.Group"
      ]
     },
     "metadata": {},
     "output_type": "display_data"
    }
   ],
   "source": [
    "type(store)"
   ]
  },
  {
   "cell_type": "code",
   "execution_count": null,
   "metadata": {},
   "outputs": [],
   "source": [
    "store.attrs[\"blubb\"] = 42"
   ]
  },
  {
   "cell_type": "code",
   "execution_count": null,
   "metadata": {},
   "outputs": [],
   "source": [
    "img.to_zarr(\"tmp/testimg.zarr\")"
   ]
  },
  {
   "cell_type": "code",
   "execution_count": null,
   "metadata": {},
   "outputs": [],
   "source": [
    "import dask.array as da"
   ]
  },
  {
   "cell_type": "code",
   "execution_count": null,
   "metadata": {},
   "outputs": [],
   "source": [
    "savepath = \"tmp/savetest\""
   ]
  },
  {
   "cell_type": "code",
   "execution_count": null,
   "metadata": {},
   "outputs": [
    {
     "ename": "NotImplementedError",
     "evalue": "",
     "output_type": "error",
     "traceback": [
      "\u001b[1;31m---------------------------------------------------------------------------\u001b[0m\n",
      "\u001b[1;31mNotImplementedError\u001b[0m                       Traceback (most recent call last)\n",
      "Cell \u001b[1;32mIn[59], line 1\u001b[0m\n",
      "\u001b[1;32m----> 1\u001b[0m \u001b[43mxd\u001b[49m\u001b[38;5;241;43m.\u001b[39;49m\u001b[43msave\u001b[49m\u001b[43m(\u001b[49m\u001b[43msavepath\u001b[49m\u001b[43m,\u001b[49m\u001b[43m \u001b[49m\u001b[43moverwrite\u001b[49m\u001b[38;5;241;43m=\u001b[39;49m\u001b[38;5;28;43;01mTrue\u001b[39;49;00m\u001b[43m)\u001b[49m\n",
      "\n",
      "File \u001b[1;32m~\\Github\\InSituPy\\insitupy\\_core\\xeniumdata.py:1319\u001b[0m, in \u001b[0;36mXeniumData.save\u001b[1;34m(self, path, overwrite)\u001b[0m\n",
      "\u001b[0;32m   1317\u001b[0m     \u001b[38;5;28;01mpass\u001b[39;00m\n",
      "\u001b[0;32m   1318\u001b[0m \u001b[38;5;28;01melse\u001b[39;00m:\n",
      "\u001b[1;32m-> 1319\u001b[0m     \u001b[43m_save_images\u001b[49m\u001b[43m(\u001b[49m\n",
      "\u001b[0;32m   1320\u001b[0m \u001b[43m        \u001b[49m\u001b[43mimagedata\u001b[49m\u001b[38;5;241;43m=\u001b[39;49m\u001b[43mimages\u001b[49m\u001b[43m,\u001b[49m\n",
      "\u001b[0;32m   1321\u001b[0m \u001b[43m        \u001b[49m\u001b[43mpath\u001b[49m\u001b[38;5;241;43m=\u001b[39;49m\u001b[43mpath_stem\u001b[49m\u001b[43m,\u001b[49m\n",
      "\u001b[0;32m   1322\u001b[0m \u001b[43m        \u001b[49m\u001b[43mmetadata\u001b[49m\u001b[38;5;241;43m=\u001b[39;49m\u001b[43mmetadata\u001b[49m\u001b[43m,\u001b[49m\n",
      "\u001b[0;32m   1323\u001b[0m \u001b[43m        \u001b[49m\u001b[43mimages_as_zarr\u001b[49m\u001b[38;5;241;43m=\u001b[39;49m\u001b[38;5;28;43;01mTrue\u001b[39;49;00m\n",
      "\u001b[0;32m   1324\u001b[0m \u001b[43m        \u001b[49m\u001b[43m)\u001b[49m\n",
      "\u001b[0;32m   1326\u001b[0m \u001b[38;5;66;03m# save cells\u001b[39;00m\n",
      "\u001b[0;32m   1327\u001b[0m \u001b[38;5;28;01mtry\u001b[39;00m:\n",
      "\n",
      "File \u001b[1;32m~\\Github\\InSituPy\\insitupy\\_core\\_save.py:40\u001b[0m, in \u001b[0;36m_save_images\u001b[1;34m(imagedata, path, metadata, images_as_zarr)\u001b[0m\n",
      "\u001b[0;32m     37\u001b[0m img\u001b[38;5;241m.\u001b[39mto_zarr(store)\n",
      "\u001b[0;32m     39\u001b[0m \u001b[38;5;66;03m# save metadata in zarr store\u001b[39;00m\n",
      "\u001b[1;32m---> 40\u001b[0m \u001b[38;5;28;01mwith\u001b[39;00m \u001b[43mzarr\u001b[49m\u001b[38;5;241;43m.\u001b[39;49m\u001b[43mopen\u001b[49m\u001b[43m(\u001b[49m\u001b[43mstore\u001b[49m\u001b[43m,\u001b[49m\u001b[43m \u001b[49m\u001b[43mmode\u001b[49m\u001b[38;5;241;43m=\u001b[39;49m\u001b[38;5;124;43m\"\u001b[39;49m\u001b[38;5;124;43mw\u001b[39;49m\u001b[38;5;124;43m\"\u001b[39;49m\u001b[43m)\u001b[49m \u001b[38;5;28;01mas\u001b[39;00m s:\n",
      "\u001b[0;32m     41\u001b[0m     \u001b[38;5;28;01mfor\u001b[39;00m k,v \u001b[38;5;129;01min\u001b[39;00m img_metadata\u001b[38;5;241m.\u001b[39mitems():\n",
      "\u001b[0;32m     42\u001b[0m         s\u001b[38;5;241m.\u001b[39mattrs[k] \u001b[38;5;241m=\u001b[39m v\n",
      "\n",
      "File \u001b[1;32mc:\\Users\\ge37voy\\AppData\\Local\\miniconda3\\envs\\insitupy\\lib\\site-packages\\zarr\\convenience.py:116\u001b[0m, in \u001b[0;36mopen\u001b[1;34m(store, mode, zarr_version, path, **kwargs)\u001b[0m\n",
      "\u001b[0;32m    114\u001b[0m         \u001b[38;5;28;01mreturn\u001b[39;00m open_array(_store, mode\u001b[38;5;241m=\u001b[39mmode, \u001b[38;5;241m*\u001b[39m\u001b[38;5;241m*\u001b[39mkwargs)\n",
      "\u001b[0;32m    115\u001b[0m     \u001b[38;5;28;01melse\u001b[39;00m:\n",
      "\u001b[1;32m--> 116\u001b[0m         \u001b[38;5;28;01mreturn\u001b[39;00m open_group(_store, mode\u001b[38;5;241m=\u001b[39mmode, \u001b[38;5;241m*\u001b[39m\u001b[38;5;241m*\u001b[39mkwargs)\n",
      "\u001b[0;32m    118\u001b[0m \u001b[38;5;28;01melif\u001b[39;00m mode \u001b[38;5;241m==\u001b[39m \u001b[38;5;124m\"\u001b[39m\u001b[38;5;124ma\u001b[39m\u001b[38;5;124m\"\u001b[39m:\n",
      "\u001b[0;32m    119\u001b[0m     \u001b[38;5;28;01mif\u001b[39;00m \u001b[38;5;124m\"\u001b[39m\u001b[38;5;124mshape\u001b[39m\u001b[38;5;124m\"\u001b[39m \u001b[38;5;129;01min\u001b[39;00m kwargs \u001b[38;5;129;01mor\u001b[39;00m contains_array(_store, path):\n",
      "\n",
      "File \u001b[1;32mc:\\Users\\ge37voy\\AppData\\Local\\miniconda3\\envs\\insitupy\\lib\\site-packages\\zarr\\hierarchy.py:1535\u001b[0m, in \u001b[0;36mopen_group\u001b[1;34m(store, mode, cache_attrs, synchronizer, path, chunk_store, storage_options, zarr_version, meta_array)\u001b[0m\n",
      "\u001b[0;32m   1532\u001b[0m         \u001b[38;5;28;01mraise\u001b[39;00m GroupNotFoundError(path)\n",
      "\u001b[0;32m   1534\u001b[0m \u001b[38;5;28;01melif\u001b[39;00m mode \u001b[38;5;241m==\u001b[39m \u001b[38;5;124m\"\u001b[39m\u001b[38;5;124mw\u001b[39m\u001b[38;5;124m\"\u001b[39m:\n",
      "\u001b[1;32m-> 1535\u001b[0m     \u001b[43minit_group\u001b[49m\u001b[43m(\u001b[49m\u001b[43mstore\u001b[49m\u001b[43m,\u001b[49m\u001b[43m \u001b[49m\u001b[43moverwrite\u001b[49m\u001b[38;5;241;43m=\u001b[39;49m\u001b[38;5;28;43;01mTrue\u001b[39;49;00m\u001b[43m,\u001b[49m\u001b[43m \u001b[49m\u001b[43mpath\u001b[49m\u001b[38;5;241;43m=\u001b[39;49m\u001b[43mpath\u001b[49m\u001b[43m,\u001b[49m\u001b[43m \u001b[49m\u001b[43mchunk_store\u001b[49m\u001b[38;5;241;43m=\u001b[39;49m\u001b[43mchunk_store\u001b[49m\u001b[43m)\u001b[49m\n",
      "\u001b[0;32m   1537\u001b[0m \u001b[38;5;28;01melif\u001b[39;00m mode \u001b[38;5;241m==\u001b[39m \u001b[38;5;124m\"\u001b[39m\u001b[38;5;124ma\u001b[39m\u001b[38;5;124m\"\u001b[39m:\n",
      "\u001b[0;32m   1538\u001b[0m     \u001b[38;5;28;01mif\u001b[39;00m \u001b[38;5;129;01mnot\u001b[39;00m contains_group(store, path\u001b[38;5;241m=\u001b[39mpath):\n",
      "\n",
      "File \u001b[1;32mc:\\Users\\ge37voy\\AppData\\Local\\miniconda3\\envs\\insitupy\\lib\\site-packages\\zarr\\storage.py:675\u001b[0m, in \u001b[0;36minit_group\u001b[1;34m(store, overwrite, path, chunk_store)\u001b[0m\n",
      "\u001b[0;32m    672\u001b[0m     store[\u001b[38;5;124m\"\u001b[39m\u001b[38;5;124mzarr.json\u001b[39m\u001b[38;5;124m\"\u001b[39m] \u001b[38;5;241m=\u001b[39m store\u001b[38;5;241m.\u001b[39m_metadata_class\u001b[38;5;241m.\u001b[39mencode_hierarchy_metadata(\u001b[38;5;28;01mNone\u001b[39;00m)  \u001b[38;5;66;03m# type: ignore\u001b[39;00m\n",
      "\u001b[0;32m    674\u001b[0m \u001b[38;5;66;03m# initialise metadata\u001b[39;00m\n",
      "\u001b[1;32m--> 675\u001b[0m \u001b[43m_init_group_metadata\u001b[49m\u001b[43m(\u001b[49m\u001b[43mstore\u001b[49m\u001b[38;5;241;43m=\u001b[39;49m\u001b[43mstore\u001b[49m\u001b[43m,\u001b[49m\u001b[43m \u001b[49m\u001b[43moverwrite\u001b[49m\u001b[38;5;241;43m=\u001b[39;49m\u001b[43moverwrite\u001b[49m\u001b[43m,\u001b[49m\u001b[43m \u001b[49m\u001b[43mpath\u001b[49m\u001b[38;5;241;43m=\u001b[39;49m\u001b[43mpath\u001b[49m\u001b[43m,\u001b[49m\u001b[43m \u001b[49m\u001b[43mchunk_store\u001b[49m\u001b[38;5;241;43m=\u001b[39;49m\u001b[43mchunk_store\u001b[49m\u001b[43m)\u001b[49m\n",
      "\u001b[0;32m    677\u001b[0m \u001b[38;5;28;01mif\u001b[39;00m store_version \u001b[38;5;241m==\u001b[39m \u001b[38;5;241m3\u001b[39m:\n",
      "\u001b[0;32m    678\u001b[0m     \u001b[38;5;66;03m# TODO: Should initializing a v3 group also create a corresponding\u001b[39;00m\n",
      "\u001b[0;32m    679\u001b[0m     \u001b[38;5;66;03m#       empty folder under data/root/? I think probably not until there\u001b[39;00m\n",
      "\u001b[0;32m    680\u001b[0m     \u001b[38;5;66;03m#       is actual data written there.\u001b[39;00m\n",
      "\u001b[0;32m    681\u001b[0m     \u001b[38;5;28;01mpass\u001b[39;00m\n",
      "\n",
      "File \u001b[1;32mc:\\Users\\ge37voy\\AppData\\Local\\miniconda3\\envs\\insitupy\\lib\\site-packages\\zarr\\storage.py:698\u001b[0m, in \u001b[0;36m_init_group_metadata\u001b[1;34m(store, overwrite, path, chunk_store)\u001b[0m\n",
      "\u001b[0;32m    695\u001b[0m \u001b[38;5;28;01mif\u001b[39;00m overwrite:\n",
      "\u001b[0;32m    696\u001b[0m     \u001b[38;5;28;01mif\u001b[39;00m store_version \u001b[38;5;241m==\u001b[39m \u001b[38;5;241m2\u001b[39m:\n",
      "\u001b[0;32m    697\u001b[0m         \u001b[38;5;66;03m# attempt to delete any pre-existing items in store\u001b[39;00m\n",
      "\u001b[1;32m--> 698\u001b[0m         \u001b[43mrmdir\u001b[49m\u001b[43m(\u001b[49m\u001b[43mstore\u001b[49m\u001b[43m,\u001b[49m\u001b[43m \u001b[49m\u001b[43mpath\u001b[49m\u001b[43m)\u001b[49m\n",
      "\u001b[0;32m    699\u001b[0m         \u001b[38;5;28;01mif\u001b[39;00m chunk_store \u001b[38;5;129;01mis\u001b[39;00m \u001b[38;5;129;01mnot\u001b[39;00m \u001b[38;5;28;01mNone\u001b[39;00m:\n",
      "\u001b[0;32m    700\u001b[0m             rmdir(chunk_store, path)\n",
      "\n",
      "File \u001b[1;32mc:\\Users\\ge37voy\\AppData\\Local\\miniconda3\\envs\\insitupy\\lib\\site-packages\\zarr\\storage.py:212\u001b[0m, in \u001b[0;36mrmdir\u001b[1;34m(store, path)\u001b[0m\n",
      "\u001b[0;32m    209\u001b[0m \u001b[38;5;28;01melse\u001b[39;00m:\n",
      "\u001b[0;32m    210\u001b[0m     \u001b[38;5;66;03m# slow version, delete one key at a time\u001b[39;00m\n",
      "\u001b[0;32m    211\u001b[0m     \u001b[38;5;28;01mif\u001b[39;00m store_version \u001b[38;5;241m==\u001b[39m \u001b[38;5;241m2\u001b[39m:\n",
      "\u001b[1;32m--> 212\u001b[0m         \u001b[43m_rmdir_from_keys\u001b[49m\u001b[43m(\u001b[49m\u001b[43mstore\u001b[49m\u001b[43m,\u001b[49m\u001b[43m \u001b[49m\u001b[43mpath\u001b[49m\u001b[43m)\u001b[49m\n",
      "\u001b[0;32m    213\u001b[0m     \u001b[38;5;28;01melse\u001b[39;00m:\n",
      "\u001b[0;32m    214\u001b[0m         _rmdir_from_keys_v3(store, path)\n",
      "\n",
      "File \u001b[1;32mc:\\Users\\ge37voy\\AppData\\Local\\miniconda3\\envs\\insitupy\\lib\\site-packages\\zarr\\_storage\\store.py:628\u001b[0m, in \u001b[0;36m_rmdir_from_keys\u001b[1;34m(store, path)\u001b[0m\n",
      "\u001b[0;32m    626\u001b[0m \u001b[38;5;28;01mfor\u001b[39;00m key \u001b[38;5;129;01min\u001b[39;00m \u001b[38;5;28mlist\u001b[39m(store\u001b[38;5;241m.\u001b[39mkeys()):\n",
      "\u001b[0;32m    627\u001b[0m     \u001b[38;5;28;01mif\u001b[39;00m key\u001b[38;5;241m.\u001b[39mstartswith(prefix):\n",
      "\u001b[1;32m--> 628\u001b[0m         \u001b[38;5;28;01mdel\u001b[39;00m store[key]\n",
      "\n",
      "File \u001b[1;32mc:\\Users\\ge37voy\\AppData\\Local\\miniconda3\\envs\\insitupy\\lib\\site-packages\\zarr\\storage.py:1847\u001b[0m, in \u001b[0;36mZipStore.__delitem__\u001b[1;34m(self, key)\u001b[0m\n",
      "\u001b[0;32m   1846\u001b[0m \u001b[38;5;28;01mdef\u001b[39;00m \u001b[38;5;21m__delitem__\u001b[39m(\u001b[38;5;28mself\u001b[39m, key):\n",
      "\u001b[1;32m-> 1847\u001b[0m     \u001b[38;5;28;01mraise\u001b[39;00m \u001b[38;5;167;01mNotImplementedError\u001b[39;00m\n",
      "\n",
      "\u001b[1;31mNotImplementedError\u001b[0m: "
     ]
    }
   ],
   "source": [
    "xd.save(savepath, overwrite=True)"
   ]
  }
 ],
 "metadata": {
  "kernelspec": {
   "display_name": "Python 3 (ipykernel)",
   "language": "python",
   "name": "python3"
  },
  "language_info": {
   "codemirror_mode": {
    "name": "ipython",
    "version": 3
   },
   "file_extension": ".py",
   "mimetype": "text/x-python",
   "name": "python",
   "nbconvert_exporter": "python",
   "pygments_lexer": "ipython3",
   "version": "3.9.18"
  }
 },
 "nbformat": 4,
 "nbformat_minor": 4
}
