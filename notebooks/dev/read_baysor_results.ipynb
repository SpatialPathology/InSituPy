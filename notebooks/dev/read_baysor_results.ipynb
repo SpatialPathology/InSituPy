{
 "cells": [
  {
   "cell_type": "code",
   "execution_count": 1,
   "metadata": {},
   "outputs": [],
   "source": [
    "## The following code ensures that all functions and init files are reloaded before executions.\n",
    "%load_ext autoreload\n",
    "%autoreload 2"
   ]
  },
  {
   "cell_type": "code",
   "execution_count": 12,
   "metadata": {},
   "outputs": [],
   "source": [
    "import geopandas as gpd\n",
    "from insitupy.utils.geo import parse_geopandas\n",
    "from insitupy.utils.io import read_json\n",
    "import numpy as np\n",
    "import shapely\n",
    "import pandas as pd\n",
    "from tqdm import tqdm\n",
    "import matplotlib.pyplot as plt\n",
    "from insitupy import XeniumData\n",
    "from rasterio.features import rasterize\n",
    "from pathlib import Path"
   ]
  },
  {
   "cell_type": "code",
   "execution_count": 23,
   "metadata": {},
   "outputs": [],
   "source": [
    "jsonfile = Path(r\"C:\\Users\\ge37voy\\Downloads\\tmp\\baysor\\baysor_output-0017321__N-436-21-N__20240219__131654\\segmentation_polygons.geojson\")\n",
    "annotfile = Path(r\"C:\\Users\\ge37voy\\Github\\InSituPy\\notebooks\\demo_annotations\\annotations-slide_id__sample_id__demo2.geojson\")\n",
    "xdfile = Path(\"C:/Users/ge37voy/Downloads/tmp/test/\")"
   ]
  },
  {
   "cell_type": "code",
   "execution_count": 15,
   "metadata": {},
   "outputs": [],
   "source": [
    "d = read_json(jsonfile)\n",
    "xd = XeniumData(xdfile)"
   ]
  },
  {
   "cell_type": "code",
   "execution_count": 16,
   "metadata": {},
   "outputs": [
    {
     "name": "stdout",
     "output_type": "stream",
     "text": [
      "Reading annotations...\n",
      "No `annotations` modality found.\n",
      "Reading cells...\n",
      "Reading images...\n",
      "Reading regions...\n"
     ]
    },
    {
     "name": "stderr",
     "output_type": "stream",
     "text": [
      "c:\\Users\\ge37voy\\AppData\\Local\\miniconda3\\envs\\insitupy\\lib\\site-packages\\anndata\\__init__.py:51: FutureWarning: `anndata.read` is deprecated, use `anndata.read_h5ad` instead. `ad.read` will be removed in mid 2024.\n",
      "  warnings.warn(\n"
     ]
    },
    {
     "name": "stdout",
     "output_type": "stream",
     "text": [
      "No `regions` modality found.\n",
      "Reading transcripts...\n"
     ]
    }
   ],
   "source": [
    "xd.read_all()"
   ]
  },
  {
   "cell_type": "code",
   "execution_count": 24,
   "metadata": {},
   "outputs": [
    {
     "data": {
      "text/plain": [
       "\u001b[1m\u001b[31mXeniumData\u001b[0m\n",
       "\u001b[1mSlide ID:\u001b[0m\t0017321\n",
       "\u001b[1mSample ID:\u001b[0m\tN-436-21-N\n",
       "\u001b[1mData path:\u001b[0m\tC:\\Users\\ge37voy\\Downloads\\tmp\n",
       "\u001b[1mData folder:\u001b[0m\ttest\n",
       "\u001b[1mMetadata file:\u001b[0m\t.xeniumdata\n",
       "    ➤ \u001b[34m\u001b[1mimages\u001b[0m\n",
       "       \u001b[1mnuclei:\u001b[0m\t(1682, 1646)\n",
       "       \u001b[1mHE:\u001b[0m\t(1682, 1646, 3)\n",
       "    ➤\u001b[32m\u001b[1m cells\u001b[0m\n",
       "       \u001b[1mmatrix\u001b[0m\n",
       "           AnnData object with n_obs × n_vars = 1046 × 314\n",
       "           obs: 'transcript_counts', 'control_probe_counts', 'control_codeword_counts', 'unassigned_codeword_counts', 'deprecated_codeword_counts', 'total_counts', 'cell_area', 'nucleus_area'\n",
       "           var: 'gene_ids', 'feature_types', 'genome'\n",
       "           obsm: 'spatial'\n",
       "       \u001b[1mboundaries\u001b[0m\n",
       "           BoundariesData object with 2 entries:\n",
       "               \u001b[1mcellular\u001b[0m\n",
       "               \u001b[1mnuclear\u001b[0m\n",
       "    ➤\u001b[95m\u001b[1m transcripts\u001b[0m\n",
       "       DataFrame with shape 189588 x 10"
      ]
     },
     "execution_count": 24,
     "metadata": {},
     "output_type": "execute_result"
    }
   ],
   "source": [
    "xd"
   ]
  },
  {
   "cell_type": "code",
   "execution_count": 25,
   "metadata": {},
   "outputs": [],
   "source": [
    "savefile = xdfile.parent / \"savetest\""
   ]
  },
  {
   "cell_type": "code",
   "execution_count": null,
   "metadata": {},
   "outputs": [],
   "source": []
  },
  {
   "cell_type": "code",
   "execution_count": 21,
   "metadata": {},
   "outputs": [],
   "source": [
    "xd.show()"
   ]
  },
  {
   "cell_type": "code",
   "execution_count": 20,
   "metadata": {},
   "outputs": [
    {
     "data": {
      "text/html": [
       "<div>\n",
       "<style scoped>\n",
       "    .dataframe tbody tr th:only-of-type {\n",
       "        vertical-align: middle;\n",
       "    }\n",
       "\n",
       "    .dataframe tbody tr th {\n",
       "        vertical-align: top;\n",
       "    }\n",
       "\n",
       "    .dataframe thead th {\n",
       "        text-align: right;\n",
       "    }\n",
       "</style>\n",
       "<table border=\"1\" class=\"dataframe\">\n",
       "  <thead>\n",
       "    <tr style=\"text-align: right;\">\n",
       "      <th></th>\n",
       "      <th>cell_id</th>\n",
       "      <th>vertex_x</th>\n",
       "      <th>vertex_y</th>\n",
       "    </tr>\n",
       "  </thead>\n",
       "  <tbody>\n",
       "    <tr>\n",
       "      <th>4420</th>\n",
       "      <td>abbggcnl-1</td>\n",
       "      <td>200.757568</td>\n",
       "      <td>170.680420</td>\n",
       "    </tr>\n",
       "    <tr>\n",
       "      <th>4421</th>\n",
       "      <td>abbggcnl-1</td>\n",
       "      <td>197.995117</td>\n",
       "      <td>172.380615</td>\n",
       "    </tr>\n",
       "    <tr>\n",
       "      <th>4422</th>\n",
       "      <td>abbggcnl-1</td>\n",
       "      <td>198.632568</td>\n",
       "      <td>181.093018</td>\n",
       "    </tr>\n",
       "    <tr>\n",
       "      <th>4423</th>\n",
       "      <td>abbggcnl-1</td>\n",
       "      <td>202.457764</td>\n",
       "      <td>186.617920</td>\n",
       "    </tr>\n",
       "    <tr>\n",
       "      <th>4424</th>\n",
       "      <td>abbggcnl-1</td>\n",
       "      <td>205.857666</td>\n",
       "      <td>192.143066</td>\n",
       "    </tr>\n",
       "    <tr>\n",
       "      <th>...</th>\n",
       "      <td>...</td>\n",
       "      <td>...</td>\n",
       "      <td>...</td>\n",
       "    </tr>\n",
       "    <tr>\n",
       "      <th>594790</th>\n",
       "      <td>jedgdcjb-1</td>\n",
       "      <td>251.970215</td>\n",
       "      <td>10.030518</td>\n",
       "    </tr>\n",
       "    <tr>\n",
       "      <th>594791</th>\n",
       "      <td>jedgdcjb-1</td>\n",
       "      <td>251.757568</td>\n",
       "      <td>7.480469</td>\n",
       "    </tr>\n",
       "    <tr>\n",
       "      <th>594792</th>\n",
       "      <td>jedgdcjb-1</td>\n",
       "      <td>251.332764</td>\n",
       "      <td>5.992920</td>\n",
       "    </tr>\n",
       "    <tr>\n",
       "      <th>594793</th>\n",
       "      <td>jedgdcjb-1</td>\n",
       "      <td>247.720215</td>\n",
       "      <td>1.530518</td>\n",
       "    </tr>\n",
       "    <tr>\n",
       "      <th>594794</th>\n",
       "      <td>jedgdcjb-1</td>\n",
       "      <td>246.870117</td>\n",
       "      <td>0.680420</td>\n",
       "    </tr>\n",
       "  </tbody>\n",
       "</table>\n",
       "<p>13598 rows × 3 columns</p>\n",
       "</div>"
      ],
      "text/plain": [
       "           cell_id    vertex_x    vertex_y\n",
       "4420    abbggcnl-1  200.757568  170.680420\n",
       "4421    abbggcnl-1  197.995117  172.380615\n",
       "4422    abbggcnl-1  198.632568  181.093018\n",
       "4423    abbggcnl-1  202.457764  186.617920\n",
       "4424    abbggcnl-1  205.857666  192.143066\n",
       "...            ...         ...         ...\n",
       "594790  jedgdcjb-1  251.970215   10.030518\n",
       "594791  jedgdcjb-1  251.757568    7.480469\n",
       "594792  jedgdcjb-1  251.332764    5.992920\n",
       "594793  jedgdcjb-1  247.720215    1.530518\n",
       "594794  jedgdcjb-1  246.870117    0.680420\n",
       "\n",
       "[13598 rows x 3 columns]"
      ]
     },
     "execution_count": 20,
     "metadata": {},
     "output_type": "execute_result"
    }
   ],
   "source": [
    "xd.cells.boundaries.cellular"
   ]
  },
  {
   "cell_type": "code",
   "execution_count": 13,
   "metadata": {},
   "outputs": [],
   "source": [
    "s = Path(\"sadf/sfdsj/aökjsdf.parquet\")"
   ]
  },
  {
   "cell_type": "code",
   "execution_count": 14,
   "metadata": {},
   "outputs": [
    {
     "data": {
      "text/plain": [
       "'.parquet'"
      ]
     },
     "execution_count": 14,
     "metadata": {},
     "output_type": "execute_result"
    }
   ],
   "source": [
    "s.suffix"
   ]
  },
  {
   "cell_type": "code",
   "execution_count": 8,
   "metadata": {},
   "outputs": [
    {
     "data": {
      "text/plain": [
       "\u001b[1m\u001b[31mXeniumData\u001b[0m\n",
       "\u001b[1mSlide ID:\u001b[0m\t0017321\n",
       "\u001b[1mSample ID:\u001b[0m\tN-436-21-N\n",
       "\u001b[1mData path:\u001b[0m\tC:\\Users\\ge37voy\\Downloads\\tmp\n",
       "\u001b[1mData folder:\u001b[0m\ttest\n",
       "\u001b[1mMetadata file:\u001b[0m\t.xeniumdata\n",
       "    ➤ \u001b[34m\u001b[1mimages\u001b[0m\n",
       "       \u001b[1mnuclei:\u001b[0m\t(1682, 1646)\n",
       "       \u001b[1mHE:\u001b[0m\t(1682, 1646, 3)\n",
       "    ➤\u001b[32m\u001b[1m cells\u001b[0m\n",
       "       \u001b[1mmatrix\u001b[0m\n",
       "           AnnData object with n_obs × n_vars = 1046 × 314\n",
       "           obs: 'transcript_counts', 'control_probe_counts', 'control_codeword_counts', 'unassigned_codeword_counts', 'deprecated_codeword_counts', 'total_counts', 'cell_area', 'nucleus_area'\n",
       "           var: 'gene_ids', 'feature_types', 'genome'\n",
       "           obsm: 'spatial'\n",
       "       \u001b[1mboundaries\u001b[0m\n",
       "           Empty BoundariesData object\n",
       "    ➤\u001b[95m\u001b[1m transcripts\u001b[0m\n",
       "       DataFrame with shape 189588 x 10"
      ]
     },
     "execution_count": 8,
     "metadata": {},
     "output_type": "execute_result"
    }
   ],
   "source": [
    "xd"
   ]
  },
  {
   "cell_type": "code",
   "execution_count": 9,
   "metadata": {},
   "outputs": [
    {
     "ename": "TypeError",
     "evalue": "EmptyWidget got an unexpected keyword argument: choices",
     "output_type": "error",
     "traceback": [
      "\u001b[1;31m---------------------------------------------------------------------------\u001b[0m",
      "\u001b[1;31mTypeError\u001b[0m                                 Traceback (most recent call last)",
      "Cell \u001b[1;32mIn[9], line 1\u001b[0m\n\u001b[1;32m----> 1\u001b[0m \u001b[43mxd\u001b[49m\u001b[38;5;241;43m.\u001b[39;49m\u001b[43mshow\u001b[49m\u001b[43m(\u001b[49m\u001b[43m)\u001b[49m\n",
      "File \u001b[1;32m~\\Github\\InSituPy\\insitupy\\_core\\xeniumdata.py:1414\u001b[0m, in \u001b[0;36mXeniumData.show\u001b[1;34m(self, keys, annotation_keys, show_images, show_cells, point_size, scalebar, pixel_size, unit, cmap_annotations, grayscale_colormap, return_viewer, widgets_max_width)\u001b[0m\n\u001b[0;32m   1411\u001b[0m     \u001b[38;5;28;01mpass\u001b[39;00m\n\u001b[0;32m   1412\u001b[0m \u001b[38;5;28;01melse\u001b[39;00m:\n\u001b[0;32m   1413\u001b[0m     \u001b[38;5;66;03m# initialize the widgets\u001b[39;00m\n\u001b[1;32m-> 1414\u001b[0m     add_points_widget, locate_cells_widget, add_region_widget, add_annotations_widget, add_boundaries_widget \u001b[38;5;241m=\u001b[39m \u001b[43m_initialize_widgets\u001b[49m\u001b[43m(\u001b[49m\u001b[43mxdata\u001b[49m\u001b[38;5;241;43m=\u001b[39;49m\u001b[38;5;28;43mself\u001b[39;49m\u001b[43m)\u001b[49m\n\u001b[0;32m   1416\u001b[0m     \u001b[38;5;66;03m# add widgets to napari window\u001b[39;00m\n\u001b[0;32m   1417\u001b[0m     \u001b[38;5;28;01mif\u001b[39;00m add_points_widget \u001b[38;5;129;01mis\u001b[39;00m \u001b[38;5;129;01mnot\u001b[39;00m \u001b[38;5;28;01mNone\u001b[39;00m:\n",
      "File \u001b[1;32m~\\Github\\InSituPy\\insitupy\\_core\\_widgets.py:117\u001b[0m, in \u001b[0;36m_initialize_widgets\u001b[1;34m(xdata)\u001b[0m\n\u001b[0;32m    110\u001b[0m     \u001b[38;5;28;01mif\u001b[39;00m \u001b[38;5;28misinstance\u001b[39m(b, dask\u001b[38;5;241m.\u001b[39marray\u001b[38;5;241m.\u001b[39mcore\u001b[38;5;241m.\u001b[39mArray):\n\u001b[0;32m    111\u001b[0m         masks\u001b[38;5;241m.\u001b[39mappend(n)\n\u001b[0;32m    113\u001b[0m \u001b[43m\u001b[49m\u001b[38;5;129;43m@magicgui\u001b[39;49m\u001b[43m(\u001b[49m\n\u001b[0;32m    114\u001b[0m \u001b[43m    \u001b[49m\u001b[43mcall_button\u001b[49m\u001b[38;5;241;43m=\u001b[39;49m\u001b[38;5;124;43m'\u001b[39;49m\u001b[38;5;124;43mAdd\u001b[39;49m\u001b[38;5;124;43m'\u001b[39;49m\u001b[43m,\u001b[49m\n\u001b[0;32m    115\u001b[0m \u001b[43m    \u001b[49m\u001b[43mkey\u001b[49m\u001b[38;5;241;43m=\u001b[39;49m\u001b[43m{\u001b[49m\u001b[38;5;124;43m'\u001b[39;49m\u001b[38;5;124;43mchoices\u001b[39;49m\u001b[38;5;124;43m'\u001b[39;49m\u001b[43m:\u001b[49m\u001b[43m \u001b[49m\u001b[43mmasks\u001b[49m\u001b[43m,\u001b[49m\u001b[43m \u001b[49m\u001b[38;5;124;43m'\u001b[39;49m\u001b[38;5;124;43mlabel\u001b[39;49m\u001b[38;5;124;43m'\u001b[39;49m\u001b[43m:\u001b[49m\u001b[43m \u001b[49m\u001b[38;5;124;43m'\u001b[39;49m\u001b[38;5;124;43mMasks:\u001b[39;49m\u001b[38;5;124;43m'\u001b[39;49m\u001b[43m}\u001b[49m\n\u001b[0;32m    116\u001b[0m \u001b[43m\u001b[49m\u001b[43m)\u001b[49m\n\u001b[1;32m--> 117\u001b[0m \u001b[43m\u001b[49m\u001b[38;5;28;43;01mdef\u001b[39;49;00m\u001b[43m \u001b[49m\u001b[38;5;21;43madd_boundaries_widget\u001b[39;49m\u001b[43m(\u001b[49m\n\u001b[0;32m    118\u001b[0m \u001b[43m    \u001b[49m\u001b[43mkey\u001b[49m\n\u001b[0;32m    119\u001b[0m \u001b[43m\u001b[49m\u001b[43m)\u001b[49m\u001b[43m:\u001b[49m\n\u001b[0;32m    120\u001b[0m \u001b[43m    \u001b[49m\u001b[43mlayer_name\u001b[49m\u001b[43m \u001b[49m\u001b[38;5;241;43m=\u001b[39;49m\u001b[43m \u001b[49m\u001b[38;5;124;43mf\u001b[39;49m\u001b[38;5;124;43m\"\u001b[39;49m\u001b[38;5;124;43mmask-\u001b[39;49m\u001b[38;5;132;43;01m{\u001b[39;49;00m\u001b[43mkey\u001b[49m\u001b[38;5;132;43;01m}\u001b[39;49;00m\u001b[38;5;124;43m\"\u001b[39;49m\n\u001b[0;32m    122\u001b[0m \u001b[43m    \u001b[49m\u001b[38;5;28;43;01mif\u001b[39;49;00m\u001b[43m \u001b[49m\u001b[43mlayer_name\u001b[49m\u001b[43m \u001b[49m\u001b[38;5;129;43;01mnot\u001b[39;49;00m\u001b[43m \u001b[49m\u001b[38;5;129;43;01min\u001b[39;49;00m\u001b[43m \u001b[49m\u001b[43mviewer\u001b[49m\u001b[38;5;241;43m.\u001b[39;49m\u001b[43mlayers\u001b[49m\u001b[43m:\u001b[49m\n\u001b[0;32m    123\u001b[0m \u001b[43m        \u001b[49m\u001b[38;5;66;43;03m# get geopandas dataframe with regions\u001b[39;49;00m\n",
      "File \u001b[1;32mc:\\Users\\ge37voy\\AppData\\Local\\miniconda3\\envs\\insitupy\\lib\\site-packages\\magicgui\\type_map\\_magicgui.py:539\u001b[0m, in \u001b[0;36m_magicgui.<locals>.inner_func\u001b[1;34m(func)\u001b[0m\n\u001b[0;32m    534\u001b[0m     \u001b[38;5;28;01mreturn\u001b[39;00m MagicFactory(\n\u001b[0;32m    535\u001b[0m         func, magic_class\u001b[38;5;241m=\u001b[39mmagic_class, widget_init\u001b[38;5;241m=\u001b[39mwidget_init, \u001b[38;5;241m*\u001b[39m\u001b[38;5;241m*\u001b[39mkwargs\n\u001b[0;32m    536\u001b[0m     )\n\u001b[0;32m    537\u001b[0m \u001b[38;5;66;03m# MagicFactory is unnecessary if we are immediately instantiating the widget,\u001b[39;00m\n\u001b[0;32m    538\u001b[0m \u001b[38;5;66;03m# so we shortcut that and just return the FunctionGui here.\u001b[39;00m\n\u001b[1;32m--> 539\u001b[0m \u001b[38;5;28;01mreturn\u001b[39;00m cast(FunctionGui, magic_class(func, \u001b[38;5;241m*\u001b[39m\u001b[38;5;241m*\u001b[39mkwargs))\n",
      "File \u001b[1;32mc:\\Users\\ge37voy\\AppData\\Local\\miniconda3\\envs\\insitupy\\lib\\site-packages\\magicgui\\widgets\\_function_gui.py:197\u001b[0m, in \u001b[0;36mFunctionGui.__init__\u001b[1;34m(self, function, call_button, layout, scrollable, labels, tooltips, app, visible, auto_call, result_widget, param_options, name, persist, raise_on_unknown, **kwargs)\u001b[0m\n\u001b[0;32m    189\u001b[0m         name \u001b[38;5;241m=\u001b[39m \u001b[38;5;124mf\u001b[39m\u001b[38;5;124m\"\u001b[39m\u001b[38;5;132;01m{\u001b[39;00mfunction\u001b[38;5;241m.\u001b[39m\u001b[38;5;18m__module__\u001b[39m\u001b[38;5;132;01m}\u001b[39;00m\u001b[38;5;124m.\u001b[39m\u001b[38;5;132;01m{\u001b[39;00mfunction\u001b[38;5;241m.\u001b[39m\u001b[38;5;18m__class__\u001b[39m\u001b[38;5;132;01m}\u001b[39;00m\u001b[38;5;124m\"\u001b[39m\n\u001b[0;32m    190\u001b[0m \u001b[38;5;28mself\u001b[39m\u001b[38;5;241m.\u001b[39m_callable_name \u001b[38;5;241m=\u001b[39m name\n\u001b[0;32m    192\u001b[0m \u001b[38;5;28msuper\u001b[39m()\u001b[38;5;241m.\u001b[39m\u001b[38;5;21m__init__\u001b[39m(\n\u001b[0;32m    193\u001b[0m     layout\u001b[38;5;241m=\u001b[39mlayout,\n\u001b[0;32m    194\u001b[0m     scrollable\u001b[38;5;241m=\u001b[39mscrollable,\n\u001b[0;32m    195\u001b[0m     labels\u001b[38;5;241m=\u001b[39mlabels,\n\u001b[0;32m    196\u001b[0m     visible\u001b[38;5;241m=\u001b[39mvisible,\n\u001b[1;32m--> 197\u001b[0m     widgets\u001b[38;5;241m=\u001b[39m\u001b[38;5;28mlist\u001b[39m(\u001b[43msig\u001b[49m\u001b[38;5;241;43m.\u001b[39;49m\u001b[43mwidgets\u001b[49m\u001b[43m(\u001b[49m\u001b[43mapp\u001b[49m\u001b[43m)\u001b[49m\u001b[38;5;241m.\u001b[39mvalues()),\n\u001b[0;32m    198\u001b[0m     name\u001b[38;5;241m=\u001b[39mname \u001b[38;5;129;01mor\u001b[39;00m \u001b[38;5;28mself\u001b[39m\u001b[38;5;241m.\u001b[39m_callable_name,\n\u001b[0;32m    199\u001b[0m )\n\u001b[0;32m    200\u001b[0m \u001b[38;5;28mself\u001b[39m\u001b[38;5;241m.\u001b[39m_param_options \u001b[38;5;241m=\u001b[39m param_options\n\u001b[0;32m    201\u001b[0m \u001b[38;5;28mself\u001b[39m\u001b[38;5;241m.\u001b[39m_result_name \u001b[38;5;241m=\u001b[39m \u001b[38;5;124m\"\u001b[39m\u001b[38;5;124m\"\u001b[39m\n",
      "File \u001b[1;32mc:\\Users\\ge37voy\\AppData\\Local\\miniconda3\\envs\\insitupy\\lib\\site-packages\\magicgui\\signature.py:233\u001b[0m, in \u001b[0;36mMagicSignature.widgets\u001b[1;34m(self, app)\u001b[0m\n\u001b[0;32m    230\u001b[0m \u001b[38;5;28;01mdef\u001b[39;00m \u001b[38;5;21mwidgets\u001b[39m(\u001b[38;5;28mself\u001b[39m, app: AppRef \u001b[38;5;241m|\u001b[39m \u001b[38;5;28;01mNone\u001b[39;00m \u001b[38;5;241m=\u001b[39m \u001b[38;5;28;01mNone\u001b[39;00m) \u001b[38;5;241m-\u001b[39m\u001b[38;5;241m>\u001b[39m MappingProxyType:\n\u001b[0;32m    231\u001b[0m \u001b[38;5;250m    \u001b[39m\u001b[38;5;124;03m\"\"\"Return mapping from parameters to widgets for all params in Signature.\"\"\"\u001b[39;00m\n\u001b[0;32m    232\u001b[0m     \u001b[38;5;28;01mreturn\u001b[39;00m MappingProxyType(\n\u001b[1;32m--> 233\u001b[0m         {n: p\u001b[38;5;241m.\u001b[39mto_widget(app) \u001b[38;5;28;01mfor\u001b[39;00m n, p \u001b[38;5;129;01min\u001b[39;00m \u001b[38;5;28mself\u001b[39m\u001b[38;5;241m.\u001b[39mparameters\u001b[38;5;241m.\u001b[39mitems()}\n\u001b[0;32m    234\u001b[0m     )\n",
      "File \u001b[1;32mc:\\Users\\ge37voy\\AppData\\Local\\miniconda3\\envs\\insitupy\\lib\\site-packages\\magicgui\\signature.py:233\u001b[0m, in \u001b[0;36m<dictcomp>\u001b[1;34m(.0)\u001b[0m\n\u001b[0;32m    230\u001b[0m \u001b[38;5;28;01mdef\u001b[39;00m \u001b[38;5;21mwidgets\u001b[39m(\u001b[38;5;28mself\u001b[39m, app: AppRef \u001b[38;5;241m|\u001b[39m \u001b[38;5;28;01mNone\u001b[39;00m \u001b[38;5;241m=\u001b[39m \u001b[38;5;28;01mNone\u001b[39;00m) \u001b[38;5;241m-\u001b[39m\u001b[38;5;241m>\u001b[39m MappingProxyType:\n\u001b[0;32m    231\u001b[0m \u001b[38;5;250m    \u001b[39m\u001b[38;5;124;03m\"\"\"Return mapping from parameters to widgets for all params in Signature.\"\"\"\u001b[39;00m\n\u001b[0;32m    232\u001b[0m     \u001b[38;5;28;01mreturn\u001b[39;00m MappingProxyType(\n\u001b[1;32m--> 233\u001b[0m         {n: \u001b[43mp\u001b[49m\u001b[38;5;241;43m.\u001b[39;49m\u001b[43mto_widget\u001b[49m\u001b[43m(\u001b[49m\u001b[43mapp\u001b[49m\u001b[43m)\u001b[49m \u001b[38;5;28;01mfor\u001b[39;00m n, p \u001b[38;5;129;01min\u001b[39;00m \u001b[38;5;28mself\u001b[39m\u001b[38;5;241m.\u001b[39mparameters\u001b[38;5;241m.\u001b[39mitems()}\n\u001b[0;32m    234\u001b[0m     )\n",
      "File \u001b[1;32mc:\\Users\\ge37voy\\AppData\\Local\\miniconda3\\envs\\insitupy\\lib\\site-packages\\magicgui\\signature.py:137\u001b[0m, in \u001b[0;36mMagicParameter.to_widget\u001b[1;34m(self, app)\u001b[0m\n\u001b[0;32m    134\u001b[0m \u001b[38;5;28;01mfrom\u001b[39;00m \u001b[38;5;21;01mmagicgui\u001b[39;00m\u001b[38;5;21;01m.\u001b[39;00m\u001b[38;5;21;01mwidgets\u001b[39;00m \u001b[38;5;28;01mimport\u001b[39;00m create_widget\n\u001b[0;32m    136\u001b[0m value \u001b[38;5;241m=\u001b[39m Undefined \u001b[38;5;28;01mif\u001b[39;00m \u001b[38;5;28mself\u001b[39m\u001b[38;5;241m.\u001b[39mdefault \u001b[38;5;129;01min\u001b[39;00m (\u001b[38;5;28mself\u001b[39m\u001b[38;5;241m.\u001b[39mempty, TZ_EMPTY) \u001b[38;5;28;01melse\u001b[39;00m \u001b[38;5;28mself\u001b[39m\u001b[38;5;241m.\u001b[39mdefault\n\u001b[1;32m--> 137\u001b[0m widget \u001b[38;5;241m=\u001b[39m \u001b[43mcreate_widget\u001b[49m\u001b[43m(\u001b[49m\n\u001b[0;32m    138\u001b[0m \u001b[43m    \u001b[49m\u001b[43mname\u001b[49m\u001b[38;5;241;43m=\u001b[39;49m\u001b[38;5;28;43mself\u001b[39;49m\u001b[38;5;241;43m.\u001b[39;49m\u001b[43mname\u001b[49m\u001b[43m,\u001b[49m\n\u001b[0;32m    139\u001b[0m \u001b[43m    \u001b[49m\u001b[43mvalue\u001b[49m\u001b[38;5;241;43m=\u001b[39;49m\u001b[43mvalue\u001b[49m\u001b[43m,\u001b[49m\n\u001b[0;32m    140\u001b[0m \u001b[43m    \u001b[49m\u001b[43mannotation\u001b[49m\u001b[38;5;241;43m=\u001b[39;49m\u001b[38;5;28;43mself\u001b[39;49m\u001b[38;5;241;43m.\u001b[39;49m\u001b[43mannotation\u001b[49m\u001b[43m,\u001b[49m\n\u001b[0;32m    141\u001b[0m \u001b[43m    \u001b[49m\u001b[43mapp\u001b[49m\u001b[38;5;241;43m=\u001b[39;49m\u001b[43mapp\u001b[49m\u001b[43m,\u001b[49m\n\u001b[0;32m    142\u001b[0m \u001b[43m    \u001b[49m\u001b[43mraise_on_unknown\u001b[49m\u001b[38;5;241;43m=\u001b[39;49m\u001b[38;5;28;43mself\u001b[39;49m\u001b[38;5;241;43m.\u001b[39;49m\u001b[43mraise_on_unknown\u001b[49m\u001b[43m,\u001b[49m\n\u001b[0;32m    143\u001b[0m \u001b[43m\u001b[49m\u001b[43m)\u001b[49m\n\u001b[0;32m    144\u001b[0m widget\u001b[38;5;241m.\u001b[39mparam_kind \u001b[38;5;241m=\u001b[39m \u001b[38;5;28mself\u001b[39m\u001b[38;5;241m.\u001b[39mkind\n\u001b[0;32m    145\u001b[0m \u001b[38;5;28;01mreturn\u001b[39;00m widget\n",
      "File \u001b[1;32mc:\\Users\\ge37voy\\AppData\\Local\\miniconda3\\envs\\insitupy\\lib\\site-packages\\magicgui\\widgets\\bases\\_create_widget.py:126\u001b[0m, in \u001b[0;36mcreate_widget\u001b[1;34m(value, annotation, name, param_kind, label, gui_only, app, widget_type, options, is_result, raise_on_unknown)\u001b[0m\n\u001b[0;32m    121\u001b[0m wdg_class, opts \u001b[38;5;241m=\u001b[39m get_widget_class(\n\u001b[0;32m    122\u001b[0m     value, annotation, options_, is_result, raise_on_unknown\n\u001b[0;32m    123\u001b[0m )\n\u001b[0;32m    125\u001b[0m \u001b[38;5;28;01mif\u001b[39;00m \u001b[38;5;28missubclass\u001b[39m(wdg_class, Widget):\n\u001b[1;32m--> 126\u001b[0m     widget \u001b[38;5;241m=\u001b[39m wdg_class(\u001b[38;5;241m*\u001b[39m\u001b[38;5;241m*\u001b[39m{\u001b[38;5;241m*\u001b[39m\u001b[38;5;241m*\u001b[39mkwargs, \u001b[38;5;241m*\u001b[39m\u001b[38;5;241m*\u001b[39mopts, \u001b[38;5;241m*\u001b[39m\u001b[38;5;241m*\u001b[39moptions_})\n\u001b[0;32m    127\u001b[0m     \u001b[38;5;28;01mif\u001b[39;00m param_kind:\n\u001b[0;32m    128\u001b[0m         widget\u001b[38;5;241m.\u001b[39mparam_kind \u001b[38;5;241m=\u001b[39m param_kind  \u001b[38;5;66;03m# type: ignore\u001b[39;00m\n",
      "File \u001b[1;32mc:\\Users\\ge37voy\\AppData\\Local\\miniconda3\\envs\\insitupy\\lib\\site-packages\\magicgui\\widgets\\_concrete.py:122\u001b[0m, in \u001b[0;36mbackend_widget.<locals>.wrapper.<locals>.__init__\u001b[1;34m(self, **kwargs)\u001b[0m\n\u001b[0;32m    120\u001b[0m     widget \u001b[38;5;241m=\u001b[39m transform(widget)\n\u001b[0;32m    121\u001b[0m kwargs[\u001b[38;5;124m\"\u001b[39m\u001b[38;5;124mwidget_type\u001b[39m\u001b[38;5;124m\"\u001b[39m] \u001b[38;5;241m=\u001b[39m widget\n\u001b[1;32m--> 122\u001b[0m \u001b[38;5;28msuper\u001b[39m(\u001b[38;5;28mcls\u001b[39m, \u001b[38;5;28mself\u001b[39m)\u001b[38;5;241m.\u001b[39m\u001b[38;5;21m__init__\u001b[39m(\u001b[38;5;241m*\u001b[39m\u001b[38;5;241m*\u001b[39mkwargs)\n",
      "File \u001b[1;32mc:\\Users\\ge37voy\\AppData\\Local\\miniconda3\\envs\\insitupy\\lib\\site-packages\\magicgui\\widgets\\bases\\_value_widget.py:57\u001b[0m, in \u001b[0;36mValueWidget.__init__\u001b[1;34m(self, value, bind, nullable, **base_widget_kwargs)\u001b[0m\n\u001b[0;32m     55\u001b[0m \u001b[38;5;28mself\u001b[39m\u001b[38;5;241m.\u001b[39m_bound_value \u001b[38;5;241m=\u001b[39m bind\n\u001b[0;32m     56\u001b[0m \u001b[38;5;28mself\u001b[39m\u001b[38;5;241m.\u001b[39m_call_bound: \u001b[38;5;28mbool\u001b[39m \u001b[38;5;241m=\u001b[39m \u001b[38;5;28;01mTrue\u001b[39;00m\n\u001b[1;32m---> 57\u001b[0m \u001b[38;5;28msuper\u001b[39m()\u001b[38;5;241m.\u001b[39m\u001b[38;5;21m__init__\u001b[39m(\u001b[38;5;241m*\u001b[39m\u001b[38;5;241m*\u001b[39mbase_widget_kwargs)\n\u001b[0;32m     58\u001b[0m \u001b[38;5;28;01mif\u001b[39;00m value \u001b[38;5;129;01mis\u001b[39;00m \u001b[38;5;129;01mnot\u001b[39;00m Undefined:\n\u001b[0;32m     59\u001b[0m     \u001b[38;5;28mself\u001b[39m\u001b[38;5;241m.\u001b[39mvalue \u001b[38;5;241m=\u001b[39m cast(T, value)\n",
      "File \u001b[1;32mc:\\Users\\ge37voy\\AppData\\Local\\miniconda3\\envs\\insitupy\\lib\\site-packages\\magicgui\\widgets\\bases\\_widget.py:105\u001b[0m, in \u001b[0;36mWidget.__init__\u001b[1;34m(self, widget_type, name, annotation, label, tooltip, visible, enabled, gui_only, parent, backend_kwargs, **extra)\u001b[0m\n\u001b[0;32m    103\u001b[0m label \u001b[38;5;241m=\u001b[39m label \u001b[38;5;129;01mor\u001b[39;00m extra\u001b[38;5;241m.\u001b[39mpop(\u001b[38;5;124m\"\u001b[39m\u001b[38;5;124mdescription\u001b[39m\u001b[38;5;124m\"\u001b[39m, \u001b[38;5;28;01mNone\u001b[39;00m)\n\u001b[0;32m    104\u001b[0m \u001b[38;5;28;01mif\u001b[39;00m extra:\n\u001b[1;32m--> 105\u001b[0m     \u001b[38;5;28;01mraise\u001b[39;00m \u001b[38;5;167;01mTypeError\u001b[39;00m(\n\u001b[0;32m    106\u001b[0m         \u001b[38;5;124mf\u001b[39m\u001b[38;5;124m\"\u001b[39m\u001b[38;5;132;01m{\u001b[39;00m\u001b[38;5;28mtype\u001b[39m(\u001b[38;5;28mself\u001b[39m)\u001b[38;5;241m.\u001b[39m\u001b[38;5;18m__name__\u001b[39m\u001b[38;5;132;01m}\u001b[39;00m\u001b[38;5;124m got an unexpected \u001b[39m\u001b[38;5;124m\"\u001b[39m\n\u001b[0;32m    107\u001b[0m         \u001b[38;5;124mf\u001b[39m\u001b[38;5;124m\"\u001b[39m\u001b[38;5;124mkeyword argument: \u001b[39m\u001b[38;5;132;01m{\u001b[39;00m\u001b[38;5;124m'\u001b[39m\u001b[38;5;124m, \u001b[39m\u001b[38;5;124m'\u001b[39m\u001b[38;5;241m.\u001b[39mjoin(extra)\u001b[38;5;132;01m}\u001b[39;00m\u001b[38;5;124m\"\u001b[39m\n\u001b[0;32m    108\u001b[0m     )\n\u001b[0;32m    109\u001b[0m \u001b[38;5;28;01mfor\u001b[39;00m m \u001b[38;5;129;01min\u001b[39;00m \u001b[38;5;28mself\u001b[39m\u001b[38;5;241m.\u001b[39m\u001b[38;5;18m__class__\u001b[39m\u001b[38;5;241m.\u001b[39m\u001b[38;5;18m__mro__\u001b[39m[:\u001b[38;5;241m-\u001b[39m\u001b[38;5;241m1\u001b[39m]:\n\u001b[0;32m    110\u001b[0m     _prot \u001b[38;5;241m=\u001b[39m m\u001b[38;5;241m.\u001b[39m\u001b[38;5;18m__annotations__\u001b[39m\u001b[38;5;241m.\u001b[39mget(\u001b[38;5;124m\"\u001b[39m\u001b[38;5;124m_widget\u001b[39m\u001b[38;5;124m\"\u001b[39m)\n",
      "\u001b[1;31mTypeError\u001b[0m: EmptyWidget got an unexpected keyword argument: choices"
     ]
    }
   ],
   "source": [
    "xd.show()"
   ]
  },
  {
   "cell_type": "code",
   "execution_count": null,
   "metadata": {},
   "outputs": [],
   "source": []
  },
  {
   "cell_type": "code",
   "execution_count": 5,
   "metadata": {},
   "outputs": [
    {
     "name": "stderr",
     "output_type": "stream",
     "text": [
      "100%|██████████| 1573/1573 [00:00<00:00, 14653.67it/s]\n"
     ]
    }
   ],
   "source": [
    "df = {\n",
    "    \"geometry\": [],\n",
    "    \"cell\": [],\n",
    "    \"type\": [],\n",
    "    \"minx\": [],\n",
    "    \"miny\": [],\n",
    "    \"maxx\": [],\n",
    "    \"maxy\": []\n",
    "}\n",
    "for elem in tqdm(d[\"geometries\"]):\n",
    "    coords = elem[\"coordinates\"][0]\n",
    "    \n",
    "    # check if there are enough coordinates for a Polygon (some segmented cells are very small in Baysor)\n",
    "    if len(coords) > 3:\n",
    "        p = shapely.Polygon(coords)\n",
    "        df[\"geometry\"].append(p)\n",
    "        df[\"type\"].append(\"polygon\")\n",
    "    \n",
    "    else:\n",
    "        p = shapely.LineString(coords)\n",
    "        df[\"geometry\"].append(p)\n",
    "        df[\"type\"].append(\"line\")\n",
    "    df[\"cell\"].append(elem[\"cell\"])\n",
    "    \n",
    "    # extract bounding box\n",
    "    bounds = p.bounds\n",
    "    df[\"minx\"].append(bounds[0])\n",
    "    df[\"miny\"].append(bounds[1])\n",
    "    df[\"maxx\"].append(bounds[2])\n",
    "    df[\"maxy\"].append(bounds[3])\n",
    "\n",
    "# create geopandas dataframe\n",
    "df = gpd.GeoDataFrame(df)"
   ]
  },
  {
   "cell_type": "code",
   "execution_count": 6,
   "metadata": {},
   "outputs": [
    {
     "data": {
      "text/plain": [
       "0       POLYGON ((339.712 298.611, 343.270 301.395, 34...\n",
       "1       POLYGON ((243.906 279.677, 244.500 280.510, 24...\n",
       "2       POLYGON ((269.550 126.755, 270.049 128.803, 27...\n",
       "3       POLYGON ((63.277 265.403, 64.307 265.742, 65.0...\n",
       "4       POLYGON ((349.779 196.436, 349.666 195.989, 34...\n",
       "                              ...                        \n",
       "1568    POLYGON ((199.492 309.354, 203.097 312.295, 20...\n",
       "1569    POLYGON ((9.806 115.050, 10.241 115.969, 11.57...\n",
       "1570    POLYGON ((69.446 187.078, 69.996 187.289, 70.9...\n",
       "1571    POLYGON ((338.980 320.151, 339.934 320.610, 34...\n",
       "1572    POLYGON ((333.165 274.988, 333.725 275.140, 33...\n",
       "Name: geometry, Length: 1573, dtype: geometry"
      ]
     },
     "execution_count": 6,
     "metadata": {},
     "output_type": "execute_result"
    }
   ],
   "source": [
    "df[\"geometry\"]"
   ]
  },
  {
   "cell_type": "code",
   "execution_count": 7,
   "metadata": {},
   "outputs": [],
   "source": [
    "img = rasterize(list(zip(df[\"geometry\"], range(1, len(df)+1))), out_shape=(500,500))"
   ]
  },
  {
   "cell_type": "code",
   "execution_count": 8,
   "metadata": {},
   "outputs": [
    {
     "data": {
      "text/plain": [
       "1573"
      ]
     },
     "execution_count": 8,
     "metadata": {},
     "output_type": "execute_result"
    }
   ],
   "source": [
    "img.max()"
   ]
  },
  {
   "cell_type": "code",
   "execution_count": 9,
   "metadata": {},
   "outputs": [
    {
     "data": {
      "text/plain": [
       "<matplotlib.image.AxesImage at 0x27f80b01070>"
      ]
     },
     "execution_count": 9,
     "metadata": {},
     "output_type": "execute_result"
    },
    {
     "data": {
      "image/png": "[encoded data removed]",
      "text/plain": [
       "<Figure size 640x480 with 1 Axes>"
      ]
     },
     "metadata": {},
     "output_type": "display_data"
    }
   ],
   "source": [
    "plt.imshow(img)"
   ]
  },
  {
   "cell_type": "code",
   "execution_count": 10,
   "metadata": {},
   "outputs": [
    {
     "name": "stderr",
     "output_type": "stream",
     "text": [
      "WARNING: QWindowsWindow::setGeometry: Unable to set geometry 2172x1310+640+276 (frame: 2194x1366+629+231) on QWidgetWindow/\"_QtMainWindowClassWindow\" on \"\\\\.\\DISPLAY1\". Resulting geometry: 3260x1968+643+290 (frame: 3282x2024+632+245) margins: 11, 45, 11, 11 minimum size: 385x492 MINMAXINFO maxSize=0,0 maxpos=0,0 mintrack=792,1040 maxtrack=0,0)\n"
     ]
    }
   ],
   "source": [
    "xd.show()"
   ]
  },
  {
   "cell_type": "code",
   "execution_count": 11,
   "metadata": {},
   "outputs": [],
   "source": [
    "pixel_size = xd.metadata[\"pixel_size\"]"
   ]
  },
  {
   "cell_type": "code",
   "execution_count": 12,
   "metadata": {},
   "outputs": [
    {
     "data": {
      "text/plain": [
       "<Labels layer 'cell_mask' at 0x27f95ff67c0>"
      ]
     },
     "execution_count": 12,
     "metadata": {},
     "output_type": "execute_result"
    }
   ],
   "source": [
    "xd.viewer.add_labels(img, name='cell_mask', scale=(1, 1))"
   ]
  },
  {
   "cell_type": "markdown",
   "metadata": {},
   "source": [
    "Cell 1570 is very small and only consists of two points. How is that possible?"
   ]
  },
  {
   "cell_type": "code",
   "execution_count": 13,
   "metadata": {},
   "outputs": [
    {
     "data": {
      "text/html": [
       "<div>\n",
       "<style scoped>\n",
       "    .dataframe tbody tr th:only-of-type {\n",
       "        vertical-align: middle;\n",
       "    }\n",
       "\n",
       "    .dataframe tbody tr th {\n",
       "        vertical-align: top;\n",
       "    }\n",
       "\n",
       "    .dataframe thead th {\n",
       "        text-align: right;\n",
       "    }\n",
       "</style>\n",
       "<table border=\"1\" class=\"dataframe\">\n",
       "  <thead>\n",
       "    <tr style=\"text-align: right;\">\n",
       "      <th></th>\n",
       "      <th>cell</th>\n",
       "      <th>x</th>\n",
       "      <th>y</th>\n",
       "      <th>z</th>\n",
       "      <th>cluster</th>\n",
       "      <th>n_transcripts</th>\n",
       "      <th>density</th>\n",
       "      <th>elongation</th>\n",
       "      <th>area</th>\n",
       "      <th>avg_confidence</th>\n",
       "      <th>avg_assignment_confidence</th>\n",
       "      <th>max_cluster_frac</th>\n",
       "      <th>lifespan</th>\n",
       "    </tr>\n",
       "  </thead>\n",
       "  <tbody>\n",
       "    <tr>\n",
       "      <th>0</th>\n",
       "      <td>CR1548b828b-1</td>\n",
       "      <td>6.678945</td>\n",
       "      <td>2.068309</td>\n",
       "      <td>16.642422</td>\n",
       "      <td>4</td>\n",
       "      <td>24</td>\n",
       "      <td>1.5710</td>\n",
       "      <td>1.327</td>\n",
       "      <td>15.280</td>\n",
       "      <td>0.9984</td>\n",
       "      <td>0.9817</td>\n",
       "      <td>1.000000</td>\n",
       "      <td>50</td>\n",
       "    </tr>\n",
       "    <tr>\n",
       "      <th>1</th>\n",
       "      <td>CR1548b828b-2</td>\n",
       "      <td>12.842599</td>\n",
       "      <td>5.376065</td>\n",
       "      <td>16.708813</td>\n",
       "      <td>1</td>\n",
       "      <td>102</td>\n",
       "      <td>1.0890</td>\n",
       "      <td>2.562</td>\n",
       "      <td>93.680</td>\n",
       "      <td>0.9886</td>\n",
       "      <td>0.8935</td>\n",
       "      <td>0.990196</td>\n",
       "      <td>50</td>\n",
       "    </tr>\n",
       "    <tr>\n",
       "      <th>2</th>\n",
       "      <td>CR1548b828b-3</td>\n",
       "      <td>3.035172</td>\n",
       "      <td>22.848029</td>\n",
       "      <td>16.470479</td>\n",
       "      <td>1</td>\n",
       "      <td>91</td>\n",
       "      <td>1.1750</td>\n",
       "      <td>1.846</td>\n",
       "      <td>77.440</td>\n",
       "      <td>0.9865</td>\n",
       "      <td>0.9237</td>\n",
       "      <td>1.000000</td>\n",
       "      <td>50</td>\n",
       "    </tr>\n",
       "    <tr>\n",
       "      <th>3</th>\n",
       "      <td>CR1548b828b-4</td>\n",
       "      <td>23.598982</td>\n",
       "      <td>3.279715</td>\n",
       "      <td>15.753729</td>\n",
       "      <td>1</td>\n",
       "      <td>35</td>\n",
       "      <td>0.6226</td>\n",
       "      <td>3.414</td>\n",
       "      <td>56.220</td>\n",
       "      <td>0.8552</td>\n",
       "      <td>0.9594</td>\n",
       "      <td>0.885714</td>\n",
       "      <td>50</td>\n",
       "    </tr>\n",
       "    <tr>\n",
       "      <th>4</th>\n",
       "      <td>CR1548b828b-5</td>\n",
       "      <td>7.282680</td>\n",
       "      <td>15.050926</td>\n",
       "      <td>16.281299</td>\n",
       "      <td>1</td>\n",
       "      <td>162</td>\n",
       "      <td>1.4110</td>\n",
       "      <td>2.296</td>\n",
       "      <td>114.800</td>\n",
       "      <td>0.9950</td>\n",
       "      <td>0.8952</td>\n",
       "      <td>0.993827</td>\n",
       "      <td>50</td>\n",
       "    </tr>\n",
       "    <tr>\n",
       "      <th>...</th>\n",
       "      <td>...</td>\n",
       "      <td>...</td>\n",
       "      <td>...</td>\n",
       "      <td>...</td>\n",
       "      <td>...</td>\n",
       "      <td>...</td>\n",
       "      <td>...</td>\n",
       "      <td>...</td>\n",
       "      <td>...</td>\n",
       "      <td>...</td>\n",
       "      <td>...</td>\n",
       "      <td>...</td>\n",
       "      <td>...</td>\n",
       "    </tr>\n",
       "    <tr>\n",
       "      <th>1568</th>\n",
       "      <td>CR1548b828b-1569</td>\n",
       "      <td>75.532472</td>\n",
       "      <td>7.444092</td>\n",
       "      <td>13.794286</td>\n",
       "      <td>1</td>\n",
       "      <td>2</td>\n",
       "      <td>NaN</td>\n",
       "      <td>NaN</td>\n",
       "      <td>NaN</td>\n",
       "      <td>0.9996</td>\n",
       "      <td>0.1200</td>\n",
       "      <td>1.000000</td>\n",
       "      <td>6</td>\n",
       "    </tr>\n",
       "    <tr>\n",
       "      <th>1569</th>\n",
       "      <td>CR1548b828b-1570</td>\n",
       "      <td>32.771730</td>\n",
       "      <td>209.639650</td>\n",
       "      <td>17.615406</td>\n",
       "      <td>1</td>\n",
       "      <td>1</td>\n",
       "      <td>NaN</td>\n",
       "      <td>NaN</td>\n",
       "      <td>NaN</td>\n",
       "      <td>0.9897</td>\n",
       "      <td>0.0800</td>\n",
       "      <td>1.000000</td>\n",
       "      <td>6</td>\n",
       "    </tr>\n",
       "    <tr>\n",
       "      <th>1570</th>\n",
       "      <td>CR1548b828b-1571</td>\n",
       "      <td>118.189330</td>\n",
       "      <td>89.144285</td>\n",
       "      <td>13.829876</td>\n",
       "      <td>1</td>\n",
       "      <td>2</td>\n",
       "      <td>NaN</td>\n",
       "      <td>NaN</td>\n",
       "      <td>NaN</td>\n",
       "      <td>0.9385</td>\n",
       "      <td>0.0700</td>\n",
       "      <td>1.000000</td>\n",
       "      <td>6</td>\n",
       "    </tr>\n",
       "    <tr>\n",
       "      <th>1571</th>\n",
       "      <td>CR1548b828b-1572</td>\n",
       "      <td>2.528076</td>\n",
       "      <td>125.980926</td>\n",
       "      <td>17.133464</td>\n",
       "      <td>1</td>\n",
       "      <td>8</td>\n",
       "      <td>1.4430</td>\n",
       "      <td>1.770</td>\n",
       "      <td>5.543</td>\n",
       "      <td>0.9857</td>\n",
       "      <td>0.0375</td>\n",
       "      <td>1.000000</td>\n",
       "      <td>3</td>\n",
       "    </tr>\n",
       "    <tr>\n",
       "      <th>1572</th>\n",
       "      <td>CR1548b828b-1573</td>\n",
       "      <td>144.958370</td>\n",
       "      <td>263.910150</td>\n",
       "      <td>16.773725</td>\n",
       "      <td>1</td>\n",
       "      <td>2</td>\n",
       "      <td>NaN</td>\n",
       "      <td>NaN</td>\n",
       "      <td>NaN</td>\n",
       "      <td>1.0000</td>\n",
       "      <td>0.0200</td>\n",
       "      <td>1.000000</td>\n",
       "      <td>3</td>\n",
       "    </tr>\n",
       "  </tbody>\n",
       "</table>\n",
       "<p>1573 rows × 13 columns</p>\n",
       "</div>"
      ],
      "text/plain": [
       "                  cell           x           y          z  cluster  \\\n",
       "0        CR1548b828b-1    6.678945    2.068309  16.642422        4   \n",
       "1        CR1548b828b-2   12.842599    5.376065  16.708813        1   \n",
       "2        CR1548b828b-3    3.035172   22.848029  16.470479        1   \n",
       "3        CR1548b828b-4   23.598982    3.279715  15.753729        1   \n",
       "4        CR1548b828b-5    7.282680   15.050926  16.281299        1   \n",
       "...                ...         ...         ...        ...      ...   \n",
       "1568  CR1548b828b-1569   75.532472    7.444092  13.794286        1   \n",
       "1569  CR1548b828b-1570   32.771730  209.639650  17.615406        1   \n",
       "1570  CR1548b828b-1571  118.189330   89.144285  13.829876        1   \n",
       "1571  CR1548b828b-1572    2.528076  125.980926  17.133464        1   \n",
       "1572  CR1548b828b-1573  144.958370  263.910150  16.773725        1   \n",
       "\n",
       "      n_transcripts  density  elongation     area  avg_confidence  \\\n",
       "0                24   1.5710       1.327   15.280          0.9984   \n",
       "1               102   1.0890       2.562   93.680          0.9886   \n",
       "2                91   1.1750       1.846   77.440          0.9865   \n",
       "3                35   0.6226       3.414   56.220          0.8552   \n",
       "4               162   1.4110       2.296  114.800          0.9950   \n",
       "...             ...      ...         ...      ...             ...   \n",
       "1568              2      NaN         NaN      NaN          0.9996   \n",
       "1569              1      NaN         NaN      NaN          0.9897   \n",
       "1570              2      NaN         NaN      NaN          0.9385   \n",
       "1571              8   1.4430       1.770    5.543          0.9857   \n",
       "1572              2      NaN         NaN      NaN          1.0000   \n",
       "\n",
       "      avg_assignment_confidence  max_cluster_frac  lifespan  \n",
       "0                        0.9817          1.000000        50  \n",
       "1                        0.8935          0.990196        50  \n",
       "2                        0.9237          1.000000        50  \n",
       "3                        0.9594          0.885714        50  \n",
       "4                        0.8952          0.993827        50  \n",
       "...                         ...               ...       ...  \n",
       "1568                     0.1200          1.000000         6  \n",
       "1569                     0.0800          1.000000         6  \n",
       "1570                     0.0700          1.000000         6  \n",
       "1571                     0.0375          1.000000         3  \n",
       "1572                     0.0200          1.000000         3  \n",
       "\n",
       "[1573 rows x 13 columns]"
      ]
     },
     "execution_count": 13,
     "metadata": {},
     "output_type": "execute_result"
    }
   ],
   "source": [
    "# cell stats\n",
    "cs_file = r\"C:\\Users\\ge37voy\\Downloads\\tmp\\baysor\\baysor_output-0017321__N-436-21-N__20240219__131654\\segmentation_cell_stats.csv\"\n",
    "pd.read_csv(cs_file)"
   ]
  },
  {
   "cell_type": "code",
   "execution_count": 14,
   "metadata": {},
   "outputs": [],
   "source": [
    "import scanpy as sc"
   ]
  },
  {
   "cell_type": "code",
   "execution_count": 15,
   "metadata": {},
   "outputs": [
    {
     "name": "stderr",
     "output_type": "stream",
     "text": [
      "c:\\Users\\ge37voy\\AppData\\Local\\miniconda3\\envs\\insitupy\\lib\\site-packages\\anndata\\_core\\anndata.py:183: ImplicitModificationWarning: Transforming to str index.\n",
      "  warnings.warn(\"Transforming to str index.\", ImplicitModificationWarning)\n",
      "c:\\Users\\ge37voy\\AppData\\Local\\miniconda3\\envs\\insitupy\\lib\\site-packages\\anndata\\_core\\anndata.py:183: ImplicitModificationWarning: Transforming to str index.\n",
      "  warnings.warn(\"Transforming to str index.\", ImplicitModificationWarning)\n"
     ]
    }
   ],
   "source": [
    "loomfile = r\"C:\\Users\\ge37voy\\Downloads\\tmp\\baysor\\baysor_output-0017321__N-436-21-N__20240219__131654\\segmentation_counts.loom\"\n",
    "adata = sc.read_loom(loomfile)"
   ]
  },
  {
   "cell_type": "code",
   "execution_count": 16,
   "metadata": {},
   "outputs": [
    {
     "data": {
      "text/plain": [
       "AnnData object with n_obs × n_vars = 1046 × 314\n",
       "    obs: 'transcript_counts', 'control_probe_counts', 'control_codeword_counts', 'unassigned_codeword_counts', 'deprecated_codeword_counts', 'total_counts', 'cell_area', 'nucleus_area'\n",
       "    var: 'gene_ids', 'feature_types', 'genome'\n",
       "    obsm: 'spatial'"
      ]
     },
     "execution_count": 16,
     "metadata": {},
     "output_type": "execute_result"
    }
   ],
   "source": [
    "xd.cells.matrix"
   ]
  },
  {
   "cell_type": "code",
   "execution_count": 19,
   "metadata": {},
   "outputs": [
    {
     "data": {
      "text/html": [
       "<div>\n",
       "<style scoped>\n",
       "    .dataframe tbody tr th:only-of-type {\n",
       "        vertical-align: middle;\n",
       "    }\n",
       "\n",
       "    .dataframe tbody tr th {\n",
       "        vertical-align: top;\n",
       "    }\n",
       "\n",
       "    .dataframe thead th {\n",
       "        text-align: right;\n",
       "    }\n",
       "</style>\n",
       "<table border=\"1\" class=\"dataframe\">\n",
       "  <thead>\n",
       "    <tr style=\"text-align: right;\">\n",
       "      <th></th>\n",
       "      <th>cell_id</th>\n",
       "      <th>vertex_x</th>\n",
       "      <th>vertex_y</th>\n",
       "    </tr>\n",
       "  </thead>\n",
       "  <tbody>\n",
       "    <tr>\n",
       "      <th>4420</th>\n",
       "      <td>abbggcnl-1</td>\n",
       "      <td>200.757568</td>\n",
       "      <td>170.680420</td>\n",
       "    </tr>\n",
       "    <tr>\n",
       "      <th>4421</th>\n",
       "      <td>abbggcnl-1</td>\n",
       "      <td>197.995117</td>\n",
       "      <td>172.380615</td>\n",
       "    </tr>\n",
       "    <tr>\n",
       "      <th>4422</th>\n",
       "      <td>abbggcnl-1</td>\n",
       "      <td>198.632568</td>\n",
       "      <td>181.093018</td>\n",
       "    </tr>\n",
       "    <tr>\n",
       "      <th>4423</th>\n",
       "      <td>abbggcnl-1</td>\n",
       "      <td>202.457764</td>\n",
       "      <td>186.617920</td>\n",
       "    </tr>\n",
       "    <tr>\n",
       "      <th>4424</th>\n",
       "      <td>abbggcnl-1</td>\n",
       "      <td>205.857666</td>\n",
       "      <td>192.143066</td>\n",
       "    </tr>\n",
       "    <tr>\n",
       "      <th>...</th>\n",
       "      <td>...</td>\n",
       "      <td>...</td>\n",
       "      <td>...</td>\n",
       "    </tr>\n",
       "    <tr>\n",
       "      <th>594790</th>\n",
       "      <td>jedgdcjb-1</td>\n",
       "      <td>251.970215</td>\n",
       "      <td>10.030518</td>\n",
       "    </tr>\n",
       "    <tr>\n",
       "      <th>594791</th>\n",
       "      <td>jedgdcjb-1</td>\n",
       "      <td>251.757568</td>\n",
       "      <td>7.480469</td>\n",
       "    </tr>\n",
       "    <tr>\n",
       "      <th>594792</th>\n",
       "      <td>jedgdcjb-1</td>\n",
       "      <td>251.332764</td>\n",
       "      <td>5.992920</td>\n",
       "    </tr>\n",
       "    <tr>\n",
       "      <th>594793</th>\n",
       "      <td>jedgdcjb-1</td>\n",
       "      <td>247.720215</td>\n",
       "      <td>1.530518</td>\n",
       "    </tr>\n",
       "    <tr>\n",
       "      <th>594794</th>\n",
       "      <td>jedgdcjb-1</td>\n",
       "      <td>246.870117</td>\n",
       "      <td>0.680420</td>\n",
       "    </tr>\n",
       "  </tbody>\n",
       "</table>\n",
       "<p>13598 rows × 3 columns</p>\n",
       "</div>"
      ],
      "text/plain": [
       "           cell_id    vertex_x    vertex_y\n",
       "4420    abbggcnl-1  200.757568  170.680420\n",
       "4421    abbggcnl-1  197.995117  172.380615\n",
       "4422    abbggcnl-1  198.632568  181.093018\n",
       "4423    abbggcnl-1  202.457764  186.617920\n",
       "4424    abbggcnl-1  205.857666  192.143066\n",
       "...            ...         ...         ...\n",
       "594790  jedgdcjb-1  251.970215   10.030518\n",
       "594791  jedgdcjb-1  251.757568    7.480469\n",
       "594792  jedgdcjb-1  251.332764    5.992920\n",
       "594793  jedgdcjb-1  247.720215    1.530518\n",
       "594794  jedgdcjb-1  246.870117    0.680420\n",
       "\n",
       "[13598 rows x 3 columns]"
      ]
     },
     "execution_count": 19,
     "metadata": {},
     "output_type": "execute_result"
    }
   ],
   "source": [
    "xd.cells.boundaries.cellular"
   ]
  },
  {
   "cell_type": "code",
   "execution_count": 17,
   "metadata": {},
   "outputs": [
    {
     "data": {
      "text/plain": [
       "AnnData object with n_obs × n_vars = 1573 × 320\n",
       "    obs: 'Name', 'area', 'avg_assignment_confidence', 'avg_confidence', 'cluster', 'density', 'elongation', 'lifespan', 'max_cluster_frac', 'n_transcripts', 'x', 'y', 'z'\n",
       "    var: 'Name'"
      ]
     },
     "execution_count": 17,
     "metadata": {},
     "output_type": "execute_result"
    }
   ],
   "source": [
    "adata"
   ]
  },
  {
   "cell_type": "code",
   "execution_count": null,
   "metadata": {},
   "outputs": [
    {
     "data": {
      "text/html": [
       "<div>\n",
       "<style scoped>\n",
       "    .dataframe tbody tr th:only-of-type {\n",
       "        vertical-align: middle;\n",
       "    }\n",
       "\n",
       "    .dataframe tbody tr th {\n",
       "        vertical-align: top;\n",
       "    }\n",
       "\n",
       "    .dataframe thead th {\n",
       "        text-align: right;\n",
       "    }\n",
       "</style>\n",
       "<table border=\"1\" class=\"dataframe\">\n",
       "  <thead>\n",
       "    <tr style=\"text-align: right;\">\n",
       "      <th></th>\n",
       "      <th>Name</th>\n",
       "      <th>area</th>\n",
       "      <th>avg_assignment_confidence</th>\n",
       "      <th>avg_confidence</th>\n",
       "      <th>cluster</th>\n",
       "      <th>density</th>\n",
       "      <th>elongation</th>\n",
       "      <th>lifespan</th>\n",
       "      <th>max_cluster_frac</th>\n",
       "      <th>n_transcripts</th>\n",
       "      <th>x</th>\n",
       "      <th>y</th>\n",
       "      <th>z</th>\n",
       "    </tr>\n",
       "    <tr>\n",
       "      <th>CellID</th>\n",
       "      <th></th>\n",
       "      <th></th>\n",
       "      <th></th>\n",
       "      <th></th>\n",
       "      <th></th>\n",
       "      <th></th>\n",
       "      <th></th>\n",
       "      <th></th>\n",
       "      <th></th>\n",
       "      <th></th>\n",
       "      <th></th>\n",
       "      <th></th>\n",
       "      <th></th>\n",
       "    </tr>\n",
       "  </thead>\n",
       "  <tbody>\n",
       "    <tr>\n",
       "      <th>1.0</th>\n",
       "      <td>CR1548b828b-1</td>\n",
       "      <td>15.280</td>\n",
       "      <td>0.9817</td>\n",
       "      <td>0.9984</td>\n",
       "      <td>4</td>\n",
       "      <td>1.5710</td>\n",
       "      <td>1.327</td>\n",
       "      <td>50</td>\n",
       "      <td>1.000000</td>\n",
       "      <td>24</td>\n",
       "      <td>6.678945</td>\n",
       "      <td>2.068309</td>\n",
       "      <td>16.642422</td>\n",
       "    </tr>\n",
       "    <tr>\n",
       "      <th>2.0</th>\n",
       "      <td>CR1548b828b-2</td>\n",
       "      <td>93.680</td>\n",
       "      <td>0.8935</td>\n",
       "      <td>0.9886</td>\n",
       "      <td>1</td>\n",
       "      <td>1.0890</td>\n",
       "      <td>2.562</td>\n",
       "      <td>50</td>\n",
       "      <td>0.990196</td>\n",
       "      <td>102</td>\n",
       "      <td>12.842599</td>\n",
       "      <td>5.376065</td>\n",
       "      <td>16.708813</td>\n",
       "    </tr>\n",
       "    <tr>\n",
       "      <th>3.0</th>\n",
       "      <td>CR1548b828b-3</td>\n",
       "      <td>77.440</td>\n",
       "      <td>0.9237</td>\n",
       "      <td>0.9865</td>\n",
       "      <td>1</td>\n",
       "      <td>1.1750</td>\n",
       "      <td>1.846</td>\n",
       "      <td>50</td>\n",
       "      <td>1.000000</td>\n",
       "      <td>91</td>\n",
       "      <td>3.035172</td>\n",
       "      <td>22.848029</td>\n",
       "      <td>16.470479</td>\n",
       "    </tr>\n",
       "    <tr>\n",
       "      <th>4.0</th>\n",
       "      <td>CR1548b828b-4</td>\n",
       "      <td>56.220</td>\n",
       "      <td>0.9594</td>\n",
       "      <td>0.8552</td>\n",
       "      <td>1</td>\n",
       "      <td>0.6226</td>\n",
       "      <td>3.414</td>\n",
       "      <td>50</td>\n",
       "      <td>0.885714</td>\n",
       "      <td>35</td>\n",
       "      <td>23.598982</td>\n",
       "      <td>3.279715</td>\n",
       "      <td>15.753729</td>\n",
       "    </tr>\n",
       "    <tr>\n",
       "      <th>5.0</th>\n",
       "      <td>CR1548b828b-5</td>\n",
       "      <td>114.800</td>\n",
       "      <td>0.8952</td>\n",
       "      <td>0.9950</td>\n",
       "      <td>1</td>\n",
       "      <td>1.4110</td>\n",
       "      <td>2.296</td>\n",
       "      <td>50</td>\n",
       "      <td>0.993827</td>\n",
       "      <td>162</td>\n",
       "      <td>7.282680</td>\n",
       "      <td>15.050926</td>\n",
       "      <td>16.281299</td>\n",
       "    </tr>\n",
       "    <tr>\n",
       "      <th>...</th>\n",
       "      <td>...</td>\n",
       "      <td>...</td>\n",
       "      <td>...</td>\n",
       "      <td>...</td>\n",
       "      <td>...</td>\n",
       "      <td>...</td>\n",
       "      <td>...</td>\n",
       "      <td>...</td>\n",
       "      <td>...</td>\n",
       "      <td>...</td>\n",
       "      <td>...</td>\n",
       "      <td>...</td>\n",
       "      <td>...</td>\n",
       "    </tr>\n",
       "    <tr>\n",
       "      <th>1569.0</th>\n",
       "      <td>CR1548b828b-1569</td>\n",
       "      <td>NaN</td>\n",
       "      <td>0.1200</td>\n",
       "      <td>0.9996</td>\n",
       "      <td>1</td>\n",
       "      <td>NaN</td>\n",
       "      <td>NaN</td>\n",
       "      <td>6</td>\n",
       "      <td>1.000000</td>\n",
       "      <td>2</td>\n",
       "      <td>75.532472</td>\n",
       "      <td>7.444092</td>\n",
       "      <td>13.794286</td>\n",
       "    </tr>\n",
       "    <tr>\n",
       "      <th>1570.0</th>\n",
       "      <td>CR1548b828b-1570</td>\n",
       "      <td>NaN</td>\n",
       "      <td>0.0800</td>\n",
       "      <td>0.9897</td>\n",
       "      <td>1</td>\n",
       "      <td>NaN</td>\n",
       "      <td>NaN</td>\n",
       "      <td>6</td>\n",
       "      <td>1.000000</td>\n",
       "      <td>1</td>\n",
       "      <td>32.771730</td>\n",
       "      <td>209.639650</td>\n",
       "      <td>17.615406</td>\n",
       "    </tr>\n",
       "    <tr>\n",
       "      <th>1571.0</th>\n",
       "      <td>CR1548b828b-1571</td>\n",
       "      <td>NaN</td>\n",
       "      <td>0.0700</td>\n",
       "      <td>0.9385</td>\n",
       "      <td>1</td>\n",
       "      <td>NaN</td>\n",
       "      <td>NaN</td>\n",
       "      <td>6</td>\n",
       "      <td>1.000000</td>\n",
       "      <td>2</td>\n",
       "      <td>118.189330</td>\n",
       "      <td>89.144285</td>\n",
       "      <td>13.829876</td>\n",
       "    </tr>\n",
       "    <tr>\n",
       "      <th>1572.0</th>\n",
       "      <td>CR1548b828b-1572</td>\n",
       "      <td>5.543</td>\n",
       "      <td>0.0375</td>\n",
       "      <td>0.9857</td>\n",
       "      <td>1</td>\n",
       "      <td>1.4430</td>\n",
       "      <td>1.770</td>\n",
       "      <td>3</td>\n",
       "      <td>1.000000</td>\n",
       "      <td>8</td>\n",
       "      <td>2.528076</td>\n",
       "      <td>125.980926</td>\n",
       "      <td>17.133464</td>\n",
       "    </tr>\n",
       "    <tr>\n",
       "      <th>1573.0</th>\n",
       "      <td>CR1548b828b-1573</td>\n",
       "      <td>NaN</td>\n",
       "      <td>0.0200</td>\n",
       "      <td>1.0000</td>\n",
       "      <td>1</td>\n",
       "      <td>NaN</td>\n",
       "      <td>NaN</td>\n",
       "      <td>3</td>\n",
       "      <td>1.000000</td>\n",
       "      <td>2</td>\n",
       "      <td>144.958370</td>\n",
       "      <td>263.910150</td>\n",
       "      <td>16.773725</td>\n",
       "    </tr>\n",
       "  </tbody>\n",
       "</table>\n",
       "<p>1573 rows × 13 columns</p>\n",
       "</div>"
      ],
      "text/plain": [
       "                    Name     area  avg_assignment_confidence  avg_confidence  \\\n",
       "CellID                                                                         \n",
       "1.0        CR1548b828b-1   15.280                     0.9817          0.9984   \n",
       "2.0        CR1548b828b-2   93.680                     0.8935          0.9886   \n",
       "3.0        CR1548b828b-3   77.440                     0.9237          0.9865   \n",
       "4.0        CR1548b828b-4   56.220                     0.9594          0.8552   \n",
       "5.0        CR1548b828b-5  114.800                     0.8952          0.9950   \n",
       "...                  ...      ...                        ...             ...   \n",
       "1569.0  CR1548b828b-1569      NaN                     0.1200          0.9996   \n",
       "1570.0  CR1548b828b-1570      NaN                     0.0800          0.9897   \n",
       "1571.0  CR1548b828b-1571      NaN                     0.0700          0.9385   \n",
       "1572.0  CR1548b828b-1572    5.543                     0.0375          0.9857   \n",
       "1573.0  CR1548b828b-1573      NaN                     0.0200          1.0000   \n",
       "\n",
       "        cluster  density  elongation  lifespan  max_cluster_frac  \\\n",
       "CellID                                                             \n",
       "1.0           4   1.5710       1.327        50          1.000000   \n",
       "2.0           1   1.0890       2.562        50          0.990196   \n",
       "3.0           1   1.1750       1.846        50          1.000000   \n",
       "4.0           1   0.6226       3.414        50          0.885714   \n",
       "5.0           1   1.4110       2.296        50          0.993827   \n",
       "...         ...      ...         ...       ...               ...   \n",
       "1569.0        1      NaN         NaN         6          1.000000   \n",
       "1570.0        1      NaN         NaN         6          1.000000   \n",
       "1571.0        1      NaN         NaN         6          1.000000   \n",
       "1572.0        1   1.4430       1.770         3          1.000000   \n",
       "1573.0        1      NaN         NaN         3          1.000000   \n",
       "\n",
       "        n_transcripts           x           y          z  \n",
       "CellID                                                    \n",
       "1.0                24    6.678945    2.068309  16.642422  \n",
       "2.0               102   12.842599    5.376065  16.708813  \n",
       "3.0                91    3.035172   22.848029  16.470479  \n",
       "4.0                35   23.598982    3.279715  15.753729  \n",
       "5.0               162    7.282680   15.050926  16.281299  \n",
       "...               ...         ...         ...        ...  \n",
       "1569.0              2   75.532472    7.444092  13.794286  \n",
       "1570.0              1   32.771730  209.639650  17.615406  \n",
       "1571.0              2  118.189330   89.144285  13.829876  \n",
       "1572.0              8    2.528076  125.980926  17.133464  \n",
       "1573.0              2  144.958370  263.910150  16.773725  \n",
       "\n",
       "[1573 rows x 13 columns]"
      ]
     },
     "metadata": {},
     "output_type": "display_data"
    }
   ],
   "source": [
    "adata.obs"
   ]
  }
 ],
 "metadata": {
  "kernelspec": {
   "display_name": "insitupy",
   "language": "python",
   "name": "python3"
  },
  "language_info": {
   "codemirror_mode": {
    "name": "ipython",
    "version": 3
   },
   "file_extension": ".py",
   "mimetype": "text/x-python",
   "name": "python",
   "nbconvert_exporter": "python",
   "pygments_lexer": "ipython3",
   "version": "3.9.18"
  }
 },
 "nbformat": 4,
 "nbformat_minor": 2
}
