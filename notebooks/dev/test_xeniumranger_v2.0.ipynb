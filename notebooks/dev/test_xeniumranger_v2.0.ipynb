{
 "cells": [
  {
   "cell_type": "code",
   "execution_count": 22,
   "metadata": {},
   "outputs": [
    {
     "name": "stdout",
     "output_type": "stream",
     "text": [
      "The autoreload extension is already loaded. To reload it, use:\n",
      "  %reload_ext autoreload\n"
     ]
    }
   ],
   "source": [
    "## The following code ensures that all functions and init files are reloaded before executions.\n",
    "%load_ext autoreload\n",
    "%autoreload 2"
   ]
  },
  {
   "cell_type": "code",
   "execution_count": 23,
   "metadata": {},
   "outputs": [],
   "source": [
    "from insitupy import read_xenium\n",
    "from pathlib import Path"
   ]
  },
  {
   "cell_type": "code",
   "execution_count": 24,
   "metadata": {},
   "outputs": [],
   "source": [
    "p = Path(r\"C:\\Users\\ge37voy\\Downloads\\output_reseg-0004189__TMA__20240503__134622__j1_b1_s1\\outs\")"
   ]
  },
  {
   "cell_type": "code",
   "execution_count": 27,
   "metadata": {},
   "outputs": [],
   "source": [
    "xd = read_xenium(p)"
   ]
  },
  {
   "cell_type": "code",
   "execution_count": 28,
   "metadata": {},
   "outputs": [
    {
     "name": "stdout",
     "output_type": "stream",
     "text": [
      "Loading images...\n"
     ]
    },
    {
     "name": "stderr",
     "output_type": "stream",
     "text": [
      "C:\\Users\\ge37voy\\AppData\\Local\\Temp\\ipykernel_28276\\2249651976.py:1: UserWarning: Nuclei image type 'mip' not found. Used 'focus' instead. This is the normal behavior for data analyzed with Xenium Ranger >=v2.0\n",
      "  xd.load_images()\n"
     ]
    }
   ],
   "source": [
    "xd.load_images()"
   ]
  },
  {
   "cell_type": "code",
   "execution_count": 12,
   "metadata": {},
   "outputs": [
    {
     "name": "stdout",
     "output_type": "stream",
     "text": [
      "Loading annotations...\n",
      "No `annotations` modality found.\n",
      "Loading cells...\n",
      "Loading images...\n",
      "Loading regions...\n",
      "No `regions` modality found.\n",
      "Loading transcripts...\n"
     ]
    }
   ],
   "source": [
    "xd.load_all()"
   ]
  },
  {
   "cell_type": "code",
   "execution_count": 14,
   "metadata": {},
   "outputs": [
    {
     "data": {
      "text/html": [
       "<div>\n",
       "<style scoped>\n",
       "    .dataframe tbody tr th:only-of-type {\n",
       "        vertical-align: middle;\n",
       "    }\n",
       "\n",
       "    .dataframe tbody tr th {\n",
       "        vertical-align: top;\n",
       "    }\n",
       "\n",
       "    .dataframe thead tr th {\n",
       "        text-align: left;\n",
       "    }\n",
       "\n",
       "    .dataframe thead tr:last-of-type th {\n",
       "        text-align: right;\n",
       "    }\n",
       "</style>\n",
       "<table border=\"1\" class=\"dataframe\">\n",
       "  <thead>\n",
       "    <tr>\n",
       "      <th></th>\n",
       "      <th colspan=\"3\" halign=\"left\">coordinates</th>\n",
       "      <th colspan=\"5\" halign=\"left\">properties</th>\n",
       "      <th>cell_id</th>\n",
       "    </tr>\n",
       "    <tr>\n",
       "      <th></th>\n",
       "      <th>x</th>\n",
       "      <th>y</th>\n",
       "      <th>z</th>\n",
       "      <th>gene</th>\n",
       "      <th>qv</th>\n",
       "      <th>overlaps_nucleus</th>\n",
       "      <th>fov_name</th>\n",
       "      <th>nucleus_distance</th>\n",
       "      <th>xenium</th>\n",
       "    </tr>\n",
       "    <tr>\n",
       "      <th>transcript_id</th>\n",
       "      <th></th>\n",
       "      <th></th>\n",
       "      <th></th>\n",
       "      <th></th>\n",
       "      <th></th>\n",
       "      <th></th>\n",
       "      <th></th>\n",
       "      <th></th>\n",
       "      <th></th>\n",
       "    </tr>\n",
       "  </thead>\n",
       "  <tbody>\n",
       "    <tr>\n",
       "      <th>282432754418179</th>\n",
       "      <td>75.986343</td>\n",
       "      <td>8692.085938</td>\n",
       "      <td>17.704937</td>\n",
       "      <td>POSTN</td>\n",
       "      <td>23.400116</td>\n",
       "      <td>0</td>\n",
       "      <td>O1</td>\n",
       "      <td>38.201813</td>\n",
       "      <td>UNASSIGNED</td>\n",
       "    </tr>\n",
       "    <tr>\n",
       "      <th>282432754419384</th>\n",
       "      <td>56.423008</td>\n",
       "      <td>8667.784180</td>\n",
       "      <td>17.845757</td>\n",
       "      <td>SFRP2</td>\n",
       "      <td>40.000000</td>\n",
       "      <td>0</td>\n",
       "      <td>O1</td>\n",
       "      <td>45.278652</td>\n",
       "      <td>UNASSIGNED</td>\n",
       "    </tr>\n",
       "    <tr>\n",
       "      <th>282432754419485</th>\n",
       "      <td>152.738129</td>\n",
       "      <td>8703.814453</td>\n",
       "      <td>17.717131</td>\n",
       "      <td>CTSK</td>\n",
       "      <td>40.000000</td>\n",
       "      <td>0</td>\n",
       "      <td>O1</td>\n",
       "      <td>37.084473</td>\n",
       "      <td>UNASSIGNED</td>\n",
       "    </tr>\n",
       "    <tr>\n",
       "      <th>282432754419614</th>\n",
       "      <td>238.368484</td>\n",
       "      <td>8742.173828</td>\n",
       "      <td>17.484806</td>\n",
       "      <td>CTSK</td>\n",
       "      <td>40.000000</td>\n",
       "      <td>0</td>\n",
       "      <td>O1</td>\n",
       "      <td>97.907654</td>\n",
       "      <td>UNASSIGNED</td>\n",
       "    </tr>\n",
       "    <tr>\n",
       "      <th>282432754420380</th>\n",
       "      <td>222.609283</td>\n",
       "      <td>8645.812500</td>\n",
       "      <td>17.638638</td>\n",
       "      <td>COL14A1</td>\n",
       "      <td>40.000000</td>\n",
       "      <td>0</td>\n",
       "      <td>O1</td>\n",
       "      <td>18.077272</td>\n",
       "      <td>UNASSIGNED</td>\n",
       "    </tr>\n",
       "    <tr>\n",
       "      <th>...</th>\n",
       "      <td>...</td>\n",
       "      <td>...</td>\n",
       "      <td>...</td>\n",
       "      <td>...</td>\n",
       "      <td>...</td>\n",
       "      <td>...</td>\n",
       "      <td>...</td>\n",
       "      <td>...</td>\n",
       "      <td>...</td>\n",
       "    </tr>\n",
       "    <tr>\n",
       "      <th>281659660307288</th>\n",
       "      <td>11406.232422</td>\n",
       "      <td>20086.226562</td>\n",
       "      <td>16.079952</td>\n",
       "      <td>CD74</td>\n",
       "      <td>27.744799</td>\n",
       "      <td>0</td>\n",
       "      <td>AD19</td>\n",
       "      <td>314.498169</td>\n",
       "      <td>UNASSIGNED</td>\n",
       "    </tr>\n",
       "    <tr>\n",
       "      <th>281659660307300</th>\n",
       "      <td>11460.800781</td>\n",
       "      <td>20219.722656</td>\n",
       "      <td>15.784409</td>\n",
       "      <td>TFPI</td>\n",
       "      <td>40.000000</td>\n",
       "      <td>0</td>\n",
       "      <td>AD19</td>\n",
       "      <td>432.839813</td>\n",
       "      <td>UNASSIGNED</td>\n",
       "    </tr>\n",
       "    <tr>\n",
       "      <th>281659660307303</th>\n",
       "      <td>11471.666016</td>\n",
       "      <td>20161.130859</td>\n",
       "      <td>16.058670</td>\n",
       "      <td>TFPI</td>\n",
       "      <td>40.000000</td>\n",
       "      <td>0</td>\n",
       "      <td>AD19</td>\n",
       "      <td>407.971039</td>\n",
       "      <td>UNASSIGNED</td>\n",
       "    </tr>\n",
       "    <tr>\n",
       "      <th>281659660307304</th>\n",
       "      <td>11474.816406</td>\n",
       "      <td>20026.714844</td>\n",
       "      <td>16.236143</td>\n",
       "      <td>CD74</td>\n",
       "      <td>37.259758</td>\n",
       "      <td>0</td>\n",
       "      <td>AD19</td>\n",
       "      <td>359.837860</td>\n",
       "      <td>UNASSIGNED</td>\n",
       "    </tr>\n",
       "    <tr>\n",
       "      <th>281659660307305</th>\n",
       "      <td>11477.341797</td>\n",
       "      <td>20094.171875</td>\n",
       "      <td>15.968393</td>\n",
       "      <td>CD74</td>\n",
       "      <td>40.000000</td>\n",
       "      <td>0</td>\n",
       "      <td>AD19</td>\n",
       "      <td>382.654633</td>\n",
       "      <td>UNASSIGNED</td>\n",
       "    </tr>\n",
       "  </tbody>\n",
       "</table>\n",
       "<p>41617372 rows × 9 columns</p>\n",
       "</div>"
      ],
      "text/plain": [
       "                  coordinates                          properties             \\\n",
       "                            x             y          z       gene         qv   \n",
       "transcript_id                                                                  \n",
       "282432754418179     75.986343   8692.085938  17.704937      POSTN  23.400116   \n",
       "282432754419384     56.423008   8667.784180  17.845757      SFRP2  40.000000   \n",
       "282432754419485    152.738129   8703.814453  17.717131       CTSK  40.000000   \n",
       "282432754419614    238.368484   8742.173828  17.484806       CTSK  40.000000   \n",
       "282432754420380    222.609283   8645.812500  17.638638    COL14A1  40.000000   \n",
       "...                       ...           ...        ...        ...        ...   \n",
       "281659660307288  11406.232422  20086.226562  16.079952       CD74  27.744799   \n",
       "281659660307300  11460.800781  20219.722656  15.784409       TFPI  40.000000   \n",
       "281659660307303  11471.666016  20161.130859  16.058670       TFPI  40.000000   \n",
       "281659660307304  11474.816406  20026.714844  16.236143       CD74  37.259758   \n",
       "281659660307305  11477.341797  20094.171875  15.968393       CD74  40.000000   \n",
       "\n",
       "                                                               cell_id  \n",
       "                overlaps_nucleus fov_name nucleus_distance      xenium  \n",
       "transcript_id                                                           \n",
       "282432754418179                0       O1        38.201813  UNASSIGNED  \n",
       "282432754419384                0       O1        45.278652  UNASSIGNED  \n",
       "282432754419485                0       O1        37.084473  UNASSIGNED  \n",
       "282432754419614                0       O1        97.907654  UNASSIGNED  \n",
       "282432754420380                0       O1        18.077272  UNASSIGNED  \n",
       "...                          ...      ...              ...         ...  \n",
       "281659660307288                0     AD19       314.498169  UNASSIGNED  \n",
       "281659660307300                0     AD19       432.839813  UNASSIGNED  \n",
       "281659660307303                0     AD19       407.971039  UNASSIGNED  \n",
       "281659660307304                0     AD19       359.837860  UNASSIGNED  \n",
       "281659660307305                0     AD19       382.654633  UNASSIGNED  \n",
       "\n",
       "[41617372 rows x 9 columns]"
      ]
     },
     "execution_count": 14,
     "metadata": {},
     "output_type": "execute_result"
    }
   ],
   "source": [
    "xd.transcripts"
   ]
  },
  {
   "cell_type": "code",
   "execution_count": 16,
   "metadata": {},
   "outputs": [],
   "source": [
    "project_path = p.parent / \"testproject\""
   ]
  },
  {
   "cell_type": "code",
   "execution_count": 17,
   "metadata": {},
   "outputs": [
    {
     "name": "stdout",
     "output_type": "stream",
     "text": [
      "Saving data to C:\\Users\\ge37voy\\Downloads\\output_reseg-0004189__TMA__20240503__134622__j1_b1_s1\\testproject\n",
      "Saved.\n"
     ]
    }
   ],
   "source": [
    "xd.saveas(project_path)"
   ]
  },
  {
   "cell_type": "code",
   "execution_count": 18,
   "metadata": {},
   "outputs": [],
   "source": [
    "xd = read_xenium(project_path)"
   ]
  },
  {
   "cell_type": "code",
   "execution_count": 19,
   "metadata": {},
   "outputs": [
    {
     "name": "stdout",
     "output_type": "stream",
     "text": [
      "Loading annotations...\n",
      "No `annotations` modality found.\n",
      "Loading cells...\n",
      "\tNo alternative cells found...\n",
      "Loading images...\n",
      "Loading regions...\n",
      "No `regions` modality found.\n",
      "Loading transcripts...\n"
     ]
    }
   ],
   "source": [
    "xd.load_all()"
   ]
  },
  {
   "cell_type": "code",
   "execution_count": 20,
   "metadata": {},
   "outputs": [
    {
     "data": {
      "text/plain": [
       "\u001b[1m\u001b[31mInSituData\u001b[0m\n",
       "\u001b[1mMethod:\u001b[0m\t\tXenium\n",
       "\u001b[1mSlide ID:\u001b[0m\t0004189\n",
       "\u001b[1mSample ID:\u001b[0m\tTMA\n",
       "\u001b[1mData path:\u001b[0m\tC:\\Users\\ge37voy\\Downloads\\output_reseg-0004189__TMA__20240503__134622__j1_b1_s1\n",
       "\u001b[1mData folder:\u001b[0m\ttestproject\n",
       "\u001b[1mMetadata file:\u001b[0m\t.ispy\n",
       "    ➤ \u001b[34m\u001b[1mimages\u001b[0m\n",
       "       \u001b[1mnuclei:\u001b[0m\t(105268, 54106)\n",
       "    ➤\u001b[32m\u001b[1m cells\u001b[0m\n",
       "       \u001b[1mmatrix\u001b[0m\n",
       "           AnnData object with n_obs × n_vars = 344340 × 477\n",
       "           obs: 'transcript_counts', 'control_probe_counts', 'control_codeword_counts', 'unassigned_codeword_counts', 'deprecated_codeword_counts', 'total_counts', 'cell_area', 'nucleus_area'\n",
       "           var: 'gene_ids', 'feature_types', 'genome'\n",
       "           obsm: 'spatial'\n",
       "           varm: 'binned_expression'\n",
       "       \u001b[1mboundaries\u001b[0m\n",
       "           BoundariesData object with 2 entries:\n",
       "               \u001b[1mcellular\u001b[0m\n",
       "               \u001b[1mnuclear\u001b[0m\n",
       "    ➤\u001b[95m\u001b[1m transcripts\u001b[0m\n",
       "       DataFrame with shape 41617372 x 9"
      ]
     },
     "execution_count": 20,
     "metadata": {},
     "output_type": "execute_result"
    }
   ],
   "source": [
    "xd"
   ]
  },
  {
   "cell_type": "code",
   "execution_count": 21,
   "metadata": {},
   "outputs": [],
   "source": [
    "xd.show()"
   ]
  },
  {
   "cell_type": "code",
   "execution_count": 4,
   "metadata": {},
   "outputs": [
    {
     "name": "stdout",
     "output_type": "stream",
     "text": [
      "Loading annotations...\n",
      "No `annotations` modality found.\n",
      "Loading cells...\n"
     ]
    },
    {
     "ename": "KeyError",
     "evalue": "'morphology_mip_filepath'",
     "output_type": "error",
     "traceback": [
      "\u001b[1;31m---------------------------------------------------------------------------\u001b[0m",
      "\u001b[1;31mKeyError\u001b[0m                                  Traceback (most recent call last)",
      "Cell \u001b[1;32mIn[4], line 1\u001b[0m\n\u001b[1;32m----> 1\u001b[0m \u001b[43mxd\u001b[49m\u001b[38;5;241;43m.\u001b[39;49m\u001b[43mload_all\u001b[49m\u001b[43m(\u001b[49m\u001b[43m)\u001b[49m\n",
      "File \u001b[1;32m~\\Github\\InSituPy\\insitupy\\_core\\insitudata.py:660\u001b[0m, in \u001b[0;36mInSituData.load_all\u001b[1;34m(self, skip)\u001b[0m\n\u001b[0;32m    658\u001b[0m func \u001b[38;5;241m=\u001b[39m \u001b[38;5;28mgetattr\u001b[39m(\u001b[38;5;28mself\u001b[39m, f)\n\u001b[0;32m    659\u001b[0m \u001b[38;5;28;01mtry\u001b[39;00m:\n\u001b[1;32m--> 660\u001b[0m     \u001b[43mfunc\u001b[49m\u001b[43m(\u001b[49m\u001b[43m)\u001b[49m\n\u001b[0;32m    661\u001b[0m \u001b[38;5;28;01mexcept\u001b[39;00m ModalityNotFoundError \u001b[38;5;28;01mas\u001b[39;00m err:\n\u001b[0;32m    662\u001b[0m     \u001b[38;5;28mprint\u001b[39m(err)\n",
      "File \u001b[1;32m~\\Github\\InSituPy\\insitupy\\_core\\insitudata.py:778\u001b[0m, in \u001b[0;36mInSituData.load_images\u001b[1;34m(self, names, nuclei_type)\u001b[0m\n\u001b[0;32m    775\u001b[0m             img_names \u001b[38;5;241m=\u001b[39m [elem \u001b[38;5;28;01mfor\u001b[39;00m m, elem \u001b[38;5;129;01min\u001b[39;00m \u001b[38;5;28mzip\u001b[39m(mask, img_names) \u001b[38;5;28;01mif\u001b[39;00m m]\n\u001b[0;32m    777\u001b[0m     \u001b[38;5;66;03m# get path of image files\u001b[39;00m\n\u001b[1;32m--> 778\u001b[0m     img_files \u001b[38;5;241m=\u001b[39m [\u001b[38;5;28mself\u001b[39m\u001b[38;5;241m.\u001b[39mmetadata[\u001b[38;5;124m\"\u001b[39m\u001b[38;5;124mxenium\u001b[39m\u001b[38;5;124m\"\u001b[39m][\u001b[38;5;124m\"\u001b[39m\u001b[38;5;124mimages\u001b[39m\u001b[38;5;124m\"\u001b[39m][k] \u001b[38;5;28;01mfor\u001b[39;00m k \u001b[38;5;129;01min\u001b[39;00m img_keys]\n\u001b[0;32m    780\u001b[0m \u001b[38;5;66;03m# load image into ImageData object\u001b[39;00m\n\u001b[0;32m    781\u001b[0m \u001b[38;5;28mprint\u001b[39m(\u001b[38;5;124m\"\u001b[39m\u001b[38;5;124mLoading images...\u001b[39m\u001b[38;5;124m\"\u001b[39m, flush\u001b[38;5;241m=\u001b[39m\u001b[38;5;28;01mTrue\u001b[39;00m)\n",
      "File \u001b[1;32m~\\Github\\InSituPy\\insitupy\\_core\\insitudata.py:778\u001b[0m, in \u001b[0;36m<listcomp>\u001b[1;34m(.0)\u001b[0m\n\u001b[0;32m    775\u001b[0m             img_names \u001b[38;5;241m=\u001b[39m [elem \u001b[38;5;28;01mfor\u001b[39;00m m, elem \u001b[38;5;129;01min\u001b[39;00m \u001b[38;5;28mzip\u001b[39m(mask, img_names) \u001b[38;5;28;01mif\u001b[39;00m m]\n\u001b[0;32m    777\u001b[0m     \u001b[38;5;66;03m# get path of image files\u001b[39;00m\n\u001b[1;32m--> 778\u001b[0m     img_files \u001b[38;5;241m=\u001b[39m [\u001b[38;5;28;43mself\u001b[39;49m\u001b[38;5;241;43m.\u001b[39;49m\u001b[43mmetadata\u001b[49m\u001b[43m[\u001b[49m\u001b[38;5;124;43m\"\u001b[39;49m\u001b[38;5;124;43mxenium\u001b[39;49m\u001b[38;5;124;43m\"\u001b[39;49m\u001b[43m]\u001b[49m\u001b[43m[\u001b[49m\u001b[38;5;124;43m\"\u001b[39;49m\u001b[38;5;124;43mimages\u001b[39;49m\u001b[38;5;124;43m\"\u001b[39;49m\u001b[43m]\u001b[49m\u001b[43m[\u001b[49m\u001b[43mk\u001b[49m\u001b[43m]\u001b[49m \u001b[38;5;28;01mfor\u001b[39;00m k \u001b[38;5;129;01min\u001b[39;00m img_keys]\n\u001b[0;32m    780\u001b[0m \u001b[38;5;66;03m# load image into ImageData object\u001b[39;00m\n\u001b[0;32m    781\u001b[0m \u001b[38;5;28mprint\u001b[39m(\u001b[38;5;124m\"\u001b[39m\u001b[38;5;124mLoading images...\u001b[39m\u001b[38;5;124m\"\u001b[39m, flush\u001b[38;5;241m=\u001b[39m\u001b[38;5;28;01mTrue\u001b[39;00m)\n",
      "\u001b[1;31mKeyError\u001b[0m: 'morphology_mip_filepath'"
     ]
    }
   ],
   "source": [
    "xd.load_all()"
   ]
  },
  {
   "cell_type": "code",
   "execution_count": null,
   "metadata": {},
   "outputs": [],
   "source": []
  }
 ],
 "metadata": {
  "kernelspec": {
   "display_name": "insitupy",
   "language": "python",
   "name": "python3"
  },
  "language_info": {
   "codemirror_mode": {
    "name": "ipython",
    "version": 3
   },
   "file_extension": ".py",
   "mimetype": "text/x-python",
   "name": "python",
   "nbconvert_exporter": "python",
   "pygments_lexer": "ipython3",
   "version": "3.9.18"
  }
 },
 "nbformat": 4,
 "nbformat_minor": 2
}
