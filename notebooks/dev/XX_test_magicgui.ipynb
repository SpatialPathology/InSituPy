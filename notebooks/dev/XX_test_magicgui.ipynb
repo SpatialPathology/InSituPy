{
 "cells": [
  {
   "cell_type": "markdown",
   "metadata": {},
   "source": [
    "https://napari.org/stable/guides/magicgui.html"
   ]
  },
  {
   "cell_type": "code",
   "execution_count": 2,
   "metadata": {},
   "outputs": [],
   "source": [
    "from magicgui import magicgui\n",
    "import datetime\n",
    "import pathlib\n",
    "import napari\n",
    "import numpy as np\n"
   ]
  },
  {
   "cell_type": "code",
   "execution_count": 2,
   "metadata": {},
   "outputs": [
    {
     "name": "stderr",
     "output_type": "stream",
     "text": [
      "c:\\Users\\ge37voy\\AppData\\Local\\miniconda3\\envs\\xparse\\lib\\site-packages\\magicgui\\widgets\\_concrete.py:114: FutureWarning: The 'maximum' keyword arguments has been changed to 'max'. In the future this will raise an exception\n",
      "\n",
      "  super(cls, self).__init__(**kwargs)  # type: ignore\n"
     ]
    },
    {
     "data": {
      "text/plain": [
       "<napari._qt.widgets.qt_viewer_dock_widget.QtViewerDockWidget at 0x24d357bd040>"
      ]
     },
     "execution_count": 2,
     "metadata": {},
     "output_type": "execute_result"
    }
   ],
   "source": [
    "@magicgui(call_button='Make Points', n_points={'maximum': 200})\n",
    "def make_points(n_points=40) -> napari.types.LayerDataTuple:\n",
    "  data = 500 * np.random.rand(n_points, 2)\n",
    "  return (data, {'name': 'My Points'}, 'points')\n",
    "\n",
    "viewer = napari.Viewer()\n",
    "viewer.window.add_dock_widget(make_points)"
   ]
  },
  {
   "cell_type": "code",
   "execution_count": 14,
   "metadata": {},
   "outputs": [
    {
     "name": "stderr",
     "output_type": "stream",
     "text": [
      "c:\\Users\\ge37voy\\AppData\\Local\\miniconda3\\envs\\xparse\\lib\\site-packages\\magicgui\\widgets\\_concrete.py:114: FutureWarning: The 'maximum' keyword arguments has been changed to 'max'. In the future this will raise an exception\n",
      "\n",
      "  super(cls, self).__init__(**kwargs)  # type: ignore\n",
      "WARNING: QWindowsWindow::setGeometry: Unable to set geometry 853x533+2611-1031 (frame: 869x572+2603-1062) on QWidgetWindow/\"_QtMainWindowClassWindow\" on \"\\\\.\\DISPLAY28\". Resulting geometry: 567x653+2608-1045 (frame: 583x692+2600-1076) margins: 8, 31, 8, 8 minimum size: 385x492 MINMAXINFO maxSize=0,0 maxpos=0,0 mintrack=401,531 maxtrack=0,0)\n"
     ]
    },
    {
     "data": {
      "text/plain": [
       "<napari._qt.widgets.qt_viewer_dock_widget.QtViewerDockWidget at 0x14dc335c670>"
      ]
     },
     "execution_count": 14,
     "metadata": {},
     "output_type": "execute_result"
    }
   ],
   "source": [
    "@magicgui(\n",
    "  call_button='Make Points', \n",
    "  n_points={'maximum': 200},\n",
    "  layer_name={'choices': [\"A\", \"B\", \"C\"]}\n",
    "  )\n",
    "\n",
    "def make_points(n_points=40, layer_name=\"A\") -> napari.types.LayerDataTuple:\n",
    "  data = 500 * np.random.rand(n_points, 2)\n",
    "  return (data, {'name': layer_name}, 'points')\n",
    "\n",
    "viewer = napari.Viewer()\n",
    "make_points.n_points.value = 100\n",
    "make_points.layer_name.value = \"C\"\n",
    "viewer.window.add_dock_widget(make_points)"
   ]
  },
  {
   "cell_type": "code",
   "execution_count": 16,
   "metadata": {},
   "outputs": [],
   "source": [
    "make_points.layer_name.choices = tuple(list(\"DSFSFD\"))"
   ]
  },
  {
   "cell_type": "code",
   "execution_count": 7,
   "metadata": {},
   "outputs": [
    {
     "data": {
      "text/plain": [
       "<napari._qt.widgets.qt_viewer_dock_widget.QtViewerDockWidget at 0x14dad93be50>"
      ]
     },
     "execution_count": 7,
     "metadata": {},
     "output_type": "execute_result"
    }
   ],
   "source": [
    "import napari.types\n",
    "\n",
    "@magicgui(call_button='Make Points')\n",
    "def make_points(n_points=40) -> napari.types.LayerDataTuple:\n",
    "  data = 500 * np.random.rand(n_points, 2)\n",
    "  props = {'values': np.random.rand(n_points)}\n",
    "  return (data, {'properties': props}, 'points')\n",
    "\n",
    "viewer = napari.Viewer()\n",
    "viewer.window.add_dock_widget(make_points)"
   ]
  },
  {
   "cell_type": "code",
   "execution_count": null,
   "metadata": {},
   "outputs": [],
   "source": []
  },
  {
   "cell_type": "code",
   "execution_count": 13,
   "metadata": {},
   "outputs": [
    {
     "data": {
      "text/plain": [
       "100"
      ]
     },
     "execution_count": 13,
     "metadata": {},
     "output_type": "execute_result"
    }
   ],
   "source": [
    "make_points.n_points.value"
   ]
  },
  {
   "cell_type": "code",
   "execution_count": 20,
   "metadata": {},
   "outputs": [
    {
     "ename": "RuntimeError",
     "evalue": "wrapped C/C++ object of type QComboBox has been deleted",
     "output_type": "error",
     "traceback": [
      "\u001b[1;31m---------------------------------------------------------------------------\u001b[0m",
      "\u001b[1;31mRuntimeError\u001b[0m                              Traceback (most recent call last)",
      "File \u001b[1;32mc:\\Users\\ge37voy\\AppData\\Local\\miniconda3\\envs\\xparse\\lib\\site-packages\\IPython\\core\\formatters.py:708\u001b[0m, in \u001b[0;36mPlainTextFormatter.__call__\u001b[1;34m(self, obj)\u001b[0m\n\u001b[0;32m    701\u001b[0m stream \u001b[39m=\u001b[39m StringIO()\n\u001b[0;32m    702\u001b[0m printer \u001b[39m=\u001b[39m pretty\u001b[39m.\u001b[39mRepresentationPrinter(stream, \u001b[39mself\u001b[39m\u001b[39m.\u001b[39mverbose,\n\u001b[0;32m    703\u001b[0m     \u001b[39mself\u001b[39m\u001b[39m.\u001b[39mmax_width, \u001b[39mself\u001b[39m\u001b[39m.\u001b[39mnewline,\n\u001b[0;32m    704\u001b[0m     max_seq_length\u001b[39m=\u001b[39m\u001b[39mself\u001b[39m\u001b[39m.\u001b[39mmax_seq_length,\n\u001b[0;32m    705\u001b[0m     singleton_pprinters\u001b[39m=\u001b[39m\u001b[39mself\u001b[39m\u001b[39m.\u001b[39msingleton_printers,\n\u001b[0;32m    706\u001b[0m     type_pprinters\u001b[39m=\u001b[39m\u001b[39mself\u001b[39m\u001b[39m.\u001b[39mtype_printers,\n\u001b[0;32m    707\u001b[0m     deferred_pprinters\u001b[39m=\u001b[39m\u001b[39mself\u001b[39m\u001b[39m.\u001b[39mdeferred_printers)\n\u001b[1;32m--> 708\u001b[0m printer\u001b[39m.\u001b[39;49mpretty(obj)\n\u001b[0;32m    709\u001b[0m printer\u001b[39m.\u001b[39mflush()\n\u001b[0;32m    710\u001b[0m \u001b[39mreturn\u001b[39;00m stream\u001b[39m.\u001b[39mgetvalue()\n",
      "File \u001b[1;32mc:\\Users\\ge37voy\\AppData\\Local\\miniconda3\\envs\\xparse\\lib\\site-packages\\IPython\\lib\\pretty.py:393\u001b[0m, in \u001b[0;36mRepresentationPrinter.pretty\u001b[1;34m(self, obj)\u001b[0m\n\u001b[0;32m    390\u001b[0m \u001b[39mfor\u001b[39;00m \u001b[39mcls\u001b[39m \u001b[39min\u001b[39;00m _get_mro(obj_class):\n\u001b[0;32m    391\u001b[0m     \u001b[39mif\u001b[39;00m \u001b[39mcls\u001b[39m \u001b[39min\u001b[39;00m \u001b[39mself\u001b[39m\u001b[39m.\u001b[39mtype_pprinters:\n\u001b[0;32m    392\u001b[0m         \u001b[39m# printer registered in self.type_pprinters\u001b[39;00m\n\u001b[1;32m--> 393\u001b[0m         \u001b[39mreturn\u001b[39;00m \u001b[39mself\u001b[39;49m\u001b[39m.\u001b[39;49mtype_pprinters[\u001b[39mcls\u001b[39;49m](obj, \u001b[39mself\u001b[39;49m, cycle)\n\u001b[0;32m    394\u001b[0m     \u001b[39melse\u001b[39;00m:\n\u001b[0;32m    395\u001b[0m         \u001b[39m# deferred printer\u001b[39;00m\n\u001b[0;32m    396\u001b[0m         printer \u001b[39m=\u001b[39m \u001b[39mself\u001b[39m\u001b[39m.\u001b[39m_in_deferred_types(\u001b[39mcls\u001b[39m)\n",
      "File \u001b[1;32mc:\\Users\\ge37voy\\AppData\\Local\\miniconda3\\envs\\xparse\\lib\\site-packages\\IPython\\lib\\pretty.py:778\u001b[0m, in \u001b[0;36m_repr_pprint\u001b[1;34m(obj, p, cycle)\u001b[0m\n\u001b[0;32m    776\u001b[0m \u001b[39m\u001b[39m\u001b[39m\"\"\"A pprint that just redirects to the normal repr function.\"\"\"\u001b[39;00m\n\u001b[0;32m    777\u001b[0m \u001b[39m# Find newlines and replace them with p.break_()\u001b[39;00m\n\u001b[1;32m--> 778\u001b[0m output \u001b[39m=\u001b[39m \u001b[39mrepr\u001b[39;49m(obj)\n\u001b[0;32m    779\u001b[0m lines \u001b[39m=\u001b[39m output\u001b[39m.\u001b[39msplitlines()\n\u001b[0;32m    780\u001b[0m \u001b[39mwith\u001b[39;00m p\u001b[39m.\u001b[39mgroup():\n",
      "File \u001b[1;32mc:\\Users\\ge37voy\\AppData\\Local\\miniconda3\\envs\\xparse\\lib\\site-packages\\magicgui\\widgets\\bases\\_value_widget.py:102\u001b[0m, in \u001b[0;36mValueWidget.__repr__\u001b[1;34m(self)\u001b[0m\n\u001b[0;32m    100\u001b[0m \u001b[39m\u001b[39m\u001b[39m\"\"\"Return representation of widget of instsance.\"\"\"\u001b[39;00m\n\u001b[0;32m    101\u001b[0m \u001b[39mtry\u001b[39;00m:\n\u001b[1;32m--> 102\u001b[0m     val \u001b[39m=\u001b[39m \u001b[39mself\u001b[39;49m\u001b[39m.\u001b[39;49mvalue \u001b[39mif\u001b[39;00m \u001b[39mself\u001b[39m\u001b[39m.\u001b[39m_bound_value \u001b[39mis\u001b[39;00m Undefined \u001b[39melse\u001b[39;00m \u001b[39mself\u001b[39m\u001b[39m.\u001b[39m_bound_value\n\u001b[0;32m    103\u001b[0m     \u001b[39mreturn\u001b[39;00m (\n\u001b[0;32m    104\u001b[0m         \u001b[39mf\u001b[39m\u001b[39m\"\u001b[39m\u001b[39m{\u001b[39;00m\u001b[39mself\u001b[39m\u001b[39m.\u001b[39mwidget_type\u001b[39m}\u001b[39;00m\u001b[39m(value=\u001b[39m\u001b[39m{\u001b[39;00mval\u001b[39m!r}\u001b[39;00m\u001b[39m, \u001b[39m\u001b[39m\"\u001b[39m\n\u001b[0;32m    105\u001b[0m         \u001b[39mf\u001b[39m\u001b[39m\"\u001b[39m\u001b[39mannotation=\u001b[39m\u001b[39m{\u001b[39;00m\u001b[39mself\u001b[39m\u001b[39m.\u001b[39mannotation\u001b[39m!r}\u001b[39;00m\u001b[39m, name=\u001b[39m\u001b[39m{\u001b[39;00m\u001b[39mself\u001b[39m\u001b[39m.\u001b[39mname\u001b[39m!r}\u001b[39;00m\u001b[39m)\u001b[39m\u001b[39m\"\u001b[39m\n\u001b[0;32m    106\u001b[0m     )\n\u001b[0;32m    107\u001b[0m \u001b[39mexcept\u001b[39;00m \u001b[39mAttributeError\u001b[39;00m:  \u001b[39m# pragma: no cover\u001b[39;00m\n",
      "File \u001b[1;32mc:\\Users\\ge37voy\\AppData\\Local\\miniconda3\\envs\\xparse\\lib\\site-packages\\magicgui\\widgets\\bases\\_categorical_widget.py:65\u001b[0m, in \u001b[0;36mCategoricalWidget.value\u001b[1;34m(self)\u001b[0m\n\u001b[0;32m     62\u001b[0m \u001b[39m@property\u001b[39m\n\u001b[0;32m     63\u001b[0m \u001b[39mdef\u001b[39;00m \u001b[39mvalue\u001b[39m(\u001b[39mself\u001b[39m) \u001b[39m-\u001b[39m\u001b[39m>\u001b[39m T:\n\u001b[0;32m     64\u001b[0m \u001b[39m    \u001b[39m\u001b[39m\"\"\"Return current value of the widget.\"\"\"\u001b[39;00m\n\u001b[1;32m---> 65\u001b[0m     \u001b[39mreturn\u001b[39;00m ValueWidget\u001b[39m.\u001b[39;49mvalue\u001b[39m.\u001b[39;49mfget(\u001b[39mself\u001b[39;49m)\n",
      "File \u001b[1;32mc:\\Users\\ge37voy\\AppData\\Local\\miniconda3\\envs\\xparse\\lib\\site-packages\\magicgui\\widgets\\bases\\_value_widget.py:93\u001b[0m, in \u001b[0;36mValueWidget.value\u001b[1;34m(self)\u001b[0m\n\u001b[0;32m     86\u001b[0m             \u001b[39mraise\u001b[39;00m \u001b[39mRuntimeError\u001b[39;00m(\n\u001b[0;32m     87\u001b[0m                 \u001b[39m\"\u001b[39m\u001b[39mRecursionError in callback bound to \u001b[39m\u001b[39m\"\u001b[39m\n\u001b[0;32m     88\u001b[0m                 \u001b[39mf\u001b[39m\u001b[39m\"\u001b[39m\u001b[39m<\u001b[39m\u001b[39m{\u001b[39;00m\u001b[39mself\u001b[39m\u001b[39m.\u001b[39mwidget_type\u001b[39m!r}\u001b[39;00m\u001b[39m name=\u001b[39m\u001b[39m{\u001b[39;00m\u001b[39mself\u001b[39m\u001b[39m.\u001b[39mname\u001b[39m!r}\u001b[39;00m\u001b[39m>. If you need to \u001b[39m\u001b[39m\"\u001b[39m\n\u001b[0;32m     89\u001b[0m                 \u001b[39m\"\u001b[39m\u001b[39maccess `widget.value` in your bound callback, use \u001b[39m\u001b[39m\"\u001b[39m\n\u001b[0;32m     90\u001b[0m                 \u001b[39m\"\u001b[39m\u001b[39m`widget.get_value()`\u001b[39m\u001b[39m\"\u001b[39m\n\u001b[0;32m     91\u001b[0m             ) \u001b[39mfrom\u001b[39;00m \u001b[39me\u001b[39;00m\n\u001b[0;32m     92\u001b[0m     \u001b[39mreturn\u001b[39;00m cast(T, \u001b[39mself\u001b[39m\u001b[39m.\u001b[39m_bound_value)\n\u001b[1;32m---> 93\u001b[0m \u001b[39mreturn\u001b[39;00m \u001b[39mself\u001b[39;49m\u001b[39m.\u001b[39;49mget_value()\n",
      "File \u001b[1;32mc:\\Users\\ge37voy\\AppData\\Local\\miniconda3\\envs\\xparse\\lib\\site-packages\\magicgui\\widgets\\bases\\_value_widget.py:76\u001b[0m, in \u001b[0;36mValueWidget.get_value\u001b[1;34m(self)\u001b[0m\n\u001b[0;32m     69\u001b[0m \u001b[39mdef\u001b[39;00m \u001b[39mget_value\u001b[39m(\u001b[39mself\u001b[39m) \u001b[39m-\u001b[39m\u001b[39m>\u001b[39m T:\n\u001b[0;32m     70\u001b[0m \u001b[39m    \u001b[39m\u001b[39m\"\"\"Callable version of `self.value`.\u001b[39;00m\n\u001b[0;32m     71\u001b[0m \n\u001b[0;32m     72\u001b[0m \u001b[39m    The main API is to use `self.value`, however, this is here in order to provide\u001b[39;00m\n\u001b[0;32m     73\u001b[0m \u001b[39m    an escape hatch if trying to access the widget's value inside of a callback\u001b[39;00m\n\u001b[0;32m     74\u001b[0m \u001b[39m    bound to self._bound_value.\u001b[39;00m\n\u001b[0;32m     75\u001b[0m \u001b[39m    \"\"\"\u001b[39;00m\n\u001b[1;32m---> 76\u001b[0m     \u001b[39mreturn\u001b[39;00m cast(T, \u001b[39mself\u001b[39;49m\u001b[39m.\u001b[39;49m_widget\u001b[39m.\u001b[39;49m_mgui_get_value())\n",
      "File \u001b[1;32mc:\\Users\\ge37voy\\AppData\\Local\\miniconda3\\envs\\xparse\\lib\\site-packages\\magicgui\\backends\\_qtpy\\widgets.py:865\u001b[0m, in \u001b[0;36mComboBox._mgui_get_value\u001b[1;34m(self)\u001b[0m\n\u001b[0;32m    864\u001b[0m \u001b[39mdef\u001b[39;00m \u001b[39m_mgui_get_value\u001b[39m(\u001b[39mself\u001b[39m) \u001b[39m-\u001b[39m\u001b[39m>\u001b[39m Any:\n\u001b[1;32m--> 865\u001b[0m     \u001b[39mreturn\u001b[39;00m \u001b[39mself\u001b[39m\u001b[39m.\u001b[39m_qwidget\u001b[39m.\u001b[39mitemData(\u001b[39mself\u001b[39;49m\u001b[39m.\u001b[39;49m_qwidget\u001b[39m.\u001b[39;49mcurrentIndex())\n",
      "\u001b[1;31mRuntimeError\u001b[0m: wrapped C/C++ object of type QComboBox has been deleted"
     ]
    }
   ],
   "source": [
    "make_points.layer_name.get_value"
   ]
  },
  {
   "cell_type": "code",
   "execution_count": 18,
   "metadata": {},
   "outputs": [
    {
     "data": {
      "text/plain": [
       "['__annotations__',\n",
       " '__class__',\n",
       " '__class_getitem__',\n",
       " '__delattr__',\n",
       " '__dict__',\n",
       " '__dir__',\n",
       " '__doc__',\n",
       " '__eq__',\n",
       " '__format__',\n",
       " '__ge__',\n",
       " '__getattribute__',\n",
       " '__gt__',\n",
       " '__hash__',\n",
       " '__init__',\n",
       " '__init_subclass__',\n",
       " '__le__',\n",
       " '__len__',\n",
       " '__lt__',\n",
       " '__magicgui_app__',\n",
       " '__module__',\n",
       " '__ne__',\n",
       " '__new__',\n",
       " '__orig_bases__',\n",
       " '__parameters__',\n",
       " '__reduce__',\n",
       " '__reduce_ex__',\n",
       " '__repr__',\n",
       " '__setattr__',\n",
       " '__sizeof__',\n",
       " '__slots__',\n",
       " '__str__',\n",
       " '__subclasshook__',\n",
       " '__weakref__',\n",
       " '_allow_multiple',\n",
       " '_annotation',\n",
       " '_bound_value',\n",
       " '_call_bound',\n",
       " '_default_choices',\n",
       " '_emit_parent',\n",
       " '_explicitly_hidden',\n",
       " '_ipython_display_',\n",
       " '_is_protocol',\n",
       " '_label',\n",
       " '_labeled_widget',\n",
       " '_labeled_widget_ref',\n",
       " '_nullable',\n",
       " '_on_value_change',\n",
       " '_param_kind',\n",
       " '_post_init',\n",
       " '_repr_mimebundle_',\n",
       " '_repr_png_',\n",
       " '_visible',\n",
       " '_widget',\n",
       " 'annotation',\n",
       " 'bind',\n",
       " 'changed',\n",
       " 'choices',\n",
       " 'close',\n",
       " 'current_choice',\n",
       " 'del_choice',\n",
       " 'enabled',\n",
       " 'get_choice',\n",
       " 'get_value',\n",
       " 'gui_only',\n",
       " 'height',\n",
       " 'hide',\n",
       " 'label',\n",
       " 'label_changed',\n",
       " 'max_height',\n",
       " 'max_width',\n",
       " 'min_height',\n",
       " 'min_width',\n",
       " 'name',\n",
       " 'native',\n",
       " 'null_string',\n",
       " 'null_value',\n",
       " 'options',\n",
       " 'param_kind',\n",
       " 'parent',\n",
       " 'parent_changed',\n",
       " 'render',\n",
       " 'reset_choices',\n",
       " 'root_native_widget',\n",
       " 'set_choice',\n",
       " 'show',\n",
       " 'shown',\n",
       " 'tooltip',\n",
       " 'unbind',\n",
       " 'value',\n",
       " 'visible',\n",
       " 'widget_type',\n",
       " 'width']"
      ]
     },
     "execution_count": 18,
     "metadata": {},
     "output_type": "execute_result"
    }
   ],
   "source": [
    "dir(make_points.layer_name)"
   ]
  },
  {
   "cell_type": "code",
   "execution_count": null,
   "metadata": {},
   "outputs": [],
   "source": []
  },
  {
   "cell_type": "code",
   "execution_count": null,
   "metadata": {},
   "outputs": [],
   "source": []
  },
  {
   "cell_type": "code",
   "execution_count": 5,
   "metadata": {},
   "outputs": [
    {
     "data": {
      "text/plain": [
       "__main__.MyGui"
      ]
     },
     "execution_count": 5,
     "metadata": {},
     "output_type": "execute_result"
    }
   ],
   "source": []
  },
  {
   "cell_type": "code",
   "execution_count": 4,
   "metadata": {},
   "outputs": [
    {
     "ename": "TypeError",
     "evalue": "\"widget\" must be a QWidget or a sequence of QWidgets",
     "output_type": "error",
     "traceback": [
      "\u001b[1;31m---------------------------------------------------------------------------\u001b[0m",
      "\u001b[1;31mTypeError\u001b[0m                                 Traceback (most recent call last)",
      "\u001b[1;32mc:\\Users\\ge37voy\\Github\\XeniumData\\notebooks\\XX_test_magicgui.ipynb Cell 10\u001b[0m line \u001b[0;36m1\n\u001b[0;32m     <a href='vscode-notebook-cell:/c%3A/Users/ge37voy/Github/XeniumData/notebooks/XX_test_magicgui.ipynb#X15sZmlsZQ%3D%3D?line=14'>15</a>\u001b[0m         \u001b[39m# do whatever other initialization you want here\u001b[39;00m\n\u001b[0;32m     <a href='vscode-notebook-cell:/c%3A/Users/ge37voy/Github/XeniumData/notebooks/XX_test_magicgui.ipynb#X15sZmlsZQ%3D%3D?line=16'>17</a>\u001b[0m viewer \u001b[39m=\u001b[39m napari\u001b[39m.\u001b[39mViewer()\n\u001b[1;32m---> <a href='vscode-notebook-cell:/c%3A/Users/ge37voy/Github/XeniumData/notebooks/XX_test_magicgui.ipynb#X15sZmlsZQ%3D%3D?line=17'>18</a>\u001b[0m viewer\u001b[39m.\u001b[39;49mwindow\u001b[39m.\u001b[39;49madd_dock_widget(MyGui)\n",
      "File \u001b[1;32mc:\\Users\\ge37voy\\AppData\\Local\\miniconda3\\envs\\xparse\\lib\\site-packages\\napari\\_qt\\qt_main_window.py:923\u001b[0m, in \u001b[0;36mWindow.add_dock_widget\u001b[1;34m(self, widget, name, area, allowed_areas, shortcut, add_vertical_stretch, tabify, menu)\u001b[0m\n\u001b[0;32m    913\u001b[0m     dock_widget \u001b[39m=\u001b[39m QtViewerDockWidget(\n\u001b[0;32m    914\u001b[0m         \u001b[39mself\u001b[39m\u001b[39m.\u001b[39m_qt_viewer,\n\u001b[0;32m    915\u001b[0m         widget,\n\u001b[1;32m   (...)\u001b[0m\n\u001b[0;32m    920\u001b[0m         add_vertical_stretch\u001b[39m=\u001b[39madd_vertical_stretch,\n\u001b[0;32m    921\u001b[0m     )\n\u001b[0;32m    922\u001b[0m \u001b[39melse\u001b[39;00m:\n\u001b[1;32m--> 923\u001b[0m     dock_widget \u001b[39m=\u001b[39m QtViewerDockWidget(\n\u001b[0;32m    924\u001b[0m         \u001b[39mself\u001b[39;49m\u001b[39m.\u001b[39;49m_qt_viewer,\n\u001b[0;32m    925\u001b[0m         widget,\n\u001b[0;32m    926\u001b[0m         name\u001b[39m=\u001b[39;49mname,\n\u001b[0;32m    927\u001b[0m         area\u001b[39m=\u001b[39;49marea,\n\u001b[0;32m    928\u001b[0m         allowed_areas\u001b[39m=\u001b[39;49mallowed_areas,\n\u001b[0;32m    929\u001b[0m         add_vertical_stretch\u001b[39m=\u001b[39;49madd_vertical_stretch,\n\u001b[0;32m    930\u001b[0m     )\n\u001b[0;32m    932\u001b[0m \u001b[39mself\u001b[39m\u001b[39m.\u001b[39m_add_viewer_dock_widget(dock_widget, tabify\u001b[39m=\u001b[39mtabify, menu\u001b[39m=\u001b[39mmenu)\n\u001b[0;32m    934\u001b[0m \u001b[39mif\u001b[39;00m \u001b[39mhasattr\u001b[39m(widget, \u001b[39m'\u001b[39m\u001b[39mreset_choices\u001b[39m\u001b[39m'\u001b[39m):\n\u001b[0;32m    935\u001b[0m     \u001b[39m# Keep the dropdown menus in the widget in sync with the layer model\u001b[39;00m\n\u001b[0;32m    936\u001b[0m     \u001b[39m# if widget has a `reset_choices`, which is true for all magicgui\u001b[39;00m\n\u001b[0;32m    937\u001b[0m     \u001b[39m# `CategoricalWidget`s\u001b[39;00m\n",
      "File \u001b[1;32mc:\\Users\\ge37voy\\AppData\\Local\\miniconda3\\envs\\xparse\\lib\\site-packages\\napari\\_qt\\widgets\\qt_viewer_dock_widget.py:141\u001b[0m, in \u001b[0;36mQtViewerDockWidget.__init__\u001b[1;34m(self, qt_viewer, widget, name, area, allowed_areas, shortcut, object_name, add_vertical_stretch, close_btn)\u001b[0m\n\u001b[0;32m    138\u001b[0m \u001b[39mself\u001b[39m\u001b[39m.\u001b[39msetObjectName(object_name \u001b[39mor\u001b[39;00m name)\n\u001b[0;32m    140\u001b[0m is_vertical \u001b[39m=\u001b[39m area \u001b[39min\u001b[39;00m {\u001b[39m'\u001b[39m\u001b[39mleft\u001b[39m\u001b[39m'\u001b[39m, \u001b[39m'\u001b[39m\u001b[39mright\u001b[39m\u001b[39m'\u001b[39m}\n\u001b[1;32m--> 141\u001b[0m widget \u001b[39m=\u001b[39m combine_widgets(widget, vertical\u001b[39m=\u001b[39;49mis_vertical)\n\u001b[0;32m    142\u001b[0m \u001b[39mself\u001b[39m\u001b[39m.\u001b[39msetWidget(widget)\n\u001b[0;32m    143\u001b[0m \u001b[39mif\u001b[39;00m is_vertical \u001b[39mand\u001b[39;00m add_vertical_stretch:\n",
      "File \u001b[1;32mc:\\Users\\ge37voy\\AppData\\Local\\miniconda3\\envs\\xparse\\lib\\site-packages\\napari\\_qt\\utils.py:343\u001b[0m, in \u001b[0;36mcombine_widgets\u001b[1;34m(widgets, vertical)\u001b[0m\n\u001b[0;32m    341\u001b[0m             container\u001b[39m.\u001b[39mlayout()\u001b[39m.\u001b[39maddWidget(widget)\n\u001b[0;32m    342\u001b[0m         \u001b[39mreturn\u001b[39;00m container\n\u001b[1;32m--> 343\u001b[0m \u001b[39mraise\u001b[39;00m \u001b[39mTypeError\u001b[39;00m(\n\u001b[0;32m    344\u001b[0m     trans\u001b[39m.\u001b[39m_(\u001b[39m'\u001b[39m\u001b[39m\"\u001b[39m\u001b[39mwidget\u001b[39m\u001b[39m\"\u001b[39m\u001b[39m must be a QWidget or a sequence of QWidgets\u001b[39m\u001b[39m'\u001b[39m)\n\u001b[0;32m    345\u001b[0m )\n",
      "\u001b[1;31mTypeError\u001b[0m: \"widget\" must be a QWidget or a sequence of QWidgets"
     ]
    }
   ],
   "source": [
    "from magicgui.widgets import FunctionGui\n",
    "\n",
    "def make_points(n_points=40, name=\"A\") -> napari.types.LayerDataTuple:\n",
    "    data = 500 * np.random.rand(n_points, 2)\n",
    "    return (data, {'name': name}, 'points')\n",
    "\n",
    "class MyGui(FunctionGui):\n",
    "    def __init__(self):\n",
    "        super().__init__(\n",
    "          make_points,\n",
    "          call_button=True,\n",
    "          layout='vertical',\n",
    "          #param_options={...}\n",
    "        )\n",
    "        # do whatever other initialization you want here\n",
    "\n",
    "viewer = napari.Viewer()\n",
    "viewer.window.add_dock_widget(MyGui)"
   ]
  },
  {
   "cell_type": "code",
   "execution_count": null,
   "metadata": {},
   "outputs": [],
   "source": [
    "from magicgui.widgets import FunctionGui\n",
    "\n",
    "def make_points(n_points=40, name=\"A\") -> napari.types.LayerDataTuple:\n",
    "  data = 500 * np.random.rand(n_points, 2)\n",
    "  return (data, {'name': name}, 'points')\n",
    "\n",
    "class MyGui(FunctionGui):\n",
    "    def __init__(self):\n",
    "        super().__init__(\n",
    "          make_points,\n",
    "          call_button=True,\n",
    "          layout='vertical',\n",
    "          #param_options={...}\n",
    "        )\n",
    "        # do whatever other initialization you want here\n",
    "\n",
    "@napari_hook_implementation\n",
    "def napari_experimental_provide_dock_widget():\n",
    "    return MyGui"
   ]
  },
  {
   "cell_type": "code",
   "execution_count": null,
   "metadata": {},
   "outputs": [
    {
     "data": {
      "image/png": "[encoded data removed]",
      "text/plain": [
       "<FunctionGui widget_demo(maybe: bool = False, some_int: int = 0, spin_float=3.14, slider_float=4.5, string='Text goes here', dropdown='first', date=datetime.datetime(2023, 11, 2, 8, 16, 55, 684000), filename=WindowsPath('/some/path.ext'))>"
      ]
     },
     "metadata": {},
     "output_type": "display_data"
    },
    {
     "ename": "",
     "evalue": "",
     "output_type": "error",
     "traceback": [
      "\u001b[1;31mThe Kernel crashed while executing code in the the current cell or a previous cell. Please review the code in the cell(s) to identify a possible cause of the failure. Click <a href='https://aka.ms/vscodeJupyterKernelCrash'>here</a> for more info. View Jupyter <a href='command:jupyter.viewOutput'>log</a> for further details."
     ]
    }
   ],
   "source": [
    "\n",
    "@magicgui(\n",
    "    call_button=\"Calculate\",\n",
    "    slider_float={\"widget_type\": \"FloatSlider\", 'max': 10},\n",
    "    dropdown={\"choices\": ['first', 'second', 'third']},\n",
    ")\n",
    "def widget_demo(\n",
    "    maybe: bool,\n",
    "    some_int: int,\n",
    "    spin_float=3.14159,\n",
    "    slider_float=4.5,\n",
    "    string=\"Text goes here\",\n",
    "    dropdown='first',\n",
    "    date=datetime.datetime.now(),\n",
    "    filename=pathlib.Path('/some/path.ext')\n",
    "):\n",
    "    ...\n",
    "\n",
    "widget_demo.show()"
   ]
  },
  {
   "cell_type": "code",
   "execution_count": null,
   "metadata": {},
   "outputs": [],
   "source": []
  },
  {
   "cell_type": "markdown",
   "metadata": {},
   "source": [
    "## Test napari general"
   ]
  },
  {
   "cell_type": "code",
   "execution_count": 2,
   "metadata": {},
   "outputs": [],
   "source": [
    "from insitupy import CustomPalettes"
   ]
  },
  {
   "cell_type": "code",
   "execution_count": 3,
   "metadata": {},
   "outputs": [],
   "source": [
    "palettes = CustomPalettes()"
   ]
  },
  {
   "cell_type": "code",
   "execution_count": 8,
   "metadata": {},
   "outputs": [
    {
     "data": {
      "text/plain": [
       "['#1f77b4',\n",
       " '#ff7f0e',\n",
       " '#2ca02c',\n",
       " '#d62728',\n",
       " '#9467bd',\n",
       " '#8c564b',\n",
       " '#e377c2',\n",
       " '#bcbd22',\n",
       " '#17becf',\n",
       " '#aec7e8',\n",
       " '#ffbb78',\n",
       " '#98df8a',\n",
       " '#ff9896',\n",
       " '#c5b0d5',\n",
       " '#c49c94',\n",
       " '#f7b6d2',\n",
       " '#dbdb8d',\n",
       " '#9edae5']"
      ]
     },
     "execution_count": 8,
     "metadata": {},
     "output_type": "execute_result"
    }
   ],
   "source": [
    "palettes.tab20_mod.colors"
   ]
  },
  {
   "cell_type": "code",
   "execution_count": 9,
   "metadata": {},
   "outputs": [
    {
     "ename": "ValidationError",
     "evalue": "1 validation error for ColorManager\n__root__\n  Cannot cast array data from dtype('O') to dtype('float64') according to the rule 'safe' (type=type_error)",
     "output_type": "error",
     "traceback": [
      "\u001b[1;31m---------------------------------------------------------------------------\u001b[0m",
      "\u001b[1;31mValidationError\u001b[0m                           Traceback (most recent call last)",
      "\u001b[1;32mc:\\Users\\ge37voy\\Github\\InSituPy\\notebooks\\dev\\XX_test_magicgui.ipynb Cell 22\u001b[0m line \u001b[0;36m4\n\u001b[0;32m     <a href='vscode-notebook-cell:/c%3A/Users/ge37voy/Github/InSituPy/notebooks/dev/XX_test_magicgui.ipynb#X32sZmlsZQ%3D%3D?line=33'>34</a>\u001b[0m point_properties \u001b[39m=\u001b[39m {\n\u001b[0;32m     <a href='vscode-notebook-cell:/c%3A/Users/ge37voy/Github/InSituPy/notebooks/dev/XX_test_magicgui.ipynb#X32sZmlsZQ%3D%3D?line=34'>35</a>\u001b[0m     \u001b[39m'\u001b[39m\u001b[39mabc\u001b[39m\u001b[39m'\u001b[39m: np\u001b[39m.\u001b[39mrandom\u001b[39m.\u001b[39mchoice([\u001b[39mstr\u001b[39m(elem) \u001b[39mfor\u001b[39;00m elem \u001b[39min\u001b[39;00m np\u001b[39m.\u001b[39marange(n_clusters)], n_points),\n\u001b[0;32m     <a href='vscode-notebook-cell:/c%3A/Users/ge37voy/Github/InSituPy/notebooks/dev/XX_test_magicgui.ipynb#X32sZmlsZQ%3D%3D?line=35'>36</a>\u001b[0m     \u001b[39m#'abc': np.random.choice([elem for elem in np.arange(n_clusters)], n_points)\u001b[39;00m\n\u001b[0;32m     <a href='vscode-notebook-cell:/c%3A/Users/ge37voy/Github/InSituPy/notebooks/dev/XX_test_magicgui.ipynb#X32sZmlsZQ%3D%3D?line=36'>37</a>\u001b[0m }\n\u001b[0;32m     <a href='vscode-notebook-cell:/c%3A/Users/ge37voy/Github/InSituPy/notebooks/dev/XX_test_magicgui.ipynb#X32sZmlsZQ%3D%3D?line=38'>39</a>\u001b[0m \u001b[39m# add points\u001b[39;00m\n\u001b[1;32m---> <a href='vscode-notebook-cell:/c%3A/Users/ge37voy/Github/InSituPy/notebooks/dev/XX_test_magicgui.ipynb#X32sZmlsZQ%3D%3D?line=39'>40</a>\u001b[0m points_layer \u001b[39m=\u001b[39m viewer\u001b[39m.\u001b[39;49madd_points(\n\u001b[0;32m     <a href='vscode-notebook-cell:/c%3A/Users/ge37voy/Github/InSituPy/notebooks/dev/XX_test_magicgui.ipynb#X32sZmlsZQ%3D%3D?line=40'>41</a>\u001b[0m     points,\n\u001b[0;32m     <a href='vscode-notebook-cell:/c%3A/Users/ge37voy/Github/InSituPy/notebooks/dev/XX_test_magicgui.ipynb#X32sZmlsZQ%3D%3D?line=41'>42</a>\u001b[0m     properties\u001b[39m=\u001b[39;49mpoint_properties,\n\u001b[0;32m     <a href='vscode-notebook-cell:/c%3A/Users/ge37voy/Github/InSituPy/notebooks/dev/XX_test_magicgui.ipynb#X32sZmlsZQ%3D%3D?line=42'>43</a>\u001b[0m     face_color\u001b[39m=\u001b[39;49m\u001b[39m'\u001b[39;49m\u001b[39mabc\u001b[39;49m\u001b[39m'\u001b[39;49m,\n\u001b[0;32m     <a href='vscode-notebook-cell:/c%3A/Users/ge37voy/Github/InSituPy/notebooks/dev/XX_test_magicgui.ipynb#X32sZmlsZQ%3D%3D?line=43'>44</a>\u001b[0m     face_color_cycle\u001b[39m=\u001b[39;49mcolor_cycle,\n\u001b[0;32m     <a href='vscode-notebook-cell:/c%3A/Users/ge37voy/Github/InSituPy/notebooks/dev/XX_test_magicgui.ipynb#X32sZmlsZQ%3D%3D?line=44'>45</a>\u001b[0m     edge_width\u001b[39m=\u001b[39;49m\u001b[39m0.1\u001b[39;49m,\n\u001b[0;32m     <a href='vscode-notebook-cell:/c%3A/Users/ge37voy/Github/InSituPy/notebooks/dev/XX_test_magicgui.ipynb#X32sZmlsZQ%3D%3D?line=45'>46</a>\u001b[0m )\n",
      "File \u001b[1;32mc:\\Users\\ge37voy\\AppData\\Local\\miniconda3\\envs\\xparse\\lib\\site-packages\\napari\\components\\viewer_model.py:4\u001b[0m, in \u001b[0;36madd_points\u001b[1;34m(self, data, ndim, features, feature_defaults, properties, text, symbol, size, edge_width, edge_width_is_relative, edge_color, edge_color_cycle, edge_colormap, edge_contrast_limits, face_color, face_color_cycle, face_colormap, face_contrast_limits, out_of_slice_display, n_dimensional, name, metadata, scale, translate, rotate, shear, affine, opacity, blending, visible, cache, property_choices, experimental_clipping_planes, shading, canvas_size_limits, antialiasing, shown)\u001b[0m\n\u001b[0;32m      1\u001b[0m \u001b[39mfrom\u001b[39;00m \u001b[39m__future__\u001b[39;00m \u001b[39mimport\u001b[39;00m annotations\n\u001b[0;32m      3\u001b[0m \u001b[39mimport\u001b[39;00m \u001b[39minspect\u001b[39;00m\n\u001b[1;32m----> 4\u001b[0m \u001b[39mimport\u001b[39;00m \u001b[39mitertools\u001b[39;00m\n\u001b[0;32m      5\u001b[0m \u001b[39mimport\u001b[39;00m \u001b[39mos\u001b[39;00m\n\u001b[0;32m      6\u001b[0m \u001b[39mimport\u001b[39;00m \u001b[39mwarnings\u001b[39;00m\n",
      "File \u001b[1;32mc:\\Users\\ge37voy\\AppData\\Local\\miniconda3\\envs\\xparse\\lib\\site-packages\\napari\\layers\\points\\points.py:491\u001b[0m, in \u001b[0;36mPoints.__init__\u001b[1;34m(self, data, ndim, features, feature_defaults, properties, text, symbol, size, edge_width, edge_width_is_relative, edge_color, edge_color_cycle, edge_colormap, edge_contrast_limits, face_color, face_color_cycle, face_colormap, face_contrast_limits, out_of_slice_display, n_dimensional, name, metadata, scale, translate, rotate, shear, affine, opacity, blending, visible, cache, property_choices, experimental_clipping_planes, shading, canvas_size_limits, antialiasing, shown)\u001b[0m\n\u001b[0;32m    478\u001b[0m color_properties \u001b[39m=\u001b[39m (\n\u001b[0;32m    479\u001b[0m     \u001b[39mself\u001b[39m\u001b[39m.\u001b[39m_feature_table\u001b[39m.\u001b[39mproperties()\n\u001b[0;32m    480\u001b[0m     \u001b[39mif\u001b[39;00m \u001b[39mself\u001b[39m\u001b[39m.\u001b[39m_data\u001b[39m.\u001b[39msize \u001b[39m>\u001b[39m \u001b[39m0\u001b[39m\n\u001b[0;32m    481\u001b[0m     \u001b[39melse\u001b[39;00m \u001b[39mself\u001b[39m\u001b[39m.\u001b[39m_feature_table\u001b[39m.\u001b[39mcurrents()\n\u001b[0;32m    482\u001b[0m )\n\u001b[0;32m    483\u001b[0m \u001b[39mself\u001b[39m\u001b[39m.\u001b[39m_edge \u001b[39m=\u001b[39m ColorManager\u001b[39m.\u001b[39m_from_layer_kwargs(\n\u001b[0;32m    484\u001b[0m     n_colors\u001b[39m=\u001b[39m\u001b[39mlen\u001b[39m(data),\n\u001b[0;32m    485\u001b[0m     colors\u001b[39m=\u001b[39medge_color,\n\u001b[1;32m   (...)\u001b[0m\n\u001b[0;32m    489\u001b[0m     properties\u001b[39m=\u001b[39mcolor_properties,\n\u001b[0;32m    490\u001b[0m )\n\u001b[1;32m--> 491\u001b[0m \u001b[39mself\u001b[39m\u001b[39m.\u001b[39m_face \u001b[39m=\u001b[39m ColorManager\u001b[39m.\u001b[39;49m_from_layer_kwargs(\n\u001b[0;32m    492\u001b[0m     n_colors\u001b[39m=\u001b[39;49m\u001b[39mlen\u001b[39;49m(data),\n\u001b[0;32m    493\u001b[0m     colors\u001b[39m=\u001b[39;49mface_color,\n\u001b[0;32m    494\u001b[0m     continuous_colormap\u001b[39m=\u001b[39;49mface_colormap,\n\u001b[0;32m    495\u001b[0m     contrast_limits\u001b[39m=\u001b[39;49mface_contrast_limits,\n\u001b[0;32m    496\u001b[0m     categorical_colormap\u001b[39m=\u001b[39;49mface_color_cycle,\n\u001b[0;32m    497\u001b[0m     properties\u001b[39m=\u001b[39;49mcolor_properties,\n\u001b[0;32m    498\u001b[0m )\n\u001b[0;32m    500\u001b[0m \u001b[39mif\u001b[39;00m n_dimensional \u001b[39mis\u001b[39;00m \u001b[39mnot\u001b[39;00m \u001b[39mNone\u001b[39;00m:\n\u001b[0;32m    501\u001b[0m     \u001b[39mself\u001b[39m\u001b[39m.\u001b[39m_out_of_slice_display \u001b[39m=\u001b[39m n_dimensional\n",
      "File \u001b[1;32mc:\\Users\\ge37voy\\AppData\\Local\\miniconda3\\envs\\xparse\\lib\\site-packages\\napari\\layers\\utils\\color_manager.py:575\u001b[0m, in \u001b[0;36mColorManager._from_layer_kwargs\u001b[1;34m(cls, colors, properties, n_colors, continuous_colormap, contrast_limits, categorical_colormap, color_mode, current_color, default_color_cycle)\u001b[0m\n\u001b[0;32m    567\u001b[0m \u001b[39melse\u001b[39;00m:\n\u001b[0;32m    568\u001b[0m     color_kwargs\u001b[39m.\u001b[39mupdate(\n\u001b[0;32m    569\u001b[0m         {\n\u001b[0;32m    570\u001b[0m             \u001b[39m'\u001b[39m\u001b[39mcolor_mode\u001b[39m\u001b[39m'\u001b[39m: color_mode,\n\u001b[0;32m    571\u001b[0m             \u001b[39m'\u001b[39m\u001b[39mcolor_properties\u001b[39m\u001b[39m'\u001b[39m: color_properties,\n\u001b[0;32m    572\u001b[0m         }\n\u001b[0;32m    573\u001b[0m     )\n\u001b[1;32m--> 575\u001b[0m \u001b[39mreturn\u001b[39;00m \u001b[39mcls\u001b[39m(\u001b[39m*\u001b[39m\u001b[39m*\u001b[39mcolor_kwargs)\n",
      "File \u001b[1;32mc:\\Users\\ge37voy\\AppData\\Local\\miniconda3\\envs\\xparse\\lib\\site-packages\\napari\\utils\\events\\evented_model.py:242\u001b[0m, in \u001b[0;36mEventedModel.__init__\u001b[1;34m(self, **kwargs)\u001b[0m\n\u001b[0;32m    241\u001b[0m \u001b[39mdef\u001b[39;00m \u001b[39m__init__\u001b[39m(\u001b[39mself\u001b[39m, \u001b[39m*\u001b[39m\u001b[39m*\u001b[39mkwargs) \u001b[39m-\u001b[39m\u001b[39m>\u001b[39m \u001b[39mNone\u001b[39;00m:\n\u001b[1;32m--> 242\u001b[0m     \u001b[39msuper\u001b[39m()\u001b[39m.\u001b[39m\u001b[39m__init__\u001b[39m(\u001b[39m*\u001b[39m\u001b[39m*\u001b[39mkwargs)\n\u001b[0;32m    244\u001b[0m     \u001b[39mself\u001b[39m\u001b[39m.\u001b[39m_events\u001b[39m.\u001b[39msource \u001b[39m=\u001b[39m \u001b[39mself\u001b[39m\n\u001b[0;32m    245\u001b[0m     \u001b[39m# add event emitters for each field which is mutable\u001b[39;00m\n",
      "File \u001b[1;32mc:\\Users\\ge37voy\\AppData\\Local\\miniconda3\\envs\\xparse\\lib\\site-packages\\pydantic\\main.py:341\u001b[0m, in \u001b[0;36mpydantic.main.BaseModel.__init__\u001b[1;34m()\u001b[0m\n",
      "\u001b[1;31mValidationError\u001b[0m: 1 validation error for ColorManager\n__root__\n  Cannot cast array data from dtype('O') to dtype('float64') according to the rule 'safe' (type=type_error)"
     ]
    }
   ],
   "source": [
    "import napari\n",
    "from skimage import data\n",
    "import numpy as np\n",
    "\n",
    "# set parameters for point generation\n",
    "n_points = 100\n",
    "n_clusters = 17\n",
    "color_cycle = ['#1f77b4',\n",
    "                '#ff7f0e',\n",
    "                '#2ca02c',\n",
    "                '#d62728',\n",
    "                '#9467bd',\n",
    "                '#8c564b',\n",
    "                '#e377c2',\n",
    "                '#bcbd22',\n",
    "                '#17becf',\n",
    "                '#aec7e8',\n",
    "                '#ffbb78',\n",
    "                '#98df8a',\n",
    "                '#ff9896',\n",
    "                '#c5b0d5',\n",
    "                '#c49c94',\n",
    "                '#f7b6d2',\n",
    "                '#dbdb8d',\n",
    "                '#9edae5'\n",
    "            ]\n",
    "\n",
    "points = np.random.rand(n_points, 2) * 100\n",
    "\n",
    "# start viewer\n",
    "viewer = napari.view_image(data.astronaut(), rgb=True)\n",
    "\n",
    "# set point properties\n",
    "point_properties = {\n",
    "    'abc': np.random.choice([str(elem) for elem in np.arange(n_clusters)], n_points),\n",
    "    #'abc': np.random.choice([elem for elem in np.arange(n_clusters)], n_points)\n",
    "}\n",
    "\n",
    "# add points\n",
    "points_layer = viewer.add_points(\n",
    "    points,\n",
    "    properties=point_properties,\n",
    "    face_color='abc',\n",
    "    face_color_cycle=color_cycle,\n",
    "    edge_width=0.1,\n",
    ")"
   ]
  },
  {
   "cell_type": "code",
   "execution_count": null,
   "metadata": {},
   "outputs": [],
   "source": []
  },
  {
   "cell_type": "code",
   "execution_count": null,
   "metadata": {},
   "outputs": [
    {
     "name": "stderr",
     "output_type": "stream",
     "text": [
      "WARNING: QWindowsWindow::setGeometry: Unable to set geometry 853x533+2545-1185 (frame: 869x572+2537-1216) on QWidgetWindow/\"_QtMainWindowClassWindow\" on \"\\\\.\\DISPLAY10\". Resulting geometry: 567x653+2542-1199 (frame: 583x692+2534-1230) margins: 8, 31, 8, 8 minimum size: 385x492 MINMAXINFO maxSize=0,0 maxpos=0,0 mintrack=401,531 maxtrack=0,0)\n"
     ]
    }
   ],
   "source": [
    "import napari\n",
    "from skimage import data\n",
    "import numpy as np\n",
    "\n",
    "# set parameters for point generation\n",
    "n_points = 100\n",
    "n_clusters = 17\n",
    "points = np.random.rand(n_points, 2) * 100\n",
    "\n",
    "# start viewer\n",
    "viewer = napari.view_image(data.astronaut(), rgb=True)\n",
    "\n",
    "# set point properties\n",
    "point_properties = {\n",
    "    'abc': np.random.choice([str(elem) for elem in np.arange(n_clusters)], n_points),\n",
    "    #'abc': np.random.choice([elem for elem in np.arange(n_clusters)], n_points)\n",
    "}\n",
    "\n",
    "# add points\n",
    "points_layer = viewer.add_points(\n",
    "    points,\n",
    "    properties=point_properties,\n",
    "    face_color='abc',\n",
    "    face_color_cycle=['magenta', 'green'],\n",
    "    edge_width=0.1,\n",
    ")"
   ]
  },
  {
   "cell_type": "code",
   "execution_count": 50,
   "metadata": {},
   "outputs": [
    {
     "name": "stdout",
     "output_type": "stream",
     "text": [
      "napari: 0.4.18\n",
      "Platform: Windows-10-10.0.19045-SP0\n",
      "Python: 3.9.18 (main, Sep 11 2023, 14:09:26) [MSC v.1916 64 bit (AMD64)]\n",
      "Qt: 5.15.2\n",
      "PyQt5: 5.15.9\n",
      "NumPy: 1.25.2\n",
      "SciPy: 1.9.3\n",
      "Dask: 2023.9.2\n",
      "VisPy: 0.12.2\n",
      "magicgui: 0.7.3\n",
      "superqt: 0.6.0\n",
      "in-n-out: 0.1.8\n",
      "app-model: 0.2.2\n",
      "npe2: 0.7.2\n",
      "\n",
      "OpenGL:\n",
      "  - GL version:  4.6.0 Compatibility Profile Context 23.10.24.05.230830\n",
      "  - MAX_TEXTURE_SIZE: 16384\n",
      "\n",
      "Screens:\n",
      "  - screen 1: resolution 2560x1600, scale 1.0\n",
      "  - screen 2: resolution 3840x2160, scale 1.0\n",
      "  - screen 3: resolution 2880x1800, scale 1.0\n",
      "\n",
      "Settings path:\n",
      "  - C:\\Users\\ge37voy\\AppData\\Local\\napari\\xparse_57fe1a37b30a9e37de3a06866d324c7f56a92d1a\\settings.yaml\n",
      "Plugins:\n",
      "  - napari: 0.4.18 (77 contributions)\n",
      "  - napari-console: 0.0.8 (0 contributions)\n",
      "  - napari-svg: 0.1.10 (2 contributions)\n",
      "  - ome-types: 0.4.2 (2 contributions)\n"
     ]
    }
   ],
   "source": [
    "!napari --info"
   ]
  },
  {
   "cell_type": "code",
   "execution_count": 14,
   "metadata": {},
   "outputs": [
    {
     "data": {
      "text/plain": [
       "['A', 'B', 'C']"
      ]
     },
     "execution_count": 14,
     "metadata": {},
     "output_type": "execute_result"
    }
   ],
   "source": [
    "list(\"ABC\")"
   ]
  },
  {
   "cell_type": "code",
   "execution_count": null,
   "metadata": {},
   "outputs": [],
   "source": []
  }
 ],
 "metadata": {
  "kernelspec": {
   "display_name": "xparse",
   "language": "python",
   "name": "python3"
  },
  "language_info": {
   "codemirror_mode": {
    "name": "ipython",
    "version": 3
   },
   "file_extension": ".py",
   "mimetype": "text/x-python",
   "name": "python",
   "nbconvert_exporter": "python",
   "pygments_lexer": "ipython3",
   "version": "3.9.18"
  }
 },
 "nbformat": 4,
 "nbformat_minor": 2
}
