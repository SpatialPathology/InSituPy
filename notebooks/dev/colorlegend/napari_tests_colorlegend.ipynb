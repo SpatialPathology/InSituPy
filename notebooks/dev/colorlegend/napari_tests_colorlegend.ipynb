{
 "cells": [
  {
   "cell_type": "code",
   "execution_count": 68,
   "metadata": {},
   "outputs": [
    {
     "data": {
      "image/png": "[encoded data removed]",
      "text/plain": [
       "<Figure size 100x500 with 1 Axes>"
      ]
     },
     "metadata": {
      "needs_background": "light"
     },
     "output_type": "display_data"
    }
   ],
   "source": [
    "import napari\n",
    "import numpy as np\n",
    "from matplotlib.colors import Normalize\n",
    "from matplotlib.cm import viridis, ScalarMappable\n",
    "import matplotlib.pyplot as plt\n",
    "\n",
    "# Create a viewer\n",
    "viewer = napari.Viewer()\n",
    "\n",
    "# Generate random points\n",
    "num_points = 100\n",
    "points = np.random.rand(num_points, 2) * 512  # Random points in a 512x512 space\n",
    "\n",
    "# Generate random continuous values for coloring\n",
    "values = np.random.rand(num_points)\n",
    "\n",
    "# Normalize the values to the range [0, 1]\n",
    "norm = Normalize(vmin=values.min(), vmax=values.max())\n",
    "normalized_values = norm(values)\n",
    "\n",
    "# Map the normalized values to colors using a colormap\n",
    "colors = viridis(normalized_values)\n",
    "\n",
    "# Add the points layer with the mapped colors\n",
    "viewer.add_points(points, face_color=colors, size=10, edge_color='white', edge_width=0.5)\n",
    "\n",
    "# Create a legend image using Matplotlib\n",
    "fig, ax = plt.subplots(figsize=(1, 5), dpi=100)\n",
    "cbar = plt.colorbar(ScalarMappable(norm=norm, cmap='viridis'), cax=ax)\n",
    "cbar.set_label('Random Value')\n",
    "fig.patch.set_alpha(0)  # Set the figure background to be transparent\n",
    "ax.patch.set_alpha(0)   # Set the axis background to be transparent\n",
    "fig.canvas.draw()\n",
    "fig_shape = fig.canvas.get_width_height()[::-1] + (4,)\n",
    "\n",
    "# Convert the Matplotlib figure to a NumPy array using buffer_rgba\n",
    "legend_image = np.frombuffer(fig.canvas.buffer_rgba(), dtype=np.uint8)\n",
    "legend_image = legend_image.reshape(fig_shape).copy()\n",
    "\n",
    "# Add the legend image to the Napari viewer\n",
    "viewer.add_image(legend_image, name='Color Legend', colormap='gray', opacity=0.8, blending='additive')\n",
    "\n",
    "# Start the Napari event loop\n",
    "napari.run()"
   ]
  },
  {
   "cell_type": "code",
   "execution_count": 1,
   "metadata": {},
   "outputs": [
    {
     "name": "stderr",
     "output_type": "stream",
     "text": [
      "Invalid schema for package 'ome-types', please run 'npe2 validate ome-types' to check for manifest errors.\n"
     ]
    },
    {
     "name": "stderr",
     "output_type": "stream",
     "text": [
      "c:\\Users\\ge37voy\\AppData\\Local\\miniconda3\\envs\\insitupy\\lib\\site-packages\\napari\\layers\\utils\\color_transformations.py:42: UserWarning: The provided colors parameter contained illegal values, resetting all colors values to white.\n",
      "  warnings.warn(\n",
      "c:\\Users\\ge37voy\\AppData\\Local\\miniconda3\\envs\\insitupy\\lib\\site-packages\\napari\\layers\\utils\\color_transformations.py:42: UserWarning: The provided colors parameter contained illegal values, resetting all colors values to white.\n",
      "  warnings.warn(\n",
      "c:\\Users\\ge37voy\\AppData\\Local\\miniconda3\\envs\\insitupy\\lib\\site-packages\\napari\\layers\\utils\\color_transformations.py:42: UserWarning: The provided colors parameter contained illegal values, resetting all colors values to white.\n",
      "  warnings.warn(\n",
      "c:\\Users\\ge37voy\\AppData\\Local\\miniconda3\\envs\\insitupy\\lib\\site-packages\\napari\\layers\\utils\\color_transformations.py:42: UserWarning: The provided colors parameter contained illegal values, resetting all colors values to white.\n",
      "  warnings.warn(\n",
      "c:\\Users\\ge37voy\\AppData\\Local\\miniconda3\\envs\\insitupy\\lib\\site-packages\\napari\\layers\\utils\\color_transformations.py:42: UserWarning: The provided colors parameter contained illegal values, resetting all colors values to white.\n",
      "  warnings.warn(\n",
      "c:\\Users\\ge37voy\\AppData\\Local\\miniconda3\\envs\\insitupy\\lib\\site-packages\\napari\\layers\\utils\\color_transformations.py:42: UserWarning: The provided colors parameter contained illegal values, resetting all colors values to white.\n",
      "  warnings.warn(\n",
      "c:\\Users\\ge37voy\\AppData\\Local\\miniconda3\\envs\\insitupy\\lib\\site-packages\\napari\\layers\\utils\\color_transformations.py:42: UserWarning: The provided colors parameter contained illegal values, resetting all colors values to white.\n",
      "  warnings.warn(\n",
      "c:\\Users\\ge37voy\\AppData\\Local\\miniconda3\\envs\\insitupy\\lib\\site-packages\\napari\\layers\\utils\\color_transformations.py:42: UserWarning: The provided colors parameter contained illegal values, resetting all colors values to white.\n",
      "  warnings.warn(\n",
      "c:\\Users\\ge37voy\\AppData\\Local\\miniconda3\\envs\\insitupy\\lib\\site-packages\\napari\\layers\\utils\\color_transformations.py:42: UserWarning: The provided colors parameter contained illegal values, resetting all colors values to white.\n",
      "  warnings.warn(\n",
      "c:\\Users\\ge37voy\\AppData\\Local\\miniconda3\\envs\\insitupy\\lib\\site-packages\\napari\\layers\\utils\\color_transformations.py:42: UserWarning: The provided colors parameter contained illegal values, resetting all colors values to white.\n",
      "  warnings.warn(\n",
      "c:\\Users\\ge37voy\\AppData\\Local\\miniconda3\\envs\\insitupy\\lib\\site-packages\\napari\\layers\\utils\\color_transformations.py:42: UserWarning: The provided colors parameter contained illegal values, resetting all colors values to white.\n",
      "  warnings.warn(\n"
     ]
    }
   ],
   "source": [
    "import numpy as np\n",
    "import napari\n",
    "from skimage import data\n",
    "from matplotlib.backends.backend_qt5agg import FigureCanvas\n",
    "from matplotlib.figure import Figure\n",
    "from matplotlib.colors import Normalize\n",
    "from matplotlib.cm import ScalarMappable\n",
    "from matplotlib.gridspec import GridSpec\n",
    "\n",
    "# Function to update the colorbar\n",
    "def update_colorbar(cmap, norm):\n",
    "    static_canvas.figure.clear()  # Clear the current figure\n",
    "    gs = GridSpec(1, 1, top=1.2, bottom=0.6, left=-0.5, right=1.5)  # Define the grid spec\n",
    "    axes = static_canvas.figure.add_subplot(gs[0])  # Add subplot with the grid spec\n",
    "    colorbar = static_canvas.figure.colorbar(ScalarMappable(norm=norm, cmap=cmap), ax=axes, orientation='horizontal')\n",
    "    colorbar.set_label('Intensity')\n",
    "    colorbar.ax.tick_params(labelsize=10)  # Adjust tick label size\n",
    "    colorbar.set_ticks(np.linspace(norm.vmin, norm.vmax, num=5))  # Set the number of ticks\n",
    "    axes.set_axis_off()\n",
    "    static_canvas.draw()  # Redraw the canvas\n",
    "\n",
    "# Initial setup\n",
    "blobs_raw = data.binary_blobs(length=64, n_dim=2, volume_fraction=0.1)\n",
    "viewer = napari.view_image(blobs_raw)\n",
    "\n",
    "static_canvas = FigureCanvas(Figure(figsize=(5, 5)))\n",
    "viewer.window.add_dock_widget(static_canvas, area='left', name='Color legend')\n",
    "\n",
    "# Initial colorbar\n",
    "cmap = 'viridis'\n",
    "norm = Normalize(vmin=blobs_raw.min(), vmax=blobs_raw.max())\n",
    "update_colorbar(cmap, norm)\n",
    "\n",
    "napari.run()\n"
   ]
  },
  {
   "cell_type": "code",
   "execution_count": 5,
   "metadata": {},
   "outputs": [],
   "source": [
    "\n",
    "# Example of updating the colorbar with a new colormap\n",
    "new_cmap = 'plasma'\n",
    "update_colorbar(new_cmap, norm)"
   ]
  },
  {
   "cell_type": "code",
   "execution_count": 8,
   "metadata": {},
   "outputs": [],
   "source": [
    "# Initial colorbar\n",
    "cmap = 'viridis'\n",
    "norm = Normalize(vmin=blobs_raw.min(), vmax=blobs_raw.max())\n",
    "update_colorbar(cmap, norm)"
   ]
  },
  {
   "cell_type": "code",
   "execution_count": 7,
   "metadata": {},
   "outputs": [],
   "source": [
    "# Example of updating the colorbar with a new colormap\n",
    "new_cmap = 'plasma'\n",
    "norm = Normalize(vmin=blobs_raw.min(), vmax=blobs_raw.max()*3)\n",
    "update_colorbar(cmap, norm)"
   ]
  },
  {
   "cell_type": "code",
   "execution_count": 71,
   "metadata": {},
   "outputs": [
    {
     "data": {
      "image/png": "[encoded data removed]",
      "text/plain": [
       "<Figure size 100x500 with 1 Axes>"
      ]
     },
     "metadata": {
      "needs_background": "light"
     },
     "output_type": "display_data"
    }
   ],
   "source": [
    "import napari\n",
    "import numpy as np\n",
    "from matplotlib.colors import Normalize\n",
    "from matplotlib.cm import viridis, ScalarMappable\n",
    "import matplotlib.pyplot as plt\n",
    "\n",
    "# Generate random points\n",
    "num_points = 100\n",
    "points = np.random.rand(num_points, 2) * 512  # Random points in a 512x512 space\n",
    "\n",
    "# Generate random continuous values for coloring\n",
    "values = np.random.rand(num_points)\n",
    "\n",
    "# Normalize the values to the range [0, 1]\n",
    "norm = Normalize(vmin=values.min(), vmax=values.max())\n",
    "normalized_values = norm(values)\n",
    "\n",
    "# Map the normalized values to colors using a colormap\n",
    "colors = viridis(normalized_values)\n",
    "\n",
    "# Create a legend image using Matplotlib\n",
    "fig, ax = plt.subplots(figsize=(1, 5), dpi=100)\n",
    "cbar = plt.colorbar(ScalarMappable(norm=norm, cmap='viridis'), cax=ax)\n",
    "cbar.set_label('Random Value')\n",
    "fig.patch.set_alpha(0)  # Set the figure background to be transparent\n",
    "ax.patch.set_alpha(0)   # Set the axis background to be transparent\n",
    "fig.canvas.draw()\n",
    "fig_shape = fig.canvas.get_width_height()[::-1] + (4,)\n",
    "\n",
    "# Convert the Matplotlib figure to a NumPy array using buffer_rgba\n",
    "legend_image = np.frombuffer(fig.canvas.buffer_rgba(), dtype=np.uint8)\n",
    "legend_image = legend_image.reshape(fig_shape).copy()"
   ]
  },
  {
   "cell_type": "code",
   "execution_count": 78,
   "metadata": {},
   "outputs": [],
   "source": [
    "import numpy as np\n",
    "import napari\n",
    "from skimage import data\n",
    "from matplotlib.backends.backend_qt5agg import FigureCanvas\n",
    "from matplotlib.figure import Figure\n",
    "from matplotlib.lines import Line2D\n",
    "\n",
    "\n",
    "\n",
    "blobs_raw = data.binary_blobs(length=64, n_dim=2, volume_fraction=0.1)\n",
    "viewer = napari.view_image(blobs_raw)\n",
    "\n",
    "static_canvas = FigureCanvas(Figure(figsize=(5, 3)))\n",
    "axes = static_canvas.figure.subplots()\n",
    "\n",
    "colors = [\"crimson\", \"purple\", \"gold\"]\n",
    "\n",
    "red_circle = [Line2D([0], [0],\n",
    "                    marker='o', color='w', label=c,\n",
    "                    markerfacecolor=c, markersize=15) for c in colors]\n",
    "\n",
    "axes.legend(handles=red_circle, loc=\"center\", labelspacing=1, borderpad=0.5)\n",
    "axes.set_axis_off()\n",
    "viewer.window.add_dock_widget(static_canvas, area='left', name='Color legend')\n",
    "\n",
    "napari.run()"
   ]
  },
  {
   "cell_type": "code",
   "execution_count": 81,
   "metadata": {},
   "outputs": [],
   "source": [
    "import numpy as np\n",
    "import napari\n",
    "from skimage import data\n",
    "from matplotlib.backends.backend_qt5agg import FigureCanvas\n",
    "from matplotlib.figure import Figure\n",
    "from matplotlib.lines import Line2D\n",
    "\n",
    "# Function to update the legend\n",
    "def update_legend(colors):\n",
    "    static_canvas.figure.clear()  # Clear the current figure\n",
    "    axes = static_canvas.figure.subplots()  # Create new axes\n",
    "    legend_handles = [Line2D([0], [0],\n",
    "                             marker='o', color='w', label=c,\n",
    "                             markerfacecolor=c, markersize=15) for c in colors]\n",
    "    axes.legend(handles=legend_handles, loc=\"center\", labelspacing=1, borderpad=0.5)\n",
    "    axes.set_axis_off()\n",
    "    static_canvas.draw()  # Redraw the canvas\n",
    "\n",
    "# Initial setup\n",
    "blobs_raw = data.binary_blobs(length=64, n_dim=2, volume_fraction=0.1)\n",
    "viewer = napari.view_image(blobs_raw)\n",
    "\n",
    "static_canvas = FigureCanvas(Figure(figsize=(5, 3)))\n",
    "viewer.window.add_dock_widget(static_canvas, area='left', name='Color legend')\n",
    "\n",
    "# Initial legend\n",
    "initial_colors = [\"crimson\", \"purple\", \"gold\"]\n",
    "update_legend(initial_colors)\n",
    "\n",
    "napari.run()"
   ]
  },
  {
   "cell_type": "code",
   "execution_count": 82,
   "metadata": {},
   "outputs": [],
   "source": [
    "\n",
    "# Example of updating the legend with new colors\n",
    "new_colors = [\"blue\", \"green\", \"orange\"]\n",
    "update_legend(new_colors)"
   ]
  },
  {
   "cell_type": "code",
   "execution_count": 90,
   "metadata": {},
   "outputs": [],
   "source": [
    "import numpy as np\n",
    "import napari\n",
    "from skimage import data\n",
    "from matplotlib.backends.backend_qt5agg import FigureCanvas\n",
    "from matplotlib.figure import Figure\n",
    "from matplotlib.colors import Normalize\n",
    "from matplotlib.cm import ScalarMappable\n",
    "\n",
    "# Function to update the colorbar\n",
    "def update_colorbar(cmap, norm):\n",
    "    static_canvas.figure.clear()  # Clear the current figure\n",
    "    axes = static_canvas.figure.subplots()  # Create new axes\n",
    "    #axes = static_canvas.figure.add_axes([0.5, 0.8, 0.8, 0.1])  # [left, bottom, width, height]\n",
    "    colorbar = static_canvas.figure.colorbar(ScalarMappable(norm=norm, cmap=cmap), ax=axes, orientation='horizontal')\n",
    "    colorbar.set_label('Intensity')\n",
    "    axes.set_axis_off()\n",
    "    static_canvas.draw()  # Redraw the canvas\n",
    "\n",
    "# Initial setup\n",
    "blobs_raw = data.binary_blobs(length=64, n_dim=2, volume_fraction=0.1)\n",
    "viewer = napari.view_image(blobs_raw)\n",
    "\n",
    "static_canvas = FigureCanvas(Figure(figsize=(5, 3)))\n",
    "viewer.window.add_dock_widget(static_canvas, area='left', name='Color legend')\n",
    "\n",
    "# Initial colorbar\n",
    "cmap = 'viridis'\n",
    "norm = Normalize(vmin=blobs_raw.min(), vmax=blobs_raw.max())\n",
    "update_colorbar(cmap, norm)\n",
    "\n",
    "napari.run()\n",
    "\n",
    "# Example of updating the colorbar with a new colormap\n",
    "new_cmap = 'plasma'\n",
    "update_colorbar(new_cmap, norm)"
   ]
  },
  {
   "cell_type": "code",
   "execution_count": 94,
   "metadata": {},
   "outputs": [],
   "source": [
    "import numpy as np\n",
    "import napari\n",
    "from skimage import data\n",
    "from matplotlib.backends.backend_qt5agg import FigureCanvas\n",
    "from matplotlib.figure import Figure\n",
    "from matplotlib.colors import Normalize\n",
    "from matplotlib.cm import ScalarMappable\n",
    "\n",
    "# Function to update the colorbar\n",
    "def update_colorbar(cmap, norm):\n",
    "    static_canvas.figure.clear()  # Clear the current figure\n",
    "    axes = static_canvas.figure.subplots()  # Create new axes\n",
    "    #axes = static_canvas.figure.add_axes([0.5, 0.8, 0.8, 0.1])  # [left, bottom, width, height]\n",
    "    colorbar = static_canvas.figure.colorbar(ScalarMappable(norm=norm, cmap=cmap), ax=axes, orientation='horizontal')\n",
    "    colorbar.set_label('Intensity')\n",
    "    axes.set_axis_off()\n",
    "    static_canvas.draw()  # Redraw the canvas\n",
    "\n",
    "# Initial setup\n",
    "blobs_raw = data.binary_blobs(length=64, n_dim=2, volume_fraction=0.1)\n",
    "viewer = napari.view_image(blobs_raw)\n",
    "\n",
    "static_canvas = FigureCanvas(Figure(figsize=(5, 1)))\n",
    "\n",
    "viewer.window.add_dock_widget(static_canvas, area='left', name='Color legend')\n",
    "\n",
    "# Initial colorbar\n",
    "cmap = 'viridis'\n",
    "norm = Normalize(vmin=blobs_raw.min(), vmax=blobs_raw.max())\n",
    "update_colorbar(cmap, norm)\n",
    "\n",
    "napari.run()\n",
    "\n",
    "# Example of updating the colorbar with a new colormap\n",
    "new_cmap = 'plasma'\n",
    "update_colorbar(new_cmap, norm)"
   ]
  },
  {
   "cell_type": "code",
   "execution_count": 115,
   "metadata": {},
   "outputs": [],
   "source": [
    "import numpy as np\n",
    "import napari\n",
    "from skimage import data\n",
    "from matplotlib.backends.backend_qt5agg import FigureCanvas\n",
    "from matplotlib.figure import Figure\n",
    "from matplotlib.colors import Normalize\n",
    "from matplotlib.cm import ScalarMappable\n",
    "from matplotlib.gridspec import GridSpec\n",
    "\n",
    "# Function to update the colorbar\n",
    "def update_colorbar(cmap, norm):\n",
    "    static_canvas.figure.clear()  # Clear the current figure\n",
    "    gs = GridSpec(1, 1, top=1.2, bottom=0.6, left=-0.5, right=1.5)  # Define the grid spec\n",
    "    axes = static_canvas.figure.add_subplot(gs[0])  # Add subplot with the grid spec\n",
    "    colorbar = static_canvas.figure.colorbar(ScalarMappable(norm=norm, cmap=cmap), ax=axes, orientation='horizontal')\n",
    "    colorbar.set_label('Intensity')\n",
    "    colorbar.ax.tick_params(labelsize=10)  # Adjust tick label size\n",
    "    colorbar.set_ticks(np.linspace(norm.vmin, norm.vmax, num=5))  # Set the number of ticks\n",
    "    axes.set_axis_off()\n",
    "    static_canvas.draw()  # Redraw the canvas\n",
    "\n",
    "# Initial setup\n",
    "blobs_raw = data.binary_blobs(length=64, n_dim=2, volume_fraction=0.1)\n",
    "viewer = napari.view_image(blobs_raw)\n",
    "\n",
    "static_canvas = FigureCanvas(Figure(figsize=(5, 5)))\n",
    "viewer.window.add_dock_widget(static_canvas, area='left', name='Color legend')\n",
    "\n",
    "# Initial colorbar\n",
    "cmap = 'viridis'\n",
    "norm = Normalize(vmin=blobs_raw.min(), vmax=blobs_raw.max())\n",
    "update_colorbar(cmap, norm)\n",
    "\n",
    "napari.run()\n",
    "\n",
    "# Example of updating the colorbar with a new colormap\n",
    "new_cmap = 'plasma'\n",
    "update_colorbar(new_cmap, norm)"
   ]
  },
  {
   "cell_type": "code",
   "execution_count": 9,
   "metadata": {},
   "outputs": [],
   "source": [
    "import numpy as np\n",
    "import napari\n",
    "from skimage import data\n",
    "from matplotlib.backends.backend_qt5agg import FigureCanvas\n",
    "from matplotlib.figure import Figure\n",
    "from matplotlib.colors import Normalize\n",
    "from matplotlib.cm import ScalarMappable\n",
    "from matplotlib.gridspec import GridSpec\n",
    "from qtpy.QtWidgets import QPushButton, QVBoxLayout, QWidget\n",
    "\n",
    "# Function to update the colorbar\n",
    "def update_colorbar(cmap, norm):\n",
    "    static_canvas.figure.clear()  # Clear the current figure\n",
    "    gs = GridSpec(1, 1, top=1.2, bottom=0.6, left=-0.5, right=1.5)  # Define the grid spec\n",
    "    axes = static_canvas.figure.add_subplot(gs[0])  # Add subplot with the grid spec\n",
    "    colorbar = static_canvas.figure.colorbar(ScalarMappable(norm=norm, cmap=cmap), ax=axes, orientation='horizontal')\n",
    "    colorbar.set_label('Intensity')\n",
    "    colorbar.ax.tick_params(labelsize=10)  # Adjust tick label size\n",
    "    colorbar.set_ticks(np.linspace(norm.vmin, norm.vmax, num=5))  # Set the number of ticks\n",
    "    axes.set_axis_off()\n",
    "    static_canvas.draw()  # Redraw the canvas\n",
    "\n",
    "# Function to add random points and update the colorbar\n",
    "def add_random_points():\n",
    "    points = np.random.rand(10, 2) * np.array([blobs_raw.shape[0], blobs_raw.shape[1]])\n",
    "    colors = np.random.rand(10)\n",
    "    viewer.add_points(points, face_color=colors, size=10)\n",
    "\n",
    "    # Update colorbar with new normalization based on random colors\n",
    "    norm = Normalize(vmin=colors.min(), vmax=colors.max())\n",
    "    update_colorbar(cmap, norm)\n",
    "\n",
    "# Initial setup\n",
    "blobs_raw = data.binary_blobs(length=64, n_dim=2, volume_fraction=0.1)\n",
    "viewer = napari.view_image(blobs_raw)\n",
    "\n",
    "static_canvas = FigureCanvas(Figure(figsize=(5, 5)))\n",
    "viewer.window.add_dock_widget(static_canvas, area='left', name='Color legend')\n",
    "\n",
    "# Initial colorbar\n",
    "cmap = 'viridis'\n",
    "norm = Normalize(vmin=blobs_raw.min(), vmax=blobs_raw.max())\n",
    "update_colorbar(cmap, norm)\n",
    "\n",
    "# Create a widget with a button to add random points\n",
    "widget = QWidget()\n",
    "layout = QVBoxLayout()\n",
    "button = QPushButton('Add Random Points')\n",
    "button.clicked.connect(add_random_points)\n",
    "layout.addWidget(button)\n",
    "widget.setLayout(layout)\n",
    "viewer.window.add_dock_widget(widget, area='right', name='Add Points')\n",
    "\n",
    "napari.run()"
   ]
  },
  {
   "cell_type": "code",
   "execution_count": 10,
   "metadata": {},
   "outputs": [],
   "source": [
    "import numpy as np\n",
    "import napari\n",
    "from skimage import data\n",
    "from matplotlib.backends.backend_qt5agg import FigureCanvas\n",
    "from matplotlib.figure import Figure\n",
    "from matplotlib.colors import Normalize\n",
    "from matplotlib.cm import ScalarMappable\n",
    "from matplotlib.gridspec import GridSpec\n",
    "from qtpy.QtWidgets import QPushButton, QVBoxLayout, QWidget\n",
    "\n",
    "# Function to update the colorbar\n",
    "def update_colorbar(layer):\n",
    "    static_canvas.figure.clear()  # Clear the current figure\n",
    "    gs = GridSpec(1, 1, top=1.2, bottom=0.6, left=-0.5, right=1.5)  # Define the grid spec\n",
    "    axes = static_canvas.figure.add_subplot(gs[0])  # Add subplot with the grid spec\n",
    "\n",
    "    # Get the colormap and normalization from the layer\n",
    "    cmap = layer.colormap.name if hasattr(layer, 'colormap') else 'viridis'\n",
    "    norm = Normalize(vmin=layer.data.min(), vmax=layer.data.max())\n",
    "\n",
    "    colorbar = static_canvas.figure.colorbar(ScalarMappable(norm=norm, cmap=cmap), ax=axes, orientation='horizontal')\n",
    "    colorbar.set_label('Intensity')\n",
    "    colorbar.ax.tick_params(labelsize=10)  # Adjust tick label size\n",
    "    colorbar.set_ticks(np.linspace(norm.vmin, norm.vmax, num=5))  # Set the number of ticks\n",
    "    axes.set_axis_off()\n",
    "    static_canvas.draw()  # Redraw the canvas\n",
    "\n",
    "# Function to add random points and update the colorbar\n",
    "def add_random_points():\n",
    "    points = np.random.rand(10, 2) * np.array([blobs_raw.shape[0], blobs_raw.shape[1]])\n",
    "    colors = np.random.rand(10)\n",
    "    points_layer = viewer.add_points(points, face_color=colors, size=10)\n",
    "\n",
    "    # Update colorbar with new normalization based on random colors\n",
    "    update_colorbar(points_layer)\n",
    "\n",
    "# Initial setup\n",
    "blobs_raw = data.binary_blobs(length=64, n_dim=2, volume_fraction=0.1)\n",
    "viewer = napari.view_image(blobs_raw)\n",
    "\n",
    "static_canvas = FigureCanvas(Figure(figsize=(5, 5)))\n",
    "viewer.window.add_dock_widget(static_canvas, area='left', name='Color legend')\n",
    "\n",
    "# Initial colorbar\n",
    "update_colorbar(viewer.layers[-1])\n",
    "\n",
    "# Create a widget with a button to add random points\n",
    "widget = QWidget()\n",
    "layout = QVBoxLayout()\n",
    "button = QPushButton('Add Random Points')\n",
    "button.clicked.connect(add_random_points)\n",
    "layout.addWidget(button)\n",
    "widget.setLayout(layout)\n",
    "viewer.window.add_dock_widget(widget, area='right', name='Add Points')\n",
    "\n",
    "# Connect to layer change event to update colorbar based on the top visible layer\n",
    "def on_layer_change(event):\n",
    "    if viewer.layers:\n",
    "        top_visible_layer = next((layer for layer in reversed(viewer.layers) if layer.visible), None)\n",
    "        if top_visible_layer:\n",
    "            update_colorbar(top_visible_layer)\n",
    "\n",
    "viewer.layers.events.changed.connect(on_layer_change)\n",
    "\n",
    "napari.run()"
   ]
  },
  {
   "cell_type": "code",
   "execution_count": 92,
   "metadata": {},
   "outputs": [
    {
     "ename": "RuntimeError",
     "evalue": "wrapped C/C++ object of type FigureCanvasQTAgg has been deleted",
     "output_type": "error",
     "traceback": [
      "\u001b[1;31m---------------------------------------------------------------------------\u001b[0m",
      "\u001b[1;31mRuntimeError\u001b[0m                              Traceback (most recent call last)",
      "Cell \u001b[1;32mIn[92], line 1\u001b[0m\n\u001b[1;32m----> 1\u001b[0m \u001b[43mstatic_canvas\u001b[49m\u001b[38;5;241;43m.\u001b[39;49m\u001b[43mshow\u001b[49m\u001b[43m(\u001b[49m\u001b[43m)\u001b[49m\n",
      "\u001b[1;31mRuntimeError\u001b[0m: wrapped C/C++ object of type FigureCanvasQTAgg has been deleted"
     ]
    }
   ],
   "source": [
    "static_canvas."
   ]
  },
  {
   "cell_type": "code",
   "execution_count": 79,
   "metadata": {},
   "outputs": [],
   "source": [
    "static_canvas.update()"
   ]
  },
  {
   "cell_type": "code",
   "execution_count": 77,
   "metadata": {},
   "outputs": [
    {
     "data": {
      "text/plain": [
       "<napari._qt.widgets.qt_viewer_dock_widget.QtViewerDockWidget at 0x1da183fc820>"
      ]
     },
     "execution_count": 77,
     "metadata": {},
     "output_type": "execute_result"
    }
   ],
   "source": [
    "viewer.window.add_dock_widget(static_canvas, area='left', name='Color legend')\n"
   ]
  },
  {
   "cell_type": "code",
   "execution_count": 75,
   "metadata": {},
   "outputs": [
    {
     "data": {
      "text/plain": [
       "<matplotlib.backends.backend_qtagg.FigureCanvasQTAgg at 0x1da159ef160>"
      ]
     },
     "execution_count": 75,
     "metadata": {},
     "output_type": "execute_result"
    }
   ],
   "source": [
    "static_canvas"
   ]
  },
  {
   "cell_type": "code",
   "execution_count": null,
   "metadata": {},
   "outputs": [],
   "source": [
    "\n",
    "# Add the legend image to the Napari viewer\n",
    "viewer.add_image(legend_image, name='Color Legend', colormap='gray', opacity=0.8, blending='additive')\n",
    "\n",
    "# Start the Napari event loop\n",
    "napari.run()"
   ]
  },
  {
   "cell_type": "code",
   "execution_count": 70,
   "metadata": {},
   "outputs": [
    {
     "data": {
      "text/plain": [
       "<matplotlib.image.AxesImage at 0x1da02362430>"
      ]
     },
     "execution_count": 70,
     "metadata": {},
     "output_type": "execute_result"
    },
    {
     "data": {
      "image/png": "[encoded data removed]",
      "text/plain": [
       "<Figure size 640x480 with 1 Axes>"
      ]
     },
     "metadata": {},
     "output_type": "display_data"
    }
   ],
   "source": [
    "plt.imshow(legend_image)"
   ]
  },
  {
   "cell_type": "code",
   "execution_count": 69,
   "metadata": {},
   "outputs": [
    {
     "data": {
      "text/plain": [
       "(500, 100, 4)"
      ]
     },
     "execution_count": 69,
     "metadata": {},
     "output_type": "execute_result"
    }
   ],
   "source": [
    "fig_shape"
   ]
  },
  {
   "cell_type": "code",
   "execution_count": 38,
   "metadata": {},
   "outputs": [],
   "source": [
    "l = np.frombuffer(fig.canvas.buffer_rgba(), dtype=np.uint8)"
   ]
  },
  {
   "cell_type": "code",
   "execution_count": 45,
   "metadata": {},
   "outputs": [
    {
     "data": {
      "text/plain": [
       "array([255, 255, 255, ..., 255, 255, 255], dtype=uint8)"
      ]
     },
     "execution_count": 45,
     "metadata": {},
     "output_type": "execute_result"
    }
   ],
   "source": [
    "l"
   ]
  },
  {
   "cell_type": "code",
   "execution_count": 44,
   "metadata": {},
   "outputs": [
    {
     "ename": "ValueError",
     "evalue": "cannot reshape array of size 239760 into shape (100,500,4)",
     "output_type": "error",
     "traceback": [
      "\u001b[1;31m---------------------------------------------------------------------------\u001b[0m",
      "\u001b[1;31mValueError\u001b[0m                                Traceback (most recent call last)",
      "Cell \u001b[1;32mIn[44], line 1\u001b[0m\n\u001b[1;32m----> 1\u001b[0m \u001b[43ml\u001b[49m\u001b[38;5;241;43m.\u001b[39;49m\u001b[43mreshape\u001b[49m\u001b[43m(\u001b[49m\u001b[43m(\u001b[49m\u001b[38;5;241;43m100\u001b[39;49m\u001b[43m,\u001b[49m\u001b[38;5;241;43m500\u001b[39;49m\u001b[43m,\u001b[49m\u001b[38;5;241;43m4\u001b[39;49m\u001b[43m)\u001b[49m\u001b[43m)\u001b[49m\n",
      "\u001b[1;31mValueError\u001b[0m: cannot reshape array of size 239760 into shape (100,500,4)"
     ]
    }
   ],
   "source": [
    "l.reshape((100,500,4))"
   ]
  },
  {
   "cell_type": "code",
   "execution_count": 40,
   "metadata": {},
   "outputs": [
    {
     "ename": "ValueError",
     "evalue": "cannot reshape array of size 239760 into shape (500,100,3)",
     "output_type": "error",
     "traceback": [
      "\u001b[1;31m---------------------------------------------------------------------------\u001b[0m",
      "\u001b[1;31mValueError\u001b[0m                                Traceback (most recent call last)",
      "Cell \u001b[1;32mIn[40], line 1\u001b[0m\n\u001b[1;32m----> 1\u001b[0m \u001b[43ml\u001b[49m\u001b[38;5;241;43m.\u001b[39;49m\u001b[43mreshape\u001b[49m\u001b[43m(\u001b[49m\u001b[43mfig\u001b[49m\u001b[38;5;241;43m.\u001b[39;49m\u001b[43mcanvas\u001b[49m\u001b[38;5;241;43m.\u001b[39;49m\u001b[43mget_width_height\u001b[49m\u001b[43m(\u001b[49m\u001b[43m)\u001b[49m\u001b[43m[\u001b[49m\u001b[43m:\u001b[49m\u001b[43m:\u001b[49m\u001b[38;5;241;43m-\u001b[39;49m\u001b[38;5;241;43m1\u001b[39;49m\u001b[43m]\u001b[49m\u001b[43m \u001b[49m\u001b[38;5;241;43m+\u001b[39;49m\u001b[43m \u001b[49m\u001b[43m(\u001b[49m\u001b[38;5;241;43m3\u001b[39;49m\u001b[43m,\u001b[49m\u001b[43m)\u001b[49m\u001b[43m)\u001b[49m\n",
      "\u001b[1;31mValueError\u001b[0m: cannot reshape array of size 239760 into shape (500,100,3)"
     ]
    }
   ],
   "source": [
    "l.reshape(fig.canvas.get_width_height()[::-1] + (3,))"
   ]
  },
  {
   "cell_type": "code",
   "execution_count": 42,
   "metadata": {},
   "outputs": [
    {
     "data": {
      "text/plain": [
       "(100, 500)"
      ]
     },
     "execution_count": 42,
     "metadata": {},
     "output_type": "execute_result"
    }
   ],
   "source": [
    "fig.canvas.get_width_height()"
   ]
  },
  {
   "cell_type": "code",
   "execution_count": 41,
   "metadata": {},
   "outputs": [
    {
     "data": {
      "text/plain": [
       "150000"
      ]
     },
     "execution_count": 41,
     "metadata": {},
     "output_type": "execute_result"
    }
   ],
   "source": [
    "500*100*3"
   ]
  },
  {
   "cell_type": "code",
   "execution_count": 29,
   "metadata": {},
   "outputs": [
    {
     "data": {
      "text/plain": [
       "(239760,)"
      ]
     },
     "execution_count": 29,
     "metadata": {},
     "output_type": "execute_result"
    }
   ],
   "source": [
    "l.shape"
   ]
  },
  {
   "cell_type": "code",
   "execution_count": null,
   "metadata": {},
   "outputs": [],
   "source": []
  },
  {
   "cell_type": "code",
   "execution_count": 13,
   "metadata": {},
   "outputs": [
    {
     "data": {
      "text/plain": [
       "<matplotlib.image.AxesImage at 0x1d9648391c0>"
      ]
     },
     "execution_count": 13,
     "metadata": {},
     "output_type": "execute_result"
    },
    {
     "data": {
      "image/png": "[encoded data removed]",
      "text/plain": [
       "<Figure size 640x480 with 1 Axes>"
      ]
     },
     "metadata": {},
     "output_type": "display_data"
    }
   ],
   "source": [
    "plt.imshow(legend_image)"
   ]
  },
  {
   "cell_type": "code",
   "execution_count": 7,
   "metadata": {},
   "outputs": [
    {
     "name": "stderr",
     "output_type": "stream",
     "text": [
      "C:\\Users\\ge37voy\\AppData\\Local\\Temp\\ipykernel_25692\\1546516849.py:36: MatplotlibDeprecationWarning: The tostring_rgb function was deprecated in Matplotlib 3.8 and will be removed two minor releases later. Use buffer_rgba instead.\n",
      "  legend_image = np.frombuffer(fig.canvas.tostring_rgb(), dtype=np.uint8)\n"
     ]
    },
    {
     "data": {
      "image/png": "[encoded data removed]",
      "text/plain": [
       "<Figure size 100x500 with 1 Axes>"
      ]
     },
     "metadata": {
      "needs_background": "light"
     },
     "output_type": "display_data"
    }
   ],
   "source": [
    "import napari\n",
    "import numpy as np\n",
    "from matplotlib.colors import Normalize\n",
    "from matplotlib.cm import viridis, ScalarMappable\n",
    "import matplotlib.pyplot as plt\n",
    "\n",
    "# Create a viewer\n",
    "viewer = napari.Viewer()\n",
    "\n",
    "# Generate random points\n",
    "num_points = 100\n",
    "points = np.random.rand(num_points, 2) * 512  # Random points in a 512x512 space\n",
    "\n",
    "# Generate random continuous values for coloring\n",
    "values = np.random.rand(num_points)\n",
    "\n",
    "# Normalize the values to the range [0, 1]\n",
    "norm = Normalize(vmin=values.min(), vmax=values.max())\n",
    "normalized_values = norm(values)\n",
    "\n",
    "# Map the normalized values to colors using a colormap\n",
    "colors = viridis(normalized_values)\n",
    "\n",
    "# Add the points layer with the mapped colors\n",
    "viewer.add_points(points, face_color=colors, size=10, edge_color='white', edge_width=0.5)\n",
    "\n",
    "# Create a legend image using Matplotlib\n",
    "fig, ax = plt.subplots(figsize=(1, 5), dpi=100, facecolor='none')\n",
    "cbar = plt.colorbar(ScalarMappable(norm=norm, cmap='viridis'), cax=ax)\n",
    "cbar.set_label('Random Value')\n",
    "fig.patch.set_alpha(0)  # Set the figure background to be transparent\n",
    "ax.patch.set_alpha(0)   # Set the axis background to be transparent\n",
    "fig.canvas.draw()\n",
    "\n",
    "# Convert the Matplotlib figure to a NumPy array\n",
    "legend_image = np.frombuffer(fig.canvas.tostring_rgb(), dtype=np.uint8)\n",
    "legend_image = legend_image.reshape(fig.canvas.get_width_height()[::-1] + (3,))\n",
    "\n",
    "# Add the legend image to the Napari viewer\n",
    "viewer.add_image(legend_image, name='Color Legend', colormap='gray', opacity=0.8, blending='additive')\n",
    "\n",
    "# Optionally, add text annotations for the legend\n",
    "#viewer.add_text('Color Legend', position=(550, 50), color='white', size=20)\n",
    "\n",
    "# Start the Napari event loop\n",
    "napari.run()"
   ]
  },
  {
   "cell_type": "code",
   "execution_count": null,
   "metadata": {},
   "outputs": [],
   "source": []
  }
 ],
 "metadata": {
  "kernelspec": {
   "display_name": "insitupy",
   "language": "python",
   "name": "python3"
  },
  "language_info": {
   "codemirror_mode": {
    "name": "ipython",
    "version": 3
   },
   "file_extension": ".py",
   "mimetype": "text/x-python",
   "name": "python",
   "nbconvert_exporter": "python",
   "pygments_lexer": "ipython3",
   "version": "3.9.18"
  }
 },
 "nbformat": 4,
 "nbformat_minor": 2
}
