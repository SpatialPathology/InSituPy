{
 "cells": [
  {
   "cell_type": "code",
   "execution_count": 2,
   "metadata": {},
   "outputs": [
    {
     "ename": "RuntimeError",
     "evalue": "wrapped C/C++ object of type FigureCanvasQTAgg has been deleted",
     "output_type": "error",
     "traceback": [
      "\u001b[1;31m---------------------------------------------------------------------------\u001b[0m",
      "\u001b[1;31mRuntimeError\u001b[0m                              Traceback (most recent call last)",
      "Cell \u001b[1;32mIn[2], line 20\u001b[0m\n\u001b[0;32m     17\u001b[0m blobs_raw \u001b[38;5;241m=\u001b[39m data\u001b[38;5;241m.\u001b[39mbinary_blobs(length\u001b[38;5;241m=\u001b[39m\u001b[38;5;241m64\u001b[39m, n_dim\u001b[38;5;241m=\u001b[39m\u001b[38;5;241m2\u001b[39m, volume_fraction\u001b[38;5;241m=\u001b[39m\u001b[38;5;241m0.1\u001b[39m)\n\u001b[0;32m     18\u001b[0m viewer \u001b[38;5;241m=\u001b[39m napari\u001b[38;5;241m.\u001b[39mview_image(blobs_raw)\n\u001b[1;32m---> 20\u001b[0m \u001b[43mviewer\u001b[49m\u001b[38;5;241;43m.\u001b[39;49m\u001b[43mwindow\u001b[49m\u001b[38;5;241;43m.\u001b[39;49m\u001b[43madd_dock_widget\u001b[49m\u001b[43m(\u001b[49m\u001b[43mstatic_canvas\u001b[49m\u001b[43m,\u001b[49m\u001b[43m \u001b[49m\u001b[43marea\u001b[49m\u001b[38;5;241;43m=\u001b[39;49m\u001b[38;5;124;43m'\u001b[39;49m\u001b[38;5;124;43mleft\u001b[39;49m\u001b[38;5;124;43m'\u001b[39;49m\u001b[43m,\u001b[49m\u001b[43m \u001b[49m\u001b[43mname\u001b[49m\u001b[38;5;241;43m=\u001b[39;49m\u001b[38;5;124;43m'\u001b[39;49m\u001b[38;5;124;43mColor legend\u001b[39;49m\u001b[38;5;124;43m'\u001b[39;49m\u001b[43m)\u001b[49m\n\u001b[0;32m     22\u001b[0m \u001b[38;5;66;03m# Initial colorbar\u001b[39;00m\n\u001b[0;32m     23\u001b[0m update_colorbar(viewer\u001b[38;5;241m.\u001b[39mlayers[\u001b[38;5;241m-\u001b[39m\u001b[38;5;241m1\u001b[39m])\n",
      "File \u001b[1;32mc:\\Users\\ge37voy\\AppData\\Local\\miniconda3\\envs\\insitupy\\lib\\site-packages\\napari\\_qt\\qt_main_window.py:923\u001b[0m, in \u001b[0;36mWindow.add_dock_widget\u001b[1;34m(self, widget, name, area, allowed_areas, shortcut, add_vertical_stretch, tabify, menu)\u001b[0m\n\u001b[0;32m    913\u001b[0m     dock_widget \u001b[38;5;241m=\u001b[39m QtViewerDockWidget(\n\u001b[0;32m    914\u001b[0m         \u001b[38;5;28mself\u001b[39m\u001b[38;5;241m.\u001b[39m_qt_viewer,\n\u001b[0;32m    915\u001b[0m         widget,\n\u001b[1;32m   (...)\u001b[0m\n\u001b[0;32m    920\u001b[0m         add_vertical_stretch\u001b[38;5;241m=\u001b[39madd_vertical_stretch,\n\u001b[0;32m    921\u001b[0m     )\n\u001b[0;32m    922\u001b[0m \u001b[38;5;28;01melse\u001b[39;00m:\n\u001b[1;32m--> 923\u001b[0m     dock_widget \u001b[38;5;241m=\u001b[39m \u001b[43mQtViewerDockWidget\u001b[49m\u001b[43m(\u001b[49m\n\u001b[0;32m    924\u001b[0m \u001b[43m        \u001b[49m\u001b[38;5;28;43mself\u001b[39;49m\u001b[38;5;241;43m.\u001b[39;49m\u001b[43m_qt_viewer\u001b[49m\u001b[43m,\u001b[49m\n\u001b[0;32m    925\u001b[0m \u001b[43m        \u001b[49m\u001b[43mwidget\u001b[49m\u001b[43m,\u001b[49m\n\u001b[0;32m    926\u001b[0m \u001b[43m        \u001b[49m\u001b[43mname\u001b[49m\u001b[38;5;241;43m=\u001b[39;49m\u001b[43mname\u001b[49m\u001b[43m,\u001b[49m\n\u001b[0;32m    927\u001b[0m \u001b[43m        \u001b[49m\u001b[43marea\u001b[49m\u001b[38;5;241;43m=\u001b[39;49m\u001b[43marea\u001b[49m\u001b[43m,\u001b[49m\n\u001b[0;32m    928\u001b[0m \u001b[43m        \u001b[49m\u001b[43mallowed_areas\u001b[49m\u001b[38;5;241;43m=\u001b[39;49m\u001b[43mallowed_areas\u001b[49m\u001b[43m,\u001b[49m\n\u001b[0;32m    929\u001b[0m \u001b[43m        \u001b[49m\u001b[43madd_vertical_stretch\u001b[49m\u001b[38;5;241;43m=\u001b[39;49m\u001b[43madd_vertical_stretch\u001b[49m\u001b[43m,\u001b[49m\n\u001b[0;32m    930\u001b[0m \u001b[43m    \u001b[49m\u001b[43m)\u001b[49m\n\u001b[0;32m    932\u001b[0m \u001b[38;5;28mself\u001b[39m\u001b[38;5;241m.\u001b[39m_add_viewer_dock_widget(dock_widget, tabify\u001b[38;5;241m=\u001b[39mtabify, menu\u001b[38;5;241m=\u001b[39mmenu)\n\u001b[0;32m    934\u001b[0m \u001b[38;5;28;01mif\u001b[39;00m \u001b[38;5;28mhasattr\u001b[39m(widget, \u001b[38;5;124m'\u001b[39m\u001b[38;5;124mreset_choices\u001b[39m\u001b[38;5;124m'\u001b[39m):\n\u001b[0;32m    935\u001b[0m     \u001b[38;5;66;03m# Keep the dropdown menus in the widget in sync with the layer model\u001b[39;00m\n\u001b[0;32m    936\u001b[0m     \u001b[38;5;66;03m# if widget has a `reset_choices`, which is true for all magicgui\u001b[39;00m\n\u001b[0;32m    937\u001b[0m     \u001b[38;5;66;03m# `CategoricalWidget`s\u001b[39;00m\n",
      "File \u001b[1;32mc:\\Users\\ge37voy\\AppData\\Local\\miniconda3\\envs\\insitupy\\lib\\site-packages\\napari\\_qt\\widgets\\qt_viewer_dock_widget.py:141\u001b[0m, in \u001b[0;36mQtViewerDockWidget.__init__\u001b[1;34m(self, qt_viewer, widget, name, area, allowed_areas, shortcut, object_name, add_vertical_stretch, close_btn)\u001b[0m\n\u001b[0;32m    138\u001b[0m \u001b[38;5;28mself\u001b[39m\u001b[38;5;241m.\u001b[39msetObjectName(object_name \u001b[38;5;129;01mor\u001b[39;00m name)\n\u001b[0;32m    140\u001b[0m is_vertical \u001b[38;5;241m=\u001b[39m area \u001b[38;5;129;01min\u001b[39;00m {\u001b[38;5;124m'\u001b[39m\u001b[38;5;124mleft\u001b[39m\u001b[38;5;124m'\u001b[39m, \u001b[38;5;124m'\u001b[39m\u001b[38;5;124mright\u001b[39m\u001b[38;5;124m'\u001b[39m}\n\u001b[1;32m--> 141\u001b[0m widget \u001b[38;5;241m=\u001b[39m \u001b[43mcombine_widgets\u001b[49m\u001b[43m(\u001b[49m\u001b[43mwidget\u001b[49m\u001b[43m,\u001b[49m\u001b[43m \u001b[49m\u001b[43mvertical\u001b[49m\u001b[38;5;241;43m=\u001b[39;49m\u001b[43mis_vertical\u001b[49m\u001b[43m)\u001b[49m\n\u001b[0;32m    142\u001b[0m \u001b[38;5;28mself\u001b[39m\u001b[38;5;241m.\u001b[39msetWidget(widget)\n\u001b[0;32m    143\u001b[0m \u001b[38;5;28;01mif\u001b[39;00m is_vertical \u001b[38;5;129;01mand\u001b[39;00m add_vertical_stretch:\n",
      "File \u001b[1;32mc:\\Users\\ge37voy\\AppData\\Local\\miniconda3\\envs\\insitupy\\lib\\site-packages\\napari\\_qt\\utils.py:325\u001b[0m, in \u001b[0;36mcombine_widgets\u001b[1;34m(widgets, vertical)\u001b[0m\n\u001b[0;32m    301\u001b[0m \u001b[38;5;28;01mdef\u001b[39;00m \u001b[38;5;21mcombine_widgets\u001b[39m(\n\u001b[0;32m    302\u001b[0m     widgets: Union[QWidget, Sequence[QWidget]], vertical: \u001b[38;5;28mbool\u001b[39m \u001b[38;5;241m=\u001b[39m \u001b[38;5;28;01mFalse\u001b[39;00m\n\u001b[0;32m    303\u001b[0m ) \u001b[38;5;241m-\u001b[39m\u001b[38;5;241m>\u001b[39m QWidget:\n\u001b[0;32m    304\u001b[0m \u001b[38;5;250m    \u001b[39m\u001b[38;5;124;03m\"\"\"Combine a list of widgets into a single QWidget with Layout.\u001b[39;00m\n\u001b[0;32m    305\u001b[0m \n\u001b[0;32m    306\u001b[0m \u001b[38;5;124;03m    Parameters\u001b[39;00m\n\u001b[1;32m   (...)\u001b[0m\n\u001b[0;32m    323\u001b[0m \u001b[38;5;124;03m        If ``widgets`` is neither a ``QWidget`` or a sequence of ``QWidgets``.\u001b[39;00m\n\u001b[0;32m    324\u001b[0m \u001b[38;5;124;03m    \"\"\"\u001b[39;00m\n\u001b[1;32m--> 325\u001b[0m     \u001b[38;5;28;01mif\u001b[39;00m \u001b[38;5;28misinstance\u001b[39m(\u001b[38;5;28;43mgetattr\u001b[39;49m\u001b[43m(\u001b[49m\u001b[43mwidgets\u001b[49m\u001b[43m,\u001b[49m\u001b[43m \u001b[49m\u001b[38;5;124;43m'\u001b[39;49m\u001b[38;5;124;43mnative\u001b[39;49m\u001b[38;5;124;43m'\u001b[39;49m\u001b[43m,\u001b[49m\u001b[43m \u001b[49m\u001b[38;5;28;43;01mNone\u001b[39;49;00m\u001b[43m)\u001b[49m, QWidget):\n\u001b[0;32m    326\u001b[0m         \u001b[38;5;66;03m# compatibility with magicgui v0.2.0 which no longer uses QWidgets\u001b[39;00m\n\u001b[0;32m    327\u001b[0m         \u001b[38;5;66;03m# directly. Like vispy, the backend widget is at widget.native\u001b[39;00m\n\u001b[0;32m    328\u001b[0m         \u001b[38;5;28;01mreturn\u001b[39;00m widgets\u001b[38;5;241m.\u001b[39mnative  \u001b[38;5;66;03m# type: ignore\u001b[39;00m\n\u001b[0;32m    329\u001b[0m     \u001b[38;5;28;01mif\u001b[39;00m \u001b[38;5;28misinstance\u001b[39m(widgets, QWidget):\n",
      "\u001b[1;31mRuntimeError\u001b[0m: wrapped C/C++ object of type FigureCanvasQTAgg has been deleted"
     ]
    }
   ],
   "source": [
    "import numpy as np\n",
    "import napari\n",
    "from skimage import data\n",
    "from qtpy.QtWidgets import QPushButton, QVBoxLayout, QWidget\n",
    "from colorbar_module import static_canvas, update_colorbar\n",
    "\n",
    "# Function to add random points and update the colorbar\n",
    "def add_random_points():\n",
    "    points = np.random.rand(10, 2) * np.array([blobs_raw.shape[0], blobs_raw.shape[1]])\n",
    "    colors = np.random.rand(10)\n",
    "    points_layer = viewer.add_points(points, face_color=colors, size=10)\n",
    "\n",
    "    # Update colorbar with new normalization based on random colors\n",
    "    update_colorbar(points_layer)\n",
    "\n",
    "# Initial setup\n",
    "blobs_raw = data.binary_blobs(length=64, n_dim=2, volume_fraction=0.1)\n",
    "viewer = napari.view_image(blobs_raw)\n",
    "\n",
    "viewer.window.add_dock_widget(static_canvas, area='left', name='Color legend')\n",
    "\n",
    "# Initial colorbar\n",
    "update_colorbar(viewer.layers[-1])\n",
    "\n",
    "# Create a widget with a button to add random points\n",
    "widget = QWidget()\n",
    "layout = QVBoxLayout()\n",
    "button = QPushButton('Add Random Points')\n",
    "button.clicked.connect(add_random_points)\n",
    "layout.addWidget(button)\n",
    "widget.setLayout(layout)\n",
    "viewer.window.add_dock_widget(widget, area='right', name='Add Points')\n",
    "\n",
    "# # Connect to layer change event to update colorbar based on the top visible layer\n",
    "# def on_layer_change(event):\n",
    "#     if viewer.layers:\n",
    "#         top_visible_layer = next((layer for layer in reversed(viewer.layers) if layer.visible), None)\n",
    "#         if top_visible_layer:\n",
    "#             update_colorbar(top_visible_layer)\n",
    "\n",
    "# viewer.layers.events.changed.connect(on_layer_change)\n",
    "\n",
    "napari.run()"
   ]
  },
  {
   "cell_type": "code",
   "execution_count": 7,
   "metadata": {},
   "outputs": [],
   "source": [
    "import insitupy._core.config as config\n",
    "from insitupy._core.config import init_colorlegend_canvas\n",
    "import matplotlib.pyplot as plt"
   ]
  },
  {
   "cell_type": "code",
   "execution_count": 8,
   "metadata": {},
   "outputs": [],
   "source": [
    "init_colorlegend_canvas()"
   ]
  },
  {
   "cell_type": "code",
   "execution_count": 12,
   "metadata": {},
   "outputs": [
    {
     "ename": "AttributeError",
     "evalue": "'NoneType' object has no attribute 'show'",
     "output_type": "error",
     "traceback": [
      "\u001b[1;31m---------------------------------------------------------------------------\u001b[0m",
      "\u001b[1;31mAttributeError\u001b[0m                            Traceback (most recent call last)",
      "Cell \u001b[1;32mIn[12], line 1\u001b[0m\n\u001b[1;32m----> 1\u001b[0m \u001b[43mconfig\u001b[49m\u001b[38;5;241;43m.\u001b[39;49m\u001b[43mstatic_canvas\u001b[49m\u001b[38;5;241;43m.\u001b[39;49m\u001b[43mfigure\u001b[49m\u001b[38;5;241;43m.\u001b[39;49m\u001b[43mcanvas\u001b[49m\u001b[38;5;241;43m.\u001b[39;49m\u001b[43mmanager\u001b[49m\u001b[38;5;241;43m.\u001b[39;49m\u001b[43mshow\u001b[49m()\n",
      "\u001b[1;31mAttributeError\u001b[0m: 'NoneType' object has no attribute 'show'"
     ]
    }
   ],
   "source": [
    "config.static_canvas.figure.canvas.manager.show()"
   ]
  },
  {
   "cell_type": "code",
   "execution_count": 30,
   "metadata": {},
   "outputs": [],
   "source": [
    "config.static_canvas.draw()"
   ]
  },
  {
   "cell_type": "code",
   "execution_count": null,
   "metadata": {},
   "outputs": [],
   "source": []
  },
  {
   "cell_type": "code",
   "execution_count": 29,
   "metadata": {},
   "outputs": [
    {
     "name": "stderr",
     "output_type": "stream",
     "text": [
      "C:\\Users\\ge37voy\\AppData\\Local\\Temp\\ipykernel_10684\\2678432923.py:1: UserWarning: FigureCanvasAgg is non-interactive, and thus cannot be shown\n",
      "  config.static_canvas.figure.show()\n"
     ]
    }
   ],
   "source": [
    "config.stat"
   ]
  },
  {
   "cell_type": "code",
   "execution_count": 27,
   "metadata": {},
   "outputs": [
    {
     "data": {
      "text/plain": [
       "<matplotlib.backends.backend_qtagg.FigureCanvasQTAgg at 0x28ce8c1d280>"
      ]
     },
     "execution_count": 27,
     "metadata": {},
     "output_type": "execute_result"
    }
   ],
   "source": [
    "config.static_canvas"
   ]
  },
  {
   "cell_type": "code",
   "execution_count": 26,
   "metadata": {},
   "outputs": [
    {
     "data": {
      "text/plain": [
       "matplotlib.figure.Figure"
      ]
     },
     "execution_count": 26,
     "metadata": {},
     "output_type": "execute_result"
    }
   ],
   "source": [
    "type(fig)"
   ]
  },
  {
   "cell_type": "code",
   "execution_count": 24,
   "metadata": {},
   "outputs": [
    {
     "data": {
      "text/plain": [
       "<matplotlib.backend_bases.FigureManagerBase at 0x28cebdd57f0>"
      ]
     },
     "execution_count": 24,
     "metadata": {},
     "output_type": "execute_result"
    }
   ],
   "source": [
    "plt._backend_mod.new_figure_manager_given_figure(figure=fig, num=1)"
   ]
  },
  {
   "cell_type": "code",
   "execution_count": 22,
   "metadata": {},
   "outputs": [
    {
     "ename": "NonGuiException",
     "evalue": "FigureCanvasAgg is non-interactive, and thus cannot be shown",
     "output_type": "error",
     "traceback": [
      "\u001b[1;31m---------------------------------------------------------------------------\u001b[0m",
      "\u001b[1;31mNonGuiException\u001b[0m                           Traceback (most recent call last)",
      "Cell \u001b[1;32mIn[22], line 1\u001b[0m\n\u001b[1;32m----> 1\u001b[0m \u001b[43mfig\u001b[49m\u001b[38;5;241;43m.\u001b[39;49m\u001b[43mshow\u001b[49m\u001b[43m(\u001b[49m\u001b[43m)\u001b[49m\n",
      "File \u001b[1;32mc:\\Users\\ge37voy\\AppData\\Local\\miniconda3\\envs\\insitupy\\lib\\site-packages\\matplotlib\\backend_bases.py:2743\u001b[0m, in \u001b[0;36mFigureManagerBase.show\u001b[1;34m(self)\u001b[0m\n\u001b[0;32m   2737\u001b[0m \u001b[38;5;28;01mif\u001b[39;00m sys\u001b[38;5;241m.\u001b[39mplatform \u001b[38;5;241m==\u001b[39m \u001b[38;5;124m\"\u001b[39m\u001b[38;5;124mlinux\u001b[39m\u001b[38;5;124m\"\u001b[39m \u001b[38;5;129;01mand\u001b[39;00m \u001b[38;5;129;01mnot\u001b[39;00m os\u001b[38;5;241m.\u001b[39menviron\u001b[38;5;241m.\u001b[39mget(\u001b[38;5;124m\"\u001b[39m\u001b[38;5;124mDISPLAY\u001b[39m\u001b[38;5;124m\"\u001b[39m):\n\u001b[0;32m   2738\u001b[0m     \u001b[38;5;66;03m# We cannot check _get_running_interactive_framework() ==\u001b[39;00m\n\u001b[0;32m   2739\u001b[0m     \u001b[38;5;66;03m# \"headless\" because that would also suppress the warning when\u001b[39;00m\n\u001b[0;32m   2740\u001b[0m     \u001b[38;5;66;03m# $DISPLAY exists but is invalid, which is more likely an error and\u001b[39;00m\n\u001b[0;32m   2741\u001b[0m     \u001b[38;5;66;03m# thus warrants a warning.\u001b[39;00m\n\u001b[0;32m   2742\u001b[0m     \u001b[38;5;28;01mreturn\u001b[39;00m\n\u001b[1;32m-> 2743\u001b[0m \u001b[38;5;28;01mraise\u001b[39;00m NonGuiException(\n\u001b[0;32m   2744\u001b[0m     \u001b[38;5;124mf\u001b[39m\u001b[38;5;124m\"\u001b[39m\u001b[38;5;132;01m{\u001b[39;00m\u001b[38;5;28mtype\u001b[39m(\u001b[38;5;28mself\u001b[39m\u001b[38;5;241m.\u001b[39mcanvas)\u001b[38;5;241m.\u001b[39m\u001b[38;5;18m__name__\u001b[39m\u001b[38;5;132;01m}\u001b[39;00m\u001b[38;5;124m is non-interactive, and thus cannot be \u001b[39m\u001b[38;5;124m\"\u001b[39m\n\u001b[0;32m   2745\u001b[0m     \u001b[38;5;124mf\u001b[39m\u001b[38;5;124m\"\u001b[39m\u001b[38;5;124mshown\u001b[39m\u001b[38;5;124m\"\u001b[39m)\n",
      "\u001b[1;31mNonGuiException\u001b[0m: FigureCanvasAgg is non-interactive, and thus cannot be shown"
     ]
    }
   ],
   "source": [
    "fig.show()"
   ]
  },
  {
   "cell_type": "code",
   "execution_count": 8,
   "metadata": {},
   "outputs": [
    {
     "ename": "TypeError",
     "evalue": "set_viewer_config() missing 1 required positional argument: 'xdata'",
     "output_type": "error",
     "traceback": [
      "\u001b[1;31m---------------------------------------------------------------------------\u001b[0m",
      "\u001b[1;31mTypeError\u001b[0m                                 Traceback (most recent call last)",
      "Cell \u001b[1;32mIn[8], line 1\u001b[0m\n\u001b[1;32m----> 1\u001b[0m \u001b[43mset_viewer_config\u001b[49m\u001b[43m(\u001b[49m\u001b[43m)\u001b[49m\n",
      "\u001b[1;31mTypeError\u001b[0m: set_viewer_config() missing 1 required positional argument: 'xdata'"
     ]
    }
   ],
   "source": [
    "set_viewer_config()"
   ]
  },
  {
   "cell_type": "code",
   "execution_count": 6,
   "metadata": {},
   "outputs": [
    {
     "ename": "AttributeError",
     "evalue": "module 'insitupy._core.config' has no attribute 'static_canvas'",
     "output_type": "error",
     "traceback": [
      "\u001b[1;31m---------------------------------------------------------------------------\u001b[0m",
      "\u001b[1;31mAttributeError\u001b[0m                            Traceback (most recent call last)",
      "Cell \u001b[1;32mIn[6], line 1\u001b[0m\n\u001b[1;32m----> 1\u001b[0m \u001b[43mconfig\u001b[49m\u001b[38;5;241;43m.\u001b[39;49m\u001b[43mstatic_canvas\u001b[49m\n",
      "\u001b[1;31mAttributeError\u001b[0m: module 'insitupy._core.config' has no attribute 'static_canvas'"
     ]
    }
   ],
   "source": [
    "config.static_canva"
   ]
  },
  {
   "cell_type": "code",
   "execution_count": null,
   "metadata": {},
   "outputs": [],
   "source": []
  },
  {
   "cell_type": "code",
   "execution_count": 3,
   "metadata": {},
   "outputs": [
    {
     "data": {
      "text/plain": [
       "<matplotlib.backends.backend_qtagg.FigureCanvasQTAgg at 0x25b836e9b80>"
      ]
     },
     "execution_count": 3,
     "metadata": {},
     "output_type": "execute_result"
    }
   ],
   "source": [
    "static_canvas"
   ]
  },
  {
   "cell_type": "code",
   "execution_count": null,
   "metadata": {},
   "outputs": [],
   "source": []
  }
 ],
 "metadata": {
  "kernelspec": {
   "display_name": "insitupy",
   "language": "python",
   "name": "python3"
  },
  "language_info": {
   "codemirror_mode": {
    "name": "ipython",
    "version": 3
   },
   "file_extension": ".py",
   "mimetype": "text/x-python",
   "name": "python",
   "nbconvert_exporter": "python",
   "pygments_lexer": "ipython3",
   "version": "3.9.18"
  }
 },
 "nbformat": 4,
 "nbformat_minor": 2
}
