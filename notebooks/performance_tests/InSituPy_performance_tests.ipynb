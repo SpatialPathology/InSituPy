{
 "cells": [
  {
   "cell_type": "markdown",
   "id": "b16df72d-5dd5-47da-a8c3-b569fe97446b",
   "metadata": {
    "tags": []
   },
   "source": [
    "# InSituPy demonstration - Performance tests"
   ]
  },
  {
   "cell_type": "code",
   "execution_count": 1,
   "id": "8bc0c4ed-3587-460e-98d2-6626a020a327",
   "metadata": {},
   "outputs": [],
   "source": [
    "## The following code ensures that all functions and init files are reloaded before executions.\n",
    "%load_ext autoreload\n",
    "%autoreload 2"
   ]
  },
  {
   "cell_type": "code",
   "execution_count": 2,
   "id": "58107e0b-5017-425b-8cd0-9274be2b8253",
   "metadata": {},
   "outputs": [],
   "source": [
    "from pathlib import Path\n",
    "from insitupy import read_xenium\n",
    "from datetime import datetime\n",
    "import shutil\n",
    "import pandas as pd\n",
    "import numpy as np\n",
    "import seaborn as sns\n",
    "import matplotlib.pyplot as plt"
   ]
  },
  {
   "cell_type": "markdown",
   "id": "ae409a19",
   "metadata": {},
   "source": [
    "## Load Xenium data into `InSituData` object"
   ]
  },
  {
   "cell_type": "code",
   "execution_count": 3,
   "id": "2db31fb9",
   "metadata": {},
   "outputs": [],
   "source": [
    "insitupy_project = Path(\"../demo_dataset/demo_insitupy_project\")"
   ]
  },
  {
   "cell_type": "code",
   "execution_count": 4,
   "id": "188ddb98",
   "metadata": {},
   "outputs": [],
   "source": [
    "xd = read_xenium(insitupy_project)"
   ]
  },
  {
   "cell_type": "code",
   "execution_count": 5,
   "id": "22afdac4",
   "metadata": {},
   "outputs": [
    {
     "name": "stdout",
     "output_type": "stream",
     "text": [
      "Loading annotations...\n",
      "Loading cells...\n",
      "\tNo alternative cells found...\n",
      "Loading images...\n",
      "Loading regions...\n",
      "Loading transcripts...\n"
     ]
    }
   ],
   "source": [
    "xd.load_all()"
   ]
  },
  {
   "cell_type": "code",
   "execution_count": 6,
   "id": "7492800a",
   "metadata": {},
   "outputs": [
    {
     "name": "stderr",
     "output_type": "stream",
     "text": [
      "Invalid schema for package 'ome-types', please run 'npe2 validate ome-types' to check for manifest errors.\n"
     ]
    }
   ],
   "source": [
    "xd.show()"
   ]
  },
  {
   "cell_type": "markdown",
   "id": "5fec4d44",
   "metadata": {},
   "source": [
    "## Test writing data to disk"
   ]
  },
  {
   "cell_type": "code",
   "execution_count": 7,
   "id": "8470e426",
   "metadata": {},
   "outputs": [],
   "source": [
    "pixel_size = xd.images.metadata[\"nuclei\"][\"pixel_size\"]\n",
    "shape_um = tuple([elem * pixel_size for elem in xd.images.nuclei[0].shape])\n",
    "center = tuple([int(elem / 2) for elem in shape_um])"
   ]
  },
  {
   "cell_type": "code",
   "execution_count": 8,
   "id": "37f92a7e",
   "metadata": {},
   "outputs": [
    {
     "name": "stdout",
     "output_type": "stream",
     "text": [
      "Saving data to out\\crop4000\n",
      "Saved.\n",
      "Saving data to out\\crop2000\n",
      "Saved.\n",
      "Saving data to out\\crop1000\n",
      "Saved.\n",
      "Saving data to out\\crop500\n",
      "Saved.\n",
      "Saving data to out\\crop250\n",
      "Saved.\n",
      "Delete existing output directory...\n",
      "Saving data to out\\crop4000\n",
      "Saved.\n",
      "Saving data to out\\crop2000\n",
      "Saved.\n",
      "Saving data to out\\crop1000\n",
      "Saved.\n",
      "Saving data to out\\crop500\n",
      "Saved.\n",
      "Saving data to out\\crop250\n",
      "Saved.\n",
      "Delete existing output directory...\n",
      "Saving data to out\\crop4000\n",
      "Saved.\n",
      "Saving data to out\\crop2000\n",
      "Saved.\n",
      "Saving data to out\\crop1000\n",
      "Saved.\n",
      "Saving data to out\\crop500\n",
      "Saved.\n",
      "Saving data to out\\crop250\n",
      "Saved.\n"
     ]
    }
   ],
   "source": [
    "# parameters\n",
    "square_width_list = [4000, 2000, 1000, 500, 250]\n",
    "n_replicates = 3\n",
    "out_dir = Path(\"./out\")\n",
    "\n",
    "dt_list_save = []\n",
    "for _ in range(n_replicates):\n",
    "    # delete existing output directories\n",
    "    if out_dir.exists():\n",
    "        print(\"Delete existing output directory...\")\n",
    "        shutil.rmtree(out_dir)\n",
    "\n",
    "    # append empty list to collect results\n",
    "    dt_list_save.append([])\n",
    "    for square_width in square_width_list:\n",
    "        t0 = datetime.now()\n",
    "        xlim = (int(center[1] - square_width / 2), int(center[1] + square_width / 2))\n",
    "        ylim = (int(center[0] - square_width / 2), int(center[0] + square_width / 2))\n",
    "\n",
    "        # crop data\n",
    "        xd_cropped = xd.crop(xlim=xlim, ylim=ylim)\n",
    "\n",
    "        # save data\n",
    "        xd_cropped.saveas(out_dir / f\"crop{square_width}\")\n",
    "        t1 = datetime.now()\n",
    "        dt_list_save[-1].append(t1 - t0)"
   ]
  },
  {
   "cell_type": "code",
   "execution_count": 9,
   "id": "42aba91b",
   "metadata": {},
   "outputs": [],
   "source": [
    "dt_list_save_sec = [[elem.total_seconds() for elem in l] for l in dt_list_save]"
   ]
  },
  {
   "cell_type": "code",
   "execution_count": 10,
   "id": "b18bd58d",
   "metadata": {},
   "outputs": [],
   "source": [
    "df_save = pd.DataFrame(dt_list_save_sec, columns=square_width_list).T\n",
    "df_save = df_save.reset_index(names=\"Square width [µm]\").melt(id_vars=\"Square width [µm]\", var_name=\"Replicates\", value_name=\"Time [s]\")"
   ]
  },
  {
   "cell_type": "code",
   "execution_count": 11,
   "id": "ab8ac45c",
   "metadata": {},
   "outputs": [
    {
     "data": {
      "text/html": [
       "<div>\n",
       "<style scoped>\n",
       "    .dataframe tbody tr th:only-of-type {\n",
       "        vertical-align: middle;\n",
       "    }\n",
       "\n",
       "    .dataframe tbody tr th {\n",
       "        vertical-align: top;\n",
       "    }\n",
       "\n",
       "    .dataframe thead th {\n",
       "        text-align: right;\n",
       "    }\n",
       "</style>\n",
       "<table border=\"1\" class=\"dataframe\">\n",
       "  <thead>\n",
       "    <tr style=\"text-align: right;\">\n",
       "      <th></th>\n",
       "      <th>Square width [µm]</th>\n",
       "      <th>Replicates</th>\n",
       "      <th>Time [s]</th>\n",
       "    </tr>\n",
       "  </thead>\n",
       "  <tbody>\n",
       "    <tr>\n",
       "      <th>0</th>\n",
       "      <td>4000</td>\n",
       "      <td>0</td>\n",
       "      <td>17.878841</td>\n",
       "    </tr>\n",
       "    <tr>\n",
       "      <th>1</th>\n",
       "      <td>2000</td>\n",
       "      <td>0</td>\n",
       "      <td>6.838400</td>\n",
       "    </tr>\n",
       "    <tr>\n",
       "      <th>2</th>\n",
       "      <td>1000</td>\n",
       "      <td>0</td>\n",
       "      <td>3.249555</td>\n",
       "    </tr>\n",
       "    <tr>\n",
       "      <th>3</th>\n",
       "      <td>500</td>\n",
       "      <td>0</td>\n",
       "      <td>2.530733</td>\n",
       "    </tr>\n",
       "    <tr>\n",
       "      <th>4</th>\n",
       "      <td>250</td>\n",
       "      <td>0</td>\n",
       "      <td>3.594676</td>\n",
       "    </tr>\n",
       "    <tr>\n",
       "      <th>5</th>\n",
       "      <td>4000</td>\n",
       "      <td>1</td>\n",
       "      <td>18.138257</td>\n",
       "    </tr>\n",
       "    <tr>\n",
       "      <th>6</th>\n",
       "      <td>2000</td>\n",
       "      <td>1</td>\n",
       "      <td>6.276418</td>\n",
       "    </tr>\n",
       "    <tr>\n",
       "      <th>7</th>\n",
       "      <td>1000</td>\n",
       "      <td>1</td>\n",
       "      <td>3.453453</td>\n",
       "    </tr>\n",
       "    <tr>\n",
       "      <th>8</th>\n",
       "      <td>500</td>\n",
       "      <td>1</td>\n",
       "      <td>2.516817</td>\n",
       "    </tr>\n",
       "    <tr>\n",
       "      <th>9</th>\n",
       "      <td>250</td>\n",
       "      <td>1</td>\n",
       "      <td>2.306492</td>\n",
       "    </tr>\n",
       "    <tr>\n",
       "      <th>10</th>\n",
       "      <td>4000</td>\n",
       "      <td>2</td>\n",
       "      <td>17.940208</td>\n",
       "    </tr>\n",
       "    <tr>\n",
       "      <th>11</th>\n",
       "      <td>2000</td>\n",
       "      <td>2</td>\n",
       "      <td>6.966354</td>\n",
       "    </tr>\n",
       "    <tr>\n",
       "      <th>12</th>\n",
       "      <td>1000</td>\n",
       "      <td>2</td>\n",
       "      <td>3.526629</td>\n",
       "    </tr>\n",
       "    <tr>\n",
       "      <th>13</th>\n",
       "      <td>500</td>\n",
       "      <td>2</td>\n",
       "      <td>2.658676</td>\n",
       "    </tr>\n",
       "    <tr>\n",
       "      <th>14</th>\n",
       "      <td>250</td>\n",
       "      <td>2</td>\n",
       "      <td>2.489643</td>\n",
       "    </tr>\n",
       "  </tbody>\n",
       "</table>\n",
       "</div>"
      ],
      "text/plain": [
       "    Square width [µm] Replicates   Time [s]\n",
       "0                4000          0  17.878841\n",
       "1                2000          0   6.838400\n",
       "2                1000          0   3.249555\n",
       "3                 500          0   2.530733\n",
       "4                 250          0   3.594676\n",
       "5                4000          1  18.138257\n",
       "6                2000          1   6.276418\n",
       "7                1000          1   3.453453\n",
       "8                 500          1   2.516817\n",
       "9                 250          1   2.306492\n",
       "10               4000          2  17.940208\n",
       "11               2000          2   6.966354\n",
       "12               1000          2   3.526629\n",
       "13                500          2   2.658676\n",
       "14                250          2   2.489643"
      ]
     },
     "execution_count": 11,
     "metadata": {},
     "output_type": "execute_result"
    }
   ],
   "source": [
    "df_save"
   ]
  },
  {
   "cell_type": "code",
   "execution_count": 13,
   "id": "575b9168",
   "metadata": {},
   "outputs": [
    {
     "data": {
      "image/png": "[encoded data removed]",
      "text/plain": [
       "<Figure size 640x480 with 1 Axes>"
      ]
     },
     "metadata": {},
     "output_type": "display_data"
    }
   ],
   "source": [
    "sns.lineplot(df_save, x=\"Square width [µm]\", y=\"Time [s]\")\n",
    "plt.title(\"Performance of writing data to InSituPy project\")\n",
    "plt.savefig(\"performance_writing.pdf\")\n",
    "plt.show()"
   ]
  },
  {
   "cell_type": "markdown",
   "id": "e55e9f85",
   "metadata": {},
   "source": [
    "## Loading performance"
   ]
  },
  {
   "cell_type": "code",
   "execution_count": 45,
   "id": "69d160e4",
   "metadata": {},
   "outputs": [
    {
     "name": "stdout",
     "output_type": "stream",
     "text": [
      "Loading images...\n",
      "Loading cells...\n",
      "\tNo alternative cells found...\n",
      "Loading transcripts...\n"
     ]
    },
    {
     "data": {
      "text/plain": [
       "[datetime.datetime(2024, 8, 8, 8, 40, 26, 864517),\n",
       " datetime.datetime(2024, 8, 8, 8, 40, 27, 73415),\n",
       " datetime.datetime(2024, 8, 8, 8, 40, 30, 867273),\n",
       " datetime.datetime(2024, 8, 8, 8, 40, 31, 231826),\n",
       " datetime.datetime(2024, 8, 8, 8, 40, 35, 121990)]"
      ]
     },
     "execution_count": 45,
     "metadata": {},
     "output_type": "execute_result"
    }
   ],
   "source": [
    "t_list = [datetime.now()]\n",
    "xd = read_xenium(insitupy_project)\n",
    "t_list.append(datetime.now())\n",
    "xd.load_images()\n",
    "t_list.append(datetime.now())\n",
    "xd.load_cells()\n",
    "t_list.append(datetime.now())\n",
    "xd.load_transcripts()\n",
    "t_list.append(datetime.now())\n",
    "t_list"
   ]
  },
  {
   "cell_type": "code",
   "execution_count": 52,
   "id": "767433a3",
   "metadata": {},
   "outputs": [],
   "source": [
    "dt_names = [\"Metadata\", \"Images\", \"Cells\", \"Transcripts\"]\n",
    "dt_list_load = [t_list[i+1] - t_list[i] for i in range(len(t_list)-1)]"
   ]
  },
  {
   "cell_type": "code",
   "execution_count": 53,
   "id": "3f101dd0",
   "metadata": {},
   "outputs": [
    {
     "data": {
      "text/plain": [
       "[datetime.timedelta(microseconds=208898),\n",
       " datetime.timedelta(seconds=3, microseconds=793858),\n",
       " datetime.timedelta(microseconds=364553),\n",
       " datetime.timedelta(seconds=3, microseconds=890164)]"
      ]
     },
     "execution_count": 53,
     "metadata": {},
     "output_type": "execute_result"
    }
   ],
   "source": [
    "dt_list_load"
   ]
  },
  {
   "cell_type": "code",
   "execution_count": 10,
   "id": "210ec66c",
   "metadata": {},
   "outputs": [],
   "source": [
    "from time import time"
   ]
  },
  {
   "cell_type": "code",
   "execution_count": 12,
   "id": "0bc3e403",
   "metadata": {},
   "outputs": [],
   "source": [
    "import time"
   ]
  },
  {
   "cell_type": "code",
   "execution_count": 25,
   "id": "873f8e1c",
   "metadata": {},
   "outputs": [
    {
     "name": "stdout",
     "output_type": "stream",
     "text": [
      "0:00:00\n"
     ]
    }
   ],
   "source": [
    "t1 = datetime.now()\n",
    "t2 = datetime.now()\n",
    "dt = t1 - t2\n",
    "print(dt)"
   ]
  },
  {
   "cell_type": "code",
   "execution_count": 32,
   "id": "714cef10",
   "metadata": {},
   "outputs": [
    {
     "data": {
      "text/plain": [
       "0.0"
      ]
     },
     "execution_count": 32,
     "metadata": {},
     "output_type": "execute_result"
    }
   ],
   "source": [
    "dt.total_seconds()"
   ]
  },
  {
   "cell_type": "code",
   "execution_count": null,
   "id": "4a845716",
   "metadata": {},
   "outputs": [
    {
     "data": {
      "text/plain": [
       "'2718'"
      ]
     },
     "metadata": {},
     "output_type": "display_data"
    }
   ],
   "source": [
    "t1 = time.time()\n",
    "t2 = time.time()\n",
    "dt = t1 - t2\n",
    "time.strftime(\"%M%S\")"
   ]
  },
  {
   "cell_type": "code",
   "execution_count": 23,
   "id": "cb4025dd",
   "metadata": {},
   "outputs": [
    {
     "data": {
      "text/plain": [
       "0.0"
      ]
     },
     "execution_count": 23,
     "metadata": {},
     "output_type": "execute_result"
    }
   ],
   "source": [
    "dt"
   ]
  },
  {
   "cell_type": "code",
   "execution_count": 22,
   "id": "fa915b49",
   "metadata": {},
   "outputs": [
    {
     "ename": "TypeError",
     "evalue": "Tuple or struct_time argument required",
     "output_type": "error",
     "traceback": [
      "\u001b[1;31m---------------------------------------------------------------------------\u001b[0m",
      "\u001b[1;31mTypeError\u001b[0m                                 Traceback (most recent call last)",
      "Cell \u001b[1;32mIn[22], line 1\u001b[0m\n\u001b[1;32m----> 1\u001b[0m \u001b[43mtime\u001b[49m\u001b[38;5;241;43m.\u001b[39;49m\u001b[43mstrftime\u001b[49m\u001b[43m(\u001b[49m\u001b[38;5;124;43m\"\u001b[39;49m\u001b[38;5;124;43m%\u001b[39;49m\u001b[38;5;124;43mS\u001b[39;49m\u001b[38;5;124;43m\"\u001b[39;49m\u001b[43m,\u001b[49m\u001b[43m \u001b[49m\u001b[43mdt\u001b[49m\u001b[43m)\u001b[49m\n",
      "\u001b[1;31mTypeError\u001b[0m: Tuple or struct_time argument required"
     ]
    }
   ],
   "source": [
    "time.strftime(\"%S\", dt)"
   ]
  },
  {
   "cell_type": "code",
   "execution_count": 21,
   "id": "7ddd6f70",
   "metadata": {},
   "outputs": [
    {
     "name": "stdout",
     "output_type": "stream",
     "text": [
      "0.0\n"
     ]
    }
   ],
   "source": [
    "print(dt)"
   ]
  },
  {
   "cell_type": "code",
   "execution_count": 8,
   "id": "ae606b79",
   "metadata": {},
   "outputs": [
    {
     "name": "stdout",
     "output_type": "stream",
     "text": [
      "Loading images...\n",
      "Loading cells...\n",
      "\tNo alternative cells found...\n"
     ]
    }
   ],
   "source": [
    "xd.load_images()\n",
    "xd.load_cells()"
   ]
  },
  {
   "cell_type": "markdown",
   "id": "a7cc74ee",
   "metadata": {},
   "source": [
    "Note: That the `annotations` and `regions` modalities are not found here is expected. Annotations and regions are added in a later step."
   ]
  },
  {
   "cell_type": "code",
   "execution_count": 20,
   "id": "7a864387",
   "metadata": {},
   "outputs": [
    {
     "data": {
      "text/plain": [
       "\u001b[1m\u001b[31mInSituData\u001b[0m\n",
       "\u001b[1mMethod:\u001b[0m\t\tXenium\n",
       "\u001b[1mSlide ID:\u001b[0m\t0001879\n",
       "\u001b[1mSample ID:\u001b[0m\tReplicate 1\n",
       "\u001b[1mData path:\u001b[0m\tdemo_dataset\n",
       "\u001b[1mData folder:\u001b[0m\tdemo_insitupy_project\n",
       "\u001b[1mMetadata file:\u001b[0m\t.ispy\n",
       "    ➤ \u001b[34m\u001b[1mimages\u001b[0m\n",
       "       \u001b[1mnuclei:\u001b[0m\t(25778, 35416)\n",
       "       \u001b[1mCD20:\u001b[0m\t(25778, 35416)\n",
       "       \u001b[1mHER2:\u001b[0m\t(25778, 35416)\n",
       "       \u001b[1mHE:\u001b[0m\t(25778, 35416, 3)\n",
       "    ➤\u001b[32m\u001b[1m cells\u001b[0m\n",
       "       \u001b[1mmatrix\u001b[0m\n",
       "           AnnData object with n_obs × n_vars = 167780 × 313\n",
       "           obs: 'transcript_counts', 'control_probe_counts', 'control_codeword_counts', 'total_counts', 'cell_area', 'nucleus_area', 'annotation-demo', 'annotation-demo2'\n",
       "           var: 'gene_ids', 'feature_types', 'genome'\n",
       "           obsm: 'spatial'\n",
       "           varm: 'binned_expression'\n",
       "       \u001b[1mboundaries\u001b[0m\n",
       "           BoundariesData object with 2 entries:\n",
       "               \u001b[1mcellular\u001b[0m\n",
       "               \u001b[1mnuclear\u001b[0m"
      ]
     },
     "execution_count": 20,
     "metadata": {},
     "output_type": "execute_result"
    }
   ],
   "source": [
    "xd"
   ]
  },
  {
   "cell_type": "markdown",
   "id": "ff939c38",
   "metadata": {},
   "source": [
    "## Load annotations\n",
    "\n",
    "For the analysis of spatial transcriptomic datasets the inclusion of annotations from experts of disease pathology is key. Here, we demonstrate how to annotate data in [QuPath](https://qupath.github.io/), export the annotations as `.geojson` file and import them into the `XeniumData` object.\n",
    "\n",
    "### Create annotations in QuPath\n",
    "\n",
    "To create annotations in QuPath, follow these steps:\n",
    "\n",
    "1. Select a annotation tool from the bar on the top left:\n",
    "\n",
    "<center><img src=\"./demo_annotations/qupath_annotation_buttons.jpg\" width=\"300\"/></center>\n",
    "\n",
    "2. Add as many annotations as you want and label them by setting classes in the annotation list. Do not forget to press the \"Set class\" button:\n",
    "\n",
    "<center><img src=\"./demo_annotations/qupath_annotation_list.jpg\" width=\"350\"/></center>\n",
    "\n",
    "3. Export annotations using `File > Export objects as GeoJSON`. Tick `Pretty JSON` to get an easily readable JSON file. The file name needs to have following structure: `annotation-{slide_id}__{sample_id}__{annotation_label}`.\n",
    "\n",
    "### Import annotations into `XeniumData`\n",
    "\n",
    "For demonstration purposes, we created a dummy annotation file in `./demo_annotations/`. To add the annotations to `XeniumData` follow the steps below.\n",
    "\n"
   ]
  },
  {
   "cell_type": "code",
   "execution_count": 21,
   "id": "b69521c6",
   "metadata": {},
   "outputs": [
    {
     "name": "stdout",
     "output_type": "stream",
     "text": [
      "Importing annotations...\n"
     ]
    },
    {
     "name": "stderr",
     "output_type": "stream",
     "text": [
      "C:\\Users\\ge37voy\\Github\\InSituPy\\insitupy\\_core\\dataclasses.py:66: UserWarning: Some annotations were a shapely 'MultiPolygon' objects and skipped.\n",
      "  self.add_shapes(data=file,\n"
     ]
    }
   ],
   "source": [
    "xd.import_annotations(\n",
    "    files=[\n",
    "        \"./demo_annotations/annotations-0001879__Replicate 1__demo.geojson\",\n",
    "        \"./demo_annotations/annotations-0001879__Replicate 1__demo2.geojson\"\n",
    "           ],\n",
    "    keys=[\"demo\", \"demo2\"]\n",
    "    )"
   ]
  },
  {
   "cell_type": "markdown",
   "id": "1983a1d9",
   "metadata": {},
   "source": [
    "## Load regions\n",
    "\n",
    "Regions can be created in QuPath either as described above or using tools like the TMA dearrayer. They are also exported as objects as annotations but different to annotations they do not have a classification and each name of a region has to be unique.\n",
    "\n",
    "In the following demo regions are read. One of the region files has non-unique names to demonstrate the warning that appears in this case."
   ]
  },
  {
   "cell_type": "code",
   "execution_count": 22,
   "id": "b0a0751d",
   "metadata": {},
   "outputs": [
    {
     "name": "stdout",
     "output_type": "stream",
     "text": [
      "Importing regions...\n"
     ]
    }
   ],
   "source": [
    "xd.import_regions(\n",
    "    files=[\n",
    "        \"./demo_regions/regions-0001879__Replicate 1__demo_regions.geojson\",\n",
    "        \"./demo_regions/regions-0001879__Replicate 1__TMA.geojson\",\n",
    "        ],\n",
    "    keys=['demo_regions', 'TMA'])"
   ]
  },
  {
   "cell_type": "markdown",
   "id": "cdcdf2fc",
   "metadata": {},
   "source": [
    "Properties of the added `anotations` and `regions` can be inspected in the XeniumData representation:"
   ]
  },
  {
   "cell_type": "code",
   "execution_count": 23,
   "id": "56936a6e",
   "metadata": {},
   "outputs": [
    {
     "data": {
      "text/plain": [
       "\u001b[1m\u001b[31mInSituData\u001b[0m\n",
       "\u001b[1mMethod:\u001b[0m\t\tXenium\n",
       "\u001b[1mSlide ID:\u001b[0m\t0001879\n",
       "\u001b[1mSample ID:\u001b[0m\tReplicate 1\n",
       "\u001b[1mData path:\u001b[0m\tdemo_dataset\n",
       "\u001b[1mData folder:\u001b[0m\tdemo_insitupy_project\n",
       "\u001b[1mMetadata file:\u001b[0m\t.ispy\n",
       "    ➤ \u001b[34m\u001b[1mimages\u001b[0m\n",
       "       \u001b[1mnuclei:\u001b[0m\t(25778, 35416)\n",
       "       \u001b[1mCD20:\u001b[0m\t(25778, 35416)\n",
       "       \u001b[1mHER2:\u001b[0m\t(25778, 35416)\n",
       "       \u001b[1mHE:\u001b[0m\t(25778, 35416, 3)\n",
       "    ➤\u001b[32m\u001b[1m cells\u001b[0m\n",
       "       \u001b[1mmatrix\u001b[0m\n",
       "           AnnData object with n_obs × n_vars = 167780 × 313\n",
       "           obs: 'transcript_counts', 'control_probe_counts', 'control_codeword_counts', 'total_counts', 'cell_area', 'nucleus_area', 'annotation-demo', 'annotation-demo2'\n",
       "           var: 'gene_ids', 'feature_types', 'genome'\n",
       "           obsm: 'spatial'\n",
       "           varm: 'binned_expression'\n",
       "       \u001b[1mboundaries\u001b[0m\n",
       "           BoundariesData object with 2 entries:\n",
       "               \u001b[1mcellular\u001b[0m\n",
       "               \u001b[1mnuclear\u001b[0m\n",
       "    ➤ \u001b[36m\u001b[1mannotations\u001b[0m\n",
       "       \u001b[1mdemo:\u001b[0m\t4 annotations, 2 classes ('Positive','Negative') \n",
       "       \u001b[1mdemo2:\u001b[0m\t4 annotations, 3 classes ('Negative','Positive','Other') \n",
       "    ➤ \u001b[33m\u001b[1mregions\u001b[0m\n",
       "       \u001b[1mdemo_regions:\u001b[0m\t3 regions, 3 classes ('Region1','Region2','Region3') \n",
       "       \u001b[1mTMA:\u001b[0m\t6 regions, 6 classes ('B-2','A-3','B-1','B-3','A-1','A-2') "
      ]
     },
     "execution_count": 23,
     "metadata": {},
     "output_type": "execute_result"
    }
   ],
   "source": [
    "xd"
   ]
  },
  {
   "cell_type": "markdown",
   "id": "6bccfc91",
   "metadata": {},
   "source": [
    "Both annotations and regions are saved as [`GeoPandas`](https://geopandas.org/en/stable/) dataframes. The main difference between both is that `regions` need to have a unique name while `annotations` are allowed to have duplicate names. In both cases a unique `id` is used for identification."
   ]
  },
  {
   "cell_type": "code",
   "execution_count": 43,
   "id": "82951cab",
   "metadata": {},
   "outputs": [
    {
     "data": {
      "text/html": [
       "<div>\n",
       "<style scoped>\n",
       "    .dataframe tbody tr th:only-of-type {\n",
       "        vertical-align: middle;\n",
       "    }\n",
       "\n",
       "    .dataframe tbody tr th {\n",
       "        vertical-align: top;\n",
       "    }\n",
       "\n",
       "    .dataframe thead th {\n",
       "        text-align: right;\n",
       "    }\n",
       "</style>\n",
       "<table border=\"1\" class=\"dataframe\">\n",
       "  <thead>\n",
       "    <tr style=\"text-align: right;\">\n",
       "      <th></th>\n",
       "      <th>objectType</th>\n",
       "      <th>geometry</th>\n",
       "      <th>name</th>\n",
       "      <th>color</th>\n",
       "      <th>origin</th>\n",
       "    </tr>\n",
       "    <tr>\n",
       "      <th>id</th>\n",
       "      <th></th>\n",
       "      <th></th>\n",
       "      <th></th>\n",
       "      <th></th>\n",
       "      <th></th>\n",
       "    </tr>\n",
       "  </thead>\n",
       "  <tbody>\n",
       "    <tr>\n",
       "      <th>1970eccb-ad38-4b4b-b7a8-54509027b57d</th>\n",
       "      <td>annotation</td>\n",
       "      <td>POLYGON ((5380.28750 827.05000, 5379.01250 827...</td>\n",
       "      <td>Negative</td>\n",
       "      <td>[112, 112, 225]</td>\n",
       "      <td>file</td>\n",
       "    </tr>\n",
       "    <tr>\n",
       "      <th>a3b32cce-1bb9-4a6f-b1d1-9e0c44420cfa</th>\n",
       "      <td>annotation</td>\n",
       "      <td>POLYGON ((6576.87500 2306.68750, 6575.60000 23...</td>\n",
       "      <td>Positive</td>\n",
       "      <td>[250, 62, 62]</td>\n",
       "      <td>file</td>\n",
       "    </tr>\n",
       "    <tr>\n",
       "      <th>a6c17a54-6839-40b2-8531-c9227635f344</th>\n",
       "      <td>annotation</td>\n",
       "      <td>POLYGON ((1381.46250 3639.27500, 1380.18750 36...</td>\n",
       "      <td>Other</td>\n",
       "      <td>[255, 200, 0]</td>\n",
       "      <td>file</td>\n",
       "    </tr>\n",
       "    <tr>\n",
       "      <th>e78efe2f-d185-4ab6-9cc9-6621897f3662</th>\n",
       "      <td>annotation</td>\n",
       "      <td>POLYGON ((6272.92137 3936.13750, 6263.65000 39...</td>\n",
       "      <td>Negative</td>\n",
       "      <td>[112, 112, 225]</td>\n",
       "      <td>file</td>\n",
       "    </tr>\n",
       "  </tbody>\n",
       "</table>\n",
       "</div>"
      ],
      "text/plain": [
       "                                      objectType  \\\n",
       "id                                                 \n",
       "1970eccb-ad38-4b4b-b7a8-54509027b57d  annotation   \n",
       "a3b32cce-1bb9-4a6f-b1d1-9e0c44420cfa  annotation   \n",
       "a6c17a54-6839-40b2-8531-c9227635f344  annotation   \n",
       "e78efe2f-d185-4ab6-9cc9-6621897f3662  annotation   \n",
       "\n",
       "                                                                               geometry  \\\n",
       "id                                                                                        \n",
       "1970eccb-ad38-4b4b-b7a8-54509027b57d  POLYGON ((5380.28750 827.05000, 5379.01250 827...   \n",
       "a3b32cce-1bb9-4a6f-b1d1-9e0c44420cfa  POLYGON ((6576.87500 2306.68750, 6575.60000 23...   \n",
       "a6c17a54-6839-40b2-8531-c9227635f344  POLYGON ((1381.46250 3639.27500, 1380.18750 36...   \n",
       "e78efe2f-d185-4ab6-9cc9-6621897f3662  POLYGON ((6272.92137 3936.13750, 6263.65000 39...   \n",
       "\n",
       "                                          name            color origin  \n",
       "id                                                                      \n",
       "1970eccb-ad38-4b4b-b7a8-54509027b57d  Negative  [112, 112, 225]   file  \n",
       "a3b32cce-1bb9-4a6f-b1d1-9e0c44420cfa  Positive    [250, 62, 62]   file  \n",
       "a6c17a54-6839-40b2-8531-c9227635f344     Other    [255, 200, 0]   file  \n",
       "e78efe2f-d185-4ab6-9cc9-6621897f3662  Negative  [112, 112, 225]   file  "
      ]
     },
     "execution_count": 43,
     "metadata": {},
     "output_type": "execute_result"
    }
   ],
   "source": [
    "xd.annotations.demo2"
   ]
  },
  {
   "cell_type": "code",
   "execution_count": 44,
   "id": "44cff388",
   "metadata": {},
   "outputs": [
    {
     "data": {
      "text/html": [
       "<div>\n",
       "<style scoped>\n",
       "    .dataframe tbody tr th:only-of-type {\n",
       "        vertical-align: middle;\n",
       "    }\n",
       "\n",
       "    .dataframe tbody tr th {\n",
       "        vertical-align: top;\n",
       "    }\n",
       "\n",
       "    .dataframe thead th {\n",
       "        text-align: right;\n",
       "    }\n",
       "</style>\n",
       "<table border=\"1\" class=\"dataframe\">\n",
       "  <thead>\n",
       "    <tr style=\"text-align: right;\">\n",
       "      <th></th>\n",
       "      <th>objectType</th>\n",
       "      <th>name</th>\n",
       "      <th>isMissing</th>\n",
       "      <th>geometry</th>\n",
       "      <th>origin</th>\n",
       "    </tr>\n",
       "    <tr>\n",
       "      <th>id</th>\n",
       "      <th></th>\n",
       "      <th></th>\n",
       "      <th></th>\n",
       "      <th></th>\n",
       "      <th></th>\n",
       "    </tr>\n",
       "  </thead>\n",
       "  <tbody>\n",
       "    <tr>\n",
       "      <th>7ab5d5a6-49bd-4122-bc64-05477bc0207b</th>\n",
       "      <td>tmaCore</td>\n",
       "      <td>B-2</td>\n",
       "      <td>False</td>\n",
       "      <td>POLYGON ((4299.61025 4213.18862, 4298.62425 42...</td>\n",
       "      <td>file</td>\n",
       "    </tr>\n",
       "    <tr>\n",
       "      <th>06ef93c1-f86d-45e6-ad9a-896e254638ea</th>\n",
       "      <td>tmaCore</td>\n",
       "      <td>A-3</td>\n",
       "      <td>False</td>\n",
       "      <td>POLYGON ((7201.19150 903.26738, 7200.20550 934...</td>\n",
       "      <td>file</td>\n",
       "    </tr>\n",
       "    <tr>\n",
       "      <th>7933d3fd-ccd3-46af-8f15-fcc01ec9c128</th>\n",
       "      <td>tmaCore</td>\n",
       "      <td>B-1</td>\n",
       "      <td>False</td>\n",
       "      <td>POLYGON ((1555.14725 4333.64638, 1554.15912 43...</td>\n",
       "      <td>file</td>\n",
       "    </tr>\n",
       "    <tr>\n",
       "      <th>7015118d-2947-48e3-baf0-4b220a76a951</th>\n",
       "      <td>tmaCore</td>\n",
       "      <td>B-3</td>\n",
       "      <td>False</td>\n",
       "      <td>POLYGON ((7311.17300 4228.90087, 7310.18700 42...</td>\n",
       "      <td>file</td>\n",
       "    </tr>\n",
       "    <tr>\n",
       "      <th>bf86657f-31f6-40fe-983b-f80c3d75512b</th>\n",
       "      <td>tmaCore</td>\n",
       "      <td>A-1</td>\n",
       "      <td>False</td>\n",
       "      <td>POLYGON ((1481.82625 908.50338, 1480.83812 939...</td>\n",
       "      <td>file</td>\n",
       "    </tr>\n",
       "    <tr>\n",
       "      <th>440d8f00-fb0e-42e7-9f98-30d30adfc8df</th>\n",
       "      <td>tmaCore</td>\n",
       "      <td>A-2</td>\n",
       "      <td>False</td>\n",
       "      <td>POLYGON ((4173.91650 856.13063, 4172.93050 887...</td>\n",
       "      <td>file</td>\n",
       "    </tr>\n",
       "  </tbody>\n",
       "</table>\n",
       "</div>"
      ],
      "text/plain": [
       "                                     objectType name  isMissing  \\\n",
       "id                                                                \n",
       "7ab5d5a6-49bd-4122-bc64-05477bc0207b    tmaCore  B-2      False   \n",
       "06ef93c1-f86d-45e6-ad9a-896e254638ea    tmaCore  A-3      False   \n",
       "7933d3fd-ccd3-46af-8f15-fcc01ec9c128    tmaCore  B-1      False   \n",
       "7015118d-2947-48e3-baf0-4b220a76a951    tmaCore  B-3      False   \n",
       "bf86657f-31f6-40fe-983b-f80c3d75512b    tmaCore  A-1      False   \n",
       "440d8f00-fb0e-42e7-9f98-30d30adfc8df    tmaCore  A-2      False   \n",
       "\n",
       "                                                                               geometry  \\\n",
       "id                                                                                        \n",
       "7ab5d5a6-49bd-4122-bc64-05477bc0207b  POLYGON ((4299.61025 4213.18862, 4298.62425 42...   \n",
       "06ef93c1-f86d-45e6-ad9a-896e254638ea  POLYGON ((7201.19150 903.26738, 7200.20550 934...   \n",
       "7933d3fd-ccd3-46af-8f15-fcc01ec9c128  POLYGON ((1555.14725 4333.64638, 1554.15912 43...   \n",
       "7015118d-2947-48e3-baf0-4b220a76a951  POLYGON ((7311.17300 4228.90087, 7310.18700 42...   \n",
       "bf86657f-31f6-40fe-983b-f80c3d75512b  POLYGON ((1481.82625 908.50338, 1480.83812 939...   \n",
       "440d8f00-fb0e-42e7-9f98-30d30adfc8df  POLYGON ((4173.91650 856.13063, 4172.93050 887...   \n",
       "\n",
       "                                     origin  \n",
       "id                                           \n",
       "7ab5d5a6-49bd-4122-bc64-05477bc0207b   file  \n",
       "06ef93c1-f86d-45e6-ad9a-896e254638ea   file  \n",
       "7933d3fd-ccd3-46af-8f15-fcc01ec9c128   file  \n",
       "7015118d-2947-48e3-baf0-4b220a76a951   file  \n",
       "bf86657f-31f6-40fe-983b-f80c3d75512b   file  \n",
       "440d8f00-fb0e-42e7-9f98-30d30adfc8df   file  "
      ]
     },
     "execution_count": 44,
     "metadata": {},
     "output_type": "execute_result"
    }
   ],
   "source": [
    "xd.regions.TMA"
   ]
  },
  {
   "cell_type": "markdown",
   "metadata": {},
   "source": [
    "### Visualize and edit annotations and regions using napari\n",
    "\n",
    "To visualize annotations and regions in napari, three widgets are available:\n",
    "- \"Add annotations\"\n",
    "- \"Show regions\"\n",
    "- \"Show annotations\"\n",
    "\n",
    "The widgets \"Show annotations\" and \"Show regions\" are grouped together and accessible via tabs:\n",
    "\n",
    "<left><img src=\"./demo_annotations/napari_region+annotations_widget.jpg\" width=\"300\"/></left>\n",
    "\n",
    "\n",
    "Using thes widgets, annotations and regions can be displayed. New annotations can be added using the \"Add annotations\" widget.\n",
    "\n",
    "Annotations can also be displayed while starting the napari viewer with `.show()` using the `annotation_keys` argument:\n"
   ]
  },
  {
   "cell_type": "code",
   "execution_count": 47,
   "metadata": {},
   "outputs": [],
   "source": [
    "xd.show(annotation_keys=\"all\")"
   ]
  },
  {
   "cell_type": "markdown",
   "metadata": {},
   "source": [
    "#### Annotation layers\n",
    "\n",
    "The annotations are added as shapes layers to the layer list. The layer name always starts with a \"*\" and has following syntax: `\"* Class (Label)\"`:\n",
    "\n",
    "<left><img src=\"./demo_annotations/napari_layerlist_annotations.jpg\" width=\"300\"/></left>\n",
    "\n",
    "- **Label**: A label for one collection of annotations. Could e.g. tell us who did the annotations or what is the focus of this collection of annotations.\n",
    "- **Class**: Specifies the class of one specific annotation. Could be e.g. the name of cells, the morphological structure or the disease state annotated.\n",
    "\n",
    "#### Add custom annotations using the Annotation Widget\n",
    "\n",
    "<left><img src=\"./demo_annotations/napari_annotation_widget.jpg\" width=\"200\"/></left>\n",
    "\n",
    "By clicking the `\"Add annotation layer\"` button a new layer with the above mentioned syntax is added. The layer controls on the top left can be then used to add new shapes as annotations:\n",
    "\n",
    "<left><img src=\"./demo_annotations/napari_layerconrols_annotations.jpg\" width=\"300\"/></left>\n",
    "\n",
    "An example annotation is shown here:\n",
    "\n",
    "<left><img src=\"./demo_annotations/napari_annotation_example.jpg\" width=\"200\"/></left>\n",
    "\n",
    "The annotations can then be stored in the `XeniumData` object using the `store_annotations` function.\n"
   ]
  },
  {
   "cell_type": "code",
   "execution_count": 15,
   "metadata": {},
   "outputs": [
    {
     "name": "stdout",
     "output_type": "stream",
     "text": [
      "Added 3 new annotations to existing key 'demo2'\n"
     ]
    }
   ],
   "source": [
    "xd.store_annotations()"
   ]
  },
  {
   "cell_type": "code",
   "execution_count": 16,
   "metadata": {},
   "outputs": [
    {
     "data": {
      "text/plain": [
       "\u001b[1m\u001b[31mXeniumData\u001b[0m\n",
       "\u001b[1mSlide ID:\u001b[0m\t0001879\n",
       "\u001b[1mSample ID:\u001b[0m\tReplicate 1\n",
       "\u001b[1mData path:\u001b[0m\tdemo_dataset\n",
       "\u001b[1mData folder:\u001b[0m\tdemo_insitupy_project\n",
       "\u001b[1mMetadata file:\u001b[0m\t.ispy\n",
       "    ➤ \u001b[34m\u001b[1mimages\u001b[0m\n",
       "       \u001b[1mnuclei:\u001b[0m\t(25778, 35416)\n",
       "       \u001b[1mCD20:\u001b[0m\t(25778, 35416)\n",
       "       \u001b[1mHER2:\u001b[0m\t(25778, 35416)\n",
       "       \u001b[1mHE:\u001b[0m\t(25778, 35416, 3)\n",
       "    ➤\u001b[32m\u001b[1m cells\u001b[0m\n",
       "       \u001b[1mmatrix\u001b[0m\n",
       "           AnnData object with n_obs × n_vars = 167780 × 313\n",
       "           obs: 'transcript_counts', 'control_probe_counts', 'control_codeword_counts', 'total_counts', 'cell_area', 'nucleus_area'\n",
       "           var: 'gene_ids', 'feature_types', 'genome'\n",
       "           obsm: 'spatial'\n",
       "           varm: 'binned_expression'\n",
       "       \u001b[1mboundaries\u001b[0m\n",
       "           BoundariesData object with 2 entries:\n",
       "               \u001b[1mcellular\u001b[0m\n",
       "               \u001b[1mnuclear\u001b[0m\n",
       "    ➤ \u001b[36m\u001b[1mannotations\u001b[0m\n",
       "       \u001b[1mdemo:\u001b[0m\t4 annotations, 2 classes ('Positive','Negative') \n",
       "       \u001b[1mdemo2:\u001b[0m\t7 annotations, 4 classes ('Negative','Positive','Other','test_class') \n",
       "    ➤ \u001b[33m\u001b[1mregions\u001b[0m\n",
       "       \u001b[1mdemo_regions:\u001b[0m\t3 regions, 3 classes ('Region1','Region2','Region3') \n",
       "       \u001b[1mTMA:\u001b[0m\t6 regions, 6 classes ('B-2','A-3','B-1','B-3','A-1','A-2') "
      ]
     },
     "execution_count": 16,
     "metadata": {},
     "output_type": "execute_result"
    }
   ],
   "source": [
    "xd"
   ]
  },
  {
   "cell_type": "markdown",
   "metadata": {},
   "source": [
    "### Assign annotations to observations\n",
    "\n",
    "To use the annotations in analyses (e.g. to select only observations within a certain annotation or compare gene expression between different annotations) one can use the `assign_annotations` function. It adds columns containing the annotation class to `xd.matrix.obs`. The column has the syntax `annotation-{Label}` and if an observation is not part of any annotation within this label, it contains `NaN`. "
   ]
  },
  {
   "cell_type": "code",
   "execution_count": 17,
   "metadata": {},
   "outputs": [
    {
     "name": "stdout",
     "output_type": "stream",
     "text": [
      "Assigning key 'demo'...\n",
      "Assigning key 'demo2'...\n"
     ]
    }
   ],
   "source": [
    "xd.assign_annotations()"
   ]
  },
  {
   "cell_type": "markdown",
   "metadata": {},
   "source": [
    "After assigning the annotations, the labels analyzed here are marked with a ✔:"
   ]
  },
  {
   "cell_type": "code",
   "execution_count": 18,
   "metadata": {},
   "outputs": [
    {
     "data": {
      "text/plain": [
       "\u001b[1m\u001b[31mXeniumData\u001b[0m\n",
       "\u001b[1mSlide ID:\u001b[0m\t0001879\n",
       "\u001b[1mSample ID:\u001b[0m\tReplicate 1\n",
       "\u001b[1mData path:\u001b[0m\tdemo_dataset\n",
       "\u001b[1mData folder:\u001b[0m\tdemo_insitupy_project\n",
       "\u001b[1mMetadata file:\u001b[0m\t.ispy\n",
       "    ➤ \u001b[34m\u001b[1mimages\u001b[0m\n",
       "       \u001b[1mnuclei:\u001b[0m\t(25778, 35416)\n",
       "       \u001b[1mCD20:\u001b[0m\t(25778, 35416)\n",
       "       \u001b[1mHER2:\u001b[0m\t(25778, 35416)\n",
       "       \u001b[1mHE:\u001b[0m\t(25778, 35416, 3)\n",
       "    ➤\u001b[32m\u001b[1m cells\u001b[0m\n",
       "       \u001b[1mmatrix\u001b[0m\n",
       "           AnnData object with n_obs × n_vars = 167780 × 313\n",
       "           obs: 'transcript_counts', 'control_probe_counts', 'control_codeword_counts', 'total_counts', 'cell_area', 'nucleus_area', 'annotation-demo', 'annotation-demo2'\n",
       "           var: 'gene_ids', 'feature_types', 'genome'\n",
       "           obsm: 'spatial'\n",
       "           varm: 'binned_expression'\n",
       "       \u001b[1mboundaries\u001b[0m\n",
       "           BoundariesData object with 2 entries:\n",
       "               \u001b[1mcellular\u001b[0m\n",
       "               \u001b[1mnuclear\u001b[0m\n",
       "    ➤ \u001b[36m\u001b[1mannotations\u001b[0m\n",
       "       \u001b[1mdemo:\u001b[0m\t4 annotations, 2 classes ('Positive','Negative') ✔\n",
       "       \u001b[1mdemo2:\u001b[0m\t7 annotations, 4 classes ('Negative','Positive','Other','test_class') ✔\n",
       "    ➤ \u001b[33m\u001b[1mregions\u001b[0m\n",
       "       \u001b[1mdemo_regions:\u001b[0m\t3 regions, 3 classes ('Region1','Region2','Region3') \n",
       "       \u001b[1mTMA:\u001b[0m\t6 regions, 6 classes ('B-2','A-3','B-1','B-3','A-1','A-2') "
      ]
     },
     "execution_count": 18,
     "metadata": {},
     "output_type": "execute_result"
    }
   ],
   "source": [
    "xd"
   ]
  },
  {
   "cell_type": "markdown",
   "metadata": {},
   "source": [
    "Following cells show examples how to explore the assigned annotations:"
   ]
  },
  {
   "cell_type": "code",
   "execution_count": 19,
   "metadata": {},
   "outputs": [
    {
     "data": {
      "text/plain": [
       "21199"
      ]
     },
     "execution_count": 19,
     "metadata": {},
     "output_type": "execute_result"
    }
   ],
   "source": [
    "# print number of cells within one annotation\n",
    "xd.cells.matrix.obs[\"annotation-demo2\"].notna().sum()"
   ]
  },
  {
   "cell_type": "code",
   "execution_count": 20,
   "metadata": {},
   "outputs": [
    {
     "data": {
      "text/html": [
       "<div>\n",
       "<style scoped>\n",
       "    .dataframe tbody tr th:only-of-type {\n",
       "        vertical-align: middle;\n",
       "    }\n",
       "\n",
       "    .dataframe tbody tr th {\n",
       "        vertical-align: top;\n",
       "    }\n",
       "\n",
       "    .dataframe thead th {\n",
       "        text-align: right;\n",
       "    }\n",
       "</style>\n",
       "<table border=\"1\" class=\"dataframe\">\n",
       "  <thead>\n",
       "    <tr style=\"text-align: right;\">\n",
       "      <th></th>\n",
       "      <th>transcript_counts</th>\n",
       "      <th>control_probe_counts</th>\n",
       "      <th>control_codeword_counts</th>\n",
       "      <th>total_counts</th>\n",
       "      <th>cell_area</th>\n",
       "      <th>nucleus_area</th>\n",
       "      <th>annotation-demo</th>\n",
       "      <th>annotation-demo2</th>\n",
       "    </tr>\n",
       "  </thead>\n",
       "  <tbody>\n",
       "    <tr>\n",
       "      <th>4921</th>\n",
       "      <td>281</td>\n",
       "      <td>0</td>\n",
       "      <td>0</td>\n",
       "      <td>281</td>\n",
       "      <td>733.247187</td>\n",
       "      <td>26.010000</td>\n",
       "      <td>NaN</td>\n",
       "      <td>Other</td>\n",
       "    </tr>\n",
       "    <tr>\n",
       "      <th>4922</th>\n",
       "      <td>273</td>\n",
       "      <td>1</td>\n",
       "      <td>0</td>\n",
       "      <td>274</td>\n",
       "      <td>380.576875</td>\n",
       "      <td>30.074063</td>\n",
       "      <td>NaN</td>\n",
       "      <td>Other</td>\n",
       "    </tr>\n",
       "    <tr>\n",
       "      <th>4923</th>\n",
       "      <td>189</td>\n",
       "      <td>2</td>\n",
       "      <td>0</td>\n",
       "      <td>191</td>\n",
       "      <td>285.658437</td>\n",
       "      <td>8.263594</td>\n",
       "      <td>NaN</td>\n",
       "      <td>Other</td>\n",
       "    </tr>\n",
       "    <tr>\n",
       "      <th>4924</th>\n",
       "      <td>212</td>\n",
       "      <td>0</td>\n",
       "      <td>0</td>\n",
       "      <td>212</td>\n",
       "      <td>282.226562</td>\n",
       "      <td>24.068281</td>\n",
       "      <td>NaN</td>\n",
       "      <td>Other</td>\n",
       "    </tr>\n",
       "    <tr>\n",
       "      <th>4925</th>\n",
       "      <td>58</td>\n",
       "      <td>0</td>\n",
       "      <td>0</td>\n",
       "      <td>58</td>\n",
       "      <td>81.823125</td>\n",
       "      <td>4.470469</td>\n",
       "      <td>NaN</td>\n",
       "      <td>Other</td>\n",
       "    </tr>\n",
       "    <tr>\n",
       "      <th>...</th>\n",
       "      <td>...</td>\n",
       "      <td>...</td>\n",
       "      <td>...</td>\n",
       "      <td>...</td>\n",
       "      <td>...</td>\n",
       "      <td>...</td>\n",
       "      <td>...</td>\n",
       "      <td>...</td>\n",
       "    </tr>\n",
       "    <tr>\n",
       "      <th>165374</th>\n",
       "      <td>96</td>\n",
       "      <td>1</td>\n",
       "      <td>0</td>\n",
       "      <td>97</td>\n",
       "      <td>150.234844</td>\n",
       "      <td>11.063281</td>\n",
       "      <td>Negative</td>\n",
       "      <td>Negative</td>\n",
       "    </tr>\n",
       "    <tr>\n",
       "      <th>165375</th>\n",
       "      <td>379</td>\n",
       "      <td>0</td>\n",
       "      <td>0</td>\n",
       "      <td>379</td>\n",
       "      <td>153.666719</td>\n",
       "      <td>75.681875</td>\n",
       "      <td>Negative</td>\n",
       "      <td>Negative</td>\n",
       "    </tr>\n",
       "    <tr>\n",
       "      <th>165376</th>\n",
       "      <td>101</td>\n",
       "      <td>0</td>\n",
       "      <td>0</td>\n",
       "      <td>101</td>\n",
       "      <td>27.996875</td>\n",
       "      <td>17.836719</td>\n",
       "      <td>Negative</td>\n",
       "      <td>Negative</td>\n",
       "    </tr>\n",
       "    <tr>\n",
       "      <th>165377</th>\n",
       "      <td>472</td>\n",
       "      <td>0</td>\n",
       "      <td>0</td>\n",
       "      <td>472</td>\n",
       "      <td>200.177656</td>\n",
       "      <td>52.652188</td>\n",
       "      <td>Negative</td>\n",
       "      <td>Negative</td>\n",
       "    </tr>\n",
       "    <tr>\n",
       "      <th>165378</th>\n",
       "      <td>588</td>\n",
       "      <td>0</td>\n",
       "      <td>0</td>\n",
       "      <td>588</td>\n",
       "      <td>319.525625</td>\n",
       "      <td>96.995625</td>\n",
       "      <td>Negative</td>\n",
       "      <td>Negative</td>\n",
       "    </tr>\n",
       "  </tbody>\n",
       "</table>\n",
       "<p>21199 rows × 8 columns</p>\n",
       "</div>"
      ],
      "text/plain": [
       "        transcript_counts  control_probe_counts  control_codeword_counts  \\\n",
       "4921                  281                     0                        0   \n",
       "4922                  273                     1                        0   \n",
       "4923                  189                     2                        0   \n",
       "4924                  212                     0                        0   \n",
       "4925                   58                     0                        0   \n",
       "...                   ...                   ...                      ...   \n",
       "165374                 96                     1                        0   \n",
       "165375                379                     0                        0   \n",
       "165376                101                     0                        0   \n",
       "165377                472                     0                        0   \n",
       "165378                588                     0                        0   \n",
       "\n",
       "        total_counts   cell_area  nucleus_area annotation-demo  \\\n",
       "4921             281  733.247187     26.010000             NaN   \n",
       "4922             274  380.576875     30.074063             NaN   \n",
       "4923             191  285.658437      8.263594             NaN   \n",
       "4924             212  282.226562     24.068281             NaN   \n",
       "4925              58   81.823125      4.470469             NaN   \n",
       "...              ...         ...           ...             ...   \n",
       "165374            97  150.234844     11.063281        Negative   \n",
       "165375           379  153.666719     75.681875        Negative   \n",
       "165376           101   27.996875     17.836719        Negative   \n",
       "165377           472  200.177656     52.652188        Negative   \n",
       "165378           588  319.525625     96.995625        Negative   \n",
       "\n",
       "       annotation-demo2  \n",
       "4921              Other  \n",
       "4922              Other  \n",
       "4923              Other  \n",
       "4924              Other  \n",
       "4925              Other  \n",
       "...                 ...  \n",
       "165374         Negative  \n",
       "165375         Negative  \n",
       "165376         Negative  \n",
       "165377         Negative  \n",
       "165378         Negative  \n",
       "\n",
       "[21199 rows x 8 columns]"
      ]
     },
     "execution_count": 20,
     "metadata": {},
     "output_type": "execute_result"
    }
   ],
   "source": [
    "# show only observations that were part of this annotation label\n",
    "xd.cells.matrix.obs[xd.cells.matrix.obs[\"annotation-demo2\"].notna()]"
   ]
  },
  {
   "cell_type": "markdown",
   "id": "2f209ebb",
   "metadata": {},
   "source": [
    "## Save imported annotations in `InSituPy` project"
   ]
  },
  {
   "cell_type": "code",
   "execution_count": 25,
   "id": "bd9034f1",
   "metadata": {},
   "outputs": [
    {
     "name": "stdout",
     "output_type": "stream",
     "text": [
      "Updating project in c:\\Users\\ge37voy\\Github\\InSituPy\\notebooks\\demo_dataset\\demo_insitupy_project\n",
      "\tUpdating cells...\n",
      "\tUpdating annotations...\n",
      "\tUpdating regions...\n",
      "Saved.\n",
      "Reloading following modalities: annotations,cells,images,regions\n",
      "Loading annotations...\n",
      "Loading cells...\n",
      "\tNo alternative cells found...\n",
      "Loading images...\n",
      "Loading regions...\n"
     ]
    }
   ],
   "source": [
    "xd.save()"
   ]
  },
  {
   "cell_type": "code",
   "execution_count": 26,
   "id": "aec32282",
   "metadata": {},
   "outputs": [],
   "source": [
    "xd.show()"
   ]
  },
  {
   "cell_type": "code",
   "execution_count": null,
   "id": "80834d05",
   "metadata": {},
   "outputs": [],
   "source": []
  }
 ],
 "metadata": {
  "kernelspec": {
   "display_name": "xparse",
   "language": "python",
   "name": "python3"
  },
  "language_info": {
   "codemirror_mode": {
    "name": "ipython",
    "version": 3
   },
   "file_extension": ".py",
   "mimetype": "text/x-python",
   "name": "python",
   "nbconvert_exporter": "python",
   "pygments_lexer": "ipython3",
   "version": "3.9.18"
  }
 },
 "nbformat": 4,
 "nbformat_minor": 5
}
