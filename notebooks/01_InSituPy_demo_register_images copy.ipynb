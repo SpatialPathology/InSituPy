{
 "cells": [
  {
   "cell_type": "markdown",
   "id": "b16df72d-5dd5-47da-a8c3-b569fe97446b",
   "metadata": {
    "tags": []
   },
   "source": [
    "# InSituPy demonstration - Register images\n",
    "\n",
    "This notebook demonstrates the registration of images from H&E, IHC or IF stainings that were performed on the same slide as the Xenium In Situ measurements. It is assumed that the images which are about to be registered, contain the same tissue as the spatial transcriptomics data. \n"
   ]
  },
  {
   "cell_type": "code",
   "execution_count": 1,
   "id": "8bc0c4ed-3587-460e-98d2-6626a020a327",
   "metadata": {},
   "outputs": [],
   "source": [
    "## The following code ensures that all functions and init files are reloaded before executions.\n",
    "%load_ext autoreload\n",
    "%autoreload 2"
   ]
  },
  {
   "cell_type": "code",
   "execution_count": 2,
   "id": "58107e0b-5017-425b-8cd0-9274be2b8253",
   "metadata": {},
   "outputs": [],
   "source": [
    "from pathlib import Path\n",
    "from insitupy import read_xenium\n",
    "from insitupy import register_images"
   ]
  },
  {
   "cell_type": "markdown",
   "id": "68cd4391",
   "metadata": {},
   "source": [
    "## Load Xenium data into `InSituData` object\n",
    "\n",
    "Now the Xenium data can be parsed by providing the data path to `InSituData` using the `read_xenium` function or directly using the downloading function."
   ]
  },
  {
   "cell_type": "code",
   "execution_count": 3,
   "id": "8f35e84f",
   "metadata": {},
   "outputs": [],
   "source": [
    "from insitupy.datasets import human_breast_cancer\n",
    "from insitupy import CACHE"
   ]
  },
  {
   "cell_type": "markdown",
   "id": "245e63c1",
   "metadata": {},
   "source": [
    "### Load the dataset directly from the downloading function..."
   ]
  },
  {
   "cell_type": "code",
   "execution_count": 4,
   "id": "1e7f0cd0",
   "metadata": {},
   "outputs": [
    {
     "name": "stdout",
     "output_type": "stream",
     "text": [
      "Loading cells...\n",
      "Loading images...\n",
      "Loading transcripts...\n"
     ]
    }
   ],
   "source": [
    "xd = read_xenium(r\"C:\\Users\\ge37voy\\OneDrive - TUM\\Dokumente - SpatialPathology\\Projects\\2309_PDAC_SATURN3\\data\\2309-02\\20231117__151509__2309-02-PDAC_TMAs\\output-XETG00050__0005405__TMA__20231117__151519\")"
   ]
  },
  {
   "cell_type": "code",
   "execution_count": 5,
   "id": "201d17cc",
   "metadata": {},
   "outputs": [
    {
     "data": {
      "text/plain": [
       "\u001b[1m\u001b[31mInSituData\u001b[0m\n",
       "\u001b[1mMethod:\u001b[0m\t\tXenium\n",
       "\u001b[1mSlide ID:\u001b[0m\t0005405\n",
       "\u001b[1mSample ID:\u001b[0m\tTMA\n",
       "\u001b[1mPath:\u001b[0m\t\tC:\\Users\\ge37voy\\OneDrive - TUM\\Dokumente - SpatialPathology\\Projects\\2309_PDAC_SATURN3\\data\\2309-02\\20231117__151509__2309-02-PDAC_TMAs\\output-XETG00050__0005405__TMA__20231117__151519\n",
       "\u001b[1mMetadata file:\u001b[0m\texperiment.xenium\n",
       "    ➤ \u001b[34m\u001b[1mimages\u001b[0m\n",
       "       \u001b[1mnuclei:\u001b[0m\t(112068, 54048)\n",
       "    ➤\u001b[32m\u001b[1m cells\u001b[0m\n",
       "       \u001b[1mmatrix\u001b[0m\n",
       "           AnnData object with n_obs × n_vars = 345158 × 477\n",
       "           obs: 'transcript_counts', 'control_probe_counts', 'control_codeword_counts', 'unassigned_codeword_counts', 'deprecated_codeword_counts', 'total_counts', 'cell_area', 'nucleus_area'\n",
       "           var: 'gene_ids', 'feature_types', 'genome'\n",
       "           obsm: 'spatial'\n",
       "           varm: 'binned_expression'\n",
       "       \u001b[1mboundaries\u001b[0m\n",
       "           BoundariesData object with 2 entries:\n",
       "               \u001b[1mnuclear\u001b[0m\n",
       "               \u001b[1mcellular\u001b[0m\n",
       "    ➤\u001b[95m\u001b[1m transcripts\u001b[0m\n",
       "       DataFrame with shape 52910343 x 9"
      ]
     },
     "execution_count": 5,
     "metadata": {},
     "output_type": "execute_result"
    }
   ],
   "source": [
    "xd"
   ]
  },
  {
   "cell_type": "markdown",
   "id": "73bee01b",
   "metadata": {},
   "source": [
    "### Prepare the paths to the unregistered images\n",
    "\n",
    "Here the unregistered images were downloaded by the `human_breast_cancer` downloading function and saved in a folder `unregistered_images`."
   ]
  },
  {
   "cell_type": "code",
   "execution_count": 7,
   "id": "fd89fdb3",
   "metadata": {},
   "outputs": [],
   "source": [
    "# prepare paths\n",
    "#if_to_be_registered = CACHE / \"demo_datasets/hbreastcancer\" / \"unregistered_images/slide_id__hbreastcancer__CD20_HER2_DAPI__IF.ome.tif\"\n",
    "he_to_be_registered = r\"C:\\Users\\ge37voy\\OneDrive - TUM\\Dokumente - SpatialPathology\\Projects\\2309_PDAC_SATURN3\\data\\2309-02\\TMA4-0005404-downscale1.ome.tif\""
   ]
  },
  {
   "cell_type": "markdown",
   "id": "5fdd74b4",
   "metadata": {},
   "source": [
    "### Automated Registration of Images\n",
    "\n",
    "**Overview:**\n",
    "_Xenium In Situ_ is a non-destructive method that allows for staining and imaging of tissue after in situ sequencing analysis. This process is performed outside the _Xenium_ machine and requires subsequent registration. `InSituPy` provides an automatic image registration pipeline based on the [Scale-Invariant Feature Transform (SIFT) algorithm](https://link.springer.com/article/10.1023/B:VISI.0000029664.99615.94).\n",
    "\n",
    "**Process:**\n",
    "1. **Feature Detection:**\n",
    "   - The SIFT algorithm detects common features between the template (_Xenium_ DAPI image) and the acquired images.\n",
    "   - These features are used to calculate a transformation matrix.\n",
    "   - The transformation matrix registers the images to the template.\n",
    "\n",
    "<left><img src=\"./demo_screenshots/common_features.png\" width=\"800\"/></left>\n",
    "   *Common features extracted by SIFT algorithm*\n",
    "\n",
    "2. **Preprocessing Steps:**\n",
    "   - **Histological Images (H&E or IHC):**\n",
    "     - These techniques produce RGB images.\n",
    "     - Color deconvolution extracts the hematoxylin channel containing the nuclei for registration with the _Xenium_ DAPI image.\n",
    "   - **Immunofluorescence (IF) Images:**\n",
    "     - This method results in multiple grayscale images.\n",
    "     - One channel must contain a nuclei stain (e.g., DAPI).\n",
    "     - This channel is selected for SIFT feature detection and transformation matrix calculation.\n",
    "     - Other channels are registered using the same transformation matrix.\n",
    "\n",
    "### Cropping of Images from Whole Slide Images\n",
    "\n",
    "**Workflow:**\n",
    "In a Xenium In Situ workflow, a slide often contains multiple tissue sections. While spatial transcriptomics data is separated during the run, histological stainings contain all sections in one whole slide image. To extract individual images of histologically stained tissue sections, two workflows are recommended:\n",
    "\n",
    "1. **QuPath Annotation:**\n",
    "   - Annotate and name individual tissue sections in QuPath.\n",
    "   - Use the `.groovy` script in `InSituPy/scripts/export_annotations_OME-TIFF.groovy`.\n",
    "\n",
    "2. **Napari-Based Approach:**\n",
    "   - Demonstrated in `XX_InSituPy_extract_individual_images.ipynb`.\n",
    "\n",
    "### Input Files\n",
    "\n",
    "**Formats:**\n",
    "- **.tif** or **.ome.tif** formats are accepted.\n",
    "- **IF Images:**\n",
    "  - Multi-channel images are expected.\n",
    "  - Specify channel names using the `channel_names` argument.\n",
    "  - Specify the channel containing nuclei staining with the `channel_name_for_registration` argument (e.g., DAPI channel).\n",
    "- **HE Images:**\n",
    "  - Expected to be RGB images.\n",
    "  - Cropping methods should result in the correct image format.\n",
    "\n",
    "### Output Generated by the Registration Pipeline\n",
    "\n",
    "1. **Registered Images:**\n",
    "   - If `save_registered_images==True`, registered images are saved as `.ome.tif` in the `registered_images` folder in the parent directory of the _Xenium_ data.\n",
    "   - File naming convention: `slide_id__sample_id__name__registered.ome.tif`.\n",
    "\n",
    "2. **Transformation Matrix:**\n",
    "   - Saved as `.csv` in the `registration_qc` folder within the `registered_images` folder.\n",
    "   - File name ends with `__T.pdf`.\n",
    "\n",
    "3. **Common Features:**\n",
    "   - Representation of common features between the registered image and the template.\n",
    "   - Saved as `.pdf` in the `registration_qc` folder.\n",
    "   - File name ends with `__common_features`.\n",
    "\n",
    "**Directory Structure:**\n",
    "```\n",
    "./demo_dataset\n",
    "├───output-XETG00000__slide_id__sample_id\n",
    "├───registered_images\n",
    "│   │   slide_id__sample_id__name__registered.ome.tif\n",
    "│   ├───registration_qc\n",
    "│   │       slide_id__sample_id__name__T.csv\n",
    "│   │       slide_id__sample_id__name__common_features.pdf\n",
    "└───unregistered_images"
   ]
  },
  {
   "cell_type": "markdown",
   "id": "e3fbab9e",
   "metadata": {},
   "source": [
    "## Registration of H&E images"
   ]
  },
  {
   "cell_type": "code",
   "execution_count": 8,
   "id": "60ae7f51",
   "metadata": {},
   "outputs": [
    {
     "name": "stdout",
     "output_type": "stream",
     "text": [
      "\tProcessing following histo images: \u001b[1mHE\u001b[0m\n",
      "\t\tLoading images to be registered...\n",
      "\t\tRun color deconvolution\n",
      "\t\tRescale image and template to save memory.\n",
      "\t\t\tRescaled to following dimensions: (2828, 5656)\n",
      "\t\t\tRescaled to following dimensions: (5759, 2777)\n",
      "\t\tConvert scaled images to 8 bit\n",
      "\t\tWarning: Dimensions of image ((48080, 96155)) exceed C++ limit SHRT_MAX (32767). Image dimensions are resized to meet requirements. This leads to a loss of quality.\n",
      "\t\tExtract common features from image and template\n",
      "\t\t2025-02-05 21:11:22: Get features...\n",
      "\t\t\tMethod: SIFT...\n",
      "\t\t2025-02-05 21:11:34: Compute matches...\n",
      "\t\t2025-02-05 21:11:36: Filter matches...\n",
      "\t\t\tSufficient number of good matches found (303).\n",
      "\t\t2025-02-05 21:11:37: Display matches...\n",
      "\t\t2025-02-05 21:11:37: Fetch keypoints...\n",
      "\t\t2025-02-05 21:11:37: Estimate 2D affine transformation matrix...\n",
      "\t\tEstimate affine transformation matrix for resized image\n",
      "\t\t2025-02-05 21:11:37: Register image by affine transformation...\n",
      "\t\tSave OME-TIFF to C:\\Users\\ge37voy\\OneDrive - TUM\\Dokumente - SpatialPathology\\Projects\\2309_PDAC_SATURN3\\data\\2309-02\\20231117__151509__2309-02-PDAC_TMAs\\registered_images\\__0005405__TMA__HE__registered.ome.tif\n",
      "\t\tSave QC files to C:\\Users\\ge37voy\\OneDrive - TUM\\Dokumente - SpatialPathology\\Projects\\2309_PDAC_SATURN3\\data\\2309-02\\20231117__151509__2309-02-PDAC_TMAs\\registered_images\\registration_qc\n"
     ]
    }
   ],
   "source": [
    "register_images(\n",
    "    data=xd,\n",
    "    image_to_be_registered=he_to_be_registered,\n",
    "    image_type=\"histo\",\n",
    "    channel_names='HE',\n",
    "    template_image_name=\"nuclei\",\n",
    "    save_registered_images=True,\n",
    "    min_good_matches=200\n",
    "    )"
   ]
  },
  {
   "cell_type": "code",
   "execution_count": 9,
   "id": "c765c431",
   "metadata": {},
   "outputs": [
    {
     "data": {
      "text/plain": [
       "\u001b[1m\u001b[31mInSituData\u001b[0m\n",
       "\u001b[1mMethod:\u001b[0m\t\tXenium\n",
       "\u001b[1mSlide ID:\u001b[0m\t0005405\n",
       "\u001b[1mSample ID:\u001b[0m\tTMA\n",
       "\u001b[1mPath:\u001b[0m\t\tC:\\Users\\ge37voy\\OneDrive - TUM\\Dokumente - SpatialPathology\\Projects\\2309_PDAC_SATURN3\\data\\2309-02\\20231117__151509__2309-02-PDAC_TMAs\\output-XETG00050__0005405__TMA__20231117__151519\n",
       "\u001b[1mMetadata file:\u001b[0m\texperiment.xenium\n",
       "    ➤ \u001b[34m\u001b[1mimages\u001b[0m\n",
       "       \u001b[1mnuclei:\u001b[0m\t(112068, 54048)\n",
       "       \u001b[1mHE:\u001b[0m\t(112068, 54048, 3)\n",
       "    ➤\u001b[32m\u001b[1m cells\u001b[0m\n",
       "       \u001b[1mmatrix\u001b[0m\n",
       "           AnnData object with n_obs × n_vars = 345158 × 477\n",
       "           obs: 'transcript_counts', 'control_probe_counts', 'control_codeword_counts', 'unassigned_codeword_counts', 'deprecated_codeword_counts', 'total_counts', 'cell_area', 'nucleus_area'\n",
       "           var: 'gene_ids', 'feature_types', 'genome'\n",
       "           obsm: 'spatial'\n",
       "           varm: 'binned_expression'\n",
       "       \u001b[1mboundaries\u001b[0m\n",
       "           BoundariesData object with 2 entries:\n",
       "               \u001b[1mnuclear\u001b[0m\n",
       "               \u001b[1mcellular\u001b[0m\n",
       "    ➤\u001b[95m\u001b[1m transcripts\u001b[0m\n",
       "       DataFrame with shape 52910343 x 9"
      ]
     },
     "execution_count": 9,
     "metadata": {},
     "output_type": "execute_result"
    }
   ],
   "source": [
    "xd"
   ]
  },
  {
   "cell_type": "code",
   "execution_count": 22,
   "id": "b91b3af3",
   "metadata": {},
   "outputs": [],
   "source": [
    "xd.show()"
   ]
  },
  {
   "cell_type": "markdown",
   "id": "c8290321",
   "metadata": {},
   "source": [
    "## Working with an `InSituPy` project\n",
    "\n",
    "To allow a simple and structured saving workflow, `InSituPy` provides two saving functions:\n",
    "- `saveas()`\n",
    "- `save()`"
   ]
  },
  {
   "cell_type": "markdown",
   "id": "1e50fad9",
   "metadata": {},
   "source": [
    "\n",
    "### Save as `InSituPy` project"
   ]
  },
  {
   "cell_type": "code",
   "execution_count": 10,
   "id": "c9e13a4a",
   "metadata": {},
   "outputs": [],
   "source": [
    "insitupy_project = Path(\"demo_dataset/test\")"
   ]
  },
  {
   "cell_type": "code",
   "execution_count": 11,
   "id": "a5fc7001",
   "metadata": {},
   "outputs": [
    {
     "name": "stdout",
     "output_type": "stream",
     "text": [
      "Saving data to demo_dataset\\test\n"
     ]
    },
    {
     "name": "stderr",
     "output_type": "stream",
     "text": [
      "C:\\Users\\ge37voy\\Github\\InSituPy\\insitupy\\images\\utils.py:203: UserWarning: Image does not have dtype 'uint8' or 'uint16'. Is converted to 'uint16'.\n",
      "  warnings.warn(\"Image does not have dtype 'uint8' or 'uint16'. Is converted to 'uint16'.\")\n",
      "C:\\Users\\ge37voy\\Github\\InSituPy\\insitupy\\images\\utils.py:203: UserWarning: Image does not have dtype 'uint8' or 'uint16'. Is converted to 'uint16'.\n",
      "  warnings.warn(\"Image does not have dtype 'uint8' or 'uint16'. Is converted to 'uint16'.\")\n"
     ]
    },
    {
     "name": "stdout",
     "output_type": "stream",
     "text": [
      "Saved.\n"
     ]
    }
   ],
   "source": [
    "xd.saveas(insitupy_project, overwrite=True)"
   ]
  },
  {
   "cell_type": "code",
   "execution_count": 12,
   "id": "5d846557",
   "metadata": {},
   "outputs": [],
   "source": [
    "from insitupy import InSituData"
   ]
  },
  {
   "cell_type": "code",
   "execution_count": 13,
   "id": "f5394e2c",
   "metadata": {},
   "outputs": [],
   "source": [
    "xd = InSituData.read(insitupy_project)"
   ]
  },
  {
   "cell_type": "code",
   "execution_count": 15,
   "id": "c66b0e6a",
   "metadata": {},
   "outputs": [
    {
     "name": "stdout",
     "output_type": "stream",
     "text": [
      "Loading images...\n"
     ]
    }
   ],
   "source": [
    "xd.load_images()\n",
    "xd.load_cells()"
   ]
  },
  {
   "cell_type": "code",
   "execution_count": 17,
   "id": "8f6bff9a",
   "metadata": {},
   "outputs": [],
   "source": [
    "xd.show()"
   ]
  },
  {
   "cell_type": "code",
   "execution_count": 19,
   "id": "c0b9104e",
   "metadata": {},
   "outputs": [],
   "source": [
    "ar = xd.images[\"HE\"][0]"
   ]
  },
  {
   "cell_type": "code",
   "execution_count": 22,
   "id": "f5c4e709",
   "metadata": {},
   "outputs": [
    {
     "data": {
      "text/html": [
       "<table>\n",
       "    <tr>\n",
       "        <td>\n",
       "            <table style=\"border-collapse: collapse;\">\n",
       "                <thead>\n",
       "                    <tr>\n",
       "                        <td> </td>\n",
       "                        <th> Array </th>\n",
       "                        <th> Chunk </th>\n",
       "                    </tr>\n",
       "                </thead>\n",
       "                <tbody>\n",
       "                    \n",
       "                    <tr>\n",
       "                        <th> Bytes </th>\n",
       "                        <td> 16.92 GiB </td>\n",
       "                        <td> 127.97 MiB </td>\n",
       "                    </tr>\n",
       "                    \n",
       "                    <tr>\n",
       "                        <th> Shape </th>\n",
       "                        <td> (112068, 54048, 3) </td>\n",
       "                        <td> (6688, 6688, 3) </td>\n",
       "                    </tr>\n",
       "                    <tr>\n",
       "                        <th> Dask graph </th>\n",
       "                        <td colspan=\"2\"> 153 chunks in 2 graph layers </td>\n",
       "                    </tr>\n",
       "                    <tr>\n",
       "                        <th> Data type </th>\n",
       "                        <td colspan=\"2\"> uint8 numpy.ndarray </td>\n",
       "                    </tr>\n",
       "                </tbody>\n",
       "            </table>\n",
       "        </td>\n",
       "        <td>\n",
       "        <svg width=\"156\" height=\"178\" style=\"stroke:rgb(0,0,0);stroke-width:1\" >\n",
       "\n",
       "  <!-- Horizontal lines -->\n",
       "  <line x1=\"10\" y1=\"0\" x2=\"80\" y2=\"70\" style=\"stroke-width:2\" />\n",
       "  <line x1=\"10\" y1=\"7\" x2=\"80\" y2=\"77\" />\n",
       "  <line x1=\"10\" y1=\"14\" x2=\"80\" y2=\"84\" />\n",
       "  <line x1=\"10\" y1=\"21\" x2=\"80\" y2=\"92\" />\n",
       "  <line x1=\"10\" y1=\"28\" x2=\"80\" y2=\"99\" />\n",
       "  <line x1=\"10\" y1=\"35\" x2=\"80\" y2=\"106\" />\n",
       "  <line x1=\"10\" y1=\"42\" x2=\"80\" y2=\"113\" />\n",
       "  <line x1=\"10\" y1=\"50\" x2=\"80\" y2=\"120\" />\n",
       "  <line x1=\"10\" y1=\"57\" x2=\"80\" y2=\"127\" />\n",
       "  <line x1=\"10\" y1=\"57\" x2=\"80\" y2=\"128\" style=\"stroke-width:2\" />\n",
       "\n",
       "  <!-- Vertical lines -->\n",
       "  <line x1=\"10\" y1=\"0\" x2=\"10\" y2=\"57\" style=\"stroke-width:2\" />\n",
       "  <line x1=\"14\" y1=\"4\" x2=\"14\" y2=\"62\" />\n",
       "  <line x1=\"18\" y1=\"8\" x2=\"18\" y2=\"66\" />\n",
       "  <line x1=\"22\" y1=\"12\" x2=\"22\" y2=\"70\" />\n",
       "  <line x1=\"26\" y1=\"16\" x2=\"26\" y2=\"74\" />\n",
       "  <line x1=\"31\" y1=\"21\" x2=\"31\" y2=\"78\" />\n",
       "  <line x1=\"35\" y1=\"25\" x2=\"35\" y2=\"83\" />\n",
       "  <line x1=\"39\" y1=\"29\" x2=\"39\" y2=\"87\" />\n",
       "  <line x1=\"43\" y1=\"33\" x2=\"43\" y2=\"91\" />\n",
       "  <line x1=\"47\" y1=\"37\" x2=\"47\" y2=\"95\" />\n",
       "  <line x1=\"52\" y1=\"42\" x2=\"52\" y2=\"99\" />\n",
       "  <line x1=\"56\" y1=\"46\" x2=\"56\" y2=\"104\" />\n",
       "  <line x1=\"60\" y1=\"50\" x2=\"60\" y2=\"108\" />\n",
       "  <line x1=\"64\" y1=\"54\" x2=\"64\" y2=\"112\" />\n",
       "  <line x1=\"68\" y1=\"58\" x2=\"68\" y2=\"116\" />\n",
       "  <line x1=\"73\" y1=\"63\" x2=\"73\" y2=\"121\" />\n",
       "  <line x1=\"77\" y1=\"67\" x2=\"77\" y2=\"125\" />\n",
       "  <line x1=\"80\" y1=\"70\" x2=\"80\" y2=\"128\" style=\"stroke-width:2\" />\n",
       "\n",
       "  <!-- Colored Rectangle -->\n",
       "  <polygon points=\"10.0,0.0 80.58823529411765,70.58823529411765 80.58823529411765,128.46166928062584 10.0,57.87343398650819\" style=\"fill:#ECB172A0;stroke-width:0\"/>\n",
       "\n",
       "  <!-- Horizontal lines -->\n",
       "  <line x1=\"10\" y1=\"0\" x2=\"35\" y2=\"0\" style=\"stroke-width:2\" />\n",
       "  <line x1=\"14\" y1=\"4\" x2=\"39\" y2=\"4\" />\n",
       "  <line x1=\"18\" y1=\"8\" x2=\"43\" y2=\"8\" />\n",
       "  <line x1=\"22\" y1=\"12\" x2=\"48\" y2=\"12\" />\n",
       "  <line x1=\"26\" y1=\"16\" x2=\"52\" y2=\"16\" />\n",
       "  <line x1=\"31\" y1=\"21\" x2=\"56\" y2=\"21\" />\n",
       "  <line x1=\"35\" y1=\"25\" x2=\"60\" y2=\"25\" />\n",
       "  <line x1=\"39\" y1=\"29\" x2=\"64\" y2=\"29\" />\n",
       "  <line x1=\"43\" y1=\"33\" x2=\"69\" y2=\"33\" />\n",
       "  <line x1=\"47\" y1=\"37\" x2=\"73\" y2=\"37\" />\n",
       "  <line x1=\"52\" y1=\"42\" x2=\"77\" y2=\"42\" />\n",
       "  <line x1=\"56\" y1=\"46\" x2=\"81\" y2=\"46\" />\n",
       "  <line x1=\"60\" y1=\"50\" x2=\"85\" y2=\"50\" />\n",
       "  <line x1=\"64\" y1=\"54\" x2=\"90\" y2=\"54\" />\n",
       "  <line x1=\"68\" y1=\"58\" x2=\"94\" y2=\"58\" />\n",
       "  <line x1=\"73\" y1=\"63\" x2=\"98\" y2=\"63\" />\n",
       "  <line x1=\"77\" y1=\"67\" x2=\"102\" y2=\"67\" />\n",
       "  <line x1=\"80\" y1=\"70\" x2=\"106\" y2=\"70\" style=\"stroke-width:2\" />\n",
       "\n",
       "  <!-- Vertical lines -->\n",
       "  <line x1=\"10\" y1=\"0\" x2=\"80\" y2=\"70\" style=\"stroke-width:2\" />\n",
       "  <line x1=\"35\" y1=\"0\" x2=\"106\" y2=\"70\" style=\"stroke-width:2\" />\n",
       "\n",
       "  <!-- Colored Rectangle -->\n",
       "  <polygon points=\"10.0,0.0 35.41261651458248,0.0 106.00085180870013,70.58823529411765 80.58823529411765,70.58823529411765\" style=\"fill:#ECB172A0;stroke-width:0\"/>\n",
       "\n",
       "  <!-- Horizontal lines -->\n",
       "  <line x1=\"80\" y1=\"70\" x2=\"106\" y2=\"70\" style=\"stroke-width:2\" />\n",
       "  <line x1=\"80\" y1=\"77\" x2=\"106\" y2=\"77\" />\n",
       "  <line x1=\"80\" y1=\"84\" x2=\"106\" y2=\"84\" />\n",
       "  <line x1=\"80\" y1=\"92\" x2=\"106\" y2=\"92\" />\n",
       "  <line x1=\"80\" y1=\"99\" x2=\"106\" y2=\"99\" />\n",
       "  <line x1=\"80\" y1=\"106\" x2=\"106\" y2=\"106\" />\n",
       "  <line x1=\"80\" y1=\"113\" x2=\"106\" y2=\"113\" />\n",
       "  <line x1=\"80\" y1=\"120\" x2=\"106\" y2=\"120\" />\n",
       "  <line x1=\"80\" y1=\"127\" x2=\"106\" y2=\"127\" />\n",
       "  <line x1=\"80\" y1=\"128\" x2=\"106\" y2=\"128\" style=\"stroke-width:2\" />\n",
       "\n",
       "  <!-- Vertical lines -->\n",
       "  <line x1=\"80\" y1=\"70\" x2=\"80\" y2=\"128\" style=\"stroke-width:2\" />\n",
       "  <line x1=\"106\" y1=\"70\" x2=\"106\" y2=\"128\" style=\"stroke-width:2\" />\n",
       "\n",
       "  <!-- Colored Rectangle -->\n",
       "  <polygon points=\"80.58823529411765,70.58823529411765 106.00085180870013,70.58823529411765 106.00085180870013,128.46166928062584 80.58823529411765,128.46166928062584\" style=\"fill:#ECB172A0;stroke-width:0\"/>\n",
       "\n",
       "  <!-- Text -->\n",
       "  <text x=\"93.294544\" y=\"148.461669\" font-size=\"1.0rem\" font-weight=\"100\" text-anchor=\"middle\" >3</text>\n",
       "  <text x=\"126.000852\" y=\"99.524952\" font-size=\"1.0rem\" font-weight=\"100\" text-anchor=\"middle\" transform=\"rotate(-90,126.000852,99.524952)\">54048</text>\n",
       "  <text x=\"35.294118\" y=\"113.167552\" font-size=\"1.0rem\" font-weight=\"100\" text-anchor=\"middle\" transform=\"rotate(45,35.294118,113.167552)\">112068</text>\n",
       "</svg>\n",
       "        </td>\n",
       "    </tr>\n",
       "</table>"
      ],
      "text/plain": [
       "dask.array<from-zarr, shape=(112068, 54048, 3), dtype=uint8, chunksize=(6688, 6688, 3), chunktype=numpy.ndarray>"
      ]
     },
     "execution_count": 22,
     "metadata": {},
     "output_type": "execute_result"
    }
   ],
   "source": [
    "ar"
   ]
  },
  {
   "cell_type": "code",
   "execution_count": 27,
   "id": "d30d2d19",
   "metadata": {},
   "outputs": [
    {
     "name": "stdout",
     "output_type": "stream",
     "text": [
      "proceduring (0, 0, 0)\n",
      "proceduring (1, 1, 1)\n"
     ]
    }
   ],
   "source": [
    "#from distributed import Client\n",
    "import dask.array as da\n",
    "from scipy.ndimage import zoom\n",
    "\n",
    "def procedure(target):\n",
    "  print(\"proceduring\",target.shape)\n",
    "  return zoom(target, [0.5,0.5,1])\n",
    "\n",
    "tile_map = da.map_overlap(procedure, ar)"
   ]
  },
  {
   "cell_type": "code",
   "execution_count": 29,
   "id": "5512240a",
   "metadata": {},
   "outputs": [
    {
     "ename": "KeyboardInterrupt",
     "evalue": "",
     "output_type": "error",
     "traceback": [
      "\u001b[1;31m---------------------------------------------------------------------------\u001b[0m",
      "\u001b[1;31mKeyboardInterrupt\u001b[0m                         Traceback (most recent call last)",
      "Cell \u001b[1;32mIn[29], line 1\u001b[0m\n\u001b[1;32m----> 1\u001b[0m \u001b[43mzoom\u001b[49m\u001b[43m(\u001b[49m\u001b[43mar\u001b[49m\u001b[43m,\u001b[49m\u001b[43m \u001b[49m\u001b[43m[\u001b[49m\u001b[38;5;241;43m0.5\u001b[39;49m\u001b[43m,\u001b[49m\u001b[38;5;241;43m0.5\u001b[39;49m\u001b[43m,\u001b[49m\u001b[38;5;241;43m1\u001b[39;49m\u001b[43m]\u001b[49m\u001b[43m)\u001b[49m\n",
      "File \u001b[1;32mc:\\Users\\ge37voy\\AppData\\Local\\miniconda3\\envs\\insitupy\\lib\\site-packages\\scipy\\ndimage\\_interpolation.py:816\u001b[0m, in \u001b[0;36mzoom\u001b[1;34m(input, zoom, output, order, mode, cval, prefilter, grid_mode)\u001b[0m\n\u001b[0;32m    814\u001b[0m \u001b[38;5;28;01mif\u001b[39;00m order \u001b[38;5;241m<\u001b[39m \u001b[38;5;241m0\u001b[39m \u001b[38;5;129;01mor\u001b[39;00m order \u001b[38;5;241m>\u001b[39m \u001b[38;5;241m5\u001b[39m:\n\u001b[0;32m    815\u001b[0m     \u001b[38;5;28;01mraise\u001b[39;00m \u001b[38;5;167;01mRuntimeError\u001b[39;00m(\u001b[38;5;124m'\u001b[39m\u001b[38;5;124mspline order not supported\u001b[39m\u001b[38;5;124m'\u001b[39m)\n\u001b[1;32m--> 816\u001b[0m \u001b[38;5;28minput\u001b[39m \u001b[38;5;241m=\u001b[39m \u001b[43mnumpy\u001b[49m\u001b[38;5;241;43m.\u001b[39;49m\u001b[43masarray\u001b[49m\u001b[43m(\u001b[49m\u001b[38;5;28;43minput\u001b[39;49m\u001b[43m)\u001b[49m\n\u001b[0;32m    817\u001b[0m \u001b[38;5;28;01mif\u001b[39;00m \u001b[38;5;28minput\u001b[39m\u001b[38;5;241m.\u001b[39mndim \u001b[38;5;241m<\u001b[39m \u001b[38;5;241m1\u001b[39m:\n\u001b[0;32m    818\u001b[0m     \u001b[38;5;28;01mraise\u001b[39;00m \u001b[38;5;167;01mRuntimeError\u001b[39;00m(\u001b[38;5;124m'\u001b[39m\u001b[38;5;124minput and output rank must be > 0\u001b[39m\u001b[38;5;124m'\u001b[39m)\n",
      "File \u001b[1;32mc:\\Users\\ge37voy\\AppData\\Local\\miniconda3\\envs\\insitupy\\lib\\site-packages\\dask\\array\\core.py:1700\u001b[0m, in \u001b[0;36mArray.__array__\u001b[1;34m(self, dtype, **kwargs)\u001b[0m\n\u001b[0;32m   1699\u001b[0m \u001b[38;5;28;01mdef\u001b[39;00m\u001b[38;5;250m \u001b[39m\u001b[38;5;21m__array__\u001b[39m(\u001b[38;5;28mself\u001b[39m, dtype\u001b[38;5;241m=\u001b[39m\u001b[38;5;28;01mNone\u001b[39;00m, \u001b[38;5;241m*\u001b[39m\u001b[38;5;241m*\u001b[39mkwargs):\n\u001b[1;32m-> 1700\u001b[0m     x \u001b[38;5;241m=\u001b[39m \u001b[38;5;28;43mself\u001b[39;49m\u001b[38;5;241;43m.\u001b[39;49m\u001b[43mcompute\u001b[49m\u001b[43m(\u001b[49m\u001b[43m)\u001b[49m\n\u001b[0;32m   1701\u001b[0m     \u001b[38;5;28;01mif\u001b[39;00m dtype \u001b[38;5;129;01mand\u001b[39;00m x\u001b[38;5;241m.\u001b[39mdtype \u001b[38;5;241m!=\u001b[39m dtype:\n\u001b[0;32m   1702\u001b[0m         x \u001b[38;5;241m=\u001b[39m x\u001b[38;5;241m.\u001b[39mastype(dtype)\n",
      "File \u001b[1;32mc:\\Users\\ge37voy\\AppData\\Local\\miniconda3\\envs\\insitupy\\lib\\site-packages\\dask\\base.py:342\u001b[0m, in \u001b[0;36mDaskMethodsMixin.compute\u001b[1;34m(self, **kwargs)\u001b[0m\n\u001b[0;32m    318\u001b[0m \u001b[38;5;28;01mdef\u001b[39;00m\u001b[38;5;250m \u001b[39m\u001b[38;5;21mcompute\u001b[39m(\u001b[38;5;28mself\u001b[39m, \u001b[38;5;241m*\u001b[39m\u001b[38;5;241m*\u001b[39mkwargs):\n\u001b[0;32m    319\u001b[0m \u001b[38;5;250m    \u001b[39m\u001b[38;5;124;03m\"\"\"Compute this dask collection\u001b[39;00m\n\u001b[0;32m    320\u001b[0m \n\u001b[0;32m    321\u001b[0m \u001b[38;5;124;03m    This turns a lazy Dask collection into its in-memory equivalent.\u001b[39;00m\n\u001b[1;32m   (...)\u001b[0m\n\u001b[0;32m    340\u001b[0m \u001b[38;5;124;03m    dask.compute\u001b[39;00m\n\u001b[0;32m    341\u001b[0m \u001b[38;5;124;03m    \"\"\"\u001b[39;00m\n\u001b[1;32m--> 342\u001b[0m     (result,) \u001b[38;5;241m=\u001b[39m compute(\u001b[38;5;28mself\u001b[39m, traverse\u001b[38;5;241m=\u001b[39m\u001b[38;5;28;01mFalse\u001b[39;00m, \u001b[38;5;241m*\u001b[39m\u001b[38;5;241m*\u001b[39mkwargs)\n\u001b[0;32m    343\u001b[0m     \u001b[38;5;28;01mreturn\u001b[39;00m result\n",
      "File \u001b[1;32mc:\\Users\\ge37voy\\AppData\\Local\\miniconda3\\envs\\insitupy\\lib\\site-packages\\dask\\base.py:628\u001b[0m, in \u001b[0;36mcompute\u001b[1;34m(traverse, optimize_graph, scheduler, get, *args, **kwargs)\u001b[0m\n\u001b[0;32m    625\u001b[0m     postcomputes\u001b[38;5;241m.\u001b[39mappend(x\u001b[38;5;241m.\u001b[39m__dask_postcompute__())\n\u001b[0;32m    627\u001b[0m \u001b[38;5;28;01mwith\u001b[39;00m shorten_traceback():\n\u001b[1;32m--> 628\u001b[0m     results \u001b[38;5;241m=\u001b[39m schedule(dsk, keys, \u001b[38;5;241m*\u001b[39m\u001b[38;5;241m*\u001b[39mkwargs)\n\u001b[0;32m    630\u001b[0m \u001b[38;5;28;01mreturn\u001b[39;00m repack([f(r, \u001b[38;5;241m*\u001b[39ma) \u001b[38;5;28;01mfor\u001b[39;00m r, (f, a) \u001b[38;5;129;01min\u001b[39;00m \u001b[38;5;28mzip\u001b[39m(results, postcomputes)])\n",
      "File \u001b[1;32mc:\\Users\\ge37voy\\AppData\\Local\\miniconda3\\envs\\insitupy\\lib\\queue.py:180\u001b[0m, in \u001b[0;36mQueue.get\u001b[1;34m(self, block, timeout)\u001b[0m\n\u001b[0;32m    178\u001b[0m         \u001b[38;5;28;01mif\u001b[39;00m remaining \u001b[38;5;241m<\u001b[39m\u001b[38;5;241m=\u001b[39m \u001b[38;5;241m0.0\u001b[39m:\n\u001b[0;32m    179\u001b[0m             \u001b[38;5;28;01mraise\u001b[39;00m Empty\n\u001b[1;32m--> 180\u001b[0m         \u001b[38;5;28;43mself\u001b[39;49m\u001b[38;5;241;43m.\u001b[39;49m\u001b[43mnot_empty\u001b[49m\u001b[38;5;241;43m.\u001b[39;49m\u001b[43mwait\u001b[49m\u001b[43m(\u001b[49m\u001b[43mremaining\u001b[49m\u001b[43m)\u001b[49m\n\u001b[0;32m    181\u001b[0m item \u001b[38;5;241m=\u001b[39m \u001b[38;5;28mself\u001b[39m\u001b[38;5;241m.\u001b[39m_get()\n\u001b[0;32m    182\u001b[0m \u001b[38;5;28mself\u001b[39m\u001b[38;5;241m.\u001b[39mnot_full\u001b[38;5;241m.\u001b[39mnotify()\n",
      "File \u001b[1;32mc:\\Users\\ge37voy\\AppData\\Local\\miniconda3\\envs\\insitupy\\lib\\threading.py:316\u001b[0m, in \u001b[0;36mCondition.wait\u001b[1;34m(self, timeout)\u001b[0m\n\u001b[0;32m    314\u001b[0m \u001b[38;5;28;01melse\u001b[39;00m:\n\u001b[0;32m    315\u001b[0m     \u001b[38;5;28;01mif\u001b[39;00m timeout \u001b[38;5;241m>\u001b[39m \u001b[38;5;241m0\u001b[39m:\n\u001b[1;32m--> 316\u001b[0m         gotit \u001b[38;5;241m=\u001b[39m \u001b[43mwaiter\u001b[49m\u001b[38;5;241;43m.\u001b[39;49m\u001b[43macquire\u001b[49m\u001b[43m(\u001b[49m\u001b[38;5;28;43;01mTrue\u001b[39;49;00m\u001b[43m,\u001b[49m\u001b[43m \u001b[49m\u001b[43mtimeout\u001b[49m\u001b[43m)\u001b[49m\n\u001b[0;32m    317\u001b[0m     \u001b[38;5;28;01melse\u001b[39;00m:\n\u001b[0;32m    318\u001b[0m         gotit \u001b[38;5;241m=\u001b[39m waiter\u001b[38;5;241m.\u001b[39macquire(\u001b[38;5;28;01mFalse\u001b[39;00m)\n",
      "\u001b[1;31mKeyboardInterrupt\u001b[0m: "
     ]
    }
   ],
   "source": [
    "zoom(ar, [0.5,0.5,1])"
   ]
  },
  {
   "cell_type": "code",
   "execution_count": 28,
   "id": "853850f8",
   "metadata": {},
   "outputs": [
    {
     "data": {
      "text/html": [
       "<table>\n",
       "    <tr>\n",
       "        <td>\n",
       "            <table style=\"border-collapse: collapse;\">\n",
       "                <thead>\n",
       "                    <tr>\n",
       "                        <td> </td>\n",
       "                        <th> Array </th>\n",
       "                        <th> Chunk </th>\n",
       "                    </tr>\n",
       "                </thead>\n",
       "                <tbody>\n",
       "                    \n",
       "                    <tr>\n",
       "                        <th> Bytes </th>\n",
       "                        <td> 16.92 GiB </td>\n",
       "                        <td> 127.97 MiB </td>\n",
       "                    </tr>\n",
       "                    \n",
       "                    <tr>\n",
       "                        <th> Shape </th>\n",
       "                        <td> (112068, 54048, 3) </td>\n",
       "                        <td> (6688, 6688, 3) </td>\n",
       "                    </tr>\n",
       "                    <tr>\n",
       "                        <th> Dask graph </th>\n",
       "                        <td colspan=\"2\"> 153 chunks in 3 graph layers </td>\n",
       "                    </tr>\n",
       "                    <tr>\n",
       "                        <th> Data type </th>\n",
       "                        <td colspan=\"2\"> uint8 numpy.ndarray </td>\n",
       "                    </tr>\n",
       "                </tbody>\n",
       "            </table>\n",
       "        </td>\n",
       "        <td>\n",
       "        <svg width=\"156\" height=\"178\" style=\"stroke:rgb(0,0,0);stroke-width:1\" >\n",
       "\n",
       "  <!-- Horizontal lines -->\n",
       "  <line x1=\"10\" y1=\"0\" x2=\"80\" y2=\"70\" style=\"stroke-width:2\" />\n",
       "  <line x1=\"10\" y1=\"7\" x2=\"80\" y2=\"77\" />\n",
       "  <line x1=\"10\" y1=\"14\" x2=\"80\" y2=\"84\" />\n",
       "  <line x1=\"10\" y1=\"21\" x2=\"80\" y2=\"92\" />\n",
       "  <line x1=\"10\" y1=\"28\" x2=\"80\" y2=\"99\" />\n",
       "  <line x1=\"10\" y1=\"35\" x2=\"80\" y2=\"106\" />\n",
       "  <line x1=\"10\" y1=\"42\" x2=\"80\" y2=\"113\" />\n",
       "  <line x1=\"10\" y1=\"50\" x2=\"80\" y2=\"120\" />\n",
       "  <line x1=\"10\" y1=\"57\" x2=\"80\" y2=\"127\" />\n",
       "  <line x1=\"10\" y1=\"57\" x2=\"80\" y2=\"128\" style=\"stroke-width:2\" />\n",
       "\n",
       "  <!-- Vertical lines -->\n",
       "  <line x1=\"10\" y1=\"0\" x2=\"10\" y2=\"57\" style=\"stroke-width:2\" />\n",
       "  <line x1=\"14\" y1=\"4\" x2=\"14\" y2=\"62\" />\n",
       "  <line x1=\"18\" y1=\"8\" x2=\"18\" y2=\"66\" />\n",
       "  <line x1=\"22\" y1=\"12\" x2=\"22\" y2=\"70\" />\n",
       "  <line x1=\"26\" y1=\"16\" x2=\"26\" y2=\"74\" />\n",
       "  <line x1=\"31\" y1=\"21\" x2=\"31\" y2=\"78\" />\n",
       "  <line x1=\"35\" y1=\"25\" x2=\"35\" y2=\"83\" />\n",
       "  <line x1=\"39\" y1=\"29\" x2=\"39\" y2=\"87\" />\n",
       "  <line x1=\"43\" y1=\"33\" x2=\"43\" y2=\"91\" />\n",
       "  <line x1=\"47\" y1=\"37\" x2=\"47\" y2=\"95\" />\n",
       "  <line x1=\"52\" y1=\"42\" x2=\"52\" y2=\"99\" />\n",
       "  <line x1=\"56\" y1=\"46\" x2=\"56\" y2=\"104\" />\n",
       "  <line x1=\"60\" y1=\"50\" x2=\"60\" y2=\"108\" />\n",
       "  <line x1=\"64\" y1=\"54\" x2=\"64\" y2=\"112\" />\n",
       "  <line x1=\"68\" y1=\"58\" x2=\"68\" y2=\"116\" />\n",
       "  <line x1=\"73\" y1=\"63\" x2=\"73\" y2=\"121\" />\n",
       "  <line x1=\"77\" y1=\"67\" x2=\"77\" y2=\"125\" />\n",
       "  <line x1=\"80\" y1=\"70\" x2=\"80\" y2=\"128\" style=\"stroke-width:2\" />\n",
       "\n",
       "  <!-- Colored Rectangle -->\n",
       "  <polygon points=\"10.0,0.0 80.58823529411765,70.58823529411765 80.58823529411765,128.46166928062584 10.0,57.87343398650819\" style=\"fill:#ECB172A0;stroke-width:0\"/>\n",
       "\n",
       "  <!-- Horizontal lines -->\n",
       "  <line x1=\"10\" y1=\"0\" x2=\"35\" y2=\"0\" style=\"stroke-width:2\" />\n",
       "  <line x1=\"14\" y1=\"4\" x2=\"39\" y2=\"4\" />\n",
       "  <line x1=\"18\" y1=\"8\" x2=\"43\" y2=\"8\" />\n",
       "  <line x1=\"22\" y1=\"12\" x2=\"48\" y2=\"12\" />\n",
       "  <line x1=\"26\" y1=\"16\" x2=\"52\" y2=\"16\" />\n",
       "  <line x1=\"31\" y1=\"21\" x2=\"56\" y2=\"21\" />\n",
       "  <line x1=\"35\" y1=\"25\" x2=\"60\" y2=\"25\" />\n",
       "  <line x1=\"39\" y1=\"29\" x2=\"64\" y2=\"29\" />\n",
       "  <line x1=\"43\" y1=\"33\" x2=\"69\" y2=\"33\" />\n",
       "  <line x1=\"47\" y1=\"37\" x2=\"73\" y2=\"37\" />\n",
       "  <line x1=\"52\" y1=\"42\" x2=\"77\" y2=\"42\" />\n",
       "  <line x1=\"56\" y1=\"46\" x2=\"81\" y2=\"46\" />\n",
       "  <line x1=\"60\" y1=\"50\" x2=\"85\" y2=\"50\" />\n",
       "  <line x1=\"64\" y1=\"54\" x2=\"90\" y2=\"54\" />\n",
       "  <line x1=\"68\" y1=\"58\" x2=\"94\" y2=\"58\" />\n",
       "  <line x1=\"73\" y1=\"63\" x2=\"98\" y2=\"63\" />\n",
       "  <line x1=\"77\" y1=\"67\" x2=\"102\" y2=\"67\" />\n",
       "  <line x1=\"80\" y1=\"70\" x2=\"106\" y2=\"70\" style=\"stroke-width:2\" />\n",
       "\n",
       "  <!-- Vertical lines -->\n",
       "  <line x1=\"10\" y1=\"0\" x2=\"80\" y2=\"70\" style=\"stroke-width:2\" />\n",
       "  <line x1=\"35\" y1=\"0\" x2=\"106\" y2=\"70\" style=\"stroke-width:2\" />\n",
       "\n",
       "  <!-- Colored Rectangle -->\n",
       "  <polygon points=\"10.0,0.0 35.41261651458248,0.0 106.00085180870013,70.58823529411765 80.58823529411765,70.58823529411765\" style=\"fill:#ECB172A0;stroke-width:0\"/>\n",
       "\n",
       "  <!-- Horizontal lines -->\n",
       "  <line x1=\"80\" y1=\"70\" x2=\"106\" y2=\"70\" style=\"stroke-width:2\" />\n",
       "  <line x1=\"80\" y1=\"77\" x2=\"106\" y2=\"77\" />\n",
       "  <line x1=\"80\" y1=\"84\" x2=\"106\" y2=\"84\" />\n",
       "  <line x1=\"80\" y1=\"92\" x2=\"106\" y2=\"92\" />\n",
       "  <line x1=\"80\" y1=\"99\" x2=\"106\" y2=\"99\" />\n",
       "  <line x1=\"80\" y1=\"106\" x2=\"106\" y2=\"106\" />\n",
       "  <line x1=\"80\" y1=\"113\" x2=\"106\" y2=\"113\" />\n",
       "  <line x1=\"80\" y1=\"120\" x2=\"106\" y2=\"120\" />\n",
       "  <line x1=\"80\" y1=\"127\" x2=\"106\" y2=\"127\" />\n",
       "  <line x1=\"80\" y1=\"128\" x2=\"106\" y2=\"128\" style=\"stroke-width:2\" />\n",
       "\n",
       "  <!-- Vertical lines -->\n",
       "  <line x1=\"80\" y1=\"70\" x2=\"80\" y2=\"128\" style=\"stroke-width:2\" />\n",
       "  <line x1=\"106\" y1=\"70\" x2=\"106\" y2=\"128\" style=\"stroke-width:2\" />\n",
       "\n",
       "  <!-- Colored Rectangle -->\n",
       "  <polygon points=\"80.58823529411765,70.58823529411765 106.00085180870013,70.58823529411765 106.00085180870013,128.46166928062584 80.58823529411765,128.46166928062584\" style=\"fill:#ECB172A0;stroke-width:0\"/>\n",
       "\n",
       "  <!-- Text -->\n",
       "  <text x=\"93.294544\" y=\"148.461669\" font-size=\"1.0rem\" font-weight=\"100\" text-anchor=\"middle\" >3</text>\n",
       "  <text x=\"126.000852\" y=\"99.524952\" font-size=\"1.0rem\" font-weight=\"100\" text-anchor=\"middle\" transform=\"rotate(-90,126.000852,99.524952)\">54048</text>\n",
       "  <text x=\"35.294118\" y=\"113.167552\" font-size=\"1.0rem\" font-weight=\"100\" text-anchor=\"middle\" transform=\"rotate(45,35.294118,113.167552)\">112068</text>\n",
       "</svg>\n",
       "        </td>\n",
       "    </tr>\n",
       "</table>"
      ],
      "text/plain": [
       "dask.array<procedure, shape=(112068, 54048, 3), dtype=uint8, chunksize=(6688, 6688, 3), chunktype=numpy.ndarray>"
      ]
     },
     "execution_count": 28,
     "metadata": {},
     "output_type": "execute_result"
    }
   ],
   "source": [
    "tile_map"
   ]
  },
  {
   "cell_type": "code",
   "execution_count": 24,
   "id": "76c32df5",
   "metadata": {},
   "outputs": [
    {
     "data": {
      "text/html": [
       "<table>\n",
       "    <tr>\n",
       "        <td>\n",
       "            <table style=\"border-collapse: collapse;\">\n",
       "                <thead>\n",
       "                    <tr>\n",
       "                        <td> </td>\n",
       "                        <th> Array </th>\n",
       "                        <th> Chunk </th>\n",
       "                    </tr>\n",
       "                </thead>\n",
       "                <tbody>\n",
       "                    \n",
       "                    <tr>\n",
       "                        <th> Bytes </th>\n",
       "                        <td> 16.92 GiB </td>\n",
       "                        <td> 127.97 MiB </td>\n",
       "                    </tr>\n",
       "                    \n",
       "                    <tr>\n",
       "                        <th> Shape </th>\n",
       "                        <td> (112068, 54048, 3) </td>\n",
       "                        <td> (6688, 6688, 3) </td>\n",
       "                    </tr>\n",
       "                    <tr>\n",
       "                        <th> Dask graph </th>\n",
       "                        <td colspan=\"2\"> 153 chunks in 2 graph layers </td>\n",
       "                    </tr>\n",
       "                    <tr>\n",
       "                        <th> Data type </th>\n",
       "                        <td colspan=\"2\"> uint8 numpy.ndarray </td>\n",
       "                    </tr>\n",
       "                </tbody>\n",
       "            </table>\n",
       "        </td>\n",
       "        <td>\n",
       "        <svg width=\"156\" height=\"178\" style=\"stroke:rgb(0,0,0);stroke-width:1\" >\n",
       "\n",
       "  <!-- Horizontal lines -->\n",
       "  <line x1=\"10\" y1=\"0\" x2=\"80\" y2=\"70\" style=\"stroke-width:2\" />\n",
       "  <line x1=\"10\" y1=\"7\" x2=\"80\" y2=\"77\" />\n",
       "  <line x1=\"10\" y1=\"14\" x2=\"80\" y2=\"84\" />\n",
       "  <line x1=\"10\" y1=\"21\" x2=\"80\" y2=\"92\" />\n",
       "  <line x1=\"10\" y1=\"28\" x2=\"80\" y2=\"99\" />\n",
       "  <line x1=\"10\" y1=\"35\" x2=\"80\" y2=\"106\" />\n",
       "  <line x1=\"10\" y1=\"42\" x2=\"80\" y2=\"113\" />\n",
       "  <line x1=\"10\" y1=\"50\" x2=\"80\" y2=\"120\" />\n",
       "  <line x1=\"10\" y1=\"57\" x2=\"80\" y2=\"127\" />\n",
       "  <line x1=\"10\" y1=\"57\" x2=\"80\" y2=\"128\" style=\"stroke-width:2\" />\n",
       "\n",
       "  <!-- Vertical lines -->\n",
       "  <line x1=\"10\" y1=\"0\" x2=\"10\" y2=\"57\" style=\"stroke-width:2\" />\n",
       "  <line x1=\"14\" y1=\"4\" x2=\"14\" y2=\"62\" />\n",
       "  <line x1=\"18\" y1=\"8\" x2=\"18\" y2=\"66\" />\n",
       "  <line x1=\"22\" y1=\"12\" x2=\"22\" y2=\"70\" />\n",
       "  <line x1=\"26\" y1=\"16\" x2=\"26\" y2=\"74\" />\n",
       "  <line x1=\"31\" y1=\"21\" x2=\"31\" y2=\"78\" />\n",
       "  <line x1=\"35\" y1=\"25\" x2=\"35\" y2=\"83\" />\n",
       "  <line x1=\"39\" y1=\"29\" x2=\"39\" y2=\"87\" />\n",
       "  <line x1=\"43\" y1=\"33\" x2=\"43\" y2=\"91\" />\n",
       "  <line x1=\"47\" y1=\"37\" x2=\"47\" y2=\"95\" />\n",
       "  <line x1=\"52\" y1=\"42\" x2=\"52\" y2=\"99\" />\n",
       "  <line x1=\"56\" y1=\"46\" x2=\"56\" y2=\"104\" />\n",
       "  <line x1=\"60\" y1=\"50\" x2=\"60\" y2=\"108\" />\n",
       "  <line x1=\"64\" y1=\"54\" x2=\"64\" y2=\"112\" />\n",
       "  <line x1=\"68\" y1=\"58\" x2=\"68\" y2=\"116\" />\n",
       "  <line x1=\"73\" y1=\"63\" x2=\"73\" y2=\"121\" />\n",
       "  <line x1=\"77\" y1=\"67\" x2=\"77\" y2=\"125\" />\n",
       "  <line x1=\"80\" y1=\"70\" x2=\"80\" y2=\"128\" style=\"stroke-width:2\" />\n",
       "\n",
       "  <!-- Colored Rectangle -->\n",
       "  <polygon points=\"10.0,0.0 80.58823529411765,70.58823529411765 80.58823529411765,128.46166928062584 10.0,57.87343398650819\" style=\"fill:#ECB172A0;stroke-width:0\"/>\n",
       "\n",
       "  <!-- Horizontal lines -->\n",
       "  <line x1=\"10\" y1=\"0\" x2=\"35\" y2=\"0\" style=\"stroke-width:2\" />\n",
       "  <line x1=\"14\" y1=\"4\" x2=\"39\" y2=\"4\" />\n",
       "  <line x1=\"18\" y1=\"8\" x2=\"43\" y2=\"8\" />\n",
       "  <line x1=\"22\" y1=\"12\" x2=\"48\" y2=\"12\" />\n",
       "  <line x1=\"26\" y1=\"16\" x2=\"52\" y2=\"16\" />\n",
       "  <line x1=\"31\" y1=\"21\" x2=\"56\" y2=\"21\" />\n",
       "  <line x1=\"35\" y1=\"25\" x2=\"60\" y2=\"25\" />\n",
       "  <line x1=\"39\" y1=\"29\" x2=\"64\" y2=\"29\" />\n",
       "  <line x1=\"43\" y1=\"33\" x2=\"69\" y2=\"33\" />\n",
       "  <line x1=\"47\" y1=\"37\" x2=\"73\" y2=\"37\" />\n",
       "  <line x1=\"52\" y1=\"42\" x2=\"77\" y2=\"42\" />\n",
       "  <line x1=\"56\" y1=\"46\" x2=\"81\" y2=\"46\" />\n",
       "  <line x1=\"60\" y1=\"50\" x2=\"85\" y2=\"50\" />\n",
       "  <line x1=\"64\" y1=\"54\" x2=\"90\" y2=\"54\" />\n",
       "  <line x1=\"68\" y1=\"58\" x2=\"94\" y2=\"58\" />\n",
       "  <line x1=\"73\" y1=\"63\" x2=\"98\" y2=\"63\" />\n",
       "  <line x1=\"77\" y1=\"67\" x2=\"102\" y2=\"67\" />\n",
       "  <line x1=\"80\" y1=\"70\" x2=\"106\" y2=\"70\" style=\"stroke-width:2\" />\n",
       "\n",
       "  <!-- Vertical lines -->\n",
       "  <line x1=\"10\" y1=\"0\" x2=\"80\" y2=\"70\" style=\"stroke-width:2\" />\n",
       "  <line x1=\"35\" y1=\"0\" x2=\"106\" y2=\"70\" style=\"stroke-width:2\" />\n",
       "\n",
       "  <!-- Colored Rectangle -->\n",
       "  <polygon points=\"10.0,0.0 35.41261651458248,0.0 106.00085180870013,70.58823529411765 80.58823529411765,70.58823529411765\" style=\"fill:#ECB172A0;stroke-width:0\"/>\n",
       "\n",
       "  <!-- Horizontal lines -->\n",
       "  <line x1=\"80\" y1=\"70\" x2=\"106\" y2=\"70\" style=\"stroke-width:2\" />\n",
       "  <line x1=\"80\" y1=\"77\" x2=\"106\" y2=\"77\" />\n",
       "  <line x1=\"80\" y1=\"84\" x2=\"106\" y2=\"84\" />\n",
       "  <line x1=\"80\" y1=\"92\" x2=\"106\" y2=\"92\" />\n",
       "  <line x1=\"80\" y1=\"99\" x2=\"106\" y2=\"99\" />\n",
       "  <line x1=\"80\" y1=\"106\" x2=\"106\" y2=\"106\" />\n",
       "  <line x1=\"80\" y1=\"113\" x2=\"106\" y2=\"113\" />\n",
       "  <line x1=\"80\" y1=\"120\" x2=\"106\" y2=\"120\" />\n",
       "  <line x1=\"80\" y1=\"127\" x2=\"106\" y2=\"127\" />\n",
       "  <line x1=\"80\" y1=\"128\" x2=\"106\" y2=\"128\" style=\"stroke-width:2\" />\n",
       "\n",
       "  <!-- Vertical lines -->\n",
       "  <line x1=\"80\" y1=\"70\" x2=\"80\" y2=\"128\" style=\"stroke-width:2\" />\n",
       "  <line x1=\"106\" y1=\"70\" x2=\"106\" y2=\"128\" style=\"stroke-width:2\" />\n",
       "\n",
       "  <!-- Colored Rectangle -->\n",
       "  <polygon points=\"80.58823529411765,70.58823529411765 106.00085180870013,70.58823529411765 106.00085180870013,128.46166928062584 80.58823529411765,128.46166928062584\" style=\"fill:#ECB172A0;stroke-width:0\"/>\n",
       "\n",
       "  <!-- Text -->\n",
       "  <text x=\"93.294544\" y=\"148.461669\" font-size=\"1.0rem\" font-weight=\"100\" text-anchor=\"middle\" >3</text>\n",
       "  <text x=\"126.000852\" y=\"99.524952\" font-size=\"1.0rem\" font-weight=\"100\" text-anchor=\"middle\" transform=\"rotate(-90,126.000852,99.524952)\">54048</text>\n",
       "  <text x=\"35.294118\" y=\"113.167552\" font-size=\"1.0rem\" font-weight=\"100\" text-anchor=\"middle\" transform=\"rotate(45,35.294118,113.167552)\">112068</text>\n",
       "</svg>\n",
       "        </td>\n",
       "    </tr>\n",
       "</table>"
      ],
      "text/plain": [
       "dask.array<from-zarr, shape=(112068, 54048, 3), dtype=uint8, chunksize=(6688, 6688, 3), chunktype=numpy.ndarray>"
      ]
     },
     "execution_count": 24,
     "metadata": {},
     "output_type": "execute_result"
    }
   ],
   "source": [
    "ar"
   ]
  },
  {
   "cell_type": "code",
   "execution_count": null,
   "id": "0065ebe6",
   "metadata": {},
   "outputs": [],
   "source": []
  },
  {
   "cell_type": "markdown",
   "id": "9a8a3cba",
   "metadata": {},
   "source": [
    "### Save `InSituPy` project with downscaled image data\n",
    "\n",
    "Since the image data is very large and not required during most of the trancriptomic analysis, we can downscale the image data to save disk space."
   ]
  },
  {
   "cell_type": "code",
   "execution_count": 25,
   "id": "0c2dc284",
   "metadata": {},
   "outputs": [
    {
     "name": "stdout",
     "output_type": "stream",
     "text": [
      "Saving data to demo_dataset\\demo_insitupy_project_downscaled\n",
      "Downscale image to 1 µm per pixel by factor 4.705882352941177\n",
      "Downscale image to 1 µm per pixel by factor 4.705882352941177\n",
      "Downscale image to 1 µm per pixel by factor 4.705882352941177\n",
      "Downscale image to 1 µm per pixel by factor 4.705882352941177\n",
      "Downscale image to 1 µm per pixel by factor 4.705882352941177\n"
     ]
    },
    {
     "name": "stderr",
     "output_type": "stream",
     "text": [
      "C:\\Users\\ge37voy\\Github\\InSituPy\\insitupy\\images\\utils.py:203: UserWarning: Image does not have dtype 'uint8' or 'uint16'. Is converted to 'uint16'.\n",
      "  warnings.warn(\"Image does not have dtype 'uint8' or 'uint16'. Is converted to 'uint16'.\")\n",
      "C:\\Users\\ge37voy\\Github\\InSituPy\\insitupy\\images\\utils.py:203: UserWarning: Image does not have dtype 'uint8' or 'uint16'. Is converted to 'uint16'.\n",
      "  warnings.warn(\"Image does not have dtype 'uint8' or 'uint16'. Is converted to 'uint16'.\")\n"
     ]
    },
    {
     "name": "stdout",
     "output_type": "stream",
     "text": [
      "Saved.\n"
     ]
    }
   ],
   "source": [
    "insitupy_project_downscaled = Path(\"demo_dataset/demo_insitupy_project_downscaled\")\n",
    "xd.saveas(\n",
    "    insitupy_project_downscaled, overwrite=True,\n",
    "    images_max_resolution=1 # in µm/pixel\n",
    "    )"
   ]
  },
  {
   "cell_type": "markdown",
   "id": "726fab84",
   "metadata": {},
   "source": [
    "### Reload from `InSituPy` project\n",
    "\n",
    "From the `InSituPy` project we can now load only the modalities that we need for later analyses. Due to an optimized file structure using `zarr` and `dask`, this makes loading and visualization of the data more efficient compared to doing this directly from the xenium bundle."
   ]
  },
  {
   "cell_type": "code",
   "execution_count": 26,
   "id": "05ff70ef",
   "metadata": {},
   "outputs": [],
   "source": [
    "from insitupy import InSituData"
   ]
  },
  {
   "cell_type": "code",
   "execution_count": 27,
   "id": "60cfa5f2",
   "metadata": {},
   "outputs": [],
   "source": [
    "xd = InSituData.read(insitupy_project)\n",
    "xd_ds = InSituData.read(insitupy_project_downscaled)"
   ]
  },
  {
   "cell_type": "code",
   "execution_count": 28,
   "id": "5f5f2cbc",
   "metadata": {},
   "outputs": [
    {
     "data": {
      "text/plain": [
       "\u001b[1m\u001b[31mInSituData\u001b[0m\n",
       "\u001b[1mMethod:\u001b[0m\t\tXenium\n",
       "\u001b[1mSlide ID:\u001b[0m\t0001879\n",
       "\u001b[1mSample ID:\u001b[0m\tReplicate 1\n",
       "\u001b[1mPath:\u001b[0m\t\tC:\\Users\\ge37voy\\Github\\InSituPy\\notebooks\\demo_dataset\\demo_insitupy_project\n",
       "\u001b[1mMetadata file:\u001b[0m\t.ispy\n",
       "\n",
       "No modalities loaded."
      ]
     },
     "execution_count": 28,
     "metadata": {},
     "output_type": "execute_result"
    }
   ],
   "source": [
    "xd"
   ]
  },
  {
   "cell_type": "code",
   "execution_count": 29,
   "id": "4b912516",
   "metadata": {},
   "outputs": [
    {
     "data": {
      "text/plain": [
       "\u001b[1m\u001b[31mInSituData\u001b[0m\n",
       "\u001b[1mMethod:\u001b[0m\t\tXenium\n",
       "\u001b[1mSlide ID:\u001b[0m\t0001879\n",
       "\u001b[1mSample ID:\u001b[0m\tReplicate 1\n",
       "\u001b[1mPath:\u001b[0m\t\tC:\\Users\\ge37voy\\Github\\InSituPy\\notebooks\\demo_dataset\\demo_insitupy_project_downscaled\n",
       "\u001b[1mMetadata file:\u001b[0m\t.ispy\n",
       "\n",
       "No modalities loaded."
      ]
     },
     "execution_count": 29,
     "metadata": {},
     "output_type": "execute_result"
    }
   ],
   "source": [
    "xd_ds"
   ]
  },
  {
   "cell_type": "markdown",
   "id": "49b68706",
   "metadata": {},
   "source": [
    "### Load all required modalities\n",
    "\n",
    "Next, we have to make sure that all data modalities that are required for the subsequent analyses are loaded. In our case it is the cellular data and the image data. If a modality is missing, one can load it with `.load_{modality}`."
   ]
  },
  {
   "cell_type": "code",
   "execution_count": 30,
   "id": "2082723e",
   "metadata": {},
   "outputs": [
    {
     "name": "stdout",
     "output_type": "stream",
     "text": [
      "Loading images...\n"
     ]
    }
   ],
   "source": [
    "xd_ds.load_cells()\n",
    "xd_ds.load_images()"
   ]
  },
  {
   "cell_type": "code",
   "execution_count": 31,
   "id": "6d8dfa4c",
   "metadata": {},
   "outputs": [],
   "source": [
    "xd_ds.show()"
   ]
  },
  {
   "cell_type": "markdown",
   "id": "45aa8c32",
   "metadata": {},
   "source": []
  }
 ],
 "metadata": {
  "kernelspec": {
   "display_name": "xdata",
   "language": "python",
   "name": "python3"
  },
  "language_info": {
   "codemirror_mode": {
    "name": "ipython",
    "version": 3
   },
   "file_extension": ".py",
   "mimetype": "text/x-python",
   "name": "python",
   "nbconvert_exporter": "python",
   "pygments_lexer": "ipython3",
   "version": "3.9.21"
  }
 },
 "nbformat": 4,
 "nbformat_minor": 5
}
