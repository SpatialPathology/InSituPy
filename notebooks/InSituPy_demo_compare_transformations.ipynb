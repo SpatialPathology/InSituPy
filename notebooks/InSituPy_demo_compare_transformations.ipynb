{
 "cells": [
  {
   "cell_type": "markdown",
   "metadata": {},
   "source": [
    "\n",
    "#### Load Required Extensions and Libraries\n",
    "- `%autoreload` is used to automatically reload any modules that are updated.\n",
    "- Import necessary functions from `insitupy` and `scanpy`.\n"
   ]
  },
  {
   "cell_type": "code",
   "execution_count": null,
   "metadata": {},
   "outputs": [],
   "source": [
    "\n",
    "%load_ext autoreload\n",
    "%autoreload 2\n",
    "from insitupy import read_xenium\n",
    "import scanpy as sc"
   ]
  },
  {
   "cell_type": "markdown",
   "metadata": {},
   "source": [
    "- We load the Xenium data using the `read_xenium` function from `insitupy`.\n",
    "- The path points to the dataset location on your system.\n",
    "- The `load_cells()` method loads the cell data from the specified dataset."
   ]
  },
  {
   "cell_type": "code",
   "execution_count": 24,
   "metadata": {},
   "outputs": [
    {
     "name": "stdout",
     "output_type": "stream",
     "text": [
      "Loading cells...\n",
      "\tNo alternative cells found...\n"
     ]
    }
   ],
   "source": [
    "# Load the Xenium data from the folder\n",
    "xd = read_xenium(r'c:\\Users\\Aitana\\A_BRC_LM_Project\\Original_Data\\output-XETG00050__0018891__3414-15-1B__20240614__101940')\n",
    "xd.load_cells()"
   ]
  },
  {
   "cell_type": "markdown",
   "metadata": {},
   "source": [
    "#### Filter Cells and Genes\n",
    "- **Filter Cells**: We filter out cells that have fewer than 10 detected genes using `sc.pp.filter_cells`.\n",
    "- **Filter Genes**: We filter out genes that are not detected in at least 20 cells using `sc.pp.filter_genes`.\n",
    "\n"
   ]
  },
  {
   "cell_type": "code",
   "execution_count": 25,
   "metadata": {},
   "outputs": [],
   "source": [
    "#Filter out cells with <10 genes\n",
    "sc.pp.filter_cells(xd.cells.matrix, min_genes=10)\n",
    "\n",
    "#Filter out genes that are not detected in at least 20\n",
    "sc.pp.filter_genes(xd.cells.matrix, min_cells=20)"
   ]
  },
  {
   "cell_type": "markdown",
   "metadata": {},
   "source": [
    "#### Compare Transformations and Generate Normalization Report\n",
    "- Here we apply several transformations to the dataset (`log1p`, `sqrt_1`, `sqrt_2`, `pearson_residuals`, and `sctransform`).\n",
    "- The results are saved as an HTML report at the specified path: `\"C:/Users/Aitana/normalization_results.html\"`.\n",
    "- The HTML report contains graphical and statistical comparisons of the transformation methods, including:\n",
    "  - A **summary table** that highlights key metrics for each transformation, such as skewness, kurtosis, mean absolute deviation (MAD), coefficient of variation (CV), Shapiro-Wilk test results, and more. The best-performing metrics are highlighted in green.\n",
    "  - **Histograms** showing the distribution of transformed counts for each method overlaid with a normal distribution curve.\n",
    "  - **Q-Q plots** that compare the quantiles of the transformed data against a theoretical normal distribution to assess the normality of the transformed data."
   ]
  },
  {
   "cell_type": "code",
   "execution_count": 27,
   "metadata": {},
   "outputs": [
    {
     "name": "stdout",
     "output_type": "stream",
     "text": [
      "Comparing transformations for the main modality (cells.matrix)...\n",
      "Store raw counts in anndata.layers['counts']...\n",
      "Applying transformation: log1p\n",
      "Applying transformation: sqrt_1\n",
      "Applying transformation: sqrt_2\n",
      "Applying transformation: pearson_residuals\n",
      "Applying transformation: sctransform\n",
      "Starting SCTransform...\n",
      "AnnData object saved temporarily at: C:\\Users\\Aitana\\AppData\\Local\\Temp\\tmpdz88txb5.h5ad\n"
     ]
    },
    {
     "name": "stderr",
     "output_type": "stream",
     "text": [
      "R[write to console]: Running SCTransform on assay: RNA\n",
      "\n",
      "R[write to console]: vst.flavor='v2' set. Using model with fixed slope and excluding poisson genes.\n",
      "\n",
      "R[write to console]: Calculating cell attributes from input UMI matrix: log_umi\n",
      "\n",
      "R[write to console]: Variance stabilizing transformation of count matrix of size 477 by 42867\n",
      "\n",
      "R[write to console]: Model formula is y ~ log_umi\n",
      "\n",
      "R[write to console]: Get Negative Binomial regression parameters per gene\n",
      "\n",
      "R[write to console]: Using 475 genes, 5000 cells\n",
      "\n",
      "R[write to console]: Second step: Get residuals using fitted parameters for 477 genes\n",
      "\n",
      "R[write to console]: Computing corrected count matrix for 477 genes\n",
      "\n",
      "R[write to console]: Calculating gene attributes\n",
      "\n",
      "R[write to console]: Wall clock passed: Time difference of 8.892223 secs\n",
      "\n",
      "R[write to console]: Determine variable features\n",
      "\n",
      "R[write to console]: Centering data matrix\n",
      "\n",
      "  |                                                                            \n",
      "  |                                                                      |   0%\n",
      "  |                                                                            \n",
      "  |======================================================================| 100%\n",
      "R[write to console]: \n",
      "\n",
      "R[write to console]: Place corrected count matrix in counts slot\n",
      "\n",
      "R[write to console]: Set default assay to SCT\n",
      "\n"
     ]
    },
    {
     "name": "stdout",
     "output_type": "stream",
     "text": [
      "SCTransform applied to Seurat object.\n",
      "Converted Seurat object to SingleCellExperiment.\n",
      "SCTransform transformation completed and returned as AnnData.\n",
      "Processing log1p...\n"
     ]
    },
    {
     "name": "stderr",
     "output_type": "stream",
     "text": [
      "c:\\Users\\Aitana\\Anaconda3\\envs\\insitupy\\lib\\site-packages\\scipy\\stats\\_axis_nan_policy.py:531: UserWarning: scipy.stats.shapiro: For N > 5000, computed p-value may not be accurate. Current N is 42867.\n",
      "  res = hypotest_fun_out(*samples, **kwds)\n"
     ]
    },
    {
     "name": "stdout",
     "output_type": "stream",
     "text": [
      "Processing sqrt_1...\n",
      "Processing sqrt_2...\n",
      "Processing pearson_residuals...\n",
      "Processing sctransform...\n",
      "HTML report created and saved as 'C:/Users/Aitana/normalization_results_1.html'\n"
     ]
    },
    {
     "data": {
      "text/plain": [
       "{'main':                    skewness  kurtosis        mad         cv  shapiro_stat  \\\n",
       " log1p             -0.067653 -0.502083  12.857011   0.228110      0.994218   \n",
       " sqrt_1            -0.180534 -0.445408   6.574030   0.010263      0.992288   \n",
       " sqrt_2             0.127878 -0.448148  16.251417   0.216326      0.994874   \n",
       " pearson_residuals  1.082801  2.649645  40.160252  13.518975      0.948076   \n",
       " sctransform       -0.049513 -0.206769   7.017416   0.033700      0.992655   \n",
       " \n",
       "                       shapiro_p  anderson_stat   ks_stat           ks_p  \n",
       " log1p              1.102331e-36      37.152233  0.023574   3.973254e-21  \n",
       " sqrt_1             3.319929e-41      58.527609  0.029390   1.336710e-32  \n",
       " sqrt_2             7.142255e-35      39.405594  0.017271   1.542915e-11  \n",
       " pearson_residuals  4.527068e-78     440.689315  0.062679  7.553077e-147  \n",
       " sctransform        2.017466e-40     164.534602  0.068015  7.257627e-173  }"
      ]
     },
     "execution_count": 27,
     "metadata": {},
     "output_type": "execute_result"
    }
   ],
   "source": [
    "xd.compare_transformations(\n",
    "    transformation_methods=[\"log1p\", \"sqrt_1\", \"sqrt_2\", \"pearson_residuals\", \"sctransform\"],\n",
    "    output_path=\"C:/Users/Aitana/normalization_results.html\"\n",
    ")\n"
   ]
  }
 ],
 "metadata": {
  "kernelspec": {
   "display_name": "Python (insitupy)",
   "language": "python",
   "name": "insitupy"
  },
  "language_info": {
   "codemirror_mode": {
    "name": "ipython",
    "version": 3
   },
   "file_extension": ".py",
   "mimetype": "text/x-python",
   "name": "python",
   "nbconvert_exporter": "python",
   "pygments_lexer": "ipython3",
   "version": "3.9.19"
  }
 },
 "nbformat": 4,
 "nbformat_minor": 2
}
