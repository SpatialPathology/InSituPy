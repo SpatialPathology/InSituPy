{
 "cells": [
  {
   "cell_type": "markdown",
   "metadata": {},
   "source": [
    "\n",
    "#### Load Required Extensions and Libraries\n",
    "- `%autoreload` is used to automatically reload any modules that are updated.\n",
    "- Import necessary functions from `insitupy` and `scanpy`.\n"
   ]
  },
  {
   "cell_type": "code",
   "execution_count": 1,
   "metadata": {},
   "outputs": [],
   "source": [
    "\n",
    "%load_ext autoreload\n",
    "%autoreload 2\n"
   ]
  },
  {
   "cell_type": "code",
   "execution_count": 2,
   "metadata": {},
   "outputs": [],
   "source": [
    "from pathlib import Path\n",
    "from insitupy.datasets.download import download_url\n",
    "import shutil\n",
    "import os\n",
    "from insitupy import read_xenium\n",
    "import scanpy as sc"
   ]
  },
  {
   "cell_type": "markdown",
   "metadata": {},
   "source": [
    "- We load the Xenium data using the `read_xenium` function from `insitupy`.\n",
    "- The path points to the dataset location on your system.\n",
    "- The `load_cells()` method loads the cell data from the specified dataset."
   ]
  },
  {
   "cell_type": "code",
   "execution_count": 3,
   "metadata": {},
   "outputs": [],
   "source": [
    "# Load the Xenium data from the folder\n",
    "out_dir = Path(\"demo_dataset\") # output directory\n",
    "data_dir = out_dir / \"output-XETG00000__0001879__Replicate 1\" # directory of xenium data\n",
    "image_dir = out_dir / \"unregistered_images\" # directory of images"
   ]
  },
  {
   "cell_type": "code",
   "execution_count": 4,
   "metadata": {},
   "outputs": [],
   "source": [
    "xd = read_xenium(data_dir)"
   ]
  },
  {
   "cell_type": "code",
   "execution_count": 5,
   "metadata": {},
   "outputs": [
    {
     "data": {
      "text/plain": [
       "\u001b[1m\u001b[31mInSituData\u001b[0m\n",
       "\u001b[1mMethod:\u001b[0m\t\tXenium\n",
       "\u001b[1mSlide ID:\u001b[0m\t0001879\n",
       "\u001b[1mSample ID:\u001b[0m\tReplicate 1\n",
       "\u001b[1mPath:\u001b[0m\t\tC:\\Users\\Aitana\\OneDrive\\Documentos\\Github\\InSituPy\\notebooks\\demo_dataset\\output-XETG00000__0001879__Replicate 1\n",
       "\u001b[1mMetadata file:\u001b[0m\texperiment.xenium"
      ]
     },
     "execution_count": 5,
     "metadata": {},
     "output_type": "execute_result"
    }
   ],
   "source": [
    "xd"
   ]
  },
  {
   "cell_type": "code",
   "execution_count": 6,
   "metadata": {},
   "outputs": [
    {
     "name": "stdout",
     "output_type": "stream",
     "text": [
      "Loading cells...\n"
     ]
    }
   ],
   "source": [
    "# read all data modalities at once\n",
    "xd.load_cells()\n",
    "\n",
    "# alternatively, it is also possible to read each modality separately\n",
    "# xd.load_cells()\n",
    "# xd.load_images()\n",
    "# xd.load_transcripts()\n",
    "# xd.read_annotations()"
   ]
  },
  {
   "cell_type": "code",
   "execution_count": 7,
   "metadata": {},
   "outputs": [
    {
     "data": {
      "text/plain": [
       "\u001b[1m\u001b[31mInSituData\u001b[0m\n",
       "\u001b[1mMethod:\u001b[0m\t\tXenium\n",
       "\u001b[1mSlide ID:\u001b[0m\t0001879\n",
       "\u001b[1mSample ID:\u001b[0m\tReplicate 1\n",
       "\u001b[1mPath:\u001b[0m\t\tC:\\Users\\Aitana\\OneDrive\\Documentos\\Github\\InSituPy\\notebooks\\demo_dataset\\output-XETG00000__0001879__Replicate 1\n",
       "\u001b[1mMetadata file:\u001b[0m\texperiment.xenium\n",
       "    ➤\u001b[32m\u001b[1m cells\u001b[0m\n",
       "       \u001b[1mmatrix\u001b[0m\n",
       "           AnnData object with n_obs × n_vars = 167780 × 313\n",
       "           obs: 'transcript_counts', 'control_probe_counts', 'control_codeword_counts', 'total_counts', 'cell_area', 'nucleus_area'\n",
       "           var: 'gene_ids', 'feature_types', 'genome'\n",
       "           obsm: 'spatial'\n",
       "           varm: 'binned_expression'\n",
       "       \u001b[1mboundaries\u001b[0m\n",
       "           BoundariesData object with 2 entries:\n",
       "               \u001b[1mnuclear\u001b[0m\n",
       "               \u001b[1mcellular\u001b[0m"
      ]
     },
     "execution_count": 7,
     "metadata": {},
     "output_type": "execute_result"
    }
   ],
   "source": [
    "xd"
   ]
  },
  {
   "cell_type": "code",
   "execution_count": 8,
   "metadata": {},
   "outputs": [],
   "source": [
    "sc.pp.filter_cells(xd.cells.matrix, min_genes=10)\n",
    "sc.pp.filter_genes(xd.cells.matrix, min_cells=3)\n"
   ]
  },
  {
   "cell_type": "markdown",
   "metadata": {},
   "source": [
    "#### Compare Transformations and Generate Normalization Report\n",
    "- Here we apply several transformations to the dataset (`log1p`, `sqrt_1`, `sqrt_2`, `pearson_residuals`, and `sctransform`).\n",
    "- The results are saved as an HTML report at the specified path: `\"C:/Users/Aitana/normalization_results.html\"`.\n",
    "- The HTML report contains graphical and statistical comparisons of the transformation methods, including:\n",
    "  - A **summary table** that highlights key metrics for each transformation, such as skewness, kurtosis, mean absolute deviation (MAD), coefficient of variation (CV), Shapiro-Wilk test results, and more. The best-performing metrics are highlighted in green.\n",
    "  - **Histograms** showing the distribution of transformed counts for each method overlaid with a normal distribution curve.\n",
    "  - **Q-Q plots** that compare the quantiles of the transformed data against a theoretical normal distribution to assess the normality of the transformed data."
   ]
  },
  {
   "cell_type": "code",
   "execution_count": 9,
   "metadata": {},
   "outputs": [
    {
     "name": "stdout",
     "output_type": "stream",
     "text": [
      "Comparing transformations for the main modality (cells.matrix)...\n",
      "Store raw counts in anndata.layers['counts']...\n",
      "Applying transformation: log1p\n",
      "Applying transformation: sqrt_1\n",
      "Applying transformation: sqrt_2\n",
      "Applying transformation: pearson_residuals\n",
      "Applying transformation: sctransform\n",
      "\n",
      "    WARNING: The R package \"reticulate\" only fixed recently\n",
      "    an issue that caused a segfault when used with rpy2:\n",
      "    https://github.com/rstudio/reticulate/pull/1188\n",
      "    Make sure that you use a version of that package that includes\n",
      "    the fix.\n",
      "    "
     ]
    },
    {
     "name": "stderr",
     "output_type": "stream",
     "text": [
      "R[write to console]: Running SCTransform on assay: RNA\n",
      "\n",
      "R[write to console]: Running SCTransform on layer: counts\n",
      "\n",
      "R[write to console]: vst.flavor='v2' set. Using model with fixed slope and excluding poisson genes.\n",
      "\n",
      "R[write to console]: Variance stabilizing transformation of count matrix of size 313 by 163565\n",
      "\n",
      "R[write to console]: Model formula is y ~ log_umi\n",
      "\n",
      "R[write to console]: Get Negative Binomial regression parameters per gene\n",
      "\n",
      "R[write to console]: Using 313 genes, 5000 cells\n",
      "\n",
      "R[write to console]: Found 2 outliers - those will be ignored in fitting/regularization step\n",
      "\n",
      "\n",
      "R[write to console]: Second step: Get residuals using fitted parameters for 313 genes\n",
      "\n",
      "R[write to console]: Computing corrected count matrix for 313 genes\n",
      "\n",
      "R[write to console]: Calculating gene attributes\n",
      "\n",
      "R[write to console]: Wall clock passed: Time difference of 26.29784 secs\n",
      "\n",
      "R[write to console]: Determine variable features\n",
      "\n",
      "R[write to console]: Centering data matrix\n",
      "\n",
      "  |                                                                            \n",
      "  |                                                                      |   0%\n",
      "  |                                                                            \n",
      "  |======================================================================| 100%\n",
      "R[write to console]: \n",
      "\n",
      "R[write to console]: Getting residuals for block 1(of 33) for counts dataset\n",
      "\n",
      "R[write to console]: Getting residuals for block 2(of 33) for counts dataset\n",
      "\n",
      "R[write to console]: Getting residuals for block 3(of 33) for counts dataset\n",
      "\n",
      "R[write to console]: Getting residuals for block 4(of 33) for counts dataset\n",
      "\n",
      "R[write to console]: Getting residuals for block 5(of 33) for counts dataset\n",
      "\n",
      "R[write to console]: Getting residuals for block 6(of 33) for counts dataset\n",
      "\n",
      "R[write to console]: Getting residuals for block 7(of 33) for counts dataset\n",
      "\n",
      "R[write to console]: Getting residuals for block 8(of 33) for counts dataset\n",
      "\n",
      "R[write to console]: Getting residuals for block 9(of 33) for counts dataset\n",
      "\n",
      "R[write to console]: Getting residuals for block 10(of 33) for counts dataset\n",
      "\n",
      "R[write to console]: Getting residuals for block 11(of 33) for counts dataset\n",
      "\n",
      "R[write to console]: Getting residuals for block 12(of 33) for counts dataset\n",
      "\n",
      "R[write to console]: Getting residuals for block 13(of 33) for counts dataset\n",
      "\n",
      "R[write to console]: Getting residuals for block 14(of 33) for counts dataset\n",
      "\n",
      "R[write to console]: Getting residuals for block 15(of 33) for counts dataset\n",
      "\n",
      "R[write to console]: Getting residuals for block 16(of 33) for counts dataset\n",
      "\n",
      "R[write to console]: Getting residuals for block 17(of 33) for counts dataset\n",
      "\n",
      "R[write to console]: Getting residuals for block 18(of 33) for counts dataset\n",
      "\n",
      "R[write to console]: Getting residuals for block 19(of 33) for counts dataset\n",
      "\n",
      "R[write to console]: Getting residuals for block 20(of 33) for counts dataset\n",
      "\n",
      "R[write to console]: Getting residuals for block 21(of 33) for counts dataset\n",
      "\n",
      "R[write to console]: Getting residuals for block 22(of 33) for counts dataset\n",
      "\n",
      "R[write to console]: Getting residuals for block 23(of 33) for counts dataset\n",
      "\n",
      "R[write to console]: Getting residuals for block 24(of 33) for counts dataset\n",
      "\n",
      "R[write to console]: Getting residuals for block 25(of 33) for counts dataset\n",
      "\n",
      "R[write to console]: Getting residuals for block 26(of 33) for counts dataset\n",
      "\n",
      "R[write to console]: Getting residuals for block 27(of 33) for counts dataset\n",
      "\n",
      "R[write to console]: Getting residuals for block 28(of 33) for counts dataset\n",
      "\n",
      "R[write to console]: Getting residuals for block 29(of 33) for counts dataset\n",
      "\n",
      "R[write to console]: Getting residuals for block 30(of 33) for counts dataset\n",
      "\n",
      "R[write to console]: Getting residuals for block 31(of 33) for counts dataset\n",
      "\n",
      "R[write to console]: Getting residuals for block 32(of 33) for counts dataset\n",
      "\n",
      "R[write to console]: Getting residuals for block 33(of 33) for counts dataset\n",
      "\n",
      "R[write to console]: Centering data matrix\n",
      "\n",
      "  |                                                                            \n",
      "  |                                                                      |   0%\n",
      "  |                                                                            \n",
      "  |======================================================================| 100%\n",
      "R[write to console]: \n",
      "\n",
      "R[write to console]: Finished calculating residuals for counts\n",
      "\n",
      "R[write to console]: Set default assay to SCT\n",
      "\n",
      "C:\\Users\\Aitana\\OneDrive\\Documentos\\Github\\InSituPy\\insitupy\\utils\\preprocessing.py:71: ImplicitModificationWarning: Setting element `.layers['norm_counts']` of view, initializing view as actual.\n",
      "  adata.layers[\"norm_counts\"] = sct_data.T\n"
     ]
    },
    {
     "name": "stdout",
     "output_type": "stream",
     "text": [
      "Processing log1p...\n"
     ]
    },
    {
     "name": "stderr",
     "output_type": "stream",
     "text": [
      "c:\\Users\\Aitana\\Anaconda3\\envs\\insitupy\\lib\\site-packages\\scipy\\stats\\_axis_nan_policy.py:531: UserWarning: scipy.stats.shapiro: For N > 5000, computed p-value may not be accurate. Current N is 163565.\n",
      "  res = hypotest_fun_out(*samples, **kwds)\n"
     ]
    },
    {
     "name": "stdout",
     "output_type": "stream",
     "text": [
      "Processing sqrt_1...\n",
      "Processing sqrt_2...\n",
      "Processing pearson_residuals...\n",
      "Processing sctransform...\n",
      "HTML report created and saved as 'C:/Users/Aitana/normalization_results.html'\n"
     ]
    },
    {
     "data": {
      "text/plain": [
       "{'main':                    skewness  kurtosis        mad        cv  shapiro_stat  \\\n",
       " log1p             -0.776917  1.356973  10.381478  0.160502      0.966180   \n",
       " sqrt_1            -1.032788  2.290947   4.716037  0.010105      0.947566   \n",
       " sqrt_2            -0.412818  0.632775  14.523841  0.165863      0.987594   \n",
       " pearson_residuals  0.304709 -0.310506  40.606468  7.745154      0.974914   \n",
       " sctransform        0.006686 -0.180280  11.170378  0.201272      0.999263   \n",
       " \n",
       "                        shapiro_p  anderson_stat   ks_stat           ks_p  \n",
       " log1p               1.523941e-93    1239.048590  0.061551   0.000000e+00  \n",
       " sqrt_1             6.800745e-105    1695.562107  0.071159   0.000000e+00  \n",
       " sqrt_2              4.520086e-70     515.625304  0.039719  1.200044e-224  \n",
       " pearson_residuals   3.439438e-86    1268.814848  0.075447   0.000000e+00  \n",
       " sctransform         1.482991e-22      12.842406  0.006764   6.294840e-07  }"
      ]
     },
     "execution_count": 9,
     "metadata": {},
     "output_type": "execute_result"
    }
   ],
   "source": [
    "xd.compare_transformations(\n",
    "    transformation_methods=[\"log1p\", \"sqrt_1\", \"sqrt_2\", \"pearson_residuals\", \"sctransform\"],\n",
    "    output_path=\"C:/Users/Aitana/normalization_results.html\"\n",
    ")\n"
   ]
  }
 ],
 "metadata": {
  "kernelspec": {
   "display_name": "Python (insitupy)",
   "language": "python",
   "name": "insitupy"
  },
  "language_info": {
   "codemirror_mode": {
    "name": "ipython",
    "version": 3
   },
   "file_extension": ".py",
   "mimetype": "text/x-python",
   "name": "python",
   "nbconvert_exporter": "python",
   "pygments_lexer": "ipython3",
   "version": "3.9.20"
  }
 },
 "nbformat": 4,
 "nbformat_minor": 2
}
