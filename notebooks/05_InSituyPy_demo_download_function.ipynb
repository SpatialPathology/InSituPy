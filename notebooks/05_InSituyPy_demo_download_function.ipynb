{
 "cells": [
  {
   "cell_type": "markdown",
   "metadata": {},
   "source": [
    "Try the dataload function with currently three available datasets from 10xGenomics."
   ]
  },
  {
   "cell_type": "code",
   "execution_count": 1,
   "metadata": {},
   "outputs": [],
   "source": [
    "from insitupy.datasets.download_data import dataload"
   ]
  },
  {
   "cell_type": "markdown",
   "metadata": {},
   "source": [
    "The following dataset can be found here:\n",
    "https://www.10xgenomics.com/products/xenium-in-situ/preview-dataset-human-breast"
   ]
  },
  {
   "cell_type": "code",
   "execution_count": 5,
   "metadata": {},
   "outputs": [
    {
     "name": "stdout",
     "output_type": "stream",
     "text": [
      "demo_dataset already exists, overwrite with new dataset\n"
     ]
    },
    {
     "name": "stderr",
     "output_type": "stream",
     "text": [
      "demo_dataset/Xenium_FFPE_Human_Breast_Cancer_Rep1_outs.zip: 100%|██████████| 9.18G/9.18G [17:33<00:00, 9.36MiB/s] \n",
      "demo_dataset/unregistered_images/slide_id__sample_id__HE__histo.tif: 100%|██████████| 1.58G/1.58G [02:29<00:00, 11.4MiB/s]\n",
      "demo_dataset/unregistered_images/slide_id__sample_id__CD20_HER2_DAPI__IF.tif: 100%|██████████| 398M/398M [00:32<00:00, 13.0MiB/s] \n"
     ]
    }
   ],
   "source": [
    "dataload(\"Xenium_FFPE_Human_Breast_Cancer_Rep1\")"
   ]
  },
  {
   "cell_type": "markdown",
   "metadata": {},
   "source": [
    "\n",
    "https://www.10xgenomics.com/resources/datasets/\n",
    "human-kidney-preview-data-xenium-human-multi-tissue-and-cancer-panel-1-standard"
   ]
  },
  {
   "cell_type": "code",
   "execution_count": 3,
   "metadata": {},
   "outputs": [
    {
     "name": "stdout",
     "output_type": "stream",
     "text": [
      "demo_dataset already exists, overwrite with new dataset\n"
     ]
    },
    {
     "name": "stderr",
     "output_type": "stream",
     "text": [
      "demo_dataset/Xenium_V1_hKidney_nondiseased_section_outs.zip: 100%|██████████| 4.72G/4.72G [09:29<00:00, 8.90MiB/s] \n",
      "demo_dataset/unregistered_images/slide_id__sample_id__HE__histo.ome.tif: 100%|██████████| 867M/867M [02:06<00:00, 7.16MiB/s] \n"
     ]
    },
    {
     "ename": "FileNotFoundError",
     "evalue": "[Errno 2] No such file or directory: 'demo_dataset/output-XETG00000__slide_id__sample_id/outs'",
     "output_type": "error",
     "traceback": [
      "\u001b[0;31m---------------------------------------------------------------------------\u001b[0m",
      "\u001b[0;31mFileNotFoundError\u001b[0m                         Traceback (most recent call last)",
      "\u001b[1;32m/Users/isabelgiray/Desktop/TUM/InSituPy/notebooks/05_InSituyPy_demo_download_function.ipynb Zelle 6\u001b[0m line \u001b[0;36m1\n\u001b[0;32m----> <a href='vscode-notebook-cell:/Users/isabelgiray/Desktop/TUM/InSituPy/notebooks/05_InSituyPy_demo_download_function.ipynb#W2sZmlsZQ%3D%3D?line=0'>1</a>\u001b[0m dataload(\u001b[39m\"\u001b[39;49m\u001b[39mV1_hKidney_nondiseased_section\u001b[39;49m\u001b[39m\"\u001b[39;49m)\n",
      "File \u001b[0;32m~/Desktop/TUM/InSituPy/insitupy/datasets/download_data.py:68\u001b[0m, in \u001b[0;36mdataload\u001b[0;34m(sample_id)\u001b[0m\n\u001b[1;32m     65\u001b[0m     shutil\u001b[39m.\u001b[39mmove(f, data_dir)\n\u001b[1;32m     67\u001b[0m \u001b[39m# remove empty outs folder\u001b[39;00m\n\u001b[0;32m---> 68\u001b[0m os\u001b[39m.\u001b[39;49mrmdir(data_dir \u001b[39m/\u001b[39;49m \u001b[39m\"\u001b[39;49m\u001b[39mouts\u001b[39;49m\u001b[39m\"\u001b[39;49m)\n",
      "\u001b[0;31mFileNotFoundError\u001b[0m: [Errno 2] No such file or directory: 'demo_dataset/output-XETG00000__slide_id__sample_id/outs'"
     ]
    }
   ],
   "source": [
    "dataload(\"V1_hKidney_nondiseased_section\")"
   ]
  },
  {
   "cell_type": "markdown",
   "metadata": {},
   "source": [
    "https://www.10xgenomics.com/resources/datasets/human-skin-preview-data-xenium-human-skin-gene-expression-panel-add-on-1-standard\n"
   ]
  },
  {
   "cell_type": "code",
   "execution_count": 4,
   "metadata": {},
   "outputs": [
    {
     "name": "stdout",
     "output_type": "stream",
     "text": [
      "demo_dataset already exists, overwrite with new dataset\n"
     ]
    },
    {
     "name": "stderr",
     "output_type": "stream",
     "text": [
      "demo_dataset/Xeniumranger_V1_hSkin_Melanoma_Add_on_FFPE_outs.zip: 100%|██████████| 3.52G/3.52G [04:38<00:00, 13.6MiB/s]\n",
      "demo_dataset/unregistered_images/slide_id__sample_id__HE__histo.ome.tif: 100%|██████████| 2.08G/2.08G [02:45<00:00, 13.4MiB/s]\n"
     ]
    },
    {
     "ename": "FileNotFoundError",
     "evalue": "[Errno 2] No such file or directory: 'demo_dataset/output-XETG00000__slide_id__sample_id/outs'",
     "output_type": "error",
     "traceback": [
      "\u001b[0;31m---------------------------------------------------------------------------\u001b[0m",
      "\u001b[0;31mFileNotFoundError\u001b[0m                         Traceback (most recent call last)",
      "\u001b[1;32m/Users/isabelgiray/Desktop/TUM/InSituPy/notebooks/05_InSituyPy_demo_download_function.ipynb Zelle 8\u001b[0m line \u001b[0;36m1\n\u001b[0;32m----> <a href='vscode-notebook-cell:/Users/isabelgiray/Desktop/TUM/InSituPy/notebooks/05_InSituyPy_demo_download_function.ipynb#W3sZmlsZQ%3D%3D?line=0'>1</a>\u001b[0m dataload(\u001b[39m\"\u001b[39;49m\u001b[39mV1_hSkin_Melanoma_Add_on_FFPE\u001b[39;49m\u001b[39m\"\u001b[39;49m)\n",
      "File \u001b[0;32m~/Desktop/TUM/InSituPy/insitupy/datasets/download_data.py:68\u001b[0m, in \u001b[0;36mdataload\u001b[0;34m(sample_id)\u001b[0m\n\u001b[1;32m     65\u001b[0m     shutil\u001b[39m.\u001b[39mmove(f, data_dir)\n\u001b[1;32m     67\u001b[0m \u001b[39m# remove empty outs folder\u001b[39;00m\n\u001b[0;32m---> 68\u001b[0m os\u001b[39m.\u001b[39;49mrmdir(data_dir \u001b[39m/\u001b[39;49m \u001b[39m\"\u001b[39;49m\u001b[39mouts\u001b[39;49m\u001b[39m\"\u001b[39;49m)\n",
      "\u001b[0;31mFileNotFoundError\u001b[0m: [Errno 2] No such file or directory: 'demo_dataset/output-XETG00000__slide_id__sample_id/outs'"
     ]
    }
   ],
   "source": [
    "dataload(\"V1_hSkin_Melanoma_Add_on_FFPE\")"
   ]
  }
 ],
 "metadata": {
  "kernelspec": {
   "display_name": "insitupy",
   "language": "python",
   "name": "python3"
  },
  "language_info": {
   "codemirror_mode": {
    "name": "ipython",
    "version": 3
   },
   "file_extension": ".py",
   "mimetype": "text/x-python",
   "name": "python",
   "nbconvert_exporter": "python",
   "pygments_lexer": "ipython3",
   "version": "3.9.18"
  }
 },
 "nbformat": 4,
 "nbformat_minor": 2
}
