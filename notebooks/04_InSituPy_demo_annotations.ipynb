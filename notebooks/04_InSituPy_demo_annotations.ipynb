{
 "cells": [
  {
   "cell_type": "markdown",
   "id": "b16df72d-5dd5-47da-a8c3-b569fe97446b",
   "metadata": {
    "tags": []
   },
   "source": [
    "# InSituPy demonstration - Add annotations"
   ]
  },
  {
   "cell_type": "code",
   "execution_count": 1,
   "id": "8bc0c4ed-3587-460e-98d2-6626a020a327",
   "metadata": {},
   "outputs": [],
   "source": [
    "## The following code ensures that all functions and init files are reloaded before executions.\n",
    "%load_ext autoreload\n",
    "%autoreload 2"
   ]
  },
  {
   "cell_type": "code",
   "execution_count": 2,
   "id": "58107e0b-5017-425b-8cd0-9274be2b8253",
   "metadata": {},
   "outputs": [],
   "source": [
    "from pathlib import Path\n",
    "from insitupy import read_xenium"
   ]
  },
  {
   "cell_type": "markdown",
   "id": "db038252",
   "metadata": {},
   "source": [
    "## Previous steps\n",
    "\n",
    "1. Download the example data for demonstration: [01_InSituPy_demo_download_data.ipynb](./01_InSituPy_demo_download_data.ipynb)\n",
    "2. Register images from external stainings: [02_InSituPy_demo_register_images.ipynb](./02_InSituPy_demo_register_images.ipynb)\n",
    "3. Visualize data with napari and do preprocessing steps: [03_InSituPy_demo_analyze.ipynb](./03_InSituPy_demo_analyze.ipynb)\n",
    "\n",
    "At this point, the structure of the data should look like this:\n",
    "\n",
    "    ```\n",
    "    ./demo_dataset\n",
    "    ├───cropped_processed\n",
    "    ├───output-XETG00000__slide_id__sample_id\n",
    "    │   ├───analysis\n",
    "    │   │   ├───clustering\n",
    "    │   │   ├───diffexp\n",
    "    │   │   ├───pca\n",
    "    │   │   ├───tsne\n",
    "    │   │   └───umap\n",
    "    │   └───cell_feature_matrix\n",
    "    ├───registered_images\n",
    "    ├───registration_qc\n",
    "    └───unregistered_images\n",
    "    ```\n"
   ]
  },
  {
   "cell_type": "markdown",
   "id": "ae409a19",
   "metadata": {},
   "source": [
    "## Load Xenium data into `XeniumData` object\n",
    "\n",
    "Now the Xenium data can be parsed by providing the data path to `XeniumData`"
   ]
  },
  {
   "cell_type": "code",
   "execution_count": 3,
   "id": "2db31fb9",
   "metadata": {},
   "outputs": [],
   "source": [
    "insitupy_project = Path(\"demo_dataset/demo_insitupy_project\")"
   ]
  },
  {
   "cell_type": "code",
   "execution_count": 4,
   "id": "188ddb98",
   "metadata": {},
   "outputs": [],
   "source": [
    "xd = read_xenium(insitupy_project)"
   ]
  },
  {
   "cell_type": "code",
   "execution_count": 5,
   "id": "22afdac4",
   "metadata": {},
   "outputs": [
    {
     "data": {
      "text/plain": [
       "\u001b[1m\u001b[31mInSituData\u001b[0m\n",
       "\u001b[1mMethod:\u001b[0m\t\tXenium\n",
       "\u001b[1mSlide ID:\u001b[0m\t0001879\n",
       "\u001b[1mSample ID:\u001b[0m\tReplicate 1\n",
       "\u001b[1mPath:\u001b[0m\t\tC:\\Users\\ge37voy\\Github\\InSituPy\\notebooks\\demo_dataset\\demo_insitupy_project\n",
       "\u001b[1mMetadata file:\u001b[0m\t.ispy"
      ]
     },
     "execution_count": 5,
     "metadata": {},
     "output_type": "execute_result"
    }
   ],
   "source": [
    "xd"
   ]
  },
  {
   "cell_type": "code",
   "execution_count": 6,
   "id": "ae606b79",
   "metadata": {},
   "outputs": [
    {
     "name": "stdout",
     "output_type": "stream",
     "text": [
      "Loading images...\n",
      "Loading cells...\n",
      "\tNo alternative cells found...\n"
     ]
    }
   ],
   "source": [
    "xd.load_images()\n",
    "xd.load_cells()"
   ]
  },
  {
   "cell_type": "markdown",
   "id": "a7cc74ee",
   "metadata": {},
   "source": [
    "Note: That the `annotations` and `regions` modalities are not found here is expected. Annotations and regions are added in a later step."
   ]
  },
  {
   "cell_type": "code",
   "execution_count": 7,
   "id": "7a864387",
   "metadata": {},
   "outputs": [
    {
     "data": {
      "text/plain": [
       "\u001b[1m\u001b[31mInSituData\u001b[0m\n",
       "\u001b[1mMethod:\u001b[0m\t\tXenium\n",
       "\u001b[1mSlide ID:\u001b[0m\t0001879\n",
       "\u001b[1mSample ID:\u001b[0m\tReplicate 1\n",
       "\u001b[1mPath:\u001b[0m\t\tC:\\Users\\ge37voy\\Github\\InSituPy\\notebooks\\demo_dataset\\demo_insitupy_project\n",
       "\u001b[1mMetadata file:\u001b[0m\t.ispy\n",
       "    ➤ \u001b[34m\u001b[1mimages\u001b[0m\n",
       "       \u001b[1mnuclei:\u001b[0m\t(25778, 35416)\n",
       "       \u001b[1mCD20:\u001b[0m\t(25778, 35416)\n",
       "       \u001b[1mHER2:\u001b[0m\t(25778, 35416)\n",
       "       \u001b[1mHE:\u001b[0m\t(25778, 35416, 3)\n",
       "    ➤\u001b[32m\u001b[1m cells\u001b[0m\n",
       "       \u001b[1mmatrix\u001b[0m\n",
       "           AnnData object with n_obs × n_vars = 167780 × 313\n",
       "           obs: 'transcript_counts', 'control_probe_counts', 'control_codeword_counts', 'total_counts', 'cell_area', 'nucleus_area', 'annotation-TestKey', 'annotation-demo', 'annotation-demo2', 'annotation-demo3'\n",
       "           var: 'gene_ids', 'feature_types', 'genome'\n",
       "           obsm: 'spatial'\n",
       "           varm: 'binned_expression'\n",
       "       \u001b[1mboundaries\u001b[0m\n",
       "           BoundariesData object with 2 entries:\n",
       "               \u001b[1mcellular\u001b[0m\n",
       "               \u001b[1mnuclear\u001b[0m"
      ]
     },
     "execution_count": 7,
     "metadata": {},
     "output_type": "execute_result"
    }
   ],
   "source": [
    "xd"
   ]
  },
  {
   "cell_type": "markdown",
   "id": "ff939c38",
   "metadata": {},
   "source": [
    "## Create annotations\n",
    "\n",
    "For the analysis of spatial transcriptomic datasets the inclusion of annotations from experts of disease pathology is key. Here, we demonstrate two ways how to annotate Xenium data\n",
    "1. Within `InSituPy` using the `napari` viewer.\n",
    "2. In [QuPath](https://qupath.github.io/).\n",
    "\n",
    "Importantly, `InSituPy` differentiates between \"regions\" and histological \"annotations\". Annotations consist of polygons with each polygon getting assigned to a certain “class” (e.g. “tumor cells”, “immune cells”, \"stroma\", etc.) and a “key” (e.g. the name of the pathologist doing the annotations). The classes within one key do not have to be unique (multiple annotations could contain tumor cells) and a unique identifier is used to differentiate between the polygons. Regions also consist of polygons and a key for a cohesive group of polygons but each polygon within one key is required to have a unique name. Regions can delineate the positions of TMA cores or the position of different tissue sections or regions of interests within the same dataset. \n",
    "\n",
    "### 1. In `napari` viewer\n",
    "\n",
    "First visualize the Xenium data using `.show()`."
   ]
  },
  {
   "cell_type": "code",
   "execution_count": 8,
   "id": "cc531f48",
   "metadata": {},
   "outputs": [
    {
     "name": "stderr",
     "output_type": "stream",
     "text": [
      "Invalid schema for package 'ome-types', please run 'npe2 validate ome-types' to check for manifest errors.\n"
     ]
    }
   ],
   "source": [
    "xd.show()"
   ]
  },
  {
   "cell_type": "markdown",
   "id": "1889ce4f",
   "metadata": {},
   "source": [
    "A new annotation layer can be added using the \"Add geometries\" widget on the bottom right.\n",
    "<center><img src=\"./demo_screenshots/add_geometries_widget.JPG\" width=\"200\"/></center>\n",
    "\n",
    "As described above, `InSituPy` differentiates between \"regions\" and histological \"annotations\". Since napari creates separate layers for point and shape annotations, the \"annotations\" are split further into two subtypes, resulting in a total of three possible geometry types one can chose from:\n",
    "1. Geometric annotations <br>\n",
    "<img src=\"./demo_screenshots/annotation_layer.jpg\" width=\"200\"/>\n",
    "2. Point annotations <br>\n",
    "<img src=\"./demo_screenshots/point_layer.jpg\" width=\"200\"/>\n",
    "3. Region <br>\n",
    "<img src=\"./demo_screenshots/region_layer.jpg\" width=\"200\"/>\n",
    "\n",
    "Since `InSituPy` uses different icons to differentiate between the types, it is important to add the geometries via this widget and not via the normal `napari` annotation panel.\n",
    "\n",
    "After adding the geometries, they can be imported into the `InSituPy` object using `.store_geometries()`:"
   ]
  },
  {
   "cell_type": "code",
   "execution_count": 9,
   "id": "08fac46d",
   "metadata": {},
   "outputs": [
    {
     "name": "stdout",
     "output_type": "stream",
     "text": [
      "Added 3 new annotations to key 'TestKey'\n"
     ]
    }
   ],
   "source": [
    "xd.store_geometries()"
   ]
  },
  {
   "cell_type": "code",
   "execution_count": 10,
   "id": "f4edacc9",
   "metadata": {},
   "outputs": [
    {
     "data": {
      "text/plain": [
       "\u001b[1m\u001b[31mInSituData\u001b[0m\n",
       "\u001b[1mMethod:\u001b[0m\t\tXenium\n",
       "\u001b[1mSlide ID:\u001b[0m\t0001879\n",
       "\u001b[1mSample ID:\u001b[0m\tReplicate 1\n",
       "\u001b[1mPath:\u001b[0m\t\tC:\\Users\\ge37voy\\Github\\InSituPy\\notebooks\\demo_dataset\\demo_insitupy_project\n",
       "\u001b[1mMetadata file:\u001b[0m\t.ispy\n",
       "    ➤ \u001b[34m\u001b[1mimages\u001b[0m\n",
       "       \u001b[1mnuclei:\u001b[0m\t(25778, 35416)\n",
       "       \u001b[1mCD20:\u001b[0m\t(25778, 35416)\n",
       "       \u001b[1mHER2:\u001b[0m\t(25778, 35416)\n",
       "       \u001b[1mHE:\u001b[0m\t(25778, 35416, 3)\n",
       "    ➤\u001b[32m\u001b[1m cells\u001b[0m\n",
       "       \u001b[1mmatrix\u001b[0m\n",
       "           AnnData object with n_obs × n_vars = 167780 × 313\n",
       "           obs: 'transcript_counts', 'control_probe_counts', 'control_codeword_counts', 'total_counts', 'cell_area', 'nucleus_area', 'annotation-TestKey', 'annotation-demo', 'annotation-demo2', 'annotation-demo3'\n",
       "           var: 'gene_ids', 'feature_types', 'genome'\n",
       "           obsm: 'spatial'\n",
       "           varm: 'binned_expression'\n",
       "       \u001b[1mboundaries\u001b[0m\n",
       "           BoundariesData object with 2 entries:\n",
       "               \u001b[1mcellular\u001b[0m\n",
       "               \u001b[1mnuclear\u001b[0m\n",
       "    ➤ \u001b[36m\u001b[1mannotations\u001b[0m\n",
       "       \u001b[1mTestKey:\u001b[0m\t3 annotations, 1 class ('TestClass') "
      ]
     },
     "execution_count": 10,
     "metadata": {},
     "output_type": "execute_result"
    }
   ],
   "source": [
    "xd"
   ]
  },
  {
   "cell_type": "markdown",
   "id": "82fb85aa",
   "metadata": {},
   "source": [
    "\n",
    "\n",
    "### 2. Create annotations in QuPath\n",
    "\n",
    "To create annotations in QuPath, follow these steps:\n",
    "\n",
    "1. Select a annotation tool from the bar on the top left:\n",
    "\n",
    "<center><img src=\"./demo_screenshots/qupath_annotation_buttons.jpg\" width=\"300\"/></center>\n",
    "\n",
    "2. Add as many annotations as you want and label them by setting classes in the annotation list. Do not forget to press the \"Set class\" button:\n",
    "\n",
    "<center><img src=\"./demo_screenshots/qupath_annotation_list.jpg\" width=\"350\"/></center>\n",
    "\n",
    "3. Export annotations using `File > Export objects as GeoJSON`. Tick `Pretty JSON` to get an easily readable JSON file. The file name needs to have following structure: `annotation-{slide_id}__{sample_id}__{annotation_label}`.\n",
    "\n",
    "### Import annotations into `XeniumData`\n",
    "\n",
    "For demonstration purposes, we created dummy annotation files in `./demo_annotations/`. To add the annotations to `XeniumData` follow the steps below.\n",
    "\n"
   ]
  },
  {
   "cell_type": "markdown",
   "id": "1eadda01",
   "metadata": {},
   "source": [
    "## Import annotations and regions"
   ]
  },
  {
   "cell_type": "code",
   "execution_count": 11,
   "id": "b69521c6",
   "metadata": {},
   "outputs": [
    {
     "name": "stdout",
     "output_type": "stream",
     "text": [
      "Importing annotations...\n"
     ]
    }
   ],
   "source": [
    "xd.import_annotations(\n",
    "    files=[\n",
    "        \"./demo_annotations/annotations-0001879__Replicate 1__demo.geojson\",\n",
    "        \"./demo_annotations/annotations-0001879__Replicate 1__demo2.geojson\",\n",
    "        \"./demo_annotations/annotations-mixed_types.geojson\"\n",
    "           ],\n",
    "    keys=[\"demo\", \"demo2\", \"demo3\"]\n",
    "    )"
   ]
  },
  {
   "cell_type": "code",
   "execution_count": 12,
   "id": "b05d031f",
   "metadata": {},
   "outputs": [
    {
     "data": {
      "text/html": [
       "<div>\n",
       "<style scoped>\n",
       "    .dataframe tbody tr th:only-of-type {\n",
       "        vertical-align: middle;\n",
       "    }\n",
       "\n",
       "    .dataframe tbody tr th {\n",
       "        vertical-align: top;\n",
       "    }\n",
       "\n",
       "    .dataframe thead th {\n",
       "        text-align: right;\n",
       "    }\n",
       "</style>\n",
       "<table border=\"1\" class=\"dataframe\">\n",
       "  <thead>\n",
       "    <tr style=\"text-align: right;\">\n",
       "      <th></th>\n",
       "      <th>objectType</th>\n",
       "      <th>geometry</th>\n",
       "      <th>name</th>\n",
       "      <th>color</th>\n",
       "      <th>origin</th>\n",
       "      <th>scale</th>\n",
       "      <th>layer_type</th>\n",
       "    </tr>\n",
       "    <tr>\n",
       "      <th>id</th>\n",
       "      <th></th>\n",
       "      <th></th>\n",
       "      <th></th>\n",
       "      <th></th>\n",
       "      <th></th>\n",
       "      <th></th>\n",
       "      <th></th>\n",
       "    </tr>\n",
       "  </thead>\n",
       "  <tbody>\n",
       "    <tr>\n",
       "      <th>bd3aacca-1716-4df8-91dd-bf8f6413a7bd</th>\n",
       "      <td>annotation</td>\n",
       "      <td>POLYGON ((8863.00000 10814.00000, 8863.00000 1...</td>\n",
       "      <td>Positive</td>\n",
       "      <td>[250, 62, 62]</td>\n",
       "      <td>file</td>\n",
       "      <td>(0.2125, 0.2125)</td>\n",
       "      <td>Shapes</td>\n",
       "    </tr>\n",
       "    <tr>\n",
       "      <th>69814505-4059-42cd-8df2-752f7eb0810d</th>\n",
       "      <td>annotation</td>\n",
       "      <td>POLYGON ((13096.00000 12492.00000, 13072.40000...</td>\n",
       "      <td>Positive</td>\n",
       "      <td>[250, 62, 62]</td>\n",
       "      <td>file</td>\n",
       "      <td>(0.2125, 0.2125)</td>\n",
       "      <td>Shapes</td>\n",
       "    </tr>\n",
       "    <tr>\n",
       "      <th>1957cd32-0a21-4b45-9dae-ecf236217140</th>\n",
       "      <td>annotation</td>\n",
       "      <td>POLYGON ((30975.26000 22938.00000, 30982.00000...</td>\n",
       "      <td>Negative</td>\n",
       "      <td>[112, 112, 225]</td>\n",
       "      <td>file</td>\n",
       "      <td>(0.2125, 0.2125)</td>\n",
       "      <td>Shapes</td>\n",
       "    </tr>\n",
       "    <tr>\n",
       "      <th>19d2197a-1b8e-456f-8223-fba74641ac1c</th>\n",
       "      <td>annotation</td>\n",
       "      <td>POLYGON ((31165.00000 16408.00000, 31149.00000...</td>\n",
       "      <td>Negative</td>\n",
       "      <td>[112, 112, 225]</td>\n",
       "      <td>file</td>\n",
       "      <td>(0.2125, 0.2125)</td>\n",
       "      <td>Shapes</td>\n",
       "    </tr>\n",
       "  </tbody>\n",
       "</table>\n",
       "</div>"
      ],
      "text/plain": [
       "                                      objectType  \\\n",
       "id                                                 \n",
       "bd3aacca-1716-4df8-91dd-bf8f6413a7bd  annotation   \n",
       "69814505-4059-42cd-8df2-752f7eb0810d  annotation   \n",
       "1957cd32-0a21-4b45-9dae-ecf236217140  annotation   \n",
       "19d2197a-1b8e-456f-8223-fba74641ac1c  annotation   \n",
       "\n",
       "                                                                               geometry  \\\n",
       "id                                                                                        \n",
       "bd3aacca-1716-4df8-91dd-bf8f6413a7bd  POLYGON ((8863.00000 10814.00000, 8863.00000 1...   \n",
       "69814505-4059-42cd-8df2-752f7eb0810d  POLYGON ((13096.00000 12492.00000, 13072.40000...   \n",
       "1957cd32-0a21-4b45-9dae-ecf236217140  POLYGON ((30975.26000 22938.00000, 30982.00000...   \n",
       "19d2197a-1b8e-456f-8223-fba74641ac1c  POLYGON ((31165.00000 16408.00000, 31149.00000...   \n",
       "\n",
       "                                          name            color origin  \\\n",
       "id                                                                       \n",
       "bd3aacca-1716-4df8-91dd-bf8f6413a7bd  Positive    [250, 62, 62]   file   \n",
       "69814505-4059-42cd-8df2-752f7eb0810d  Positive    [250, 62, 62]   file   \n",
       "1957cd32-0a21-4b45-9dae-ecf236217140  Negative  [112, 112, 225]   file   \n",
       "19d2197a-1b8e-456f-8223-fba74641ac1c  Negative  [112, 112, 225]   file   \n",
       "\n",
       "                                                 scale layer_type  \n",
       "id                                                                 \n",
       "bd3aacca-1716-4df8-91dd-bf8f6413a7bd  (0.2125, 0.2125)     Shapes  \n",
       "69814505-4059-42cd-8df2-752f7eb0810d  (0.2125, 0.2125)     Shapes  \n",
       "1957cd32-0a21-4b45-9dae-ecf236217140  (0.2125, 0.2125)     Shapes  \n",
       "19d2197a-1b8e-456f-8223-fba74641ac1c  (0.2125, 0.2125)     Shapes  "
      ]
     },
     "execution_count": 12,
     "metadata": {},
     "output_type": "execute_result"
    }
   ],
   "source": [
    "xd.annotations.demo"
   ]
  },
  {
   "cell_type": "code",
   "execution_count": 13,
   "id": "e84ea6d2",
   "metadata": {},
   "outputs": [
    {
     "data": {
      "text/html": [
       "<div>\n",
       "<style scoped>\n",
       "    .dataframe tbody tr th:only-of-type {\n",
       "        vertical-align: middle;\n",
       "    }\n",
       "\n",
       "    .dataframe tbody tr th {\n",
       "        vertical-align: top;\n",
       "    }\n",
       "\n",
       "    .dataframe thead th {\n",
       "        text-align: right;\n",
       "    }\n",
       "</style>\n",
       "<table border=\"1\" class=\"dataframe\">\n",
       "  <thead>\n",
       "    <tr style=\"text-align: right;\">\n",
       "      <th></th>\n",
       "      <th>objectType</th>\n",
       "      <th>geometry</th>\n",
       "      <th>name</th>\n",
       "      <th>color</th>\n",
       "      <th>origin</th>\n",
       "      <th>scale</th>\n",
       "      <th>layer_type</th>\n",
       "    </tr>\n",
       "    <tr>\n",
       "      <th>id</th>\n",
       "      <th></th>\n",
       "      <th></th>\n",
       "      <th></th>\n",
       "      <th></th>\n",
       "      <th></th>\n",
       "      <th></th>\n",
       "      <th></th>\n",
       "    </tr>\n",
       "  </thead>\n",
       "  <tbody>\n",
       "    <tr>\n",
       "      <th>1970eccb-ad38-4b4b-b7a8-54509027b57d</th>\n",
       "      <td>annotation</td>\n",
       "      <td>POLYGON ((25319.00000 3892.00000, 25313.00000 ...</td>\n",
       "      <td>Negative</td>\n",
       "      <td>[112, 112, 225]</td>\n",
       "      <td>file</td>\n",
       "      <td>(0.2125, 0.2125)</td>\n",
       "      <td>Shapes</td>\n",
       "    </tr>\n",
       "    <tr>\n",
       "      <th>a3b32cce-1bb9-4a6f-b1d1-9e0c44420cfa</th>\n",
       "      <td>annotation</td>\n",
       "      <td>POLYGON ((30950.00000 10855.00000, 30944.00000...</td>\n",
       "      <td>Positive</td>\n",
       "      <td>[250, 62, 62]</td>\n",
       "      <td>file</td>\n",
       "      <td>(0.2125, 0.2125)</td>\n",
       "      <td>Shapes</td>\n",
       "    </tr>\n",
       "    <tr>\n",
       "      <th>92bfe928-a21f-4864-b7cb-f0d300113d88</th>\n",
       "      <td>annotation</td>\n",
       "      <td>MULTIPOLYGON (((21534.00000 19541.00000, 21534...</td>\n",
       "      <td>Other</td>\n",
       "      <td>[255, 200, 0]</td>\n",
       "      <td>file</td>\n",
       "      <td>(0.2125, 0.2125)</td>\n",
       "      <td>Shapes</td>\n",
       "    </tr>\n",
       "    <tr>\n",
       "      <th>a6c17a54-6839-40b2-8531-c9227635f344</th>\n",
       "      <td>annotation</td>\n",
       "      <td>POLYGON ((6501.00000 17126.00000, 6495.00000 1...</td>\n",
       "      <td>Other</td>\n",
       "      <td>[255, 200, 0]</td>\n",
       "      <td>file</td>\n",
       "      <td>(0.2125, 0.2125)</td>\n",
       "      <td>Shapes</td>\n",
       "    </tr>\n",
       "    <tr>\n",
       "      <th>e78efe2f-d185-4ab6-9cc9-6621897f3662</th>\n",
       "      <td>annotation</td>\n",
       "      <td>POLYGON ((29519.63000 18523.00000, 29476.00000...</td>\n",
       "      <td>Negative</td>\n",
       "      <td>[112, 112, 225]</td>\n",
       "      <td>file</td>\n",
       "      <td>(0.2125, 0.2125)</td>\n",
       "      <td>Shapes</td>\n",
       "    </tr>\n",
       "  </tbody>\n",
       "</table>\n",
       "</div>"
      ],
      "text/plain": [
       "                                      objectType  \\\n",
       "id                                                 \n",
       "1970eccb-ad38-4b4b-b7a8-54509027b57d  annotation   \n",
       "a3b32cce-1bb9-4a6f-b1d1-9e0c44420cfa  annotation   \n",
       "92bfe928-a21f-4864-b7cb-f0d300113d88  annotation   \n",
       "a6c17a54-6839-40b2-8531-c9227635f344  annotation   \n",
       "e78efe2f-d185-4ab6-9cc9-6621897f3662  annotation   \n",
       "\n",
       "                                                                               geometry  \\\n",
       "id                                                                                        \n",
       "1970eccb-ad38-4b4b-b7a8-54509027b57d  POLYGON ((25319.00000 3892.00000, 25313.00000 ...   \n",
       "a3b32cce-1bb9-4a6f-b1d1-9e0c44420cfa  POLYGON ((30950.00000 10855.00000, 30944.00000...   \n",
       "92bfe928-a21f-4864-b7cb-f0d300113d88  MULTIPOLYGON (((21534.00000 19541.00000, 21534...   \n",
       "a6c17a54-6839-40b2-8531-c9227635f344  POLYGON ((6501.00000 17126.00000, 6495.00000 1...   \n",
       "e78efe2f-d185-4ab6-9cc9-6621897f3662  POLYGON ((29519.63000 18523.00000, 29476.00000...   \n",
       "\n",
       "                                          name            color origin  \\\n",
       "id                                                                       \n",
       "1970eccb-ad38-4b4b-b7a8-54509027b57d  Negative  [112, 112, 225]   file   \n",
       "a3b32cce-1bb9-4a6f-b1d1-9e0c44420cfa  Positive    [250, 62, 62]   file   \n",
       "92bfe928-a21f-4864-b7cb-f0d300113d88     Other    [255, 200, 0]   file   \n",
       "a6c17a54-6839-40b2-8531-c9227635f344     Other    [255, 200, 0]   file   \n",
       "e78efe2f-d185-4ab6-9cc9-6621897f3662  Negative  [112, 112, 225]   file   \n",
       "\n",
       "                                                 scale layer_type  \n",
       "id                                                                 \n",
       "1970eccb-ad38-4b4b-b7a8-54509027b57d  (0.2125, 0.2125)     Shapes  \n",
       "a3b32cce-1bb9-4a6f-b1d1-9e0c44420cfa  (0.2125, 0.2125)     Shapes  \n",
       "92bfe928-a21f-4864-b7cb-f0d300113d88  (0.2125, 0.2125)     Shapes  \n",
       "a6c17a54-6839-40b2-8531-c9227635f344  (0.2125, 0.2125)     Shapes  \n",
       "e78efe2f-d185-4ab6-9cc9-6621897f3662  (0.2125, 0.2125)     Shapes  "
      ]
     },
     "execution_count": 13,
     "metadata": {},
     "output_type": "execute_result"
    }
   ],
   "source": [
    "xd.annotations.demo2"
   ]
  },
  {
   "cell_type": "code",
   "execution_count": 14,
   "id": "6a62cb64",
   "metadata": {},
   "outputs": [
    {
     "data": {
      "text/html": [
       "<div>\n",
       "<style scoped>\n",
       "    .dataframe tbody tr th:only-of-type {\n",
       "        vertical-align: middle;\n",
       "    }\n",
       "\n",
       "    .dataframe tbody tr th {\n",
       "        vertical-align: top;\n",
       "    }\n",
       "\n",
       "    .dataframe thead th {\n",
       "        text-align: right;\n",
       "    }\n",
       "</style>\n",
       "<table border=\"1\" class=\"dataframe\">\n",
       "  <thead>\n",
       "    <tr style=\"text-align: right;\">\n",
       "      <th></th>\n",
       "      <th>objectType</th>\n",
       "      <th>geometry</th>\n",
       "      <th>name</th>\n",
       "      <th>color</th>\n",
       "      <th>origin</th>\n",
       "      <th>scale</th>\n",
       "      <th>layer_type</th>\n",
       "    </tr>\n",
       "    <tr>\n",
       "      <th>id</th>\n",
       "      <th></th>\n",
       "      <th></th>\n",
       "      <th></th>\n",
       "      <th></th>\n",
       "      <th></th>\n",
       "      <th></th>\n",
       "      <th></th>\n",
       "    </tr>\n",
       "  </thead>\n",
       "  <tbody>\n",
       "    <tr>\n",
       "      <th>8f57c3c3-2216-48b7-99bd-aba12d8c3c41</th>\n",
       "      <td>annotation</td>\n",
       "      <td>POLYGON ((18016.00000 10643.50000, 18013.24000...</td>\n",
       "      <td>Stroma</td>\n",
       "      <td>[150, 200, 150]</td>\n",
       "      <td>file</td>\n",
       "      <td>(0.2125, 0.2125)</td>\n",
       "      <td>Shapes</td>\n",
       "    </tr>\n",
       "    <tr>\n",
       "      <th>7e8f8db4-81d4-472e-8e93-0fc756df87aa</th>\n",
       "      <td>annotation</td>\n",
       "      <td>POLYGON ((12322.00000 6758.00000, 12320.34000 ...</td>\n",
       "      <td>Stroma</td>\n",
       "      <td>[150, 200, 150]</td>\n",
       "      <td>file</td>\n",
       "      <td>(0.2125, 0.2125)</td>\n",
       "      <td>Shapes</td>\n",
       "    </tr>\n",
       "    <tr>\n",
       "      <th>38a48ddb-f33c-4c61-b996-330b25d84081</th>\n",
       "      <td>annotation</td>\n",
       "      <td>LINESTRING (16943.80000 7758.84000, 18249.5800...</td>\n",
       "      <td>Necrosis</td>\n",
       "      <td>[50, 50, 50]</td>\n",
       "      <td>file</td>\n",
       "      <td>(0.2125, 0.2125)</td>\n",
       "      <td>Shapes</td>\n",
       "    </tr>\n",
       "    <tr>\n",
       "      <th>eee244c9-e919-41ae-bb91-44c7abcc0cec</th>\n",
       "      <td>annotation</td>\n",
       "      <td>LINESTRING (11687.64000 6279.51000, 13439.6900...</td>\n",
       "      <td>Immune cells</td>\n",
       "      <td>[160, 90, 160]</td>\n",
       "      <td>file</td>\n",
       "      <td>(0.2125, 0.2125)</td>\n",
       "      <td>Shapes</td>\n",
       "    </tr>\n",
       "    <tr>\n",
       "      <th>e3d4c0b6-0998-4692-ab7d-f580f713e275</th>\n",
       "      <td>annotation</td>\n",
       "      <td>POINT (23982.29000 7682.65000)</td>\n",
       "      <td>unclassified</td>\n",
       "      <td>[0, 0, 0]</td>\n",
       "      <td>file</td>\n",
       "      <td>(0.2125, 0.2125)</td>\n",
       "      <td>Points</td>\n",
       "    </tr>\n",
       "    <tr>\n",
       "      <th>e9105240-3b35-489e-994f-e8f9c4786516</th>\n",
       "      <td>annotation</td>\n",
       "      <td>MULTIPOINT (19857.20000 7768.09000, 20056.2200...</td>\n",
       "      <td>Stroma</td>\n",
       "      <td>[150, 200, 150]</td>\n",
       "      <td>file</td>\n",
       "      <td>(0.2125, 0.2125)</td>\n",
       "      <td>Points</td>\n",
       "    </tr>\n",
       "    <tr>\n",
       "      <th>2802df97-78ad-44ac-8e6b-d9b9406c8e3f</th>\n",
       "      <td>annotation</td>\n",
       "      <td>MULTIPOINT (15871.96000 9437.25000, 16611.9600...</td>\n",
       "      <td>Tumor</td>\n",
       "      <td>[200, 0, 0]</td>\n",
       "      <td>file</td>\n",
       "      <td>(0.2125, 0.2125)</td>\n",
       "      <td>Points</td>\n",
       "    </tr>\n",
       "  </tbody>\n",
       "</table>\n",
       "</div>"
      ],
      "text/plain": [
       "                                      objectType  \\\n",
       "id                                                 \n",
       "8f57c3c3-2216-48b7-99bd-aba12d8c3c41  annotation   \n",
       "7e8f8db4-81d4-472e-8e93-0fc756df87aa  annotation   \n",
       "38a48ddb-f33c-4c61-b996-330b25d84081  annotation   \n",
       "eee244c9-e919-41ae-bb91-44c7abcc0cec  annotation   \n",
       "e3d4c0b6-0998-4692-ab7d-f580f713e275  annotation   \n",
       "e9105240-3b35-489e-994f-e8f9c4786516  annotation   \n",
       "2802df97-78ad-44ac-8e6b-d9b9406c8e3f  annotation   \n",
       "\n",
       "                                                                               geometry  \\\n",
       "id                                                                                        \n",
       "8f57c3c3-2216-48b7-99bd-aba12d8c3c41  POLYGON ((18016.00000 10643.50000, 18013.24000...   \n",
       "7e8f8db4-81d4-472e-8e93-0fc756df87aa  POLYGON ((12322.00000 6758.00000, 12320.34000 ...   \n",
       "38a48ddb-f33c-4c61-b996-330b25d84081  LINESTRING (16943.80000 7758.84000, 18249.5800...   \n",
       "eee244c9-e919-41ae-bb91-44c7abcc0cec  LINESTRING (11687.64000 6279.51000, 13439.6900...   \n",
       "e3d4c0b6-0998-4692-ab7d-f580f713e275                     POINT (23982.29000 7682.65000)   \n",
       "e9105240-3b35-489e-994f-e8f9c4786516  MULTIPOINT (19857.20000 7768.09000, 20056.2200...   \n",
       "2802df97-78ad-44ac-8e6b-d9b9406c8e3f  MULTIPOINT (15871.96000 9437.25000, 16611.9600...   \n",
       "\n",
       "                                              name            color origin  \\\n",
       "id                                                                           \n",
       "8f57c3c3-2216-48b7-99bd-aba12d8c3c41        Stroma  [150, 200, 150]   file   \n",
       "7e8f8db4-81d4-472e-8e93-0fc756df87aa        Stroma  [150, 200, 150]   file   \n",
       "38a48ddb-f33c-4c61-b996-330b25d84081      Necrosis     [50, 50, 50]   file   \n",
       "eee244c9-e919-41ae-bb91-44c7abcc0cec  Immune cells   [160, 90, 160]   file   \n",
       "e3d4c0b6-0998-4692-ab7d-f580f713e275  unclassified        [0, 0, 0]   file   \n",
       "e9105240-3b35-489e-994f-e8f9c4786516        Stroma  [150, 200, 150]   file   \n",
       "2802df97-78ad-44ac-8e6b-d9b9406c8e3f         Tumor      [200, 0, 0]   file   \n",
       "\n",
       "                                                 scale layer_type  \n",
       "id                                                                 \n",
       "8f57c3c3-2216-48b7-99bd-aba12d8c3c41  (0.2125, 0.2125)     Shapes  \n",
       "7e8f8db4-81d4-472e-8e93-0fc756df87aa  (0.2125, 0.2125)     Shapes  \n",
       "38a48ddb-f33c-4c61-b996-330b25d84081  (0.2125, 0.2125)     Shapes  \n",
       "eee244c9-e919-41ae-bb91-44c7abcc0cec  (0.2125, 0.2125)     Shapes  \n",
       "e3d4c0b6-0998-4692-ab7d-f580f713e275  (0.2125, 0.2125)     Points  \n",
       "e9105240-3b35-489e-994f-e8f9c4786516  (0.2125, 0.2125)     Points  \n",
       "2802df97-78ad-44ac-8e6b-d9b9406c8e3f  (0.2125, 0.2125)     Points  "
      ]
     },
     "execution_count": 14,
     "metadata": {},
     "output_type": "execute_result"
    }
   ],
   "source": [
    "xd.annotations.demo3"
   ]
  },
  {
   "cell_type": "markdown",
   "id": "1983a1d9",
   "metadata": {},
   "source": [
    "## Load regions\n",
    "\n",
    "Regions can be created in QuPath either as described above or using tools like the TMA dearrayer. They are also exported as objects as annotations but different to annotations they do not have a classification and each name of a region has to be unique.\n",
    "\n",
    "In the following demo regions are read. One of the region files has non-unique names to demonstrate the warning that appears in this case."
   ]
  },
  {
   "cell_type": "markdown",
   "id": "0ac89ee1",
   "metadata": {},
   "source": [
    "### Classes have to be unique in regions\n",
    "\n",
    "When reading an \"Annotation\" `.geojson` as shown below, the `import_regions` function throws an error indicating that in regions only one geometry per class is allowed. Further, only normal polygons (`shapely.Polygon`-typed) are allowed. Any other types of geometries (Points, Lines, MultiPolygons, ...) are skipped."
   ]
  },
  {
   "cell_type": "code",
   "execution_count": 15,
   "id": "b0a0751d",
   "metadata": {},
   "outputs": [
    {
     "name": "stdout",
     "output_type": "stream",
     "text": [
      "Importing regions...\n"
     ]
    },
    {
     "name": "stderr",
     "output_type": "stream",
     "text": [
      "C:\\Users\\ge37voy\\Github\\InSituPy\\insitupy\\_core\\dataclasses.py:122: UserWarning: The names of the regions for key 'test' were not unique and thus the key was skipped. In regions only one geometry per class is allowed.\n",
      "  warnings.warn(\n",
      "C:\\Users\\ge37voy\\Github\\InSituPy\\insitupy\\_core\\insitudata.py:729: UserWarning: Some regions were not pure Polygon objects and skipped.\n",
      "  self.regions.add_data(data=file,\n"
     ]
    }
   ],
   "source": [
    "xd.import_regions(\n",
    "    files=[\n",
    "        \"./demo_annotations/annotations-mixed_types.geojson\"\n",
    "        ],\n",
    "    keys=['test'])"
   ]
  },
  {
   "cell_type": "markdown",
   "id": "2cd3a936",
   "metadata": {},
   "source": [
    "Multiple regions can be imported simultaneously."
   ]
  },
  {
   "cell_type": "code",
   "execution_count": 16,
   "id": "dfc26eec",
   "metadata": {},
   "outputs": [
    {
     "name": "stdout",
     "output_type": "stream",
     "text": [
      "Importing regions...\n"
     ]
    }
   ],
   "source": [
    "xd.import_regions(\n",
    "    files=[\n",
    "        \"./demo_regions/regions-0001879__Replicate 1__demo_regions.geojson\",\n",
    "        \"./demo_regions/regions-0001879__Replicate 1__TMA.geojson\",\n",
    "        ],\n",
    "    keys=['demo_regions', 'TMA'])"
   ]
  },
  {
   "cell_type": "markdown",
   "id": "cdcdf2fc",
   "metadata": {},
   "source": [
    "Properties of the `anotations` and `regions` modalities can be inspected in the InSituData representation:"
   ]
  },
  {
   "cell_type": "code",
   "execution_count": 17,
   "id": "e1b94a87",
   "metadata": {},
   "outputs": [
    {
     "data": {
      "text/plain": [
       "\u001b[1m\u001b[31mInSituData\u001b[0m\n",
       "\u001b[1mMethod:\u001b[0m\t\tXenium\n",
       "\u001b[1mSlide ID:\u001b[0m\t0001879\n",
       "\u001b[1mSample ID:\u001b[0m\tReplicate 1\n",
       "\u001b[1mPath:\u001b[0m\t\tC:\\Users\\ge37voy\\Github\\InSituPy\\notebooks\\demo_dataset\\demo_insitupy_project\n",
       "\u001b[1mMetadata file:\u001b[0m\t.ispy\n",
       "    ➤ \u001b[34m\u001b[1mimages\u001b[0m\n",
       "       \u001b[1mnuclei:\u001b[0m\t(25778, 35416)\n",
       "       \u001b[1mCD20:\u001b[0m\t(25778, 35416)\n",
       "       \u001b[1mHER2:\u001b[0m\t(25778, 35416)\n",
       "       \u001b[1mHE:\u001b[0m\t(25778, 35416, 3)\n",
       "    ➤\u001b[32m\u001b[1m cells\u001b[0m\n",
       "       \u001b[1mmatrix\u001b[0m\n",
       "           AnnData object with n_obs × n_vars = 167780 × 313\n",
       "           obs: 'transcript_counts', 'control_probe_counts', 'control_codeword_counts', 'total_counts', 'cell_area', 'nucleus_area', 'annotation-TestKey', 'annotation-demo', 'annotation-demo2', 'annotation-demo3'\n",
       "           var: 'gene_ids', 'feature_types', 'genome'\n",
       "           obsm: 'spatial'\n",
       "           varm: 'binned_expression'\n",
       "       \u001b[1mboundaries\u001b[0m\n",
       "           BoundariesData object with 2 entries:\n",
       "               \u001b[1mcellular\u001b[0m\n",
       "               \u001b[1mnuclear\u001b[0m\n",
       "    ➤ \u001b[36m\u001b[1mannotations\u001b[0m\n",
       "       \u001b[1mTestKey:\u001b[0m\t3 annotations, 1 class ('TestClass') \n",
       "       \u001b[1mdemo:\u001b[0m\t4 annotations, 2 classes ('Positive','Negative') \n",
       "       \u001b[1mdemo2:\u001b[0m\t5 annotations, 3 classes ('Negative','Positive','Other') \n",
       "       \u001b[1mdemo3:\u001b[0m\t7 annotations, 5 classes ('Stroma','Necrosis','Immune cells','unclassified','Tumor') \n",
       "    ➤ \u001b[33m\u001b[1mregions\u001b[0m\n",
       "       \u001b[1mdemo_regions:\u001b[0m\t3 regions, 3 classes ('Region1','Region2','Region3') \n",
       "       \u001b[1mTMA:\u001b[0m\t6 regions, 6 classes ('B-2','A-3','B-1','B-3','A-1','A-2') "
      ]
     },
     "execution_count": 17,
     "metadata": {},
     "output_type": "execute_result"
    }
   ],
   "source": [
    "xd"
   ]
  },
  {
   "cell_type": "markdown",
   "id": "f07212cb",
   "metadata": {},
   "source": [
    "## Visualization of `annotations` and `regions` using `napari` viewer\n",
    "\n",
    "Ìf the `InSituData` object only contains `.annotations` or `.regions` attributes, one can choose between the \"Add geometries\" and \"Show geometries\" widgets:\n",
    "<center><img src=\"./demo_screenshots/toggle_geometry_widgets.jpg\" width=\"200\"/></center>\n",
    "\n",
    "Annotations and regions stored in the `InSituData` object can be visualized using the \"Show geometries\" widget:\n",
    "<center><img src=\"./demo_screenshots/show_geometries_widget.jpg\" width=\"200\"/></center>\n",
    "\n",
    "To show the names of the annotations, tick \"Show names\":\n",
    "<center><img src=\"./demo_screenshots/show_names_example.jpg\" width=\"200\"/></center>\n"
   ]
  },
  {
   "cell_type": "code",
   "execution_count": 18,
   "id": "5c925e30",
   "metadata": {},
   "outputs": [],
   "source": [
    "xd.show()"
   ]
  },
  {
   "cell_type": "markdown",
   "id": "320ab6d4",
   "metadata": {},
   "source": [
    "### Assign annotations to observations\n",
    "\n",
    "To use the annotations in analyses (e.g. to select only observations within a certain annotation or compare gene expression between different annotations) one can use the `assign_annotations` function. It adds columns containing the annotation class to `xd.matrix.obs`. The column has the syntax `annotation-{Label}` and if an observation is not part of any annotation within this label, it contains `NaN`. "
   ]
  },
  {
   "cell_type": "code",
   "execution_count": 19,
   "id": "6a8f3255",
   "metadata": {},
   "outputs": [
    {
     "name": "stdout",
     "output_type": "stream",
     "text": [
      "Assigning key 'TestKey'...\n",
      "Existing column \"annotation-TestKey\" is overwritten.\n",
      "Assigning key 'demo'...\n",
      "Existing column \"annotation-demo\" is overwritten.\n",
      "Assigning key 'demo2'...\n",
      "Existing column \"annotation-demo2\" is overwritten.\n",
      "Assigning key 'demo3'...\n",
      "Existing column \"annotation-demo3\" is overwritten.\n"
     ]
    }
   ],
   "source": [
    "xd.assign_annotations(overwrite=True)"
   ]
  },
  {
   "cell_type": "code",
   "execution_count": 20,
   "id": "4e29bd1f",
   "metadata": {},
   "outputs": [
    {
     "data": {
      "text/plain": [
       "\u001b[1m\u001b[31mInSituData\u001b[0m\n",
       "\u001b[1mMethod:\u001b[0m\t\tXenium\n",
       "\u001b[1mSlide ID:\u001b[0m\t0001879\n",
       "\u001b[1mSample ID:\u001b[0m\tReplicate 1\n",
       "\u001b[1mPath:\u001b[0m\t\tC:\\Users\\ge37voy\\Github\\InSituPy\\notebooks\\demo_dataset\\demo_insitupy_project\n",
       "\u001b[1mMetadata file:\u001b[0m\t.ispy\n",
       "    ➤ \u001b[34m\u001b[1mimages\u001b[0m\n",
       "       \u001b[1mnuclei:\u001b[0m\t(25778, 35416)\n",
       "       \u001b[1mCD20:\u001b[0m\t(25778, 35416)\n",
       "       \u001b[1mHER2:\u001b[0m\t(25778, 35416)\n",
       "       \u001b[1mHE:\u001b[0m\t(25778, 35416, 3)\n",
       "    ➤\u001b[32m\u001b[1m cells\u001b[0m\n",
       "       \u001b[1mmatrix\u001b[0m\n",
       "           AnnData object with n_obs × n_vars = 167780 × 313\n",
       "           obs: 'transcript_counts', 'control_probe_counts', 'control_codeword_counts', 'total_counts', 'cell_area', 'nucleus_area', 'annotation-TestKey', 'annotation-demo', 'annotation-demo2', 'annotation-demo3'\n",
       "           var: 'gene_ids', 'feature_types', 'genome'\n",
       "           obsm: 'spatial'\n",
       "           varm: 'binned_expression'\n",
       "       \u001b[1mboundaries\u001b[0m\n",
       "           BoundariesData object with 2 entries:\n",
       "               \u001b[1mcellular\u001b[0m\n",
       "               \u001b[1mnuclear\u001b[0m\n",
       "    ➤ \u001b[36m\u001b[1mannotations\u001b[0m\n",
       "       \u001b[1mTestKey:\u001b[0m\t3 annotations, 1 class ('TestClass') ✔\n",
       "       \u001b[1mdemo:\u001b[0m\t4 annotations, 2 classes ('Positive','Negative') ✔\n",
       "       \u001b[1mdemo2:\u001b[0m\t5 annotations, 3 classes ('Negative','Positive','Other') ✔\n",
       "       \u001b[1mdemo3:\u001b[0m\t7 annotations, 5 classes ('Stroma','Necrosis','Immune cells','unclassified','Tumor') ✔\n",
       "    ➤ \u001b[33m\u001b[1mregions\u001b[0m\n",
       "       \u001b[1mdemo_regions:\u001b[0m\t3 regions, 3 classes ('Region1','Region2','Region3') \n",
       "       \u001b[1mTMA:\u001b[0m\t6 regions, 6 classes ('B-2','A-3','B-1','B-3','A-1','A-2') "
      ]
     },
     "execution_count": 20,
     "metadata": {},
     "output_type": "execute_result"
    }
   ],
   "source": [
    "xd"
   ]
  },
  {
   "cell_type": "markdown",
   "id": "901bcfc0",
   "metadata": {},
   "source": [
    "After assigning the annotations, the labels analyzed here are marked with a ✔:"
   ]
  },
  {
   "cell_type": "code",
   "execution_count": 21,
   "id": "d28ddf46",
   "metadata": {},
   "outputs": [
    {
     "data": {
      "text/html": [
       "<div>\n",
       "<style scoped>\n",
       "    .dataframe tbody tr th:only-of-type {\n",
       "        vertical-align: middle;\n",
       "    }\n",
       "\n",
       "    .dataframe tbody tr th {\n",
       "        vertical-align: top;\n",
       "    }\n",
       "\n",
       "    .dataframe thead th {\n",
       "        text-align: right;\n",
       "    }\n",
       "</style>\n",
       "<table border=\"1\" class=\"dataframe\">\n",
       "  <thead>\n",
       "    <tr style=\"text-align: right;\">\n",
       "      <th></th>\n",
       "      <th>objectType</th>\n",
       "      <th>name</th>\n",
       "      <th>geometry</th>\n",
       "      <th>origin</th>\n",
       "      <th>scale</th>\n",
       "      <th>layer_type</th>\n",
       "    </tr>\n",
       "    <tr>\n",
       "      <th>id</th>\n",
       "      <th></th>\n",
       "      <th></th>\n",
       "      <th></th>\n",
       "      <th></th>\n",
       "      <th></th>\n",
       "      <th></th>\n",
       "    </tr>\n",
       "  </thead>\n",
       "  <tbody>\n",
       "    <tr>\n",
       "      <th>2d0da635-c408-459f-9178-839097fe5a98</th>\n",
       "      <td>annotation</td>\n",
       "      <td>Region1</td>\n",
       "      <td>POLYGON ((7362.00000 6221.00000, 10672.00000 6...</td>\n",
       "      <td>file</td>\n",
       "      <td>(0.2125, 0.2125)</td>\n",
       "      <td>Shapes</td>\n",
       "    </tr>\n",
       "    <tr>\n",
       "      <th>ce6c2342-620d-4f44-be03-68a4454e9b33</th>\n",
       "      <td>annotation</td>\n",
       "      <td>Region2</td>\n",
       "      <td>POLYGON ((21373.00000 6383.00000, 26418.00000 ...</td>\n",
       "      <td>file</td>\n",
       "      <td>(0.2125, 0.2125)</td>\n",
       "      <td>Shapes</td>\n",
       "    </tr>\n",
       "    <tr>\n",
       "      <th>70a125ec-c53e-469b-8927-efe224e504c1</th>\n",
       "      <td>annotation</td>\n",
       "      <td>Region3</td>\n",
       "      <td>POLYGON ((9933.00000 12745.00000, 15942.00000 ...</td>\n",
       "      <td>file</td>\n",
       "      <td>(0.2125, 0.2125)</td>\n",
       "      <td>Shapes</td>\n",
       "    </tr>\n",
       "  </tbody>\n",
       "</table>\n",
       "</div>"
      ],
      "text/plain": [
       "                                      objectType     name  \\\n",
       "id                                                          \n",
       "2d0da635-c408-459f-9178-839097fe5a98  annotation  Region1   \n",
       "ce6c2342-620d-4f44-be03-68a4454e9b33  annotation  Region2   \n",
       "70a125ec-c53e-469b-8927-efe224e504c1  annotation  Region3   \n",
       "\n",
       "                                                                               geometry  \\\n",
       "id                                                                                        \n",
       "2d0da635-c408-459f-9178-839097fe5a98  POLYGON ((7362.00000 6221.00000, 10672.00000 6...   \n",
       "ce6c2342-620d-4f44-be03-68a4454e9b33  POLYGON ((21373.00000 6383.00000, 26418.00000 ...   \n",
       "70a125ec-c53e-469b-8927-efe224e504c1  POLYGON ((9933.00000 12745.00000, 15942.00000 ...   \n",
       "\n",
       "                                     origin             scale layer_type  \n",
       "id                                                                        \n",
       "2d0da635-c408-459f-9178-839097fe5a98   file  (0.2125, 0.2125)     Shapes  \n",
       "ce6c2342-620d-4f44-be03-68a4454e9b33   file  (0.2125, 0.2125)     Shapes  \n",
       "70a125ec-c53e-469b-8927-efe224e504c1   file  (0.2125, 0.2125)     Shapes  "
      ]
     },
     "execution_count": 21,
     "metadata": {},
     "output_type": "execute_result"
    }
   ],
   "source": [
    "xd.regions.demo_regions"
   ]
  },
  {
   "cell_type": "markdown",
   "id": "143488f4",
   "metadata": {},
   "source": [
    "Following cells show examples how to explore the assigned annotations:"
   ]
  },
  {
   "cell_type": "code",
   "execution_count": 22,
   "id": "d8ce99a6",
   "metadata": {},
   "outputs": [
    {
     "data": {
      "text/plain": [
       "9431"
      ]
     },
     "execution_count": 22,
     "metadata": {},
     "output_type": "execute_result"
    }
   ],
   "source": [
    "# print number of cells within one annotation\n",
    "xd.cells.matrix.obs[\"annotation-demo2\"].notna().sum()"
   ]
  },
  {
   "cell_type": "code",
   "execution_count": 23,
   "id": "49fb999c",
   "metadata": {},
   "outputs": [
    {
     "data": {
      "text/html": [
       "<div>\n",
       "<style scoped>\n",
       "    .dataframe tbody tr th:only-of-type {\n",
       "        vertical-align: middle;\n",
       "    }\n",
       "\n",
       "    .dataframe tbody tr th {\n",
       "        vertical-align: top;\n",
       "    }\n",
       "\n",
       "    .dataframe thead th {\n",
       "        text-align: right;\n",
       "    }\n",
       "</style>\n",
       "<table border=\"1\" class=\"dataframe\">\n",
       "  <thead>\n",
       "    <tr style=\"text-align: right;\">\n",
       "      <th></th>\n",
       "      <th>objectType</th>\n",
       "      <th>geometry</th>\n",
       "      <th>name</th>\n",
       "      <th>color</th>\n",
       "      <th>origin</th>\n",
       "      <th>scale</th>\n",
       "      <th>layer_type</th>\n",
       "    </tr>\n",
       "    <tr>\n",
       "      <th>id</th>\n",
       "      <th></th>\n",
       "      <th></th>\n",
       "      <th></th>\n",
       "      <th></th>\n",
       "      <th></th>\n",
       "      <th></th>\n",
       "      <th></th>\n",
       "    </tr>\n",
       "  </thead>\n",
       "  <tbody>\n",
       "    <tr>\n",
       "      <th>1970eccb-ad38-4b4b-b7a8-54509027b57d</th>\n",
       "      <td>annotation</td>\n",
       "      <td>POLYGON ((25319.00000 3892.00000, 25313.00000 ...</td>\n",
       "      <td>Negative</td>\n",
       "      <td>[112, 112, 225]</td>\n",
       "      <td>file</td>\n",
       "      <td>(0.2125, 0.2125)</td>\n",
       "      <td>Shapes</td>\n",
       "    </tr>\n",
       "    <tr>\n",
       "      <th>a3b32cce-1bb9-4a6f-b1d1-9e0c44420cfa</th>\n",
       "      <td>annotation</td>\n",
       "      <td>POLYGON ((30950.00000 10855.00000, 30944.00000...</td>\n",
       "      <td>Positive</td>\n",
       "      <td>[250, 62, 62]</td>\n",
       "      <td>file</td>\n",
       "      <td>(0.2125, 0.2125)</td>\n",
       "      <td>Shapes</td>\n",
       "    </tr>\n",
       "    <tr>\n",
       "      <th>92bfe928-a21f-4864-b7cb-f0d300113d88</th>\n",
       "      <td>annotation</td>\n",
       "      <td>MULTIPOLYGON (((21534.00000 19541.00000, 21534...</td>\n",
       "      <td>Other</td>\n",
       "      <td>[255, 200, 0]</td>\n",
       "      <td>file</td>\n",
       "      <td>(0.2125, 0.2125)</td>\n",
       "      <td>Shapes</td>\n",
       "    </tr>\n",
       "    <tr>\n",
       "      <th>a6c17a54-6839-40b2-8531-c9227635f344</th>\n",
       "      <td>annotation</td>\n",
       "      <td>POLYGON ((6501.00000 17126.00000, 6495.00000 1...</td>\n",
       "      <td>Other</td>\n",
       "      <td>[255, 200, 0]</td>\n",
       "      <td>file</td>\n",
       "      <td>(0.2125, 0.2125)</td>\n",
       "      <td>Shapes</td>\n",
       "    </tr>\n",
       "    <tr>\n",
       "      <th>e78efe2f-d185-4ab6-9cc9-6621897f3662</th>\n",
       "      <td>annotation</td>\n",
       "      <td>POLYGON ((29519.63000 18523.00000, 29476.00000...</td>\n",
       "      <td>Negative</td>\n",
       "      <td>[112, 112, 225]</td>\n",
       "      <td>file</td>\n",
       "      <td>(0.2125, 0.2125)</td>\n",
       "      <td>Shapes</td>\n",
       "    </tr>\n",
       "  </tbody>\n",
       "</table>\n",
       "</div>"
      ],
      "text/plain": [
       "                                      objectType  \\\n",
       "id                                                 \n",
       "1970eccb-ad38-4b4b-b7a8-54509027b57d  annotation   \n",
       "a3b32cce-1bb9-4a6f-b1d1-9e0c44420cfa  annotation   \n",
       "92bfe928-a21f-4864-b7cb-f0d300113d88  annotation   \n",
       "a6c17a54-6839-40b2-8531-c9227635f344  annotation   \n",
       "e78efe2f-d185-4ab6-9cc9-6621897f3662  annotation   \n",
       "\n",
       "                                                                               geometry  \\\n",
       "id                                                                                        \n",
       "1970eccb-ad38-4b4b-b7a8-54509027b57d  POLYGON ((25319.00000 3892.00000, 25313.00000 ...   \n",
       "a3b32cce-1bb9-4a6f-b1d1-9e0c44420cfa  POLYGON ((30950.00000 10855.00000, 30944.00000...   \n",
       "92bfe928-a21f-4864-b7cb-f0d300113d88  MULTIPOLYGON (((21534.00000 19541.00000, 21534...   \n",
       "a6c17a54-6839-40b2-8531-c9227635f344  POLYGON ((6501.00000 17126.00000, 6495.00000 1...   \n",
       "e78efe2f-d185-4ab6-9cc9-6621897f3662  POLYGON ((29519.63000 18523.00000, 29476.00000...   \n",
       "\n",
       "                                          name            color origin  \\\n",
       "id                                                                       \n",
       "1970eccb-ad38-4b4b-b7a8-54509027b57d  Negative  [112, 112, 225]   file   \n",
       "a3b32cce-1bb9-4a6f-b1d1-9e0c44420cfa  Positive    [250, 62, 62]   file   \n",
       "92bfe928-a21f-4864-b7cb-f0d300113d88     Other    [255, 200, 0]   file   \n",
       "a6c17a54-6839-40b2-8531-c9227635f344     Other    [255, 200, 0]   file   \n",
       "e78efe2f-d185-4ab6-9cc9-6621897f3662  Negative  [112, 112, 225]   file   \n",
       "\n",
       "                                                 scale layer_type  \n",
       "id                                                                 \n",
       "1970eccb-ad38-4b4b-b7a8-54509027b57d  (0.2125, 0.2125)     Shapes  \n",
       "a3b32cce-1bb9-4a6f-b1d1-9e0c44420cfa  (0.2125, 0.2125)     Shapes  \n",
       "92bfe928-a21f-4864-b7cb-f0d300113d88  (0.2125, 0.2125)     Shapes  \n",
       "a6c17a54-6839-40b2-8531-c9227635f344  (0.2125, 0.2125)     Shapes  \n",
       "e78efe2f-d185-4ab6-9cc9-6621897f3662  (0.2125, 0.2125)     Shapes  "
      ]
     },
     "execution_count": 23,
     "metadata": {},
     "output_type": "execute_result"
    }
   ],
   "source": [
    "xd.annotations.demo2"
   ]
  },
  {
   "cell_type": "code",
   "execution_count": 24,
   "id": "e8189064",
   "metadata": {},
   "outputs": [
    {
     "data": {
      "text/plain": [
       "4921         Other\n",
       "4922         Other\n",
       "4923         Other\n",
       "4924         Other\n",
       "4925         Other\n",
       "            ...   \n",
       "165374    Negative\n",
       "165375    Negative\n",
       "165376    Negative\n",
       "165377    Negative\n",
       "165378    Negative\n",
       "Name: annotation-demo2, Length: 9431, dtype: object"
      ]
     },
     "execution_count": 24,
     "metadata": {},
     "output_type": "execute_result"
    }
   ],
   "source": [
    "xd.cells.matrix.obs[\"annotation-demo2\"][xd.cells.matrix.obs[\"annotation-demo2\"].notna()]"
   ]
  },
  {
   "cell_type": "markdown",
   "id": "2f209ebb",
   "metadata": {},
   "source": [
    "## Save imported annotations in `InSituPy` project"
   ]
  },
  {
   "cell_type": "code",
   "execution_count": 27,
   "id": "bd9034f1",
   "metadata": {},
   "outputs": [
    {
     "name": "stdout",
     "output_type": "stream",
     "text": [
      "Updating project in c:\\Users\\ge37voy\\Github\\InSituPy\\notebooks\\demo_dataset\\demo_insitupy_project\n",
      "\tUpdating cells...\n",
      "\tUpdating annotations...\n",
      "\tUpdating regions...\n",
      "Saved.\n",
      "Reloading following modalities: annotations,cells,images,regions\n",
      "Loading annotations...\n",
      "Loading cells...\n",
      "\tNo alternative cells found...\n",
      "Loading images...\n",
      "Loading regions...\n"
     ]
    }
   ],
   "source": [
    "xd.save()"
   ]
  },
  {
   "cell_type": "code",
   "execution_count": 33,
   "id": "c0c08037",
   "metadata": {},
   "outputs": [
    {
     "name": "stdout",
     "output_type": "stream",
     "text": [
      "Reloading following modalities: annotations,cells,images,regions\n",
      "Loading annotations...\n",
      "Scale inferred from file.\n",
      "Scale inferred from file.\n",
      "Scale inferred from file.\n",
      "Scale inferred from file.\n",
      "Loading cells...\n",
      "\tNo alternative cells found...\n",
      "Loading images...\n",
      "Loading regions...\n",
      "Scale inferred from file.\n",
      "Scale inferred from file.\n"
     ]
    }
   ],
   "source": [
    "xd.reload()"
   ]
  },
  {
   "cell_type": "code",
   "execution_count": 34,
   "id": "d5a1c47f",
   "metadata": {},
   "outputs": [
    {
     "data": {
      "text/plain": [
       "\u001b[1m\u001b[31mInSituData\u001b[0m\n",
       "\u001b[1mMethod:\u001b[0m\t\tXenium\n",
       "\u001b[1mSlide ID:\u001b[0m\t0001879\n",
       "\u001b[1mSample ID:\u001b[0m\tReplicate 1\n",
       "\u001b[1mPath:\u001b[0m\t\tC:\\Users\\ge37voy\\Github\\InSituPy\\notebooks\\demo_dataset\\demo_insitupy_project\n",
       "\u001b[1mMetadata file:\u001b[0m\t.ispy\n",
       "    ➤ \u001b[34m\u001b[1mimages\u001b[0m\n",
       "       \u001b[1mnuclei:\u001b[0m\t(25778, 35416)\n",
       "       \u001b[1mCD20:\u001b[0m\t(25778, 35416)\n",
       "       \u001b[1mHER2:\u001b[0m\t(25778, 35416)\n",
       "       \u001b[1mHE:\u001b[0m\t(25778, 35416, 3)\n",
       "    ➤\u001b[32m\u001b[1m cells\u001b[0m\n",
       "       \u001b[1mmatrix\u001b[0m\n",
       "           AnnData object with n_obs × n_vars = 167780 × 313\n",
       "           obs: 'transcript_counts', 'control_probe_counts', 'control_codeword_counts', 'total_counts', 'cell_area', 'nucleus_area', 'annotation-TestKey', 'annotation-demo', 'annotation-demo2', 'annotation-demo3'\n",
       "           var: 'gene_ids', 'feature_types', 'genome'\n",
       "           obsm: 'spatial'\n",
       "           varm: 'binned_expression'\n",
       "       \u001b[1mboundaries\u001b[0m\n",
       "           BoundariesData object with 2 entries:\n",
       "               \u001b[1mcellular\u001b[0m\n",
       "               \u001b[1mnuclear\u001b[0m\n",
       "    ➤ \u001b[36m\u001b[1mannotations\u001b[0m\n",
       "       \u001b[1mTestKey:\u001b[0m\t3 annotations, 1 class ('TestClass') ✔\n",
       "       \u001b[1mdemo:\u001b[0m\t4 annotations, 2 classes ('Positive','Negative') ✔\n",
       "       \u001b[1mdemo2:\u001b[0m\t5 annotations, 3 classes ('Negative','Positive','Other') ✔\n",
       "       \u001b[1mdemo3:\u001b[0m\t7 annotations, 5 classes ('Stroma','Necrosis','Immune cells','unclassified','Tumor') ✔\n",
       "    ➤ \u001b[33m\u001b[1mregions\u001b[0m\n",
       "       \u001b[1mdemo_regions:\u001b[0m\t3 regions, 3 classes ('Region1','Region2','Region3') \n",
       "       \u001b[1mTMA:\u001b[0m\t6 regions, 6 classes ('B-2','A-3','B-1','B-3','A-1','A-2') "
      ]
     },
     "execution_count": 34,
     "metadata": {},
     "output_type": "execute_result"
    }
   ],
   "source": [
    "xd"
   ]
  },
  {
   "cell_type": "code",
   "execution_count": 36,
   "id": "1e2041b8",
   "metadata": {},
   "outputs": [],
   "source": [
    "xd.show()"
   ]
  },
  {
   "cell_type": "code",
   "execution_count": 31,
   "id": "41c4e819",
   "metadata": {},
   "outputs": [],
   "source": [
    "from insitupy.io import parse_geopandas"
   ]
  },
  {
   "cell_type": "code",
   "execution_count": 32,
   "id": "9577ffc6",
   "metadata": {},
   "outputs": [
    {
     "data": {
      "text/html": [
       "<div>\n",
       "<style scoped>\n",
       "    .dataframe tbody tr th:only-of-type {\n",
       "        vertical-align: middle;\n",
       "    }\n",
       "\n",
       "    .dataframe tbody tr th {\n",
       "        vertical-align: top;\n",
       "    }\n",
       "\n",
       "    .dataframe thead th {\n",
       "        text-align: right;\n",
       "    }\n",
       "</style>\n",
       "<table border=\"1\" class=\"dataframe\">\n",
       "  <thead>\n",
       "    <tr style=\"text-align: right;\">\n",
       "      <th></th>\n",
       "      <th>objectType</th>\n",
       "      <th>origin</th>\n",
       "      <th>layer_type</th>\n",
       "      <th>geometry</th>\n",
       "      <th>name</th>\n",
       "      <th>scale</th>\n",
       "    </tr>\n",
       "    <tr>\n",
       "      <th>id</th>\n",
       "      <th></th>\n",
       "      <th></th>\n",
       "      <th></th>\n",
       "      <th></th>\n",
       "      <th></th>\n",
       "      <th></th>\n",
       "    </tr>\n",
       "  </thead>\n",
       "  <tbody>\n",
       "    <tr>\n",
       "      <th>2d0da635-c408-459f-9178-839097fe5a98</th>\n",
       "      <td>annotation</td>\n",
       "      <td>file</td>\n",
       "      <td>Shapes</td>\n",
       "      <td>POLYGON ((7362.00000 6221.00000, 10672.00000 6...</td>\n",
       "      <td>Region1</td>\n",
       "      <td>[0.2125, 0.2125]</td>\n",
       "    </tr>\n",
       "    <tr>\n",
       "      <th>ce6c2342-620d-4f44-be03-68a4454e9b33</th>\n",
       "      <td>annotation</td>\n",
       "      <td>file</td>\n",
       "      <td>Shapes</td>\n",
       "      <td>POLYGON ((21373.00000 6383.00000, 26418.00000 ...</td>\n",
       "      <td>Region2</td>\n",
       "      <td>[0.2125, 0.2125]</td>\n",
       "    </tr>\n",
       "    <tr>\n",
       "      <th>70a125ec-c53e-469b-8927-efe224e504c1</th>\n",
       "      <td>annotation</td>\n",
       "      <td>file</td>\n",
       "      <td>Shapes</td>\n",
       "      <td>POLYGON ((9933.00000 12745.00000, 15942.00000 ...</td>\n",
       "      <td>Region3</td>\n",
       "      <td>[0.2125, 0.2125]</td>\n",
       "    </tr>\n",
       "  </tbody>\n",
       "</table>\n",
       "</div>"
      ],
      "text/plain": [
       "                                      objectType origin layer_type  \\\n",
       "id                                                                   \n",
       "2d0da635-c408-459f-9178-839097fe5a98  annotation   file     Shapes   \n",
       "ce6c2342-620d-4f44-be03-68a4454e9b33  annotation   file     Shapes   \n",
       "70a125ec-c53e-469b-8927-efe224e504c1  annotation   file     Shapes   \n",
       "\n",
       "                                                                               geometry  \\\n",
       "id                                                                                        \n",
       "2d0da635-c408-459f-9178-839097fe5a98  POLYGON ((7362.00000 6221.00000, 10672.00000 6...   \n",
       "ce6c2342-620d-4f44-be03-68a4454e9b33  POLYGON ((21373.00000 6383.00000, 26418.00000 ...   \n",
       "70a125ec-c53e-469b-8927-efe224e504c1  POLYGON ((9933.00000 12745.00000, 15942.00000 ...   \n",
       "\n",
       "                                         name             scale  \n",
       "id                                                               \n",
       "2d0da635-c408-459f-9178-839097fe5a98  Region1  [0.2125, 0.2125]  \n",
       "ce6c2342-620d-4f44-be03-68a4454e9b33  Region2  [0.2125, 0.2125]  \n",
       "70a125ec-c53e-469b-8927-efe224e504c1  Region3  [0.2125, 0.2125]  "
      ]
     },
     "execution_count": 32,
     "metadata": {},
     "output_type": "execute_result"
    }
   ],
   "source": [
    "parse_geopandas(r\"C:\\Users\\ge37voy\\Github\\InSituPy\\notebooks\\demo_dataset\\demo_insitupy_project\\regions\\240826-161046413312-1a1dc42f\\demo_regions.geojson\")"
   ]
  },
  {
   "cell_type": "code",
   "execution_count": 30,
   "id": "4bc540d1",
   "metadata": {},
   "outputs": [
    {
     "data": {
      "text/html": [
       "<div>\n",
       "<style scoped>\n",
       "    .dataframe tbody tr th:only-of-type {\n",
       "        vertical-align: middle;\n",
       "    }\n",
       "\n",
       "    .dataframe tbody tr th {\n",
       "        vertical-align: top;\n",
       "    }\n",
       "\n",
       "    .dataframe thead th {\n",
       "        text-align: right;\n",
       "    }\n",
       "</style>\n",
       "<table border=\"1\" class=\"dataframe\">\n",
       "  <thead>\n",
       "    <tr style=\"text-align: right;\">\n",
       "      <th></th>\n",
       "      <th>objectType</th>\n",
       "      <th>origin</th>\n",
       "      <th>layer_type</th>\n",
       "      <th>geometry</th>\n",
       "      <th>name</th>\n",
       "      <th>color</th>\n",
       "      <th>scale</th>\n",
       "    </tr>\n",
       "    <tr>\n",
       "      <th>id</th>\n",
       "      <th></th>\n",
       "      <th></th>\n",
       "      <th></th>\n",
       "      <th></th>\n",
       "      <th></th>\n",
       "      <th></th>\n",
       "      <th></th>\n",
       "    </tr>\n",
       "  </thead>\n",
       "  <tbody>\n",
       "    <tr>\n",
       "      <th>bd3aacca-1716-4df8-91dd-bf8f6413a7bd</th>\n",
       "      <td>annotation</td>\n",
       "      <td>file</td>\n",
       "      <td>Shapes</td>\n",
       "      <td>POLYGON ((8863.00000 10814.00000, 8863.00000 1...</td>\n",
       "      <td>Positive</td>\n",
       "      <td>[250, 62, 62]</td>\n",
       "      <td>(1, 1)</td>\n",
       "    </tr>\n",
       "    <tr>\n",
       "      <th>69814505-4059-42cd-8df2-752f7eb0810d</th>\n",
       "      <td>annotation</td>\n",
       "      <td>file</td>\n",
       "      <td>Shapes</td>\n",
       "      <td>POLYGON ((13096.00000 12492.00000, 13072.40000...</td>\n",
       "      <td>Positive</td>\n",
       "      <td>[250, 62, 62]</td>\n",
       "      <td>(1, 1)</td>\n",
       "    </tr>\n",
       "    <tr>\n",
       "      <th>1957cd32-0a21-4b45-9dae-ecf236217140</th>\n",
       "      <td>annotation</td>\n",
       "      <td>file</td>\n",
       "      <td>Shapes</td>\n",
       "      <td>POLYGON ((30975.26000 22938.00000, 30982.00000...</td>\n",
       "      <td>Negative</td>\n",
       "      <td>[112, 112, 225]</td>\n",
       "      <td>(1, 1)</td>\n",
       "    </tr>\n",
       "    <tr>\n",
       "      <th>19d2197a-1b8e-456f-8223-fba74641ac1c</th>\n",
       "      <td>annotation</td>\n",
       "      <td>file</td>\n",
       "      <td>Shapes</td>\n",
       "      <td>POLYGON ((31165.00000 16408.00000, 31149.00000...</td>\n",
       "      <td>Negative</td>\n",
       "      <td>[112, 112, 225]</td>\n",
       "      <td>(1, 1)</td>\n",
       "    </tr>\n",
       "  </tbody>\n",
       "</table>\n",
       "</div>"
      ],
      "text/plain": [
       "                                      objectType origin layer_type  \\\n",
       "id                                                                   \n",
       "bd3aacca-1716-4df8-91dd-bf8f6413a7bd  annotation   file     Shapes   \n",
       "69814505-4059-42cd-8df2-752f7eb0810d  annotation   file     Shapes   \n",
       "1957cd32-0a21-4b45-9dae-ecf236217140  annotation   file     Shapes   \n",
       "19d2197a-1b8e-456f-8223-fba74641ac1c  annotation   file     Shapes   \n",
       "\n",
       "                                                                               geometry  \\\n",
       "id                                                                                        \n",
       "bd3aacca-1716-4df8-91dd-bf8f6413a7bd  POLYGON ((8863.00000 10814.00000, 8863.00000 1...   \n",
       "69814505-4059-42cd-8df2-752f7eb0810d  POLYGON ((13096.00000 12492.00000, 13072.40000...   \n",
       "1957cd32-0a21-4b45-9dae-ecf236217140  POLYGON ((30975.26000 22938.00000, 30982.00000...   \n",
       "19d2197a-1b8e-456f-8223-fba74641ac1c  POLYGON ((31165.00000 16408.00000, 31149.00000...   \n",
       "\n",
       "                                          name            color   scale  \n",
       "id                                                                       \n",
       "bd3aacca-1716-4df8-91dd-bf8f6413a7bd  Positive    [250, 62, 62]  (1, 1)  \n",
       "69814505-4059-42cd-8df2-752f7eb0810d  Positive    [250, 62, 62]  (1, 1)  \n",
       "1957cd32-0a21-4b45-9dae-ecf236217140  Negative  [112, 112, 225]  (1, 1)  \n",
       "19d2197a-1b8e-456f-8223-fba74641ac1c  Negative  [112, 112, 225]  (1, 1)  "
      ]
     },
     "execution_count": 30,
     "metadata": {},
     "output_type": "execute_result"
    }
   ],
   "source": [
    "xd.annotations.demo"
   ]
  },
  {
   "cell_type": "code",
   "execution_count": 29,
   "id": "c3418aeb",
   "metadata": {},
   "outputs": [
    {
     "data": {
      "text/html": [
       "<div>\n",
       "<style scoped>\n",
       "    .dataframe tbody tr th:only-of-type {\n",
       "        vertical-align: middle;\n",
       "    }\n",
       "\n",
       "    .dataframe tbody tr th {\n",
       "        vertical-align: top;\n",
       "    }\n",
       "\n",
       "    .dataframe thead th {\n",
       "        text-align: right;\n",
       "    }\n",
       "</style>\n",
       "<table border=\"1\" class=\"dataframe\">\n",
       "  <thead>\n",
       "    <tr style=\"text-align: right;\">\n",
       "      <th></th>\n",
       "      <th>objectType</th>\n",
       "      <th>origin</th>\n",
       "      <th>layer_type</th>\n",
       "      <th>geometry</th>\n",
       "      <th>name</th>\n",
       "      <th>scale</th>\n",
       "    </tr>\n",
       "    <tr>\n",
       "      <th>id</th>\n",
       "      <th></th>\n",
       "      <th></th>\n",
       "      <th></th>\n",
       "      <th></th>\n",
       "      <th></th>\n",
       "      <th></th>\n",
       "    </tr>\n",
       "  </thead>\n",
       "  <tbody>\n",
       "    <tr>\n",
       "      <th>2d0da635-c408-459f-9178-839097fe5a98</th>\n",
       "      <td>annotation</td>\n",
       "      <td>file</td>\n",
       "      <td>Shapes</td>\n",
       "      <td>POLYGON ((7362.00000 6221.00000, 10672.00000 6...</td>\n",
       "      <td>Region1</td>\n",
       "      <td>(1, 1)</td>\n",
       "    </tr>\n",
       "    <tr>\n",
       "      <th>ce6c2342-620d-4f44-be03-68a4454e9b33</th>\n",
       "      <td>annotation</td>\n",
       "      <td>file</td>\n",
       "      <td>Shapes</td>\n",
       "      <td>POLYGON ((21373.00000 6383.00000, 26418.00000 ...</td>\n",
       "      <td>Region2</td>\n",
       "      <td>(1, 1)</td>\n",
       "    </tr>\n",
       "    <tr>\n",
       "      <th>70a125ec-c53e-469b-8927-efe224e504c1</th>\n",
       "      <td>annotation</td>\n",
       "      <td>file</td>\n",
       "      <td>Shapes</td>\n",
       "      <td>POLYGON ((9933.00000 12745.00000, 15942.00000 ...</td>\n",
       "      <td>Region3</td>\n",
       "      <td>(1, 1)</td>\n",
       "    </tr>\n",
       "  </tbody>\n",
       "</table>\n",
       "</div>"
      ],
      "text/plain": [
       "                                      objectType origin layer_type  \\\n",
       "id                                                                   \n",
       "2d0da635-c408-459f-9178-839097fe5a98  annotation   file     Shapes   \n",
       "ce6c2342-620d-4f44-be03-68a4454e9b33  annotation   file     Shapes   \n",
       "70a125ec-c53e-469b-8927-efe224e504c1  annotation   file     Shapes   \n",
       "\n",
       "                                                                               geometry  \\\n",
       "id                                                                                        \n",
       "2d0da635-c408-459f-9178-839097fe5a98  POLYGON ((7362.00000 6221.00000, 10672.00000 6...   \n",
       "ce6c2342-620d-4f44-be03-68a4454e9b33  POLYGON ((21373.00000 6383.00000, 26418.00000 ...   \n",
       "70a125ec-c53e-469b-8927-efe224e504c1  POLYGON ((9933.00000 12745.00000, 15942.00000 ...   \n",
       "\n",
       "                                         name   scale  \n",
       "id                                                     \n",
       "2d0da635-c408-459f-9178-839097fe5a98  Region1  (1, 1)  \n",
       "ce6c2342-620d-4f44-be03-68a4454e9b33  Region2  (1, 1)  \n",
       "70a125ec-c53e-469b-8927-efe224e504c1  Region3  (1, 1)  "
      ]
     },
     "execution_count": 29,
     "metadata": {},
     "output_type": "execute_result"
    }
   ],
   "source": [
    "xd.regions.demo_regions"
   ]
  },
  {
   "cell_type": "code",
   "execution_count": null,
   "id": "b55beaca",
   "metadata": {},
   "outputs": [],
   "source": []
  },
  {
   "cell_type": "code",
   "execution_count": 30,
   "id": "200ecb34",
   "metadata": {},
   "outputs": [],
   "source": [
    "xd.show()"
   ]
  },
  {
   "cell_type": "code",
   "execution_count": 32,
   "id": "a8236cb9",
   "metadata": {},
   "outputs": [
    {
     "data": {
      "text/html": [
       "<div>\n",
       "<style scoped>\n",
       "    .dataframe tbody tr th:only-of-type {\n",
       "        vertical-align: middle;\n",
       "    }\n",
       "\n",
       "    .dataframe tbody tr th {\n",
       "        vertical-align: top;\n",
       "    }\n",
       "\n",
       "    .dataframe thead th {\n",
       "        text-align: right;\n",
       "    }\n",
       "</style>\n",
       "<table border=\"1\" class=\"dataframe\">\n",
       "  <thead>\n",
       "    <tr style=\"text-align: right;\">\n",
       "      <th></th>\n",
       "      <th>objectType</th>\n",
       "      <th>origin</th>\n",
       "      <th>layer_type</th>\n",
       "      <th>geometry</th>\n",
       "      <th>name</th>\n",
       "      <th>color</th>\n",
       "      <th>scale</th>\n",
       "    </tr>\n",
       "    <tr>\n",
       "      <th>id</th>\n",
       "      <th></th>\n",
       "      <th></th>\n",
       "      <th></th>\n",
       "      <th></th>\n",
       "      <th></th>\n",
       "      <th></th>\n",
       "      <th></th>\n",
       "    </tr>\n",
       "  </thead>\n",
       "  <tbody>\n",
       "    <tr>\n",
       "      <th>bd3aacca-1716-4df8-91dd-bf8f6413a7bd</th>\n",
       "      <td>annotation</td>\n",
       "      <td>file</td>\n",
       "      <td>Shapes</td>\n",
       "      <td>POLYGON ((8863.00000 10814.00000, 8863.00000 1...</td>\n",
       "      <td>Positive</td>\n",
       "      <td>[250, 62, 62]</td>\n",
       "      <td>(1, 1)</td>\n",
       "    </tr>\n",
       "    <tr>\n",
       "      <th>69814505-4059-42cd-8df2-752f7eb0810d</th>\n",
       "      <td>annotation</td>\n",
       "      <td>file</td>\n",
       "      <td>Shapes</td>\n",
       "      <td>POLYGON ((13096.00000 12492.00000, 13072.40000...</td>\n",
       "      <td>Positive</td>\n",
       "      <td>[250, 62, 62]</td>\n",
       "      <td>(1, 1)</td>\n",
       "    </tr>\n",
       "    <tr>\n",
       "      <th>1957cd32-0a21-4b45-9dae-ecf236217140</th>\n",
       "      <td>annotation</td>\n",
       "      <td>file</td>\n",
       "      <td>Shapes</td>\n",
       "      <td>POLYGON ((30975.26000 22938.00000, 30982.00000...</td>\n",
       "      <td>Negative</td>\n",
       "      <td>[112, 112, 225]</td>\n",
       "      <td>(1, 1)</td>\n",
       "    </tr>\n",
       "    <tr>\n",
       "      <th>19d2197a-1b8e-456f-8223-fba74641ac1c</th>\n",
       "      <td>annotation</td>\n",
       "      <td>file</td>\n",
       "      <td>Shapes</td>\n",
       "      <td>POLYGON ((31165.00000 16408.00000, 31149.00000...</td>\n",
       "      <td>Negative</td>\n",
       "      <td>[112, 112, 225]</td>\n",
       "      <td>(1, 1)</td>\n",
       "    </tr>\n",
       "  </tbody>\n",
       "</table>\n",
       "</div>"
      ],
      "text/plain": [
       "                                      objectType origin layer_type  \\\n",
       "id                                                                   \n",
       "bd3aacca-1716-4df8-91dd-bf8f6413a7bd  annotation   file     Shapes   \n",
       "69814505-4059-42cd-8df2-752f7eb0810d  annotation   file     Shapes   \n",
       "1957cd32-0a21-4b45-9dae-ecf236217140  annotation   file     Shapes   \n",
       "19d2197a-1b8e-456f-8223-fba74641ac1c  annotation   file     Shapes   \n",
       "\n",
       "                                                                               geometry  \\\n",
       "id                                                                                        \n",
       "bd3aacca-1716-4df8-91dd-bf8f6413a7bd  POLYGON ((8863.00000 10814.00000, 8863.00000 1...   \n",
       "69814505-4059-42cd-8df2-752f7eb0810d  POLYGON ((13096.00000 12492.00000, 13072.40000...   \n",
       "1957cd32-0a21-4b45-9dae-ecf236217140  POLYGON ((30975.26000 22938.00000, 30982.00000...   \n",
       "19d2197a-1b8e-456f-8223-fba74641ac1c  POLYGON ((31165.00000 16408.00000, 31149.00000...   \n",
       "\n",
       "                                          name            color   scale  \n",
       "id                                                                       \n",
       "bd3aacca-1716-4df8-91dd-bf8f6413a7bd  Positive    [250, 62, 62]  (1, 1)  \n",
       "69814505-4059-42cd-8df2-752f7eb0810d  Positive    [250, 62, 62]  (1, 1)  \n",
       "1957cd32-0a21-4b45-9dae-ecf236217140  Negative  [112, 112, 225]  (1, 1)  \n",
       "19d2197a-1b8e-456f-8223-fba74641ac1c  Negative  [112, 112, 225]  (1, 1)  "
      ]
     },
     "execution_count": 32,
     "metadata": {},
     "output_type": "execute_result"
    }
   ],
   "source": [
    "xd.annotations.demo"
   ]
  },
  {
   "cell_type": "code",
   "execution_count": 123,
   "id": "bc5854d4",
   "metadata": {},
   "outputs": [
    {
     "name": "stdout",
     "output_type": "stream",
     "text": [
      "Reloading following modalities: annotations,cells,images,regions\n",
      "Loading annotations...\n"
     ]
    },
    {
     "name": "stderr",
     "output_type": "stream",
     "text": [
      "[autoreload of insitupy.io.geo failed: Traceback (most recent call last):\n",
      "  File \"c:\\Users\\ge37voy\\AppData\\Local\\miniconda3\\envs\\insitupy\\lib\\site-packages\\IPython\\extensions\\autoreload.py\", line 276, in check\n",
      "    superreload(m, reload, self.old_objects)\n",
      "  File \"c:\\Users\\ge37voy\\AppData\\Local\\miniconda3\\envs\\insitupy\\lib\\site-packages\\IPython\\extensions\\autoreload.py\", line 475, in superreload\n",
      "    module = reload(module)\n",
      "  File \"c:\\Users\\ge37voy\\AppData\\Local\\miniconda3\\envs\\insitupy\\lib\\importlib\\__init__.py\", line 169, in reload\n",
      "    _bootstrap._exec(spec, module)\n",
      "  File \"<frozen importlib._bootstrap>\", line 613, in _exec\n",
      "  File \"<frozen importlib._bootstrap_external>\", line 850, in exec_module\n",
      "  File \"<frozen importlib._bootstrap>\", line 228, in _call_with_frames_removed\n",
      "  File \"C:\\Users\\ge37voy\\Github\\InSituPy\\insitupy\\io\\geo.py\", line 10, in <module>\n",
      "    from ..utils.utils import convert_list_like_entries_to_tuple\n",
      "ImportError: cannot import name 'convert_list_like_entries_to_tuple' from 'insitupy.utils.utils' (C:\\Users\\ge37voy\\Github\\InSituPy\\insitupy\\utils\\utils.py)\n",
      "]\n"
     ]
    },
    {
     "name": "stdout",
     "output_type": "stream",
     "text": [
      "Loading cells...\n",
      "\tNo alternative cells found...\n",
      "Loading images...\n",
      "Loading regions...\n"
     ]
    }
   ],
   "source": [
    "xd.reload()"
   ]
  },
  {
   "cell_type": "code",
   "execution_count": 124,
   "id": "2d33d64d",
   "metadata": {},
   "outputs": [
    {
     "data": {
      "text/plain": [
       "\u001b[1m\u001b[31mInSituData\u001b[0m\n",
       "\u001b[1mMethod:\u001b[0m\t\tXenium\n",
       "\u001b[1mSlide ID:\u001b[0m\t0001879\n",
       "\u001b[1mSample ID:\u001b[0m\tReplicate 1\n",
       "\u001b[1mPath:\u001b[0m\t\tC:\\Users\\ge37voy\\Github\\InSituPy\\notebooks\\demo_dataset\\demo_insitupy_project\n",
       "\u001b[1mMetadata file:\u001b[0m\t.ispy\n",
       "    ➤ \u001b[34m\u001b[1mimages\u001b[0m\n",
       "       \u001b[1mnuclei:\u001b[0m\t(25778, 35416)\n",
       "       \u001b[1mCD20:\u001b[0m\t(25778, 35416)\n",
       "       \u001b[1mHER2:\u001b[0m\t(25778, 35416)\n",
       "       \u001b[1mHE:\u001b[0m\t(25778, 35416, 3)\n",
       "    ➤\u001b[32m\u001b[1m cells\u001b[0m\n",
       "       \u001b[1mmatrix\u001b[0m\n",
       "           AnnData object with n_obs × n_vars = 167780 × 313\n",
       "           obs: 'transcript_counts', 'control_probe_counts', 'control_codeword_counts', 'total_counts', 'cell_area', 'nucleus_area', 'annotation-TestKey', 'annotation-demo', 'annotation-demo2', 'annotation-demo3'\n",
       "           var: 'gene_ids', 'feature_types', 'genome'\n",
       "           obsm: 'spatial'\n",
       "           varm: 'binned_expression'\n",
       "       \u001b[1mboundaries\u001b[0m\n",
       "           BoundariesData object with 2 entries:\n",
       "               \u001b[1mcellular\u001b[0m\n",
       "               \u001b[1mnuclear\u001b[0m\n",
       "    ➤ \u001b[36m\u001b[1mannotations\u001b[0m\n",
       "       \u001b[1mTestKey:\u001b[0m\t3 annotations, 1 class ('TestClass') ✔\n",
       "       \u001b[1mdemo:\u001b[0m\t4 annotations, 2 classes ('Positive','Negative') ✔\n",
       "       \u001b[1mdemo2:\u001b[0m\t5 annotations, 3 classes ('Negative','Positive','Other') ✔\n",
       "       \u001b[1mdemo3:\u001b[0m\t7 annotations, 5 classes ('Stroma','Necrosis','Immune cells','unclassified','Tumor') ✔\n",
       "    ➤ \u001b[33m\u001b[1mregions\u001b[0m\n",
       "       \u001b[1mdemo_regions:\u001b[0m\t3 regions, 3 classes ('Region1','Region2','Region3') \n",
       "       \u001b[1mTMA:\u001b[0m\t6 regions, 6 classes ('B-2','A-3','B-1','B-3','A-1','A-2') "
      ]
     },
     "execution_count": 124,
     "metadata": {},
     "output_type": "execute_result"
    }
   ],
   "source": [
    "xd"
   ]
  },
  {
   "cell_type": "code",
   "execution_count": 125,
   "id": "aec32282",
   "metadata": {},
   "outputs": [],
   "source": [
    "xd.show()"
   ]
  },
  {
   "cell_type": "code",
   "execution_count": null,
   "id": "5b226ad0",
   "metadata": {},
   "outputs": [
    {
     "data": {
      "text/html": [
       "<div>\n",
       "<style scoped>\n",
       "    .dataframe tbody tr th:only-of-type {\n",
       "        vertical-align: middle;\n",
       "    }\n",
       "\n",
       "    .dataframe tbody tr th {\n",
       "        vertical-align: top;\n",
       "    }\n",
       "\n",
       "    .dataframe thead th {\n",
       "        text-align: right;\n",
       "    }\n",
       "</style>\n",
       "<table border=\"1\" class=\"dataframe\">\n",
       "  <thead>\n",
       "    <tr style=\"text-align: right;\">\n",
       "      <th></th>\n",
       "      <th>objectType</th>\n",
       "      <th>geometry</th>\n",
       "      <th>name</th>\n",
       "      <th>color</th>\n",
       "      <th>origin</th>\n",
       "      <th>scale</th>\n",
       "      <th>layer_type</th>\n",
       "    </tr>\n",
       "    <tr>\n",
       "      <th>id</th>\n",
       "      <th></th>\n",
       "      <th></th>\n",
       "      <th></th>\n",
       "      <th></th>\n",
       "      <th></th>\n",
       "      <th></th>\n",
       "      <th></th>\n",
       "    </tr>\n",
       "  </thead>\n",
       "  <tbody>\n",
       "    <tr>\n",
       "      <th>bd3aacca-1716-4df8-91dd-bf8f6413a7bd</th>\n",
       "      <td>annotation</td>\n",
       "      <td>POLYGON ((8863.00000 10814.00000, 8863.00000 1...</td>\n",
       "      <td>Positive</td>\n",
       "      <td>[250, 62, 62]</td>\n",
       "      <td>file</td>\n",
       "      <td>(0.2125, 0.2125)</td>\n",
       "      <td>Shapes</td>\n",
       "    </tr>\n",
       "    <tr>\n",
       "      <th>69814505-4059-42cd-8df2-752f7eb0810d</th>\n",
       "      <td>annotation</td>\n",
       "      <td>POLYGON ((13096.00000 12492.00000, 13072.40000...</td>\n",
       "      <td>Positive</td>\n",
       "      <td>[250, 62, 62]</td>\n",
       "      <td>file</td>\n",
       "      <td>(0.2125, 0.2125)</td>\n",
       "      <td>Shapes</td>\n",
       "    </tr>\n",
       "    <tr>\n",
       "      <th>1957cd32-0a21-4b45-9dae-ecf236217140</th>\n",
       "      <td>annotation</td>\n",
       "      <td>POLYGON ((30975.26000 22938.00000, 30982.00000...</td>\n",
       "      <td>Negative</td>\n",
       "      <td>[112, 112, 225]</td>\n",
       "      <td>file</td>\n",
       "      <td>(0.2125, 0.2125)</td>\n",
       "      <td>Shapes</td>\n",
       "    </tr>\n",
       "    <tr>\n",
       "      <th>19d2197a-1b8e-456f-8223-fba74641ac1c</th>\n",
       "      <td>annotation</td>\n",
       "      <td>POLYGON ((31165.00000 16408.00000, 31149.00000...</td>\n",
       "      <td>Negative</td>\n",
       "      <td>[112, 112, 225]</td>\n",
       "      <td>file</td>\n",
       "      <td>(0.2125, 0.2125)</td>\n",
       "      <td>Shapes</td>\n",
       "    </tr>\n",
       "  </tbody>\n",
       "</table>\n",
       "</div>"
      ],
      "text/plain": [
       "                                      objectType  \\\n",
       "id                                                 \n",
       "bd3aacca-1716-4df8-91dd-bf8f6413a7bd  annotation   \n",
       "69814505-4059-42cd-8df2-752f7eb0810d  annotation   \n",
       "1957cd32-0a21-4b45-9dae-ecf236217140  annotation   \n",
       "19d2197a-1b8e-456f-8223-fba74641ac1c  annotation   \n",
       "\n",
       "                                                                               geometry  \\\n",
       "id                                                                                        \n",
       "bd3aacca-1716-4df8-91dd-bf8f6413a7bd  POLYGON ((8863.00000 10814.00000, 8863.00000 1...   \n",
       "69814505-4059-42cd-8df2-752f7eb0810d  POLYGON ((13096.00000 12492.00000, 13072.40000...   \n",
       "1957cd32-0a21-4b45-9dae-ecf236217140  POLYGON ((30975.26000 22938.00000, 30982.00000...   \n",
       "19d2197a-1b8e-456f-8223-fba74641ac1c  POLYGON ((31165.00000 16408.00000, 31149.00000...   \n",
       "\n",
       "                                          name            color origin  \\\n",
       "id                                                                       \n",
       "bd3aacca-1716-4df8-91dd-bf8f6413a7bd  Positive    [250, 62, 62]   file   \n",
       "69814505-4059-42cd-8df2-752f7eb0810d  Positive    [250, 62, 62]   file   \n",
       "1957cd32-0a21-4b45-9dae-ecf236217140  Negative  [112, 112, 225]   file   \n",
       "19d2197a-1b8e-456f-8223-fba74641ac1c  Negative  [112, 112, 225]   file   \n",
       "\n",
       "                                                 scale layer_type  \n",
       "id                                                                 \n",
       "bd3aacca-1716-4df8-91dd-bf8f6413a7bd  (0.2125, 0.2125)     Shapes  \n",
       "69814505-4059-42cd-8df2-752f7eb0810d  (0.2125, 0.2125)     Shapes  \n",
       "1957cd32-0a21-4b45-9dae-ecf236217140  (0.2125, 0.2125)     Shapes  \n",
       "19d2197a-1b8e-456f-8223-fba74641ac1c  (0.2125, 0.2125)     Shapes  "
      ]
     },
     "metadata": {},
     "output_type": "display_data"
    }
   ],
   "source": [
    "xd.annotations.demo"
   ]
  },
  {
   "cell_type": "code",
   "execution_count": 126,
   "id": "80834d05",
   "metadata": {},
   "outputs": [
    {
     "data": {
      "text/html": [
       "<div>\n",
       "<style scoped>\n",
       "    .dataframe tbody tr th:only-of-type {\n",
       "        vertical-align: middle;\n",
       "    }\n",
       "\n",
       "    .dataframe tbody tr th {\n",
       "        vertical-align: top;\n",
       "    }\n",
       "\n",
       "    .dataframe thead th {\n",
       "        text-align: right;\n",
       "    }\n",
       "</style>\n",
       "<table border=\"1\" class=\"dataframe\">\n",
       "  <thead>\n",
       "    <tr style=\"text-align: right;\">\n",
       "      <th></th>\n",
       "      <th>objectType</th>\n",
       "      <th>origin</th>\n",
       "      <th>layer_type</th>\n",
       "      <th>geometry</th>\n",
       "      <th>name</th>\n",
       "      <th>color</th>\n",
       "      <th>scale</th>\n",
       "    </tr>\n",
       "    <tr>\n",
       "      <th>id</th>\n",
       "      <th></th>\n",
       "      <th></th>\n",
       "      <th></th>\n",
       "      <th></th>\n",
       "      <th></th>\n",
       "      <th></th>\n",
       "      <th></th>\n",
       "    </tr>\n",
       "  </thead>\n",
       "  <tbody>\n",
       "    <tr>\n",
       "      <th>bd3aacca-1716-4df8-91dd-bf8f6413a7bd</th>\n",
       "      <td>annotation</td>\n",
       "      <td>file</td>\n",
       "      <td>Shapes</td>\n",
       "      <td>POLYGON ((8863.00000 10814.00000, 8863.00000 1...</td>\n",
       "      <td>Positive</td>\n",
       "      <td>[250, 62, 62]</td>\n",
       "      <td>(1, 1)</td>\n",
       "    </tr>\n",
       "    <tr>\n",
       "      <th>69814505-4059-42cd-8df2-752f7eb0810d</th>\n",
       "      <td>annotation</td>\n",
       "      <td>file</td>\n",
       "      <td>Shapes</td>\n",
       "      <td>POLYGON ((13096.00000 12492.00000, 13072.40000...</td>\n",
       "      <td>Positive</td>\n",
       "      <td>[250, 62, 62]</td>\n",
       "      <td>(1, 1)</td>\n",
       "    </tr>\n",
       "    <tr>\n",
       "      <th>1957cd32-0a21-4b45-9dae-ecf236217140</th>\n",
       "      <td>annotation</td>\n",
       "      <td>file</td>\n",
       "      <td>Shapes</td>\n",
       "      <td>POLYGON ((30975.26000 22938.00000, 30982.00000...</td>\n",
       "      <td>Negative</td>\n",
       "      <td>[112, 112, 225]</td>\n",
       "      <td>(1, 1)</td>\n",
       "    </tr>\n",
       "    <tr>\n",
       "      <th>19d2197a-1b8e-456f-8223-fba74641ac1c</th>\n",
       "      <td>annotation</td>\n",
       "      <td>file</td>\n",
       "      <td>Shapes</td>\n",
       "      <td>POLYGON ((31165.00000 16408.00000, 31149.00000...</td>\n",
       "      <td>Negative</td>\n",
       "      <td>[112, 112, 225]</td>\n",
       "      <td>(1, 1)</td>\n",
       "    </tr>\n",
       "  </tbody>\n",
       "</table>\n",
       "</div>"
      ],
      "text/plain": [
       "                                      objectType origin layer_type  \\\n",
       "id                                                                   \n",
       "bd3aacca-1716-4df8-91dd-bf8f6413a7bd  annotation   file     Shapes   \n",
       "69814505-4059-42cd-8df2-752f7eb0810d  annotation   file     Shapes   \n",
       "1957cd32-0a21-4b45-9dae-ecf236217140  annotation   file     Shapes   \n",
       "19d2197a-1b8e-456f-8223-fba74641ac1c  annotation   file     Shapes   \n",
       "\n",
       "                                                                               geometry  \\\n",
       "id                                                                                        \n",
       "bd3aacca-1716-4df8-91dd-bf8f6413a7bd  POLYGON ((8863.00000 10814.00000, 8863.00000 1...   \n",
       "69814505-4059-42cd-8df2-752f7eb0810d  POLYGON ((13096.00000 12492.00000, 13072.40000...   \n",
       "1957cd32-0a21-4b45-9dae-ecf236217140  POLYGON ((30975.26000 22938.00000, 30982.00000...   \n",
       "19d2197a-1b8e-456f-8223-fba74641ac1c  POLYGON ((31165.00000 16408.00000, 31149.00000...   \n",
       "\n",
       "                                          name            color   scale  \n",
       "id                                                                       \n",
       "bd3aacca-1716-4df8-91dd-bf8f6413a7bd  Positive    [250, 62, 62]  (1, 1)  \n",
       "69814505-4059-42cd-8df2-752f7eb0810d  Positive    [250, 62, 62]  (1, 1)  \n",
       "1957cd32-0a21-4b45-9dae-ecf236217140  Negative  [112, 112, 225]  (1, 1)  \n",
       "19d2197a-1b8e-456f-8223-fba74641ac1c  Negative  [112, 112, 225]  (1, 1)  "
      ]
     },
     "execution_count": 126,
     "metadata": {},
     "output_type": "execute_result"
    }
   ],
   "source": [
    "xd.annotations.demo"
   ]
  }
 ],
 "metadata": {
  "kernelspec": {
   "display_name": "insitupy",
   "language": "python",
   "name": "python3"
  },
  "language_info": {
   "codemirror_mode": {
    "name": "ipython",
    "version": 3
   },
   "file_extension": ".py",
   "mimetype": "text/x-python",
   "name": "python",
   "nbconvert_exporter": "python",
   "pygments_lexer": "ipython3",
   "version": "3.9.18"
  }
 },
 "nbformat": 4,
 "nbformat_minor": 5
}
