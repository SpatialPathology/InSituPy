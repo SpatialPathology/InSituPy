{
 "cells": [
  {
   "cell_type": "markdown",
   "id": "b16df72d-5dd5-47da-a8c3-b569fe97446b",
   "metadata": {
    "tags": []
   },
   "source": [
    "# InSituPy demonstration - Add annotations"
   ]
  },
  {
   "cell_type": "code",
   "execution_count": 1,
   "id": "8bc0c4ed-3587-460e-98d2-6626a020a327",
   "metadata": {},
   "outputs": [],
   "source": [
    "## The following code ensures that all functions and init files are reloaded before executions.\n",
    "%load_ext autoreload\n",
    "%autoreload 2"
   ]
  },
  {
   "cell_type": "code",
   "execution_count": 2,
   "id": "58107e0b-5017-425b-8cd0-9274be2b8253",
   "metadata": {},
   "outputs": [],
   "source": [
    "from pathlib import Path\n",
    "from insitupy import read_xenium"
   ]
  },
  {
   "cell_type": "markdown",
   "id": "db038252",
   "metadata": {},
   "source": [
    "## Previous steps\n",
    "\n",
    "1. Download the example data for demonstration: [01_InSituPy_demo_download_data.ipynb](./01_InSituPy_demo_download_data.ipynb)\n",
    "2. Register images from external stainings: [02_InSituPy_demo_register_images.ipynb](./02_InSituPy_demo_register_images.ipynb)\n",
    "3. Visualize data with napari and do preprocessing steps: [03_InSituPy_demo_analyze.ipynb](./03_InSituPy_demo_analyze.ipynb)\n",
    "\n",
    "At this point, the structure of the data should look like this:\n",
    "\n",
    "    ```\n",
    "    ./demo_dataset\n",
    "    ├───cropped_processed\n",
    "    ├───output-XETG00000__slide_id__sample_id\n",
    "    │   ├───analysis\n",
    "    │   │   ├───clustering\n",
    "    │   │   ├───diffexp\n",
    "    │   │   ├───pca\n",
    "    │   │   ├───tsne\n",
    "    │   │   └───umap\n",
    "    │   └───cell_feature_matrix\n",
    "    ├───registered_images\n",
    "    ├───registration_qc\n",
    "    └───unregistered_images\n",
    "    ```\n"
   ]
  },
  {
   "cell_type": "markdown",
   "id": "ae409a19",
   "metadata": {},
   "source": [
    "## Load Xenium data into `XeniumData` object\n",
    "\n",
    "Now the Xenium data can be parsed by providing the data path to `XeniumData`"
   ]
  },
  {
   "cell_type": "code",
   "execution_count": 3,
   "id": "2db31fb9",
   "metadata": {},
   "outputs": [],
   "source": [
    "insitupy_project = Path(\"demo_dataset/demo_insitupy_project\")"
   ]
  },
  {
   "cell_type": "code",
   "execution_count": 4,
   "id": "188ddb98",
   "metadata": {},
   "outputs": [],
   "source": [
    "xd = read_xenium(insitupy_project)"
   ]
  },
  {
   "cell_type": "code",
   "execution_count": 5,
   "id": "22afdac4",
   "metadata": {},
   "outputs": [
    {
     "data": {
      "text/plain": [
       "\u001b[1m\u001b[31mInSituData\u001b[0m\n",
       "\u001b[1mMethod:\u001b[0m\t\tXenium\n",
       "\u001b[1mSlide ID:\u001b[0m\t0001879\n",
       "\u001b[1mSample ID:\u001b[0m\tReplicate 1\n",
       "\u001b[1mPath:\u001b[0m\t\tC:\\Users\\ge37voy\\Github\\InSituPy\\notebooks\\demo_dataset\\demo_insitupy_project\n",
       "\u001b[1mMetadata file:\u001b[0m\t.ispy"
      ]
     },
     "execution_count": 5,
     "metadata": {},
     "output_type": "execute_result"
    }
   ],
   "source": [
    "xd"
   ]
  },
  {
   "cell_type": "code",
   "execution_count": 6,
   "id": "ae606b79",
   "metadata": {},
   "outputs": [
    {
     "name": "stdout",
     "output_type": "stream",
     "text": [
      "Loading images...\n",
      "Loading cells...\n",
      "\tNo alternative cells found...\n"
     ]
    }
   ],
   "source": [
    "xd.load_images()\n",
    "xd.load_cells()"
   ]
  },
  {
   "cell_type": "markdown",
   "id": "a7cc74ee",
   "metadata": {},
   "source": [
    "Note: That the `annotations` and `regions` modalities are not found here is expected. Annotations and regions are added in a later step."
   ]
  },
  {
   "cell_type": "code",
   "execution_count": 7,
   "id": "7a864387",
   "metadata": {},
   "outputs": [
    {
     "data": {
      "text/plain": [
       "\u001b[1m\u001b[31mInSituData\u001b[0m\n",
       "\u001b[1mMethod:\u001b[0m\t\tXenium\n",
       "\u001b[1mSlide ID:\u001b[0m\t0001879\n",
       "\u001b[1mSample ID:\u001b[0m\tReplicate 1\n",
       "\u001b[1mPath:\u001b[0m\t\tC:\\Users\\ge37voy\\Github\\InSituPy\\notebooks\\demo_dataset\\demo_insitupy_project\n",
       "\u001b[1mMetadata file:\u001b[0m\t.ispy\n",
       "    ➤ \u001b[34m\u001b[1mimages\u001b[0m\n",
       "       \u001b[1mnuclei:\u001b[0m\t(25778, 35416)\n",
       "       \u001b[1mCD20:\u001b[0m\t(25778, 35416)\n",
       "       \u001b[1mHER2:\u001b[0m\t(25778, 35416)\n",
       "       \u001b[1mHE:\u001b[0m\t(25778, 35416, 3)\n",
       "    ➤\u001b[32m\u001b[1m cells\u001b[0m\n",
       "       \u001b[1mmatrix\u001b[0m\n",
       "           AnnData object with n_obs × n_vars = 167780 × 313\n",
       "           obs: 'transcript_counts', 'control_probe_counts', 'control_codeword_counts', 'total_counts', 'cell_area', 'nucleus_area', 'annotation-demo', 'annotation-demo2', 'dist_from_points'\n",
       "           var: 'gene_ids', 'feature_types', 'genome'\n",
       "           obsm: 'spatial'\n",
       "           varm: 'binned_expression'\n",
       "       \u001b[1mboundaries\u001b[0m\n",
       "           BoundariesData object with 2 entries:\n",
       "               \u001b[1mcellular\u001b[0m\n",
       "               \u001b[1mnuclear\u001b[0m"
      ]
     },
     "execution_count": 7,
     "metadata": {},
     "output_type": "execute_result"
    }
   ],
   "source": [
    "xd"
   ]
  },
  {
   "cell_type": "markdown",
   "id": "ff939c38",
   "metadata": {},
   "source": [
    "## Load annotations\n",
    "\n",
    "For the analysis of spatial transcriptomic datasets the inclusion of annotations from experts of disease pathology is key. Here, we demonstrate how to annotate data in [QuPath](https://qupath.github.io/), export the annotations as `.geojson` file and import them into the `XeniumData` object.\n",
    "\n",
    "### Create annotations in QuPath\n",
    "\n",
    "To create annotations in QuPath, follow these steps:\n",
    "\n",
    "1. Select a annotation tool from the bar on the top left:\n",
    "\n",
    "<center><img src=\"./demo_annotations/qupath_annotation_buttons.jpg\" width=\"300\"/></center>\n",
    "\n",
    "2. Add as many annotations as you want and label them by setting classes in the annotation list. Do not forget to press the \"Set class\" button:\n",
    "\n",
    "<center><img src=\"./demo_annotations/qupath_annotation_list.jpg\" width=\"350\"/></center>\n",
    "\n",
    "3. Export annotations using `File > Export objects as GeoJSON`. Tick `Pretty JSON` to get an easily readable JSON file. The file name needs to have following structure: `annotation-{slide_id}__{sample_id}__{annotation_label}`.\n",
    "\n",
    "### Import annotations into `XeniumData`\n",
    "\n",
    "For demonstration purposes, we created a dummy annotation file in `./demo_annotations/`. To add the annotations to `XeniumData` follow the steps below.\n",
    "\n"
   ]
  },
  {
   "cell_type": "code",
   "execution_count": 8,
   "id": "b69521c6",
   "metadata": {},
   "outputs": [
    {
     "name": "stdout",
     "output_type": "stream",
     "text": [
      "Importing annotations...\n"
     ]
    }
   ],
   "source": [
    "xd.import_annotations(\n",
    "    files=[\n",
    "        \"./demo_annotations/annotations-0001879__Replicate 1__demo.geojson\",\n",
    "        \"./demo_annotations/annotations-0001879__Replicate 1__demo2.geojson\",\n",
    "        \"./demo_annotations/annotations-mixed_types.geojson\"\n",
    "           ],\n",
    "    keys=[\"demo\", \"demo2\", \"demo3\"]\n",
    "    )"
   ]
  },
  {
   "cell_type": "code",
   "execution_count": 9,
   "id": "b05d031f",
   "metadata": {},
   "outputs": [
    {
     "data": {
      "text/html": [
       "<div>\n",
       "<style scoped>\n",
       "    .dataframe tbody tr th:only-of-type {\n",
       "        vertical-align: middle;\n",
       "    }\n",
       "\n",
       "    .dataframe tbody tr th {\n",
       "        vertical-align: top;\n",
       "    }\n",
       "\n",
       "    .dataframe thead th {\n",
       "        text-align: right;\n",
       "    }\n",
       "</style>\n",
       "<table border=\"1\" class=\"dataframe\">\n",
       "  <thead>\n",
       "    <tr style=\"text-align: right;\">\n",
       "      <th></th>\n",
       "      <th>objectType</th>\n",
       "      <th>geometry</th>\n",
       "      <th>name</th>\n",
       "      <th>color</th>\n",
       "      <th>origin</th>\n",
       "      <th>scale</th>\n",
       "      <th>layer_type</th>\n",
       "    </tr>\n",
       "    <tr>\n",
       "      <th>id</th>\n",
       "      <th></th>\n",
       "      <th></th>\n",
       "      <th></th>\n",
       "      <th></th>\n",
       "      <th></th>\n",
       "      <th></th>\n",
       "      <th></th>\n",
       "    </tr>\n",
       "  </thead>\n",
       "  <tbody>\n",
       "    <tr>\n",
       "      <th>bd3aacca-1716-4df8-91dd-bf8f6413a7bd</th>\n",
       "      <td>annotation</td>\n",
       "      <td>POLYGON ((8863.00000 10814.00000, 8863.00000 1...</td>\n",
       "      <td>Positive</td>\n",
       "      <td>[250, 62, 62]</td>\n",
       "      <td>file</td>\n",
       "      <td>(0.2125, 0.2125)</td>\n",
       "      <td>Shapes</td>\n",
       "    </tr>\n",
       "    <tr>\n",
       "      <th>69814505-4059-42cd-8df2-752f7eb0810d</th>\n",
       "      <td>annotation</td>\n",
       "      <td>POLYGON ((13096.00000 12492.00000, 13072.40000...</td>\n",
       "      <td>Positive</td>\n",
       "      <td>[250, 62, 62]</td>\n",
       "      <td>file</td>\n",
       "      <td>(0.2125, 0.2125)</td>\n",
       "      <td>Shapes</td>\n",
       "    </tr>\n",
       "    <tr>\n",
       "      <th>1957cd32-0a21-4b45-9dae-ecf236217140</th>\n",
       "      <td>annotation</td>\n",
       "      <td>POLYGON ((30975.26000 22938.00000, 30982.00000...</td>\n",
       "      <td>Negative</td>\n",
       "      <td>[112, 112, 225]</td>\n",
       "      <td>file</td>\n",
       "      <td>(0.2125, 0.2125)</td>\n",
       "      <td>Shapes</td>\n",
       "    </tr>\n",
       "    <tr>\n",
       "      <th>19d2197a-1b8e-456f-8223-fba74641ac1c</th>\n",
       "      <td>annotation</td>\n",
       "      <td>POLYGON ((31165.00000 16408.00000, 31149.00000...</td>\n",
       "      <td>Negative</td>\n",
       "      <td>[112, 112, 225]</td>\n",
       "      <td>file</td>\n",
       "      <td>(0.2125, 0.2125)</td>\n",
       "      <td>Shapes</td>\n",
       "    </tr>\n",
       "  </tbody>\n",
       "</table>\n",
       "</div>"
      ],
      "text/plain": [
       "                                      objectType  \\\n",
       "id                                                 \n",
       "bd3aacca-1716-4df8-91dd-bf8f6413a7bd  annotation   \n",
       "69814505-4059-42cd-8df2-752f7eb0810d  annotation   \n",
       "1957cd32-0a21-4b45-9dae-ecf236217140  annotation   \n",
       "19d2197a-1b8e-456f-8223-fba74641ac1c  annotation   \n",
       "\n",
       "                                                                               geometry  \\\n",
       "id                                                                                        \n",
       "bd3aacca-1716-4df8-91dd-bf8f6413a7bd  POLYGON ((8863.00000 10814.00000, 8863.00000 1...   \n",
       "69814505-4059-42cd-8df2-752f7eb0810d  POLYGON ((13096.00000 12492.00000, 13072.40000...   \n",
       "1957cd32-0a21-4b45-9dae-ecf236217140  POLYGON ((30975.26000 22938.00000, 30982.00000...   \n",
       "19d2197a-1b8e-456f-8223-fba74641ac1c  POLYGON ((31165.00000 16408.00000, 31149.00000...   \n",
       "\n",
       "                                          name            color origin  \\\n",
       "id                                                                       \n",
       "bd3aacca-1716-4df8-91dd-bf8f6413a7bd  Positive    [250, 62, 62]   file   \n",
       "69814505-4059-42cd-8df2-752f7eb0810d  Positive    [250, 62, 62]   file   \n",
       "1957cd32-0a21-4b45-9dae-ecf236217140  Negative  [112, 112, 225]   file   \n",
       "19d2197a-1b8e-456f-8223-fba74641ac1c  Negative  [112, 112, 225]   file   \n",
       "\n",
       "                                                 scale layer_type  \n",
       "id                                                                 \n",
       "bd3aacca-1716-4df8-91dd-bf8f6413a7bd  (0.2125, 0.2125)     Shapes  \n",
       "69814505-4059-42cd-8df2-752f7eb0810d  (0.2125, 0.2125)     Shapes  \n",
       "1957cd32-0a21-4b45-9dae-ecf236217140  (0.2125, 0.2125)     Shapes  \n",
       "19d2197a-1b8e-456f-8223-fba74641ac1c  (0.2125, 0.2125)     Shapes  "
      ]
     },
     "execution_count": 9,
     "metadata": {},
     "output_type": "execute_result"
    }
   ],
   "source": [
    "xd.annotations.demo"
   ]
  },
  {
   "cell_type": "code",
   "execution_count": 10,
   "id": "e84ea6d2",
   "metadata": {},
   "outputs": [
    {
     "data": {
      "text/html": [
       "<div>\n",
       "<style scoped>\n",
       "    .dataframe tbody tr th:only-of-type {\n",
       "        vertical-align: middle;\n",
       "    }\n",
       "\n",
       "    .dataframe tbody tr th {\n",
       "        vertical-align: top;\n",
       "    }\n",
       "\n",
       "    .dataframe thead th {\n",
       "        text-align: right;\n",
       "    }\n",
       "</style>\n",
       "<table border=\"1\" class=\"dataframe\">\n",
       "  <thead>\n",
       "    <tr style=\"text-align: right;\">\n",
       "      <th></th>\n",
       "      <th>objectType</th>\n",
       "      <th>geometry</th>\n",
       "      <th>name</th>\n",
       "      <th>color</th>\n",
       "      <th>origin</th>\n",
       "      <th>scale</th>\n",
       "      <th>layer_type</th>\n",
       "    </tr>\n",
       "    <tr>\n",
       "      <th>id</th>\n",
       "      <th></th>\n",
       "      <th></th>\n",
       "      <th></th>\n",
       "      <th></th>\n",
       "      <th></th>\n",
       "      <th></th>\n",
       "      <th></th>\n",
       "    </tr>\n",
       "  </thead>\n",
       "  <tbody>\n",
       "    <tr>\n",
       "      <th>1970eccb-ad38-4b4b-b7a8-54509027b57d</th>\n",
       "      <td>annotation</td>\n",
       "      <td>POLYGON ((25319.00000 3892.00000, 25313.00000 ...</td>\n",
       "      <td>Negative</td>\n",
       "      <td>[112, 112, 225]</td>\n",
       "      <td>file</td>\n",
       "      <td>(0.2125, 0.2125)</td>\n",
       "      <td>Shapes</td>\n",
       "    </tr>\n",
       "    <tr>\n",
       "      <th>a3b32cce-1bb9-4a6f-b1d1-9e0c44420cfa</th>\n",
       "      <td>annotation</td>\n",
       "      <td>POLYGON ((30950.00000 10855.00000, 30944.00000...</td>\n",
       "      <td>Positive</td>\n",
       "      <td>[250, 62, 62]</td>\n",
       "      <td>file</td>\n",
       "      <td>(0.2125, 0.2125)</td>\n",
       "      <td>Shapes</td>\n",
       "    </tr>\n",
       "    <tr>\n",
       "      <th>92bfe928-a21f-4864-b7cb-f0d300113d88</th>\n",
       "      <td>annotation</td>\n",
       "      <td>MULTIPOLYGON (((21534.00000 19541.00000, 21534...</td>\n",
       "      <td>Other</td>\n",
       "      <td>[255, 200, 0]</td>\n",
       "      <td>file</td>\n",
       "      <td>(0.2125, 0.2125)</td>\n",
       "      <td>Shapes</td>\n",
       "    </tr>\n",
       "    <tr>\n",
       "      <th>a6c17a54-6839-40b2-8531-c9227635f344</th>\n",
       "      <td>annotation</td>\n",
       "      <td>POLYGON ((6501.00000 17126.00000, 6495.00000 1...</td>\n",
       "      <td>Other</td>\n",
       "      <td>[255, 200, 0]</td>\n",
       "      <td>file</td>\n",
       "      <td>(0.2125, 0.2125)</td>\n",
       "      <td>Shapes</td>\n",
       "    </tr>\n",
       "    <tr>\n",
       "      <th>e78efe2f-d185-4ab6-9cc9-6621897f3662</th>\n",
       "      <td>annotation</td>\n",
       "      <td>POLYGON ((29519.63000 18523.00000, 29476.00000...</td>\n",
       "      <td>Negative</td>\n",
       "      <td>[112, 112, 225]</td>\n",
       "      <td>file</td>\n",
       "      <td>(0.2125, 0.2125)</td>\n",
       "      <td>Shapes</td>\n",
       "    </tr>\n",
       "  </tbody>\n",
       "</table>\n",
       "</div>"
      ],
      "text/plain": [
       "                                      objectType  \\\n",
       "id                                                 \n",
       "1970eccb-ad38-4b4b-b7a8-54509027b57d  annotation   \n",
       "a3b32cce-1bb9-4a6f-b1d1-9e0c44420cfa  annotation   \n",
       "92bfe928-a21f-4864-b7cb-f0d300113d88  annotation   \n",
       "a6c17a54-6839-40b2-8531-c9227635f344  annotation   \n",
       "e78efe2f-d185-4ab6-9cc9-6621897f3662  annotation   \n",
       "\n",
       "                                                                               geometry  \\\n",
       "id                                                                                        \n",
       "1970eccb-ad38-4b4b-b7a8-54509027b57d  POLYGON ((25319.00000 3892.00000, 25313.00000 ...   \n",
       "a3b32cce-1bb9-4a6f-b1d1-9e0c44420cfa  POLYGON ((30950.00000 10855.00000, 30944.00000...   \n",
       "92bfe928-a21f-4864-b7cb-f0d300113d88  MULTIPOLYGON (((21534.00000 19541.00000, 21534...   \n",
       "a6c17a54-6839-40b2-8531-c9227635f344  POLYGON ((6501.00000 17126.00000, 6495.00000 1...   \n",
       "e78efe2f-d185-4ab6-9cc9-6621897f3662  POLYGON ((29519.63000 18523.00000, 29476.00000...   \n",
       "\n",
       "                                          name            color origin  \\\n",
       "id                                                                       \n",
       "1970eccb-ad38-4b4b-b7a8-54509027b57d  Negative  [112, 112, 225]   file   \n",
       "a3b32cce-1bb9-4a6f-b1d1-9e0c44420cfa  Positive    [250, 62, 62]   file   \n",
       "92bfe928-a21f-4864-b7cb-f0d300113d88     Other    [255, 200, 0]   file   \n",
       "a6c17a54-6839-40b2-8531-c9227635f344     Other    [255, 200, 0]   file   \n",
       "e78efe2f-d185-4ab6-9cc9-6621897f3662  Negative  [112, 112, 225]   file   \n",
       "\n",
       "                                                 scale layer_type  \n",
       "id                                                                 \n",
       "1970eccb-ad38-4b4b-b7a8-54509027b57d  (0.2125, 0.2125)     Shapes  \n",
       "a3b32cce-1bb9-4a6f-b1d1-9e0c44420cfa  (0.2125, 0.2125)     Shapes  \n",
       "92bfe928-a21f-4864-b7cb-f0d300113d88  (0.2125, 0.2125)     Shapes  \n",
       "a6c17a54-6839-40b2-8531-c9227635f344  (0.2125, 0.2125)     Shapes  \n",
       "e78efe2f-d185-4ab6-9cc9-6621897f3662  (0.2125, 0.2125)     Shapes  "
      ]
     },
     "execution_count": 10,
     "metadata": {},
     "output_type": "execute_result"
    }
   ],
   "source": [
    "xd.annotations.demo2"
   ]
  },
  {
   "cell_type": "code",
   "execution_count": 11,
   "id": "6a62cb64",
   "metadata": {},
   "outputs": [
    {
     "data": {
      "text/html": [
       "<div>\n",
       "<style scoped>\n",
       "    .dataframe tbody tr th:only-of-type {\n",
       "        vertical-align: middle;\n",
       "    }\n",
       "\n",
       "    .dataframe tbody tr th {\n",
       "        vertical-align: top;\n",
       "    }\n",
       "\n",
       "    .dataframe thead th {\n",
       "        text-align: right;\n",
       "    }\n",
       "</style>\n",
       "<table border=\"1\" class=\"dataframe\">\n",
       "  <thead>\n",
       "    <tr style=\"text-align: right;\">\n",
       "      <th></th>\n",
       "      <th>objectType</th>\n",
       "      <th>geometry</th>\n",
       "      <th>name</th>\n",
       "      <th>color</th>\n",
       "      <th>origin</th>\n",
       "      <th>scale</th>\n",
       "      <th>layer_type</th>\n",
       "    </tr>\n",
       "    <tr>\n",
       "      <th>id</th>\n",
       "      <th></th>\n",
       "      <th></th>\n",
       "      <th></th>\n",
       "      <th></th>\n",
       "      <th></th>\n",
       "      <th></th>\n",
       "      <th></th>\n",
       "    </tr>\n",
       "  </thead>\n",
       "  <tbody>\n",
       "    <tr>\n",
       "      <th>8f57c3c3-2216-48b7-99bd-aba12d8c3c41</th>\n",
       "      <td>annotation</td>\n",
       "      <td>POLYGON ((18016.00000 10643.50000, 18013.24000...</td>\n",
       "      <td>Stroma</td>\n",
       "      <td>[150, 200, 150]</td>\n",
       "      <td>file</td>\n",
       "      <td>(0.2125, 0.2125)</td>\n",
       "      <td>Shapes</td>\n",
       "    </tr>\n",
       "    <tr>\n",
       "      <th>7e8f8db4-81d4-472e-8e93-0fc756df87aa</th>\n",
       "      <td>annotation</td>\n",
       "      <td>POLYGON ((12322.00000 6758.00000, 12320.34000 ...</td>\n",
       "      <td>Stroma</td>\n",
       "      <td>[150, 200, 150]</td>\n",
       "      <td>file</td>\n",
       "      <td>(0.2125, 0.2125)</td>\n",
       "      <td>Shapes</td>\n",
       "    </tr>\n",
       "    <tr>\n",
       "      <th>38a48ddb-f33c-4c61-b996-330b25d84081</th>\n",
       "      <td>annotation</td>\n",
       "      <td>LINESTRING (16943.80000 7758.84000, 18249.5800...</td>\n",
       "      <td>Necrosis</td>\n",
       "      <td>[50, 50, 50]</td>\n",
       "      <td>file</td>\n",
       "      <td>(0.2125, 0.2125)</td>\n",
       "      <td>Shapes</td>\n",
       "    </tr>\n",
       "    <tr>\n",
       "      <th>eee244c9-e919-41ae-bb91-44c7abcc0cec</th>\n",
       "      <td>annotation</td>\n",
       "      <td>LINESTRING (11687.64000 6279.51000, 13439.6900...</td>\n",
       "      <td>Immune cells</td>\n",
       "      <td>[160, 90, 160]</td>\n",
       "      <td>file</td>\n",
       "      <td>(0.2125, 0.2125)</td>\n",
       "      <td>Shapes</td>\n",
       "    </tr>\n",
       "    <tr>\n",
       "      <th>e3d4c0b6-0998-4692-ab7d-f580f713e275</th>\n",
       "      <td>annotation</td>\n",
       "      <td>POINT (23982.29000 7682.65000)</td>\n",
       "      <td>unclassified</td>\n",
       "      <td>[0, 0, 0]</td>\n",
       "      <td>file</td>\n",
       "      <td>(0.2125, 0.2125)</td>\n",
       "      <td>Points</td>\n",
       "    </tr>\n",
       "    <tr>\n",
       "      <th>e9105240-3b35-489e-994f-e8f9c4786516</th>\n",
       "      <td>annotation</td>\n",
       "      <td>MULTIPOINT (19857.20000 7768.09000, 20056.2200...</td>\n",
       "      <td>Stroma</td>\n",
       "      <td>[150, 200, 150]</td>\n",
       "      <td>file</td>\n",
       "      <td>(0.2125, 0.2125)</td>\n",
       "      <td>Points</td>\n",
       "    </tr>\n",
       "    <tr>\n",
       "      <th>2802df97-78ad-44ac-8e6b-d9b9406c8e3f</th>\n",
       "      <td>annotation</td>\n",
       "      <td>MULTIPOINT (15871.96000 9437.25000, 16611.9600...</td>\n",
       "      <td>Tumor</td>\n",
       "      <td>[200, 0, 0]</td>\n",
       "      <td>file</td>\n",
       "      <td>(0.2125, 0.2125)</td>\n",
       "      <td>Points</td>\n",
       "    </tr>\n",
       "  </tbody>\n",
       "</table>\n",
       "</div>"
      ],
      "text/plain": [
       "                                      objectType  \\\n",
       "id                                                 \n",
       "8f57c3c3-2216-48b7-99bd-aba12d8c3c41  annotation   \n",
       "7e8f8db4-81d4-472e-8e93-0fc756df87aa  annotation   \n",
       "38a48ddb-f33c-4c61-b996-330b25d84081  annotation   \n",
       "eee244c9-e919-41ae-bb91-44c7abcc0cec  annotation   \n",
       "e3d4c0b6-0998-4692-ab7d-f580f713e275  annotation   \n",
       "e9105240-3b35-489e-994f-e8f9c4786516  annotation   \n",
       "2802df97-78ad-44ac-8e6b-d9b9406c8e3f  annotation   \n",
       "\n",
       "                                                                               geometry  \\\n",
       "id                                                                                        \n",
       "8f57c3c3-2216-48b7-99bd-aba12d8c3c41  POLYGON ((18016.00000 10643.50000, 18013.24000...   \n",
       "7e8f8db4-81d4-472e-8e93-0fc756df87aa  POLYGON ((12322.00000 6758.00000, 12320.34000 ...   \n",
       "38a48ddb-f33c-4c61-b996-330b25d84081  LINESTRING (16943.80000 7758.84000, 18249.5800...   \n",
       "eee244c9-e919-41ae-bb91-44c7abcc0cec  LINESTRING (11687.64000 6279.51000, 13439.6900...   \n",
       "e3d4c0b6-0998-4692-ab7d-f580f713e275                     POINT (23982.29000 7682.65000)   \n",
       "e9105240-3b35-489e-994f-e8f9c4786516  MULTIPOINT (19857.20000 7768.09000, 20056.2200...   \n",
       "2802df97-78ad-44ac-8e6b-d9b9406c8e3f  MULTIPOINT (15871.96000 9437.25000, 16611.9600...   \n",
       "\n",
       "                                              name            color origin  \\\n",
       "id                                                                           \n",
       "8f57c3c3-2216-48b7-99bd-aba12d8c3c41        Stroma  [150, 200, 150]   file   \n",
       "7e8f8db4-81d4-472e-8e93-0fc756df87aa        Stroma  [150, 200, 150]   file   \n",
       "38a48ddb-f33c-4c61-b996-330b25d84081      Necrosis     [50, 50, 50]   file   \n",
       "eee244c9-e919-41ae-bb91-44c7abcc0cec  Immune cells   [160, 90, 160]   file   \n",
       "e3d4c0b6-0998-4692-ab7d-f580f713e275  unclassified        [0, 0, 0]   file   \n",
       "e9105240-3b35-489e-994f-e8f9c4786516        Stroma  [150, 200, 150]   file   \n",
       "2802df97-78ad-44ac-8e6b-d9b9406c8e3f         Tumor      [200, 0, 0]   file   \n",
       "\n",
       "                                                 scale layer_type  \n",
       "id                                                                 \n",
       "8f57c3c3-2216-48b7-99bd-aba12d8c3c41  (0.2125, 0.2125)     Shapes  \n",
       "7e8f8db4-81d4-472e-8e93-0fc756df87aa  (0.2125, 0.2125)     Shapes  \n",
       "38a48ddb-f33c-4c61-b996-330b25d84081  (0.2125, 0.2125)     Shapes  \n",
       "eee244c9-e919-41ae-bb91-44c7abcc0cec  (0.2125, 0.2125)     Shapes  \n",
       "e3d4c0b6-0998-4692-ab7d-f580f713e275  (0.2125, 0.2125)     Points  \n",
       "e9105240-3b35-489e-994f-e8f9c4786516  (0.2125, 0.2125)     Points  \n",
       "2802df97-78ad-44ac-8e6b-d9b9406c8e3f  (0.2125, 0.2125)     Points  "
      ]
     },
     "execution_count": 11,
     "metadata": {},
     "output_type": "execute_result"
    }
   ],
   "source": [
    "xd.annotations.demo3"
   ]
  },
  {
   "cell_type": "markdown",
   "id": "1983a1d9",
   "metadata": {},
   "source": [
    "## Load regions\n",
    "\n",
    "Regions can be created in QuPath either as described above or using tools like the TMA dearrayer. They are also exported as objects as annotations but different to annotations they do not have a classification and each name of a region has to be unique.\n",
    "\n",
    "In the following demo regions are read. One of the region files has non-unique names to demonstrate the warning that appears in this case."
   ]
  },
  {
   "cell_type": "code",
   "execution_count": 12,
   "id": "ae823ee9",
   "metadata": {},
   "outputs": [],
   "source": [
    "from insitupy.io import parse_geopandas\n",
    "from shapely import Polygon, MultiPolygon"
   ]
  },
  {
   "cell_type": "code",
   "execution_count": 13,
   "id": "7757fd1a",
   "metadata": {},
   "outputs": [],
   "source": [
    "f = \"./demo_annotations/annotations-mixed_types.geojson\"\n",
    "df = parse_geopandas(f)"
   ]
  },
  {
   "cell_type": "code",
   "execution_count": 14,
   "id": "23d4c7d2",
   "metadata": {},
   "outputs": [
    {
     "data": {
      "text/plain": [
       "[True, True, False, False, False, False, False]"
      ]
     },
     "execution_count": 14,
     "metadata": {},
     "output_type": "execute_result"
    }
   ],
   "source": [
    "[isinstance(elem, Polygon) for elem in df[\"geometry\"]]"
   ]
  },
  {
   "cell_type": "code",
   "execution_count": 15,
   "id": "b0a0751d",
   "metadata": {},
   "outputs": [
    {
     "name": "stdout",
     "output_type": "stream",
     "text": [
      "Importing regions...\n"
     ]
    },
    {
     "name": "stderr",
     "output_type": "stream",
     "text": [
      "C:\\Users\\ge37voy\\Github\\InSituPy\\insitupy\\_core\\dataclasses.py:122: UserWarning: The names of the regions for key 'test' were not unique and thus the key was skipped. In regions only one geometry per class is allowed.\n",
      "  warnings.warn(\n",
      "C:\\Users\\ge37voy\\Github\\InSituPy\\insitupy\\_core\\insitudata.py:725: UserWarning: Some regions were not pure Polygon objects and skipped.\n",
      "  self.regions.add_data(data=file,\n"
     ]
    }
   ],
   "source": [
    "xd.import_regions(\n",
    "    files=[\n",
    "        \"./demo_dataset/qupath_project/annotations.geojson\"\n",
    "        ],\n",
    "    keys=['test'])"
   ]
  },
  {
   "cell_type": "code",
   "execution_count": 16,
   "id": "d7637090",
   "metadata": {},
   "outputs": [
    {
     "data": {
      "text/plain": [
       "\u001b[1m\u001b[31mInSituData\u001b[0m\n",
       "\u001b[1mMethod:\u001b[0m\t\tXenium\n",
       "\u001b[1mSlide ID:\u001b[0m\t0001879\n",
       "\u001b[1mSample ID:\u001b[0m\tReplicate 1\n",
       "\u001b[1mPath:\u001b[0m\t\tC:\\Users\\ge37voy\\Github\\InSituPy\\notebooks\\demo_dataset\\demo_insitupy_project\n",
       "\u001b[1mMetadata file:\u001b[0m\t.ispy\n",
       "    ➤ \u001b[34m\u001b[1mimages\u001b[0m\n",
       "       \u001b[1mnuclei:\u001b[0m\t(25778, 35416)\n",
       "       \u001b[1mCD20:\u001b[0m\t(25778, 35416)\n",
       "       \u001b[1mHER2:\u001b[0m\t(25778, 35416)\n",
       "       \u001b[1mHE:\u001b[0m\t(25778, 35416, 3)\n",
       "    ➤\u001b[32m\u001b[1m cells\u001b[0m\n",
       "       \u001b[1mmatrix\u001b[0m\n",
       "           AnnData object with n_obs × n_vars = 167780 × 313\n",
       "           obs: 'transcript_counts', 'control_probe_counts', 'control_codeword_counts', 'total_counts', 'cell_area', 'nucleus_area', 'annotation-demo', 'annotation-demo2', 'dist_from_points'\n",
       "           var: 'gene_ids', 'feature_types', 'genome'\n",
       "           obsm: 'spatial'\n",
       "           varm: 'binned_expression'\n",
       "       \u001b[1mboundaries\u001b[0m\n",
       "           BoundariesData object with 2 entries:\n",
       "               \u001b[1mcellular\u001b[0m\n",
       "               \u001b[1mnuclear\u001b[0m\n",
       "    ➤ \u001b[36m\u001b[1mannotations\u001b[0m\n",
       "       \u001b[1mdemo:\u001b[0m\t4 annotations, 2 classes ('Positive','Negative') \n",
       "       \u001b[1mdemo2:\u001b[0m\t5 annotations, 3 classes ('Negative','Positive','Other') \n",
       "       \u001b[1mdemo3:\u001b[0m\t7 annotations, 5 classes ('Stroma','Necrosis','Immune cells','unclassified','Tumor') "
      ]
     },
     "execution_count": 16,
     "metadata": {},
     "output_type": "execute_result"
    }
   ],
   "source": [
    "xd"
   ]
  },
  {
   "cell_type": "code",
   "execution_count": 17,
   "id": "dfc26eec",
   "metadata": {},
   "outputs": [
    {
     "name": "stdout",
     "output_type": "stream",
     "text": [
      "Importing regions...\n"
     ]
    }
   ],
   "source": [
    "xd.import_regions(\n",
    "    files=[\n",
    "        \"./demo_regions/regions-0001879__Replicate 1__demo_regions.geojson\",\n",
    "        \"./demo_regions/regions-0001879__Replicate 1__TMA.geojson\",\n",
    "        ],\n",
    "    keys=['demo_regions', 'TMA'])"
   ]
  },
  {
   "cell_type": "code",
   "execution_count": 18,
   "id": "068e5d76",
   "metadata": {},
   "outputs": [
    {
     "data": {
      "text/plain": [
       "\u001b[1m\u001b[31mInSituData\u001b[0m\n",
       "\u001b[1mMethod:\u001b[0m\t\tXenium\n",
       "\u001b[1mSlide ID:\u001b[0m\t0001879\n",
       "\u001b[1mSample ID:\u001b[0m\tReplicate 1\n",
       "\u001b[1mPath:\u001b[0m\t\tC:\\Users\\ge37voy\\Github\\InSituPy\\notebooks\\demo_dataset\\demo_insitupy_project\n",
       "\u001b[1mMetadata file:\u001b[0m\t.ispy\n",
       "    ➤ \u001b[34m\u001b[1mimages\u001b[0m\n",
       "       \u001b[1mnuclei:\u001b[0m\t(25778, 35416)\n",
       "       \u001b[1mCD20:\u001b[0m\t(25778, 35416)\n",
       "       \u001b[1mHER2:\u001b[0m\t(25778, 35416)\n",
       "       \u001b[1mHE:\u001b[0m\t(25778, 35416, 3)\n",
       "    ➤\u001b[32m\u001b[1m cells\u001b[0m\n",
       "       \u001b[1mmatrix\u001b[0m\n",
       "           AnnData object with n_obs × n_vars = 167780 × 313\n",
       "           obs: 'transcript_counts', 'control_probe_counts', 'control_codeword_counts', 'total_counts', 'cell_area', 'nucleus_area', 'annotation-demo', 'annotation-demo2', 'dist_from_points'\n",
       "           var: 'gene_ids', 'feature_types', 'genome'\n",
       "           obsm: 'spatial'\n",
       "           varm: 'binned_expression'\n",
       "       \u001b[1mboundaries\u001b[0m\n",
       "           BoundariesData object with 2 entries:\n",
       "               \u001b[1mcellular\u001b[0m\n",
       "               \u001b[1mnuclear\u001b[0m\n",
       "    ➤ \u001b[36m\u001b[1mannotations\u001b[0m\n",
       "       \u001b[1mdemo:\u001b[0m\t4 annotations, 2 classes ('Positive','Negative') \n",
       "       \u001b[1mdemo2:\u001b[0m\t5 annotations, 3 classes ('Negative','Positive','Other') \n",
       "       \u001b[1mdemo3:\u001b[0m\t7 annotations, 5 classes ('Stroma','Necrosis','Immune cells','unclassified','Tumor') \n",
       "    ➤ \u001b[33m\u001b[1mregions\u001b[0m\n",
       "       \u001b[1mdemo_regions:\u001b[0m\t3 regions, 3 classes ('Region1','Region2','Region3') \n",
       "       \u001b[1mTMA:\u001b[0m\t6 regions, 6 classes ('B-2','A-3','B-1','B-3','A-1','A-2') "
      ]
     },
     "execution_count": 18,
     "metadata": {},
     "output_type": "execute_result"
    }
   ],
   "source": [
    "xd"
   ]
  },
  {
   "cell_type": "code",
   "execution_count": 19,
   "id": "eb7d9b7c",
   "metadata": {},
   "outputs": [
    {
     "name": "stdout",
     "output_type": "stream",
     "text": [
      "Importing regions...\n"
     ]
    },
    {
     "name": "stderr",
     "output_type": "stream",
     "text": [
      "C:\\Users\\ge37voy\\Github\\InSituPy\\insitupy\\_core\\dataclasses.py:122: UserWarning: The names of the regions for key 'test' were not unique and thus the key was skipped. In regions only one geometry per class is allowed.\n",
      "  warnings.warn(\n",
      "C:\\Users\\ge37voy\\Github\\InSituPy\\insitupy\\_core\\insitudata.py:725: UserWarning: Some regions were not pure Polygon objects and skipped.\n",
      "  self.regions.add_data(data=file,\n"
     ]
    }
   ],
   "source": [
    "xd.import_regions(\n",
    "    files=[\n",
    "        \"./demo_dataset/qupath_project/annotations.geojson\"\n",
    "        ],\n",
    "    keys=['test'])"
   ]
  },
  {
   "cell_type": "code",
   "execution_count": 20,
   "id": "4f466e6d",
   "metadata": {},
   "outputs": [
    {
     "data": {
      "text/plain": [
       "\u001b[1m\u001b[31mInSituData\u001b[0m\n",
       "\u001b[1mMethod:\u001b[0m\t\tXenium\n",
       "\u001b[1mSlide ID:\u001b[0m\t0001879\n",
       "\u001b[1mSample ID:\u001b[0m\tReplicate 1\n",
       "\u001b[1mPath:\u001b[0m\t\tC:\\Users\\ge37voy\\Github\\InSituPy\\notebooks\\demo_dataset\\demo_insitupy_project\n",
       "\u001b[1mMetadata file:\u001b[0m\t.ispy\n",
       "    ➤ \u001b[34m\u001b[1mimages\u001b[0m\n",
       "       \u001b[1mnuclei:\u001b[0m\t(25778, 35416)\n",
       "       \u001b[1mCD20:\u001b[0m\t(25778, 35416)\n",
       "       \u001b[1mHER2:\u001b[0m\t(25778, 35416)\n",
       "       \u001b[1mHE:\u001b[0m\t(25778, 35416, 3)\n",
       "    ➤\u001b[32m\u001b[1m cells\u001b[0m\n",
       "       \u001b[1mmatrix\u001b[0m\n",
       "           AnnData object with n_obs × n_vars = 167780 × 313\n",
       "           obs: 'transcript_counts', 'control_probe_counts', 'control_codeword_counts', 'total_counts', 'cell_area', 'nucleus_area', 'annotation-demo', 'annotation-demo2', 'dist_from_points'\n",
       "           var: 'gene_ids', 'feature_types', 'genome'\n",
       "           obsm: 'spatial'\n",
       "           varm: 'binned_expression'\n",
       "       \u001b[1mboundaries\u001b[0m\n",
       "           BoundariesData object with 2 entries:\n",
       "               \u001b[1mcellular\u001b[0m\n",
       "               \u001b[1mnuclear\u001b[0m\n",
       "    ➤ \u001b[36m\u001b[1mannotations\u001b[0m\n",
       "       \u001b[1mdemo:\u001b[0m\t4 annotations, 2 classes ('Positive','Negative') \n",
       "       \u001b[1mdemo2:\u001b[0m\t5 annotations, 3 classes ('Negative','Positive','Other') \n",
       "       \u001b[1mdemo3:\u001b[0m\t7 annotations, 5 classes ('Stroma','Necrosis','Immune cells','unclassified','Tumor') \n",
       "    ➤ \u001b[33m\u001b[1mregions\u001b[0m\n",
       "       \u001b[1mdemo_regions:\u001b[0m\t3 regions, 3 classes ('Region1','Region2','Region3') \n",
       "       \u001b[1mTMA:\u001b[0m\t6 regions, 6 classes ('B-2','A-3','B-1','B-3','A-1','A-2') "
      ]
     },
     "execution_count": 20,
     "metadata": {},
     "output_type": "execute_result"
    }
   ],
   "source": [
    "xd"
   ]
  },
  {
   "cell_type": "markdown",
   "id": "cdcdf2fc",
   "metadata": {},
   "source": [
    "Properties of the added `anotations` and `regions` can be inspected in the XeniumData representation:"
   ]
  },
  {
   "cell_type": "code",
   "execution_count": 21,
   "id": "5c925e30",
   "metadata": {},
   "outputs": [
    {
     "name": "stderr",
     "output_type": "stream",
     "text": [
      "Invalid schema for package 'ome-types', please run 'npe2 validate ome-types' to check for manifest errors.\n"
     ]
    }
   ],
   "source": [
    "xd.show()"
   ]
  },
  {
   "cell_type": "code",
   "execution_count": 14,
   "id": "7363695f-5e82-4d89-be18-b5df7ab39497",
   "metadata": {},
   "outputs": [
    {
     "name": "stdout",
     "output_type": "stream",
     "text": [
      "Names of regions for key 'TestKey' are unique.\n",
      "Added 1 new regions to key 'TestKey'\n",
      "Names of regions for key 'TestKey' are unique.\n",
      "Added 1 new regions to existing key 'TestKey'\n"
     ]
    }
   ],
   "source": [
    "xd.store_geometries()"
   ]
  },
  {
   "cell_type": "code",
   "execution_count": 15,
   "id": "e8e406fd-9416-4aba-9842-3737cd2c028e",
   "metadata": {},
   "outputs": [
    {
     "data": {
      "text/plain": [
       "\u001b[1m\u001b[31mInSituData\u001b[0m\n",
       "\u001b[1mMethod:\u001b[0m\t\tXenium\n",
       "\u001b[1mSlide ID:\u001b[0m\t0001879\n",
       "\u001b[1mSample ID:\u001b[0m\tReplicate 1\n",
       "\u001b[1mPath:\u001b[0m\t\tC:\\Users\\ge37voy\\Github\\InSituPy\\notebooks\\demo_dataset\\demo_insitupy_project\n",
       "\u001b[1mMetadata file:\u001b[0m\t.ispy\n",
       "    ➤ \u001b[34m\u001b[1mimages\u001b[0m\n",
       "       \u001b[1mnuclei:\u001b[0m\t(25778, 35416)\n",
       "       \u001b[1mCD20:\u001b[0m\t(25778, 35416)\n",
       "       \u001b[1mHER2:\u001b[0m\t(25778, 35416)\n",
       "       \u001b[1mHE:\u001b[0m\t(25778, 35416, 3)\n",
       "    ➤\u001b[32m\u001b[1m cells\u001b[0m\n",
       "       \u001b[1mmatrix\u001b[0m\n",
       "           AnnData object with n_obs × n_vars = 167780 × 313\n",
       "           obs: 'transcript_counts', 'control_probe_counts', 'control_codeword_counts', 'total_counts', 'cell_area', 'nucleus_area', 'annotation-demo', 'annotation-demo2', 'dist_from_points'\n",
       "           var: 'gene_ids', 'feature_types', 'genome'\n",
       "           obsm: 'spatial'\n",
       "           varm: 'binned_expression'\n",
       "       \u001b[1mboundaries\u001b[0m\n",
       "           BoundariesData object with 2 entries:\n",
       "               \u001b[1mcellular\u001b[0m\n",
       "               \u001b[1mnuclear\u001b[0m\n",
       "    ➤ \u001b[36m\u001b[1mannotations\u001b[0m\n",
       "       \u001b[1mdemo:\u001b[0m\t4 annotations, 2 classes ('Positive','Negative') \n",
       "       \u001b[1mdemo2:\u001b[0m\t5 annotations, 3 classes ('Negative','Positive','Other') \n",
       "    ➤ \u001b[33m\u001b[1mregions\u001b[0m\n",
       "       \u001b[1mdemo_regions:\u001b[0m\t3 regions, 3 classes ('Region1','Region2','Region3') \n",
       "       \u001b[1mTMA:\u001b[0m\t6 regions, 6 classes ('B-2','A-3','B-1','B-3','A-1','A-2') \n",
       "       \u001b[1mTestKey:\u001b[0m\t2 regions, 2 classes ('TestClass','region1') "
      ]
     },
     "execution_count": 15,
     "metadata": {},
     "output_type": "execute_result"
    }
   ],
   "source": [
    "xd"
   ]
  },
  {
   "cell_type": "code",
   "execution_count": 72,
   "id": "9f2edd2a-6d21-4557-ac2f-94d1ee5a3d6c",
   "metadata": {},
   "outputs": [
    {
     "data": {
      "text/html": [
       "<div>\n",
       "<style scoped>\n",
       "    .dataframe tbody tr th:only-of-type {\n",
       "        vertical-align: middle;\n",
       "    }\n",
       "\n",
       "    .dataframe tbody tr th {\n",
       "        vertical-align: top;\n",
       "    }\n",
       "\n",
       "    .dataframe thead th {\n",
       "        text-align: right;\n",
       "    }\n",
       "</style>\n",
       "<table border=\"1\" class=\"dataframe\">\n",
       "  <thead>\n",
       "    <tr style=\"text-align: right;\">\n",
       "      <th></th>\n",
       "      <th>objectType</th>\n",
       "      <th>geometry</th>\n",
       "      <th>name</th>\n",
       "      <th>color</th>\n",
       "      <th>origin</th>\n",
       "      <th>scale</th>\n",
       "      <th>layer_type</th>\n",
       "    </tr>\n",
       "    <tr>\n",
       "      <th>id</th>\n",
       "      <th></th>\n",
       "      <th></th>\n",
       "      <th></th>\n",
       "      <th></th>\n",
       "      <th></th>\n",
       "      <th></th>\n",
       "      <th></th>\n",
       "    </tr>\n",
       "  </thead>\n",
       "  <tbody>\n",
       "    <tr>\n",
       "      <th>bd3aacca-1716-4df8-91dd-bf8f6413a7bd</th>\n",
       "      <td>annotation</td>\n",
       "      <td>POLYGON ((8863.00000 10814.00000, 8863.00000 1...</td>\n",
       "      <td>Positive</td>\n",
       "      <td>[250, 62, 62]</td>\n",
       "      <td>file</td>\n",
       "      <td>(0.2125, 0.2125)</td>\n",
       "      <td>Shapes</td>\n",
       "    </tr>\n",
       "    <tr>\n",
       "      <th>69814505-4059-42cd-8df2-752f7eb0810d</th>\n",
       "      <td>annotation</td>\n",
       "      <td>POLYGON ((13096.00000 12492.00000, 13072.40000...</td>\n",
       "      <td>Positive</td>\n",
       "      <td>[250, 62, 62]</td>\n",
       "      <td>file</td>\n",
       "      <td>(0.2125, 0.2125)</td>\n",
       "      <td>Shapes</td>\n",
       "    </tr>\n",
       "    <tr>\n",
       "      <th>1957cd32-0a21-4b45-9dae-ecf236217140</th>\n",
       "      <td>annotation</td>\n",
       "      <td>POLYGON ((30975.26000 22938.00000, 30982.00000...</td>\n",
       "      <td>Negative</td>\n",
       "      <td>[112, 112, 225]</td>\n",
       "      <td>file</td>\n",
       "      <td>(0.2125, 0.2125)</td>\n",
       "      <td>Shapes</td>\n",
       "    </tr>\n",
       "    <tr>\n",
       "      <th>19d2197a-1b8e-456f-8223-fba74641ac1c</th>\n",
       "      <td>annotation</td>\n",
       "      <td>POLYGON ((31165.00000 16408.00000, 31149.00000...</td>\n",
       "      <td>Negative</td>\n",
       "      <td>[112, 112, 225]</td>\n",
       "      <td>file</td>\n",
       "      <td>(0.2125, 0.2125)</td>\n",
       "      <td>Shapes</td>\n",
       "    </tr>\n",
       "  </tbody>\n",
       "</table>\n",
       "</div>"
      ],
      "text/plain": [
       "                                      objectType  \\\n",
       "id                                                 \n",
       "bd3aacca-1716-4df8-91dd-bf8f6413a7bd  annotation   \n",
       "69814505-4059-42cd-8df2-752f7eb0810d  annotation   \n",
       "1957cd32-0a21-4b45-9dae-ecf236217140  annotation   \n",
       "19d2197a-1b8e-456f-8223-fba74641ac1c  annotation   \n",
       "\n",
       "                                                                               geometry  \\\n",
       "id                                                                                        \n",
       "bd3aacca-1716-4df8-91dd-bf8f6413a7bd  POLYGON ((8863.00000 10814.00000, 8863.00000 1...   \n",
       "69814505-4059-42cd-8df2-752f7eb0810d  POLYGON ((13096.00000 12492.00000, 13072.40000...   \n",
       "1957cd32-0a21-4b45-9dae-ecf236217140  POLYGON ((30975.26000 22938.00000, 30982.00000...   \n",
       "19d2197a-1b8e-456f-8223-fba74641ac1c  POLYGON ((31165.00000 16408.00000, 31149.00000...   \n",
       "\n",
       "                                          name            color origin  \\\n",
       "id                                                                       \n",
       "bd3aacca-1716-4df8-91dd-bf8f6413a7bd  Positive    [250, 62, 62]   file   \n",
       "69814505-4059-42cd-8df2-752f7eb0810d  Positive    [250, 62, 62]   file   \n",
       "1957cd32-0a21-4b45-9dae-ecf236217140  Negative  [112, 112, 225]   file   \n",
       "19d2197a-1b8e-456f-8223-fba74641ac1c  Negative  [112, 112, 225]   file   \n",
       "\n",
       "                                                 scale layer_type  \n",
       "id                                                                 \n",
       "bd3aacca-1716-4df8-91dd-bf8f6413a7bd  (0.2125, 0.2125)     Shapes  \n",
       "69814505-4059-42cd-8df2-752f7eb0810d  (0.2125, 0.2125)     Shapes  \n",
       "1957cd32-0a21-4b45-9dae-ecf236217140  (0.2125, 0.2125)     Shapes  \n",
       "19d2197a-1b8e-456f-8223-fba74641ac1c  (0.2125, 0.2125)     Shapes  "
      ]
     },
     "execution_count": 72,
     "metadata": {},
     "output_type": "execute_result"
    }
   ],
   "source": [
    "xd.annotations.demo"
   ]
  },
  {
   "cell_type": "code",
   "execution_count": 73,
   "id": "10d1d204-dc1f-4346-a105-597fff67d7ea",
   "metadata": {},
   "outputs": [
    {
     "data": {
      "text/html": [
       "<div>\n",
       "<style scoped>\n",
       "    .dataframe tbody tr th:only-of-type {\n",
       "        vertical-align: middle;\n",
       "    }\n",
       "\n",
       "    .dataframe tbody tr th {\n",
       "        vertical-align: top;\n",
       "    }\n",
       "\n",
       "    .dataframe thead th {\n",
       "        text-align: right;\n",
       "    }\n",
       "</style>\n",
       "<table border=\"1\" class=\"dataframe\">\n",
       "  <thead>\n",
       "    <tr style=\"text-align: right;\">\n",
       "      <th></th>\n",
       "      <th>objectType</th>\n",
       "      <th>geometry</th>\n",
       "      <th>name</th>\n",
       "      <th>color</th>\n",
       "      <th>origin</th>\n",
       "      <th>scale</th>\n",
       "      <th>layer_type</th>\n",
       "    </tr>\n",
       "    <tr>\n",
       "      <th>id</th>\n",
       "      <th></th>\n",
       "      <th></th>\n",
       "      <th></th>\n",
       "      <th></th>\n",
       "      <th></th>\n",
       "      <th></th>\n",
       "      <th></th>\n",
       "    </tr>\n",
       "  </thead>\n",
       "  <tbody>\n",
       "    <tr>\n",
       "      <th>8f57c3c3-2216-48b7-99bd-aba12d8c3c41</th>\n",
       "      <td>annotation</td>\n",
       "      <td>POLYGON ((18016.00000 10643.50000, 18013.24000...</td>\n",
       "      <td>Stroma</td>\n",
       "      <td>[150, 200, 150]</td>\n",
       "      <td>file</td>\n",
       "      <td>(0.2125, 0.2125)</td>\n",
       "      <td>Shapes</td>\n",
       "    </tr>\n",
       "    <tr>\n",
       "      <th>7e8f8db4-81d4-472e-8e93-0fc756df87aa</th>\n",
       "      <td>annotation</td>\n",
       "      <td>POLYGON ((12322.00000 6758.00000, 12320.34000 ...</td>\n",
       "      <td>Stroma</td>\n",
       "      <td>[150, 200, 150]</td>\n",
       "      <td>file</td>\n",
       "      <td>(0.2125, 0.2125)</td>\n",
       "      <td>Shapes</td>\n",
       "    </tr>\n",
       "    <tr>\n",
       "      <th>38a48ddb-f33c-4c61-b996-330b25d84081</th>\n",
       "      <td>annotation</td>\n",
       "      <td>LINESTRING (16943.80000 7758.84000, 18249.5800...</td>\n",
       "      <td>Necrosis</td>\n",
       "      <td>[50, 50, 50]</td>\n",
       "      <td>file</td>\n",
       "      <td>(0.2125, 0.2125)</td>\n",
       "      <td>Shapes</td>\n",
       "    </tr>\n",
       "    <tr>\n",
       "      <th>eee244c9-e919-41ae-bb91-44c7abcc0cec</th>\n",
       "      <td>annotation</td>\n",
       "      <td>LINESTRING (11687.64000 6279.51000, 13439.6900...</td>\n",
       "      <td>Immune cells</td>\n",
       "      <td>[160, 90, 160]</td>\n",
       "      <td>file</td>\n",
       "      <td>(0.2125, 0.2125)</td>\n",
       "      <td>Shapes</td>\n",
       "    </tr>\n",
       "    <tr>\n",
       "      <th>e3d4c0b6-0998-4692-ab7d-f580f713e275</th>\n",
       "      <td>annotation</td>\n",
       "      <td>POINT (23982.29000 7682.65000)</td>\n",
       "      <td>unclassified</td>\n",
       "      <td>[0, 0, 0]</td>\n",
       "      <td>file</td>\n",
       "      <td>(0.2125, 0.2125)</td>\n",
       "      <td>Points</td>\n",
       "    </tr>\n",
       "    <tr>\n",
       "      <th>e9105240-3b35-489e-994f-e8f9c4786516</th>\n",
       "      <td>annotation</td>\n",
       "      <td>MULTIPOINT (19857.20000 7768.09000, 20056.2200...</td>\n",
       "      <td>Stroma</td>\n",
       "      <td>[150, 200, 150]</td>\n",
       "      <td>file</td>\n",
       "      <td>(0.2125, 0.2125)</td>\n",
       "      <td>Points</td>\n",
       "    </tr>\n",
       "    <tr>\n",
       "      <th>2802df97-78ad-44ac-8e6b-d9b9406c8e3f</th>\n",
       "      <td>annotation</td>\n",
       "      <td>MULTIPOINT (15871.96000 9437.25000, 16611.9600...</td>\n",
       "      <td>Tumor</td>\n",
       "      <td>[200, 0, 0]</td>\n",
       "      <td>file</td>\n",
       "      <td>(0.2125, 0.2125)</td>\n",
       "      <td>Points</td>\n",
       "    </tr>\n",
       "  </tbody>\n",
       "</table>\n",
       "</div>"
      ],
      "text/plain": [
       "                                      objectType  \\\n",
       "id                                                 \n",
       "8f57c3c3-2216-48b7-99bd-aba12d8c3c41  annotation   \n",
       "7e8f8db4-81d4-472e-8e93-0fc756df87aa  annotation   \n",
       "38a48ddb-f33c-4c61-b996-330b25d84081  annotation   \n",
       "eee244c9-e919-41ae-bb91-44c7abcc0cec  annotation   \n",
       "e3d4c0b6-0998-4692-ab7d-f580f713e275  annotation   \n",
       "e9105240-3b35-489e-994f-e8f9c4786516  annotation   \n",
       "2802df97-78ad-44ac-8e6b-d9b9406c8e3f  annotation   \n",
       "\n",
       "                                                                               geometry  \\\n",
       "id                                                                                        \n",
       "8f57c3c3-2216-48b7-99bd-aba12d8c3c41  POLYGON ((18016.00000 10643.50000, 18013.24000...   \n",
       "7e8f8db4-81d4-472e-8e93-0fc756df87aa  POLYGON ((12322.00000 6758.00000, 12320.34000 ...   \n",
       "38a48ddb-f33c-4c61-b996-330b25d84081  LINESTRING (16943.80000 7758.84000, 18249.5800...   \n",
       "eee244c9-e919-41ae-bb91-44c7abcc0cec  LINESTRING (11687.64000 6279.51000, 13439.6900...   \n",
       "e3d4c0b6-0998-4692-ab7d-f580f713e275                     POINT (23982.29000 7682.65000)   \n",
       "e9105240-3b35-489e-994f-e8f9c4786516  MULTIPOINT (19857.20000 7768.09000, 20056.2200...   \n",
       "2802df97-78ad-44ac-8e6b-d9b9406c8e3f  MULTIPOINT (15871.96000 9437.25000, 16611.9600...   \n",
       "\n",
       "                                              name            color origin  \\\n",
       "id                                                                           \n",
       "8f57c3c3-2216-48b7-99bd-aba12d8c3c41        Stroma  [150, 200, 150]   file   \n",
       "7e8f8db4-81d4-472e-8e93-0fc756df87aa        Stroma  [150, 200, 150]   file   \n",
       "38a48ddb-f33c-4c61-b996-330b25d84081      Necrosis     [50, 50, 50]   file   \n",
       "eee244c9-e919-41ae-bb91-44c7abcc0cec  Immune cells   [160, 90, 160]   file   \n",
       "e3d4c0b6-0998-4692-ab7d-f580f713e275  unclassified        [0, 0, 0]   file   \n",
       "e9105240-3b35-489e-994f-e8f9c4786516        Stroma  [150, 200, 150]   file   \n",
       "2802df97-78ad-44ac-8e6b-d9b9406c8e3f         Tumor      [200, 0, 0]   file   \n",
       "\n",
       "                                                 scale layer_type  \n",
       "id                                                                 \n",
       "8f57c3c3-2216-48b7-99bd-aba12d8c3c41  (0.2125, 0.2125)     Shapes  \n",
       "7e8f8db4-81d4-472e-8e93-0fc756df87aa  (0.2125, 0.2125)     Shapes  \n",
       "38a48ddb-f33c-4c61-b996-330b25d84081  (0.2125, 0.2125)     Shapes  \n",
       "eee244c9-e919-41ae-bb91-44c7abcc0cec  (0.2125, 0.2125)     Shapes  \n",
       "e3d4c0b6-0998-4692-ab7d-f580f713e275  (0.2125, 0.2125)     Points  \n",
       "e9105240-3b35-489e-994f-e8f9c4786516  (0.2125, 0.2125)     Points  \n",
       "2802df97-78ad-44ac-8e6b-d9b9406c8e3f  (0.2125, 0.2125)     Points  "
      ]
     },
     "execution_count": 73,
     "metadata": {},
     "output_type": "execute_result"
    }
   ],
   "source": [
    "xd.annotations.demo3"
   ]
  },
  {
   "cell_type": "code",
   "execution_count": 74,
   "id": "78989713-b08f-4214-98b0-74414aef5556",
   "metadata": {},
   "outputs": [],
   "source": [
    "xd.show()"
   ]
  },
  {
   "cell_type": "code",
   "execution_count": 16,
   "id": "9c3d0372-01e7-450a-aa49-e0c99bad32a3",
   "metadata": {},
   "outputs": [
    {
     "data": {
      "text/html": [
       "<div>\n",
       "<style scoped>\n",
       "    .dataframe tbody tr th:only-of-type {\n",
       "        vertical-align: middle;\n",
       "    }\n",
       "\n",
       "    .dataframe tbody tr th {\n",
       "        vertical-align: top;\n",
       "    }\n",
       "\n",
       "    .dataframe thead th {\n",
       "        text-align: right;\n",
       "    }\n",
       "</style>\n",
       "<table border=\"1\" class=\"dataframe\">\n",
       "  <thead>\n",
       "    <tr style=\"text-align: right;\">\n",
       "      <th></th>\n",
       "      <th>objectType</th>\n",
       "      <th>geometry</th>\n",
       "      <th>name</th>\n",
       "      <th>color</th>\n",
       "      <th>origin</th>\n",
       "      <th>scale</th>\n",
       "      <th>layer_type</th>\n",
       "    </tr>\n",
       "    <tr>\n",
       "      <th>id</th>\n",
       "      <th></th>\n",
       "      <th></th>\n",
       "      <th></th>\n",
       "      <th></th>\n",
       "      <th></th>\n",
       "      <th></th>\n",
       "      <th></th>\n",
       "    </tr>\n",
       "  </thead>\n",
       "  <tbody>\n",
       "    <tr>\n",
       "      <th>49d9c3b8-2d68-4341-87e8-ef834d20f436</th>\n",
       "      <td>annotation</td>\n",
       "      <td>POLYGON ((9911.09323 9662.87386, 9362.05054 10...</td>\n",
       "      <td>TestClass</td>\n",
       "      <td>[255, 170, 0]</td>\n",
       "      <td>manual</td>\n",
       "      <td>[0.2125, 0.2125]</td>\n",
       "      <td>Shapes</td>\n",
       "    </tr>\n",
       "    <tr>\n",
       "      <th>f190a3b9-834c-41c3-a81a-7a7b7c56fd46</th>\n",
       "      <td>annotation</td>\n",
       "      <td>POLYGON ((11668.02984 6780.39973, 11668.02984 ...</td>\n",
       "      <td>TestClass</td>\n",
       "      <td>[255, 170, 0]</td>\n",
       "      <td>manual</td>\n",
       "      <td>[0.2125, 0.2125]</td>\n",
       "      <td>Shapes</td>\n",
       "    </tr>\n",
       "    <tr>\n",
       "      <th>f43057dc-6390-4fcd-90fe-8615b9fcdbaa</th>\n",
       "      <td>annotation</td>\n",
       "      <td>LINESTRING (8346.32156 7384.34669, 11036.63075...</td>\n",
       "      <td>TestClass</td>\n",
       "      <td>[255, 170, 0]</td>\n",
       "      <td>manual</td>\n",
       "      <td>[0.2125, 0.2125]</td>\n",
       "      <td>Shapes</td>\n",
       "    </tr>\n",
       "    <tr>\n",
       "      <th>3f0edd7d-65aa-431b-979a-054ec2768150</th>\n",
       "      <td>annotation</td>\n",
       "      <td>POLYGON ((8895.36425 9086.37903, 8887.69726 89...</td>\n",
       "      <td>TestClass</td>\n",
       "      <td>[255, 170, 0]</td>\n",
       "      <td>manual</td>\n",
       "      <td>[0.2125, 0.2125]</td>\n",
       "      <td>Shapes</td>\n",
       "    </tr>\n",
       "    <tr>\n",
       "      <th>e1838c34-034d-4334-b1d4-e12dad7c685b</th>\n",
       "      <td>annotation</td>\n",
       "      <td>POLYGON ((22511.62300 12710.06080, 22499.32937...</td>\n",
       "      <td>TestClass</td>\n",
       "      <td>[255, 170, 0]</td>\n",
       "      <td>manual</td>\n",
       "      <td>[0.2125, 0.2125]</td>\n",
       "      <td>Shapes</td>\n",
       "    </tr>\n",
       "  </tbody>\n",
       "</table>\n",
       "</div>"
      ],
      "text/plain": [
       "                                      objectType  \\\n",
       "id                                                 \n",
       "49d9c3b8-2d68-4341-87e8-ef834d20f436  annotation   \n",
       "f190a3b9-834c-41c3-a81a-7a7b7c56fd46  annotation   \n",
       "f43057dc-6390-4fcd-90fe-8615b9fcdbaa  annotation   \n",
       "3f0edd7d-65aa-431b-979a-054ec2768150  annotation   \n",
       "e1838c34-034d-4334-b1d4-e12dad7c685b  annotation   \n",
       "\n",
       "                                                                               geometry  \\\n",
       "id                                                                                        \n",
       "49d9c3b8-2d68-4341-87e8-ef834d20f436  POLYGON ((9911.09323 9662.87386, 9362.05054 10...   \n",
       "f190a3b9-834c-41c3-a81a-7a7b7c56fd46  POLYGON ((11668.02984 6780.39973, 11668.02984 ...   \n",
       "f43057dc-6390-4fcd-90fe-8615b9fcdbaa  LINESTRING (8346.32156 7384.34669, 11036.63075...   \n",
       "3f0edd7d-65aa-431b-979a-054ec2768150  POLYGON ((8895.36425 9086.37903, 8887.69726 89...   \n",
       "e1838c34-034d-4334-b1d4-e12dad7c685b  POLYGON ((22511.62300 12710.06080, 22499.32937...   \n",
       "\n",
       "                                           name          color  origin  \\\n",
       "id                                                                       \n",
       "49d9c3b8-2d68-4341-87e8-ef834d20f436  TestClass  [255, 170, 0]  manual   \n",
       "f190a3b9-834c-41c3-a81a-7a7b7c56fd46  TestClass  [255, 170, 0]  manual   \n",
       "f43057dc-6390-4fcd-90fe-8615b9fcdbaa  TestClass  [255, 170, 0]  manual   \n",
       "3f0edd7d-65aa-431b-979a-054ec2768150  TestClass  [255, 170, 0]  manual   \n",
       "e1838c34-034d-4334-b1d4-e12dad7c685b  TestClass  [255, 170, 0]  manual   \n",
       "\n",
       "                                                 scale layer_type  \n",
       "id                                                                 \n",
       "49d9c3b8-2d68-4341-87e8-ef834d20f436  [0.2125, 0.2125]     Shapes  \n",
       "f190a3b9-834c-41c3-a81a-7a7b7c56fd46  [0.2125, 0.2125]     Shapes  \n",
       "f43057dc-6390-4fcd-90fe-8615b9fcdbaa  [0.2125, 0.2125]     Shapes  \n",
       "3f0edd7d-65aa-431b-979a-054ec2768150  [0.2125, 0.2125]     Shapes  \n",
       "e1838c34-034d-4334-b1d4-e12dad7c685b  [0.2125, 0.2125]     Shapes  "
      ]
     },
     "execution_count": 16,
     "metadata": {},
     "output_type": "execute_result"
    }
   ],
   "source": [
    "xd.regions.TestKey"
   ]
  },
  {
   "cell_type": "code",
   "execution_count": 17,
   "id": "418286d0-47f5-4bd2-907f-88727a5f9b87",
   "metadata": {},
   "outputs": [
    {
     "data": {
      "text/html": [
       "<div>\n",
       "<style scoped>\n",
       "    .dataframe tbody tr th:only-of-type {\n",
       "        vertical-align: middle;\n",
       "    }\n",
       "\n",
       "    .dataframe tbody tr th {\n",
       "        vertical-align: top;\n",
       "    }\n",
       "\n",
       "    .dataframe thead th {\n",
       "        text-align: right;\n",
       "    }\n",
       "</style>\n",
       "<table border=\"1\" class=\"dataframe\">\n",
       "  <thead>\n",
       "    <tr style=\"text-align: right;\">\n",
       "      <th></th>\n",
       "      <th>objectType</th>\n",
       "      <th>name</th>\n",
       "      <th>isMissing</th>\n",
       "      <th>geometry</th>\n",
       "      <th>origin</th>\n",
       "      <th>scale</th>\n",
       "      <th>layer_type</th>\n",
       "    </tr>\n",
       "    <tr>\n",
       "      <th>id</th>\n",
       "      <th></th>\n",
       "      <th></th>\n",
       "      <th></th>\n",
       "      <th></th>\n",
       "      <th></th>\n",
       "      <th></th>\n",
       "      <th></th>\n",
       "    </tr>\n",
       "  </thead>\n",
       "  <tbody>\n",
       "    <tr>\n",
       "      <th>7ab5d5a6-49bd-4122-bc64-05477bc0207b</th>\n",
       "      <td>tmaCore</td>\n",
       "      <td>B-2</td>\n",
       "      <td>False</td>\n",
       "      <td>POLYGON ((20233.46000 19826.77000, 20228.82000...</td>\n",
       "      <td>file</td>\n",
       "      <td>(0.2125, 0.2125)</td>\n",
       "      <td>Shapes</td>\n",
       "    </tr>\n",
       "    <tr>\n",
       "      <th>06ef93c1-f86d-45e6-ad9a-896e254638ea</th>\n",
       "      <td>tmaCore</td>\n",
       "      <td>A-3</td>\n",
       "      <td>False</td>\n",
       "      <td>POLYGON ((33887.96000 4250.67000, 33883.32000 ...</td>\n",
       "      <td>file</td>\n",
       "      <td>(0.2125, 0.2125)</td>\n",
       "      <td>Shapes</td>\n",
       "    </tr>\n",
       "    <tr>\n",
       "      <th>7933d3fd-ccd3-46af-8f15-fcc01ec9c128</th>\n",
       "      <td>tmaCore</td>\n",
       "      <td>B-1</td>\n",
       "      <td>False</td>\n",
       "      <td>POLYGON ((7318.34000 20393.63000, 7313.69000 2...</td>\n",
       "      <td>file</td>\n",
       "      <td>(0.2125, 0.2125)</td>\n",
       "      <td>Shapes</td>\n",
       "    </tr>\n",
       "    <tr>\n",
       "      <th>7015118d-2947-48e3-baf0-4b220a76a951</th>\n",
       "      <td>tmaCore</td>\n",
       "      <td>B-3</td>\n",
       "      <td>False</td>\n",
       "      <td>POLYGON ((34405.52000 19900.71000, 34400.88000...</td>\n",
       "      <td>file</td>\n",
       "      <td>(0.2125, 0.2125)</td>\n",
       "      <td>Shapes</td>\n",
       "    </tr>\n",
       "    <tr>\n",
       "      <th>bf86657f-31f6-40fe-983b-f80c3d75512b</th>\n",
       "      <td>tmaCore</td>\n",
       "      <td>A-1</td>\n",
       "      <td>False</td>\n",
       "      <td>POLYGON ((6973.30000 4275.31000, 6968.65000 44...</td>\n",
       "      <td>file</td>\n",
       "      <td>(0.2125, 0.2125)</td>\n",
       "      <td>Shapes</td>\n",
       "    </tr>\n",
       "    <tr>\n",
       "      <th>440d8f00-fb0e-42e7-9f98-30d30adfc8df</th>\n",
       "      <td>tmaCore</td>\n",
       "      <td>A-2</td>\n",
       "      <td>False</td>\n",
       "      <td>POLYGON ((19641.96000 4028.85000, 19637.32000 ...</td>\n",
       "      <td>file</td>\n",
       "      <td>(0.2125, 0.2125)</td>\n",
       "      <td>Shapes</td>\n",
       "    </tr>\n",
       "  </tbody>\n",
       "</table>\n",
       "</div>"
      ],
      "text/plain": [
       "                                     objectType name  isMissing  \\\n",
       "id                                                                \n",
       "7ab5d5a6-49bd-4122-bc64-05477bc0207b    tmaCore  B-2      False   \n",
       "06ef93c1-f86d-45e6-ad9a-896e254638ea    tmaCore  A-3      False   \n",
       "7933d3fd-ccd3-46af-8f15-fcc01ec9c128    tmaCore  B-1      False   \n",
       "7015118d-2947-48e3-baf0-4b220a76a951    tmaCore  B-3      False   \n",
       "bf86657f-31f6-40fe-983b-f80c3d75512b    tmaCore  A-1      False   \n",
       "440d8f00-fb0e-42e7-9f98-30d30adfc8df    tmaCore  A-2      False   \n",
       "\n",
       "                                                                               geometry  \\\n",
       "id                                                                                        \n",
       "7ab5d5a6-49bd-4122-bc64-05477bc0207b  POLYGON ((20233.46000 19826.77000, 20228.82000...   \n",
       "06ef93c1-f86d-45e6-ad9a-896e254638ea  POLYGON ((33887.96000 4250.67000, 33883.32000 ...   \n",
       "7933d3fd-ccd3-46af-8f15-fcc01ec9c128  POLYGON ((7318.34000 20393.63000, 7313.69000 2...   \n",
       "7015118d-2947-48e3-baf0-4b220a76a951  POLYGON ((34405.52000 19900.71000, 34400.88000...   \n",
       "bf86657f-31f6-40fe-983b-f80c3d75512b  POLYGON ((6973.30000 4275.31000, 6968.65000 44...   \n",
       "440d8f00-fb0e-42e7-9f98-30d30adfc8df  POLYGON ((19641.96000 4028.85000, 19637.32000 ...   \n",
       "\n",
       "                                     origin             scale layer_type  \n",
       "id                                                                        \n",
       "7ab5d5a6-49bd-4122-bc64-05477bc0207b   file  (0.2125, 0.2125)     Shapes  \n",
       "06ef93c1-f86d-45e6-ad9a-896e254638ea   file  (0.2125, 0.2125)     Shapes  \n",
       "7933d3fd-ccd3-46af-8f15-fcc01ec9c128   file  (0.2125, 0.2125)     Shapes  \n",
       "7015118d-2947-48e3-baf0-4b220a76a951   file  (0.2125, 0.2125)     Shapes  \n",
       "bf86657f-31f6-40fe-983b-f80c3d75512b   file  (0.2125, 0.2125)     Shapes  \n",
       "440d8f00-fb0e-42e7-9f98-30d30adfc8df   file  (0.2125, 0.2125)     Shapes  "
      ]
     },
     "execution_count": 17,
     "metadata": {},
     "output_type": "execute_result"
    }
   ],
   "source": [
    "xd.regions.TMA"
   ]
  },
  {
   "cell_type": "code",
   "execution_count": 24,
   "id": "fb0bf95b-8848-4d56-8579-2c2f17d46133",
   "metadata": {},
   "outputs": [
    {
     "name": "stdout",
     "output_type": "stream",
     "text": [
      "uniqueness?\n",
      "True\n",
      "uniqueness?\n",
      "True\n",
      "uniqueness?\n",
      "True\n",
      "uniqueness?\n",
      "True\n",
      "                                     objectType  \\\n",
      "id                                                \n",
      "8fc203cc-379b-4e87-8826-66b57d0c0b45     region   \n",
      "1d629d7d-2f16-4e52-b2c9-9b7b2a26dc63     region   \n",
      "7ef5438f-5050-46e2-9d0c-c7e485e40815     region   \n",
      "\n",
      "                                                                               geometry  \\\n",
      "id                                                                                        \n",
      "8fc203cc-379b-4e87-8826-66b57d0c0b45  POLYGON ((16527.05766 6396.06984, 16170.17991 ...   \n",
      "1d629d7d-2f16-4e52-b2c9-9b7b2a26dc63  POLYGON ((27507.91149 8098.10219, 27041.22521 ...   \n",
      "7ef5438f-5050-46e2-9d0c-c7e485e40815  POLYGON ((24625.43736 13259.10349, 24268.55961...   \n",
      "\n",
      "                                         name          color  origin  \\\n",
      "id                                                                     \n",
      "8fc203cc-379b-4e87-8826-66b57d0c0b45  asdfsff  [255, 170, 0]  manual   \n",
      "1d629d7d-2f16-4e52-b2c9-9b7b2a26dc63  asdfsff  [255, 170, 0]  manual   \n",
      "7ef5438f-5050-46e2-9d0c-c7e485e40815  asdfsff  [255, 170, 0]  manual   \n",
      "\n",
      "                                                 scale layer_type  \n",
      "id                                                                 \n",
      "8fc203cc-379b-4e87-8826-66b57d0c0b45  [0.2125, 0.2125]     Shapes  \n",
      "1d629d7d-2f16-4e52-b2c9-9b7b2a26dc63  [0.2125, 0.2125]     Shapes  \n",
      "7ef5438f-5050-46e2-9d0c-c7e485e40815  [0.2125, 0.2125]     Shapes  \n"
     ]
    },
    {
     "name": "stderr",
     "output_type": "stream",
     "text": [
      "C:\\Users\\ge37voy\\Github\\InSituPy\\insitupy\\_core\\dataclasses.py:114: UserWarning: Names of regions for key 'dsffsdf' were not unique. Key was skipped.\n",
      "  warnings.warn(message=f\"Names of {self.shape_name} for key '{key}' were not unique. Key was skipped.\")\n"
     ]
    }
   ],
   "source": [
    "xd.store_geometries()"
   ]
  },
  {
   "cell_type": "code",
   "execution_count": 25,
   "id": "5e00eb69-5394-45c6-afd9-661b21b90d64",
   "metadata": {},
   "outputs": [
    {
     "data": {
      "text/plain": [
       "\u001b[1m\u001b[31mInSituData\u001b[0m\n",
       "\u001b[1mMethod:\u001b[0m\t\tXenium\n",
       "\u001b[1mSlide ID:\u001b[0m\t0001879\n",
       "\u001b[1mSample ID:\u001b[0m\tReplicate 1\n",
       "\u001b[1mPath:\u001b[0m\t\tC:\\Users\\ge37voy\\Github\\InSituPy\\notebooks\\demo_dataset\\demo_insitupy_project\n",
       "\u001b[1mMetadata file:\u001b[0m\t.ispy\n",
       "    ➤ \u001b[34m\u001b[1mimages\u001b[0m\n",
       "       \u001b[1mnuclei:\u001b[0m\t(25778, 35416)\n",
       "       \u001b[1mCD20:\u001b[0m\t(25778, 35416)\n",
       "       \u001b[1mHER2:\u001b[0m\t(25778, 35416)\n",
       "       \u001b[1mHE:\u001b[0m\t(25778, 35416, 3)\n",
       "    ➤\u001b[32m\u001b[1m cells\u001b[0m\n",
       "       \u001b[1mmatrix\u001b[0m\n",
       "           AnnData object with n_obs × n_vars = 167780 × 313\n",
       "           obs: 'transcript_counts', 'control_probe_counts', 'control_codeword_counts', 'total_counts', 'cell_area', 'nucleus_area', 'annotation-demo', 'annotation-demo2', 'dist_from_points'\n",
       "           var: 'gene_ids', 'feature_types', 'genome'\n",
       "           obsm: 'spatial'\n",
       "           varm: 'binned_expression'\n",
       "       \u001b[1mboundaries\u001b[0m\n",
       "           BoundariesData object with 2 entries:\n",
       "               \u001b[1mcellular\u001b[0m\n",
       "               \u001b[1mnuclear\u001b[0m\n",
       "    ➤ \u001b[36m\u001b[1mannotations\u001b[0m\n",
       "       \u001b[1mdemo:\u001b[0m\t4 annotations, 2 classes ('Positive','Negative') \n",
       "       \u001b[1mdemo2:\u001b[0m\t5 annotations, 3 classes ('Negative','Positive','Other') \n",
       "       \u001b[1mTestKey:\u001b[0m\t7 annotations, 1 class ('TestClass') \n",
       "    ➤ \u001b[33m\u001b[1mregions\u001b[0m\n",
       "       \u001b[1mdemo_regions:\u001b[0m\t3 regions, 3 classes ('Region1','Region2','Region3') \n",
       "       \u001b[1mTMA:\u001b[0m\t6 regions, 6 classes ('B-2','A-3','B-1','B-3','A-1','A-2') \n",
       "       \u001b[1mTestKey:\u001b[0m\t5 regions, 1 class ('TestClass') \n",
       "       \u001b[1mbsdf:\u001b[0m\t6 regions, 2 classes ('TesadsfadftClass','asdf') "
      ]
     },
     "execution_count": 25,
     "metadata": {},
     "output_type": "execute_result"
    }
   ],
   "source": [
    "xd"
   ]
  },
  {
   "cell_type": "code",
   "execution_count": 22,
   "id": "02514a8e-ce00-42f5-9a8a-22c471dcac07",
   "metadata": {},
   "outputs": [
    {
     "data": {
      "text/plain": [
       "insitupy._core.dataclasses.RegionsData"
      ]
     },
     "execution_count": 22,
     "metadata": {},
     "output_type": "execute_result"
    }
   ],
   "source": [
    "type(xd.regions)"
   ]
  },
  {
   "cell_type": "code",
   "execution_count": 15,
   "id": "31b2cdb0-dab2-48b6-9275-f9f8c6a5194c",
   "metadata": {},
   "outputs": [],
   "source": [
    "xd.show()"
   ]
  },
  {
   "cell_type": "markdown",
   "id": "5273cd32-d079-49b2-af2e-1d7fc3272e5d",
   "metadata": {},
   "source": [
    "# Lines should not be allowed for Regions"
   ]
  },
  {
   "cell_type": "code",
   "execution_count": 18,
   "id": "f91c6c7e-1afc-4069-847a-6157f0fdc07b",
   "metadata": {},
   "outputs": [
    {
     "data": {
      "text/plain": [
       "'nuclei'"
      ]
     },
     "execution_count": 18,
     "metadata": {},
     "output_type": "execute_result"
    }
   ],
   "source": [
    "xd.viewer.layers[\"nuclei\"].name"
   ]
  },
  {
   "cell_type": "code",
   "execution_count": 14,
   "id": "5c16fec5-b044-4147-b505-f71807f6a53b",
   "metadata": {},
   "outputs": [
    {
     "data": {
      "text/plain": [
       "\u001b[1m\u001b[31mInSituData\u001b[0m\n",
       "\u001b[1mMethod:\u001b[0m\t\tXenium\n",
       "\u001b[1mSlide ID:\u001b[0m\t0001879\n",
       "\u001b[1mSample ID:\u001b[0m\tReplicate 1\n",
       "\u001b[1mPath:\u001b[0m\t\tC:\\Users\\ge37voy\\Github\\InSituPy\\notebooks\\demo_dataset\\demo_insitupy_project\n",
       "\u001b[1mMetadata file:\u001b[0m\t.ispy\n",
       "    ➤ \u001b[34m\u001b[1mimages\u001b[0m\n",
       "       \u001b[1mnuclei:\u001b[0m\t(25778, 35416)\n",
       "       \u001b[1mCD20:\u001b[0m\t(25778, 35416)\n",
       "       \u001b[1mHER2:\u001b[0m\t(25778, 35416)\n",
       "       \u001b[1mHE:\u001b[0m\t(25778, 35416, 3)\n",
       "    ➤\u001b[32m\u001b[1m cells\u001b[0m\n",
       "       \u001b[1mmatrix\u001b[0m\n",
       "           AnnData object with n_obs × n_vars = 167780 × 313\n",
       "           obs: 'transcript_counts', 'control_probe_counts', 'control_codeword_counts', 'total_counts', 'cell_area', 'nucleus_area', 'annotation-demo', 'annotation-demo2', 'dist_from_points'\n",
       "           var: 'gene_ids', 'feature_types', 'genome'\n",
       "           obsm: 'spatial'\n",
       "           varm: 'binned_expression'\n",
       "       \u001b[1mboundaries\u001b[0m\n",
       "           BoundariesData object with 2 entries:\n",
       "               \u001b[1mcellular\u001b[0m\n",
       "               \u001b[1mnuclear\u001b[0m\n",
       "    ➤ \u001b[36m\u001b[1mannotations\u001b[0m\n",
       "       \u001b[1mdemo:\u001b[0m\t4 annotations, 2 classes ('Positive','Negative') \n",
       "       \u001b[1mdemo2:\u001b[0m\t5 annotations, 3 classes ('Negative','Positive','Other') \n",
       "       \u001b[1mTestKey:\u001b[0m\t6 annotations, 1 class ('TestClass') \n",
       "    ➤ \u001b[33m\u001b[1mregions\u001b[0m\n",
       "       \u001b[1mdemo_regions:\u001b[0m\t3 regions, 3 classes ('Region1','Region2','Region3') \n",
       "       \u001b[1mTMA:\u001b[0m\t6 regions, 6 classes ('B-2','A-3','B-1','B-3','A-1','A-2') "
      ]
     },
     "execution_count": 14,
     "metadata": {},
     "output_type": "execute_result"
    }
   ],
   "source": [
    "xd"
   ]
  },
  {
   "cell_type": "markdown",
   "id": "1a119b26",
   "metadata": {},
   "source": [
    "### Visualize and edit annotations and regions using napari\n",
    "\n",
    "To visualize annotations and regions in napari, three widgets are available:\n",
    "- \"Add annotations\"\n",
    "- \"Show regions\"\n",
    "- \"Show annotations\"\n",
    "\n",
    "The widgets \"Show annotations\" and \"Show regions\" are grouped together and accessible via tabs:\n",
    "\n",
    "<left><img src=\"./demo_annotations/napari_region+annotations_widget.jpg\" width=\"300\"/></left>\n",
    "\n",
    "\n",
    "Using thes widgets, annotations and regions can be displayed. New annotations can be added using the \"Add annotations\" widget.\n",
    "\n",
    "Annotations can also be displayed while starting the napari viewer with `.show()` using the `annotation_keys` argument:\n"
   ]
  },
  {
   "cell_type": "code",
   "execution_count": 13,
   "id": "cb83258b",
   "metadata": {},
   "outputs": [
    {
     "name": "stderr",
     "output_type": "stream",
     "text": [
      "WARNING: QWindowsWindow::setGeometry: Unable to set geometry 853x533+828-1084 (frame: 869x572+820-1115) on QWidgetWindow/\"_QtMainWindowClassWindow\" on \"\\\\.\\DISPLAY7\". Resulting geometry: 567x653+825-1098 (frame: 583x692+817-1129) margins: 8, 31, 8, 8 minimum size: 385x492 MINMAXINFO maxSize=0,0 maxpos=0,0 mintrack=401,531 maxtrack=0,0)\n"
     ]
    }
   ],
   "source": [
    "xd.show(annotation_keys=\"all\")"
   ]
  },
  {
   "cell_type": "markdown",
   "id": "96bbf557",
   "metadata": {},
   "source": [
    "#### Annotation layers\n",
    "\n",
    "The annotations are added as shapes layers to the layer list. The layer name always starts with a \"*\" and has following syntax: `\"* Class (Label)\"`:\n",
    "\n",
    "<left><img src=\"./demo_annotations/napari_layerlist_annotations.jpg\" width=\"300\"/></left>\n",
    "\n",
    "- **Label**: A label for one collection of annotations. Could e.g. tell us who did the annotations or what is the focus of this collection of annotations.\n",
    "- **Class**: Specifies the class of one specific annotation. Could be e.g. the name of cells, the morphological structure or the disease state annotated.\n",
    "\n",
    "#### Add custom annotations using the Annotation Widget\n",
    "\n",
    "<left><img src=\"./demo_annotations/napari_annotation_widget.jpg\" width=\"200\"/></left>\n",
    "\n",
    "By clicking the `\"Add annotation layer\"` button a new layer with the above mentioned syntax is added. The layer controls on the top left can be then used to add new shapes as annotations:\n",
    "\n",
    "<left><img src=\"./demo_annotations/napari_layerconrols_annotations.jpg\" width=\"300\"/></left>\n",
    "\n",
    "An example annotation is shown here:\n",
    "\n",
    "<left><img src=\"./demo_annotations/napari_annotation_example.jpg\" width=\"200\"/></left>\n",
    "\n",
    "The annotations can then be stored in the `XeniumData` object using the `store_annotations` function.\n"
   ]
  },
  {
   "cell_type": "code",
   "execution_count": 15,
   "id": "784016c1",
   "metadata": {},
   "outputs": [
    {
     "name": "stdout",
     "output_type": "stream",
     "text": [
      "Added 3 new annotations to existing key 'demo2'\n"
     ]
    }
   ],
   "source": [
    "xd.store_annotations()"
   ]
  },
  {
   "cell_type": "code",
   "execution_count": 16,
   "id": "2afc7f85",
   "metadata": {},
   "outputs": [
    {
     "data": {
      "text/plain": [
       "\u001b[1m\u001b[31mXeniumData\u001b[0m\n",
       "\u001b[1mSlide ID:\u001b[0m\t0001879\n",
       "\u001b[1mSample ID:\u001b[0m\tReplicate 1\n",
       "\u001b[1mData path:\u001b[0m\tdemo_dataset\n",
       "\u001b[1mData folder:\u001b[0m\tdemo_insitupy_project\n",
       "\u001b[1mMetadata file:\u001b[0m\t.ispy\n",
       "    ➤ \u001b[34m\u001b[1mimages\u001b[0m\n",
       "       \u001b[1mnuclei:\u001b[0m\t(25778, 35416)\n",
       "       \u001b[1mCD20:\u001b[0m\t(25778, 35416)\n",
       "       \u001b[1mHER2:\u001b[0m\t(25778, 35416)\n",
       "       \u001b[1mHE:\u001b[0m\t(25778, 35416, 3)\n",
       "    ➤\u001b[32m\u001b[1m cells\u001b[0m\n",
       "       \u001b[1mmatrix\u001b[0m\n",
       "           AnnData object with n_obs × n_vars = 167780 × 313\n",
       "           obs: 'transcript_counts', 'control_probe_counts', 'control_codeword_counts', 'total_counts', 'cell_area', 'nucleus_area'\n",
       "           var: 'gene_ids', 'feature_types', 'genome'\n",
       "           obsm: 'spatial'\n",
       "           varm: 'binned_expression'\n",
       "       \u001b[1mboundaries\u001b[0m\n",
       "           BoundariesData object with 2 entries:\n",
       "               \u001b[1mcellular\u001b[0m\n",
       "               \u001b[1mnuclear\u001b[0m\n",
       "    ➤ \u001b[36m\u001b[1mannotations\u001b[0m\n",
       "       \u001b[1mdemo:\u001b[0m\t4 annotations, 2 classes ('Positive','Negative') \n",
       "       \u001b[1mdemo2:\u001b[0m\t7 annotations, 4 classes ('Negative','Positive','Other','test_class') \n",
       "    ➤ \u001b[33m\u001b[1mregions\u001b[0m\n",
       "       \u001b[1mdemo_regions:\u001b[0m\t3 regions, 3 classes ('Region1','Region2','Region3') \n",
       "       \u001b[1mTMA:\u001b[0m\t6 regions, 6 classes ('B-2','A-3','B-1','B-3','A-1','A-2') "
      ]
     },
     "execution_count": 16,
     "metadata": {},
     "output_type": "execute_result"
    }
   ],
   "source": [
    "xd"
   ]
  },
  {
   "cell_type": "markdown",
   "id": "320ab6d4",
   "metadata": {},
   "source": [
    "### Assign annotations to observations\n",
    "\n",
    "To use the annotations in analyses (e.g. to select only observations within a certain annotation or compare gene expression between different annotations) one can use the `assign_annotations` function. It adds columns containing the annotation class to `xd.matrix.obs`. The column has the syntax `annotation-{Label}` and if an observation is not part of any annotation within this label, it contains `NaN`. "
   ]
  },
  {
   "cell_type": "code",
   "execution_count": 17,
   "id": "6a8f3255",
   "metadata": {},
   "outputs": [
    {
     "name": "stdout",
     "output_type": "stream",
     "text": [
      "Assigning key 'demo'...\n",
      "Assigning key 'demo2'...\n"
     ]
    }
   ],
   "source": [
    "xd.assign_annotations()"
   ]
  },
  {
   "cell_type": "markdown",
   "id": "901bcfc0",
   "metadata": {},
   "source": [
    "After assigning the annotations, the labels analyzed here are marked with a ✔:"
   ]
  },
  {
   "cell_type": "code",
   "execution_count": 18,
   "id": "fffdeae5",
   "metadata": {},
   "outputs": [
    {
     "data": {
      "text/plain": [
       "\u001b[1m\u001b[31mXeniumData\u001b[0m\n",
       "\u001b[1mSlide ID:\u001b[0m\t0001879\n",
       "\u001b[1mSample ID:\u001b[0m\tReplicate 1\n",
       "\u001b[1mData path:\u001b[0m\tdemo_dataset\n",
       "\u001b[1mData folder:\u001b[0m\tdemo_insitupy_project\n",
       "\u001b[1mMetadata file:\u001b[0m\t.ispy\n",
       "    ➤ \u001b[34m\u001b[1mimages\u001b[0m\n",
       "       \u001b[1mnuclei:\u001b[0m\t(25778, 35416)\n",
       "       \u001b[1mCD20:\u001b[0m\t(25778, 35416)\n",
       "       \u001b[1mHER2:\u001b[0m\t(25778, 35416)\n",
       "       \u001b[1mHE:\u001b[0m\t(25778, 35416, 3)\n",
       "    ➤\u001b[32m\u001b[1m cells\u001b[0m\n",
       "       \u001b[1mmatrix\u001b[0m\n",
       "           AnnData object with n_obs × n_vars = 167780 × 313\n",
       "           obs: 'transcript_counts', 'control_probe_counts', 'control_codeword_counts', 'total_counts', 'cell_area', 'nucleus_area', 'annotation-demo', 'annotation-demo2'\n",
       "           var: 'gene_ids', 'feature_types', 'genome'\n",
       "           obsm: 'spatial'\n",
       "           varm: 'binned_expression'\n",
       "       \u001b[1mboundaries\u001b[0m\n",
       "           BoundariesData object with 2 entries:\n",
       "               \u001b[1mcellular\u001b[0m\n",
       "               \u001b[1mnuclear\u001b[0m\n",
       "    ➤ \u001b[36m\u001b[1mannotations\u001b[0m\n",
       "       \u001b[1mdemo:\u001b[0m\t4 annotations, 2 classes ('Positive','Negative') ✔\n",
       "       \u001b[1mdemo2:\u001b[0m\t7 annotations, 4 classes ('Negative','Positive','Other','test_class') ✔\n",
       "    ➤ \u001b[33m\u001b[1mregions\u001b[0m\n",
       "       \u001b[1mdemo_regions:\u001b[0m\t3 regions, 3 classes ('Region1','Region2','Region3') \n",
       "       \u001b[1mTMA:\u001b[0m\t6 regions, 6 classes ('B-2','A-3','B-1','B-3','A-1','A-2') "
      ]
     },
     "execution_count": 18,
     "metadata": {},
     "output_type": "execute_result"
    }
   ],
   "source": [
    "xd"
   ]
  },
  {
   "cell_type": "markdown",
   "id": "143488f4",
   "metadata": {},
   "source": [
    "Following cells show examples how to explore the assigned annotations:"
   ]
  },
  {
   "cell_type": "code",
   "execution_count": 19,
   "id": "d8ce99a6",
   "metadata": {},
   "outputs": [
    {
     "data": {
      "text/plain": [
       "21199"
      ]
     },
     "execution_count": 19,
     "metadata": {},
     "output_type": "execute_result"
    }
   ],
   "source": [
    "# print number of cells within one annotation\n",
    "xd.cells.matrix.obs[\"annotation-demo2\"].notna().sum()"
   ]
  },
  {
   "cell_type": "code",
   "execution_count": 20,
   "id": "c8190aa7",
   "metadata": {},
   "outputs": [
    {
     "data": {
      "text/html": [
       "<div>\n",
       "<style scoped>\n",
       "    .dataframe tbody tr th:only-of-type {\n",
       "        vertical-align: middle;\n",
       "    }\n",
       "\n",
       "    .dataframe tbody tr th {\n",
       "        vertical-align: top;\n",
       "    }\n",
       "\n",
       "    .dataframe thead th {\n",
       "        text-align: right;\n",
       "    }\n",
       "</style>\n",
       "<table border=\"1\" class=\"dataframe\">\n",
       "  <thead>\n",
       "    <tr style=\"text-align: right;\">\n",
       "      <th></th>\n",
       "      <th>transcript_counts</th>\n",
       "      <th>control_probe_counts</th>\n",
       "      <th>control_codeword_counts</th>\n",
       "      <th>total_counts</th>\n",
       "      <th>cell_area</th>\n",
       "      <th>nucleus_area</th>\n",
       "      <th>annotation-demo</th>\n",
       "      <th>annotation-demo2</th>\n",
       "    </tr>\n",
       "  </thead>\n",
       "  <tbody>\n",
       "    <tr>\n",
       "      <th>4921</th>\n",
       "      <td>281</td>\n",
       "      <td>0</td>\n",
       "      <td>0</td>\n",
       "      <td>281</td>\n",
       "      <td>733.247187</td>\n",
       "      <td>26.010000</td>\n",
       "      <td>NaN</td>\n",
       "      <td>Other</td>\n",
       "    </tr>\n",
       "    <tr>\n",
       "      <th>4922</th>\n",
       "      <td>273</td>\n",
       "      <td>1</td>\n",
       "      <td>0</td>\n",
       "      <td>274</td>\n",
       "      <td>380.576875</td>\n",
       "      <td>30.074063</td>\n",
       "      <td>NaN</td>\n",
       "      <td>Other</td>\n",
       "    </tr>\n",
       "    <tr>\n",
       "      <th>4923</th>\n",
       "      <td>189</td>\n",
       "      <td>2</td>\n",
       "      <td>0</td>\n",
       "      <td>191</td>\n",
       "      <td>285.658437</td>\n",
       "      <td>8.263594</td>\n",
       "      <td>NaN</td>\n",
       "      <td>Other</td>\n",
       "    </tr>\n",
       "    <tr>\n",
       "      <th>4924</th>\n",
       "      <td>212</td>\n",
       "      <td>0</td>\n",
       "      <td>0</td>\n",
       "      <td>212</td>\n",
       "      <td>282.226562</td>\n",
       "      <td>24.068281</td>\n",
       "      <td>NaN</td>\n",
       "      <td>Other</td>\n",
       "    </tr>\n",
       "    <tr>\n",
       "      <th>4925</th>\n",
       "      <td>58</td>\n",
       "      <td>0</td>\n",
       "      <td>0</td>\n",
       "      <td>58</td>\n",
       "      <td>81.823125</td>\n",
       "      <td>4.470469</td>\n",
       "      <td>NaN</td>\n",
       "      <td>Other</td>\n",
       "    </tr>\n",
       "    <tr>\n",
       "      <th>...</th>\n",
       "      <td>...</td>\n",
       "      <td>...</td>\n",
       "      <td>...</td>\n",
       "      <td>...</td>\n",
       "      <td>...</td>\n",
       "      <td>...</td>\n",
       "      <td>...</td>\n",
       "      <td>...</td>\n",
       "    </tr>\n",
       "    <tr>\n",
       "      <th>165374</th>\n",
       "      <td>96</td>\n",
       "      <td>1</td>\n",
       "      <td>0</td>\n",
       "      <td>97</td>\n",
       "      <td>150.234844</td>\n",
       "      <td>11.063281</td>\n",
       "      <td>Negative</td>\n",
       "      <td>Negative</td>\n",
       "    </tr>\n",
       "    <tr>\n",
       "      <th>165375</th>\n",
       "      <td>379</td>\n",
       "      <td>0</td>\n",
       "      <td>0</td>\n",
       "      <td>379</td>\n",
       "      <td>153.666719</td>\n",
       "      <td>75.681875</td>\n",
       "      <td>Negative</td>\n",
       "      <td>Negative</td>\n",
       "    </tr>\n",
       "    <tr>\n",
       "      <th>165376</th>\n",
       "      <td>101</td>\n",
       "      <td>0</td>\n",
       "      <td>0</td>\n",
       "      <td>101</td>\n",
       "      <td>27.996875</td>\n",
       "      <td>17.836719</td>\n",
       "      <td>Negative</td>\n",
       "      <td>Negative</td>\n",
       "    </tr>\n",
       "    <tr>\n",
       "      <th>165377</th>\n",
       "      <td>472</td>\n",
       "      <td>0</td>\n",
       "      <td>0</td>\n",
       "      <td>472</td>\n",
       "      <td>200.177656</td>\n",
       "      <td>52.652188</td>\n",
       "      <td>Negative</td>\n",
       "      <td>Negative</td>\n",
       "    </tr>\n",
       "    <tr>\n",
       "      <th>165378</th>\n",
       "      <td>588</td>\n",
       "      <td>0</td>\n",
       "      <td>0</td>\n",
       "      <td>588</td>\n",
       "      <td>319.525625</td>\n",
       "      <td>96.995625</td>\n",
       "      <td>Negative</td>\n",
       "      <td>Negative</td>\n",
       "    </tr>\n",
       "  </tbody>\n",
       "</table>\n",
       "<p>21199 rows × 8 columns</p>\n",
       "</div>"
      ],
      "text/plain": [
       "        transcript_counts  control_probe_counts  control_codeword_counts  \\\n",
       "4921                  281                     0                        0   \n",
       "4922                  273                     1                        0   \n",
       "4923                  189                     2                        0   \n",
       "4924                  212                     0                        0   \n",
       "4925                   58                     0                        0   \n",
       "...                   ...                   ...                      ...   \n",
       "165374                 96                     1                        0   \n",
       "165375                379                     0                        0   \n",
       "165376                101                     0                        0   \n",
       "165377                472                     0                        0   \n",
       "165378                588                     0                        0   \n",
       "\n",
       "        total_counts   cell_area  nucleus_area annotation-demo  \\\n",
       "4921             281  733.247187     26.010000             NaN   \n",
       "4922             274  380.576875     30.074063             NaN   \n",
       "4923             191  285.658437      8.263594             NaN   \n",
       "4924             212  282.226562     24.068281             NaN   \n",
       "4925              58   81.823125      4.470469             NaN   \n",
       "...              ...         ...           ...             ...   \n",
       "165374            97  150.234844     11.063281        Negative   \n",
       "165375           379  153.666719     75.681875        Negative   \n",
       "165376           101   27.996875     17.836719        Negative   \n",
       "165377           472  200.177656     52.652188        Negative   \n",
       "165378           588  319.525625     96.995625        Negative   \n",
       "\n",
       "       annotation-demo2  \n",
       "4921              Other  \n",
       "4922              Other  \n",
       "4923              Other  \n",
       "4924              Other  \n",
       "4925              Other  \n",
       "...                 ...  \n",
       "165374         Negative  \n",
       "165375         Negative  \n",
       "165376         Negative  \n",
       "165377         Negative  \n",
       "165378         Negative  \n",
       "\n",
       "[21199 rows x 8 columns]"
      ]
     },
     "execution_count": 20,
     "metadata": {},
     "output_type": "execute_result"
    }
   ],
   "source": [
    "# show only observations that were part of this annotation label\n",
    "xd.cells.matrix.obs[xd.cells.matrix.obs[\"annotation-demo2\"].notna()]"
   ]
  },
  {
   "cell_type": "markdown",
   "id": "2f209ebb",
   "metadata": {},
   "source": [
    "## Save imported annotations in `InSituPy` project"
   ]
  },
  {
   "cell_type": "code",
   "execution_count": 25,
   "id": "bd9034f1",
   "metadata": {},
   "outputs": [
    {
     "name": "stdout",
     "output_type": "stream",
     "text": [
      "Updating project in c:\\Users\\ge37voy\\Github\\InSituPy\\notebooks\\demo_dataset\\demo_insitupy_project\n",
      "\tUpdating cells...\n",
      "\tUpdating annotations...\n",
      "\tUpdating regions...\n",
      "Saved.\n",
      "Reloading following modalities: annotations,cells,images,regions\n",
      "Loading annotations...\n",
      "Loading cells...\n",
      "\tNo alternative cells found...\n",
      "Loading images...\n",
      "Loading regions...\n"
     ]
    }
   ],
   "source": [
    "xd.save()"
   ]
  },
  {
   "cell_type": "code",
   "execution_count": 26,
   "id": "aec32282",
   "metadata": {},
   "outputs": [],
   "source": [
    "xd.show()"
   ]
  },
  {
   "cell_type": "code",
   "execution_count": null,
   "id": "80834d05",
   "metadata": {},
   "outputs": [],
   "source": []
  }
 ],
 "metadata": {
  "kernelspec": {
   "display_name": "insitupy_kernel",
   "language": "python",
   "name": "insitupy"
  },
  "language_info": {
   "codemirror_mode": {
    "name": "ipython",
    "version": 3
   },
   "file_extension": ".py",
   "mimetype": "text/x-python",
   "name": "python",
   "nbconvert_exporter": "python",
   "pygments_lexer": "ipython3",
   "version": "3.9.18"
  }
 },
 "nbformat": 4,
 "nbformat_minor": 5
}
