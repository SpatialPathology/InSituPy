{
 "cells": [
  {
   "cell_type": "markdown",
   "id": "b16df72d-5dd5-47da-a8c3-b569fe97446b",
   "metadata": {
    "tags": []
   },
   "source": [
    "# InSituPy demonstration - Add annotations"
   ]
  },
  {
   "cell_type": "code",
   "execution_count": 1,
   "id": "8bc0c4ed-3587-460e-98d2-6626a020a327",
   "metadata": {},
   "outputs": [],
   "source": [
    "## The following code ensures that all functions and init files are reloaded before executions.\n",
    "%load_ext autoreload\n",
    "%autoreload 2"
   ]
  },
  {
   "cell_type": "code",
   "execution_count": 2,
   "id": "58107e0b-5017-425b-8cd0-9274be2b8253",
   "metadata": {},
   "outputs": [],
   "source": [
    "from pathlib import Path\n",
    "from insitupy import XeniumData"
   ]
  },
  {
   "cell_type": "markdown",
   "id": "db038252",
   "metadata": {},
   "source": [
    "## Previous steps\n",
    "\n",
    "1. Download the example data for demonstration: [01_InSituPy_demo_download_data.ipynb](./01_InSituPy_demo_download_data.ipynb)\n",
    "2. Register images from external stainings: [02_InSituPy_demo_register_images.ipynb](./02_InSituPy_demo_register_images.ipynb)\n",
    "3. Visualize data with napari and do preprocessing steps: [03_InSituPy_demo_analyze.ipynb](./03_InSituPy_demo_analyze.ipynb)\n",
    "\n",
    "At this point, the structure of the data should look like this:\n",
    "\n",
    "    ```\n",
    "    ./demo_dataset\n",
    "    ├───cropped_processed\n",
    "    ├───output-XETG00000__slide_id__sample_id\n",
    "    │   ├───analysis\n",
    "    │   │   ├───clustering\n",
    "    │   │   ├───diffexp\n",
    "    │   │   ├───pca\n",
    "    │   │   ├───tsne\n",
    "    │   │   └───umap\n",
    "    │   └───cell_feature_matrix\n",
    "    ├───registered_images\n",
    "    ├───registration_qc\n",
    "    └───unregistered_images\n",
    "    ```\n"
   ]
  },
  {
   "cell_type": "markdown",
   "id": "ae409a19",
   "metadata": {},
   "source": [
    "## Load Xenium data into `XeniumData` object\n",
    "\n",
    "Now the Xenium data can be parsed by providing the data path to `XeniumData`"
   ]
  },
  {
   "cell_type": "code",
   "execution_count": 3,
   "id": "2db31fb9",
   "metadata": {},
   "outputs": [],
   "source": [
    "# prepare paths\n",
    "data_dir = Path(\"demo_dataset\") # output directory\n",
    "xenium_dir = data_dir / \"output-XETG00000__slide_id__sample_id\" # directory of xenium data\n",
    "image_dir = data_dir / \"unregistered_images\" # directory of images"
   ]
  },
  {
   "cell_type": "code",
   "execution_count": 4,
   "id": "188ddb98",
   "metadata": {},
   "outputs": [],
   "source": [
    "xd = XeniumData(xenium_dir)"
   ]
  },
  {
   "cell_type": "code",
   "execution_count": 5,
   "id": "22afdac4",
   "metadata": {},
   "outputs": [
    {
     "data": {
      "text/plain": [
       "\u001b[1m\u001b[31mXeniumData\u001b[0m\n",
       "\u001b[1mSlide ID:\u001b[0m\tslide_id\n",
       "\u001b[1mSample ID:\u001b[0m\tsample_id\n",
       "\u001b[1mData path:\u001b[0m\tdemo_dataset\n",
       "\u001b[1mData folder:\u001b[0m\toutput-XETG00000__slide_id__sample_id\n",
       "\u001b[1mMetadata file:\u001b[0m\texperiment_modified.xenium"
      ]
     },
     "execution_count": 5,
     "metadata": {},
     "output_type": "execute_result"
    }
   ],
   "source": [
    "xd"
   ]
  },
  {
   "cell_type": "code",
   "execution_count": 6,
   "id": "e0ec9d39",
   "metadata": {},
   "outputs": [
    {
     "name": "stdout",
     "output_type": "stream",
     "text": [
      "No `annotations` modality found.\n",
      "Reading boundaries...\n",
      "Reading images...\n",
      "Reading matrix...\n",
      "Reading transcripts...\n"
     ]
    }
   ],
   "source": [
    "# read all data modalities at once\n",
    "xd.read_all()\n",
    "\n",
    "# alternatively, it is also possible to read each modality separately\n",
    "# xd.read_matrix()\n",
    "# xd.read_images()\n",
    "# xd.read_boundaries()\n",
    "# xd.read_transcripts()\n",
    "# xd.read_annotations()"
   ]
  },
  {
   "cell_type": "markdown",
   "id": "a7cc74ee",
   "metadata": {},
   "source": [
    "Note: That the `annotations` modality is not found here is expected. Annotations are added in a later step."
   ]
  },
  {
   "cell_type": "code",
   "execution_count": 7,
   "id": "7a864387",
   "metadata": {},
   "outputs": [
    {
     "data": {
      "text/plain": [
       "\u001b[1m\u001b[31mXeniumData\u001b[0m\n",
       "\u001b[1mSlide ID:\u001b[0m\tslide_id\n",
       "\u001b[1mSample ID:\u001b[0m\tsample_id\n",
       "\u001b[1mData path:\u001b[0m\tdemo_dataset\n",
       "\u001b[1mData folder:\u001b[0m\toutput-XETG00000__slide_id__sample_id\n",
       "\u001b[1mMetadata file:\u001b[0m\texperiment_modified.xenium\n",
       "    ➤ \u001b[34m\u001b[1mimages\u001b[0m\n",
       "       \u001b[1mnuclei:\u001b[0m\t(25778, 35416)\n",
       "       \u001b[1mCD20:\u001b[0m\t(25778, 35416)\n",
       "       \u001b[1mHER2:\u001b[0m\t(25778, 35416)\n",
       "       \u001b[1mHE:\u001b[0m\t(25778, 35416, 3)\n",
       "    ➤\u001b[32m\u001b[1m matrix\u001b[0m\n",
       "       AnnData object with n_obs × n_vars = 167780 × 313\n",
       "\t       obs: 'transcript_counts', 'control_probe_counts', 'control_codeword_counts', 'total_counts', 'cell_area', 'nucleus_area'\n",
       "\t       var: 'gene_ids', 'feature_types', 'genome'\n",
       "\t       obsm: 'spatial'\n",
       "    ➤\u001b[96m\u001b[1m transcripts\u001b[0m\n",
       "\t   DataFrame with shape 42638083 x 8\n",
       "    ➤ \u001b[95m\u001b[1mboundaries\u001b[0m\n",
       "       \u001b[1mcells\u001b[0m\n",
       "       \u001b[1mnuclei\u001b[0m"
      ]
     },
     "execution_count": 7,
     "metadata": {},
     "output_type": "execute_result"
    }
   ],
   "source": [
    "xd"
   ]
  },
  {
   "cell_type": "markdown",
   "metadata": {},
   "source": [
    "## Load annotations\n",
    "\n",
    "For the analysis of spatial transcriptomic datasets the inclusion of annotations from experts of disease pathology is key. Here, we demonstrate how to annotate data in [QuPath](https://qupath.github.io/), export the annotations as `.geojson` file and import them into the `XeniumData` object.\n",
    "\n",
    "### Create annotations in QuPath\n",
    "\n",
    "To create annotations in QuPath, follow these steps:\n",
    "\n",
    "1. Select a annotation tool from the bar on the top left:\n",
    "\n",
    "<center><img src=\"./demo_annotations/qupath_annotation_buttons.png\"/></center>\n",
    "\n",
    "2. Add as many annotations as you want and label them by setting classes in the annotation list. Do not forget to press the \"Set class\" button:\n",
    "\n",
    "<center><img src=\"./demo_annotations/qupath_annotation_list.png\"/></center>\n",
    "\n",
    "3. Export annotations using `File > Export objects as GeoJSON`. Tick `Pretty JSON` to get an easily readable JSON file. The file name needs to have following structure: `annotation-{slide_id}__{sample_id}__{annotation_label}`.\n",
    "\n",
    "### Import annotations into `XeniumData`\n",
    "\n",
    "For demonstration purposes, we created a dummy annotation file in `./demo_annotations/`. To add the annotations to `XeniumData` follow the steps below.\n",
    "\n"
   ]
  },
  {
   "cell_type": "code",
   "execution_count": 8,
   "metadata": {},
   "outputs": [
    {
     "name": "stdout",
     "output_type": "stream",
     "text": [
      "Reading annotations...\n"
     ]
    }
   ],
   "source": [
    "xd.read_annotations(annotation_dir=\"./demo_annotations/\")"
   ]
  },
  {
   "cell_type": "code",
   "execution_count": 9,
   "metadata": {},
   "outputs": [
    {
     "name": "stderr",
     "output_type": "stream",
     "text": [
      "WARNING: QWindowsWindow::setGeometry: Unable to set geometry 2172x1310+176+328 (frame: 2194x1366+165+283) on QWidgetWindow/\"_QtMainWindowClassWindow\" on \"\\\\.\\DISPLAY1\". Resulting geometry: 3260x1968+179+342 (frame: 3282x2024+168+297) margins: 11, 45, 11, 11 minimum size: 385x492 MINMAXINFO maxSize=0,0 maxpos=0,0 mintrack=792,1040 maxtrack=0,0)\n"
     ]
    }
   ],
   "source": [
    "xd.show(annotation_labels=\"demo\")"
   ]
  },
  {
   "cell_type": "markdown",
   "id": "89e5650a",
   "metadata": {},
   "source": [
    "## Save results\n",
    "\n",
    "The cropped and/or processed data can be saved into a folder using the `.save()` function of `XeniumData`.\n",
    "\n",
    "The resulting folder has following structure:\n",
    "```\n",
    "cropped_processed\n",
    "│   xenium.json\n",
    "│   xeniumdata.json\n",
    "│\n",
    "├───boundaries\n",
    "│       cells.parquet\n",
    "│       nuclei.parquet\n",
    "│\n",
    "├───images\n",
    "│       morphology_focus.ome.tif\n",
    "│       slide_id__sample_id__CD20__registered.ome.tif\n",
    "│       slide_id__sample_id__HER2__registered.ome.tif\n",
    "│       slide_id__sample_id__HE__registered.ome.tif\n",
    "│\n",
    "├───matrix\n",
    "│       matrix.h5ad\n",
    "│\n",
    "└───transcripts\n",
    "        transcripts.parquet\n",
    "```"
   ]
  },
  {
   "cell_type": "code",
   "execution_count": null,
   "metadata": {},
   "outputs": [],
   "source": []
  },
  {
   "cell_type": "code",
   "execution_count": 12,
   "metadata": {},
   "outputs": [],
   "source": [
    "import geopandas\n",
    "\n",
    "file = Path(r\"C:\\Users\\ge37voy\\Github\\InSituPy\\notebooks\\demo_annotations\\annotation-slide_id__sample_id__demo.geojson\")\n",
    "dataframe = geopandas.read_file(file)"
   ]
  },
  {
   "cell_type": "code",
   "execution_count": 13,
   "metadata": {},
   "outputs": [
    {
     "data": {
      "text/html": [
       "<div>\n",
       "<style scoped>\n",
       "    .dataframe tbody tr th:only-of-type {\n",
       "        vertical-align: middle;\n",
       "    }\n",
       "\n",
       "    .dataframe tbody tr th {\n",
       "        vertical-align: top;\n",
       "    }\n",
       "\n",
       "    .dataframe thead th {\n",
       "        text-align: right;\n",
       "    }\n",
       "</style>\n",
       "<table border=\"1\" class=\"dataframe\">\n",
       "  <thead>\n",
       "    <tr style=\"text-align: right;\">\n",
       "      <th></th>\n",
       "      <th>id</th>\n",
       "      <th>objectType</th>\n",
       "      <th>classification</th>\n",
       "      <th>geometry</th>\n",
       "    </tr>\n",
       "  </thead>\n",
       "  <tbody>\n",
       "    <tr>\n",
       "      <th>0</th>\n",
       "      <td>bd3aacca-1716-4df8-91dd-bf8f6413a7bd</td>\n",
       "      <td>annotation</td>\n",
       "      <td>{'name': 'Positive', 'color': [250, 62, 62]}</td>\n",
       "      <td>POLYGON ((8863.00000 10814.00000, 8863.00000 1...</td>\n",
       "    </tr>\n",
       "    <tr>\n",
       "      <th>1</th>\n",
       "      <td>69814505-4059-42cd-8df2-752f7eb0810d</td>\n",
       "      <td>annotation</td>\n",
       "      <td>{'name': 'Positive', 'color': [250, 62, 62]}</td>\n",
       "      <td>POLYGON ((13096.00000 12492.00000, 13072.40000...</td>\n",
       "    </tr>\n",
       "    <tr>\n",
       "      <th>2</th>\n",
       "      <td>1957cd32-0a21-4b45-9dae-ecf236217140</td>\n",
       "      <td>annotation</td>\n",
       "      <td>{'name': 'Negative', 'color': [112, 112, 225]}</td>\n",
       "      <td>POLYGON ((30975.26000 22938.00000, 30982.00000...</td>\n",
       "    </tr>\n",
       "    <tr>\n",
       "      <th>3</th>\n",
       "      <td>19d2197a-1b8e-456f-8223-fba74641ac1c</td>\n",
       "      <td>annotation</td>\n",
       "      <td>{'name': 'Negative', 'color': [112, 112, 225]}</td>\n",
       "      <td>POLYGON ((31165.00000 16408.00000, 31149.00000...</td>\n",
       "    </tr>\n",
       "  </tbody>\n",
       "</table>\n",
       "</div>"
      ],
      "text/plain": [
       "                                     id  objectType  \\\n",
       "0  bd3aacca-1716-4df8-91dd-bf8f6413a7bd  annotation   \n",
       "1  69814505-4059-42cd-8df2-752f7eb0810d  annotation   \n",
       "2  1957cd32-0a21-4b45-9dae-ecf236217140  annotation   \n",
       "3  19d2197a-1b8e-456f-8223-fba74641ac1c  annotation   \n",
       "\n",
       "                                   classification  \\\n",
       "0    {'name': 'Positive', 'color': [250, 62, 62]}   \n",
       "1    {'name': 'Positive', 'color': [250, 62, 62]}   \n",
       "2  {'name': 'Negative', 'color': [112, 112, 225]}   \n",
       "3  {'name': 'Negative', 'color': [112, 112, 225]}   \n",
       "\n",
       "                                            geometry  \n",
       "0  POLYGON ((8863.00000 10814.00000, 8863.00000 1...  \n",
       "1  POLYGON ((13096.00000 12492.00000, 13072.40000...  \n",
       "2  POLYGON ((30975.26000 22938.00000, 30982.00000...  \n",
       "3  POLYGON ((31165.00000 16408.00000, 31149.00000...  "
      ]
     },
     "execution_count": 13,
     "metadata": {},
     "output_type": "execute_result"
    }
   ],
   "source": [
    "dataframe"
   ]
  },
  {
   "cell_type": "code",
   "execution_count": 21,
   "metadata": {},
   "outputs": [],
   "source": [
    "from insitupy import read_qupath_geojson"
   ]
  },
  {
   "cell_type": "code",
   "execution_count": 54,
   "metadata": {},
   "outputs": [],
   "source": [
    "df = read_qupath_geojson(file)"
   ]
  },
  {
   "cell_type": "code",
   "execution_count": 55,
   "metadata": {},
   "outputs": [
    {
     "data": {
      "text/html": [
       "<div>\n",
       "<style scoped>\n",
       "    .dataframe tbody tr th:only-of-type {\n",
       "        vertical-align: middle;\n",
       "    }\n",
       "\n",
       "    .dataframe tbody tr th {\n",
       "        vertical-align: top;\n",
       "    }\n",
       "\n",
       "    .dataframe thead th {\n",
       "        text-align: right;\n",
       "    }\n",
       "</style>\n",
       "<table border=\"1\" class=\"dataframe\">\n",
       "  <thead>\n",
       "    <tr style=\"text-align: right;\">\n",
       "      <th></th>\n",
       "      <th>id</th>\n",
       "      <th>objectType</th>\n",
       "      <th>geometry</th>\n",
       "      <th>name</th>\n",
       "      <th>color</th>\n",
       "    </tr>\n",
       "  </thead>\n",
       "  <tbody>\n",
       "    <tr>\n",
       "      <th>0</th>\n",
       "      <td>bd3aacca-1716-4df8-91dd-bf8f6413a7bd</td>\n",
       "      <td>annotation</td>\n",
       "      <td>POLYGON ((8863.00000 10814.00000, 8863.00000 1...</td>\n",
       "      <td>Positive</td>\n",
       "      <td>[250, 62, 62]</td>\n",
       "    </tr>\n",
       "    <tr>\n",
       "      <th>1</th>\n",
       "      <td>69814505-4059-42cd-8df2-752f7eb0810d</td>\n",
       "      <td>annotation</td>\n",
       "      <td>POLYGON ((13096.00000 12492.00000, 13072.40000...</td>\n",
       "      <td>Positive</td>\n",
       "      <td>[250, 62, 62]</td>\n",
       "    </tr>\n",
       "    <tr>\n",
       "      <th>2</th>\n",
       "      <td>1957cd32-0a21-4b45-9dae-ecf236217140</td>\n",
       "      <td>annotation</td>\n",
       "      <td>POLYGON ((30975.26000 22938.00000, 30982.00000...</td>\n",
       "      <td>Negative</td>\n",
       "      <td>[112, 112, 225]</td>\n",
       "    </tr>\n",
       "    <tr>\n",
       "      <th>3</th>\n",
       "      <td>19d2197a-1b8e-456f-8223-fba74641ac1c</td>\n",
       "      <td>annotation</td>\n",
       "      <td>POLYGON ((31165.00000 16408.00000, 31149.00000...</td>\n",
       "      <td>Negative</td>\n",
       "      <td>[112, 112, 225]</td>\n",
       "    </tr>\n",
       "  </tbody>\n",
       "</table>\n",
       "</div>"
      ],
      "text/plain": [
       "                                     id  objectType  \\\n",
       "0  bd3aacca-1716-4df8-91dd-bf8f6413a7bd  annotation   \n",
       "1  69814505-4059-42cd-8df2-752f7eb0810d  annotation   \n",
       "2  1957cd32-0a21-4b45-9dae-ecf236217140  annotation   \n",
       "3  19d2197a-1b8e-456f-8223-fba74641ac1c  annotation   \n",
       "\n",
       "                                            geometry      name  \\\n",
       "0  POLYGON ((8863.00000 10814.00000, 8863.00000 1...  Positive   \n",
       "1  POLYGON ((13096.00000 12492.00000, 13072.40000...  Positive   \n",
       "2  POLYGON ((30975.26000 22938.00000, 30982.00000...  Negative   \n",
       "3  POLYGON ((31165.00000 16408.00000, 31149.00000...  Negative   \n",
       "\n",
       "             color  \n",
       "0    [250, 62, 62]  \n",
       "1    [250, 62, 62]  \n",
       "2  [112, 112, 225]  \n",
       "3  [112, 112, 225]  "
      ]
     },
     "execution_count": 55,
     "metadata": {},
     "output_type": "execute_result"
    }
   ],
   "source": [
    "df"
   ]
  },
  {
   "cell_type": "code",
   "execution_count": 60,
   "metadata": {},
   "outputs": [],
   "source": [
    "from geopandas.geodataframe import GeoDataFrame\n",
    "\n",
    "def write_qupath_geojson(dataframe: GeoDataFrame):\n",
    "    \"\"\"\n",
    "    Converts a DataFrame with \"name\" and \"color\" columns into a QuPath-compatible GeoJSON-like format,\n",
    "    adding a new \"classification\" column containing dictionaries with \"name\" and \"color\" entries.\n",
    "\n",
    "    Parameters:\n",
    "    - dataframe (pandas.DataFrame): The input DataFrame containing \"name\" and \"color\" columns.\n",
    "\n",
    "    Returns:\n",
    "    pandas.DataFrame: A modified DataFrame with a new \"classification\" column, and the original \"name\" and \"color\"\n",
    "    columns removed.\n",
    "    \"\"\"\n",
    "    l = []\n",
    "    for i, row in dataframe.iterrows():\n",
    "        d = {}\n",
    "        for c in [\"name\", \"color\"]:\n",
    "            d[c] = row[c]\n",
    "        l.append(d)\n",
    "\n",
    "    dataframe[\"classification\"] = l\n",
    "    dataframe = dataframe.drop([\"name\", \"color\"], axis=1)\n",
    "    \n",
    "    # write file as geojson\n",
    "    dataframe.to_file(file.parent / \"test.geojson\", driver=\"GeoJSON\")\n",
    "    return dataframe\n"
   ]
  },
  {
   "cell_type": "code",
   "execution_count": 61,
   "metadata": {},
   "outputs": [],
   "source": [
    "dd = write_qupath_geojson(df)"
   ]
  },
  {
   "cell_type": "code",
   "execution_count": 63,
   "metadata": {},
   "outputs": [],
   "source": [
    "dd.to_file(file.parent / \"test.geojson\", driver=\"GeoJSON\")"
   ]
  },
  {
   "cell_type": "code",
   "execution_count": 59,
   "metadata": {},
   "outputs": [
    {
     "data": {
      "text/plain": [
       "geopandas.geodataframe.GeoDataFrame"
      ]
     },
     "execution_count": 59,
     "metadata": {},
     "output_type": "execute_result"
    }
   ],
   "source": [
    "type(dd)"
   ]
  },
  {
   "cell_type": "code",
   "execution_count": 50,
   "metadata": {},
   "outputs": [
    {
     "data": {
      "text/html": [
       "<div>\n",
       "<style scoped>\n",
       "    .dataframe tbody tr th:only-of-type {\n",
       "        vertical-align: middle;\n",
       "    }\n",
       "\n",
       "    .dataframe tbody tr th {\n",
       "        vertical-align: top;\n",
       "    }\n",
       "\n",
       "    .dataframe thead th {\n",
       "        text-align: right;\n",
       "    }\n",
       "</style>\n",
       "<table border=\"1\" class=\"dataframe\">\n",
       "  <thead>\n",
       "    <tr style=\"text-align: right;\">\n",
       "      <th></th>\n",
       "      <th>id</th>\n",
       "      <th>objectType</th>\n",
       "      <th>geometry</th>\n",
       "      <th>classification</th>\n",
       "    </tr>\n",
       "  </thead>\n",
       "  <tbody>\n",
       "    <tr>\n",
       "      <th>0</th>\n",
       "      <td>bd3aacca-1716-4df8-91dd-bf8f6413a7bd</td>\n",
       "      <td>annotation</td>\n",
       "      <td>POLYGON ((8863.00000 10814.00000, 8863.00000 1...</td>\n",
       "      <td>{'name': 'Positive', 'color': [250, 62, 62]}</td>\n",
       "    </tr>\n",
       "    <tr>\n",
       "      <th>1</th>\n",
       "      <td>69814505-4059-42cd-8df2-752f7eb0810d</td>\n",
       "      <td>annotation</td>\n",
       "      <td>POLYGON ((13096.00000 12492.00000, 13072.40000...</td>\n",
       "      <td>{'name': 'Positive', 'color': [250, 62, 62]}</td>\n",
       "    </tr>\n",
       "    <tr>\n",
       "      <th>2</th>\n",
       "      <td>1957cd32-0a21-4b45-9dae-ecf236217140</td>\n",
       "      <td>annotation</td>\n",
       "      <td>POLYGON ((30975.26000 22938.00000, 30982.00000...</td>\n",
       "      <td>{'name': 'Negative', 'color': [112, 112, 225]}</td>\n",
       "    </tr>\n",
       "    <tr>\n",
       "      <th>3</th>\n",
       "      <td>19d2197a-1b8e-456f-8223-fba74641ac1c</td>\n",
       "      <td>annotation</td>\n",
       "      <td>POLYGON ((31165.00000 16408.00000, 31149.00000...</td>\n",
       "      <td>{'name': 'Negative', 'color': [112, 112, 225]}</td>\n",
       "    </tr>\n",
       "  </tbody>\n",
       "</table>\n",
       "</div>"
      ],
      "text/plain": [
       "                                     id  objectType  \\\n",
       "0  bd3aacca-1716-4df8-91dd-bf8f6413a7bd  annotation   \n",
       "1  69814505-4059-42cd-8df2-752f7eb0810d  annotation   \n",
       "2  1957cd32-0a21-4b45-9dae-ecf236217140  annotation   \n",
       "3  19d2197a-1b8e-456f-8223-fba74641ac1c  annotation   \n",
       "\n",
       "                                            geometry  \\\n",
       "0  POLYGON ((8863.00000 10814.00000, 8863.00000 1...   \n",
       "1  POLYGON ((13096.00000 12492.00000, 13072.40000...   \n",
       "2  POLYGON ((30975.26000 22938.00000, 30982.00000...   \n",
       "3  POLYGON ((31165.00000 16408.00000, 31149.00000...   \n",
       "\n",
       "                                   classification  \n",
       "0    {'name': 'Positive', 'color': [250, 62, 62]}  \n",
       "1    {'name': 'Positive', 'color': [250, 62, 62]}  \n",
       "2  {'name': 'Negative', 'color': [112, 112, 225]}  \n",
       "3  {'name': 'Negative', 'color': [112, 112, 225]}  "
      ]
     },
     "execution_count": 50,
     "metadata": {},
     "output_type": "execute_result"
    }
   ],
   "source": []
  },
  {
   "cell_type": "code",
   "execution_count": 36,
   "metadata": {},
   "outputs": [
    {
     "data": {
      "text/html": [
       "<div>\n",
       "<style scoped>\n",
       "    .dataframe tbody tr th:only-of-type {\n",
       "        vertical-align: middle;\n",
       "    }\n",
       "\n",
       "    .dataframe tbody tr th {\n",
       "        vertical-align: top;\n",
       "    }\n",
       "\n",
       "    .dataframe thead th {\n",
       "        text-align: right;\n",
       "    }\n",
       "</style>\n",
       "<table border=\"1\" class=\"dataframe\">\n",
       "  <thead>\n",
       "    <tr style=\"text-align: right;\">\n",
       "      <th></th>\n",
       "      <th>id</th>\n",
       "      <th>objectType</th>\n",
       "      <th>geometry</th>\n",
       "      <th>name</th>\n",
       "      <th>color</th>\n",
       "    </tr>\n",
       "  </thead>\n",
       "  <tbody>\n",
       "    <tr>\n",
       "      <th>0</th>\n",
       "      <td>bd3aacca-1716-4df8-91dd-bf8f6413a7bd</td>\n",
       "      <td>annotation</td>\n",
       "      <td>POLYGON ((8863.00000 10814.00000, 8863.00000 1...</td>\n",
       "      <td>Positive</td>\n",
       "      <td>[250, 62, 62]</td>\n",
       "    </tr>\n",
       "    <tr>\n",
       "      <th>1</th>\n",
       "      <td>69814505-4059-42cd-8df2-752f7eb0810d</td>\n",
       "      <td>annotation</td>\n",
       "      <td>POLYGON ((13096.00000 12492.00000, 13072.40000...</td>\n",
       "      <td>Positive</td>\n",
       "      <td>[250, 62, 62]</td>\n",
       "    </tr>\n",
       "    <tr>\n",
       "      <th>2</th>\n",
       "      <td>1957cd32-0a21-4b45-9dae-ecf236217140</td>\n",
       "      <td>annotation</td>\n",
       "      <td>POLYGON ((30975.26000 22938.00000, 30982.00000...</td>\n",
       "      <td>Negative</td>\n",
       "      <td>[112, 112, 225]</td>\n",
       "    </tr>\n",
       "    <tr>\n",
       "      <th>3</th>\n",
       "      <td>19d2197a-1b8e-456f-8223-fba74641ac1c</td>\n",
       "      <td>annotation</td>\n",
       "      <td>POLYGON ((31165.00000 16408.00000, 31149.00000...</td>\n",
       "      <td>Negative</td>\n",
       "      <td>[112, 112, 225]</td>\n",
       "    </tr>\n",
       "  </tbody>\n",
       "</table>\n",
       "</div>"
      ],
      "text/plain": [
       "                                     id  objectType  \\\n",
       "0  bd3aacca-1716-4df8-91dd-bf8f6413a7bd  annotation   \n",
       "1  69814505-4059-42cd-8df2-752f7eb0810d  annotation   \n",
       "2  1957cd32-0a21-4b45-9dae-ecf236217140  annotation   \n",
       "3  19d2197a-1b8e-456f-8223-fba74641ac1c  annotation   \n",
       "\n",
       "                                            geometry      name  \\\n",
       "0  POLYGON ((8863.00000 10814.00000, 8863.00000 1...  Positive   \n",
       "1  POLYGON ((13096.00000 12492.00000, 13072.40000...  Positive   \n",
       "2  POLYGON ((30975.26000 22938.00000, 30982.00000...  Negative   \n",
       "3  POLYGON ((31165.00000 16408.00000, 31149.00000...  Negative   \n",
       "\n",
       "             color  \n",
       "0    [250, 62, 62]  \n",
       "1    [250, 62, 62]  \n",
       "2  [112, 112, 225]  \n",
       "3  [112, 112, 225]  "
      ]
     },
     "execution_count": 36,
     "metadata": {},
     "output_type": "execute_result"
    }
   ],
   "source": [
    "dataframe"
   ]
  },
  {
   "cell_type": "code",
   "execution_count": 17,
   "metadata": {},
   "outputs": [
    {
     "data": {
      "text/plain": [
       "'.geojson'"
      ]
     },
     "execution_count": 17,
     "metadata": {},
     "output_type": "execute_result"
    }
   ],
   "source": [
    "file.suffix"
   ]
  },
  {
   "cell_type": "code",
   "execution_count": 14,
   "metadata": {},
   "outputs": [
    {
     "data": {
      "text/html": [
       "<div>\n",
       "<style scoped>\n",
       "    .dataframe tbody tr th:only-of-type {\n",
       "        vertical-align: middle;\n",
       "    }\n",
       "\n",
       "    .dataframe tbody tr th {\n",
       "        vertical-align: top;\n",
       "    }\n",
       "\n",
       "    .dataframe thead th {\n",
       "        text-align: right;\n",
       "    }\n",
       "</style>\n",
       "<table border=\"1\" class=\"dataframe\">\n",
       "  <thead>\n",
       "    <tr style=\"text-align: right;\">\n",
       "      <th></th>\n",
       "      <th>id</th>\n",
       "      <th>objectType</th>\n",
       "      <th>geometry</th>\n",
       "      <th>name</th>\n",
       "      <th>color</th>\n",
       "    </tr>\n",
       "  </thead>\n",
       "  <tbody>\n",
       "    <tr>\n",
       "      <th>0</th>\n",
       "      <td>bd3aacca-1716-4df8-91dd-bf8f6413a7bd</td>\n",
       "      <td>annotation</td>\n",
       "      <td>POLYGON ((8863.00000 10814.00000, 8863.00000 1...</td>\n",
       "      <td>Positive</td>\n",
       "      <td>[250, 62, 62]</td>\n",
       "    </tr>\n",
       "    <tr>\n",
       "      <th>1</th>\n",
       "      <td>69814505-4059-42cd-8df2-752f7eb0810d</td>\n",
       "      <td>annotation</td>\n",
       "      <td>POLYGON ((13096.00000 12492.00000, 13072.40000...</td>\n",
       "      <td>Positive</td>\n",
       "      <td>[250, 62, 62]</td>\n",
       "    </tr>\n",
       "    <tr>\n",
       "      <th>2</th>\n",
       "      <td>1957cd32-0a21-4b45-9dae-ecf236217140</td>\n",
       "      <td>annotation</td>\n",
       "      <td>POLYGON ((30975.26000 22938.00000, 30982.00000...</td>\n",
       "      <td>Negative</td>\n",
       "      <td>[112, 112, 225]</td>\n",
       "    </tr>\n",
       "    <tr>\n",
       "      <th>3</th>\n",
       "      <td>19d2197a-1b8e-456f-8223-fba74641ac1c</td>\n",
       "      <td>annotation</td>\n",
       "      <td>POLYGON ((31165.00000 16408.00000, 31149.00000...</td>\n",
       "      <td>Negative</td>\n",
       "      <td>[112, 112, 225]</td>\n",
       "    </tr>\n",
       "  </tbody>\n",
       "</table>\n",
       "</div>"
      ],
      "text/plain": [
       "                                     id  objectType  \\\n",
       "0  bd3aacca-1716-4df8-91dd-bf8f6413a7bd  annotation   \n",
       "1  69814505-4059-42cd-8df2-752f7eb0810d  annotation   \n",
       "2  1957cd32-0a21-4b45-9dae-ecf236217140  annotation   \n",
       "3  19d2197a-1b8e-456f-8223-fba74641ac1c  annotation   \n",
       "\n",
       "                                            geometry      name  \\\n",
       "0  POLYGON ((8863.00000 10814.00000, 8863.00000 1...  Positive   \n",
       "1  POLYGON ((13096.00000 12492.00000, 13072.40000...  Positive   \n",
       "2  POLYGON ((30975.26000 22938.00000, 30982.00000...  Negative   \n",
       "3  POLYGON ((31165.00000 16408.00000, 31149.00000...  Negative   \n",
       "\n",
       "             color  \n",
       "0    [250, 62, 62]  \n",
       "1    [250, 62, 62]  \n",
       "2  [112, 112, 225]  \n",
       "3  [112, 112, 225]  "
      ]
     },
     "execution_count": 14,
     "metadata": {},
     "output_type": "execute_result"
    }
   ],
   "source": [
    "xd.annotations.demo"
   ]
  },
  {
   "cell_type": "markdown",
   "metadata": {},
   "source": [
    "# Problem:\n",
    "\n",
    "## Do we want to save annotations as .geojson or .parquet?\n",
    "\n",
    "### GeoJSON\n",
    "\n",
    "Advantages:\n",
    "- Compatible with QuPath: later the file can be again loaded into QuPath\n",
    "\n",
    "Disadvantages:\n",
    "- Does not allow list formats. Instead it is important to leave the file as read by geopandas.read_file()\n",
    "- Currently the dataframe is reshaped after reading so that it includes the columns \"name\" and \"color\". This is useful when plotting the annotations in napari. But it is not possible to write this back to geojson. We would have to reshape it back to the dictionary structure of geopandas.read_file().\n",
    "\n",
    "### Parquet\n",
    "\n",
    "Advantages:\n",
    "- More flexible when saving. Additional columns can be added easily\n",
    "\n",
    "Disadvantages:\n",
    "- can not be read by QuPath"
   ]
  },
  {
   "cell_type": "code",
   "execution_count": null,
   "metadata": {},
   "outputs": [],
   "source": []
  },
  {
   "cell_type": "code",
   "execution_count": null,
   "metadata": {},
   "outputs": [],
   "source": [
    "file = Path(r\"C:\\Users\\ge37voy\\Github\\InSituPy\\notebooks\\demo_annotations\\annotation-slide_id__sample_id__demo.geojson\")\n"
   ]
  },
  {
   "cell_type": "code",
   "execution_count": null,
   "metadata": {},
   "outputs": [],
   "source": []
  },
  {
   "cell_type": "code",
   "execution_count": 19,
   "id": "49f29bb8",
   "metadata": {},
   "outputs": [
    {
     "ename": "ImportError",
     "evalue": "Missing optional dependency 'pyarrow.parquet'. pyarrow is required for Parquet support.  \"\n        \"Use pip or conda to install pyarrow.parquet.",
     "output_type": "error",
     "traceback": [
      "\u001b[1;31m---------------------------------------------------------------------------\u001b[0m",
      "\u001b[1;31mImportError\u001b[0m                               Traceback (most recent call last)",
      "\u001b[1;32mc:\\Users\\ge37voy\\Github\\InSituPy\\notebooks\\04_InSituPy_demo_annotations.ipynb Cell 19\u001b[0m line \u001b[0;36m2\n\u001b[0;32m      <a href='vscode-notebook-cell:/c%3A/Users/ge37voy/Github/InSituPy/notebooks/04_InSituPy_demo_annotations.ipynb#X21sZmlsZQ%3D%3D?line=0'>1</a>\u001b[0m out_dir \u001b[39m=\u001b[39m data_dir \u001b[39m/\u001b[39m \u001b[39m\"\u001b[39m\u001b[39mwith_annotations\u001b[39m\u001b[39m\"\u001b[39m\n\u001b[1;32m----> <a href='vscode-notebook-cell:/c%3A/Users/ge37voy/Github/InSituPy/notebooks/04_InSituPy_demo_annotations.ipynb#X21sZmlsZQ%3D%3D?line=1'>2</a>\u001b[0m xd\u001b[39m.\u001b[39;49msave(out_dir, overwrite\u001b[39m=\u001b[39;49m\u001b[39mTrue\u001b[39;49;00m)\n",
      "File \u001b[1;32m~\\Github\\InSituPy\\insitupy\\io\\_write.py:109\u001b[0m, in \u001b[0;36msave\u001b[1;34m(self, path, overwrite, zip)\u001b[0m\n\u001b[0;32m    107\u001b[0m annot_df \u001b[39m=\u001b[39m \u001b[39mgetattr\u001b[39m(\u001b[39mself\u001b[39m\u001b[39m.\u001b[39mannotations, n)\n\u001b[0;32m    108\u001b[0m annot_file \u001b[39m=\u001b[39m annot_path \u001b[39m/\u001b[39m \u001b[39mf\u001b[39m\u001b[39m\"\u001b[39m\u001b[39m{\u001b[39;00mn\u001b[39m}\u001b[39;00m\u001b[39m.parquet\u001b[39m\u001b[39m\"\u001b[39m\n\u001b[1;32m--> 109\u001b[0m annot_df\u001b[39m.\u001b[39;49mto_parquet(annot_file)\n\u001b[0;32m    110\u001b[0m \u001b[39m# annot_file = annot_path / f\"{n}.geojson\"\u001b[39;00m\n\u001b[0;32m    111\u001b[0m \u001b[39m# annot_df.to_file(str(annot_file), driver=\"GeoJSON\")\u001b[39;00m\n\u001b[0;32m    112\u001b[0m metadata[\u001b[39m\"\u001b[39m\u001b[39mannotations\u001b[39m\u001b[39m\"\u001b[39m][n] \u001b[39m=\u001b[39m Path(relpath(annot_file, path))\u001b[39m.\u001b[39mas_posix()\n",
      "File \u001b[1;32mc:\\Users\\ge37voy\\AppData\\Local\\miniconda3\\envs\\xparse\\lib\\site-packages\\geopandas\\geodataframe.py:1102\u001b[0m, in \u001b[0;36mGeoDataFrame.to_parquet\u001b[1;34m(self, path, index, compression, schema_version, **kwargs)\u001b[0m\n\u001b[0;32m   1095\u001b[0m     \u001b[39mraise\u001b[39;00m \u001b[39mValueError\u001b[39;00m(\n\u001b[0;32m   1096\u001b[0m         \u001b[39mf\u001b[39m\u001b[39m\"\u001b[39m\u001b[39mGeoPandas only supports using pyarrow as the engine for \u001b[39m\u001b[39m\"\u001b[39m\n\u001b[0;32m   1097\u001b[0m         \u001b[39mf\u001b[39m\u001b[39m\"\u001b[39m\u001b[39mto_parquet: \u001b[39m\u001b[39m{\u001b[39;00mengine\u001b[39m!r}\u001b[39;00m\u001b[39m passed instead.\u001b[39m\u001b[39m\"\u001b[39m\n\u001b[0;32m   1098\u001b[0m     )\n\u001b[0;32m   1100\u001b[0m \u001b[39mfrom\u001b[39;00m \u001b[39mgeopandas\u001b[39;00m\u001b[39m.\u001b[39;00m\u001b[39mio\u001b[39;00m\u001b[39m.\u001b[39;00m\u001b[39marrow\u001b[39;00m \u001b[39mimport\u001b[39;00m _to_parquet\n\u001b[1;32m-> 1102\u001b[0m _to_parquet(\n\u001b[0;32m   1103\u001b[0m     \u001b[39mself\u001b[39m,\n\u001b[0;32m   1104\u001b[0m     path,\n\u001b[0;32m   1105\u001b[0m     compression\u001b[39m=\u001b[39mcompression,\n\u001b[0;32m   1106\u001b[0m     index\u001b[39m=\u001b[39mindex,\n\u001b[0;32m   1107\u001b[0m     schema_version\u001b[39m=\u001b[39mschema_version,\n\u001b[0;32m   1108\u001b[0m     \u001b[39m*\u001b[39m\u001b[39m*\u001b[39mkwargs,\n\u001b[0;32m   1109\u001b[0m )\n",
      "File \u001b[1;32mc:\\Users\\ge37voy\\AppData\\Local\\miniconda3\\envs\\xparse\\lib\\site-packages\\geopandas\\io\\arrow.py:321\u001b[0m, in \u001b[0;36m_to_parquet\u001b[1;34m(df, path, index, compression, schema_version, **kwargs)\u001b[0m\n\u001b[0;32m    288\u001b[0m \u001b[39mdef\u001b[39;00m \u001b[39m_to_parquet\u001b[39m(\n\u001b[0;32m    289\u001b[0m     df, path, index\u001b[39m=\u001b[39m\u001b[39mNone\u001b[39;00m, compression\u001b[39m=\u001b[39m\u001b[39m\"\u001b[39m\u001b[39msnappy\u001b[39m\u001b[39m\"\u001b[39m, schema_version\u001b[39m=\u001b[39m\u001b[39mNone\u001b[39;00m, \u001b[39m*\u001b[39m\u001b[39m*\u001b[39mkwargs\n\u001b[0;32m    290\u001b[0m ):\n\u001b[0;32m    291\u001b[0m \u001b[39m    \u001b[39m\u001b[39m\"\"\"\u001b[39;00m\n\u001b[0;32m    292\u001b[0m \u001b[39m    Write a GeoDataFrame to the Parquet format.\u001b[39;00m\n\u001b[0;32m    293\u001b[0m \n\u001b[1;32m   (...)\u001b[0m\n\u001b[0;32m    319\u001b[0m \u001b[39m        Additional keyword arguments passed to pyarrow.parquet.write_table().\u001b[39;00m\n\u001b[0;32m    320\u001b[0m \u001b[39m    \"\"\"\u001b[39;00m\n\u001b[1;32m--> 321\u001b[0m     parquet \u001b[39m=\u001b[39m import_optional_dependency(\n\u001b[0;32m    322\u001b[0m         \u001b[39m\"\u001b[39;49m\u001b[39mpyarrow.parquet\u001b[39;49m\u001b[39m\"\u001b[39;49m, extra\u001b[39m=\u001b[39;49m\u001b[39m\"\u001b[39;49m\u001b[39mpyarrow is required for Parquet support.\u001b[39;49m\u001b[39m\"\u001b[39;49m\n\u001b[0;32m    323\u001b[0m     )\n\u001b[0;32m    325\u001b[0m     \u001b[39mif\u001b[39;00m kwargs \u001b[39mand\u001b[39;00m \u001b[39m\"\u001b[39m\u001b[39mversion\u001b[39m\u001b[39m\"\u001b[39m \u001b[39min\u001b[39;00m kwargs \u001b[39mand\u001b[39;00m kwargs[\u001b[39m\"\u001b[39m\u001b[39mversion\u001b[39m\u001b[39m\"\u001b[39m] \u001b[39mis\u001b[39;00m \u001b[39mnot\u001b[39;00m \u001b[39mNone\u001b[39;00m:\n\u001b[0;32m    326\u001b[0m         \u001b[39mif\u001b[39;00m schema_version \u001b[39mis\u001b[39;00m \u001b[39mNone\u001b[39;00m \u001b[39mand\u001b[39;00m kwargs[\u001b[39m\"\u001b[39m\u001b[39mversion\u001b[39m\u001b[39m\"\u001b[39m] \u001b[39min\u001b[39;00m SUPPORTED_VERSIONS:\n",
      "File \u001b[1;32mc:\\Users\\ge37voy\\AppData\\Local\\miniconda3\\envs\\xparse\\lib\\site-packages\\geopandas\\_compat.py:229\u001b[0m, in \u001b[0;36mimport_optional_dependency\u001b[1;34m(name, extra)\u001b[0m\n\u001b[0;32m    226\u001b[0m     module \u001b[39m=\u001b[39m importlib\u001b[39m.\u001b[39mimport_module(name)\n\u001b[0;32m    228\u001b[0m \u001b[39mexcept\u001b[39;00m \u001b[39mImportError\u001b[39;00m:\n\u001b[1;32m--> 229\u001b[0m     \u001b[39mraise\u001b[39;00m \u001b[39mImportError\u001b[39;00m(msg) \u001b[39mfrom\u001b[39;00m \u001b[39mNone\u001b[39;00m\n\u001b[0;32m    231\u001b[0m \u001b[39mreturn\u001b[39;00m module\n",
      "\u001b[1;31mImportError\u001b[0m: Missing optional dependency 'pyarrow.parquet'. pyarrow is required for Parquet support.  \"\n        \"Use pip or conda to install pyarrow.parquet."
     ]
    }
   ],
   "source": [
    "out_dir = data_dir / \"with_annotations\"\n",
    "xd.save(out_dir, overwrite=True)"
   ]
  },
  {
   "cell_type": "code",
   "execution_count": 37,
   "metadata": {},
   "outputs": [],
   "source": [
    "xd_reloaded = XeniumData(out_dir)"
   ]
  },
  {
   "cell_type": "code",
   "execution_count": 38,
   "metadata": {},
   "outputs": [
    {
     "data": {
      "text/plain": [
       "\u001b[1m\u001b[31mXeniumData\u001b[0m\n",
       "\u001b[1mSlide ID:\u001b[0m\tslide_id\n",
       "\u001b[1mSample ID:\u001b[0m\tsample_id\n",
       "\u001b[1mData path:\u001b[0m\tdemo_dataset\n",
       "\u001b[1mData folder:\u001b[0m\twith_annotations\n",
       "\u001b[1mMetadata file:\u001b[0m\txeniumdata.json"
      ]
     },
     "execution_count": 38,
     "metadata": {},
     "output_type": "execute_result"
    }
   ],
   "source": [
    "xd_reloaded"
   ]
  },
  {
   "cell_type": "code",
   "execution_count": 39,
   "metadata": {},
   "outputs": [
    {
     "name": "stdout",
     "output_type": "stream",
     "text": [
      "Reading annotations...\n",
      "demo_dataset\\with_annotations\\annotations\\demo.parquet\n"
     ]
    },
    {
     "ename": "DriverError",
     "evalue": "'demo_dataset\\with_annotations\\annotations\\demo.parquet' not recognized as a supported file format.",
     "output_type": "error",
     "traceback": [
      "\u001b[1;31m---------------------------------------------------------------------------\u001b[0m",
      "\u001b[1;31mCPLE_OpenFailedError\u001b[0m                      Traceback (most recent call last)",
      "File \u001b[1;32mfiona\\ogrext.pyx:136\u001b[0m, in \u001b[0;36mfiona.ogrext.gdal_open_vector\u001b[1;34m()\u001b[0m\n",
      "File \u001b[1;32mfiona\\_err.pyx:291\u001b[0m, in \u001b[0;36mfiona._err.exc_wrap_pointer\u001b[1;34m()\u001b[0m\n",
      "\u001b[1;31mCPLE_OpenFailedError\u001b[0m: 'demo_dataset\\with_annotations\\annotations\\demo.parquet' not recognized as a supported file format.",
      "\nDuring handling of the above exception, another exception occurred:\n",
      "\u001b[1;31mDriverError\u001b[0m                               Traceback (most recent call last)",
      "\u001b[1;32mc:\\Users\\ge37voy\\Github\\InSituPy\\notebooks\\04_InSituPy_demo_annotations.ipynb Cell 19\u001b[0m line \u001b[0;36m1\n\u001b[1;32m----> <a href='vscode-notebook-cell:/c%3A/Users/ge37voy/Github/InSituPy/notebooks/04_InSituPy_demo_annotations.ipynb#X54sZmlsZQ%3D%3D?line=0'>1</a>\u001b[0m xd_reloaded\u001b[39m.\u001b[39;49mread_all()\n",
      "File \u001b[1;32mc:\\Users\\ge37voy\\AppData\\Local\\miniconda3\\envs\\insitupy\\lib\\site-packages\\insitupy\\io\\_read.py:199\u001b[0m, in \u001b[0;36mread_all\u001b[1;34m(self, verbose)\u001b[0m\n\u001b[0;32m    197\u001b[0m func \u001b[39m=\u001b[39m \u001b[39mgetattr\u001b[39m(\u001b[39mself\u001b[39m, f)\n\u001b[0;32m    198\u001b[0m \u001b[39mtry\u001b[39;00m:\n\u001b[1;32m--> 199\u001b[0m     func()\n\u001b[0;32m    200\u001b[0m \u001b[39mexcept\u001b[39;00m ModalityNotFoundError \u001b[39mas\u001b[39;00m err:\n\u001b[0;32m    201\u001b[0m     \u001b[39mprint\u001b[39m(err)\n",
      "File \u001b[1;32mc:\\Users\\ge37voy\\AppData\\Local\\miniconda3\\envs\\insitupy\\lib\\site-packages\\insitupy\\io\\_read.py:187\u001b[0m, in \u001b[0;36mread_annotations\u001b[1;34m(self, annotation_dir, suffix, pattern_annotation_file)\u001b[0m\n\u001b[0;32m    184\u001b[0m                 files\u001b[39m.\u001b[39mappend(file)\n\u001b[0;32m    186\u001b[0m \u001b[39mprint\u001b[39m(\u001b[39m\"\u001b[39m\u001b[39mReading annotations...\u001b[39m\u001b[39m\"\u001b[39m, flush\u001b[39m=\u001b[39m\u001b[39mTrue\u001b[39;00m)\n\u001b[1;32m--> 187\u001b[0m \u001b[39mself\u001b[39m\u001b[39m.\u001b[39mannotations \u001b[39m=\u001b[39m AnnotationData(annot_files\u001b[39m=\u001b[39;49mfiles, annot_labels\u001b[39m=\u001b[39;49mlabels)\n",
      "File \u001b[1;32mc:\\Users\\ge37voy\\AppData\\Local\\miniconda3\\envs\\insitupy\\lib\\site-packages\\insitupy\\utils\\data.py:30\u001b[0m, in \u001b[0;36mAnnotationData.__init__\u001b[1;34m(self, annot_files, annot_labels)\u001b[0m\n\u001b[0;32m     26\u001b[0m \u001b[39mself\u001b[39m\u001b[39m.\u001b[39manalyzed \u001b[39m=\u001b[39m []\n\u001b[0;32m     28\u001b[0m \u001b[39mfor\u001b[39;00m label, file \u001b[39min\u001b[39;00m \u001b[39mzip\u001b[39m(annot_labels, annot_files):\n\u001b[0;32m     29\u001b[0m     \u001b[39m# read annotation and store in dictionary\u001b[39;00m\n\u001b[1;32m---> 30\u001b[0m     \u001b[39mself\u001b[39;49m\u001b[39m.\u001b[39;49madd_annotation(file\u001b[39m=\u001b[39;49mfile, label\u001b[39m=\u001b[39;49mlabel)\n",
      "File \u001b[1;32mc:\\Users\\ge37voy\\AppData\\Local\\miniconda3\\envs\\insitupy\\lib\\site-packages\\insitupy\\utils\\data.py:50\u001b[0m, in \u001b[0;36mAnnotationData.add_annotation\u001b[1;34m(self, file, label)\u001b[0m\n\u001b[0;32m     45\u001b[0m \u001b[39mdef\u001b[39;00m \u001b[39madd_annotation\u001b[39m(\u001b[39mself\u001b[39m,\n\u001b[0;32m     46\u001b[0m                    file: Union[\u001b[39mstr\u001b[39m, os\u001b[39m.\u001b[39mPathLike, Path],\n\u001b[0;32m     47\u001b[0m                    label: \u001b[39mstr\u001b[39m\n\u001b[0;32m     48\u001b[0m                    ):\n\u001b[0;32m     49\u001b[0m     \u001b[39m# read annotations as dataframe dataframe and add to AnnotationData object\u001b[39;00m\n\u001b[1;32m---> 50\u001b[0m     df \u001b[39m=\u001b[39m read_qupath_annotation(file\u001b[39m=\u001b[39;49mfile)\n\u001b[0;32m     51\u001b[0m     \u001b[39msetattr\u001b[39m(\u001b[39mself\u001b[39m, label, df)\n\u001b[0;32m     53\u001b[0m     \u001b[39m# record metadata information\u001b[39;00m\n",
      "File \u001b[1;32mc:\\Users\\ge37voy\\AppData\\Local\\miniconda3\\envs\\insitupy\\lib\\site-packages\\insitupy\\utils\\annotations.py:34\u001b[0m, in \u001b[0;36mread_qupath_annotation\u001b[1;34m(file)\u001b[0m\n\u001b[0;32m     32\u001b[0m \u001b[39m# read dataframe\u001b[39;00m\n\u001b[0;32m     33\u001b[0m \u001b[39mprint\u001b[39m(file)\n\u001b[1;32m---> 34\u001b[0m df \u001b[39m=\u001b[39m geopandas\u001b[39m.\u001b[39;49mread_file(file)\n\u001b[0;32m     36\u001b[0m \u001b[39m# flatten classification\u001b[39;00m\n\u001b[0;32m     37\u001b[0m df[\u001b[39m\"\u001b[39m\u001b[39mname\u001b[39m\u001b[39m\"\u001b[39m] \u001b[39m=\u001b[39m [elem[\u001b[39m\"\u001b[39m\u001b[39mname\u001b[39m\u001b[39m\"\u001b[39m] \u001b[39mfor\u001b[39;00m elem \u001b[39min\u001b[39;00m df[\u001b[39m\"\u001b[39m\u001b[39mclassification\u001b[39m\u001b[39m\"\u001b[39m]]\n",
      "File \u001b[1;32mc:\\Users\\ge37voy\\AppData\\Local\\miniconda3\\envs\\insitupy\\lib\\site-packages\\geopandas\\io\\file.py:297\u001b[0m, in \u001b[0;36m_read_file\u001b[1;34m(filename, bbox, mask, rows, engine, **kwargs)\u001b[0m\n\u001b[0;32m    294\u001b[0m     \u001b[39melse\u001b[39;00m:\n\u001b[0;32m    295\u001b[0m         path_or_bytes \u001b[39m=\u001b[39m filename\n\u001b[1;32m--> 297\u001b[0m     \u001b[39mreturn\u001b[39;00m _read_file_fiona(\n\u001b[0;32m    298\u001b[0m         path_or_bytes, from_bytes, bbox\u001b[39m=\u001b[39mbbox, mask\u001b[39m=\u001b[39mmask, rows\u001b[39m=\u001b[39mrows, \u001b[39m*\u001b[39m\u001b[39m*\u001b[39mkwargs\n\u001b[0;32m    299\u001b[0m     )\n\u001b[0;32m    301\u001b[0m \u001b[39melse\u001b[39;00m:\n\u001b[0;32m    302\u001b[0m     \u001b[39mraise\u001b[39;00m \u001b[39mValueError\u001b[39;00m(\u001b[39mf\u001b[39m\u001b[39m\"\u001b[39m\u001b[39munknown engine \u001b[39m\u001b[39m'\u001b[39m\u001b[39m{\u001b[39;00mengine\u001b[39m}\u001b[39;00m\u001b[39m'\u001b[39m\u001b[39m\"\u001b[39m)\n",
      "File \u001b[1;32mc:\\Users\\ge37voy\\AppData\\Local\\miniconda3\\envs\\insitupy\\lib\\site-packages\\geopandas\\io\\file.py:338\u001b[0m, in \u001b[0;36m_read_file_fiona\u001b[1;34m(path_or_bytes, from_bytes, bbox, mask, rows, where, **kwargs)\u001b[0m\n\u001b[0;32m    335\u001b[0m     reader \u001b[39m=\u001b[39m fiona\u001b[39m.\u001b[39mopen\n\u001b[0;32m    337\u001b[0m \u001b[39mwith\u001b[39;00m fiona_env():\n\u001b[1;32m--> 338\u001b[0m     \u001b[39mwith\u001b[39;00m reader(path_or_bytes, \u001b[39m*\u001b[39m\u001b[39m*\u001b[39mkwargs) \u001b[39mas\u001b[39;00m features:\n\u001b[0;32m    339\u001b[0m         crs \u001b[39m=\u001b[39m features\u001b[39m.\u001b[39mcrs_wkt\n\u001b[0;32m    340\u001b[0m         \u001b[39m# attempt to get EPSG code\u001b[39;00m\n",
      "File \u001b[1;32mc:\\Users\\ge37voy\\AppData\\Local\\miniconda3\\envs\\insitupy\\lib\\site-packages\\fiona\\env.py:457\u001b[0m, in \u001b[0;36mensure_env_with_credentials.<locals>.wrapper\u001b[1;34m(*args, **kwds)\u001b[0m\n\u001b[0;32m    454\u001b[0m     session \u001b[39m=\u001b[39m DummySession()\n\u001b[0;32m    456\u001b[0m \u001b[39mwith\u001b[39;00m env_ctor(session\u001b[39m=\u001b[39msession):\n\u001b[1;32m--> 457\u001b[0m     \u001b[39mreturn\u001b[39;00m f(\u001b[39m*\u001b[39margs, \u001b[39m*\u001b[39m\u001b[39m*\u001b[39mkwds)\n",
      "File \u001b[1;32mc:\\Users\\ge37voy\\AppData\\Local\\miniconda3\\envs\\insitupy\\lib\\site-packages\\fiona\\__init__.py:321\u001b[0m, in \u001b[0;36mopen\u001b[1;34m(fp, mode, driver, schema, crs, encoding, layer, vfs, enabled_drivers, crs_wkt, allow_unsupported_drivers, **kwargs)\u001b[0m\n\u001b[0;32m    318\u001b[0m     path \u001b[39m=\u001b[39m parse_path(fp)\n\u001b[0;32m    320\u001b[0m \u001b[39mif\u001b[39;00m mode \u001b[39min\u001b[39;00m (\u001b[39m\"\u001b[39m\u001b[39ma\u001b[39m\u001b[39m\"\u001b[39m, \u001b[39m\"\u001b[39m\u001b[39mr\u001b[39m\u001b[39m\"\u001b[39m):\n\u001b[1;32m--> 321\u001b[0m     colxn \u001b[39m=\u001b[39m Collection(\n\u001b[0;32m    322\u001b[0m         path,\n\u001b[0;32m    323\u001b[0m         mode,\n\u001b[0;32m    324\u001b[0m         driver\u001b[39m=\u001b[39mdriver,\n\u001b[0;32m    325\u001b[0m         encoding\u001b[39m=\u001b[39mencoding,\n\u001b[0;32m    326\u001b[0m         layer\u001b[39m=\u001b[39mlayer,\n\u001b[0;32m    327\u001b[0m         enabled_drivers\u001b[39m=\u001b[39menabled_drivers,\n\u001b[0;32m    328\u001b[0m         allow_unsupported_drivers\u001b[39m=\u001b[39mallow_unsupported_drivers,\n\u001b[0;32m    329\u001b[0m         \u001b[39m*\u001b[39m\u001b[39m*\u001b[39mkwargs\n\u001b[0;32m    330\u001b[0m     )\n\u001b[0;32m    331\u001b[0m \u001b[39melif\u001b[39;00m mode \u001b[39m==\u001b[39m \u001b[39m\"\u001b[39m\u001b[39mw\u001b[39m\u001b[39m\"\u001b[39m:\n\u001b[0;32m    332\u001b[0m     colxn \u001b[39m=\u001b[39m Collection(\n\u001b[0;32m    333\u001b[0m         path,\n\u001b[0;32m    334\u001b[0m         mode,\n\u001b[1;32m   (...)\u001b[0m\n\u001b[0;32m    343\u001b[0m         \u001b[39m*\u001b[39m\u001b[39m*\u001b[39mkwargs\n\u001b[0;32m    344\u001b[0m     )\n",
      "File \u001b[1;32mc:\\Users\\ge37voy\\AppData\\Local\\miniconda3\\envs\\insitupy\\lib\\site-packages\\fiona\\collection.py:243\u001b[0m, in \u001b[0;36mCollection.__init__\u001b[1;34m(self, path, mode, driver, schema, crs, encoding, layer, vsi, archive, enabled_drivers, crs_wkt, ignore_fields, ignore_geometry, include_fields, wkt_version, allow_unsupported_drivers, **kwargs)\u001b[0m\n\u001b[0;32m    241\u001b[0m \u001b[39mif\u001b[39;00m \u001b[39mself\u001b[39m\u001b[39m.\u001b[39mmode \u001b[39m==\u001b[39m \u001b[39m\"\u001b[39m\u001b[39mr\u001b[39m\u001b[39m\"\u001b[39m:\n\u001b[0;32m    242\u001b[0m     \u001b[39mself\u001b[39m\u001b[39m.\u001b[39msession \u001b[39m=\u001b[39m Session()\n\u001b[1;32m--> 243\u001b[0m     \u001b[39mself\u001b[39m\u001b[39m.\u001b[39msession\u001b[39m.\u001b[39mstart(\u001b[39mself\u001b[39m, \u001b[39m*\u001b[39m\u001b[39m*\u001b[39mkwargs)\n\u001b[0;32m    244\u001b[0m \u001b[39melif\u001b[39;00m \u001b[39mself\u001b[39m\u001b[39m.\u001b[39mmode \u001b[39min\u001b[39;00m (\u001b[39m\"\u001b[39m\u001b[39ma\u001b[39m\u001b[39m\"\u001b[39m, \u001b[39m\"\u001b[39m\u001b[39mw\u001b[39m\u001b[39m\"\u001b[39m):\n\u001b[0;32m    245\u001b[0m     \u001b[39mself\u001b[39m\u001b[39m.\u001b[39msession \u001b[39m=\u001b[39m WritingSession()\n",
      "File \u001b[1;32mfiona\\ogrext.pyx:588\u001b[0m, in \u001b[0;36mfiona.ogrext.Session.start\u001b[1;34m()\u001b[0m\n",
      "File \u001b[1;32mfiona\\ogrext.pyx:143\u001b[0m, in \u001b[0;36mfiona.ogrext.gdal_open_vector\u001b[1;34m()\u001b[0m\n",
      "\u001b[1;31mDriverError\u001b[0m: 'demo_dataset\\with_annotations\\annotations\\demo.parquet' not recognized as a supported file format."
     ]
    }
   ],
   "source": [
    "xd_reloaded.read_all()"
   ]
  },
  {
   "cell_type": "code",
   "execution_count": 40,
   "metadata": {},
   "outputs": [
    {
     "data": {
      "text/plain": [
       "{'slide_id': 'slide_id',\n",
       " 'sample_id': 'sample_id',\n",
       " 'path': 'demo_dataset\\\\output-XETG00000__slide_id__sample_id',\n",
       " 'images': {'nuclei': 'images/morphology_focus.ome.tif',\n",
       "  'CD20': 'images/slide_id__sample_id__CD20__registered.ome.tif',\n",
       "  'HER2': 'images/slide_id__sample_id__HER2__registered.ome.tif',\n",
       "  'HE': 'images/slide_id__sample_id__HE__registered.ome.tif'},\n",
       " 'matrix': 'matrix/matrix.h5ad',\n",
       " 'transcripts': 'transcripts/transcripts.parquet',\n",
       " 'boundaries': {'cells': 'boundaries/cells.parquet',\n",
       "  'nuclei': 'boundaries/nuclei.parquet'},\n",
       " 'annotations': {'demo': 'annotations/demo.parquet'}}"
      ]
     },
     "execution_count": 40,
     "metadata": {},
     "output_type": "execute_result"
    }
   ],
   "source": [
    "xd_reloaded.xd_metadata"
   ]
  },
  {
   "cell_type": "code",
   "execution_count": 21,
   "metadata": {},
   "outputs": [
    {
     "data": {
      "text/html": [
       "<div>\n",
       "<style scoped>\n",
       "    .dataframe tbody tr th:only-of-type {\n",
       "        vertical-align: middle;\n",
       "    }\n",
       "\n",
       "    .dataframe tbody tr th {\n",
       "        vertical-align: top;\n",
       "    }\n",
       "\n",
       "    .dataframe thead th {\n",
       "        text-align: right;\n",
       "    }\n",
       "</style>\n",
       "<table border=\"1\" class=\"dataframe\">\n",
       "  <thead>\n",
       "    <tr style=\"text-align: right;\">\n",
       "      <th></th>\n",
       "      <th>id</th>\n",
       "      <th>objectType</th>\n",
       "      <th>geometry</th>\n",
       "      <th>name</th>\n",
       "      <th>color</th>\n",
       "    </tr>\n",
       "  </thead>\n",
       "  <tbody>\n",
       "    <tr>\n",
       "      <th>0</th>\n",
       "      <td>bd3aacca-1716-4df8-91dd-bf8f6413a7bd</td>\n",
       "      <td>annotation</td>\n",
       "      <td>b'\\x01\\x03\\x00\\x00\\x00\\x01\\x00\\x00\\x00\\x91\\x02...</td>\n",
       "      <td>Positive</td>\n",
       "      <td>[250, 62, 62]</td>\n",
       "    </tr>\n",
       "    <tr>\n",
       "      <th>1</th>\n",
       "      <td>69814505-4059-42cd-8df2-752f7eb0810d</td>\n",
       "      <td>annotation</td>\n",
       "      <td>b'\\x01\\x03\\x00\\x00\\x00\\x01\\x00\\x00\\x00\\x1c\\x02...</td>\n",
       "      <td>Positive</td>\n",
       "      <td>[250, 62, 62]</td>\n",
       "    </tr>\n",
       "    <tr>\n",
       "      <th>2</th>\n",
       "      <td>1957cd32-0a21-4b45-9dae-ecf236217140</td>\n",
       "      <td>annotation</td>\n",
       "      <td>b'\\x01\\x03\\x00\\x00\\x00\\x02\\x00\\x00\\x00\\xb6\\x02...</td>\n",
       "      <td>Negative</td>\n",
       "      <td>[112, 112, 225]</td>\n",
       "    </tr>\n",
       "    <tr>\n",
       "      <th>3</th>\n",
       "      <td>19d2197a-1b8e-456f-8223-fba74641ac1c</td>\n",
       "      <td>annotation</td>\n",
       "      <td>b'\\x01\\x03\\x00\\x00\\x00\\x01\\x00\\x00\\x00\\xcb\\x01...</td>\n",
       "      <td>Negative</td>\n",
       "      <td>[112, 112, 225]</td>\n",
       "    </tr>\n",
       "  </tbody>\n",
       "</table>\n",
       "</div>"
      ],
      "text/plain": [
       "                                     id  objectType  \\\n",
       "0  bd3aacca-1716-4df8-91dd-bf8f6413a7bd  annotation   \n",
       "1  69814505-4059-42cd-8df2-752f7eb0810d  annotation   \n",
       "2  1957cd32-0a21-4b45-9dae-ecf236217140  annotation   \n",
       "3  19d2197a-1b8e-456f-8223-fba74641ac1c  annotation   \n",
       "\n",
       "                                            geometry      name  \\\n",
       "0  b'\\x01\\x03\\x00\\x00\\x00\\x01\\x00\\x00\\x00\\x91\\x02...  Positive   \n",
       "1  b'\\x01\\x03\\x00\\x00\\x00\\x01\\x00\\x00\\x00\\x1c\\x02...  Positive   \n",
       "2  b'\\x01\\x03\\x00\\x00\\x00\\x02\\x00\\x00\\x00\\xb6\\x02...  Negative   \n",
       "3  b'\\x01\\x03\\x00\\x00\\x00\\x01\\x00\\x00\\x00\\xcb\\x01...  Negative   \n",
       "\n",
       "             color  \n",
       "0    [250, 62, 62]  \n",
       "1    [250, 62, 62]  \n",
       "2  [112, 112, 225]  \n",
       "3  [112, 112, 225]  "
      ]
     },
     "execution_count": 21,
     "metadata": {},
     "output_type": "execute_result"
    }
   ],
   "source": [
    "import pandas as pd\n",
    "pd.read_parquet(r\"C:\\Users\\ge37voy\\Github\\InSituPy\\notebooks\\demo_dataset\\with_annotations\\annotations\\demo.parquet\")"
   ]
  },
  {
   "cell_type": "code",
   "execution_count": null,
   "metadata": {},
   "outputs": [],
   "source": []
  }
 ],
 "metadata": {
  "kernelspec": {
   "display_name": "xparse",
   "language": "python",
   "name": "python3"
  },
  "language_info": {
   "codemirror_mode": {
    "name": "ipython",
    "version": 3
   },
   "file_extension": ".py",
   "mimetype": "text/x-python",
   "name": "python",
   "nbconvert_exporter": "python",
   "pygments_lexer": "ipython3",
   "version": "3.9.18"
  }
 },
 "nbformat": 4,
 "nbformat_minor": 5
}
