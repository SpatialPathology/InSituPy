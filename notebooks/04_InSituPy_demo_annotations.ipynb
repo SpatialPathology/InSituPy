{
 "cells": [
  {
   "cell_type": "markdown",
   "id": "b16df72d-5dd5-47da-a8c3-b569fe97446b",
   "metadata": {
    "tags": []
   },
   "source": [
    "# InSituPy demonstration - Add annotations"
   ]
  },
  {
   "cell_type": "code",
   "execution_count": 1,
   "id": "8bc0c4ed-3587-460e-98d2-6626a020a327",
   "metadata": {},
   "outputs": [],
   "source": [
    "## The following code ensures that all functions and init files are reloaded before executions.\n",
    "%load_ext autoreload\n",
    "%autoreload 2"
   ]
  },
  {
   "cell_type": "code",
   "execution_count": 2,
   "id": "58107e0b-5017-425b-8cd0-9274be2b8253",
   "metadata": {},
   "outputs": [],
   "source": [
    "from pathlib import Path\n",
    "from insitupy import read_xenium"
   ]
  },
  {
   "cell_type": "markdown",
   "id": "db038252",
   "metadata": {},
   "source": [
    "## Previous steps\n",
    "\n",
    "1. Download the example data for demonstration: [01_InSituPy_demo_download_data.ipynb](./01_InSituPy_demo_download_data.ipynb)\n",
    "2. Register images from external stainings: [02_InSituPy_demo_register_images.ipynb](./02_InSituPy_demo_register_images.ipynb)\n",
    "3. Visualize data with napari and do preprocessing steps: [03_InSituPy_demo_analyze.ipynb](./03_InSituPy_demo_analyze.ipynb)\n",
    "\n",
    "At this point, the structure of the data should look like this:\n",
    "\n",
    "    ```\n",
    "    ./demo_dataset\n",
    "    ├───cropped_processed\n",
    "    ├───output-XETG00000__slide_id__sample_id\n",
    "    │   ├───analysis\n",
    "    │   │   ├───clustering\n",
    "    │   │   ├───diffexp\n",
    "    │   │   ├───pca\n",
    "    │   │   ├───tsne\n",
    "    │   │   └───umap\n",
    "    │   └───cell_feature_matrix\n",
    "    ├───registered_images\n",
    "    ├───registration_qc\n",
    "    └───unregistered_images\n",
    "    ```\n"
   ]
  },
  {
   "cell_type": "markdown",
   "id": "ae409a19",
   "metadata": {},
   "source": [
    "## Load Xenium data into `XeniumData` object\n",
    "\n",
    "Now the Xenium data can be parsed by providing the data path to `XeniumData`"
   ]
  },
  {
   "cell_type": "code",
   "execution_count": 3,
   "id": "2db31fb9",
   "metadata": {},
   "outputs": [],
   "source": [
    "insitupy_project = Path(\"demo_dataset/demo_insitupy_project\")"
   ]
  },
  {
   "cell_type": "code",
   "execution_count": 4,
   "id": "188ddb98",
   "metadata": {},
   "outputs": [],
   "source": [
    "xd = read_xenium(insitupy_project)"
   ]
  },
  {
   "cell_type": "code",
   "execution_count": 5,
   "id": "22afdac4",
   "metadata": {},
   "outputs": [
    {
     "data": {
      "text/plain": [
       "\u001b[1m\u001b[31mXeniumData\u001b[0m\n",
       "\u001b[1mSlide ID:\u001b[0m\t0001879\n",
       "\u001b[1mSample ID:\u001b[0m\tReplicate 1\n",
       "\u001b[1mData path:\u001b[0m\tdemo_dataset\n",
       "\u001b[1mData folder:\u001b[0m\tdemo_insitupy_project\n",
       "\u001b[1mMetadata file:\u001b[0m\t.ispy"
      ]
     },
     "execution_count": 5,
     "metadata": {},
     "output_type": "execute_result"
    }
   ],
   "source": [
    "xd"
   ]
  },
  {
   "cell_type": "code",
   "execution_count": 6,
   "id": "ae606b79",
   "metadata": {},
   "outputs": [
    {
     "name": "stdout",
     "output_type": "stream",
     "text": [
      "Loading images...\n",
      "Loading cells...\n",
      "\tNo alternative cells found...\n"
     ]
    }
   ],
   "source": [
    "xd.load_images()\n",
    "xd.load_cells()"
   ]
  },
  {
   "cell_type": "markdown",
   "id": "a7cc74ee",
   "metadata": {},
   "source": [
    "Note: That the `annotations` and `regions` modalities are not found here is expected. Annotations and regions are added in a later step."
   ]
  },
  {
   "cell_type": "code",
   "execution_count": 7,
   "id": "7a864387",
   "metadata": {},
   "outputs": [
    {
     "data": {
      "text/plain": [
       "\u001b[1m\u001b[31mXeniumData\u001b[0m\n",
       "\u001b[1mSlide ID:\u001b[0m\t0001879\n",
       "\u001b[1mSample ID:\u001b[0m\tReplicate 1\n",
       "\u001b[1mData path:\u001b[0m\tdemo_dataset\n",
       "\u001b[1mData folder:\u001b[0m\tdemo_insitupy_project\n",
       "\u001b[1mMetadata file:\u001b[0m\t.ispy\n",
       "    ➤ \u001b[34m\u001b[1mimages\u001b[0m\n",
       "       \u001b[1mnuclei:\u001b[0m\t(25778, 35416)\n",
       "       \u001b[1mCD20:\u001b[0m\t(25778, 35416)\n",
       "       \u001b[1mHER2:\u001b[0m\t(25778, 35416)\n",
       "       \u001b[1mHE:\u001b[0m\t(25778, 35416, 3)\n",
       "    ➤\u001b[32m\u001b[1m cells\u001b[0m\n",
       "       \u001b[1mmatrix\u001b[0m\n",
       "           AnnData object with n_obs × n_vars = 167780 × 313\n",
       "           obs: 'transcript_counts', 'control_probe_counts', 'control_codeword_counts', 'total_counts', 'cell_area', 'nucleus_area'\n",
       "           var: 'gene_ids', 'feature_types', 'genome'\n",
       "           obsm: 'spatial'\n",
       "           varm: 'binned_expression'\n",
       "       \u001b[1mboundaries\u001b[0m\n",
       "           BoundariesData object with 2 entries:\n",
       "               \u001b[1mcellular\u001b[0m\n",
       "               \u001b[1mnuclear\u001b[0m"
      ]
     },
     "execution_count": 7,
     "metadata": {},
     "output_type": "execute_result"
    }
   ],
   "source": [
    "xd"
   ]
  },
  {
   "cell_type": "markdown",
   "id": "ff939c38",
   "metadata": {},
   "source": [
    "## Load annotations\n",
    "\n",
    "For the analysis of spatial transcriptomic datasets the inclusion of annotations from experts of disease pathology is key. Here, we demonstrate how to annotate data in [QuPath](https://qupath.github.io/), export the annotations as `.geojson` file and import them into the `XeniumData` object.\n",
    "\n",
    "### Create annotations in QuPath\n",
    "\n",
    "To create annotations in QuPath, follow these steps:\n",
    "\n",
    "1. Select a annotation tool from the bar on the top left:\n",
    "\n",
    "<center><img src=\"./demo_annotations/qupath_annotation_buttons.jpg\" width=\"300\"/></center>\n",
    "\n",
    "2. Add as many annotations as you want and label them by setting classes in the annotation list. Do not forget to press the \"Set class\" button:\n",
    "\n",
    "<center><img src=\"./demo_annotations/qupath_annotation_list.jpg\" width=\"350\"/></center>\n",
    "\n",
    "3. Export annotations using `File > Export objects as GeoJSON`. Tick `Pretty JSON` to get an easily readable JSON file. The file name needs to have following structure: `annotation-{slide_id}__{sample_id}__{annotation_label}`.\n",
    "\n",
    "### Import annotations into `XeniumData`\n",
    "\n",
    "For demonstration purposes, we created a dummy annotation file in `./demo_annotations/`. To add the annotations to `XeniumData` follow the steps below.\n",
    "\n"
   ]
  },
  {
   "cell_type": "code",
   "execution_count": 8,
   "id": "b69521c6",
   "metadata": {},
   "outputs": [
    {
     "name": "stdout",
     "output_type": "stream",
     "text": [
      "Importing annotations...\n"
     ]
    },
    {
     "name": "stderr",
     "output_type": "stream",
     "text": [
      "C:\\Users\\ge37voy\\Github\\InSituPy\\insitupy\\_core\\dataclasses.py:66: UserWarning: Some annotations were a shapely 'MultiPolygon' objects and skipped.\n",
      "  self.add_shapes(data=file,\n"
     ]
    }
   ],
   "source": [
    "xd.import_annotations(\n",
    "    files=[\n",
    "        \"./demo_annotations/annotations-0001879__Replicate 1__demo.geojson\",\n",
    "        \"./demo_annotations/annotations-0001879__Replicate 1__demo2.geojson\"\n",
    "           ],\n",
    "    keys=[\"demo\", \"demo2\"]\n",
    "    )"
   ]
  },
  {
   "cell_type": "markdown",
   "id": "1983a1d9",
   "metadata": {},
   "source": [
    "## Load regions\n",
    "\n",
    "Regions can be created in QuPath either as described above or using tools like the TMA dearrayer. They are also exported as objects as annotations but different to annotations they do not have a classification and each name of a region has to be unique.\n",
    "\n",
    "In the following demo regions are read. One of the region files has non-unique names to demonstrate the warning that appears in this case."
   ]
  },
  {
   "cell_type": "code",
   "execution_count": 10,
   "id": "b0a0751d",
   "metadata": {},
   "outputs": [
    {
     "name": "stdout",
     "output_type": "stream",
     "text": [
      "Importing regions...\n"
     ]
    }
   ],
   "source": [
    "xd.import_regions(\n",
    "    files=[\n",
    "        \"./demo_regions/regions-0001879__Replicate 1__demo_regions.geojson\",\n",
    "        \"./demo_regions/regions-0001879__Replicate 1__TMA.geojson\",\n",
    "        ],\n",
    "    keys=['demo_regions', 'TMA'])"
   ]
  },
  {
   "cell_type": "markdown",
   "id": "cdcdf2fc",
   "metadata": {},
   "source": [
    "Properties of the added `anotations` and `regions` can be inspected in the XeniumData representation:"
   ]
  },
  {
   "cell_type": "code",
   "execution_count": 11,
   "id": "56936a6e",
   "metadata": {},
   "outputs": [
    {
     "data": {
      "text/plain": [
       "\u001b[1m\u001b[31mXeniumData\u001b[0m\n",
       "\u001b[1mSlide ID:\u001b[0m\t0001879\n",
       "\u001b[1mSample ID:\u001b[0m\tReplicate 1\n",
       "\u001b[1mData path:\u001b[0m\tdemo_dataset\n",
       "\u001b[1mData folder:\u001b[0m\tdemo_insitupy_project\n",
       "\u001b[1mMetadata file:\u001b[0m\t.ispy\n",
       "    ➤ \u001b[34m\u001b[1mimages\u001b[0m\n",
       "       \u001b[1mnuclei:\u001b[0m\t(25778, 35416)\n",
       "       \u001b[1mCD20:\u001b[0m\t(25778, 35416)\n",
       "       \u001b[1mHER2:\u001b[0m\t(25778, 35416)\n",
       "       \u001b[1mHE:\u001b[0m\t(25778, 35416, 3)\n",
       "    ➤\u001b[32m\u001b[1m cells\u001b[0m\n",
       "       \u001b[1mmatrix\u001b[0m\n",
       "           AnnData object with n_obs × n_vars = 167780 × 313\n",
       "           obs: 'transcript_counts', 'control_probe_counts', 'control_codeword_counts', 'total_counts', 'cell_area', 'nucleus_area'\n",
       "           var: 'gene_ids', 'feature_types', 'genome'\n",
       "           obsm: 'spatial'\n",
       "           varm: 'binned_expression'\n",
       "       \u001b[1mboundaries\u001b[0m\n",
       "           BoundariesData object with 2 entries:\n",
       "               \u001b[1mcellular\u001b[0m\n",
       "               \u001b[1mnuclear\u001b[0m\n",
       "    ➤ \u001b[36m\u001b[1mannotations\u001b[0m\n",
       "       \u001b[1mdemo:\u001b[0m\t4 annotations, 2 classes ('Positive','Negative') \n",
       "       \u001b[1mdemo2:\u001b[0m\t4 annotations, 3 classes ('Negative','Positive','Other') \n",
       "    ➤ \u001b[33m\u001b[1mregions\u001b[0m\n",
       "       \u001b[1mdemo_regions:\u001b[0m\t3 regions, 3 classes ('Region1','Region2','Region3') \n",
       "       \u001b[1mTMA:\u001b[0m\t6 regions, 6 classes ('B-2','A-3','B-1','B-3','A-1','A-2') "
      ]
     },
     "execution_count": 11,
     "metadata": {},
     "output_type": "execute_result"
    }
   ],
   "source": [
    "xd"
   ]
  },
  {
   "cell_type": "markdown",
   "id": "6bccfc91",
   "metadata": {},
   "source": [
    "Both annotations and regions are saved as [`GeoPandas`](https://geopandas.org/en/stable/) dataframes. The main difference between both is that `regions` need to have a unique name while `annotations` are allowed to have duplicate names. In both cases a unique `id` is used for identification."
   ]
  },
  {
   "cell_type": "code",
   "execution_count": 12,
   "id": "82951cab",
   "metadata": {},
   "outputs": [
    {
     "data": {
      "text/html": [
       "<div>\n",
       "<style scoped>\n",
       "    .dataframe tbody tr th:only-of-type {\n",
       "        vertical-align: middle;\n",
       "    }\n",
       "\n",
       "    .dataframe tbody tr th {\n",
       "        vertical-align: top;\n",
       "    }\n",
       "\n",
       "    .dataframe thead th {\n",
       "        text-align: right;\n",
       "    }\n",
       "</style>\n",
       "<table border=\"1\" class=\"dataframe\">\n",
       "  <thead>\n",
       "    <tr style=\"text-align: right;\">\n",
       "      <th></th>\n",
       "      <th>objectType</th>\n",
       "      <th>geometry</th>\n",
       "      <th>name</th>\n",
       "      <th>color</th>\n",
       "      <th>origin</th>\n",
       "    </tr>\n",
       "    <tr>\n",
       "      <th>id</th>\n",
       "      <th></th>\n",
       "      <th></th>\n",
       "      <th></th>\n",
       "      <th></th>\n",
       "      <th></th>\n",
       "    </tr>\n",
       "  </thead>\n",
       "  <tbody>\n",
       "    <tr>\n",
       "      <th>1970eccb-ad38-4b4b-b7a8-54509027b57d</th>\n",
       "      <td>annotation</td>\n",
       "      <td>POLYGON ((5380.28750 827.05000, 5379.01250 827...</td>\n",
       "      <td>Negative</td>\n",
       "      <td>[112, 112, 225]</td>\n",
       "      <td>file</td>\n",
       "    </tr>\n",
       "    <tr>\n",
       "      <th>a3b32cce-1bb9-4a6f-b1d1-9e0c44420cfa</th>\n",
       "      <td>annotation</td>\n",
       "      <td>POLYGON ((6576.87500 2306.68750, 6575.60000 23...</td>\n",
       "      <td>Positive</td>\n",
       "      <td>[250, 62, 62]</td>\n",
       "      <td>file</td>\n",
       "    </tr>\n",
       "    <tr>\n",
       "      <th>a6c17a54-6839-40b2-8531-c9227635f344</th>\n",
       "      <td>annotation</td>\n",
       "      <td>POLYGON ((1381.46250 3639.27500, 1380.18750 36...</td>\n",
       "      <td>Other</td>\n",
       "      <td>[255, 200, 0]</td>\n",
       "      <td>file</td>\n",
       "    </tr>\n",
       "    <tr>\n",
       "      <th>e78efe2f-d185-4ab6-9cc9-6621897f3662</th>\n",
       "      <td>annotation</td>\n",
       "      <td>POLYGON ((6272.92137 3936.13750, 6263.65000 39...</td>\n",
       "      <td>Negative</td>\n",
       "      <td>[112, 112, 225]</td>\n",
       "      <td>file</td>\n",
       "    </tr>\n",
       "  </tbody>\n",
       "</table>\n",
       "</div>"
      ],
      "text/plain": [
       "                                      objectType  \\\n",
       "id                                                 \n",
       "1970eccb-ad38-4b4b-b7a8-54509027b57d  annotation   \n",
       "a3b32cce-1bb9-4a6f-b1d1-9e0c44420cfa  annotation   \n",
       "a6c17a54-6839-40b2-8531-c9227635f344  annotation   \n",
       "e78efe2f-d185-4ab6-9cc9-6621897f3662  annotation   \n",
       "\n",
       "                                                                               geometry  \\\n",
       "id                                                                                        \n",
       "1970eccb-ad38-4b4b-b7a8-54509027b57d  POLYGON ((5380.28750 827.05000, 5379.01250 827...   \n",
       "a3b32cce-1bb9-4a6f-b1d1-9e0c44420cfa  POLYGON ((6576.87500 2306.68750, 6575.60000 23...   \n",
       "a6c17a54-6839-40b2-8531-c9227635f344  POLYGON ((1381.46250 3639.27500, 1380.18750 36...   \n",
       "e78efe2f-d185-4ab6-9cc9-6621897f3662  POLYGON ((6272.92137 3936.13750, 6263.65000 39...   \n",
       "\n",
       "                                          name            color origin  \n",
       "id                                                                      \n",
       "1970eccb-ad38-4b4b-b7a8-54509027b57d  Negative  [112, 112, 225]   file  \n",
       "a3b32cce-1bb9-4a6f-b1d1-9e0c44420cfa  Positive    [250, 62, 62]   file  \n",
       "a6c17a54-6839-40b2-8531-c9227635f344     Other    [255, 200, 0]   file  \n",
       "e78efe2f-d185-4ab6-9cc9-6621897f3662  Negative  [112, 112, 225]   file  "
      ]
     },
     "execution_count": 12,
     "metadata": {},
     "output_type": "execute_result"
    }
   ],
   "source": [
    "xd.annotations.demo2"
   ]
  },
  {
   "cell_type": "code",
   "execution_count": 13,
   "id": "44cff388",
   "metadata": {},
   "outputs": [
    {
     "data": {
      "text/html": [
       "<div>\n",
       "<style scoped>\n",
       "    .dataframe tbody tr th:only-of-type {\n",
       "        vertical-align: middle;\n",
       "    }\n",
       "\n",
       "    .dataframe tbody tr th {\n",
       "        vertical-align: top;\n",
       "    }\n",
       "\n",
       "    .dataframe thead th {\n",
       "        text-align: right;\n",
       "    }\n",
       "</style>\n",
       "<table border=\"1\" class=\"dataframe\">\n",
       "  <thead>\n",
       "    <tr style=\"text-align: right;\">\n",
       "      <th></th>\n",
       "      <th>objectType</th>\n",
       "      <th>name</th>\n",
       "      <th>isMissing</th>\n",
       "      <th>geometry</th>\n",
       "      <th>origin</th>\n",
       "    </tr>\n",
       "    <tr>\n",
       "      <th>id</th>\n",
       "      <th></th>\n",
       "      <th></th>\n",
       "      <th></th>\n",
       "      <th></th>\n",
       "      <th></th>\n",
       "    </tr>\n",
       "  </thead>\n",
       "  <tbody>\n",
       "    <tr>\n",
       "      <th>7ab5d5a6-49bd-4122-bc64-05477bc0207b</th>\n",
       "      <td>tmaCore</td>\n",
       "      <td>B-2</td>\n",
       "      <td>False</td>\n",
       "      <td>POLYGON ((4299.61025 4213.18862, 4298.62425 42...</td>\n",
       "      <td>file</td>\n",
       "    </tr>\n",
       "    <tr>\n",
       "      <th>06ef93c1-f86d-45e6-ad9a-896e254638ea</th>\n",
       "      <td>tmaCore</td>\n",
       "      <td>A-3</td>\n",
       "      <td>False</td>\n",
       "      <td>POLYGON ((7201.19150 903.26738, 7200.20550 934...</td>\n",
       "      <td>file</td>\n",
       "    </tr>\n",
       "    <tr>\n",
       "      <th>7933d3fd-ccd3-46af-8f15-fcc01ec9c128</th>\n",
       "      <td>tmaCore</td>\n",
       "      <td>B-1</td>\n",
       "      <td>False</td>\n",
       "      <td>POLYGON ((1555.14725 4333.64638, 1554.15912 43...</td>\n",
       "      <td>file</td>\n",
       "    </tr>\n",
       "    <tr>\n",
       "      <th>7015118d-2947-48e3-baf0-4b220a76a951</th>\n",
       "      <td>tmaCore</td>\n",
       "      <td>B-3</td>\n",
       "      <td>False</td>\n",
       "      <td>POLYGON ((7311.17300 4228.90087, 7310.18700 42...</td>\n",
       "      <td>file</td>\n",
       "    </tr>\n",
       "    <tr>\n",
       "      <th>bf86657f-31f6-40fe-983b-f80c3d75512b</th>\n",
       "      <td>tmaCore</td>\n",
       "      <td>A-1</td>\n",
       "      <td>False</td>\n",
       "      <td>POLYGON ((1481.82625 908.50338, 1480.83812 939...</td>\n",
       "      <td>file</td>\n",
       "    </tr>\n",
       "    <tr>\n",
       "      <th>440d8f00-fb0e-42e7-9f98-30d30adfc8df</th>\n",
       "      <td>tmaCore</td>\n",
       "      <td>A-2</td>\n",
       "      <td>False</td>\n",
       "      <td>POLYGON ((4173.91650 856.13063, 4172.93050 887...</td>\n",
       "      <td>file</td>\n",
       "    </tr>\n",
       "  </tbody>\n",
       "</table>\n",
       "</div>"
      ],
      "text/plain": [
       "                                     objectType name  isMissing  \\\n",
       "id                                                                \n",
       "7ab5d5a6-49bd-4122-bc64-05477bc0207b    tmaCore  B-2      False   \n",
       "06ef93c1-f86d-45e6-ad9a-896e254638ea    tmaCore  A-3      False   \n",
       "7933d3fd-ccd3-46af-8f15-fcc01ec9c128    tmaCore  B-1      False   \n",
       "7015118d-2947-48e3-baf0-4b220a76a951    tmaCore  B-3      False   \n",
       "bf86657f-31f6-40fe-983b-f80c3d75512b    tmaCore  A-1      False   \n",
       "440d8f00-fb0e-42e7-9f98-30d30adfc8df    tmaCore  A-2      False   \n",
       "\n",
       "                                                                               geometry  \\\n",
       "id                                                                                        \n",
       "7ab5d5a6-49bd-4122-bc64-05477bc0207b  POLYGON ((4299.61025 4213.18862, 4298.62425 42...   \n",
       "06ef93c1-f86d-45e6-ad9a-896e254638ea  POLYGON ((7201.19150 903.26738, 7200.20550 934...   \n",
       "7933d3fd-ccd3-46af-8f15-fcc01ec9c128  POLYGON ((1555.14725 4333.64638, 1554.15912 43...   \n",
       "7015118d-2947-48e3-baf0-4b220a76a951  POLYGON ((7311.17300 4228.90087, 7310.18700 42...   \n",
       "bf86657f-31f6-40fe-983b-f80c3d75512b  POLYGON ((1481.82625 908.50338, 1480.83812 939...   \n",
       "440d8f00-fb0e-42e7-9f98-30d30adfc8df  POLYGON ((4173.91650 856.13063, 4172.93050 887...   \n",
       "\n",
       "                                     origin  \n",
       "id                                           \n",
       "7ab5d5a6-49bd-4122-bc64-05477bc0207b   file  \n",
       "06ef93c1-f86d-45e6-ad9a-896e254638ea   file  \n",
       "7933d3fd-ccd3-46af-8f15-fcc01ec9c128   file  \n",
       "7015118d-2947-48e3-baf0-4b220a76a951   file  \n",
       "bf86657f-31f6-40fe-983b-f80c3d75512b   file  \n",
       "440d8f00-fb0e-42e7-9f98-30d30adfc8df   file  "
      ]
     },
     "execution_count": 13,
     "metadata": {},
     "output_type": "execute_result"
    }
   ],
   "source": [
    "xd.regions.TMA"
   ]
  },
  {
   "cell_type": "markdown",
   "metadata": {},
   "source": [
    "### Visualize and edit annotations and regions using napari\n",
    "\n",
    "To visualize annotations and regions in napari, three widgets are available:\n",
    "\n",
    "<left><img src=\"./demo_annotations/napari_region+annotations_widget.jpg\" width=\"300\"/></left>\n",
    "\n",
    "Using this widget, annotations and regions can be displayed. Currently only annotations can be added using the respective widget.\n",
    "\n",
    "Alternatively, annotations can be displayed while starting the napari with `.show()` using the `annotation_keys` argument:\n"
   ]
  },
  {
   "cell_type": "code",
   "execution_count": 14,
   "metadata": {},
   "outputs": [
    {
     "name": "stderr",
     "output_type": "stream",
     "text": [
      "c:\\Users\\ge37voy\\AppData\\Local\\miniconda3\\envs\\insitupy\\lib\\site-packages\\geopandas\\geodataframe.py:1543: SettingWithCopyWarning: \n",
      "A value is trying to be set on a copy of a slice from a DataFrame.\n",
      "Try using .loc[row_indexer,col_indexer] = value instead\n",
      "\n",
      "See the caveats in the documentation: https://pandas.pydata.org/pandas-docs/stable/user_guide/indexing.html#returning-a-view-versus-a-copy\n",
      "  super().__setitem__(key, value)\n",
      "c:\\Users\\ge37voy\\AppData\\Local\\miniconda3\\envs\\insitupy\\lib\\site-packages\\geopandas\\geodataframe.py:1543: SettingWithCopyWarning: \n",
      "A value is trying to be set on a copy of a slice from a DataFrame.\n",
      "Try using .loc[row_indexer,col_indexer] = value instead\n",
      "\n",
      "See the caveats in the documentation: https://pandas.pydata.org/pandas-docs/stable/user_guide/indexing.html#returning-a-view-versus-a-copy\n",
      "  super().__setitem__(key, value)\n",
      "c:\\Users\\ge37voy\\AppData\\Local\\miniconda3\\envs\\insitupy\\lib\\site-packages\\geopandas\\geodataframe.py:1543: SettingWithCopyWarning: \n",
      "A value is trying to be set on a copy of a slice from a DataFrame.\n",
      "Try using .loc[row_indexer,col_indexer] = value instead\n",
      "\n",
      "See the caveats in the documentation: https://pandas.pydata.org/pandas-docs/stable/user_guide/indexing.html#returning-a-view-versus-a-copy\n",
      "  super().__setitem__(key, value)\n",
      "c:\\Users\\ge37voy\\AppData\\Local\\miniconda3\\envs\\insitupy\\lib\\site-packages\\geopandas\\geodataframe.py:1543: SettingWithCopyWarning: \n",
      "A value is trying to be set on a copy of a slice from a DataFrame.\n",
      "Try using .loc[row_indexer,col_indexer] = value instead\n",
      "\n",
      "See the caveats in the documentation: https://pandas.pydata.org/pandas-docs/stable/user_guide/indexing.html#returning-a-view-versus-a-copy\n",
      "  super().__setitem__(key, value)\n",
      "c:\\Users\\ge37voy\\AppData\\Local\\miniconda3\\envs\\insitupy\\lib\\site-packages\\geopandas\\geodataframe.py:1543: SettingWithCopyWarning: \n",
      "A value is trying to be set on a copy of a slice from a DataFrame.\n",
      "Try using .loc[row_indexer,col_indexer] = value instead\n",
      "\n",
      "See the caveats in the documentation: https://pandas.pydata.org/pandas-docs/stable/user_guide/indexing.html#returning-a-view-versus-a-copy\n",
      "  super().__setitem__(key, value)\n",
      "c:\\Users\\ge37voy\\AppData\\Local\\miniconda3\\envs\\insitupy\\lib\\site-packages\\geopandas\\geodataframe.py:1543: SettingWithCopyWarning: \n",
      "A value is trying to be set on a copy of a slice from a DataFrame.\n",
      "Try using .loc[row_indexer,col_indexer] = value instead\n",
      "\n",
      "See the caveats in the documentation: https://pandas.pydata.org/pandas-docs/stable/user_guide/indexing.html#returning-a-view-versus-a-copy\n",
      "  super().__setitem__(key, value)\n",
      "c:\\Users\\ge37voy\\AppData\\Local\\miniconda3\\envs\\insitupy\\lib\\site-packages\\geopandas\\geodataframe.py:1543: SettingWithCopyWarning: \n",
      "A value is trying to be set on a copy of a slice from a DataFrame.\n",
      "Try using .loc[row_indexer,col_indexer] = value instead\n",
      "\n",
      "See the caveats in the documentation: https://pandas.pydata.org/pandas-docs/stable/user_guide/indexing.html#returning-a-view-versus-a-copy\n",
      "  super().__setitem__(key, value)\n"
     ]
    }
   ],
   "source": [
    "xd.show(annotation_keys=\"all\")"
   ]
  },
  {
   "cell_type": "markdown",
   "metadata": {},
   "source": [
    "#### Annotation layers\n",
    "\n",
    "The annotations are added as shapes layers to the layer list. The layer name always starts with a \"*\" and has following syntax: `\"* Class (Label)\"`:\n",
    "\n",
    "<left><img src=\"./demo_annotations/napari_layerlist_annotations.jpg\" width=\"300\"/></left>\n",
    "\n",
    "- **Label**: A label for one collection of annotations. Could e.g. tell us who did the annotations or what is the focus of this collection of annotations.\n",
    "- **Class**: Specifies the class of one specific annotation. Could be e.g. the name of cells, the morphological structure or the disease state annotated.\n",
    "\n",
    "#### Add custom annotations using the Annotation Widget\n",
    "\n",
    "<left><img src=\"./demo_annotations/napari_annotation_widget.jpg\" width=\"200\"/></left>\n",
    "\n",
    "By clicking the `\"Add annotation layer\"` button a new layer with the above mentioned syntax is added. The layer controls on the top left can be then used to add new shapes as annotations:\n",
    "\n",
    "<left><img src=\"./demo_annotations/napari_layerconrols_annotations.jpg\" width=\"300\"/></left>\n",
    "\n",
    "An example annotation is shown here:\n",
    "\n",
    "<left><img src=\"./demo_annotations/napari_annotation_example.jpg\" width=\"200\"/></left>\n",
    "\n",
    "The annotations can then be stored in the `XeniumData` object using the `store_annotations` function.\n"
   ]
  },
  {
   "cell_type": "code",
   "execution_count": 15,
   "metadata": {},
   "outputs": [
    {
     "name": "stdout",
     "output_type": "stream",
     "text": [
      "Added 3 new annotations to existing key 'demo2'\n"
     ]
    }
   ],
   "source": [
    "xd.store_annotations()"
   ]
  },
  {
   "cell_type": "code",
   "execution_count": 16,
   "metadata": {},
   "outputs": [
    {
     "data": {
      "text/plain": [
       "\u001b[1m\u001b[31mXeniumData\u001b[0m\n",
       "\u001b[1mSlide ID:\u001b[0m\t0001879\n",
       "\u001b[1mSample ID:\u001b[0m\tReplicate 1\n",
       "\u001b[1mData path:\u001b[0m\tdemo_dataset\n",
       "\u001b[1mData folder:\u001b[0m\tdemo_insitupy_project\n",
       "\u001b[1mMetadata file:\u001b[0m\t.ispy\n",
       "    ➤ \u001b[34m\u001b[1mimages\u001b[0m\n",
       "       \u001b[1mnuclei:\u001b[0m\t(25778, 35416)\n",
       "       \u001b[1mCD20:\u001b[0m\t(25778, 35416)\n",
       "       \u001b[1mHER2:\u001b[0m\t(25778, 35416)\n",
       "       \u001b[1mHE:\u001b[0m\t(25778, 35416, 3)\n",
       "    ➤\u001b[32m\u001b[1m cells\u001b[0m\n",
       "       \u001b[1mmatrix\u001b[0m\n",
       "           AnnData object with n_obs × n_vars = 167780 × 313\n",
       "           obs: 'transcript_counts', 'control_probe_counts', 'control_codeword_counts', 'total_counts', 'cell_area', 'nucleus_area'\n",
       "           var: 'gene_ids', 'feature_types', 'genome'\n",
       "           obsm: 'spatial'\n",
       "           varm: 'binned_expression'\n",
       "       \u001b[1mboundaries\u001b[0m\n",
       "           BoundariesData object with 2 entries:\n",
       "               \u001b[1mcellular\u001b[0m\n",
       "               \u001b[1mnuclear\u001b[0m\n",
       "    ➤ \u001b[36m\u001b[1mannotations\u001b[0m\n",
       "       \u001b[1mdemo:\u001b[0m\t4 annotations, 2 classes ('Positive','Negative') \n",
       "       \u001b[1mdemo2:\u001b[0m\t7 annotations, 4 classes ('Negative','Positive','Other','test_class') \n",
       "    ➤ \u001b[33m\u001b[1mregions\u001b[0m\n",
       "       \u001b[1mdemo_regions:\u001b[0m\t3 regions, 3 classes ('Region1','Region2','Region3') \n",
       "       \u001b[1mTMA:\u001b[0m\t6 regions, 6 classes ('B-2','A-3','B-1','B-3','A-1','A-2') "
      ]
     },
     "execution_count": 16,
     "metadata": {},
     "output_type": "execute_result"
    }
   ],
   "source": [
    "xd"
   ]
  },
  {
   "cell_type": "markdown",
   "metadata": {},
   "source": [
    "### Assign annotations to observations\n",
    "\n",
    "To use the annotations in analyses (e.g. to select only observations within a certain annotation or compare gene expression between different annotations) one can use the `assign_annotations` function. It adds columns containing the annotation class to `xd.matrix.obs`. The column has the syntax `annotation-{Label}` and if an observation is not part of any annotation within this label, it contains `NaN`. "
   ]
  },
  {
   "cell_type": "code",
   "execution_count": 17,
   "metadata": {},
   "outputs": [
    {
     "name": "stdout",
     "output_type": "stream",
     "text": [
      "Assigning key 'demo'...\n",
      "Assigning key 'demo2'...\n"
     ]
    }
   ],
   "source": [
    "xd.assign_annotations()"
   ]
  },
  {
   "cell_type": "markdown",
   "metadata": {},
   "source": [
    "After assigning the annotations, the labels analyzed here are marked with a ✔:"
   ]
  },
  {
   "cell_type": "code",
   "execution_count": 18,
   "metadata": {},
   "outputs": [
    {
     "data": {
      "text/plain": [
       "\u001b[1m\u001b[31mXeniumData\u001b[0m\n",
       "\u001b[1mSlide ID:\u001b[0m\t0001879\n",
       "\u001b[1mSample ID:\u001b[0m\tReplicate 1\n",
       "\u001b[1mData path:\u001b[0m\tdemo_dataset\n",
       "\u001b[1mData folder:\u001b[0m\tdemo_insitupy_project\n",
       "\u001b[1mMetadata file:\u001b[0m\t.ispy\n",
       "    ➤ \u001b[34m\u001b[1mimages\u001b[0m\n",
       "       \u001b[1mnuclei:\u001b[0m\t(25778, 35416)\n",
       "       \u001b[1mCD20:\u001b[0m\t(25778, 35416)\n",
       "       \u001b[1mHER2:\u001b[0m\t(25778, 35416)\n",
       "       \u001b[1mHE:\u001b[0m\t(25778, 35416, 3)\n",
       "    ➤\u001b[32m\u001b[1m cells\u001b[0m\n",
       "       \u001b[1mmatrix\u001b[0m\n",
       "           AnnData object with n_obs × n_vars = 167780 × 313\n",
       "           obs: 'transcript_counts', 'control_probe_counts', 'control_codeword_counts', 'total_counts', 'cell_area', 'nucleus_area', 'annotation-demo', 'annotation-demo2'\n",
       "           var: 'gene_ids', 'feature_types', 'genome'\n",
       "           obsm: 'spatial'\n",
       "           varm: 'binned_expression'\n",
       "       \u001b[1mboundaries\u001b[0m\n",
       "           BoundariesData object with 2 entries:\n",
       "               \u001b[1mcellular\u001b[0m\n",
       "               \u001b[1mnuclear\u001b[0m\n",
       "    ➤ \u001b[36m\u001b[1mannotations\u001b[0m\n",
       "       \u001b[1mdemo:\u001b[0m\t4 annotations, 2 classes ('Positive','Negative') ✔\n",
       "       \u001b[1mdemo2:\u001b[0m\t7 annotations, 4 classes ('Negative','Positive','Other','test_class') ✔\n",
       "    ➤ \u001b[33m\u001b[1mregions\u001b[0m\n",
       "       \u001b[1mdemo_regions:\u001b[0m\t3 regions, 3 classes ('Region1','Region2','Region3') \n",
       "       \u001b[1mTMA:\u001b[0m\t6 regions, 6 classes ('B-2','A-3','B-1','B-3','A-1','A-2') "
      ]
     },
     "execution_count": 18,
     "metadata": {},
     "output_type": "execute_result"
    }
   ],
   "source": [
    "xd"
   ]
  },
  {
   "cell_type": "markdown",
   "metadata": {},
   "source": [
    "Following cells show examples how to explore the assigned annotations:"
   ]
  },
  {
   "cell_type": "code",
   "execution_count": 19,
   "metadata": {},
   "outputs": [
    {
     "data": {
      "text/plain": [
       "21199"
      ]
     },
     "execution_count": 19,
     "metadata": {},
     "output_type": "execute_result"
    }
   ],
   "source": [
    "# print number of cells within one annotation\n",
    "xd.cells.matrix.obs[\"annotation-demo2\"].notna().sum()"
   ]
  },
  {
   "cell_type": "code",
   "execution_count": 20,
   "metadata": {},
   "outputs": [
    {
     "data": {
      "text/html": [
       "<div>\n",
       "<style scoped>\n",
       "    .dataframe tbody tr th:only-of-type {\n",
       "        vertical-align: middle;\n",
       "    }\n",
       "\n",
       "    .dataframe tbody tr th {\n",
       "        vertical-align: top;\n",
       "    }\n",
       "\n",
       "    .dataframe thead th {\n",
       "        text-align: right;\n",
       "    }\n",
       "</style>\n",
       "<table border=\"1\" class=\"dataframe\">\n",
       "  <thead>\n",
       "    <tr style=\"text-align: right;\">\n",
       "      <th></th>\n",
       "      <th>transcript_counts</th>\n",
       "      <th>control_probe_counts</th>\n",
       "      <th>control_codeword_counts</th>\n",
       "      <th>total_counts</th>\n",
       "      <th>cell_area</th>\n",
       "      <th>nucleus_area</th>\n",
       "      <th>annotation-demo</th>\n",
       "      <th>annotation-demo2</th>\n",
       "    </tr>\n",
       "  </thead>\n",
       "  <tbody>\n",
       "    <tr>\n",
       "      <th>4921</th>\n",
       "      <td>281</td>\n",
       "      <td>0</td>\n",
       "      <td>0</td>\n",
       "      <td>281</td>\n",
       "      <td>733.247187</td>\n",
       "      <td>26.010000</td>\n",
       "      <td>NaN</td>\n",
       "      <td>Other</td>\n",
       "    </tr>\n",
       "    <tr>\n",
       "      <th>4922</th>\n",
       "      <td>273</td>\n",
       "      <td>1</td>\n",
       "      <td>0</td>\n",
       "      <td>274</td>\n",
       "      <td>380.576875</td>\n",
       "      <td>30.074063</td>\n",
       "      <td>NaN</td>\n",
       "      <td>Other</td>\n",
       "    </tr>\n",
       "    <tr>\n",
       "      <th>4923</th>\n",
       "      <td>189</td>\n",
       "      <td>2</td>\n",
       "      <td>0</td>\n",
       "      <td>191</td>\n",
       "      <td>285.658437</td>\n",
       "      <td>8.263594</td>\n",
       "      <td>NaN</td>\n",
       "      <td>Other</td>\n",
       "    </tr>\n",
       "    <tr>\n",
       "      <th>4924</th>\n",
       "      <td>212</td>\n",
       "      <td>0</td>\n",
       "      <td>0</td>\n",
       "      <td>212</td>\n",
       "      <td>282.226562</td>\n",
       "      <td>24.068281</td>\n",
       "      <td>NaN</td>\n",
       "      <td>Other</td>\n",
       "    </tr>\n",
       "    <tr>\n",
       "      <th>4925</th>\n",
       "      <td>58</td>\n",
       "      <td>0</td>\n",
       "      <td>0</td>\n",
       "      <td>58</td>\n",
       "      <td>81.823125</td>\n",
       "      <td>4.470469</td>\n",
       "      <td>NaN</td>\n",
       "      <td>Other</td>\n",
       "    </tr>\n",
       "    <tr>\n",
       "      <th>...</th>\n",
       "      <td>...</td>\n",
       "      <td>...</td>\n",
       "      <td>...</td>\n",
       "      <td>...</td>\n",
       "      <td>...</td>\n",
       "      <td>...</td>\n",
       "      <td>...</td>\n",
       "      <td>...</td>\n",
       "    </tr>\n",
       "    <tr>\n",
       "      <th>165374</th>\n",
       "      <td>96</td>\n",
       "      <td>1</td>\n",
       "      <td>0</td>\n",
       "      <td>97</td>\n",
       "      <td>150.234844</td>\n",
       "      <td>11.063281</td>\n",
       "      <td>Negative</td>\n",
       "      <td>Negative</td>\n",
       "    </tr>\n",
       "    <tr>\n",
       "      <th>165375</th>\n",
       "      <td>379</td>\n",
       "      <td>0</td>\n",
       "      <td>0</td>\n",
       "      <td>379</td>\n",
       "      <td>153.666719</td>\n",
       "      <td>75.681875</td>\n",
       "      <td>Negative</td>\n",
       "      <td>Negative</td>\n",
       "    </tr>\n",
       "    <tr>\n",
       "      <th>165376</th>\n",
       "      <td>101</td>\n",
       "      <td>0</td>\n",
       "      <td>0</td>\n",
       "      <td>101</td>\n",
       "      <td>27.996875</td>\n",
       "      <td>17.836719</td>\n",
       "      <td>Negative</td>\n",
       "      <td>Negative</td>\n",
       "    </tr>\n",
       "    <tr>\n",
       "      <th>165377</th>\n",
       "      <td>472</td>\n",
       "      <td>0</td>\n",
       "      <td>0</td>\n",
       "      <td>472</td>\n",
       "      <td>200.177656</td>\n",
       "      <td>52.652188</td>\n",
       "      <td>Negative</td>\n",
       "      <td>Negative</td>\n",
       "    </tr>\n",
       "    <tr>\n",
       "      <th>165378</th>\n",
       "      <td>588</td>\n",
       "      <td>0</td>\n",
       "      <td>0</td>\n",
       "      <td>588</td>\n",
       "      <td>319.525625</td>\n",
       "      <td>96.995625</td>\n",
       "      <td>Negative</td>\n",
       "      <td>Negative</td>\n",
       "    </tr>\n",
       "  </tbody>\n",
       "</table>\n",
       "<p>21199 rows × 8 columns</p>\n",
       "</div>"
      ],
      "text/plain": [
       "        transcript_counts  control_probe_counts  control_codeword_counts  \\\n",
       "4921                  281                     0                        0   \n",
       "4922                  273                     1                        0   \n",
       "4923                  189                     2                        0   \n",
       "4924                  212                     0                        0   \n",
       "4925                   58                     0                        0   \n",
       "...                   ...                   ...                      ...   \n",
       "165374                 96                     1                        0   \n",
       "165375                379                     0                        0   \n",
       "165376                101                     0                        0   \n",
       "165377                472                     0                        0   \n",
       "165378                588                     0                        0   \n",
       "\n",
       "        total_counts   cell_area  nucleus_area annotation-demo  \\\n",
       "4921             281  733.247187     26.010000             NaN   \n",
       "4922             274  380.576875     30.074063             NaN   \n",
       "4923             191  285.658437      8.263594             NaN   \n",
       "4924             212  282.226562     24.068281             NaN   \n",
       "4925              58   81.823125      4.470469             NaN   \n",
       "...              ...         ...           ...             ...   \n",
       "165374            97  150.234844     11.063281        Negative   \n",
       "165375           379  153.666719     75.681875        Negative   \n",
       "165376           101   27.996875     17.836719        Negative   \n",
       "165377           472  200.177656     52.652188        Negative   \n",
       "165378           588  319.525625     96.995625        Negative   \n",
       "\n",
       "       annotation-demo2  \n",
       "4921              Other  \n",
       "4922              Other  \n",
       "4923              Other  \n",
       "4924              Other  \n",
       "4925              Other  \n",
       "...                 ...  \n",
       "165374         Negative  \n",
       "165375         Negative  \n",
       "165376         Negative  \n",
       "165377         Negative  \n",
       "165378         Negative  \n",
       "\n",
       "[21199 rows x 8 columns]"
      ]
     },
     "execution_count": 20,
     "metadata": {},
     "output_type": "execute_result"
    }
   ],
   "source": [
    "# show only observations that were part of this annotation label\n",
    "xd.cells.matrix.obs[xd.cells.matrix.obs[\"annotation-demo2\"].notna()]"
   ]
  },
  {
   "cell_type": "markdown",
   "id": "2f209ebb",
   "metadata": {},
   "source": [
    "## Save imported annotations in `InSituPy` project"
   ]
  },
  {
   "cell_type": "code",
   "execution_count": 25,
   "id": "bd9034f1",
   "metadata": {},
   "outputs": [
    {
     "name": "stdout",
     "output_type": "stream",
     "text": [
      "Updating project in c:\\Users\\ge37voy\\Github\\InSituPy\\notebooks\\demo_dataset\\demo_insitupy_project\n",
      "\tUpdating cells...\n",
      "\tUpdating annotations...\n",
      "\tUpdating regions...\n",
      "Saved.\n",
      "Reloading following modalities: annotations,cells,images,regions\n",
      "Loading annotations...\n",
      "Loading cells...\n",
      "\tNo alternative cells found...\n",
      "Loading images...\n",
      "Loading regions...\n"
     ]
    }
   ],
   "source": [
    "xd.save()"
   ]
  },
  {
   "cell_type": "code",
   "execution_count": 26,
   "id": "aec32282",
   "metadata": {},
   "outputs": [],
   "source": [
    "xd.show()"
   ]
  },
  {
   "cell_type": "code",
   "execution_count": null,
   "id": "80834d05",
   "metadata": {},
   "outputs": [],
   "source": []
  }
 ],
 "metadata": {
  "kernelspec": {
   "display_name": "xparse",
   "language": "python",
   "name": "python3"
  },
  "language_info": {
   "codemirror_mode": {
    "name": "ipython",
    "version": 3
   },
   "file_extension": ".py",
   "mimetype": "text/x-python",
   "name": "python",
   "nbconvert_exporter": "python",
   "pygments_lexer": "ipython3",
   "version": "3.9.18"
  }
 },
 "nbformat": 4,
 "nbformat_minor": 5
}
