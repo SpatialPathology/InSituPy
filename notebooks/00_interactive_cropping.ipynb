{
 "cells": [
  {
   "cell_type": "markdown",
   "id": "b16df72d-5dd5-47da-a8c3-b569fe97446b",
   "metadata": {
    "tags": []
   },
   "source": [
    "# InSituParse - Visualize data with napari and crop datasets"
   ]
  },
  {
   "cell_type": "code",
   "execution_count": 1,
   "id": "8bc0c4ed-3587-460e-98d2-6626a020a327",
   "metadata": {},
   "outputs": [],
   "source": [
    "## The following code ensures that all functions and init files are reloaded before executions.\n",
    "%load_ext autoreload\n",
    "%autoreload 2"
   ]
  },
  {
   "cell_type": "code",
   "execution_count": 18,
   "id": "58107e0b-5017-425b-8cd0-9274be2b8253",
   "metadata": {},
   "outputs": [],
   "source": [
    "from xeniumdata import XeniumData\n",
    "import xeniumdata\n",
    "from pathlib import Path\n",
    "import pandas as pd\n",
    "import matplotlib.pyplot as plt\n",
    "from xeniumdata.utils.utils import decode_robust_series"
   ]
  },
  {
   "cell_type": "markdown",
   "id": "1bf4c9bd-ed20-4ee5-9178-227a546e3e3e",
   "metadata": {},
   "source": [
    "## Integrate HE images into Xenium data structure\n",
    "\n",
    "Idea:\n",
    "1. Place HE images into folder close to the xenium output files\n",
    "2. Register images using SIFT algorithm and extract transformation matrix (for Xenium Explorer).\n",
    "3. Save registered images in Xenium folder and include information about image paths into the `experiment.xenium` file and generate a separate `experiment_he.xenium` file to prevent problems with xenium explorer."
   ]
  },
  {
   "cell_type": "code",
   "execution_count": 3,
   "id": "690419de-3d10-4856-be7c-8730dca4d672",
   "metadata": {},
   "outputs": [],
   "source": [
    "# input directories\n",
    "data_dir = Path(\"C:/Users/ge37voy/data/datasets/Xenium_FFPE_Human_Breast_Cancer_Rep1_outs/output-XETG00000__slide_id__sample_id/\")"
   ]
  },
  {
   "cell_type": "code",
   "execution_count": 44,
   "id": "61be8fd5-abbe-4f01-ba54-94c023a396fa",
   "metadata": {},
   "outputs": [],
   "source": [
    "# load xenium data\n",
    "xd = XeniumData(data_dir)"
   ]
  },
  {
   "cell_type": "code",
   "execution_count": 45,
   "id": "dff4f26f-047d-4919-b460-888316c229de",
   "metadata": {},
   "outputs": [
    {
     "data": {
      "text/plain": [
       "\u001b[1m\u001b[31mXeniumData\u001b[0m\n",
       "\u001b[1mSlide ID:\u001b[0m\tslide_id\n",
       "\u001b[1mRegion ID:\u001b[0m\tsample_id\n",
       "\u001b[1mData path:\u001b[0m\tC:\\Users\\ge37voy\\data\\datasets\\Xenium_FFPE_Human_Breast_Cancer_Rep1_outs\n",
       "\u001b[1mData folder:\u001b[0m\toutput-XETG00000__slide_id__sample_id\n",
       "\u001b[1mMetadata file:\u001b[0m\texperiment.xenium"
      ]
     },
     "execution_count": 45,
     "metadata": {},
     "output_type": "execute_result"
    }
   ],
   "source": [
    "xd"
   ]
  },
  {
   "cell_type": "code",
   "execution_count": 46,
   "id": "567af77f-7c04-4ab9-80ba-2b3100820661",
   "metadata": {},
   "outputs": [
    {
     "name": "stdout",
     "output_type": "stream",
     "text": [
      "No folder named `annotations` found. Function `read_annotations()` was skipped.\n",
      "Running read_boundaries()\n",
      "Running read_images()\n",
      "Running read_matrix()\n"
     ]
    },
    {
     "name": "stderr",
     "output_type": "stream",
     "text": [
      "c:\\Users\\ge37voy\\AppData\\Local\\miniconda3\\envs\\xparse\\lib\\site-packages\\anndata\\_core\\anndata.py:1113: FutureWarning: is_categorical_dtype is deprecated and will be removed in a future version. Use isinstance(dtype, CategoricalDtype) instead\n",
      "  if not is_categorical_dtype(df_full[k]):\n"
     ]
    },
    {
     "name": "stdout",
     "output_type": "stream",
     "text": [
      "Running read_transcripts()\n"
     ]
    }
   ],
   "source": [
    "xd.read_all()"
   ]
  },
  {
   "cell_type": "code",
   "execution_count": 47,
   "id": "82c47751",
   "metadata": {},
   "outputs": [
    {
     "data": {
      "text/html": [
       "<div>\n",
       "<style scoped>\n",
       "    .dataframe tbody tr th:only-of-type {\n",
       "        vertical-align: middle;\n",
       "    }\n",
       "\n",
       "    .dataframe tbody tr th {\n",
       "        vertical-align: top;\n",
       "    }\n",
       "\n",
       "    .dataframe thead th {\n",
       "        text-align: right;\n",
       "    }\n",
       "</style>\n",
       "<table border=\"1\" class=\"dataframe\">\n",
       "  <thead>\n",
       "    <tr style=\"text-align: right;\">\n",
       "      <th></th>\n",
       "      <th>transcript_id</th>\n",
       "      <th>cell_id</th>\n",
       "      <th>overlaps_nucleus</th>\n",
       "      <th>feature_name</th>\n",
       "      <th>x_location</th>\n",
       "      <th>y_location</th>\n",
       "      <th>z_location</th>\n",
       "      <th>qv</th>\n",
       "    </tr>\n",
       "  </thead>\n",
       "  <tbody>\n",
       "    <tr>\n",
       "      <th>0</th>\n",
       "      <td>281474976710656</td>\n",
       "      <td>565</td>\n",
       "      <td>0</td>\n",
       "      <td>SEC11C</td>\n",
       "      <td>20.686316</td>\n",
       "      <td>1546.665771</td>\n",
       "      <td>56.562321</td>\n",
       "      <td>18.662479</td>\n",
       "    </tr>\n",
       "    <tr>\n",
       "      <th>1</th>\n",
       "      <td>281474976710657</td>\n",
       "      <td>540</td>\n",
       "      <td>0</td>\n",
       "      <td>NegControlCodeword_0502</td>\n",
       "      <td>23.879601</td>\n",
       "      <td>1115.128662</td>\n",
       "      <td>35.804756</td>\n",
       "      <td>18.634956</td>\n",
       "    </tr>\n",
       "    <tr>\n",
       "      <th>2</th>\n",
       "      <td>281474976710658</td>\n",
       "      <td>562</td>\n",
       "      <td>0</td>\n",
       "      <td>SEC11C</td>\n",
       "      <td>22.127167</td>\n",
       "      <td>1519.045410</td>\n",
       "      <td>57.830975</td>\n",
       "      <td>18.662479</td>\n",
       "    </tr>\n",
       "    <tr>\n",
       "      <th>3</th>\n",
       "      <td>281474976710659</td>\n",
       "      <td>271</td>\n",
       "      <td>0</td>\n",
       "      <td>DAPK3</td>\n",
       "      <td>23.089888</td>\n",
       "      <td>2736.134766</td>\n",
       "      <td>52.812305</td>\n",
       "      <td>20.821745</td>\n",
       "    </tr>\n",
       "    <tr>\n",
       "      <th>4</th>\n",
       "      <td>281474976710660</td>\n",
       "      <td>291</td>\n",
       "      <td>0</td>\n",
       "      <td>TCIM</td>\n",
       "      <td>26.638584</td>\n",
       "      <td>3392.243408</td>\n",
       "      <td>43.602459</td>\n",
       "      <td>18.017488</td>\n",
       "    </tr>\n",
       "    <tr>\n",
       "      <th>...</th>\n",
       "      <td>...</td>\n",
       "      <td>...</td>\n",
       "      <td>...</td>\n",
       "      <td>...</td>\n",
       "      <td>...</td>\n",
       "      <td>...</td>\n",
       "      <td>...</td>\n",
       "      <td>...</td>\n",
       "    </tr>\n",
       "    <tr>\n",
       "      <th>42638078</th>\n",
       "      <td>281805689407068</td>\n",
       "      <td>-1</td>\n",
       "      <td>0</td>\n",
       "      <td>HOXD8</td>\n",
       "      <td>24555.294922</td>\n",
       "      <td>24920.091797</td>\n",
       "      <td>143.816162</td>\n",
       "      <td>20.061079</td>\n",
       "    </tr>\n",
       "    <tr>\n",
       "      <th>42638079</th>\n",
       "      <td>281805689407071</td>\n",
       "      <td>135717</td>\n",
       "      <td>1</td>\n",
       "      <td>LUM</td>\n",
       "      <td>24559.080078</td>\n",
       "      <td>22554.955078</td>\n",
       "      <td>180.896118</td>\n",
       "      <td>21.389278</td>\n",
       "    </tr>\n",
       "    <tr>\n",
       "      <th>42638080</th>\n",
       "      <td>281805689407078</td>\n",
       "      <td>-1</td>\n",
       "      <td>0</td>\n",
       "      <td>LUM</td>\n",
       "      <td>24552.492188</td>\n",
       "      <td>25531.228516</td>\n",
       "      <td>143.621658</td>\n",
       "      <td>21.960102</td>\n",
       "    </tr>\n",
       "    <tr>\n",
       "      <th>42638081</th>\n",
       "      <td>281805689407083</td>\n",
       "      <td>-1</td>\n",
       "      <td>0</td>\n",
       "      <td>NARS</td>\n",
       "      <td>24565.435547</td>\n",
       "      <td>22775.078125</td>\n",
       "      <td>151.438583</td>\n",
       "      <td>25.970398</td>\n",
       "    </tr>\n",
       "    <tr>\n",
       "      <th>42638082</th>\n",
       "      <td>281805689407092</td>\n",
       "      <td>135716</td>\n",
       "      <td>0</td>\n",
       "      <td>LUM</td>\n",
       "      <td>24565.814453</td>\n",
       "      <td>22300.007812</td>\n",
       "      <td>142.158798</td>\n",
       "      <td>20.524120</td>\n",
       "    </tr>\n",
       "  </tbody>\n",
       "</table>\n",
       "<p>42638083 rows × 8 columns</p>\n",
       "</div>"
      ],
      "text/plain": [
       "            transcript_id  cell_id  overlaps_nucleus             feature_name  \\\n",
       "0         281474976710656      565                 0                   SEC11C   \n",
       "1         281474976710657      540                 0  NegControlCodeword_0502   \n",
       "2         281474976710658      562                 0                   SEC11C   \n",
       "3         281474976710659      271                 0                    DAPK3   \n",
       "4         281474976710660      291                 0                     TCIM   \n",
       "...                   ...      ...               ...                      ...   \n",
       "42638078  281805689407068       -1                 0                    HOXD8   \n",
       "42638079  281805689407071   135717                 1                      LUM   \n",
       "42638080  281805689407078       -1                 0                      LUM   \n",
       "42638081  281805689407083       -1                 0                     NARS   \n",
       "42638082  281805689407092   135716                 0                      LUM   \n",
       "\n",
       "            x_location    y_location  z_location         qv  \n",
       "0            20.686316   1546.665771   56.562321  18.662479  \n",
       "1            23.879601   1115.128662   35.804756  18.634956  \n",
       "2            22.127167   1519.045410   57.830975  18.662479  \n",
       "3            23.089888   2736.134766   52.812305  20.821745  \n",
       "4            26.638584   3392.243408   43.602459  18.017488  \n",
       "...                ...           ...         ...        ...  \n",
       "42638078  24555.294922  24920.091797  143.816162  20.061079  \n",
       "42638079  24559.080078  22554.955078  180.896118  21.389278  \n",
       "42638080  24552.492188  25531.228516  143.621658  21.960102  \n",
       "42638081  24565.435547  22775.078125  151.438583  25.970398  \n",
       "42638082  24565.814453  22300.007812  142.158798  20.524120  \n",
       "\n",
       "[42638083 rows x 8 columns]"
      ]
     },
     "execution_count": 47,
     "metadata": {},
     "output_type": "execute_result"
    }
   ],
   "source": [
    "xd.transcripts"
   ]
  },
  {
   "cell_type": "code",
   "execution_count": 29,
   "id": "cdb9ad97",
   "metadata": {},
   "outputs": [
    {
     "data": {
      "text/html": [
       "<div>\n",
       "<style scoped>\n",
       "    .dataframe tbody tr th:only-of-type {\n",
       "        vertical-align: middle;\n",
       "    }\n",
       "\n",
       "    .dataframe tbody tr th {\n",
       "        vertical-align: top;\n",
       "    }\n",
       "\n",
       "    .dataframe thead th {\n",
       "        text-align: right;\n",
       "    }\n",
       "</style>\n",
       "<table border=\"1\" class=\"dataframe\">\n",
       "  <thead>\n",
       "    <tr style=\"text-align: right;\">\n",
       "      <th></th>\n",
       "      <th>cell_id</th>\n",
       "      <th>vertex_x</th>\n",
       "      <th>vertex_y</th>\n",
       "    </tr>\n",
       "  </thead>\n",
       "  <tbody>\n",
       "    <tr>\n",
       "      <th>0</th>\n",
       "      <td>1</td>\n",
       "      <td>3998.999756</td>\n",
       "      <td>1516.999878</td>\n",
       "    </tr>\n",
       "    <tr>\n",
       "      <th>1</th>\n",
       "      <td>1</td>\n",
       "      <td>3973.000000</td>\n",
       "      <td>1520.999878</td>\n",
       "    </tr>\n",
       "    <tr>\n",
       "      <th>2</th>\n",
       "      <td>1</td>\n",
       "      <td>3960.000000</td>\n",
       "      <td>1526.999878</td>\n",
       "    </tr>\n",
       "    <tr>\n",
       "      <th>3</th>\n",
       "      <td>1</td>\n",
       "      <td>3968.000000</td>\n",
       "      <td>1540.000000</td>\n",
       "    </tr>\n",
       "    <tr>\n",
       "      <th>4</th>\n",
       "      <td>1</td>\n",
       "      <td>3976.000000</td>\n",
       "      <td>1546.999878</td>\n",
       "    </tr>\n",
       "    <tr>\n",
       "      <th>...</th>\n",
       "      <td>...</td>\n",
       "      <td>...</td>\n",
       "      <td>...</td>\n",
       "    </tr>\n",
       "    <tr>\n",
       "      <th>2181081</th>\n",
       "      <td>167780</td>\n",
       "      <td>35281.000000</td>\n",
       "      <td>24080.000000</td>\n",
       "    </tr>\n",
       "    <tr>\n",
       "      <th>2181082</th>\n",
       "      <td>167780</td>\n",
       "      <td>35273.000000</td>\n",
       "      <td>24069.000000</td>\n",
       "    </tr>\n",
       "    <tr>\n",
       "      <th>2181083</th>\n",
       "      <td>167780</td>\n",
       "      <td>35253.000000</td>\n",
       "      <td>24053.000000</td>\n",
       "    </tr>\n",
       "    <tr>\n",
       "      <th>2181084</th>\n",
       "      <td>167780</td>\n",
       "      <td>35244.000000</td>\n",
       "      <td>24043.000000</td>\n",
       "    </tr>\n",
       "    <tr>\n",
       "      <th>2181085</th>\n",
       "      <td>167780</td>\n",
       "      <td>35242.000000</td>\n",
       "      <td>24040.998047</td>\n",
       "    </tr>\n",
       "  </tbody>\n",
       "</table>\n",
       "<p>2181086 rows × 3 columns</p>\n",
       "</div>"
      ],
      "text/plain": [
       "         cell_id      vertex_x      vertex_y\n",
       "0              1   3998.999756   1516.999878\n",
       "1              1   3973.000000   1520.999878\n",
       "2              1   3960.000000   1526.999878\n",
       "3              1   3968.000000   1540.000000\n",
       "4              1   3976.000000   1546.999878\n",
       "...          ...           ...           ...\n",
       "2181081   167780  35281.000000  24080.000000\n",
       "2181082   167780  35273.000000  24069.000000\n",
       "2181083   167780  35253.000000  24053.000000\n",
       "2181084   167780  35244.000000  24043.000000\n",
       "2181085   167780  35242.000000  24040.998047\n",
       "\n",
       "[2181086 rows x 3 columns]"
      ]
     },
     "execution_count": 29,
     "metadata": {},
     "output_type": "execute_result"
    }
   ],
   "source": [
    "xd.boundaries.cells"
   ]
  },
  {
   "cell_type": "code",
   "execution_count": null,
   "id": "26e9af34",
   "metadata": {},
   "outputs": [],
   "source": []
  },
  {
   "cell_type": "code",
   "execution_count": 22,
   "id": "483a2a73",
   "metadata": {},
   "outputs": [
    {
     "name": "stdout",
     "output_type": "stream",
     "text": [
      "b1\n",
      "b1\n",
      "b1\n",
      "b3\n",
      "b4\n",
      "b1\n",
      "b1\n",
      "b1\n",
      "b1\n"
     ]
    },
    {
     "data": {
      "text/html": [
       "<div>\n",
       "<style scoped>\n",
       "    .dataframe tbody tr th:only-of-type {\n",
       "        vertical-align: middle;\n",
       "    }\n",
       "\n",
       "    .dataframe tbody tr th {\n",
       "        vertical-align: top;\n",
       "    }\n",
       "\n",
       "    .dataframe thead th {\n",
       "        text-align: right;\n",
       "    }\n",
       "</style>\n",
       "<table border=\"1\" class=\"dataframe\">\n",
       "  <thead>\n",
       "    <tr style=\"text-align: right;\">\n",
       "      <th></th>\n",
       "      <th>transcript_id</th>\n",
       "      <th>cell_id</th>\n",
       "      <th>overlaps_nucleus</th>\n",
       "      <th>feature_name</th>\n",
       "      <th>x_location</th>\n",
       "      <th>y_location</th>\n",
       "      <th>z_location</th>\n",
       "      <th>qv</th>\n",
       "    </tr>\n",
       "  </thead>\n",
       "  <tbody>\n",
       "    <tr>\n",
       "      <th>0</th>\n",
       "      <td>281474976710656</td>\n",
       "      <td>565</td>\n",
       "      <td>0</td>\n",
       "      <td>SEC11C</td>\n",
       "      <td>20.686316</td>\n",
       "      <td>1546.665771</td>\n",
       "      <td>56.562321</td>\n",
       "      <td>18.662479</td>\n",
       "    </tr>\n",
       "    <tr>\n",
       "      <th>1</th>\n",
       "      <td>281474976710657</td>\n",
       "      <td>540</td>\n",
       "      <td>0</td>\n",
       "      <td>NegControlCodeword_0502</td>\n",
       "      <td>23.879601</td>\n",
       "      <td>1115.128662</td>\n",
       "      <td>35.804756</td>\n",
       "      <td>18.634956</td>\n",
       "    </tr>\n",
       "    <tr>\n",
       "      <th>2</th>\n",
       "      <td>281474976710658</td>\n",
       "      <td>562</td>\n",
       "      <td>0</td>\n",
       "      <td>SEC11C</td>\n",
       "      <td>22.127167</td>\n",
       "      <td>1519.045410</td>\n",
       "      <td>57.830975</td>\n",
       "      <td>18.662479</td>\n",
       "    </tr>\n",
       "    <tr>\n",
       "      <th>3</th>\n",
       "      <td>281474976710659</td>\n",
       "      <td>271</td>\n",
       "      <td>0</td>\n",
       "      <td>DAPK3</td>\n",
       "      <td>23.089888</td>\n",
       "      <td>2736.134766</td>\n",
       "      <td>52.812305</td>\n",
       "      <td>20.821745</td>\n",
       "    </tr>\n",
       "    <tr>\n",
       "      <th>4</th>\n",
       "      <td>281474976710660</td>\n",
       "      <td>291</td>\n",
       "      <td>0</td>\n",
       "      <td>TCIM</td>\n",
       "      <td>26.638584</td>\n",
       "      <td>3392.243408</td>\n",
       "      <td>43.602459</td>\n",
       "      <td>18.017488</td>\n",
       "    </tr>\n",
       "    <tr>\n",
       "      <th>...</th>\n",
       "      <td>...</td>\n",
       "      <td>...</td>\n",
       "      <td>...</td>\n",
       "      <td>...</td>\n",
       "      <td>...</td>\n",
       "      <td>...</td>\n",
       "      <td>...</td>\n",
       "      <td>...</td>\n",
       "    </tr>\n",
       "    <tr>\n",
       "      <th>42638078</th>\n",
       "      <td>281805689407068</td>\n",
       "      <td>-1</td>\n",
       "      <td>0</td>\n",
       "      <td>HOXD8</td>\n",
       "      <td>24555.294922</td>\n",
       "      <td>24920.091797</td>\n",
       "      <td>143.816162</td>\n",
       "      <td>20.061079</td>\n",
       "    </tr>\n",
       "    <tr>\n",
       "      <th>42638079</th>\n",
       "      <td>281805689407071</td>\n",
       "      <td>135717</td>\n",
       "      <td>1</td>\n",
       "      <td>LUM</td>\n",
       "      <td>24559.080078</td>\n",
       "      <td>22554.955078</td>\n",
       "      <td>180.896118</td>\n",
       "      <td>21.389278</td>\n",
       "    </tr>\n",
       "    <tr>\n",
       "      <th>42638080</th>\n",
       "      <td>281805689407078</td>\n",
       "      <td>-1</td>\n",
       "      <td>0</td>\n",
       "      <td>LUM</td>\n",
       "      <td>24552.492188</td>\n",
       "      <td>25531.228516</td>\n",
       "      <td>143.621658</td>\n",
       "      <td>21.960102</td>\n",
       "    </tr>\n",
       "    <tr>\n",
       "      <th>42638081</th>\n",
       "      <td>281805689407083</td>\n",
       "      <td>-1</td>\n",
       "      <td>0</td>\n",
       "      <td>NARS</td>\n",
       "      <td>24565.435547</td>\n",
       "      <td>22775.078125</td>\n",
       "      <td>151.438583</td>\n",
       "      <td>25.970398</td>\n",
       "    </tr>\n",
       "    <tr>\n",
       "      <th>42638082</th>\n",
       "      <td>281805689407092</td>\n",
       "      <td>135716</td>\n",
       "      <td>0</td>\n",
       "      <td>LUM</td>\n",
       "      <td>24565.814453</td>\n",
       "      <td>22300.007812</td>\n",
       "      <td>142.158798</td>\n",
       "      <td>20.524120</td>\n",
       "    </tr>\n",
       "  </tbody>\n",
       "</table>\n",
       "<p>42638083 rows × 8 columns</p>\n",
       "</div>"
      ],
      "text/plain": [
       "            transcript_id  cell_id  overlaps_nucleus             feature_name  \\\n",
       "0         281474976710656      565                 0                   SEC11C   \n",
       "1         281474976710657      540                 0  NegControlCodeword_0502   \n",
       "2         281474976710658      562                 0                   SEC11C   \n",
       "3         281474976710659      271                 0                    DAPK3   \n",
       "4         281474976710660      291                 0                     TCIM   \n",
       "...                   ...      ...               ...                      ...   \n",
       "42638078  281805689407068       -1                 0                    HOXD8   \n",
       "42638079  281805689407071   135717                 1                      LUM   \n",
       "42638080  281805689407078       -1                 0                      LUM   \n",
       "42638081  281805689407083       -1                 0                     NARS   \n",
       "42638082  281805689407092   135716                 0                      LUM   \n",
       "\n",
       "            x_location    y_location  z_location         qv  \n",
       "0            20.686316   1546.665771   56.562321  18.662479  \n",
       "1            23.879601   1115.128662   35.804756  18.634956  \n",
       "2            22.127167   1519.045410   57.830975  18.662479  \n",
       "3            23.089888   2736.134766   52.812305  20.821745  \n",
       "4            26.638584   3392.243408   43.602459  18.017488  \n",
       "...                ...           ...         ...        ...  \n",
       "42638078  24555.294922  24920.091797  143.816162  20.061079  \n",
       "42638079  24559.080078  22554.955078  180.896118  21.389278  \n",
       "42638080  24552.492188  25531.228516  143.621658  21.960102  \n",
       "42638081  24565.435547  22775.078125  151.438583  25.970398  \n",
       "42638082  24565.814453  22300.007812  142.158798  20.524120  \n",
       "\n",
       "[42638083 rows x 8 columns]"
      ]
     },
     "execution_count": 22,
     "metadata": {},
     "output_type": "execute_result"
    }
   ],
   "source": [
    "xd.transcripts.apply(lambda x: decode_robust_series(x), axis=0)"
   ]
  },
  {
   "cell_type": "code",
   "execution_count": 10,
   "id": "e32f9574",
   "metadata": {},
   "outputs": [
    {
     "data": {
      "text/html": [
       "<div>\n",
       "<style scoped>\n",
       "    .dataframe tbody tr th:only-of-type {\n",
       "        vertical-align: middle;\n",
       "    }\n",
       "\n",
       "    .dataframe tbody tr th {\n",
       "        vertical-align: top;\n",
       "    }\n",
       "\n",
       "    .dataframe thead th {\n",
       "        text-align: right;\n",
       "    }\n",
       "</style>\n",
       "<table border=\"1\" class=\"dataframe\">\n",
       "  <thead>\n",
       "    <tr style=\"text-align: right;\">\n",
       "      <th></th>\n",
       "      <th>transcript_counts</th>\n",
       "      <th>control_probe_counts</th>\n",
       "      <th>control_codeword_counts</th>\n",
       "      <th>total_counts</th>\n",
       "      <th>cell_area</th>\n",
       "      <th>nucleus_area</th>\n",
       "    </tr>\n",
       "  </thead>\n",
       "  <tbody>\n",
       "    <tr>\n",
       "      <th>1</th>\n",
       "      <td>28</td>\n",
       "      <td>1</td>\n",
       "      <td>0</td>\n",
       "      <td>29</td>\n",
       "      <td>58.387031</td>\n",
       "      <td>26.642188</td>\n",
       "    </tr>\n",
       "    <tr>\n",
       "      <th>2</th>\n",
       "      <td>94</td>\n",
       "      <td>0</td>\n",
       "      <td>0</td>\n",
       "      <td>94</td>\n",
       "      <td>197.016719</td>\n",
       "      <td>42.130781</td>\n",
       "    </tr>\n",
       "    <tr>\n",
       "      <th>3</th>\n",
       "      <td>9</td>\n",
       "      <td>0</td>\n",
       "      <td>0</td>\n",
       "      <td>9</td>\n",
       "      <td>16.256250</td>\n",
       "      <td>12.688906</td>\n",
       "    </tr>\n",
       "    <tr>\n",
       "      <th>4</th>\n",
       "      <td>11</td>\n",
       "      <td>0</td>\n",
       "      <td>0</td>\n",
       "      <td>11</td>\n",
       "      <td>42.311406</td>\n",
       "      <td>10.069844</td>\n",
       "    </tr>\n",
       "    <tr>\n",
       "      <th>5</th>\n",
       "      <td>48</td>\n",
       "      <td>0</td>\n",
       "      <td>0</td>\n",
       "      <td>48</td>\n",
       "      <td>107.652500</td>\n",
       "      <td>37.479688</td>\n",
       "    </tr>\n",
       "    <tr>\n",
       "      <th>...</th>\n",
       "      <td>...</td>\n",
       "      <td>...</td>\n",
       "      <td>...</td>\n",
       "      <td>...</td>\n",
       "      <td>...</td>\n",
       "      <td>...</td>\n",
       "    </tr>\n",
       "    <tr>\n",
       "      <th>167776</th>\n",
       "      <td>229</td>\n",
       "      <td>1</td>\n",
       "      <td>0</td>\n",
       "      <td>230</td>\n",
       "      <td>220.452813</td>\n",
       "      <td>60.599688</td>\n",
       "    </tr>\n",
       "    <tr>\n",
       "      <th>167777</th>\n",
       "      <td>79</td>\n",
       "      <td>0</td>\n",
       "      <td>0</td>\n",
       "      <td>79</td>\n",
       "      <td>37.389375</td>\n",
       "      <td>25.242344</td>\n",
       "    </tr>\n",
       "    <tr>\n",
       "      <th>167778</th>\n",
       "      <td>397</td>\n",
       "      <td>0</td>\n",
       "      <td>0</td>\n",
       "      <td>397</td>\n",
       "      <td>287.058281</td>\n",
       "      <td>86.700000</td>\n",
       "    </tr>\n",
       "    <tr>\n",
       "      <th>167779</th>\n",
       "      <td>117</td>\n",
       "      <td>0</td>\n",
       "      <td>0</td>\n",
       "      <td>117</td>\n",
       "      <td>235.354375</td>\n",
       "      <td>25.197188</td>\n",
       "    </tr>\n",
       "    <tr>\n",
       "      <th>167780</th>\n",
       "      <td>378</td>\n",
       "      <td>0</td>\n",
       "      <td>0</td>\n",
       "      <td>378</td>\n",
       "      <td>270.079531</td>\n",
       "      <td>111.806875</td>\n",
       "    </tr>\n",
       "  </tbody>\n",
       "</table>\n",
       "<p>167780 rows × 6 columns</p>\n",
       "</div>"
      ],
      "text/plain": [
       "        transcript_counts  control_probe_counts  control_codeword_counts  \\\n",
       "1                      28                     1                        0   \n",
       "2                      94                     0                        0   \n",
       "3                       9                     0                        0   \n",
       "4                      11                     0                        0   \n",
       "5                      48                     0                        0   \n",
       "...                   ...                   ...                      ...   \n",
       "167776                229                     1                        0   \n",
       "167777                 79                     0                        0   \n",
       "167778                397                     0                        0   \n",
       "167779                117                     0                        0   \n",
       "167780                378                     0                        0   \n",
       "\n",
       "        total_counts   cell_area  nucleus_area  \n",
       "1                 29   58.387031     26.642188  \n",
       "2                 94  197.016719     42.130781  \n",
       "3                  9   16.256250     12.688906  \n",
       "4                 11   42.311406     10.069844  \n",
       "5                 48  107.652500     37.479688  \n",
       "...              ...         ...           ...  \n",
       "167776           230  220.452813     60.599688  \n",
       "167777            79   37.389375     25.242344  \n",
       "167778           397  287.058281     86.700000  \n",
       "167779           117  235.354375     25.197188  \n",
       "167780           378  270.079531    111.806875  \n",
       "\n",
       "[167780 rows x 6 columns]"
      ]
     },
     "execution_count": 10,
     "metadata": {},
     "output_type": "execute_result"
    }
   ],
   "source": [
    "xd.matrix.obs"
   ]
  },
  {
   "cell_type": "code",
   "execution_count": 35,
   "id": "7df9b592",
   "metadata": {},
   "outputs": [
    {
     "data": {
      "text/plain": [
       "Viewer(camera=Camera(center=(0.0, 12888.5, 17707.5), zoom=0.013626609442060083, angles=(0.0, 0.0, 90.0), perspective=0.0, mouse_pan=True, mouse_zoom=True), cursor=Cursor(position=(1.0, 1.0), scaled=True, size=1, style=<CursorStyle.STANDARD: 'standard'>), dims=Dims(ndim=2, ndisplay=2, last_used=0, range=((0.0, 25778.0, 1.0), (0.0, 35416.0, 1.0)), current_step=(12888, 17707), order=(0, 1), axis_labels=('0', '1')), grid=GridCanvas(stride=1, shape=(-1, -1), enabled=False), layers=[<Image layer 'DAPI' at 0x290cf0cd460>, <Points layer 'None' at 0x290cc15a970>], help='use <5> for transform, use <2> for add points, use <3> for select points', status='Ready', tooltip=Tooltip(visible=False, text=''), theme='dark', title='napari', mouse_over_canvas=False, mouse_move_callbacks=[], mouse_drag_callbacks=[], mouse_double_click_callbacks=[], mouse_wheel_callbacks=[<function dims_scroll at 0x00000290CA14AAF0>], _persisted_mouse_event={}, _mouse_drag_gen={}, _mouse_wheel_gen={}, keymap={})"
      ]
     },
     "execution_count": 35,
     "metadata": {},
     "output_type": "execute_result"
    }
   ],
   "source": [
    "xd.interactive()"
   ]
  },
  {
   "cell_type": "code",
   "execution_count": null,
   "id": "eff20557",
   "metadata": {},
   "outputs": [],
   "source": []
  },
  {
   "cell_type": "code",
   "execution_count": 11,
   "id": "8fca1577",
   "metadata": {},
   "outputs": [],
   "source": [
    "df = pd.read_parquet(r\"C:\\Users\\ge37voy\\data\\datasets\\Xenium_FFPE_Human_Breast_Cancer_Rep1_outs\\output-XETG00000__slide_id__sample_id\\nucleus_boundaries.parquet\")"
   ]
  },
  {
   "cell_type": "code",
   "execution_count": 13,
   "id": "fe8a201d",
   "metadata": {},
   "outputs": [
    {
     "ename": "AttributeError",
     "evalue": "Can only use .str accessor with string values!",
     "output_type": "error",
     "traceback": [
      "\u001b[1;31m---------------------------------------------------------------------------\u001b[0m",
      "\u001b[1;31mAttributeError\u001b[0m                            Traceback (most recent call last)",
      "\u001b[1;32mc:\\Users\\ge37voy\\Github\\XeniumData\\notebooks\\00_interactive_cropping.ipynb Cell 11\u001b[0m line \u001b[0;36m1\n\u001b[1;32m----> <a href='vscode-notebook-cell:/c%3A/Users/ge37voy/Github/XeniumData/notebooks/00_interactive_cropping.ipynb#X36sZmlsZQ%3D%3D?line=0'>1</a>\u001b[0m df\u001b[39m.\u001b[39;49mindex\u001b[39m.\u001b[39;49mstr\u001b[39m.\u001b[39mdecode()\n",
      "File \u001b[1;32mc:\\Users\\ge37voy\\AppData\\Local\\miniconda3\\envs\\xparse\\lib\\site-packages\\pandas\\core\\accessor.py:224\u001b[0m, in \u001b[0;36mCachedAccessor.__get__\u001b[1;34m(self, obj, cls)\u001b[0m\n\u001b[0;32m    221\u001b[0m \u001b[39mif\u001b[39;00m obj \u001b[39mis\u001b[39;00m \u001b[39mNone\u001b[39;00m:\n\u001b[0;32m    222\u001b[0m     \u001b[39m# we're accessing the attribute of the class, i.e., Dataset.geo\u001b[39;00m\n\u001b[0;32m    223\u001b[0m     \u001b[39mreturn\u001b[39;00m \u001b[39mself\u001b[39m\u001b[39m.\u001b[39m_accessor\n\u001b[1;32m--> 224\u001b[0m accessor_obj \u001b[39m=\u001b[39m \u001b[39mself\u001b[39;49m\u001b[39m.\u001b[39;49m_accessor(obj)\n\u001b[0;32m    225\u001b[0m \u001b[39m# Replace the property with the accessor object. Inspired by:\u001b[39;00m\n\u001b[0;32m    226\u001b[0m \u001b[39m# https://www.pydanny.com/cached-property.html\u001b[39;00m\n\u001b[0;32m    227\u001b[0m \u001b[39m# We need to use object.__setattr__ because we overwrite __setattr__ on\u001b[39;00m\n\u001b[0;32m    228\u001b[0m \u001b[39m# NDFrame\u001b[39;00m\n\u001b[0;32m    229\u001b[0m \u001b[39mobject\u001b[39m\u001b[39m.\u001b[39m\u001b[39m__setattr__\u001b[39m(obj, \u001b[39mself\u001b[39m\u001b[39m.\u001b[39m_name, accessor_obj)\n",
      "File \u001b[1;32mc:\\Users\\ge37voy\\AppData\\Local\\miniconda3\\envs\\xparse\\lib\\site-packages\\pandas\\core\\strings\\accessor.py:190\u001b[0m, in \u001b[0;36mStringMethods.__init__\u001b[1;34m(self, data)\u001b[0m\n\u001b[0;32m    187\u001b[0m \u001b[39mdef\u001b[39;00m \u001b[39m__init__\u001b[39m(\u001b[39mself\u001b[39m, data) \u001b[39m-\u001b[39m\u001b[39m>\u001b[39m \u001b[39mNone\u001b[39;00m:\n\u001b[0;32m    188\u001b[0m     \u001b[39mfrom\u001b[39;00m \u001b[39mpandas\u001b[39;00m\u001b[39m.\u001b[39;00m\u001b[39mcore\u001b[39;00m\u001b[39m.\u001b[39;00m\u001b[39marrays\u001b[39;00m\u001b[39m.\u001b[39;00m\u001b[39mstring_\u001b[39;00m \u001b[39mimport\u001b[39;00m StringDtype\n\u001b[1;32m--> 190\u001b[0m     \u001b[39mself\u001b[39m\u001b[39m.\u001b[39m_inferred_dtype \u001b[39m=\u001b[39m \u001b[39mself\u001b[39;49m\u001b[39m.\u001b[39;49m_validate(data)\n\u001b[0;32m    191\u001b[0m     \u001b[39mself\u001b[39m\u001b[39m.\u001b[39m_is_categorical \u001b[39m=\u001b[39m \u001b[39misinstance\u001b[39m(data\u001b[39m.\u001b[39mdtype, CategoricalDtype)\n\u001b[0;32m    192\u001b[0m     \u001b[39mself\u001b[39m\u001b[39m.\u001b[39m_is_string \u001b[39m=\u001b[39m \u001b[39misinstance\u001b[39m(data\u001b[39m.\u001b[39mdtype, StringDtype)\n",
      "File \u001b[1;32mc:\\Users\\ge37voy\\AppData\\Local\\miniconda3\\envs\\xparse\\lib\\site-packages\\pandas\\core\\strings\\accessor.py:244\u001b[0m, in \u001b[0;36mStringMethods._validate\u001b[1;34m(data)\u001b[0m\n\u001b[0;32m    241\u001b[0m inferred_dtype \u001b[39m=\u001b[39m lib\u001b[39m.\u001b[39minfer_dtype(values, skipna\u001b[39m=\u001b[39m\u001b[39mTrue\u001b[39;00m)\n\u001b[0;32m    243\u001b[0m \u001b[39mif\u001b[39;00m inferred_dtype \u001b[39mnot\u001b[39;00m \u001b[39min\u001b[39;00m allowed_types:\n\u001b[1;32m--> 244\u001b[0m     \u001b[39mraise\u001b[39;00m \u001b[39mAttributeError\u001b[39;00m(\u001b[39m\"\u001b[39m\u001b[39mCan only use .str accessor with string values!\u001b[39m\u001b[39m\"\u001b[39m)\n\u001b[0;32m    245\u001b[0m \u001b[39mreturn\u001b[39;00m inferred_dtype\n",
      "\u001b[1;31mAttributeError\u001b[0m: Can only use .str accessor with string values!"
     ]
    }
   ],
   "source": [
    "df.index.str.decode()"
   ]
  },
  {
   "cell_type": "code",
   "execution_count": 32,
   "id": "85a41e5c",
   "metadata": {},
   "outputs": [
    {
     "data": {
      "text/plain": [
       "0               1\n",
       "1               1\n",
       "2               1\n",
       "3               1\n",
       "4               1\n",
       "            ...  \n",
       "2180757    167780\n",
       "2180758    167780\n",
       "2180759    167780\n",
       "2180760    167780\n",
       "2180761    167780\n",
       "Name: cell_id, Length: 2180762, dtype: int32"
      ]
     },
     "execution_count": 32,
     "metadata": {},
     "output_type": "execute_result"
    }
   ],
   "source": [
    "df.cell_id"
   ]
  },
  {
   "cell_type": "code",
   "execution_count": 36,
   "id": "e653e7f4",
   "metadata": {},
   "outputs": [
    {
     "data": {
      "text/plain": [
       "0               b'1'\n",
       "1               b'1'\n",
       "2               b'1'\n",
       "3               b'1'\n",
       "4               b'1'\n",
       "             ...    \n",
       "2180757    b'167780'\n",
       "2180758    b'167780'\n",
       "2180759    b'167780'\n",
       "2180760    b'167780'\n",
       "2180761    b'167780'\n",
       "Name: cell_id, Length: 2180762, dtype: object"
      ]
     },
     "execution_count": 36,
     "metadata": {},
     "output_type": "execute_result"
    }
   ],
   "source": [
    "df.cell_id.astype(str).str.encode('utf-8')"
   ]
  },
  {
   "cell_type": "code",
   "execution_count": 37,
   "id": "1c0da503",
   "metadata": {},
   "outputs": [],
   "source": [
    "from pandas.api.types import is_numeric_dtype, is_string_dtype"
   ]
  },
  {
   "cell_type": "code",
   "execution_count": 40,
   "id": "fde06394",
   "metadata": {},
   "outputs": [
    {
     "data": {
      "text/plain": [
       "False"
      ]
     },
     "execution_count": 40,
     "metadata": {},
     "output_type": "execute_result"
    }
   ],
   "source": [
    "is_numeric_dtype(df.cell_id.astype(str))"
   ]
  },
  {
   "cell_type": "code",
   "execution_count": null,
   "id": "fe6b5c87",
   "metadata": {},
   "outputs": [],
   "source": [
    "df.cell_id"
   ]
  },
  {
   "cell_type": "code",
   "execution_count": 14,
   "id": "269a51a7",
   "metadata": {},
   "outputs": [],
   "source": [
    "l = list(\"abcd\")"
   ]
  },
  {
   "cell_type": "code",
   "execution_count": 16,
   "id": "d7bc6322",
   "metadata": {},
   "outputs": [],
   "source": [
    "l.remove('a')"
   ]
  },
  {
   "cell_type": "code",
   "execution_count": 17,
   "id": "233d1787",
   "metadata": {},
   "outputs": [
    {
     "data": {
      "text/plain": [
       "['b', 'c', 'd']"
      ]
     },
     "execution_count": 17,
     "metadata": {},
     "output_type": "execute_result"
    }
   ],
   "source": [
    "l"
   ]
  },
  {
   "cell_type": "code",
   "execution_count": 21,
   "id": "e10b1d04-eb3e-43ce-a800-6bedb78037f6",
   "metadata": {},
   "outputs": [
    {
     "data": {
      "text/plain": [
       "[]"
      ]
     },
     "execution_count": 21,
     "metadata": {},
     "output_type": "execute_result"
    }
   ],
   "source": [
    "list(xd.path.parent.glob(\"annotations\"))"
   ]
  },
  {
   "cell_type": "markdown",
   "id": "7e4a5a29-6b54-48aa-903d-d52534c7ec9a",
   "metadata": {},
   "source": [
    "## Develop cropping from viewer input"
   ]
  },
  {
   "cell_type": "code",
   "execution_count": 20,
   "id": "40050406",
   "metadata": {},
   "outputs": [],
   "source": [
    "xd.crop(shape_layer=None, xlim=(10000, 12000), ylim=(12000, 18000))"
   ]
  },
  {
   "cell_type": "code",
   "execution_count": 21,
   "id": "3ec3e374",
   "metadata": {},
   "outputs": [
    {
     "name": "stderr",
     "output_type": "stream",
     "text": [
      "WARNING: QWindowsWindow::setGeometry: Unable to set geometry 853x533+12-278 (frame: 875x589+1-323) on QWidgetWindow/\"_QtMainWindowClassWindow\" on \"\\\\.\\DISPLAY1\". Resulting geometry: 853x982+12-278 (frame: 875x1038+1-323) margins: 11, 45, 11, 11 minimum size: 385x491 MINMAXINFO maxSize=0,0 maxpos=0,0 mintrack=792,1038 maxtrack=0,0)\n"
     ]
    },
    {
     "data": {
      "text/plain": [
       "Viewer(camera=Camera(center=(0.0, 2999.5, 999.5), zoom=0.14037868649318463, angles=(0.0, 0.0, 90.0), perspective=0.0, mouse_pan=True, mouse_zoom=True), cursor=Cursor(position=(1.0, 1.0), scaled=True, size=1, style=<CursorStyle.STANDARD: 'standard'>), dims=Dims(ndim=2, ndisplay=2, last_used=0, range=((0.0, 6000.0, 1.0), (0.0, 2000.951171875, 1.0)), current_step=(2999, 999), order=(0, 1), axis_labels=('0', '1')), grid=GridCanvas(stride=1, shape=(-1, -1), enabled=False), layers=[<Image layer 'DAPI' at 0x1f0db3a0820>, <Image layer 'HE' at 0x1f0db3ac100>, <Image layer 'panCK' at 0x1f0e14d5eb0>, <Points layer 'None' at 0x1f0e1094be0>], help='use <5> for transform, use <2> for add points, use <3> for select points', status='Ready', tooltip=Tooltip(visible=False, text=''), theme='dark', title='napari', mouse_over_canvas=False, mouse_move_callbacks=[], mouse_drag_callbacks=[], mouse_double_click_callbacks=[], mouse_wheel_callbacks=[<function dims_scroll at 0x000001F0C716B670>], _persisted_mouse_event={}, _mouse_drag_gen={}, _mouse_wheel_gen={}, keymap={})"
      ]
     },
     "execution_count": 21,
     "metadata": {},
     "output_type": "execute_result"
    }
   ],
   "source": [
    "xd.interactive()"
   ]
  },
  {
   "cell_type": "code",
   "execution_count": 30,
   "id": "39b01e10",
   "metadata": {},
   "outputs": [],
   "source": [
    "xd.crop(shape_layer=\"Shapes\")"
   ]
  },
  {
   "cell_type": "code",
   "execution_count": 31,
   "id": "0763b227",
   "metadata": {},
   "outputs": [
    {
     "data": {
      "text/plain": [
       "\u001b[1m\u001b[31mXeniumData\u001b[0m\n",
       "\u001b[1mSlide ID:\u001b[0m\t0003621\n",
       "\u001b[1mRegion ID:\u001b[0m\tRegion_1\n",
       "\u001b[1mData path:\u001b[0m\tC:\\Users\\ge37voy\\data\\2301_CRC\\2301-01_20230504\\01_xenium_data\n",
       "\u001b[1mData folder:\u001b[0m\toutput-XETG00050__0003621__Region_1__20230504__121954\n",
       "\u001b[1mMetadata file:\u001b[0m\texperiment_modified.xenium\n",
       "    ➤ \u001b[34m\u001b[1mimages\u001b[0m\n",
       "       \u001b[1mDAPI:\u001b[0m\t(1449, 1135)\n",
       "       \u001b[1mHE:\u001b[0m\t(1449, 1135, 3)\n",
       "       \u001b[1mpanCK:\u001b[0m\t(1449, 1135, 3)\n",
       "    ➤\u001b[32m\u001b[1m matrix\u001b[0m\n",
       "       AnnData object with n_obs × n_vars = 704 × 280\n",
       "\t       obs: 'transcript_counts', 'control_probe_counts', 'control_codeword_counts', 'unassigned_codeword_counts', 'total_counts', 'cell_area', 'nucleus_area'\n",
       "\t       var: 'gene_ids', 'feature_types', 'genome'\n",
       "\t       obsm: 'spatial'\n",
       "    ➤\u001b[96m\u001b[1m transcripts\u001b[0m\n",
       "\t   DataFrame with shape 64608 x 10\n",
       "    ➤ \u001b[95m\u001b[1mboundaries\u001b[0m\n",
       "       \u001b[1mcells\u001b[0m\n",
       "       \u001b[1mnuclei\u001b[0m\n",
       "    ➤ \u001b[36m\u001b[1mannotations\u001b[0m\n",
       "       \u001b[1mtanja:\u001b[0m\t41 annotations, 5 classes ('Tumor', 'Fat', 'Mucus', 'Immune cells', 'Peritumoral Zone') "
      ]
     },
     "execution_count": 31,
     "metadata": {},
     "output_type": "execute_result"
    }
   ],
   "source": [
    "xd"
   ]
  },
  {
   "cell_type": "code",
   "execution_count": 32,
   "id": "90affa7a",
   "metadata": {},
   "outputs": [
    {
     "name": "stderr",
     "output_type": "stream",
     "text": [
      "WARNING: QWindowsWindow::setGeometry: Unable to set geometry 2172x1310+24-570 (frame: 2194x1366+13-615) on QWidgetWindow/\"_QtMainWindowClassWindow\" on \"\\\\.\\DISPLAY1\". Resulting geometry: 3260x1968+27-556 (frame: 3282x2024+16-601) margins: 11, 45, 11, 11 minimum size: 385x492 MINMAXINFO maxSize=0,0 maxpos=0,0 mintrack=792,1040 maxtrack=0,0)\n"
     ]
    },
    {
     "data": {
      "text/plain": [
       "Viewer(camera=Camera(center=(0.0, 724.0, 567.0), zoom=0.5812782049407231, angles=(0.0, 0.0, 90.0), perspective=0.0, mouse_pan=True, mouse_zoom=True), cursor=Cursor(position=(1.0, 1.0), scaled=True, size=1, style=<CursorStyle.STANDARD: 'standard'>), dims=Dims(ndim=2, ndisplay=2, last_used=0, range=((0.0, 1449.0, 1.0), (0.0, 1136.4420273850646, 1.0)), current_step=(724, 567), order=(0, 1), axis_labels=('0', '1')), grid=GridCanvas(stride=1, shape=(-1, -1), enabled=False), layers=[<Image layer 'DAPI' at 0x1f0f2ead7f0>, <Image layer 'HE' at 0x1f0f2ee9250>, <Image layer 'panCK' at 0x1f12a6846a0>, <Points layer 'None' at 0x1f13e99cdc0>], help='use <5> for transform, use <2> for add points, use <3> for select points', status='Ready', tooltip=Tooltip(visible=False, text=''), theme='dark', title='napari', mouse_over_canvas=False, mouse_move_callbacks=[], mouse_drag_callbacks=[], mouse_double_click_callbacks=[], mouse_wheel_callbacks=[<function dims_scroll at 0x000001F0C716B670>], _persisted_mouse_event={}, _mouse_drag_gen={}, _mouse_wheel_gen={}, keymap={})"
      ]
     },
     "execution_count": 32,
     "metadata": {},
     "output_type": "execute_result"
    }
   ],
   "source": [
    "xd.interactive()"
   ]
  },
  {
   "cell_type": "code",
   "execution_count": null,
   "id": "18eeb856",
   "metadata": {},
   "outputs": [],
   "source": []
  }
 ],
 "metadata": {
  "kernelspec": {
   "display_name": "xdata",
   "language": "python",
   "name": "python3"
  },
  "language_info": {
   "codemirror_mode": {
    "name": "ipython",
    "version": 3
   },
   "file_extension": ".py",
   "mimetype": "text/x-python",
   "name": "python",
   "nbconvert_exporter": "python",
   "pygments_lexer": "ipython3",
   "version": "3.9.18"
  }
 },
 "nbformat": 4,
 "nbformat_minor": 5
}
