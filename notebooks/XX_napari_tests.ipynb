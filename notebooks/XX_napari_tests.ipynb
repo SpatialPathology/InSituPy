{
 "cells": [
  {
   "cell_type": "code",
   "execution_count": 1,
   "metadata": {},
   "outputs": [],
   "source": [
    "import napari\n",
    "import numpy as np\n",
    "from skimage import data"
   ]
  },
  {
   "cell_type": "code",
   "execution_count": 2,
   "metadata": {},
   "outputs": [],
   "source": [
    "viewer = napari.view_image(data.astronaut(), rgb=True)\n",
    "points = np.array([[100, 100], [200, 200], [300, 100]])\n",
    "point_properties = {\n",
    "    'good_point': np.array([True, True, False]),\n",
    "    'confidence': np.array([0.99, 0.8, 0.2]),\n",
    "}\n",
    "\n",
    "points_layer = viewer.add_points(\n",
    "    points,\n",
    "    properties=point_properties,\n",
    "    edge_color='good_point',\n",
    "    edge_color_cycle=['magenta', 'green'],\n",
    "    edge_width=0.5,\n",
    ")"
   ]
  },
  {
   "cell_type": "code",
   "execution_count": 8,
   "metadata": {},
   "outputs": [
    {
     "name": "stderr",
     "output_type": "stream",
     "text": [
      "WARNING: QWindowsWindow::setGeometry: Unable to set geometry 2172x1310+956-276 (frame: 2194x1366+945-321) on QWidgetWindow/\"_QtMainWindowClassWindow\" on \"\\\\.\\DISPLAY1\". Resulting geometry: 3260x1968+959-262 (frame: 3282x2024+948-307) margins: 11, 45, 11, 11 minimum size: 385x492 MINMAXINFO maxSize=0,0 maxpos=0,0 mintrack=792,1040 maxtrack=0,0)\n"
     ]
    }
   ],
   "source": [
    "viewer = napari.view_image(data.astronaut(), rgb=True)\n",
    "points = np.array([[100, 100], [200, 200], [300, 100]])\n",
    "point_properties = {\n",
    "    'good_point': np.array([True, True, False]),\n",
    "    'confidence': np.array(list(\"aaa\")),\n",
    "}\n",
    "\n",
    "points_layer = viewer.add_points(\n",
    "    points,\n",
    "    properties=point_properties,\n",
    "    edge_color='confidence',\n",
    "    edge_color_cycle=['magenta', 'green', 'blue'],\n",
    "    edge_width=0.5,\n",
    ")"
   ]
  },
  {
   "cell_type": "code",
   "execution_count": null,
   "metadata": {},
   "outputs": [],
   "source": []
  }
 ],
 "metadata": {
  "kernelspec": {
   "display_name": "xparse",
   "language": "python",
   "name": "python3"
  },
  "language_info": {
   "codemirror_mode": {
    "name": "ipython",
    "version": 3
   },
   "file_extension": ".py",
   "mimetype": "text/x-python",
   "name": "python",
   "nbconvert_exporter": "python",
   "pygments_lexer": "ipython3",
   "version": "3.9.18"
  }
 },
 "nbformat": 4,
 "nbformat_minor": 2
}
